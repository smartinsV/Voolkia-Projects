{
 "cells": [
  {
   "cell_type": "code",
   "execution_count": 1,
   "metadata": {
    "colab": {},
    "colab_type": "code",
    "id": "1ivS-8RUC7Pg"
   },
   "outputs": [],
   "source": [
    "import pandas as pd\n",
    "import numpy as np\n",
    "from tqdm import tqdm\n",
    "from tpot import TPOTClassifier\n",
    "import seaborn as sns\n",
    "import matplotlib.pyplot as plt\n",
    "import xgboost\n",
    "\n",
    "%matplotlib inline"
   ]
  },
  {
   "cell_type": "code",
   "execution_count": 2,
   "metadata": {
    "colab": {
     "base_uri": "https://localhost:8080/",
     "height": 476
    },
    "colab_type": "code",
    "executionInfo": {
     "elapsed": 6830,
     "status": "ok",
     "timestamp": 1536098934057,
     "user": {
      "displayName": "Sebastian Martins",
      "photoUrl": "https://lh3.googleusercontent.com/a/default-user=s128",
      "userId": "117958151698014091336"
     },
     "user_tz": 180
    },
    "id": "5NiRkH5vDV5m",
    "outputId": "dd89262e-c357-4acf-ab3d-2e5d8d3959ea"
   },
   "outputs": [
    {
     "name": "stdout",
     "output_type": "stream",
     "text": [
      "<class 'pandas.core.frame.DataFrame'>\n",
      "RangeIndex: 842516 entries, 0 to 842515\n",
      "Data columns (total 22 columns):\n",
      "CUSTOMER_ID        842516 non-null int64\n",
      "9 meses            842516 non-null float64\n",
      "8 meses            842516 non-null float64\n",
      "7 meses            842516 non-null float64\n",
      "6 meses            842516 non-null float64\n",
      "5 meses            842516 non-null float64\n",
      "4 meses            842516 non-null float64\n",
      "3 meses            842516 non-null float64\n",
      "2 meses            842516 non-null float64\n",
      "1 meses            842516 non-null float64\n",
      "Churn              842516 non-null int64\n",
      "DATE_OF_BIRTH      827773 non-null object\n",
      "GENDER             842128 non-null object\n",
      "MARITAL_STATUS     762728 non-null object\n",
      "EDUCATION          276967 non-null object\n",
      "EDUCATION_LEVEL    25960 non-null object\n",
      "OCCUPATION         514756 non-null object\n",
      "CITY               645413 non-null object\n",
      "LOCALITY           645413 non-null object\n",
      "FECHA_PROCESO      842516 non-null object\n",
      "edad               827773 non-null float64\n",
      "ModoPago           842516 non-null object\n",
      "dtypes: float64(10), int64(2), object(10)\n",
      "memory usage: 141.4+ MB\n"
     ]
    }
   ],
   "source": [
    "#leer la bd\n",
    "df = pd.read_csv(\"../data/interim/9m churn con datos pers.csv\")\n",
    "df  = df.iloc[:,1:]\n",
    "df.info()"
   ]
  },
  {
   "cell_type": "code",
   "execution_count": null,
   "metadata": {},
   "outputs": [],
   "source": []
  },
  {
   "cell_type": "markdown",
   "metadata": {
    "colab_type": "text",
    "id": "yD2bAtA5mV1m"
   },
   "source": [
    "# Modelo solo con 3 meses churn y no churn"
   ]
  },
  {
   "cell_type": "code",
   "execution_count": 3,
   "metadata": {},
   "outputs": [
    {
     "name": "stdout",
     "output_type": "stream",
     "text": [
      "<class 'pandas.core.frame.DataFrame'>\n",
      "Int64Index: 551337 entries, 0 to 842514\n",
      "Data columns (total 22 columns):\n",
      "CUSTOMER_ID        551337 non-null int64\n",
      "9 meses            551337 non-null float64\n",
      "8 meses            551337 non-null float64\n",
      "7 meses            551337 non-null float64\n",
      "6 meses            551337 non-null float64\n",
      "5 meses            551337 non-null float64\n",
      "4 meses            551337 non-null float64\n",
      "3 meses            551337 non-null float64\n",
      "2 meses            551337 non-null float64\n",
      "1 meses            551337 non-null float64\n",
      "Churn              551337 non-null int64\n",
      "DATE_OF_BIRTH      540345 non-null object\n",
      "GENDER             551049 non-null object\n",
      "MARITAL_STATUS     501643 non-null object\n",
      "EDUCATION          176686 non-null object\n",
      "EDUCATION_LEVEL    17892 non-null object\n",
      "OCCUPATION         341625 non-null object\n",
      "CITY               416311 non-null object\n",
      "LOCALITY           416311 non-null object\n",
      "FECHA_PROCESO      551337 non-null object\n",
      "edad               540345 non-null float64\n",
      "ModoPago           551337 non-null object\n",
      "dtypes: float64(10), int64(2), object(10)\n",
      "memory usage: 96.7+ MB\n"
     ]
    }
   ],
   "source": [
    "df = df[ (df[\"1 meses\"] == 0) & (df[\"2 meses\"] == 0) & (df[\"3 meses\"] == 0) & (df[\"4 meses\"] > 0) | (df[\"1 meses\"] > 0) & (df[\"2 meses\"] > 0) & (df[\"3 meses\"] > 0) & (df[\"Churn\"] == 0)  ]\n",
    "df.info()"
   ]
  },
  {
   "cell_type": "code",
   "execution_count": 15,
   "metadata": {
    "colab": {
     "base_uri": "https://localhost:8080/",
     "height": 476
    },
    "colab_type": "code",
    "executionInfo": {
     "elapsed": 1164,
     "status": "ok",
     "timestamp": 1536098935672,
     "user": {
      "displayName": "Sebastian Martins",
      "photoUrl": "https://lh3.googleusercontent.com/a/default-user=s128",
      "userId": "117958151698014091336"
     },
     "user_tz": 180
    },
    "id": "wYFXaSGsmgrF",
    "outputId": "0eb2791d-fb52-43fb-ab1c-338b748aace6"
   },
   "outputs": [
    {
     "name": "stdout",
     "output_type": "stream",
     "text": [
      "<class 'pandas.core.frame.DataFrame'>\n",
      "Int64Index: 555227 entries, 0 to 842514\n",
      "Data columns (total 22 columns):\n",
      "CUSTOMER_ID        555227 non-null int64\n",
      "9 meses            555227 non-null float64\n",
      "8 meses            555227 non-null float64\n",
      "7 meses            555227 non-null float64\n",
      "6 meses            555227 non-null float64\n",
      "5 meses            555227 non-null float64\n",
      "4 meses            555227 non-null float64\n",
      "3 meses            555227 non-null float64\n",
      "2 meses            555227 non-null float64\n",
      "1 meses            555227 non-null float64\n",
      "Churn              555227 non-null int64\n",
      "DATE_OF_BIRTH      544159 non-null object\n",
      "GENDER             554937 non-null object\n",
      "MARITAL_STATUS     505188 non-null object\n",
      "EDUCATION          178158 non-null object\n",
      "EDUCATION_LEVEL    18028 non-null object\n",
      "OCCUPATION         344490 non-null object\n",
      "CITY               419381 non-null object\n",
      "LOCALITY           419381 non-null object\n",
      "FECHA_PROCESO      555227 non-null object\n",
      "edad               544159 non-null float64\n",
      "ModoPago           555227 non-null object\n",
      "dtypes: float64(10), int64(2), object(10)\n",
      "memory usage: 97.4+ MB\n"
     ]
    }
   ],
   "source": [
    "#Error\n",
    "#este incluye churns de más de 4 meses (6 a 9)\n",
    "#df = df[ (df[\"1 meses\"] == 0) & (df[\"2 meses\"] == 0) & (df[\"3 meses\"] == 0) & (df[\"4 meses\"] > 0) | (df[\"1 meses\"] > 0) & (df[\"2 meses\"] > 0) & (df[\"3 meses\"] > 0)   ]\n",
    "#df.info()"
   ]
  },
  {
   "cell_type": "code",
   "execution_count": 4,
   "metadata": {
    "colab": {
     "base_uri": "https://localhost:8080/",
     "height": 68
    },
    "colab_type": "code",
    "executionInfo": {
     "elapsed": 618,
     "status": "ok",
     "timestamp": 1536098971252,
     "user": {
      "displayName": "Sebastian Martins",
      "photoUrl": "https://lh3.googleusercontent.com/a/default-user=s128",
      "userId": "117958151698014091336"
     },
     "user_tz": 180
    },
    "id": "WsdLeml8oZ6F",
    "outputId": "d7ed9f3f-46d3-4ed3-b940-d7159a96a7d8"
   },
   "outputs": [
    {
     "data": {
      "text/plain": [
       "0    0.952564\n",
       "1    0.047436\n",
       "Name: Churn, dtype: float64"
      ]
     },
     "execution_count": 4,
     "metadata": {},
     "output_type": "execute_result"
    }
   ],
   "source": [
    "df[\"Churn\"].value_counts() / len(df)"
   ]
  },
  {
   "cell_type": "markdown",
   "metadata": {
    "colab_type": "text",
    "id": "YbvrowDlnYNy"
   },
   "source": [
    "## Testeando el modelo base"
   ]
  },
  {
   "cell_type": "code",
   "execution_count": 0,
   "metadata": {
    "colab": {},
    "colab_type": "code",
    "id": "Kcb0KpxUnY8A"
   },
   "outputs": [],
   "source": [
    "#Modelo base, predecir a todos los que tengan null en el último mes (4to) => churn\n",
    "df[\"myChurnPred\"] = 0\n",
    "df.loc[df[\"4 meses\"] == 0, \"myChurnPred\"] = 1"
   ]
  },
  {
   "cell_type": "code",
   "execution_count": 11,
   "metadata": {
    "colab": {
     "base_uri": "https://localhost:8080/",
     "height": 34
    },
    "colab_type": "code",
    "executionInfo": {
     "elapsed": 589,
     "status": "ok",
     "timestamp": 1536098806837,
     "user": {
      "displayName": "Sebastian Martins",
      "photoUrl": "https://lh3.googleusercontent.com/a/default-user=s128",
      "userId": "117958151698014091336"
     },
     "user_tz": 180
    },
    "id": "E2J3vjqgn1BF",
    "outputId": "9cd1d4c5-b24d-4bc9-80f1-95f598a9bcda"
   },
   "outputs": [
    {
     "data": {
      "text/plain": [
       "0.855390429914991"
      ]
     },
     "execution_count": 11,
     "metadata": {
      "tags": []
     },
     "output_type": "execute_result"
    }
   ],
   "source": [
    "from sklearn.metrics import roc_auc_score\n",
    "\n",
    "roc_auc_score(df[\"Churn\"], df[\"myChurnPred\"])"
   ]
  },
  {
   "cell_type": "code",
   "execution_count": 12,
   "metadata": {
    "colab": {
     "base_uri": "https://localhost:8080/",
     "height": 311
    },
    "colab_type": "code",
    "executionInfo": {
     "elapsed": 1527,
     "status": "ok",
     "timestamp": 1536098828790,
     "user": {
      "displayName": "Sebastian Martins",
      "photoUrl": "https://lh3.googleusercontent.com/a/default-user=s128",
      "userId": "117958151698014091336"
     },
     "user_tz": 180
    },
    "id": "918aeKJkn3C1",
    "outputId": "fada8433-6b7d-4252-8778-6ee7442c73f2"
   },
   "outputs": [
    {
     "data": {
      "text/plain": [
       "<matplotlib.axes._subplots.AxesSubplot at 0x7f1ffb3d2128>"
      ]
     },
     "execution_count": 12,
     "metadata": {
      "tags": []
     },
     "output_type": "execute_result"
    },
    {
     "data": {
      "image/png": "[encoded data removed]",
      "text/plain": [
       "<matplotlib.figure.Figure at 0x7f1ffba3cc18>"
      ]
     },
     "metadata": {
      "tags": []
     },
     "output_type": "display_data"
    }
   ],
   "source": [
    "import scikitplot as skplt\n",
    "\n",
    "skplt.metrics.plot_confusion_matrix(df[\"Churn\"], df[\"myChurnPred\"], normalize=True)"
   ]
  },
  {
   "cell_type": "code",
   "execution_count": 0,
   "metadata": {
    "colab": {},
    "colab_type": "code",
    "id": "qidJQ7tln3FO"
   },
   "outputs": [],
   "source": []
  },
  {
   "cell_type": "markdown",
   "metadata": {
    "colab_type": "text",
    "id": "wPVcbYYfnZQc"
   },
   "source": []
  },
  {
   "cell_type": "code",
   "execution_count": 5,
   "metadata": {
    "colab": {
     "base_uri": "https://localhost:8080/",
     "height": 442
    },
    "colab_type": "code",
    "executionInfo": {
     "elapsed": 1169,
     "status": "ok",
     "timestamp": 1536099117778,
     "user": {
      "displayName": "Sebastian Martins",
      "photoUrl": "https://lh3.googleusercontent.com/a/default-user=s128",
      "userId": "117958151698014091336"
     },
     "user_tz": 180
    },
    "id": "Wj8TrAVg_2dK",
    "outputId": "dde1742e-637e-471d-d675-52dc8756b253"
   },
   "outputs": [
    {
     "name": "stdout",
     "output_type": "stream",
     "text": [
      "<class 'pandas.core.frame.DataFrame'>\n",
      "Int64Index: 551337 entries, 0 to 842514\n",
      "Data columns (total 20 columns):\n",
      "CUSTOMER_ID        551337 non-null int64\n",
      "9 meses            551337 non-null float64\n",
      "8 meses            551337 non-null float64\n",
      "7 meses            551337 non-null float64\n",
      "6 meses            551337 non-null float64\n",
      "5 meses            551337 non-null float64\n",
      "4 meses            551337 non-null float64\n",
      "3 meses            551337 non-null float64\n",
      "2 meses            551337 non-null float64\n",
      "1 meses            551337 non-null float64\n",
      "Churn              551337 non-null int64\n",
      "GENDER             551049 non-null object\n",
      "MARITAL_STATUS     501643 non-null object\n",
      "EDUCATION          176686 non-null object\n",
      "EDUCATION_LEVEL    17892 non-null object\n",
      "OCCUPATION         341625 non-null object\n",
      "CITY               416311 non-null object\n",
      "LOCALITY           416311 non-null object\n",
      "edad               540345 non-null float64\n",
      "ModoPago           551337 non-null object\n",
      "dtypes: float64(10), int64(2), object(8)\n",
      "memory usage: 88.3+ MB\n"
     ]
    }
   ],
   "source": [
    "df.drop(\"DATE_OF_BIRTH\", axis=1, inplace=True)\n",
    "df.drop(\"FECHA_PROCESO\", axis=1, inplace=True)\n",
    "df.info()"
   ]
  },
  {
   "cell_type": "code",
   "execution_count": 6,
   "metadata": {
    "colab": {},
    "colab_type": "code",
    "id": "FgmaHOFx2vSa"
   },
   "outputs": [],
   "source": [
    "from sklearn.model_selection import StratifiedShuffleSplit\n",
    "\n",
    "RANDOM_STATE=42\n",
    "size = 0.5"
   ]
  },
  {
   "cell_type": "code",
   "execution_count": 7,
   "metadata": {
    "colab": {
     "base_uri": "https://localhost:8080/",
     "height": 68
    },
    "colab_type": "code",
    "executionInfo": {
     "elapsed": 755,
     "status": "ok",
     "timestamp": 1536000149634,
     "user": {
      "displayName": "Sebastian Martins",
      "photoUrl": "https://lh3.googleusercontent.com/a/default-user=s128",
      "userId": "117958151698014091336"
     },
     "user_tz": 180
    },
    "id": "9EewKRRh3_FQ",
    "outputId": "2e902f46-4c68-4c8b-8d14-328d4b978c3e"
   },
   "outputs": [
    {
     "data": {
      "text/plain": [
       "0    0.952564\n",
       "1    0.047436\n",
       "Name: Churn, dtype: float64"
      ]
     },
     "execution_count": 7,
     "metadata": {},
     "output_type": "execute_result"
    }
   ],
   "source": [
    "df.Churn.value_counts() / len(df)"
   ]
  },
  {
   "cell_type": "markdown",
   "metadata": {
    "colab_type": "text",
    "id": "FoOH9Frl8Sh9"
   },
   "source": [
    "#Modelo que predice churn a 90 dias"
   ]
  },
  {
   "cell_type": "code",
   "execution_count": 8,
   "metadata": {
    "colab": {
     "base_uri": "https://localhost:8080/",
     "height": 328
    },
    "colab_type": "code",
    "executionInfo": {
     "elapsed": 1378,
     "status": "ok",
     "timestamp": 1536099028811,
     "user": {
      "displayName": "Sebastian Martins",
      "photoUrl": "https://lh3.googleusercontent.com/a/default-user=s128",
      "userId": "117958151698014091336"
     },
     "user_tz": 180
    },
    "id": "2LV7OVq6AAPK",
    "outputId": "a0854392-7631-4d5b-dde2-d7e1c5c5c78c"
   },
   "outputs": [
    {
     "data": {
      "image/png": "[encoded data removed]",
      "text/plain": [
       "<Figure size 432x288 with 2 Axes>"
      ]
     },
     "metadata": {},
     "output_type": "display_data"
    }
   ],
   "source": [
    "#viendo la correlación entre las variables\n",
    "#https://seaborn.pydata.org/generated/seaborn.heatmap.html\n",
    "corr = df.corr() #correlación entre variables\n",
    "#creamos una mascara para no ver la diagonal superior (debido a que la matriz es espejada)\n",
    "mask = np.zeros_like(corr)\n",
    "mask[np.triu_indices_from(mask)] = True\n",
    "#realizamos la grafica\n",
    "sns.heatmap(corr, square=False, mask=mask)\n",
    "plt.show()"
   ]
  },
  {
   "cell_type": "code",
   "execution_count": 9,
   "metadata": {
    "colab": {},
    "colab_type": "code",
    "id": "HZ_8bkSbDfMn"
   },
   "outputs": [],
   "source": [
    "#separo la bd train, test\n",
    "from sklearn.model_selection import train_test_split\n",
    "TEST_SIZE=0.20\n",
    "RANDOM_STATE=42"
   ]
  },
  {
   "cell_type": "markdown",
   "metadata": {
    "colab_type": "text",
    "id": "5wiELi4L9Vpb"
   },
   "source": [
    "# Formateando entrenamiento y testo\n",
    "para luego armar validación dataset"
   ]
  },
  {
   "cell_type": "code",
   "execution_count": 10,
   "metadata": {
    "colab": {
     "base_uri": "https://localhost:8080/",
     "height": 442
    },
    "colab_type": "code",
    "executionInfo": {
     "elapsed": 1181,
     "status": "ok",
     "timestamp": 1535585505445,
     "user": {
      "displayName": "Sebastian Martins",
      "photoUrl": "https://lh3.googleusercontent.com/a/default-user=s128",
      "userId": "117958151698014091336"
     },
     "user_tz": 180
    },
    "id": "8bVHFIw3BoWk",
    "outputId": "6960d3e5-d462-4497-da88-e3f8529f7d0d"
   },
   "outputs": [
    {
     "name": "stdout",
     "output_type": "stream",
     "text": [
      "<class 'pandas.core.frame.DataFrame'>\n",
      "Int64Index: 551337 entries, 0 to 842514\n",
      "Data columns (total 20 columns):\n",
      "CUSTOMER_ID        551337 non-null int64\n",
      "9 meses            551337 non-null float64\n",
      "8 meses            551337 non-null float64\n",
      "7 meses            551337 non-null float64\n",
      "6 meses            551337 non-null float64\n",
      "5 meses            551337 non-null float64\n",
      "4 meses            551337 non-null float64\n",
      "3 meses            551337 non-null float64\n",
      "2 meses            551337 non-null float64\n",
      "1 meses            551337 non-null float64\n",
      "Churn              551337 non-null int64\n",
      "GENDER             551049 non-null object\n",
      "MARITAL_STATUS     501643 non-null object\n",
      "EDUCATION          176686 non-null object\n",
      "EDUCATION_LEVEL    17892 non-null object\n",
      "OCCUPATION         341625 non-null object\n",
      "CITY               416311 non-null object\n",
      "LOCALITY           416311 non-null object\n",
      "edad               540345 non-null float64\n",
      "ModoPago           551337 non-null object\n",
      "dtypes: float64(10), int64(2), object(8)\n",
      "memory usage: 88.3+ MB\n"
     ]
    }
   ],
   "source": [
    "df.info()"
   ]
  },
  {
   "cell_type": "code",
   "execution_count": 0,
   "metadata": {
    "colab": {
     "base_uri": "https://localhost:8080/",
     "height": 34
    },
    "colab_type": "code",
    "executionInfo": {
     "elapsed": 602,
     "status": "ok",
     "timestamp": 1536000378326,
     "user": {
      "displayName": "Sebastian Martins",
      "photoUrl": "https://lh3.googleusercontent.com/a/default-user=s128",
      "userId": "117958151698014091336"
     },
     "user_tz": 180
    },
    "id": "gKy7h32Fv9Qq",
    "outputId": "3b10d731-59b8-4c71-ef1e-75c5371ea2bd"
   },
   "outputs": [
    {
     "data": {
      "text/plain": [
       "2"
      ]
     },
     "execution_count": 22,
     "metadata": {
      "tags": []
     },
     "output_type": "execute_result"
    }
   ],
   "source": [
    "df.EDUCATION.nunique()"
   ]
  },
  {
   "cell_type": "code",
   "execution_count": 11,
   "metadata": {
    "colab": {},
    "colab_type": "code",
    "id": "3ugyzKO8DgeH"
   },
   "outputs": [],
   "source": [
    "X = df.drop([\"Churn\", \"CUSTOMER_ID\", \"LOCALITY\", \"edad\", \"OCCUPATION\", \"3 meses\", \"2 meses\", \"1 meses\" ], axis=1)\n",
    "y = df[\"Churn\"]"
   ]
  },
  {
   "cell_type": "code",
   "execution_count": 12,
   "metadata": {
    "colab": {
     "base_uri": "https://localhost:8080/",
     "height": 270
    },
    "colab_type": "code",
    "executionInfo": {
     "elapsed": 818,
     "status": "ok",
     "timestamp": 1536099133082,
     "user": {
      "displayName": "Sebastian Martins",
      "photoUrl": "https://lh3.googleusercontent.com/a/default-user=s128",
      "userId": "117958151698014091336"
     },
     "user_tz": 180
    },
    "id": "abFNv0ghCgS4",
    "outputId": "0ed42b33-b21b-41ac-8675-002bf7d0e8c9"
   },
   "outputs": [
    {
     "data": {
      "text/html": [
       "<div>\n",
       "<style scoped>\n",
       "    .dataframe tbody tr th:only-of-type {\n",
       "        vertical-align: middle;\n",
       "    }\n",
       "\n",
       "    .dataframe tbody tr th {\n",
       "        vertical-align: top;\n",
       "    }\n",
       "\n",
       "    .dataframe thead th {\n",
       "        text-align: right;\n",
       "    }\n",
       "</style>\n",
       "<table border=\"1\" class=\"dataframe\">\n",
       "  <thead>\n",
       "    <tr style=\"text-align: right;\">\n",
       "      <th></th>\n",
       "      <th>9 meses</th>\n",
       "      <th>8 meses</th>\n",
       "      <th>7 meses</th>\n",
       "      <th>6 meses</th>\n",
       "      <th>5 meses</th>\n",
       "      <th>4 meses</th>\n",
       "      <th>GENDER_F</th>\n",
       "      <th>GENDER_M</th>\n",
       "      <th>MARITAL_STATUS_Casado</th>\n",
       "      <th>MARITAL_STATUS_Conviv</th>\n",
       "      <th>...</th>\n",
       "      <th>CITY_SANTIAGO DEL ESTERO</th>\n",
       "      <th>CITY_TIERRA DEL FUEGO</th>\n",
       "      <th>CITY_TUCUMAN</th>\n",
       "      <th>ModoPago_BA</th>\n",
       "      <th>ModoPago_CC</th>\n",
       "      <th>ModoPago_Mix</th>\n",
       "      <th>ModoPago_PP</th>\n",
       "      <th>ModoPago_SJ</th>\n",
       "      <th>ModoPago_TA</th>\n",
       "      <th>ModoPago_TM</th>\n",
       "    </tr>\n",
       "  </thead>\n",
       "  <tbody>\n",
       "    <tr>\n",
       "      <th>0</th>\n",
       "      <td>1.0</td>\n",
       "      <td>1.0</td>\n",
       "      <td>1.0</td>\n",
       "      <td>1.0</td>\n",
       "      <td>1.0</td>\n",
       "      <td>1.0</td>\n",
       "      <td>0</td>\n",
       "      <td>1</td>\n",
       "      <td>1</td>\n",
       "      <td>0</td>\n",
       "      <td>...</td>\n",
       "      <td>0</td>\n",
       "      <td>0</td>\n",
       "      <td>0</td>\n",
       "      <td>0</td>\n",
       "      <td>1</td>\n",
       "      <td>0</td>\n",
       "      <td>0</td>\n",
       "      <td>0</td>\n",
       "      <td>0</td>\n",
       "      <td>0</td>\n",
       "    </tr>\n",
       "    <tr>\n",
       "      <th>1</th>\n",
       "      <td>2.0</td>\n",
       "      <td>2.0</td>\n",
       "      <td>2.0</td>\n",
       "      <td>2.0</td>\n",
       "      <td>2.0</td>\n",
       "      <td>2.0</td>\n",
       "      <td>0</td>\n",
       "      <td>1</td>\n",
       "      <td>1</td>\n",
       "      <td>0</td>\n",
       "      <td>...</td>\n",
       "      <td>0</td>\n",
       "      <td>0</td>\n",
       "      <td>0</td>\n",
       "      <td>0</td>\n",
       "      <td>1</td>\n",
       "      <td>0</td>\n",
       "      <td>0</td>\n",
       "      <td>0</td>\n",
       "      <td>0</td>\n",
       "      <td>0</td>\n",
       "    </tr>\n",
       "    <tr>\n",
       "      <th>2</th>\n",
       "      <td>1.0</td>\n",
       "      <td>1.0</td>\n",
       "      <td>1.0</td>\n",
       "      <td>1.0</td>\n",
       "      <td>1.0</td>\n",
       "      <td>1.0</td>\n",
       "      <td>0</td>\n",
       "      <td>1</td>\n",
       "      <td>0</td>\n",
       "      <td>0</td>\n",
       "      <td>...</td>\n",
       "      <td>0</td>\n",
       "      <td>0</td>\n",
       "      <td>0</td>\n",
       "      <td>0</td>\n",
       "      <td>0</td>\n",
       "      <td>1</td>\n",
       "      <td>0</td>\n",
       "      <td>0</td>\n",
       "      <td>0</td>\n",
       "      <td>0</td>\n",
       "    </tr>\n",
       "    <tr>\n",
       "      <th>3</th>\n",
       "      <td>1.0</td>\n",
       "      <td>1.0</td>\n",
       "      <td>1.0</td>\n",
       "      <td>1.0</td>\n",
       "      <td>1.0</td>\n",
       "      <td>1.0</td>\n",
       "      <td>1</td>\n",
       "      <td>0</td>\n",
       "      <td>0</td>\n",
       "      <td>0</td>\n",
       "      <td>...</td>\n",
       "      <td>0</td>\n",
       "      <td>0</td>\n",
       "      <td>0</td>\n",
       "      <td>0</td>\n",
       "      <td>0</td>\n",
       "      <td>1</td>\n",
       "      <td>0</td>\n",
       "      <td>0</td>\n",
       "      <td>0</td>\n",
       "      <td>0</td>\n",
       "    </tr>\n",
       "    <tr>\n",
       "      <th>4</th>\n",
       "      <td>1.0</td>\n",
       "      <td>1.0</td>\n",
       "      <td>1.0</td>\n",
       "      <td>1.0</td>\n",
       "      <td>1.0</td>\n",
       "      <td>1.0</td>\n",
       "      <td>0</td>\n",
       "      <td>1</td>\n",
       "      <td>1</td>\n",
       "      <td>0</td>\n",
       "      <td>...</td>\n",
       "      <td>0</td>\n",
       "      <td>0</td>\n",
       "      <td>0</td>\n",
       "      <td>0</td>\n",
       "      <td>0</td>\n",
       "      <td>1</td>\n",
       "      <td>0</td>\n",
       "      <td>0</td>\n",
       "      <td>0</td>\n",
       "      <td>0</td>\n",
       "    </tr>\n",
       "  </tbody>\n",
       "</table>\n",
       "<p>5 rows × 54 columns</p>\n",
       "</div>"
      ],
      "text/plain": [
       "   9 meses  8 meses  7 meses  6 meses  5 meses  4 meses  GENDER_F  GENDER_M  \\\n",
       "0      1.0      1.0      1.0      1.0      1.0      1.0         0         1   \n",
       "1      2.0      2.0      2.0      2.0      2.0      2.0         0         1   \n",
       "2      1.0      1.0      1.0      1.0      1.0      1.0         0         1   \n",
       "3      1.0      1.0      1.0      1.0      1.0      1.0         1         0   \n",
       "4      1.0      1.0      1.0      1.0      1.0      1.0         0         1   \n",
       "\n",
       "   MARITAL_STATUS_Casado  MARITAL_STATUS_Conviv     ...       \\\n",
       "0                      1                      0     ...        \n",
       "1                      1                      0     ...        \n",
       "2                      0                      0     ...        \n",
       "3                      0                      0     ...        \n",
       "4                      1                      0     ...        \n",
       "\n",
       "   CITY_SANTIAGO DEL ESTERO  CITY_TIERRA DEL FUEGO  CITY_TUCUMAN  ModoPago_BA  \\\n",
       "0                         0                      0             0            0   \n",
       "1                         0                      0             0            0   \n",
       "2                         0                      0             0            0   \n",
       "3                         0                      0             0            0   \n",
       "4                         0                      0             0            0   \n",
       "\n",
       "   ModoPago_CC  ModoPago_Mix  ModoPago_PP  ModoPago_SJ  ModoPago_TA  \\\n",
       "0            1             0            0            0            0   \n",
       "1            1             0            0            0            0   \n",
       "2            0             1            0            0            0   \n",
       "3            0             1            0            0            0   \n",
       "4            0             1            0            0            0   \n",
       "\n",
       "   ModoPago_TM  \n",
       "0            0  \n",
       "1            0  \n",
       "2            0  \n",
       "3            0  \n",
       "4            0  \n",
       "\n",
       "[5 rows x 54 columns]"
      ]
     },
     "execution_count": 12,
     "metadata": {},
     "output_type": "execute_result"
    }
   ],
   "source": [
    "X = pd.get_dummies(X)\n",
    "X.head()"
   ]
  },
  {
   "cell_type": "code",
   "execution_count": 0,
   "metadata": {
    "colab": {},
    "colab_type": "code",
    "id": "CZ0Gio6Lwl0R"
   },
   "outputs": [],
   "source": [
    "bd_dummy = pd.concat([X, df[[\"CUSTOMER_ID\", \"Churn\", \"3 meses\",\t\"2 meses\",\t\"1 meses\",\"LOCALITY\", \"OCCUPATION\"] ]], axis=1)\n",
    "bd_dummy.to_csv(\"9m churn con datos pers dummies.csv\")"
   ]
  },
  {
   "cell_type": "code",
   "execution_count": 0,
   "metadata": {
    "colab": {},
    "colab_type": "code",
    "id": "Kz4wQP64wtZh"
   },
   "outputs": [],
   "source": [
    "files.download(\"9m churn con datos pers dummies.csv\")"
   ]
  },
  {
   "cell_type": "code",
   "execution_count": 13,
   "metadata": {
    "colab": {
     "base_uri": "https://localhost:8080/",
     "height": 1020
    },
    "colab_type": "code",
    "executionInfo": {
     "elapsed": 822,
     "status": "ok",
     "timestamp": 1536099141032,
     "user": {
      "displayName": "Sebastian Martins",
      "photoUrl": "https://lh3.googleusercontent.com/a/default-user=s128",
      "userId": "117958151698014091336"
     },
     "user_tz": 180
    },
    "id": "xCDr82rs1okj",
    "outputId": "83f45170-9fa4-4f0f-b695-0c8c507a5887"
   },
   "outputs": [
    {
     "name": "stdout",
     "output_type": "stream",
     "text": [
      "<class 'pandas.core.frame.DataFrame'>\n",
      "Int64Index: 551337 entries, 0 to 842514\n",
      "Data columns (total 54 columns):\n",
      "9 meses                           551337 non-null uint8\n",
      "8 meses                           551337 non-null uint8\n",
      "7 meses                           551337 non-null uint8\n",
      "6 meses                           551337 non-null uint8\n",
      "5 meses                           551337 non-null uint8\n",
      "4 meses                           551337 non-null uint8\n",
      "GENDER_F                          551337 non-null uint8\n",
      "GENDER_M                          551337 non-null uint8\n",
      "MARITAL_STATUS_Casado             551337 non-null uint8\n",
      "MARITAL_STATUS_Conviv             551337 non-null uint8\n",
      "MARITAL_STATUS_Divorciado         551337 non-null uint8\n",
      "MARITAL_STATUS_No Corresp         551337 non-null uint8\n",
      "MARITAL_STATUS_Separado           551337 non-null uint8\n",
      "MARITAL_STATUS_Soltero            551337 non-null uint8\n",
      "MARITAL_STATUS_Union Civ          551337 non-null uint8\n",
      "MARITAL_STATUS_Viudo              551337 non-null uint8\n",
      "EDUCATION_N                       551337 non-null uint8\n",
      "EDUCATION_S                       551337 non-null uint8\n",
      "EDUCATION_LEVEL_PRIMARIO          551337 non-null uint8\n",
      "EDUCATION_LEVEL_SECUNDARIO        551337 non-null uint8\n",
      "EDUCATION_LEVEL_TERCIARIO         551337 non-null uint8\n",
      "EDUCATION_LEVEL_UNIVERSITARIO     551337 non-null uint8\n",
      "CITY_ANTARTIDA E ISLAS DEL SUR    551337 non-null uint8\n",
      "CITY_BUENOS AIRES                 551337 non-null uint8\n",
      "CITY_CAPITAL FEDERAL              551337 non-null uint8\n",
      "CITY_CATAMARCA                    551337 non-null uint8\n",
      "CITY_CHACO                        551337 non-null uint8\n",
      "CITY_CHUBUT                       551337 non-null uint8\n",
      "CITY_CORDOBA                      551337 non-null uint8\n",
      "CITY_CORRIENTES                   551337 non-null uint8\n",
      "CITY_ENTRE RIOS                   551337 non-null uint8\n",
      "CITY_FORMOSA                      551337 non-null uint8\n",
      "CITY_JUJUY                        551337 non-null uint8\n",
      "CITY_LA PAMPA                     551337 non-null uint8\n",
      "CITY_LA RIOJA                     551337 non-null uint8\n",
      "CITY_MENDOZA                      551337 non-null uint8\n",
      "CITY_MISIONES                     551337 non-null uint8\n",
      "CITY_NEUQUEN                      551337 non-null uint8\n",
      "CITY_RIO NEGRO                    551337 non-null uint8\n",
      "CITY_SALTA                        551337 non-null uint8\n",
      "CITY_SAN JUAN                     551337 non-null uint8\n",
      "CITY_SAN LUIS                     551337 non-null uint8\n",
      "CITY_SANTA CRUZ                   551337 non-null uint8\n",
      "CITY_SANTA FE                     551337 non-null uint8\n",
      "CITY_SANTIAGO DEL ESTERO          551337 non-null uint8\n",
      "CITY_TIERRA DEL FUEGO             551337 non-null uint8\n",
      "CITY_TUCUMAN                      551337 non-null uint8\n",
      "ModoPago_BA                       551337 non-null uint8\n",
      "ModoPago_CC                       551337 non-null uint8\n",
      "ModoPago_Mix                      551337 non-null uint8\n",
      "ModoPago_PP                       551337 non-null uint8\n",
      "ModoPago_SJ                       551337 non-null uint8\n",
      "ModoPago_TA                       551337 non-null uint8\n",
      "ModoPago_TM                       551337 non-null uint8\n",
      "dtypes: uint8(54)\n",
      "memory usage: 32.6 MB\n"
     ]
    }
   ],
   "source": [
    "X = X.astype(\"uint8\")\n",
    "X.info()"
   ]
  },
  {
   "cell_type": "code",
   "execution_count": 14,
   "metadata": {
    "colab": {},
    "colab_type": "code",
    "id": "66cf39C5DhmY"
   },
   "outputs": [],
   "source": [
    "X_train, X_test, y_train, y_test = train_test_split(X, y, test_size=TEST_SIZE, random_state=RANDOM_STATE)"
   ]
  },
  {
   "cell_type": "code",
   "execution_count": 15,
   "metadata": {
    "colab": {
     "base_uri": "https://localhost:8080/",
     "height": 1020
    },
    "colab_type": "code",
    "executionInfo": {
     "elapsed": 570,
     "status": "ok",
     "timestamp": 1536099147485,
     "user": {
      "displayName": "Sebastian Martins",
      "photoUrl": "https://lh3.googleusercontent.com/a/default-user=s128",
      "userId": "117958151698014091336"
     },
     "user_tz": 180
    },
    "id": "KsaCN6KYagMj",
    "outputId": "2fd3bf16-29d2-44e3-c0ce-083b1744fdde"
   },
   "outputs": [
    {
     "name": "stdout",
     "output_type": "stream",
     "text": [
      "<class 'pandas.core.frame.DataFrame'>\n",
      "Int64Index: 110268 entries, 16136 to 473258\n",
      "Data columns (total 54 columns):\n",
      "9 meses                           110268 non-null uint8\n",
      "8 meses                           110268 non-null uint8\n",
      "7 meses                           110268 non-null uint8\n",
      "6 meses                           110268 non-null uint8\n",
      "5 meses                           110268 non-null uint8\n",
      "4 meses                           110268 non-null uint8\n",
      "GENDER_F                          110268 non-null uint8\n",
      "GENDER_M                          110268 non-null uint8\n",
      "MARITAL_STATUS_Casado             110268 non-null uint8\n",
      "MARITAL_STATUS_Conviv             110268 non-null uint8\n",
      "MARITAL_STATUS_Divorciado         110268 non-null uint8\n",
      "MARITAL_STATUS_No Corresp         110268 non-null uint8\n",
      "MARITAL_STATUS_Separado           110268 non-null uint8\n",
      "MARITAL_STATUS_Soltero            110268 non-null uint8\n",
      "MARITAL_STATUS_Union Civ          110268 non-null uint8\n",
      "MARITAL_STATUS_Viudo              110268 non-null uint8\n",
      "EDUCATION_N                       110268 non-null uint8\n",
      "EDUCATION_S                       110268 non-null uint8\n",
      "EDUCATION_LEVEL_PRIMARIO          110268 non-null uint8\n",
      "EDUCATION_LEVEL_SECUNDARIO        110268 non-null uint8\n",
      "EDUCATION_LEVEL_TERCIARIO         110268 non-null uint8\n",
      "EDUCATION_LEVEL_UNIVERSITARIO     110268 non-null uint8\n",
      "CITY_ANTARTIDA E ISLAS DEL SUR    110268 non-null uint8\n",
      "CITY_BUENOS AIRES                 110268 non-null uint8\n",
      "CITY_CAPITAL FEDERAL              110268 non-null uint8\n",
      "CITY_CATAMARCA                    110268 non-null uint8\n",
      "CITY_CHACO                        110268 non-null uint8\n",
      "CITY_CHUBUT                       110268 non-null uint8\n",
      "CITY_CORDOBA                      110268 non-null uint8\n",
      "CITY_CORRIENTES                   110268 non-null uint8\n",
      "CITY_ENTRE RIOS                   110268 non-null uint8\n",
      "CITY_FORMOSA                      110268 non-null uint8\n",
      "CITY_JUJUY                        110268 non-null uint8\n",
      "CITY_LA PAMPA                     110268 non-null uint8\n",
      "CITY_LA RIOJA                     110268 non-null uint8\n",
      "CITY_MENDOZA                      110268 non-null uint8\n",
      "CITY_MISIONES                     110268 non-null uint8\n",
      "CITY_NEUQUEN                      110268 non-null uint8\n",
      "CITY_RIO NEGRO                    110268 non-null uint8\n",
      "CITY_SALTA                        110268 non-null uint8\n",
      "CITY_SAN JUAN                     110268 non-null uint8\n",
      "CITY_SAN LUIS                     110268 non-null uint8\n",
      "CITY_SANTA CRUZ                   110268 non-null uint8\n",
      "CITY_SANTA FE                     110268 non-null uint8\n",
      "CITY_SANTIAGO DEL ESTERO          110268 non-null uint8\n",
      "CITY_TIERRA DEL FUEGO             110268 non-null uint8\n",
      "CITY_TUCUMAN                      110268 non-null uint8\n",
      "ModoPago_BA                       110268 non-null uint8\n",
      "ModoPago_CC                       110268 non-null uint8\n",
      "ModoPago_Mix                      110268 non-null uint8\n",
      "ModoPago_PP                       110268 non-null uint8\n",
      "ModoPago_SJ                       110268 non-null uint8\n",
      "ModoPago_TA                       110268 non-null uint8\n",
      "ModoPago_TM                       110268 non-null uint8\n",
      "dtypes: uint8(54)\n",
      "memory usage: 6.5 MB\n"
     ]
    }
   ],
   "source": [
    "X_test.info()"
   ]
  },
  {
   "cell_type": "code",
   "execution_count": 16,
   "metadata": {
    "colab": {
     "base_uri": "https://localhost:8080/",
     "height": 34
    },
    "colab_type": "code",
    "executionInfo": {
     "elapsed": 580,
     "status": "ok",
     "timestamp": 1536099151593,
     "user": {
      "displayName": "Sebastian Martins",
      "photoUrl": "https://lh3.googleusercontent.com/a/default-user=s128",
      "userId": "117958151698014091336"
     },
     "user_tz": 180
    },
    "id": "aLqSczLWDir3",
    "outputId": "f94633d8-f9be-4dae-c1c4-879180899b5b"
   },
   "outputs": [
    {
     "name": "stdout",
     "output_type": "stream",
     "text": [
      "train: 441069 - test: 110268\n"
     ]
    }
   ],
   "source": [
    "print(\"train: {} - test: {}\".format(len(X_train), len(X_test)))"
   ]
  },
  {
   "cell_type": "code",
   "execution_count": 17,
   "metadata": {
    "colab": {
     "base_uri": "https://localhost:8080/",
     "height": 34
    },
    "colab_type": "code",
    "executionInfo": {
     "elapsed": 578,
     "status": "ok",
     "timestamp": 1536099155602,
     "user": {
      "displayName": "Sebastian Martins",
      "photoUrl": "https://lh3.googleusercontent.com/a/default-user=s128",
      "userId": "117958151698014091336"
     },
     "user_tz": 180
    },
    "id": "ex-S_x6vk0uw",
    "outputId": "bdf789e2-6fc5-435d-87a0-174f3c263ca5"
   },
   "outputs": [
    {
     "data": {
      "text/plain": [
       "0.04726698090321469"
      ]
     },
     "execution_count": 17,
     "metadata": {},
     "output_type": "execute_result"
    }
   ],
   "source": [
    "#distrib de churn\n",
    "np.sum(y_train) / len(y_train)"
   ]
  },
  {
   "cell_type": "code",
   "execution_count": 18,
   "metadata": {
    "colab": {},
    "colab_type": "code",
    "id": "V0Sp_rgje2Iq"
   },
   "outputs": [],
   "source": [
    "from sklearn.metrics import roc_auc_score"
   ]
  },
  {
   "cell_type": "markdown",
   "metadata": {
    "colab_type": "text",
    "id": "U6648sQpe2m-"
   },
   "source": [
    "## TPOT"
   ]
  },
  {
   "cell_type": "code",
   "execution_count": 0,
   "metadata": {
    "colab": {
     "base_uri": "https://localhost:8080/",
     "height": 136
    },
    "colab_type": "code",
    "executionInfo": {
     "elapsed": 431,
     "status": "ok",
     "timestamp": 1536012532493,
     "user": {
      "displayName": "Sebastian Martins",
      "photoUrl": "https://lh3.googleusercontent.com/a/default-user=s128",
      "userId": "117958151698014091336"
     },
     "user_tz": 180
    },
    "id": "Dl-t0xcPDlkf",
    "outputId": "5de149cd-5249-4c57-d9a1-224c1f2829dd"
   },
   "outputs": [
    {
     "data": {
      "text/plain": [
       "TPOTClassifier(config_dict=None, crossover_rate=0.1, cv=5,\n",
       "        disable_update_check=False, early_stop=None, generations=5,\n",
       "        max_eval_time_mins=5, max_time_mins=80, memory=None,\n",
       "        mutation_rate=0.9, n_jobs=-1, offspring_size=None,\n",
       "        periodic_checkpoint_folder=None, population_size=20,\n",
       "        random_state=42, scoring='roc_auc', subsample=1.0, use_dask=False,\n",
       "        verbosity=2, warm_start=False)"
      ]
     },
     "execution_count": 47,
     "metadata": {
      "tags": []
     },
     "output_type": "execute_result"
    }
   ],
   "source": [
    "\n",
    "\n",
    "tpot = TPOTClassifier(generations=5, population_size=20, random_state=RANDOM_STATE, verbosity=2, max_time_mins=80, n_jobs=-1, scoring=\"roc_auc\")\n",
    "tpot"
   ]
  },
  {
   "cell_type": "code",
   "execution_count": 0,
   "metadata": {
    "colab": {
     "base_uri": "https://localhost:8080/",
     "height": 1747
    },
    "colab_type": "code",
    "executionInfo": {
     "elapsed": 4134,
     "status": "error",
     "timestamp": 1536002707771,
     "user": {
      "displayName": "Sebastian Martins",
      "photoUrl": "https://lh3.googleusercontent.com/a/default-user=s128",
      "userId": "117958151698014091336"
     },
     "user_tz": 180
    },
    "id": "_R2QgvDfQYeu",
    "outputId": "30d5bc51-dd5d-4365-ee65-5b26af8248e0"
   },
   "outputs": [
    {
     "name": "stderr",
     "output_type": "stream",
     "text": []
    },
    {
     "ename": "RuntimeError",
     "evalue": "ignored",
     "output_type": "error",
     "traceback": [
      "\u001b[0;31m---------------------------------------------------------------------------\u001b[0m",
      "\u001b[0;31mOSError\u001b[0m                                   Traceback (most recent call last)",
      "\u001b[0;32m/usr/local/lib/python3.6/dist-packages/tpot/base.py\u001b[0m in \u001b[0;36mfit\u001b[0;34m(self, features, target, sample_weight, groups)\u001b[0m\n\u001b[1;32m    660\u001b[0m                     \u001b[0mverbose\u001b[0m\u001b[0;34m=\u001b[0m\u001b[0mself\u001b[0m\u001b[0;34m.\u001b[0m\u001b[0mverbosity\u001b[0m\u001b[0;34m,\u001b[0m\u001b[0;34m\u001b[0m\u001b[0m\n\u001b[0;32m--> 661\u001b[0;31m                     \u001b[0mper_generation_function\u001b[0m\u001b[0;34m=\u001b[0m\u001b[0mself\u001b[0m\u001b[0;34m.\u001b[0m\u001b[0m_check_periodic_pipeline\u001b[0m\u001b[0;34m\u001b[0m\u001b[0m\n\u001b[0m\u001b[1;32m    662\u001b[0m                 )\n",
      "\u001b[0;32m/usr/local/lib/python3.6/dist-packages/tpot/gp_deap.py\u001b[0m in \u001b[0;36meaMuPlusLambda\u001b[0;34m(population, toolbox, mu, lambda_, cxpb, mutpb, ngen, pbar, stats, halloffame, verbose, per_generation_function)\u001b[0m\n\u001b[1;32m    229\u001b[0m \u001b[0;34m\u001b[0m\u001b[0m\n\u001b[0;32m--> 230\u001b[0;31m     \u001b[0mfitnesses\u001b[0m \u001b[0;34m=\u001b[0m \u001b[0mtoolbox\u001b[0m\u001b[0;34m.\u001b[0m\u001b[0mevaluate\u001b[0m\u001b[0;34m(\u001b[0m\u001b[0minvalid_ind\u001b[0m\u001b[0;34m)\u001b[0m\u001b[0;34m\u001b[0m\u001b[0m\n\u001b[0m\u001b[1;32m    231\u001b[0m     \u001b[0;32mfor\u001b[0m \u001b[0mind\u001b[0m\u001b[0;34m,\u001b[0m \u001b[0mfit\u001b[0m \u001b[0;32min\u001b[0m \u001b[0mzip\u001b[0m\u001b[0;34m(\u001b[0m\u001b[0minvalid_ind\u001b[0m\u001b[0;34m,\u001b[0m \u001b[0mfitnesses\u001b[0m\u001b[0;34m)\u001b[0m\u001b[0;34m:\u001b[0m\u001b[0;34m\u001b[0m\u001b[0m\n",
      "\u001b[0;32m/usr/local/lib/python3.6/dist-packages/tpot/base.py\u001b[0m in \u001b[0;36m_evaluate_individuals\u001b[0;34m(self, individuals, features, target, sample_weight, groups)\u001b[0m\n\u001b[1;32m   1238\u001b[0m                         \u001b[0mdelayed\u001b[0m\u001b[0;34m(\u001b[0m\u001b[0mpartial_wrapped_cross_val_score\u001b[0m\u001b[0;34m)\u001b[0m\u001b[0;34m(\u001b[0m\u001b[0msklearn_pipeline\u001b[0m\u001b[0;34m=\u001b[0m\u001b[0msklearn_pipeline\u001b[0m\u001b[0;34m)\u001b[0m\u001b[0;34m\u001b[0m\u001b[0m\n\u001b[0;32m-> 1239\u001b[0;31m                         for sklearn_pipeline in sklearn_pipeline_list[chunk_idx:chunk_idx + chunk_size])\n\u001b[0m\u001b[1;32m   1240\u001b[0m                     \u001b[0;31m# update pbar\u001b[0m\u001b[0;34m\u001b[0m\u001b[0;34m\u001b[0m\u001b[0m\n",
      "\u001b[0;32m/usr/local/lib/python3.6/dist-packages/sklearn/externals/joblib/parallel.py\u001b[0m in \u001b[0;36m__call__\u001b[0;34m(self, iterable)\u001b[0m\n\u001b[1;32m    788\u001b[0m                 \u001b[0mself\u001b[0m\u001b[0;34m.\u001b[0m\u001b[0m_iterating\u001b[0m \u001b[0;34m=\u001b[0m \u001b[0;32mFalse\u001b[0m\u001b[0;34m\u001b[0m\u001b[0m\n\u001b[0;32m--> 789\u001b[0;31m             \u001b[0mself\u001b[0m\u001b[0;34m.\u001b[0m\u001b[0mretrieve\u001b[0m\u001b[0;34m(\u001b[0m\u001b[0;34m)\u001b[0m\u001b[0;34m\u001b[0m\u001b[0m\n\u001b[0m\u001b[1;32m    790\u001b[0m             \u001b[0;31m# Make sure that we get a last message telling us we are done\u001b[0m\u001b[0;34m\u001b[0m\u001b[0;34m\u001b[0m\u001b[0m\n",
      "\u001b[0;32m/usr/local/lib/python3.6/dist-packages/sklearn/externals/joblib/parallel.py\u001b[0m in \u001b[0;36mretrieve\u001b[0;34m(self)\u001b[0m\n\u001b[1;32m    698\u001b[0m                 \u001b[0;32mif\u001b[0m \u001b[0mgetattr\u001b[0m\u001b[0;34m(\u001b[0m\u001b[0mself\u001b[0m\u001b[0;34m.\u001b[0m\u001b[0m_backend\u001b[0m\u001b[0;34m,\u001b[0m \u001b[0;34m'supports_timeout'\u001b[0m\u001b[0;34m,\u001b[0m \u001b[0;32mFalse\u001b[0m\u001b[0;34m)\u001b[0m\u001b[0;34m:\u001b[0m\u001b[0;34m\u001b[0m\u001b[0m\n\u001b[0;32m--> 699\u001b[0;31m                     \u001b[0mself\u001b[0m\u001b[0;34m.\u001b[0m\u001b[0m_output\u001b[0m\u001b[0;34m.\u001b[0m\u001b[0mextend\u001b[0m\u001b[0;34m(\u001b[0m\u001b[0mjob\u001b[0m\u001b[0;34m.\u001b[0m\u001b[0mget\u001b[0m\u001b[0;34m(\u001b[0m\u001b[0mtimeout\u001b[0m\u001b[0;34m=\u001b[0m\u001b[0mself\u001b[0m\u001b[0;34m.\u001b[0m\u001b[0mtimeout\u001b[0m\u001b[0;34m)\u001b[0m\u001b[0;34m)\u001b[0m\u001b[0;34m\u001b[0m\u001b[0m\n\u001b[0m\u001b[1;32m    700\u001b[0m                 \u001b[0;32melse\u001b[0m\u001b[0;34m:\u001b[0m\u001b[0;34m\u001b[0m\u001b[0m\n",
      "\u001b[0;32m/usr/lib/python3.6/multiprocessing/pool.py\u001b[0m in \u001b[0;36mget\u001b[0;34m(self, timeout)\u001b[0m\n\u001b[1;32m    643\u001b[0m         \u001b[0;32melse\u001b[0m\u001b[0;34m:\u001b[0m\u001b[0;34m\u001b[0m\u001b[0m\n\u001b[0;32m--> 644\u001b[0;31m             \u001b[0;32mraise\u001b[0m \u001b[0mself\u001b[0m\u001b[0;34m.\u001b[0m\u001b[0m_value\u001b[0m\u001b[0;34m\u001b[0m\u001b[0m\n\u001b[0m\u001b[1;32m    645\u001b[0m \u001b[0;34m\u001b[0m\u001b[0m\n",
      "\u001b[0;32m/usr/lib/python3.6/multiprocessing/pool.py\u001b[0m in \u001b[0;36m_handle_tasks\u001b[0;34m(taskqueue, put, outqueue, pool, cache)\u001b[0m\n\u001b[1;32m    423\u001b[0m                     \u001b[0;32mtry\u001b[0m\u001b[0;34m:\u001b[0m\u001b[0;34m\u001b[0m\u001b[0m\n\u001b[0;32m--> 424\u001b[0;31m                         \u001b[0mput\u001b[0m\u001b[0;34m(\u001b[0m\u001b[0mtask\u001b[0m\u001b[0;34m)\u001b[0m\u001b[0;34m\u001b[0m\u001b[0m\n\u001b[0m\u001b[1;32m    425\u001b[0m                     \u001b[0;32mexcept\u001b[0m \u001b[0mException\u001b[0m \u001b[0;32mas\u001b[0m \u001b[0me\u001b[0m\u001b[0;34m:\u001b[0m\u001b[0;34m\u001b[0m\u001b[0m\n",
      "\u001b[0;32m/usr/local/lib/python3.6/dist-packages/sklearn/externals/joblib/pool.py\u001b[0m in \u001b[0;36msend\u001b[0;34m(obj)\u001b[0m\n\u001b[1;32m    370\u001b[0m                 \u001b[0mbuffer\u001b[0m \u001b[0;34m=\u001b[0m \u001b[0mBytesIO\u001b[0m\u001b[0;34m(\u001b[0m\u001b[0;34m)\u001b[0m\u001b[0;34m\u001b[0m\u001b[0m\n\u001b[0;32m--> 371\u001b[0;31m                 \u001b[0mCustomizablePickler\u001b[0m\u001b[0;34m(\u001b[0m\u001b[0mbuffer\u001b[0m\u001b[0;34m,\u001b[0m \u001b[0mself\u001b[0m\u001b[0;34m.\u001b[0m\u001b[0m_reducers\u001b[0m\u001b[0;34m)\u001b[0m\u001b[0;34m.\u001b[0m\u001b[0mdump\u001b[0m\u001b[0;34m(\u001b[0m\u001b[0mobj\u001b[0m\u001b[0;34m)\u001b[0m\u001b[0;34m\u001b[0m\u001b[0m\n\u001b[0m\u001b[1;32m    372\u001b[0m                 \u001b[0mself\u001b[0m\u001b[0;34m.\u001b[0m\u001b[0m_writer\u001b[0m\u001b[0;34m.\u001b[0m\u001b[0msend_bytes\u001b[0m\u001b[0;34m(\u001b[0m\u001b[0mbuffer\u001b[0m\u001b[0;34m.\u001b[0m\u001b[0mgetvalue\u001b[0m\u001b[0;34m(\u001b[0m\u001b[0;34m)\u001b[0m\u001b[0;34m)\u001b[0m\u001b[0;34m\u001b[0m\u001b[0m\n",
      "\u001b[0;32m/usr/local/lib/python3.6/dist-packages/sklearn/externals/joblib/pool.py\u001b[0m in \u001b[0;36m__call__\u001b[0;34m(self, a)\u001b[0m\n\u001b[1;32m    239\u001b[0m                         a.shape, a.dtype, filename))\n\u001b[0;32m--> 240\u001b[0;31m                 \u001b[0;32mfor\u001b[0m \u001b[0mdumped_filename\u001b[0m \u001b[0;32min\u001b[0m \u001b[0mdump\u001b[0m\u001b[0;34m(\u001b[0m\u001b[0ma\u001b[0m\u001b[0;34m,\u001b[0m \u001b[0mfilename\u001b[0m\u001b[0;34m)\u001b[0m\u001b[0;34m:\u001b[0m\u001b[0;34m\u001b[0m\u001b[0m\n\u001b[0m\u001b[1;32m    241\u001b[0m                     \u001b[0mos\u001b[0m\u001b[0;34m.\u001b[0m\u001b[0mchmod\u001b[0m\u001b[0;34m(\u001b[0m\u001b[0mdumped_filename\u001b[0m\u001b[0;34m,\u001b[0m \u001b[0mFILE_PERMISSIONS\u001b[0m\u001b[0;34m)\u001b[0m\u001b[0;34m\u001b[0m\u001b[0m\n",
      "\u001b[0;32m/usr/local/lib/python3.6/dist-packages/sklearn/externals/joblib/numpy_pickle.py\u001b[0m in \u001b[0;36mdump\u001b[0;34m(value, filename, compress, protocol, cache_size)\u001b[0m\n\u001b[1;32m    483\u001b[0m         \u001b[0;32mwith\u001b[0m \u001b[0mopen\u001b[0m\u001b[0;34m(\u001b[0m\u001b[0mfilename\u001b[0m\u001b[0;34m,\u001b[0m \u001b[0;34m'wb'\u001b[0m\u001b[0;34m)\u001b[0m \u001b[0;32mas\u001b[0m \u001b[0mf\u001b[0m\u001b[0;34m:\u001b[0m\u001b[0;34m\u001b[0m\u001b[0m\n\u001b[0;32m--> 484\u001b[0;31m             \u001b[0mNumpyPickler\u001b[0m\u001b[0;34m(\u001b[0m\u001b[0mf\u001b[0m\u001b[0;34m,\u001b[0m \u001b[0mprotocol\u001b[0m\u001b[0;34m=\u001b[0m\u001b[0mprotocol\u001b[0m\u001b[0;34m)\u001b[0m\u001b[0;34m.\u001b[0m\u001b[0mdump\u001b[0m\u001b[0;34m(\u001b[0m\u001b[0mvalue\u001b[0m\u001b[0;34m)\u001b[0m\u001b[0;34m\u001b[0m\u001b[0m\n\u001b[0m\u001b[1;32m    485\u001b[0m     \u001b[0;32melse\u001b[0m\u001b[0;34m:\u001b[0m\u001b[0;34m\u001b[0m\u001b[0m\n",
      "\u001b[0;32m/usr/lib/python3.6/pickle.py\u001b[0m in \u001b[0;36mdump\u001b[0;34m(self, obj)\u001b[0m\n\u001b[1;32m    408\u001b[0m             \u001b[0mself\u001b[0m\u001b[0;34m.\u001b[0m\u001b[0mframer\u001b[0m\u001b[0;34m.\u001b[0m\u001b[0mstart_framing\u001b[0m\u001b[0;34m(\u001b[0m\u001b[0;34m)\u001b[0m\u001b[0;34m\u001b[0m\u001b[0m\n\u001b[0;32m--> 409\u001b[0;31m         \u001b[0mself\u001b[0m\u001b[0;34m.\u001b[0m\u001b[0msave\u001b[0m\u001b[0;34m(\u001b[0m\u001b[0mobj\u001b[0m\u001b[0;34m)\u001b[0m\u001b[0;34m\u001b[0m\u001b[0m\n\u001b[0m\u001b[1;32m    410\u001b[0m         \u001b[0mself\u001b[0m\u001b[0;34m.\u001b[0m\u001b[0mwrite\u001b[0m\u001b[0;34m(\u001b[0m\u001b[0mSTOP\u001b[0m\u001b[0;34m)\u001b[0m\u001b[0;34m\u001b[0m\u001b[0m\n",
      "\u001b[0;32m/usr/local/lib/python3.6/dist-packages/sklearn/externals/joblib/numpy_pickle.py\u001b[0m in \u001b[0;36msave\u001b[0;34m(self, obj)\u001b[0m\n\u001b[1;32m    277\u001b[0m             \u001b[0;31m# And then array bytes are written right after the wrapper.\u001b[0m\u001b[0;34m\u001b[0m\u001b[0;34m\u001b[0m\u001b[0m\n\u001b[0;32m--> 278\u001b[0;31m             \u001b[0mwrapper\u001b[0m\u001b[0;34m.\u001b[0m\u001b[0mwrite_array\u001b[0m\u001b[0;34m(\u001b[0m\u001b[0mobj\u001b[0m\u001b[0;34m,\u001b[0m \u001b[0mself\u001b[0m\u001b[0;34m)\u001b[0m\u001b[0;34m\u001b[0m\u001b[0m\n\u001b[0m\u001b[1;32m    279\u001b[0m             \u001b[0;32mreturn\u001b[0m\u001b[0;34m\u001b[0m\u001b[0m\n",
      "\u001b[0;32m/usr/local/lib/python3.6/dist-packages/sklearn/externals/joblib/numpy_pickle.py\u001b[0m in \u001b[0;36mwrite_array\u001b[0;34m(self, array, pickler)\u001b[0m\n\u001b[1;32m     92\u001b[0m                                            order=self.order):\n\u001b[0;32m---> 93\u001b[0;31m                 \u001b[0mpickler\u001b[0m\u001b[0;34m.\u001b[0m\u001b[0mfile_handle\u001b[0m\u001b[0;34m.\u001b[0m\u001b[0mwrite\u001b[0m\u001b[0;34m(\u001b[0m\u001b[0mchunk\u001b[0m\u001b[0;34m.\u001b[0m\u001b[0mtostring\u001b[0m\u001b[0;34m(\u001b[0m\u001b[0;34m'C'\u001b[0m\u001b[0;34m)\u001b[0m\u001b[0;34m)\u001b[0m\u001b[0;34m\u001b[0m\u001b[0m\n\u001b[0m\u001b[1;32m     94\u001b[0m \u001b[0;34m\u001b[0m\u001b[0m\n",
      "\u001b[0;31mOSError\u001b[0m: [Errno 28] No space left on device",
      "\nDuring handling of the above exception, another exception occurred:\n",
      "\u001b[0;31mRuntimeError\u001b[0m                              Traceback (most recent call last)",
      "\u001b[0;32m<ipython-input-18-2da0da1324f1>\u001b[0m in \u001b[0;36m<module>\u001b[0;34m()\u001b[0m\n\u001b[0;32m----> 1\u001b[0;31m \u001b[0mtpot\u001b[0m\u001b[0;34m.\u001b[0m\u001b[0mfit\u001b[0m\u001b[0;34m(\u001b[0m\u001b[0mX_train\u001b[0m\u001b[0;34m,\u001b[0m \u001b[0my_train\u001b[0m\u001b[0;34m)\u001b[0m\u001b[0;34m\u001b[0m\u001b[0m\n\u001b[0m\u001b[1;32m      2\u001b[0m \u001b[0mprint\u001b[0m\u001b[0;34m(\u001b[0m\u001b[0mtpot\u001b[0m\u001b[0;34m.\u001b[0m\u001b[0mscore\u001b[0m\u001b[0;34m(\u001b[0m\u001b[0mX_test\u001b[0m\u001b[0;34m,\u001b[0m \u001b[0my_test\u001b[0m\u001b[0;34m)\u001b[0m\u001b[0;34m)\u001b[0m\u001b[0;34m\u001b[0m\u001b[0m\n",
      "\u001b[0;32m/usr/local/lib/python3.6/dist-packages/tpot/base.py\u001b[0m in \u001b[0;36mfit\u001b[0;34m(self, features, target, sample_weight, groups)\u001b[0m\n\u001b[1;32m    691\u001b[0m                     \u001b[0;31m# raise the exception if it's our last attempt\u001b[0m\u001b[0;34m\u001b[0m\u001b[0;34m\u001b[0m\u001b[0m\n\u001b[1;32m    692\u001b[0m                     \u001b[0;32mif\u001b[0m \u001b[0mattempt\u001b[0m \u001b[0;34m==\u001b[0m \u001b[0;34m(\u001b[0m\u001b[0mattempts\u001b[0m \u001b[0;34m-\u001b[0m \u001b[0;36m1\u001b[0m\u001b[0;34m)\u001b[0m\u001b[0;34m:\u001b[0m\u001b[0;34m\u001b[0m\u001b[0m\n\u001b[0;32m--> 693\u001b[0;31m                         \u001b[0;32mraise\u001b[0m \u001b[0me\u001b[0m\u001b[0;34m\u001b[0m\u001b[0m\n\u001b[0m\u001b[1;32m    694\u001b[0m             \u001b[0;32mreturn\u001b[0m \u001b[0mself\u001b[0m\u001b[0;34m\u001b[0m\u001b[0m\n\u001b[1;32m    695\u001b[0m \u001b[0;34m\u001b[0m\u001b[0m\n",
      "\u001b[0;32m/usr/local/lib/python3.6/dist-packages/tpot/base.py\u001b[0m in \u001b[0;36mfit\u001b[0;34m(self, features, target, sample_weight, groups)\u001b[0m\n\u001b[1;32m    682\u001b[0m                         \u001b[0mself\u001b[0m\u001b[0;34m.\u001b[0m\u001b[0m_pbar\u001b[0m\u001b[0;34m.\u001b[0m\u001b[0mclose\u001b[0m\u001b[0;34m(\u001b[0m\u001b[0;34m)\u001b[0m\u001b[0;34m\u001b[0m\u001b[0m\n\u001b[1;32m    683\u001b[0m \u001b[0;34m\u001b[0m\u001b[0m\n\u001b[0;32m--> 684\u001b[0;31m                     \u001b[0mself\u001b[0m\u001b[0;34m.\u001b[0m\u001b[0m_update_top_pipeline\u001b[0m\u001b[0;34m(\u001b[0m\u001b[0;34m)\u001b[0m\u001b[0;34m\u001b[0m\u001b[0m\n\u001b[0m\u001b[1;32m    685\u001b[0m                     \u001b[0mself\u001b[0m\u001b[0;34m.\u001b[0m\u001b[0m_summary_of_best_pipeline\u001b[0m\u001b[0;34m(\u001b[0m\u001b[0mfeatures\u001b[0m\u001b[0;34m,\u001b[0m \u001b[0mtarget\u001b[0m\u001b[0;34m)\u001b[0m\u001b[0;34m\u001b[0m\u001b[0m\n\u001b[1;32m    686\u001b[0m                     \u001b[0;31m# Delete the temporary cache before exiting\u001b[0m\u001b[0;34m\u001b[0m\u001b[0;34m\u001b[0m\u001b[0m\n",
      "\u001b[0;32m/usr/local/lib/python3.6/dist-packages/tpot/base.py\u001b[0m in \u001b[0;36m_update_top_pipeline\u001b[0;34m(self)\u001b[0m\n\u001b[1;32m    756\u001b[0m             \u001b[0;31m# If user passes CTRL+C in initial generation, self._pareto_front (halloffame) shoule be not updated yet.\u001b[0m\u001b[0;34m\u001b[0m\u001b[0;34m\u001b[0m\u001b[0m\n\u001b[1;32m    757\u001b[0m             \u001b[0;31m# need raise RuntimeError because no pipeline has been optimized\u001b[0m\u001b[0;34m\u001b[0m\u001b[0;34m\u001b[0m\u001b[0m\n\u001b[0;32m--> 758\u001b[0;31m             \u001b[0;32mraise\u001b[0m \u001b[0mRuntimeError\u001b[0m\u001b[0;34m(\u001b[0m\u001b[0;34m'A pipeline has not yet been optimized. Please call fit() first.'\u001b[0m\u001b[0;34m)\u001b[0m\u001b[0;34m\u001b[0m\u001b[0m\n\u001b[0m\u001b[1;32m    759\u001b[0m \u001b[0;34m\u001b[0m\u001b[0m\n\u001b[1;32m    760\u001b[0m     \u001b[0;32mdef\u001b[0m \u001b[0m_summary_of_best_pipeline\u001b[0m\u001b[0;34m(\u001b[0m\u001b[0mself\u001b[0m\u001b[0;34m,\u001b[0m \u001b[0mfeatures\u001b[0m\u001b[0;34m,\u001b[0m \u001b[0mtarget\u001b[0m\u001b[0;34m)\u001b[0m\u001b[0;34m:\u001b[0m\u001b[0;34m\u001b[0m\u001b[0m\n",
      "\u001b[0;31mRuntimeError\u001b[0m: A pipeline has not yet been optimized. Please call fit() first."
     ]
    }
   ],
   "source": [
    "tpot.fit(X_train, y_train)\n",
    "print(tpot.score(X_test, y_test))"
   ]
  },
  {
   "cell_type": "code",
   "execution_count": 0,
   "metadata": {
    "colab": {},
    "colab_type": "code",
    "id": "jd5Rgsr3Dsbg"
   },
   "outputs": [],
   "source": [
    "y_pred = tpot.predict(X_test)\n"
   ]
  },
  {
   "cell_type": "code",
   "execution_count": 0,
   "metadata": {
    "colab": {
     "base_uri": "https://localhost:8080/",
     "height": 34
    },
    "colab_type": "code",
    "executionInfo": {
     "elapsed": 1106,
     "status": "ok",
     "timestamp": 1535425623312,
     "user": {
      "displayName": "Sebastian Martins",
      "photoUrl": "https://lh3.googleusercontent.com/a/default-user=s128",
      "userId": "117958151698014091336"
     },
     "user_tz": 180
    },
    "id": "sXwhaD81dzdQ",
    "outputId": "e85d0a22-880b-4cb2-ade2-568741c80bcd"
   },
   "outputs": [
    {
     "data": {
      "text/plain": [
       "0.90582903065867"
      ]
     },
     "execution_count": 25,
     "metadata": {
      "tags": []
     },
     "output_type": "execute_result"
    }
   ],
   "source": [
    "\n",
    "roc_auc_score(y_test, y_pred)"
   ]
  },
  {
   "cell_type": "code",
   "execution_count": 0,
   "metadata": {
    "colab": {
     "base_uri": "https://localhost:8080/",
     "height": 697
    },
    "colab_type": "code",
    "executionInfo": {
     "elapsed": 886,
     "status": "ok",
     "timestamp": 1535425624264,
     "user": {
      "displayName": "Sebastian Martins",
      "photoUrl": "https://lh3.googleusercontent.com/a/default-user=s128",
      "userId": "117958151698014091336"
     },
     "user_tz": 180
    },
    "id": "MZ86uHFaRmVC",
    "outputId": "7ad192fd-92ca-4fcb-d713-2b1db6b30c8c"
   },
   "outputs": [
    {
     "name": "stdout",
     "output_type": "stream",
     "text": [
      "0 0\n",
      "0 0\n",
      "0 0\n",
      "0 0\n",
      "0 0\n",
      "1 1\n",
      "0 0\n",
      "0 0\n",
      "1 1\n",
      "0 0\n",
      "0 0\n",
      "0 0\n",
      "0 0\n",
      "0 0\n",
      "0 1\n",
      "0 0\n",
      "0 0\n",
      "0 0\n",
      "0 0\n",
      "0 0\n",
      "0 0\n",
      "0 0\n",
      "0 0\n",
      "0 0\n",
      "1 1\n",
      "0 0\n",
      "0 0\n",
      "0 1\n",
      "0 0\n",
      "1 1\n",
      "0 0\n",
      "0 1\n",
      "0 0\n",
      "0 0\n",
      "1 1\n",
      "0 0\n",
      "0 0\n",
      "0 0\n",
      "0 0\n",
      "0 0\n"
     ]
    }
   ],
   "source": [
    "for p, r in zip(y_pred[:40],y_test[:40]):\n",
    "  print(p,r)"
   ]
  },
  {
   "cell_type": "code",
   "execution_count": 0,
   "metadata": {
    "colab": {},
    "colab_type": "code",
    "id": "nLaUji8H7JJD"
   },
   "outputs": [],
   "source": []
  },
  {
   "cell_type": "code",
   "execution_count": 0,
   "metadata": {
    "colab": {},
    "colab_type": "code",
    "id": "zUc4JSyBaDjF"
   },
   "outputs": [],
   "source": [
    "from sklearn.metrics import confusion_matrix"
   ]
  },
  {
   "cell_type": "code",
   "execution_count": 0,
   "metadata": {
    "colab": {
     "base_uri": "https://localhost:8080/",
     "height": 279
    },
    "colab_type": "code",
    "executionInfo": {
     "elapsed": 972,
     "status": "ok",
     "timestamp": 1536003195258,
     "user": {
      "displayName": "Sebastian Martins",
      "photoUrl": "https://lh3.googleusercontent.com/a/default-user=s128",
      "userId": "117958151698014091336"
     },
     "user_tz": 180
    },
    "id": "abk0CzbM1Z7g",
    "outputId": "0971f5b3-7f92-408d-f929-e2ff010945b2"
   },
   "outputs": [
    {
     "data": {
      "image/png": "[encoded data removed]",
      "text/plain": [
       "<matplotlib.figure.Figure at 0x7f05ac8035c0>"
      ]
     },
     "metadata": {
      "tags": []
     },
     "output_type": "display_data"
    }
   ],
   "source": [
    "ax= plt.subplot()\n",
    "cm = confusion_matrix(y_test, y_pred)\n",
    "sns.heatmap(cm, annot=True)\n",
    "ax.set_xlabel('Predicted labels');ax.set_ylabel('True labels'); \n"
   ]
  },
  {
   "cell_type": "code",
   "execution_count": 0,
   "metadata": {
    "colab": {
     "base_uri": "https://localhost:8080/",
     "height": 51
    },
    "colab_type": "code",
    "executionInfo": {
     "elapsed": 621,
     "status": "ok",
     "timestamp": 1536003203119,
     "user": {
      "displayName": "Sebastian Martins",
      "photoUrl": "https://lh3.googleusercontent.com/a/default-user=s128",
      "userId": "117958151698014091336"
     },
     "user_tz": 180
    },
    "id": "M5B64VxL182B",
    "outputId": "175a4fc1-485a-4ba5-8b7c-9093a43a9ea3"
   },
   "outputs": [
    {
     "data": {
      "text/plain": [
       "array([[136704,   1612],\n",
       "       [  5301,  24887]])"
      ]
     },
     "execution_count": 25,
     "metadata": {
      "tags": []
     },
     "output_type": "execute_result"
    }
   ],
   "source": [
    "cm "
   ]
  },
  {
   "cell_type": "code",
   "execution_count": 0,
   "metadata": {
    "colab": {},
    "colab_type": "code",
    "id": "G_zVxkOY2RWB"
   },
   "outputs": [],
   "source": [
    "import scikitplot as skplt"
   ]
  },
  {
   "cell_type": "code",
   "execution_count": 0,
   "metadata": {
    "colab": {
     "base_uri": "https://localhost:8080/",
     "height": 311
    },
    "colab_type": "code",
    "executionInfo": {
     "elapsed": 805,
     "status": "ok",
     "timestamp": 1536003201155,
     "user": {
      "displayName": "Sebastian Martins",
      "photoUrl": "https://lh3.googleusercontent.com/a/default-user=s128",
      "userId": "117958151698014091336"
     },
     "user_tz": 180
    },
    "id": "YnHERJ472ubC",
    "outputId": "b21f1669-842f-41d1-977c-ced888d828d6"
   },
   "outputs": [
    {
     "data": {
      "text/plain": [
       "<matplotlib.axes._subplots.AxesSubplot at 0x7f05ac2e48d0>"
      ]
     },
     "execution_count": 24,
     "metadata": {
      "tags": []
     },
     "output_type": "execute_result"
    },
    {
     "data": {
      "image/png": "[encoded data removed]",
      "text/plain": [
       "<matplotlib.figure.Figure at 0x7f05ac2e42b0>"
      ]
     },
     "metadata": {
      "tags": []
     },
     "output_type": "display_data"
    }
   ],
   "source": [
    "skplt.metrics.plot_confusion_matrix(y_test, y_pred, normalize=True)"
   ]
  },
  {
   "cell_type": "code",
   "execution_count": 0,
   "metadata": {
    "colab": {
     "base_uri": "https://localhost:8080/",
     "height": 136
    },
    "colab_type": "code",
    "executionInfo": {
     "elapsed": 2737,
     "status": "ok",
     "timestamp": 1535425632754,
     "user": {
      "displayName": "Sebastian Martins",
      "photoUrl": "https://lh3.googleusercontent.com/a/default-user=s128",
      "userId": "117958151698014091336"
     },
     "user_tz": 180
    },
    "id": "iIn9S20K3J-T",
    "outputId": "77d6ac40-2962-4b04-c750-d36d199d6dcb"
   },
   "outputs": [
    {
     "data": {
      "text/plain": [
       "array([[0.9901008 , 0.0098992 ],\n",
       "       [1.        , 0.        ],\n",
       "       [0.98959239, 0.01040761],\n",
       "       ...,\n",
       "       [0.86684559, 0.13315441],\n",
       "       [0.97969977, 0.02030023],\n",
       "       [0.86684559, 0.13315441]])"
      ]
     },
     "execution_count": 31,
     "metadata": {
      "tags": []
     },
     "output_type": "execute_result"
    }
   ],
   "source": [
    "ypp = tpot.predict_proba(X_test)\n",
    "ypp"
   ]
  },
  {
   "cell_type": "code",
   "execution_count": 0,
   "metadata": {
    "colab": {
     "base_uri": "https://localhost:8080/",
     "height": 34
    },
    "colab_type": "code",
    "executionInfo": {
     "elapsed": 1630,
     "status": "ok",
     "timestamp": 1535425635465,
     "user": {
      "displayName": "Sebastian Martins",
      "photoUrl": "https://lh3.googleusercontent.com/a/default-user=s128",
      "userId": "117958151698014091336"
     },
     "user_tz": 180
    },
    "id": "x8ki2EHh3nXE",
    "outputId": "e10b3cd9-92f8-4644-ceef-cb5a6c5873f8"
   },
   "outputs": [
    {
     "data": {
      "text/plain": [
       "0.9699511222438081"
      ]
     },
     "execution_count": 33,
     "metadata": {
      "tags": []
     },
     "output_type": "execute_result"
    }
   ],
   "source": [
    "roc_auc_score(y_test, ypp[:,1])"
   ]
  },
  {
   "cell_type": "code",
   "execution_count": 0,
   "metadata": {
    "colab": {
     "base_uri": "https://localhost:8080/",
     "height": 311
    },
    "colab_type": "code",
    "executionInfo": {
     "elapsed": 2326,
     "status": "ok",
     "timestamp": 1535425637828,
     "user": {
      "displayName": "Sebastian Martins",
      "photoUrl": "https://lh3.googleusercontent.com/a/default-user=s128",
      "userId": "117958151698014091336"
     },
     "user_tz": 180
    },
    "id": "XPe5ORF6RJxU",
    "outputId": "6c9d9311-b132-4bfa-c547-c1ccfa92ae9b"
   },
   "outputs": [
    {
     "data": {
      "text/plain": [
       "<matplotlib.axes._subplots.AxesSubplot at 0x7f0d003aa320>"
      ]
     },
     "execution_count": 34,
     "metadata": {
      "tags": []
     },
     "output_type": "execute_result"
    },
    {
     "data": {
      "image/png": "[encoded data removed]",
      "text/plain": [
       "<matplotlib.figure.Figure at 0x7f0d00403f98>"
      ]
     },
     "metadata": {
      "tags": []
     },
     "output_type": "display_data"
    }
   ],
   "source": [
    "import scikitplot as skplt\n",
    "\n",
    "skplt.metrics.plot_roc(y_test, ypp)"
   ]
  },
  {
   "cell_type": "code",
   "execution_count": 0,
   "metadata": {
    "colab": {
     "base_uri": "https://localhost:8080/",
     "height": 153
    },
    "colab_type": "code",
    "executionInfo": {
     "elapsed": 1108,
     "status": "ok",
     "timestamp": 1535426511507,
     "user": {
      "displayName": "Sebastian Martins",
      "photoUrl": "https://lh3.googleusercontent.com/a/default-user=s128",
      "userId": "117958151698014091336"
     },
     "user_tz": 180
    },
    "id": "HlOrqVOhjQC_",
    "outputId": "fa43833f-3955-4c10-8e9e-1a6dc3d946d2"
   },
   "outputs": [
    {
     "data": {
      "text/plain": [
       "Pipeline(memory=Memory(cachedir='model/joblib'),\n",
       "     steps=[('zerocount', ZeroCount()), ('randomforestclassifier', RandomForestClassifier(bootstrap=True, class_weight=None, criterion='entropy',\n",
       "            max_depth=None, max_features=0.4, max_leaf_nodes=None,\n",
       "            min_impurity_decrease=0.0, min_impurity_split=None,\n",
       "            min_samples_leaf=12, min_samples_split=3,\n",
       "            min_weight_fraction_leaf=0.0, n_estimators=100, n_jobs=1,\n",
       "            oob_score=False, random_state=None, verbose=0,\n",
       "            warm_start=False))])"
      ]
     },
     "execution_count": 35,
     "metadata": {
      "tags": []
     },
     "output_type": "execute_result"
    }
   ],
   "source": [
    "tpot.fitted_pipeline_"
   ]
  },
  {
   "cell_type": "code",
   "execution_count": 0,
   "metadata": {
    "colab": {
     "base_uri": "https://localhost:8080/",
     "height": 153
    },
    "colab_type": "code",
    "executionInfo": {
     "elapsed": 1735,
     "status": "ok",
     "timestamp": 1535426711428,
     "user": {
      "displayName": "Sebastian Martins",
      "photoUrl": "https://lh3.googleusercontent.com/a/default-user=s128",
      "userId": "117958151698014091336"
     },
     "user_tz": 180
    },
    "id": "ANGTqKHF4SS_",
    "outputId": "986e7f63-9fb8-4369-99d7-22f80a96f217"
   },
   "outputs": [
    {
     "name": "stdout",
     "output_type": "stream",
     "text": [
      "4.1.b - Modelo (3m pred) - 9m tpot full dataset thebox - rocauc 0.90.py\r\n",
      "4.1 - Modelo (3m pred) - 9m tpot thebox - rocauc 0.90.pkl\r\n",
      "4.1 - Modelo (3m pred) - 9m tpot thebox - rocauc 0.90.py\r\n",
      "6m churn.csv\r\n",
      "9m churn.csv\r\n",
      "dataset 6m churn last m sample.csv\r\n",
      "model\r\n",
      "sample_data\r\n"
     ]
    }
   ],
   "source": [
    "tpot.export(\"4.1.b - Modelo (3m pred) - 9m tpot full dataset thebox - rocauc 0.90.py\")\n",
    "!ls"
   ]
  },
  {
   "cell_type": "code",
   "execution_count": 0,
   "metadata": {
    "colab": {},
    "colab_type": "code",
    "id": "_w_ks8B55MYc"
   },
   "outputs": [],
   "source": [
    "from google.colab import files\n",
    "\n",
    "files.download(\"4.1.b - Modelo (3m pred) - 9m tpot full dataset thebox - rocauc 0.90.py\")"
   ]
  },
  {
   "cell_type": "code",
   "execution_count": 0,
   "metadata": {
    "colab": {},
    "colab_type": "code",
    "id": "Al0mEskA5TgM"
   },
   "outputs": [],
   "source": [
    "from sklearn.externals import joblib"
   ]
  },
  {
   "cell_type": "markdown",
   "metadata": {
    "colab_type": "text",
    "id": "gk6G3gQP7a7m"
   },
   "source": [
    "## RANDOM FOREST MODEL"
   ]
  },
  {
   "cell_type": "markdown",
   "metadata": {
    "colab_type": "text",
    "id": "gR51b9l23oMZ"
   },
   "source": [
    "### Modelo 1 = equal weights"
   ]
  },
  {
   "cell_type": "code",
   "execution_count": 19,
   "metadata": {
    "colab": {
     "base_uri": "https://localhost:8080/",
     "height": 119
    },
    "colab_type": "code",
    "executionInfo": {
     "elapsed": 606,
     "status": "ok",
     "timestamp": 1536102965491,
     "user": {
      "displayName": "Sebastian Martins",
      "photoUrl": "https://lh3.googleusercontent.com/a/default-user=s128",
      "userId": "117958151698014091336"
     },
     "user_tz": 180
    },
    "id": "VOjYjrUk56Gb",
    "outputId": "69076d77-96e7-49c7-9be6-a1f26bf03c8c"
   },
   "outputs": [
    {
     "data": {
      "text/plain": [
       "RandomForestClassifier(bootstrap=True, class_weight=None, criterion='gini',\n",
       "            max_depth=None, max_features='auto', max_leaf_nodes=None,\n",
       "            min_impurity_decrease=0.0, min_impurity_split=None,\n",
       "            min_samples_leaf=1, min_samples_split=2,\n",
       "            min_weight_fraction_leaf=0.0, n_estimators=10, n_jobs=-1,\n",
       "            oob_score=False, random_state=42, verbose=0, warm_start=False)"
      ]
     },
     "execution_count": 19,
     "metadata": {},
     "output_type": "execute_result"
    }
   ],
   "source": [
    "from sklearn.ensemble import RandomForestClassifier\n",
    "# Create a random forest Classifier. By convention, clf means 'Classifier'\n",
    "clf = RandomForestClassifier(n_jobs=-1, random_state=RANDOM_STATE)\n",
    "clf\n"
   ]
  },
  {
   "cell_type": "code",
   "execution_count": 20,
   "metadata": {
    "colab": {
     "base_uri": "https://localhost:8080/",
     "height": 34
    },
    "colab_type": "code",
    "executionInfo": {
     "elapsed": 10790,
     "status": "ok",
     "timestamp": 1536102976957,
     "user": {
      "displayName": "Sebastian Martins",
      "photoUrl": "https://lh3.googleusercontent.com/a/default-user=s128",
      "userId": "117958151698014091336"
     },
     "user_tz": 180
    },
    "id": "NPOrVGA63uDo",
    "outputId": "95c53adf-75e6-439a-ddf2-b40ed42773f6"
   },
   "outputs": [
    {
     "data": {
      "text/plain": [
       "0.513727937863262"
      ]
     },
     "execution_count": 20,
     "metadata": {},
     "output_type": "execute_result"
    }
   ],
   "source": [
    "# Train the Classifier to take the training features and learn how they relate\n",
    "# to the training y (the species)\n",
    "clf.fit(X, y)\n",
    "\n",
    "y_pred = clf.predict(X_test)\n",
    "\n",
    "roc_auc_score(y_test, y_pred)"
   ]
  },
  {
   "cell_type": "code",
   "execution_count": 21,
   "metadata": {
    "colab": {
     "base_uri": "https://localhost:8080/",
     "height": 311
    },
    "colab_type": "code",
    "executionInfo": {
     "elapsed": 807,
     "status": "ok",
     "timestamp": 1536102978910,
     "user": {
      "displayName": "Sebastian Martins",
      "photoUrl": "https://lh3.googleusercontent.com/a/default-user=s128",
      "userId": "117958151698014091336"
     },
     "user_tz": 180
    },
    "id": "89wOsu3s3t6x",
    "outputId": "acbf51d1-e273-4cf3-f913-5d5fc1c7fbd0"
   },
   "outputs": [
    {
     "name": "stderr",
     "output_type": "stream",
     "text": [
      "/home/seba/anaconda3/lib/python3.6/site-packages/matplotlib/cbook/deprecation.py:107: MatplotlibDeprecationWarning: Passing one of 'on', 'true', 'off', 'false' as a boolean is deprecated; use an actual boolean (True/False) instead.\n",
      "  warnings.warn(message, mplDeprecation, stacklevel=1)\n"
     ]
    },
    {
     "data": {
      "text/plain": [
       "<matplotlib.axes._subplots.AxesSubplot at 0x7f7b8e4fe208>"
      ]
     },
     "execution_count": 21,
     "metadata": {},
     "output_type": "execute_result"
    },
    {
     "data": {
      "image/png": "[encoded data removed]",
      "text/plain": [
       "<Figure size 432x288 with 2 Axes>"
      ]
     },
     "metadata": {},
     "output_type": "display_data"
    }
   ],
   "source": [
    "import scikitplot as skplt\n",
    "skplt.metrics.plot_confusion_matrix(y_test, y_pred, normalize=True)"
   ]
  },
  {
   "cell_type": "markdown",
   "metadata": {
    "colab_type": "text",
    "id": "iTqeecop4bBI"
   },
   "source": [
    "#### Feature Importance"
   ]
  },
  {
   "cell_type": "code",
   "execution_count": 53,
   "metadata": {
    "colab": {
     "base_uri": "https://localhost:8080/",
     "height": 456
    },
    "colab_type": "code",
    "executionInfo": {
     "elapsed": 1215,
     "status": "ok",
     "timestamp": 1536103139901,
     "user": {
      "displayName": "Sebastian Martins",
      "photoUrl": "https://lh3.googleusercontent.com/a/default-user=s128",
      "userId": "117958151698014091336"
     },
     "user_tz": 180
    },
    "id": "oNxoh0gR4bBK",
    "outputId": "cdd0c12a-ef22-486d-d9fa-4f636eb36fec"
   },
   "outputs": [
    {
     "data": {
      "text/plain": [
       "(array([ 0,  1,  2,  3,  4,  5,  6,  7,  8,  9, 10, 11, 12, 13, 14, 15, 16,\n",
       "        17, 18, 19]), <a list of 20 Text xticklabel objects>)"
      ]
     },
     "execution_count": 53,
     "metadata": {
      "tags": []
     },
     "output_type": "execute_result"
    },
    {
     "data": {
      "image/png": "[encoded data removed]",
      "text/plain": [
       "<matplotlib.figure.Figure at 0x7f1ff7e905c0>"
      ]
     },
     "metadata": {
      "tags": []
     },
     "output_type": "display_data"
    }
   ],
   "source": [
    "import scikitplot as skplt\n",
    "\n",
    "skplt.estimators.plot_feature_importances(clf, feature_names=X.columns)\n",
    "plt.xticks(rotation=90)"
   ]
  },
  {
   "cell_type": "code",
   "execution_count": 0,
   "metadata": {
    "colab": {},
    "colab_type": "code",
    "id": "LDF5r4XX4bBR"
   },
   "outputs": [],
   "source": [
    "ypp = clf.predict_proba(X_test)"
   ]
  },
  {
   "cell_type": "code",
   "execution_count": 55,
   "metadata": {
    "colab": {
     "base_uri": "https://localhost:8080/",
     "height": 311
    },
    "colab_type": "code",
    "executionInfo": {
     "elapsed": 1033,
     "status": "ok",
     "timestamp": 1536103146767,
     "user": {
      "displayName": "Sebastian Martins",
      "photoUrl": "https://lh3.googleusercontent.com/a/default-user=s128",
      "userId": "117958151698014091336"
     },
     "user_tz": 180
    },
    "id": "6KMZTTZC4bBU",
    "outputId": "331506da-9ca8-4486-81f1-a6aed7ea452f"
   },
   "outputs": [
    {
     "data": {
      "text/plain": [
       "<matplotlib.axes._subplots.AxesSubplot at 0x7f1ff810cbe0>"
      ]
     },
     "execution_count": 55,
     "metadata": {
      "tags": []
     },
     "output_type": "execute_result"
    },
    {
     "data": {
      "image/png": "[encoded data removed]",
      "text/plain": [
       "<matplotlib.figure.Figure at 0x7f1ff82875c0>"
      ]
     },
     "metadata": {
      "tags": []
     },
     "output_type": "display_data"
    }
   ],
   "source": [
    "import scikitplot as skplt\n",
    "\n",
    "skplt.metrics.plot_roc(y_test, ypp)\n"
   ]
  },
  {
   "cell_type": "markdown",
   "metadata": {
    "colab_type": "text",
    "id": "6CNwSdX933po"
   },
   "source": [
    "### Modelo 2 = differential weights"
   ]
  },
  {
   "cell_type": "code",
   "execution_count": 22,
   "metadata": {
    "colab": {
     "base_uri": "https://localhost:8080/",
     "height": 136
    },
    "colab_type": "code",
    "executionInfo": {
     "elapsed": 650,
     "status": "ok",
     "timestamp": 1536104411119,
     "user": {
      "displayName": "Sebastian Martins",
      "photoUrl": "https://lh3.googleusercontent.com/a/default-user=s128",
      "userId": "117958151698014091336"
     },
     "user_tz": 180
    },
    "id": "4EC5okMd3B_T",
    "outputId": "eb282b7d-c12d-4e74-f963-f7d1c68dfe35"
   },
   "outputs": [
    {
     "data": {
      "text/plain": [
       "RandomForestClassifier(bootstrap=True, class_weight={0: 1, 1: 15},\n",
       "            criterion='gini', max_depth=None, max_features='auto',\n",
       "            max_leaf_nodes=None, min_impurity_decrease=0.0,\n",
       "            min_impurity_split=None, min_samples_leaf=1,\n",
       "            min_samples_split=2, min_weight_fraction_leaf=0.0,\n",
       "            n_estimators=10, n_jobs=-1, oob_score=False, random_state=42,\n",
       "            verbose=0, warm_start=False)"
      ]
     },
     "execution_count": 22,
     "metadata": {},
     "output_type": "execute_result"
    }
   ],
   "source": [
    "class_weight = dict({0:1, 1:15})\n",
    "\n",
    "clf_w = RandomForestClassifier(class_weight=class_weight, n_jobs=-1, random_state=RANDOM_STATE)\n",
    "clf_w"
   ]
  },
  {
   "cell_type": "code",
   "execution_count": 23,
   "metadata": {
    "colab": {
     "base_uri": "https://localhost:8080/",
     "height": 34
    },
    "colab_type": "code",
    "executionInfo": {
     "elapsed": 9355,
     "status": "ok",
     "timestamp": 1536104420692,
     "user": {
      "displayName": "Sebastian Martins",
      "photoUrl": "https://lh3.googleusercontent.com/a/default-user=s128",
      "userId": "117958151698014091336"
     },
     "user_tz": 180
    },
    "id": "-taWqv3G2ZAV",
    "outputId": "479ee102-4399-49e7-ff24-e6517d2fb6f8"
   },
   "outputs": [
    {
     "data": {
      "text/plain": [
       "0.8545529615871194"
      ]
     },
     "execution_count": 23,
     "metadata": {},
     "output_type": "execute_result"
    }
   ],
   "source": [
    "# Train the Classifier to take the training features and learn how they relate\n",
    "# to the training y (the species)\n",
    "clf_w.fit(X, y)\n",
    "\n",
    "y_pred_w = clf_w.predict(X_test)\n",
    "\n",
    "roc_auc_score(y_test, y_pred_w)"
   ]
  },
  {
   "cell_type": "code",
   "execution_count": 24,
   "metadata": {
    "colab": {
     "base_uri": "https://localhost:8080/",
     "height": 311
    },
    "colab_type": "code",
    "executionInfo": {
     "elapsed": 953,
     "status": "ok",
     "timestamp": 1536104421701,
     "user": {
      "displayName": "Sebastian Martins",
      "photoUrl": "https://lh3.googleusercontent.com/a/default-user=s128",
      "userId": "117958151698014091336"
     },
     "user_tz": 180
    },
    "id": "OK_kONqw5-U6",
    "outputId": "c4117944-dbf1-42ef-e7cc-ab33b5c96a31"
   },
   "outputs": [
    {
     "name": "stderr",
     "output_type": "stream",
     "text": [
      "/home/seba/anaconda3/lib/python3.6/site-packages/matplotlib/cbook/deprecation.py:107: MatplotlibDeprecationWarning: Passing one of 'on', 'true', 'off', 'false' as a boolean is deprecated; use an actual boolean (True/False) instead.\n",
      "  warnings.warn(message, mplDeprecation, stacklevel=1)\n"
     ]
    },
    {
     "data": {
      "text/plain": [
       "<matplotlib.axes._subplots.AxesSubplot at 0x7f7b8eb2c320>"
      ]
     },
     "execution_count": 24,
     "metadata": {},
     "output_type": "execute_result"
    },
    {
     "data": {
      "image/png": "[encoded data removed]",
      "text/plain": [
       "<Figure size 432x288 with 2 Axes>"
      ]
     },
     "metadata": {},
     "output_type": "display_data"
    }
   ],
   "source": [
    "import scikitplot as skplt\n",
    "skplt.metrics.plot_confusion_matrix(y_test, y_pred_w, normalize=True)"
   ]
  },
  {
   "cell_type": "code",
   "execution_count": 25,
   "metadata": {
    "colab": {
     "base_uri": "https://localhost:8080/",
     "height": 311
    },
    "colab_type": "code",
    "executionInfo": {
     "elapsed": 1021,
     "status": "ok",
     "timestamp": 1536104422829,
     "user": {
      "displayName": "Sebastian Martins",
      "photoUrl": "https://lh3.googleusercontent.com/a/default-user=s128",
      "userId": "117958151698014091336"
     },
     "user_tz": 180
    },
    "id": "lgQfH1SS9FFc",
    "outputId": "0b5d05ab-8895-4fd7-c56a-2c5edbab10e0"
   },
   "outputs": [
    {
     "name": "stderr",
     "output_type": "stream",
     "text": [
      "/home/seba/anaconda3/lib/python3.6/site-packages/matplotlib/cbook/deprecation.py:107: MatplotlibDeprecationWarning: Passing one of 'on', 'true', 'off', 'false' as a boolean is deprecated; use an actual boolean (True/False) instead.\n",
      "  warnings.warn(message, mplDeprecation, stacklevel=1)\n"
     ]
    },
    {
     "data": {
      "text/plain": [
       "<matplotlib.axes._subplots.AxesSubplot at 0x7f7b8ea273c8>"
      ]
     },
     "execution_count": 25,
     "metadata": {},
     "output_type": "execute_result"
    },
    {
     "data": {
      "image/png": "[encoded data removed]",
      "text/plain": [
       "<Figure size 432x288 with 2 Axes>"
      ]
     },
     "metadata": {},
     "output_type": "display_data"
    }
   ],
   "source": [
    "skplt.metrics.plot_confusion_matrix(y_test, y_pred_w, normalize=0)"
   ]
  },
  {
   "cell_type": "markdown",
   "metadata": {
    "colab_type": "text",
    "id": "QnYKcZDj98Px"
   },
   "source": [
    "### Optimización de modelo"
   ]
  },
  {
   "cell_type": "code",
   "execution_count": 85,
   "metadata": {
    "colab": {
     "base_uri": "https://localhost:8080/",
     "height": 207
    },
    "colab_type": "code",
    "executionInfo": {
     "elapsed": 675,
     "status": "ok",
     "timestamp": 1536104828276,
     "user": {
      "displayName": "Sebastian Martins",
      "photoUrl": "https://lh3.googleusercontent.com/a/default-user=s128",
      "userId": "117958151698014091336"
     },
     "user_tz": 180
    },
    "id": "cMu9kLR898pQ",
    "outputId": "77882915-57ea-4e2e-fdb4-aec819caddd7"
   },
   "outputs": [
    {
     "data": {
      "text/plain": [
       "GridSearchCV(cv=5, error_score='raise',\n",
       "       estimator=Pipeline(memory=None,\n",
       "     steps=[('scl', StandardScaler(copy=True, with_mean=True, with_std=True)), ('clf', RandomForestClassifier(bootstrap=True, class_weight=None, criterion='gini',\n",
       "            max_depth=None, max_features='auto', max_leaf_nodes=None,\n",
       "            min_impurity_decrease=0...timators=10, n_jobs=1,\n",
       "            oob_score=False, random_state=42, verbose=0, warm_start=False))]),\n",
       "       fit_params=None, iid=True, n_jobs=-1,\n",
       "       param_grid=[{'clf__criterion': ['gini', 'entropy'], 'clf__min_samples_leaf': [1, 2, 3, 4, 5, 6, 7, 8, 9, 10], 'clf__max_depth': [1, 2, 3, 4, 5, 6, 7, 8, 9, 10], 'clf__min_samples_split': [2, 3, 4, 5, 6, 7, 8, 9, 10], 'class_weight': [{0: 1, 1: 5}, {0: 1, 1: 10}, {0: 1, 1: 15}, {0: 1, 1: 20}]}],\n",
       "       pre_dispatch='2*n_jobs', refit=True, return_train_score='warn',\n",
       "       scoring='roc_auc', verbose=0)"
      ]
     },
     "execution_count": 85,
     "metadata": {
      "tags": []
     },
     "output_type": "execute_result"
    }
   ],
   "source": [
    "from sklearn.preprocessing import StandardScaler\n",
    "from sklearn.pipeline import Pipeline\n",
    "from sklearn.model_selection import GridSearchCV\n",
    "from sklearn.externals import joblib\n",
    "\n",
    "param_range = [1, 2, 3, 4, 5, 6, 7, 8, 9, 10]\n",
    "param_range_fl = [1.0, 0.5, 0.1]\n",
    "class_weight_range = [{0:1, 1:5},{0:1, 1:10},{0:1, 1:15},{0:1, 1:20}]\n",
    "#param_range_fl = np.power(10., np.arange(-4, 4))\n",
    "\n",
    "grid_params_rf = [{'clf__criterion': ['gini', 'entropy'],\n",
    "\t\t'clf__min_samples_leaf': param_range,\n",
    "\t\t'clf__max_depth': param_range,\n",
    "\t\t'clf__min_samples_split': param_range[1:],\n",
    "    'class_weight' : class_weight_range}]\n",
    "\n",
    "pipe_rf = Pipeline([('scl', StandardScaler()),\n",
    "\t\t\t('clf', RandomForestClassifier(random_state=RANDOM_STATE))])\n",
    "\n",
    "# Construct grid searches\n",
    "jobs = -1\n",
    "metric = \"roc_auc\"\n",
    "cv = 5\n",
    "\n",
    "#refit=True, entrena el mejor modelo obtenido con todo el dataset! :D\n",
    "#verbose => mientras mayor el número, más info va mostrando.\n",
    "gs_rf = GridSearchCV(estimator=pipe_rf,\n",
    "\t\t\tparam_grid=grid_params_rf,\n",
    "\t\t\tscoring=metric,\n",
    "      refit=True,\n",
    "\t\t\tcv=cv, \n",
    "\t\t\tn_jobs=jobs)\n",
    "gs_rf"
   ]
  },
  {
   "cell_type": "code",
   "execution_count": 0,
   "metadata": {
    "colab": {},
    "colab_type": "code",
    "id": "nxyBc6Lu-4pV"
   },
   "outputs": [],
   "source": [
    "# Fit grid search\t\n",
    "gs_rf.fit(X_train, y_train)\n",
    "# Best params\n",
    "print('Best params: %s' % gs_rf.best_params_)\n",
    "# Best training data roc auc\n",
    "print('Best training roc auc: %.3f' % gs_rf.best_score_)\n",
    "# Predict on test data with best params\n",
    "y_pred_gs_rf = gs_rf.predict(X_test)\n",
    "# Test data roc auc of model with best params\n",
    "print('Test set roc auc score for best params: %.3f ' % roc_auc_score(y_test, y_pred_gs_rf))"
   ]
  },
  {
   "cell_type": "code",
   "execution_count": 0,
   "metadata": {
    "colab": {},
    "colab_type": "code",
    "id": "EDknfmO0-0Vw"
   },
   "outputs": [],
   "source": []
  },
  {
   "cell_type": "markdown",
   "metadata": {
    "colab_type": "text",
    "id": "Y9smAw9zp00S"
   },
   "source": [
    "#### Feature Importance"
   ]
  },
  {
   "cell_type": "code",
   "execution_count": 62,
   "metadata": {
    "colab": {
     "base_uri": "https://localhost:8080/",
     "height": 445
    },
    "colab_type": "code",
    "executionInfo": {
     "elapsed": 1034,
     "status": "ok",
     "timestamp": 1536103314236,
     "user": {
      "displayName": "Sebastian Martins",
      "photoUrl": "https://lh3.googleusercontent.com/a/default-user=s128",
      "userId": "117958151698014091336"
     },
     "user_tz": 180
    },
    "id": "rHRjEELYpzGc",
    "outputId": "b5cd4439-83e3-4573-a5f7-46fd77f5a5e7"
   },
   "outputs": [
    {
     "data": {
      "text/plain": [
       "(array([ 0,  1,  2,  3,  4,  5,  6,  7,  8,  9, 10, 11, 12, 13, 14, 15, 16,\n",
       "        17, 18, 19]), <a list of 20 Text xticklabel objects>)"
      ]
     },
     "execution_count": 62,
     "metadata": {
      "tags": []
     },
     "output_type": "execute_result"
    },
    {
     "data": {
      "image/png": "[encoded data removed]",
      "text/plain": [
       "<matplotlib.figure.Figure at 0x7f1ff7bca5c0>"
      ]
     },
     "metadata": {
      "tags": []
     },
     "output_type": "display_data"
    }
   ],
   "source": [
    "import scikitplot as skplt\n",
    "\n",
    "skplt.estimators.plot_feature_importances(clf_w, feature_names=X.columns)\n",
    "plt.xticks(rotation=90)"
   ]
  },
  {
   "cell_type": "code",
   "execution_count": 0,
   "metadata": {
    "colab": {},
    "colab_type": "code",
    "id": "Ye9ysSpI8h2e"
   },
   "outputs": [],
   "source": [
    "ypp_w = clf_w.predict_proba(X_test)"
   ]
  },
  {
   "cell_type": "code",
   "execution_count": 58,
   "metadata": {
    "colab": {
     "base_uri": "https://localhost:8080/",
     "height": 311
    },
    "colab_type": "code",
    "executionInfo": {
     "elapsed": 970,
     "status": "ok",
     "timestamp": 1536103185538,
     "user": {
      "displayName": "Sebastian Martins",
      "photoUrl": "https://lh3.googleusercontent.com/a/default-user=s128",
      "userId": "117958151698014091336"
     },
     "user_tz": 180
    },
    "id": "6cJXELdQmk36",
    "outputId": "915507e0-4b79-4515-c7d5-37178f2d5055"
   },
   "outputs": [
    {
     "data": {
      "text/plain": [
       "<matplotlib.axes._subplots.AxesSubplot at 0x7f1ff86c95f8>"
      ]
     },
     "execution_count": 58,
     "metadata": {
      "tags": []
     },
     "output_type": "execute_result"
    },
    {
     "data": {
      "image/png": "[encoded data removed]",
      "text/plain": [
       "<matplotlib.figure.Figure at 0x7f1ff86cdc88>"
      ]
     },
     "metadata": {
      "tags": []
     },
     "output_type": "display_data"
    }
   ],
   "source": [
    "import scikitplot as skplt\n",
    "\n",
    "skplt.metrics.plot_roc(y_test, ypp_w)\n"
   ]
  },
  {
   "cell_type": "markdown",
   "metadata": {
    "colab_type": "text",
    "id": "EW8jk4Lj5a9n"
   },
   "source": [
    "#### Ver como son los registros que predice True churn"
   ]
  },
  {
   "cell_type": "code",
   "execution_count": 26,
   "metadata": {
    "colab": {
     "base_uri": "https://localhost:8080/",
     "height": 1054
    },
    "colab_type": "code",
    "executionInfo": {
     "elapsed": 634,
     "status": "ok",
     "timestamp": 1536103821032,
     "user": {
      "displayName": "Sebastian Martins",
      "photoUrl": "https://lh3.googleusercontent.com/a/default-user=s128",
      "userId": "117958151698014091336"
     },
     "user_tz": 180
    },
    "id": "DVy-_3hS5bgg",
    "outputId": "fa8364e9-9ee7-4ef8-edd7-fb342f3ca1fc"
   },
   "outputs": [
    {
     "name": "stdout",
     "output_type": "stream",
     "text": [
      "<class 'pandas.core.frame.DataFrame'>\n",
      "Int64Index: 110268 entries, 16136 to 473258\n",
      "Data columns (total 56 columns):\n",
      "9 meses                           110268 non-null uint8\n",
      "8 meses                           110268 non-null uint8\n",
      "7 meses                           110268 non-null uint8\n",
      "6 meses                           110268 non-null uint8\n",
      "5 meses                           110268 non-null uint8\n",
      "4 meses                           110268 non-null uint8\n",
      "GENDER_F                          110268 non-null uint8\n",
      "GENDER_M                          110268 non-null uint8\n",
      "MARITAL_STATUS_Casado             110268 non-null uint8\n",
      "MARITAL_STATUS_Conviv             110268 non-null uint8\n",
      "MARITAL_STATUS_Divorciado         110268 non-null uint8\n",
      "MARITAL_STATUS_No Corresp         110268 non-null uint8\n",
      "MARITAL_STATUS_Separado           110268 non-null uint8\n",
      "MARITAL_STATUS_Soltero            110268 non-null uint8\n",
      "MARITAL_STATUS_Union Civ          110268 non-null uint8\n",
      "MARITAL_STATUS_Viudo              110268 non-null uint8\n",
      "EDUCATION_N                       110268 non-null uint8\n",
      "EDUCATION_S                       110268 non-null uint8\n",
      "EDUCATION_LEVEL_PRIMARIO          110268 non-null uint8\n",
      "EDUCATION_LEVEL_SECUNDARIO        110268 non-null uint8\n",
      "EDUCATION_LEVEL_TERCIARIO         110268 non-null uint8\n",
      "EDUCATION_LEVEL_UNIVERSITARIO     110268 non-null uint8\n",
      "CITY_ANTARTIDA E ISLAS DEL SUR    110268 non-null uint8\n",
      "CITY_BUENOS AIRES                 110268 non-null uint8\n",
      "CITY_CAPITAL FEDERAL              110268 non-null uint8\n",
      "CITY_CATAMARCA                    110268 non-null uint8\n",
      "CITY_CHACO                        110268 non-null uint8\n",
      "CITY_CHUBUT                       110268 non-null uint8\n",
      "CITY_CORDOBA                      110268 non-null uint8\n",
      "CITY_CORRIENTES                   110268 non-null uint8\n",
      "CITY_ENTRE RIOS                   110268 non-null uint8\n",
      "CITY_FORMOSA                      110268 non-null uint8\n",
      "CITY_JUJUY                        110268 non-null uint8\n",
      "CITY_LA PAMPA                     110268 non-null uint8\n",
      "CITY_LA RIOJA                     110268 non-null uint8\n",
      "CITY_MENDOZA                      110268 non-null uint8\n",
      "CITY_MISIONES                     110268 non-null uint8\n",
      "CITY_NEUQUEN                      110268 non-null uint8\n",
      "CITY_RIO NEGRO                    110268 non-null uint8\n",
      "CITY_SALTA                        110268 non-null uint8\n",
      "CITY_SAN JUAN                     110268 non-null uint8\n",
      "CITY_SAN LUIS                     110268 non-null uint8\n",
      "CITY_SANTA CRUZ                   110268 non-null uint8\n",
      "CITY_SANTA FE                     110268 non-null uint8\n",
      "CITY_SANTIAGO DEL ESTERO          110268 non-null uint8\n",
      "CITY_TIERRA DEL FUEGO             110268 non-null uint8\n",
      "CITY_TUCUMAN                      110268 non-null uint8\n",
      "ModoPago_BA                       110268 non-null uint8\n",
      "ModoPago_CC                       110268 non-null uint8\n",
      "ModoPago_Mix                      110268 non-null uint8\n",
      "ModoPago_PP                       110268 non-null uint8\n",
      "ModoPago_SJ                       110268 non-null uint8\n",
      "ModoPago_TA                       110268 non-null uint8\n",
      "ModoPago_TM                       110268 non-null uint8\n",
      "Churn                             110268 non-null int64\n",
      "pred                              110268 non-null int64\n",
      "dtypes: int64(2), uint8(54)\n",
      "memory usage: 8.2 MB\n"
     ]
    }
   ],
   "source": [
    "df_int = X_test.copy(deep=True)\n",
    "df_int[\"Churn\"] =  y_test\n",
    "df_int[\"pred\"] = y_pred_w\n",
    "df_int.info()"
   ]
  },
  {
   "cell_type": "code",
   "execution_count": 28,
   "metadata": {
    "colab": {
     "base_uri": "https://localhost:8080/",
     "height": 2006
    },
    "colab_type": "code",
    "executionInfo": {
     "elapsed": 583,
     "status": "ok",
     "timestamp": 1536103857118,
     "user": {
      "displayName": "Sebastian Martins",
      "photoUrl": "https://lh3.googleusercontent.com/a/default-user=s128",
      "userId": "117958151698014091336"
     },
     "user_tz": 180
    },
    "id": "As2dEeN26rRJ",
    "outputId": "f9c72277-c32b-4920-9878-77a992a4f9f1"
   },
   "outputs": [
    {
     "data": {
      "text/html": [
       "<div>\n",
       "<style scoped>\n",
       "    .dataframe tbody tr th:only-of-type {\n",
       "        vertical-align: middle;\n",
       "    }\n",
       "\n",
       "    .dataframe tbody tr th {\n",
       "        vertical-align: top;\n",
       "    }\n",
       "\n",
       "    .dataframe thead th {\n",
       "        text-align: right;\n",
       "    }\n",
       "</style>\n",
       "<table border=\"1\" class=\"dataframe\">\n",
       "  <thead>\n",
       "    <tr style=\"text-align: right;\">\n",
       "      <th></th>\n",
       "      <th>9 meses</th>\n",
       "      <th>8 meses</th>\n",
       "      <th>7 meses</th>\n",
       "      <th>6 meses</th>\n",
       "      <th>5 meses</th>\n",
       "      <th>4 meses</th>\n",
       "      <th>GENDER_F</th>\n",
       "      <th>GENDER_M</th>\n",
       "      <th>MARITAL_STATUS_Casado</th>\n",
       "      <th>MARITAL_STATUS_Conviv</th>\n",
       "      <th>...</th>\n",
       "      <th>CITY_TUCUMAN</th>\n",
       "      <th>ModoPago_BA</th>\n",
       "      <th>ModoPago_CC</th>\n",
       "      <th>ModoPago_Mix</th>\n",
       "      <th>ModoPago_PP</th>\n",
       "      <th>ModoPago_SJ</th>\n",
       "      <th>ModoPago_TA</th>\n",
       "      <th>ModoPago_TM</th>\n",
       "      <th>Churn</th>\n",
       "      <th>pred</th>\n",
       "    </tr>\n",
       "  </thead>\n",
       "  <tbody>\n",
       "    <tr>\n",
       "      <th>525216</th>\n",
       "      <td>1</td>\n",
       "      <td>1</td>\n",
       "      <td>1</td>\n",
       "      <td>1</td>\n",
       "      <td>1</td>\n",
       "      <td>1</td>\n",
       "      <td>0</td>\n",
       "      <td>1</td>\n",
       "      <td>1</td>\n",
       "      <td>0</td>\n",
       "      <td>...</td>\n",
       "      <td>0</td>\n",
       "      <td>1</td>\n",
       "      <td>0</td>\n",
       "      <td>0</td>\n",
       "      <td>0</td>\n",
       "      <td>0</td>\n",
       "      <td>0</td>\n",
       "      <td>0</td>\n",
       "      <td>1</td>\n",
       "      <td>1</td>\n",
       "    </tr>\n",
       "    <tr>\n",
       "      <th>207048</th>\n",
       "      <td>1</td>\n",
       "      <td>1</td>\n",
       "      <td>1</td>\n",
       "      <td>1</td>\n",
       "      <td>1</td>\n",
       "      <td>1</td>\n",
       "      <td>1</td>\n",
       "      <td>0</td>\n",
       "      <td>0</td>\n",
       "      <td>0</td>\n",
       "      <td>...</td>\n",
       "      <td>0</td>\n",
       "      <td>0</td>\n",
       "      <td>1</td>\n",
       "      <td>0</td>\n",
       "      <td>0</td>\n",
       "      <td>0</td>\n",
       "      <td>0</td>\n",
       "      <td>0</td>\n",
       "      <td>1</td>\n",
       "      <td>1</td>\n",
       "    </tr>\n",
       "    <tr>\n",
       "      <th>803630</th>\n",
       "      <td>1</td>\n",
       "      <td>1</td>\n",
       "      <td>1</td>\n",
       "      <td>1</td>\n",
       "      <td>1</td>\n",
       "      <td>1</td>\n",
       "      <td>0</td>\n",
       "      <td>1</td>\n",
       "      <td>1</td>\n",
       "      <td>0</td>\n",
       "      <td>...</td>\n",
       "      <td>0</td>\n",
       "      <td>0</td>\n",
       "      <td>0</td>\n",
       "      <td>1</td>\n",
       "      <td>0</td>\n",
       "      <td>0</td>\n",
       "      <td>0</td>\n",
       "      <td>0</td>\n",
       "      <td>1</td>\n",
       "      <td>1</td>\n",
       "    </tr>\n",
       "    <tr>\n",
       "      <th>281754</th>\n",
       "      <td>0</td>\n",
       "      <td>1</td>\n",
       "      <td>1</td>\n",
       "      <td>1</td>\n",
       "      <td>1</td>\n",
       "      <td>1</td>\n",
       "      <td>0</td>\n",
       "      <td>1</td>\n",
       "      <td>0</td>\n",
       "      <td>0</td>\n",
       "      <td>...</td>\n",
       "      <td>0</td>\n",
       "      <td>0</td>\n",
       "      <td>0</td>\n",
       "      <td>1</td>\n",
       "      <td>0</td>\n",
       "      <td>0</td>\n",
       "      <td>0</td>\n",
       "      <td>0</td>\n",
       "      <td>1</td>\n",
       "      <td>0</td>\n",
       "    </tr>\n",
       "    <tr>\n",
       "      <th>680513</th>\n",
       "      <td>1</td>\n",
       "      <td>1</td>\n",
       "      <td>1</td>\n",
       "      <td>1</td>\n",
       "      <td>1</td>\n",
       "      <td>1</td>\n",
       "      <td>1</td>\n",
       "      <td>0</td>\n",
       "      <td>1</td>\n",
       "      <td>0</td>\n",
       "      <td>...</td>\n",
       "      <td>0</td>\n",
       "      <td>0</td>\n",
       "      <td>0</td>\n",
       "      <td>1</td>\n",
       "      <td>0</td>\n",
       "      <td>0</td>\n",
       "      <td>0</td>\n",
       "      <td>0</td>\n",
       "      <td>1</td>\n",
       "      <td>1</td>\n",
       "    </tr>\n",
       "    <tr>\n",
       "      <th>607822</th>\n",
       "      <td>1</td>\n",
       "      <td>1</td>\n",
       "      <td>1</td>\n",
       "      <td>1</td>\n",
       "      <td>1</td>\n",
       "      <td>1</td>\n",
       "      <td>0</td>\n",
       "      <td>1</td>\n",
       "      <td>0</td>\n",
       "      <td>0</td>\n",
       "      <td>...</td>\n",
       "      <td>0</td>\n",
       "      <td>0</td>\n",
       "      <td>0</td>\n",
       "      <td>0</td>\n",
       "      <td>0</td>\n",
       "      <td>0</td>\n",
       "      <td>0</td>\n",
       "      <td>1</td>\n",
       "      <td>1</td>\n",
       "      <td>1</td>\n",
       "    </tr>\n",
       "    <tr>\n",
       "      <th>696679</th>\n",
       "      <td>1</td>\n",
       "      <td>1</td>\n",
       "      <td>1</td>\n",
       "      <td>1</td>\n",
       "      <td>1</td>\n",
       "      <td>1</td>\n",
       "      <td>0</td>\n",
       "      <td>1</td>\n",
       "      <td>0</td>\n",
       "      <td>0</td>\n",
       "      <td>...</td>\n",
       "      <td>0</td>\n",
       "      <td>0</td>\n",
       "      <td>0</td>\n",
       "      <td>1</td>\n",
       "      <td>0</td>\n",
       "      <td>0</td>\n",
       "      <td>0</td>\n",
       "      <td>0</td>\n",
       "      <td>1</td>\n",
       "      <td>1</td>\n",
       "    </tr>\n",
       "    <tr>\n",
       "      <th>795158</th>\n",
       "      <td>0</td>\n",
       "      <td>1</td>\n",
       "      <td>1</td>\n",
       "      <td>1</td>\n",
       "      <td>1</td>\n",
       "      <td>1</td>\n",
       "      <td>0</td>\n",
       "      <td>1</td>\n",
       "      <td>1</td>\n",
       "      <td>0</td>\n",
       "      <td>...</td>\n",
       "      <td>0</td>\n",
       "      <td>0</td>\n",
       "      <td>0</td>\n",
       "      <td>1</td>\n",
       "      <td>0</td>\n",
       "      <td>0</td>\n",
       "      <td>0</td>\n",
       "      <td>0</td>\n",
       "      <td>1</td>\n",
       "      <td>0</td>\n",
       "    </tr>\n",
       "    <tr>\n",
       "      <th>156489</th>\n",
       "      <td>1</td>\n",
       "      <td>1</td>\n",
       "      <td>1</td>\n",
       "      <td>1</td>\n",
       "      <td>1</td>\n",
       "      <td>1</td>\n",
       "      <td>0</td>\n",
       "      <td>1</td>\n",
       "      <td>0</td>\n",
       "      <td>0</td>\n",
       "      <td>...</td>\n",
       "      <td>0</td>\n",
       "      <td>0</td>\n",
       "      <td>1</td>\n",
       "      <td>0</td>\n",
       "      <td>0</td>\n",
       "      <td>0</td>\n",
       "      <td>0</td>\n",
       "      <td>0</td>\n",
       "      <td>1</td>\n",
       "      <td>1</td>\n",
       "    </tr>\n",
       "    <tr>\n",
       "      <th>645069</th>\n",
       "      <td>1</td>\n",
       "      <td>1</td>\n",
       "      <td>1</td>\n",
       "      <td>1</td>\n",
       "      <td>1</td>\n",
       "      <td>1</td>\n",
       "      <td>1</td>\n",
       "      <td>0</td>\n",
       "      <td>1</td>\n",
       "      <td>0</td>\n",
       "      <td>...</td>\n",
       "      <td>0</td>\n",
       "      <td>0</td>\n",
       "      <td>0</td>\n",
       "      <td>1</td>\n",
       "      <td>0</td>\n",
       "      <td>0</td>\n",
       "      <td>0</td>\n",
       "      <td>0</td>\n",
       "      <td>1</td>\n",
       "      <td>1</td>\n",
       "    </tr>\n",
       "    <tr>\n",
       "      <th>510292</th>\n",
       "      <td>1</td>\n",
       "      <td>1</td>\n",
       "      <td>1</td>\n",
       "      <td>1</td>\n",
       "      <td>1</td>\n",
       "      <td>1</td>\n",
       "      <td>0</td>\n",
       "      <td>1</td>\n",
       "      <td>0</td>\n",
       "      <td>0</td>\n",
       "      <td>...</td>\n",
       "      <td>0</td>\n",
       "      <td>0</td>\n",
       "      <td>0</td>\n",
       "      <td>1</td>\n",
       "      <td>0</td>\n",
       "      <td>0</td>\n",
       "      <td>0</td>\n",
       "      <td>0</td>\n",
       "      <td>1</td>\n",
       "      <td>1</td>\n",
       "    </tr>\n",
       "    <tr>\n",
       "      <th>216090</th>\n",
       "      <td>1</td>\n",
       "      <td>1</td>\n",
       "      <td>1</td>\n",
       "      <td>1</td>\n",
       "      <td>1</td>\n",
       "      <td>1</td>\n",
       "      <td>0</td>\n",
       "      <td>1</td>\n",
       "      <td>1</td>\n",
       "      <td>0</td>\n",
       "      <td>...</td>\n",
       "      <td>0</td>\n",
       "      <td>0</td>\n",
       "      <td>0</td>\n",
       "      <td>1</td>\n",
       "      <td>0</td>\n",
       "      <td>0</td>\n",
       "      <td>0</td>\n",
       "      <td>0</td>\n",
       "      <td>1</td>\n",
       "      <td>1</td>\n",
       "    </tr>\n",
       "    <tr>\n",
       "      <th>258822</th>\n",
       "      <td>1</td>\n",
       "      <td>1</td>\n",
       "      <td>1</td>\n",
       "      <td>1</td>\n",
       "      <td>1</td>\n",
       "      <td>1</td>\n",
       "      <td>0</td>\n",
       "      <td>1</td>\n",
       "      <td>1</td>\n",
       "      <td>0</td>\n",
       "      <td>...</td>\n",
       "      <td>0</td>\n",
       "      <td>0</td>\n",
       "      <td>0</td>\n",
       "      <td>1</td>\n",
       "      <td>0</td>\n",
       "      <td>0</td>\n",
       "      <td>0</td>\n",
       "      <td>0</td>\n",
       "      <td>1</td>\n",
       "      <td>1</td>\n",
       "    </tr>\n",
       "    <tr>\n",
       "      <th>804743</th>\n",
       "      <td>1</td>\n",
       "      <td>1</td>\n",
       "      <td>1</td>\n",
       "      <td>1</td>\n",
       "      <td>1</td>\n",
       "      <td>1</td>\n",
       "      <td>1</td>\n",
       "      <td>0</td>\n",
       "      <td>1</td>\n",
       "      <td>0</td>\n",
       "      <td>...</td>\n",
       "      <td>0</td>\n",
       "      <td>0</td>\n",
       "      <td>0</td>\n",
       "      <td>0</td>\n",
       "      <td>0</td>\n",
       "      <td>0</td>\n",
       "      <td>0</td>\n",
       "      <td>1</td>\n",
       "      <td>1</td>\n",
       "      <td>1</td>\n",
       "    </tr>\n",
       "    <tr>\n",
       "      <th>536404</th>\n",
       "      <td>0</td>\n",
       "      <td>1</td>\n",
       "      <td>1</td>\n",
       "      <td>1</td>\n",
       "      <td>1</td>\n",
       "      <td>1</td>\n",
       "      <td>0</td>\n",
       "      <td>1</td>\n",
       "      <td>0</td>\n",
       "      <td>0</td>\n",
       "      <td>...</td>\n",
       "      <td>0</td>\n",
       "      <td>0</td>\n",
       "      <td>0</td>\n",
       "      <td>1</td>\n",
       "      <td>0</td>\n",
       "      <td>0</td>\n",
       "      <td>0</td>\n",
       "      <td>0</td>\n",
       "      <td>1</td>\n",
       "      <td>0</td>\n",
       "    </tr>\n",
       "    <tr>\n",
       "      <th>667443</th>\n",
       "      <td>1</td>\n",
       "      <td>1</td>\n",
       "      <td>1</td>\n",
       "      <td>1</td>\n",
       "      <td>1</td>\n",
       "      <td>1</td>\n",
       "      <td>0</td>\n",
       "      <td>1</td>\n",
       "      <td>1</td>\n",
       "      <td>0</td>\n",
       "      <td>...</td>\n",
       "      <td>0</td>\n",
       "      <td>0</td>\n",
       "      <td>1</td>\n",
       "      <td>0</td>\n",
       "      <td>0</td>\n",
       "      <td>0</td>\n",
       "      <td>0</td>\n",
       "      <td>0</td>\n",
       "      <td>1</td>\n",
       "      <td>1</td>\n",
       "    </tr>\n",
       "    <tr>\n",
       "      <th>385298</th>\n",
       "      <td>1</td>\n",
       "      <td>1</td>\n",
       "      <td>1</td>\n",
       "      <td>1</td>\n",
       "      <td>1</td>\n",
       "      <td>1</td>\n",
       "      <td>1</td>\n",
       "      <td>0</td>\n",
       "      <td>0</td>\n",
       "      <td>0</td>\n",
       "      <td>...</td>\n",
       "      <td>0</td>\n",
       "      <td>0</td>\n",
       "      <td>0</td>\n",
       "      <td>1</td>\n",
       "      <td>0</td>\n",
       "      <td>0</td>\n",
       "      <td>0</td>\n",
       "      <td>0</td>\n",
       "      <td>1</td>\n",
       "      <td>1</td>\n",
       "    </tr>\n",
       "    <tr>\n",
       "      <th>815498</th>\n",
       "      <td>1</td>\n",
       "      <td>1</td>\n",
       "      <td>1</td>\n",
       "      <td>1</td>\n",
       "      <td>1</td>\n",
       "      <td>1</td>\n",
       "      <td>0</td>\n",
       "      <td>1</td>\n",
       "      <td>1</td>\n",
       "      <td>0</td>\n",
       "      <td>...</td>\n",
       "      <td>0</td>\n",
       "      <td>0</td>\n",
       "      <td>0</td>\n",
       "      <td>1</td>\n",
       "      <td>0</td>\n",
       "      <td>0</td>\n",
       "      <td>0</td>\n",
       "      <td>0</td>\n",
       "      <td>1</td>\n",
       "      <td>1</td>\n",
       "    </tr>\n",
       "    <tr>\n",
       "      <th>272986</th>\n",
       "      <td>1</td>\n",
       "      <td>1</td>\n",
       "      <td>1</td>\n",
       "      <td>1</td>\n",
       "      <td>1</td>\n",
       "      <td>1</td>\n",
       "      <td>0</td>\n",
       "      <td>1</td>\n",
       "      <td>1</td>\n",
       "      <td>0</td>\n",
       "      <td>...</td>\n",
       "      <td>0</td>\n",
       "      <td>0</td>\n",
       "      <td>0</td>\n",
       "      <td>1</td>\n",
       "      <td>0</td>\n",
       "      <td>0</td>\n",
       "      <td>0</td>\n",
       "      <td>0</td>\n",
       "      <td>1</td>\n",
       "      <td>1</td>\n",
       "    </tr>\n",
       "    <tr>\n",
       "      <th>616478</th>\n",
       "      <td>1</td>\n",
       "      <td>1</td>\n",
       "      <td>1</td>\n",
       "      <td>1</td>\n",
       "      <td>1</td>\n",
       "      <td>1</td>\n",
       "      <td>0</td>\n",
       "      <td>1</td>\n",
       "      <td>0</td>\n",
       "      <td>0</td>\n",
       "      <td>...</td>\n",
       "      <td>0</td>\n",
       "      <td>0</td>\n",
       "      <td>0</td>\n",
       "      <td>0</td>\n",
       "      <td>1</td>\n",
       "      <td>0</td>\n",
       "      <td>0</td>\n",
       "      <td>0</td>\n",
       "      <td>1</td>\n",
       "      <td>1</td>\n",
       "    </tr>\n",
       "    <tr>\n",
       "      <th>349148</th>\n",
       "      <td>1</td>\n",
       "      <td>1</td>\n",
       "      <td>1</td>\n",
       "      <td>1</td>\n",
       "      <td>1</td>\n",
       "      <td>1</td>\n",
       "      <td>1</td>\n",
       "      <td>0</td>\n",
       "      <td>1</td>\n",
       "      <td>0</td>\n",
       "      <td>...</td>\n",
       "      <td>0</td>\n",
       "      <td>0</td>\n",
       "      <td>0</td>\n",
       "      <td>1</td>\n",
       "      <td>0</td>\n",
       "      <td>0</td>\n",
       "      <td>0</td>\n",
       "      <td>0</td>\n",
       "      <td>1</td>\n",
       "      <td>1</td>\n",
       "    </tr>\n",
       "    <tr>\n",
       "      <th>336606</th>\n",
       "      <td>1</td>\n",
       "      <td>1</td>\n",
       "      <td>1</td>\n",
       "      <td>1</td>\n",
       "      <td>1</td>\n",
       "      <td>1</td>\n",
       "      <td>1</td>\n",
       "      <td>0</td>\n",
       "      <td>1</td>\n",
       "      <td>0</td>\n",
       "      <td>...</td>\n",
       "      <td>0</td>\n",
       "      <td>0</td>\n",
       "      <td>0</td>\n",
       "      <td>1</td>\n",
       "      <td>0</td>\n",
       "      <td>0</td>\n",
       "      <td>0</td>\n",
       "      <td>0</td>\n",
       "      <td>1</td>\n",
       "      <td>1</td>\n",
       "    </tr>\n",
       "    <tr>\n",
       "      <th>500649</th>\n",
       "      <td>1</td>\n",
       "      <td>1</td>\n",
       "      <td>1</td>\n",
       "      <td>1</td>\n",
       "      <td>1</td>\n",
       "      <td>1</td>\n",
       "      <td>0</td>\n",
       "      <td>1</td>\n",
       "      <td>1</td>\n",
       "      <td>0</td>\n",
       "      <td>...</td>\n",
       "      <td>0</td>\n",
       "      <td>0</td>\n",
       "      <td>0</td>\n",
       "      <td>0</td>\n",
       "      <td>1</td>\n",
       "      <td>0</td>\n",
       "      <td>0</td>\n",
       "      <td>0</td>\n",
       "      <td>1</td>\n",
       "      <td>1</td>\n",
       "    </tr>\n",
       "    <tr>\n",
       "      <th>581730</th>\n",
       "      <td>1</td>\n",
       "      <td>1</td>\n",
       "      <td>1</td>\n",
       "      <td>1</td>\n",
       "      <td>1</td>\n",
       "      <td>1</td>\n",
       "      <td>1</td>\n",
       "      <td>0</td>\n",
       "      <td>0</td>\n",
       "      <td>0</td>\n",
       "      <td>...</td>\n",
       "      <td>0</td>\n",
       "      <td>0</td>\n",
       "      <td>0</td>\n",
       "      <td>1</td>\n",
       "      <td>0</td>\n",
       "      <td>0</td>\n",
       "      <td>0</td>\n",
       "      <td>0</td>\n",
       "      <td>1</td>\n",
       "      <td>1</td>\n",
       "    </tr>\n",
       "    <tr>\n",
       "      <th>353771</th>\n",
       "      <td>1</td>\n",
       "      <td>1</td>\n",
       "      <td>1</td>\n",
       "      <td>1</td>\n",
       "      <td>1</td>\n",
       "      <td>1</td>\n",
       "      <td>0</td>\n",
       "      <td>1</td>\n",
       "      <td>1</td>\n",
       "      <td>0</td>\n",
       "      <td>...</td>\n",
       "      <td>0</td>\n",
       "      <td>0</td>\n",
       "      <td>0</td>\n",
       "      <td>1</td>\n",
       "      <td>0</td>\n",
       "      <td>0</td>\n",
       "      <td>0</td>\n",
       "      <td>0</td>\n",
       "      <td>1</td>\n",
       "      <td>1</td>\n",
       "    </tr>\n",
       "    <tr>\n",
       "      <th>519108</th>\n",
       "      <td>1</td>\n",
       "      <td>1</td>\n",
       "      <td>1</td>\n",
       "      <td>1</td>\n",
       "      <td>1</td>\n",
       "      <td>1</td>\n",
       "      <td>0</td>\n",
       "      <td>1</td>\n",
       "      <td>1</td>\n",
       "      <td>0</td>\n",
       "      <td>...</td>\n",
       "      <td>0</td>\n",
       "      <td>0</td>\n",
       "      <td>0</td>\n",
       "      <td>1</td>\n",
       "      <td>0</td>\n",
       "      <td>0</td>\n",
       "      <td>0</td>\n",
       "      <td>0</td>\n",
       "      <td>1</td>\n",
       "      <td>1</td>\n",
       "    </tr>\n",
       "    <tr>\n",
       "      <th>803016</th>\n",
       "      <td>1</td>\n",
       "      <td>1</td>\n",
       "      <td>1</td>\n",
       "      <td>1</td>\n",
       "      <td>1</td>\n",
       "      <td>1</td>\n",
       "      <td>0</td>\n",
       "      <td>1</td>\n",
       "      <td>0</td>\n",
       "      <td>0</td>\n",
       "      <td>...</td>\n",
       "      <td>0</td>\n",
       "      <td>0</td>\n",
       "      <td>0</td>\n",
       "      <td>1</td>\n",
       "      <td>0</td>\n",
       "      <td>0</td>\n",
       "      <td>0</td>\n",
       "      <td>0</td>\n",
       "      <td>1</td>\n",
       "      <td>1</td>\n",
       "    </tr>\n",
       "    <tr>\n",
       "      <th>686882</th>\n",
       "      <td>1</td>\n",
       "      <td>1</td>\n",
       "      <td>1</td>\n",
       "      <td>1</td>\n",
       "      <td>1</td>\n",
       "      <td>1</td>\n",
       "      <td>1</td>\n",
       "      <td>0</td>\n",
       "      <td>1</td>\n",
       "      <td>0</td>\n",
       "      <td>...</td>\n",
       "      <td>0</td>\n",
       "      <td>0</td>\n",
       "      <td>0</td>\n",
       "      <td>0</td>\n",
       "      <td>0</td>\n",
       "      <td>0</td>\n",
       "      <td>0</td>\n",
       "      <td>1</td>\n",
       "      <td>1</td>\n",
       "      <td>1</td>\n",
       "    </tr>\n",
       "    <tr>\n",
       "      <th>345513</th>\n",
       "      <td>1</td>\n",
       "      <td>1</td>\n",
       "      <td>1</td>\n",
       "      <td>1</td>\n",
       "      <td>1</td>\n",
       "      <td>1</td>\n",
       "      <td>0</td>\n",
       "      <td>1</td>\n",
       "      <td>0</td>\n",
       "      <td>0</td>\n",
       "      <td>...</td>\n",
       "      <td>0</td>\n",
       "      <td>0</td>\n",
       "      <td>0</td>\n",
       "      <td>0</td>\n",
       "      <td>1</td>\n",
       "      <td>0</td>\n",
       "      <td>0</td>\n",
       "      <td>0</td>\n",
       "      <td>1</td>\n",
       "      <td>1</td>\n",
       "    </tr>\n",
       "    <tr>\n",
       "      <th>167269</th>\n",
       "      <td>1</td>\n",
       "      <td>1</td>\n",
       "      <td>1</td>\n",
       "      <td>1</td>\n",
       "      <td>1</td>\n",
       "      <td>1</td>\n",
       "      <td>0</td>\n",
       "      <td>1</td>\n",
       "      <td>1</td>\n",
       "      <td>0</td>\n",
       "      <td>...</td>\n",
       "      <td>0</td>\n",
       "      <td>0</td>\n",
       "      <td>0</td>\n",
       "      <td>1</td>\n",
       "      <td>0</td>\n",
       "      <td>0</td>\n",
       "      <td>0</td>\n",
       "      <td>0</td>\n",
       "      <td>1</td>\n",
       "      <td>1</td>\n",
       "    </tr>\n",
       "    <tr>\n",
       "      <th>...</th>\n",
       "      <td>...</td>\n",
       "      <td>...</td>\n",
       "      <td>...</td>\n",
       "      <td>...</td>\n",
       "      <td>...</td>\n",
       "      <td>...</td>\n",
       "      <td>...</td>\n",
       "      <td>...</td>\n",
       "      <td>...</td>\n",
       "      <td>...</td>\n",
       "      <td>...</td>\n",
       "      <td>...</td>\n",
       "      <td>...</td>\n",
       "      <td>...</td>\n",
       "      <td>...</td>\n",
       "      <td>...</td>\n",
       "      <td>...</td>\n",
       "      <td>...</td>\n",
       "      <td>...</td>\n",
       "      <td>...</td>\n",
       "      <td>...</td>\n",
       "    </tr>\n",
       "    <tr>\n",
       "      <th>627973</th>\n",
       "      <td>1</td>\n",
       "      <td>1</td>\n",
       "      <td>1</td>\n",
       "      <td>1</td>\n",
       "      <td>1</td>\n",
       "      <td>1</td>\n",
       "      <td>0</td>\n",
       "      <td>1</td>\n",
       "      <td>0</td>\n",
       "      <td>0</td>\n",
       "      <td>...</td>\n",
       "      <td>0</td>\n",
       "      <td>0</td>\n",
       "      <td>0</td>\n",
       "      <td>0</td>\n",
       "      <td>1</td>\n",
       "      <td>0</td>\n",
       "      <td>0</td>\n",
       "      <td>0</td>\n",
       "      <td>1</td>\n",
       "      <td>1</td>\n",
       "    </tr>\n",
       "    <tr>\n",
       "      <th>708534</th>\n",
       "      <td>2</td>\n",
       "      <td>2</td>\n",
       "      <td>2</td>\n",
       "      <td>2</td>\n",
       "      <td>2</td>\n",
       "      <td>1</td>\n",
       "      <td>0</td>\n",
       "      <td>1</td>\n",
       "      <td>0</td>\n",
       "      <td>0</td>\n",
       "      <td>...</td>\n",
       "      <td>1</td>\n",
       "      <td>0</td>\n",
       "      <td>0</td>\n",
       "      <td>1</td>\n",
       "      <td>0</td>\n",
       "      <td>0</td>\n",
       "      <td>0</td>\n",
       "      <td>0</td>\n",
       "      <td>1</td>\n",
       "      <td>1</td>\n",
       "    </tr>\n",
       "    <tr>\n",
       "      <th>610008</th>\n",
       "      <td>1</td>\n",
       "      <td>1</td>\n",
       "      <td>1</td>\n",
       "      <td>1</td>\n",
       "      <td>1</td>\n",
       "      <td>1</td>\n",
       "      <td>1</td>\n",
       "      <td>0</td>\n",
       "      <td>0</td>\n",
       "      <td>0</td>\n",
       "      <td>...</td>\n",
       "      <td>0</td>\n",
       "      <td>0</td>\n",
       "      <td>0</td>\n",
       "      <td>0</td>\n",
       "      <td>0</td>\n",
       "      <td>0</td>\n",
       "      <td>0</td>\n",
       "      <td>1</td>\n",
       "      <td>1</td>\n",
       "      <td>1</td>\n",
       "    </tr>\n",
       "    <tr>\n",
       "      <th>278674</th>\n",
       "      <td>1</td>\n",
       "      <td>1</td>\n",
       "      <td>1</td>\n",
       "      <td>1</td>\n",
       "      <td>1</td>\n",
       "      <td>1</td>\n",
       "      <td>0</td>\n",
       "      <td>1</td>\n",
       "      <td>1</td>\n",
       "      <td>0</td>\n",
       "      <td>...</td>\n",
       "      <td>0</td>\n",
       "      <td>0</td>\n",
       "      <td>0</td>\n",
       "      <td>1</td>\n",
       "      <td>0</td>\n",
       "      <td>0</td>\n",
       "      <td>0</td>\n",
       "      <td>0</td>\n",
       "      <td>1</td>\n",
       "      <td>1</td>\n",
       "    </tr>\n",
       "    <tr>\n",
       "      <th>30196</th>\n",
       "      <td>1</td>\n",
       "      <td>1</td>\n",
       "      <td>1</td>\n",
       "      <td>1</td>\n",
       "      <td>1</td>\n",
       "      <td>1</td>\n",
       "      <td>0</td>\n",
       "      <td>1</td>\n",
       "      <td>1</td>\n",
       "      <td>0</td>\n",
       "      <td>...</td>\n",
       "      <td>0</td>\n",
       "      <td>0</td>\n",
       "      <td>0</td>\n",
       "      <td>1</td>\n",
       "      <td>0</td>\n",
       "      <td>0</td>\n",
       "      <td>0</td>\n",
       "      <td>0</td>\n",
       "      <td>1</td>\n",
       "      <td>1</td>\n",
       "    </tr>\n",
       "    <tr>\n",
       "      <th>795137</th>\n",
       "      <td>1</td>\n",
       "      <td>1</td>\n",
       "      <td>1</td>\n",
       "      <td>1</td>\n",
       "      <td>1</td>\n",
       "      <td>1</td>\n",
       "      <td>0</td>\n",
       "      <td>1</td>\n",
       "      <td>0</td>\n",
       "      <td>0</td>\n",
       "      <td>...</td>\n",
       "      <td>0</td>\n",
       "      <td>0</td>\n",
       "      <td>0</td>\n",
       "      <td>1</td>\n",
       "      <td>0</td>\n",
       "      <td>0</td>\n",
       "      <td>0</td>\n",
       "      <td>0</td>\n",
       "      <td>1</td>\n",
       "      <td>1</td>\n",
       "    </tr>\n",
       "    <tr>\n",
       "      <th>795198</th>\n",
       "      <td>1</td>\n",
       "      <td>1</td>\n",
       "      <td>1</td>\n",
       "      <td>1</td>\n",
       "      <td>1</td>\n",
       "      <td>1</td>\n",
       "      <td>1</td>\n",
       "      <td>0</td>\n",
       "      <td>0</td>\n",
       "      <td>0</td>\n",
       "      <td>...</td>\n",
       "      <td>0</td>\n",
       "      <td>0</td>\n",
       "      <td>0</td>\n",
       "      <td>1</td>\n",
       "      <td>0</td>\n",
       "      <td>0</td>\n",
       "      <td>0</td>\n",
       "      <td>0</td>\n",
       "      <td>1</td>\n",
       "      <td>1</td>\n",
       "    </tr>\n",
       "    <tr>\n",
       "      <th>761577</th>\n",
       "      <td>1</td>\n",
       "      <td>1</td>\n",
       "      <td>1</td>\n",
       "      <td>1</td>\n",
       "      <td>1</td>\n",
       "      <td>1</td>\n",
       "      <td>0</td>\n",
       "      <td>1</td>\n",
       "      <td>1</td>\n",
       "      <td>0</td>\n",
       "      <td>...</td>\n",
       "      <td>1</td>\n",
       "      <td>0</td>\n",
       "      <td>0</td>\n",
       "      <td>0</td>\n",
       "      <td>1</td>\n",
       "      <td>0</td>\n",
       "      <td>0</td>\n",
       "      <td>0</td>\n",
       "      <td>1</td>\n",
       "      <td>1</td>\n",
       "    </tr>\n",
       "    <tr>\n",
       "      <th>264259</th>\n",
       "      <td>0</td>\n",
       "      <td>1</td>\n",
       "      <td>1</td>\n",
       "      <td>1</td>\n",
       "      <td>1</td>\n",
       "      <td>1</td>\n",
       "      <td>1</td>\n",
       "      <td>0</td>\n",
       "      <td>0</td>\n",
       "      <td>1</td>\n",
       "      <td>...</td>\n",
       "      <td>0</td>\n",
       "      <td>0</td>\n",
       "      <td>0</td>\n",
       "      <td>1</td>\n",
       "      <td>0</td>\n",
       "      <td>0</td>\n",
       "      <td>0</td>\n",
       "      <td>0</td>\n",
       "      <td>1</td>\n",
       "      <td>0</td>\n",
       "    </tr>\n",
       "    <tr>\n",
       "      <th>22374</th>\n",
       "      <td>1</td>\n",
       "      <td>1</td>\n",
       "      <td>1</td>\n",
       "      <td>1</td>\n",
       "      <td>1</td>\n",
       "      <td>1</td>\n",
       "      <td>0</td>\n",
       "      <td>1</td>\n",
       "      <td>1</td>\n",
       "      <td>0</td>\n",
       "      <td>...</td>\n",
       "      <td>0</td>\n",
       "      <td>0</td>\n",
       "      <td>1</td>\n",
       "      <td>0</td>\n",
       "      <td>0</td>\n",
       "      <td>0</td>\n",
       "      <td>0</td>\n",
       "      <td>0</td>\n",
       "      <td>1</td>\n",
       "      <td>1</td>\n",
       "    </tr>\n",
       "    <tr>\n",
       "      <th>149530</th>\n",
       "      <td>2</td>\n",
       "      <td>2</td>\n",
       "      <td>2</td>\n",
       "      <td>2</td>\n",
       "      <td>2</td>\n",
       "      <td>2</td>\n",
       "      <td>1</td>\n",
       "      <td>0</td>\n",
       "      <td>1</td>\n",
       "      <td>0</td>\n",
       "      <td>...</td>\n",
       "      <td>0</td>\n",
       "      <td>0</td>\n",
       "      <td>0</td>\n",
       "      <td>1</td>\n",
       "      <td>0</td>\n",
       "      <td>0</td>\n",
       "      <td>0</td>\n",
       "      <td>0</td>\n",
       "      <td>1</td>\n",
       "      <td>0</td>\n",
       "    </tr>\n",
       "    <tr>\n",
       "      <th>606471</th>\n",
       "      <td>1</td>\n",
       "      <td>0</td>\n",
       "      <td>0</td>\n",
       "      <td>0</td>\n",
       "      <td>0</td>\n",
       "      <td>1</td>\n",
       "      <td>0</td>\n",
       "      <td>1</td>\n",
       "      <td>1</td>\n",
       "      <td>0</td>\n",
       "      <td>...</td>\n",
       "      <td>0</td>\n",
       "      <td>0</td>\n",
       "      <td>0</td>\n",
       "      <td>1</td>\n",
       "      <td>0</td>\n",
       "      <td>0</td>\n",
       "      <td>0</td>\n",
       "      <td>0</td>\n",
       "      <td>1</td>\n",
       "      <td>1</td>\n",
       "    </tr>\n",
       "    <tr>\n",
       "      <th>806587</th>\n",
       "      <td>1</td>\n",
       "      <td>1</td>\n",
       "      <td>1</td>\n",
       "      <td>1</td>\n",
       "      <td>1</td>\n",
       "      <td>1</td>\n",
       "      <td>0</td>\n",
       "      <td>1</td>\n",
       "      <td>1</td>\n",
       "      <td>0</td>\n",
       "      <td>...</td>\n",
       "      <td>0</td>\n",
       "      <td>0</td>\n",
       "      <td>0</td>\n",
       "      <td>1</td>\n",
       "      <td>0</td>\n",
       "      <td>0</td>\n",
       "      <td>0</td>\n",
       "      <td>0</td>\n",
       "      <td>1</td>\n",
       "      <td>1</td>\n",
       "    </tr>\n",
       "    <tr>\n",
       "      <th>615960</th>\n",
       "      <td>0</td>\n",
       "      <td>0</td>\n",
       "      <td>0</td>\n",
       "      <td>0</td>\n",
       "      <td>1</td>\n",
       "      <td>1</td>\n",
       "      <td>1</td>\n",
       "      <td>0</td>\n",
       "      <td>0</td>\n",
       "      <td>0</td>\n",
       "      <td>...</td>\n",
       "      <td>0</td>\n",
       "      <td>0</td>\n",
       "      <td>0</td>\n",
       "      <td>0</td>\n",
       "      <td>1</td>\n",
       "      <td>0</td>\n",
       "      <td>0</td>\n",
       "      <td>0</td>\n",
       "      <td>1</td>\n",
       "      <td>1</td>\n",
       "    </tr>\n",
       "    <tr>\n",
       "      <th>655938</th>\n",
       "      <td>2</td>\n",
       "      <td>2</td>\n",
       "      <td>2</td>\n",
       "      <td>2</td>\n",
       "      <td>2</td>\n",
       "      <td>1</td>\n",
       "      <td>0</td>\n",
       "      <td>1</td>\n",
       "      <td>1</td>\n",
       "      <td>0</td>\n",
       "      <td>...</td>\n",
       "      <td>0</td>\n",
       "      <td>1</td>\n",
       "      <td>0</td>\n",
       "      <td>0</td>\n",
       "      <td>0</td>\n",
       "      <td>0</td>\n",
       "      <td>0</td>\n",
       "      <td>0</td>\n",
       "      <td>1</td>\n",
       "      <td>1</td>\n",
       "    </tr>\n",
       "    <tr>\n",
       "      <th>609616</th>\n",
       "      <td>1</td>\n",
       "      <td>1</td>\n",
       "      <td>1</td>\n",
       "      <td>1</td>\n",
       "      <td>1</td>\n",
       "      <td>1</td>\n",
       "      <td>0</td>\n",
       "      <td>1</td>\n",
       "      <td>0</td>\n",
       "      <td>0</td>\n",
       "      <td>...</td>\n",
       "      <td>0</td>\n",
       "      <td>0</td>\n",
       "      <td>0</td>\n",
       "      <td>0</td>\n",
       "      <td>1</td>\n",
       "      <td>0</td>\n",
       "      <td>0</td>\n",
       "      <td>0</td>\n",
       "      <td>1</td>\n",
       "      <td>1</td>\n",
       "    </tr>\n",
       "    <tr>\n",
       "      <th>735976</th>\n",
       "      <td>1</td>\n",
       "      <td>1</td>\n",
       "      <td>1</td>\n",
       "      <td>1</td>\n",
       "      <td>1</td>\n",
       "      <td>1</td>\n",
       "      <td>1</td>\n",
       "      <td>0</td>\n",
       "      <td>0</td>\n",
       "      <td>0</td>\n",
       "      <td>...</td>\n",
       "      <td>0</td>\n",
       "      <td>0</td>\n",
       "      <td>0</td>\n",
       "      <td>0</td>\n",
       "      <td>1</td>\n",
       "      <td>0</td>\n",
       "      <td>0</td>\n",
       "      <td>0</td>\n",
       "      <td>1</td>\n",
       "      <td>1</td>\n",
       "    </tr>\n",
       "    <tr>\n",
       "      <th>695717</th>\n",
       "      <td>1</td>\n",
       "      <td>1</td>\n",
       "      <td>1</td>\n",
       "      <td>1</td>\n",
       "      <td>1</td>\n",
       "      <td>1</td>\n",
       "      <td>1</td>\n",
       "      <td>0</td>\n",
       "      <td>1</td>\n",
       "      <td>0</td>\n",
       "      <td>...</td>\n",
       "      <td>0</td>\n",
       "      <td>0</td>\n",
       "      <td>1</td>\n",
       "      <td>0</td>\n",
       "      <td>0</td>\n",
       "      <td>0</td>\n",
       "      <td>0</td>\n",
       "      <td>0</td>\n",
       "      <td>1</td>\n",
       "      <td>1</td>\n",
       "    </tr>\n",
       "    <tr>\n",
       "      <th>232797</th>\n",
       "      <td>1</td>\n",
       "      <td>1</td>\n",
       "      <td>1</td>\n",
       "      <td>1</td>\n",
       "      <td>1</td>\n",
       "      <td>1</td>\n",
       "      <td>0</td>\n",
       "      <td>1</td>\n",
       "      <td>0</td>\n",
       "      <td>0</td>\n",
       "      <td>...</td>\n",
       "      <td>0</td>\n",
       "      <td>0</td>\n",
       "      <td>1</td>\n",
       "      <td>0</td>\n",
       "      <td>0</td>\n",
       "      <td>0</td>\n",
       "      <td>0</td>\n",
       "      <td>0</td>\n",
       "      <td>1</td>\n",
       "      <td>1</td>\n",
       "    </tr>\n",
       "    <tr>\n",
       "      <th>667916</th>\n",
       "      <td>1</td>\n",
       "      <td>1</td>\n",
       "      <td>1</td>\n",
       "      <td>1</td>\n",
       "      <td>1</td>\n",
       "      <td>1</td>\n",
       "      <td>1</td>\n",
       "      <td>0</td>\n",
       "      <td>0</td>\n",
       "      <td>0</td>\n",
       "      <td>...</td>\n",
       "      <td>0</td>\n",
       "      <td>0</td>\n",
       "      <td>0</td>\n",
       "      <td>0</td>\n",
       "      <td>1</td>\n",
       "      <td>0</td>\n",
       "      <td>0</td>\n",
       "      <td>0</td>\n",
       "      <td>1</td>\n",
       "      <td>1</td>\n",
       "    </tr>\n",
       "    <tr>\n",
       "      <th>620202</th>\n",
       "      <td>1</td>\n",
       "      <td>1</td>\n",
       "      <td>1</td>\n",
       "      <td>1</td>\n",
       "      <td>1</td>\n",
       "      <td>1</td>\n",
       "      <td>0</td>\n",
       "      <td>1</td>\n",
       "      <td>0</td>\n",
       "      <td>0</td>\n",
       "      <td>...</td>\n",
       "      <td>0</td>\n",
       "      <td>0</td>\n",
       "      <td>0</td>\n",
       "      <td>1</td>\n",
       "      <td>0</td>\n",
       "      <td>0</td>\n",
       "      <td>0</td>\n",
       "      <td>0</td>\n",
       "      <td>1</td>\n",
       "      <td>1</td>\n",
       "    </tr>\n",
       "    <tr>\n",
       "      <th>271949</th>\n",
       "      <td>1</td>\n",
       "      <td>1</td>\n",
       "      <td>1</td>\n",
       "      <td>1</td>\n",
       "      <td>1</td>\n",
       "      <td>1</td>\n",
       "      <td>0</td>\n",
       "      <td>1</td>\n",
       "      <td>1</td>\n",
       "      <td>0</td>\n",
       "      <td>...</td>\n",
       "      <td>0</td>\n",
       "      <td>0</td>\n",
       "      <td>1</td>\n",
       "      <td>0</td>\n",
       "      <td>0</td>\n",
       "      <td>0</td>\n",
       "      <td>0</td>\n",
       "      <td>0</td>\n",
       "      <td>1</td>\n",
       "      <td>1</td>\n",
       "    </tr>\n",
       "    <tr>\n",
       "      <th>78565</th>\n",
       "      <td>0</td>\n",
       "      <td>0</td>\n",
       "      <td>0</td>\n",
       "      <td>0</td>\n",
       "      <td>1</td>\n",
       "      <td>1</td>\n",
       "      <td>0</td>\n",
       "      <td>1</td>\n",
       "      <td>1</td>\n",
       "      <td>0</td>\n",
       "      <td>...</td>\n",
       "      <td>0</td>\n",
       "      <td>0</td>\n",
       "      <td>0</td>\n",
       "      <td>1</td>\n",
       "      <td>0</td>\n",
       "      <td>0</td>\n",
       "      <td>0</td>\n",
       "      <td>0</td>\n",
       "      <td>1</td>\n",
       "      <td>0</td>\n",
       "    </tr>\n",
       "    <tr>\n",
       "      <th>600117</th>\n",
       "      <td>1</td>\n",
       "      <td>1</td>\n",
       "      <td>1</td>\n",
       "      <td>1</td>\n",
       "      <td>1</td>\n",
       "      <td>1</td>\n",
       "      <td>0</td>\n",
       "      <td>1</td>\n",
       "      <td>0</td>\n",
       "      <td>0</td>\n",
       "      <td>...</td>\n",
       "      <td>0</td>\n",
       "      <td>0</td>\n",
       "      <td>0</td>\n",
       "      <td>0</td>\n",
       "      <td>1</td>\n",
       "      <td>0</td>\n",
       "      <td>0</td>\n",
       "      <td>0</td>\n",
       "      <td>1</td>\n",
       "      <td>1</td>\n",
       "    </tr>\n",
       "    <tr>\n",
       "      <th>605807</th>\n",
       "      <td>1</td>\n",
       "      <td>1</td>\n",
       "      <td>1</td>\n",
       "      <td>1</td>\n",
       "      <td>1</td>\n",
       "      <td>1</td>\n",
       "      <td>0</td>\n",
       "      <td>1</td>\n",
       "      <td>0</td>\n",
       "      <td>0</td>\n",
       "      <td>...</td>\n",
       "      <td>0</td>\n",
       "      <td>0</td>\n",
       "      <td>0</td>\n",
       "      <td>0</td>\n",
       "      <td>1</td>\n",
       "      <td>0</td>\n",
       "      <td>0</td>\n",
       "      <td>0</td>\n",
       "      <td>1</td>\n",
       "      <td>1</td>\n",
       "    </tr>\n",
       "    <tr>\n",
       "      <th>648519</th>\n",
       "      <td>1</td>\n",
       "      <td>1</td>\n",
       "      <td>1</td>\n",
       "      <td>1</td>\n",
       "      <td>1</td>\n",
       "      <td>1</td>\n",
       "      <td>0</td>\n",
       "      <td>1</td>\n",
       "      <td>0</td>\n",
       "      <td>0</td>\n",
       "      <td>...</td>\n",
       "      <td>0</td>\n",
       "      <td>0</td>\n",
       "      <td>0</td>\n",
       "      <td>0</td>\n",
       "      <td>1</td>\n",
       "      <td>0</td>\n",
       "      <td>0</td>\n",
       "      <td>0</td>\n",
       "      <td>1</td>\n",
       "      <td>1</td>\n",
       "    </tr>\n",
       "    <tr>\n",
       "      <th>322763</th>\n",
       "      <td>0</td>\n",
       "      <td>0</td>\n",
       "      <td>0</td>\n",
       "      <td>1</td>\n",
       "      <td>1</td>\n",
       "      <td>1</td>\n",
       "      <td>0</td>\n",
       "      <td>1</td>\n",
       "      <td>1</td>\n",
       "      <td>0</td>\n",
       "      <td>...</td>\n",
       "      <td>0</td>\n",
       "      <td>0</td>\n",
       "      <td>0</td>\n",
       "      <td>1</td>\n",
       "      <td>0</td>\n",
       "      <td>0</td>\n",
       "      <td>0</td>\n",
       "      <td>0</td>\n",
       "      <td>1</td>\n",
       "      <td>0</td>\n",
       "    </tr>\n",
       "    <tr>\n",
       "      <th>610215</th>\n",
       "      <td>1</td>\n",
       "      <td>1</td>\n",
       "      <td>1</td>\n",
       "      <td>1</td>\n",
       "      <td>1</td>\n",
       "      <td>1</td>\n",
       "      <td>1</td>\n",
       "      <td>0</td>\n",
       "      <td>0</td>\n",
       "      <td>0</td>\n",
       "      <td>...</td>\n",
       "      <td>0</td>\n",
       "      <td>0</td>\n",
       "      <td>0</td>\n",
       "      <td>0</td>\n",
       "      <td>0</td>\n",
       "      <td>0</td>\n",
       "      <td>0</td>\n",
       "      <td>1</td>\n",
       "      <td>1</td>\n",
       "      <td>1</td>\n",
       "    </tr>\n",
       "    <tr>\n",
       "      <th>48480</th>\n",
       "      <td>1</td>\n",
       "      <td>1</td>\n",
       "      <td>1</td>\n",
       "      <td>1</td>\n",
       "      <td>1</td>\n",
       "      <td>1</td>\n",
       "      <td>0</td>\n",
       "      <td>1</td>\n",
       "      <td>1</td>\n",
       "      <td>0</td>\n",
       "      <td>...</td>\n",
       "      <td>0</td>\n",
       "      <td>0</td>\n",
       "      <td>0</td>\n",
       "      <td>1</td>\n",
       "      <td>0</td>\n",
       "      <td>0</td>\n",
       "      <td>0</td>\n",
       "      <td>0</td>\n",
       "      <td>1</td>\n",
       "      <td>1</td>\n",
       "    </tr>\n",
       "    <tr>\n",
       "      <th>510585</th>\n",
       "      <td>1</td>\n",
       "      <td>1</td>\n",
       "      <td>1</td>\n",
       "      <td>1</td>\n",
       "      <td>1</td>\n",
       "      <td>1</td>\n",
       "      <td>1</td>\n",
       "      <td>0</td>\n",
       "      <td>1</td>\n",
       "      <td>0</td>\n",
       "      <td>...</td>\n",
       "      <td>0</td>\n",
       "      <td>0</td>\n",
       "      <td>0</td>\n",
       "      <td>0</td>\n",
       "      <td>0</td>\n",
       "      <td>0</td>\n",
       "      <td>0</td>\n",
       "      <td>1</td>\n",
       "      <td>1</td>\n",
       "      <td>1</td>\n",
       "    </tr>\n",
       "  </tbody>\n",
       "</table>\n",
       "<p>5305 rows × 56 columns</p>\n",
       "</div>"
      ],
      "text/plain": [
       "        9 meses  8 meses  7 meses  6 meses  5 meses  4 meses  GENDER_F  \\\n",
       "525216        1        1        1        1        1        1         0   \n",
       "207048        1        1        1        1        1        1         1   \n",
       "803630        1        1        1        1        1        1         0   \n",
       "281754        0        1        1        1        1        1         0   \n",
       "680513        1        1        1        1        1        1         1   \n",
       "607822        1        1        1        1        1        1         0   \n",
       "696679        1        1        1        1        1        1         0   \n",
       "795158        0        1        1        1        1        1         0   \n",
       "156489        1        1        1        1        1        1         0   \n",
       "645069        1        1        1        1        1        1         1   \n",
       "510292        1        1        1        1        1        1         0   \n",
       "216090        1        1        1        1        1        1         0   \n",
       "258822        1        1        1        1        1        1         0   \n",
       "804743        1        1        1        1        1        1         1   \n",
       "536404        0        1        1        1        1        1         0   \n",
       "667443        1        1        1        1        1        1         0   \n",
       "385298        1        1        1        1        1        1         1   \n",
       "815498        1        1        1        1        1        1         0   \n",
       "272986        1        1        1        1        1        1         0   \n",
       "616478        1        1        1        1        1        1         0   \n",
       "349148        1        1        1        1        1        1         1   \n",
       "336606        1        1        1        1        1        1         1   \n",
       "500649        1        1        1        1        1        1         0   \n",
       "581730        1        1        1        1        1        1         1   \n",
       "353771        1        1        1        1        1        1         0   \n",
       "519108        1        1        1        1        1        1         0   \n",
       "803016        1        1        1        1        1        1         0   \n",
       "686882        1        1        1        1        1        1         1   \n",
       "345513        1        1        1        1        1        1         0   \n",
       "167269        1        1        1        1        1        1         0   \n",
       "...         ...      ...      ...      ...      ...      ...       ...   \n",
       "627973        1        1        1        1        1        1         0   \n",
       "708534        2        2        2        2        2        1         0   \n",
       "610008        1        1        1        1        1        1         1   \n",
       "278674        1        1        1        1        1        1         0   \n",
       "30196         1        1        1        1        1        1         0   \n",
       "795137        1        1        1        1        1        1         0   \n",
       "795198        1        1        1        1        1        1         1   \n",
       "761577        1        1        1        1        1        1         0   \n",
       "264259        0        1        1        1        1        1         1   \n",
       "22374         1        1        1        1        1        1         0   \n",
       "149530        2        2        2        2        2        2         1   \n",
       "606471        1        0        0        0        0        1         0   \n",
       "806587        1        1        1        1        1        1         0   \n",
       "615960        0        0        0        0        1        1         1   \n",
       "655938        2        2        2        2        2        1         0   \n",
       "609616        1        1        1        1        1        1         0   \n",
       "735976        1        1        1        1        1        1         1   \n",
       "695717        1        1        1        1        1        1         1   \n",
       "232797        1        1        1        1        1        1         0   \n",
       "667916        1        1        1        1        1        1         1   \n",
       "620202        1        1        1        1        1        1         0   \n",
       "271949        1        1        1        1        1        1         0   \n",
       "78565         0        0        0        0        1        1         0   \n",
       "600117        1        1        1        1        1        1         0   \n",
       "605807        1        1        1        1        1        1         0   \n",
       "648519        1        1        1        1        1        1         0   \n",
       "322763        0        0        0        1        1        1         0   \n",
       "610215        1        1        1        1        1        1         1   \n",
       "48480         1        1        1        1        1        1         0   \n",
       "510585        1        1        1        1        1        1         1   \n",
       "\n",
       "        GENDER_M  MARITAL_STATUS_Casado  MARITAL_STATUS_Conviv  ...   \\\n",
       "525216         1                      1                      0  ...    \n",
       "207048         0                      0                      0  ...    \n",
       "803630         1                      1                      0  ...    \n",
       "281754         1                      0                      0  ...    \n",
       "680513         0                      1                      0  ...    \n",
       "607822         1                      0                      0  ...    \n",
       "696679         1                      0                      0  ...    \n",
       "795158         1                      1                      0  ...    \n",
       "156489         1                      0                      0  ...    \n",
       "645069         0                      1                      0  ...    \n",
       "510292         1                      0                      0  ...    \n",
       "216090         1                      1                      0  ...    \n",
       "258822         1                      1                      0  ...    \n",
       "804743         0                      1                      0  ...    \n",
       "536404         1                      0                      0  ...    \n",
       "667443         1                      1                      0  ...    \n",
       "385298         0                      0                      0  ...    \n",
       "815498         1                      1                      0  ...    \n",
       "272986         1                      1                      0  ...    \n",
       "616478         1                      0                      0  ...    \n",
       "349148         0                      1                      0  ...    \n",
       "336606         0                      1                      0  ...    \n",
       "500649         1                      1                      0  ...    \n",
       "581730         0                      0                      0  ...    \n",
       "353771         1                      1                      0  ...    \n",
       "519108         1                      1                      0  ...    \n",
       "803016         1                      0                      0  ...    \n",
       "686882         0                      1                      0  ...    \n",
       "345513         1                      0                      0  ...    \n",
       "167269         1                      1                      0  ...    \n",
       "...          ...                    ...                    ...  ...    \n",
       "627973         1                      0                      0  ...    \n",
       "708534         1                      0                      0  ...    \n",
       "610008         0                      0                      0  ...    \n",
       "278674         1                      1                      0  ...    \n",
       "30196          1                      1                      0  ...    \n",
       "795137         1                      0                      0  ...    \n",
       "795198         0                      0                      0  ...    \n",
       "761577         1                      1                      0  ...    \n",
       "264259         0                      0                      1  ...    \n",
       "22374          1                      1                      0  ...    \n",
       "149530         0                      1                      0  ...    \n",
       "606471         1                      1                      0  ...    \n",
       "806587         1                      1                      0  ...    \n",
       "615960         0                      0                      0  ...    \n",
       "655938         1                      1                      0  ...    \n",
       "609616         1                      0                      0  ...    \n",
       "735976         0                      0                      0  ...    \n",
       "695717         0                      1                      0  ...    \n",
       "232797         1                      0                      0  ...    \n",
       "667916         0                      0                      0  ...    \n",
       "620202         1                      0                      0  ...    \n",
       "271949         1                      1                      0  ...    \n",
       "78565          1                      1                      0  ...    \n",
       "600117         1                      0                      0  ...    \n",
       "605807         1                      0                      0  ...    \n",
       "648519         1                      0                      0  ...    \n",
       "322763         1                      1                      0  ...    \n",
       "610215         0                      0                      0  ...    \n",
       "48480          1                      1                      0  ...    \n",
       "510585         0                      1                      0  ...    \n",
       "\n",
       "        CITY_TUCUMAN  ModoPago_BA  ModoPago_CC  ModoPago_Mix  ModoPago_PP  \\\n",
       "525216             0            1            0             0            0   \n",
       "207048             0            0            1             0            0   \n",
       "803630             0            0            0             1            0   \n",
       "281754             0            0            0             1            0   \n",
       "680513             0            0            0             1            0   \n",
       "607822             0            0            0             0            0   \n",
       "696679             0            0            0             1            0   \n",
       "795158             0            0            0             1            0   \n",
       "156489             0            0            1             0            0   \n",
       "645069             0            0            0             1            0   \n",
       "510292             0            0            0             1            0   \n",
       "216090             0            0            0             1            0   \n",
       "258822             0            0            0             1            0   \n",
       "804743             0            0            0             0            0   \n",
       "536404             0            0            0             1            0   \n",
       "667443             0            0            1             0            0   \n",
       "385298             0            0            0             1            0   \n",
       "815498             0            0            0             1            0   \n",
       "272986             0            0            0             1            0   \n",
       "616478             0            0            0             0            1   \n",
       "349148             0            0            0             1            0   \n",
       "336606             0            0            0             1            0   \n",
       "500649             0            0            0             0            1   \n",
       "581730             0            0            0             1            0   \n",
       "353771             0            0            0             1            0   \n",
       "519108             0            0            0             1            0   \n",
       "803016             0            0            0             1            0   \n",
       "686882             0            0            0             0            0   \n",
       "345513             0            0            0             0            1   \n",
       "167269             0            0            0             1            0   \n",
       "...              ...          ...          ...           ...          ...   \n",
       "627973             0            0            0             0            1   \n",
       "708534             1            0            0             1            0   \n",
       "610008             0            0            0             0            0   \n",
       "278674             0            0            0             1            0   \n",
       "30196              0            0            0             1            0   \n",
       "795137             0            0            0             1            0   \n",
       "795198             0            0            0             1            0   \n",
       "761577             1            0            0             0            1   \n",
       "264259             0            0            0             1            0   \n",
       "22374              0            0            1             0            0   \n",
       "149530             0            0            0             1            0   \n",
       "606471             0            0            0             1            0   \n",
       "806587             0            0            0             1            0   \n",
       "615960             0            0            0             0            1   \n",
       "655938             0            1            0             0            0   \n",
       "609616             0            0            0             0            1   \n",
       "735976             0            0            0             0            1   \n",
       "695717             0            0            1             0            0   \n",
       "232797             0            0            1             0            0   \n",
       "667916             0            0            0             0            1   \n",
       "620202             0            0            0             1            0   \n",
       "271949             0            0            1             0            0   \n",
       "78565              0            0            0             1            0   \n",
       "600117             0            0            0             0            1   \n",
       "605807             0            0            0             0            1   \n",
       "648519             0            0            0             0            1   \n",
       "322763             0            0            0             1            0   \n",
       "610215             0            0            0             0            0   \n",
       "48480              0            0            0             1            0   \n",
       "510585             0            0            0             0            0   \n",
       "\n",
       "        ModoPago_SJ  ModoPago_TA  ModoPago_TM  Churn  pred  \n",
       "525216            0            0            0      1     1  \n",
       "207048            0            0            0      1     1  \n",
       "803630            0            0            0      1     1  \n",
       "281754            0            0            0      1     0  \n",
       "680513            0            0            0      1     1  \n",
       "607822            0            0            1      1     1  \n",
       "696679            0            0            0      1     1  \n",
       "795158            0            0            0      1     0  \n",
       "156489            0            0            0      1     1  \n",
       "645069            0            0            0      1     1  \n",
       "510292            0            0            0      1     1  \n",
       "216090            0            0            0      1     1  \n",
       "258822            0            0            0      1     1  \n",
       "804743            0            0            1      1     1  \n",
       "536404            0            0            0      1     0  \n",
       "667443            0            0            0      1     1  \n",
       "385298            0            0            0      1     1  \n",
       "815498            0            0            0      1     1  \n",
       "272986            0            0            0      1     1  \n",
       "616478            0            0            0      1     1  \n",
       "349148            0            0            0      1     1  \n",
       "336606            0            0            0      1     1  \n",
       "500649            0            0            0      1     1  \n",
       "581730            0            0            0      1     1  \n",
       "353771            0            0            0      1     1  \n",
       "519108            0            0            0      1     1  \n",
       "803016            0            0            0      1     1  \n",
       "686882            0            0            1      1     1  \n",
       "345513            0            0            0      1     1  \n",
       "167269            0            0            0      1     1  \n",
       "...             ...          ...          ...    ...   ...  \n",
       "627973            0            0            0      1     1  \n",
       "708534            0            0            0      1     1  \n",
       "610008            0            0            1      1     1  \n",
       "278674            0            0            0      1     1  \n",
       "30196             0            0            0      1     1  \n",
       "795137            0            0            0      1     1  \n",
       "795198            0            0            0      1     1  \n",
       "761577            0            0            0      1     1  \n",
       "264259            0            0            0      1     0  \n",
       "22374             0            0            0      1     1  \n",
       "149530            0            0            0      1     0  \n",
       "606471            0            0            0      1     1  \n",
       "806587            0            0            0      1     1  \n",
       "615960            0            0            0      1     1  \n",
       "655938            0            0            0      1     1  \n",
       "609616            0            0            0      1     1  \n",
       "735976            0            0            0      1     1  \n",
       "695717            0            0            0      1     1  \n",
       "232797            0            0            0      1     1  \n",
       "667916            0            0            0      1     1  \n",
       "620202            0            0            0      1     1  \n",
       "271949            0            0            0      1     1  \n",
       "78565             0            0            0      1     0  \n",
       "600117            0            0            0      1     1  \n",
       "605807            0            0            0      1     1  \n",
       "648519            0            0            0      1     1  \n",
       "322763            0            0            0      1     0  \n",
       "610215            0            0            1      1     1  \n",
       "48480             0            0            0      1     1  \n",
       "510585            0            0            1      1     1  \n",
       "\n",
       "[5305 rows x 56 columns]"
      ]
     },
     "execution_count": 28,
     "metadata": {},
     "output_type": "execute_result"
    }
   ],
   "source": [
    "df_int[df_int.Churn == 1]"
   ]
  },
  {
   "cell_type": "markdown",
   "metadata": {
    "colab_type": "text",
    "id": "GQLc-sA78ykT"
   },
   "source": [
    "## MULTIPLES MODELOS RASCKHA FLOW"
   ]
  },
  {
   "cell_type": "code",
   "execution_count": 0,
   "metadata": {
    "colab": {},
    "colab_type": "code",
    "id": "kIPcXBmRmtEY"
   },
   "outputs": [],
   "source": [
    "from sklearn.model_selection import train_test_split\n",
    "from sklearn.preprocessing import StandardScaler\n",
    "from sklearn.decomposition import PCA\n",
    "from sklearn.pipeline import Pipeline\n",
    "from sklearn.model_selection import GridSearchCV\n",
    "from sklearn.externals import joblib\n",
    "from sklearn.linear_model import LogisticRegression\n",
    "from sklearn.ensemble import RandomForestClassifier\n",
    "import numpy as np\n",
    "from sklearn import svm\n",
    "\n",
    "# Load and split the data\n",
    "#X_train, X_test, y_train, y_test = train_test_split(iris.data, iris.target, test_size=0.2, random_state=42)\n",
    "\n",
    "# Construct some pipelines\n",
    "pipe_lr = Pipeline([('scl', StandardScaler()),\n",
    "\t\t\t('clf', LogisticRegression(random_state=42))])\n",
    "\n",
    "pipe_lr_pca = Pipeline([('scl', StandardScaler()),\n",
    "\t\t\t('pca', PCA(n_components=2)),\n",
    "\t\t\t('clf', LogisticRegression(random_state=42))])\n",
    "\n",
    "pipe_rf = Pipeline([('scl', StandardScaler()),\n",
    "\t\t\t('clf', RandomForestClassifier(random_state=42))])\n",
    "\n",
    "pipe_rf_pca = Pipeline([('scl', StandardScaler()),\n",
    "\t\t\t('pca', PCA(n_components=2)),\n",
    "\t\t\t('clf', RandomForestClassifier(random_state=42))])\n",
    "\n",
    "pipe_svm = Pipeline([('scl', StandardScaler()),\n",
    "\t\t\t('clf', svm.SVC(random_state=42))])\n",
    "\n",
    "pipe_svm_pca = Pipeline([('scl', StandardScaler()),\n",
    "\t\t\t('pca', PCA(n_components=2)),\n",
    "\t\t\t('clf', svm.SVC(random_state=42))])\n",
    "\t\t\t\n",
    "# Set grid search params\n",
    "param_range = [1, 2, 3, 4, 5, 6, 7, 8, 9, 10]\n",
    "#param_range_fl = [1.0, 0.5, 0.1]\n",
    "param_range_fl = np.power(10., np.arange(-4, 4))\n",
    "\n",
    "grid_params_lr = [{'clf__penalty': ['l1', 'l2'],\n",
    "\t\t'clf__C': param_range_fl,\n",
    "\t\t'clf__solver': ['liblinear']}] \n",
    "\n",
    "grid_params_rf = [{'clf__criterion': ['gini', 'entropy'],\n",
    "\t\t'clf__min_samples_leaf': param_range,\n",
    "\t\t'clf__max_depth': param_range,\n",
    "\t\t'clf__min_samples_split': param_range[1:]}]\n",
    "\n",
    "grid_params_svm = [{'clf__kernel': ['linear', 'rbf'], \n",
    "\t\t'clf__C': param_range}]\n",
    "\n",
    "# Construct grid searches\n",
    "jobs = -1\n",
    "metric = \"roc_auc\"\n",
    "cv = 5\n",
    "\n",
    "gs_lr = GridSearchCV(estimator=pipe_lr,\n",
    "\t\t\tparam_grid=grid_params_lr,\n",
    "\t\t\tscoring=metric,\n",
    "      refit=True,\n",
    "\t\t\tcv=cv) \n",
    "\t\t\t\n",
    "gs_lr_pca = GridSearchCV(estimator=pipe_lr_pca,\n",
    "\t\t\tparam_grid=grid_params_lr,\n",
    "\t\t\tscoring=metric,\n",
    "      refit=True,\n",
    "\t\t\tcv=cv)\n",
    "\t\t\t\n",
    "gs_rf = GridSearchCV(estimator=pipe_rf,\n",
    "\t\t\tparam_grid=grid_params_rf,\n",
    "\t\t\tscoring=metric,\n",
    "      refit=True,\n",
    "\t\t\tcv=cv, \n",
    "\t\t\tn_jobs=jobs)\n",
    "\n",
    "gs_rf_pca = GridSearchCV(estimator=pipe_rf_pca,\n",
    "\t\t\tparam_grid=grid_params_rf,\n",
    "\t\t\tscoring=metric,\n",
    "      refit=True,\n",
    "\t\t\tcv=cv, \n",
    "\t\t\tn_jobs=jobs)\n",
    "\n",
    "gs_svm = GridSearchCV(estimator=pipe_svm,\n",
    "\t\t\tparam_grid=grid_params_svm,\n",
    "\t\t\tscoring=metric,\n",
    "      refit=True,\n",
    "\t\t\tcv=cv,\n",
    "\t\t\tn_jobs=jobs)\n",
    "\n",
    "gs_svm_pca = GridSearchCV(estimator=pipe_svm_pca,\n",
    "\t\t\tparam_grid=grid_params_svm,\n",
    "\t\t\tscoring=metric,\n",
    "      refit=True,\n",
    "\t\t\tcv=cv,\n",
    "\t\t\tn_jobs=jobs)\n",
    "\n",
    "# List of pipelines for ease of iteration\n",
    "grids = [gs_lr, gs_lr_pca, gs_rf, gs_rf_pca, gs_svm, gs_svm_pca]\n",
    "\n",
    "# Dictionary of pipelines and classifier types for ease of reference\n",
    "grid_dict = {0: 'Logistic Regression', 1: 'Logistic Regression w/PCA', \n",
    "\t\t2: 'Random Forest', 3: 'Random Forest w/PCA', \n",
    "\t\t4: 'Support Vector Machine', 5: 'Support Vector Machine w/PCA'}\n"
   ]
  },
  {
   "cell_type": "code",
   "execution_count": 0,
   "metadata": {
    "colab": {
     "base_uri": "https://localhost:8080/",
     "height": 248
    },
    "colab_type": "code",
    "executionInfo": {
     "elapsed": 746,
     "status": "error",
     "timestamp": 1536050909501,
     "user": {
      "displayName": "Sebastian Martins",
      "photoUrl": "https://lh3.googleusercontent.com/a/default-user=s128",
      "userId": "117958151698014091336"
     },
     "user_tz": 180
    },
    "id": "TZIRzxay9mCh",
    "outputId": "e06deaa4-6f6a-4c86-9d68-db497750b821"
   },
   "outputs": [
    {
     "name": "stdout",
     "output_type": "stream",
     "text": [
      "Performing model optimizations...\n"
     ]
    },
    {
     "ename": "NameError",
     "evalue": "ignored",
     "output_type": "error",
     "traceback": [
      "\u001b[0;31m---------------------------------------------------------------------------\u001b[0m",
      "\u001b[0;31mNameError\u001b[0m                                 Traceback (most recent call last)",
      "\u001b[0;32m<ipython-input-1-eab7861d348f>\u001b[0m in \u001b[0;36m<module>\u001b[0;34m()\u001b[0m\n\u001b[1;32m      3\u001b[0m \u001b[0mbest_clf\u001b[0m \u001b[0;34m=\u001b[0m \u001b[0;36m0\u001b[0m\u001b[0;34m\u001b[0m\u001b[0m\n\u001b[1;32m      4\u001b[0m \u001b[0mbest_gs\u001b[0m \u001b[0;34m=\u001b[0m \u001b[0;34m''\u001b[0m\u001b[0;34m\u001b[0m\u001b[0m\n\u001b[0;32m----> 5\u001b[0;31m \u001b[0;32mfor\u001b[0m \u001b[0midx\u001b[0m\u001b[0;34m,\u001b[0m \u001b[0mgs\u001b[0m \u001b[0;32min\u001b[0m \u001b[0mtqdm\u001b[0m\u001b[0;34m(\u001b[0m\u001b[0menumerate\u001b[0m\u001b[0;34m(\u001b[0m\u001b[0mgrids\u001b[0m\u001b[0;34m)\u001b[0m\u001b[0;34m)\u001b[0m\u001b[0;34m:\u001b[0m\u001b[0;34m\u001b[0m\u001b[0m\n\u001b[0m\u001b[1;32m      6\u001b[0m \u001b[0;34m\u001b[0m\u001b[0m\n\u001b[1;32m      7\u001b[0m   \u001b[0;32mif\u001b[0m\u001b[0;34m(\u001b[0m\u001b[0midx\u001b[0m \u001b[0;34m<\u001b[0m \u001b[0;36m4\u001b[0m\u001b[0;34m)\u001b[0m\u001b[0;34m:\u001b[0m\u001b[0;34m\u001b[0m\u001b[0m\n",
      "\u001b[0;31mNameError\u001b[0m: name 'tqdm' is not defined"
     ]
    }
   ],
   "source": [
    "# Fit the grid search objects\n",
    "print('Performing model optimizations...')\n",
    "best_acc = 0.0\n",
    "best_clf = 0\n",
    "best_gs = ''\n",
    "for idx, gs in tqdm(enumerate(grids)):\n",
    "\n",
    "  if(idx < 4):\n",
    "    continue\n",
    "\n",
    "  print('\\nEstimator: %s' % grid_dict[idx])\t\n",
    "  # Fit grid search\t\n",
    "  gs.fit(X_train, y_train)\n",
    "  # Best params\n",
    "  print('Best params: %s' % gs.best_params_)\n",
    "  # Best training data roc auc\n",
    "  print('Best training roc auc: %.3f' % gs.best_score_)\n",
    "  # Predict on test data with best params\n",
    "  y_pred = gs.predict(X_test)\n",
    "  # Test data roc auc of model with best params\n",
    "  print('Test set roc auc score for best params: %.3f ' % roc_auc_score(y_test, y_pred))\n",
    "  # Track best (highest test roc auc) model\n",
    "  if roc_auc_score(y_test, y_pred) > best_acc:\n",
    "    best_acc = roc_auc_score(y_test, y_pred)\n",
    "    best_gs = gs\n",
    "    best_clf = idx\n",
    "print('\\nClassifier with best test set roc auc: %s' % grid_dict[best_clf])"
   ]
  },
  {
   "cell_type": "markdown",
   "metadata": {
    "colab_type": "text",
    "id": "CVtuvUysE1bN"
   },
   "source": [
    "Best params: {'clf__C': 0.01, 'clf__penalty': 'l2', 'clf__solver': 'liblinear'}\n",
    "Best training roc auc: 0.912\n",
    "Test set roc auc score for best params: 0.870 \n",
    "\n",
    "\n",
    "---\n",
    "Estimator: Logistic Regression w/PCA\n",
    "Best params: {'clf__C': 10.0, 'clf__penalty': 'l1', 'clf__solver': 'liblinear'}\n",
    "Best training roc auc: 0.582\n",
    "Test set roc auc score for best params: 0.500 \n",
    "\n",
    "\n",
    "---\n",
    "\n",
    "\n",
    "\n"
   ]
  },
  {
   "cell_type": "code",
   "execution_count": 0,
   "metadata": {
    "colab": {},
    "colab_type": "code",
    "id": "3XekyhpffT0n"
   },
   "outputs": [],
   "source": []
  }
 ],
 "metadata": {
  "accelerator": "GPU",
  "colab": {
   "collapsed_sections": [
    "Y9smAw9zp00S",
    "EW8jk4Lj5a9n"
   ],
   "name": "4.3 - Modelo (3m pred) corregido - 9m modelo base - full dataset con datos personales  thebox - rocauc 0..ipynb",
   "provenance": [],
   "version": "0.3.2"
  },
  "kernelspec": {
   "display_name": "Python 3",
   "language": "python",
   "name": "python3"
  },
  "language_info": {
   "codemirror_mode": {
    "name": "ipython",
    "version": 3
   },
   "file_extension": ".py",
   "mimetype": "text/x-python",
   "name": "python",
   "nbconvert_exporter": "python",
   "pygments_lexer": "ipython3",
   "version": "3.6.5"
  }
 },
 "nbformat": 4,
 "nbformat_minor": 1
}
