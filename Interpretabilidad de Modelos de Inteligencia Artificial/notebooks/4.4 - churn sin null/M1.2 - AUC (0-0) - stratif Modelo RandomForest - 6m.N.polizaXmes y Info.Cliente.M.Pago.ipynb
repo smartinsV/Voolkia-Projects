{
 "cells": [
  {
   "cell_type": "code",
   "execution_count": 5,
   "metadata": {},
   "outputs": [],
   "source": [
    "import pandas as pd\n",
    "import numpy as np\n",
    "from tqdm import tqdm\n",
    "from tpot import TPOTClassifier\n",
    "import seaborn as sns\n",
    "import matplotlib.pyplot as plt\n",
    "import xgboost\n",
    "\n",
    "from sklearn.metrics import roc_auc_score\n",
    "import scikitplot as skplt\n",
    "from sklearn.model_selection import train_test_split\n",
    "\n",
    "%matplotlib inline"
   ]
  },
  {
   "cell_type": "code",
   "execution_count": 6,
   "metadata": {},
   "outputs": [],
   "source": [
    "#valores estaticos\n",
    "TEST_SIZE=0.20\n",
    "RANDOM_STATE=42"
   ]
  },
  {
   "cell_type": "code",
   "execution_count": 7,
   "metadata": {},
   "outputs": [
    {
     "name": "stderr",
     "output_type": "stream",
     "text": [
      "/home/seba/anaconda3/lib/python3.6/site-packages/numpy/lib/arraysetops.py:472: FutureWarning: elementwise comparison failed; returning scalar instead, but in the future will perform elementwise comparison\n",
      "  mask |= (ar1 == a)\n"
     ]
    },
    {
     "name": "stdout",
     "output_type": "stream",
     "text": [
      "<class 'pandas.core.frame.DataFrame'>\n",
      "Int64Index: 1268770 entries, 1690 to 21096072\n",
      "Data columns (total 37 columns):\n",
      "6m                               1268770 non-null int64\n",
      "5m                               1268770 non-null int64\n",
      "4m                               1268770 non-null int64\n",
      "3m                               1268770 non-null int64\n",
      "2m                               1268770 non-null int64\n",
      "1m                               1268770 non-null int64\n",
      "6m_rel                           1268770 non-null int64\n",
      "5m_rel                           1268770 non-null int64\n",
      "4m_rel                           1268770 non-null int64\n",
      "3m_rel                           1268770 non-null int64\n",
      "2m_rel                           1268770 non-null int64\n",
      "1m_rel                           1268770 non-null int64\n",
      "edad_r                           1268770 non-null int64\n",
      "Churn                            1268770 non-null int64\n",
      "GENDER_F                         1268770 non-null int64\n",
      "GENDER_M                         1268770 non-null int64\n",
      "MARITAL_STATUS_Casado            1268770 non-null int64\n",
      "MARITAL_STATUS_Conviv            1268770 non-null int64\n",
      "MARITAL_STATUS_Divorciado        1268770 non-null int64\n",
      "MARITAL_STATUS_No Corresp        1268770 non-null int64\n",
      "MARITAL_STATUS_Separado          1268770 non-null int64\n",
      "MARITAL_STATUS_Soltero           1268770 non-null int64\n",
      "MARITAL_STATUS_Union Civ         1268770 non-null int64\n",
      "MARITAL_STATUS_Viudo             1268770 non-null int64\n",
      "EDUCATION_N                      1268770 non-null int64\n",
      "EDUCATION_S                      1268770 non-null int64\n",
      "EDUCATION_LEVEL_PRIMARIO         1268770 non-null int64\n",
      "EDUCATION_LEVEL_SECUNDARIO       1268770 non-null int64\n",
      "EDUCATION_LEVEL_TERCIARIO        1268770 non-null int64\n",
      "EDUCATION_LEVEL_UNIVERSITARIO    1268770 non-null int64\n",
      "ModoPago_BA                      1268770 non-null int64\n",
      "ModoPago_CC                      1268770 non-null int64\n",
      "ModoPago_Mix                     1268770 non-null int64\n",
      "ModoPago_PP                      1268770 non-null int64\n",
      "ModoPago_SJ                      1268770 non-null int64\n",
      "ModoPago_TA                      1268770 non-null int64\n",
      "ModoPago_TM                      1268770 non-null int64\n",
      "dtypes: int64(37)\n",
      "memory usage: 367.8 MB\n"
     ]
    }
   ],
   "source": [
    "df = pd.read_csv(\"../../data/processed/4.4/train/m1.0 - mes actual dumies - 6m.N.polizaXmes y Info.Cliente.M.Pago.csv\", index_col=\"Unnamed: 0\")\n",
    "df.info()"
   ]
  },
  {
   "cell_type": "code",
   "execution_count": 8,
   "metadata": {},
   "outputs": [
    {
     "data": {
      "text/plain": [
       "1.7311254206830238"
      ]
     },
     "execution_count": 8,
     "metadata": {},
     "output_type": "execute_result"
    }
   ],
   "source": [
    "#distrib de churn\n",
    "np.sum(df[\"Churn\"]) / len(df) * 100"
   ]
  },
  {
   "cell_type": "markdown",
   "metadata": {},
   "source": [
    "# Muestra random"
   ]
  },
  {
   "cell_type": "code",
   "execution_count": 9,
   "metadata": {},
   "outputs": [],
   "source": [
    "msk = np.random.rand(len(df)) < 0.6"
   ]
  },
  {
   "cell_type": "code",
   "execution_count": 10,
   "metadata": {},
   "outputs": [
    {
     "data": {
      "text/plain": [
       "'\\nfrom sklearn.model_selection import StratifiedShuffleSplit\\n\\n\\nsss = StratifiedShuffleSplit(n_splits=1, test_size=size, random_state=RANDOM_STATE)\\nfor train_index, val_index in sss.split(X,y):\\n    X_train, X_val = X[train_index], X[val_index]\\n    y_train, y_val = y[train_index], y[val_index]\\n\\n'"
      ]
     },
     "execution_count": 10,
     "metadata": {},
     "output_type": "execute_result"
    }
   ],
   "source": [
    "RANDOM_STATE=42\n",
    "size = 0.6\n",
    "\"\"\"\n",
    "from sklearn.model_selection import StratifiedShuffleSplit\n",
    "\n",
    "\n",
    "sss = StratifiedShuffleSplit(n_splits=1, test_size=size, random_state=RANDOM_STATE)\n",
    "for train_index, val_index in sss.split(X,y):\n",
    "    X_train, X_val = X[train_index], X[val_index]\n",
    "    y_train, y_val = y[train_index], y[val_index]\n",
    "\n",
    "\"\"\""
   ]
  },
  {
   "cell_type": "code",
   "execution_count": 11,
   "metadata": {},
   "outputs": [
    {
     "name": "stdout",
     "output_type": "stream",
     "text": [
      "<class 'pandas.core.frame.DataFrame'>\n",
      "Int64Index: 761231 entries, 1690 to 21096072\n",
      "Data columns (total 37 columns):\n",
      "6m                               761231 non-null int64\n",
      "5m                               761231 non-null int64\n",
      "4m                               761231 non-null int64\n",
      "3m                               761231 non-null int64\n",
      "2m                               761231 non-null int64\n",
      "1m                               761231 non-null int64\n",
      "6m_rel                           761231 non-null int64\n",
      "5m_rel                           761231 non-null int64\n",
      "4m_rel                           761231 non-null int64\n",
      "3m_rel                           761231 non-null int64\n",
      "2m_rel                           761231 non-null int64\n",
      "1m_rel                           761231 non-null int64\n",
      "edad_r                           761231 non-null int64\n",
      "Churn                            761231 non-null int64\n",
      "GENDER_F                         761231 non-null int64\n",
      "GENDER_M                         761231 non-null int64\n",
      "MARITAL_STATUS_Casado            761231 non-null int64\n",
      "MARITAL_STATUS_Conviv            761231 non-null int64\n",
      "MARITAL_STATUS_Divorciado        761231 non-null int64\n",
      "MARITAL_STATUS_No Corresp        761231 non-null int64\n",
      "MARITAL_STATUS_Separado          761231 non-null int64\n",
      "MARITAL_STATUS_Soltero           761231 non-null int64\n",
      "MARITAL_STATUS_Union Civ         761231 non-null int64\n",
      "MARITAL_STATUS_Viudo             761231 non-null int64\n",
      "EDUCATION_N                      761231 non-null int64\n",
      "EDUCATION_S                      761231 non-null int64\n",
      "EDUCATION_LEVEL_PRIMARIO         761231 non-null int64\n",
      "EDUCATION_LEVEL_SECUNDARIO       761231 non-null int64\n",
      "EDUCATION_LEVEL_TERCIARIO        761231 non-null int64\n",
      "EDUCATION_LEVEL_UNIVERSITARIO    761231 non-null int64\n",
      "ModoPago_BA                      761231 non-null int64\n",
      "ModoPago_CC                      761231 non-null int64\n",
      "ModoPago_Mix                     761231 non-null int64\n",
      "ModoPago_PP                      761231 non-null int64\n",
      "ModoPago_SJ                      761231 non-null int64\n",
      "ModoPago_TA                      761231 non-null int64\n",
      "ModoPago_TM                      761231 non-null int64\n",
      "dtypes: int64(37)\n",
      "memory usage: 220.7 MB\n"
     ]
    }
   ],
   "source": [
    "df = df[msk]\n",
    "df.info()"
   ]
  },
  {
   "cell_type": "code",
   "execution_count": 12,
   "metadata": {},
   "outputs": [
    {
     "data": {
      "text/plain": [
       "0.017239182324419264"
      ]
     },
     "execution_count": 12,
     "metadata": {},
     "output_type": "execute_result"
    }
   ],
   "source": [
    "#distrib de churn\n",
    "np.sum(df[\"Churn\"]) / len(df)"
   ]
  },
  {
   "cell_type": "markdown",
   "metadata": {},
   "source": [
    "# split data set"
   ]
  },
  {
   "cell_type": "code",
   "execution_count": 13,
   "metadata": {},
   "outputs": [],
   "source": [
    "X = df.drop(columns=[\"Churn\"], axis=1)\n",
    "y = df[\"Churn\"]"
   ]
  },
  {
   "cell_type": "code",
   "execution_count": 14,
   "metadata": {},
   "outputs": [],
   "source": [
    "X_train, X_test, y_train, y_test = train_test_split(X, y, test_size=TEST_SIZE, random_state=RANDOM_STATE)"
   ]
  },
  {
   "cell_type": "code",
   "execution_count": 15,
   "metadata": {},
   "outputs": [
    {
     "name": "stdout",
     "output_type": "stream",
     "text": [
      "train: 608984 - test: 152247\n"
     ]
    }
   ],
   "source": [
    "print(\"train: {} - test: {}\".format(len(X_train), len(X_test)))"
   ]
  },
  {
   "cell_type": "code",
   "execution_count": 16,
   "metadata": {},
   "outputs": [
    {
     "data": {
      "text/plain": [
       "0.017222127346531273"
      ]
     },
     "execution_count": 16,
     "metadata": {},
     "output_type": "execute_result"
    }
   ],
   "source": [
    "#distrib de churn\n",
    "np.sum(y_train) / len(y_train)"
   ]
  },
  {
   "cell_type": "code",
   "execution_count": 17,
   "metadata": {},
   "outputs": [
    {
     "data": {
      "text/html": [
       "<div>\n",
       "<style scoped>\n",
       "    .dataframe tbody tr th:only-of-type {\n",
       "        vertical-align: middle;\n",
       "    }\n",
       "\n",
       "    .dataframe tbody tr th {\n",
       "        vertical-align: top;\n",
       "    }\n",
       "\n",
       "    .dataframe thead th {\n",
       "        text-align: right;\n",
       "    }\n",
       "</style>\n",
       "<table border=\"1\" class=\"dataframe\">\n",
       "  <thead>\n",
       "    <tr style=\"text-align: right;\">\n",
       "      <th></th>\n",
       "      <th>6m</th>\n",
       "      <th>5m</th>\n",
       "      <th>4m</th>\n",
       "      <th>3m</th>\n",
       "      <th>2m</th>\n",
       "      <th>1m</th>\n",
       "      <th>6m_rel</th>\n",
       "      <th>5m_rel</th>\n",
       "      <th>4m_rel</th>\n",
       "      <th>3m_rel</th>\n",
       "      <th>...</th>\n",
       "      <th>EDUCATION_LEVEL_SECUNDARIO</th>\n",
       "      <th>EDUCATION_LEVEL_TERCIARIO</th>\n",
       "      <th>EDUCATION_LEVEL_UNIVERSITARIO</th>\n",
       "      <th>ModoPago_BA</th>\n",
       "      <th>ModoPago_CC</th>\n",
       "      <th>ModoPago_Mix</th>\n",
       "      <th>ModoPago_PP</th>\n",
       "      <th>ModoPago_SJ</th>\n",
       "      <th>ModoPago_TA</th>\n",
       "      <th>ModoPago_TM</th>\n",
       "    </tr>\n",
       "  </thead>\n",
       "  <tbody>\n",
       "    <tr>\n",
       "      <th>10881356</th>\n",
       "      <td>1</td>\n",
       "      <td>1</td>\n",
       "      <td>1</td>\n",
       "      <td>1</td>\n",
       "      <td>1</td>\n",
       "      <td>1</td>\n",
       "      <td>0</td>\n",
       "      <td>1</td>\n",
       "      <td>1</td>\n",
       "      <td>1</td>\n",
       "      <td>...</td>\n",
       "      <td>0</td>\n",
       "      <td>0</td>\n",
       "      <td>0</td>\n",
       "      <td>0</td>\n",
       "      <td>0</td>\n",
       "      <td>1</td>\n",
       "      <td>0</td>\n",
       "      <td>0</td>\n",
       "      <td>0</td>\n",
       "      <td>0</td>\n",
       "    </tr>\n",
       "    <tr>\n",
       "      <th>3309383</th>\n",
       "      <td>2</td>\n",
       "      <td>2</td>\n",
       "      <td>2</td>\n",
       "      <td>2</td>\n",
       "      <td>2</td>\n",
       "      <td>2</td>\n",
       "      <td>2</td>\n",
       "      <td>17</td>\n",
       "      <td>11</td>\n",
       "      <td>11</td>\n",
       "      <td>...</td>\n",
       "      <td>0</td>\n",
       "      <td>0</td>\n",
       "      <td>0</td>\n",
       "      <td>0</td>\n",
       "      <td>0</td>\n",
       "      <td>1</td>\n",
       "      <td>0</td>\n",
       "      <td>0</td>\n",
       "      <td>0</td>\n",
       "      <td>0</td>\n",
       "    </tr>\n",
       "    <tr>\n",
       "      <th>6020405</th>\n",
       "      <td>1</td>\n",
       "      <td>1</td>\n",
       "      <td>1</td>\n",
       "      <td>1</td>\n",
       "      <td>1</td>\n",
       "      <td>1</td>\n",
       "      <td>0</td>\n",
       "      <td>8</td>\n",
       "      <td>0</td>\n",
       "      <td>0</td>\n",
       "      <td>...</td>\n",
       "      <td>0</td>\n",
       "      <td>0</td>\n",
       "      <td>0</td>\n",
       "      <td>0</td>\n",
       "      <td>0</td>\n",
       "      <td>1</td>\n",
       "      <td>0</td>\n",
       "      <td>0</td>\n",
       "      <td>0</td>\n",
       "      <td>0</td>\n",
       "    </tr>\n",
       "    <tr>\n",
       "      <th>1434869</th>\n",
       "      <td>1</td>\n",
       "      <td>1</td>\n",
       "      <td>1</td>\n",
       "      <td>1</td>\n",
       "      <td>1</td>\n",
       "      <td>1</td>\n",
       "      <td>1</td>\n",
       "      <td>1</td>\n",
       "      <td>1</td>\n",
       "      <td>2</td>\n",
       "      <td>...</td>\n",
       "      <td>0</td>\n",
       "      <td>0</td>\n",
       "      <td>0</td>\n",
       "      <td>0</td>\n",
       "      <td>0</td>\n",
       "      <td>1</td>\n",
       "      <td>0</td>\n",
       "      <td>0</td>\n",
       "      <td>0</td>\n",
       "      <td>0</td>\n",
       "    </tr>\n",
       "    <tr>\n",
       "      <th>18569419</th>\n",
       "      <td>1</td>\n",
       "      <td>0</td>\n",
       "      <td>0</td>\n",
       "      <td>0</td>\n",
       "      <td>0</td>\n",
       "      <td>0</td>\n",
       "      <td>0</td>\n",
       "      <td>1</td>\n",
       "      <td>0</td>\n",
       "      <td>0</td>\n",
       "      <td>...</td>\n",
       "      <td>0</td>\n",
       "      <td>0</td>\n",
       "      <td>0</td>\n",
       "      <td>0</td>\n",
       "      <td>0</td>\n",
       "      <td>0</td>\n",
       "      <td>1</td>\n",
       "      <td>0</td>\n",
       "      <td>0</td>\n",
       "      <td>0</td>\n",
       "    </tr>\n",
       "  </tbody>\n",
       "</table>\n",
       "<p>5 rows × 36 columns</p>\n",
       "</div>"
      ],
      "text/plain": [
       "          6m  5m  4m  3m  2m  1m  6m_rel  5m_rel  4m_rel  3m_rel     ...       \\\n",
       "10881356   1   1   1   1   1   1       0       1       1       1     ...        \n",
       "3309383    2   2   2   2   2   2       2      17      11      11     ...        \n",
       "6020405    1   1   1   1   1   1       0       8       0       0     ...        \n",
       "1434869    1   1   1   1   1   1       1       1       1       2     ...        \n",
       "18569419   1   0   0   0   0   0       0       1       0       0     ...        \n",
       "\n",
       "          EDUCATION_LEVEL_SECUNDARIO  EDUCATION_LEVEL_TERCIARIO  \\\n",
       "10881356                           0                          0   \n",
       "3309383                            0                          0   \n",
       "6020405                            0                          0   \n",
       "1434869                            0                          0   \n",
       "18569419                           0                          0   \n",
       "\n",
       "          EDUCATION_LEVEL_UNIVERSITARIO  ModoPago_BA  ModoPago_CC  \\\n",
       "10881356                              0            0            0   \n",
       "3309383                               0            0            0   \n",
       "6020405                               0            0            0   \n",
       "1434869                               0            0            0   \n",
       "18569419                              0            0            0   \n",
       "\n",
       "          ModoPago_Mix  ModoPago_PP  ModoPago_SJ  ModoPago_TA  ModoPago_TM  \n",
       "10881356             1            0            0            0            0  \n",
       "3309383              1            0            0            0            0  \n",
       "6020405              1            0            0            0            0  \n",
       "1434869              1            0            0            0            0  \n",
       "18569419             0            1            0            0            0  \n",
       "\n",
       "[5 rows x 36 columns]"
      ]
     },
     "execution_count": 17,
     "metadata": {},
     "output_type": "execute_result"
    }
   ],
   "source": [
    "X_train.head()"
   ]
  },
  {
   "cell_type": "markdown",
   "metadata": {},
   "source": [
    "# Modelo 1: Simple Random Forest"
   ]
  },
  {
   "cell_type": "code",
   "execution_count": 69,
   "metadata": {},
   "outputs": [],
   "source": [
    "from sklearn.preprocessing import StandardScaler\n",
    "from sklearn.pipeline import Pipeline\n",
    "from sklearn.model_selection import GridSearchCV\n",
    "from sklearn.externals import joblib\n",
    "from sklearn.ensemble import RandomForestClassifier\n",
    "from sklearn import svm\n",
    "\n",
    "\n",
    "from sklearn.metrics import make_scorer\n",
    "from sklearn.metrics import accuracy_score"
   ]
  },
  {
   "cell_type": "code",
   "execution_count": null,
   "metadata": {},
   "outputs": [],
   "source": [
    "#modelo sin optimizar de prueba\n",
    "class_weight = dict({0:1, 1:500})\n",
    "clf = RandomForestClassifier(class_weight=class_weight,\n",
    "                            criterion='gini', max_depth=None, max_features='auto',\n",
    "                            max_leaf_nodes=None, min_impurity_decrease=0.0,\n",
    "                            min_impurity_split=None, min_samples_leaf=20,\n",
    "                            min_samples_split=6, min_weight_fraction_leaf=0.0,\n",
    "                            n_estimators=8,\n",
    "                            n_jobs=-1, random_state=RANDOM_STATE)\n",
    "\n",
    "clf = svm.SVC()\n",
    "\n",
    "clf.fit(X_train, y_train)\n"
   ]
  },
  {
   "cell_type": "code",
   "execution_count": null,
   "metadata": {},
   "outputs": [],
   "source": [
    "y_pred = clf.predict(X_test)\n",
    "\n",
    "print('Test set roc auc score for best params: %.3f ' % roc_auc_score(y_test, y_pred))\n",
    "\n",
    "skplt.metrics.plot_confusion_matrix(y_test, y_pred, normalize=True)"
   ]
  },
  {
   "cell_type": "code",
   "execution_count": 51,
   "metadata": {},
   "outputs": [
    {
     "name": "stdout",
     "output_type": "stream",
     "text": [
      "<class 'pandas.core.frame.DataFrame'>\n",
      "Int64Index: 39102 entries, 1690 to 20609007\n",
      "Data columns (total 37 columns):\n",
      "6m                               39102 non-null float64\n",
      "5m                               39102 non-null float64\n",
      "4m                               39102 non-null float64\n",
      "3m                               39102 non-null float64\n",
      "2m                               39102 non-null float64\n",
      "1m                               39102 non-null float64\n",
      "edad_r                           39102 non-null float64\n",
      "6m_rel                           39102 non-null float64\n",
      "5m_rel                           39102 non-null float64\n",
      "4m_rel                           39102 non-null float64\n",
      "3m_rel                           39102 non-null float64\n",
      "2m_rel                           39102 non-null float64\n",
      "1m_rel                           39102 non-null float64\n",
      "Churn                            39102 non-null int64\n",
      "GENDER_F                         39102 non-null int64\n",
      "GENDER_M                         39102 non-null int64\n",
      "MARITAL_STATUS_Casado            39102 non-null int64\n",
      "MARITAL_STATUS_Conviv            39102 non-null int64\n",
      "MARITAL_STATUS_Divorciado        39102 non-null int64\n",
      "MARITAL_STATUS_No Corresp        39102 non-null int64\n",
      "MARITAL_STATUS_Separado          39102 non-null int64\n",
      "MARITAL_STATUS_Soltero           39102 non-null int64\n",
      "MARITAL_STATUS_Union Civ         39102 non-null int64\n",
      "MARITAL_STATUS_Viudo             39102 non-null int64\n",
      "EDUCATION_N                      39102 non-null int64\n",
      "EDUCATION_S                      39102 non-null int64\n",
      "EDUCATION_LEVEL_PRIMARIO         39102 non-null int64\n",
      "EDUCATION_LEVEL_SECUNDARIO       39102 non-null int64\n",
      "EDUCATION_LEVEL_TERCIARIO        39102 non-null int64\n",
      "EDUCATION_LEVEL_UNIVERSITARIO    39102 non-null int64\n",
      "ModoPago_BA                      39102 non-null int64\n",
      "ModoPago_CC                      39102 non-null int64\n",
      "ModoPago_Mix                     39102 non-null int64\n",
      "ModoPago_PP                      39102 non-null int64\n",
      "ModoPago_SJ                      39102 non-null int64\n",
      "ModoPago_TA                      39102 non-null int64\n",
      "ModoPago_TM                      39102 non-null int64\n",
      "dtypes: float64(13), int64(24)\n",
      "memory usage: 11.3 MB\n"
     ]
    }
   ],
   "source": [
    "#evaluación contra el testeo externo\n",
    "df_testo_ext = pd.read_csv(\"../../data/processed/4.4/test_cliente/m1.0 - mes actual dummies - churn estricto - 6m.N.polizaXmes y Info.Cliente.M.Pago.csv\", index_col=\"Unnamed: 0\")\n",
    "df_testo_ext.info()"
   ]
  },
  {
   "cell_type": "code",
   "execution_count": 56,
   "metadata": {},
   "outputs": [
    {
     "data": {
      "text/plain": [
       "0.01427036980205616"
      ]
     },
     "execution_count": 56,
     "metadata": {},
     "output_type": "execute_result"
    }
   ],
   "source": [
    "np.sum(y_testeo_ext) / len(df_testo_ext)"
   ]
  },
  {
   "cell_type": "code",
   "execution_count": 65,
   "metadata": {},
   "outputs": [],
   "source": [
    "X_testo_ext = df_testo_ext.drop(\"Churn\", axis=1)\n",
    "y_testeo_ext = df_testo_ext[\"Churn\"]"
   ]
  },
  {
   "cell_type": "code",
   "execution_count": 66,
   "metadata": {},
   "outputs": [
    {
     "data": {
      "text/plain": [
       "0.6270703890428814"
      ]
     },
     "execution_count": 66,
     "metadata": {},
     "output_type": "execute_result"
    }
   ],
   "source": [
    "y_pred_testeo_ext = clf.predict(X_testo_ext)\n",
    "roc_auc_score(y_testeo_ext, y_pred_testeo_ext)"
   ]
  },
  {
   "cell_type": "code",
   "execution_count": 68,
   "metadata": {},
   "outputs": [
    {
     "data": {
      "text/plain": [
       "<matplotlib.axes._subplots.AxesSubplot at 0x7f0a88e67eb8>"
      ]
     },
     "execution_count": 68,
     "metadata": {},
     "output_type": "execute_result"
    },
    {
     "data": {
      "image/png": "[encoded data removed]",
      "text/plain": [
       "<Figure size 432x288 with 2 Axes>"
      ]
     },
     "metadata": {},
     "output_type": "display_data"
    }
   ],
   "source": [
    "skplt.metrics.plot_confusion_matrix(y_testeo_ext, y_pred_testeo_ext, normalize=True)"
   ]
  },
  {
   "cell_type": "markdown",
   "metadata": {},
   "source": [
    "# Optimizando parametros"
   ]
  },
  {
   "cell_type": "code",
   "execution_count": 25,
   "metadata": {},
   "outputs": [
    {
     "data": {
      "text/plain": [
       "GridSearchCV(cv=3, error_score='raise',\n",
       "       estimator=Pipeline(memory=None,\n",
       "     steps=[('scl', StandardScaler(copy=True, with_mean=True, with_std=True)), ('clf', RandomForestClassifier(bootstrap=True, class_weight=None, criterion='gini',\n",
       "            max_depth=None, max_features='auto', max_leaf_nodes=None,\n",
       "            min_impurity_decrease=0...timators=10, n_jobs=1,\n",
       "            oob_score=False, random_state=42, verbose=0, warm_start=False))]),\n",
       "       fit_params=None, iid=True, n_jobs=-1,\n",
       "       param_grid=[{'clf__criterion': ['gini', 'entropy'], 'clf__min_samples_leaf': [2, 6, 8, 12], 'clf__min_samples_split': [2, 6, 8, 12], 'clf__class_weight': [{0: 1, 1: 10}, {0: 1, 1: 20}, {0: 1, 1: 25}]}],\n",
       "       pre_dispatch='2*n_jobs', refit='AUC', return_train_score='warn',\n",
       "       scoring={'AUC': 'roc_auc', 'Accuracy': make_scorer(accuracy_score)},\n",
       "       verbose=2)"
      ]
     },
     "execution_count": 25,
     "metadata": {},
     "output_type": "execute_result"
    }
   ],
   "source": [
    "#param_range = [1, 2, 3, 4, 5, 6, 7, 8, 9, 10]\n",
    "param_range = [2, 6, 8, 12]\n",
    "#param_range_fl = [1.0, 0.5, 0.1]\n",
    "class_weight_range = [{0:1, 1:10},{0:1, 1:20},{0:1, 1:25}]\n",
    "#param_range_fl = np.power(10., np.arange(-4, 4))\n",
    "\n",
    "\n",
    "#'clf__max_depth': param_range,\n",
    "grid_params_rf = [{'clf__criterion': ['gini', 'entropy'],\n",
    "\t\t'clf__min_samples_leaf': param_range,\n",
    "\t\t'clf__min_samples_split': param_range,\n",
    "    'clf__class_weight' : class_weight_range}]\n",
    "\n",
    "pipe_rf = Pipeline([('scl', StandardScaler()),\n",
    "                    ('clf', RandomForestClassifier(random_state=RANDOM_STATE))])\n",
    "\n",
    "# Construct grid searches\n",
    "jobs = -1\n",
    "#scoring = \"roc_auc\"\n",
    "#scoring = \"roc_auc\" #http://scikit-learn.org/stable/auto_examples/model_selection/plot_multi_metric_evaluation.html\n",
    "scoring = {'AUC': 'roc_auc', 'Accuracy': make_scorer(accuracy_score)}\n",
    "cv = 3\n",
    "\n",
    "#refit=True, entrena el mejor modelo obtenido con todo el dataset! :D\n",
    "#verbose => mientras mayor el número, más info va mostrando.\n",
    "gs_rf = GridSearchCV(estimator=pipe_rf,\n",
    "            param_grid=grid_params_rf,\n",
    "            scoring=scoring,\n",
    "            cv=cv,\n",
    "            verbose=2,\n",
    "            refit=\"AUC\",\n",
    "            n_jobs=jobs)\n",
    "gs_rf"
   ]
  },
  {
   "cell_type": "code",
   "execution_count": 26,
   "metadata": {},
   "outputs": [
    {
     "name": "stdout",
     "output_type": "stream",
     "text": [
      "Fitting 3 folds for each of 96 candidates, totalling 288 fits\n",
      "[CV] clf__class_weight={0: 1, 1: 10}, clf__criterion=gini, clf__min_samples_leaf=2, clf__min_samples_split=2 \n",
      "[CV] clf__class_weight={0: 1, 1: 10}, clf__criterion=gini, clf__min_samples_leaf=2, clf__min_samples_split=2 \n",
      "[CV] clf__class_weight={0: 1, 1: 10}, clf__criterion=gini, clf__min_samples_leaf=2, clf__min_samples_split=2 \n",
      "[CV] clf__class_weight={0: 1, 1: 10}, clf__criterion=gini, clf__min_samples_leaf=2, clf__min_samples_split=6 \n",
      "[CV]  clf__class_weight={0: 1, 1: 10}, clf__criterion=gini, clf__min_samples_leaf=2, clf__min_samples_split=2, total=  23.5s\n",
      "[CV] clf__class_weight={0: 1, 1: 10}, clf__criterion=gini, clf__min_samples_leaf=2, clf__min_samples_split=6 \n",
      "[CV]  clf__class_weight={0: 1, 1: 10}, clf__criterion=gini, clf__min_samples_leaf=2, clf__min_samples_split=2, total=  23.9s\n",
      "[CV] clf__class_weight={0: 1, 1: 10}, clf__criterion=gini, clf__min_samples_leaf=2, clf__min_samples_split=6 \n",
      "[CV]  clf__class_weight={0: 1, 1: 10}, clf__criterion=gini, clf__min_samples_leaf=2, clf__min_samples_split=6, total=  26.8s\n",
      "[CV] clf__class_weight={0: 1, 1: 10}, clf__criterion=gini, clf__min_samples_leaf=2, clf__min_samples_split=8 \n",
      "[CV]  clf__class_weight={0: 1, 1: 10}, clf__criterion=gini, clf__min_samples_leaf=2, clf__min_samples_split=2, total=  27.7s\n",
      "[CV] clf__class_weight={0: 1, 1: 10}, clf__criterion=gini, clf__min_samples_leaf=2, clf__min_samples_split=8 \n",
      "[CV]  clf__class_weight={0: 1, 1: 10}, clf__criterion=gini, clf__min_samples_leaf=2, clf__min_samples_split=6, total=  43.6s\n",
      "[CV] clf__class_weight={0: 1, 1: 10}, clf__criterion=gini, clf__min_samples_leaf=2, clf__min_samples_split=8 \n",
      "[CV]  clf__class_weight={0: 1, 1: 10}, clf__criterion=gini, clf__min_samples_leaf=2, clf__min_samples_split=6, total=  47.0s\n",
      "[CV] clf__class_weight={0: 1, 1: 10}, clf__criterion=gini, clf__min_samples_leaf=2, clf__min_samples_split=12 \n",
      "[CV]  clf__class_weight={0: 1, 1: 10}, clf__criterion=gini, clf__min_samples_leaf=2, clf__min_samples_split=8, total=  43.1s\n",
      "[CV] clf__class_weight={0: 1, 1: 10}, clf__criterion=gini, clf__min_samples_leaf=2, clf__min_samples_split=12 \n",
      "[CV]  clf__class_weight={0: 1, 1: 10}, clf__criterion=gini, clf__min_samples_leaf=2, clf__min_samples_split=8, total=  43.9s\n",
      "[CV] clf__class_weight={0: 1, 1: 10}, clf__criterion=gini, clf__min_samples_leaf=2, clf__min_samples_split=12 \n",
      "[CV]  clf__class_weight={0: 1, 1: 10}, clf__criterion=gini, clf__min_samples_leaf=2, clf__min_samples_split=8, total=  43.3s\n",
      "[CV] clf__class_weight={0: 1, 1: 10}, clf__criterion=gini, clf__min_samples_leaf=6, clf__min_samples_split=2 \n",
      "[CV]  clf__class_weight={0: 1, 1: 10}, clf__criterion=gini, clf__min_samples_leaf=2, clf__min_samples_split=12, total=  45.2s\n",
      "[CV] clf__class_weight={0: 1, 1: 10}, clf__criterion=gini, clf__min_samples_leaf=6, clf__min_samples_split=2 \n",
      "[CV]  clf__class_weight={0: 1, 1: 10}, clf__criterion=gini, clf__min_samples_leaf=2, clf__min_samples_split=12, total=  42.8s\n",
      "[CV] clf__class_weight={0: 1, 1: 10}, clf__criterion=gini, clf__min_samples_leaf=6, clf__min_samples_split=2 \n",
      "[CV]  clf__class_weight={0: 1, 1: 10}, clf__criterion=gini, clf__min_samples_leaf=2, clf__min_samples_split=12, total=  42.3s\n",
      "[CV] clf__class_weight={0: 1, 1: 10}, clf__criterion=gini, clf__min_samples_leaf=6, clf__min_samples_split=6 \n",
      "[CV]  clf__class_weight={0: 1, 1: 10}, clf__criterion=gini, clf__min_samples_leaf=6, clf__min_samples_split=2, total=  42.6s\n",
      "[CV] clf__class_weight={0: 1, 1: 10}, clf__criterion=gini, clf__min_samples_leaf=6, clf__min_samples_split=6 \n",
      "[CV]  clf__class_weight={0: 1, 1: 10}, clf__criterion=gini, clf__min_samples_leaf=6, clf__min_samples_split=6, total=  40.3s\n",
      "[CV] clf__class_weight={0: 1, 1: 10}, clf__criterion=gini, clf__min_samples_leaf=6, clf__min_samples_split=6 \n",
      "[CV]  clf__class_weight={0: 1, 1: 10}, clf__criterion=gini, clf__min_samples_leaf=6, clf__min_samples_split=2, total=  41.9s\n",
      "[CV] clf__class_weight={0: 1, 1: 10}, clf__criterion=gini, clf__min_samples_leaf=6, clf__min_samples_split=8 \n",
      "[CV]  clf__class_weight={0: 1, 1: 10}, clf__criterion=gini, clf__min_samples_leaf=6, clf__min_samples_split=2, total=  42.8s\n",
      "[CV] clf__class_weight={0: 1, 1: 10}, clf__criterion=gini, clf__min_samples_leaf=6, clf__min_samples_split=8 \n",
      "[CV]  clf__class_weight={0: 1, 1: 10}, clf__criterion=gini, clf__min_samples_leaf=6, clf__min_samples_split=6, total=  42.1s\n",
      "[CV] clf__class_weight={0: 1, 1: 10}, clf__criterion=gini, clf__min_samples_leaf=6, clf__min_samples_split=8 \n",
      "[CV]  clf__class_weight={0: 1, 1: 10}, clf__criterion=gini, clf__min_samples_leaf=6, clf__min_samples_split=6, total=  40.2s\n",
      "[CV] clf__class_weight={0: 1, 1: 10}, clf__criterion=gini, clf__min_samples_leaf=6, clf__min_samples_split=12 \n",
      "[CV]  clf__class_weight={0: 1, 1: 10}, clf__criterion=gini, clf__min_samples_leaf=6, clf__min_samples_split=8, total=  42.5s\n",
      "[CV] clf__class_weight={0: 1, 1: 10}, clf__criterion=gini, clf__min_samples_leaf=6, clf__min_samples_split=12 \n",
      "[CV]  clf__class_weight={0: 1, 1: 10}, clf__criterion=gini, clf__min_samples_leaf=6, clf__min_samples_split=8, total=  42.9s\n",
      "[CV] clf__class_weight={0: 1, 1: 10}, clf__criterion=gini, clf__min_samples_leaf=6, clf__min_samples_split=12 \n",
      "[CV]  clf__class_weight={0: 1, 1: 10}, clf__criterion=gini, clf__min_samples_leaf=6, clf__min_samples_split=8, total=  42.4s\n",
      "[CV] clf__class_weight={0: 1, 1: 10}, clf__criterion=gini, clf__min_samples_leaf=8, clf__min_samples_split=2 \n",
      "[CV]  clf__class_weight={0: 1, 1: 10}, clf__criterion=gini, clf__min_samples_leaf=6, clf__min_samples_split=12, total=  42.7s\n",
      "[CV] clf__class_weight={0: 1, 1: 10}, clf__criterion=gini, clf__min_samples_leaf=8, clf__min_samples_split=2 \n",
      "[CV]  clf__class_weight={0: 1, 1: 10}, clf__criterion=gini, clf__min_samples_leaf=6, clf__min_samples_split=12, total=  42.5s\n",
      "[CV] clf__class_weight={0: 1, 1: 10}, clf__criterion=gini, clf__min_samples_leaf=8, clf__min_samples_split=2 \n",
      "[CV]  clf__class_weight={0: 1, 1: 10}, clf__criterion=gini, clf__min_samples_leaf=6, clf__min_samples_split=12, total=  41.4s\n",
      "[CV] clf__class_weight={0: 1, 1: 10}, clf__criterion=gini, clf__min_samples_leaf=8, clf__min_samples_split=6 \n",
      "[CV]  clf__class_weight={0: 1, 1: 10}, clf__criterion=gini, clf__min_samples_leaf=8, clf__min_samples_split=2, total=  39.8s\n",
      "[CV] clf__class_weight={0: 1, 1: 10}, clf__criterion=gini, clf__min_samples_leaf=8, clf__min_samples_split=6 \n",
      "[CV]  clf__class_weight={0: 1, 1: 10}, clf__criterion=gini, clf__min_samples_leaf=8, clf__min_samples_split=2, total=  40.0s\n",
      "[CV] clf__class_weight={0: 1, 1: 10}, clf__criterion=gini, clf__min_samples_leaf=8, clf__min_samples_split=6 \n",
      "[CV]  clf__class_weight={0: 1, 1: 10}, clf__criterion=gini, clf__min_samples_leaf=8, clf__min_samples_split=6, total=  42.9s\n",
      "[CV] clf__class_weight={0: 1, 1: 10}, clf__criterion=gini, clf__min_samples_leaf=8, clf__min_samples_split=8 \n",
      "[CV]  clf__class_weight={0: 1, 1: 10}, clf__criterion=gini, clf__min_samples_leaf=8, clf__min_samples_split=2, total=  43.2s\n",
      "[CV] clf__class_weight={0: 1, 1: 10}, clf__criterion=gini, clf__min_samples_leaf=8, clf__min_samples_split=8 \n",
      "[CV]  clf__class_weight={0: 1, 1: 10}, clf__criterion=gini, clf__min_samples_leaf=8, clf__min_samples_split=6, total=  44.1s\n",
      "[CV] clf__class_weight={0: 1, 1: 10}, clf__criterion=gini, clf__min_samples_leaf=8, clf__min_samples_split=8 \n",
      "[CV]  clf__class_weight={0: 1, 1: 10}, clf__criterion=gini, clf__min_samples_leaf=8, clf__min_samples_split=6, total=  47.2s\n",
      "[CV] clf__class_weight={0: 1, 1: 10}, clf__criterion=gini, clf__min_samples_leaf=8, clf__min_samples_split=12 \n",
      "[CV]  clf__class_weight={0: 1, 1: 10}, clf__criterion=gini, clf__min_samples_leaf=8, clf__min_samples_split=8, total=  45.5s\n",
      "[CV] clf__class_weight={0: 1, 1: 10}, clf__criterion=gini, clf__min_samples_leaf=8, clf__min_samples_split=12 \n",
      "[CV]  clf__class_weight={0: 1, 1: 10}, clf__criterion=gini, clf__min_samples_leaf=8, clf__min_samples_split=8, total=  51.7s\n",
      "[CV] clf__class_weight={0: 1, 1: 10}, clf__criterion=gini, clf__min_samples_leaf=8, clf__min_samples_split=12 \n",
      "[CV]  clf__class_weight={0: 1, 1: 10}, clf__criterion=gini, clf__min_samples_leaf=8, clf__min_samples_split=8, total= 1.1min\n",
      "[CV] clf__class_weight={0: 1, 1: 10}, clf__criterion=gini, clf__min_samples_leaf=12, clf__min_samples_split=2 \n"
     ]
    },
    {
     "name": "stderr",
     "output_type": "stream",
     "text": [
      "[Parallel(n_jobs=-1)]: Done  33 tasks      | elapsed:  8.5min\n"
     ]
    },
    {
     "name": "stdout",
     "output_type": "stream",
     "text": [
      "[CV]  clf__class_weight={0: 1, 1: 10}, clf__criterion=gini, clf__min_samples_leaf=8, clf__min_samples_split=12, total= 1.0min\n",
      "[CV] clf__class_weight={0: 1, 1: 10}, clf__criterion=gini, clf__min_samples_leaf=12, clf__min_samples_split=2 \n",
      "[CV]  clf__class_weight={0: 1, 1: 10}, clf__criterion=gini, clf__min_samples_leaf=8, clf__min_samples_split=12, total= 1.1min\n",
      "[CV] clf__class_weight={0: 1, 1: 10}, clf__criterion=gini, clf__min_samples_leaf=12, clf__min_samples_split=2 \n",
      "[CV]  clf__class_weight={0: 1, 1: 10}, clf__criterion=gini, clf__min_samples_leaf=8, clf__min_samples_split=12, total= 1.0min\n",
      "[CV] clf__class_weight={0: 1, 1: 10}, clf__criterion=gini, clf__min_samples_leaf=12, clf__min_samples_split=6 \n",
      "[CV]  clf__class_weight={0: 1, 1: 10}, clf__criterion=gini, clf__min_samples_leaf=12, clf__min_samples_split=2, total= 1.0min\n",
      "[CV] clf__class_weight={0: 1, 1: 10}, clf__criterion=gini, clf__min_samples_leaf=12, clf__min_samples_split=6 \n",
      "[CV]  clf__class_weight={0: 1, 1: 10}, clf__criterion=gini, clf__min_samples_leaf=12, clf__min_samples_split=2, total= 1.0min\n",
      "[CV] clf__class_weight={0: 1, 1: 10}, clf__criterion=gini, clf__min_samples_leaf=12, clf__min_samples_split=6 \n",
      "[CV]  clf__class_weight={0: 1, 1: 10}, clf__criterion=gini, clf__min_samples_leaf=12, clf__min_samples_split=2, total= 1.1min\n",
      "[CV] clf__class_weight={0: 1, 1: 10}, clf__criterion=gini, clf__min_samples_leaf=12, clf__min_samples_split=8 \n",
      "[CV]  clf__class_weight={0: 1, 1: 10}, clf__criterion=gini, clf__min_samples_leaf=12, clf__min_samples_split=6, total= 1.1min\n",
      "[CV] clf__class_weight={0: 1, 1: 10}, clf__criterion=gini, clf__min_samples_leaf=12, clf__min_samples_split=8 \n",
      "[CV]  clf__class_weight={0: 1, 1: 10}, clf__criterion=gini, clf__min_samples_leaf=12, clf__min_samples_split=6, total=  53.9s\n",
      "[CV] clf__class_weight={0: 1, 1: 10}, clf__criterion=gini, clf__min_samples_leaf=12, clf__min_samples_split=8 \n",
      "[CV]  clf__class_weight={0: 1, 1: 10}, clf__criterion=gini, clf__min_samples_leaf=12, clf__min_samples_split=6, total=  49.9s\n",
      "[CV] clf__class_weight={0: 1, 1: 10}, clf__criterion=gini, clf__min_samples_leaf=12, clf__min_samples_split=12 \n",
      "[CV]  clf__class_weight={0: 1, 1: 10}, clf__criterion=gini, clf__min_samples_leaf=12, clf__min_samples_split=8, total=  52.3s\n",
      "[CV] clf__class_weight={0: 1, 1: 10}, clf__criterion=gini, clf__min_samples_leaf=12, clf__min_samples_split=12 \n",
      "[CV]  clf__class_weight={0: 1, 1: 10}, clf__criterion=gini, clf__min_samples_leaf=12, clf__min_samples_split=8, total=  52.7s\n",
      "[CV] clf__class_weight={0: 1, 1: 10}, clf__criterion=gini, clf__min_samples_leaf=12, clf__min_samples_split=12 \n",
      "[CV]  clf__class_weight={0: 1, 1: 10}, clf__criterion=gini, clf__min_samples_leaf=12, clf__min_samples_split=12, total=  50.4s\n",
      "[CV]  clf__class_weight={0: 1, 1: 10}, clf__criterion=gini, clf__min_samples_leaf=12, clf__min_samples_split=8, total=  50.3s\n",
      "[CV] clf__class_weight={0: 1, 1: 10}, clf__criterion=entropy, clf__min_samples_leaf=2, clf__min_samples_split=2 \n",
      "[CV] clf__class_weight={0: 1, 1: 10}, clf__criterion=entropy, clf__min_samples_leaf=2, clf__min_samples_split=2 \n",
      "[CV]  clf__class_weight={0: 1, 1: 10}, clf__criterion=gini, clf__min_samples_leaf=12, clf__min_samples_split=12, total=  50.5s\n",
      "[CV] clf__class_weight={0: 1, 1: 10}, clf__criterion=entropy, clf__min_samples_leaf=2, clf__min_samples_split=2 \n",
      "[CV]  clf__class_weight={0: 1, 1: 10}, clf__criterion=gini, clf__min_samples_leaf=12, clf__min_samples_split=12, total=  53.1s\n",
      "[CV] clf__class_weight={0: 1, 1: 10}, clf__criterion=entropy, clf__min_samples_leaf=2, clf__min_samples_split=6 \n",
      "[CV]  clf__class_weight={0: 1, 1: 10}, clf__criterion=entropy, clf__min_samples_leaf=2, clf__min_samples_split=2, total=  56.8s\n",
      "[CV] clf__class_weight={0: 1, 1: 10}, clf__criterion=entropy, clf__min_samples_leaf=2, clf__min_samples_split=6 \n",
      "[CV]  clf__class_weight={0: 1, 1: 10}, clf__criterion=entropy, clf__min_samples_leaf=2, clf__min_samples_split=2, total=  59.6s\n",
      "[CV] clf__class_weight={0: 1, 1: 10}, clf__criterion=entropy, clf__min_samples_leaf=2, clf__min_samples_split=6 \n",
      "[CV]  clf__class_weight={0: 1, 1: 10}, clf__criterion=entropy, clf__min_samples_leaf=2, clf__min_samples_split=2, total=  54.7s\n",
      "[CV] clf__class_weight={0: 1, 1: 10}, clf__criterion=entropy, clf__min_samples_leaf=2, clf__min_samples_split=8 \n",
      "[CV]  clf__class_weight={0: 1, 1: 10}, clf__criterion=entropy, clf__min_samples_leaf=2, clf__min_samples_split=6, total=  58.3s\n",
      "[CV] clf__class_weight={0: 1, 1: 10}, clf__criterion=entropy, clf__min_samples_leaf=2, clf__min_samples_split=8 \n",
      "[CV]  clf__class_weight={0: 1, 1: 10}, clf__criterion=entropy, clf__min_samples_leaf=2, clf__min_samples_split=6, total= 1.0min\n",
      "[CV] clf__class_weight={0: 1, 1: 10}, clf__criterion=entropy, clf__min_samples_leaf=2, clf__min_samples_split=8 \n",
      "[CV]  clf__class_weight={0: 1, 1: 10}, clf__criterion=entropy, clf__min_samples_leaf=2, clf__min_samples_split=6, total=  59.8s\n",
      "[CV] clf__class_weight={0: 1, 1: 10}, clf__criterion=entropy, clf__min_samples_leaf=2, clf__min_samples_split=12 \n",
      "[CV]  clf__class_weight={0: 1, 1: 10}, clf__criterion=entropy, clf__min_samples_leaf=2, clf__min_samples_split=8, total= 1.1min\n",
      "[CV] clf__class_weight={0: 1, 1: 10}, clf__criterion=entropy, clf__min_samples_leaf=2, clf__min_samples_split=12 \n",
      "[CV]  clf__class_weight={0: 1, 1: 10}, clf__criterion=entropy, clf__min_samples_leaf=2, clf__min_samples_split=8, total= 1.1min\n",
      "[CV] clf__class_weight={0: 1, 1: 10}, clf__criterion=entropy, clf__min_samples_leaf=2, clf__min_samples_split=12 \n",
      "[CV]  clf__class_weight={0: 1, 1: 10}, clf__criterion=entropy, clf__min_samples_leaf=2, clf__min_samples_split=8, total= 1.0min\n",
      "[CV] clf__class_weight={0: 1, 1: 10}, clf__criterion=entropy, clf__min_samples_leaf=6, clf__min_samples_split=2 \n",
      "[CV]  clf__class_weight={0: 1, 1: 10}, clf__criterion=entropy, clf__min_samples_leaf=2, clf__min_samples_split=12, total= 1.0min\n",
      "[CV] clf__class_weight={0: 1, 1: 10}, clf__criterion=entropy, clf__min_samples_leaf=6, clf__min_samples_split=2 \n",
      "[CV]  clf__class_weight={0: 1, 1: 10}, clf__criterion=entropy, clf__min_samples_leaf=2, clf__min_samples_split=12, total= 1.1min\n",
      "[CV] clf__class_weight={0: 1, 1: 10}, clf__criterion=entropy, clf__min_samples_leaf=6, clf__min_samples_split=2 \n",
      "[CV]  clf__class_weight={0: 1, 1: 10}, clf__criterion=entropy, clf__min_samples_leaf=2, clf__min_samples_split=12, total= 1.1min\n",
      "[CV] clf__class_weight={0: 1, 1: 10}, clf__criterion=entropy, clf__min_samples_leaf=6, clf__min_samples_split=6 \n",
      "[CV]  clf__class_weight={0: 1, 1: 10}, clf__criterion=entropy, clf__min_samples_leaf=6, clf__min_samples_split=2, total= 1.0min\n",
      "[CV] clf__class_weight={0: 1, 1: 10}, clf__criterion=entropy, clf__min_samples_leaf=6, clf__min_samples_split=6 \n",
      "[CV]  clf__class_weight={0: 1, 1: 10}, clf__criterion=entropy, clf__min_samples_leaf=6, clf__min_samples_split=2, total= 1.0min\n",
      "[CV] clf__class_weight={0: 1, 1: 10}, clf__criterion=entropy, clf__min_samples_leaf=6, clf__min_samples_split=6 \n",
      "[CV]  clf__class_weight={0: 1, 1: 10}, clf__criterion=entropy, clf__min_samples_leaf=6, clf__min_samples_split=2, total= 1.0min\n",
      "[CV] clf__class_weight={0: 1, 1: 10}, clf__criterion=entropy, clf__min_samples_leaf=6, clf__min_samples_split=8 \n",
      "[CV]  clf__class_weight={0: 1, 1: 10}, clf__criterion=entropy, clf__min_samples_leaf=6, clf__min_samples_split=6, total= 1.0min\n",
      "[CV] clf__class_weight={0: 1, 1: 10}, clf__criterion=entropy, clf__min_samples_leaf=6, clf__min_samples_split=8 \n",
      "[CV]  clf__class_weight={0: 1, 1: 10}, clf__criterion=entropy, clf__min_samples_leaf=6, clf__min_samples_split=6, total=  60.0s\n",
      "[CV] clf__class_weight={0: 1, 1: 10}, clf__criterion=entropy, clf__min_samples_leaf=6, clf__min_samples_split=8 \n",
      "[CV]  clf__class_weight={0: 1, 1: 10}, clf__criterion=entropy, clf__min_samples_leaf=6, clf__min_samples_split=6, total=  58.9s\n",
      "[CV] clf__class_weight={0: 1, 1: 10}, clf__criterion=entropy, clf__min_samples_leaf=6, clf__min_samples_split=12 \n",
      "[CV]  clf__class_weight={0: 1, 1: 10}, clf__criterion=entropy, clf__min_samples_leaf=6, clf__min_samples_split=8, total= 1.0min\n",
      "[CV] clf__class_weight={0: 1, 1: 10}, clf__criterion=entropy, clf__min_samples_leaf=6, clf__min_samples_split=12 \n",
      "[CV]  clf__class_weight={0: 1, 1: 10}, clf__criterion=entropy, clf__min_samples_leaf=6, clf__min_samples_split=8, total= 1.0min\n"
     ]
    },
    {
     "name": "stdout",
     "output_type": "stream",
     "text": [
      "[CV] clf__class_weight={0: 1, 1: 10}, clf__criterion=entropy, clf__min_samples_leaf=6, clf__min_samples_split=12 \n",
      "[CV]  clf__class_weight={0: 1, 1: 10}, clf__criterion=entropy, clf__min_samples_leaf=6, clf__min_samples_split=8, total=  57.9s\n",
      "[CV] clf__class_weight={0: 1, 1: 10}, clf__criterion=entropy, clf__min_samples_leaf=8, clf__min_samples_split=2 \n",
      "[CV]  clf__class_weight={0: 1, 1: 10}, clf__criterion=entropy, clf__min_samples_leaf=6, clf__min_samples_split=12, total=  59.6s\n",
      "[CV] clf__class_weight={0: 1, 1: 10}, clf__criterion=entropy, clf__min_samples_leaf=8, clf__min_samples_split=2 \n",
      "[CV]  clf__class_weight={0: 1, 1: 10}, clf__criterion=entropy, clf__min_samples_leaf=6, clf__min_samples_split=12, total=  59.1s\n",
      "[CV] clf__class_weight={0: 1, 1: 10}, clf__criterion=entropy, clf__min_samples_leaf=8, clf__min_samples_split=2 \n",
      "[CV]  clf__class_weight={0: 1, 1: 10}, clf__criterion=entropy, clf__min_samples_leaf=6, clf__min_samples_split=12, total=  58.3s\n",
      "[CV] clf__class_weight={0: 1, 1: 10}, clf__criterion=entropy, clf__min_samples_leaf=8, clf__min_samples_split=6 \n",
      "[CV]  clf__class_weight={0: 1, 1: 10}, clf__criterion=entropy, clf__min_samples_leaf=8, clf__min_samples_split=2, total=  57.5s\n",
      "[CV] clf__class_weight={0: 1, 1: 10}, clf__criterion=entropy, clf__min_samples_leaf=8, clf__min_samples_split=6 \n",
      "[CV]  clf__class_weight={0: 1, 1: 10}, clf__criterion=entropy, clf__min_samples_leaf=8, clf__min_samples_split=2, total=  56.9s\n",
      "[CV] clf__class_weight={0: 1, 1: 10}, clf__criterion=entropy, clf__min_samples_leaf=8, clf__min_samples_split=6 \n",
      "[CV]  clf__class_weight={0: 1, 1: 10}, clf__criterion=entropy, clf__min_samples_leaf=8, clf__min_samples_split=2, total=  56.7s\n",
      "[CV] clf__class_weight={0: 1, 1: 10}, clf__criterion=entropy, clf__min_samples_leaf=8, clf__min_samples_split=8 \n",
      "[CV]  clf__class_weight={0: 1, 1: 10}, clf__criterion=entropy, clf__min_samples_leaf=8, clf__min_samples_split=6, total= 1.0min\n",
      "[CV] clf__class_weight={0: 1, 1: 10}, clf__criterion=entropy, clf__min_samples_leaf=8, clf__min_samples_split=8 \n",
      "[CV]  clf__class_weight={0: 1, 1: 10}, clf__criterion=entropy, clf__min_samples_leaf=8, clf__min_samples_split=6, total=  58.2s\n",
      "[CV] clf__class_weight={0: 1, 1: 10}, clf__criterion=entropy, clf__min_samples_leaf=8, clf__min_samples_split=8 \n",
      "[CV]  clf__class_weight={0: 1, 1: 10}, clf__criterion=entropy, clf__min_samples_leaf=8, clf__min_samples_split=6, total=  55.4s\n",
      "[CV] clf__class_weight={0: 1, 1: 10}, clf__criterion=entropy, clf__min_samples_leaf=8, clf__min_samples_split=12 \n",
      "[CV]  clf__class_weight={0: 1, 1: 10}, clf__criterion=entropy, clf__min_samples_leaf=8, clf__min_samples_split=8, total=  58.2s\n",
      "[CV] clf__class_weight={0: 1, 1: 10}, clf__criterion=entropy, clf__min_samples_leaf=8, clf__min_samples_split=12 \n",
      "[CV]  clf__class_weight={0: 1, 1: 10}, clf__criterion=entropy, clf__min_samples_leaf=8, clf__min_samples_split=8, total= 1.0min\n",
      "[CV] clf__class_weight={0: 1, 1: 10}, clf__criterion=entropy, clf__min_samples_leaf=8, clf__min_samples_split=12 \n",
      "[CV]  clf__class_weight={0: 1, 1: 10}, clf__criterion=entropy, clf__min_samples_leaf=8, clf__min_samples_split=8, total=  57.8s\n",
      "[CV] clf__class_weight={0: 1, 1: 10}, clf__criterion=entropy, clf__min_samples_leaf=12, clf__min_samples_split=2 \n",
      "[CV]  clf__class_weight={0: 1, 1: 10}, clf__criterion=entropy, clf__min_samples_leaf=8, clf__min_samples_split=12, total=  58.2s\n",
      "[CV] clf__class_weight={0: 1, 1: 10}, clf__criterion=entropy, clf__min_samples_leaf=12, clf__min_samples_split=2 \n",
      "[CV]  clf__class_weight={0: 1, 1: 10}, clf__criterion=entropy, clf__min_samples_leaf=8, clf__min_samples_split=12, total=  58.5s\n",
      "[CV] clf__class_weight={0: 1, 1: 10}, clf__criterion=entropy, clf__min_samples_leaf=12, clf__min_samples_split=2 \n",
      "[CV]  clf__class_weight={0: 1, 1: 10}, clf__criterion=entropy, clf__min_samples_leaf=8, clf__min_samples_split=12, total=  57.1s\n",
      "[CV] clf__class_weight={0: 1, 1: 10}, clf__criterion=entropy, clf__min_samples_leaf=12, clf__min_samples_split=6 \n",
      "[CV]  clf__class_weight={0: 1, 1: 10}, clf__criterion=entropy, clf__min_samples_leaf=12, clf__min_samples_split=2, total=  57.3s\n",
      "[CV] clf__class_weight={0: 1, 1: 10}, clf__criterion=entropy, clf__min_samples_leaf=12, clf__min_samples_split=6 \n",
      "[CV]  clf__class_weight={0: 1, 1: 10}, clf__criterion=entropy, clf__min_samples_leaf=12, clf__min_samples_split=2, total=  57.0s\n",
      "[CV] clf__class_weight={0: 1, 1: 10}, clf__criterion=entropy, clf__min_samples_leaf=12, clf__min_samples_split=6 \n",
      "[CV]  clf__class_weight={0: 1, 1: 10}, clf__criterion=entropy, clf__min_samples_leaf=12, clf__min_samples_split=2, total=  58.9s\n",
      "[CV] clf__class_weight={0: 1, 1: 10}, clf__criterion=entropy, clf__min_samples_leaf=12, clf__min_samples_split=8 \n",
      "[CV]  clf__class_weight={0: 1, 1: 10}, clf__criterion=entropy, clf__min_samples_leaf=12, clf__min_samples_split=6, total=  58.4s\n",
      "[CV] clf__class_weight={0: 1, 1: 10}, clf__criterion=entropy, clf__min_samples_leaf=12, clf__min_samples_split=8 \n",
      "[CV]  clf__class_weight={0: 1, 1: 10}, clf__criterion=entropy, clf__min_samples_leaf=12, clf__min_samples_split=6, total=  58.1s\n",
      "[CV] clf__class_weight={0: 1, 1: 10}, clf__criterion=entropy, clf__min_samples_leaf=12, clf__min_samples_split=8 \n",
      "[CV]  clf__class_weight={0: 1, 1: 10}, clf__criterion=entropy, clf__min_samples_leaf=12, clf__min_samples_split=6, total=  57.1s\n",
      "[CV] clf__class_weight={0: 1, 1: 10}, clf__criterion=entropy, clf__min_samples_leaf=12, clf__min_samples_split=12 \n",
      "[CV]  clf__class_weight={0: 1, 1: 10}, clf__criterion=entropy, clf__min_samples_leaf=12, clf__min_samples_split=8, total=  57.5s\n",
      "[CV] clf__class_weight={0: 1, 1: 10}, clf__criterion=entropy, clf__min_samples_leaf=12, clf__min_samples_split=12 \n",
      "[CV]  clf__class_weight={0: 1, 1: 10}, clf__criterion=entropy, clf__min_samples_leaf=12, clf__min_samples_split=8, total=  59.8s\n",
      "[CV] clf__class_weight={0: 1, 1: 10}, clf__criterion=entropy, clf__min_samples_leaf=12, clf__min_samples_split=12 \n",
      "[CV]  clf__class_weight={0: 1, 1: 10}, clf__criterion=entropy, clf__min_samples_leaf=12, clf__min_samples_split=8, total=  57.0s\n",
      "[CV] clf__class_weight={0: 1, 1: 20}, clf__criterion=gini, clf__min_samples_leaf=2, clf__min_samples_split=2 \n",
      "[CV]  clf__class_weight={0: 1, 1: 10}, clf__criterion=entropy, clf__min_samples_leaf=12, clf__min_samples_split=12, total=  56.6s\n",
      "[CV] clf__class_weight={0: 1, 1: 20}, clf__criterion=gini, clf__min_samples_leaf=2, clf__min_samples_split=2 \n",
      "[CV]  clf__class_weight={0: 1, 1: 10}, clf__criterion=entropy, clf__min_samples_leaf=12, clf__min_samples_split=12, total=  59.7s\n",
      "[CV] clf__class_weight={0: 1, 1: 20}, clf__criterion=gini, clf__min_samples_leaf=2, clf__min_samples_split=2 \n",
      "[CV]  clf__class_weight={0: 1, 1: 10}, clf__criterion=entropy, clf__min_samples_leaf=12, clf__min_samples_split=12, total=  59.8s\n",
      "[CV] clf__class_weight={0: 1, 1: 20}, clf__criterion=gini, clf__min_samples_leaf=2, clf__min_samples_split=6 \n",
      "[CV]  clf__class_weight={0: 1, 1: 20}, clf__criterion=gini, clf__min_samples_leaf=2, clf__min_samples_split=2, total=  58.1s\n",
      "[CV] clf__class_weight={0: 1, 1: 20}, clf__criterion=gini, clf__min_samples_leaf=2, clf__min_samples_split=6 \n",
      "[CV]  clf__class_weight={0: 1, 1: 20}, clf__criterion=gini, clf__min_samples_leaf=2, clf__min_samples_split=2, total=  58.7s\n",
      "[CV] clf__class_weight={0: 1, 1: 20}, clf__criterion=gini, clf__min_samples_leaf=2, clf__min_samples_split=6 \n",
      "[CV]  clf__class_weight={0: 1, 1: 20}, clf__criterion=gini, clf__min_samples_leaf=2, clf__min_samples_split=6, total=  58.8s\n",
      "[CV] clf__class_weight={0: 1, 1: 20}, clf__criterion=gini, clf__min_samples_leaf=2, clf__min_samples_split=8 \n",
      "[CV]  clf__class_weight={0: 1, 1: 20}, clf__criterion=gini, clf__min_samples_leaf=2, clf__min_samples_split=2, total= 1.0min\n",
      "[CV] clf__class_weight={0: 1, 1: 20}, clf__criterion=gini, clf__min_samples_leaf=2, clf__min_samples_split=8 \n",
      "[CV]  clf__class_weight={0: 1, 1: 20}, clf__criterion=gini, clf__min_samples_leaf=2, clf__min_samples_split=6, total=  59.4s\n",
      "[CV] clf__class_weight={0: 1, 1: 20}, clf__criterion=gini, clf__min_samples_leaf=2, clf__min_samples_split=8 \n",
      "[CV]  clf__class_weight={0: 1, 1: 20}, clf__criterion=gini, clf__min_samples_leaf=2, clf__min_samples_split=6, total= 1.0min\n",
      "[CV] clf__class_weight={0: 1, 1: 20}, clf__criterion=gini, clf__min_samples_leaf=2, clf__min_samples_split=12 \n"
     ]
    },
    {
     "name": "stdout",
     "output_type": "stream",
     "text": [
      "[CV]  clf__class_weight={0: 1, 1: 20}, clf__criterion=gini, clf__min_samples_leaf=2, clf__min_samples_split=8, total= 1.0min\n",
      "[CV] clf__class_weight={0: 1, 1: 20}, clf__criterion=gini, clf__min_samples_leaf=2, clf__min_samples_split=12 \n",
      "[CV]  clf__class_weight={0: 1, 1: 20}, clf__criterion=gini, clf__min_samples_leaf=2, clf__min_samples_split=8, total= 1.0min\n",
      "[CV] clf__class_weight={0: 1, 1: 20}, clf__criterion=gini, clf__min_samples_leaf=2, clf__min_samples_split=12 \n",
      "[CV]  clf__class_weight={0: 1, 1: 20}, clf__criterion=gini, clf__min_samples_leaf=2, clf__min_samples_split=8, total=  58.3s\n",
      "[CV] clf__class_weight={0: 1, 1: 20}, clf__criterion=gini, clf__min_samples_leaf=6, clf__min_samples_split=2 \n",
      "[CV]  clf__class_weight={0: 1, 1: 20}, clf__criterion=gini, clf__min_samples_leaf=2, clf__min_samples_split=12, total= 1.0min\n",
      "[CV] clf__class_weight={0: 1, 1: 20}, clf__criterion=gini, clf__min_samples_leaf=6, clf__min_samples_split=2 \n",
      "[CV]  clf__class_weight={0: 1, 1: 20}, clf__criterion=gini, clf__min_samples_leaf=2, clf__min_samples_split=12, total=  59.1s\n",
      "[CV] clf__class_weight={0: 1, 1: 20}, clf__criterion=gini, clf__min_samples_leaf=6, clf__min_samples_split=2 \n",
      "[CV]  clf__class_weight={0: 1, 1: 20}, clf__criterion=gini, clf__min_samples_leaf=2, clf__min_samples_split=12, total=  59.1s\n",
      "[CV] clf__class_weight={0: 1, 1: 20}, clf__criterion=gini, clf__min_samples_leaf=6, clf__min_samples_split=6 \n",
      "[CV]  clf__class_weight={0: 1, 1: 20}, clf__criterion=gini, clf__min_samples_leaf=6, clf__min_samples_split=2, total= 1.0min\n",
      "[CV] clf__class_weight={0: 1, 1: 20}, clf__criterion=gini, clf__min_samples_leaf=6, clf__min_samples_split=6 \n",
      "[CV]  clf__class_weight={0: 1, 1: 20}, clf__criterion=gini, clf__min_samples_leaf=6, clf__min_samples_split=2, total=  57.3s\n",
      "[CV] clf__class_weight={0: 1, 1: 20}, clf__criterion=gini, clf__min_samples_leaf=6, clf__min_samples_split=6 \n",
      "[CV]  clf__class_weight={0: 1, 1: 20}, clf__criterion=gini, clf__min_samples_leaf=6, clf__min_samples_split=2, total=  56.0s\n",
      "[CV] clf__class_weight={0: 1, 1: 20}, clf__criterion=gini, clf__min_samples_leaf=6, clf__min_samples_split=8 \n",
      "[CV]  clf__class_weight={0: 1, 1: 20}, clf__criterion=gini, clf__min_samples_leaf=6, clf__min_samples_split=6, total= 1.0min\n",
      "[CV] clf__class_weight={0: 1, 1: 20}, clf__criterion=gini, clf__min_samples_leaf=6, clf__min_samples_split=8 \n",
      "[CV]  clf__class_weight={0: 1, 1: 20}, clf__criterion=gini, clf__min_samples_leaf=6, clf__min_samples_split=6, total=  59.4s\n",
      "[CV] clf__class_weight={0: 1, 1: 20}, clf__criterion=gini, clf__min_samples_leaf=6, clf__min_samples_split=8 \n",
      "[CV]  clf__class_weight={0: 1, 1: 20}, clf__criterion=gini, clf__min_samples_leaf=6, clf__min_samples_split=6, total=  59.6s\n",
      "[CV] clf__class_weight={0: 1, 1: 20}, clf__criterion=gini, clf__min_samples_leaf=6, clf__min_samples_split=12 \n",
      "[CV]  clf__class_weight={0: 1, 1: 20}, clf__criterion=gini, clf__min_samples_leaf=6, clf__min_samples_split=8, total=  58.8s\n",
      "[CV] clf__class_weight={0: 1, 1: 20}, clf__criterion=gini, clf__min_samples_leaf=6, clf__min_samples_split=12 \n",
      "[CV]  clf__class_weight={0: 1, 1: 20}, clf__criterion=gini, clf__min_samples_leaf=6, clf__min_samples_split=8, total=  59.0s\n",
      "[CV] clf__class_weight={0: 1, 1: 20}, clf__criterion=gini, clf__min_samples_leaf=6, clf__min_samples_split=12 \n",
      "[CV]  clf__class_weight={0: 1, 1: 20}, clf__criterion=gini, clf__min_samples_leaf=6, clf__min_samples_split=8, total= 1.0min\n",
      "[CV] clf__class_weight={0: 1, 1: 20}, clf__criterion=gini, clf__min_samples_leaf=8, clf__min_samples_split=2 \n",
      "[CV]  clf__class_weight={0: 1, 1: 20}, clf__criterion=gini, clf__min_samples_leaf=6, clf__min_samples_split=12, total=  59.8s\n",
      "[CV] clf__class_weight={0: 1, 1: 20}, clf__criterion=gini, clf__min_samples_leaf=8, clf__min_samples_split=2 \n",
      "[CV]  clf__class_weight={0: 1, 1: 20}, clf__criterion=gini, clf__min_samples_leaf=6, clf__min_samples_split=12, total=  58.3s\n",
      "[CV] clf__class_weight={0: 1, 1: 20}, clf__criterion=gini, clf__min_samples_leaf=8, clf__min_samples_split=2 \n",
      "[CV]  clf__class_weight={0: 1, 1: 20}, clf__criterion=gini, clf__min_samples_leaf=6, clf__min_samples_split=12, total=  58.0s\n",
      "[CV] clf__class_weight={0: 1, 1: 20}, clf__criterion=gini, clf__min_samples_leaf=8, clf__min_samples_split=6 \n",
      "[CV]  clf__class_weight={0: 1, 1: 20}, clf__criterion=gini, clf__min_samples_leaf=8, clf__min_samples_split=2, total= 1.0min\n",
      "[CV] clf__class_weight={0: 1, 1: 20}, clf__criterion=gini, clf__min_samples_leaf=8, clf__min_samples_split=6 \n",
      "[CV]  clf__class_weight={0: 1, 1: 20}, clf__criterion=gini, clf__min_samples_leaf=8, clf__min_samples_split=2, total=  57.7s\n",
      "[CV] clf__class_weight={0: 1, 1: 20}, clf__criterion=gini, clf__min_samples_leaf=8, clf__min_samples_split=6 \n",
      "[CV]  clf__class_weight={0: 1, 1: 20}, clf__criterion=gini, clf__min_samples_leaf=8, clf__min_samples_split=2, total=  56.2s\n",
      "[CV] clf__class_weight={0: 1, 1: 20}, clf__criterion=gini, clf__min_samples_leaf=8, clf__min_samples_split=8 \n",
      "[CV]  clf__class_weight={0: 1, 1: 20}, clf__criterion=gini, clf__min_samples_leaf=8, clf__min_samples_split=6, total=  59.0s\n",
      "[CV] clf__class_weight={0: 1, 1: 20}, clf__criterion=gini, clf__min_samples_leaf=8, clf__min_samples_split=8 \n",
      "[CV]  clf__class_weight={0: 1, 1: 20}, clf__criterion=gini, clf__min_samples_leaf=8, clf__min_samples_split=6, total= 1.0min\n",
      "[CV] clf__class_weight={0: 1, 1: 20}, clf__criterion=gini, clf__min_samples_leaf=8, clf__min_samples_split=8 \n",
      "[CV]  clf__class_weight={0: 1, 1: 20}, clf__criterion=gini, clf__min_samples_leaf=8, clf__min_samples_split=6, total=  57.5s\n",
      "[CV] clf__class_weight={0: 1, 1: 20}, clf__criterion=gini, clf__min_samples_leaf=8, clf__min_samples_split=12 \n",
      "[CV]  clf__class_weight={0: 1, 1: 20}, clf__criterion=gini, clf__min_samples_leaf=8, clf__min_samples_split=8, total=  57.8s\n",
      "[CV] clf__class_weight={0: 1, 1: 20}, clf__criterion=gini, clf__min_samples_leaf=8, clf__min_samples_split=12 \n",
      "[CV]  clf__class_weight={0: 1, 1: 20}, clf__criterion=gini, clf__min_samples_leaf=8, clf__min_samples_split=8, total=  57.1s\n",
      "[CV] clf__class_weight={0: 1, 1: 20}, clf__criterion=gini, clf__min_samples_leaf=8, clf__min_samples_split=12 \n",
      "[CV]  clf__class_weight={0: 1, 1: 20}, clf__criterion=gini, clf__min_samples_leaf=8, clf__min_samples_split=8, total= 1.0min\n",
      "[CV] clf__class_weight={0: 1, 1: 20}, clf__criterion=gini, clf__min_samples_leaf=12, clf__min_samples_split=2 \n",
      "[CV]  clf__class_weight={0: 1, 1: 20}, clf__criterion=gini, clf__min_samples_leaf=8, clf__min_samples_split=12, total=  55.6s\n",
      "[CV] clf__class_weight={0: 1, 1: 20}, clf__criterion=gini, clf__min_samples_leaf=12, clf__min_samples_split=2 \n",
      "[CV]  clf__class_weight={0: 1, 1: 20}, clf__criterion=gini, clf__min_samples_leaf=8, clf__min_samples_split=12, total=  59.9s\n",
      "[CV] clf__class_weight={0: 1, 1: 20}, clf__criterion=gini, clf__min_samples_leaf=12, clf__min_samples_split=2 \n",
      "[CV]  clf__class_weight={0: 1, 1: 20}, clf__criterion=gini, clf__min_samples_leaf=8, clf__min_samples_split=12, total=  57.6s\n",
      "[CV] clf__class_weight={0: 1, 1: 20}, clf__criterion=gini, clf__min_samples_leaf=12, clf__min_samples_split=6 \n",
      "[CV]  clf__class_weight={0: 1, 1: 20}, clf__criterion=gini, clf__min_samples_leaf=12, clf__min_samples_split=2, total= 1.0min\n",
      "[CV] clf__class_weight={0: 1, 1: 20}, clf__criterion=gini, clf__min_samples_leaf=12, clf__min_samples_split=6 \n",
      "[CV]  clf__class_weight={0: 1, 1: 20}, clf__criterion=gini, clf__min_samples_leaf=12, clf__min_samples_split=2, total=  56.4s\n",
      "[CV] clf__class_weight={0: 1, 1: 20}, clf__criterion=gini, clf__min_samples_leaf=12, clf__min_samples_split=6 \n",
      "[CV]  clf__class_weight={0: 1, 1: 20}, clf__criterion=gini, clf__min_samples_leaf=12, clf__min_samples_split=2, total=  58.1s\n",
      "[CV] clf__class_weight={0: 1, 1: 20}, clf__criterion=gini, clf__min_samples_leaf=12, clf__min_samples_split=8 \n",
      "[CV]  clf__class_weight={0: 1, 1: 20}, clf__criterion=gini, clf__min_samples_leaf=12, clf__min_samples_split=6, total=  56.2s\n",
      "[CV] clf__class_weight={0: 1, 1: 20}, clf__criterion=gini, clf__min_samples_leaf=12, clf__min_samples_split=8 \n",
      "[CV]  clf__class_weight={0: 1, 1: 20}, clf__criterion=gini, clf__min_samples_leaf=12, clf__min_samples_split=6, total=  59.8s\n",
      "[CV] clf__class_weight={0: 1, 1: 20}, clf__criterion=gini, clf__min_samples_leaf=12, clf__min_samples_split=8 \n"
     ]
    },
    {
     "name": "stdout",
     "output_type": "stream",
     "text": [
      "[CV]  clf__class_weight={0: 1, 1: 20}, clf__criterion=gini, clf__min_samples_leaf=12, clf__min_samples_split=6, total=  57.7s\n",
      "[CV] clf__class_weight={0: 1, 1: 20}, clf__criterion=gini, clf__min_samples_leaf=12, clf__min_samples_split=12 \n",
      "[CV]  clf__class_weight={0: 1, 1: 20}, clf__criterion=gini, clf__min_samples_leaf=12, clf__min_samples_split=8, total=  58.1s\n",
      "[CV] clf__class_weight={0: 1, 1: 20}, clf__criterion=gini, clf__min_samples_leaf=12, clf__min_samples_split=12 \n",
      "[CV]  clf__class_weight={0: 1, 1: 20}, clf__criterion=gini, clf__min_samples_leaf=12, clf__min_samples_split=8, total=  56.3s\n",
      "[CV] clf__class_weight={0: 1, 1: 20}, clf__criterion=gini, clf__min_samples_leaf=12, clf__min_samples_split=12 \n",
      "[CV]  clf__class_weight={0: 1, 1: 20}, clf__criterion=gini, clf__min_samples_leaf=12, clf__min_samples_split=8, total= 1.0min\n",
      "[CV] clf__class_weight={0: 1, 1: 20}, clf__criterion=entropy, clf__min_samples_leaf=2, clf__min_samples_split=2 \n",
      "[CV]  clf__class_weight={0: 1, 1: 20}, clf__criterion=gini, clf__min_samples_leaf=12, clf__min_samples_split=12, total=  56.2s\n",
      "[CV] clf__class_weight={0: 1, 1: 20}, clf__criterion=entropy, clf__min_samples_leaf=2, clf__min_samples_split=2 \n",
      "[CV]  clf__class_weight={0: 1, 1: 20}, clf__criterion=gini, clf__min_samples_leaf=12, clf__min_samples_split=12, total=  55.4s\n",
      "[CV] clf__class_weight={0: 1, 1: 20}, clf__criterion=entropy, clf__min_samples_leaf=2, clf__min_samples_split=2 \n",
      "[CV]  clf__class_weight={0: 1, 1: 20}, clf__criterion=gini, clf__min_samples_leaf=12, clf__min_samples_split=12, total=  56.3s\n",
      "[CV] clf__class_weight={0: 1, 1: 20}, clf__criterion=entropy, clf__min_samples_leaf=2, clf__min_samples_split=6 \n",
      "[CV]  clf__class_weight={0: 1, 1: 20}, clf__criterion=entropy, clf__min_samples_leaf=2, clf__min_samples_split=2, total= 1.1min\n",
      "[CV] clf__class_weight={0: 1, 1: 20}, clf__criterion=entropy, clf__min_samples_leaf=2, clf__min_samples_split=6 \n",
      "[CV]  clf__class_weight={0: 1, 1: 20}, clf__criterion=entropy, clf__min_samples_leaf=2, clf__min_samples_split=2, total= 1.0min\n",
      "[CV] clf__class_weight={0: 1, 1: 20}, clf__criterion=entropy, clf__min_samples_leaf=2, clf__min_samples_split=6 \n",
      "[CV]  clf__class_weight={0: 1, 1: 20}, clf__criterion=entropy, clf__min_samples_leaf=2, clf__min_samples_split=2, total= 1.0min\n",
      "[CV] clf__class_weight={0: 1, 1: 20}, clf__criterion=entropy, clf__min_samples_leaf=2, clf__min_samples_split=8 \n",
      "[CV]  clf__class_weight={0: 1, 1: 20}, clf__criterion=entropy, clf__min_samples_leaf=2, clf__min_samples_split=6, total= 1.0min\n",
      "[CV] clf__class_weight={0: 1, 1: 20}, clf__criterion=entropy, clf__min_samples_leaf=2, clf__min_samples_split=8 \n",
      "[CV]  clf__class_weight={0: 1, 1: 20}, clf__criterion=entropy, clf__min_samples_leaf=2, clf__min_samples_split=6, total= 1.1min\n",
      "[CV] clf__class_weight={0: 1, 1: 20}, clf__criterion=entropy, clf__min_samples_leaf=2, clf__min_samples_split=8 \n",
      "[CV]  clf__class_weight={0: 1, 1: 20}, clf__criterion=entropy, clf__min_samples_leaf=2, clf__min_samples_split=6, total=  59.8s\n",
      "[CV] clf__class_weight={0: 1, 1: 20}, clf__criterion=entropy, clf__min_samples_leaf=2, clf__min_samples_split=12 \n",
      "[CV]  clf__class_weight={0: 1, 1: 20}, clf__criterion=entropy, clf__min_samples_leaf=2, clf__min_samples_split=8, total= 1.0min\n",
      "[CV] clf__class_weight={0: 1, 1: 20}, clf__criterion=entropy, clf__min_samples_leaf=2, clf__min_samples_split=12 \n",
      "[CV]  clf__class_weight={0: 1, 1: 20}, clf__criterion=entropy, clf__min_samples_leaf=2, clf__min_samples_split=8, total= 1.0min\n",
      "[CV] clf__class_weight={0: 1, 1: 20}, clf__criterion=entropy, clf__min_samples_leaf=2, clf__min_samples_split=12 \n",
      "[CV]  clf__class_weight={0: 1, 1: 20}, clf__criterion=entropy, clf__min_samples_leaf=2, clf__min_samples_split=8, total= 1.1min\n",
      "[CV] clf__class_weight={0: 1, 1: 20}, clf__criterion=entropy, clf__min_samples_leaf=6, clf__min_samples_split=2 \n",
      "[CV]  clf__class_weight={0: 1, 1: 20}, clf__criterion=entropy, clf__min_samples_leaf=2, clf__min_samples_split=12, total= 1.0min\n",
      "[CV] clf__class_weight={0: 1, 1: 20}, clf__criterion=entropy, clf__min_samples_leaf=6, clf__min_samples_split=2 \n",
      "[CV]  clf__class_weight={0: 1, 1: 20}, clf__criterion=entropy, clf__min_samples_leaf=2, clf__min_samples_split=12, total=  58.9s\n"
     ]
    },
    {
     "name": "stderr",
     "output_type": "stream",
     "text": [
      "[Parallel(n_jobs=-1)]: Done 154 tasks      | elapsed: 45.2min\n"
     ]
    },
    {
     "name": "stdout",
     "output_type": "stream",
     "text": [
      "[CV] clf__class_weight={0: 1, 1: 20}, clf__criterion=entropy, clf__min_samples_leaf=6, clf__min_samples_split=2 \n",
      "[CV]  clf__class_weight={0: 1, 1: 20}, clf__criterion=entropy, clf__min_samples_leaf=2, clf__min_samples_split=12, total= 1.0min\n",
      "[CV] clf__class_weight={0: 1, 1: 20}, clf__criterion=entropy, clf__min_samples_leaf=6, clf__min_samples_split=6 \n",
      "[CV]  clf__class_weight={0: 1, 1: 20}, clf__criterion=entropy, clf__min_samples_leaf=6, clf__min_samples_split=2, total= 1.1min\n",
      "[CV] clf__class_weight={0: 1, 1: 20}, clf__criterion=entropy, clf__min_samples_leaf=6, clf__min_samples_split=6 \n",
      "[CV]  clf__class_weight={0: 1, 1: 20}, clf__criterion=entropy, clf__min_samples_leaf=6, clf__min_samples_split=2, total=  58.2s\n",
      "[CV] clf__class_weight={0: 1, 1: 20}, clf__criterion=entropy, clf__min_samples_leaf=6, clf__min_samples_split=6 \n",
      "[CV]  clf__class_weight={0: 1, 1: 20}, clf__criterion=entropy, clf__min_samples_leaf=6, clf__min_samples_split=2, total=  59.5s\n",
      "[CV] clf__class_weight={0: 1, 1: 20}, clf__criterion=entropy, clf__min_samples_leaf=6, clf__min_samples_split=8 \n",
      "[CV]  clf__class_weight={0: 1, 1: 20}, clf__criterion=entropy, clf__min_samples_leaf=6, clf__min_samples_split=6, total=  58.7s\n",
      "[CV] clf__class_weight={0: 1, 1: 20}, clf__criterion=entropy, clf__min_samples_leaf=6, clf__min_samples_split=8 \n",
      "[CV]  clf__class_weight={0: 1, 1: 20}, clf__criterion=entropy, clf__min_samples_leaf=6, clf__min_samples_split=6, total= 1.1min\n",
      "[CV] clf__class_weight={0: 1, 1: 20}, clf__criterion=entropy, clf__min_samples_leaf=6, clf__min_samples_split=8 \n",
      "[CV]  clf__class_weight={0: 1, 1: 20}, clf__criterion=entropy, clf__min_samples_leaf=6, clf__min_samples_split=6, total=  57.4s\n",
      "[CV] clf__class_weight={0: 1, 1: 20}, clf__criterion=entropy, clf__min_samples_leaf=6, clf__min_samples_split=12 \n",
      "[CV]  clf__class_weight={0: 1, 1: 20}, clf__criterion=entropy, clf__min_samples_leaf=6, clf__min_samples_split=8, total=  59.7s\n",
      "[CV] clf__class_weight={0: 1, 1: 20}, clf__criterion=entropy, clf__min_samples_leaf=6, clf__min_samples_split=12 \n",
      "[CV]  clf__class_weight={0: 1, 1: 20}, clf__criterion=entropy, clf__min_samples_leaf=6, clf__min_samples_split=8, total=  58.2s\n",
      "[CV] clf__class_weight={0: 1, 1: 20}, clf__criterion=entropy, clf__min_samples_leaf=6, clf__min_samples_split=12 \n",
      "[CV]  clf__class_weight={0: 1, 1: 20}, clf__criterion=entropy, clf__min_samples_leaf=6, clf__min_samples_split=8, total= 1.0min\n",
      "[CV] clf__class_weight={0: 1, 1: 20}, clf__criterion=entropy, clf__min_samples_leaf=8, clf__min_samples_split=2 \n",
      "[CV]  clf__class_weight={0: 1, 1: 20}, clf__criterion=entropy, clf__min_samples_leaf=6, clf__min_samples_split=12, total=  60.0s\n",
      "[CV] clf__class_weight={0: 1, 1: 20}, clf__criterion=entropy, clf__min_samples_leaf=8, clf__min_samples_split=2 \n",
      "[CV]  clf__class_weight={0: 1, 1: 20}, clf__criterion=entropy, clf__min_samples_leaf=6, clf__min_samples_split=12, total=  57.2s\n",
      "[CV] clf__class_weight={0: 1, 1: 20}, clf__criterion=entropy, clf__min_samples_leaf=8, clf__min_samples_split=2 \n",
      "[CV]  clf__class_weight={0: 1, 1: 20}, clf__criterion=entropy, clf__min_samples_leaf=6, clf__min_samples_split=12, total=  58.4s\n",
      "[CV] clf__class_weight={0: 1, 1: 20}, clf__criterion=entropy, clf__min_samples_leaf=8, clf__min_samples_split=6 \n",
      "[CV]  clf__class_weight={0: 1, 1: 20}, clf__criterion=entropy, clf__min_samples_leaf=8, clf__min_samples_split=2, total= 1.0min\n",
      "[CV] clf__class_weight={0: 1, 1: 20}, clf__criterion=entropy, clf__min_samples_leaf=8, clf__min_samples_split=6 \n",
      "[CV]  clf__class_weight={0: 1, 1: 20}, clf__criterion=entropy, clf__min_samples_leaf=8, clf__min_samples_split=2, total=  58.7s\n",
      "[CV] clf__class_weight={0: 1, 1: 20}, clf__criterion=entropy, clf__min_samples_leaf=8, clf__min_samples_split=6 \n",
      "[CV]  clf__class_weight={0: 1, 1: 20}, clf__criterion=entropy, clf__min_samples_leaf=8, clf__min_samples_split=6, total=  57.3s\n",
      "[CV] clf__class_weight={0: 1, 1: 20}, clf__criterion=entropy, clf__min_samples_leaf=8, clf__min_samples_split=8 \n",
      "[CV]  clf__class_weight={0: 1, 1: 20}, clf__criterion=entropy, clf__min_samples_leaf=8, clf__min_samples_split=2, total=  59.3s\n",
      "[CV] clf__class_weight={0: 1, 1: 20}, clf__criterion=entropy, clf__min_samples_leaf=8, clf__min_samples_split=8 \n",
      "[CV]  clf__class_weight={0: 1, 1: 20}, clf__criterion=entropy, clf__min_samples_leaf=8, clf__min_samples_split=6, total= 1.0min\n",
      "[CV] clf__class_weight={0: 1, 1: 20}, clf__criterion=entropy, clf__min_samples_leaf=8, clf__min_samples_split=8 \n",
      "[CV]  clf__class_weight={0: 1, 1: 20}, clf__criterion=entropy, clf__min_samples_leaf=8, clf__min_samples_split=6, total=  58.1s\n",
      "[CV] clf__class_weight={0: 1, 1: 20}, clf__criterion=entropy, clf__min_samples_leaf=8, clf__min_samples_split=12 \n",
      "[CV]  clf__class_weight={0: 1, 1: 20}, clf__criterion=entropy, clf__min_samples_leaf=8, clf__min_samples_split=8, total=  57.9s\n",
      "[CV] clf__class_weight={0: 1, 1: 20}, clf__criterion=entropy, clf__min_samples_leaf=8, clf__min_samples_split=12 \n",
      "[CV]  clf__class_weight={0: 1, 1: 20}, clf__criterion=entropy, clf__min_samples_leaf=8, clf__min_samples_split=8, total=  57.4s\n",
      "[CV] clf__class_weight={0: 1, 1: 20}, clf__criterion=entropy, clf__min_samples_leaf=8, clf__min_samples_split=12 \n",
      "[CV]  clf__class_weight={0: 1, 1: 20}, clf__criterion=entropy, clf__min_samples_leaf=8, clf__min_samples_split=8, total= 1.0min\n",
      "[CV] clf__class_weight={0: 1, 1: 20}, clf__criterion=entropy, clf__min_samples_leaf=12, clf__min_samples_split=2 \n",
      "[CV]  clf__class_weight={0: 1, 1: 20}, clf__criterion=entropy, clf__min_samples_leaf=8, clf__min_samples_split=12, total=  57.5s\n",
      "[CV] clf__class_weight={0: 1, 1: 20}, clf__criterion=entropy, clf__min_samples_leaf=12, clf__min_samples_split=2 \n",
      "[CV]  clf__class_weight={0: 1, 1: 20}, clf__criterion=entropy, clf__min_samples_leaf=8, clf__min_samples_split=12, total=  57.9s\n",
      "[CV] clf__class_weight={0: 1, 1: 20}, clf__criterion=entropy, clf__min_samples_leaf=12, clf__min_samples_split=2 \n",
      "[CV]  clf__class_weight={0: 1, 1: 20}, clf__criterion=entropy, clf__min_samples_leaf=8, clf__min_samples_split=12, total= 1.0min\n",
      "[CV] clf__class_weight={0: 1, 1: 20}, clf__criterion=entropy, clf__min_samples_leaf=12, clf__min_samples_split=6 \n",
      "[CV]  clf__class_weight={0: 1, 1: 20}, clf__criterion=entropy, clf__min_samples_leaf=12, clf__min_samples_split=2, total= 1.0min\n",
      "[CV] clf__class_weight={0: 1, 1: 20}, clf__criterion=entropy, clf__min_samples_leaf=12, clf__min_samples_split=6 \n",
      "[CV]  clf__class_weight={0: 1, 1: 20}, clf__criterion=entropy, clf__min_samples_leaf=12, clf__min_samples_split=2, total=  59.4s\n",
      "[CV] clf__class_weight={0: 1, 1: 20}, clf__criterion=entropy, clf__min_samples_leaf=12, clf__min_samples_split=6 \n",
      "[CV]  clf__class_weight={0: 1, 1: 20}, clf__criterion=entropy, clf__min_samples_leaf=12, clf__min_samples_split=2, total=  58.6s\n",
      "[CV] clf__class_weight={0: 1, 1: 20}, clf__criterion=entropy, clf__min_samples_leaf=12, clf__min_samples_split=8 \n",
      "[CV]  clf__class_weight={0: 1, 1: 20}, clf__criterion=entropy, clf__min_samples_leaf=12, clf__min_samples_split=6, total=  57.0s\n",
      "[CV] clf__class_weight={0: 1, 1: 20}, clf__criterion=entropy, clf__min_samples_leaf=12, clf__min_samples_split=8 \n",
      "[CV]  clf__class_weight={0: 1, 1: 20}, clf__criterion=entropy, clf__min_samples_leaf=12, clf__min_samples_split=6, total= 1.0min\n",
      "[CV] clf__class_weight={0: 1, 1: 20}, clf__criterion=entropy, clf__min_samples_leaf=12, clf__min_samples_split=8 \n",
      "[CV]  clf__class_weight={0: 1, 1: 20}, clf__criterion=entropy, clf__min_samples_leaf=12, clf__min_samples_split=8, total=  58.2s\n",
      "[CV] clf__class_weight={0: 1, 1: 20}, clf__criterion=entropy, clf__min_samples_leaf=12, clf__min_samples_split=12 \n",
      "[CV]  clf__class_weight={0: 1, 1: 20}, clf__criterion=entropy, clf__min_samples_leaf=12, clf__min_samples_split=8, total=  58.7s\n",
      "[CV] clf__class_weight={0: 1, 1: 20}, clf__criterion=entropy, clf__min_samples_leaf=12, clf__min_samples_split=12 \n",
      "[CV]  clf__class_weight={0: 1, 1: 20}, clf__criterion=entropy, clf__min_samples_leaf=12, clf__min_samples_split=6, total= 1.0min\n",
      "[CV] clf__class_weight={0: 1, 1: 20}, clf__criterion=entropy, clf__min_samples_leaf=12, clf__min_samples_split=12 \n",
      "[CV]  clf__class_weight={0: 1, 1: 20}, clf__criterion=entropy, clf__min_samples_leaf=12, clf__min_samples_split=8, total= 1.0min\n"
     ]
    },
    {
     "name": "stdout",
     "output_type": "stream",
     "text": [
      "[CV] clf__class_weight={0: 1, 1: 25}, clf__criterion=gini, clf__min_samples_leaf=2, clf__min_samples_split=2 \n",
      "[CV]  clf__class_weight={0: 1, 1: 20}, clf__criterion=entropy, clf__min_samples_leaf=12, clf__min_samples_split=12, total=  55.9s\n",
      "[CV] clf__class_weight={0: 1, 1: 25}, clf__criterion=gini, clf__min_samples_leaf=2, clf__min_samples_split=2 \n",
      "[CV]  clf__class_weight={0: 1, 1: 20}, clf__criterion=entropy, clf__min_samples_leaf=12, clf__min_samples_split=12, total= 1.0min\n",
      "[CV] clf__class_weight={0: 1, 1: 25}, clf__criterion=gini, clf__min_samples_leaf=2, clf__min_samples_split=2 \n",
      "[CV]  clf__class_weight={0: 1, 1: 20}, clf__criterion=entropy, clf__min_samples_leaf=12, clf__min_samples_split=12, total= 1.0min\n",
      "[CV] clf__class_weight={0: 1, 1: 25}, clf__criterion=gini, clf__min_samples_leaf=2, clf__min_samples_split=6 \n",
      "[CV]  clf__class_weight={0: 1, 1: 25}, clf__criterion=gini, clf__min_samples_leaf=2, clf__min_samples_split=2, total= 1.0min\n",
      "[CV] clf__class_weight={0: 1, 1: 25}, clf__criterion=gini, clf__min_samples_leaf=2, clf__min_samples_split=6 \n",
      "[CV]  clf__class_weight={0: 1, 1: 25}, clf__criterion=gini, clf__min_samples_leaf=2, clf__min_samples_split=2, total=  57.8s\n",
      "[CV] clf__class_weight={0: 1, 1: 25}, clf__criterion=gini, clf__min_samples_leaf=2, clf__min_samples_split=6 \n",
      "[CV]  clf__class_weight={0: 1, 1: 25}, clf__criterion=gini, clf__min_samples_leaf=2, clf__min_samples_split=2, total= 1.0min\n",
      "[CV] clf__class_weight={0: 1, 1: 25}, clf__criterion=gini, clf__min_samples_leaf=2, clf__min_samples_split=8 \n",
      "[CV]  clf__class_weight={0: 1, 1: 25}, clf__criterion=gini, clf__min_samples_leaf=2, clf__min_samples_split=6, total= 1.0min\n",
      "[CV] clf__class_weight={0: 1, 1: 25}, clf__criterion=gini, clf__min_samples_leaf=2, clf__min_samples_split=8 \n",
      "[CV]  clf__class_weight={0: 1, 1: 25}, clf__criterion=gini, clf__min_samples_leaf=2, clf__min_samples_split=6, total= 1.0min\n",
      "[CV] clf__class_weight={0: 1, 1: 25}, clf__criterion=gini, clf__min_samples_leaf=2, clf__min_samples_split=8 \n",
      "[CV]  clf__class_weight={0: 1, 1: 25}, clf__criterion=gini, clf__min_samples_leaf=2, clf__min_samples_split=6, total=  57.9s\n",
      "[CV] clf__class_weight={0: 1, 1: 25}, clf__criterion=gini, clf__min_samples_leaf=2, clf__min_samples_split=12 \n",
      "[CV]  clf__class_weight={0: 1, 1: 25}, clf__criterion=gini, clf__min_samples_leaf=2, clf__min_samples_split=8, total=  58.4s\n",
      "[CV] clf__class_weight={0: 1, 1: 25}, clf__criterion=gini, clf__min_samples_leaf=2, clf__min_samples_split=12 \n",
      "[CV]  clf__class_weight={0: 1, 1: 25}, clf__criterion=gini, clf__min_samples_leaf=2, clf__min_samples_split=8, total= 1.0min\n",
      "[CV] clf__class_weight={0: 1, 1: 25}, clf__criterion=gini, clf__min_samples_leaf=2, clf__min_samples_split=12 \n",
      "[CV]  clf__class_weight={0: 1, 1: 25}, clf__criterion=gini, clf__min_samples_leaf=2, clf__min_samples_split=8, total= 1.0min\n",
      "[CV] clf__class_weight={0: 1, 1: 25}, clf__criterion=gini, clf__min_samples_leaf=6, clf__min_samples_split=2 \n",
      "[CV]  clf__class_weight={0: 1, 1: 25}, clf__criterion=gini, clf__min_samples_leaf=2, clf__min_samples_split=12, total=  58.4s\n",
      "[CV] clf__class_weight={0: 1, 1: 25}, clf__criterion=gini, clf__min_samples_leaf=6, clf__min_samples_split=2 \n",
      "[CV]  clf__class_weight={0: 1, 1: 25}, clf__criterion=gini, clf__min_samples_leaf=2, clf__min_samples_split=12, total= 1.0min\n",
      "[CV] clf__class_weight={0: 1, 1: 25}, clf__criterion=gini, clf__min_samples_leaf=6, clf__min_samples_split=2 \n",
      "[CV]  clf__class_weight={0: 1, 1: 25}, clf__criterion=gini, clf__min_samples_leaf=2, clf__min_samples_split=12, total=  59.4s\n",
      "[CV] clf__class_weight={0: 1, 1: 25}, clf__criterion=gini, clf__min_samples_leaf=6, clf__min_samples_split=6 \n",
      "[CV]  clf__class_weight={0: 1, 1: 25}, clf__criterion=gini, clf__min_samples_leaf=6, clf__min_samples_split=2, total= 1.0min\n",
      "[CV] clf__class_weight={0: 1, 1: 25}, clf__criterion=gini, clf__min_samples_leaf=6, clf__min_samples_split=6 \n",
      "[CV]  clf__class_weight={0: 1, 1: 25}, clf__criterion=gini, clf__min_samples_leaf=6, clf__min_samples_split=2, total=  58.6s\n",
      "[CV] clf__class_weight={0: 1, 1: 25}, clf__criterion=gini, clf__min_samples_leaf=6, clf__min_samples_split=6 \n",
      "[CV]  clf__class_weight={0: 1, 1: 25}, clf__criterion=gini, clf__min_samples_leaf=6, clf__min_samples_split=2, total=  58.6s\n",
      "[CV] clf__class_weight={0: 1, 1: 25}, clf__criterion=gini, clf__min_samples_leaf=6, clf__min_samples_split=8 \n",
      "[CV]  clf__class_weight={0: 1, 1: 25}, clf__criterion=gini, clf__min_samples_leaf=6, clf__min_samples_split=6, total=  57.9s\n",
      "[CV] clf__class_weight={0: 1, 1: 25}, clf__criterion=gini, clf__min_samples_leaf=6, clf__min_samples_split=8 \n",
      "[CV]  clf__class_weight={0: 1, 1: 25}, clf__criterion=gini, clf__min_samples_leaf=6, clf__min_samples_split=6, total= 1.0min\n",
      "[CV] clf__class_weight={0: 1, 1: 25}, clf__criterion=gini, clf__min_samples_leaf=6, clf__min_samples_split=8 \n",
      "[CV]  clf__class_weight={0: 1, 1: 25}, clf__criterion=gini, clf__min_samples_leaf=6, clf__min_samples_split=6, total=  56.3s\n",
      "[CV] clf__class_weight={0: 1, 1: 25}, clf__criterion=gini, clf__min_samples_leaf=6, clf__min_samples_split=12 \n",
      "[CV]  clf__class_weight={0: 1, 1: 25}, clf__criterion=gini, clf__min_samples_leaf=6, clf__min_samples_split=8, total=  58.5s\n",
      "[CV] clf__class_weight={0: 1, 1: 25}, clf__criterion=gini, clf__min_samples_leaf=6, clf__min_samples_split=12 \n",
      "[CV]  clf__class_weight={0: 1, 1: 25}, clf__criterion=gini, clf__min_samples_leaf=6, clf__min_samples_split=8, total=  59.6s\n",
      "[CV] clf__class_weight={0: 1, 1: 25}, clf__criterion=gini, clf__min_samples_leaf=6, clf__min_samples_split=12 \n",
      "[CV]  clf__class_weight={0: 1, 1: 25}, clf__criterion=gini, clf__min_samples_leaf=6, clf__min_samples_split=8, total= 1.0min\n",
      "[CV] clf__class_weight={0: 1, 1: 25}, clf__criterion=gini, clf__min_samples_leaf=8, clf__min_samples_split=2 \n",
      "[CV]  clf__class_weight={0: 1, 1: 25}, clf__criterion=gini, clf__min_samples_leaf=6, clf__min_samples_split=12, total=  57.6s\n",
      "[CV] clf__class_weight={0: 1, 1: 25}, clf__criterion=gini, clf__min_samples_leaf=8, clf__min_samples_split=2 \n",
      "[CV]  clf__class_weight={0: 1, 1: 25}, clf__criterion=gini, clf__min_samples_leaf=6, clf__min_samples_split=12, total=  55.3s\n",
      "[CV] clf__class_weight={0: 1, 1: 25}, clf__criterion=gini, clf__min_samples_leaf=8, clf__min_samples_split=2 \n",
      "[CV]  clf__class_weight={0: 1, 1: 25}, clf__criterion=gini, clf__min_samples_leaf=6, clf__min_samples_split=12, total=  59.5s\n",
      "[CV] clf__class_weight={0: 1, 1: 25}, clf__criterion=gini, clf__min_samples_leaf=8, clf__min_samples_split=6 \n",
      "[CV]  clf__class_weight={0: 1, 1: 25}, clf__criterion=gini, clf__min_samples_leaf=8, clf__min_samples_split=2, total= 1.0min\n",
      "[CV] clf__class_weight={0: 1, 1: 25}, clf__criterion=gini, clf__min_samples_leaf=8, clf__min_samples_split=6 \n",
      "[CV]  clf__class_weight={0: 1, 1: 25}, clf__criterion=gini, clf__min_samples_leaf=8, clf__min_samples_split=2, total=  58.0s\n",
      "[CV] clf__class_weight={0: 1, 1: 25}, clf__criterion=gini, clf__min_samples_leaf=8, clf__min_samples_split=6 \n",
      "[CV]  clf__class_weight={0: 1, 1: 25}, clf__criterion=gini, clf__min_samples_leaf=8, clf__min_samples_split=2, total= 1.0min\n",
      "[CV] clf__class_weight={0: 1, 1: 25}, clf__criterion=gini, clf__min_samples_leaf=8, clf__min_samples_split=8 \n",
      "[CV]  clf__class_weight={0: 1, 1: 25}, clf__criterion=gini, clf__min_samples_leaf=8, clf__min_samples_split=6, total=  59.2s\n",
      "[CV] clf__class_weight={0: 1, 1: 25}, clf__criterion=gini, clf__min_samples_leaf=8, clf__min_samples_split=8 \n",
      "[CV]  clf__class_weight={0: 1, 1: 25}, clf__criterion=gini, clf__min_samples_leaf=8, clf__min_samples_split=6, total= 1.0min\n",
      "[CV] clf__class_weight={0: 1, 1: 25}, clf__criterion=gini, clf__min_samples_leaf=8, clf__min_samples_split=8 \n",
      "[CV]  clf__class_weight={0: 1, 1: 25}, clf__criterion=gini, clf__min_samples_leaf=8, clf__min_samples_split=6, total=  59.8s\n",
      "[CV] clf__class_weight={0: 1, 1: 25}, clf__criterion=gini, clf__min_samples_leaf=8, clf__min_samples_split=12 \n",
      "[CV]  clf__class_weight={0: 1, 1: 25}, clf__criterion=gini, clf__min_samples_leaf=8, clf__min_samples_split=8, total=  56.7s\n",
      "[CV] clf__class_weight={0: 1, 1: 25}, clf__criterion=gini, clf__min_samples_leaf=8, clf__min_samples_split=12 \n",
      "[CV]  clf__class_weight={0: 1, 1: 25}, clf__criterion=gini, clf__min_samples_leaf=8, clf__min_samples_split=8, total= 1.0min\n"
     ]
    },
    {
     "name": "stdout",
     "output_type": "stream",
     "text": [
      "[CV] clf__class_weight={0: 1, 1: 25}, clf__criterion=gini, clf__min_samples_leaf=8, clf__min_samples_split=12 \n",
      "[CV]  clf__class_weight={0: 1, 1: 25}, clf__criterion=gini, clf__min_samples_leaf=8, clf__min_samples_split=8, total= 1.1min\n",
      "[CV] clf__class_weight={0: 1, 1: 25}, clf__criterion=gini, clf__min_samples_leaf=12, clf__min_samples_split=2 \n",
      "[CV]  clf__class_weight={0: 1, 1: 25}, clf__criterion=gini, clf__min_samples_leaf=8, clf__min_samples_split=12, total=  59.4s\n",
      "[CV] clf__class_weight={0: 1, 1: 25}, clf__criterion=gini, clf__min_samples_leaf=12, clf__min_samples_split=2 \n",
      "[CV]  clf__class_weight={0: 1, 1: 25}, clf__criterion=gini, clf__min_samples_leaf=8, clf__min_samples_split=12, total=  57.6s\n",
      "[CV] clf__class_weight={0: 1, 1: 25}, clf__criterion=gini, clf__min_samples_leaf=12, clf__min_samples_split=2 \n",
      "[CV]  clf__class_weight={0: 1, 1: 25}, clf__criterion=gini, clf__min_samples_leaf=8, clf__min_samples_split=12, total=  59.1s\n",
      "[CV] clf__class_weight={0: 1, 1: 25}, clf__criterion=gini, clf__min_samples_leaf=12, clf__min_samples_split=6 \n",
      "[CV]  clf__class_weight={0: 1, 1: 25}, clf__criterion=gini, clf__min_samples_leaf=12, clf__min_samples_split=2, total=  59.4s\n",
      "[CV] clf__class_weight={0: 1, 1: 25}, clf__criterion=gini, clf__min_samples_leaf=12, clf__min_samples_split=6 \n",
      "[CV]  clf__class_weight={0: 1, 1: 25}, clf__criterion=gini, clf__min_samples_leaf=12, clf__min_samples_split=2, total=  58.0s\n",
      "[CV] clf__class_weight={0: 1, 1: 25}, clf__criterion=gini, clf__min_samples_leaf=12, clf__min_samples_split=6 \n",
      "[CV]  clf__class_weight={0: 1, 1: 25}, clf__criterion=gini, clf__min_samples_leaf=12, clf__min_samples_split=2, total=  55.9s\n",
      "[CV] clf__class_weight={0: 1, 1: 25}, clf__criterion=gini, clf__min_samples_leaf=12, clf__min_samples_split=8 \n",
      "[CV]  clf__class_weight={0: 1, 1: 25}, clf__criterion=gini, clf__min_samples_leaf=12, clf__min_samples_split=6, total=  58.9s\n",
      "[CV] clf__class_weight={0: 1, 1: 25}, clf__criterion=gini, clf__min_samples_leaf=12, clf__min_samples_split=8 \n",
      "[CV]  clf__class_weight={0: 1, 1: 25}, clf__criterion=gini, clf__min_samples_leaf=12, clf__min_samples_split=6, total= 1.0min\n",
      "[CV] clf__class_weight={0: 1, 1: 25}, clf__criterion=gini, clf__min_samples_leaf=12, clf__min_samples_split=8 \n",
      "[CV]  clf__class_weight={0: 1, 1: 25}, clf__criterion=gini, clf__min_samples_leaf=12, clf__min_samples_split=6, total=  57.6s\n",
      "[CV] clf__class_weight={0: 1, 1: 25}, clf__criterion=gini, clf__min_samples_leaf=12, clf__min_samples_split=12 \n",
      "[CV]  clf__class_weight={0: 1, 1: 25}, clf__criterion=gini, clf__min_samples_leaf=12, clf__min_samples_split=8, total=  57.5s\n",
      "[CV] clf__class_weight={0: 1, 1: 25}, clf__criterion=gini, clf__min_samples_leaf=12, clf__min_samples_split=12 \n",
      "[CV]  clf__class_weight={0: 1, 1: 25}, clf__criterion=gini, clf__min_samples_leaf=12, clf__min_samples_split=8, total=  55.8s\n",
      "[CV] clf__class_weight={0: 1, 1: 25}, clf__criterion=gini, clf__min_samples_leaf=12, clf__min_samples_split=12 \n",
      "[CV]  clf__class_weight={0: 1, 1: 25}, clf__criterion=gini, clf__min_samples_leaf=12, clf__min_samples_split=8, total= 1.0min\n",
      "[CV] clf__class_weight={0: 1, 1: 25}, clf__criterion=entropy, clf__min_samples_leaf=2, clf__min_samples_split=2 \n",
      "[CV]  clf__class_weight={0: 1, 1: 25}, clf__criterion=gini, clf__min_samples_leaf=12, clf__min_samples_split=12, total=  56.6s\n",
      "[CV] clf__class_weight={0: 1, 1: 25}, clf__criterion=entropy, clf__min_samples_leaf=2, clf__min_samples_split=2 \n",
      "[CV]  clf__class_weight={0: 1, 1: 25}, clf__criterion=gini, clf__min_samples_leaf=12, clf__min_samples_split=12, total=  58.7s\n",
      "[CV] clf__class_weight={0: 1, 1: 25}, clf__criterion=entropy, clf__min_samples_leaf=2, clf__min_samples_split=2 \n",
      "[CV]  clf__class_weight={0: 1, 1: 25}, clf__criterion=gini, clf__min_samples_leaf=12, clf__min_samples_split=12, total=  59.9s\n",
      "[CV] clf__class_weight={0: 1, 1: 25}, clf__criterion=entropy, clf__min_samples_leaf=2, clf__min_samples_split=6 \n",
      "[CV]  clf__class_weight={0: 1, 1: 25}, clf__criterion=entropy, clf__min_samples_leaf=2, clf__min_samples_split=2, total= 1.1min\n",
      "[CV] clf__class_weight={0: 1, 1: 25}, clf__criterion=entropy, clf__min_samples_leaf=2, clf__min_samples_split=6 \n",
      "[CV]  clf__class_weight={0: 1, 1: 25}, clf__criterion=entropy, clf__min_samples_leaf=2, clf__min_samples_split=2, total= 1.0min\n",
      "[CV] clf__class_weight={0: 1, 1: 25}, clf__criterion=entropy, clf__min_samples_leaf=2, clf__min_samples_split=6 \n",
      "[CV]  clf__class_weight={0: 1, 1: 25}, clf__criterion=entropy, clf__min_samples_leaf=2, clf__min_samples_split=2, total= 1.1min\n",
      "[CV] clf__class_weight={0: 1, 1: 25}, clf__criterion=entropy, clf__min_samples_leaf=2, clf__min_samples_split=8 \n",
      "[CV]  clf__class_weight={0: 1, 1: 25}, clf__criterion=entropy, clf__min_samples_leaf=2, clf__min_samples_split=6, total= 1.0min\n",
      "[CV] clf__class_weight={0: 1, 1: 25}, clf__criterion=entropy, clf__min_samples_leaf=2, clf__min_samples_split=8 \n",
      "[CV]  clf__class_weight={0: 1, 1: 25}, clf__criterion=entropy, clf__min_samples_leaf=2, clf__min_samples_split=6, total= 1.1min\n",
      "[CV] clf__class_weight={0: 1, 1: 25}, clf__criterion=entropy, clf__min_samples_leaf=2, clf__min_samples_split=8 \n",
      "[CV]  clf__class_weight={0: 1, 1: 25}, clf__criterion=entropy, clf__min_samples_leaf=2, clf__min_samples_split=6, total= 1.0min\n",
      "[CV] clf__class_weight={0: 1, 1: 25}, clf__criterion=entropy, clf__min_samples_leaf=2, clf__min_samples_split=12 \n",
      "[CV]  clf__class_weight={0: 1, 1: 25}, clf__criterion=entropy, clf__min_samples_leaf=2, clf__min_samples_split=8, total= 1.0min\n",
      "[CV] clf__class_weight={0: 1, 1: 25}, clf__criterion=entropy, clf__min_samples_leaf=2, clf__min_samples_split=12 \n",
      "[CV]  clf__class_weight={0: 1, 1: 25}, clf__criterion=entropy, clf__min_samples_leaf=2, clf__min_samples_split=8, total= 1.0min\n",
      "[CV] clf__class_weight={0: 1, 1: 25}, clf__criterion=entropy, clf__min_samples_leaf=2, clf__min_samples_split=12 \n",
      "[CV]  clf__class_weight={0: 1, 1: 25}, clf__criterion=entropy, clf__min_samples_leaf=2, clf__min_samples_split=8, total= 1.1min\n",
      "[CV] clf__class_weight={0: 1, 1: 25}, clf__criterion=entropy, clf__min_samples_leaf=6, clf__min_samples_split=2 \n",
      "[CV]  clf__class_weight={0: 1, 1: 25}, clf__criterion=entropy, clf__min_samples_leaf=2, clf__min_samples_split=12, total= 1.0min\n",
      "[CV] clf__class_weight={0: 1, 1: 25}, clf__criterion=entropy, clf__min_samples_leaf=6, clf__min_samples_split=2 \n",
      "[CV]  clf__class_weight={0: 1, 1: 25}, clf__criterion=entropy, clf__min_samples_leaf=2, clf__min_samples_split=12, total=  59.4s\n",
      "[CV] clf__class_weight={0: 1, 1: 25}, clf__criterion=entropy, clf__min_samples_leaf=6, clf__min_samples_split=2 \n",
      "[CV]  clf__class_weight={0: 1, 1: 25}, clf__criterion=entropy, clf__min_samples_leaf=2, clf__min_samples_split=12, total= 1.1min\n",
      "[CV] clf__class_weight={0: 1, 1: 25}, clf__criterion=entropy, clf__min_samples_leaf=6, clf__min_samples_split=6 \n",
      "[CV]  clf__class_weight={0: 1, 1: 25}, clf__criterion=entropy, clf__min_samples_leaf=6, clf__min_samples_split=2, total= 1.1min\n",
      "[CV] clf__class_weight={0: 1, 1: 25}, clf__criterion=entropy, clf__min_samples_leaf=6, clf__min_samples_split=6 \n",
      "[CV]  clf__class_weight={0: 1, 1: 25}, clf__criterion=entropy, clf__min_samples_leaf=6, clf__min_samples_split=2, total=  57.5s\n",
      "[CV] clf__class_weight={0: 1, 1: 25}, clf__criterion=entropy, clf__min_samples_leaf=6, clf__min_samples_split=6 \n",
      "[CV]  clf__class_weight={0: 1, 1: 25}, clf__criterion=entropy, clf__min_samples_leaf=6, clf__min_samples_split=2, total= 1.0min\n",
      "[CV] clf__class_weight={0: 1, 1: 25}, clf__criterion=entropy, clf__min_samples_leaf=6, clf__min_samples_split=8 \n",
      "[CV]  clf__class_weight={0: 1, 1: 25}, clf__criterion=entropy, clf__min_samples_leaf=6, clf__min_samples_split=6, total= 1.0min\n",
      "[CV] clf__class_weight={0: 1, 1: 25}, clf__criterion=entropy, clf__min_samples_leaf=6, clf__min_samples_split=8 \n",
      "[CV]  clf__class_weight={0: 1, 1: 25}, clf__criterion=entropy, clf__min_samples_leaf=6, clf__min_samples_split=6, total= 1.0min\n",
      "[CV] clf__class_weight={0: 1, 1: 25}, clf__criterion=entropy, clf__min_samples_leaf=6, clf__min_samples_split=8 \n",
      "[CV]  clf__class_weight={0: 1, 1: 25}, clf__criterion=entropy, clf__min_samples_leaf=6, clf__min_samples_split=6, total= 1.0min\n",
      "[CV] clf__class_weight={0: 1, 1: 25}, clf__criterion=entropy, clf__min_samples_leaf=6, clf__min_samples_split=12 \n"
     ]
    },
    {
     "name": "stdout",
     "output_type": "stream",
     "text": [
      "[CV]  clf__class_weight={0: 1, 1: 25}, clf__criterion=entropy, clf__min_samples_leaf=6, clf__min_samples_split=8, total=  56.5s\n",
      "[CV] clf__class_weight={0: 1, 1: 25}, clf__criterion=entropy, clf__min_samples_leaf=6, clf__min_samples_split=12 \n",
      "[CV]  clf__class_weight={0: 1, 1: 25}, clf__criterion=entropy, clf__min_samples_leaf=6, clf__min_samples_split=8, total= 1.0min\n",
      "[CV] clf__class_weight={0: 1, 1: 25}, clf__criterion=entropy, clf__min_samples_leaf=6, clf__min_samples_split=12 \n",
      "[CV]  clf__class_weight={0: 1, 1: 25}, clf__criterion=entropy, clf__min_samples_leaf=6, clf__min_samples_split=8, total= 1.1min\n",
      "[CV] clf__class_weight={0: 1, 1: 25}, clf__criterion=entropy, clf__min_samples_leaf=8, clf__min_samples_split=2 \n",
      "[CV]  clf__class_weight={0: 1, 1: 25}, clf__criterion=entropy, clf__min_samples_leaf=6, clf__min_samples_split=12, total= 1.1min\n",
      "[CV] clf__class_weight={0: 1, 1: 25}, clf__criterion=entropy, clf__min_samples_leaf=8, clf__min_samples_split=2 \n",
      "[CV]  clf__class_weight={0: 1, 1: 25}, clf__criterion=entropy, clf__min_samples_leaf=6, clf__min_samples_split=12, total=  56.1s\n",
      "[CV] clf__class_weight={0: 1, 1: 25}, clf__criterion=entropy, clf__min_samples_leaf=8, clf__min_samples_split=2 \n",
      "[CV]  clf__class_weight={0: 1, 1: 25}, clf__criterion=entropy, clf__min_samples_leaf=6, clf__min_samples_split=12, total=  59.3s\n",
      "[CV] clf__class_weight={0: 1, 1: 25}, clf__criterion=entropy, clf__min_samples_leaf=8, clf__min_samples_split=6 \n",
      "[CV]  clf__class_weight={0: 1, 1: 25}, clf__criterion=entropy, clf__min_samples_leaf=8, clf__min_samples_split=2, total= 1.0min\n",
      "[CV] clf__class_weight={0: 1, 1: 25}, clf__criterion=entropy, clf__min_samples_leaf=8, clf__min_samples_split=6 \n",
      "[CV]  clf__class_weight={0: 1, 1: 25}, clf__criterion=entropy, clf__min_samples_leaf=8, clf__min_samples_split=2, total=  57.6s\n",
      "[CV] clf__class_weight={0: 1, 1: 25}, clf__criterion=entropy, clf__min_samples_leaf=8, clf__min_samples_split=6 \n",
      "[CV]  clf__class_weight={0: 1, 1: 25}, clf__criterion=entropy, clf__min_samples_leaf=8, clf__min_samples_split=2, total=  59.7s\n",
      "[CV] clf__class_weight={0: 1, 1: 25}, clf__criterion=entropy, clf__min_samples_leaf=8, clf__min_samples_split=8 \n",
      "[CV]  clf__class_weight={0: 1, 1: 25}, clf__criterion=entropy, clf__min_samples_leaf=8, clf__min_samples_split=6, total=  56.5s\n",
      "[CV] clf__class_weight={0: 1, 1: 25}, clf__criterion=entropy, clf__min_samples_leaf=8, clf__min_samples_split=8 \n",
      "[CV]  clf__class_weight={0: 1, 1: 25}, clf__criterion=entropy, clf__min_samples_leaf=8, clf__min_samples_split=6, total=  47.5s\n",
      "[CV] clf__class_weight={0: 1, 1: 25}, clf__criterion=entropy, clf__min_samples_leaf=8, clf__min_samples_split=8 \n",
      "[CV]  clf__class_weight={0: 1, 1: 25}, clf__criterion=entropy, clf__min_samples_leaf=8, clf__min_samples_split=8, total=  33.1s\n",
      "[CV] clf__class_weight={0: 1, 1: 25}, clf__criterion=entropy, clf__min_samples_leaf=8, clf__min_samples_split=12 \n",
      "[CV]  clf__class_weight={0: 1, 1: 25}, clf__criterion=entropy, clf__min_samples_leaf=8, clf__min_samples_split=6, total=  38.6s\n",
      "[CV] clf__class_weight={0: 1, 1: 25}, clf__criterion=entropy, clf__min_samples_leaf=8, clf__min_samples_split=12 \n",
      "[CV]  clf__class_weight={0: 1, 1: 25}, clf__criterion=entropy, clf__min_samples_leaf=8, clf__min_samples_split=8, total=  36.3s\n",
      "[CV] clf__class_weight={0: 1, 1: 25}, clf__criterion=entropy, clf__min_samples_leaf=8, clf__min_samples_split=12 \n",
      "[CV]  clf__class_weight={0: 1, 1: 25}, clf__criterion=entropy, clf__min_samples_leaf=8, clf__min_samples_split=8, total=  34.8s\n",
      "[CV] clf__class_weight={0: 1, 1: 25}, clf__criterion=entropy, clf__min_samples_leaf=12, clf__min_samples_split=2 \n",
      "[CV]  clf__class_weight={0: 1, 1: 25}, clf__criterion=entropy, clf__min_samples_leaf=8, clf__min_samples_split=12, total=  30.8s\n",
      "[CV] clf__class_weight={0: 1, 1: 25}, clf__criterion=entropy, clf__min_samples_leaf=12, clf__min_samples_split=2 \n",
      "[CV]  clf__class_weight={0: 1, 1: 25}, clf__criterion=entropy, clf__min_samples_leaf=8, clf__min_samples_split=12, total=  33.6s\n",
      "[CV] clf__class_weight={0: 1, 1: 25}, clf__criterion=entropy, clf__min_samples_leaf=12, clf__min_samples_split=2 \n",
      "[CV]  clf__class_weight={0: 1, 1: 25}, clf__criterion=entropy, clf__min_samples_leaf=8, clf__min_samples_split=12, total=  32.1s\n",
      "[CV] clf__class_weight={0: 1, 1: 25}, clf__criterion=entropy, clf__min_samples_leaf=12, clf__min_samples_split=6 \n",
      "[CV]  clf__class_weight={0: 1, 1: 25}, clf__criterion=entropy, clf__min_samples_leaf=12, clf__min_samples_split=2, total=  35.1s\n",
      "[CV] clf__class_weight={0: 1, 1: 25}, clf__criterion=entropy, clf__min_samples_leaf=12, clf__min_samples_split=6 \n",
      "[CV]  clf__class_weight={0: 1, 1: 25}, clf__criterion=entropy, clf__min_samples_leaf=12, clf__min_samples_split=2, total=  31.6s\n",
      "[CV] clf__class_weight={0: 1, 1: 25}, clf__criterion=entropy, clf__min_samples_leaf=12, clf__min_samples_split=6 \n",
      "[CV]  clf__class_weight={0: 1, 1: 25}, clf__criterion=entropy, clf__min_samples_leaf=12, clf__min_samples_split=2, total=  29.8s\n",
      "[CV] clf__class_weight={0: 1, 1: 25}, clf__criterion=entropy, clf__min_samples_leaf=12, clf__min_samples_split=8 \n",
      "[CV]  clf__class_weight={0: 1, 1: 25}, clf__criterion=entropy, clf__min_samples_leaf=12, clf__min_samples_split=6, total=  34.8s\n",
      "[CV] clf__class_weight={0: 1, 1: 25}, clf__criterion=entropy, clf__min_samples_leaf=12, clf__min_samples_split=8 \n",
      "[CV]  clf__class_weight={0: 1, 1: 25}, clf__criterion=entropy, clf__min_samples_leaf=12, clf__min_samples_split=6, total=  34.2s\n",
      "[CV] clf__class_weight={0: 1, 1: 25}, clf__criterion=entropy, clf__min_samples_leaf=12, clf__min_samples_split=8 \n",
      "[CV]  clf__class_weight={0: 1, 1: 25}, clf__criterion=entropy, clf__min_samples_leaf=12, clf__min_samples_split=6, total=  31.2s\n",
      "[CV] clf__class_weight={0: 1, 1: 25}, clf__criterion=entropy, clf__min_samples_leaf=12, clf__min_samples_split=12 \n",
      "[CV]  clf__class_weight={0: 1, 1: 25}, clf__criterion=entropy, clf__min_samples_leaf=12, clf__min_samples_split=8, total=  31.9s\n",
      "[CV] clf__class_weight={0: 1, 1: 25}, clf__criterion=entropy, clf__min_samples_leaf=12, clf__min_samples_split=12 \n",
      "[CV]  clf__class_weight={0: 1, 1: 25}, clf__criterion=entropy, clf__min_samples_leaf=12, clf__min_samples_split=8, total=  32.3s\n",
      "[CV] clf__class_weight={0: 1, 1: 25}, clf__criterion=entropy, clf__min_samples_leaf=12, clf__min_samples_split=12 \n",
      "[CV]  clf__class_weight={0: 1, 1: 25}, clf__criterion=entropy, clf__min_samples_leaf=12, clf__min_samples_split=8, total=  32.7s\n",
      "[CV]  clf__class_weight={0: 1, 1: 25}, clf__criterion=entropy, clf__min_samples_leaf=12, clf__min_samples_split=12, total=  29.9s\n",
      "[CV]  clf__class_weight={0: 1, 1: 25}, clf__criterion=entropy, clf__min_samples_leaf=12, clf__min_samples_split=12, total=  31.8s\n",
      "[CV]  clf__class_weight={0: 1, 1: 25}, clf__criterion=entropy, clf__min_samples_leaf=12, clf__min_samples_split=12, total=  29.2s\n"
     ]
    },
    {
     "name": "stderr",
     "output_type": "stream",
     "text": [
      "[Parallel(n_jobs=-1)]: Done 288 out of 288 | elapsed: 82.6min finished\n"
     ]
    },
    {
     "name": "stdout",
     "output_type": "stream",
     "text": [
      "Best params: {'clf__class_weight': {0: 1, 1: 20}, 'clf__criterion': 'entropy', 'clf__min_samples_leaf': 12, 'clf__min_samples_split': 2}\n",
      "Best training roc auc: 0.737\n",
      "Test set roc auc score for best params: 0.592 \n"
     ]
    }
   ],
   "source": [
    "# Fit grid search\t\n",
    "gs_rf.fit(X_train, y_train)\n",
    "# Best params\n",
    "print('Best params: %s' % gs_rf.best_params_)\n",
    "# Best training data roc auc\n",
    "print('Best training roc auc: %.3f' % gs_rf.best_score_)\n",
    "# Predict on test data with best params\n",
    "y_pred_gs_rf = gs_rf.predict(X_test)\n",
    "# Test data roc auc of model with best params\n",
    "print('Test set roc auc score for best params: %.3f ' % roc_auc_score(y_test, y_pred_gs_rf))"
   ]
  },
  {
   "cell_type": "code",
   "execution_count": 27,
   "metadata": {},
   "outputs": [
    {
     "data": {
      "text/plain": [
       "<matplotlib.axes._subplots.AxesSubplot at 0x7f0a895db358>"
      ]
     },
     "execution_count": 27,
     "metadata": {},
     "output_type": "execute_result"
    },
    {
     "data": {
      "image/png": "[encoded data removed]",
      "text/plain": [
       "<Figure size 432x288 with 2 Axes>"
      ]
     },
     "metadata": {},
     "output_type": "display_data"
    }
   ],
   "source": [
    "skplt.metrics.plot_confusion_matrix(y_test, y_pred_gs_rf, normalize=True)"
   ]
  },
  {
   "cell_type": "code",
   "execution_count": 28,
   "metadata": {},
   "outputs": [
    {
     "name": "stdout",
     "output_type": "stream",
     "text": [
      "<class 'pandas.core.frame.DataFrame'>\n",
      "Int64Index: 39102 entries, 1690 to 20609007\n",
      "Data columns (total 37 columns):\n",
      "6m                               39102 non-null float64\n",
      "5m                               39102 non-null float64\n",
      "4m                               39102 non-null float64\n",
      "3m                               39102 non-null float64\n",
      "2m                               39102 non-null float64\n",
      "1m                               39102 non-null float64\n",
      "edad_r                           39102 non-null float64\n",
      "6m_rel                           39102 non-null float64\n",
      "5m_rel                           39102 non-null float64\n",
      "4m_rel                           39102 non-null float64\n",
      "3m_rel                           39102 non-null float64\n",
      "2m_rel                           39102 non-null float64\n",
      "1m_rel                           39102 non-null float64\n",
      "Churn                            39102 non-null int64\n",
      "GENDER_F                         39102 non-null int64\n",
      "GENDER_M                         39102 non-null int64\n",
      "MARITAL_STATUS_Casado            39102 non-null int64\n",
      "MARITAL_STATUS_Conviv            39102 non-null int64\n",
      "MARITAL_STATUS_Divorciado        39102 non-null int64\n",
      "MARITAL_STATUS_No Corresp        39102 non-null int64\n",
      "MARITAL_STATUS_Separado          39102 non-null int64\n",
      "MARITAL_STATUS_Soltero           39102 non-null int64\n",
      "MARITAL_STATUS_Union Civ         39102 non-null int64\n",
      "MARITAL_STATUS_Viudo             39102 non-null int64\n",
      "EDUCATION_N                      39102 non-null int64\n",
      "EDUCATION_S                      39102 non-null int64\n",
      "EDUCATION_LEVEL_PRIMARIO         39102 non-null int64\n",
      "EDUCATION_LEVEL_SECUNDARIO       39102 non-null int64\n",
      "EDUCATION_LEVEL_TERCIARIO        39102 non-null int64\n",
      "EDUCATION_LEVEL_UNIVERSITARIO    39102 non-null int64\n",
      "ModoPago_BA                      39102 non-null int64\n",
      "ModoPago_CC                      39102 non-null int64\n",
      "ModoPago_Mix                     39102 non-null int64\n",
      "ModoPago_PP                      39102 non-null int64\n",
      "ModoPago_SJ                      39102 non-null int64\n",
      "ModoPago_TA                      39102 non-null int64\n",
      "ModoPago_TM                      39102 non-null int64\n",
      "dtypes: float64(13), int64(24)\n",
      "memory usage: 11.3 MB\n"
     ]
    }
   ],
   "source": [
    "#evaluación contra el testeo externo\n",
    "df_testo_ext = pd.read_csv(\"../../data/processed/4.4/test_cliente/m1.0 - mes actual dummies - churn estricto - 6m.N.polizaXmes y Info.Cliente.M.Pago.csv\", index_col=\"Unnamed: 0\")\n",
    "df_testo_ext.info()"
   ]
  },
  {
   "cell_type": "code",
   "execution_count": 29,
   "metadata": {},
   "outputs": [],
   "source": [
    "X_testo_ext = df_testo_ext.drop(\"Churn\", axis=1)\n",
    "y_testeo_ext = df_testo_ext[\"Churn\"]"
   ]
  },
  {
   "cell_type": "code",
   "execution_count": 30,
   "metadata": {},
   "outputs": [
    {
     "data": {
      "text/html": [
       "<div>\n",
       "<style scoped>\n",
       "    .dataframe tbody tr th:only-of-type {\n",
       "        vertical-align: middle;\n",
       "    }\n",
       "\n",
       "    .dataframe tbody tr th {\n",
       "        vertical-align: top;\n",
       "    }\n",
       "\n",
       "    .dataframe thead th {\n",
       "        text-align: right;\n",
       "    }\n",
       "</style>\n",
       "<table border=\"1\" class=\"dataframe\">\n",
       "  <thead>\n",
       "    <tr style=\"text-align: right;\">\n",
       "      <th></th>\n",
       "      <th>6m</th>\n",
       "      <th>5m</th>\n",
       "      <th>4m</th>\n",
       "      <th>3m</th>\n",
       "      <th>2m</th>\n",
       "      <th>1m</th>\n",
       "      <th>edad_r</th>\n",
       "      <th>6m_rel</th>\n",
       "      <th>5m_rel</th>\n",
       "      <th>4m_rel</th>\n",
       "      <th>...</th>\n",
       "      <th>EDUCATION_LEVEL_SECUNDARIO</th>\n",
       "      <th>EDUCATION_LEVEL_TERCIARIO</th>\n",
       "      <th>EDUCATION_LEVEL_UNIVERSITARIO</th>\n",
       "      <th>ModoPago_BA</th>\n",
       "      <th>ModoPago_CC</th>\n",
       "      <th>ModoPago_Mix</th>\n",
       "      <th>ModoPago_PP</th>\n",
       "      <th>ModoPago_SJ</th>\n",
       "      <th>ModoPago_TA</th>\n",
       "      <th>ModoPago_TM</th>\n",
       "    </tr>\n",
       "  </thead>\n",
       "  <tbody>\n",
       "    <tr>\n",
       "      <th>1690</th>\n",
       "      <td>0.0</td>\n",
       "      <td>0.0</td>\n",
       "      <td>0.0</td>\n",
       "      <td>0.0</td>\n",
       "      <td>0.0</td>\n",
       "      <td>0.0</td>\n",
       "      <td>5.0</td>\n",
       "      <td>0.0</td>\n",
       "      <td>0.0</td>\n",
       "      <td>0.0</td>\n",
       "      <td>...</td>\n",
       "      <td>0</td>\n",
       "      <td>0</td>\n",
       "      <td>0</td>\n",
       "      <td>0</td>\n",
       "      <td>1</td>\n",
       "      <td>0</td>\n",
       "      <td>0</td>\n",
       "      <td>0</td>\n",
       "      <td>0</td>\n",
       "      <td>0</td>\n",
       "    </tr>\n",
       "    <tr>\n",
       "      <th>5575</th>\n",
       "      <td>2.0</td>\n",
       "      <td>2.0</td>\n",
       "      <td>2.0</td>\n",
       "      <td>2.0</td>\n",
       "      <td>2.0</td>\n",
       "      <td>1.0</td>\n",
       "      <td>4.0</td>\n",
       "      <td>0.0</td>\n",
       "      <td>7.0</td>\n",
       "      <td>19.0</td>\n",
       "      <td>...</td>\n",
       "      <td>0</td>\n",
       "      <td>0</td>\n",
       "      <td>0</td>\n",
       "      <td>0</td>\n",
       "      <td>0</td>\n",
       "      <td>1</td>\n",
       "      <td>0</td>\n",
       "      <td>0</td>\n",
       "      <td>0</td>\n",
       "      <td>0</td>\n",
       "    </tr>\n",
       "    <tr>\n",
       "      <th>7968</th>\n",
       "      <td>2.0</td>\n",
       "      <td>2.0</td>\n",
       "      <td>2.0</td>\n",
       "      <td>2.0</td>\n",
       "      <td>2.0</td>\n",
       "      <td>2.0</td>\n",
       "      <td>0.0</td>\n",
       "      <td>0.0</td>\n",
       "      <td>0.0</td>\n",
       "      <td>0.0</td>\n",
       "      <td>...</td>\n",
       "      <td>0</td>\n",
       "      <td>0</td>\n",
       "      <td>0</td>\n",
       "      <td>0</td>\n",
       "      <td>1</td>\n",
       "      <td>0</td>\n",
       "      <td>0</td>\n",
       "      <td>0</td>\n",
       "      <td>0</td>\n",
       "      <td>0</td>\n",
       "    </tr>\n",
       "    <tr>\n",
       "      <th>9028</th>\n",
       "      <td>2.0</td>\n",
       "      <td>2.0</td>\n",
       "      <td>2.0</td>\n",
       "      <td>2.0</td>\n",
       "      <td>2.0</td>\n",
       "      <td>2.0</td>\n",
       "      <td>4.0</td>\n",
       "      <td>6.0</td>\n",
       "      <td>4.0</td>\n",
       "      <td>2.0</td>\n",
       "      <td>...</td>\n",
       "      <td>0</td>\n",
       "      <td>0</td>\n",
       "      <td>0</td>\n",
       "      <td>0</td>\n",
       "      <td>0</td>\n",
       "      <td>1</td>\n",
       "      <td>0</td>\n",
       "      <td>0</td>\n",
       "      <td>0</td>\n",
       "      <td>0</td>\n",
       "    </tr>\n",
       "    <tr>\n",
       "      <th>9860</th>\n",
       "      <td>1.0</td>\n",
       "      <td>1.0</td>\n",
       "      <td>1.0</td>\n",
       "      <td>1.0</td>\n",
       "      <td>1.0</td>\n",
       "      <td>0.0</td>\n",
       "      <td>4.0</td>\n",
       "      <td>0.0</td>\n",
       "      <td>0.0</td>\n",
       "      <td>9.0</td>\n",
       "      <td>...</td>\n",
       "      <td>0</td>\n",
       "      <td>0</td>\n",
       "      <td>0</td>\n",
       "      <td>0</td>\n",
       "      <td>0</td>\n",
       "      <td>1</td>\n",
       "      <td>0</td>\n",
       "      <td>0</td>\n",
       "      <td>0</td>\n",
       "      <td>0</td>\n",
       "    </tr>\n",
       "  </tbody>\n",
       "</table>\n",
       "<p>5 rows × 36 columns</p>\n",
       "</div>"
      ],
      "text/plain": [
       "       6m   5m   4m   3m   2m   1m  edad_r  6m_rel  5m_rel  4m_rel  \\\n",
       "1690  0.0  0.0  0.0  0.0  0.0  0.0     5.0     0.0     0.0     0.0   \n",
       "5575  2.0  2.0  2.0  2.0  2.0  1.0     4.0     0.0     7.0    19.0   \n",
       "7968  2.0  2.0  2.0  2.0  2.0  2.0     0.0     0.0     0.0     0.0   \n",
       "9028  2.0  2.0  2.0  2.0  2.0  2.0     4.0     6.0     4.0     2.0   \n",
       "9860  1.0  1.0  1.0  1.0  1.0  0.0     4.0     0.0     0.0     9.0   \n",
       "\n",
       "         ...       EDUCATION_LEVEL_SECUNDARIO  EDUCATION_LEVEL_TERCIARIO  \\\n",
       "1690     ...                                0                          0   \n",
       "5575     ...                                0                          0   \n",
       "7968     ...                                0                          0   \n",
       "9028     ...                                0                          0   \n",
       "9860     ...                                0                          0   \n",
       "\n",
       "      EDUCATION_LEVEL_UNIVERSITARIO  ModoPago_BA  ModoPago_CC  ModoPago_Mix  \\\n",
       "1690                              0            0            1             0   \n",
       "5575                              0            0            0             1   \n",
       "7968                              0            0            1             0   \n",
       "9028                              0            0            0             1   \n",
       "9860                              0            0            0             1   \n",
       "\n",
       "      ModoPago_PP  ModoPago_SJ  ModoPago_TA  ModoPago_TM  \n",
       "1690            0            0            0            0  \n",
       "5575            0            0            0            0  \n",
       "7968            0            0            0            0  \n",
       "9028            0            0            0            0  \n",
       "9860            0            0            0            0  \n",
       "\n",
       "[5 rows x 36 columns]"
      ]
     },
     "execution_count": 30,
     "metadata": {},
     "output_type": "execute_result"
    }
   ],
   "source": [
    "X_testo_ext.head()"
   ]
  },
  {
   "cell_type": "code",
   "execution_count": 31,
   "metadata": {},
   "outputs": [
    {
     "data": {
      "text/plain": [
       "Pipeline(memory=None,\n",
       "     steps=[('scl', StandardScaler(copy=True, with_mean=True, with_std=True)), ('clf', RandomForestClassifier(bootstrap=True, class_weight={0: 1, 1: 20},\n",
       "            criterion='entropy', max_depth=None, max_features='auto',\n",
       "            max_leaf_nodes=None, min_impurity_decrease=0.0,\n",
       "            min_impur...stimators=10, n_jobs=1, oob_score=False, random_state=42,\n",
       "            verbose=0, warm_start=False))])"
      ]
     },
     "execution_count": 31,
     "metadata": {},
     "output_type": "execute_result"
    }
   ],
   "source": [
    "clf = gs_rf.best_estimator_\n",
    "clf"
   ]
  },
  {
   "cell_type": "code",
   "execution_count": 32,
   "metadata": {},
   "outputs": [],
   "source": [
    "y_pred_testeo_ext = clf.predict(X_testo_ext)"
   ]
  },
  {
   "cell_type": "code",
   "execution_count": 33,
   "metadata": {},
   "outputs": [
    {
     "data": {
      "text/plain": [
       "0.5287594794609819"
      ]
     },
     "execution_count": 33,
     "metadata": {},
     "output_type": "execute_result"
    }
   ],
   "source": [
    "roc_auc_score(y_testeo_ext, y_pred_testeo_ext)"
   ]
  },
  {
   "cell_type": "code",
   "execution_count": 34,
   "metadata": {},
   "outputs": [
    {
     "data": {
      "text/plain": [
       "<matplotlib.axes._subplots.AxesSubplot at 0x7f0a896367f0>"
      ]
     },
     "execution_count": 34,
     "metadata": {},
     "output_type": "execute_result"
    },
    {
     "data": {
      "image/png": "[encoded data removed]",
      "text/plain": [
       "<Figure size 432x288 with 2 Axes>"
      ]
     },
     "metadata": {},
     "output_type": "display_data"
    }
   ],
   "source": [
    "skplt.metrics.plot_confusion_matrix(y_testeo_ext, y_pred_testeo_ext, normalize=True)"
   ]
  },
  {
   "cell_type": "code",
   "execution_count": 22,
   "metadata": {},
   "outputs": [
    {
     "data": {
      "text/plain": [
       "Pipeline(memory=None,\n",
       "     steps=[('scl', StandardScaler(copy=True, with_mean=True, with_std=True)), ('clf', RandomForestClassifier(bootstrap=True, class_weight={0: 1, 1: 25},\n",
       "            criterion='gini', max_depth=None, max_features='auto',\n",
       "            max_leaf_nodes=None, min_impurity_decrease=0.0,\n",
       "            min_impurity...stimators=10, n_jobs=1, oob_score=False, random_state=42,\n",
       "            verbose=0, warm_start=False))])"
      ]
     },
     "execution_count": 22,
     "metadata": {},
     "output_type": "execute_result"
    }
   ],
   "source": [
    "gs_rf.best_estimator_"
   ]
  },
  {
   "cell_type": "code",
   "execution_count": 23,
   "metadata": {},
   "outputs": [
    {
     "data": {
      "text/plain": [
       "['../../models/M1.1 - Modelo RandomForest (0.-0.) - Churn estricto- 6m.N.polizaXmes y Info.Cliente.M.Pago.pkl']"
      ]
     },
     "execution_count": 23,
     "metadata": {},
     "output_type": "execute_result"
    }
   ],
   "source": [
    "#bajando el modelo\n",
    "from sklearn.externals import joblib\n",
    "\n",
    "joblib.dump(gs_rf.best_estimator_, '../../models/M1.1 - Modelo RandomForest (0.-0.) - Churn estricto- 6m.N.polizaXmes y Info.Cliente.M.Pago.pkl')"
   ]
  },
  {
   "cell_type": "markdown",
   "metadata": {},
   "source": [
    "# Realizando predicción para entregar"
   ]
  },
  {
   "cell_type": "code",
   "execution_count": 64,
   "metadata": {},
   "outputs": [
    {
     "name": "stdout",
     "output_type": "stream",
     "text": [
      "<class 'pandas.core.frame.DataFrame'>\n",
      "Int64Index: 50000 entries, 1690 to 21260067\n",
      "Data columns (total 55 columns):\n",
      "6m                                50000 non-null int64\n",
      "5m                                50000 non-null int64\n",
      "4m                                50000 non-null int64\n",
      "3m                                50000 non-null int64\n",
      "2m                                50000 non-null int64\n",
      "1m                                50000 non-null int64\n",
      "edad_r                            50000 non-null int64\n",
      "GENDER_F                          50000 non-null int64\n",
      "GENDER_M                          50000 non-null int64\n",
      "MARITAL_STATUS_Casado             50000 non-null int64\n",
      "MARITAL_STATUS_Conviv             50000 non-null int64\n",
      "MARITAL_STATUS_Divorciado         50000 non-null int64\n",
      "MARITAL_STATUS_No Corresp         50000 non-null int64\n",
      "MARITAL_STATUS_Separado           50000 non-null int64\n",
      "MARITAL_STATUS_Soltero            50000 non-null int64\n",
      "MARITAL_STATUS_Union Civ          50000 non-null int64\n",
      "MARITAL_STATUS_Viudo              50000 non-null int64\n",
      "EDUCATION_N                       50000 non-null int64\n",
      "EDUCATION_S                       50000 non-null int64\n",
      "EDUCATION_LEVEL_PRIMARIO          50000 non-null int64\n",
      "EDUCATION_LEVEL_SECUNDARIO        50000 non-null int64\n",
      "EDUCATION_LEVEL_TERCIARIO         50000 non-null int64\n",
      "EDUCATION_LEVEL_UNIVERSITARIO     50000 non-null int64\n",
      "CITY_ANTARTIDA E ISLAS DEL SUR    50000 non-null int64\n",
      "CITY_BUENOS AIRES                 50000 non-null int64\n",
      "CITY_CAPITAL FEDERAL              50000 non-null int64\n",
      "CITY_CATAMARCA                    50000 non-null int64\n",
      "CITY_CHACO                        50000 non-null int64\n",
      "CITY_CHUBUT                       50000 non-null int64\n",
      "CITY_CORDOBA                      50000 non-null int64\n",
      "CITY_CORRIENTES                   50000 non-null int64\n",
      "CITY_ENTRE RIOS                   50000 non-null int64\n",
      "CITY_FORMOSA                      50000 non-null int64\n",
      "CITY_JUJUY                        50000 non-null int64\n",
      "CITY_LA PAMPA                     50000 non-null int64\n",
      "CITY_LA RIOJA                     50000 non-null int64\n",
      "CITY_MENDOZA                      50000 non-null int64\n",
      "CITY_MISIONES                     50000 non-null int64\n",
      "CITY_NEUQUEN                      50000 non-null int64\n",
      "CITY_RIO NEGRO                    50000 non-null int64\n",
      "CITY_SALTA                        50000 non-null int64\n",
      "CITY_SAN JUAN                     50000 non-null int64\n",
      "CITY_SAN LUIS                     50000 non-null int64\n",
      "CITY_SANTA CRUZ                   50000 non-null int64\n",
      "CITY_SANTA FE                     50000 non-null int64\n",
      "CITY_SANTIAGO DEL ESTERO          50000 non-null int64\n",
      "CITY_TIERRA DEL FUEGO             50000 non-null int64\n",
      "CITY_TUCUMAN                      50000 non-null int64\n",
      "ModoPago_BA                       50000 non-null int64\n",
      "ModoPago_CC                       50000 non-null int64\n",
      "ModoPago_Mix                      50000 non-null int64\n",
      "ModoPago_PP                       50000 non-null int64\n",
      "ModoPago_SJ                       50000 non-null int64\n",
      "ModoPago_TA                       50000 non-null int64\n",
      "ModoPago_TM                       50000 non-null int64\n",
      "dtypes: int64(55)\n",
      "memory usage: 21.4 MB\n"
     ]
    }
   ],
   "source": [
    "df_pred = pd.read_csv(\"../../data/processed/test_cliente/m1.0 - 6m.N.polizaXmes y Info.Cliente.M.Pago.csv\", index_col=\"Unnamed: 0\")\n",
    "df_pred.info()"
   ]
  },
  {
   "cell_type": "code",
   "execution_count": 65,
   "metadata": {},
   "outputs": [],
   "source": [
    "y_pred_predFin  = gs_rf.best_estimator_.predict_proba(df_pred)"
   ]
  },
  {
   "cell_type": "code",
   "execution_count": 95,
   "metadata": {},
   "outputs": [
    {
     "data": {
      "text/html": [
       "<div>\n",
       "<style scoped>\n",
       "    .dataframe tbody tr th:only-of-type {\n",
       "        vertical-align: middle;\n",
       "    }\n",
       "\n",
       "    .dataframe tbody tr th {\n",
       "        vertical-align: top;\n",
       "    }\n",
       "\n",
       "    .dataframe thead th {\n",
       "        text-align: right;\n",
       "    }\n",
       "</style>\n",
       "<table border=\"1\" class=\"dataframe\">\n",
       "  <thead>\n",
       "    <tr style=\"text-align: right;\">\n",
       "      <th></th>\n",
       "      <th>CUSTOMER_ID</th>\n",
       "      <th>PRED</th>\n",
       "    </tr>\n",
       "  </thead>\n",
       "  <tbody>\n",
       "    <tr>\n",
       "      <th>0</th>\n",
       "      <td>1690</td>\n",
       "      <td>0.006911</td>\n",
       "    </tr>\n",
       "    <tr>\n",
       "      <th>1</th>\n",
       "      <td>5575</td>\n",
       "      <td>0.096964</td>\n",
       "    </tr>\n",
       "    <tr>\n",
       "      <th>2</th>\n",
       "      <td>7968</td>\n",
       "      <td>0.134929</td>\n",
       "    </tr>\n",
       "    <tr>\n",
       "      <th>3</th>\n",
       "      <td>9028</td>\n",
       "      <td>0.035026</td>\n",
       "    </tr>\n",
       "    <tr>\n",
       "      <th>4</th>\n",
       "      <td>9860</td>\n",
       "      <td>0.010475</td>\n",
       "    </tr>\n",
       "  </tbody>\n",
       "</table>\n",
       "</div>"
      ],
      "text/plain": [
       "   CUSTOMER_ID      PRED\n",
       "0         1690  0.006911\n",
       "1         5575  0.096964\n",
       "2         7968  0.134929\n",
       "3         9028  0.035026\n",
       "4         9860  0.010475"
      ]
     },
     "execution_count": 95,
     "metadata": {},
     "output_type": "execute_result"
    }
   ],
   "source": [
    "csv = pd.DataFrame()\n",
    "csv[\"CUSTOMER_ID\"] = df_pred.index.values\n",
    "csv[\"PRED\"] = pd.DataFrame(y_pred_predFin)[1]\n",
    "csv.set_index(\"CUSTOMER_ID\", inplace=True)\n",
    "csv.head()"
   ]
  },
  {
   "cell_type": "code",
   "execution_count": 96,
   "metadata": {},
   "outputs": [],
   "source": [
    "csv.to_csv(\"../../data/processed/prediccion_para_cliente/m1.0 - predict - 6m.N.polizaXmes y Info.Cliente.M.Pago.csv\")"
   ]
  },
  {
   "cell_type": "code",
   "execution_count": null,
   "metadata": {},
   "outputs": [],
   "source": []
  },
  {
   "cell_type": "code",
   "execution_count": null,
   "metadata": {},
   "outputs": [],
   "source": []
  },
  {
   "cell_type": "code",
   "execution_count": null,
   "metadata": {},
   "outputs": [],
   "source": []
  },
  {
   "cell_type": "code",
   "execution_count": null,
   "metadata": {},
   "outputs": [],
   "source": []
  }
 ],
 "metadata": {
  "kernelspec": {
   "display_name": "Python 3",
   "language": "python",
   "name": "python3"
  },
  "language_info": {
   "codemirror_mode": {
    "name": "ipython",
    "version": 3
   },
   "file_extension": ".py",
   "mimetype": "text/x-python",
   "name": "python",
   "nbconvert_exporter": "python",
   "pygments_lexer": "ipython3",
   "version": "3.6.5"
  }
 },
 "nbformat": 4,
 "nbformat_minor": 2
}
