{
 "cells": [
  {
   "cell_type": "code",
   "execution_count": 1,
   "metadata": {},
   "outputs": [],
   "source": [
    "import pandas as pd\n",
    "import numpy as np\n",
    "from tqdm import tqdm\n",
    "from tpot import TPOTClassifier\n",
    "import seaborn as sns\n",
    "import matplotlib.pyplot as plt\n",
    "from xgboost import XGBClassifier\n",
    "\n",
    "from sklearn.metrics import roc_auc_score\n",
    "import scikitplot as skplt\n",
    "from sklearn.model_selection import train_test_split\n",
    "\n",
    "%matplotlib inline"
   ]
  },
  {
   "cell_type": "code",
   "execution_count": 2,
   "metadata": {},
   "outputs": [],
   "source": [
    "#valores estaticos\n",
    "TEST_SIZE=0.20\n",
    "RANDOM_STATE=42"
   ]
  },
  {
   "cell_type": "code",
   "execution_count": 3,
   "metadata": {},
   "outputs": [
    {
     "name": "stdout",
     "output_type": "stream",
     "text": [
      "<class 'pandas.core.frame.DataFrame'>\n",
      "Int64Index: 875419 entries, 1690 to 21260067\n",
      "Data columns (total 56 columns):\n",
      "6m                                875419 non-null int64\n",
      "5m                                875419 non-null int64\n",
      "4m                                875419 non-null int64\n",
      "3m                                875419 non-null int64\n",
      "2m                                875419 non-null int64\n",
      "1m                                875419 non-null int64\n",
      "edad_r                            875419 non-null int64\n",
      "GENDER_F                          875419 non-null int64\n",
      "GENDER_M                          875419 non-null int64\n",
      "MARITAL_STATUS_Casado             875419 non-null int64\n",
      "MARITAL_STATUS_Conviv             875419 non-null int64\n",
      "MARITAL_STATUS_Divorciado         875419 non-null int64\n",
      "MARITAL_STATUS_No Corresp         875419 non-null int64\n",
      "MARITAL_STATUS_Separado           875419 non-null int64\n",
      "MARITAL_STATUS_Soltero            875419 non-null int64\n",
      "MARITAL_STATUS_Union Civ          875419 non-null int64\n",
      "MARITAL_STATUS_Viudo              875419 non-null int64\n",
      "EDUCATION_N                       875419 non-null int64\n",
      "EDUCATION_S                       875419 non-null int64\n",
      "EDUCATION_LEVEL_PRIMARIO          875419 non-null int64\n",
      "EDUCATION_LEVEL_SECUNDARIO        875419 non-null int64\n",
      "EDUCATION_LEVEL_TERCIARIO         875419 non-null int64\n",
      "EDUCATION_LEVEL_UNIVERSITARIO     875419 non-null int64\n",
      "CITY_ANTARTIDA E ISLAS DEL SUR    875419 non-null int64\n",
      "CITY_BUENOS AIRES                 875419 non-null int64\n",
      "CITY_CAPITAL FEDERAL              875419 non-null int64\n",
      "CITY_CATAMARCA                    875419 non-null int64\n",
      "CITY_CHACO                        875419 non-null int64\n",
      "CITY_CHUBUT                       875419 non-null int64\n",
      "CITY_CORDOBA                      875419 non-null int64\n",
      "CITY_CORRIENTES                   875419 non-null int64\n",
      "CITY_ENTRE RIOS                   875419 non-null int64\n",
      "CITY_FORMOSA                      875419 non-null int64\n",
      "CITY_JUJUY                        875419 non-null int64\n",
      "CITY_LA PAMPA                     875419 non-null int64\n",
      "CITY_LA RIOJA                     875419 non-null int64\n",
      "CITY_MENDOZA                      875419 non-null int64\n",
      "CITY_MISIONES                     875419 non-null int64\n",
      "CITY_NEUQUEN                      875419 non-null int64\n",
      "CITY_RIO NEGRO                    875419 non-null int64\n",
      "CITY_SALTA                        875419 non-null int64\n",
      "CITY_SAN JUAN                     875419 non-null int64\n",
      "CITY_SAN LUIS                     875419 non-null int64\n",
      "CITY_SANTA CRUZ                   875419 non-null int64\n",
      "CITY_SANTA FE                     875419 non-null int64\n",
      "CITY_SANTIAGO DEL ESTERO          875419 non-null int64\n",
      "CITY_TIERRA DEL FUEGO             875419 non-null int64\n",
      "CITY_TUCUMAN                      875419 non-null int64\n",
      "ModoPago_BA                       875419 non-null int64\n",
      "ModoPago_CC                       875419 non-null int64\n",
      "ModoPago_Mix                      875419 non-null int64\n",
      "ModoPago_PP                       875419 non-null int64\n",
      "ModoPago_SJ                       875419 non-null int64\n",
      "ModoPago_TA                       875419 non-null int64\n",
      "ModoPago_TM                       875419 non-null int64\n",
      "Churn                             875419 non-null int64\n",
      "dtypes: int64(56)\n",
      "memory usage: 380.7 MB\n"
     ]
    }
   ],
   "source": [
    "df = pd.read_csv(\"../../data/processed/train/m1.0 - churn estricto - 6m.N.polizaXmes y Info.Cliente.M.Pago.csv\", index_col=\"Unnamed: 0\")\n",
    "df.info()"
   ]
  },
  {
   "cell_type": "code",
   "execution_count": 4,
   "metadata": {},
   "outputs": [
    {
     "data": {
      "text/plain": [
       "0.030603630947009373"
      ]
     },
     "execution_count": 4,
     "metadata": {},
     "output_type": "execute_result"
    }
   ],
   "source": [
    "#distrib de churn\n",
    "np.sum(df[\"Churn\"]) / len(df)"
   ]
  },
  {
   "cell_type": "markdown",
   "metadata": {},
   "source": [
    "# Muestra random"
   ]
  },
  {
   "cell_type": "code",
   "execution_count": 5,
   "metadata": {},
   "outputs": [],
   "source": [
    "msk = np.random.rand(len(df)) < 0.6"
   ]
  },
  {
   "cell_type": "code",
   "execution_count": 6,
   "metadata": {},
   "outputs": [
    {
     "data": {
      "text/plain": [
       "'\\nfrom sklearn.model_selection import StratifiedShuffleSplit\\n\\n\\nsss = StratifiedShuffleSplit(n_splits=1, test_size=size, random_state=RANDOM_STATE)\\nfor train_index, val_index in sss.split(X,y):\\n    X_train, X_val = X[train_index], X[val_index]\\n    y_train, y_val = y[train_index], y[val_index]\\n\\n'"
      ]
     },
     "execution_count": 6,
     "metadata": {},
     "output_type": "execute_result"
    }
   ],
   "source": [
    "RANDOM_STATE=42\n",
    "size = 0.6\n",
    "\"\"\"\n",
    "from sklearn.model_selection import StratifiedShuffleSplit\n",
    "\n",
    "\n",
    "sss = StratifiedShuffleSplit(n_splits=1, test_size=size, random_state=RANDOM_STATE)\n",
    "for train_index, val_index in sss.split(X,y):\n",
    "    X_train, X_val = X[train_index], X[val_index]\n",
    "    y_train, y_val = y[train_index], y[val_index]\n",
    "\n",
    "\"\"\""
   ]
  },
  {
   "cell_type": "code",
   "execution_count": 7,
   "metadata": {},
   "outputs": [
    {
     "name": "stdout",
     "output_type": "stream",
     "text": [
      "<class 'pandas.core.frame.DataFrame'>\n",
      "Int64Index: 525616 entries, 1690 to 21179943\n",
      "Data columns (total 56 columns):\n",
      "6m                                525616 non-null int64\n",
      "5m                                525616 non-null int64\n",
      "4m                                525616 non-null int64\n",
      "3m                                525616 non-null int64\n",
      "2m                                525616 non-null int64\n",
      "1m                                525616 non-null int64\n",
      "edad_r                            525616 non-null int64\n",
      "GENDER_F                          525616 non-null int64\n",
      "GENDER_M                          525616 non-null int64\n",
      "MARITAL_STATUS_Casado             525616 non-null int64\n",
      "MARITAL_STATUS_Conviv             525616 non-null int64\n",
      "MARITAL_STATUS_Divorciado         525616 non-null int64\n",
      "MARITAL_STATUS_No Corresp         525616 non-null int64\n",
      "MARITAL_STATUS_Separado           525616 non-null int64\n",
      "MARITAL_STATUS_Soltero            525616 non-null int64\n",
      "MARITAL_STATUS_Union Civ          525616 non-null int64\n",
      "MARITAL_STATUS_Viudo              525616 non-null int64\n",
      "EDUCATION_N                       525616 non-null int64\n",
      "EDUCATION_S                       525616 non-null int64\n",
      "EDUCATION_LEVEL_PRIMARIO          525616 non-null int64\n",
      "EDUCATION_LEVEL_SECUNDARIO        525616 non-null int64\n",
      "EDUCATION_LEVEL_TERCIARIO         525616 non-null int64\n",
      "EDUCATION_LEVEL_UNIVERSITARIO     525616 non-null int64\n",
      "CITY_ANTARTIDA E ISLAS DEL SUR    525616 non-null int64\n",
      "CITY_BUENOS AIRES                 525616 non-null int64\n",
      "CITY_CAPITAL FEDERAL              525616 non-null int64\n",
      "CITY_CATAMARCA                    525616 non-null int64\n",
      "CITY_CHACO                        525616 non-null int64\n",
      "CITY_CHUBUT                       525616 non-null int64\n",
      "CITY_CORDOBA                      525616 non-null int64\n",
      "CITY_CORRIENTES                   525616 non-null int64\n",
      "CITY_ENTRE RIOS                   525616 non-null int64\n",
      "CITY_FORMOSA                      525616 non-null int64\n",
      "CITY_JUJUY                        525616 non-null int64\n",
      "CITY_LA PAMPA                     525616 non-null int64\n",
      "CITY_LA RIOJA                     525616 non-null int64\n",
      "CITY_MENDOZA                      525616 non-null int64\n",
      "CITY_MISIONES                     525616 non-null int64\n",
      "CITY_NEUQUEN                      525616 non-null int64\n",
      "CITY_RIO NEGRO                    525616 non-null int64\n",
      "CITY_SALTA                        525616 non-null int64\n",
      "CITY_SAN JUAN                     525616 non-null int64\n",
      "CITY_SAN LUIS                     525616 non-null int64\n",
      "CITY_SANTA CRUZ                   525616 non-null int64\n",
      "CITY_SANTA FE                     525616 non-null int64\n",
      "CITY_SANTIAGO DEL ESTERO          525616 non-null int64\n",
      "CITY_TIERRA DEL FUEGO             525616 non-null int64\n",
      "CITY_TUCUMAN                      525616 non-null int64\n",
      "ModoPago_BA                       525616 non-null int64\n",
      "ModoPago_CC                       525616 non-null int64\n",
      "ModoPago_Mix                      525616 non-null int64\n",
      "ModoPago_PP                       525616 non-null int64\n",
      "ModoPago_SJ                       525616 non-null int64\n",
      "ModoPago_TA                       525616 non-null int64\n",
      "ModoPago_TM                       525616 non-null int64\n",
      "Churn                             525616 non-null int64\n",
      "dtypes: int64(56)\n",
      "memory usage: 228.6 MB\n"
     ]
    }
   ],
   "source": [
    "df = df[msk]\n",
    "df.info()"
   ]
  },
  {
   "cell_type": "code",
   "execution_count": 19,
   "metadata": {},
   "outputs": [
    {
     "data": {
      "text/plain": [
       "0.031311192996087575"
      ]
     },
     "execution_count": 19,
     "metadata": {},
     "output_type": "execute_result"
    }
   ],
   "source": [
    "#distrib de churn\n",
    "np.sum(df[\"Churn\"] == 1) / np.sum(df[\"Churn\"] == 0)"
   ]
  },
  {
   "cell_type": "code",
   "execution_count": 22,
   "metadata": {},
   "outputs": [
    {
     "data": {
      "text/plain": [
       "0    509658\n",
       "1     15958\n",
       "Name: Churn, dtype: int64"
      ]
     },
     "execution_count": 22,
     "metadata": {},
     "output_type": "execute_result"
    }
   ],
   "source": [
    "df[\"Churn\"].value_counts()"
   ]
  },
  {
   "cell_type": "code",
   "execution_count": 23,
   "metadata": {},
   "outputs": [
    {
     "data": {
      "text/plain": [
       "0.031311192996087575"
      ]
     },
     "execution_count": 23,
     "metadata": {},
     "output_type": "execute_result"
    }
   ],
   "source": [
    "15958 / 509658"
   ]
  },
  {
   "cell_type": "markdown",
   "metadata": {},
   "source": [
    "# split data set"
   ]
  },
  {
   "cell_type": "code",
   "execution_count": 9,
   "metadata": {},
   "outputs": [],
   "source": [
    "X = df.iloc[:,:-1]\n",
    "y = df.iloc[:,-1]"
   ]
  },
  {
   "cell_type": "code",
   "execution_count": 10,
   "metadata": {},
   "outputs": [],
   "source": [
    "X_train, X_test, y_train, y_test = train_test_split(X, y, test_size=TEST_SIZE, random_state=RANDOM_STATE)"
   ]
  },
  {
   "cell_type": "code",
   "execution_count": 11,
   "metadata": {},
   "outputs": [
    {
     "name": "stdout",
     "output_type": "stream",
     "text": [
      "train: 420492 - test: 105124\n"
     ]
    }
   ],
   "source": [
    "print(\"train: {} - test: {}\".format(len(X_train), len(X_test)))"
   ]
  },
  {
   "cell_type": "code",
   "execution_count": 12,
   "metadata": {},
   "outputs": [
    {
     "data": {
      "text/plain": [
       "0.030352539406219382"
      ]
     },
     "execution_count": 12,
     "metadata": {},
     "output_type": "execute_result"
    }
   ],
   "source": [
    "#distrib de churn\n",
    "np.sum(y_train) / len(y_train)"
   ]
  },
  {
   "cell_type": "code",
   "execution_count": 13,
   "metadata": {},
   "outputs": [
    {
     "data": {
      "text/html": [
       "<div>\n",
       "<style scoped>\n",
       "    .dataframe tbody tr th:only-of-type {\n",
       "        vertical-align: middle;\n",
       "    }\n",
       "\n",
       "    .dataframe tbody tr th {\n",
       "        vertical-align: top;\n",
       "    }\n",
       "\n",
       "    .dataframe thead th {\n",
       "        text-align: right;\n",
       "    }\n",
       "</style>\n",
       "<table border=\"1\" class=\"dataframe\">\n",
       "  <thead>\n",
       "    <tr style=\"text-align: right;\">\n",
       "      <th></th>\n",
       "      <th>6m</th>\n",
       "      <th>5m</th>\n",
       "      <th>4m</th>\n",
       "      <th>3m</th>\n",
       "      <th>2m</th>\n",
       "      <th>1m</th>\n",
       "      <th>edad_r</th>\n",
       "      <th>GENDER_F</th>\n",
       "      <th>GENDER_M</th>\n",
       "      <th>MARITAL_STATUS_Casado</th>\n",
       "      <th>...</th>\n",
       "      <th>CITY_SANTIAGO DEL ESTERO</th>\n",
       "      <th>CITY_TIERRA DEL FUEGO</th>\n",
       "      <th>CITY_TUCUMAN</th>\n",
       "      <th>ModoPago_BA</th>\n",
       "      <th>ModoPago_CC</th>\n",
       "      <th>ModoPago_Mix</th>\n",
       "      <th>ModoPago_PP</th>\n",
       "      <th>ModoPago_SJ</th>\n",
       "      <th>ModoPago_TA</th>\n",
       "      <th>ModoPago_TM</th>\n",
       "    </tr>\n",
       "  </thead>\n",
       "  <tbody>\n",
       "    <tr>\n",
       "      <th>11193955</th>\n",
       "      <td>0</td>\n",
       "      <td>0</td>\n",
       "      <td>0</td>\n",
       "      <td>0</td>\n",
       "      <td>0</td>\n",
       "      <td>0</td>\n",
       "      <td>5</td>\n",
       "      <td>0</td>\n",
       "      <td>1</td>\n",
       "      <td>1</td>\n",
       "      <td>...</td>\n",
       "      <td>0</td>\n",
       "      <td>0</td>\n",
       "      <td>0</td>\n",
       "      <td>0</td>\n",
       "      <td>0</td>\n",
       "      <td>1</td>\n",
       "      <td>0</td>\n",
       "      <td>0</td>\n",
       "      <td>0</td>\n",
       "      <td>0</td>\n",
       "    </tr>\n",
       "    <tr>\n",
       "      <th>18407745</th>\n",
       "      <td>0</td>\n",
       "      <td>0</td>\n",
       "      <td>0</td>\n",
       "      <td>0</td>\n",
       "      <td>1</td>\n",
       "      <td>1</td>\n",
       "      <td>3</td>\n",
       "      <td>1</td>\n",
       "      <td>0</td>\n",
       "      <td>0</td>\n",
       "      <td>...</td>\n",
       "      <td>0</td>\n",
       "      <td>0</td>\n",
       "      <td>0</td>\n",
       "      <td>0</td>\n",
       "      <td>0</td>\n",
       "      <td>1</td>\n",
       "      <td>0</td>\n",
       "      <td>0</td>\n",
       "      <td>0</td>\n",
       "      <td>0</td>\n",
       "    </tr>\n",
       "    <tr>\n",
       "      <th>2970754</th>\n",
       "      <td>1</td>\n",
       "      <td>1</td>\n",
       "      <td>0</td>\n",
       "      <td>1</td>\n",
       "      <td>1</td>\n",
       "      <td>1</td>\n",
       "      <td>3</td>\n",
       "      <td>0</td>\n",
       "      <td>1</td>\n",
       "      <td>0</td>\n",
       "      <td>...</td>\n",
       "      <td>0</td>\n",
       "      <td>0</td>\n",
       "      <td>0</td>\n",
       "      <td>0</td>\n",
       "      <td>1</td>\n",
       "      <td>0</td>\n",
       "      <td>0</td>\n",
       "      <td>0</td>\n",
       "      <td>0</td>\n",
       "      <td>0</td>\n",
       "    </tr>\n",
       "    <tr>\n",
       "      <th>3213768</th>\n",
       "      <td>1</td>\n",
       "      <td>0</td>\n",
       "      <td>0</td>\n",
       "      <td>0</td>\n",
       "      <td>0</td>\n",
       "      <td>0</td>\n",
       "      <td>4</td>\n",
       "      <td>0</td>\n",
       "      <td>1</td>\n",
       "      <td>1</td>\n",
       "      <td>...</td>\n",
       "      <td>0</td>\n",
       "      <td>0</td>\n",
       "      <td>0</td>\n",
       "      <td>0</td>\n",
       "      <td>1</td>\n",
       "      <td>0</td>\n",
       "      <td>0</td>\n",
       "      <td>0</td>\n",
       "      <td>0</td>\n",
       "      <td>0</td>\n",
       "    </tr>\n",
       "    <tr>\n",
       "      <th>11820</th>\n",
       "      <td>0</td>\n",
       "      <td>0</td>\n",
       "      <td>0</td>\n",
       "      <td>0</td>\n",
       "      <td>0</td>\n",
       "      <td>0</td>\n",
       "      <td>4</td>\n",
       "      <td>0</td>\n",
       "      <td>1</td>\n",
       "      <td>1</td>\n",
       "      <td>...</td>\n",
       "      <td>0</td>\n",
       "      <td>0</td>\n",
       "      <td>0</td>\n",
       "      <td>0</td>\n",
       "      <td>1</td>\n",
       "      <td>0</td>\n",
       "      <td>0</td>\n",
       "      <td>0</td>\n",
       "      <td>0</td>\n",
       "      <td>0</td>\n",
       "    </tr>\n",
       "  </tbody>\n",
       "</table>\n",
       "<p>5 rows × 55 columns</p>\n",
       "</div>"
      ],
      "text/plain": [
       "          6m  5m  4m  3m  2m  1m  edad_r  GENDER_F  GENDER_M  \\\n",
       "11193955   0   0   0   0   0   0       5         0         1   \n",
       "18407745   0   0   0   0   1   1       3         1         0   \n",
       "2970754    1   1   0   1   1   1       3         0         1   \n",
       "3213768    1   0   0   0   0   0       4         0         1   \n",
       "11820      0   0   0   0   0   0       4         0         1   \n",
       "\n",
       "          MARITAL_STATUS_Casado     ...       CITY_SANTIAGO DEL ESTERO  \\\n",
       "11193955                      1     ...                              0   \n",
       "18407745                      0     ...                              0   \n",
       "2970754                       0     ...                              0   \n",
       "3213768                       1     ...                              0   \n",
       "11820                         1     ...                              0   \n",
       "\n",
       "          CITY_TIERRA DEL FUEGO  CITY_TUCUMAN  ModoPago_BA  ModoPago_CC  \\\n",
       "11193955                      0             0            0            0   \n",
       "18407745                      0             0            0            0   \n",
       "2970754                       0             0            0            1   \n",
       "3213768                       0             0            0            1   \n",
       "11820                         0             0            0            1   \n",
       "\n",
       "          ModoPago_Mix  ModoPago_PP  ModoPago_SJ  ModoPago_TA  ModoPago_TM  \n",
       "11193955             1            0            0            0            0  \n",
       "18407745             1            0            0            0            0  \n",
       "2970754              0            0            0            0            0  \n",
       "3213768              0            0            0            0            0  \n",
       "11820                0            0            0            0            0  \n",
       "\n",
       "[5 rows x 55 columns]"
      ]
     },
     "execution_count": 13,
     "metadata": {},
     "output_type": "execute_result"
    }
   ],
   "source": [
    "X_train.head()"
   ]
  },
  {
   "cell_type": "markdown",
   "metadata": {},
   "source": [
    "# Modelo 1: Simple xgboost"
   ]
  },
  {
   "cell_type": "code",
   "execution_count": 14,
   "metadata": {},
   "outputs": [],
   "source": [
    "from sklearn.preprocessing import StandardScaler\n",
    "from sklearn.pipeline import Pipeline\n",
    "from sklearn.model_selection import GridSearchCV\n",
    "from sklearn.externals import joblib\n",
    "from sklearn.ensemble import RandomForestClassifier\n",
    "\n",
    "from sklearn.metrics import make_scorer\n",
    "from sklearn.metrics import accuracy_score"
   ]
  },
  {
   "cell_type": "code",
   "execution_count": 29,
   "metadata": {},
   "outputs": [
    {
     "data": {
      "text/plain": [
       "XGBClassifier(base_score=0.5, booster='gbtree', colsample_bylevel=1,\n",
       "       colsample_bytree=1, eval_metric='auc', gamma=0, learning_rate=0.5,\n",
       "       max_delta_step=0, max_depth=3, min_child_weight=1, missing=None,\n",
       "       n_estimators=100, n_jobs=1, nthread=None,\n",
       "       objective='binary:logistic', random_state=0, reg_alpha=0,\n",
       "       reg_lambda=1, scale_pos_weight=1, seed=None, silent=True,\n",
       "       subsample=1, weight={0: 1, 1: 30})"
      ]
     },
     "execution_count": 29,
     "metadata": {},
     "output_type": "execute_result"
    }
   ],
   "source": [
    "clf = XGBClassifier(eval_metric=\"auc\", learning_rate=0.5,\n",
    "                    weight= dict({0:1, 1:30}))\n",
    "clf.fit(X_train, y_train)"
   ]
  },
  {
   "cell_type": "code",
   "execution_count": 30,
   "metadata": {},
   "outputs": [
    {
     "name": "stdout",
     "output_type": "stream",
     "text": [
      "Test set roc auc score for best params: 0.500 \n"
     ]
    },
    {
     "name": "stderr",
     "output_type": "stream",
     "text": [
      "/home/seba/anaconda3/lib/python3.6/site-packages/sklearn/preprocessing/label.py:151: DeprecationWarning: The truth value of an empty array is ambiguous. Returning False, but in future this will result in an error. Use `array.size > 0` to check that an array is not empty.\n",
      "  if diff:\n",
      "/home/seba/anaconda3/lib/python3.6/site-packages/matplotlib/cbook/deprecation.py:107: MatplotlibDeprecationWarning: Passing one of 'on', 'true', 'off', 'false' as a boolean is deprecated; use an actual boolean (True/False) instead.\n",
      "  warnings.warn(message, mplDeprecation, stacklevel=1)\n"
     ]
    },
    {
     "data": {
      "text/plain": [
       "<matplotlib.axes._subplots.AxesSubplot at 0x7f4c7f447240>"
      ]
     },
     "execution_count": 30,
     "metadata": {},
     "output_type": "execute_result"
    },
    {
     "data": {
      "image/png": "[encoded data removed]",
      "text/plain": [
       "<Figure size 432x288 with 2 Axes>"
      ]
     },
     "metadata": {},
     "output_type": "display_data"
    }
   ],
   "source": [
    "y_pred = clf.predict(X_test)\n",
    "\n",
    "print('Test set roc auc score for best params: %.3f ' % roc_auc_score(y_test, y_pred))\n",
    "\n",
    "skplt.metrics.plot_confusion_matrix(y_test, y_pred, normalize=True)"
   ]
  },
  {
   "cell_type": "code",
   "execution_count": 44,
   "metadata": {},
   "outputs": [
    {
     "name": "stdout",
     "output_type": "stream",
     "text": [
      "<class 'pandas.core.frame.DataFrame'>\n",
      "Int64Index: 50000 entries, 1690 to 21260067\n",
      "Data columns (total 56 columns):\n",
      "6m                                50000 non-null int64\n",
      "5m                                50000 non-null int64\n",
      "4m                                50000 non-null int64\n",
      "3m                                50000 non-null int64\n",
      "2m                                50000 non-null int64\n",
      "1m                                50000 non-null int64\n",
      "Churn                             50000 non-null int64\n",
      "edad_r                            50000 non-null int64\n",
      "GENDER_F                          50000 non-null int64\n",
      "GENDER_M                          50000 non-null int64\n",
      "MARITAL_STATUS_Casado             50000 non-null int64\n",
      "MARITAL_STATUS_Conviv             50000 non-null int64\n",
      "MARITAL_STATUS_Divorciado         50000 non-null int64\n",
      "MARITAL_STATUS_No Corresp         50000 non-null int64\n",
      "MARITAL_STATUS_Separado           50000 non-null int64\n",
      "MARITAL_STATUS_Soltero            50000 non-null int64\n",
      "MARITAL_STATUS_Union Civ          50000 non-null int64\n",
      "MARITAL_STATUS_Viudo              50000 non-null int64\n",
      "EDUCATION_N                       50000 non-null int64\n",
      "EDUCATION_S                       50000 non-null int64\n",
      "EDUCATION_LEVEL_PRIMARIO          50000 non-null int64\n",
      "EDUCATION_LEVEL_SECUNDARIO        50000 non-null int64\n",
      "EDUCATION_LEVEL_TERCIARIO         50000 non-null int64\n",
      "EDUCATION_LEVEL_UNIVERSITARIO     50000 non-null int64\n",
      "CITY_ANTARTIDA E ISLAS DEL SUR    50000 non-null int64\n",
      "CITY_BUENOS AIRES                 50000 non-null int64\n",
      "CITY_CAPITAL FEDERAL              50000 non-null int64\n",
      "CITY_CATAMARCA                    50000 non-null int64\n",
      "CITY_CHACO                        50000 non-null int64\n",
      "CITY_CHUBUT                       50000 non-null int64\n",
      "CITY_CORDOBA                      50000 non-null int64\n",
      "CITY_CORRIENTES                   50000 non-null int64\n",
      "CITY_ENTRE RIOS                   50000 non-null int64\n",
      "CITY_FORMOSA                      50000 non-null int64\n",
      "CITY_JUJUY                        50000 non-null int64\n",
      "CITY_LA PAMPA                     50000 non-null int64\n",
      "CITY_LA RIOJA                     50000 non-null int64\n",
      "CITY_MENDOZA                      50000 non-null int64\n",
      "CITY_MISIONES                     50000 non-null int64\n",
      "CITY_NEUQUEN                      50000 non-null int64\n",
      "CITY_RIO NEGRO                    50000 non-null int64\n",
      "CITY_SALTA                        50000 non-null int64\n",
      "CITY_SAN JUAN                     50000 non-null int64\n",
      "CITY_SAN LUIS                     50000 non-null int64\n",
      "CITY_SANTA CRUZ                   50000 non-null int64\n",
      "CITY_SANTA FE                     50000 non-null int64\n",
      "CITY_SANTIAGO DEL ESTERO          50000 non-null int64\n",
      "CITY_TIERRA DEL FUEGO             50000 non-null int64\n",
      "CITY_TUCUMAN                      50000 non-null int64\n",
      "ModoPago_BA                       50000 non-null int64\n",
      "ModoPago_CC                       50000 non-null int64\n",
      "ModoPago_Mix                      50000 non-null int64\n",
      "ModoPago_PP                       50000 non-null int64\n",
      "ModoPago_SJ                       50000 non-null int64\n",
      "ModoPago_TA                       50000 non-null int64\n",
      "ModoPago_TM                       50000 non-null int64\n",
      "dtypes: int64(56)\n",
      "memory usage: 21.7 MB\n"
     ]
    }
   ],
   "source": [
    "#evaluación contra el testeo externo\n",
    "df_testo_ext = pd.read_csv(\"../../data/processed/testeo/m1.0 - churn estricto - 6m.N.polizaXmes y Info.Cliente.M.Pago.csv\", index_col=\"Unnamed: 0\")\n",
    "df_testo_ext.info()"
   ]
  },
  {
   "cell_type": "code",
   "execution_count": 45,
   "metadata": {},
   "outputs": [],
   "source": [
    "X_testo_ext = df_testo_ext.drop(\"Churn\", axis=1)\n",
    "y_testeo_ext = df_testo_ext[\"Churn\"]"
   ]
  },
  {
   "cell_type": "code",
   "execution_count": 46,
   "metadata": {},
   "outputs": [
    {
     "data": {
      "text/plain": [
       "0.6929012625339299"
      ]
     },
     "execution_count": 46,
     "metadata": {},
     "output_type": "execute_result"
    }
   ],
   "source": [
    "y_pred_testeo_ext = clf.predict(X_testo_ext)\n",
    "roc_auc_score(y_testeo_ext, y_pred_testeo_ext)"
   ]
  },
  {
   "cell_type": "code",
   "execution_count": 47,
   "metadata": {},
   "outputs": [
    {
     "name": "stderr",
     "output_type": "stream",
     "text": [
      "/home/seba/anaconda3/lib/python3.6/site-packages/matplotlib/cbook/deprecation.py:107: MatplotlibDeprecationWarning: Passing one of 'on', 'true', 'off', 'false' as a boolean is deprecated; use an actual boolean (True/False) instead.\n",
      "  warnings.warn(message, mplDeprecation, stacklevel=1)\n"
     ]
    },
    {
     "data": {
      "text/plain": [
       "<matplotlib.axes._subplots.AxesSubplot at 0x7f49ce0aa3c8>"
      ]
     },
     "execution_count": 47,
     "metadata": {},
     "output_type": "execute_result"
    },
    {
     "data": {
      "image/png": "[encoded data removed]",
      "text/plain": [
       "<Figure size 432x288 with 2 Axes>"
      ]
     },
     "metadata": {},
     "output_type": "display_data"
    }
   ],
   "source": [
    "skplt.metrics.plot_confusion_matrix(y_testeo_ext, y_pred_testeo_ext, normalize=True)"
   ]
  },
  {
   "cell_type": "markdown",
   "metadata": {},
   "source": [
    "# Optimizando parametros"
   ]
  },
  {
   "cell_type": "code",
   "execution_count": 12,
   "metadata": {},
   "outputs": [
    {
     "data": {
      "text/plain": [
       "GridSearchCV(cv=3, error_score='raise',\n",
       "       estimator=Pipeline(memory=None,\n",
       "     steps=[('scl', StandardScaler(copy=True, with_mean=True, with_std=True)), ('clf', RandomForestClassifier(bootstrap=True, class_weight=None, criterion='gini',\n",
       "            max_depth=None, max_features='auto', max_leaf_nodes=None,\n",
       "            min_impurity_decrease=0...timators=10, n_jobs=1,\n",
       "            oob_score=False, random_state=42, verbose=0, warm_start=False))]),\n",
       "       fit_params=None, iid=True, n_jobs=-1,\n",
       "       param_grid=[{'clf__criterion': ['gini', 'entropy'], 'clf__min_samples_leaf': [6, 8, 12], 'clf__min_samples_split': [6, 8, 12], 'clf__class_weight': [{0: 1, 1: 10}, {0: 1, 1: 20}, {0: 1, 1: 25}]}],\n",
       "       pre_dispatch='2*n_jobs', refit='AUC', return_train_score='warn',\n",
       "       scoring={'AUC': 'roc_auc', 'Accuracy': make_scorer(accuracy_score)},\n",
       "       verbose=2)"
      ]
     },
     "execution_count": 12,
     "metadata": {},
     "output_type": "execute_result"
    }
   ],
   "source": [
    "#param_range = [1, 2, 3, 4, 5, 6, 7, 8, 9, 10]\n",
    "param_range = [6, 8, 12]\n",
    "param_range_fl = [1.0, 0.5, 0.1]\n",
    "class_weight_range = [{0:1, 1:10},{0:1, 1:20},{0:1, 1:25}]\n",
    "#param_range_fl = np.power(10., np.arange(-4, 4))\n",
    "\n",
    "\n",
    "#'clf__max_depth': param_range,\n",
    "grid_params_rf = [{'clf__criterion': ['gini', 'entropy'],\n",
    "\t\t'clf__min_samples_leaf': param_range,\n",
    "\t\t'clf__min_samples_split': param_range,\n",
    "    'clf__class_weight' : class_weight_range}]\n",
    "\n",
    "pipe_rf = Pipeline([('scl', StandardScaler()),\n",
    "                    ('clf', RandomForestClassifier(random_state=RANDOM_STATE))])\n",
    "\n",
    "# Construct grid searches\n",
    "jobs = -1\n",
    "#scoring = \"roc_auc\"\n",
    "#scoring = \"roc_auc\" #http://scikit-learn.org/stable/auto_examples/model_selection/plot_multi_metric_evaluation.html\n",
    "scoring = {'AUC': 'roc_auc', 'Accuracy': make_scorer(accuracy_score)}\n",
    "cv = 3\n",
    "\n",
    "#refit=True, entrena el mejor modelo obtenido con todo el dataset! :D\n",
    "#verbose => mientras mayor el número, más info va mostrando.\n",
    "gs_rf = GridSearchCV(estimator=pipe_rf,\n",
    "            param_grid=grid_params_rf,\n",
    "            scoring=scoring,\n",
    "            cv=cv,\n",
    "            verbose=2,\n",
    "            refit=\"AUC\",\n",
    "            n_jobs=jobs)\n",
    "gs_rf"
   ]
  },
  {
   "cell_type": "code",
   "execution_count": 13,
   "metadata": {},
   "outputs": [
    {
     "name": "stdout",
     "output_type": "stream",
     "text": [
      "Fitting 3 folds for each of 54 candidates, totalling 162 fits\n",
      "[CV] clf__class_weight={0: 1, 1: 10}, clf__criterion=gini, clf__min_samples_leaf=6, clf__min_samples_split=6 \n",
      "[CV] clf__class_weight={0: 1, 1: 10}, clf__criterion=gini, clf__min_samples_leaf=6, clf__min_samples_split=6 \n",
      "[CV] clf__class_weight={0: 1, 1: 10}, clf__criterion=gini, clf__min_samples_leaf=6, clf__min_samples_split=6 \n",
      "[CV] clf__class_weight={0: 1, 1: 10}, clf__criterion=gini, clf__min_samples_leaf=6, clf__min_samples_split=8 \n",
      "[CV]  clf__class_weight={0: 1, 1: 10}, clf__criterion=gini, clf__min_samples_leaf=6, clf__min_samples_split=6, total=  22.3s\n",
      "[CV] clf__class_weight={0: 1, 1: 10}, clf__criterion=gini, clf__min_samples_leaf=6, clf__min_samples_split=8 \n",
      "[CV]  clf__class_weight={0: 1, 1: 10}, clf__criterion=gini, clf__min_samples_leaf=6, clf__min_samples_split=6, total=  23.2s\n",
      "[CV] clf__class_weight={0: 1, 1: 10}, clf__criterion=gini, clf__min_samples_leaf=6, clf__min_samples_split=8 \n",
      "[CV]  clf__class_weight={0: 1, 1: 10}, clf__criterion=gini, clf__min_samples_leaf=6, clf__min_samples_split=6, total=  23.5s\n",
      "[CV] clf__class_weight={0: 1, 1: 10}, clf__criterion=gini, clf__min_samples_leaf=6, clf__min_samples_split=12 \n",
      "[CV]  clf__class_weight={0: 1, 1: 10}, clf__criterion=gini, clf__min_samples_leaf=6, clf__min_samples_split=8, total=  24.6s\n",
      "[CV] clf__class_weight={0: 1, 1: 10}, clf__criterion=gini, clf__min_samples_leaf=6, clf__min_samples_split=12 \n",
      "[CV]  clf__class_weight={0: 1, 1: 10}, clf__criterion=gini, clf__min_samples_leaf=6, clf__min_samples_split=8, total=  25.3s\n",
      "[CV] clf__class_weight={0: 1, 1: 10}, clf__criterion=gini, clf__min_samples_leaf=6, clf__min_samples_split=12 \n",
      "[CV]  clf__class_weight={0: 1, 1: 10}, clf__criterion=gini, clf__min_samples_leaf=6, clf__min_samples_split=8, total=  23.7s\n",
      "[CV] clf__class_weight={0: 1, 1: 10}, clf__criterion=gini, clf__min_samples_leaf=8, clf__min_samples_split=6 \n",
      "[CV]  clf__class_weight={0: 1, 1: 10}, clf__criterion=gini, clf__min_samples_leaf=6, clf__min_samples_split=12, total=  24.6s\n",
      "[CV] clf__class_weight={0: 1, 1: 10}, clf__criterion=gini, clf__min_samples_leaf=8, clf__min_samples_split=6 \n",
      "[CV]  clf__class_weight={0: 1, 1: 10}, clf__criterion=gini, clf__min_samples_leaf=6, clf__min_samples_split=12, total=  24.3s\n",
      "[CV] clf__class_weight={0: 1, 1: 10}, clf__criterion=gini, clf__min_samples_leaf=8, clf__min_samples_split=6 \n",
      "[CV]  clf__class_weight={0: 1, 1: 10}, clf__criterion=gini, clf__min_samples_leaf=6, clf__min_samples_split=12, total=  23.4s\n",
      "[CV] clf__class_weight={0: 1, 1: 10}, clf__criterion=gini, clf__min_samples_leaf=8, clf__min_samples_split=8 \n",
      "[CV]  clf__class_weight={0: 1, 1: 10}, clf__criterion=gini, clf__min_samples_leaf=8, clf__min_samples_split=6, total=  23.5s\n",
      "[CV] clf__class_weight={0: 1, 1: 10}, clf__criterion=gini, clf__min_samples_leaf=8, clf__min_samples_split=8 \n",
      "[CV]  clf__class_weight={0: 1, 1: 10}, clf__criterion=gini, clf__min_samples_leaf=8, clf__min_samples_split=6, total=  23.8s\n",
      "[CV] clf__class_weight={0: 1, 1: 10}, clf__criterion=gini, clf__min_samples_leaf=8, clf__min_samples_split=8 \n",
      "[CV]  clf__class_weight={0: 1, 1: 10}, clf__criterion=gini, clf__min_samples_leaf=8, clf__min_samples_split=6, total=  24.1s\n",
      "[CV] clf__class_weight={0: 1, 1: 10}, clf__criterion=gini, clf__min_samples_leaf=8, clf__min_samples_split=12 \n",
      "[CV]  clf__class_weight={0: 1, 1: 10}, clf__criterion=gini, clf__min_samples_leaf=8, clf__min_samples_split=8, total=  24.8s\n",
      "[CV] clf__class_weight={0: 1, 1: 10}, clf__criterion=gini, clf__min_samples_leaf=8, clf__min_samples_split=12 \n",
      "[CV]  clf__class_weight={0: 1, 1: 10}, clf__criterion=gini, clf__min_samples_leaf=8, clf__min_samples_split=8, total=  26.0s\n",
      "[CV] clf__class_weight={0: 1, 1: 10}, clf__criterion=gini, clf__min_samples_leaf=8, clf__min_samples_split=12 \n",
      "[CV]  clf__class_weight={0: 1, 1: 10}, clf__criterion=gini, clf__min_samples_leaf=8, clf__min_samples_split=12, total=  24.5s\n",
      "[CV] clf__class_weight={0: 1, 1: 10}, clf__criterion=gini, clf__min_samples_leaf=12, clf__min_samples_split=6 \n",
      "[CV]  clf__class_weight={0: 1, 1: 10}, clf__criterion=gini, clf__min_samples_leaf=8, clf__min_samples_split=8, total=  26.6s\n",
      "[CV] clf__class_weight={0: 1, 1: 10}, clf__criterion=gini, clf__min_samples_leaf=12, clf__min_samples_split=6 \n",
      "[CV]  clf__class_weight={0: 1, 1: 10}, clf__criterion=gini, clf__min_samples_leaf=8, clf__min_samples_split=12, total=  25.1s\n",
      "[CV] clf__class_weight={0: 1, 1: 10}, clf__criterion=gini, clf__min_samples_leaf=12, clf__min_samples_split=6 \n",
      "[CV]  clf__class_weight={0: 1, 1: 10}, clf__criterion=gini, clf__min_samples_leaf=8, clf__min_samples_split=12, total=  26.6s\n",
      "[CV] clf__class_weight={0: 1, 1: 10}, clf__criterion=gini, clf__min_samples_leaf=12, clf__min_samples_split=8 \n",
      "[CV]  clf__class_weight={0: 1, 1: 10}, clf__criterion=gini, clf__min_samples_leaf=12, clf__min_samples_split=6, total=  23.6s\n",
      "[CV] clf__class_weight={0: 1, 1: 10}, clf__criterion=gini, clf__min_samples_leaf=12, clf__min_samples_split=8 \n",
      "[CV]  clf__class_weight={0: 1, 1: 10}, clf__criterion=gini, clf__min_samples_leaf=12, clf__min_samples_split=6, total=  25.3s\n",
      "[CV] clf__class_weight={0: 1, 1: 10}, clf__criterion=gini, clf__min_samples_leaf=12, clf__min_samples_split=8 \n",
      "[CV]  clf__class_weight={0: 1, 1: 10}, clf__criterion=gini, clf__min_samples_leaf=12, clf__min_samples_split=6, total=  24.5s\n",
      "[CV] clf__class_weight={0: 1, 1: 10}, clf__criterion=gini, clf__min_samples_leaf=12, clf__min_samples_split=12 \n",
      "[CV]  clf__class_weight={0: 1, 1: 10}, clf__criterion=gini, clf__min_samples_leaf=12, clf__min_samples_split=8, total=  24.5s\n",
      "[CV] clf__class_weight={0: 1, 1: 10}, clf__criterion=gini, clf__min_samples_leaf=12, clf__min_samples_split=12 \n",
      "[CV]  clf__class_weight={0: 1, 1: 10}, clf__criterion=gini, clf__min_samples_leaf=12, clf__min_samples_split=8, total=  24.7s\n",
      "[CV] clf__class_weight={0: 1, 1: 10}, clf__criterion=gini, clf__min_samples_leaf=12, clf__min_samples_split=12 \n",
      "[CV]  clf__class_weight={0: 1, 1: 10}, clf__criterion=gini, clf__min_samples_leaf=12, clf__min_samples_split=8, total=  24.3s\n",
      "[CV] clf__class_weight={0: 1, 1: 10}, clf__criterion=entropy, clf__min_samples_leaf=6, clf__min_samples_split=6 \n",
      "[CV]  clf__class_weight={0: 1, 1: 10}, clf__criterion=gini, clf__min_samples_leaf=12, clf__min_samples_split=12, total=  23.9s\n",
      "[CV] clf__class_weight={0: 1, 1: 10}, clf__criterion=entropy, clf__min_samples_leaf=6, clf__min_samples_split=6 \n",
      "[CV]  clf__class_weight={0: 1, 1: 10}, clf__criterion=gini, clf__min_samples_leaf=12, clf__min_samples_split=12, total=  23.9s\n",
      "[CV] clf__class_weight={0: 1, 1: 10}, clf__criterion=entropy, clf__min_samples_leaf=6, clf__min_samples_split=6 \n",
      "[CV]  clf__class_weight={0: 1, 1: 10}, clf__criterion=gini, clf__min_samples_leaf=12, clf__min_samples_split=12, total=  25.0s\n",
      "[CV] clf__class_weight={0: 1, 1: 10}, clf__criterion=entropy, clf__min_samples_leaf=6, clf__min_samples_split=8 \n",
      "[CV]  clf__class_weight={0: 1, 1: 10}, clf__criterion=entropy, clf__min_samples_leaf=6, clf__min_samples_split=6, total=  24.6s\n",
      "[CV] clf__class_weight={0: 1, 1: 10}, clf__criterion=entropy, clf__min_samples_leaf=6, clf__min_samples_split=8 \n",
      "[CV]  clf__class_weight={0: 1, 1: 10}, clf__criterion=entropy, clf__min_samples_leaf=6, clf__min_samples_split=6, total=  24.3s\n",
      "[CV] clf__class_weight={0: 1, 1: 10}, clf__criterion=entropy, clf__min_samples_leaf=6, clf__min_samples_split=8 \n",
      "[CV]  clf__class_weight={0: 1, 1: 10}, clf__criterion=entropy, clf__min_samples_leaf=6, clf__min_samples_split=6, total=  23.3s\n",
      "[CV] clf__class_weight={0: 1, 1: 10}, clf__criterion=entropy, clf__min_samples_leaf=6, clf__min_samples_split=12 \n",
      "[CV]  clf__class_weight={0: 1, 1: 10}, clf__criterion=entropy, clf__min_samples_leaf=6, clf__min_samples_split=8, total=  23.8s\n",
      "[CV] clf__class_weight={0: 1, 1: 10}, clf__criterion=entropy, clf__min_samples_leaf=6, clf__min_samples_split=12 \n",
      "[CV]  clf__class_weight={0: 1, 1: 10}, clf__criterion=entropy, clf__min_samples_leaf=6, clf__min_samples_split=8, total=  23.3s\n",
      "[CV] clf__class_weight={0: 1, 1: 10}, clf__criterion=entropy, clf__min_samples_leaf=6, clf__min_samples_split=12 \n",
      "[CV]  clf__class_weight={0: 1, 1: 10}, clf__criterion=entropy, clf__min_samples_leaf=6, clf__min_samples_split=12, total=  24.4s\n"
     ]
    },
    {
     "name": "stdout",
     "output_type": "stream",
     "text": [
      "[CV] clf__class_weight={0: 1, 1: 10}, clf__criterion=entropy, clf__min_samples_leaf=8, clf__min_samples_split=6 \n"
     ]
    },
    {
     "name": "stderr",
     "output_type": "stream",
     "text": [
      "[Parallel(n_jobs=-1)]: Done  33 tasks      | elapsed:  5.1min\n"
     ]
    },
    {
     "name": "stdout",
     "output_type": "stream",
     "text": [
      "[CV]  clf__class_weight={0: 1, 1: 10}, clf__criterion=entropy, clf__min_samples_leaf=6, clf__min_samples_split=12, total=  23.5s\n",
      "[CV] clf__class_weight={0: 1, 1: 10}, clf__criterion=entropy, clf__min_samples_leaf=8, clf__min_samples_split=6 \n",
      "[CV]  clf__class_weight={0: 1, 1: 10}, clf__criterion=entropy, clf__min_samples_leaf=6, clf__min_samples_split=12, total=  25.6s\n",
      "[CV]  clf__class_weight={0: 1, 1: 10}, clf__criterion=entropy, clf__min_samples_leaf=6, clf__min_samples_split=8, total=  26.8s\n",
      "[CV] clf__class_weight={0: 1, 1: 10}, clf__criterion=entropy, clf__min_samples_leaf=8, clf__min_samples_split=6 \n",
      "[CV] clf__class_weight={0: 1, 1: 10}, clf__criterion=entropy, clf__min_samples_leaf=8, clf__min_samples_split=8 \n",
      "[CV]  clf__class_weight={0: 1, 1: 10}, clf__criterion=entropy, clf__min_samples_leaf=8, clf__min_samples_split=6, total=  26.1s\n",
      "[CV] clf__class_weight={0: 1, 1: 10}, clf__criterion=entropy, clf__min_samples_leaf=8, clf__min_samples_split=8 \n",
      "[CV]  clf__class_weight={0: 1, 1: 10}, clf__criterion=entropy, clf__min_samples_leaf=8, clf__min_samples_split=6, total=  25.7s\n",
      "[CV] clf__class_weight={0: 1, 1: 10}, clf__criterion=entropy, clf__min_samples_leaf=8, clf__min_samples_split=8 \n",
      "[CV]  clf__class_weight={0: 1, 1: 10}, clf__criterion=entropy, clf__min_samples_leaf=8, clf__min_samples_split=6, total=  25.5s\n",
      "[CV] clf__class_weight={0: 1, 1: 10}, clf__criterion=entropy, clf__min_samples_leaf=8, clf__min_samples_split=12 \n",
      "[CV]  clf__class_weight={0: 1, 1: 10}, clf__criterion=entropy, clf__min_samples_leaf=8, clf__min_samples_split=8, total=  26.3s\n",
      "[CV] clf__class_weight={0: 1, 1: 10}, clf__criterion=entropy, clf__min_samples_leaf=8, clf__min_samples_split=12 \n",
      "[CV]  clf__class_weight={0: 1, 1: 10}, clf__criterion=entropy, clf__min_samples_leaf=8, clf__min_samples_split=8, total=  24.3s\n",
      "[CV] clf__class_weight={0: 1, 1: 10}, clf__criterion=entropy, clf__min_samples_leaf=8, clf__min_samples_split=12 \n",
      "[CV]  clf__class_weight={0: 1, 1: 10}, clf__criterion=entropy, clf__min_samples_leaf=8, clf__min_samples_split=8, total=  25.2s\n",
      "[CV] clf__class_weight={0: 1, 1: 10}, clf__criterion=entropy, clf__min_samples_leaf=12, clf__min_samples_split=6 \n",
      "[CV]  clf__class_weight={0: 1, 1: 10}, clf__criterion=entropy, clf__min_samples_leaf=8, clf__min_samples_split=12, total=  23.7s\n",
      "[CV] clf__class_weight={0: 1, 1: 10}, clf__criterion=entropy, clf__min_samples_leaf=12, clf__min_samples_split=6 \n",
      "[CV]  clf__class_weight={0: 1, 1: 10}, clf__criterion=entropy, clf__min_samples_leaf=8, clf__min_samples_split=12, total=  24.8s\n",
      "[CV] clf__class_weight={0: 1, 1: 10}, clf__criterion=entropy, clf__min_samples_leaf=12, clf__min_samples_split=6 \n",
      "[CV]  clf__class_weight={0: 1, 1: 10}, clf__criterion=entropy, clf__min_samples_leaf=12, clf__min_samples_split=6, total=  22.7s\n",
      "[CV] clf__class_weight={0: 1, 1: 10}, clf__criterion=entropy, clf__min_samples_leaf=12, clf__min_samples_split=8 \n",
      "[CV]  clf__class_weight={0: 1, 1: 10}, clf__criterion=entropy, clf__min_samples_leaf=12, clf__min_samples_split=6, total=  22.5s\n",
      "[CV] clf__class_weight={0: 1, 1: 10}, clf__criterion=entropy, clf__min_samples_leaf=12, clf__min_samples_split=8 \n",
      "[CV]  clf__class_weight={0: 1, 1: 10}, clf__criterion=entropy, clf__min_samples_leaf=8, clf__min_samples_split=12, total=  24.5s\n",
      "[CV] clf__class_weight={0: 1, 1: 10}, clf__criterion=entropy, clf__min_samples_leaf=12, clf__min_samples_split=8 \n",
      "[CV]  clf__class_weight={0: 1, 1: 10}, clf__criterion=entropy, clf__min_samples_leaf=12, clf__min_samples_split=6, total=  23.4s\n",
      "[CV] clf__class_weight={0: 1, 1: 10}, clf__criterion=entropy, clf__min_samples_leaf=12, clf__min_samples_split=12 \n",
      "[CV]  clf__class_weight={0: 1, 1: 10}, clf__criterion=entropy, clf__min_samples_leaf=12, clf__min_samples_split=8, total=  22.7s\n",
      "[CV] clf__class_weight={0: 1, 1: 10}, clf__criterion=entropy, clf__min_samples_leaf=12, clf__min_samples_split=12 \n",
      "[CV]  clf__class_weight={0: 1, 1: 10}, clf__criterion=entropy, clf__min_samples_leaf=12, clf__min_samples_split=8, total=  26.5s\n",
      "[CV] clf__class_weight={0: 1, 1: 10}, clf__criterion=entropy, clf__min_samples_leaf=12, clf__min_samples_split=12 \n",
      "[CV]  clf__class_weight={0: 1, 1: 10}, clf__criterion=entropy, clf__min_samples_leaf=12, clf__min_samples_split=8, total=  25.7s\n",
      "[CV] clf__class_weight={0: 1, 1: 20}, clf__criterion=gini, clf__min_samples_leaf=6, clf__min_samples_split=6 \n",
      "[CV]  clf__class_weight={0: 1, 1: 10}, clf__criterion=entropy, clf__min_samples_leaf=12, clf__min_samples_split=12, total=  24.5s\n",
      "[CV] clf__class_weight={0: 1, 1: 20}, clf__criterion=gini, clf__min_samples_leaf=6, clf__min_samples_split=6 \n",
      "[CV]  clf__class_weight={0: 1, 1: 10}, clf__criterion=entropy, clf__min_samples_leaf=12, clf__min_samples_split=12, total=  22.2s\n",
      "[CV] clf__class_weight={0: 1, 1: 20}, clf__criterion=gini, clf__min_samples_leaf=6, clf__min_samples_split=6 \n",
      "[CV]  clf__class_weight={0: 1, 1: 20}, clf__criterion=gini, clf__min_samples_leaf=6, clf__min_samples_split=6, total=  24.7s\n",
      "[CV] clf__class_weight={0: 1, 1: 20}, clf__criterion=gini, clf__min_samples_leaf=6, clf__min_samples_split=8 \n",
      "[CV]  clf__class_weight={0: 1, 1: 10}, clf__criterion=entropy, clf__min_samples_leaf=12, clf__min_samples_split=12, total=  25.3s\n",
      "[CV] clf__class_weight={0: 1, 1: 20}, clf__criterion=gini, clf__min_samples_leaf=6, clf__min_samples_split=8 \n",
      "[CV]  clf__class_weight={0: 1, 1: 20}, clf__criterion=gini, clf__min_samples_leaf=6, clf__min_samples_split=6, total=  26.1s\n",
      "[CV] clf__class_weight={0: 1, 1: 20}, clf__criterion=gini, clf__min_samples_leaf=6, clf__min_samples_split=8 \n",
      "[CV]  clf__class_weight={0: 1, 1: 20}, clf__criterion=gini, clf__min_samples_leaf=6, clf__min_samples_split=6, total=  24.5s\n",
      "[CV] clf__class_weight={0: 1, 1: 20}, clf__criterion=gini, clf__min_samples_leaf=6, clf__min_samples_split=12 \n",
      "[CV]  clf__class_weight={0: 1, 1: 20}, clf__criterion=gini, clf__min_samples_leaf=6, clf__min_samples_split=8, total=  21.3s\n",
      "[CV] clf__class_weight={0: 1, 1: 20}, clf__criterion=gini, clf__min_samples_leaf=6, clf__min_samples_split=12 \n",
      "[CV]  clf__class_weight={0: 1, 1: 20}, clf__criterion=gini, clf__min_samples_leaf=6, clf__min_samples_split=8, total=  24.3s\n",
      "[CV] clf__class_weight={0: 1, 1: 20}, clf__criterion=gini, clf__min_samples_leaf=6, clf__min_samples_split=12 \n",
      "[CV]  clf__class_weight={0: 1, 1: 20}, clf__criterion=gini, clf__min_samples_leaf=6, clf__min_samples_split=8, total=  25.2s\n",
      "[CV] clf__class_weight={0: 1, 1: 20}, clf__criterion=gini, clf__min_samples_leaf=8, clf__min_samples_split=6 \n",
      "[CV]  clf__class_weight={0: 1, 1: 20}, clf__criterion=gini, clf__min_samples_leaf=6, clf__min_samples_split=12, total=  23.9s\n",
      "[CV] clf__class_weight={0: 1, 1: 20}, clf__criterion=gini, clf__min_samples_leaf=8, clf__min_samples_split=6 \n",
      "[CV]  clf__class_weight={0: 1, 1: 20}, clf__criterion=gini, clf__min_samples_leaf=6, clf__min_samples_split=12, total=  23.4s\n",
      "[CV] clf__class_weight={0: 1, 1: 20}, clf__criterion=gini, clf__min_samples_leaf=8, clf__min_samples_split=6 \n",
      "[CV]  clf__class_weight={0: 1, 1: 20}, clf__criterion=gini, clf__min_samples_leaf=6, clf__min_samples_split=12, total=  25.0s\n",
      "[CV] clf__class_weight={0: 1, 1: 20}, clf__criterion=gini, clf__min_samples_leaf=8, clf__min_samples_split=8 \n",
      "[CV]  clf__class_weight={0: 1, 1: 20}, clf__criterion=gini, clf__min_samples_leaf=8, clf__min_samples_split=6, total=  22.9s\n",
      "[CV] clf__class_weight={0: 1, 1: 20}, clf__criterion=gini, clf__min_samples_leaf=8, clf__min_samples_split=8 \n",
      "[CV]  clf__class_weight={0: 1, 1: 20}, clf__criterion=gini, clf__min_samples_leaf=8, clf__min_samples_split=6, total=  23.6s\n",
      "[CV] clf__class_weight={0: 1, 1: 20}, clf__criterion=gini, clf__min_samples_leaf=8, clf__min_samples_split=8 \n",
      "[CV]  clf__class_weight={0: 1, 1: 20}, clf__criterion=gini, clf__min_samples_leaf=8, clf__min_samples_split=6, total=  24.8s\n",
      "[CV] clf__class_weight={0: 1, 1: 20}, clf__criterion=gini, clf__min_samples_leaf=8, clf__min_samples_split=12 \n",
      "[CV]  clf__class_weight={0: 1, 1: 20}, clf__criterion=gini, clf__min_samples_leaf=8, clf__min_samples_split=8, total=  23.4s\n",
      "[CV] clf__class_weight={0: 1, 1: 20}, clf__criterion=gini, clf__min_samples_leaf=8, clf__min_samples_split=12 \n",
      "[CV]  clf__class_weight={0: 1, 1: 20}, clf__criterion=gini, clf__min_samples_leaf=8, clf__min_samples_split=8, total=  23.8s\n"
     ]
    },
    {
     "name": "stdout",
     "output_type": "stream",
     "text": [
      "[CV] clf__class_weight={0: 1, 1: 20}, clf__criterion=gini, clf__min_samples_leaf=8, clf__min_samples_split=12 \n",
      "[CV]  clf__class_weight={0: 1, 1: 20}, clf__criterion=gini, clf__min_samples_leaf=8, clf__min_samples_split=8, total=  26.2s\n",
      "[CV] clf__class_weight={0: 1, 1: 20}, clf__criterion=gini, clf__min_samples_leaf=12, clf__min_samples_split=6 \n",
      "[CV]  clf__class_weight={0: 1, 1: 20}, clf__criterion=gini, clf__min_samples_leaf=8, clf__min_samples_split=12, total=  25.5s\n",
      "[CV] clf__class_weight={0: 1, 1: 20}, clf__criterion=gini, clf__min_samples_leaf=12, clf__min_samples_split=6 \n",
      "[CV]  clf__class_weight={0: 1, 1: 20}, clf__criterion=gini, clf__min_samples_leaf=8, clf__min_samples_split=12, total=  26.4s\n",
      "[CV] clf__class_weight={0: 1, 1: 20}, clf__criterion=gini, clf__min_samples_leaf=12, clf__min_samples_split=6 \n",
      "[CV]  clf__class_weight={0: 1, 1: 20}, clf__criterion=gini, clf__min_samples_leaf=8, clf__min_samples_split=12, total=  25.8s\n",
      "[CV] clf__class_weight={0: 1, 1: 20}, clf__criterion=gini, clf__min_samples_leaf=12, clf__min_samples_split=8 \n",
      "[CV]  clf__class_weight={0: 1, 1: 20}, clf__criterion=gini, clf__min_samples_leaf=12, clf__min_samples_split=6, total=  23.6s\n",
      "[CV] clf__class_weight={0: 1, 1: 20}, clf__criterion=gini, clf__min_samples_leaf=12, clf__min_samples_split=8 \n",
      "[CV]  clf__class_weight={0: 1, 1: 20}, clf__criterion=gini, clf__min_samples_leaf=12, clf__min_samples_split=6, total=  23.6s\n",
      "[CV] clf__class_weight={0: 1, 1: 20}, clf__criterion=gini, clf__min_samples_leaf=12, clf__min_samples_split=8 \n",
      "[CV]  clf__class_weight={0: 1, 1: 20}, clf__criterion=gini, clf__min_samples_leaf=12, clf__min_samples_split=8, total=  23.4s\n",
      "[CV] clf__class_weight={0: 1, 1: 20}, clf__criterion=gini, clf__min_samples_leaf=12, clf__min_samples_split=12 \n",
      "[CV]  clf__class_weight={0: 1, 1: 20}, clf__criterion=gini, clf__min_samples_leaf=12, clf__min_samples_split=6, total=  23.9s\n",
      "[CV] clf__class_weight={0: 1, 1: 20}, clf__criterion=gini, clf__min_samples_leaf=12, clf__min_samples_split=12 \n",
      "[CV]  clf__class_weight={0: 1, 1: 20}, clf__criterion=gini, clf__min_samples_leaf=12, clf__min_samples_split=8, total=  22.8s\n",
      "[CV] clf__class_weight={0: 1, 1: 20}, clf__criterion=gini, clf__min_samples_leaf=12, clf__min_samples_split=12 \n",
      "[CV]  clf__class_weight={0: 1, 1: 20}, clf__criterion=gini, clf__min_samples_leaf=12, clf__min_samples_split=8, total=  23.3s\n",
      "[CV] clf__class_weight={0: 1, 1: 20}, clf__criterion=entropy, clf__min_samples_leaf=6, clf__min_samples_split=6 \n",
      "[CV]  clf__class_weight={0: 1, 1: 20}, clf__criterion=gini, clf__min_samples_leaf=12, clf__min_samples_split=12, total=  23.9s\n",
      "[CV] clf__class_weight={0: 1, 1: 20}, clf__criterion=entropy, clf__min_samples_leaf=6, clf__min_samples_split=6 \n",
      "[CV]  clf__class_weight={0: 1, 1: 20}, clf__criterion=gini, clf__min_samples_leaf=12, clf__min_samples_split=12, total=  24.4s\n",
      "[CV] clf__class_weight={0: 1, 1: 20}, clf__criterion=entropy, clf__min_samples_leaf=6, clf__min_samples_split=6 \n",
      "[CV]  clf__class_weight={0: 1, 1: 20}, clf__criterion=gini, clf__min_samples_leaf=12, clf__min_samples_split=12, total=  23.6s\n",
      "[CV] clf__class_weight={0: 1, 1: 20}, clf__criterion=entropy, clf__min_samples_leaf=6, clf__min_samples_split=8 \n",
      "[CV]  clf__class_weight={0: 1, 1: 20}, clf__criterion=entropy, clf__min_samples_leaf=6, clf__min_samples_split=6, total=  25.2s\n",
      "[CV] clf__class_weight={0: 1, 1: 20}, clf__criterion=entropy, clf__min_samples_leaf=6, clf__min_samples_split=8 \n",
      "[CV]  clf__class_weight={0: 1, 1: 20}, clf__criterion=entropy, clf__min_samples_leaf=6, clf__min_samples_split=6, total=  23.4s\n",
      "[CV] clf__class_weight={0: 1, 1: 20}, clf__criterion=entropy, clf__min_samples_leaf=6, clf__min_samples_split=8 \n",
      "[CV]  clf__class_weight={0: 1, 1: 20}, clf__criterion=entropy, clf__min_samples_leaf=6, clf__min_samples_split=6, total=  24.9s\n",
      "[CV] clf__class_weight={0: 1, 1: 20}, clf__criterion=entropy, clf__min_samples_leaf=6, clf__min_samples_split=12 \n",
      "[CV]  clf__class_weight={0: 1, 1: 20}, clf__criterion=entropy, clf__min_samples_leaf=6, clf__min_samples_split=8, total=  24.6s\n",
      "[CV] clf__class_weight={0: 1, 1: 20}, clf__criterion=entropy, clf__min_samples_leaf=6, clf__min_samples_split=12 \n",
      "[CV]  clf__class_weight={0: 1, 1: 20}, clf__criterion=entropy, clf__min_samples_leaf=6, clf__min_samples_split=8, total=  26.4s\n",
      "[CV] clf__class_weight={0: 1, 1: 20}, clf__criterion=entropy, clf__min_samples_leaf=6, clf__min_samples_split=12 \n",
      "[CV]  clf__class_weight={0: 1, 1: 20}, clf__criterion=entropy, clf__min_samples_leaf=6, clf__min_samples_split=8, total=  24.3s\n",
      "[CV] clf__class_weight={0: 1, 1: 20}, clf__criterion=entropy, clf__min_samples_leaf=8, clf__min_samples_split=6 \n",
      "[CV]  clf__class_weight={0: 1, 1: 20}, clf__criterion=entropy, clf__min_samples_leaf=6, clf__min_samples_split=12, total=  23.1s\n",
      "[CV] clf__class_weight={0: 1, 1: 20}, clf__criterion=entropy, clf__min_samples_leaf=8, clf__min_samples_split=6 \n",
      "[CV]  clf__class_weight={0: 1, 1: 20}, clf__criterion=entropy, clf__min_samples_leaf=6, clf__min_samples_split=12, total=  26.1s\n",
      "[CV] clf__class_weight={0: 1, 1: 20}, clf__criterion=entropy, clf__min_samples_leaf=8, clf__min_samples_split=6 \n",
      "[CV]  clf__class_weight={0: 1, 1: 20}, clf__criterion=entropy, clf__min_samples_leaf=6, clf__min_samples_split=12, total=  25.0s\n",
      "[CV] clf__class_weight={0: 1, 1: 20}, clf__criterion=entropy, clf__min_samples_leaf=8, clf__min_samples_split=8 \n",
      "[CV]  clf__class_weight={0: 1, 1: 20}, clf__criterion=entropy, clf__min_samples_leaf=8, clf__min_samples_split=6, total=  26.5s\n",
      "[CV] clf__class_weight={0: 1, 1: 20}, clf__criterion=entropy, clf__min_samples_leaf=8, clf__min_samples_split=8 \n",
      "[CV]  clf__class_weight={0: 1, 1: 20}, clf__criterion=entropy, clf__min_samples_leaf=8, clf__min_samples_split=6, total=  26.5s\n",
      "[CV] clf__class_weight={0: 1, 1: 20}, clf__criterion=entropy, clf__min_samples_leaf=8, clf__min_samples_split=8 \n",
      "[CV]  clf__class_weight={0: 1, 1: 20}, clf__criterion=entropy, clf__min_samples_leaf=8, clf__min_samples_split=6, total=  25.9s\n",
      "[CV] clf__class_weight={0: 1, 1: 20}, clf__criterion=entropy, clf__min_samples_leaf=8, clf__min_samples_split=12 \n",
      "[CV]  clf__class_weight={0: 1, 1: 20}, clf__criterion=entropy, clf__min_samples_leaf=8, clf__min_samples_split=8, total=  24.8s\n",
      "[CV] clf__class_weight={0: 1, 1: 20}, clf__criterion=entropy, clf__min_samples_leaf=8, clf__min_samples_split=12 \n",
      "[CV]  clf__class_weight={0: 1, 1: 20}, clf__criterion=entropy, clf__min_samples_leaf=8, clf__min_samples_split=8, total=  24.8s\n",
      "[CV] clf__class_weight={0: 1, 1: 20}, clf__criterion=entropy, clf__min_samples_leaf=8, clf__min_samples_split=12 \n",
      "[CV]  clf__class_weight={0: 1, 1: 20}, clf__criterion=entropy, clf__min_samples_leaf=8, clf__min_samples_split=8, total=  27.8s\n",
      "[CV] clf__class_weight={0: 1, 1: 20}, clf__criterion=entropy, clf__min_samples_leaf=12, clf__min_samples_split=6 \n",
      "[CV]  clf__class_weight={0: 1, 1: 20}, clf__criterion=entropy, clf__min_samples_leaf=8, clf__min_samples_split=12, total=  24.6s\n",
      "[CV] clf__class_weight={0: 1, 1: 20}, clf__criterion=entropy, clf__min_samples_leaf=12, clf__min_samples_split=6 \n",
      "[CV]  clf__class_weight={0: 1, 1: 20}, clf__criterion=entropy, clf__min_samples_leaf=8, clf__min_samples_split=12, total=  22.4s\n",
      "[CV] clf__class_weight={0: 1, 1: 20}, clf__criterion=entropy, clf__min_samples_leaf=12, clf__min_samples_split=6 \n",
      "[CV]  clf__class_weight={0: 1, 1: 20}, clf__criterion=entropy, clf__min_samples_leaf=8, clf__min_samples_split=12, total=  23.7s\n",
      "[CV] clf__class_weight={0: 1, 1: 20}, clf__criterion=entropy, clf__min_samples_leaf=12, clf__min_samples_split=8 \n",
      "[CV]  clf__class_weight={0: 1, 1: 20}, clf__criterion=entropy, clf__min_samples_leaf=12, clf__min_samples_split=6, total=  25.2s\n",
      "[CV] clf__class_weight={0: 1, 1: 20}, clf__criterion=entropy, clf__min_samples_leaf=12, clf__min_samples_split=8 \n",
      "[CV]  clf__class_weight={0: 1, 1: 20}, clf__criterion=entropy, clf__min_samples_leaf=12, clf__min_samples_split=6, total=  24.9s\n",
      "[CV] clf__class_weight={0: 1, 1: 20}, clf__criterion=entropy, clf__min_samples_leaf=12, clf__min_samples_split=8 \n",
      "[CV]  clf__class_weight={0: 1, 1: 20}, clf__criterion=entropy, clf__min_samples_leaf=12, clf__min_samples_split=6, total=  23.3s\n",
      "[CV] clf__class_weight={0: 1, 1: 20}, clf__criterion=entropy, clf__min_samples_leaf=12, clf__min_samples_split=12 \n"
     ]
    },
    {
     "name": "stdout",
     "output_type": "stream",
     "text": [
      "[CV]  clf__class_weight={0: 1, 1: 20}, clf__criterion=entropy, clf__min_samples_leaf=12, clf__min_samples_split=8, total=  24.2s\n",
      "[CV] clf__class_weight={0: 1, 1: 20}, clf__criterion=entropy, clf__min_samples_leaf=12, clf__min_samples_split=12 \n",
      "[CV]  clf__class_weight={0: 1, 1: 20}, clf__criterion=entropy, clf__min_samples_leaf=12, clf__min_samples_split=8, total=  24.8s\n",
      "[CV] clf__class_weight={0: 1, 1: 20}, clf__criterion=entropy, clf__min_samples_leaf=12, clf__min_samples_split=12 \n",
      "[CV]  clf__class_weight={0: 1, 1: 20}, clf__criterion=entropy, clf__min_samples_leaf=12, clf__min_samples_split=8, total=  23.5s\n",
      "[CV] clf__class_weight={0: 1, 1: 25}, clf__criterion=gini, clf__min_samples_leaf=6, clf__min_samples_split=6 \n",
      "[CV]  clf__class_weight={0: 1, 1: 20}, clf__criterion=entropy, clf__min_samples_leaf=12, clf__min_samples_split=12, total=  23.7s\n",
      "[CV] clf__class_weight={0: 1, 1: 25}, clf__criterion=gini, clf__min_samples_leaf=6, clf__min_samples_split=6 \n",
      "[CV]  clf__class_weight={0: 1, 1: 20}, clf__criterion=entropy, clf__min_samples_leaf=12, clf__min_samples_split=12, total=  25.1s\n",
      "[CV] clf__class_weight={0: 1, 1: 25}, clf__criterion=gini, clf__min_samples_leaf=6, clf__min_samples_split=6 \n",
      "[CV]  clf__class_weight={0: 1, 1: 20}, clf__criterion=entropy, clf__min_samples_leaf=12, clf__min_samples_split=12, total=  24.2s\n",
      "[CV] clf__class_weight={0: 1, 1: 25}, clf__criterion=gini, clf__min_samples_leaf=6, clf__min_samples_split=8 \n",
      "[CV]  clf__class_weight={0: 1, 1: 25}, clf__criterion=gini, clf__min_samples_leaf=6, clf__min_samples_split=6, total=  24.8s\n",
      "[CV] clf__class_weight={0: 1, 1: 25}, clf__criterion=gini, clf__min_samples_leaf=6, clf__min_samples_split=8 \n",
      "[CV]  clf__class_weight={0: 1, 1: 25}, clf__criterion=gini, clf__min_samples_leaf=6, clf__min_samples_split=6, total=  23.5s\n",
      "[CV] clf__class_weight={0: 1, 1: 25}, clf__criterion=gini, clf__min_samples_leaf=6, clf__min_samples_split=8 \n",
      "[CV]  clf__class_weight={0: 1, 1: 25}, clf__criterion=gini, clf__min_samples_leaf=6, clf__min_samples_split=6, total=  23.0s\n",
      "[CV] clf__class_weight={0: 1, 1: 25}, clf__criterion=gini, clf__min_samples_leaf=6, clf__min_samples_split=12 \n",
      "[CV]  clf__class_weight={0: 1, 1: 25}, clf__criterion=gini, clf__min_samples_leaf=6, clf__min_samples_split=8, total=  25.6s\n",
      "[CV] clf__class_weight={0: 1, 1: 25}, clf__criterion=gini, clf__min_samples_leaf=6, clf__min_samples_split=12 \n",
      "[CV]  clf__class_weight={0: 1, 1: 25}, clf__criterion=gini, clf__min_samples_leaf=6, clf__min_samples_split=8, total=  23.8s\n",
      "[CV] clf__class_weight={0: 1, 1: 25}, clf__criterion=gini, clf__min_samples_leaf=6, clf__min_samples_split=12 \n",
      "[CV]  clf__class_weight={0: 1, 1: 25}, clf__criterion=gini, clf__min_samples_leaf=6, clf__min_samples_split=8, total=  23.7s\n",
      "[CV] clf__class_weight={0: 1, 1: 25}, clf__criterion=gini, clf__min_samples_leaf=8, clf__min_samples_split=6 \n",
      "[CV]  clf__class_weight={0: 1, 1: 25}, clf__criterion=gini, clf__min_samples_leaf=6, clf__min_samples_split=12, total=  23.6s\n",
      "[CV] clf__class_weight={0: 1, 1: 25}, clf__criterion=gini, clf__min_samples_leaf=8, clf__min_samples_split=6 \n",
      "[CV]  clf__class_weight={0: 1, 1: 25}, clf__criterion=gini, clf__min_samples_leaf=6, clf__min_samples_split=12, total=  23.9s\n",
      "[CV] clf__class_weight={0: 1, 1: 25}, clf__criterion=gini, clf__min_samples_leaf=8, clf__min_samples_split=6 \n",
      "[CV]  clf__class_weight={0: 1, 1: 25}, clf__criterion=gini, clf__min_samples_leaf=6, clf__min_samples_split=12, total=  24.9s\n",
      "[CV] clf__class_weight={0: 1, 1: 25}, clf__criterion=gini, clf__min_samples_leaf=8, clf__min_samples_split=8 \n",
      "[CV]  clf__class_weight={0: 1, 1: 25}, clf__criterion=gini, clf__min_samples_leaf=8, clf__min_samples_split=6, total=  22.9s\n",
      "[CV] clf__class_weight={0: 1, 1: 25}, clf__criterion=gini, clf__min_samples_leaf=8, clf__min_samples_split=8 \n",
      "[CV]  clf__class_weight={0: 1, 1: 25}, clf__criterion=gini, clf__min_samples_leaf=8, clf__min_samples_split=6, total=  23.4s\n",
      "[CV] clf__class_weight={0: 1, 1: 25}, clf__criterion=gini, clf__min_samples_leaf=8, clf__min_samples_split=8 \n",
      "[CV]  clf__class_weight={0: 1, 1: 25}, clf__criterion=gini, clf__min_samples_leaf=8, clf__min_samples_split=6, total=  25.9s\n",
      "[CV] clf__class_weight={0: 1, 1: 25}, clf__criterion=gini, clf__min_samples_leaf=8, clf__min_samples_split=12 \n",
      "[CV]  clf__class_weight={0: 1, 1: 25}, clf__criterion=gini, clf__min_samples_leaf=8, clf__min_samples_split=8, total=  24.2s\n",
      "[CV] clf__class_weight={0: 1, 1: 25}, clf__criterion=gini, clf__min_samples_leaf=8, clf__min_samples_split=12 \n",
      "[CV]  clf__class_weight={0: 1, 1: 25}, clf__criterion=gini, clf__min_samples_leaf=8, clf__min_samples_split=8, total=  23.0s\n",
      "[CV] clf__class_weight={0: 1, 1: 25}, clf__criterion=gini, clf__min_samples_leaf=8, clf__min_samples_split=12 \n",
      "[CV]  clf__class_weight={0: 1, 1: 25}, clf__criterion=gini, clf__min_samples_leaf=8, clf__min_samples_split=8, total=  25.7s\n",
      "[CV] clf__class_weight={0: 1, 1: 25}, clf__criterion=gini, clf__min_samples_leaf=12, clf__min_samples_split=6 \n",
      "[CV]  clf__class_weight={0: 1, 1: 25}, clf__criterion=gini, clf__min_samples_leaf=8, clf__min_samples_split=12, total=  25.6s\n",
      "[CV] clf__class_weight={0: 1, 1: 25}, clf__criterion=gini, clf__min_samples_leaf=12, clf__min_samples_split=6 \n",
      "[CV]  clf__class_weight={0: 1, 1: 25}, clf__criterion=gini, clf__min_samples_leaf=8, clf__min_samples_split=12, total=  25.5s\n",
      "[CV] clf__class_weight={0: 1, 1: 25}, clf__criterion=gini, clf__min_samples_leaf=12, clf__min_samples_split=6 \n",
      "[CV]  clf__class_weight={0: 1, 1: 25}, clf__criterion=gini, clf__min_samples_leaf=8, clf__min_samples_split=12, total=  24.6s\n",
      "[CV] clf__class_weight={0: 1, 1: 25}, clf__criterion=gini, clf__min_samples_leaf=12, clf__min_samples_split=8 \n",
      "[CV]  clf__class_weight={0: 1, 1: 25}, clf__criterion=gini, clf__min_samples_leaf=12, clf__min_samples_split=6, total=  23.7s\n",
      "[CV] clf__class_weight={0: 1, 1: 25}, clf__criterion=gini, clf__min_samples_leaf=12, clf__min_samples_split=8 \n",
      "[CV]  clf__class_weight={0: 1, 1: 25}, clf__criterion=gini, clf__min_samples_leaf=12, clf__min_samples_split=6, total=  26.1s\n",
      "[CV] clf__class_weight={0: 1, 1: 25}, clf__criterion=gini, clf__min_samples_leaf=12, clf__min_samples_split=8 \n",
      "[CV]  clf__class_weight={0: 1, 1: 25}, clf__criterion=gini, clf__min_samples_leaf=12, clf__min_samples_split=6, total=  23.9s\n",
      "[CV] clf__class_weight={0: 1, 1: 25}, clf__criterion=gini, clf__min_samples_leaf=12, clf__min_samples_split=12 \n",
      "[CV]  clf__class_weight={0: 1, 1: 25}, clf__criterion=gini, clf__min_samples_leaf=12, clf__min_samples_split=8, total=  24.3s\n",
      "[CV] clf__class_weight={0: 1, 1: 25}, clf__criterion=gini, clf__min_samples_leaf=12, clf__min_samples_split=12 \n",
      "[CV]  clf__class_weight={0: 1, 1: 25}, clf__criterion=gini, clf__min_samples_leaf=12, clf__min_samples_split=8, total=  23.3s\n",
      "[CV] clf__class_weight={0: 1, 1: 25}, clf__criterion=gini, clf__min_samples_leaf=12, clf__min_samples_split=12 \n",
      "[CV]  clf__class_weight={0: 1, 1: 25}, clf__criterion=gini, clf__min_samples_leaf=12, clf__min_samples_split=8, total=  24.6s\n",
      "[CV] clf__class_weight={0: 1, 1: 25}, clf__criterion=entropy, clf__min_samples_leaf=6, clf__min_samples_split=6 \n",
      "[CV]  clf__class_weight={0: 1, 1: 25}, clf__criterion=gini, clf__min_samples_leaf=12, clf__min_samples_split=12, total=  22.3s\n",
      "[CV] clf__class_weight={0: 1, 1: 25}, clf__criterion=entropy, clf__min_samples_leaf=6, clf__min_samples_split=6 \n",
      "[CV]  clf__class_weight={0: 1, 1: 25}, clf__criterion=gini, clf__min_samples_leaf=12, clf__min_samples_split=12, total=  24.4s\n",
      "[CV] clf__class_weight={0: 1, 1: 25}, clf__criterion=entropy, clf__min_samples_leaf=6, clf__min_samples_split=6 \n",
      "[CV]  clf__class_weight={0: 1, 1: 25}, clf__criterion=gini, clf__min_samples_leaf=12, clf__min_samples_split=12, total=  24.0s\n",
      "[CV] clf__class_weight={0: 1, 1: 25}, clf__criterion=entropy, clf__min_samples_leaf=6, clf__min_samples_split=8 \n",
      "[CV]  clf__class_weight={0: 1, 1: 25}, clf__criterion=entropy, clf__min_samples_leaf=6, clf__min_samples_split=6, total=  25.6s\n",
      "[CV] clf__class_weight={0: 1, 1: 25}, clf__criterion=entropy, clf__min_samples_leaf=6, clf__min_samples_split=8 \n",
      "[CV]  clf__class_weight={0: 1, 1: 25}, clf__criterion=entropy, clf__min_samples_leaf=6, clf__min_samples_split=6, total=  24.8s\n"
     ]
    },
    {
     "name": "stdout",
     "output_type": "stream",
     "text": [
      "[CV] clf__class_weight={0: 1, 1: 25}, clf__criterion=entropy, clf__min_samples_leaf=6, clf__min_samples_split=8 \n",
      "[CV]  clf__class_weight={0: 1, 1: 25}, clf__criterion=entropy, clf__min_samples_leaf=6, clf__min_samples_split=6, total=  26.4s\n",
      "[CV] clf__class_weight={0: 1, 1: 25}, clf__criterion=entropy, clf__min_samples_leaf=6, clf__min_samples_split=12 \n",
      "[CV]  clf__class_weight={0: 1, 1: 25}, clf__criterion=entropy, clf__min_samples_leaf=6, clf__min_samples_split=8, total=  24.7s\n",
      "[CV] clf__class_weight={0: 1, 1: 25}, clf__criterion=entropy, clf__min_samples_leaf=6, clf__min_samples_split=12 \n",
      "[CV]  clf__class_weight={0: 1, 1: 25}, clf__criterion=entropy, clf__min_samples_leaf=6, clf__min_samples_split=8, total=  26.2s\n",
      "[CV] clf__class_weight={0: 1, 1: 25}, clf__criterion=entropy, clf__min_samples_leaf=6, clf__min_samples_split=12 \n",
      "[CV]  clf__class_weight={0: 1, 1: 25}, clf__criterion=entropy, clf__min_samples_leaf=6, clf__min_samples_split=8, total=  26.3s\n",
      "[CV] clf__class_weight={0: 1, 1: 25}, clf__criterion=entropy, clf__min_samples_leaf=8, clf__min_samples_split=6 \n",
      "[CV]  clf__class_weight={0: 1, 1: 25}, clf__criterion=entropy, clf__min_samples_leaf=6, clf__min_samples_split=12, total=  25.2s\n",
      "[CV] clf__class_weight={0: 1, 1: 25}, clf__criterion=entropy, clf__min_samples_leaf=8, clf__min_samples_split=6 \n",
      "[CV]  clf__class_weight={0: 1, 1: 25}, clf__criterion=entropy, clf__min_samples_leaf=6, clf__min_samples_split=12, total=  24.9s\n",
      "[CV] clf__class_weight={0: 1, 1: 25}, clf__criterion=entropy, clf__min_samples_leaf=8, clf__min_samples_split=6 \n",
      "[CV]  clf__class_weight={0: 1, 1: 25}, clf__criterion=entropy, clf__min_samples_leaf=6, clf__min_samples_split=12, total=  24.5s\n",
      "[CV] clf__class_weight={0: 1, 1: 25}, clf__criterion=entropy, clf__min_samples_leaf=8, clf__min_samples_split=8 \n",
      "[CV]  clf__class_weight={0: 1, 1: 25}, clf__criterion=entropy, clf__min_samples_leaf=8, clf__min_samples_split=6, total=  26.3s\n",
      "[CV] clf__class_weight={0: 1, 1: 25}, clf__criterion=entropy, clf__min_samples_leaf=8, clf__min_samples_split=8 \n",
      "[CV]  clf__class_weight={0: 1, 1: 25}, clf__criterion=entropy, clf__min_samples_leaf=8, clf__min_samples_split=6, total=  24.7s\n",
      "[CV] clf__class_weight={0: 1, 1: 25}, clf__criterion=entropy, clf__min_samples_leaf=8, clf__min_samples_split=8 \n",
      "[CV]  clf__class_weight={0: 1, 1: 25}, clf__criterion=entropy, clf__min_samples_leaf=8, clf__min_samples_split=6, total=  25.3s\n",
      "[CV] clf__class_weight={0: 1, 1: 25}, clf__criterion=entropy, clf__min_samples_leaf=8, clf__min_samples_split=12 \n",
      "[CV]  clf__class_weight={0: 1, 1: 25}, clf__criterion=entropy, clf__min_samples_leaf=8, clf__min_samples_split=8, total=  25.5s\n",
      "[CV] clf__class_weight={0: 1, 1: 25}, clf__criterion=entropy, clf__min_samples_leaf=8, clf__min_samples_split=12 \n",
      "[CV]  clf__class_weight={0: 1, 1: 25}, clf__criterion=entropy, clf__min_samples_leaf=8, clf__min_samples_split=8, total=  27.0s\n",
      "[CV] clf__class_weight={0: 1, 1: 25}, clf__criterion=entropy, clf__min_samples_leaf=8, clf__min_samples_split=12 \n",
      "[CV]  clf__class_weight={0: 1, 1: 25}, clf__criterion=entropy, clf__min_samples_leaf=8, clf__min_samples_split=8, total=  25.8s\n",
      "[CV] clf__class_weight={0: 1, 1: 25}, clf__criterion=entropy, clf__min_samples_leaf=12, clf__min_samples_split=6 \n",
      "[CV]  clf__class_weight={0: 1, 1: 25}, clf__criterion=entropy, clf__min_samples_leaf=8, clf__min_samples_split=12, total=  23.7s\n",
      "[CV] clf__class_weight={0: 1, 1: 25}, clf__criterion=entropy, clf__min_samples_leaf=12, clf__min_samples_split=6 \n",
      "[CV]  clf__class_weight={0: 1, 1: 25}, clf__criterion=entropy, clf__min_samples_leaf=8, clf__min_samples_split=12, total=  27.6s\n",
      "[CV] clf__class_weight={0: 1, 1: 25}, clf__criterion=entropy, clf__min_samples_leaf=12, clf__min_samples_split=6 \n",
      "[CV]  clf__class_weight={0: 1, 1: 25}, clf__criterion=entropy, clf__min_samples_leaf=8, clf__min_samples_split=12, total=  26.2s\n",
      "[CV] clf__class_weight={0: 1, 1: 25}, clf__criterion=entropy, clf__min_samples_leaf=12, clf__min_samples_split=8 \n",
      "[CV]  clf__class_weight={0: 1, 1: 25}, clf__criterion=entropy, clf__min_samples_leaf=12, clf__min_samples_split=6, total=  22.7s\n",
      "[CV] clf__class_weight={0: 1, 1: 25}, clf__criterion=entropy, clf__min_samples_leaf=12, clf__min_samples_split=8 \n"
     ]
    },
    {
     "name": "stderr",
     "output_type": "stream",
     "text": [
      "[Parallel(n_jobs=-1)]: Done 154 tasks      | elapsed: 21.6min\n"
     ]
    },
    {
     "name": "stdout",
     "output_type": "stream",
     "text": [
      "[CV]  clf__class_weight={0: 1, 1: 25}, clf__criterion=entropy, clf__min_samples_leaf=12, clf__min_samples_split=6, total=  25.2s\n",
      "[CV] clf__class_weight={0: 1, 1: 25}, clf__criterion=entropy, clf__min_samples_leaf=12, clf__min_samples_split=8 \n",
      "[CV]  clf__class_weight={0: 1, 1: 25}, clf__criterion=entropy, clf__min_samples_leaf=12, clf__min_samples_split=6, total=  26.4s\n",
      "[CV] clf__class_weight={0: 1, 1: 25}, clf__criterion=entropy, clf__min_samples_leaf=12, clf__min_samples_split=12 \n",
      "[CV]  clf__class_weight={0: 1, 1: 25}, clf__criterion=entropy, clf__min_samples_leaf=12, clf__min_samples_split=8, total=  25.6s\n",
      "[CV] clf__class_weight={0: 1, 1: 25}, clf__criterion=entropy, clf__min_samples_leaf=12, clf__min_samples_split=12 \n",
      "[CV]  clf__class_weight={0: 1, 1: 25}, clf__criterion=entropy, clf__min_samples_leaf=12, clf__min_samples_split=8, total=  24.3s\n",
      "[CV] clf__class_weight={0: 1, 1: 25}, clf__criterion=entropy, clf__min_samples_leaf=12, clf__min_samples_split=12 \n",
      "[CV]  clf__class_weight={0: 1, 1: 25}, clf__criterion=entropy, clf__min_samples_leaf=12, clf__min_samples_split=8, total=  25.0s\n",
      "[CV]  clf__class_weight={0: 1, 1: 25}, clf__criterion=entropy, clf__min_samples_leaf=12, clf__min_samples_split=12, total=  25.2s\n",
      "[CV]  clf__class_weight={0: 1, 1: 25}, clf__criterion=entropy, clf__min_samples_leaf=12, clf__min_samples_split=12, total=  21.1s\n",
      "[CV]  clf__class_weight={0: 1, 1: 25}, clf__criterion=entropy, clf__min_samples_leaf=12, clf__min_samples_split=12, total=  15.5s\n"
     ]
    },
    {
     "name": "stderr",
     "output_type": "stream",
     "text": [
      "[Parallel(n_jobs=-1)]: Done 162 out of 162 | elapsed: 22.4min finished\n"
     ]
    },
    {
     "name": "stdout",
     "output_type": "stream",
     "text": [
      "Best params: {'clf__class_weight': {0: 1, 1: 25}, 'clf__criterion': 'gini', 'clf__min_samples_leaf': 12, 'clf__min_samples_split': 6}\n",
      "Best training roc auc: 0.881\n",
      "Test set roc auc score for best params: 0.825 \n"
     ]
    }
   ],
   "source": [
    "# Fit grid search\t\n",
    "gs_rf.fit(X_train, y_train)\n",
    "# Best params\n",
    "print('Best params: %s' % gs_rf.best_params_)\n",
    "# Best training data roc auc\n",
    "print('Best training roc auc: %.3f' % gs_rf.best_score_)\n",
    "# Predict on test data with best params\n",
    "y_pred_gs_rf = gs_rf.predict(X_test)\n",
    "# Test data roc auc of model with best params\n",
    "print('Test set roc auc score for best params: %.3f ' % roc_auc_score(y_test, y_pred_gs_rf))"
   ]
  },
  {
   "cell_type": "code",
   "execution_count": 14,
   "metadata": {},
   "outputs": [
    {
     "name": "stderr",
     "output_type": "stream",
     "text": [
      "/home/seba/anaconda3/lib/python3.6/site-packages/matplotlib/cbook/deprecation.py:107: MatplotlibDeprecationWarning: Passing one of 'on', 'true', 'off', 'false' as a boolean is deprecated; use an actual boolean (True/False) instead.\n",
      "  warnings.warn(message, mplDeprecation, stacklevel=1)\n"
     ]
    },
    {
     "data": {
      "text/plain": [
       "<matplotlib.axes._subplots.AxesSubplot at 0x7f35a9c7ccf8>"
      ]
     },
     "execution_count": 14,
     "metadata": {},
     "output_type": "execute_result"
    },
    {
     "data": {
      "image/png": "[encoded data removed]",
      "text/plain": [
       "<Figure size 432x288 with 2 Axes>"
      ]
     },
     "metadata": {},
     "output_type": "display_data"
    }
   ],
   "source": [
    "skplt.metrics.plot_confusion_matrix(y_test, y_pred_gs_rf, normalize=True)"
   ]
  },
  {
   "cell_type": "code",
   "execution_count": 15,
   "metadata": {},
   "outputs": [
    {
     "name": "stdout",
     "output_type": "stream",
     "text": [
      "<class 'pandas.core.frame.DataFrame'>\n",
      "Int64Index: 50000 entries, 1690 to 21260067\n",
      "Data columns (total 56 columns):\n",
      "6m                                50000 non-null int64\n",
      "5m                                50000 non-null int64\n",
      "4m                                50000 non-null int64\n",
      "3m                                50000 non-null int64\n",
      "2m                                50000 non-null int64\n",
      "1m                                50000 non-null int64\n",
      "Churn                             50000 non-null int64\n",
      "edad_r                            50000 non-null int64\n",
      "GENDER_F                          50000 non-null int64\n",
      "GENDER_M                          50000 non-null int64\n",
      "MARITAL_STATUS_Casado             50000 non-null int64\n",
      "MARITAL_STATUS_Conviv             50000 non-null int64\n",
      "MARITAL_STATUS_Divorciado         50000 non-null int64\n",
      "MARITAL_STATUS_No Corresp         50000 non-null int64\n",
      "MARITAL_STATUS_Separado           50000 non-null int64\n",
      "MARITAL_STATUS_Soltero            50000 non-null int64\n",
      "MARITAL_STATUS_Union Civ          50000 non-null int64\n",
      "MARITAL_STATUS_Viudo              50000 non-null int64\n",
      "EDUCATION_N                       50000 non-null int64\n",
      "EDUCATION_S                       50000 non-null int64\n",
      "EDUCATION_LEVEL_PRIMARIO          50000 non-null int64\n",
      "EDUCATION_LEVEL_SECUNDARIO        50000 non-null int64\n",
      "EDUCATION_LEVEL_TERCIARIO         50000 non-null int64\n",
      "EDUCATION_LEVEL_UNIVERSITARIO     50000 non-null int64\n",
      "CITY_ANTARTIDA E ISLAS DEL SUR    50000 non-null int64\n",
      "CITY_BUENOS AIRES                 50000 non-null int64\n",
      "CITY_CAPITAL FEDERAL              50000 non-null int64\n",
      "CITY_CATAMARCA                    50000 non-null int64\n",
      "CITY_CHACO                        50000 non-null int64\n",
      "CITY_CHUBUT                       50000 non-null int64\n",
      "CITY_CORDOBA                      50000 non-null int64\n",
      "CITY_CORRIENTES                   50000 non-null int64\n",
      "CITY_ENTRE RIOS                   50000 non-null int64\n",
      "CITY_FORMOSA                      50000 non-null int64\n",
      "CITY_JUJUY                        50000 non-null int64\n",
      "CITY_LA PAMPA                     50000 non-null int64\n",
      "CITY_LA RIOJA                     50000 non-null int64\n",
      "CITY_MENDOZA                      50000 non-null int64\n",
      "CITY_MISIONES                     50000 non-null int64\n",
      "CITY_NEUQUEN                      50000 non-null int64\n",
      "CITY_RIO NEGRO                    50000 non-null int64\n",
      "CITY_SALTA                        50000 non-null int64\n",
      "CITY_SAN JUAN                     50000 non-null int64\n",
      "CITY_SAN LUIS                     50000 non-null int64\n",
      "CITY_SANTA CRUZ                   50000 non-null int64\n",
      "CITY_SANTA FE                     50000 non-null int64\n",
      "CITY_SANTIAGO DEL ESTERO          50000 non-null int64\n",
      "CITY_TIERRA DEL FUEGO             50000 non-null int64\n",
      "CITY_TUCUMAN                      50000 non-null int64\n",
      "ModoPago_BA                       50000 non-null int64\n",
      "ModoPago_CC                       50000 non-null int64\n",
      "ModoPago_Mix                      50000 non-null int64\n",
      "ModoPago_PP                       50000 non-null int64\n",
      "ModoPago_SJ                       50000 non-null int64\n",
      "ModoPago_TA                       50000 non-null int64\n",
      "ModoPago_TM                       50000 non-null int64\n",
      "dtypes: int64(56)\n",
      "memory usage: 21.7 MB\n"
     ]
    }
   ],
   "source": [
    "#evaluación contra el testeo externo\n",
    "df_testo_ext = pd.read_csv(\"../../data/processed/testeo/m1.0 - churn estricto - 6m.N.polizaXmes y Info.Cliente.M.Pago.csv\", index_col=\"Unnamed: 0\")\n",
    "df_testo_ext.info()"
   ]
  },
  {
   "cell_type": "code",
   "execution_count": 16,
   "metadata": {},
   "outputs": [],
   "source": [
    "X_testo_ext = df_testo_ext.drop(\"Churn\", axis=1)\n",
    "y_testeo_ext = df_testo_ext[\"Churn\"]"
   ]
  },
  {
   "cell_type": "code",
   "execution_count": 17,
   "metadata": {},
   "outputs": [
    {
     "data": {
      "text/html": [
       "<div>\n",
       "<style scoped>\n",
       "    .dataframe tbody tr th:only-of-type {\n",
       "        vertical-align: middle;\n",
       "    }\n",
       "\n",
       "    .dataframe tbody tr th {\n",
       "        vertical-align: top;\n",
       "    }\n",
       "\n",
       "    .dataframe thead th {\n",
       "        text-align: right;\n",
       "    }\n",
       "</style>\n",
       "<table border=\"1\" class=\"dataframe\">\n",
       "  <thead>\n",
       "    <tr style=\"text-align: right;\">\n",
       "      <th></th>\n",
       "      <th>6m</th>\n",
       "      <th>5m</th>\n",
       "      <th>4m</th>\n",
       "      <th>3m</th>\n",
       "      <th>2m</th>\n",
       "      <th>1m</th>\n",
       "      <th>edad_r</th>\n",
       "      <th>GENDER_F</th>\n",
       "      <th>GENDER_M</th>\n",
       "      <th>MARITAL_STATUS_Casado</th>\n",
       "      <th>...</th>\n",
       "      <th>CITY_SANTIAGO DEL ESTERO</th>\n",
       "      <th>CITY_TIERRA DEL FUEGO</th>\n",
       "      <th>CITY_TUCUMAN</th>\n",
       "      <th>ModoPago_BA</th>\n",
       "      <th>ModoPago_CC</th>\n",
       "      <th>ModoPago_Mix</th>\n",
       "      <th>ModoPago_PP</th>\n",
       "      <th>ModoPago_SJ</th>\n",
       "      <th>ModoPago_TA</th>\n",
       "      <th>ModoPago_TM</th>\n",
       "    </tr>\n",
       "  </thead>\n",
       "  <tbody>\n",
       "    <tr>\n",
       "      <th>1690</th>\n",
       "      <td>0</td>\n",
       "      <td>0</td>\n",
       "      <td>0</td>\n",
       "      <td>0</td>\n",
       "      <td>0</td>\n",
       "      <td>0</td>\n",
       "      <td>5</td>\n",
       "      <td>0</td>\n",
       "      <td>1</td>\n",
       "      <td>1</td>\n",
       "      <td>...</td>\n",
       "      <td>0</td>\n",
       "      <td>0</td>\n",
       "      <td>0</td>\n",
       "      <td>0</td>\n",
       "      <td>1</td>\n",
       "      <td>0</td>\n",
       "      <td>0</td>\n",
       "      <td>0</td>\n",
       "      <td>0</td>\n",
       "      <td>0</td>\n",
       "    </tr>\n",
       "    <tr>\n",
       "      <th>5575</th>\n",
       "      <td>2</td>\n",
       "      <td>2</td>\n",
       "      <td>2</td>\n",
       "      <td>2</td>\n",
       "      <td>2</td>\n",
       "      <td>1</td>\n",
       "      <td>4</td>\n",
       "      <td>0</td>\n",
       "      <td>1</td>\n",
       "      <td>1</td>\n",
       "      <td>...</td>\n",
       "      <td>0</td>\n",
       "      <td>0</td>\n",
       "      <td>0</td>\n",
       "      <td>0</td>\n",
       "      <td>0</td>\n",
       "      <td>1</td>\n",
       "      <td>0</td>\n",
       "      <td>0</td>\n",
       "      <td>0</td>\n",
       "      <td>0</td>\n",
       "    </tr>\n",
       "    <tr>\n",
       "      <th>7968</th>\n",
       "      <td>2</td>\n",
       "      <td>2</td>\n",
       "      <td>2</td>\n",
       "      <td>2</td>\n",
       "      <td>2</td>\n",
       "      <td>2</td>\n",
       "      <td>0</td>\n",
       "      <td>0</td>\n",
       "      <td>1</td>\n",
       "      <td>1</td>\n",
       "      <td>...</td>\n",
       "      <td>0</td>\n",
       "      <td>0</td>\n",
       "      <td>0</td>\n",
       "      <td>0</td>\n",
       "      <td>1</td>\n",
       "      <td>0</td>\n",
       "      <td>0</td>\n",
       "      <td>0</td>\n",
       "      <td>0</td>\n",
       "      <td>0</td>\n",
       "    </tr>\n",
       "    <tr>\n",
       "      <th>9028</th>\n",
       "      <td>2</td>\n",
       "      <td>2</td>\n",
       "      <td>2</td>\n",
       "      <td>2</td>\n",
       "      <td>2</td>\n",
       "      <td>2</td>\n",
       "      <td>4</td>\n",
       "      <td>0</td>\n",
       "      <td>1</td>\n",
       "      <td>1</td>\n",
       "      <td>...</td>\n",
       "      <td>0</td>\n",
       "      <td>0</td>\n",
       "      <td>0</td>\n",
       "      <td>0</td>\n",
       "      <td>0</td>\n",
       "      <td>1</td>\n",
       "      <td>0</td>\n",
       "      <td>0</td>\n",
       "      <td>0</td>\n",
       "      <td>0</td>\n",
       "    </tr>\n",
       "    <tr>\n",
       "      <th>9860</th>\n",
       "      <td>1</td>\n",
       "      <td>1</td>\n",
       "      <td>1</td>\n",
       "      <td>1</td>\n",
       "      <td>1</td>\n",
       "      <td>0</td>\n",
       "      <td>4</td>\n",
       "      <td>0</td>\n",
       "      <td>1</td>\n",
       "      <td>0</td>\n",
       "      <td>...</td>\n",
       "      <td>0</td>\n",
       "      <td>0</td>\n",
       "      <td>0</td>\n",
       "      <td>0</td>\n",
       "      <td>0</td>\n",
       "      <td>1</td>\n",
       "      <td>0</td>\n",
       "      <td>0</td>\n",
       "      <td>0</td>\n",
       "      <td>0</td>\n",
       "    </tr>\n",
       "  </tbody>\n",
       "</table>\n",
       "<p>5 rows × 55 columns</p>\n",
       "</div>"
      ],
      "text/plain": [
       "      6m  5m  4m  3m  2m  1m  edad_r  GENDER_F  GENDER_M  \\\n",
       "1690   0   0   0   0   0   0       5         0         1   \n",
       "5575   2   2   2   2   2   1       4         0         1   \n",
       "7968   2   2   2   2   2   2       0         0         1   \n",
       "9028   2   2   2   2   2   2       4         0         1   \n",
       "9860   1   1   1   1   1   0       4         0         1   \n",
       "\n",
       "      MARITAL_STATUS_Casado     ...       CITY_SANTIAGO DEL ESTERO  \\\n",
       "1690                      1     ...                              0   \n",
       "5575                      1     ...                              0   \n",
       "7968                      1     ...                              0   \n",
       "9028                      1     ...                              0   \n",
       "9860                      0     ...                              0   \n",
       "\n",
       "      CITY_TIERRA DEL FUEGO  CITY_TUCUMAN  ModoPago_BA  ModoPago_CC  \\\n",
       "1690                      0             0            0            1   \n",
       "5575                      0             0            0            0   \n",
       "7968                      0             0            0            1   \n",
       "9028                      0             0            0            0   \n",
       "9860                      0             0            0            0   \n",
       "\n",
       "      ModoPago_Mix  ModoPago_PP  ModoPago_SJ  ModoPago_TA  ModoPago_TM  \n",
       "1690             0            0            0            0            0  \n",
       "5575             1            0            0            0            0  \n",
       "7968             0            0            0            0            0  \n",
       "9028             1            0            0            0            0  \n",
       "9860             1            0            0            0            0  \n",
       "\n",
       "[5 rows x 55 columns]"
      ]
     },
     "execution_count": 17,
     "metadata": {},
     "output_type": "execute_result"
    }
   ],
   "source": [
    "X_testo_ext.head()"
   ]
  },
  {
   "cell_type": "code",
   "execution_count": 18,
   "metadata": {},
   "outputs": [
    {
     "data": {
      "text/plain": [
       "Pipeline(memory=None,\n",
       "     steps=[('scl', StandardScaler(copy=True, with_mean=True, with_std=True)), ('clf', RandomForestClassifier(bootstrap=True, class_weight={0: 1, 1: 25},\n",
       "            criterion='gini', max_depth=None, max_features='auto',\n",
       "            max_leaf_nodes=None, min_impurity_decrease=0.0,\n",
       "            min_impurity...stimators=10, n_jobs=1, oob_score=False, random_state=42,\n",
       "            verbose=0, warm_start=False))])"
      ]
     },
     "execution_count": 18,
     "metadata": {},
     "output_type": "execute_result"
    }
   ],
   "source": [
    "clf = gs_rf.best_estimator_\n",
    "clf"
   ]
  },
  {
   "cell_type": "code",
   "execution_count": 19,
   "metadata": {},
   "outputs": [],
   "source": [
    "y_pred_testeo_ext = clf.predict(X_testo_ext)"
   ]
  },
  {
   "cell_type": "code",
   "execution_count": 20,
   "metadata": {},
   "outputs": [
    {
     "data": {
      "text/plain": [
       "0.6903824356150207"
      ]
     },
     "execution_count": 20,
     "metadata": {},
     "output_type": "execute_result"
    }
   ],
   "source": [
    "roc_auc_score(y_testeo_ext, y_pred_testeo_ext)"
   ]
  },
  {
   "cell_type": "code",
   "execution_count": 21,
   "metadata": {},
   "outputs": [
    {
     "name": "stderr",
     "output_type": "stream",
     "text": [
      "/home/seba/anaconda3/lib/python3.6/site-packages/matplotlib/cbook/deprecation.py:107: MatplotlibDeprecationWarning: Passing one of 'on', 'true', 'off', 'false' as a boolean is deprecated; use an actual boolean (True/False) instead.\n",
      "  warnings.warn(message, mplDeprecation, stacklevel=1)\n"
     ]
    },
    {
     "data": {
      "text/plain": [
       "<matplotlib.axes._subplots.AxesSubplot at 0x7f35a950e6a0>"
      ]
     },
     "execution_count": 21,
     "metadata": {},
     "output_type": "execute_result"
    },
    {
     "data": {
      "image/png": "[encoded data removed]",
      "text/plain": [
       "<Figure size 432x288 with 2 Axes>"
      ]
     },
     "metadata": {},
     "output_type": "display_data"
    }
   ],
   "source": [
    "skplt.metrics.plot_confusion_matrix(y_testeo_ext, y_pred_testeo_ext, normalize=True)"
   ]
  },
  {
   "cell_type": "code",
   "execution_count": 22,
   "metadata": {},
   "outputs": [
    {
     "data": {
      "text/plain": [
       "Pipeline(memory=None,\n",
       "     steps=[('scl', StandardScaler(copy=True, with_mean=True, with_std=True)), ('clf', RandomForestClassifier(bootstrap=True, class_weight={0: 1, 1: 25},\n",
       "            criterion='gini', max_depth=None, max_features='auto',\n",
       "            max_leaf_nodes=None, min_impurity_decrease=0.0,\n",
       "            min_impurity...stimators=10, n_jobs=1, oob_score=False, random_state=42,\n",
       "            verbose=0, warm_start=False))])"
      ]
     },
     "execution_count": 22,
     "metadata": {},
     "output_type": "execute_result"
    }
   ],
   "source": [
    "gs_rf.best_estimator_"
   ]
  },
  {
   "cell_type": "code",
   "execution_count": 23,
   "metadata": {},
   "outputs": [
    {
     "data": {
      "text/plain": [
       "['../../models/M1.1 - Modelo RandomForest (0.-0.) - Churn estricto- 6m.N.polizaXmes y Info.Cliente.M.Pago.pkl']"
      ]
     },
     "execution_count": 23,
     "metadata": {},
     "output_type": "execute_result"
    }
   ],
   "source": [
    "#bajando el modelo\n",
    "from sklearn.externals import joblib\n",
    "\n",
    "joblib.dump(gs_rf.best_estimator_, '../../models/M1.1 - Modelo RandomForest (0.-0.) - Churn estricto- 6m.N.polizaXmes y Info.Cliente.M.Pago.pkl')"
   ]
  },
  {
   "cell_type": "markdown",
   "metadata": {},
   "source": [
    "# Realizando predicción para entregar"
   ]
  },
  {
   "cell_type": "code",
   "execution_count": 64,
   "metadata": {},
   "outputs": [
    {
     "name": "stdout",
     "output_type": "stream",
     "text": [
      "<class 'pandas.core.frame.DataFrame'>\n",
      "Int64Index: 50000 entries, 1690 to 21260067\n",
      "Data columns (total 55 columns):\n",
      "6m                                50000 non-null int64\n",
      "5m                                50000 non-null int64\n",
      "4m                                50000 non-null int64\n",
      "3m                                50000 non-null int64\n",
      "2m                                50000 non-null int64\n",
      "1m                                50000 non-null int64\n",
      "edad_r                            50000 non-null int64\n",
      "GENDER_F                          50000 non-null int64\n",
      "GENDER_M                          50000 non-null int64\n",
      "MARITAL_STATUS_Casado             50000 non-null int64\n",
      "MARITAL_STATUS_Conviv             50000 non-null int64\n",
      "MARITAL_STATUS_Divorciado         50000 non-null int64\n",
      "MARITAL_STATUS_No Corresp         50000 non-null int64\n",
      "MARITAL_STATUS_Separado           50000 non-null int64\n",
      "MARITAL_STATUS_Soltero            50000 non-null int64\n",
      "MARITAL_STATUS_Union Civ          50000 non-null int64\n",
      "MARITAL_STATUS_Viudo              50000 non-null int64\n",
      "EDUCATION_N                       50000 non-null int64\n",
      "EDUCATION_S                       50000 non-null int64\n",
      "EDUCATION_LEVEL_PRIMARIO          50000 non-null int64\n",
      "EDUCATION_LEVEL_SECUNDARIO        50000 non-null int64\n",
      "EDUCATION_LEVEL_TERCIARIO         50000 non-null int64\n",
      "EDUCATION_LEVEL_UNIVERSITARIO     50000 non-null int64\n",
      "CITY_ANTARTIDA E ISLAS DEL SUR    50000 non-null int64\n",
      "CITY_BUENOS AIRES                 50000 non-null int64\n",
      "CITY_CAPITAL FEDERAL              50000 non-null int64\n",
      "CITY_CATAMARCA                    50000 non-null int64\n",
      "CITY_CHACO                        50000 non-null int64\n",
      "CITY_CHUBUT                       50000 non-null int64\n",
      "CITY_CORDOBA                      50000 non-null int64\n",
      "CITY_CORRIENTES                   50000 non-null int64\n",
      "CITY_ENTRE RIOS                   50000 non-null int64\n",
      "CITY_FORMOSA                      50000 non-null int64\n",
      "CITY_JUJUY                        50000 non-null int64\n",
      "CITY_LA PAMPA                     50000 non-null int64\n",
      "CITY_LA RIOJA                     50000 non-null int64\n",
      "CITY_MENDOZA                      50000 non-null int64\n",
      "CITY_MISIONES                     50000 non-null int64\n",
      "CITY_NEUQUEN                      50000 non-null int64\n",
      "CITY_RIO NEGRO                    50000 non-null int64\n",
      "CITY_SALTA                        50000 non-null int64\n",
      "CITY_SAN JUAN                     50000 non-null int64\n",
      "CITY_SAN LUIS                     50000 non-null int64\n",
      "CITY_SANTA CRUZ                   50000 non-null int64\n",
      "CITY_SANTA FE                     50000 non-null int64\n",
      "CITY_SANTIAGO DEL ESTERO          50000 non-null int64\n",
      "CITY_TIERRA DEL FUEGO             50000 non-null int64\n",
      "CITY_TUCUMAN                      50000 non-null int64\n",
      "ModoPago_BA                       50000 non-null int64\n",
      "ModoPago_CC                       50000 non-null int64\n",
      "ModoPago_Mix                      50000 non-null int64\n",
      "ModoPago_PP                       50000 non-null int64\n",
      "ModoPago_SJ                       50000 non-null int64\n",
      "ModoPago_TA                       50000 non-null int64\n",
      "ModoPago_TM                       50000 non-null int64\n",
      "dtypes: int64(55)\n",
      "memory usage: 21.4 MB\n"
     ]
    }
   ],
   "source": [
    "df_pred = pd.read_csv(\"../../data/processed/test_cliente/m1.0 - 6m.N.polizaXmes y Info.Cliente.M.Pago.csv\", index_col=\"Unnamed: 0\")\n",
    "df_pred.info()"
   ]
  },
  {
   "cell_type": "code",
   "execution_count": 65,
   "metadata": {},
   "outputs": [],
   "source": [
    "y_pred_predFin  = gs_rf.best_estimator_.predict_proba(df_pred)"
   ]
  },
  {
   "cell_type": "code",
   "execution_count": 95,
   "metadata": {},
   "outputs": [
    {
     "data": {
      "text/html": [
       "<div>\n",
       "<style scoped>\n",
       "    .dataframe tbody tr th:only-of-type {\n",
       "        vertical-align: middle;\n",
       "    }\n",
       "\n",
       "    .dataframe tbody tr th {\n",
       "        vertical-align: top;\n",
       "    }\n",
       "\n",
       "    .dataframe thead th {\n",
       "        text-align: right;\n",
       "    }\n",
       "</style>\n",
       "<table border=\"1\" class=\"dataframe\">\n",
       "  <thead>\n",
       "    <tr style=\"text-align: right;\">\n",
       "      <th></th>\n",
       "      <th>CUSTOMER_ID</th>\n",
       "      <th>PRED</th>\n",
       "    </tr>\n",
       "  </thead>\n",
       "  <tbody>\n",
       "    <tr>\n",
       "      <th>0</th>\n",
       "      <td>1690</td>\n",
       "      <td>0.006911</td>\n",
       "    </tr>\n",
       "    <tr>\n",
       "      <th>1</th>\n",
       "      <td>5575</td>\n",
       "      <td>0.096964</td>\n",
       "    </tr>\n",
       "    <tr>\n",
       "      <th>2</th>\n",
       "      <td>7968</td>\n",
       "      <td>0.134929</td>\n",
       "    </tr>\n",
       "    <tr>\n",
       "      <th>3</th>\n",
       "      <td>9028</td>\n",
       "      <td>0.035026</td>\n",
       "    </tr>\n",
       "    <tr>\n",
       "      <th>4</th>\n",
       "      <td>9860</td>\n",
       "      <td>0.010475</td>\n",
       "    </tr>\n",
       "  </tbody>\n",
       "</table>\n",
       "</div>"
      ],
      "text/plain": [
       "   CUSTOMER_ID      PRED\n",
       "0         1690  0.006911\n",
       "1         5575  0.096964\n",
       "2         7968  0.134929\n",
       "3         9028  0.035026\n",
       "4         9860  0.010475"
      ]
     },
     "execution_count": 95,
     "metadata": {},
     "output_type": "execute_result"
    }
   ],
   "source": [
    "csv = pd.DataFrame()\n",
    "csv[\"CUSTOMER_ID\"] = df_pred.index.values\n",
    "csv[\"PRED\"] = pd.DataFrame(y_pred_predFin)[1]\n",
    "csv.set_index(\"CUSTOMER_ID\", inplace=True)\n",
    "csv.head()"
   ]
  },
  {
   "cell_type": "code",
   "execution_count": 96,
   "metadata": {},
   "outputs": [],
   "source": [
    "csv.to_csv(\"../../data/processed/prediccion_para_cliente/m1.0 - predict - 6m.N.polizaXmes y Info.Cliente.M.Pago.csv\")"
   ]
  },
  {
   "cell_type": "code",
   "execution_count": null,
   "metadata": {},
   "outputs": [],
   "source": []
  },
  {
   "cell_type": "code",
   "execution_count": null,
   "metadata": {},
   "outputs": [],
   "source": []
  },
  {
   "cell_type": "code",
   "execution_count": null,
   "metadata": {},
   "outputs": [],
   "source": []
  },
  {
   "cell_type": "code",
   "execution_count": null,
   "metadata": {},
   "outputs": [],
   "source": []
  }
 ],
 "metadata": {
  "kernelspec": {
   "display_name": "Python 3",
   "language": "python",
   "name": "python3"
  },
  "language_info": {
   "codemirror_mode": {
    "name": "ipython",
    "version": 3
   },
   "file_extension": ".py",
   "mimetype": "text/x-python",
   "name": "python",
   "nbconvert_exporter": "python",
   "pygments_lexer": "ipython3",
   "version": "3.6.5"
  }
 },
 "nbformat": 4,
 "nbformat_minor": 2
}
