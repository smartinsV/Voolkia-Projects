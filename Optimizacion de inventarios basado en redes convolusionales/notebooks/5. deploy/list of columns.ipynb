{
 "cells": [
  {
   "cell_type": "code",
   "execution_count": 1,
   "metadata": {},
   "outputs": [],
   "source": [
    "import pickle"
   ]
  },
  {
   "cell_type": "code",
   "execution_count": 2,
   "metadata": {},
   "outputs": [
    {
     "data": {
      "text/plain": [
       "['cond_C10',\n",
       " 'TIPO_EXPED',\n",
       " 'preg_15',\n",
       " 'es_gte_5',\n",
       " 'preg_31',\n",
       " 'preg_33',\n",
       " 'cond_32',\n",
       " 'preg_32',\n",
       " 'cond_C11',\n",
       " 'cond_C12',\n",
       " 'cond_C2',\n",
       " 'METRO',\n",
       " 'SEXO_TERC',\n",
       " 'OCUPACION_ASEG',\n",
       " 'FALTANTE',\n",
       " 'preg_34',\n",
       " 'cond_C5']"
      ]
     },
     "execution_count": 2,
     "metadata": {},
     "output_type": "execute_result"
    }
   ],
   "source": [
    "with open(\"1.1.b.2.f (COLUMNS) - features: 17.pickle\", \"rb\") as file:\n",
    "    cols = pickle.load(file)\n",
    "cols"
   ]
  },
  {
   "cell_type": "code",
   "execution_count": 3,
   "metadata": {},
   "outputs": [
    {
     "name": "stdout",
     "output_type": "stream",
     "text": [
      "['cond_C10', 'TIPO_EXPED', 'preg_15', 'es_gte_5', 'preg_31', 'preg_33', 'cond_32', 'preg_32', 'cond_C11', 'cond_C12', 'cond_C2', 'METRO', 'SEXO_TERC', 'OCUPACION_ASEG', 'FALTANTE', 'preg_34', 'cond_C5']\n"
     ]
    }
   ],
   "source": [
    "print(cols)"
   ]
  },
  {
   "cell_type": "code",
   "execution_count": 3,
   "metadata": {},
   "outputs": [
    {
     "data": {
      "text/plain": [
       "['FALTANTE',\n",
       " 'METRO',\n",
       " 'OCUPACION_ASEG',\n",
       " 'SEXO_TERC',\n",
       " 'TIPO_EXPED',\n",
       " 'cond_32',\n",
       " 'cond_C10',\n",
       " 'cond_C11',\n",
       " 'cond_C12',\n",
       " 'cond_C2',\n",
       " 'cond_C5',\n",
       " 'es_gte_5',\n",
       " 'preg_15',\n",
       " 'preg_31',\n",
       " 'preg_32',\n",
       " 'preg_33',\n",
       " 'preg_34']"
      ]
     },
     "execution_count": 3,
     "metadata": {},
     "output_type": "execute_result"
    }
   ],
   "source": [
    "sorted(cols)"
   ]
  },
  {
   "cell_type": "code",
   "execution_count": null,
   "metadata": {},
   "outputs": [],
   "source": []
  }
 ],
 "metadata": {
  "kernelspec": {
   "display_name": "Python 3",
   "language": "python",
   "name": "python3"
  },
  "language_info": {
   "codemirror_mode": {
    "name": "ipython",
    "version": 3
   },
   "file_extension": ".py",
   "mimetype": "text/x-python",
   "name": "python",
   "nbconvert_exporter": "python",
   "pygments_lexer": "ipython3",
   "version": "3.6.8"
  },
  "varInspector": {
   "cols": {
    "lenName": 16,
    "lenType": 16,
    "lenVar": 40
   },
   "kernels_config": {
    "python": {
     "delete_cmd_postfix": "",
     "delete_cmd_prefix": "del ",
     "library": "var_list.py",
     "varRefreshCmd": "print(var_dic_list())"
    },
    "r": {
     "delete_cmd_postfix": ") ",
     "delete_cmd_prefix": "rm(",
     "library": "var_list.r",
     "varRefreshCmd": "cat(var_dic_list()) "
    }
   },
   "types_to_exclude": [
    "module",
    "function",
    "builtin_function_or_method",
    "instance",
    "_Feature"
   ],
   "window_display": false
  }
 },
 "nbformat": 4,
 "nbformat_minor": 2
}
