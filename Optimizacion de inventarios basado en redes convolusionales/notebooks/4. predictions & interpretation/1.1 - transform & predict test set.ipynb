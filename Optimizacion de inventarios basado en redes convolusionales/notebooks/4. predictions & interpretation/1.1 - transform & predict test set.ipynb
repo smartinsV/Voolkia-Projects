{
 "cells": [
  {
   "cell_type": "markdown",
   "metadata": {},
   "source": [
    "# reloading final model, columns, transformation and raw test set"
   ]
  },
  {
   "cell_type": "code",
   "execution_count": 1,
   "metadata": {},
   "outputs": [],
   "source": [
    "%load_ext autoreload\n",
    "%autoreload 2"
   ]
  },
  {
   "cell_type": "code",
   "execution_count": 2,
   "metadata": {},
   "outputs": [],
   "source": [
    "# imports\n",
    "#imports\n",
    "import os\n",
    "\n",
    "import pandas as pd\n",
    "import numpy as np\n",
    "from sklearn.metrics import roc_auc_score, f1_score, confusion_matrix\n",
    "\n",
    "import pickle\n",
    "from treeinterpreter import treeinterpreter as ti"
   ]
  },
  {
   "cell_type": "markdown",
   "metadata": {},
   "source": [
    "## Loading model"
   ]
  },
  {
   "cell_type": "code",
   "execution_count": 3,
   "metadata": {},
   "outputs": [
    {
     "data": {
      "text/plain": [
       "ExtraTreesClassifier(bootstrap=False, class_weight={0: 1, 1: 18},\n",
       "           criterion='gini', max_depth=15, max_features='auto',\n",
       "           max_leaf_nodes=None, min_impurity_decrease=0.0,\n",
       "           min_impurity_split=None, min_samples_leaf=55,\n",
       "           min_samples_split=2, min_weight_fraction_leaf=0.0,\n",
       "           n_estimators=40, n_jobs=-1, oob_score=False, random_state=0,\n",
       "           verbose=0, warm_start=False)"
      ]
     },
     "execution_count": 3,
     "metadata": {},
     "output_type": "execute_result"
    }
   ],
   "source": [
    "folder = \"models\"\n",
    "path_to_load = f\"../../src/{folder}/1.1 - df_train 01-18to12-18\"\n",
    "model_file = os.path.join(path_to_load, \"1.1.b.2.f(Model) - Model Optimization recall - class_weight (1, 18) - time sorted - valid score (0.403, 0.972).pickle\")\n",
    "\n",
    "with open(model_file, \"rb\") as file:\n",
    "    m = pickle.load(file)\n",
    "m"
   ]
  },
  {
   "cell_type": "markdown",
   "metadata": {},
   "source": [
    "## Loading columns"
   ]
  },
  {
   "cell_type": "code",
   "execution_count": 4,
   "metadata": {},
   "outputs": [
    {
     "name": "stdout",
     "output_type": "stream",
     "text": [
      "['cond_C10', 'TIPO_EXPED', 'preg_15', 'es_gte_5', 'preg_31', 'preg_33', 'cond_32', 'preg_32', 'cond_C11', 'cond_C12', 'cond_C2', 'METRO', 'SEXO_TERC', 'OCUPACION_ASEG', 'FALTANTE', 'preg_34', 'cond_C5']\n"
     ]
    }
   ],
   "source": [
    "folder = \"features\"\n",
    "path_to_load = f\"../../src/{folder}/1.1 - df_train 01-18to12-18\"\n",
    "columns_file = os.path.join(path_to_load, \"1.1.b.2.f (COLUMNS) - features: 17.pickle\")\n",
    "\n",
    "with open(columns_file, \"rb\") as file:\n",
    "    columns = pickle.load(file)\n",
    "print(columns)"
   ]
  },
  {
   "cell_type": "code",
   "execution_count": 5,
   "metadata": {},
   "outputs": [],
   "source": [
    "model_file = \"../../src/features/1.1 - df_train 01-18to12-18/1.1 - dict categorical mappers.pickle\"\n",
    "\n",
    "with open(model_file, \"rb\") as f:\n",
    "    mapper = pickle.load(f)"
   ]
  },
  {
   "cell_type": "markdown",
   "metadata": {},
   "source": [
    "## Loading raw dataset"
   ]
  },
  {
   "cell_type": "code",
   "execution_count": 6,
   "metadata": {},
   "outputs": [],
   "source": [
    "path = \"../../data/interim/5. merged/merged_Condiciones_side + merged_DSS_SINIESTROS_AUTOS_side.feather\"\n",
    "\n",
    "if not os.path.isfile(path):\n",
    "    raise Exception(f\"file not founded: {path}\")"
   ]
  },
  {
   "cell_type": "code",
   "execution_count": 7,
   "metadata": {},
   "outputs": [
    {
     "name": "stderr",
     "output_type": "stream",
     "text": [
      "/home/voolkia/anaconda3/lib/python3.6/site-packages/pyarrow/pandas_compat.py:752: FutureWarning: .labels was deprecated in version 0.24.0. Use .codes instead.\n",
      "  labels, = index.labels\n"
     ]
    },
    {
     "name": "stdout",
     "output_type": "stream",
     "text": [
      "<class 'pandas.core.frame.DataFrame'>\n",
      "Int64Index: 34658 entries, 1149599 to 1228251\n",
      "Columns: 147 entries, NUM_SECU_EXPED to HABILITADO\n",
      "dtypes: bool(1), datetime64[ns](8), float64(63), int64(1), object(74)\n",
      "memory usage: 38.9+ MB\n"
     ]
    }
   ],
   "source": [
    "df_pred = pd.read_feather(path)\n",
    "df_pred = df_pred[(df_pred[\"FECHA_SINI\"] >= \"2019/04/01\") & (df_pred[\"FECHA_SINI\"] < \"2019/05/01\")]\n",
    "df_pred.info()"
   ]
  },
  {
   "cell_type": "code",
   "execution_count": 8,
   "metadata": {},
   "outputs": [],
   "source": [
    "# df_pred.iloc[:50].to_csv(\"test_example.csv\")"
   ]
  },
  {
   "cell_type": "markdown",
   "metadata": {},
   "source": [
    "## Applying transformations"
   ]
  },
  {
   "cell_type": "code",
   "execution_count": 9,
   "metadata": {},
   "outputs": [
    {
     "data": {
      "text/html": [
       "<div>\n",
       "<style scoped>\n",
       "    .dataframe tbody tr th:only-of-type {\n",
       "        vertical-align: middle;\n",
       "    }\n",
       "\n",
       "    .dataframe tbody tr th {\n",
       "        vertical-align: top;\n",
       "    }\n",
       "\n",
       "    .dataframe thead th {\n",
       "        text-align: right;\n",
       "    }\n",
       "</style>\n",
       "<table border=\"1\" class=\"dataframe\">\n",
       "  <thead>\n",
       "    <tr style=\"text-align: right;\">\n",
       "      <th></th>\n",
       "      <th>cond_C10</th>\n",
       "      <th>TIPO_EXPED</th>\n",
       "      <th>preg_15</th>\n",
       "      <th>es_gte_5</th>\n",
       "      <th>preg_31</th>\n",
       "      <th>preg_33</th>\n",
       "      <th>cond_32</th>\n",
       "      <th>preg_32</th>\n",
       "      <th>cond_C11</th>\n",
       "      <th>cond_C12</th>\n",
       "      <th>cond_C2</th>\n",
       "      <th>METRO</th>\n",
       "      <th>SEXO_TERC</th>\n",
       "      <th>OCUPACION_ASEG</th>\n",
       "      <th>FALTANTE</th>\n",
       "      <th>preg_34</th>\n",
       "      <th>cond_C5</th>\n",
       "    </tr>\n",
       "  </thead>\n",
       "  <tbody>\n",
       "    <tr>\n",
       "      <th>1149599</th>\n",
       "      <td>NaN</td>\n",
       "      <td>010</td>\n",
       "      <td>None</td>\n",
       "      <td>False</td>\n",
       "      <td>None</td>\n",
       "      <td>None</td>\n",
       "      <td>NaN</td>\n",
       "      <td>None</td>\n",
       "      <td>NaN</td>\n",
       "      <td>NaN</td>\n",
       "      <td>NaN</td>\n",
       "      <td>S</td>\n",
       "      <td>None</td>\n",
       "      <td>44.0</td>\n",
       "      <td>S</td>\n",
       "      <td>None</td>\n",
       "      <td>NaN</td>\n",
       "    </tr>\n",
       "    <tr>\n",
       "      <th>1149600</th>\n",
       "      <td>NaN</td>\n",
       "      <td>010</td>\n",
       "      <td>None</td>\n",
       "      <td>False</td>\n",
       "      <td>None</td>\n",
       "      <td>None</td>\n",
       "      <td>NaN</td>\n",
       "      <td>None</td>\n",
       "      <td>NaN</td>\n",
       "      <td>NaN</td>\n",
       "      <td>NaN</td>\n",
       "      <td>S</td>\n",
       "      <td>None</td>\n",
       "      <td>5.0</td>\n",
       "      <td>S</td>\n",
       "      <td>None</td>\n",
       "      <td>NaN</td>\n",
       "    </tr>\n",
       "    <tr>\n",
       "      <th>1149601</th>\n",
       "      <td>NaN</td>\n",
       "      <td>50</td>\n",
       "      <td>None</td>\n",
       "      <td>False</td>\n",
       "      <td>None</td>\n",
       "      <td>None</td>\n",
       "      <td>NaN</td>\n",
       "      <td>2</td>\n",
       "      <td>NaN</td>\n",
       "      <td>NaN</td>\n",
       "      <td>3.0</td>\n",
       "      <td>S</td>\n",
       "      <td>None</td>\n",
       "      <td>44.0</td>\n",
       "      <td>S</td>\n",
       "      <td>None</td>\n",
       "      <td>0.0</td>\n",
       "    </tr>\n",
       "    <tr>\n",
       "      <th>1149603</th>\n",
       "      <td>NaN</td>\n",
       "      <td>003</td>\n",
       "      <td>None</td>\n",
       "      <td>False</td>\n",
       "      <td>None</td>\n",
       "      <td>None</td>\n",
       "      <td>NaN</td>\n",
       "      <td>None</td>\n",
       "      <td>NaN</td>\n",
       "      <td>NaN</td>\n",
       "      <td>NaN</td>\n",
       "      <td>N</td>\n",
       "      <td>M</td>\n",
       "      <td>44.0</td>\n",
       "      <td>S</td>\n",
       "      <td>None</td>\n",
       "      <td>NaN</td>\n",
       "    </tr>\n",
       "    <tr>\n",
       "      <th>1149604</th>\n",
       "      <td>NaN</td>\n",
       "      <td>010</td>\n",
       "      <td>None</td>\n",
       "      <td>False</td>\n",
       "      <td>None</td>\n",
       "      <td>None</td>\n",
       "      <td>NaN</td>\n",
       "      <td>None</td>\n",
       "      <td>NaN</td>\n",
       "      <td>NaN</td>\n",
       "      <td>NaN</td>\n",
       "      <td>N</td>\n",
       "      <td>None</td>\n",
       "      <td>44.0</td>\n",
       "      <td>S</td>\n",
       "      <td>None</td>\n",
       "      <td>NaN</td>\n",
       "    </tr>\n",
       "  </tbody>\n",
       "</table>\n",
       "</div>"
      ],
      "text/plain": [
       "         cond_C10 TIPO_EXPED preg_15  es_gte_5 preg_31 preg_33  cond_32  \\\n",
       "1149599       NaN        010    None     False    None    None      NaN   \n",
       "1149600       NaN        010    None     False    None    None      NaN   \n",
       "1149601       NaN         50    None     False    None    None      NaN   \n",
       "1149603       NaN        003    None     False    None    None      NaN   \n",
       "1149604       NaN        010    None     False    None    None      NaN   \n",
       "\n",
       "        preg_32  cond_C11  cond_C12  cond_C2 METRO SEXO_TERC  OCUPACION_ASEG  \\\n",
       "1149599    None       NaN       NaN      NaN     S      None            44.0   \n",
       "1149600    None       NaN       NaN      NaN     S      None             5.0   \n",
       "1149601       2       NaN       NaN      3.0     S      None            44.0   \n",
       "1149603    None       NaN       NaN      NaN     N         M            44.0   \n",
       "1149604    None       NaN       NaN      NaN     N      None            44.0   \n",
       "\n",
       "        FALTANTE preg_34  cond_C5  \n",
       "1149599        S    None      NaN  \n",
       "1149600        S    None      NaN  \n",
       "1149601        S    None      0.0  \n",
       "1149603        S    None      NaN  \n",
       "1149604        S    None      NaN  "
      ]
     },
     "execution_count": 9,
     "metadata": {},
     "output_type": "execute_result"
    }
   ],
   "source": [
    "# reduce columns\n",
    "target = \"EXISTE_FRAUDE\"\n",
    "X_pred = df_pred[columns].copy()\n",
    "# not necessary in the pipe\n",
    "y_pred = df_pred[target] == True  # fixing values for target\n",
    "X_pred.head()"
   ]
  },
  {
   "cell_type": "code",
   "execution_count": 10,
   "metadata": {},
   "outputs": [
    {
     "data": {
      "text/plain": [
       "False    34562\n",
       "True        96\n",
       "Name: EXISTE_FRAUDE, dtype: int64"
      ]
     },
     "execution_count": 10,
     "metadata": {},
     "output_type": "execute_result"
    }
   ],
   "source": [
    "y_pred.value_counts()"
   ]
  },
  {
   "cell_type": "code",
   "execution_count": 11,
   "metadata": {},
   "outputs": [
    {
     "data": {
      "text/plain": [
       "False    0.99723\n",
       "True     0.00277\n",
       "Name: EXISTE_FRAUDE, dtype: float64"
      ]
     },
     "execution_count": 11,
     "metadata": {},
     "output_type": "execute_result"
    }
   ],
   "source": [
    "y_pred.value_counts(normalize=True)"
   ]
  },
  {
   "cell_type": "code",
   "execution_count": 12,
   "metadata": {},
   "outputs": [],
   "source": [
    "# normalizing TIPO_EXPED \n",
    "X_pred[\"TIPO_EXPED\"] = X_pred[\"TIPO_EXPED\"].astype(\"str\").str.zfill(3)"
   ]
  },
  {
   "cell_type": "code",
   "execution_count": 13,
   "metadata": {},
   "outputs": [],
   "source": [
    "# replace None by np.nan\n",
    "X_pred.fillna(np.nan, inplace=True)"
   ]
  },
  {
   "cell_type": "code",
   "execution_count": 14,
   "metadata": {},
   "outputs": [
    {
     "data": {
      "text/html": [
       "<div>\n",
       "<style scoped>\n",
       "    .dataframe tbody tr th:only-of-type {\n",
       "        vertical-align: middle;\n",
       "    }\n",
       "\n",
       "    .dataframe tbody tr th {\n",
       "        vertical-align: top;\n",
       "    }\n",
       "\n",
       "    .dataframe thead th {\n",
       "        text-align: right;\n",
       "    }\n",
       "</style>\n",
       "<table border=\"1\" class=\"dataframe\">\n",
       "  <thead>\n",
       "    <tr style=\"text-align: right;\">\n",
       "      <th></th>\n",
       "      <th>cond_C10</th>\n",
       "      <th>TIPO_EXPED</th>\n",
       "      <th>preg_15</th>\n",
       "      <th>es_gte_5</th>\n",
       "      <th>preg_31</th>\n",
       "      <th>preg_33</th>\n",
       "      <th>cond_32</th>\n",
       "      <th>preg_32</th>\n",
       "      <th>cond_C11</th>\n",
       "      <th>cond_C12</th>\n",
       "      <th>cond_C2</th>\n",
       "      <th>METRO</th>\n",
       "      <th>SEXO_TERC</th>\n",
       "      <th>OCUPACION_ASEG</th>\n",
       "      <th>FALTANTE</th>\n",
       "      <th>preg_34</th>\n",
       "      <th>cond_C5</th>\n",
       "    </tr>\n",
       "  </thead>\n",
       "  <tbody>\n",
       "    <tr>\n",
       "      <th>1149599</th>\n",
       "      <td>NaN</td>\n",
       "      <td>010</td>\n",
       "      <td>NaN</td>\n",
       "      <td>False</td>\n",
       "      <td>NaN</td>\n",
       "      <td>NaN</td>\n",
       "      <td>NaN</td>\n",
       "      <td>NaN</td>\n",
       "      <td>NaN</td>\n",
       "      <td>NaN</td>\n",
       "      <td>NaN</td>\n",
       "      <td>S</td>\n",
       "      <td>NaN</td>\n",
       "      <td>44.0</td>\n",
       "      <td>S</td>\n",
       "      <td>NaN</td>\n",
       "      <td>NaN</td>\n",
       "    </tr>\n",
       "    <tr>\n",
       "      <th>1149600</th>\n",
       "      <td>NaN</td>\n",
       "      <td>010</td>\n",
       "      <td>NaN</td>\n",
       "      <td>False</td>\n",
       "      <td>NaN</td>\n",
       "      <td>NaN</td>\n",
       "      <td>NaN</td>\n",
       "      <td>NaN</td>\n",
       "      <td>NaN</td>\n",
       "      <td>NaN</td>\n",
       "      <td>NaN</td>\n",
       "      <td>S</td>\n",
       "      <td>NaN</td>\n",
       "      <td>5.0</td>\n",
       "      <td>S</td>\n",
       "      <td>NaN</td>\n",
       "      <td>NaN</td>\n",
       "    </tr>\n",
       "    <tr>\n",
       "      <th>1149601</th>\n",
       "      <td>NaN</td>\n",
       "      <td>050</td>\n",
       "      <td>NaN</td>\n",
       "      <td>False</td>\n",
       "      <td>NaN</td>\n",
       "      <td>NaN</td>\n",
       "      <td>NaN</td>\n",
       "      <td>2</td>\n",
       "      <td>NaN</td>\n",
       "      <td>NaN</td>\n",
       "      <td>3.0</td>\n",
       "      <td>S</td>\n",
       "      <td>NaN</td>\n",
       "      <td>44.0</td>\n",
       "      <td>S</td>\n",
       "      <td>NaN</td>\n",
       "      <td>0.0</td>\n",
       "    </tr>\n",
       "    <tr>\n",
       "      <th>1149603</th>\n",
       "      <td>NaN</td>\n",
       "      <td>003</td>\n",
       "      <td>NaN</td>\n",
       "      <td>False</td>\n",
       "      <td>NaN</td>\n",
       "      <td>NaN</td>\n",
       "      <td>NaN</td>\n",
       "      <td>NaN</td>\n",
       "      <td>NaN</td>\n",
       "      <td>NaN</td>\n",
       "      <td>NaN</td>\n",
       "      <td>N</td>\n",
       "      <td>M</td>\n",
       "      <td>44.0</td>\n",
       "      <td>S</td>\n",
       "      <td>NaN</td>\n",
       "      <td>NaN</td>\n",
       "    </tr>\n",
       "    <tr>\n",
       "      <th>1149604</th>\n",
       "      <td>NaN</td>\n",
       "      <td>010</td>\n",
       "      <td>NaN</td>\n",
       "      <td>False</td>\n",
       "      <td>NaN</td>\n",
       "      <td>NaN</td>\n",
       "      <td>NaN</td>\n",
       "      <td>NaN</td>\n",
       "      <td>NaN</td>\n",
       "      <td>NaN</td>\n",
       "      <td>NaN</td>\n",
       "      <td>N</td>\n",
       "      <td>NaN</td>\n",
       "      <td>44.0</td>\n",
       "      <td>S</td>\n",
       "      <td>NaN</td>\n",
       "      <td>NaN</td>\n",
       "    </tr>\n",
       "  </tbody>\n",
       "</table>\n",
       "</div>"
      ],
      "text/plain": [
       "         cond_C10 TIPO_EXPED preg_15  es_gte_5 preg_31 preg_33  cond_32  \\\n",
       "1149599       NaN        010     NaN     False     NaN     NaN      NaN   \n",
       "1149600       NaN        010     NaN     False     NaN     NaN      NaN   \n",
       "1149601       NaN        050     NaN     False     NaN     NaN      NaN   \n",
       "1149603       NaN        003     NaN     False     NaN     NaN      NaN   \n",
       "1149604       NaN        010     NaN     False     NaN     NaN      NaN   \n",
       "\n",
       "        preg_32  cond_C11  cond_C12  cond_C2 METRO SEXO_TERC  OCUPACION_ASEG  \\\n",
       "1149599     NaN       NaN       NaN      NaN     S       NaN            44.0   \n",
       "1149600     NaN       NaN       NaN      NaN     S       NaN             5.0   \n",
       "1149601       2       NaN       NaN      3.0     S       NaN            44.0   \n",
       "1149603     NaN       NaN       NaN      NaN     N         M            44.0   \n",
       "1149604     NaN       NaN       NaN      NaN     N       NaN            44.0   \n",
       "\n",
       "        FALTANTE preg_34  cond_C5  \n",
       "1149599        S     NaN      NaN  \n",
       "1149600        S     NaN      NaN  \n",
       "1149601        S     NaN      0.0  \n",
       "1149603        S     NaN      NaN  \n",
       "1149604        S     NaN      NaN  "
      ]
     },
     "execution_count": 14,
     "metadata": {},
     "output_type": "execute_result"
    }
   ],
   "source": [
    "X_pred.head()"
   ]
  },
  {
   "cell_type": "code",
   "execution_count": 15,
   "metadata": {},
   "outputs": [
    {
     "name": "stdout",
     "output_type": "stream",
     "text": [
      "preg_33 [nan]\n",
      "SEXO_TERC [nan]\n",
      "preg_34 [nan]\n",
      "preg_15 [nan]\n",
      "METRO [nan]\n",
      "preg_32 [nan]\n",
      "preg_31 [nan]\n"
     ]
    }
   ],
   "source": [
    "cols_used = list(set(columns) - set(target))\n",
    "cat_cols = list(set(mapper.keys()).intersection(cols_used))\n",
    "for col in cat_cols:\n",
    "    unique_values = X_pred.loc[:, col].unique()\n",
    "    keys = mapper[col].keys()\n",
    "    new_vals = list(set(unique_values) - keys)\n",
    "    if(new_vals):\n",
    "        # replace new values by np.nan\n",
    "        print(col, new_vals)\n",
    "        X_pred.replace(new_vals, np.nan, inplace=True)\n",
    "    X_pred.loc[:,col] = X_pred.loc[:,col].replace(mapper[col])\n",
    "X_pred.fillna(-1, inplace=True)"
   ]
  },
  {
   "cell_type": "code",
   "execution_count": 16,
   "metadata": {},
   "outputs": [
    {
     "data": {
      "text/html": [
       "<div>\n",
       "<style scoped>\n",
       "    .dataframe tbody tr th:only-of-type {\n",
       "        vertical-align: middle;\n",
       "    }\n",
       "\n",
       "    .dataframe tbody tr th {\n",
       "        vertical-align: top;\n",
       "    }\n",
       "\n",
       "    .dataframe thead th {\n",
       "        text-align: right;\n",
       "    }\n",
       "</style>\n",
       "<table border=\"1\" class=\"dataframe\">\n",
       "  <thead>\n",
       "    <tr style=\"text-align: right;\">\n",
       "      <th></th>\n",
       "      <th>cond_C10</th>\n",
       "      <th>TIPO_EXPED</th>\n",
       "      <th>preg_15</th>\n",
       "      <th>es_gte_5</th>\n",
       "      <th>preg_31</th>\n",
       "      <th>preg_33</th>\n",
       "      <th>cond_32</th>\n",
       "      <th>preg_32</th>\n",
       "      <th>cond_C11</th>\n",
       "      <th>cond_C12</th>\n",
       "      <th>cond_C2</th>\n",
       "      <th>METRO</th>\n",
       "      <th>SEXO_TERC</th>\n",
       "      <th>OCUPACION_ASEG</th>\n",
       "      <th>FALTANTE</th>\n",
       "      <th>preg_34</th>\n",
       "      <th>cond_C5</th>\n",
       "    </tr>\n",
       "  </thead>\n",
       "  <tbody>\n",
       "    <tr>\n",
       "      <th>1149599</th>\n",
       "      <td>-1.0</td>\n",
       "      <td>3</td>\n",
       "      <td>-1</td>\n",
       "      <td>False</td>\n",
       "      <td>-1</td>\n",
       "      <td>-1</td>\n",
       "      <td>-1.0</td>\n",
       "      <td>-1</td>\n",
       "      <td>-1.0</td>\n",
       "      <td>-1.0</td>\n",
       "      <td>-1.0</td>\n",
       "      <td>1</td>\n",
       "      <td>-1</td>\n",
       "      <td>44.0</td>\n",
       "      <td>1</td>\n",
       "      <td>-1</td>\n",
       "      <td>-1.0</td>\n",
       "    </tr>\n",
       "    <tr>\n",
       "      <th>1149600</th>\n",
       "      <td>-1.0</td>\n",
       "      <td>3</td>\n",
       "      <td>-1</td>\n",
       "      <td>False</td>\n",
       "      <td>-1</td>\n",
       "      <td>-1</td>\n",
       "      <td>-1.0</td>\n",
       "      <td>-1</td>\n",
       "      <td>-1.0</td>\n",
       "      <td>-1.0</td>\n",
       "      <td>-1.0</td>\n",
       "      <td>1</td>\n",
       "      <td>-1</td>\n",
       "      <td>5.0</td>\n",
       "      <td>1</td>\n",
       "      <td>-1</td>\n",
       "      <td>-1.0</td>\n",
       "    </tr>\n",
       "    <tr>\n",
       "      <th>1149601</th>\n",
       "      <td>-1.0</td>\n",
       "      <td>5</td>\n",
       "      <td>-1</td>\n",
       "      <td>False</td>\n",
       "      <td>-1</td>\n",
       "      <td>-1</td>\n",
       "      <td>-1.0</td>\n",
       "      <td>1</td>\n",
       "      <td>-1.0</td>\n",
       "      <td>-1.0</td>\n",
       "      <td>3.0</td>\n",
       "      <td>1</td>\n",
       "      <td>-1</td>\n",
       "      <td>44.0</td>\n",
       "      <td>1</td>\n",
       "      <td>-1</td>\n",
       "      <td>0.0</td>\n",
       "    </tr>\n",
       "    <tr>\n",
       "      <th>1149603</th>\n",
       "      <td>-1.0</td>\n",
       "      <td>2</td>\n",
       "      <td>-1</td>\n",
       "      <td>False</td>\n",
       "      <td>-1</td>\n",
       "      <td>-1</td>\n",
       "      <td>-1.0</td>\n",
       "      <td>-1</td>\n",
       "      <td>-1.0</td>\n",
       "      <td>-1.0</td>\n",
       "      <td>-1.0</td>\n",
       "      <td>0</td>\n",
       "      <td>1</td>\n",
       "      <td>44.0</td>\n",
       "      <td>1</td>\n",
       "      <td>-1</td>\n",
       "      <td>-1.0</td>\n",
       "    </tr>\n",
       "    <tr>\n",
       "      <th>1149604</th>\n",
       "      <td>-1.0</td>\n",
       "      <td>3</td>\n",
       "      <td>-1</td>\n",
       "      <td>False</td>\n",
       "      <td>-1</td>\n",
       "      <td>-1</td>\n",
       "      <td>-1.0</td>\n",
       "      <td>-1</td>\n",
       "      <td>-1.0</td>\n",
       "      <td>-1.0</td>\n",
       "      <td>-1.0</td>\n",
       "      <td>0</td>\n",
       "      <td>-1</td>\n",
       "      <td>44.0</td>\n",
       "      <td>1</td>\n",
       "      <td>-1</td>\n",
       "      <td>-1.0</td>\n",
       "    </tr>\n",
       "  </tbody>\n",
       "</table>\n",
       "</div>"
      ],
      "text/plain": [
       "         cond_C10  TIPO_EXPED  preg_15  es_gte_5  preg_31  preg_33  cond_32  \\\n",
       "1149599      -1.0           3       -1     False       -1       -1     -1.0   \n",
       "1149600      -1.0           3       -1     False       -1       -1     -1.0   \n",
       "1149601      -1.0           5       -1     False       -1       -1     -1.0   \n",
       "1149603      -1.0           2       -1     False       -1       -1     -1.0   \n",
       "1149604      -1.0           3       -1     False       -1       -1     -1.0   \n",
       "\n",
       "         preg_32  cond_C11  cond_C12  cond_C2  METRO  SEXO_TERC  \\\n",
       "1149599       -1      -1.0      -1.0     -1.0      1         -1   \n",
       "1149600       -1      -1.0      -1.0     -1.0      1         -1   \n",
       "1149601        1      -1.0      -1.0      3.0      1         -1   \n",
       "1149603       -1      -1.0      -1.0     -1.0      0          1   \n",
       "1149604       -1      -1.0      -1.0     -1.0      0         -1   \n",
       "\n",
       "         OCUPACION_ASEG  FALTANTE  preg_34  cond_C5  \n",
       "1149599            44.0         1       -1     -1.0  \n",
       "1149600             5.0         1       -1     -1.0  \n",
       "1149601            44.0         1       -1      0.0  \n",
       "1149603            44.0         1       -1     -1.0  \n",
       "1149604            44.0         1       -1     -1.0  "
      ]
     },
     "execution_count": 16,
     "metadata": {},
     "output_type": "execute_result"
    }
   ],
   "source": [
    "X_pred.head()"
   ]
  },
  {
   "cell_type": "markdown",
   "metadata": {},
   "source": [
    "### predict all examples"
   ]
  },
  {
   "cell_type": "code",
   "execution_count": 17,
   "metadata": {},
   "outputs": [
    {
     "data": {
      "text/plain": [
       "array([0.00421323, 0.00490136, 0.43368405, ..., 0.0040771 , 0.06984446,\n",
       "       0.05567552])"
      ]
     },
     "execution_count": 17,
     "metadata": {},
     "output_type": "execute_result"
    }
   ],
   "source": [
    "y_model_pred_prob = m.predict_proba(X_pred)[:, -1]\n",
    "y_model_pred_prob"
   ]
  },
  {
   "cell_type": "code",
   "execution_count": 18,
   "metadata": {},
   "outputs": [
    {
     "data": {
      "text/plain": [
       "array([[34352,   210],\n",
       "       [   30,    66]])"
      ]
     },
     "execution_count": 18,
     "metadata": {},
     "output_type": "execute_result"
    }
   ],
   "source": [
    "confusion_matrix(y_pred, y_model_pred_prob > 0.5)"
   ]
  },
  {
   "cell_type": "code",
   "execution_count": 19,
   "metadata": {},
   "outputs": [
    {
     "data": {
      "text/plain": [
       "array([0.00421323, 0.00490136, 0.43368405, 0.00678954, 0.00572236])"
      ]
     },
     "execution_count": 19,
     "metadata": {},
     "output_type": "execute_result"
    }
   ],
   "source": [
    "y_model_pred_prob[:5]"
   ]
  },
  {
   "cell_type": "markdown",
   "metadata": {},
   "source": [
    "### Saving predictions to analysis"
   ]
  },
  {
   "cell_type": "code",
   "execution_count": 20,
   "metadata": {},
   "outputs": [],
   "source": [
    "df_pred[\"pred\"] = y_model_pred_prob"
   ]
  },
  {
   "cell_type": "code",
   "execution_count": 21,
   "metadata": {},
   "outputs": [],
   "source": [
    "# df_pred.to_csv(\"val_with_pred_feb_march.csv\")"
   ]
  },
  {
   "cell_type": "markdown",
   "metadata": {},
   "source": [
    "# Analysing model results"
   ]
  },
  {
   "cell_type": "code",
   "execution_count": 22,
   "metadata": {},
   "outputs": [],
   "source": [
    "# normalizing TIPO_EXPED \n",
    "df_pred[\"TIPO_EXPED\"] = df_pred[\"TIPO_EXPED\"].astype(\"str\").str.zfill(3)"
   ]
  },
  {
   "cell_type": "code",
   "execution_count": 25,
   "metadata": {},
   "outputs": [],
   "source": [
    "df_pred[\"pred_bin\"] = pd.cut(df_pred[\"pred\"], [x/100 for x in range(0,110,10)])"
   ]
  },
  {
   "cell_type": "code",
   "execution_count": 27,
   "metadata": {},
   "outputs": [
    {
     "data": {
      "text/html": [
       "<div>\n",
       "<style scoped>\n",
       "    .dataframe tbody tr th:only-of-type {\n",
       "        vertical-align: middle;\n",
       "    }\n",
       "\n",
       "    .dataframe tbody tr th {\n",
       "        vertical-align: top;\n",
       "    }\n",
       "\n",
       "    .dataframe thead tr th {\n",
       "        text-align: left;\n",
       "    }\n",
       "\n",
       "    .dataframe thead tr:last-of-type th {\n",
       "        text-align: right;\n",
       "    }\n",
       "</style>\n",
       "<table border=\"1\" class=\"dataframe\">\n",
       "  <thead>\n",
       "    <tr>\n",
       "      <th>TIPO_EXPED</th>\n",
       "      <th>001</th>\n",
       "      <th>002</th>\n",
       "      <th>003</th>\n",
       "      <th colspan=\"2\" halign=\"left\">010</th>\n",
       "      <th>020</th>\n",
       "      <th colspan=\"2\" halign=\"left\">050</th>\n",
       "      <th colspan=\"2\" halign=\"left\">060</th>\n",
       "    </tr>\n",
       "    <tr>\n",
       "      <th>EXISTE_FRAUDE</th>\n",
       "      <th>False</th>\n",
       "      <th>False</th>\n",
       "      <th>False</th>\n",
       "      <th>False</th>\n",
       "      <th>True</th>\n",
       "      <th>False</th>\n",
       "      <th>False</th>\n",
       "      <th>True</th>\n",
       "      <th>False</th>\n",
       "      <th>True</th>\n",
       "    </tr>\n",
       "    <tr>\n",
       "      <th>pred</th>\n",
       "      <th></th>\n",
       "      <th></th>\n",
       "      <th></th>\n",
       "      <th></th>\n",
       "      <th></th>\n",
       "      <th></th>\n",
       "      <th></th>\n",
       "      <th></th>\n",
       "      <th></th>\n",
       "      <th></th>\n",
       "    </tr>\n",
       "  </thead>\n",
       "  <tbody>\n",
       "    <tr>\n",
       "      <th>False</th>\n",
       "      <td>3</td>\n",
       "      <td>17</td>\n",
       "      <td>6</td>\n",
       "      <td>8</td>\n",
       "      <td>1</td>\n",
       "      <td>6</td>\n",
       "      <td>130</td>\n",
       "      <td>10</td>\n",
       "      <td>46</td>\n",
       "      <td>19</td>\n",
       "    </tr>\n",
       "    <tr>\n",
       "      <th>True</th>\n",
       "      <td>0</td>\n",
       "      <td>0</td>\n",
       "      <td>0</td>\n",
       "      <td>0</td>\n",
       "      <td>0</td>\n",
       "      <td>0</td>\n",
       "      <td>8</td>\n",
       "      <td>0</td>\n",
       "      <td>104</td>\n",
       "      <td>66</td>\n",
       "    </tr>\n",
       "  </tbody>\n",
       "</table>\n",
       "</div>"
      ],
      "text/plain": [
       "TIPO_EXPED      001   002   003   010         020   050         060      \n",
       "EXISTE_FRAUDE False False False False True  False False True  False True \n",
       "pred                                                                     \n",
       "False             3    17     6     8     1     6   130    10    46    19\n",
       "True              0     0     0     0     0     0     8     0   104    66"
      ]
     },
     "execution_count": 27,
     "metadata": {},
     "output_type": "execute_result"
    }
   ],
   "source": [
    "# pd.crosstab(df_pred[\"pred_bin\"], [df_pred[\"TIPO_EXPED\"], df_pred[\"EXISTE_FRAUDE\"]])\n",
    "pd.crosstab(df_pred[\"pred\"]> 0.5, [df_pred[\"TIPO_EXPED\"], df_pred[\"EXISTE_FRAUDE\"]])"
   ]
  },
  {
   "cell_type": "code",
   "execution_count": 28,
   "metadata": {},
   "outputs": [
    {
     "data": {
      "text/html": [
       "<div>\n",
       "<style scoped>\n",
       "    .dataframe tbody tr th:only-of-type {\n",
       "        vertical-align: middle;\n",
       "    }\n",
       "\n",
       "    .dataframe tbody tr th {\n",
       "        vertical-align: top;\n",
       "    }\n",
       "\n",
       "    .dataframe thead tr th {\n",
       "        text-align: left;\n",
       "    }\n",
       "\n",
       "    .dataframe thead tr:last-of-type th {\n",
       "        text-align: right;\n",
       "    }\n",
       "</style>\n",
       "<table border=\"1\" class=\"dataframe\">\n",
       "  <thead>\n",
       "    <tr>\n",
       "      <th>TIPO_EXPED</th>\n",
       "      <th>001</th>\n",
       "      <th>002</th>\n",
       "      <th>003</th>\n",
       "      <th colspan=\"2\" halign=\"left\">010</th>\n",
       "      <th>020</th>\n",
       "      <th colspan=\"2\" halign=\"left\">050</th>\n",
       "      <th colspan=\"2\" halign=\"left\">060</th>\n",
       "    </tr>\n",
       "    <tr>\n",
       "      <th>EXISTE_FRAUDE</th>\n",
       "      <th>False</th>\n",
       "      <th>False</th>\n",
       "      <th>False</th>\n",
       "      <th>False</th>\n",
       "      <th>True</th>\n",
       "      <th>False</th>\n",
       "      <th>False</th>\n",
       "      <th>True</th>\n",
       "      <th>False</th>\n",
       "      <th>True</th>\n",
       "    </tr>\n",
       "    <tr>\n",
       "      <th>es_gte_5</th>\n",
       "      <th></th>\n",
       "      <th></th>\n",
       "      <th></th>\n",
       "      <th></th>\n",
       "      <th></th>\n",
       "      <th></th>\n",
       "      <th></th>\n",
       "      <th></th>\n",
       "      <th></th>\n",
       "      <th></th>\n",
       "    </tr>\n",
       "  </thead>\n",
       "  <tbody>\n",
       "    <tr>\n",
       "      <th>False</th>\n",
       "      <td>3</td>\n",
       "      <td>17</td>\n",
       "      <td>6</td>\n",
       "      <td>8</td>\n",
       "      <td>1</td>\n",
       "      <td>6</td>\n",
       "      <td>46</td>\n",
       "      <td>5</td>\n",
       "      <td>47</td>\n",
       "      <td>22</td>\n",
       "    </tr>\n",
       "    <tr>\n",
       "      <th>True</th>\n",
       "      <td>0</td>\n",
       "      <td>0</td>\n",
       "      <td>0</td>\n",
       "      <td>0</td>\n",
       "      <td>0</td>\n",
       "      <td>0</td>\n",
       "      <td>92</td>\n",
       "      <td>5</td>\n",
       "      <td>103</td>\n",
       "      <td>63</td>\n",
       "    </tr>\n",
       "  </tbody>\n",
       "</table>\n",
       "</div>"
      ],
      "text/plain": [
       "TIPO_EXPED      001   002   003   010         020   050         060      \n",
       "EXISTE_FRAUDE False False False False True  False False True  False True \n",
       "es_gte_5                                                                 \n",
       "False             3    17     6     8     1     6    46     5    47    22\n",
       "True              0     0     0     0     0     0    92     5   103    63"
      ]
     },
     "execution_count": 28,
     "metadata": {},
     "output_type": "execute_result"
    }
   ],
   "source": [
    "# tronador\n",
    "pd.crosstab(df_pred[\"es_gte_5\"], [df_pred[\"TIPO_EXPED\"], df_pred[\"EXISTE_FRAUDE\"]])"
   ]
  },
  {
   "cell_type": "markdown",
   "metadata": {},
   "source": [
    "### predict 1 row example"
   ]
  },
  {
   "cell_type": "code",
   "execution_count": 70,
   "metadata": {},
   "outputs": [
    {
     "data": {
      "text/html": [
       "<div>\n",
       "<style scoped>\n",
       "    .dataframe tbody tr th:only-of-type {\n",
       "        vertical-align: middle;\n",
       "    }\n",
       "\n",
       "    .dataframe tbody tr th {\n",
       "        vertical-align: top;\n",
       "    }\n",
       "\n",
       "    .dataframe thead th {\n",
       "        text-align: right;\n",
       "    }\n",
       "</style>\n",
       "<table border=\"1\" class=\"dataframe\">\n",
       "  <thead>\n",
       "    <tr style=\"text-align: right;\">\n",
       "      <th></th>\n",
       "      <th>cond_C10</th>\n",
       "      <th>TIPO_EXPED</th>\n",
       "      <th>preg_15</th>\n",
       "      <th>es_gte_5</th>\n",
       "      <th>preg_31</th>\n",
       "      <th>preg_33</th>\n",
       "      <th>cond_32</th>\n",
       "      <th>preg_32</th>\n",
       "      <th>cond_C11</th>\n",
       "      <th>cond_C12</th>\n",
       "      <th>cond_C2</th>\n",
       "      <th>METRO</th>\n",
       "      <th>SEXO_TERC</th>\n",
       "      <th>OCUPACION_ASEG</th>\n",
       "      <th>FALTANTE</th>\n",
       "      <th>preg_34</th>\n",
       "      <th>cond_C5</th>\n",
       "    </tr>\n",
       "  </thead>\n",
       "  <tbody>\n",
       "    <tr>\n",
       "      <th>1149600</th>\n",
       "      <td>-1.0</td>\n",
       "      <td>3</td>\n",
       "      <td>-1</td>\n",
       "      <td>False</td>\n",
       "      <td>-1</td>\n",
       "      <td>-1</td>\n",
       "      <td>-1.0</td>\n",
       "      <td>-1</td>\n",
       "      <td>-1.0</td>\n",
       "      <td>-1.0</td>\n",
       "      <td>-1.0</td>\n",
       "      <td>1</td>\n",
       "      <td>-1</td>\n",
       "      <td>5.0</td>\n",
       "      <td>1</td>\n",
       "      <td>-1</td>\n",
       "      <td>-1.0</td>\n",
       "    </tr>\n",
       "  </tbody>\n",
       "</table>\n",
       "</div>"
      ],
      "text/plain": [
       "         cond_C10  TIPO_EXPED  preg_15  es_gte_5  preg_31  preg_33  cond_32  \\\n",
       "1149600      -1.0           3       -1     False       -1       -1     -1.0   \n",
       "\n",
       "         preg_32  cond_C11  cond_C12  cond_C2  METRO  SEXO_TERC  \\\n",
       "1149600       -1      -1.0      -1.0     -1.0      1         -1   \n",
       "\n",
       "         OCUPACION_ASEG  FALTANTE  preg_34  cond_C5  \n",
       "1149600             5.0         1       -1     -1.0  "
      ]
     },
     "execution_count": 70,
     "metadata": {},
     "output_type": "execute_result"
    }
   ],
   "source": [
    "case = X_pred.iloc[1:5,:].head(1)\n",
    "case"
   ]
  },
  {
   "cell_type": "code",
   "execution_count": 71,
   "metadata": {},
   "outputs": [
    {
     "data": {
      "text/plain": [
       "0.004901363432583442"
      ]
     },
     "execution_count": 71,
     "metadata": {},
     "output_type": "execute_result"
    }
   ],
   "source": [
    "y_example_pred = m.predict_proba(case)[0, 1]\n",
    "y_example_pred"
   ]
  },
  {
   "cell_type": "code",
   "execution_count": 72,
   "metadata": {},
   "outputs": [
    {
     "data": {
      "text/html": [
       "<div>\n",
       "<style scoped>\n",
       "    .dataframe tbody tr th:only-of-type {\n",
       "        vertical-align: middle;\n",
       "    }\n",
       "\n",
       "    .dataframe tbody tr th {\n",
       "        vertical-align: top;\n",
       "    }\n",
       "\n",
       "    .dataframe thead th {\n",
       "        text-align: right;\n",
       "    }\n",
       "</style>\n",
       "<table border=\"1\" class=\"dataframe\">\n",
       "  <thead>\n",
       "    <tr style=\"text-align: right;\">\n",
       "      <th></th>\n",
       "      <th>cond_C10</th>\n",
       "      <th>TIPO_EXPED</th>\n",
       "      <th>preg_15</th>\n",
       "      <th>es_gte_5</th>\n",
       "      <th>preg_31</th>\n",
       "      <th>preg_33</th>\n",
       "      <th>cond_32</th>\n",
       "      <th>preg_32</th>\n",
       "      <th>cond_C11</th>\n",
       "      <th>cond_C12</th>\n",
       "      <th>cond_C2</th>\n",
       "      <th>METRO</th>\n",
       "      <th>SEXO_TERC</th>\n",
       "      <th>OCUPACION_ASEG</th>\n",
       "      <th>FALTANTE</th>\n",
       "      <th>preg_34</th>\n",
       "      <th>cond_C5</th>\n",
       "    </tr>\n",
       "  </thead>\n",
       "  <tbody>\n",
       "    <tr>\n",
       "      <th>1149599</th>\n",
       "      <td>-1.0</td>\n",
       "      <td>3</td>\n",
       "      <td>-1</td>\n",
       "      <td>False</td>\n",
       "      <td>-1</td>\n",
       "      <td>-1</td>\n",
       "      <td>-1.0</td>\n",
       "      <td>-1</td>\n",
       "      <td>-1.0</td>\n",
       "      <td>-1.0</td>\n",
       "      <td>-1.0</td>\n",
       "      <td>1</td>\n",
       "      <td>-1</td>\n",
       "      <td>44.0</td>\n",
       "      <td>1</td>\n",
       "      <td>-1</td>\n",
       "      <td>-1.0</td>\n",
       "    </tr>\n",
       "    <tr>\n",
       "      <th>1149600</th>\n",
       "      <td>-1.0</td>\n",
       "      <td>3</td>\n",
       "      <td>-1</td>\n",
       "      <td>False</td>\n",
       "      <td>-1</td>\n",
       "      <td>-1</td>\n",
       "      <td>-1.0</td>\n",
       "      <td>-1</td>\n",
       "      <td>-1.0</td>\n",
       "      <td>-1.0</td>\n",
       "      <td>-1.0</td>\n",
       "      <td>1</td>\n",
       "      <td>-1</td>\n",
       "      <td>5.0</td>\n",
       "      <td>1</td>\n",
       "      <td>-1</td>\n",
       "      <td>-1.0</td>\n",
       "    </tr>\n",
       "    <tr>\n",
       "      <th>1149601</th>\n",
       "      <td>-1.0</td>\n",
       "      <td>5</td>\n",
       "      <td>-1</td>\n",
       "      <td>False</td>\n",
       "      <td>-1</td>\n",
       "      <td>-1</td>\n",
       "      <td>-1.0</td>\n",
       "      <td>1</td>\n",
       "      <td>-1.0</td>\n",
       "      <td>-1.0</td>\n",
       "      <td>3.0</td>\n",
       "      <td>1</td>\n",
       "      <td>-1</td>\n",
       "      <td>44.0</td>\n",
       "      <td>1</td>\n",
       "      <td>-1</td>\n",
       "      <td>0.0</td>\n",
       "    </tr>\n",
       "    <tr>\n",
       "      <th>1149603</th>\n",
       "      <td>-1.0</td>\n",
       "      <td>2</td>\n",
       "      <td>-1</td>\n",
       "      <td>False</td>\n",
       "      <td>-1</td>\n",
       "      <td>-1</td>\n",
       "      <td>-1.0</td>\n",
       "      <td>-1</td>\n",
       "      <td>-1.0</td>\n",
       "      <td>-1.0</td>\n",
       "      <td>-1.0</td>\n",
       "      <td>0</td>\n",
       "      <td>1</td>\n",
       "      <td>44.0</td>\n",
       "      <td>1</td>\n",
       "      <td>-1</td>\n",
       "      <td>-1.0</td>\n",
       "    </tr>\n",
       "    <tr>\n",
       "      <th>1149604</th>\n",
       "      <td>-1.0</td>\n",
       "      <td>3</td>\n",
       "      <td>-1</td>\n",
       "      <td>False</td>\n",
       "      <td>-1</td>\n",
       "      <td>-1</td>\n",
       "      <td>-1.0</td>\n",
       "      <td>-1</td>\n",
       "      <td>-1.0</td>\n",
       "      <td>-1.0</td>\n",
       "      <td>-1.0</td>\n",
       "      <td>0</td>\n",
       "      <td>-1</td>\n",
       "      <td>44.0</td>\n",
       "      <td>1</td>\n",
       "      <td>-1</td>\n",
       "      <td>-1.0</td>\n",
       "    </tr>\n",
       "  </tbody>\n",
       "</table>\n",
       "</div>"
      ],
      "text/plain": [
       "         cond_C10  TIPO_EXPED  preg_15  es_gte_5  preg_31  preg_33  cond_32  \\\n",
       "1149599      -1.0           3       -1     False       -1       -1     -1.0   \n",
       "1149600      -1.0           3       -1     False       -1       -1     -1.0   \n",
       "1149601      -1.0           5       -1     False       -1       -1     -1.0   \n",
       "1149603      -1.0           2       -1     False       -1       -1     -1.0   \n",
       "1149604      -1.0           3       -1     False       -1       -1     -1.0   \n",
       "\n",
       "         preg_32  cond_C11  cond_C12  cond_C2  METRO  SEXO_TERC  \\\n",
       "1149599       -1      -1.0      -1.0     -1.0      1         -1   \n",
       "1149600       -1      -1.0      -1.0     -1.0      1         -1   \n",
       "1149601        1      -1.0      -1.0      3.0      1         -1   \n",
       "1149603       -1      -1.0      -1.0     -1.0      0          1   \n",
       "1149604       -1      -1.0      -1.0     -1.0      0         -1   \n",
       "\n",
       "         OCUPACION_ASEG  FALTANTE  preg_34  cond_C5  \n",
       "1149599            44.0         1       -1     -1.0  \n",
       "1149600             5.0         1       -1     -1.0  \n",
       "1149601            44.0         1       -1      0.0  \n",
       "1149603            44.0         1       -1     -1.0  \n",
       "1149604            44.0         1       -1     -1.0  "
      ]
     },
     "execution_count": 72,
     "metadata": {},
     "output_type": "execute_result"
    }
   ],
   "source": [
    "X_pred[:5]"
   ]
  },
  {
   "cell_type": "code",
   "execution_count": null,
   "metadata": {},
   "outputs": [],
   "source": []
  },
  {
   "cell_type": "code",
   "execution_count": 43,
   "metadata": {},
   "outputs": [
    {
     "data": {
      "text/plain": [
       "{'None': 7,\n",
       " '003': 2,\n",
       " '060': 6,\n",
       " '010': 3,\n",
       " '020': 4,\n",
       " '002': 1,\n",
       " '050': 5,\n",
       " '001': 0}"
      ]
     },
     "execution_count": 43,
     "metadata": {},
     "output_type": "execute_result"
    }
   ],
   "source": [
    "mapper[\"TIPO_EXPED\"]"
   ]
  },
  {
   "cell_type": "code",
   "execution_count": 44,
   "metadata": {},
   "outputs": [
    {
     "data": {
      "text/html": [
       "<div>\n",
       "<style scoped>\n",
       "    .dataframe tbody tr th:only-of-type {\n",
       "        vertical-align: middle;\n",
       "    }\n",
       "\n",
       "    .dataframe tbody tr th {\n",
       "        vertical-align: top;\n",
       "    }\n",
       "\n",
       "    .dataframe thead th {\n",
       "        text-align: right;\n",
       "    }\n",
       "</style>\n",
       "<table border=\"1\" class=\"dataframe\">\n",
       "  <thead>\n",
       "    <tr style=\"text-align: right;\">\n",
       "      <th></th>\n",
       "      <th>cond_C10</th>\n",
       "      <th>TIPO_EXPED</th>\n",
       "      <th>preg_15</th>\n",
       "      <th>es_gte_5</th>\n",
       "      <th>preg_31</th>\n",
       "      <th>preg_33</th>\n",
       "      <th>cond_32</th>\n",
       "      <th>preg_32</th>\n",
       "      <th>cond_C11</th>\n",
       "      <th>cond_C12</th>\n",
       "      <th>cond_C2</th>\n",
       "      <th>METRO</th>\n",
       "      <th>SEXO_TERC</th>\n",
       "      <th>OCUPACION_ASEG</th>\n",
       "      <th>FALTANTE</th>\n",
       "      <th>preg_34</th>\n",
       "      <th>cond_C5</th>\n",
       "    </tr>\n",
       "  </thead>\n",
       "  <tbody>\n",
       "  </tbody>\n",
       "</table>\n",
       "</div>"
      ],
      "text/plain": [
       "Empty DataFrame\n",
       "Columns: [cond_C10, TIPO_EXPED, preg_15, es_gte_5, preg_31, preg_33, cond_32, preg_32, cond_C11, cond_C12, cond_C2, METRO, SEXO_TERC, OCUPACION_ASEG, FALTANTE, preg_34, cond_C5]\n",
       "Index: []"
      ]
     },
     "execution_count": 44,
     "metadata": {},
     "output_type": "execute_result"
    }
   ],
   "source": []
  },
  {
   "cell_type": "code",
   "execution_count": null,
   "metadata": {},
   "outputs": [],
   "source": []
  }
 ],
 "metadata": {
  "kernelspec": {
   "display_name": "Python 3",
   "language": "python",
   "name": "python3"
  },
  "language_info": {
   "codemirror_mode": {
    "name": "ipython",
    "version": 3
   },
   "file_extension": ".py",
   "mimetype": "text/x-python",
   "name": "python",
   "nbconvert_exporter": "python",
   "pygments_lexer": "ipython3",
   "version": "3.6.8"
  },
  "varInspector": {
   "cols": {
    "lenName": 16,
    "lenType": 16,
    "lenVar": 40
   },
   "kernels_config": {
    "python": {
     "delete_cmd_postfix": "",
     "delete_cmd_prefix": "del ",
     "library": "var_list.py",
     "varRefreshCmd": "print(var_dic_list())"
    },
    "r": {
     "delete_cmd_postfix": ") ",
     "delete_cmd_prefix": "rm(",
     "library": "var_list.r",
     "varRefreshCmd": "cat(var_dic_list()) "
    }
   },
   "types_to_exclude": [
    "module",
    "function",
    "builtin_function_or_method",
    "instance",
    "_Feature"
   ],
   "window_display": false
  }
 },
 "nbformat": 4,
 "nbformat_minor": 2
}
