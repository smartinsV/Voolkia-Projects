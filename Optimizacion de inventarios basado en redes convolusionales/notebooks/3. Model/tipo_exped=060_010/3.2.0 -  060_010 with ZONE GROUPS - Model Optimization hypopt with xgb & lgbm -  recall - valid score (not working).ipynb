{
 "cells": [
  {
   "cell_type": "markdown",
   "metadata": {},
   "source": [
    "# Model hiper optimization"
   ]
  },
  {
   "cell_type": "markdown",
   "metadata": {},
   "source": [
    "<h1 style='color:red'>Not working: it only predicts 060</h1>"
   ]
  },
  {
   "cell_type": "code",
   "execution_count": 35,
   "metadata": {},
   "outputs": [],
   "source": [
    "#imports\n",
    "import os\n",
    "from copy import copy\n",
    "\n",
    "import pandas as pd\n",
    "import numpy as np\n",
    "import seaborn as sns\n",
    "import matplotlib.pyplot as plt\n",
    "from sklearn.metrics import roc_auc_score, f1_score, confusion_matrix\n",
    "from sklearn.ensemble import RandomForestClassifier, ExtraTreesClassifier\n",
    "from sklearn.tree import DecisionTreeClassifier\n",
    "from xgboost import XGBClassifier\n",
    "from lightgbm import LGBMClassifier\n",
    "from sklearn.model_selection import GridSearchCV, RandomizedSearchCV\n",
    "from hypopt import GridSearch\n",
    "from hyperopt import tpe, fmin, space_eval, Trials, STATUS_OK, hp\n",
    "from sklearn.model_selection import StratifiedShuffleSplit\n",
    "\n",
    "import pickle"
   ]
  },
  {
   "cell_type": "code",
   "execution_count": 36,
   "metadata": {},
   "outputs": [
    {
     "name": "stdout",
     "output_type": "stream",
     "text": [
      "['1.1.b - 01-17 to 01-19 - df_val 02-19to03-19.feather', '1.1.b - 01-17 to 01-19 - df_train only 2018 without nulls.feather', '1.2.b - group zone - 01-17 to 01-19 - df_test 04-19to05-19.feather', '1.1 - df_train with nan.feather', '1.2.b - group zone - 01-17 to 01-19 - df_val 02-19to03-19.feather', '1.1 - df_train.feather', '1.2.b - group zone - 01-17 to 01-19 - df_train with nan.feather', '1.1 - df_test 04-19to04-19.feather', '1.1 - df_val 01-19to03-19.feather', '1.1.b - 01-17 to 01-19 - df_train without nulls.feather', '1.1 - df_train only 2018 without nulls.feather', '1.2.b - group zone - 01-17 to 01-19 - df_test 04-19to04-19.feather', '1.1.b - 01-17 to 01-19 - df_train with nan.feather', '1.1 - df_test 04-19to05-19.feather', '1.2.b - group zone - 01-17 to 01-19 - df_train without nulls.feather', '1.1.b - 01-17 to 01-19 - df_test 04-19to04-19.feather', '1.1.b - 01-17 to 01-19 - df_test 04-19to05-19.feather', '1.2.b - group zone - 01-17 to 01-19 - df_train only 2018 without nulls.feather']\n"
     ]
    }
   ],
   "source": [
    "# configs.\n",
    "%matplotlib inline\n",
    "# version to read\n",
    "read_version = \"1.2.b - group zone\"\n",
    "\n",
    "# model to save\n",
    "model_id = \"3.2.0 - 060_010 recall with zone groups\"\n",
    "\n",
    "pd.set_option(\"display.max_columns\", 500)\n",
    "\n",
    "path = \"../../../data/split\"\n",
    "random_state = 42\n",
    "print(os.listdir(path))"
   ]
  },
  {
   "cell_type": "markdown",
   "metadata": {},
   "source": [
    "## Loading training and validation datasets"
   ]
  },
  {
   "cell_type": "code",
   "execution_count": 37,
   "metadata": {},
   "outputs": [],
   "source": [
    "df = pd.read_feather(os.path.join(path, f\"{read_version} - 01-17 to 01-19 - df_train with nan.feather\"))\n",
    "df_val = pd.read_feather(os.path.join(path, f\"{read_version} - 01-17 to 01-19 - df_val 02-19to03-19.feather\"))"
   ]
  },
  {
   "cell_type": "code",
   "execution_count": 38,
   "metadata": {},
   "outputs": [],
   "source": [
    "# using only last year\n",
    "split_date = \"2018-01-01\"\n",
    "df = df[df[\"FECHA_SINI\"] >= split_date].copy()"
   ]
  },
  {
   "cell_type": "code",
   "execution_count": 39,
   "metadata": {},
   "outputs": [
    {
     "data": {
      "text/plain": [
       "(Timestamp('2018-01-01 00:00:00'), Timestamp('2019-01-31 00:00:00'))"
      ]
     },
     "execution_count": 39,
     "metadata": {},
     "output_type": "execute_result"
    }
   ],
   "source": [
    "df[\"FECHA_SINI\"].min(), df[\"FECHA_SINI\"].max()"
   ]
  },
  {
   "cell_type": "code",
   "execution_count": 40,
   "metadata": {},
   "outputs": [],
   "source": [
    "# Select all non 060 tipo exped.\n",
    "# 'None': 7,  '003': 2,  '060': 6,  '010': 3,  '020': 4,  '002': 1,  '050': 5,  '001': 0\n",
    "df = df[(df[\"TIPO_EXPED\"] == 6) |( df[\"TIPO_EXPED\"] == 3)]\n",
    "df_val = df_val[(df_val[\"TIPO_EXPED\"] == 6) | (df_val[\"TIPO_EXPED\"] == 3)]"
   ]
  },
  {
   "cell_type": "code",
   "execution_count": 41,
   "metadata": {},
   "outputs": [
    {
     "data": {
      "text/html": [
       "<div>\n",
       "<style scoped>\n",
       "    .dataframe tbody tr th:only-of-type {\n",
       "        vertical-align: middle;\n",
       "    }\n",
       "\n",
       "    .dataframe tbody tr th {\n",
       "        vertical-align: top;\n",
       "    }\n",
       "\n",
       "    .dataframe thead th {\n",
       "        text-align: right;\n",
       "    }\n",
       "</style>\n",
       "<table border=\"1\" class=\"dataframe\">\n",
       "  <thead>\n",
       "    <tr style=\"text-align: right;\">\n",
       "      <th>EXISTE_FRAUDE</th>\n",
       "      <th>False</th>\n",
       "      <th>True</th>\n",
       "    </tr>\n",
       "    <tr>\n",
       "      <th>total_condicion</th>\n",
       "      <th></th>\n",
       "      <th></th>\n",
       "    </tr>\n",
       "  </thead>\n",
       "  <tbody>\n",
       "    <tr>\n",
       "      <th>0.0</th>\n",
       "      <td>220235</td>\n",
       "      <td>648</td>\n",
       "    </tr>\n",
       "    <tr>\n",
       "      <th>1.0</th>\n",
       "      <td>3766</td>\n",
       "      <td>7</td>\n",
       "    </tr>\n",
       "    <tr>\n",
       "      <th>2.0</th>\n",
       "      <td>2436</td>\n",
       "      <td>95</td>\n",
       "    </tr>\n",
       "    <tr>\n",
       "      <th>3.0</th>\n",
       "      <td>5776</td>\n",
       "      <td>73</td>\n",
       "    </tr>\n",
       "    <tr>\n",
       "      <th>4.0</th>\n",
       "      <td>739</td>\n",
       "      <td>20</td>\n",
       "    </tr>\n",
       "    <tr>\n",
       "      <th>5.0</th>\n",
       "      <td>739</td>\n",
       "      <td>481</td>\n",
       "    </tr>\n",
       "    <tr>\n",
       "      <th>6.0</th>\n",
       "      <td>58</td>\n",
       "      <td>43</td>\n",
       "    </tr>\n",
       "    <tr>\n",
       "      <th>7.0</th>\n",
       "      <td>100</td>\n",
       "      <td>83</td>\n",
       "    </tr>\n",
       "    <tr>\n",
       "      <th>8.0</th>\n",
       "      <td>80</td>\n",
       "      <td>63</td>\n",
       "    </tr>\n",
       "    <tr>\n",
       "      <th>9.0</th>\n",
       "      <td>9</td>\n",
       "      <td>4</td>\n",
       "    </tr>\n",
       "    <tr>\n",
       "      <th>10.0</th>\n",
       "      <td>45</td>\n",
       "      <td>41</td>\n",
       "    </tr>\n",
       "    <tr>\n",
       "      <th>11.0</th>\n",
       "      <td>2</td>\n",
       "      <td>2</td>\n",
       "    </tr>\n",
       "    <tr>\n",
       "      <th>12.0</th>\n",
       "      <td>8</td>\n",
       "      <td>7</td>\n",
       "    </tr>\n",
       "    <tr>\n",
       "      <th>13.0</th>\n",
       "      <td>5</td>\n",
       "      <td>5</td>\n",
       "    </tr>\n",
       "    <tr>\n",
       "      <th>15.0</th>\n",
       "      <td>3</td>\n",
       "      <td>2</td>\n",
       "    </tr>\n",
       "  </tbody>\n",
       "</table>\n",
       "</div>"
      ],
      "text/plain": [
       "EXISTE_FRAUDE     False  True \n",
       "total_condicion               \n",
       "0.0              220235    648\n",
       "1.0                3766      7\n",
       "2.0                2436     95\n",
       "3.0                5776     73\n",
       "4.0                 739     20\n",
       "5.0                 739    481\n",
       "6.0                  58     43\n",
       "7.0                 100     83\n",
       "8.0                  80     63\n",
       "9.0                   9      4\n",
       "10.0                 45     41\n",
       "11.0                  2      2\n",
       "12.0                  8      7\n",
       "13.0                  5      5\n",
       "15.0                  3      2"
      ]
     },
     "execution_count": 41,
     "metadata": {},
     "output_type": "execute_result"
    }
   ],
   "source": [
    "pd.crosstab(df[\"total_condicion\"], df[\"EXISTE_FRAUDE\"])"
   ]
  },
  {
   "cell_type": "code",
   "execution_count": 42,
   "metadata": {},
   "outputs": [
    {
     "data": {
      "text/plain": [
       "3    203555\n",
       "6     32020\n",
       "Name: TIPO_EXPED, dtype: int64"
      ]
     },
     "execution_count": 42,
     "metadata": {},
     "output_type": "execute_result"
    }
   ],
   "source": [
    "df[\"TIPO_EXPED\"].value_counts()"
   ]
  },
  {
   "cell_type": "code",
   "execution_count": 43,
   "metadata": {},
   "outputs": [],
   "source": [
    "# delete unique value columns (for tipo_exped == 060)\n",
    "use_cols = df.nunique()[df.nunique() > 1].index\n",
    "df = df[use_cols]\n",
    "df_val = df_val[use_cols]"
   ]
  },
  {
   "cell_type": "code",
   "execution_count": 44,
   "metadata": {},
   "outputs": [
    {
     "data": {
      "text/plain": [
       "Index(['cond_32', 'cond_C10', 'cond_C11', 'cond_C12', 'cond_C13', 'cond_C14',\n",
       "       'cond_C15', 'cond_C16', 'cond_C18', 'cond_C19', 'cond_C20'],\n",
       "      dtype='object')"
      ]
     },
     "execution_count": 44,
     "metadata": {},
     "output_type": "execute_result"
    }
   ],
   "source": [
    "cond_cols = df.filter(regex=\"^cond_*\").columns\n",
    "cond_cols"
   ]
  },
  {
   "cell_type": "code",
   "execution_count": 45,
   "metadata": {},
   "outputs": [],
   "source": [
    "# create column number of conditions activated\n",
    "df[\"cant_cond\"] = (df[cond_cols] > 0).sum(axis=1)\n",
    "df_val[\"cant_cond\"] = (df_val[cond_cols] > 0).sum(axis=1)"
   ]
  },
  {
   "cell_type": "code",
   "execution_count": 46,
   "metadata": {},
   "outputs": [
    {
     "data": {
      "text/plain": [
       "0    220883\n",
       "1     13217\n",
       "2      1355\n",
       "3       112\n",
       "4         8\n",
       "Name: cant_cond, dtype: int64"
      ]
     },
     "execution_count": 46,
     "metadata": {},
     "output_type": "execute_result"
    }
   ],
   "source": [
    "df[\"cant_cond\"].value_counts()"
   ]
  },
  {
   "cell_type": "code",
   "execution_count": 47,
   "metadata": {},
   "outputs": [
    {
     "data": {
      "text/plain": [
       "False    234001\n",
       "True       1574\n",
       "Name: EXISTE_FRAUDE, dtype: int64"
      ]
     },
     "execution_count": 47,
     "metadata": {},
     "output_type": "execute_result"
    }
   ],
   "source": [
    "df[\"EXISTE_FRAUDE\"].value_counts()"
   ]
  },
  {
   "cell_type": "code",
   "execution_count": 48,
   "metadata": {},
   "outputs": [
    {
     "data": {
      "text/plain": [
       "(Timestamp('2019-02-01 00:00:00'), Timestamp('2019-03-31 00:00:00'))"
      ]
     },
     "execution_count": 48,
     "metadata": {},
     "output_type": "execute_result"
    }
   ],
   "source": [
    "df_val[\"FECHA_SINI\"].min(), df_val[\"FECHA_SINI\"].max()"
   ]
  },
  {
   "cell_type": "code",
   "execution_count": 49,
   "metadata": {},
   "outputs": [
    {
     "data": {
      "text/plain": [
       "(Timestamp('2018-01-01 00:00:00'), Timestamp('2019-01-31 00:00:00'))"
      ]
     },
     "execution_count": 49,
     "metadata": {},
     "output_type": "execute_result"
    }
   ],
   "source": [
    "df[\"FECHA_SINI\"].min(), df[\"FECHA_SINI\"].max()"
   ]
  },
  {
   "cell_type": "code",
   "execution_count": 50,
   "metadata": {},
   "outputs": [
    {
     "name": "stdout",
     "output_type": "stream",
     "text": [
      "2018-01-01 00:00:00 2018-08-31 00:00:00\n",
      "2018-09-01 00:00:00 2019-01-31 00:00:00\n"
     ]
    }
   ],
   "source": [
    "# using only last year\n",
    "split_date = \"2018-09-01\"\n",
    "df_train = df[df[\"FECHA_SINI\"] < split_date].copy()\n",
    "df_opt = df[df[\"FECHA_SINI\"] >= split_date].copy()\n",
    "print(df_train[\"FECHA_SINI\"].min(), df_train[\"FECHA_SINI\"].max())\n",
    "print(df_opt[\"FECHA_SINI\"].min(), df_opt[\"FECHA_SINI\"].max())"
   ]
  },
  {
   "cell_type": "code",
   "execution_count": 51,
   "metadata": {},
   "outputs": [
    {
     "data": {
      "text/plain": [
       "(False    0.994475\n",
       " True     0.005525\n",
       " Name: EXISTE_FRAUDE, dtype: float64, False    0.991437\n",
       " True     0.008563\n",
       " Name: EXISTE_FRAUDE, dtype: float64)"
      ]
     },
     "execution_count": 51,
     "metadata": {},
     "output_type": "execute_result"
    }
   ],
   "source": [
    "df_train[\"EXISTE_FRAUDE\"].value_counts(normalize=True), df_opt[\"EXISTE_FRAUDE\"].value_counts(normalize=True)"
   ]
  },
  {
   "cell_type": "code",
   "execution_count": 52,
   "metadata": {},
   "outputs": [
    {
     "data": {
      "text/plain": [
       "(0.6192974636527645, 0.3807025363472355)"
      ]
     },
     "execution_count": 52,
     "metadata": {},
     "output_type": "execute_result"
    }
   ],
   "source": [
    "full_len = df_train.shape[0] + df_opt.shape[0]\n",
    "df_train.shape[0] / full_len, df_opt.shape[0] / full_len"
   ]
  },
  {
   "cell_type": "code",
   "execution_count": 53,
   "metadata": {},
   "outputs": [],
   "source": [
    "# dropping date FEC_ACT_cond\n",
    "to_drop = [\"FECHA_SINI\"]\n",
    "df_train.drop(to_drop, axis=1, inplace=True)\n",
    "df_opt.drop(to_drop, axis=1, inplace=True)\n",
    "df_val.drop(to_drop, axis=1, inplace=True)"
   ]
  },
  {
   "cell_type": "markdown",
   "metadata": {},
   "source": [
    "## split X, y dataset"
   ]
  },
  {
   "cell_type": "code",
   "execution_count": 54,
   "metadata": {},
   "outputs": [],
   "source": [
    "# to_drop = [\"COD_FRAUDE\", \"EXISTE_FRAUDE\", \"EXISTE_INHABILITAR\"]\n",
    "# already removed : \"EXISTE_INHABILITAR\", \"COD_ACT_BENEF\",\n",
    "to_drop = [\"EXISTE_FRAUDE\", \"NUM_SECU_EXPED\", \"NUM_SECU_POL\", \"EXISTE_INVEST\", \"es_gte_5\"] # \n",
    "\n",
    "# training\n",
    "X_train = df_train.drop(to_drop, axis=1)\n",
    "y_train = df_train[\"EXISTE_FRAUDE\"]\n",
    "# validation\n",
    "X_opt = df_opt.drop(to_drop, axis=1)\n",
    "y_opt = df_opt[\"EXISTE_FRAUDE\"]\n",
    "# validation\n",
    "X_val = df_val.drop(to_drop, axis=1)\n",
    "y_val = df_val[\"EXISTE_FRAUDE\"]"
   ]
  },
  {
   "cell_type": "code",
   "execution_count": 55,
   "metadata": {},
   "outputs": [],
   "source": [
    "X_full_train = df.drop(to_drop, axis=1)\n",
    "X_full_train.drop(columns=[\"FECHA_SINI\"], inplace=True)\n",
    "y_full_train = df[\"EXISTE_FRAUDE\"]"
   ]
  },
  {
   "cell_type": "code",
   "execution_count": 56,
   "metadata": {},
   "outputs": [
    {
     "name": "stdout",
     "output_type": "stream",
     "text": [
      "dif between X_train & X_opt: set()\n",
      "dif between X_val & X_opt: set()\n"
     ]
    }
   ],
   "source": [
    "# checking if all have the same inputs columns\n",
    "print(\"dif between X_train & X_opt: {}\".format(set(X_train.columns) - set(X_opt.columns)))\n",
    "print(\"dif between X_val & X_opt: {}\".format(set(X_val.columns) - set(X_opt.columns)))"
   ]
  },
  {
   "cell_type": "code",
   "execution_count": 57,
   "metadata": {},
   "outputs": [
    {
     "name": "stdout",
     "output_type": "stream",
     "text": [
      "145891, 89684\n",
      "145891, 89684\n"
     ]
    }
   ],
   "source": [
    "print(f\"{len(X_train)}, {len(X_opt)}\")\n",
    "print(f\"{len(y_train)}, {len(y_opt)}\")"
   ]
  },
  {
   "cell_type": "code",
   "execution_count": 58,
   "metadata": {},
   "outputs": [
    {
     "data": {
      "text/plain": [
       "(0.005524672529491195, 0.008563400383568976)"
      ]
     },
     "execution_count": 58,
     "metadata": {},
     "output_type": "execute_result"
    }
   ],
   "source": [
    "y_train.sum() / len(y_train), y_opt.sum() / len(y_opt)"
   ]
  },
  {
   "cell_type": "code",
   "execution_count": 59,
   "metadata": {},
   "outputs": [
    {
     "data": {
      "text/plain": [
       "False    145085\n",
       "True        806\n",
       "Name: EXISTE_FRAUDE, dtype: int64"
      ]
     },
     "execution_count": 59,
     "metadata": {},
     "output_type": "execute_result"
    }
   ],
   "source": [
    "y_train.value_counts(dropna=False)"
   ]
  },
  {
   "cell_type": "markdown",
   "metadata": {},
   "source": [
    "## Defining grid configuration"
   ]
  },
  {
   "cell_type": "code",
   "execution_count": 60,
   "metadata": {},
   "outputs": [],
   "source": [
    "from sklearn.utils.class_weight import compute_class_weight"
   ]
  },
  {
   "cell_type": "code",
   "execution_count": 61,
   "metadata": {},
   "outputs": [
    {
     "data": {
      "text/plain": [
       "array([ 0.50336323, 74.83322745])"
      ]
     },
     "execution_count": 61,
     "metadata": {},
     "output_type": "execute_result"
    }
   ],
   "source": [
    "weights = compute_class_weight(\"balanced\", df[\"EXISTE_FRAUDE\"].unique(), df[\"EXISTE_FRAUDE\"])\n",
    "weights"
   ]
  },
  {
   "cell_type": "code",
   "execution_count": 65,
   "metadata": {},
   "outputs": [
    {
     "data": {
      "text/plain": [
       "[{0: 1, 1: 25}, {0: 1, 1: 12}]"
      ]
     },
     "execution_count": 65,
     "metadata": {},
     "output_type": "execute_result"
    }
   ],
   "source": [
    "# configs\n",
    "list_weights = [25, 12]\n",
    "[{0:1, 1:l} for l in list_weights]"
   ]
  },
  {
   "cell_type": "markdown",
   "metadata": {},
   "source": [
    "**VERSION SIMPLE**"
   ]
  },
  {
   "cell_type": "code",
   "execution_count": 66,
   "metadata": {},
   "outputs": [
    {
     "data": {
      "text/plain": [
       "[{'n_estimators': [60],\n",
       "  'min_samples_leaf': [3, 5, 7],\n",
       "  'max_depth': [10, 40],\n",
       "  'max_features': ['sqrt', None],\n",
       "  'class_weight': [{0: 1, 1: 25}, {0: 1, 1: 12}],\n",
       "  'bootstrap': [False, True]},\n",
       " {'n_estimators': [60],\n",
       "  'min_samples_leaf': [3, 5, 7],\n",
       "  'max_depth': [10, 40],\n",
       "  'max_features': ['sqrt', None],\n",
       "  'class_weight': [{0: 1, 1: 25}, {0: 1, 1: 12}],\n",
       "  'bootstrap': [False, True]},\n",
       " {'n_estimators': [60, 100],\n",
       "  'learning_rate': [1.0, 0.1, 0.01],\n",
       "  'scale_pos_weight': [25, 12]},\n",
       " {'n_estimators': [60, 100],\n",
       "  'learning_rate': [1.0, 0.1, 0.01],\n",
       "  'class_weight': [{0: 1, 1: 25}, {0: 1, 1: 12}]}]"
      ]
     },
     "execution_count": 66,
     "metadata": {},
     "output_type": "execute_result"
    }
   ],
   "source": [
    "\n",
    "rf_params = {\n",
    "    \"n_estimators\": [60],\n",
    "    \"min_samples_leaf\": [3, 5, 7],\n",
    "    \"max_depth\": [10, 40], # 10,\n",
    "    \"max_features\": ['sqrt', None],\n",
    "    \"class_weight\": [{0:1, 1:l} for l in list_weights],\n",
    "    \"bootstrap\": [False, True],\n",
    "}\n",
    "param_configs = []\n",
    "param_configs.append(rf_params)\n",
    "param_configs.append(rf_params)\n",
    "\n",
    "dt_params = {\n",
    "    \"min_samples_leaf\": [3, 5, 7],\n",
    "    \"class_weight\": [{0:1, 1:l} for l in list_weights],\n",
    "}\n",
    "# param_configs.append(dt_params)\n",
    "\n",
    "\n",
    "gbt_params = {\n",
    "    'n_estimators': [60, 100], \n",
    "#    \"min_samples_leaf\": [3, 5, 7],\n",
    "#    \"max_depth\": [10, 40], # 10,\n",
    "#    'min_samples_split': [5, 7],\n",
    "    'learning_rate': [1.0, 0.1, 0.01],\n",
    "#    'subsample': [0.5, 1],\n",
    "#    \"colsample_bynode\": [0.5 , 1],\n",
    "    \"scale_pos_weight\": list_weights,\n",
    "}\n",
    "param_configs.append(gbt_params)\n",
    "\n",
    "\n",
    "lgbm_params = {\n",
    "    'n_estimators': [60, 100], \n",
    "#    'num_leaves': [10, 20, 50],\n",
    "#    'max_depth': [5, 10, 30],\n",
    "#    'min_child_samples': [3, 5, 7],\n",
    "    'learning_rate': [1.0, 0.1, 0.01],\n",
    "#    'subsample': [0.5, 1],\n",
    "#    \"colsample_bytree\": [0.5 , 1],\n",
    "    \"class_weight\": [{0:1, 1:l} for l in list_weights],\n",
    "}\n",
    "\n",
    "param_configs.append(lgbm_params)\n",
    "param_configs"
   ]
  },
  {
   "cell_type": "markdown",
   "metadata": {},
   "source": [
    "**VERSION COMPLEJA**"
   ]
  },
  {
   "cell_type": "code",
   "execution_count": null,
   "metadata": {},
   "outputs": [],
   "source": [
    "\n",
    "rf_params = {\n",
    "    \"n_estimators\": [60],\n",
    "    \"min_samples_leaf\": [3, 5, 7],\n",
    "    \"max_depth\": [10, 40], # 10,\n",
    "    \"max_features\": ['sqrt', None],\n",
    "    \"class_weight\": [{0:1, 1:l} for l in list_weights],\n",
    "    \"bootstrap\": [False, True],\n",
    "}\n",
    "param_configs = []\n",
    "param_configs.append(rf_params)\n",
    "param_configs.append(rf_params)\n",
    "\n",
    "dt_params = {\n",
    "    \"min_samples_leaf\": [3, 5, 7],\n",
    "    \"class_weight\": [{0:1, 1:l} for l in list_weights],\n",
    "}\n",
    "# param_configs.append(dt_params)\n",
    "\n",
    "\n",
    "gbt_params = {\n",
    "    'n_estimators': [60, 100], \n",
    "#    \"min_samples_leaf\": [3, 5, 7],\n",
    "#    \"max_depth\": [10, 40], # 10,\n",
    "#    'min_samples_split': [5, 7],\n",
    "    'learning_rate': [1.0, 0.1, 0.01],\n",
    "#    'subsample': [0.5, 1],\n",
    "#    \"colsample_bynode\": [0.5 , 1],\n",
    "    \"scale_pos_weight\": list_weights,\n",
    "}\n",
    "param_configs.append(gbt_params)\n",
    "gbt_params = {\n",
    "    'n_estimators': n_estimators, \n",
    "    \"max_depth\": [15, 40, 5],\n",
    "    'learning_rate': [1.0, 0.1, 0.05, 0.01],\n",
    "#    'subsample': [0.5, 1.0],\n",
    "    \"colsample_bytree\": [0.5 , 1.0],\n",
    "    \"scale_pos_weight\": list_weights,\n",
    "}\n",
    "param_configs.append(gbt_params)\n",
    "\n",
    "\n",
    "lgbm_params = {\n",
    "    'n_estimators': n_estimators, \n",
    "#    'num_leaves': [10, 20, 50],\n",
    "    \"max_depth\": [15, 40, -1],\n",
    "    'min_child_samples': [3, 5, 7, 11],\n",
    "    'learning_rate': [1.0, 0.1, 0.05, 0.01],\n",
    "#    'subsample': [0.5, 1.0],\n",
    "    \"colsample_bytree\": [0.5 , 1.0],\n",
    "    \"class_weight\": [{0:1, 1:l} for l in list_weights],\n",
    "}\n",
    "param_configs.append(lgbm_params)\n",
    "param_configs"
   ]
  },
  {
   "cell_type": "code",
   "execution_count": 67,
   "metadata": {},
   "outputs": [
    {
     "data": {
      "text/plain": [
       "[RandomForestClassifier(bootstrap=True, class_weight=None, criterion='gini',\n",
       "                        max_depth=None, max_features='auto', max_leaf_nodes=None,\n",
       "                        min_impurity_decrease=0.0, min_impurity_split=None,\n",
       "                        min_samples_leaf=1, min_samples_split=2,\n",
       "                        min_weight_fraction_leaf=0.0, n_estimators='warn',\n",
       "                        n_jobs=-1, oob_score=False, random_state=42, verbose=0,\n",
       "                        warm_start=False),\n",
       " ExtraTreesClassifier(bootstrap=False, class_weight=None, criterion='gini',\n",
       "                      max_depth=None, max_features='auto', max_leaf_nodes=None,\n",
       "                      min_impurity_decrease=0.0, min_impurity_split=None,\n",
       "                      min_samples_leaf=1, min_samples_split=2,\n",
       "                      min_weight_fraction_leaf=0.0, n_estimators='warn',\n",
       "                      n_jobs=-1, oob_score=False, random_state=42, verbose=0,\n",
       "                      warm_start=False),\n",
       " XGBClassifier(base_score=0.5, booster='gbtree', colsample_bylevel=1,\n",
       "               colsample_bytree=1, gamma=0, learning_rate=0.1, max_delta_step=0,\n",
       "               max_depth=3, min_child_weight=1, missing=None, n_estimators=100,\n",
       "               n_jobs=1, nthread=None, objective='binary:logistic',\n",
       "               random_state=42, reg_alpha=0, reg_lambda=1, scale_pos_weight=1,\n",
       "               seed=None, silent=True, subsample=1),\n",
       " LGBMClassifier(boosting_type='gbdt', class_weight=None, colsample_bytree=1.0,\n",
       "                importance_type='split', learning_rate=0.1, max_depth=-1,\n",
       "                min_child_samples=20, min_child_weight=0.001, min_split_gain=0.0,\n",
       "                n_estimators=100, n_jobs=-1, num_leaves=31, objective=None,\n",
       "                random_state=42, reg_alpha=0.0, reg_lambda=0.0, silent=False,\n",
       "                subsample=1.0, subsample_for_bin=200000, subsample_freq=0)]"
      ]
     },
     "execution_count": 67,
     "metadata": {},
     "output_type": "execute_result"
    }
   ],
   "source": [
    "# using without grid with list of models\n",
    "rfs = []\n",
    "rfs.append(RandomForestClassifier(random_state=random_state, n_jobs=-1))\n",
    "rfs.append(ExtraTreesClassifier(random_state=random_state, n_jobs=-1))\n",
    "# rfs.append(DecisionTreeClassifier(random_state=random_state))\n",
    "rfs.append(XGBClassifier(random_state=random_state))\n",
    "rfs.append(LGBMClassifier(random_state=random_state, silent=False, n_jobs=-1))\n",
    "rfs"
   ]
  },
  {
   "cell_type": "code",
   "execution_count": 68,
   "metadata": {
    "scrolled": true
   },
   "outputs": [
    {
     "name": "stdout",
     "output_type": "stream",
     "text": [
      "Model 0: RandomForestClassifier(bootstrap=True, class_weight=None, criterion='gini',\n",
      "                       max_depth=None, max_features='auto', max_leaf_nodes=None,\n",
      "                       min_impurity_decrease=0.0, min_impurity_split=None,\n",
      "                       min_samples_leaf=1, min_samples_split=2,\n",
      "                       min_weight_fraction_leaf=0.0, n_estimators='warn',\n",
      "                       n_jobs=-1, oob_score=False, random_state=42, verbose=0,\n",
      "                       warm_start=False)\n",
      "Comparing 48 parameter setting(s) using 2 CPU thread(s) ( 24 job(s) per thread ).\n"
     ]
    },
    {
     "name": "stderr",
     "output_type": "stream",
     "text": [
      "/home/seba/anaconda3/lib/python3.6/site-packages/sklearn/ensemble/base.py:154: UserWarning: Multiprocessing-backed parallel loops cannot be nested, setting n_jobs=1\n",
      "  n_jobs = min(effective_n_jobs(n_jobs), n_estimators)\n",
      "/home/seba/anaconda3/lib/python3.6/site-packages/sklearn/ensemble/base.py:154: UserWarning: Multiprocessing-backed parallel loops cannot be nested, setting n_jobs=1\n",
      "  n_jobs = min(effective_n_jobs(n_jobs), n_estimators)\n",
      "/home/seba/anaconda3/lib/python3.6/site-packages/sklearn/ensemble/base.py:154: UserWarning: Multiprocessing-backed parallel loops cannot be nested, setting n_jobs=1\n",
      "  n_jobs = min(effective_n_jobs(n_jobs), n_estimators)\n",
      "/home/seba/anaconda3/lib/python3.6/site-packages/sklearn/ensemble/base.py:154: UserWarning: Multiprocessing-backed parallel loops cannot be nested, setting n_jobs=1\n",
      "  n_jobs = min(effective_n_jobs(n_jobs), n_estimators)\n",
      "/home/seba/anaconda3/lib/python3.6/site-packages/sklearn/ensemble/base.py:154: UserWarning: Multiprocessing-backed parallel loops cannot be nested, setting n_jobs=1\n",
      "  n_jobs = min(effective_n_jobs(n_jobs), n_estimators)\n",
      "/home/seba/anaconda3/lib/python3.6/site-packages/sklearn/ensemble/base.py:154: UserWarning: Multiprocessing-backed parallel loops cannot be nested, setting n_jobs=1\n",
      "  n_jobs = min(effective_n_jobs(n_jobs), n_estimators)\n",
      "/home/seba/anaconda3/lib/python3.6/site-packages/sklearn/ensemble/base.py:154: UserWarning: Multiprocessing-backed parallel loops cannot be nested, setting n_jobs=1\n",
      "  n_jobs = min(effective_n_jobs(n_jobs), n_estimators)\n",
      "/home/seba/anaconda3/lib/python3.6/site-packages/sklearn/ensemble/base.py:154: UserWarning: Multiprocessing-backed parallel loops cannot be nested, setting n_jobs=1\n",
      "  n_jobs = min(effective_n_jobs(n_jobs), n_estimators)\n",
      "/home/seba/anaconda3/lib/python3.6/site-packages/sklearn/ensemble/base.py:154: UserWarning: Multiprocessing-backed parallel loops cannot be nested, setting n_jobs=1\n",
      "  n_jobs = min(effective_n_jobs(n_jobs), n_estimators)\n",
      "/home/seba/anaconda3/lib/python3.6/site-packages/sklearn/ensemble/base.py:154: UserWarning: Multiprocessing-backed parallel loops cannot be nested, setting n_jobs=1\n",
      "  n_jobs = min(effective_n_jobs(n_jobs), n_estimators)\n",
      "/home/seba/anaconda3/lib/python3.6/site-packages/sklearn/ensemble/base.py:154: UserWarning: Multiprocessing-backed parallel loops cannot be nested, setting n_jobs=1\n",
      "  n_jobs = min(effective_n_jobs(n_jobs), n_estimators)\n",
      "/home/seba/anaconda3/lib/python3.6/site-packages/sklearn/ensemble/base.py:154: UserWarning: Multiprocessing-backed parallel loops cannot be nested, setting n_jobs=1\n",
      "  n_jobs = min(effective_n_jobs(n_jobs), n_estimators)\n",
      "/home/seba/anaconda3/lib/python3.6/site-packages/sklearn/ensemble/base.py:154: UserWarning: Multiprocessing-backed parallel loops cannot be nested, setting n_jobs=1\n",
      "  n_jobs = min(effective_n_jobs(n_jobs), n_estimators)\n",
      "/home/seba/anaconda3/lib/python3.6/site-packages/sklearn/ensemble/base.py:154: UserWarning: Multiprocessing-backed parallel loops cannot be nested, setting n_jobs=1\n",
      "  n_jobs = min(effective_n_jobs(n_jobs), n_estimators)\n",
      "/home/seba/anaconda3/lib/python3.6/site-packages/sklearn/ensemble/base.py:154: UserWarning: Multiprocessing-backed parallel loops cannot be nested, setting n_jobs=1\n",
      "  n_jobs = min(effective_n_jobs(n_jobs), n_estimators)\n",
      "/home/seba/anaconda3/lib/python3.6/site-packages/sklearn/ensemble/base.py:154: UserWarning: Multiprocessing-backed parallel loops cannot be nested, setting n_jobs=1\n",
      "  n_jobs = min(effective_n_jobs(n_jobs), n_estimators)\n",
      "/home/seba/anaconda3/lib/python3.6/site-packages/sklearn/ensemble/base.py:154: UserWarning: Multiprocessing-backed parallel loops cannot be nested, setting n_jobs=1\n",
      "  n_jobs = min(effective_n_jobs(n_jobs), n_estimators)\n",
      "/home/seba/anaconda3/lib/python3.6/site-packages/sklearn/ensemble/base.py:154: UserWarning: Multiprocessing-backed parallel loops cannot be nested, setting n_jobs=1\n",
      "  n_jobs = min(effective_n_jobs(n_jobs), n_estimators)\n",
      "/home/seba/anaconda3/lib/python3.6/site-packages/sklearn/ensemble/base.py:154: UserWarning: Multiprocessing-backed parallel loops cannot be nested, setting n_jobs=1\n",
      "  n_jobs = min(effective_n_jobs(n_jobs), n_estimators)\n",
      "/home/seba/anaconda3/lib/python3.6/site-packages/sklearn/ensemble/base.py:154: UserWarning: Multiprocessing-backed parallel loops cannot be nested, setting n_jobs=1\n",
      "  n_jobs = min(effective_n_jobs(n_jobs), n_estimators)\n",
      "/home/seba/anaconda3/lib/python3.6/site-packages/sklearn/ensemble/base.py:154: UserWarning: Multiprocessing-backed parallel loops cannot be nested, setting n_jobs=1\n",
      "  n_jobs = min(effective_n_jobs(n_jobs), n_estimators)\n",
      "/home/seba/anaconda3/lib/python3.6/site-packages/sklearn/ensemble/base.py:154: UserWarning: Multiprocessing-backed parallel loops cannot be nested, setting n_jobs=1\n",
      "  n_jobs = min(effective_n_jobs(n_jobs), n_estimators)\n",
      "/home/seba/anaconda3/lib/python3.6/site-packages/sklearn/ensemble/base.py:154: UserWarning: Multiprocessing-backed parallel loops cannot be nested, setting n_jobs=1\n",
      "  n_jobs = min(effective_n_jobs(n_jobs), n_estimators)\n",
      "/home/seba/anaconda3/lib/python3.6/site-packages/sklearn/ensemble/base.py:154: UserWarning: Multiprocessing-backed parallel loops cannot be nested, setting n_jobs=1\n",
      "  n_jobs = min(effective_n_jobs(n_jobs), n_estimators)\n",
      "/home/seba/anaconda3/lib/python3.6/site-packages/sklearn/ensemble/base.py:154: UserWarning: Multiprocessing-backed parallel loops cannot be nested, setting n_jobs=1\n",
      "  n_jobs = min(effective_n_jobs(n_jobs), n_estimators)\n",
      "/home/seba/anaconda3/lib/python3.6/site-packages/sklearn/ensemble/base.py:154: UserWarning: Multiprocessing-backed parallel loops cannot be nested, setting n_jobs=1\n",
      "  n_jobs = min(effective_n_jobs(n_jobs), n_estimators)\n",
      "/home/seba/anaconda3/lib/python3.6/site-packages/sklearn/ensemble/base.py:154: UserWarning: Multiprocessing-backed parallel loops cannot be nested, setting n_jobs=1\n",
      "  n_jobs = min(effective_n_jobs(n_jobs), n_estimators)\n",
      "/home/seba/anaconda3/lib/python3.6/site-packages/sklearn/ensemble/base.py:154: UserWarning: Multiprocessing-backed parallel loops cannot be nested, setting n_jobs=1\n",
      "  n_jobs = min(effective_n_jobs(n_jobs), n_estimators)\n",
      "/home/seba/anaconda3/lib/python3.6/site-packages/sklearn/ensemble/base.py:154: UserWarning: Multiprocessing-backed parallel loops cannot be nested, setting n_jobs=1\n",
      "  n_jobs = min(effective_n_jobs(n_jobs), n_estimators)\n",
      "/home/seba/anaconda3/lib/python3.6/site-packages/sklearn/ensemble/base.py:154: UserWarning: Multiprocessing-backed parallel loops cannot be nested, setting n_jobs=1\n",
      "  n_jobs = min(effective_n_jobs(n_jobs), n_estimators)\n",
      "/home/seba/anaconda3/lib/python3.6/site-packages/sklearn/ensemble/base.py:154: UserWarning: Multiprocessing-backed parallel loops cannot be nested, setting n_jobs=1\n",
      "  n_jobs = min(effective_n_jobs(n_jobs), n_estimators)\n",
      "/home/seba/anaconda3/lib/python3.6/site-packages/sklearn/ensemble/base.py:154: UserWarning: Multiprocessing-backed parallel loops cannot be nested, setting n_jobs=1\n",
      "  n_jobs = min(effective_n_jobs(n_jobs), n_estimators)\n",
      "/home/seba/anaconda3/lib/python3.6/site-packages/sklearn/ensemble/base.py:154: UserWarning: Multiprocessing-backed parallel loops cannot be nested, setting n_jobs=1\n",
      "  n_jobs = min(effective_n_jobs(n_jobs), n_estimators)\n",
      "/home/seba/anaconda3/lib/python3.6/site-packages/sklearn/ensemble/base.py:154: UserWarning: Multiprocessing-backed parallel loops cannot be nested, setting n_jobs=1\n",
      "  n_jobs = min(effective_n_jobs(n_jobs), n_estimators)\n",
      "/home/seba/anaconda3/lib/python3.6/site-packages/sklearn/ensemble/base.py:154: UserWarning: Multiprocessing-backed parallel loops cannot be nested, setting n_jobs=1\n",
      "  n_jobs = min(effective_n_jobs(n_jobs), n_estimators)\n",
      "/home/seba/anaconda3/lib/python3.6/site-packages/sklearn/ensemble/base.py:154: UserWarning: Multiprocessing-backed parallel loops cannot be nested, setting n_jobs=1\n",
      "  n_jobs = min(effective_n_jobs(n_jobs), n_estimators)\n",
      "/home/seba/anaconda3/lib/python3.6/site-packages/sklearn/ensemble/base.py:154: UserWarning: Multiprocessing-backed parallel loops cannot be nested, setting n_jobs=1\n",
      "  n_jobs = min(effective_n_jobs(n_jobs), n_estimators)\n",
      "/home/seba/anaconda3/lib/python3.6/site-packages/sklearn/ensemble/base.py:154: UserWarning: Multiprocessing-backed parallel loops cannot be nested, setting n_jobs=1\n",
      "  n_jobs = min(effective_n_jobs(n_jobs), n_estimators)\n"
     ]
    },
    {
     "name": "stderr",
     "output_type": "stream",
     "text": [
      "/home/seba/anaconda3/lib/python3.6/site-packages/sklearn/ensemble/base.py:154: UserWarning: Multiprocessing-backed parallel loops cannot be nested, setting n_jobs=1\n",
      "  n_jobs = min(effective_n_jobs(n_jobs), n_estimators)\n",
      "/home/seba/anaconda3/lib/python3.6/site-packages/sklearn/ensemble/base.py:154: UserWarning: Multiprocessing-backed parallel loops cannot be nested, setting n_jobs=1\n",
      "  n_jobs = min(effective_n_jobs(n_jobs), n_estimators)\n",
      "/home/seba/anaconda3/lib/python3.6/site-packages/sklearn/ensemble/base.py:154: UserWarning: Multiprocessing-backed parallel loops cannot be nested, setting n_jobs=1\n",
      "  n_jobs = min(effective_n_jobs(n_jobs), n_estimators)\n",
      "/home/seba/anaconda3/lib/python3.6/site-packages/sklearn/ensemble/base.py:154: UserWarning: Multiprocessing-backed parallel loops cannot be nested, setting n_jobs=1\n",
      "  n_jobs = min(effective_n_jobs(n_jobs), n_estimators)\n",
      "/home/seba/anaconda3/lib/python3.6/site-packages/sklearn/ensemble/base.py:154: UserWarning: Multiprocessing-backed parallel loops cannot be nested, setting n_jobs=1\n",
      "  n_jobs = min(effective_n_jobs(n_jobs), n_estimators)\n",
      "/home/seba/anaconda3/lib/python3.6/site-packages/sklearn/ensemble/base.py:154: UserWarning: Multiprocessing-backed parallel loops cannot be nested, setting n_jobs=1\n",
      "  n_jobs = min(effective_n_jobs(n_jobs), n_estimators)\n",
      "/home/seba/anaconda3/lib/python3.6/site-packages/sklearn/ensemble/base.py:154: UserWarning: Multiprocessing-backed parallel loops cannot be nested, setting n_jobs=1\n",
      "  n_jobs = min(effective_n_jobs(n_jobs), n_estimators)\n",
      "/home/seba/anaconda3/lib/python3.6/site-packages/sklearn/ensemble/base.py:154: UserWarning: Multiprocessing-backed parallel loops cannot be nested, setting n_jobs=1\n",
      "  n_jobs = min(effective_n_jobs(n_jobs), n_estimators)\n",
      "/home/seba/anaconda3/lib/python3.6/site-packages/sklearn/ensemble/base.py:154: UserWarning: Multiprocessing-backed parallel loops cannot be nested, setting n_jobs=1\n",
      "  n_jobs = min(effective_n_jobs(n_jobs), n_estimators)\n",
      "/home/seba/anaconda3/lib/python3.6/site-packages/sklearn/ensemble/base.py:154: UserWarning: Multiprocessing-backed parallel loops cannot be nested, setting n_jobs=1\n",
      "  n_jobs = min(effective_n_jobs(n_jobs), n_estimators)\n"
     ]
    },
    {
     "name": "stdout",
     "output_type": "stream",
     "text": [
      "Best score: 0.7291666666666666\n",
      "Best config: {'bootstrap': False, 'class_weight': {0: 1, 1: 25}, 'max_depth': 10, 'max_features': 'sqrt', 'min_samples_leaf': 7, 'n_estimators': 60}\n",
      "*-*-*-*-*-*-*-*-*-*-*-*-*-*-*-*-*-*-*-*-*-*-*-*-*-*-*-*-*-*-\n",
      "Model 1: ExtraTreesClassifier(bootstrap=False, class_weight=None, criterion='gini',\n",
      "                     max_depth=None, max_features='auto', max_leaf_nodes=None,\n",
      "                     min_impurity_decrease=0.0, min_impurity_split=None,\n",
      "                     min_samples_leaf=1, min_samples_split=2,\n",
      "                     min_weight_fraction_leaf=0.0, n_estimators='warn',\n",
      "                     n_jobs=-1, oob_score=False, random_state=42, verbose=0,\n",
      "                     warm_start=False)\n",
      "Comparing 48 parameter setting(s) using 2 CPU thread(s) ( 24 job(s) per thread ).\n"
     ]
    },
    {
     "name": "stderr",
     "output_type": "stream",
     "text": [
      "/home/seba/anaconda3/lib/python3.6/site-packages/sklearn/ensemble/base.py:154: UserWarning: Multiprocessing-backed parallel loops cannot be nested, setting n_jobs=1\n",
      "  n_jobs = min(effective_n_jobs(n_jobs), n_estimators)\n",
      "/home/seba/anaconda3/lib/python3.6/site-packages/sklearn/ensemble/base.py:154: UserWarning: Multiprocessing-backed parallel loops cannot be nested, setting n_jobs=1\n",
      "  n_jobs = min(effective_n_jobs(n_jobs), n_estimators)\n",
      "/home/seba/anaconda3/lib/python3.6/site-packages/sklearn/ensemble/base.py:154: UserWarning: Multiprocessing-backed parallel loops cannot be nested, setting n_jobs=1\n",
      "  n_jobs = min(effective_n_jobs(n_jobs), n_estimators)\n",
      "/home/seba/anaconda3/lib/python3.6/site-packages/sklearn/ensemble/base.py:154: UserWarning: Multiprocessing-backed parallel loops cannot be nested, setting n_jobs=1\n",
      "  n_jobs = min(effective_n_jobs(n_jobs), n_estimators)\n",
      "/home/seba/anaconda3/lib/python3.6/site-packages/sklearn/ensemble/base.py:154: UserWarning: Multiprocessing-backed parallel loops cannot be nested, setting n_jobs=1\n",
      "  n_jobs = min(effective_n_jobs(n_jobs), n_estimators)\n",
      "/home/seba/anaconda3/lib/python3.6/site-packages/sklearn/ensemble/base.py:154: UserWarning: Multiprocessing-backed parallel loops cannot be nested, setting n_jobs=1\n",
      "  n_jobs = min(effective_n_jobs(n_jobs), n_estimators)\n",
      "/home/seba/anaconda3/lib/python3.6/site-packages/sklearn/ensemble/base.py:154: UserWarning: Multiprocessing-backed parallel loops cannot be nested, setting n_jobs=1\n",
      "  n_jobs = min(effective_n_jobs(n_jobs), n_estimators)\n",
      "/home/seba/anaconda3/lib/python3.6/site-packages/sklearn/ensemble/base.py:154: UserWarning: Multiprocessing-backed parallel loops cannot be nested, setting n_jobs=1\n",
      "  n_jobs = min(effective_n_jobs(n_jobs), n_estimators)\n",
      "/home/seba/anaconda3/lib/python3.6/site-packages/sklearn/ensemble/base.py:154: UserWarning: Multiprocessing-backed parallel loops cannot be nested, setting n_jobs=1\n",
      "  n_jobs = min(effective_n_jobs(n_jobs), n_estimators)\n",
      "/home/seba/anaconda3/lib/python3.6/site-packages/sklearn/ensemble/base.py:154: UserWarning: Multiprocessing-backed parallel loops cannot be nested, setting n_jobs=1\n",
      "  n_jobs = min(effective_n_jobs(n_jobs), n_estimators)\n",
      "/home/seba/anaconda3/lib/python3.6/site-packages/sklearn/ensemble/base.py:154: UserWarning: Multiprocessing-backed parallel loops cannot be nested, setting n_jobs=1\n",
      "  n_jobs = min(effective_n_jobs(n_jobs), n_estimators)\n",
      "/home/seba/anaconda3/lib/python3.6/site-packages/sklearn/ensemble/base.py:154: UserWarning: Multiprocessing-backed parallel loops cannot be nested, setting n_jobs=1\n",
      "  n_jobs = min(effective_n_jobs(n_jobs), n_estimators)\n",
      "/home/seba/anaconda3/lib/python3.6/site-packages/sklearn/ensemble/base.py:154: UserWarning: Multiprocessing-backed parallel loops cannot be nested, setting n_jobs=1\n",
      "  n_jobs = min(effective_n_jobs(n_jobs), n_estimators)\n",
      "/home/seba/anaconda3/lib/python3.6/site-packages/sklearn/ensemble/base.py:154: UserWarning: Multiprocessing-backed parallel loops cannot be nested, setting n_jobs=1\n",
      "  n_jobs = min(effective_n_jobs(n_jobs), n_estimators)\n",
      "/home/seba/anaconda3/lib/python3.6/site-packages/sklearn/ensemble/base.py:154: UserWarning: Multiprocessing-backed parallel loops cannot be nested, setting n_jobs=1\n",
      "  n_jobs = min(effective_n_jobs(n_jobs), n_estimators)\n",
      "/home/seba/anaconda3/lib/python3.6/site-packages/sklearn/ensemble/base.py:154: UserWarning: Multiprocessing-backed parallel loops cannot be nested, setting n_jobs=1\n",
      "  n_jobs = min(effective_n_jobs(n_jobs), n_estimators)\n",
      "/home/seba/anaconda3/lib/python3.6/site-packages/sklearn/ensemble/base.py:154: UserWarning: Multiprocessing-backed parallel loops cannot be nested, setting n_jobs=1\n",
      "  n_jobs = min(effective_n_jobs(n_jobs), n_estimators)\n",
      "/home/seba/anaconda3/lib/python3.6/site-packages/sklearn/ensemble/base.py:154: UserWarning: Multiprocessing-backed parallel loops cannot be nested, setting n_jobs=1\n",
      "  n_jobs = min(effective_n_jobs(n_jobs), n_estimators)\n",
      "/home/seba/anaconda3/lib/python3.6/site-packages/sklearn/ensemble/base.py:154: UserWarning: Multiprocessing-backed parallel loops cannot be nested, setting n_jobs=1\n",
      "  n_jobs = min(effective_n_jobs(n_jobs), n_estimators)\n",
      "/home/seba/anaconda3/lib/python3.6/site-packages/sklearn/ensemble/base.py:154: UserWarning: Multiprocessing-backed parallel loops cannot be nested, setting n_jobs=1\n",
      "  n_jobs = min(effective_n_jobs(n_jobs), n_estimators)\n",
      "/home/seba/anaconda3/lib/python3.6/site-packages/sklearn/ensemble/base.py:154: UserWarning: Multiprocessing-backed parallel loops cannot be nested, setting n_jobs=1\n",
      "  n_jobs = min(effective_n_jobs(n_jobs), n_estimators)\n",
      "/home/seba/anaconda3/lib/python3.6/site-packages/sklearn/ensemble/base.py:154: UserWarning: Multiprocessing-backed parallel loops cannot be nested, setting n_jobs=1\n",
      "  n_jobs = min(effective_n_jobs(n_jobs), n_estimators)\n",
      "/home/seba/anaconda3/lib/python3.6/site-packages/sklearn/ensemble/base.py:154: UserWarning: Multiprocessing-backed parallel loops cannot be nested, setting n_jobs=1\n",
      "  n_jobs = min(effective_n_jobs(n_jobs), n_estimators)\n",
      "/home/seba/anaconda3/lib/python3.6/site-packages/sklearn/ensemble/base.py:154: UserWarning: Multiprocessing-backed parallel loops cannot be nested, setting n_jobs=1\n",
      "  n_jobs = min(effective_n_jobs(n_jobs), n_estimators)\n",
      "/home/seba/anaconda3/lib/python3.6/site-packages/sklearn/ensemble/base.py:154: UserWarning: Multiprocessing-backed parallel loops cannot be nested, setting n_jobs=1\n",
      "  n_jobs = min(effective_n_jobs(n_jobs), n_estimators)\n",
      "/home/seba/anaconda3/lib/python3.6/site-packages/sklearn/ensemble/base.py:154: UserWarning: Multiprocessing-backed parallel loops cannot be nested, setting n_jobs=1\n",
      "  n_jobs = min(effective_n_jobs(n_jobs), n_estimators)\n",
      "/home/seba/anaconda3/lib/python3.6/site-packages/sklearn/ensemble/base.py:154: UserWarning: Multiprocessing-backed parallel loops cannot be nested, setting n_jobs=1\n",
      "  n_jobs = min(effective_n_jobs(n_jobs), n_estimators)\n",
      "/home/seba/anaconda3/lib/python3.6/site-packages/sklearn/ensemble/base.py:154: UserWarning: Multiprocessing-backed parallel loops cannot be nested, setting n_jobs=1\n",
      "  n_jobs = min(effective_n_jobs(n_jobs), n_estimators)\n",
      "/home/seba/anaconda3/lib/python3.6/site-packages/sklearn/ensemble/base.py:154: UserWarning: Multiprocessing-backed parallel loops cannot be nested, setting n_jobs=1\n",
      "  n_jobs = min(effective_n_jobs(n_jobs), n_estimators)\n",
      "/home/seba/anaconda3/lib/python3.6/site-packages/sklearn/ensemble/base.py:154: UserWarning: Multiprocessing-backed parallel loops cannot be nested, setting n_jobs=1\n",
      "  n_jobs = min(effective_n_jobs(n_jobs), n_estimators)\n",
      "/home/seba/anaconda3/lib/python3.6/site-packages/sklearn/ensemble/base.py:154: UserWarning: Multiprocessing-backed parallel loops cannot be nested, setting n_jobs=1\n",
      "  n_jobs = min(effective_n_jobs(n_jobs), n_estimators)\n",
      "/home/seba/anaconda3/lib/python3.6/site-packages/sklearn/ensemble/base.py:154: UserWarning: Multiprocessing-backed parallel loops cannot be nested, setting n_jobs=1\n",
      "  n_jobs = min(effective_n_jobs(n_jobs), n_estimators)\n",
      "/home/seba/anaconda3/lib/python3.6/site-packages/sklearn/ensemble/base.py:154: UserWarning: Multiprocessing-backed parallel loops cannot be nested, setting n_jobs=1\n",
      "  n_jobs = min(effective_n_jobs(n_jobs), n_estimators)\n",
      "/home/seba/anaconda3/lib/python3.6/site-packages/sklearn/ensemble/base.py:154: UserWarning: Multiprocessing-backed parallel loops cannot be nested, setting n_jobs=1\n",
      "  n_jobs = min(effective_n_jobs(n_jobs), n_estimators)\n",
      "/home/seba/anaconda3/lib/python3.6/site-packages/sklearn/ensemble/base.py:154: UserWarning: Multiprocessing-backed parallel loops cannot be nested, setting n_jobs=1\n",
      "  n_jobs = min(effective_n_jobs(n_jobs), n_estimators)\n",
      "/home/seba/anaconda3/lib/python3.6/site-packages/sklearn/ensemble/base.py:154: UserWarning: Multiprocessing-backed parallel loops cannot be nested, setting n_jobs=1\n",
      "  n_jobs = min(effective_n_jobs(n_jobs), n_estimators)\n",
      "/home/seba/anaconda3/lib/python3.6/site-packages/sklearn/ensemble/base.py:154: UserWarning: Multiprocessing-backed parallel loops cannot be nested, setting n_jobs=1\n",
      "  n_jobs = min(effective_n_jobs(n_jobs), n_estimators)\n",
      "/home/seba/anaconda3/lib/python3.6/site-packages/sklearn/ensemble/base.py:154: UserWarning: Multiprocessing-backed parallel loops cannot be nested, setting n_jobs=1\n",
      "  n_jobs = min(effective_n_jobs(n_jobs), n_estimators)\n"
     ]
    },
    {
     "name": "stderr",
     "output_type": "stream",
     "text": [
      "/home/seba/anaconda3/lib/python3.6/site-packages/sklearn/ensemble/base.py:154: UserWarning: Multiprocessing-backed parallel loops cannot be nested, setting n_jobs=1\n",
      "  n_jobs = min(effective_n_jobs(n_jobs), n_estimators)\n",
      "/home/seba/anaconda3/lib/python3.6/site-packages/sklearn/ensemble/base.py:154: UserWarning: Multiprocessing-backed parallel loops cannot be nested, setting n_jobs=1\n",
      "  n_jobs = min(effective_n_jobs(n_jobs), n_estimators)\n",
      "/home/seba/anaconda3/lib/python3.6/site-packages/sklearn/ensemble/base.py:154: UserWarning: Multiprocessing-backed parallel loops cannot be nested, setting n_jobs=1\n",
      "  n_jobs = min(effective_n_jobs(n_jobs), n_estimators)\n",
      "/home/seba/anaconda3/lib/python3.6/site-packages/sklearn/ensemble/base.py:154: UserWarning: Multiprocessing-backed parallel loops cannot be nested, setting n_jobs=1\n",
      "  n_jobs = min(effective_n_jobs(n_jobs), n_estimators)\n",
      "/home/seba/anaconda3/lib/python3.6/site-packages/sklearn/ensemble/base.py:154: UserWarning: Multiprocessing-backed parallel loops cannot be nested, setting n_jobs=1\n",
      "  n_jobs = min(effective_n_jobs(n_jobs), n_estimators)\n",
      "/home/seba/anaconda3/lib/python3.6/site-packages/sklearn/ensemble/base.py:154: UserWarning: Multiprocessing-backed parallel loops cannot be nested, setting n_jobs=1\n",
      "  n_jobs = min(effective_n_jobs(n_jobs), n_estimators)\n",
      "/home/seba/anaconda3/lib/python3.6/site-packages/sklearn/ensemble/base.py:154: UserWarning: Multiprocessing-backed parallel loops cannot be nested, setting n_jobs=1\n",
      "  n_jobs = min(effective_n_jobs(n_jobs), n_estimators)\n",
      "/home/seba/anaconda3/lib/python3.6/site-packages/sklearn/ensemble/base.py:154: UserWarning: Multiprocessing-backed parallel loops cannot be nested, setting n_jobs=1\n",
      "  n_jobs = min(effective_n_jobs(n_jobs), n_estimators)\n",
      "/home/seba/anaconda3/lib/python3.6/site-packages/sklearn/ensemble/base.py:154: UserWarning: Multiprocessing-backed parallel loops cannot be nested, setting n_jobs=1\n",
      "  n_jobs = min(effective_n_jobs(n_jobs), n_estimators)\n",
      "/home/seba/anaconda3/lib/python3.6/site-packages/sklearn/ensemble/base.py:154: UserWarning: Multiprocessing-backed parallel loops cannot be nested, setting n_jobs=1\n",
      "  n_jobs = min(effective_n_jobs(n_jobs), n_estimators)\n"
     ]
    },
    {
     "name": "stdout",
     "output_type": "stream",
     "text": [
      "Best score: 0.6901041666666666\n",
      "Best config: {'bootstrap': False, 'class_weight': {0: 1, 1: 25}, 'max_depth': 10, 'max_features': 'sqrt', 'min_samples_leaf': 7, 'n_estimators': 60}\n",
      "*-*-*-*-*-*-*-*-*-*-*-*-*-*-*-*-*-*-*-*-*-*-*-*-*-*-*-*-*-*-\n",
      "Model 2: XGBClassifier(base_score=0.5, booster='gbtree', colsample_bylevel=1,\n",
      "              colsample_bytree=1, gamma=0, learning_rate=0.1, max_delta_step=0,\n",
      "              max_depth=3, min_child_weight=1, missing=None, n_estimators=100,\n",
      "              n_jobs=1, nthread=None, objective='binary:logistic',\n",
      "              random_state=42, reg_alpha=0, reg_lambda=1, scale_pos_weight=1,\n",
      "              seed=None, silent=True, subsample=1)\n",
      "Comparing 12 parameter setting(s) using 2 CPU thread(s) ( 6 job(s) per thread ).\n",
      "Best score: 0.7877604166666666\n",
      "Best config: {'learning_rate': 0.1, 'n_estimators': 60, 'scale_pos_weight': 25}\n",
      "*-*-*-*-*-*-*-*-*-*-*-*-*-*-*-*-*-*-*-*-*-*-*-*-*-*-*-*-*-*-\n",
      "Model 3: LGBMClassifier(boosting_type='gbdt', class_weight=None, colsample_bytree=1.0,\n",
      "               importance_type='split', learning_rate=0.1, max_depth=-1,\n",
      "               min_child_samples=20, min_child_weight=0.001, min_split_gain=0.0,\n",
      "               n_estimators=100, n_jobs=-1, num_leaves=31, objective=None,\n",
      "               random_state=42, reg_alpha=0.0, reg_lambda=0.0, silent=False,\n",
      "               subsample=1.0, subsample_for_bin=200000, subsample_freq=0)\n",
      "Comparing 12 parameter setting(s) using 2 CPU thread(s) ( 6 job(s) per thread ).\n",
      "Best score: 0.7135416666666666\n",
      "Best config: {'class_weight': {0: 1, 1: 12}, 'learning_rate': 1.0, 'n_estimators': 60}\n",
      "*-*-*-*-*-*-*-*-*-*-*-*-*-*-*-*-*-*-*-*-*-*-*-*-*-*-*-*-*-*-\n"
     ]
    }
   ],
   "source": [
    "# TO avoid random sampling,\n",
    "# WE USE GridSearch of hypopt\n",
    "metric = \"recall\"\n",
    "best_models_ = []\n",
    "best_scores_ = []\n",
    "for counter, rf in enumerate(rfs):\n",
    "    print(f\"Model {counter}: {rf}\")\n",
    "    clf = GridSearch(rf, param_grid=param_configs[counter], seed=random_state, num_threads=1)\n",
    "    clf.fit(X_train, y_train, X_val=X_opt, y_val=y_opt, scoring=metric, verbose=True)\n",
    "    print(f\"Best score: {clf.best_score}\")\n",
    "    print(f\"Best config: {clf.best_params}\")\n",
    "    best_models_.append(copy(clf))\n",
    "    best_scores_.append(clf.best_score)\n",
    "    print(\"*-*-*-\" * 10)"
   ]
  },
  {
   "cell_type": "code",
   "execution_count": 69,
   "metadata": {},
   "outputs": [
    {
     "name": "stdout",
     "output_type": "stream",
     "text": [
      "Best Config:\n",
      "GridSearch(cv_folds=3,\n",
      "           model=RandomForestClassifier(bootstrap=False,\n",
      "                                        class_weight={0: 1, 1: 25},\n",
      "                                        criterion='gini', max_depth=10,\n",
      "                                        max_features=None, max_leaf_nodes=None,\n",
      "                                        min_impurity_decrease=0.0,\n",
      "                                        min_impurity_split=None,\n",
      "                                        min_samples_leaf=7, min_samples_split=2,\n",
      "                                        min_weight_fraction_leaf=0.0,\n",
      "                                        n_estimators=60, n_jobs=-1,\n",
      "                                        oob_score=False, random_state=0,\n",
      "                                        verbose=0, warm_start=False),\n",
      "           num_threads=2,\n",
      "           param_grid={'bootstrap': [False, True],\n",
      "                       'class_weight': [{0: 1, 1: 25}, {0: 1, 1: 12}],\n",
      "                       'max_depth': [10, 40], 'max_features': ['sqrt', None],\n",
      "                       'min_samples_leaf': [3, 5, 7], 'n_estimators': [60]},\n",
      "           seed=42) 0.7291666666666666\n",
      "GridSearch(cv_folds=3,\n",
      "           model=ExtraTreesClassifier(bootstrap=False,\n",
      "                                      class_weight={0: 1, 1: 25},\n",
      "                                      criterion='gini', max_depth=10,\n",
      "                                      max_features=None, max_leaf_nodes=None,\n",
      "                                      min_impurity_decrease=0.0,\n",
      "                                      min_impurity_split=None,\n",
      "                                      min_samples_leaf=7, min_samples_split=2,\n",
      "                                      min_weight_fraction_leaf=0.0,\n",
      "                                      n_estimators=60, n_jobs=-1,\n",
      "                                      oob_score=False, random_state=0,\n",
      "                                      verbose=0, warm_start=False),\n",
      "           num_threads=2,\n",
      "           param_grid={'bootstrap': [False, True],\n",
      "                       'class_weight': [{0: 1, 1: 25}, {0: 1, 1: 12}],\n",
      "                       'max_depth': [10, 40], 'max_features': ['sqrt', None],\n",
      "                       'min_samples_leaf': [3, 5, 7], 'n_estimators': [60]},\n",
      "           seed=42) 0.6901041666666666\n",
      "GridSearch(cv_folds=3,\n",
      "           model=XGBClassifier(base_score=0.5, booster='gbtree',\n",
      "                               colsample_bylevel=1, colsample_bytree=1, gamma=0,\n",
      "                               learning_rate=0.1, max_delta_step=0, max_depth=3,\n",
      "                               min_child_weight=1, missing=nan, n_estimators=60,\n",
      "                               n_jobs=1, nthread=None,\n",
      "                               objective='binary:logistic', random_state=0,\n",
      "                               reg_alpha=0, reg_lambda=1, scale_pos_weight=12,\n",
      "                               seed=0, silent=True, subsample=1),\n",
      "           num_threads=2,\n",
      "           param_grid={'learning_rate': [1.0, 0.1, 0.01],\n",
      "                       'n_estimators': [60, 100],\n",
      "                       'scale_pos_weight': [25, 12]},\n",
      "           seed=42) 0.7877604166666666\n",
      "GridSearch(cv_folds=3,\n",
      "           model=LGBMClassifier(boosting_type='gbdt',\n",
      "                                class_weight={0: 1, 1: 12},\n",
      "                                colsample_bytree=1.0, importance_type='split',\n",
      "                                learning_rate=1.0, max_depth=-1,\n",
      "                                min_child_samples=20, min_child_weight=0.001,\n",
      "                                min_split_gain=0.0, n_estimators=100, n_jobs=-1,\n",
      "                                num_leaves=31, objective=None, random_state=0,\n",
      "                                reg_alpha=0.0, reg_lambda=0.0, silent=False,\n",
      "                                subsample=1.0, subsample_for_bin=200000,\n",
      "                                subsample_freq=0),\n",
      "           num_threads=2,\n",
      "           param_grid={'class_weight': [{0: 1, 1: 25}, {0: 1, 1: 12}],\n",
      "                       'learning_rate': [1.0, 0.1, 0.01],\n",
      "                       'n_estimators': [60, 100]},\n",
      "           seed=42) 0.7135416666666666\n"
     ]
    }
   ],
   "source": [
    "print(\"Best Config:\")\n",
    "for m, s in zip(best_models_, best_scores_):\n",
    "    print(m, s)"
   ]
  },
  {
   "cell_type": "code",
   "execution_count": 70,
   "metadata": {},
   "outputs": [],
   "source": [
    "# select best grid\n",
    "best_model = best_models_[np.argmax(best_scores_)]\n",
    "\n",
    "# select by hand\n",
    "# best_model = best_models_[1]"
   ]
  },
  {
   "cell_type": "code",
   "execution_count": 71,
   "metadata": {},
   "outputs": [
    {
     "name": "stdout",
     "output_type": "stream",
     "text": [
      "Grid scores:\n",
      "0.788 for {'learning_rate': 0.1, 'n_estimators': 60, 'scale_pos_weight': 25}\n",
      "0.781 for {'learning_rate': 0.01, 'n_estimators': 60, 'scale_pos_weight': 25}\n",
      "0.781 for {'learning_rate': 0.01, 'n_estimators': 100, 'scale_pos_weight': 25}\n",
      "0.780 for {'learning_rate': 0.1, 'n_estimators': 100, 'scale_pos_weight': 25}\n",
      "0.661 for {'learning_rate': 0.1, 'n_estimators': 100, 'scale_pos_weight': 12}\n",
      "0.648 for {'learning_rate': 0.1, 'n_estimators': 60, 'scale_pos_weight': 12}\n",
      "0.612 for {'learning_rate': 0.01, 'n_estimators': 60, 'scale_pos_weight': 12}\n",
      "0.612 for {'learning_rate': 0.01, 'n_estimators': 100, 'scale_pos_weight': 12}\n",
      "0.477 for {'learning_rate': 1.0, 'n_estimators': 60, 'scale_pos_weight': 25}\n",
      "0.435 for {'learning_rate': 1.0, 'n_estimators': 100, 'scale_pos_weight': 25}\n",
      "0.405 for {'learning_rate': 1.0, 'n_estimators': 60, 'scale_pos_weight': 12}\n",
      "0.368 for {'learning_rate': 1.0, 'n_estimators': 100, 'scale_pos_weight': 12}\n"
     ]
    }
   ],
   "source": [
    "sorted_ids = np.argsort(best_model.scores)\n",
    "print(\"Grid scores:\")\n",
    "for i in sorted_ids[::-1]:\n",
    "    print(\"%0.3f for %r\" % (best_model.scores[i], best_model.params[i]))"
   ]
  },
  {
   "cell_type": "code",
   "execution_count": 85,
   "metadata": {},
   "outputs": [
    {
     "data": {
      "text/plain": [
       "(0.46476901539897336, 0.819287129144361)"
      ]
     },
     "execution_count": 85,
     "metadata": {},
     "output_type": "execute_result"
    }
   ],
   "source": [
    "y_opt_pred = best_model.predict(X_opt)\n",
    "y_opt_f1_bestFI, y_opt_rocauc_bestFI = f1_score(y_opt, y_opt_pred), roc_auc_score(y_opt, y_opt_pred)\n",
    "y_opt_f1_bestFI, y_opt_rocauc_bestFI"
   ]
  },
  {
   "cell_type": "code",
   "execution_count": 86,
   "metadata": {},
   "outputs": [
    {
     "data": {
      "text/plain": [
       "array([[88039,   877],\n",
       "       [  270,   498]])"
      ]
     },
     "execution_count": 86,
     "metadata": {},
     "output_type": "execute_result"
    }
   ],
   "source": [
    "confusion_matrix(y_opt, y_opt_pred)"
   ]
  },
  {
   "cell_type": "code",
   "execution_count": 101,
   "metadata": {},
   "outputs": [
    {
     "data": {
      "text/html": [
       "<div>\n",
       "<style scoped>\n",
       "    .dataframe tbody tr th:only-of-type {\n",
       "        vertical-align: middle;\n",
       "    }\n",
       "\n",
       "    .dataframe tbody tr th {\n",
       "        vertical-align: top;\n",
       "    }\n",
       "\n",
       "    .dataframe thead tr th {\n",
       "        text-align: left;\n",
       "    }\n",
       "\n",
       "    .dataframe thead tr:last-of-type th {\n",
       "        text-align: right;\n",
       "    }\n",
       "</style>\n",
       "<table border=\"1\" class=\"dataframe\">\n",
       "  <thead>\n",
       "    <tr>\n",
       "      <th>EXISTE_FRAUDE</th>\n",
       "      <th colspan=\"2\" halign=\"left\">False</th>\n",
       "      <th colspan=\"2\" halign=\"left\">True</th>\n",
       "    </tr>\n",
       "    <tr>\n",
       "      <th>col_1</th>\n",
       "      <th>False</th>\n",
       "      <th>True</th>\n",
       "      <th>False</th>\n",
       "      <th>True</th>\n",
       "    </tr>\n",
       "    <tr>\n",
       "      <th>TIPO_EXPED</th>\n",
       "      <th></th>\n",
       "      <th></th>\n",
       "      <th></th>\n",
       "      <th></th>\n",
       "    </tr>\n",
       "  </thead>\n",
       "  <tbody>\n",
       "    <tr>\n",
       "      <th>3</th>\n",
       "      <td>76011</td>\n",
       "      <td>1</td>\n",
       "      <td>23</td>\n",
       "      <td>0</td>\n",
       "    </tr>\n",
       "    <tr>\n",
       "      <th>6</th>\n",
       "      <td>12026</td>\n",
       "      <td>878</td>\n",
       "      <td>249</td>\n",
       "      <td>496</td>\n",
       "    </tr>\n",
       "  </tbody>\n",
       "</table>\n",
       "</div>"
      ],
      "text/plain": [
       "EXISTE_FRAUDE  False       True       \n",
       "col_1          False True  False True \n",
       "TIPO_EXPED                            \n",
       "3              76011     1    23     0\n",
       "6              12026   878   249   496"
      ]
     },
     "execution_count": 101,
     "metadata": {},
     "output_type": "execute_result"
    }
   ],
   "source": [
    "pd.crosstab(X_opt[\"TIPO_EXPED\"], [df_opt[\"EXISTE_FRAUDE\"], y_opt_pred])"
   ]
  },
  {
   "cell_type": "markdown",
   "metadata": {
    "heading_collapsed": true
   },
   "source": [
    "## dumping best current config"
   ]
  },
  {
   "cell_type": "code",
   "execution_count": null,
   "metadata": {
    "hidden": true
   },
   "outputs": [],
   "source": [
    "# Current good config\n",
    "\"\"\"\n",
    "RandomForestClassifier(bootstrap=True, class_weight={0: 1, 1: 15},\n",
    "                       criterion='gini', max_depth=None, max_features='auto',\n",
    "                       max_leaf_nodes=None, min_impurity_decrease=0.0,\n",
    "                       min_impurity_split=None, min_samples_leaf=55,\n",
    "                       min_samples_split=2, min_weight_fraction_leaf=0.0,\n",
    "                       n_estimators=60, n_jobs=-1, oob_score=False,\n",
    "                       random_state=0, verbose=0, warm_start=False)\n",
    "\"\"\"\n",
    "# full features\n",
    "# scores: 0.449, 0.971\n",
    "# array([[71143,   360],\n",
    "#       [  116,   194]])\n",
    "# Tronador\n",
    "# (0.3472,0.816)\n",
    "# array([[70866,   637],\n",
    "#        [  111,   199]])"
   ]
  },
  {
   "cell_type": "code",
   "execution_count": null,
   "metadata": {
    "hidden": true
   },
   "outputs": [],
   "source": [
    "# with open(ps.path.join(\"models\", \"s1 - cond_preg_fill-1_ class_weight balanced.pickle\"), \"wb\") as file:\n",
    "#     pickle.dump(rf_f, file)"
   ]
  },
  {
   "cell_type": "markdown",
   "metadata": {},
   "source": [
    "## Feature Importance\n",
    "\n",
    "<h3 style=\"color:red\">When reducing the # of features the model get worse</h3>"
   ]
  },
  {
   "cell_type": "code",
   "execution_count": 91,
   "metadata": {},
   "outputs": [
    {
     "data": {
      "image/png": "[encoded data removed]",
      "text/plain": [
       "<Figure size 432x288 with 1 Axes>"
      ]
     },
     "metadata": {
      "needs_background": "light"
     },
     "output_type": "display_data"
    }
   ],
   "source": [
    "rf_fi = pd.DataFrame({'cols':X_train.columns, 'fi':best_model.best_estimator_.feature_importances_}).sort_values('fi', ascending=False)\n",
    "rf_fi[:20].plot.bar(x=\"cols\")\n",
    "plt.xticks(rotation=\"vertical\")\n",
    "plt.show()"
   ]
  },
  {
   "cell_type": "code",
   "execution_count": 92,
   "metadata": {},
   "outputs": [
    {
     "name": "stdout",
     "output_type": "stream",
     "text": [
      "# of features: 37 of 96\n"
     ]
    }
   ],
   "source": [
    "to_keep = list(rf_fi[rf_fi[\"fi\"] >=0.005][\"cols\"].values)\n",
    "print(f\"# of features: {len(to_keep)} of {len(rf_fi)}\")"
   ]
  },
  {
   "cell_type": "code",
   "execution_count": 75,
   "metadata": {},
   "outputs": [
    {
     "data": {
      "text/plain": [
       "'to_remove = [\\'COD_POST_POLIZA_RT_CLUSTER_2019\\', \\'COD_POST_OCURRENCIA_RT_CLUSTER_2019\\',\\n             \\'COD_POST_OCURRENCIA_RC_CLUSTER_2019\\',  \\'COD_POST_POLIZA_RC_CLUSTER_2019\\',\\n             \\'COD_POST_OCURRENCIA_DP_CLUSTER_2019\\', \\'COD_POST_POLIZA_DP_CLUSTER_2019\\',\\n             \"COD_CAUSA_SINI\", \\n            ] # \"es_gte_5\", \"total_condicion\", \\n\\nfor col in to_remove:\\n    if(col in to_keep):\\n        to_keep.remove(col)\\nto_keep'"
      ]
     },
     "execution_count": 75,
     "metadata": {},
     "output_type": "execute_result"
    }
   ],
   "source": [
    "\"\"\"to_remove = ['COD_POST_POLIZA_RT_CLUSTER_2019', 'COD_POST_OCURRENCIA_RT_CLUSTER_2019',\n",
    "             'COD_POST_OCURRENCIA_RC_CLUSTER_2019',  'COD_POST_POLIZA_RC_CLUSTER_2019',\n",
    "             'COD_POST_OCURRENCIA_DP_CLUSTER_2019', 'COD_POST_POLIZA_DP_CLUSTER_2019',\n",
    "             \"COD_CAUSA_SINI\", \n",
    "            ] # \"es_gte_5\", \"total_condicion\", \n",
    "\n",
    "for col in to_remove:\n",
    "    if(col in to_keep):\n",
    "        to_keep.remove(col)\n",
    "to_keep\"\"\""
   ]
  },
  {
   "cell_type": "code",
   "execution_count": 93,
   "metadata": {},
   "outputs": [
    {
     "data": {
      "text/plain": [
       "XGBClassifier(base_score=0.5, booster='gbtree', colsample_bylevel=1,\n",
       "              colsample_bytree=1, gamma=0, learning_rate=0.1, max_delta_step=0,\n",
       "              max_depth=3, min_child_weight=1, missing=nan, n_estimators=60,\n",
       "              n_jobs=1, nthread=None, objective='binary:logistic',\n",
       "              random_state=0, reg_alpha=0, reg_lambda=1, scale_pos_weight=12,\n",
       "              seed=0, silent=True, subsample=1)"
      ]
     },
     "execution_count": 93,
     "metadata": {},
     "output_type": "execute_result"
    }
   ],
   "source": [
    "# best model\n",
    "best_model.best_estimator_"
   ]
  },
  {
   "cell_type": "markdown",
   "metadata": {},
   "source": [
    "### Training again with less features"
   ]
  },
  {
   "cell_type": "code",
   "execution_count": 94,
   "metadata": {},
   "outputs": [
    {
     "name": "stdout",
     "output_type": "stream",
     "text": [
      "37\n"
     ]
    }
   ],
   "source": [
    "X_train_red = X_train[to_keep].copy()\n",
    "print(len(X_train_red.columns))"
   ]
  },
  {
   "cell_type": "code",
   "execution_count": 95,
   "metadata": {},
   "outputs": [
    {
     "data": {
      "text/plain": [
       "XGBClassifier(base_score=0.5, booster='gbtree', colsample_bylevel=1,\n",
       "              colsample_bytree=1, gamma=0, learning_rate=0.1, max_delta_step=0,\n",
       "              max_depth=3, min_child_weight=1, missing=nan, n_estimators=60,\n",
       "              n_jobs=1, nthread=None, objective='binary:logistic',\n",
       "              random_state=0, reg_alpha=0, reg_lambda=1, scale_pos_weight=12,\n",
       "              seed=0, silent=True, subsample=1)"
      ]
     },
     "execution_count": 95,
     "metadata": {},
     "output_type": "execute_result"
    }
   ],
   "source": [
    "# rf = RandomForestClassifier(n_estimators=40, max_features=0.5, min_samples_leaf=7, random_state=random_state, n_jobs=-1)\n",
    "rf = copy(best_model.best_estimator_)\n",
    "rf.fit(X_train_red, y_train)"
   ]
  },
  {
   "cell_type": "code",
   "execution_count": 102,
   "metadata": {},
   "outputs": [
    {
     "data": {
      "text/plain": [
       "(0.4629024731684555, 0.8179737992412315)"
      ]
     },
     "execution_count": 102,
     "metadata": {},
     "output_type": "execute_result"
    }
   ],
   "source": [
    "y_opt_pred = rf.predict(X_opt[to_keep])\n",
    "y_opt_f1_bestFI, y_opt_rocauc_bestFI = f1_score(y_opt, y_opt_pred), roc_auc_score(y_opt, y_opt_pred)\n",
    "y_opt_f1_bestFI, y_opt_rocauc_bestFI"
   ]
  },
  {
   "cell_type": "code",
   "execution_count": 103,
   "metadata": {},
   "outputs": [
    {
     "data": {
      "text/plain": [
       "array([[88037,   879],\n",
       "       [  272,   496]])"
      ]
     },
     "execution_count": 103,
     "metadata": {},
     "output_type": "execute_result"
    }
   ],
   "source": [
    "confusion_matrix(y_opt, y_opt_pred)"
   ]
  },
  {
   "cell_type": "code",
   "execution_count": 104,
   "metadata": {},
   "outputs": [
    {
     "data": {
      "text/html": [
       "<div>\n",
       "<style scoped>\n",
       "    .dataframe tbody tr th:only-of-type {\n",
       "        vertical-align: middle;\n",
       "    }\n",
       "\n",
       "    .dataframe tbody tr th {\n",
       "        vertical-align: top;\n",
       "    }\n",
       "\n",
       "    .dataframe thead tr th {\n",
       "        text-align: left;\n",
       "    }\n",
       "\n",
       "    .dataframe thead tr:last-of-type th {\n",
       "        text-align: right;\n",
       "    }\n",
       "</style>\n",
       "<table border=\"1\" class=\"dataframe\">\n",
       "  <thead>\n",
       "    <tr>\n",
       "      <th>EXISTE_FRAUDE</th>\n",
       "      <th colspan=\"2\" halign=\"left\">False</th>\n",
       "      <th colspan=\"2\" halign=\"left\">True</th>\n",
       "    </tr>\n",
       "    <tr>\n",
       "      <th>col_1</th>\n",
       "      <th>False</th>\n",
       "      <th>True</th>\n",
       "      <th>False</th>\n",
       "      <th>True</th>\n",
       "    </tr>\n",
       "    <tr>\n",
       "      <th>TIPO_EXPED</th>\n",
       "      <th></th>\n",
       "      <th></th>\n",
       "      <th></th>\n",
       "      <th></th>\n",
       "    </tr>\n",
       "  </thead>\n",
       "  <tbody>\n",
       "    <tr>\n",
       "      <th>3</th>\n",
       "      <td>76011</td>\n",
       "      <td>1</td>\n",
       "      <td>23</td>\n",
       "      <td>0</td>\n",
       "    </tr>\n",
       "    <tr>\n",
       "      <th>6</th>\n",
       "      <td>12026</td>\n",
       "      <td>878</td>\n",
       "      <td>249</td>\n",
       "      <td>496</td>\n",
       "    </tr>\n",
       "  </tbody>\n",
       "</table>\n",
       "</div>"
      ],
      "text/plain": [
       "EXISTE_FRAUDE  False       True       \n",
       "col_1          False True  False True \n",
       "TIPO_EXPED                            \n",
       "3              76011     1    23     0\n",
       "6              12026   878   249   496"
      ]
     },
     "execution_count": 104,
     "metadata": {},
     "output_type": "execute_result"
    }
   ],
   "source": [
    "pd.crosstab(X_opt[\"TIPO_EXPED\"], [df_opt[\"EXISTE_FRAUDE\"], y_opt_pred])"
   ]
  },
  {
   "cell_type": "code",
   "execution_count": 98,
   "metadata": {},
   "outputs": [
    {
     "data": {
      "image/png": "[encoded data removed]",
      "text/plain": [
       "<Figure size 432x288 with 1 Axes>"
      ]
     },
     "metadata": {
      "needs_background": "light"
     },
     "output_type": "display_data"
    }
   ],
   "source": [
    "rf_fi = pd.DataFrame({'cols':X_train_red.columns, 'fi':rf.feature_importances_}).sort_values('fi', ascending=False)\n",
    "rf_fi[:20].plot.bar(x=\"cols\")\n",
    "plt.xticks(rotation=\"vertical\")\n",
    "plt.show()"
   ]
  },
  {
   "cell_type": "code",
   "execution_count": 75,
   "metadata": {},
   "outputs": [],
   "source": [
    "best_model = copy(rf)"
   ]
  },
  {
   "cell_type": "code",
   "execution_count": null,
   "metadata": {},
   "outputs": [],
   "source": [
    "# best columns used\n",
    "rf_fi[\"cols\"].values"
   ]
  },
  {
   "cell_type": "markdown",
   "metadata": {},
   "source": [
    "# model with validation set"
   ]
  },
  {
   "cell_type": "markdown",
   "metadata": {
    "heading_collapsed": true
   },
   "source": [
    "## full features final model"
   ]
  },
  {
   "cell_type": "code",
   "execution_count": 77,
   "metadata": {
    "hidden": true
   },
   "outputs": [
    {
     "data": {
      "text/plain": [
       "LGBMClassifier(boosting_type='gbdt', class_weight={0: 1, 1: 14},\n",
       "               colsample_bytree=1.0, importance_type='split', learning_rate=0.1,\n",
       "               max_depth=-1, min_child_samples=20, min_child_weight=0.001,\n",
       "               min_split_gain=0.0, n_estimators=60, n_jobs=-1, num_leaves=31,\n",
       "               objective=None, random_state=0, reg_alpha=0.0, reg_lambda=0.0,\n",
       "               silent=False, subsample=1.0, subsample_for_bin=200000,\n",
       "               subsample_freq=0)"
      ]
     },
     "execution_count": 77,
     "metadata": {},
     "output_type": "execute_result"
    }
   ],
   "source": [
    "rf_full = copy(best_model)\n",
    "rf_full.fit(X_full_train, y_full_train)"
   ]
  },
  {
   "cell_type": "code",
   "execution_count": 78,
   "metadata": {
    "hidden": true
   },
   "outputs": [
    {
     "name": "stdout",
     "output_type": "stream",
     "text": [
      "0.468, 0.905\n"
     ]
    }
   ],
   "source": [
    "y_val_pred = rf_full.predict(X_val)\n",
    "y_val_f1_bestFI = f1_score(y_val, y_val_pred)\n",
    "y_val_rocauc_bestFI = roc_auc_score(y_val, rf_full.predict_proba(X_val)[:, -1])\n",
    "metric_results = \"%.3f, %.3f\" % (y_val_f1_bestFI, y_val_rocauc_bestFI)\n",
    "print(metric_results)"
   ]
  },
  {
   "cell_type": "code",
   "execution_count": 79,
   "metadata": {
    "hidden": true
   },
   "outputs": [
    {
     "data": {
      "text/plain": [
       "array([[4475,  388],\n",
       "       [  69,  201]])"
      ]
     },
     "execution_count": 79,
     "metadata": {},
     "output_type": "execute_result"
    }
   ],
   "source": [
    "conf_mat = confusion_matrix(y_val, y_val_pred)\n",
    "conf_mat"
   ]
  },
  {
   "cell_type": "code",
   "execution_count": 80,
   "metadata": {
    "hidden": true
   },
   "outputs": [
    {
     "data": {
      "text/plain": [
       "<matplotlib.axes._subplots.AxesSubplot at 0x7f4b4d7c7ba8>"
      ]
     },
     "execution_count": 80,
     "metadata": {},
     "output_type": "execute_result"
    },
    {
     "data": {
      "image/png": "[encoded data removed]",
      "text/plain": [
       "<Figure size 432x288 with 2 Axes>"
      ]
     },
     "metadata": {
      "needs_background": "light"
     },
     "output_type": "display_data"
    }
   ],
   "source": [
    "sns.heatmap(conf_mat, annot=True, fmt=\"d\")"
   ]
  },
  {
   "cell_type": "markdown",
   "metadata": {},
   "source": [
    "## red features final model"
   ]
  },
  {
   "cell_type": "code",
   "execution_count": 84,
   "metadata": {},
   "outputs": [
    {
     "data": {
      "text/plain": [
       "LGBMClassifier(boosting_type='gbdt', class_weight={0: 1, 1: 14},\n",
       "               colsample_bytree=1.0, importance_type='split', learning_rate=0.1,\n",
       "               max_depth=-1, min_child_samples=20, min_child_weight=0.001,\n",
       "               min_split_gain=0.0, n_estimators=60, n_jobs=-1, num_leaves=31,\n",
       "               objective=None, random_state=0, reg_alpha=0.0, reg_lambda=0.0,\n",
       "               silent=False, subsample=1.0, subsample_for_bin=200000,\n",
       "               subsample_freq=0)"
      ]
     },
     "execution_count": 84,
     "metadata": {},
     "output_type": "execute_result"
    }
   ],
   "source": [
    "rf_full = copy(clf.best_estimator_)\n",
    "rf_full.fit(X_full_train[to_keep], y_full_train)"
   ]
  },
  {
   "cell_type": "code",
   "execution_count": 85,
   "metadata": {},
   "outputs": [
    {
     "name": "stdout",
     "output_type": "stream",
     "text": [
      "0.471, 0.898\n"
     ]
    }
   ],
   "source": [
    "y_val_pred_prob = rf_full.predict_proba(X_val[to_keep])[:, -1]\n",
    "y_val_pred = y_val_pred_prob > 0.5\n",
    "y_val_f1_bestFI = f1_score(y_val, y_val_pred)\n",
    "y_val_rocauc_bestFI = roc_auc_score(y_val, y_val_pred_prob)\n",
    "metric_results = \"%.3f, %.3f\" % (y_val_f1_bestFI, y_val_rocauc_bestFI)\n",
    "print(metric_results)"
   ]
  },
  {
   "cell_type": "code",
   "execution_count": 86,
   "metadata": {},
   "outputs": [
    {
     "data": {
      "text/plain": [
       "array([[4477,  386],\n",
       "       [  68,  202]])"
      ]
     },
     "execution_count": 86,
     "metadata": {},
     "output_type": "execute_result"
    }
   ],
   "source": [
    "conf_mat = confusion_matrix(y_val, y_val_pred)\n",
    "conf_mat"
   ]
  },
  {
   "cell_type": "code",
   "execution_count": 87,
   "metadata": {},
   "outputs": [
    {
     "data": {
      "text/plain": [
       "<matplotlib.axes._subplots.AxesSubplot at 0x7f4b4d692748>"
      ]
     },
     "execution_count": 87,
     "metadata": {},
     "output_type": "execute_result"
    },
    {
     "data": {
      "image/png": "[encoded data removed]",
      "text/plain": [
       "<Figure size 432x288 with 2 Axes>"
      ]
     },
     "metadata": {
      "needs_background": "light"
     },
     "output_type": "display_data"
    }
   ],
   "source": [
    "sns.heatmap(conf_mat, annot=True, fmt=\"d\")"
   ]
  },
  {
   "cell_type": "markdown",
   "metadata": {},
   "source": [
    "## Tronador (sum cond >=5) comparison"
   ]
  },
  {
   "cell_type": "code",
   "execution_count": 81,
   "metadata": {},
   "outputs": [
    {
     "name": "stdout",
     "output_type": "stream",
     "text": [
      "(0.470873786407767,0.8222450704868967)\n"
     ]
    }
   ],
   "source": [
    "# comparing against > 5 logic\n",
    "y_tronador = X_val[\"total_condicion\"] >= 5\n",
    "print(f\"({f1_score(y_val, y_tronador)},{roc_auc_score(y_val, y_tronador)})\")"
   ]
  },
  {
   "cell_type": "code",
   "execution_count": 82,
   "metadata": {},
   "outputs": [
    {
     "data": {
      "text/plain": [
       "array([[4503,  360],\n",
       "       [  76,  194]])"
      ]
     },
     "execution_count": 82,
     "metadata": {},
     "output_type": "execute_result"
    }
   ],
   "source": [
    "conf_mat = confusion_matrix(y_val, y_tronador)\n",
    "conf_mat"
   ]
  },
  {
   "cell_type": "code",
   "execution_count": 83,
   "metadata": {},
   "outputs": [
    {
     "data": {
      "text/plain": [
       "<matplotlib.axes._subplots.AxesSubplot at 0x7f4b4d6f1d30>"
      ]
     },
     "execution_count": 83,
     "metadata": {},
     "output_type": "execute_result"
    },
    {
     "data": {
      "image/png": "[encoded data removed]",
      "text/plain": [
       "<Figure size 432x288 with 2 Axes>"
      ]
     },
     "metadata": {
      "needs_background": "light"
     },
     "output_type": "display_data"
    }
   ],
   "source": [
    "sns.heatmap(conf_mat, annot=True, fmt=\"d\")"
   ]
  },
  {
   "cell_type": "code",
   "execution_count": null,
   "metadata": {},
   "outputs": [],
   "source": []
  },
  {
   "cell_type": "markdown",
   "metadata": {
    "heading_collapsed": true
   },
   "source": [
    "# Saving final model & columns used into hard drive"
   ]
  },
  {
   "cell_type": "code",
   "execution_count": 88,
   "metadata": {
    "hidden": true
   },
   "outputs": [],
   "source": [
    "path_to_save = f\"models/{model_id}/\"\n",
    "os.makedirs(path_to_save, exist_ok=True)"
   ]
  },
  {
   "cell_type": "code",
   "execution_count": 89,
   "metadata": {
    "hidden": true
   },
   "outputs": [],
   "source": [
    "model_file = os.path.join(path_to_save, f\"{model_id}.pickle\")\n",
    "\n",
    "with open(model_file, \"wb\") as f:\n",
    "    pickle.dump(best_model, f, pickle.HIGHEST_PROTOCOL)"
   ]
  },
  {
   "cell_type": "code",
   "execution_count": 90,
   "metadata": {
    "hidden": true
   },
   "outputs": [],
   "source": [
    "# save file for humans\n",
    "model_file = os.path.join(path_to_save, f\"{model_id} - readable.pickle\")\n",
    "\n",
    "with open(model_file, \"wb\") as f:\n",
    "    pickle.dump(best_model, f, 0) # 0 is human readable format"
   ]
  },
  {
   "cell_type": "code",
   "execution_count": 91,
   "metadata": {
    "hidden": true
   },
   "outputs": [
    {
     "name": "stdout",
     "output_type": "stream",
     "text": [
      "['total_condicion', 'cond_C10', 'CODIGO_VEHICULO', 'CODIGO_REAPERTURA', 'preg_34', 'COD_POST_OCURRENCIA', 'COD_POST_POLIZA', 'OCUPACION_ASEG', 'COD_POST_OCURRENCIA_RC_CLUSTER_2019', 'FECHA_SINI_Elapsed', 'ANTIG_pol', 'FECHA_SINI_Dayofyear', 'CODIGO_CARATULA', 'COD_POST_POLIZA_RC_CLUSTER_2019', 'COD_RIES_sini', 'preg_33', 'TIPO_SINIESTRO', 'SEGMENTO', 'CAPITAL_VEHICULO', 'ESTAD_VEH_ASEG', 'ESTADO_CIVIL', 'COD_PROD', 'CAPITAL_ASEGURADO_COTIZACION', 'preg_15', 'FALTANTE', 'CANT_RENOVACION', 'CAPITAL_ACCESORIOS', 'DESCRIPCION_TIPO', 'preg_32', 'COD_ZONA_ROBO', 'SEXO', 'cond_C15', 'cant_sini_1y', 'cond_C11', 'COD_POST_OCURRENCIA_RT_CLUSTER_2019', 'COD_POST_POLIZA_DP_CLUSTER_2019', 'COD_COBRO_ANTERIOR', 'COD_RAMO_sini', 'FECHA_SINI_Week', 'FECHA_SINI_Month', 'COD_ZONA_RC', 'cond_C12', 'cond_C13', 'COD_POST_POLIZA_RT_CLUSTER_2019', 'preg_31']\n"
     ]
    }
   ],
   "source": [
    "# merging list input & target\n",
    "full_cols = list(to_keep)  # + [\"EXISTE_FRAUDE\"]\n",
    "print(full_cols)"
   ]
  },
  {
   "cell_type": "code",
   "execution_count": 92,
   "metadata": {
    "hidden": true
   },
   "outputs": [],
   "source": [
    "columns_file = os.path.join(path_to_save, f\"{model_id} (COLUMNS) - n_features_{len(full_cols)}.pickle\")\n",
    "\n",
    "with open(columns_file, \"wb\") as file:\n",
    "    pickle.dump(full_cols, file, pickle.HIGHEST_PROTOCOL)"
   ]
  },
  {
   "cell_type": "code",
   "execution_count": 120,
   "metadata": {
    "hidden": true
   },
   "outputs": [],
   "source": [
    "# saving to use as example a few rows to implement the model\n",
    "# path_to_save = \"../../src/data/1.1 - df_train 01-18to12-18/\"\n",
    "# sample_file = os.path.join(path_to_save, f\"{model_id} (sample)  - dataset example to predict model.csv\")\n",
    "\n",
    "# df_example = X_val.loc[:, to_keep][-50:]\n",
    "# df_example[\"EXISTE_FRAUDE\"] = y_val[-50:]\n",
    "# df_example.to_csv(sample_file)"
   ]
  },
  {
   "cell_type": "code",
   "execution_count": null,
   "metadata": {
    "hidden": true
   },
   "outputs": [],
   "source": [
    "# df_example.head()"
   ]
  },
  {
   "cell_type": "markdown",
   "metadata": {},
   "source": [
    "# Test prediction"
   ]
  },
  {
   "cell_type": "code",
   "execution_count": 3,
   "metadata": {},
   "outputs": [],
   "source": [
    "df_test = pd.read_feather(os.path.join(path, \"1.2.b - group zone - 01-17 to 01-19 - df_test 04-19to04-19.feather\"))"
   ]
  },
  {
   "cell_type": "code",
   "execution_count": 4,
   "metadata": {},
   "outputs": [],
   "source": [
    "df_test = df_test[df_test[\"TIPO_EXPED\"] == 6]"
   ]
  },
  {
   "cell_type": "code",
   "execution_count": 95,
   "metadata": {},
   "outputs": [],
   "source": [
    "# Loding the model\n",
    "\n",
    "def load_model(model_file):\n",
    "    \"\"\"Load the dump model.\"\"\"\n",
    "    with open(model_file, \"rb\") as file:\n",
    "        m = pickle.load(file)\n",
    "    return m\n",
    "\n",
    "\n",
    "def load_columns(columns_file):\n",
    "    \"\"\"Load the array of columns use in the dump model.\"\"\"\n",
    "    with open(columns_file, \"rb\") as file:\n",
    "        columns = pickle.load(file)\n",
    "    return columns"
   ]
  },
  {
   "cell_type": "code",
   "execution_count": 96,
   "metadata": {},
   "outputs": [],
   "source": [
    "m = load_model(model_file)\n",
    "columns = load_columns(columns_file)"
   ]
  },
  {
   "cell_type": "code",
   "execution_count": 97,
   "metadata": {},
   "outputs": [
    {
     "name": "stdout",
     "output_type": "stream",
     "text": [
      "['total_condicion', 'cond_C10', 'CODIGO_VEHICULO', 'CODIGO_REAPERTURA', 'preg_34', 'COD_POST_OCURRENCIA', 'COD_POST_POLIZA', 'OCUPACION_ASEG', 'COD_POST_OCURRENCIA_RC_CLUSTER_2019', 'FECHA_SINI_Elapsed', 'ANTIG_pol', 'FECHA_SINI_Dayofyear', 'CODIGO_CARATULA', 'COD_POST_POLIZA_RC_CLUSTER_2019', 'COD_RIES_sini', 'preg_33', 'TIPO_SINIESTRO', 'SEGMENTO', 'CAPITAL_VEHICULO', 'ESTAD_VEH_ASEG', 'ESTADO_CIVIL', 'COD_PROD', 'CAPITAL_ASEGURADO_COTIZACION', 'preg_15', 'FALTANTE', 'CANT_RENOVACION', 'CAPITAL_ACCESORIOS', 'DESCRIPCION_TIPO', 'preg_32', 'COD_ZONA_ROBO', 'SEXO', 'cond_C15', 'cant_sini_1y', 'cond_C11', 'COD_POST_OCURRENCIA_RT_CLUSTER_2019', 'COD_POST_POLIZA_DP_CLUSTER_2019', 'COD_COBRO_ANTERIOR', 'COD_RAMO_sini', 'FECHA_SINI_Week', 'FECHA_SINI_Month', 'COD_ZONA_RC', 'cond_C12', 'cond_C13', 'COD_POST_POLIZA_RT_CLUSTER_2019', 'preg_31']\n"
     ]
    }
   ],
   "source": [
    "print(columns)"
   ]
  },
  {
   "cell_type": "code",
   "execution_count": 98,
   "metadata": {},
   "outputs": [],
   "source": [
    "X_test = df_test[columns]\n",
    "y_test = df_test[\"EXISTE_FRAUDE\"]"
   ]
  },
  {
   "cell_type": "code",
   "execution_count": 99,
   "metadata": {},
   "outputs": [
    {
     "data": {
      "text/html": [
       "<div>\n",
       "<style scoped>\n",
       "    .dataframe tbody tr th:only-of-type {\n",
       "        vertical-align: middle;\n",
       "    }\n",
       "\n",
       "    .dataframe tbody tr th {\n",
       "        vertical-align: top;\n",
       "    }\n",
       "\n",
       "    .dataframe thead th {\n",
       "        text-align: right;\n",
       "    }\n",
       "</style>\n",
       "<table border=\"1\" class=\"dataframe\">\n",
       "  <thead>\n",
       "    <tr style=\"text-align: right;\">\n",
       "      <th></th>\n",
       "      <th>total_condicion</th>\n",
       "      <th>cond_C10</th>\n",
       "      <th>CODIGO_VEHICULO</th>\n",
       "      <th>CODIGO_REAPERTURA</th>\n",
       "      <th>preg_34</th>\n",
       "      <th>COD_POST_OCURRENCIA</th>\n",
       "      <th>COD_POST_POLIZA</th>\n",
       "      <th>OCUPACION_ASEG</th>\n",
       "      <th>COD_POST_OCURRENCIA_RC_CLUSTER_2019</th>\n",
       "      <th>FECHA_SINI_Elapsed</th>\n",
       "      <th>ANTIG_pol</th>\n",
       "      <th>FECHA_SINI_Dayofyear</th>\n",
       "      <th>CODIGO_CARATULA</th>\n",
       "      <th>COD_POST_POLIZA_RC_CLUSTER_2019</th>\n",
       "      <th>COD_RIES_sini</th>\n",
       "      <th>preg_33</th>\n",
       "      <th>TIPO_SINIESTRO</th>\n",
       "      <th>SEGMENTO</th>\n",
       "      <th>CAPITAL_VEHICULO</th>\n",
       "      <th>ESTAD_VEH_ASEG</th>\n",
       "      <th>ESTADO_CIVIL</th>\n",
       "      <th>COD_PROD</th>\n",
       "      <th>CAPITAL_ASEGURADO_COTIZACION</th>\n",
       "      <th>preg_15</th>\n",
       "      <th>FALTANTE</th>\n",
       "      <th>CANT_RENOVACION</th>\n",
       "      <th>CAPITAL_ACCESORIOS</th>\n",
       "      <th>DESCRIPCION_TIPO</th>\n",
       "      <th>preg_32</th>\n",
       "      <th>COD_ZONA_ROBO</th>\n",
       "      <th>SEXO</th>\n",
       "      <th>cond_C15</th>\n",
       "      <th>cant_sini_1y</th>\n",
       "      <th>cond_C11</th>\n",
       "      <th>COD_POST_OCURRENCIA_RT_CLUSTER_2019</th>\n",
       "      <th>COD_POST_POLIZA_DP_CLUSTER_2019</th>\n",
       "      <th>COD_COBRO_ANTERIOR</th>\n",
       "      <th>COD_RAMO_sini</th>\n",
       "      <th>FECHA_SINI_Week</th>\n",
       "      <th>FECHA_SINI_Month</th>\n",
       "      <th>COD_ZONA_RC</th>\n",
       "      <th>cond_C12</th>\n",
       "      <th>cond_C13</th>\n",
       "      <th>COD_POST_POLIZA_RT_CLUSTER_2019</th>\n",
       "      <th>preg_31</th>\n",
       "    </tr>\n",
       "  </thead>\n",
       "  <tbody>\n",
       "    <tr>\n",
       "      <th>11</th>\n",
       "      <td>2.0</td>\n",
       "      <td>0.0</td>\n",
       "      <td>12415.0</td>\n",
       "      <td>-1.0</td>\n",
       "      <td>270</td>\n",
       "      <td>5010.0</td>\n",
       "      <td>5010.0</td>\n",
       "      <td>5.0</td>\n",
       "      <td>18.0</td>\n",
       "      <td>1554076800</td>\n",
       "      <td>455.0</td>\n",
       "      <td>91.0</td>\n",
       "      <td>-1.0</td>\n",
       "      <td>18.0</td>\n",
       "      <td>1.0</td>\n",
       "      <td>1</td>\n",
       "      <td>5</td>\n",
       "      <td>4</td>\n",
       "      <td>1324</td>\n",
       "      <td>3.0</td>\n",
       "      <td>6</td>\n",
       "      <td>5010.0</td>\n",
       "      <td>778</td>\n",
       "      <td>-1</td>\n",
       "      <td>0</td>\n",
       "      <td>16.0</td>\n",
       "      <td>8</td>\n",
       "      <td>3</td>\n",
       "      <td>1</td>\n",
       "      <td>7.0</td>\n",
       "      <td>1</td>\n",
       "      <td>0.0</td>\n",
       "      <td>0.0</td>\n",
       "      <td>0.0</td>\n",
       "      <td>3.0</td>\n",
       "      <td>19.0</td>\n",
       "      <td>0</td>\n",
       "      <td>1.0</td>\n",
       "      <td>14.0</td>\n",
       "      <td>4.0</td>\n",
       "      <td>8.0</td>\n",
       "      <td>0.0</td>\n",
       "      <td>0.0</td>\n",
       "      <td>3.0</td>\n",
       "      <td>0</td>\n",
       "    </tr>\n",
       "    <tr>\n",
       "      <th>13</th>\n",
       "      <td>2.0</td>\n",
       "      <td>0.0</td>\n",
       "      <td>21763.0</td>\n",
       "      <td>-1.0</td>\n",
       "      <td>-1</td>\n",
       "      <td>1759.0</td>\n",
       "      <td>1759.0</td>\n",
       "      <td>28.0</td>\n",
       "      <td>25.0</td>\n",
       "      <td>1554076800</td>\n",
       "      <td>608.0</td>\n",
       "      <td>91.0</td>\n",
       "      <td>-1.0</td>\n",
       "      <td>25.0</td>\n",
       "      <td>1.0</td>\n",
       "      <td>1</td>\n",
       "      <td>5</td>\n",
       "      <td>4</td>\n",
       "      <td>424</td>\n",
       "      <td>3.0</td>\n",
       "      <td>6</td>\n",
       "      <td>6030.0</td>\n",
       "      <td>317</td>\n",
       "      <td>-1</td>\n",
       "      <td>1</td>\n",
       "      <td>21.0</td>\n",
       "      <td>8</td>\n",
       "      <td>3</td>\n",
       "      <td>1</td>\n",
       "      <td>1.0</td>\n",
       "      <td>1</td>\n",
       "      <td>0.0</td>\n",
       "      <td>0.0</td>\n",
       "      <td>0.0</td>\n",
       "      <td>10.0</td>\n",
       "      <td>29.0</td>\n",
       "      <td>5</td>\n",
       "      <td>1.0</td>\n",
       "      <td>14.0</td>\n",
       "      <td>4.0</td>\n",
       "      <td>1.0</td>\n",
       "      <td>0.0</td>\n",
       "      <td>0.0</td>\n",
       "      <td>10.0</td>\n",
       "      <td>1</td>\n",
       "    </tr>\n",
       "    <tr>\n",
       "      <th>23</th>\n",
       "      <td>5.0</td>\n",
       "      <td>0.0</td>\n",
       "      <td>2035.0</td>\n",
       "      <td>-1.0</td>\n",
       "      <td>293</td>\n",
       "      <td>1754.0</td>\n",
       "      <td>1766.0</td>\n",
       "      <td>8.0</td>\n",
       "      <td>25.0</td>\n",
       "      <td>1554076800</td>\n",
       "      <td>1034.0</td>\n",
       "      <td>91.0</td>\n",
       "      <td>-1.0</td>\n",
       "      <td>25.0</td>\n",
       "      <td>1.0</td>\n",
       "      <td>1</td>\n",
       "      <td>7</td>\n",
       "      <td>4</td>\n",
       "      <td>2781</td>\n",
       "      <td>3.0</td>\n",
       "      <td>6</td>\n",
       "      <td>6030.0</td>\n",
       "      <td>1475</td>\n",
       "      <td>-1</td>\n",
       "      <td>0</td>\n",
       "      <td>35.0</td>\n",
       "      <td>182</td>\n",
       "      <td>2</td>\n",
       "      <td>1</td>\n",
       "      <td>1.0</td>\n",
       "      <td>1</td>\n",
       "      <td>0.0</td>\n",
       "      <td>0.0</td>\n",
       "      <td>0.0</td>\n",
       "      <td>10.0</td>\n",
       "      <td>29.0</td>\n",
       "      <td>5</td>\n",
       "      <td>1.0</td>\n",
       "      <td>14.0</td>\n",
       "      <td>4.0</td>\n",
       "      <td>1.0</td>\n",
       "      <td>3.0</td>\n",
       "      <td>0.0</td>\n",
       "      <td>10.0</td>\n",
       "      <td>0</td>\n",
       "    </tr>\n",
       "    <tr>\n",
       "      <th>24</th>\n",
       "      <td>3.0</td>\n",
       "      <td>0.0</td>\n",
       "      <td>2116.0</td>\n",
       "      <td>-1.0</td>\n",
       "      <td>270</td>\n",
       "      <td>1766.0</td>\n",
       "      <td>1766.0</td>\n",
       "      <td>5.0</td>\n",
       "      <td>25.0</td>\n",
       "      <td>1554076800</td>\n",
       "      <td>676.0</td>\n",
       "      <td>91.0</td>\n",
       "      <td>-1.0</td>\n",
       "      <td>25.0</td>\n",
       "      <td>1.0</td>\n",
       "      <td>0</td>\n",
       "      <td>5</td>\n",
       "      <td>-1</td>\n",
       "      <td>5618</td>\n",
       "      <td>5.0</td>\n",
       "      <td>0</td>\n",
       "      <td>72189.0</td>\n",
       "      <td>2818</td>\n",
       "      <td>-1</td>\n",
       "      <td>1</td>\n",
       "      <td>24.0</td>\n",
       "      <td>8</td>\n",
       "      <td>3</td>\n",
       "      <td>0</td>\n",
       "      <td>1.0</td>\n",
       "      <td>1</td>\n",
       "      <td>0.0</td>\n",
       "      <td>0.0</td>\n",
       "      <td>0.0</td>\n",
       "      <td>10.0</td>\n",
       "      <td>29.0</td>\n",
       "      <td>2</td>\n",
       "      <td>8.0</td>\n",
       "      <td>14.0</td>\n",
       "      <td>4.0</td>\n",
       "      <td>1.0</td>\n",
       "      <td>3.0</td>\n",
       "      <td>0.0</td>\n",
       "      <td>10.0</td>\n",
       "      <td>0</td>\n",
       "    </tr>\n",
       "    <tr>\n",
       "      <th>30</th>\n",
       "      <td>0.0</td>\n",
       "      <td>0.0</td>\n",
       "      <td>28512.0</td>\n",
       "      <td>-1.0</td>\n",
       "      <td>270</td>\n",
       "      <td>5000.0</td>\n",
       "      <td>5000.0</td>\n",
       "      <td>13.0</td>\n",
       "      <td>18.0</td>\n",
       "      <td>1554076800</td>\n",
       "      <td>516.0</td>\n",
       "      <td>91.0</td>\n",
       "      <td>-1.0</td>\n",
       "      <td>18.0</td>\n",
       "      <td>1.0</td>\n",
       "      <td>1</td>\n",
       "      <td>5</td>\n",
       "      <td>5</td>\n",
       "      <td>7555</td>\n",
       "      <td>3.0</td>\n",
       "      <td>9</td>\n",
       "      <td>72043.0</td>\n",
       "      <td>3534</td>\n",
       "      <td>-1</td>\n",
       "      <td>1</td>\n",
       "      <td>18.0</td>\n",
       "      <td>8</td>\n",
       "      <td>23</td>\n",
       "      <td>0</td>\n",
       "      <td>7.0</td>\n",
       "      <td>1</td>\n",
       "      <td>0.0</td>\n",
       "      <td>1.0</td>\n",
       "      <td>0.0</td>\n",
       "      <td>3.0</td>\n",
       "      <td>19.0</td>\n",
       "      <td>2</td>\n",
       "      <td>1.0</td>\n",
       "      <td>14.0</td>\n",
       "      <td>4.0</td>\n",
       "      <td>8.0</td>\n",
       "      <td>0.0</td>\n",
       "      <td>0.0</td>\n",
       "      <td>3.0</td>\n",
       "      <td>0</td>\n",
       "    </tr>\n",
       "  </tbody>\n",
       "</table>\n",
       "</div>"
      ],
      "text/plain": [
       "    total_condicion  cond_C10  CODIGO_VEHICULO  CODIGO_REAPERTURA  preg_34  \\\n",
       "11              2.0       0.0          12415.0               -1.0      270   \n",
       "13              2.0       0.0          21763.0               -1.0       -1   \n",
       "23              5.0       0.0           2035.0               -1.0      293   \n",
       "24              3.0       0.0           2116.0               -1.0      270   \n",
       "30              0.0       0.0          28512.0               -1.0      270   \n",
       "\n",
       "    COD_POST_OCURRENCIA  COD_POST_POLIZA  OCUPACION_ASEG  \\\n",
       "11               5010.0           5010.0             5.0   \n",
       "13               1759.0           1759.0            28.0   \n",
       "23               1754.0           1766.0             8.0   \n",
       "24               1766.0           1766.0             5.0   \n",
       "30               5000.0           5000.0            13.0   \n",
       "\n",
       "    COD_POST_OCURRENCIA_RC_CLUSTER_2019  FECHA_SINI_Elapsed  ANTIG_pol  \\\n",
       "11                                 18.0          1554076800      455.0   \n",
       "13                                 25.0          1554076800      608.0   \n",
       "23                                 25.0          1554076800     1034.0   \n",
       "24                                 25.0          1554076800      676.0   \n",
       "30                                 18.0          1554076800      516.0   \n",
       "\n",
       "    FECHA_SINI_Dayofyear  CODIGO_CARATULA  COD_POST_POLIZA_RC_CLUSTER_2019  \\\n",
       "11                  91.0             -1.0                             18.0   \n",
       "13                  91.0             -1.0                             25.0   \n",
       "23                  91.0             -1.0                             25.0   \n",
       "24                  91.0             -1.0                             25.0   \n",
       "30                  91.0             -1.0                             18.0   \n",
       "\n",
       "    COD_RIES_sini  preg_33  TIPO_SINIESTRO  SEGMENTO  CAPITAL_VEHICULO  \\\n",
       "11            1.0        1               5         4              1324   \n",
       "13            1.0        1               5         4               424   \n",
       "23            1.0        1               7         4              2781   \n",
       "24            1.0        0               5        -1              5618   \n",
       "30            1.0        1               5         5              7555   \n",
       "\n",
       "    ESTAD_VEH_ASEG  ESTADO_CIVIL  COD_PROD  CAPITAL_ASEGURADO_COTIZACION  \\\n",
       "11             3.0             6    5010.0                           778   \n",
       "13             3.0             6    6030.0                           317   \n",
       "23             3.0             6    6030.0                          1475   \n",
       "24             5.0             0   72189.0                          2818   \n",
       "30             3.0             9   72043.0                          3534   \n",
       "\n",
       "    preg_15  FALTANTE  CANT_RENOVACION  CAPITAL_ACCESORIOS  DESCRIPCION_TIPO  \\\n",
       "11       -1         0             16.0                   8                 3   \n",
       "13       -1         1             21.0                   8                 3   \n",
       "23       -1         0             35.0                 182                 2   \n",
       "24       -1         1             24.0                   8                 3   \n",
       "30       -1         1             18.0                   8                23   \n",
       "\n",
       "    preg_32  COD_ZONA_ROBO  SEXO  cond_C15  cant_sini_1y  cond_C11  \\\n",
       "11        1            7.0     1       0.0           0.0       0.0   \n",
       "13        1            1.0     1       0.0           0.0       0.0   \n",
       "23        1            1.0     1       0.0           0.0       0.0   \n",
       "24        0            1.0     1       0.0           0.0       0.0   \n",
       "30        0            7.0     1       0.0           1.0       0.0   \n",
       "\n",
       "    COD_POST_OCURRENCIA_RT_CLUSTER_2019  COD_POST_POLIZA_DP_CLUSTER_2019  \\\n",
       "11                                  3.0                             19.0   \n",
       "13                                 10.0                             29.0   \n",
       "23                                 10.0                             29.0   \n",
       "24                                 10.0                             29.0   \n",
       "30                                  3.0                             19.0   \n",
       "\n",
       "    COD_COBRO_ANTERIOR  COD_RAMO_sini  FECHA_SINI_Week  FECHA_SINI_Month  \\\n",
       "11                   0            1.0             14.0               4.0   \n",
       "13                   5            1.0             14.0               4.0   \n",
       "23                   5            1.0             14.0               4.0   \n",
       "24                   2            8.0             14.0               4.0   \n",
       "30                   2            1.0             14.0               4.0   \n",
       "\n",
       "    COD_ZONA_RC  cond_C12  cond_C13  COD_POST_POLIZA_RT_CLUSTER_2019  preg_31  \n",
       "11          8.0       0.0       0.0                              3.0        0  \n",
       "13          1.0       0.0       0.0                             10.0        1  \n",
       "23          1.0       3.0       0.0                             10.0        0  \n",
       "24          1.0       3.0       0.0                             10.0        0  \n",
       "30          8.0       0.0       0.0                              3.0        0  "
      ]
     },
     "execution_count": 99,
     "metadata": {},
     "output_type": "execute_result"
    }
   ],
   "source": [
    "X_test.head()"
   ]
  },
  {
   "cell_type": "markdown",
   "metadata": {},
   "source": [
    "## Model in test"
   ]
  },
  {
   "cell_type": "code",
   "execution_count": 100,
   "metadata": {},
   "outputs": [
    {
     "name": "stdout",
     "output_type": "stream",
     "text": [
      "0.393, 0.893\n"
     ]
    }
   ],
   "source": [
    "# using trained model\n",
    "y_test_pred_prob = m.predict_proba(X_test)[:, -1]\n",
    "\n",
    "# Using load model\n",
    "# y_test_pred_prob = m.predict_proba(X_test)[:, -1]\n",
    "\n",
    "print(\"%.3f, %.3f\" % (f1_score(y_test, y_test_pred_prob > 0.5), roc_auc_score(y_test, y_test_pred_prob)))"
   ]
  },
  {
   "cell_type": "code",
   "execution_count": 127,
   "metadata": {},
   "outputs": [
    {
     "data": {
      "text/plain": [
       "<matplotlib.axes._subplots.AxesSubplot at 0x7f5d5ca90f98>"
      ]
     },
     "execution_count": 127,
     "metadata": {},
     "output_type": "execute_result"
    },
    {
     "data": {
      "image/png": "[encoded data removed]",
      "text/plain": [
       "<Figure size 432x288 with 2 Axes>"
      ]
     },
     "metadata": {
      "needs_background": "light"
     },
     "output_type": "display_data"
    }
   ],
   "source": [
    "conf_mat = confusion_matrix(y_test, y_test_pred_prob > 0.5)\n",
    "sns.heatmap(conf_mat, annot=True, fmt=\"d\")"
   ]
  },
  {
   "cell_type": "markdown",
   "metadata": {},
   "source": [
    "## Tronador in test"
   ]
  },
  {
   "cell_type": "code",
   "execution_count": 128,
   "metadata": {},
   "outputs": [
    {
     "name": "stdout",
     "output_type": "stream",
     "text": [
      "0.444, 0.842\n"
     ]
    }
   ],
   "source": [
    "y_tronador = df_test[\"es_gte_5\"]\n",
    "print(\"%.3f, %.3f\" % (f1_score(y_test, y_tronador), roc_auc_score(y_test, y_tronador)))"
   ]
  },
  {
   "cell_type": "code",
   "execution_count": 129,
   "metadata": {},
   "outputs": [
    {
     "data": {
      "text/plain": [
       "<matplotlib.axes._subplots.AxesSubplot at 0x7f5d5c4d7c50>"
      ]
     },
     "execution_count": 129,
     "metadata": {},
     "output_type": "execute_result"
    },
    {
     "data": {
      "image/png": "[encoded data removed]",
      "text/plain": [
       "<Figure size 432x288 with 2 Axes>"
      ]
     },
     "metadata": {
      "needs_background": "light"
     },
     "output_type": "display_data"
    }
   ],
   "source": [
    "conf_mat = confusion_matrix(y_test, y_tronador)\n",
    "sns.heatmap(conf_mat, annot=True, fmt=\"d\")"
   ]
  },
  {
   "cell_type": "code",
   "execution_count": 5,
   "metadata": {},
   "outputs": [
    {
     "data": {
      "text/html": [
       "<div>\n",
       "<style scoped>\n",
       "    .dataframe tbody tr th:only-of-type {\n",
       "        vertical-align: middle;\n",
       "    }\n",
       "\n",
       "    .dataframe tbody tr th {\n",
       "        vertical-align: top;\n",
       "    }\n",
       "\n",
       "    .dataframe thead th {\n",
       "        text-align: right;\n",
       "    }\n",
       "</style>\n",
       "<table border=\"1\" class=\"dataframe\">\n",
       "  <thead>\n",
       "    <tr style=\"text-align: right;\">\n",
       "      <th>EXISTE_FRAUDE</th>\n",
       "      <th>False</th>\n",
       "      <th>True</th>\n",
       "    </tr>\n",
       "    <tr>\n",
       "      <th>total_condicion</th>\n",
       "      <th></th>\n",
       "      <th></th>\n",
       "    </tr>\n",
       "  </thead>\n",
       "  <tbody>\n",
       "    <tr>\n",
       "      <th>0.0</th>\n",
       "      <td>1595</td>\n",
       "      <td>10</td>\n",
       "    </tr>\n",
       "    <tr>\n",
       "      <th>1.0</th>\n",
       "      <td>134</td>\n",
       "      <td>1</td>\n",
       "    </tr>\n",
       "    <tr>\n",
       "      <th>2.0</th>\n",
       "      <td>239</td>\n",
       "      <td>1</td>\n",
       "    </tr>\n",
       "    <tr>\n",
       "      <th>3.0</th>\n",
       "      <td>251</td>\n",
       "      <td>10</td>\n",
       "    </tr>\n",
       "    <tr>\n",
       "      <th>4.0</th>\n",
       "      <td>17</td>\n",
       "      <td>0</td>\n",
       "    </tr>\n",
       "    <tr>\n",
       "      <th>5.0</th>\n",
       "      <td>80</td>\n",
       "      <td>30</td>\n",
       "    </tr>\n",
       "    <tr>\n",
       "      <th>6.0</th>\n",
       "      <td>23</td>\n",
       "      <td>5</td>\n",
       "    </tr>\n",
       "    <tr>\n",
       "      <th>7.0</th>\n",
       "      <td>3</td>\n",
       "      <td>3</td>\n",
       "    </tr>\n",
       "    <tr>\n",
       "      <th>8.0</th>\n",
       "      <td>15</td>\n",
       "      <td>6</td>\n",
       "    </tr>\n",
       "    <tr>\n",
       "      <th>9.0</th>\n",
       "      <td>0</td>\n",
       "      <td>1</td>\n",
       "    </tr>\n",
       "    <tr>\n",
       "      <th>10.0</th>\n",
       "      <td>11</td>\n",
       "      <td>8</td>\n",
       "    </tr>\n",
       "    <tr>\n",
       "      <th>11.0</th>\n",
       "      <td>0</td>\n",
       "      <td>1</td>\n",
       "    </tr>\n",
       "    <tr>\n",
       "      <th>12.0</th>\n",
       "      <td>2</td>\n",
       "      <td>5</td>\n",
       "    </tr>\n",
       "    <tr>\n",
       "      <th>13.0</th>\n",
       "      <td>1</td>\n",
       "      <td>4</td>\n",
       "    </tr>\n",
       "    <tr>\n",
       "      <th>15.0</th>\n",
       "      <td>1</td>\n",
       "      <td>0</td>\n",
       "    </tr>\n",
       "  </tbody>\n",
       "</table>\n",
       "</div>"
      ],
      "text/plain": [
       "EXISTE_FRAUDE    False  True \n",
       "total_condicion              \n",
       "0.0               1595     10\n",
       "1.0                134      1\n",
       "2.0                239      1\n",
       "3.0                251     10\n",
       "4.0                 17      0\n",
       "5.0                 80     30\n",
       "6.0                 23      5\n",
       "7.0                  3      3\n",
       "8.0                 15      6\n",
       "9.0                  0      1\n",
       "10.0                11      8\n",
       "11.0                 0      1\n",
       "12.0                 2      5\n",
       "13.0                 1      4\n",
       "15.0                 1      0"
      ]
     },
     "execution_count": 5,
     "metadata": {},
     "output_type": "execute_result"
    }
   ],
   "source": [
    "pd.crosstab(df_test[\"total_condicion\"],df_test[\"EXISTE_FRAUDE\"])"
   ]
  },
  {
   "cell_type": "code",
   "execution_count": null,
   "metadata": {},
   "outputs": [],
   "source": []
  }
 ],
 "metadata": {
  "kernelspec": {
   "display_name": "Python 3",
   "language": "python",
   "name": "python3"
  },
  "language_info": {
   "codemirror_mode": {
    "name": "ipython",
    "version": 3
   },
   "file_extension": ".py",
   "mimetype": "text/x-python",
   "name": "python",
   "nbconvert_exporter": "python",
   "pygments_lexer": "ipython3",
   "version": "3.6.8"
  },
  "varInspector": {
   "cols": {
    "lenName": 16,
    "lenType": 16,
    "lenVar": 40
   },
   "kernels_config": {
    "python": {
     "delete_cmd_postfix": "",
     "delete_cmd_prefix": "del ",
     "library": "var_list.py",
     "varRefreshCmd": "print(var_dic_list())"
    },
    "r": {
     "delete_cmd_postfix": ") ",
     "delete_cmd_prefix": "rm(",
     "library": "var_list.r",
     "varRefreshCmd": "cat(var_dic_list()) "
    }
   },
   "types_to_exclude": [
    "module",
    "function",
    "builtin_function_or_method",
    "instance",
    "_Feature"
   ],
   "window_display": false
  }
 },
 "nbformat": 4,
 "nbformat_minor": 2
}
