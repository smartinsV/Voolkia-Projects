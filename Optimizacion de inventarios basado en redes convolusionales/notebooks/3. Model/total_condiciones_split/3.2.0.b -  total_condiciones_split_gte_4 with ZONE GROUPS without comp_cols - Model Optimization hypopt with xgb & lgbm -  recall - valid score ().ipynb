{
 "cells": [
  {
   "cell_type": "markdown",
   "metadata": {},
   "source": [
    "# Model hiper optimization"
   ]
  },
  {
   "cell_type": "markdown",
   "metadata": {},
   "source": []
  },
  {
   "cell_type": "code",
   "execution_count": 1,
   "metadata": {},
   "outputs": [],
   "source": [
    "#imports\n",
    "import os\n",
    "from copy import copy\n",
    "\n",
    "import pandas as pd\n",
    "import numpy as np\n",
    "import seaborn as sns\n",
    "import matplotlib.pyplot as plt\n",
    "from sklearn.metrics import roc_auc_score, f1_score, confusion_matrix\n",
    "from sklearn.ensemble import RandomForestClassifier, ExtraTreesClassifier\n",
    "from sklearn.tree import DecisionTreeClassifier\n",
    "from xgboost import XGBClassifier\n",
    "from lightgbm import LGBMClassifier\n",
    "from sklearn.model_selection import GridSearchCV, RandomizedSearchCV\n",
    "from hypopt import GridSearch\n",
    "from hyperopt import tpe, fmin, space_eval, Trials, STATUS_OK, hp\n",
    "from sklearn.model_selection import StratifiedShuffleSplit\n",
    "\n",
    "import pickle"
   ]
  },
  {
   "cell_type": "code",
   "execution_count": 2,
   "metadata": {},
   "outputs": [
    {
     "name": "stdout",
     "output_type": "stream",
     "text": [
      "['1.1.b - 01-17 to 01-19 - df_val 02-19to03-19.feather', '1.1.b - 01-17 to 01-19 - df_train only 2018 without nulls.feather', '1.2.b - group zone - 01-17 to 01-19 - df_test 04-19to05-19.feather', '1.1 - df_train with nan.feather', '1.2.b - group zone - 01-17 to 01-19 - df_val 02-19to03-19.feather', '1.1 - df_train.feather', '1.2.b - group zone - 01-17 to 01-19 - df_train with nan.feather', '1.1 - df_test 04-19to04-19.feather', '1.1 - df_val 01-19to03-19.feather', '1.1.b - 01-17 to 01-19 - df_train without nulls.feather', '1.1 - df_train only 2018 without nulls.feather', '1.2.b - group zone - 01-17 to 01-19 - df_test 04-19to04-19.feather', '1.1.b - 01-17 to 01-19 - df_train with nan.feather', '1.1 - df_test 04-19to05-19.feather', '1.2.b - group zone - 01-17 to 01-19 - df_train without nulls.feather', '1.1.b - 01-17 to 01-19 - df_test 04-19to04-19.feather', '1.1.b - 01-17 to 01-19 - df_test 04-19to05-19.feather', '1.2.b - group zone - 01-17 to 01-19 - df_train only 2018 without nulls.feather']\n"
     ]
    }
   ],
   "source": [
    "# configs.\n",
    "%matplotlib inline\n",
    "# version to read\n",
    "read_version = \"1.2.b - group zone\"\n",
    "\n",
    "# model to save\n",
    "model_id = \"3.2.0.b -  total_condiciones_split_gte_4 with ZONE GROUPS without comp_cols\"\n",
    "\n",
    "pd.set_option(\"display.max_columns\", 500)\n",
    "\n",
    "path = \"../../../data/split\"\n",
    "random_state = 42\n",
    "print(os.listdir(path))"
   ]
  },
  {
   "cell_type": "markdown",
   "metadata": {},
   "source": [
    "## Loading training and validation datasets"
   ]
  },
  {
   "cell_type": "code",
   "execution_count": 3,
   "metadata": {},
   "outputs": [],
   "source": [
    "df = pd.read_feather(os.path.join(path, f\"{read_version} - 01-17 to 01-19 - df_train with nan.feather\"))\n",
    "df_val = pd.read_feather(os.path.join(path, f\"{read_version} - 01-17 to 01-19 - df_val 02-19to03-19.feather\"))"
   ]
  },
  {
   "cell_type": "code",
   "execution_count": 4,
   "metadata": {},
   "outputs": [],
   "source": [
    "# using only last year\n",
    "# split_date = \"2018-01-01\"\n",
    "# df = df[df[\"FECHA_SINI\"] >= split_date].copy()"
   ]
  },
  {
   "cell_type": "code",
   "execution_count": 5,
   "metadata": {},
   "outputs": [
    {
     "data": {
      "text/plain": [
       "(Timestamp('2017-01-01 00:00:00'), Timestamp('2019-01-31 00:00:00'))"
      ]
     },
     "execution_count": 5,
     "metadata": {},
     "output_type": "execute_result"
    }
   ],
   "source": [
    "df[\"FECHA_SINI\"].min(), df[\"FECHA_SINI\"].max()"
   ]
  },
  {
   "cell_type": "code",
   "execution_count": 6,
   "metadata": {},
   "outputs": [
    {
     "data": {
      "text/html": [
       "<div>\n",
       "<style scoped>\n",
       "    .dataframe tbody tr th:only-of-type {\n",
       "        vertical-align: middle;\n",
       "    }\n",
       "\n",
       "    .dataframe tbody tr th {\n",
       "        vertical-align: top;\n",
       "    }\n",
       "\n",
       "    .dataframe thead th {\n",
       "        text-align: right;\n",
       "    }\n",
       "</style>\n",
       "<table border=\"1\" class=\"dataframe\">\n",
       "  <thead>\n",
       "    <tr style=\"text-align: right;\">\n",
       "      <th>EXISTE_FRAUDE</th>\n",
       "      <th>False</th>\n",
       "      <th>True</th>\n",
       "    </tr>\n",
       "    <tr>\n",
       "      <th>total_condicion</th>\n",
       "      <th></th>\n",
       "      <th></th>\n",
       "    </tr>\n",
       "  </thead>\n",
       "  <tbody>\n",
       "    <tr>\n",
       "      <th>0.0</th>\n",
       "      <td>983521</td>\n",
       "      <td>1705</td>\n",
       "    </tr>\n",
       "    <tr>\n",
       "      <th>1.0</th>\n",
       "      <td>44395</td>\n",
       "      <td>162</td>\n",
       "    </tr>\n",
       "    <tr>\n",
       "      <th>2.0</th>\n",
       "      <td>9329</td>\n",
       "      <td>216</td>\n",
       "    </tr>\n",
       "    <tr>\n",
       "      <th>3.0</th>\n",
       "      <td>42457</td>\n",
       "      <td>478</td>\n",
       "    </tr>\n",
       "    <tr>\n",
       "      <th>4.0</th>\n",
       "      <td>3258</td>\n",
       "      <td>35</td>\n",
       "    </tr>\n",
       "    <tr>\n",
       "      <th>5.0</th>\n",
       "      <td>2940</td>\n",
       "      <td>718</td>\n",
       "    </tr>\n",
       "    <tr>\n",
       "      <th>6.0</th>\n",
       "      <td>1314</td>\n",
       "      <td>94</td>\n",
       "    </tr>\n",
       "    <tr>\n",
       "      <th>7.0</th>\n",
       "      <td>219</td>\n",
       "      <td>99</td>\n",
       "    </tr>\n",
       "    <tr>\n",
       "      <th>8.0</th>\n",
       "      <td>203</td>\n",
       "      <td>80</td>\n",
       "    </tr>\n",
       "    <tr>\n",
       "      <th>9.0</th>\n",
       "      <td>28</td>\n",
       "      <td>4</td>\n",
       "    </tr>\n",
       "    <tr>\n",
       "      <th>10.0</th>\n",
       "      <td>61</td>\n",
       "      <td>44</td>\n",
       "    </tr>\n",
       "    <tr>\n",
       "      <th>11.0</th>\n",
       "      <td>6</td>\n",
       "      <td>2</td>\n",
       "    </tr>\n",
       "    <tr>\n",
       "      <th>12.0</th>\n",
       "      <td>9</td>\n",
       "      <td>8</td>\n",
       "    </tr>\n",
       "    <tr>\n",
       "      <th>13.0</th>\n",
       "      <td>7</td>\n",
       "      <td>5</td>\n",
       "    </tr>\n",
       "    <tr>\n",
       "      <th>15.0</th>\n",
       "      <td>3</td>\n",
       "      <td>2</td>\n",
       "    </tr>\n",
       "  </tbody>\n",
       "</table>\n",
       "</div>"
      ],
      "text/plain": [
       "EXISTE_FRAUDE     False  True \n",
       "total_condicion               \n",
       "0.0              983521   1705\n",
       "1.0               44395    162\n",
       "2.0                9329    216\n",
       "3.0               42457    478\n",
       "4.0                3258     35\n",
       "5.0                2940    718\n",
       "6.0                1314     94\n",
       "7.0                 219     99\n",
       "8.0                 203     80\n",
       "9.0                  28      4\n",
       "10.0                 61     44\n",
       "11.0                  6      2\n",
       "12.0                  9      8\n",
       "13.0                  7      5\n",
       "15.0                  3      2"
      ]
     },
     "execution_count": 6,
     "metadata": {},
     "output_type": "execute_result"
    }
   ],
   "source": [
    "pd.crosstab(df[\"total_condicion\"], df[\"EXISTE_FRAUDE\"])"
   ]
  },
  {
   "cell_type": "code",
   "execution_count": 7,
   "metadata": {},
   "outputs": [],
   "source": [
    "# Select all non 060 tipo exped.\n",
    "# 'None': 7,  '003': 2,  '060': 6,  '010': 3,  '020': 4,  '002': 1,  '050': 5,  '001': 0\n",
    "df = df[(df[\"total_condicion\"] >= 4)]\n",
    "df_val = df_val[(df_val[\"total_condicion\"] >= 4)]"
   ]
  },
  {
   "cell_type": "code",
   "execution_count": 8,
   "metadata": {},
   "outputs": [
    {
     "data": {
      "text/html": [
       "<div>\n",
       "<style scoped>\n",
       "    .dataframe tbody tr th:only-of-type {\n",
       "        vertical-align: middle;\n",
       "    }\n",
       "\n",
       "    .dataframe tbody tr th {\n",
       "        vertical-align: top;\n",
       "    }\n",
       "\n",
       "    .dataframe thead th {\n",
       "        text-align: right;\n",
       "    }\n",
       "</style>\n",
       "<table border=\"1\" class=\"dataframe\">\n",
       "  <thead>\n",
       "    <tr style=\"text-align: right;\">\n",
       "      <th>EXISTE_FRAUDE</th>\n",
       "      <th>False</th>\n",
       "      <th>True</th>\n",
       "    </tr>\n",
       "    <tr>\n",
       "      <th>total_condicion</th>\n",
       "      <th></th>\n",
       "      <th></th>\n",
       "    </tr>\n",
       "  </thead>\n",
       "  <tbody>\n",
       "    <tr>\n",
       "      <th>4.0</th>\n",
       "      <td>3258</td>\n",
       "      <td>35</td>\n",
       "    </tr>\n",
       "    <tr>\n",
       "      <th>5.0</th>\n",
       "      <td>2940</td>\n",
       "      <td>718</td>\n",
       "    </tr>\n",
       "    <tr>\n",
       "      <th>6.0</th>\n",
       "      <td>1314</td>\n",
       "      <td>94</td>\n",
       "    </tr>\n",
       "    <tr>\n",
       "      <th>7.0</th>\n",
       "      <td>219</td>\n",
       "      <td>99</td>\n",
       "    </tr>\n",
       "    <tr>\n",
       "      <th>8.0</th>\n",
       "      <td>203</td>\n",
       "      <td>80</td>\n",
       "    </tr>\n",
       "    <tr>\n",
       "      <th>9.0</th>\n",
       "      <td>28</td>\n",
       "      <td>4</td>\n",
       "    </tr>\n",
       "    <tr>\n",
       "      <th>10.0</th>\n",
       "      <td>61</td>\n",
       "      <td>44</td>\n",
       "    </tr>\n",
       "    <tr>\n",
       "      <th>11.0</th>\n",
       "      <td>6</td>\n",
       "      <td>2</td>\n",
       "    </tr>\n",
       "    <tr>\n",
       "      <th>12.0</th>\n",
       "      <td>9</td>\n",
       "      <td>8</td>\n",
       "    </tr>\n",
       "    <tr>\n",
       "      <th>13.0</th>\n",
       "      <td>7</td>\n",
       "      <td>5</td>\n",
       "    </tr>\n",
       "    <tr>\n",
       "      <th>15.0</th>\n",
       "      <td>3</td>\n",
       "      <td>2</td>\n",
       "    </tr>\n",
       "  </tbody>\n",
       "</table>\n",
       "</div>"
      ],
      "text/plain": [
       "EXISTE_FRAUDE    False  True \n",
       "total_condicion              \n",
       "4.0               3258     35\n",
       "5.0               2940    718\n",
       "6.0               1314     94\n",
       "7.0                219     99\n",
       "8.0                203     80\n",
       "9.0                 28      4\n",
       "10.0                61     44\n",
       "11.0                 6      2\n",
       "12.0                 9      8\n",
       "13.0                 7      5\n",
       "15.0                 3      2"
      ]
     },
     "execution_count": 8,
     "metadata": {},
     "output_type": "execute_result"
    }
   ],
   "source": [
    "pd.crosstab(df[\"total_condicion\"], df[\"EXISTE_FRAUDE\"])"
   ]
  },
  {
   "cell_type": "code",
   "execution_count": 9,
   "metadata": {},
   "outputs": [
    {
     "data": {
      "text/plain": [
       "6    2634\n",
       "5    2056\n",
       "1    1849\n",
       "7    1281\n",
       "3     590\n",
       "2     564\n",
       "0     147\n",
       "4      18\n",
       "Name: TIPO_EXPED, dtype: int64"
      ]
     },
     "execution_count": 9,
     "metadata": {},
     "output_type": "execute_result"
    }
   ],
   "source": [
    "df[\"TIPO_EXPED\"].value_counts()"
   ]
  },
  {
   "cell_type": "code",
   "execution_count": 10,
   "metadata": {},
   "outputs": [],
   "source": [
    "# delete unique value columns (for tipo_exped == 060)\n",
    "use_cols = df.nunique()[df.nunique() > 1].index\n",
    "df = df[use_cols]\n",
    "df_val = df_val[use_cols]"
   ]
  },
  {
   "cell_type": "code",
   "execution_count": 11,
   "metadata": {},
   "outputs": [
    {
     "data": {
      "text/plain": [
       "Index(['cond_04', 'cond_05', 'cond_06', 'cond_09', 'cond_11', 'cond_12',\n",
       "       'cond_32', 'cond_37', 'cond_C1', 'cond_C10', 'cond_C11', 'cond_C12',\n",
       "       'cond_C13', 'cond_C14', 'cond_C15', 'cond_C16', 'cond_C17', 'cond_C18',\n",
       "       'cond_C19', 'cond_C2', 'cond_C20', 'cond_C21', 'cond_C3', 'cond_C4',\n",
       "       'cond_C5', 'cond_C6', 'cond_C7', 'cond_C8', 'cond_C9'],\n",
       "      dtype='object')"
      ]
     },
     "execution_count": 11,
     "metadata": {},
     "output_type": "execute_result"
    }
   ],
   "source": [
    "cond_cols = df.filter(regex=\"^cond_*\").columns\n",
    "cond_cols"
   ]
  },
  {
   "cell_type": "code",
   "execution_count": 12,
   "metadata": {},
   "outputs": [],
   "source": [
    "# create column number of conditions activated\n",
    "df[\"cant_cond\"] = (df[cond_cols] > 0).sum(axis=1)\n",
    "df_val[\"cant_cond\"] = (df_val[cond_cols] > 0).sum(axis=1)"
   ]
  },
  {
   "cell_type": "code",
   "execution_count": 13,
   "metadata": {},
   "outputs": [
    {
     "data": {
      "text/plain": [
       "2    7012\n",
       "1    1476\n",
       "3     617\n",
       "4      33\n",
       "5       1\n",
       "Name: cant_cond, dtype: int64"
      ]
     },
     "execution_count": 13,
     "metadata": {},
     "output_type": "execute_result"
    }
   ],
   "source": [
    "df[\"cant_cond\"].value_counts()"
   ]
  },
  {
   "cell_type": "code",
   "execution_count": 14,
   "metadata": {},
   "outputs": [
    {
     "data": {
      "text/plain": [
       "False    8048\n",
       "True     1091\n",
       "Name: EXISTE_FRAUDE, dtype: int64"
      ]
     },
     "execution_count": 14,
     "metadata": {},
     "output_type": "execute_result"
    }
   ],
   "source": [
    "df[\"EXISTE_FRAUDE\"].value_counts()"
   ]
  },
  {
   "cell_type": "code",
   "execution_count": 15,
   "metadata": {},
   "outputs": [
    {
     "data": {
      "text/plain": [
       "(Timestamp('2017-01-01 00:00:00'), Timestamp('2019-01-31 00:00:00'))"
      ]
     },
     "execution_count": 15,
     "metadata": {},
     "output_type": "execute_result"
    }
   ],
   "source": [
    "df[\"FECHA_SINI\"].min(), df[\"FECHA_SINI\"].max()"
   ]
  },
  {
   "cell_type": "code",
   "execution_count": 16,
   "metadata": {},
   "outputs": [
    {
     "data": {
      "text/plain": [
       "(Timestamp('2019-02-01 00:00:00'), Timestamp('2019-03-31 00:00:00'))"
      ]
     },
     "execution_count": 16,
     "metadata": {},
     "output_type": "execute_result"
    }
   ],
   "source": [
    "df_val[\"FECHA_SINI\"].min(), df_val[\"FECHA_SINI\"].max()"
   ]
  },
  {
   "cell_type": "code",
   "execution_count": 17,
   "metadata": {},
   "outputs": [
    {
     "data": {
      "text/html": [
       "<div>\n",
       "<style scoped>\n",
       "    .dataframe tbody tr th:only-of-type {\n",
       "        vertical-align: middle;\n",
       "    }\n",
       "\n",
       "    .dataframe tbody tr th {\n",
       "        vertical-align: top;\n",
       "    }\n",
       "\n",
       "    .dataframe thead tr th {\n",
       "        text-align: left;\n",
       "    }\n",
       "\n",
       "    .dataframe thead tr:last-of-type th {\n",
       "        text-align: right;\n",
       "    }\n",
       "</style>\n",
       "<table border=\"1\" class=\"dataframe\">\n",
       "  <thead>\n",
       "    <tr>\n",
       "      <th>EXISTE_FRAUDE</th>\n",
       "      <th colspan=\"7\" halign=\"left\">False</th>\n",
       "      <th colspan=\"4\" halign=\"left\">True</th>\n",
       "      <th>All</th>\n",
       "    </tr>\n",
       "    <tr>\n",
       "      <th>TIPO_EXPED</th>\n",
       "      <th>0</th>\n",
       "      <th>1</th>\n",
       "      <th>2</th>\n",
       "      <th>3</th>\n",
       "      <th>4</th>\n",
       "      <th>5</th>\n",
       "      <th>6</th>\n",
       "      <th>1</th>\n",
       "      <th>3</th>\n",
       "      <th>5</th>\n",
       "      <th>6</th>\n",
       "      <th></th>\n",
       "    </tr>\n",
       "    <tr>\n",
       "      <th>FECHA_SINI</th>\n",
       "      <th></th>\n",
       "      <th></th>\n",
       "      <th></th>\n",
       "      <th></th>\n",
       "      <th></th>\n",
       "      <th></th>\n",
       "      <th></th>\n",
       "      <th></th>\n",
       "      <th></th>\n",
       "      <th></th>\n",
       "      <th></th>\n",
       "      <th></th>\n",
       "    </tr>\n",
       "  </thead>\n",
       "  <tbody>\n",
       "    <tr>\n",
       "      <th>1.0</th>\n",
       "      <td>23</td>\n",
       "      <td>199</td>\n",
       "      <td>73</td>\n",
       "      <td>51</td>\n",
       "      <td>1</td>\n",
       "      <td>211</td>\n",
       "      <td>367</td>\n",
       "      <td>1</td>\n",
       "      <td>0</td>\n",
       "      <td>11</td>\n",
       "      <td>206</td>\n",
       "      <td>1143</td>\n",
       "    </tr>\n",
       "    <tr>\n",
       "      <th>2.0</th>\n",
       "      <td>16</td>\n",
       "      <td>131</td>\n",
       "      <td>20</td>\n",
       "      <td>3</td>\n",
       "      <td>0</td>\n",
       "      <td>98</td>\n",
       "      <td>64</td>\n",
       "      <td>0</td>\n",
       "      <td>0</td>\n",
       "      <td>5</td>\n",
       "      <td>34</td>\n",
       "      <td>371</td>\n",
       "    </tr>\n",
       "    <tr>\n",
       "      <th>3.0</th>\n",
       "      <td>10</td>\n",
       "      <td>117</td>\n",
       "      <td>31</td>\n",
       "      <td>1</td>\n",
       "      <td>0</td>\n",
       "      <td>101</td>\n",
       "      <td>57</td>\n",
       "      <td>0</td>\n",
       "      <td>0</td>\n",
       "      <td>1</td>\n",
       "      <td>40</td>\n",
       "      <td>358</td>\n",
       "    </tr>\n",
       "    <tr>\n",
       "      <th>4.0</th>\n",
       "      <td>13</td>\n",
       "      <td>139</td>\n",
       "      <td>31</td>\n",
       "      <td>0</td>\n",
       "      <td>2</td>\n",
       "      <td>106</td>\n",
       "      <td>48</td>\n",
       "      <td>0</td>\n",
       "      <td>0</td>\n",
       "      <td>8</td>\n",
       "      <td>31</td>\n",
       "      <td>378</td>\n",
       "    </tr>\n",
       "    <tr>\n",
       "      <th>5.0</th>\n",
       "      <td>9</td>\n",
       "      <td>127</td>\n",
       "      <td>32</td>\n",
       "      <td>3</td>\n",
       "      <td>1</td>\n",
       "      <td>119</td>\n",
       "      <td>94</td>\n",
       "      <td>1</td>\n",
       "      <td>0</td>\n",
       "      <td>7</td>\n",
       "      <td>47</td>\n",
       "      <td>440</td>\n",
       "    </tr>\n",
       "    <tr>\n",
       "      <th>6.0</th>\n",
       "      <td>16</td>\n",
       "      <td>147</td>\n",
       "      <td>32</td>\n",
       "      <td>0</td>\n",
       "      <td>0</td>\n",
       "      <td>128</td>\n",
       "      <td>119</td>\n",
       "      <td>0</td>\n",
       "      <td>0</td>\n",
       "      <td>10</td>\n",
       "      <td>52</td>\n",
       "      <td>504</td>\n",
       "    </tr>\n",
       "    <tr>\n",
       "      <th>7.0</th>\n",
       "      <td>17</td>\n",
       "      <td>133</td>\n",
       "      <td>45</td>\n",
       "      <td>7</td>\n",
       "      <td>2</td>\n",
       "      <td>190</td>\n",
       "      <td>162</td>\n",
       "      <td>0</td>\n",
       "      <td>0</td>\n",
       "      <td>6</td>\n",
       "      <td>97</td>\n",
       "      <td>659</td>\n",
       "    </tr>\n",
       "    <tr>\n",
       "      <th>8.0</th>\n",
       "      <td>12</td>\n",
       "      <td>155</td>\n",
       "      <td>29</td>\n",
       "      <td>22</td>\n",
       "      <td>2</td>\n",
       "      <td>191</td>\n",
       "      <td>127</td>\n",
       "      <td>1</td>\n",
       "      <td>0</td>\n",
       "      <td>5</td>\n",
       "      <td>66</td>\n",
       "      <td>610</td>\n",
       "    </tr>\n",
       "    <tr>\n",
       "      <th>9.0</th>\n",
       "      <td>5</td>\n",
       "      <td>139</td>\n",
       "      <td>46</td>\n",
       "      <td>29</td>\n",
       "      <td>3</td>\n",
       "      <td>203</td>\n",
       "      <td>95</td>\n",
       "      <td>0</td>\n",
       "      <td>0</td>\n",
       "      <td>8</td>\n",
       "      <td>76</td>\n",
       "      <td>604</td>\n",
       "    </tr>\n",
       "    <tr>\n",
       "      <th>10.0</th>\n",
       "      <td>9</td>\n",
       "      <td>166</td>\n",
       "      <td>40</td>\n",
       "      <td>81</td>\n",
       "      <td>1</td>\n",
       "      <td>190</td>\n",
       "      <td>109</td>\n",
       "      <td>0</td>\n",
       "      <td>1</td>\n",
       "      <td>7</td>\n",
       "      <td>85</td>\n",
       "      <td>689</td>\n",
       "    </tr>\n",
       "    <tr>\n",
       "      <th>11.0</th>\n",
       "      <td>7</td>\n",
       "      <td>192</td>\n",
       "      <td>78</td>\n",
       "      <td>163</td>\n",
       "      <td>3</td>\n",
       "      <td>229</td>\n",
       "      <td>107</td>\n",
       "      <td>0</td>\n",
       "      <td>0</td>\n",
       "      <td>6</td>\n",
       "      <td>115</td>\n",
       "      <td>900</td>\n",
       "    </tr>\n",
       "    <tr>\n",
       "      <th>12.0</th>\n",
       "      <td>10</td>\n",
       "      <td>200</td>\n",
       "      <td>107</td>\n",
       "      <td>229</td>\n",
       "      <td>3</td>\n",
       "      <td>209</td>\n",
       "      <td>282</td>\n",
       "      <td>1</td>\n",
       "      <td>0</td>\n",
       "      <td>7</td>\n",
       "      <td>154</td>\n",
       "      <td>1202</td>\n",
       "    </tr>\n",
       "    <tr>\n",
       "      <th>All</th>\n",
       "      <td>147</td>\n",
       "      <td>1845</td>\n",
       "      <td>564</td>\n",
       "      <td>589</td>\n",
       "      <td>18</td>\n",
       "      <td>1975</td>\n",
       "      <td>1631</td>\n",
       "      <td>4</td>\n",
       "      <td>1</td>\n",
       "      <td>81</td>\n",
       "      <td>1003</td>\n",
       "      <td>7858</td>\n",
       "    </tr>\n",
       "  </tbody>\n",
       "</table>\n",
       "</div>"
      ],
      "text/plain": [
       "EXISTE_FRAUDE False                                 True                All\n",
       "TIPO_EXPED        0     1    2    3   4     5     6    1  3   5     6      \n",
       "FECHA_SINI                                                                 \n",
       "1.0              23   199   73   51   1   211   367    1  0  11   206  1143\n",
       "2.0              16   131   20    3   0    98    64    0  0   5    34   371\n",
       "3.0              10   117   31    1   0   101    57    0  0   1    40   358\n",
       "4.0              13   139   31    0   2   106    48    0  0   8    31   378\n",
       "5.0               9   127   32    3   1   119    94    1  0   7    47   440\n",
       "6.0              16   147   32    0   0   128   119    0  0  10    52   504\n",
       "7.0              17   133   45    7   2   190   162    0  0   6    97   659\n",
       "8.0              12   155   29   22   2   191   127    1  0   5    66   610\n",
       "9.0               5   139   46   29   3   203    95    0  0   8    76   604\n",
       "10.0              9   166   40   81   1   190   109    0  1   7    85   689\n",
       "11.0              7   192   78  163   3   229   107    0  0   6   115   900\n",
       "12.0             10   200  107  229   3   209   282    1  0   7   154  1202\n",
       "All             147  1845  564  589  18  1975  1631    4  1  81  1003  7858"
      ]
     },
     "execution_count": 17,
     "metadata": {},
     "output_type": "execute_result"
    }
   ],
   "source": [
    "pd.crosstab(df[\"FECHA_SINI\"].dt.month, [df[\"EXISTE_FRAUDE\"], df[\"TIPO_EXPED\"]], margins=True)"
   ]
  },
  {
   "cell_type": "code",
   "execution_count": 18,
   "metadata": {},
   "outputs": [
    {
     "name": "stdout",
     "output_type": "stream",
     "text": [
      "2017-01-01 00:00:00 2018-10-31 00:00:00\n",
      "2018-11-01 00:00:00 2019-01-31 00:00:00\n"
     ]
    }
   ],
   "source": [
    "# using only last year\n",
    "split_date = \"2018-11-01\"\n",
    "df_train = df[df[\"FECHA_SINI\"] < split_date].copy()\n",
    "df_opt = df[df[\"FECHA_SINI\"] >= split_date].copy()\n",
    "print(df_train[\"FECHA_SINI\"].min(), df_train[\"FECHA_SINI\"].max())\n",
    "print(df_opt[\"FECHA_SINI\"].min(), df_opt[\"FECHA_SINI\"].max())"
   ]
  },
  {
   "cell_type": "code",
   "execution_count": 19,
   "metadata": {},
   "outputs": [
    {
     "data": {
      "text/plain": [
       "(False    0.87002\n",
       " True     0.12998\n",
       " Name: EXISTE_FRAUDE, dtype: float64, False    0.841974\n",
       " True     0.158026\n",
       " Name: EXISTE_FRAUDE, dtype: float64)"
      ]
     },
     "execution_count": 19,
     "metadata": {},
     "output_type": "execute_result"
    }
   ],
   "source": [
    "df_train[\"EXISTE_FRAUDE\"].value_counts(normalize=True), df_opt[\"EXISTE_FRAUDE\"].value_counts(normalize=True)"
   ]
  },
  {
   "cell_type": "code",
   "execution_count": 20,
   "metadata": {},
   "outputs": [
    {
     "data": {
      "text/plain": [
       "(0.6931789259353525, 0.3068210740646475)"
      ]
     },
     "execution_count": 20,
     "metadata": {},
     "output_type": "execute_result"
    }
   ],
   "source": [
    "full_len = df_train.shape[0] + df_opt.shape[0]\n",
    "df_train.shape[0] / full_len, df_opt.shape[0] / full_len"
   ]
  },
  {
   "cell_type": "code",
   "execution_count": 21,
   "metadata": {},
   "outputs": [],
   "source": [
    "# dropping date FEC_ACT_cond\n",
    "to_drop = [\"FECHA_SINI\"]\n",
    "df_train.drop(to_drop, axis=1, inplace=True)\n",
    "df_opt.drop(to_drop, axis=1, inplace=True)\n",
    "df_val.drop(to_drop, axis=1, inplace=True)"
   ]
  },
  {
   "cell_type": "markdown",
   "metadata": {},
   "source": [
    "## split X, y dataset"
   ]
  },
  {
   "cell_type": "code",
   "execution_count": 26,
   "metadata": {},
   "outputs": [],
   "source": [
    "# to_drop = [\"COD_FRAUDE\", \"EXISTE_FRAUDE\", \"EXISTE_INHABILITAR\"]\n",
    "# already removed : \"EXISTE_INHABILITAR\", \"COD_ACT_BENEF\",\n",
    "to_drop = [\"EXISTE_FRAUDE\", \"NUM_SECU_EXPED\", \"NUM_SECU_POL\", \"EXISTE_INVEST\", \"es_gte_5\",\n",
    "           \"cant_sini_1y\", \"cant_pol\"] # \n",
    "\n",
    "# training\n",
    "X_train = df_train.drop(to_drop, axis=1)\n",
    "y_train = df_train[\"EXISTE_FRAUDE\"]\n",
    "# validation\n",
    "X_opt = df_opt.drop(to_drop, axis=1)\n",
    "y_opt = df_opt[\"EXISTE_FRAUDE\"]\n",
    "# validation\n",
    "X_val = df_val.drop(to_drop, axis=1)\n",
    "y_val = df_val[\"EXISTE_FRAUDE\"]"
   ]
  },
  {
   "cell_type": "code",
   "execution_count": 27,
   "metadata": {},
   "outputs": [],
   "source": [
    "X_full_train = df.drop(to_drop, axis=1)\n",
    "X_full_train.drop(columns=[\"FECHA_SINI\"], inplace=True)\n",
    "y_full_train = df[\"EXISTE_FRAUDE\"]"
   ]
  },
  {
   "cell_type": "code",
   "execution_count": 28,
   "metadata": {},
   "outputs": [
    {
     "name": "stdout",
     "output_type": "stream",
     "text": [
      "dif between X_train & X_opt: set()\n",
      "dif between X_val & X_opt: set()\n"
     ]
    }
   ],
   "source": [
    "# checking if all have the same inputs columns\n",
    "print(\"dif between X_train & X_opt: {}\".format(set(X_train.columns) - set(X_opt.columns)))\n",
    "print(\"dif between X_val & X_opt: {}\".format(set(X_val.columns) - set(X_opt.columns)))"
   ]
  },
  {
   "cell_type": "code",
   "execution_count": 29,
   "metadata": {},
   "outputs": [
    {
     "name": "stdout",
     "output_type": "stream",
     "text": [
      "5447, 2411\n",
      "5447, 2411\n"
     ]
    }
   ],
   "source": [
    "print(f\"{len(X_train)}, {len(X_opt)}\")\n",
    "print(f\"{len(y_train)}, {len(y_opt)}\")"
   ]
  },
  {
   "cell_type": "code",
   "execution_count": 30,
   "metadata": {},
   "outputs": [
    {
     "data": {
      "text/plain": [
       "(0.1299798053974665, 0.15802571547075903)"
      ]
     },
     "execution_count": 30,
     "metadata": {},
     "output_type": "execute_result"
    }
   ],
   "source": [
    "y_train.sum() / len(y_train), y_opt.sum() / len(y_opt)"
   ]
  },
  {
   "cell_type": "code",
   "execution_count": 31,
   "metadata": {},
   "outputs": [
    {
     "data": {
      "text/plain": [
       "False    4739\n",
       "True      708\n",
       "Name: EXISTE_FRAUDE, dtype: int64"
      ]
     },
     "execution_count": 31,
     "metadata": {},
     "output_type": "execute_result"
    }
   ],
   "source": [
    "y_train.value_counts(dropna=False)"
   ]
  },
  {
   "cell_type": "markdown",
   "metadata": {},
   "source": [
    "## Defining grid configuration"
   ]
  },
  {
   "cell_type": "code",
   "execution_count": 32,
   "metadata": {},
   "outputs": [],
   "source": [
    "from sklearn.utils.class_weight import compute_class_weight"
   ]
  },
  {
   "cell_type": "code",
   "execution_count": 105,
   "metadata": {},
   "outputs": [
    {
     "data": {
      "text/plain": [
       "(array([0.56778082, 4.1883593 ]), 7.3767186067827675)"
      ]
     },
     "execution_count": 105,
     "metadata": {},
     "output_type": "execute_result"
    }
   ],
   "source": [
    "weights = compute_class_weight(\"balanced\", df[\"EXISTE_FRAUDE\"].unique(), df[\"EXISTE_FRAUDE\"])\n",
    "weights, weights[1] / weights[0]"
   ]
  },
  {
   "cell_type": "code",
   "execution_count": 252,
   "metadata": {},
   "outputs": [
    {
     "data": {
      "text/plain": [
       "[{0: 1, 1: 40}, {0: 1, 1: 50}, {0: 1, 1: 60}]"
      ]
     },
     "execution_count": 252,
     "metadata": {},
     "output_type": "execute_result"
    }
   ],
   "source": [
    "# configs\n",
    "list_weights = [40, 50, 60] # 80\n",
    "[{0:1, 1:l} for l in list_weights]"
   ]
  },
  {
   "cell_type": "markdown",
   "metadata": {
    "heading_collapsed": true
   },
   "source": [
    "### VERSION SIMPLE"
   ]
  },
  {
   "cell_type": "code",
   "execution_count": 107,
   "metadata": {
    "hidden": true
   },
   "outputs": [
    {
     "data": {
      "text/plain": [
       "[{'n_estimators': [60],\n",
       "  'min_samples_leaf': [3, 5, 7],\n",
       "  'max_depth': [10, 40],\n",
       "  'max_features': ['sqrt', None],\n",
       "  'class_weight': [{0: 1, 1: 10}, {0: 1, 1: 20}],\n",
       "  'bootstrap': [False, True]},\n",
       " {'n_estimators': [60],\n",
       "  'min_samples_leaf': [3, 5, 7],\n",
       "  'max_depth': [10, 40],\n",
       "  'max_features': ['sqrt', None],\n",
       "  'class_weight': [{0: 1, 1: 10}, {0: 1, 1: 20}],\n",
       "  'bootstrap': [False, True]},\n",
       " {'n_estimators': [60, 100],\n",
       "  'learning_rate': [1.0, 0.1, 0.01],\n",
       "  'scale_pos_weight': [10, 20]},\n",
       " {'n_estimators': [60, 100],\n",
       "  'learning_rate': [1.0, 0.1, 0.01],\n",
       "  'class_weight': [{0: 1, 1: 10}, {0: 1, 1: 20}]}]"
      ]
     },
     "execution_count": 107,
     "metadata": {},
     "output_type": "execute_result"
    }
   ],
   "source": [
    "\n",
    "rf_params = {\n",
    "    \"n_estimators\": [60],\n",
    "    \"min_samples_leaf\": [3, 5, 7],\n",
    "    \"max_depth\": [10, 40], # 10,\n",
    "    \"max_features\": ['sqrt', None],\n",
    "    \"class_weight\": [{0:1, 1:l} for l in list_weights],\n",
    "    \"bootstrap\": [False, True],\n",
    "}\n",
    "param_configs = []\n",
    "param_configs.append(rf_params)\n",
    "param_configs.append(rf_params)\n",
    "\n",
    "dt_params = {\n",
    "    \"min_samples_leaf\": [3, 5, 7],\n",
    "    \"class_weight\": [{0:1, 1:l} for l in list_weights],\n",
    "}\n",
    "# param_configs.append(dt_params)\n",
    "\n",
    "\n",
    "gbt_params = {\n",
    "    'n_estimators': [60, 100], \n",
    "#    \"min_samples_leaf\": [3, 5, 7],\n",
    "#    \"max_depth\": [10, 40], # 10,\n",
    "#    'min_samples_split': [5, 7],\n",
    "    'learning_rate': [1.0, 0.1, 0.01],\n",
    "#    'subsample': [0.5, 1],\n",
    "#    \"colsample_bynode\": [0.5 , 1],\n",
    "    \"scale_pos_weight\": list_weights,\n",
    "}\n",
    "param_configs.append(gbt_params)\n",
    "\n",
    "\n",
    "lgbm_params = {\n",
    "    'n_estimators': [60, 100], \n",
    "#    'num_leaves': [10, 20, 50],\n",
    "#    'max_depth': [5, 10, 30],\n",
    "#    'min_child_samples': [3, 5, 7],\n",
    "    'learning_rate': [1.0, 0.1, 0.01],\n",
    "#    'subsample': [0.5, 1],\n",
    "#    \"colsample_bytree\": [0.5 , 1],\n",
    "    \"class_weight\": [{0:1, 1:l} for l in list_weights],\n",
    "}\n",
    "\n",
    "param_configs.append(lgbm_params)\n",
    "param_configs"
   ]
  },
  {
   "cell_type": "markdown",
   "metadata": {},
   "source": [
    "### VERSION COMPLEJA"
   ]
  },
  {
   "cell_type": "code",
   "execution_count": 253,
   "metadata": {},
   "outputs": [
    {
     "data": {
      "text/plain": [
       "[{'n_estimators': [60, 100, 200],\n",
       "  'max_depth': [15, 40, 25, 5],\n",
       "  'learning_rate': [1.0, 0.5, 0.1, 0.05, 0.01],\n",
       "  'colsample_bytree': [0.5, 1.0],\n",
       "  'scale_pos_weight': [40, 50, 60]}]"
      ]
     },
     "execution_count": 253,
     "metadata": {},
     "output_type": "execute_result"
    }
   ],
   "source": [
    "n_estimators = [60, 100, 200]\n",
    "\n",
    "rf_params = {\n",
    "    \"n_estimators\": [60],\n",
    "    \"min_samples_leaf\": [3, 5, 7],\n",
    "    \"max_depth\": [10, 40], # 10,\n",
    "    \"max_features\": ['sqrt', None],\n",
    "    \"class_weight\": [{0:1, 1:l} for l in list_weights],\n",
    "    \"bootstrap\": [False, True],\n",
    "}\n",
    "param_configs = []\n",
    "# param_configs.append(rf_params)\n",
    "# param_configs.append(rf_params)\n",
    "\n",
    "dt_params = {\n",
    "    \"min_samples_leaf\": [3, 5, 7],\n",
    "    \"class_weight\": [{0:1, 1:l} for l in list_weights],\n",
    "}\n",
    "# param_configs.append(dt_params)\n",
    "\n",
    "\n",
    "gbt_params = {\n",
    "    'n_estimators': n_estimators, \n",
    "    \"max_depth\": [15, 40, 25, 5],\n",
    "    'learning_rate': [1.0, 0.5, 0.1, 0.05, 0.01],\n",
    "#    'subsample': [0.5, 1.0],\n",
    "    \"colsample_bytree\": [0.5 , 1.0],\n",
    "    \"scale_pos_weight\": list_weights,\n",
    "}\n",
    "param_configs.append(gbt_params)\n",
    "\n",
    "\n",
    "lgbm_params = {\n",
    "    'n_estimators': n_estimators, \n",
    "#    'num_leaves': [10, 20, 50],\n",
    "    \"max_depth\": [15, 25, 30],\n",
    "    'min_child_samples': [5, 7, 11],\n",
    "    'learning_rate': [1.0, 0.1, 0.05, 0.01],\n",
    "#    'subsample': [0.5, 1.0],\n",
    "    \"colsample_bytree\": [0.5 , 1.0],\n",
    "    \"class_weight\": [{0:1, 1:l} for l in list_weights],\n",
    "}\n",
    "# param_configs.append(lgbm_params)\n",
    "param_configs"
   ]
  },
  {
   "cell_type": "markdown",
   "metadata": {},
   "source": [
    "### hiper opt"
   ]
  },
  {
   "cell_type": "code",
   "execution_count": 254,
   "metadata": {},
   "outputs": [
    {
     "data": {
      "text/plain": [
       "[XGBClassifier(base_score=0.5, booster='gbtree', colsample_bylevel=1,\n",
       "               colsample_bytree=1, gamma=0, learning_rate=0.1, max_delta_step=0,\n",
       "               max_depth=3, min_child_weight=1, missing=None, n_estimators=100,\n",
       "               n_jobs=-1, nthread=None, objective='binary:logistic',\n",
       "               random_state=42, reg_alpha=0, reg_lambda=1, scale_pos_weight=1,\n",
       "               seed=None, silent=True, subsample=1)]"
      ]
     },
     "execution_count": 254,
     "metadata": {},
     "output_type": "execute_result"
    }
   ],
   "source": [
    "# using without grid with list of models\n",
    "rfs = []\n",
    "# rfs.append(RandomForestClassifier(random_state=random_state, n_jobs=-1))\n",
    "# rfs.append(ExtraTreesClassifier(random_state=random_state, n_jobs=-1))\n",
    "# rfs.append(DecisionTreeClassifier(random_state=random_state))\n",
    "rfs.append(XGBClassifier(random_state=random_state, n_jobs=-1))\n",
    "# rfs.append(LGBMClassifier(random_state=random_state, silent=False, n_jobs=-1))\n",
    "rfs"
   ]
  },
  {
   "cell_type": "code",
   "execution_count": 255,
   "metadata": {
    "scrolled": true
   },
   "outputs": [
    {
     "name": "stdout",
     "output_type": "stream",
     "text": [
      "Model 0: XGBClassifier(base_score=0.5, booster='gbtree', colsample_bylevel=1,\n",
      "              colsample_bytree=1, gamma=0, learning_rate=0.1, max_delta_step=0,\n",
      "              max_depth=3, min_child_weight=1, missing=None, n_estimators=100,\n",
      "              n_jobs=-1, nthread=None, objective='binary:logistic',\n",
      "              random_state=42, reg_alpha=0, reg_lambda=1, scale_pos_weight=1,\n",
      "              seed=None, silent=True, subsample=1)\n",
      "Comparing 360 parameter setting(s) using 1 CPU thread(s) ( 360 job(s) per thread ).\n",
      "Best score: 0.9921259842519685\n",
      "Best config: {'colsample_bytree': 0.5, 'learning_rate': 0.01, 'max_depth': 5, 'n_estimators': 100, 'scale_pos_weight': 50}\n",
      "*-*-*-*-*-*-*-*-*-*-*-*-*-*-*-*-*-*-*-*-*-*-*-*-*-*-*-*-*-*-\n"
     ]
    }
   ],
   "source": [
    "# TO avoid random sampling,\n",
    "# WE USE GridSearch of hypopt\n",
    "metric = \"recall\"\n",
    "best_models_ = []\n",
    "best_scores_ = []\n",
    "for counter, rf in enumerate(rfs):\n",
    "    print(f\"Model {counter}: {rf}\")\n",
    "    clf = GridSearch(rf, param_grid=param_configs[counter], seed=random_state, num_threads=1)\n",
    "    clf.fit(X_train, y_train, X_val=X_opt, y_val=y_opt, scoring=metric, verbose=True)\n",
    "    print(f\"Best score: {clf.best_score}\")\n",
    "    print(f\"Best config: {clf.best_params}\")\n",
    "    best_models_.append(copy(clf))\n",
    "    best_scores_.append(clf.best_score)\n",
    "    print(\"*-*-*-\" * 10)"
   ]
  },
  {
   "cell_type": "code",
   "execution_count": 256,
   "metadata": {},
   "outputs": [
    {
     "name": "stdout",
     "output_type": "stream",
     "text": [
      "Best Config:\n",
      "GridSearch(cv_folds=3,\n",
      "           model=XGBClassifier(base_score=0.5, booster='gbtree',\n",
      "                               colsample_bylevel=1, colsample_bytree=0.5,\n",
      "                               gamma=0, learning_rate=0.01, max_delta_step=0,\n",
      "                               max_depth=5, min_child_weight=1, missing=nan,\n",
      "                               n_estimators=200, n_jobs=-1, nthread=None,\n",
      "                               objective='binary:logistic', random_state=0,\n",
      "                               reg_alpha=0, reg_lambda=1, scale_pos_weight=60,\n",
      "                               seed=0, silent=True, subsample=1),\n",
      "           num_threads=1,\n",
      "           param_grid={'colsample_bytree': [0.5, 1.0],\n",
      "                       'learning_rate': [1.0, 0.5, 0.1, 0.05, 0.01],\n",
      "                       'max_depth': [15, 40, 25, 5],\n",
      "                       'n_estimators': [60, 100, 200],\n",
      "                       'scale_pos_weight': [40, 50, 60]},\n",
      "           seed=42) 0.9921259842519685\n"
     ]
    }
   ],
   "source": [
    "print(\"Best Config:\")\n",
    "for m, s in zip(best_models_, best_scores_):\n",
    "    print(m, s)"
   ]
  },
  {
   "cell_type": "code",
   "execution_count": 257,
   "metadata": {},
   "outputs": [],
   "source": [
    "# select best grid\n",
    "best_model = best_models_[np.argmax(best_scores_)]\n",
    "\n",
    "# select by hand\n",
    "# best_model = best_models_[2]"
   ]
  },
  {
   "cell_type": "code",
   "execution_count": 258,
   "metadata": {},
   "outputs": [
    {
     "name": "stdout",
     "output_type": "stream",
     "text": [
      "Grid scores:\n",
      "0.992 for {'colsample_bytree': 0.5, 'learning_rate': 0.01, 'max_depth': 5, 'n_estimators': 100, 'scale_pos_weight': 50}\n",
      "0.990 for {'colsample_bytree': 0.5, 'learning_rate': 0.01, 'max_depth': 5, 'n_estimators': 100, 'scale_pos_weight': 60}\n",
      "0.990 for {'colsample_bytree': 0.5, 'learning_rate': 0.01, 'max_depth': 5, 'n_estimators': 60, 'scale_pos_weight': 60}\n",
      "0.990 for {'colsample_bytree': 0.5, 'learning_rate': 0.01, 'max_depth': 5, 'n_estimators': 60, 'scale_pos_weight': 50}\n",
      "0.987 for {'colsample_bytree': 0.5, 'learning_rate': 0.01, 'max_depth': 5, 'n_estimators': 200, 'scale_pos_weight': 60}\n",
      "0.987 for {'colsample_bytree': 0.5, 'learning_rate': 0.01, 'max_depth': 5, 'n_estimators': 60, 'scale_pos_weight': 40}\n",
      "0.987 for {'colsample_bytree': 0.5, 'learning_rate': 0.01, 'max_depth': 5, 'n_estimators': 200, 'scale_pos_weight': 50}\n",
      "0.987 for {'colsample_bytree': 1.0, 'learning_rate': 0.01, 'max_depth': 5, 'n_estimators': 100, 'scale_pos_weight': 60}\n",
      "0.987 for {'colsample_bytree': 0.5, 'learning_rate': 0.01, 'max_depth': 5, 'n_estimators': 100, 'scale_pos_weight': 40}\n",
      "0.987 for {'colsample_bytree': 1.0, 'learning_rate': 0.01, 'max_depth': 5, 'n_estimators': 60, 'scale_pos_weight': 40}\n",
      "0.984 for {'colsample_bytree': 0.5, 'learning_rate': 0.05, 'max_depth': 5, 'n_estimators': 60, 'scale_pos_weight': 50}\n",
      "0.984 for {'colsample_bytree': 1.0, 'learning_rate': 0.01, 'max_depth': 5, 'n_estimators': 60, 'scale_pos_weight': 50}\n",
      "0.984 for {'colsample_bytree': 0.5, 'learning_rate': 0.01, 'max_depth': 5, 'n_estimators': 200, 'scale_pos_weight': 40}\n",
      "0.984 for {'colsample_bytree': 0.5, 'learning_rate': 0.05, 'max_depth': 5, 'n_estimators': 60, 'scale_pos_weight': 60}\n",
      "0.982 for {'colsample_bytree': 0.5, 'learning_rate': 0.05, 'max_depth': 5, 'n_estimators': 60, 'scale_pos_weight': 40}\n",
      "0.982 for {'colsample_bytree': 1.0, 'learning_rate': 0.01, 'max_depth': 5, 'n_estimators': 60, 'scale_pos_weight': 60}\n",
      "0.982 for {'colsample_bytree': 1.0, 'learning_rate': 0.01, 'max_depth': 5, 'n_estimators': 100, 'scale_pos_weight': 40}\n",
      "0.982 for {'colsample_bytree': 1.0, 'learning_rate': 0.01, 'max_depth': 5, 'n_estimators': 100, 'scale_pos_weight': 50}\n",
      "0.982 for {'colsample_bytree': 1.0, 'learning_rate': 0.01, 'max_depth': 5, 'n_estimators': 200, 'scale_pos_weight': 40}\n",
      "0.982 for {'colsample_bytree': 1.0, 'learning_rate': 0.01, 'max_depth': 5, 'n_estimators': 200, 'scale_pos_weight': 50}\n",
      "0.979 for {'colsample_bytree': 1.0, 'learning_rate': 0.05, 'max_depth': 5, 'n_estimators': 60, 'scale_pos_weight': 50}\n",
      "0.979 for {'colsample_bytree': 1.0, 'learning_rate': 0.01, 'max_depth': 5, 'n_estimators': 200, 'scale_pos_weight': 60}\n",
      "0.979 for {'colsample_bytree': 1.0, 'learning_rate': 0.05, 'max_depth': 5, 'n_estimators': 60, 'scale_pos_weight': 60}\n",
      "0.979 for {'colsample_bytree': 1.0, 'learning_rate': 0.05, 'max_depth': 5, 'n_estimators': 60, 'scale_pos_weight': 40}\n",
      "0.976 for {'colsample_bytree': 0.5, 'learning_rate': 0.05, 'max_depth': 5, 'n_estimators': 100, 'scale_pos_weight': 60}\n",
      "0.971 for {'colsample_bytree': 1.0, 'learning_rate': 0.05, 'max_depth': 5, 'n_estimators': 100, 'scale_pos_weight': 60}\n",
      "0.971 for {'colsample_bytree': 1.0, 'learning_rate': 0.05, 'max_depth': 5, 'n_estimators': 100, 'scale_pos_weight': 50}\n",
      "0.971 for {'colsample_bytree': 0.5, 'learning_rate': 0.05, 'max_depth': 5, 'n_estimators': 100, 'scale_pos_weight': 50}\n",
      "0.971 for {'colsample_bytree': 0.5, 'learning_rate': 0.05, 'max_depth': 5, 'n_estimators': 100, 'scale_pos_weight': 40}\n",
      "0.971 for {'colsample_bytree': 1.0, 'learning_rate': 0.05, 'max_depth': 5, 'n_estimators': 100, 'scale_pos_weight': 40}\n",
      "0.969 for {'colsample_bytree': 1.0, 'learning_rate': 0.1, 'max_depth': 5, 'n_estimators': 60, 'scale_pos_weight': 40}\n",
      "0.966 for {'colsample_bytree': 1.0, 'learning_rate': 0.1, 'max_depth': 5, 'n_estimators': 60, 'scale_pos_weight': 60}\n",
      "0.963 for {'colsample_bytree': 0.5, 'learning_rate': 0.1, 'max_depth': 5, 'n_estimators': 60, 'scale_pos_weight': 60}\n",
      "0.963 for {'colsample_bytree': 0.5, 'learning_rate': 0.1, 'max_depth': 5, 'n_estimators': 60, 'scale_pos_weight': 40}\n",
      "0.961 for {'colsample_bytree': 0.5, 'learning_rate': 0.1, 'max_depth': 5, 'n_estimators': 60, 'scale_pos_weight': 50}\n",
      "0.961 for {'colsample_bytree': 1.0, 'learning_rate': 0.1, 'max_depth': 5, 'n_estimators': 60, 'scale_pos_weight': 50}\n",
      "0.955 for {'colsample_bytree': 1.0, 'learning_rate': 0.05, 'max_depth': 5, 'n_estimators': 200, 'scale_pos_weight': 60}\n",
      "0.948 for {'colsample_bytree': 0.5, 'learning_rate': 0.05, 'max_depth': 5, 'n_estimators': 200, 'scale_pos_weight': 60}\n",
      "0.948 for {'colsample_bytree': 1.0, 'learning_rate': 0.05, 'max_depth': 5, 'n_estimators': 200, 'scale_pos_weight': 50}\n",
      "0.945 for {'colsample_bytree': 0.5, 'learning_rate': 0.05, 'max_depth': 5, 'n_estimators': 200, 'scale_pos_weight': 50}\n",
      "0.945 for {'colsample_bytree': 1.0, 'learning_rate': 0.1, 'max_depth': 5, 'n_estimators': 100, 'scale_pos_weight': 40}\n",
      "0.942 for {'colsample_bytree': 0.5, 'learning_rate': 0.05, 'max_depth': 5, 'n_estimators': 200, 'scale_pos_weight': 40}\n",
      "0.940 for {'colsample_bytree': 0.5, 'learning_rate': 0.1, 'max_depth': 5, 'n_estimators': 100, 'scale_pos_weight': 60}\n",
      "0.934 for {'colsample_bytree': 0.5, 'learning_rate': 0.1, 'max_depth': 5, 'n_estimators': 100, 'scale_pos_weight': 40}\n",
      "0.929 for {'colsample_bytree': 0.5, 'learning_rate': 0.1, 'max_depth': 5, 'n_estimators': 100, 'scale_pos_weight': 50}\n",
      "0.927 for {'colsample_bytree': 1.0, 'learning_rate': 0.1, 'max_depth': 5, 'n_estimators': 100, 'scale_pos_weight': 60}\n",
      "0.927 for {'colsample_bytree': 1.0, 'learning_rate': 0.1, 'max_depth': 5, 'n_estimators': 100, 'scale_pos_weight': 50}\n",
      "0.924 for {'colsample_bytree': 1.0, 'learning_rate': 0.05, 'max_depth': 5, 'n_estimators': 200, 'scale_pos_weight': 40}\n",
      "0.908 for {'colsample_bytree': 0.5, 'learning_rate': 0.01, 'max_depth': 15, 'n_estimators': 60, 'scale_pos_weight': 60}\n",
      "0.900 for {'colsample_bytree': 0.5, 'learning_rate': 0.01, 'max_depth': 15, 'n_estimators': 60, 'scale_pos_weight': 50}\n",
      "0.877 for {'colsample_bytree': 0.5, 'learning_rate': 0.01, 'max_depth': 15, 'n_estimators': 60, 'scale_pos_weight': 40}\n",
      "0.858 for {'colsample_bytree': 0.5, 'learning_rate': 0.01, 'max_depth': 15, 'n_estimators': 100, 'scale_pos_weight': 60}\n",
      "0.840 for {'colsample_bytree': 0.5, 'learning_rate': 0.01, 'max_depth': 25, 'n_estimators': 60, 'scale_pos_weight': 60}\n",
      "0.829 for {'colsample_bytree': 0.5, 'learning_rate': 0.01, 'max_depth': 25, 'n_estimators': 60, 'scale_pos_weight': 50}\n",
      "0.827 for {'colsample_bytree': 0.5, 'learning_rate': 0.1, 'max_depth': 5, 'n_estimators': 200, 'scale_pos_weight': 60}\n",
      "0.824 for {'colsample_bytree': 0.5, 'learning_rate': 0.01, 'max_depth': 15, 'n_estimators': 100, 'scale_pos_weight': 50}\n",
      "0.822 for {'colsample_bytree': 0.5, 'learning_rate': 0.01, 'max_depth': 40, 'n_estimators': 60, 'scale_pos_weight': 50}\n",
      "0.822 for {'colsample_bytree': 0.5, 'learning_rate': 0.01, 'max_depth': 40, 'n_estimators': 60, 'scale_pos_weight': 60}\n",
      "0.801 for {'colsample_bytree': 0.5, 'learning_rate': 0.01, 'max_depth': 15, 'n_estimators': 100, 'scale_pos_weight': 40}\n",
      "0.798 for {'colsample_bytree': 0.5, 'learning_rate': 0.1, 'max_depth': 5, 'n_estimators': 200, 'scale_pos_weight': 50}\n",
      "0.777 for {'colsample_bytree': 1.0, 'learning_rate': 0.1, 'max_depth': 5, 'n_estimators': 200, 'scale_pos_weight': 40}\n",
      "0.766 for {'colsample_bytree': 0.5, 'learning_rate': 0.01, 'max_depth': 25, 'n_estimators': 60, 'scale_pos_weight': 40}\n",
      "0.766 for {'colsample_bytree': 0.5, 'learning_rate': 0.1, 'max_depth': 5, 'n_estimators': 200, 'scale_pos_weight': 40}\n",
      "0.764 for {'colsample_bytree': 0.5, 'learning_rate': 0.01, 'max_depth': 25, 'n_estimators': 100, 'scale_pos_weight': 60}\n",
      "0.761 for {'colsample_bytree': 0.5, 'learning_rate': 0.01, 'max_depth': 40, 'n_estimators': 60, 'scale_pos_weight': 40}\n",
      "0.753 for {'colsample_bytree': 1.0, 'learning_rate': 0.1, 'max_depth': 5, 'n_estimators': 200, 'scale_pos_weight': 60}\n",
      "0.753 for {'colsample_bytree': 0.5, 'learning_rate': 0.01, 'max_depth': 40, 'n_estimators': 100, 'scale_pos_weight': 60}\n",
      "0.751 for {'colsample_bytree': 1.0, 'learning_rate': 0.01, 'max_depth': 15, 'n_estimators': 60, 'scale_pos_weight': 60}\n",
      "0.751 for {'colsample_bytree': 1.0, 'learning_rate': 0.1, 'max_depth': 5, 'n_estimators': 200, 'scale_pos_weight': 50}\n",
      "0.748 for {'colsample_bytree': 0.5, 'learning_rate': 0.01, 'max_depth': 15, 'n_estimators': 200, 'scale_pos_weight': 60}\n",
      "0.735 for {'colsample_bytree': 0.5, 'learning_rate': 0.01, 'max_depth': 15, 'n_estimators': 200, 'scale_pos_weight': 50}\n",
      "0.730 for {'colsample_bytree': 0.5, 'learning_rate': 0.01, 'max_depth': 25, 'n_estimators': 100, 'scale_pos_weight': 50}\n",
      "0.724 for {'colsample_bytree': 0.5, 'learning_rate': 0.01, 'max_depth': 40, 'n_estimators': 100, 'scale_pos_weight': 50}\n",
      "0.706 for {'colsample_bytree': 0.5, 'learning_rate': 0.01, 'max_depth': 15, 'n_estimators': 200, 'scale_pos_weight': 40}\n",
      "0.701 for {'colsample_bytree': 1.0, 'learning_rate': 0.01, 'max_depth': 15, 'n_estimators': 60, 'scale_pos_weight': 50}\n",
      "0.701 for {'colsample_bytree': 1.0, 'learning_rate': 0.01, 'max_depth': 15, 'n_estimators': 60, 'scale_pos_weight': 40}\n",
      "0.696 for {'colsample_bytree': 0.5, 'learning_rate': 0.01, 'max_depth': 25, 'n_estimators': 100, 'scale_pos_weight': 40}\n",
      "0.690 for {'colsample_bytree': 0.5, 'learning_rate': 0.01, 'max_depth': 40, 'n_estimators': 100, 'scale_pos_weight': 40}\n",
      "0.685 for {'colsample_bytree': 0.5, 'learning_rate': 0.01, 'max_depth': 25, 'n_estimators': 200, 'scale_pos_weight': 60}\n",
      "0.664 for {'colsample_bytree': 0.5, 'learning_rate': 0.01, 'max_depth': 40, 'n_estimators': 200, 'scale_pos_weight': 60}\n",
      "0.664 for {'colsample_bytree': 0.5, 'learning_rate': 0.01, 'max_depth': 25, 'n_estimators': 200, 'scale_pos_weight': 50}\n",
      "0.656 for {'colsample_bytree': 0.5, 'learning_rate': 0.01, 'max_depth': 40, 'n_estimators': 200, 'scale_pos_weight': 50}\n",
      "0.654 for {'colsample_bytree': 1.0, 'learning_rate': 0.01, 'max_depth': 40, 'n_estimators': 60, 'scale_pos_weight': 60}\n",
      "0.654 for {'colsample_bytree': 1.0, 'learning_rate': 0.01, 'max_depth': 25, 'n_estimators': 60, 'scale_pos_weight': 60}\n",
      "0.648 for {'colsample_bytree': 1.0, 'learning_rate': 0.01, 'max_depth': 15, 'n_estimators': 100, 'scale_pos_weight': 60}\n",
      "0.643 for {'colsample_bytree': 0.5, 'learning_rate': 0.05, 'max_depth': 15, 'n_estimators': 60, 'scale_pos_weight': 60}\n",
      "0.643 for {'colsample_bytree': 0.5, 'learning_rate': 0.05, 'max_depth': 15, 'n_estimators': 60, 'scale_pos_weight': 50}\n",
      "0.638 for {'colsample_bytree': 1.0, 'learning_rate': 0.01, 'max_depth': 15, 'n_estimators': 100, 'scale_pos_weight': 50}\n",
      "0.635 for {'colsample_bytree': 0.5, 'learning_rate': 0.01, 'max_depth': 25, 'n_estimators': 200, 'scale_pos_weight': 40}\n",
      "0.630 for {'colsample_bytree': 1.0, 'learning_rate': 0.01, 'max_depth': 15, 'n_estimators': 100, 'scale_pos_weight': 40}\n",
      "0.625 for {'colsample_bytree': 1.0, 'learning_rate': 0.01, 'max_depth': 25, 'n_estimators': 100, 'scale_pos_weight': 60}\n",
      "0.625 for {'colsample_bytree': 1.0, 'learning_rate': 0.01, 'max_depth': 40, 'n_estimators': 100, 'scale_pos_weight': 60}\n",
      "0.625 for {'colsample_bytree': 0.5, 'learning_rate': 0.01, 'max_depth': 40, 'n_estimators': 200, 'scale_pos_weight': 40}\n",
      "0.614 for {'colsample_bytree': 1.0, 'learning_rate': 0.01, 'max_depth': 25, 'n_estimators': 200, 'scale_pos_weight': 60}\n",
      "0.609 for {'colsample_bytree': 0.5, 'learning_rate': 0.05, 'max_depth': 15, 'n_estimators': 60, 'scale_pos_weight': 40}\n",
      "0.609 for {'colsample_bytree': 1.0, 'learning_rate': 0.01, 'max_depth': 40, 'n_estimators': 200, 'scale_pos_weight': 60}\n",
      "0.593 for {'colsample_bytree': 1.0, 'learning_rate': 0.05, 'max_depth': 40, 'n_estimators': 60, 'scale_pos_weight': 60}\n",
      "0.593 for {'colsample_bytree': 0.5, 'learning_rate': 0.05, 'max_depth': 40, 'n_estimators': 60, 'scale_pos_weight': 50}\n",
      "0.591 for {'colsample_bytree': 0.5, 'learning_rate': 0.05, 'max_depth': 25, 'n_estimators': 60, 'scale_pos_weight': 50}\n",
      "0.591 for {'colsample_bytree': 0.5, 'learning_rate': 0.05, 'max_depth': 15, 'n_estimators': 100, 'scale_pos_weight': 50}\n",
      "0.591 for {'colsample_bytree': 1.0, 'learning_rate': 0.05, 'max_depth': 15, 'n_estimators': 60, 'scale_pos_weight': 60}\n",
      "0.585 for {'colsample_bytree': 1.0, 'learning_rate': 0.05, 'max_depth': 15, 'n_estimators': 60, 'scale_pos_weight': 40}\n",
      "0.585 for {'colsample_bytree': 1.0, 'learning_rate': 0.01, 'max_depth': 15, 'n_estimators': 200, 'scale_pos_weight': 50}\n",
      "0.585 for {'colsample_bytree': 0.5, 'learning_rate': 0.05, 'max_depth': 25, 'n_estimators': 60, 'scale_pos_weight': 60}\n",
      "0.583 for {'colsample_bytree': 1.0, 'learning_rate': 0.5, 'max_depth': 5, 'n_estimators': 60, 'scale_pos_weight': 60}\n",
      "0.583 for {'colsample_bytree': 1.0, 'learning_rate': 0.05, 'max_depth': 40, 'n_estimators': 60, 'scale_pos_weight': 50}\n",
      "0.583 for {'colsample_bytree': 0.5, 'learning_rate': 0.05, 'max_depth': 25, 'n_estimators': 60, 'scale_pos_weight': 40}\n",
      "0.580 for {'colsample_bytree': 1.0, 'learning_rate': 0.05, 'max_depth': 25, 'n_estimators': 100, 'scale_pos_weight': 60}\n",
      "0.580 for {'colsample_bytree': 1.0, 'learning_rate': 0.05, 'max_depth': 25, 'n_estimators': 60, 'scale_pos_weight': 60}\n",
      "0.580 for {'colsample_bytree': 0.5, 'learning_rate': 0.05, 'max_depth': 15, 'n_estimators': 100, 'scale_pos_weight': 60}\n",
      "0.577 for {'colsample_bytree': 1.0, 'learning_rate': 0.05, 'max_depth': 25, 'n_estimators': 60, 'scale_pos_weight': 50}\n",
      "0.575 for {'colsample_bytree': 0.5, 'learning_rate': 0.05, 'max_depth': 40, 'n_estimators': 60, 'scale_pos_weight': 60}\n",
      "0.572 for {'colsample_bytree': 1.0, 'learning_rate': 0.05, 'max_depth': 25, 'n_estimators': 100, 'scale_pos_weight': 50}\n",
      "0.570 for {'colsample_bytree': 0.5, 'learning_rate': 0.05, 'max_depth': 15, 'n_estimators': 100, 'scale_pos_weight': 40}\n",
      "0.570 for {'colsample_bytree': 1.0, 'learning_rate': 0.01, 'max_depth': 40, 'n_estimators': 60, 'scale_pos_weight': 50}\n",
      "0.570 for {'colsample_bytree': 1.0, 'learning_rate': 0.01, 'max_depth': 25, 'n_estimators': 60, 'scale_pos_weight': 50}\n",
      "0.570 for {'colsample_bytree': 1.0, 'learning_rate': 0.5, 'max_depth': 5, 'n_estimators': 60, 'scale_pos_weight': 40}\n",
      "0.570 for {'colsample_bytree': 0.5, 'learning_rate': 0.05, 'max_depth': 40, 'n_estimators': 100, 'scale_pos_weight': 50}\n",
      "0.570 for {'colsample_bytree': 0.5, 'learning_rate': 1.0, 'max_depth': 40, 'n_estimators': 60, 'scale_pos_weight': 60}\n",
      "0.567 for {'colsample_bytree': 1.0, 'learning_rate': 0.01, 'max_depth': 15, 'n_estimators': 200, 'scale_pos_weight': 60}\n",
      "0.567 for {'colsample_bytree': 1.0, 'learning_rate': 0.05, 'max_depth': 40, 'n_estimators': 100, 'scale_pos_weight': 50}\n",
      "0.564 for {'colsample_bytree': 1.0, 'learning_rate': 0.05, 'max_depth': 15, 'n_estimators': 60, 'scale_pos_weight': 50}\n",
      "0.562 for {'colsample_bytree': 1.0, 'learning_rate': 0.1, 'max_depth': 40, 'n_estimators': 60, 'scale_pos_weight': 60}\n",
      "0.562 for {'colsample_bytree': 0.5, 'learning_rate': 0.05, 'max_depth': 40, 'n_estimators': 60, 'scale_pos_weight': 40}\n",
      "0.559 for {'colsample_bytree': 0.5, 'learning_rate': 0.05, 'max_depth': 25, 'n_estimators': 200, 'scale_pos_weight': 40}\n",
      "0.559 for {'colsample_bytree': 1.0, 'learning_rate': 0.05, 'max_depth': 40, 'n_estimators': 100, 'scale_pos_weight': 60}\n",
      "0.559 for {'colsample_bytree': 0.5, 'learning_rate': 1.0, 'max_depth': 15, 'n_estimators': 60, 'scale_pos_weight': 40}\n",
      "0.559 for {'colsample_bytree': 0.5, 'learning_rate': 0.05, 'max_depth': 15, 'n_estimators': 200, 'scale_pos_weight': 50}\n",
      "0.556 for {'colsample_bytree': 1.0, 'learning_rate': 0.05, 'max_depth': 40, 'n_estimators': 60, 'scale_pos_weight': 40}\n",
      "0.556 for {'colsample_bytree': 0.5, 'learning_rate': 0.1, 'max_depth': 15, 'n_estimators': 60, 'scale_pos_weight': 40}\n",
      "0.556 for {'colsample_bytree': 0.5, 'learning_rate': 0.05, 'max_depth': 25, 'n_estimators': 100, 'scale_pos_weight': 40}\n",
      "0.556 for {'colsample_bytree': 1.0, 'learning_rate': 0.1, 'max_depth': 25, 'n_estimators': 60, 'scale_pos_weight': 60}\n",
      "0.556 for {'colsample_bytree': 1.0, 'learning_rate': 0.01, 'max_depth': 15, 'n_estimators': 200, 'scale_pos_weight': 40}\n",
      "0.554 for {'colsample_bytree': 0.5, 'learning_rate': 1.0, 'max_depth': 40, 'n_estimators': 60, 'scale_pos_weight': 40}\n",
      "0.551 for {'colsample_bytree': 1.0, 'learning_rate': 0.01, 'max_depth': 25, 'n_estimators': 60, 'scale_pos_weight': 40}\n",
      "0.551 for {'colsample_bytree': 1.0, 'learning_rate': 0.01, 'max_depth': 40, 'n_estimators': 60, 'scale_pos_weight': 40}\n",
      "0.551 for {'colsample_bytree': 0.5, 'learning_rate': 1.0, 'max_depth': 25, 'n_estimators': 100, 'scale_pos_weight': 60}\n",
      "0.549 for {'colsample_bytree': 1.0, 'learning_rate': 0.05, 'max_depth': 40, 'n_estimators': 200, 'scale_pos_weight': 60}\n",
      "0.549 for {'colsample_bytree': 0.5, 'learning_rate': 1.0, 'max_depth': 25, 'n_estimators': 60, 'scale_pos_weight': 40}\n",
      "0.549 for {'colsample_bytree': 1.0, 'learning_rate': 0.01, 'max_depth': 25, 'n_estimators': 100, 'scale_pos_weight': 40}\n",
      "0.549 for {'colsample_bytree': 1.0, 'learning_rate': 0.01, 'max_depth': 40, 'n_estimators': 100, 'scale_pos_weight': 40}\n",
      "0.549 for {'colsample_bytree': 0.5, 'learning_rate': 1.0, 'max_depth': 25, 'n_estimators': 60, 'scale_pos_weight': 60}\n",
      "0.549 for {'colsample_bytree': 1.0, 'learning_rate': 0.01, 'max_depth': 40, 'n_estimators': 200, 'scale_pos_weight': 50}\n",
      "0.546 for {'colsample_bytree': 1.0, 'learning_rate': 0.05, 'max_depth': 25, 'n_estimators': 60, 'scale_pos_weight': 40}\n",
      "0.546 for {'colsample_bytree': 1.0, 'learning_rate': 0.1, 'max_depth': 25, 'n_estimators': 100, 'scale_pos_weight': 60}\n",
      "0.546 for {'colsample_bytree': 1.0, 'learning_rate': 0.01, 'max_depth': 40, 'n_estimators': 100, 'scale_pos_weight': 50}\n",
      "0.546 for {'colsample_bytree': 0.5, 'learning_rate': 0.05, 'max_depth': 25, 'n_estimators': 100, 'scale_pos_weight': 50}\n",
      "0.546 for {'colsample_bytree': 1.0, 'learning_rate': 0.01, 'max_depth': 25, 'n_estimators': 100, 'scale_pos_weight': 50}\n",
      "0.546 for {'colsample_bytree': 0.5, 'learning_rate': 0.05, 'max_depth': 40, 'n_estimators': 200, 'scale_pos_weight': 50}\n",
      "0.543 for {'colsample_bytree': 1.0, 'learning_rate': 0.01, 'max_depth': 25, 'n_estimators': 200, 'scale_pos_weight': 50}\n",
      "0.543 for {'colsample_bytree': 0.5, 'learning_rate': 0.05, 'max_depth': 40, 'n_estimators': 100, 'scale_pos_weight': 40}\n",
      "0.543 for {'colsample_bytree': 0.5, 'learning_rate': 1.0, 'max_depth': 25, 'n_estimators': 100, 'scale_pos_weight': 50}\n",
      "0.543 for {'colsample_bytree': 0.5, 'learning_rate': 1.0, 'max_depth': 15, 'n_estimators': 60, 'scale_pos_weight': 50}\n",
      "0.541 for {'colsample_bytree': 0.5, 'learning_rate': 0.05, 'max_depth': 25, 'n_estimators': 100, 'scale_pos_weight': 60}\n",
      "0.541 for {'colsample_bytree': 0.5, 'learning_rate': 1.0, 'max_depth': 25, 'n_estimators': 100, 'scale_pos_weight': 40}\n",
      "0.541 for {'colsample_bytree': 0.5, 'learning_rate': 1.0, 'max_depth': 40, 'n_estimators': 100, 'scale_pos_weight': 60}\n",
      "0.541 for {'colsample_bytree': 0.5, 'learning_rate': 0.05, 'max_depth': 15, 'n_estimators': 200, 'scale_pos_weight': 60}\n",
      "0.538 for {'colsample_bytree': 1.0, 'learning_rate': 0.05, 'max_depth': 40, 'n_estimators': 200, 'scale_pos_weight': 50}\n",
      "0.538 for {'colsample_bytree': 0.5, 'learning_rate': 1.0, 'max_depth': 15, 'n_estimators': 100, 'scale_pos_weight': 50}\n",
      "0.538 for {'colsample_bytree': 0.5, 'learning_rate': 0.1, 'max_depth': 15, 'n_estimators': 60, 'scale_pos_weight': 50}\n",
      "0.535 for {'colsample_bytree': 0.5, 'learning_rate': 0.05, 'max_depth': 40, 'n_estimators': 200, 'scale_pos_weight': 40}\n",
      "0.535 for {'colsample_bytree': 1.0, 'learning_rate': 0.01, 'max_depth': 25, 'n_estimators': 200, 'scale_pos_weight': 40}\n",
      "0.535 for {'colsample_bytree': 0.5, 'learning_rate': 1.0, 'max_depth': 40, 'n_estimators': 200, 'scale_pos_weight': 40}\n",
      "0.535 for {'colsample_bytree': 1.0, 'learning_rate': 0.1, 'max_depth': 40, 'n_estimators': 60, 'scale_pos_weight': 50}\n",
      "0.535 for {'colsample_bytree': 0.5, 'learning_rate': 1.0, 'max_depth': 15, 'n_estimators': 100, 'scale_pos_weight': 40}\n",
      "0.535 for {'colsample_bytree': 0.5, 'learning_rate': 0.05, 'max_depth': 15, 'n_estimators': 200, 'scale_pos_weight': 40}\n",
      "0.533 for {'colsample_bytree': 1.0, 'learning_rate': 0.05, 'max_depth': 25, 'n_estimators': 100, 'scale_pos_weight': 40}\n",
      "0.533 for {'colsample_bytree': 1.0, 'learning_rate': 0.05, 'max_depth': 40, 'n_estimators': 100, 'scale_pos_weight': 40}\n",
      "0.533 for {'colsample_bytree': 1.0, 'learning_rate': 0.05, 'max_depth': 25, 'n_estimators': 200, 'scale_pos_weight': 50}\n",
      "0.533 for {'colsample_bytree': 1.0, 'learning_rate': 0.01, 'max_depth': 40, 'n_estimators': 200, 'scale_pos_weight': 40}\n",
      "0.533 for {'colsample_bytree': 0.5, 'learning_rate': 1.0, 'max_depth': 25, 'n_estimators': 200, 'scale_pos_weight': 60}\n",
      "0.530 for {'colsample_bytree': 0.5, 'learning_rate': 0.05, 'max_depth': 25, 'n_estimators': 200, 'scale_pos_weight': 50}\n",
      "0.530 for {'colsample_bytree': 0.5, 'learning_rate': 0.1, 'max_depth': 25, 'n_estimators': 60, 'scale_pos_weight': 60}\n",
      "0.530 for {'colsample_bytree': 0.5, 'learning_rate': 1.0, 'max_depth': 40, 'n_estimators': 100, 'scale_pos_weight': 40}\n",
      "0.530 for {'colsample_bytree': 1.0, 'learning_rate': 0.05, 'max_depth': 25, 'n_estimators': 200, 'scale_pos_weight': 60}\n",
      "0.530 for {'colsample_bytree': 0.5, 'learning_rate': 0.1, 'max_depth': 15, 'n_estimators': 60, 'scale_pos_weight': 60}\n",
      "0.530 for {'colsample_bytree': 0.5, 'learning_rate': 1.0, 'max_depth': 15, 'n_estimators': 200, 'scale_pos_weight': 40}\n",
      "0.528 for {'colsample_bytree': 1.0, 'learning_rate': 0.1, 'max_depth': 25, 'n_estimators': 60, 'scale_pos_weight': 50}\n",
      "0.528 for {'colsample_bytree': 0.5, 'learning_rate': 0.1, 'max_depth': 25, 'n_estimators': 60, 'scale_pos_weight': 50}\n",
      "0.528 for {'colsample_bytree': 0.5, 'learning_rate': 0.1, 'max_depth': 15, 'n_estimators': 100, 'scale_pos_weight': 40}\n",
      "0.525 for {'colsample_bytree': 1.0, 'learning_rate': 0.1, 'max_depth': 25, 'n_estimators': 60, 'scale_pos_weight': 40}\n",
      "0.525 for {'colsample_bytree': 0.5, 'learning_rate': 0.1, 'max_depth': 25, 'n_estimators': 100, 'scale_pos_weight': 60}\n",
      "0.525 for {'colsample_bytree': 1.0, 'learning_rate': 0.1, 'max_depth': 40, 'n_estimators': 100, 'scale_pos_weight': 60}\n",
      "0.522 for {'colsample_bytree': 0.5, 'learning_rate': 1.0, 'max_depth': 40, 'n_estimators': 60, 'scale_pos_weight': 50}\n",
      "0.520 for {'colsample_bytree': 0.5, 'learning_rate': 1.0, 'max_depth': 40, 'n_estimators': 200, 'scale_pos_weight': 60}\n",
      "0.520 for {'colsample_bytree': 1.0, 'learning_rate': 0.1, 'max_depth': 40, 'n_estimators': 60, 'scale_pos_weight': 40}\n",
      "0.520 for {'colsample_bytree': 0.5, 'learning_rate': 1.0, 'max_depth': 25, 'n_estimators': 200, 'scale_pos_weight': 40}\n",
      "0.520 for {'colsample_bytree': 0.5, 'learning_rate': 0.1, 'max_depth': 15, 'n_estimators': 100, 'scale_pos_weight': 50}\n",
      "0.517 for {'colsample_bytree': 0.5, 'learning_rate': 0.05, 'max_depth': 40, 'n_estimators': 100, 'scale_pos_weight': 60}\n",
      "0.517 for {'colsample_bytree': 0.5, 'learning_rate': 0.05, 'max_depth': 25, 'n_estimators': 200, 'scale_pos_weight': 60}\n",
      "0.514 for {'colsample_bytree': 0.5, 'learning_rate': 0.1, 'max_depth': 40, 'n_estimators': 60, 'scale_pos_weight': 50}\n",
      "0.514 for {'colsample_bytree': 0.5, 'learning_rate': 1.0, 'max_depth': 40, 'n_estimators': 200, 'scale_pos_weight': 50}\n",
      "0.514 for {'colsample_bytree': 0.5, 'learning_rate': 1.0, 'max_depth': 15, 'n_estimators': 200, 'scale_pos_weight': 50}\n",
      "0.512 for {'colsample_bytree': 0.5, 'learning_rate': 0.1, 'max_depth': 15, 'n_estimators': 100, 'scale_pos_weight': 60}\n",
      "0.512 for {'colsample_bytree': 1.0, 'learning_rate': 0.05, 'max_depth': 15, 'n_estimators': 100, 'scale_pos_weight': 60}\n",
      "0.512 for {'colsample_bytree': 1.0, 'learning_rate': 0.05, 'max_depth': 40, 'n_estimators': 200, 'scale_pos_weight': 40}\n",
      "0.512 for {'colsample_bytree': 1.0, 'learning_rate': 0.1, 'max_depth': 40, 'n_estimators': 100, 'scale_pos_weight': 50}\n",
      "0.512 for {'colsample_bytree': 0.5, 'learning_rate': 1.0, 'max_depth': 40, 'n_estimators': 100, 'scale_pos_weight': 50}\n",
      "0.512 for {'colsample_bytree': 0.5, 'learning_rate': 1.0, 'max_depth': 25, 'n_estimators': 200, 'scale_pos_weight': 50}\n",
      "0.512 for {'colsample_bytree': 1.0, 'learning_rate': 0.1, 'max_depth': 25, 'n_estimators': 100, 'scale_pos_weight': 40}\n",
      "0.512 for {'colsample_bytree': 0.5, 'learning_rate': 1.0, 'max_depth': 25, 'n_estimators': 60, 'scale_pos_weight': 50}\n",
      "0.509 for {'colsample_bytree': 1.0, 'learning_rate': 1.0, 'max_depth': 15, 'n_estimators': 60, 'scale_pos_weight': 50}\n",
      "0.509 for {'colsample_bytree': 1.0, 'learning_rate': 0.5, 'max_depth': 5, 'n_estimators': 100, 'scale_pos_weight': 60}\n",
      "0.507 for {'colsample_bytree': 0.5, 'learning_rate': 0.1, 'max_depth': 40, 'n_estimators': 60, 'scale_pos_weight': 60}\n",
      "0.507 for {'colsample_bytree': 0.5, 'learning_rate': 0.05, 'max_depth': 40, 'n_estimators': 200, 'scale_pos_weight': 60}\n",
      "0.501 for {'colsample_bytree': 0.5, 'learning_rate': 0.1, 'max_depth': 25, 'n_estimators': 100, 'scale_pos_weight': 50}\n",
      "0.501 for {'colsample_bytree': 0.5, 'learning_rate': 0.1, 'max_depth': 40, 'n_estimators': 100, 'scale_pos_weight': 50}\n",
      "0.501 for {'colsample_bytree': 1.0, 'learning_rate': 0.1, 'max_depth': 25, 'n_estimators': 100, 'scale_pos_weight': 50}\n",
      "0.499 for {'colsample_bytree': 1.0, 'learning_rate': 0.05, 'max_depth': 15, 'n_estimators': 100, 'scale_pos_weight': 40}\n",
      "0.496 for {'colsample_bytree': 1.0, 'learning_rate': 0.1, 'max_depth': 40, 'n_estimators': 100, 'scale_pos_weight': 40}\n",
      "0.496 for {'colsample_bytree': 1.0, 'learning_rate': 0.05, 'max_depth': 15, 'n_estimators': 200, 'scale_pos_weight': 40}\n",
      "0.496 for {'colsample_bytree': 1.0, 'learning_rate': 0.1, 'max_depth': 15, 'n_estimators': 100, 'scale_pos_weight': 60}\n",
      "0.496 for {'colsample_bytree': 1.0, 'learning_rate': 0.1, 'max_depth': 15, 'n_estimators': 60, 'scale_pos_weight': 60}\n",
      "0.496 for {'colsample_bytree': 1.0, 'learning_rate': 0.5, 'max_depth': 5, 'n_estimators': 100, 'scale_pos_weight': 40}\n",
      "0.493 for {'colsample_bytree': 0.5, 'learning_rate': 0.1, 'max_depth': 15, 'n_estimators': 200, 'scale_pos_weight': 60}\n",
      "0.493 for {'colsample_bytree': 1.0, 'learning_rate': 1.0, 'max_depth': 25, 'n_estimators': 60, 'scale_pos_weight': 60}\n",
      "0.493 for {'colsample_bytree': 0.5, 'learning_rate': 1.0, 'max_depth': 5, 'n_estimators': 100, 'scale_pos_weight': 50}\n",
      "0.491 for {'colsample_bytree': 1.0, 'learning_rate': 1.0, 'max_depth': 15, 'n_estimators': 100, 'scale_pos_weight': 50}\n",
      "0.491 for {'colsample_bytree': 0.5, 'learning_rate': 0.5, 'max_depth': 5, 'n_estimators': 60, 'scale_pos_weight': 60}\n",
      "0.488 for {'colsample_bytree': 0.5, 'learning_rate': 0.1, 'max_depth': 25, 'n_estimators': 60, 'scale_pos_weight': 40}\n",
      "0.488 for {'colsample_bytree': 0.5, 'learning_rate': 0.1, 'max_depth': 25, 'n_estimators': 200, 'scale_pos_weight': 60}\n",
      "0.488 for {'colsample_bytree': 1.0, 'learning_rate': 0.1, 'max_depth': 40, 'n_estimators': 200, 'scale_pos_weight': 50}\n",
      "0.486 for {'colsample_bytree': 0.5, 'learning_rate': 1.0, 'max_depth': 15, 'n_estimators': 60, 'scale_pos_weight': 60}\n",
      "0.486 for {'colsample_bytree': 0.5, 'learning_rate': 0.1, 'max_depth': 40, 'n_estimators': 60, 'scale_pos_weight': 40}\n",
      "0.486 for {'colsample_bytree': 1.0, 'learning_rate': 0.1, 'max_depth': 15, 'n_estimators': 100, 'scale_pos_weight': 50}\n",
      "0.486 for {'colsample_bytree': 0.5, 'learning_rate': 1.0, 'max_depth': 5, 'n_estimators': 200, 'scale_pos_weight': 50}\n",
      "0.486 for {'colsample_bytree': 0.5, 'learning_rate': 0.1, 'max_depth': 40, 'n_estimators': 100, 'scale_pos_weight': 40}\n",
      "0.483 for {'colsample_bytree': 1.0, 'learning_rate': 1.0, 'max_depth': 15, 'n_estimators': 200, 'scale_pos_weight': 50}\n",
      "0.483 for {'colsample_bytree': 1.0, 'learning_rate': 0.1, 'max_depth': 15, 'n_estimators': 60, 'scale_pos_weight': 40}\n",
      "0.480 for {'colsample_bytree': 1.0, 'learning_rate': 0.5, 'max_depth': 5, 'n_estimators': 200, 'scale_pos_weight': 40}\n",
      "0.480 for {'colsample_bytree': 0.5, 'learning_rate': 0.1, 'max_depth': 40, 'n_estimators': 100, 'scale_pos_weight': 60}\n",
      "0.480 for {'colsample_bytree': 1.0, 'learning_rate': 0.05, 'max_depth': 25, 'n_estimators': 200, 'scale_pos_weight': 40}\n",
      "0.480 for {'colsample_bytree': 1.0, 'learning_rate': 0.1, 'max_depth': 40, 'n_estimators': 200, 'scale_pos_weight': 40}\n",
      "0.480 for {'colsample_bytree': 0.5, 'learning_rate': 1.0, 'max_depth': 5, 'n_estimators': 60, 'scale_pos_weight': 50}\n",
      "0.480 for {'colsample_bytree': 1.0, 'learning_rate': 0.1, 'max_depth': 25, 'n_estimators': 200, 'scale_pos_weight': 60}\n",
      "0.480 for {'colsample_bytree': 1.0, 'learning_rate': 0.1, 'max_depth': 40, 'n_estimators': 200, 'scale_pos_weight': 60}\n",
      "0.478 for {'colsample_bytree': 1.0, 'learning_rate': 1.0, 'max_depth': 40, 'n_estimators': 100, 'scale_pos_weight': 60}\n",
      "0.478 for {'colsample_bytree': 1.0, 'learning_rate': 1.0, 'max_depth': 15, 'n_estimators': 60, 'scale_pos_weight': 40}\n",
      "0.478 for {'colsample_bytree': 1.0, 'learning_rate': 1.0, 'max_depth': 40, 'n_estimators': 60, 'scale_pos_weight': 60}\n",
      "0.478 for {'colsample_bytree': 1.0, 'learning_rate': 1.0, 'max_depth': 25, 'n_estimators': 200, 'scale_pos_weight': 60}\n",
      "0.478 for {'colsample_bytree': 1.0, 'learning_rate': 0.5, 'max_depth': 15, 'n_estimators': 60, 'scale_pos_weight': 50}\n",
      "0.478 for {'colsample_bytree': 1.0, 'learning_rate': 0.5, 'max_depth': 5, 'n_estimators': 60, 'scale_pos_weight': 50}\n",
      "0.475 for {'colsample_bytree': 1.0, 'learning_rate': 0.1, 'max_depth': 25, 'n_estimators': 200, 'scale_pos_weight': 50}\n",
      "0.475 for {'colsample_bytree': 1.0, 'learning_rate': 1.0, 'max_depth': 25, 'n_estimators': 100, 'scale_pos_weight': 60}\n",
      "0.472 for {'colsample_bytree': 1.0, 'learning_rate': 0.05, 'max_depth': 15, 'n_estimators': 200, 'scale_pos_weight': 60}\n",
      "0.472 for {'colsample_bytree': 1.0, 'learning_rate': 0.1, 'max_depth': 25, 'n_estimators': 200, 'scale_pos_weight': 40}\n",
      "0.472 for {'colsample_bytree': 1.0, 'learning_rate': 0.1, 'max_depth': 15, 'n_estimators': 60, 'scale_pos_weight': 50}\n",
      "0.470 for {'colsample_bytree': 1.0, 'learning_rate': 0.1, 'max_depth': 15, 'n_estimators': 100, 'scale_pos_weight': 40}\n",
      "0.470 for {'colsample_bytree': 1.0, 'learning_rate': 0.5, 'max_depth': 40, 'n_estimators': 60, 'scale_pos_weight': 50}\n",
      "0.470 for {'colsample_bytree': 1.0, 'learning_rate': 0.5, 'max_depth': 25, 'n_estimators': 60, 'scale_pos_weight': 50}\n",
      "0.470 for {'colsample_bytree': 1.0, 'learning_rate': 1.0, 'max_depth': 40, 'n_estimators': 200, 'scale_pos_weight': 60}\n",
      "0.470 for {'colsample_bytree': 0.5, 'learning_rate': 0.1, 'max_depth': 15, 'n_estimators': 200, 'scale_pos_weight': 50}\n",
      "0.470 for {'colsample_bytree': 0.5, 'learning_rate': 1.0, 'max_depth': 15, 'n_estimators': 200, 'scale_pos_weight': 60}\n",
      "0.465 for {'colsample_bytree': 0.5, 'learning_rate': 0.1, 'max_depth': 25, 'n_estimators': 100, 'scale_pos_weight': 40}\n",
      "0.462 for {'colsample_bytree': 1.0, 'learning_rate': 0.05, 'max_depth': 15, 'n_estimators': 200, 'scale_pos_weight': 50}\n",
      "0.462 for {'colsample_bytree': 1.0, 'learning_rate': 0.1, 'max_depth': 15, 'n_estimators': 200, 'scale_pos_weight': 60}\n",
      "0.462 for {'colsample_bytree': 0.5, 'learning_rate': 0.1, 'max_depth': 25, 'n_estimators': 200, 'scale_pos_weight': 50}\n",
      "0.462 for {'colsample_bytree': 1.0, 'learning_rate': 0.5, 'max_depth': 15, 'n_estimators': 100, 'scale_pos_weight': 50}\n",
      "0.459 for {'colsample_bytree': 1.0, 'learning_rate': 0.05, 'max_depth': 15, 'n_estimators': 100, 'scale_pos_weight': 50}\n",
      "0.459 for {'colsample_bytree': 0.5, 'learning_rate': 1.0, 'max_depth': 15, 'n_estimators': 100, 'scale_pos_weight': 60}\n",
      "0.457 for {'colsample_bytree': 1.0, 'learning_rate': 0.5, 'max_depth': 40, 'n_estimators': 100, 'scale_pos_weight': 50}\n",
      "0.457 for {'colsample_bytree': 1.0, 'learning_rate': 0.5, 'max_depth': 25, 'n_estimators': 100, 'scale_pos_weight': 50}\n",
      "0.457 for {'colsample_bytree': 1.0, 'learning_rate': 1.0, 'max_depth': 15, 'n_estimators': 100, 'scale_pos_weight': 40}\n",
      "0.454 for {'colsample_bytree': 1.0, 'learning_rate': 0.5, 'max_depth': 15, 'n_estimators': 200, 'scale_pos_weight': 50}\n",
      "0.451 for {'colsample_bytree': 0.5, 'learning_rate': 0.1, 'max_depth': 15, 'n_estimators': 200, 'scale_pos_weight': 40}\n",
      "0.451 for {'colsample_bytree': 1.0, 'learning_rate': 0.5, 'max_depth': 25, 'n_estimators': 60, 'scale_pos_weight': 60}\n",
      "0.451 for {'colsample_bytree': 0.5, 'learning_rate': 0.1, 'max_depth': 40, 'n_estimators': 200, 'scale_pos_weight': 40}\n",
      "0.449 for {'colsample_bytree': 0.5, 'learning_rate': 0.5, 'max_depth': 5, 'n_estimators': 60, 'scale_pos_weight': 50}\n",
      "0.449 for {'colsample_bytree': 1.0, 'learning_rate': 1.0, 'max_depth': 15, 'n_estimators': 200, 'scale_pos_weight': 40}\n",
      "0.446 for {'colsample_bytree': 0.5, 'learning_rate': 0.1, 'max_depth': 40, 'n_estimators': 200, 'scale_pos_weight': 50}\n",
      "0.446 for {'colsample_bytree': 1.0, 'learning_rate': 0.5, 'max_depth': 40, 'n_estimators': 200, 'scale_pos_weight': 50}\n",
      "0.446 for {'colsample_bytree': 1.0, 'learning_rate': 0.5, 'max_depth': 25, 'n_estimators': 200, 'scale_pos_weight': 50}\n",
      "0.444 for {'colsample_bytree': 1.0, 'learning_rate': 0.5, 'max_depth': 15, 'n_estimators': 100, 'scale_pos_weight': 60}\n",
      "0.441 for {'colsample_bytree': 1.0, 'learning_rate': 0.1, 'max_depth': 15, 'n_estimators': 200, 'scale_pos_weight': 50}\n",
      "0.441 for {'colsample_bytree': 0.5, 'learning_rate': 0.1, 'max_depth': 40, 'n_estimators': 200, 'scale_pos_weight': 60}\n",
      "0.441 for {'colsample_bytree': 1.0, 'learning_rate': 0.5, 'max_depth': 15, 'n_estimators': 60, 'scale_pos_weight': 60}\n",
      "0.438 for {'colsample_bytree': 0.5, 'learning_rate': 0.5, 'max_depth': 5, 'n_estimators': 60, 'scale_pos_weight': 40}\n",
      "0.436 for {'colsample_bytree': 1.0, 'learning_rate': 1.0, 'max_depth': 15, 'n_estimators': 60, 'scale_pos_weight': 60}\n",
      "0.436 for {'colsample_bytree': 0.5, 'learning_rate': 0.5, 'max_depth': 25, 'n_estimators': 60, 'scale_pos_weight': 50}\n",
      "0.433 for {'colsample_bytree': 0.5, 'learning_rate': 0.5, 'max_depth': 5, 'n_estimators': 100, 'scale_pos_weight': 60}\n",
      "0.430 for {'colsample_bytree': 1.0, 'learning_rate': 0.5, 'max_depth': 25, 'n_estimators': 60, 'scale_pos_weight': 40}\n",
      "0.430 for {'colsample_bytree': 1.0, 'learning_rate': 0.1, 'max_depth': 15, 'n_estimators': 200, 'scale_pos_weight': 40}\n",
      "0.430 for {'colsample_bytree': 1.0, 'learning_rate': 0.5, 'max_depth': 40, 'n_estimators': 60, 'scale_pos_weight': 40}\n",
      "0.430 for {'colsample_bytree': 1.0, 'learning_rate': 0.5, 'max_depth': 25, 'n_estimators': 100, 'scale_pos_weight': 60}\n",
      "0.428 for {'colsample_bytree': 1.0, 'learning_rate': 0.5, 'max_depth': 25, 'n_estimators': 200, 'scale_pos_weight': 60}\n",
      "0.425 for {'colsample_bytree': 1.0, 'learning_rate': 0.5, 'max_depth': 25, 'n_estimators': 100, 'scale_pos_weight': 40}\n",
      "0.425 for {'colsample_bytree': 0.5, 'learning_rate': 0.5, 'max_depth': 25, 'n_estimators': 100, 'scale_pos_weight': 50}\n",
      "0.425 for {'colsample_bytree': 1.0, 'learning_rate': 0.5, 'max_depth': 40, 'n_estimators': 100, 'scale_pos_weight': 40}\n",
      "0.425 for {'colsample_bytree': 1.0, 'learning_rate': 1.0, 'max_depth': 15, 'n_estimators': 100, 'scale_pos_weight': 60}\n",
      "0.423 for {'colsample_bytree': 1.0, 'learning_rate': 1.0, 'max_depth': 15, 'n_estimators': 200, 'scale_pos_weight': 60}\n",
      "0.423 for {'colsample_bytree': 0.5, 'learning_rate': 0.1, 'max_depth': 25, 'n_estimators': 200, 'scale_pos_weight': 40}\n",
      "0.423 for {'colsample_bytree': 1.0, 'learning_rate': 0.5, 'max_depth': 40, 'n_estimators': 60, 'scale_pos_weight': 60}\n",
      "0.423 for {'colsample_bytree': 1.0, 'learning_rate': 0.5, 'max_depth': 5, 'n_estimators': 200, 'scale_pos_weight': 60}\n",
      "0.423 for {'colsample_bytree': 0.5, 'learning_rate': 0.5, 'max_depth': 25, 'n_estimators': 60, 'scale_pos_weight': 60}\n",
      "0.420 for {'colsample_bytree': 1.0, 'learning_rate': 0.5, 'max_depth': 15, 'n_estimators': 200, 'scale_pos_weight': 60}\n",
      "0.415 for {'colsample_bytree': 0.5, 'learning_rate': 0.5, 'max_depth': 25, 'n_estimators': 100, 'scale_pos_weight': 60}\n",
      "0.412 for {'colsample_bytree': 0.5, 'learning_rate': 0.5, 'max_depth': 5, 'n_estimators': 200, 'scale_pos_weight': 60}\n",
      "0.412 for {'colsample_bytree': 1.0, 'learning_rate': 0.5, 'max_depth': 40, 'n_estimators': 200, 'scale_pos_weight': 40}\n",
      "0.412 for {'colsample_bytree': 0.5, 'learning_rate': 0.5, 'max_depth': 15, 'n_estimators': 60, 'scale_pos_weight': 40}\n",
      "0.412 for {'colsample_bytree': 0.5, 'learning_rate': 0.5, 'max_depth': 15, 'n_estimators': 100, 'scale_pos_weight': 40}\n",
      "0.412 for {'colsample_bytree': 1.0, 'learning_rate': 0.5, 'max_depth': 25, 'n_estimators': 200, 'scale_pos_weight': 40}\n",
      "0.409 for {'colsample_bytree': 0.5, 'learning_rate': 0.5, 'max_depth': 25, 'n_estimators': 200, 'scale_pos_weight': 60}\n",
      "0.409 for {'colsample_bytree': 1.0, 'learning_rate': 0.5, 'max_depth': 40, 'n_estimators': 100, 'scale_pos_weight': 60}\n",
      "0.407 for {'colsample_bytree': 0.5, 'learning_rate': 0.5, 'max_depth': 15, 'n_estimators': 200, 'scale_pos_weight': 40}\n",
      "0.407 for {'colsample_bytree': 0.5, 'learning_rate': 0.5, 'max_depth': 25, 'n_estimators': 200, 'scale_pos_weight': 50}\n",
      "0.396 for {'colsample_bytree': 1.0, 'learning_rate': 0.5, 'max_depth': 40, 'n_estimators': 200, 'scale_pos_weight': 60}\n",
      "0.394 for {'colsample_bytree': 1.0, 'learning_rate': 0.5, 'max_depth': 15, 'n_estimators': 60, 'scale_pos_weight': 40}\n",
      "0.383 for {'colsample_bytree': 1.0, 'learning_rate': 0.5, 'max_depth': 15, 'n_estimators': 100, 'scale_pos_weight': 40}\n",
      "0.383 for {'colsample_bytree': 0.5, 'learning_rate': 0.5, 'max_depth': 40, 'n_estimators': 60, 'scale_pos_weight': 60}\n",
      "0.383 for {'colsample_bytree': 0.5, 'learning_rate': 0.5, 'max_depth': 40, 'n_estimators': 60, 'scale_pos_weight': 40}\n",
      "0.381 for {'colsample_bytree': 0.5, 'learning_rate': 0.5, 'max_depth': 5, 'n_estimators': 200, 'scale_pos_weight': 50}\n",
      "0.378 for {'colsample_bytree': 0.5, 'learning_rate': 0.5, 'max_depth': 40, 'n_estimators': 100, 'scale_pos_weight': 60}\n",
      "0.378 for {'colsample_bytree': 1.0, 'learning_rate': 0.5, 'max_depth': 15, 'n_estimators': 200, 'scale_pos_weight': 40}\n",
      "0.378 for {'colsample_bytree': 0.5, 'learning_rate': 0.5, 'max_depth': 5, 'n_estimators': 100, 'scale_pos_weight': 50}\n",
      "0.373 for {'colsample_bytree': 1.0, 'learning_rate': 1.0, 'max_depth': 5, 'n_estimators': 60, 'scale_pos_weight': 50}\n",
      "0.370 for {'colsample_bytree': 0.5, 'learning_rate': 0.5, 'max_depth': 40, 'n_estimators': 100, 'scale_pos_weight': 40}\n",
      "0.367 for {'colsample_bytree': 1.0, 'learning_rate': 1.0, 'max_depth': 40, 'n_estimators': 60, 'scale_pos_weight': 40}\n",
      "0.367 for {'colsample_bytree': 1.0, 'learning_rate': 1.0, 'max_depth': 25, 'n_estimators': 60, 'scale_pos_weight': 40}\n",
      "0.367 for {'colsample_bytree': 0.5, 'learning_rate': 0.5, 'max_depth': 15, 'n_estimators': 60, 'scale_pos_weight': 50}\n",
      "0.367 for {'colsample_bytree': 1.0, 'learning_rate': 1.0, 'max_depth': 25, 'n_estimators': 100, 'scale_pos_weight': 40}\n",
      "0.367 for {'colsample_bytree': 0.5, 'learning_rate': 0.5, 'max_depth': 40, 'n_estimators': 200, 'scale_pos_weight': 40}\n",
      "0.367 for {'colsample_bytree': 1.0, 'learning_rate': 1.0, 'max_depth': 40, 'n_estimators': 100, 'scale_pos_weight': 40}\n",
      "0.362 for {'colsample_bytree': 0.5, 'learning_rate': 0.5, 'max_depth': 40, 'n_estimators': 200, 'scale_pos_weight': 60}\n",
      "0.362 for {'colsample_bytree': 1.0, 'learning_rate': 0.5, 'max_depth': 5, 'n_estimators': 100, 'scale_pos_weight': 50}\n",
      "0.360 for {'colsample_bytree': 1.0, 'learning_rate': 1.0, 'max_depth': 5, 'n_estimators': 100, 'scale_pos_weight': 50}\n",
      "0.357 for {'colsample_bytree': 0.5, 'learning_rate': 0.5, 'max_depth': 15, 'n_estimators': 100, 'scale_pos_weight': 50}\n",
      "0.357 for {'colsample_bytree': 1.0, 'learning_rate': 1.0, 'max_depth': 25, 'n_estimators': 60, 'scale_pos_weight': 50}\n",
      "0.357 for {'colsample_bytree': 1.0, 'learning_rate': 1.0, 'max_depth': 40, 'n_estimators': 60, 'scale_pos_weight': 50}\n",
      "0.354 for {'colsample_bytree': 1.0, 'learning_rate': 1.0, 'max_depth': 5, 'n_estimators': 200, 'scale_pos_weight': 50}\n",
      "0.354 for {'colsample_bytree': 1.0, 'learning_rate': 1.0, 'max_depth': 5, 'n_estimators': 200, 'scale_pos_weight': 40}\n",
      "0.354 for {'colsample_bytree': 0.5, 'learning_rate': 0.5, 'max_depth': 15, 'n_estimators': 200, 'scale_pos_weight': 50}\n",
      "0.352 for {'colsample_bytree': 1.0, 'learning_rate': 1.0, 'max_depth': 25, 'n_estimators': 200, 'scale_pos_weight': 50}\n",
      "0.352 for {'colsample_bytree': 1.0, 'learning_rate': 1.0, 'max_depth': 25, 'n_estimators': 100, 'scale_pos_weight': 50}\n",
      "0.352 for {'colsample_bytree': 0.5, 'learning_rate': 0.5, 'max_depth': 40, 'n_estimators': 60, 'scale_pos_weight': 50}\n",
      "0.352 for {'colsample_bytree': 1.0, 'learning_rate': 1.0, 'max_depth': 40, 'n_estimators': 200, 'scale_pos_weight': 50}\n",
      "0.352 for {'colsample_bytree': 0.5, 'learning_rate': 0.5, 'max_depth': 25, 'n_estimators': 60, 'scale_pos_weight': 40}\n",
      "0.352 for {'colsample_bytree': 1.0, 'learning_rate': 1.0, 'max_depth': 40, 'n_estimators': 100, 'scale_pos_weight': 50}\n",
      "0.349 for {'colsample_bytree': 1.0, 'learning_rate': 1.0, 'max_depth': 40, 'n_estimators': 200, 'scale_pos_weight': 40}\n",
      "0.349 for {'colsample_bytree': 1.0, 'learning_rate': 1.0, 'max_depth': 25, 'n_estimators': 200, 'scale_pos_weight': 40}\n",
      "0.349 for {'colsample_bytree': 0.5, 'learning_rate': 0.5, 'max_depth': 25, 'n_estimators': 100, 'scale_pos_weight': 40}\n",
      "0.349 for {'colsample_bytree': 1.0, 'learning_rate': 1.0, 'max_depth': 5, 'n_estimators': 100, 'scale_pos_weight': 40}\n",
      "0.346 for {'colsample_bytree': 0.5, 'learning_rate': 0.5, 'max_depth': 25, 'n_estimators': 200, 'scale_pos_weight': 40}\n",
      "0.346 for {'colsample_bytree': 0.5, 'learning_rate': 0.5, 'max_depth': 40, 'n_estimators': 100, 'scale_pos_weight': 50}\n",
      "0.344 for {'colsample_bytree': 1.0, 'learning_rate': 1.0, 'max_depth': 5, 'n_estimators': 60, 'scale_pos_weight': 40}\n",
      "0.341 for {'colsample_bytree': 0.5, 'learning_rate': 1.0, 'max_depth': 5, 'n_estimators': 200, 'scale_pos_weight': 60}\n",
      "0.341 for {'colsample_bytree': 0.5, 'learning_rate': 0.5, 'max_depth': 40, 'n_estimators': 200, 'scale_pos_weight': 50}\n",
      "0.339 for {'colsample_bytree': 1.0, 'learning_rate': 0.5, 'max_depth': 5, 'n_estimators': 200, 'scale_pos_weight': 50}\n",
      "0.339 for {'colsample_bytree': 0.5, 'learning_rate': 1.0, 'max_depth': 5, 'n_estimators': 100, 'scale_pos_weight': 60}\n",
      "0.339 for {'colsample_bytree': 0.5, 'learning_rate': 0.5, 'max_depth': 5, 'n_estimators': 100, 'scale_pos_weight': 40}\n",
      "0.318 for {'colsample_bytree': 0.5, 'learning_rate': 0.5, 'max_depth': 15, 'n_estimators': 200, 'scale_pos_weight': 60}\n",
      "0.312 for {'colsample_bytree': 0.5, 'learning_rate': 0.5, 'max_depth': 15, 'n_estimators': 100, 'scale_pos_weight': 60}\n",
      "0.312 for {'colsample_bytree': 0.5, 'learning_rate': 0.5, 'max_depth': 15, 'n_estimators': 60, 'scale_pos_weight': 60}\n",
      "0.310 for {'colsample_bytree': 0.5, 'learning_rate': 0.5, 'max_depth': 5, 'n_estimators': 200, 'scale_pos_weight': 40}\n",
      "0.310 for {'colsample_bytree': 0.5, 'learning_rate': 1.0, 'max_depth': 5, 'n_estimators': 60, 'scale_pos_weight': 40}\n",
      "0.307 for {'colsample_bytree': 0.5, 'learning_rate': 1.0, 'max_depth': 5, 'n_estimators': 60, 'scale_pos_weight': 60}\n",
      "0.302 for {'colsample_bytree': 0.5, 'learning_rate': 1.0, 'max_depth': 5, 'n_estimators': 100, 'scale_pos_weight': 40}\n",
      "0.299 for {'colsample_bytree': 0.5, 'learning_rate': 1.0, 'max_depth': 5, 'n_estimators': 200, 'scale_pos_weight': 40}\n",
      "0.281 for {'colsample_bytree': 1.0, 'learning_rate': 1.0, 'max_depth': 5, 'n_estimators': 100, 'scale_pos_weight': 60}\n",
      "0.268 for {'colsample_bytree': 1.0, 'learning_rate': 1.0, 'max_depth': 5, 'n_estimators': 60, 'scale_pos_weight': 60}\n",
      "0.265 for {'colsample_bytree': 1.0, 'learning_rate': 1.0, 'max_depth': 5, 'n_estimators': 200, 'scale_pos_weight': 60}\n"
     ]
    }
   ],
   "source": [
    "sorted_ids = np.argsort(best_model.scores)\n",
    "print(\"Grid scores:\")\n",
    "for i in sorted_ids[::-1]:\n",
    "    print(\"%0.3f for %r\" % (best_model.scores[i], best_model.params[i]))"
   ]
  },
  {
   "cell_type": "code",
   "execution_count": 259,
   "metadata": {},
   "outputs": [
    {
     "data": {
      "text/plain": [
       "(XGBClassifier(base_score=0.5, booster='gbtree', colsample_bylevel=1,\n",
       "               colsample_bytree=0.5, gamma=0, learning_rate=0.01,\n",
       "               max_delta_step=0, max_depth=5, min_child_weight=1, missing=nan,\n",
       "               n_estimators=200, n_jobs=-1, nthread=None,\n",
       "               objective='binary:logistic', random_state=0, reg_alpha=0,\n",
       "               reg_lambda=1, scale_pos_weight=60, seed=0, silent=True,\n",
       "               subsample=1), 0.9921259842519685)"
      ]
     },
     "execution_count": 259,
     "metadata": {},
     "output_type": "execute_result"
    }
   ],
   "source": [
    "best_model.best_estimator_, best_model.best_score"
   ]
  },
  {
   "cell_type": "code",
   "execution_count": 260,
   "metadata": {},
   "outputs": [
    {
     "data": {
      "text/plain": [
       "(0.5020026702269693, 0.8109260049390378)"
      ]
     },
     "execution_count": 260,
     "metadata": {},
     "output_type": "execute_result"
    }
   ],
   "source": [
    "y_opt_pred = best_model.predict_proba(X_opt)[:, 1]\n",
    "y_opt_f1_bestFI, y_opt_rocauc_bestFI = f1_score(y_opt, y_opt_pred > 0.5 ), roc_auc_score(y_opt, y_opt_pred > 0.5)\n",
    "y_opt_f1_bestFI, y_opt_rocauc_bestFI"
   ]
  },
  {
   "cell_type": "code",
   "execution_count": 261,
   "metadata": {},
   "outputs": [
    {
     "data": {
      "text/plain": [
       "array([[1289,  741],\n",
       "       [   5,  376]])"
      ]
     },
     "execution_count": 261,
     "metadata": {},
     "output_type": "execute_result"
    }
   ],
   "source": [
    "confusion_matrix(y_opt, y_opt_pred > 0.5)"
   ]
  },
  {
   "cell_type": "markdown",
   "metadata": {},
   "source": [
    "(0.5122615803814714, 0.8183151675006141)\n",
    "<br>\n",
    "array([[1319,  711],\n",
    "       [   5,  376]])"
   ]
  },
  {
   "cell_type": "code",
   "execution_count": 264,
   "metadata": {},
   "outputs": [
    {
     "name": "stdout",
     "output_type": "stream",
     "text": [
      "[[1077  953]\n",
      " [   1  380]]\n"
     ]
    },
    {
     "data": {
      "text/html": [
       "<div>\n",
       "<style scoped>\n",
       "    .dataframe tbody tr th:only-of-type {\n",
       "        vertical-align: middle;\n",
       "    }\n",
       "\n",
       "    .dataframe tbody tr th {\n",
       "        vertical-align: top;\n",
       "    }\n",
       "\n",
       "    .dataframe thead tr th {\n",
       "        text-align: left;\n",
       "    }\n",
       "\n",
       "    .dataframe thead tr:last-of-type th {\n",
       "        text-align: right;\n",
       "    }\n",
       "</style>\n",
       "<table border=\"1\" class=\"dataframe\">\n",
       "  <thead>\n",
       "    <tr>\n",
       "      <th>EXISTE_FRAUDE</th>\n",
       "      <th colspan=\"2\" halign=\"left\">False</th>\n",
       "      <th colspan=\"2\" halign=\"left\">True</th>\n",
       "    </tr>\n",
       "    <tr>\n",
       "      <th>col_1</th>\n",
       "      <th>False</th>\n",
       "      <th>True</th>\n",
       "      <th>False</th>\n",
       "      <th>True</th>\n",
       "    </tr>\n",
       "    <tr>\n",
       "      <th>TIPO_EXPED</th>\n",
       "      <th></th>\n",
       "      <th></th>\n",
       "      <th></th>\n",
       "      <th></th>\n",
       "    </tr>\n",
       "  </thead>\n",
       "  <tbody>\n",
       "    <tr>\n",
       "      <th>0</th>\n",
       "      <td>22</td>\n",
       "      <td>0</td>\n",
       "      <td>0</td>\n",
       "      <td>0</td>\n",
       "    </tr>\n",
       "    <tr>\n",
       "      <th>1</th>\n",
       "      <td>342</td>\n",
       "      <td>1</td>\n",
       "      <td>1</td>\n",
       "      <td>0</td>\n",
       "    </tr>\n",
       "    <tr>\n",
       "      <th>2</th>\n",
       "      <td>186</td>\n",
       "      <td>0</td>\n",
       "      <td>0</td>\n",
       "      <td>0</td>\n",
       "    </tr>\n",
       "    <tr>\n",
       "      <th>3</th>\n",
       "      <td>439</td>\n",
       "      <td>1</td>\n",
       "      <td>0</td>\n",
       "      <td>0</td>\n",
       "    </tr>\n",
       "    <tr>\n",
       "      <th>4</th>\n",
       "      <td>6</td>\n",
       "      <td>0</td>\n",
       "      <td>0</td>\n",
       "      <td>0</td>\n",
       "    </tr>\n",
       "    <tr>\n",
       "      <th>5</th>\n",
       "      <td>76</td>\n",
       "      <td>320</td>\n",
       "      <td>0</td>\n",
       "      <td>9</td>\n",
       "    </tr>\n",
       "    <tr>\n",
       "      <th>6</th>\n",
       "      <td>6</td>\n",
       "      <td>631</td>\n",
       "      <td>0</td>\n",
       "      <td>371</td>\n",
       "    </tr>\n",
       "  </tbody>\n",
       "</table>\n",
       "</div>"
      ],
      "text/plain": [
       "EXISTE_FRAUDE False       True       \n",
       "col_1         False True  False True \n",
       "TIPO_EXPED                           \n",
       "0                22     0     0     0\n",
       "1               342     1     1     0\n",
       "2               186     0     0     0\n",
       "3               439     1     0     0\n",
       "4                 6     0     0     0\n",
       "5                76   320     0     9\n",
       "6                 6   631     0   371"
      ]
     },
     "execution_count": 264,
     "metadata": {},
     "output_type": "execute_result"
    }
   ],
   "source": [
    "t_prob = 0.35\n",
    "print(confusion_matrix(y_opt, y_opt_pred > t_prob))\n",
    "pd.crosstab(X_opt[\"TIPO_EXPED\"], [df_opt[\"EXISTE_FRAUDE\"], y_opt_pred > t_prob])"
   ]
  },
  {
   "cell_type": "markdown",
   "metadata": {},
   "source": [
    "**Tronador**"
   ]
  },
  {
   "cell_type": "code",
   "execution_count": 97,
   "metadata": {},
   "outputs": [
    {
     "data": {
      "text/plain": [
       "array([[ 868, 1162],\n",
       "       [   4,  377]])"
      ]
     },
     "execution_count": 97,
     "metadata": {},
     "output_type": "execute_result"
    }
   ],
   "source": [
    "confusion_matrix(y_opt, X_opt[\"total_condicion\"] >= 5)"
   ]
  },
  {
   "cell_type": "code",
   "execution_count": 98,
   "metadata": {},
   "outputs": [
    {
     "data": {
      "text/html": [
       "<div>\n",
       "<style scoped>\n",
       "    .dataframe tbody tr th:only-of-type {\n",
       "        vertical-align: middle;\n",
       "    }\n",
       "\n",
       "    .dataframe tbody tr th {\n",
       "        vertical-align: top;\n",
       "    }\n",
       "\n",
       "    .dataframe thead tr th {\n",
       "        text-align: left;\n",
       "    }\n",
       "\n",
       "    .dataframe thead tr:last-of-type th {\n",
       "        text-align: right;\n",
       "    }\n",
       "</style>\n",
       "<table border=\"1\" class=\"dataframe\">\n",
       "  <thead>\n",
       "    <tr>\n",
       "      <th>EXISTE_FRAUDE</th>\n",
       "      <th colspan=\"2\" halign=\"left\">False</th>\n",
       "      <th colspan=\"2\" halign=\"left\">True</th>\n",
       "    </tr>\n",
       "    <tr>\n",
       "      <th>total_condicion</th>\n",
       "      <th>False</th>\n",
       "      <th>True</th>\n",
       "      <th>False</th>\n",
       "      <th>True</th>\n",
       "    </tr>\n",
       "    <tr>\n",
       "      <th>TIPO_EXPED</th>\n",
       "      <th></th>\n",
       "      <th></th>\n",
       "      <th></th>\n",
       "      <th></th>\n",
       "    </tr>\n",
       "  </thead>\n",
       "  <tbody>\n",
       "    <tr>\n",
       "      <th>0</th>\n",
       "      <td>15</td>\n",
       "      <td>7</td>\n",
       "      <td>0</td>\n",
       "      <td>0</td>\n",
       "    </tr>\n",
       "    <tr>\n",
       "      <th>1</th>\n",
       "      <td>207</td>\n",
       "      <td>136</td>\n",
       "      <td>1</td>\n",
       "      <td>0</td>\n",
       "    </tr>\n",
       "    <tr>\n",
       "      <th>2</th>\n",
       "      <td>167</td>\n",
       "      <td>19</td>\n",
       "      <td>0</td>\n",
       "      <td>0</td>\n",
       "    </tr>\n",
       "    <tr>\n",
       "      <th>3</th>\n",
       "      <td>402</td>\n",
       "      <td>38</td>\n",
       "      <td>0</td>\n",
       "      <td>0</td>\n",
       "    </tr>\n",
       "    <tr>\n",
       "      <th>4</th>\n",
       "      <td>6</td>\n",
       "      <td>0</td>\n",
       "      <td>0</td>\n",
       "      <td>0</td>\n",
       "    </tr>\n",
       "    <tr>\n",
       "      <th>5</th>\n",
       "      <td>53</td>\n",
       "      <td>343</td>\n",
       "      <td>2</td>\n",
       "      <td>7</td>\n",
       "    </tr>\n",
       "    <tr>\n",
       "      <th>6</th>\n",
       "      <td>18</td>\n",
       "      <td>619</td>\n",
       "      <td>1</td>\n",
       "      <td>370</td>\n",
       "    </tr>\n",
       "  </tbody>\n",
       "</table>\n",
       "</div>"
      ],
      "text/plain": [
       "EXISTE_FRAUDE   False       True       \n",
       "total_condicion False True  False True \n",
       "TIPO_EXPED                             \n",
       "0                  15     7     0     0\n",
       "1                 207   136     1     0\n",
       "2                 167    19     0     0\n",
       "3                 402    38     0     0\n",
       "4                   6     0     0     0\n",
       "5                  53   343     2     7\n",
       "6                  18   619     1   370"
      ]
     },
     "execution_count": 98,
     "metadata": {},
     "output_type": "execute_result"
    }
   ],
   "source": [
    "pd.crosstab(X_opt[\"TIPO_EXPED\"], [df_opt[\"EXISTE_FRAUDE\"], X_opt[\"total_condicion\"] >= 5])"
   ]
  },
  {
   "cell_type": "markdown",
   "metadata": {},
   "source": [
    "## dumping best current config"
   ]
  },
  {
   "cell_type": "code",
   "execution_count": null,
   "metadata": {},
   "outputs": [],
   "source": [
    "# Current good config\n"
   ]
  },
  {
   "cell_type": "code",
   "execution_count": null,
   "metadata": {},
   "outputs": [],
   "source": [
    "# with open(ps.path.join(\"models\", \"s1 - cond_preg_fill-1_ class_weight balanced.pickle\"), \"wb\") as file:\n",
    "#     pickle.dump(rf_f, file)"
   ]
  },
  {
   "cell_type": "markdown",
   "metadata": {},
   "source": [
    "## Feature Importance\n",
    "\n",
    "<h3 style=\"color:red\">When reducing the # of features the model get worse</h3>"
   ]
  },
  {
   "cell_type": "code",
   "execution_count": 282,
   "metadata": {},
   "outputs": [
    {
     "data": {
      "image/png": "[encoded data removed]",
      "text/plain": [
       "<Figure size 432x288 with 1 Axes>"
      ]
     },
     "metadata": {
      "needs_background": "light"
     },
     "output_type": "display_data"
    }
   ],
   "source": [
    "rf_fi = pd.DataFrame({'cols':X_train.columns, 'fi':best_model.best_estimator_.feature_importances_}).sort_values('fi', ascending=False)\n",
    "rf_fi[:20].plot.bar(x=\"cols\")\n",
    "plt.xticks(rotation=\"vertical\")\n",
    "plt.show()"
   ]
  },
  {
   "cell_type": "code",
   "execution_count": 283,
   "metadata": {},
   "outputs": [
    {
     "name": "stdout",
     "output_type": "stream",
     "text": [
      "# of features: 35 of 150\n"
     ]
    }
   ],
   "source": [
    "to_keep = list(rf_fi[rf_fi[\"fi\"] >=0.01][\"cols\"].values)\n",
    "print(f\"# of features: {len(to_keep)} of {len(rf_fi)}\")"
   ]
  },
  {
   "cell_type": "code",
   "execution_count": 284,
   "metadata": {},
   "outputs": [
    {
     "data": {
      "text/plain": [
       "'to_remove = [\\'COD_POST_POLIZA_RT_CLUSTER_2019\\', \\'COD_POST_OCURRENCIA_RT_CLUSTER_2019\\',\\n             \\'COD_POST_OCURRENCIA_RC_CLUSTER_2019\\',  \\'COD_POST_POLIZA_RC_CLUSTER_2019\\',\\n             \\'COD_POST_OCURRENCIA_DP_CLUSTER_2019\\', \\'COD_POST_POLIZA_DP_CLUSTER_2019\\',\\n             \"COD_CAUSA_SINI\", \\n            ] # \"es_gte_5\", \"total_condicion\", \\n\\nfor col in to_remove:\\n    if(col in to_keep):\\n        to_keep.remove(col)\\nto_keep'"
      ]
     },
     "execution_count": 284,
     "metadata": {},
     "output_type": "execute_result"
    }
   ],
   "source": [
    "\"\"\"to_remove = ['COD_POST_POLIZA_RT_CLUSTER_2019', 'COD_POST_OCURRENCIA_RT_CLUSTER_2019',\n",
    "             'COD_POST_OCURRENCIA_RC_CLUSTER_2019',  'COD_POST_POLIZA_RC_CLUSTER_2019',\n",
    "             'COD_POST_OCURRENCIA_DP_CLUSTER_2019', 'COD_POST_POLIZA_DP_CLUSTER_2019',\n",
    "             \"COD_CAUSA_SINI\", \n",
    "            ] # \"es_gte_5\", \"total_condicion\", \n",
    "\n",
    "for col in to_remove:\n",
    "    if(col in to_keep):\n",
    "        to_keep.remove(col)\n",
    "to_keep\"\"\""
   ]
  },
  {
   "cell_type": "markdown",
   "metadata": {},
   "source": [
    "### Training again with less features"
   ]
  },
  {
   "cell_type": "code",
   "execution_count": 285,
   "metadata": {},
   "outputs": [
    {
     "name": "stdout",
     "output_type": "stream",
     "text": [
      "35\n"
     ]
    }
   ],
   "source": [
    "X_train_red = X_train[to_keep].copy()\n",
    "print(len(X_train_red.columns))"
   ]
  },
  {
   "cell_type": "code",
   "execution_count": 286,
   "metadata": {},
   "outputs": [
    {
     "data": {
      "text/plain": [
       "XGBClassifier(base_score=0.5, booster='gbtree', colsample_bylevel=1,\n",
       "              colsample_bytree=0.5, gamma=0, learning_rate=0.01,\n",
       "              max_delta_step=0, max_depth=5, min_child_weight=1, missing=nan,\n",
       "              n_estimators=200, n_jobs=-1, nthread=None,\n",
       "              objective='binary:logistic', random_state=0, reg_alpha=0,\n",
       "              reg_lambda=1, scale_pos_weight=60, seed=0, silent=True,\n",
       "              subsample=1)"
      ]
     },
     "execution_count": 286,
     "metadata": {},
     "output_type": "execute_result"
    }
   ],
   "source": [
    "# rf = RandomForestClassifier(n_estimators=40, max_features=0.5, min_samples_leaf=7, random_state=random_state, n_jobs=-1)\n",
    "rf = copy(best_model.best_estimator_)\n",
    "rf.fit(X_train_red, y_train)"
   ]
  },
  {
   "cell_type": "code",
   "execution_count": 287,
   "metadata": {},
   "outputs": [
    {
     "data": {
      "text/plain": [
       "(0.4953886693017127, 0.8059998965646534)"
      ]
     },
     "execution_count": 287,
     "metadata": {},
     "output_type": "execute_result"
    }
   ],
   "source": [
    "y_opt_pred = rf.predict(X_opt[to_keep])\n",
    "y_opt_f1_bestFI, y_opt_rocauc_bestFI = f1_score(y_opt, y_opt_pred), roc_auc_score(y_opt, y_opt_pred)\n",
    "y_opt_f1_bestFI, y_opt_rocauc_bestFI"
   ]
  },
  {
   "cell_type": "code",
   "execution_count": 288,
   "metadata": {},
   "outputs": [
    {
     "data": {
      "text/plain": [
       "array([[1269,  761],\n",
       "       [   5,  376]])"
      ]
     },
     "execution_count": 288,
     "metadata": {},
     "output_type": "execute_result"
    }
   ],
   "source": [
    "confusion_matrix(y_opt, y_opt_pred)"
   ]
  },
  {
   "cell_type": "markdown",
   "metadata": {},
   "source": [
    "**best model**<br>\n"
   ]
  },
  {
   "cell_type": "code",
   "execution_count": 289,
   "metadata": {},
   "outputs": [
    {
     "data": {
      "text/html": [
       "<div>\n",
       "<style scoped>\n",
       "    .dataframe tbody tr th:only-of-type {\n",
       "        vertical-align: middle;\n",
       "    }\n",
       "\n",
       "    .dataframe tbody tr th {\n",
       "        vertical-align: top;\n",
       "    }\n",
       "\n",
       "    .dataframe thead tr th {\n",
       "        text-align: left;\n",
       "    }\n",
       "\n",
       "    .dataframe thead tr:last-of-type th {\n",
       "        text-align: right;\n",
       "    }\n",
       "</style>\n",
       "<table border=\"1\" class=\"dataframe\">\n",
       "  <thead>\n",
       "    <tr>\n",
       "      <th>EXISTE_FRAUDE</th>\n",
       "      <th colspan=\"2\" halign=\"left\">False</th>\n",
       "      <th colspan=\"2\" halign=\"left\">True</th>\n",
       "    </tr>\n",
       "    <tr>\n",
       "      <th>col_1</th>\n",
       "      <th>False</th>\n",
       "      <th>True</th>\n",
       "      <th>False</th>\n",
       "      <th>True</th>\n",
       "    </tr>\n",
       "    <tr>\n",
       "      <th>TIPO_EXPED</th>\n",
       "      <th></th>\n",
       "      <th></th>\n",
       "      <th></th>\n",
       "      <th></th>\n",
       "    </tr>\n",
       "  </thead>\n",
       "  <tbody>\n",
       "    <tr>\n",
       "      <th>0</th>\n",
       "      <td>22</td>\n",
       "      <td>0</td>\n",
       "      <td>0</td>\n",
       "      <td>0</td>\n",
       "    </tr>\n",
       "    <tr>\n",
       "      <th>1</th>\n",
       "      <td>343</td>\n",
       "      <td>0</td>\n",
       "      <td>1</td>\n",
       "      <td>0</td>\n",
       "    </tr>\n",
       "    <tr>\n",
       "      <th>2</th>\n",
       "      <td>186</td>\n",
       "      <td>0</td>\n",
       "      <td>0</td>\n",
       "      <td>0</td>\n",
       "    </tr>\n",
       "    <tr>\n",
       "      <th>3</th>\n",
       "      <td>440</td>\n",
       "      <td>0</td>\n",
       "      <td>0</td>\n",
       "      <td>0</td>\n",
       "    </tr>\n",
       "    <tr>\n",
       "      <th>4</th>\n",
       "      <td>6</td>\n",
       "      <td>0</td>\n",
       "      <td>0</td>\n",
       "      <td>0</td>\n",
       "    </tr>\n",
       "    <tr>\n",
       "      <th>5</th>\n",
       "      <td>264</td>\n",
       "      <td>132</td>\n",
       "      <td>4</td>\n",
       "      <td>5</td>\n",
       "    </tr>\n",
       "    <tr>\n",
       "      <th>6</th>\n",
       "      <td>8</td>\n",
       "      <td>629</td>\n",
       "      <td>0</td>\n",
       "      <td>371</td>\n",
       "    </tr>\n",
       "  </tbody>\n",
       "</table>\n",
       "</div>"
      ],
      "text/plain": [
       "EXISTE_FRAUDE False       True       \n",
       "col_1         False True  False True \n",
       "TIPO_EXPED                           \n",
       "0                22     0     0     0\n",
       "1               343     0     1     0\n",
       "2               186     0     0     0\n",
       "3               440     0     0     0\n",
       "4                 6     0     0     0\n",
       "5               264   132     4     5\n",
       "6                 8   629     0   371"
      ]
     },
     "execution_count": 289,
     "metadata": {},
     "output_type": "execute_result"
    }
   ],
   "source": [
    "pd.crosstab(X_opt[\"TIPO_EXPED\"], [df_opt[\"EXISTE_FRAUDE\"], y_opt_pred])"
   ]
  },
  {
   "cell_type": "code",
   "execution_count": 290,
   "metadata": {},
   "outputs": [
    {
     "data": {
      "image/png": "[encoded data removed]",
      "text/plain": [
       "<Figure size 432x288 with 1 Axes>"
      ]
     },
     "metadata": {
      "needs_background": "light"
     },
     "output_type": "display_data"
    }
   ],
   "source": [
    "rf_fi = pd.DataFrame({'cols':X_train_red.columns, 'fi':rf.feature_importances_}).sort_values('fi', ascending=False)\n",
    "rf_fi[:20].plot.bar(x=\"cols\")\n",
    "plt.xticks(rotation=\"vertical\")\n",
    "plt.show()"
   ]
  },
  {
   "cell_type": "code",
   "execution_count": 291,
   "metadata": {},
   "outputs": [],
   "source": [
    "best_model = copy(rf)"
   ]
  },
  {
   "cell_type": "code",
   "execution_count": null,
   "metadata": {},
   "outputs": [],
   "source": [
    "# best columns used\n",
    "rf_fi[\"cols\"].values"
   ]
  },
  {
   "cell_type": "markdown",
   "metadata": {},
   "source": [
    "# model with validation set"
   ]
  },
  {
   "cell_type": "markdown",
   "metadata": {
    "heading_collapsed": true
   },
   "source": [
    "## full features final model"
   ]
  },
  {
   "cell_type": "code",
   "execution_count": 77,
   "metadata": {
    "hidden": true
   },
   "outputs": [
    {
     "data": {
      "text/plain": [
       "LGBMClassifier(boosting_type='gbdt', class_weight={0: 1, 1: 14},\n",
       "               colsample_bytree=1.0, importance_type='split', learning_rate=0.1,\n",
       "               max_depth=-1, min_child_samples=20, min_child_weight=0.001,\n",
       "               min_split_gain=0.0, n_estimators=60, n_jobs=-1, num_leaves=31,\n",
       "               objective=None, random_state=0, reg_alpha=0.0, reg_lambda=0.0,\n",
       "               silent=False, subsample=1.0, subsample_for_bin=200000,\n",
       "               subsample_freq=0)"
      ]
     },
     "execution_count": 77,
     "metadata": {},
     "output_type": "execute_result"
    }
   ],
   "source": [
    "rf_full = copy(best_model)\n",
    "rf_full.fit(X_full_train, y_full_train)"
   ]
  },
  {
   "cell_type": "code",
   "execution_count": 78,
   "metadata": {
    "hidden": true
   },
   "outputs": [
    {
     "name": "stdout",
     "output_type": "stream",
     "text": [
      "0.468, 0.905\n"
     ]
    }
   ],
   "source": [
    "y_val_pred = rf_full.predict(X_val)\n",
    "y_val_f1_bestFI = f1_score(y_val, y_val_pred)\n",
    "y_val_rocauc_bestFI = roc_auc_score(y_val, rf_full.predict_proba(X_val)[:, -1])\n",
    "metric_results = \"%.3f, %.3f\" % (y_val_f1_bestFI, y_val_rocauc_bestFI)\n",
    "print(metric_results)"
   ]
  },
  {
   "cell_type": "code",
   "execution_count": 79,
   "metadata": {
    "hidden": true
   },
   "outputs": [
    {
     "data": {
      "text/plain": [
       "array([[4475,  388],\n",
       "       [  69,  201]])"
      ]
     },
     "execution_count": 79,
     "metadata": {},
     "output_type": "execute_result"
    }
   ],
   "source": [
    "conf_mat = confusion_matrix(y_val, y_val_pred)\n",
    "conf_mat"
   ]
  },
  {
   "cell_type": "code",
   "execution_count": 80,
   "metadata": {
    "hidden": true
   },
   "outputs": [
    {
     "data": {
      "text/plain": [
       "<matplotlib.axes._subplots.AxesSubplot at 0x7f4b4d7c7ba8>"
      ]
     },
     "execution_count": 80,
     "metadata": {},
     "output_type": "execute_result"
    },
    {
     "data": {
      "image/png": "[encoded data removed]",
      "text/plain": [
       "<Figure size 432x288 with 2 Axes>"
      ]
     },
     "metadata": {
      "needs_background": "light"
     },
     "output_type": "display_data"
    }
   ],
   "source": [
    "sns.heatmap(conf_mat, annot=True, fmt=\"d\")"
   ]
  },
  {
   "cell_type": "markdown",
   "metadata": {},
   "source": [
    "## red features final model"
   ]
  },
  {
   "cell_type": "code",
   "execution_count": 292,
   "metadata": {},
   "outputs": [
    {
     "data": {
      "text/plain": [
       "XGBClassifier(base_score=0.5, booster='gbtree', colsample_bylevel=1,\n",
       "              colsample_bytree=0.5, gamma=0, learning_rate=0.01,\n",
       "              max_delta_step=0, max_depth=5, min_child_weight=1, missing=nan,\n",
       "              n_estimators=200, n_jobs=-1, nthread=None,\n",
       "              objective='binary:logistic', random_state=0, reg_alpha=0,\n",
       "              reg_lambda=1, scale_pos_weight=60, seed=0, silent=True,\n",
       "              subsample=1)"
      ]
     },
     "execution_count": 292,
     "metadata": {},
     "output_type": "execute_result"
    }
   ],
   "source": [
    "rf_full = copy(best_model)\n",
    "rf_full.fit(X_full_train[to_keep], y_full_train)"
   ]
  },
  {
   "cell_type": "code",
   "execution_count": 293,
   "metadata": {},
   "outputs": [
    {
     "name": "stdout",
     "output_type": "stream",
     "text": [
      "0.431, 0.831\n"
     ]
    }
   ],
   "source": [
    "y_val_pred_prob = rf_full.predict_proba(X_val[to_keep])[:, -1]\n",
    "y_val_pred = y_val_pred_prob > 0.5\n",
    "y_val_f1_bestFI = f1_score(y_val, y_val_pred)\n",
    "y_val_rocauc_bestFI = roc_auc_score(y_val, y_val_pred_prob)\n",
    "metric_results = \"%.3f, %.3f\" % (y_val_f1_bestFI, y_val_rocauc_bestFI)\n",
    "print(metric_results)"
   ]
  },
  {
   "cell_type": "code",
   "execution_count": 294,
   "metadata": {},
   "outputs": [
    {
     "data": {
      "text/plain": [
       "<matplotlib.axes._subplots.AxesSubplot at 0x7fafd07dd080>"
      ]
     },
     "execution_count": 294,
     "metadata": {},
     "output_type": "execute_result"
    },
    {
     "data": {
      "image/png": "[encoded data removed]",
      "text/plain": [
       "<Figure size 432x288 with 2 Axes>"
      ]
     },
     "metadata": {
      "needs_background": "light"
     },
     "output_type": "display_data"
    }
   ],
   "source": [
    "Y_val_adj = y_val_pred_prob > 0.5\n",
    "conf_mat = confusion_matrix(y_val, Y_val_adj)\n",
    "sns.heatmap(conf_mat, annot=True, fmt=\"d\")"
   ]
  },
  {
   "cell_type": "code",
   "execution_count": null,
   "metadata": {},
   "outputs": [],
   "source": [
    "# 0.471, 0.832\n",
    "# 580 441 4 198"
   ]
  },
  {
   "cell_type": "code",
   "execution_count": 295,
   "metadata": {},
   "outputs": [
    {
     "data": {
      "text/html": [
       "<div>\n",
       "<style scoped>\n",
       "    .dataframe tbody tr th:only-of-type {\n",
       "        vertical-align: middle;\n",
       "    }\n",
       "\n",
       "    .dataframe tbody tr th {\n",
       "        vertical-align: top;\n",
       "    }\n",
       "\n",
       "    .dataframe thead tr th {\n",
       "        text-align: left;\n",
       "    }\n",
       "\n",
       "    .dataframe thead tr:last-of-type th {\n",
       "        text-align: right;\n",
       "    }\n",
       "</style>\n",
       "<table border=\"1\" class=\"dataframe\">\n",
       "  <thead>\n",
       "    <tr>\n",
       "      <th>EXISTE_FRAUDE</th>\n",
       "      <th colspan=\"2\" halign=\"left\">False</th>\n",
       "      <th colspan=\"2\" halign=\"left\">True</th>\n",
       "    </tr>\n",
       "    <tr>\n",
       "      <th>col_1</th>\n",
       "      <th>False</th>\n",
       "      <th>True</th>\n",
       "      <th>False</th>\n",
       "      <th>True</th>\n",
       "    </tr>\n",
       "    <tr>\n",
       "      <th>TIPO_EXPED</th>\n",
       "      <th></th>\n",
       "      <th></th>\n",
       "      <th></th>\n",
       "      <th></th>\n",
       "    </tr>\n",
       "  </thead>\n",
       "  <tbody>\n",
       "    <tr>\n",
       "      <th>0</th>\n",
       "      <td>12</td>\n",
       "      <td>0</td>\n",
       "      <td>0</td>\n",
       "      <td>0</td>\n",
       "    </tr>\n",
       "    <tr>\n",
       "      <th>1</th>\n",
       "      <td>159</td>\n",
       "      <td>0</td>\n",
       "      <td>0</td>\n",
       "      <td>0</td>\n",
       "    </tr>\n",
       "    <tr>\n",
       "      <th>2</th>\n",
       "      <td>101</td>\n",
       "      <td>0</td>\n",
       "      <td>0</td>\n",
       "      <td>0</td>\n",
       "    </tr>\n",
       "    <tr>\n",
       "      <th>3</th>\n",
       "      <td>86</td>\n",
       "      <td>0</td>\n",
       "      <td>0</td>\n",
       "      <td>0</td>\n",
       "    </tr>\n",
       "    <tr>\n",
       "      <th>4</th>\n",
       "      <td>2</td>\n",
       "      <td>0</td>\n",
       "      <td>0</td>\n",
       "      <td>0</td>\n",
       "    </tr>\n",
       "    <tr>\n",
       "      <th>5</th>\n",
       "      <td>119</td>\n",
       "      <td>155</td>\n",
       "      <td>3</td>\n",
       "      <td>3</td>\n",
       "    </tr>\n",
       "    <tr>\n",
       "      <th>6</th>\n",
       "      <td>19</td>\n",
       "      <td>368</td>\n",
       "      <td>0</td>\n",
       "      <td>196</td>\n",
       "    </tr>\n",
       "  </tbody>\n",
       "</table>\n",
       "</div>"
      ],
      "text/plain": [
       "EXISTE_FRAUDE False       True       \n",
       "col_1         False True  False True \n",
       "TIPO_EXPED                           \n",
       "0                12     0     0     0\n",
       "1               159     0     0     0\n",
       "2               101     0     0     0\n",
       "3                86     0     0     0\n",
       "4                 2     0     0     0\n",
       "5               119   155     3     3\n",
       "6                19   368     0   196"
      ]
     },
     "execution_count": 295,
     "metadata": {},
     "output_type": "execute_result"
    }
   ],
   "source": [
    "pd.crosstab(X_val[\"TIPO_EXPED\"], [y_val, Y_val_adj])"
   ]
  },
  {
   "cell_type": "markdown",
   "metadata": {},
   "source": [
    "## Tronador (sum cond >=5) comparison"
   ]
  },
  {
   "cell_type": "code",
   "execution_count": 86,
   "metadata": {},
   "outputs": [
    {
     "name": "stdout",
     "output_type": "stream",
     "text": [
      "(0.3834296724470134,0.6806251878860756)\n"
     ]
    }
   ],
   "source": [
    "# comparing against > 5 logic\n",
    "y_tronador = X_val[\"total_condicion\"] >= 5\n",
    "print(f\"({f1_score(y_val, y_tronador)},{roc_auc_score(y_val, y_tronador)})\")"
   ]
  },
  {
   "cell_type": "code",
   "execution_count": 87,
   "metadata": {},
   "outputs": [
    {
     "data": {
      "text/plain": [
       "<matplotlib.axes._subplots.AxesSubplot at 0x7f969db12cf8>"
      ]
     },
     "execution_count": 87,
     "metadata": {},
     "output_type": "execute_result"
    },
    {
     "data": {
      "image/png": "[encoded data removed]",
      "text/plain": [
       "<Figure size 432x288 with 2 Axes>"
      ]
     },
     "metadata": {
      "needs_background": "light"
     },
     "output_type": "display_data"
    }
   ],
   "source": [
    "conf_mat = confusion_matrix(y_val, y_tronador)\n",
    "sns.heatmap(conf_mat, annot=True, fmt=\"d\")"
   ]
  },
  {
   "cell_type": "code",
   "execution_count": 88,
   "metadata": {},
   "outputs": [
    {
     "data": {
      "text/html": [
       "<div>\n",
       "<style scoped>\n",
       "    .dataframe tbody tr th:only-of-type {\n",
       "        vertical-align: middle;\n",
       "    }\n",
       "\n",
       "    .dataframe tbody tr th {\n",
       "        vertical-align: top;\n",
       "    }\n",
       "\n",
       "    .dataframe thead tr th {\n",
       "        text-align: left;\n",
       "    }\n",
       "\n",
       "    .dataframe thead tr:last-of-type th {\n",
       "        text-align: right;\n",
       "    }\n",
       "</style>\n",
       "<table border=\"1\" class=\"dataframe\">\n",
       "  <thead>\n",
       "    <tr>\n",
       "      <th>EXISTE_FRAUDE</th>\n",
       "      <th colspan=\"2\" halign=\"left\">False</th>\n",
       "      <th colspan=\"2\" halign=\"left\">True</th>\n",
       "    </tr>\n",
       "    <tr>\n",
       "      <th>total_condicion</th>\n",
       "      <th>False</th>\n",
       "      <th>True</th>\n",
       "      <th>False</th>\n",
       "      <th>True</th>\n",
       "    </tr>\n",
       "    <tr>\n",
       "      <th>TIPO_EXPED</th>\n",
       "      <th></th>\n",
       "      <th></th>\n",
       "      <th></th>\n",
       "      <th></th>\n",
       "    </tr>\n",
       "  </thead>\n",
       "  <tbody>\n",
       "    <tr>\n",
       "      <th>0</th>\n",
       "      <td>9</td>\n",
       "      <td>3</td>\n",
       "      <td>0</td>\n",
       "      <td>0</td>\n",
       "    </tr>\n",
       "    <tr>\n",
       "      <th>1</th>\n",
       "      <td>123</td>\n",
       "      <td>36</td>\n",
       "      <td>0</td>\n",
       "      <td>0</td>\n",
       "    </tr>\n",
       "    <tr>\n",
       "      <th>2</th>\n",
       "      <td>95</td>\n",
       "      <td>6</td>\n",
       "      <td>0</td>\n",
       "      <td>0</td>\n",
       "    </tr>\n",
       "    <tr>\n",
       "      <th>3</th>\n",
       "      <td>86</td>\n",
       "      <td>0</td>\n",
       "      <td>0</td>\n",
       "      <td>0</td>\n",
       "    </tr>\n",
       "    <tr>\n",
       "      <th>4</th>\n",
       "      <td>2</td>\n",
       "      <td>0</td>\n",
       "      <td>0</td>\n",
       "      <td>0</td>\n",
       "    </tr>\n",
       "    <tr>\n",
       "      <th>5</th>\n",
       "      <td>42</td>\n",
       "      <td>232</td>\n",
       "      <td>1</td>\n",
       "      <td>5</td>\n",
       "    </tr>\n",
       "    <tr>\n",
       "      <th>6</th>\n",
       "      <td>27</td>\n",
       "      <td>360</td>\n",
       "      <td>2</td>\n",
       "      <td>194</td>\n",
       "    </tr>\n",
       "  </tbody>\n",
       "</table>\n",
       "</div>"
      ],
      "text/plain": [
       "EXISTE_FRAUDE   False       True       \n",
       "total_condicion False True  False True \n",
       "TIPO_EXPED                             \n",
       "0                   9     3     0     0\n",
       "1                 123    36     0     0\n",
       "2                  95     6     0     0\n",
       "3                  86     0     0     0\n",
       "4                   2     0     0     0\n",
       "5                  42   232     1     5\n",
       "6                  27   360     2   194"
      ]
     },
     "execution_count": 88,
     "metadata": {},
     "output_type": "execute_result"
    }
   ],
   "source": [
    "pd.crosstab(X_val[\"TIPO_EXPED\"], [y_val, y_tronador])"
   ]
  },
  {
   "cell_type": "code",
   "execution_count": 281,
   "metadata": {},
   "outputs": [],
   "source": [
    "# use for test without dump  it into disk\n",
    "m = copy(rf_full)\n",
    "columns = copy(to_keep)"
   ]
  },
  {
   "cell_type": "markdown",
   "metadata": {},
   "source": [
    "# Saving final model & columns used into hard drive"
   ]
  },
  {
   "cell_type": "code",
   "execution_count": 296,
   "metadata": {},
   "outputs": [],
   "source": [
    "path_to_save = f\"models/{model_id}/\"\n",
    "os.makedirs(path_to_save, exist_ok=True)"
   ]
  },
  {
   "cell_type": "code",
   "execution_count": 297,
   "metadata": {},
   "outputs": [],
   "source": [
    "model_file = os.path.join(path_to_save, f\"{model_id}.pickle\")\n",
    "\n",
    "with open(model_file, \"wb\") as f:\n",
    "    pickle.dump(best_model, f, pickle.HIGHEST_PROTOCOL)"
   ]
  },
  {
   "cell_type": "code",
   "execution_count": 298,
   "metadata": {},
   "outputs": [],
   "source": [
    "# save file for humans\n",
    "model_file = os.path.join(path_to_save, f\"{model_id} - readable.pickle\")\n",
    "\n",
    "with open(model_file, \"wb\") as f:\n",
    "    pickle.dump(best_model, f, 0) # 0 is human readable format"
   ]
  },
  {
   "cell_type": "code",
   "execution_count": 299,
   "metadata": {},
   "outputs": [
    {
     "name": "stdout",
     "output_type": "stream",
     "text": [
      "['CODIGO_VEHICULO', 'COD_RIES_sini', 'FECHA_SINI_Elapsed', 'cond_C10', 'FECHA_SINI_Dayofyear', 'FECHA_SINI_Day', 'COD_CAUSA_SINI', 'total_condicion', 'COD_POST_POLIZA', 'CANT_RENOVACION', 'COD_POST_POLIZA_DP_CLUSTER_2019', 'COD_PROD', 'ESTADO_CIVIL', 'COD_POST_OCURRENCIA_DP_CLUSTER_2019', 'COD_POST_POLIZA_RC_CLUSTER_2019', 'NEGOCIO', 'FALTANTE', 'preg_28', 'cond_C11', 'MCA_JUICIO', 'ANTIG_pol', 'COD_POST_OCURRENCIA', 'dias_entre_denu_y_sini', 'SEGMENTO', 'CAPITAL_ASEGURADO_COTIZACION', 'OCUPACION_ASEG', 'CAPITAL_VEHICULO', 'DOMICILIO_CODIGO_POSTAL', 'CONV_COMISIONARIO', 'FECHA_SINI_Month', 'cant_pol', 'FECHA_SINI_Week', 'cond_C12', 'cond_C5', 'PRENDARIO']\n"
     ]
    }
   ],
   "source": [
    "# merging list input & target\n",
    "full_cols = list(to_keep)  # + [\"EXISTE_FRAUDE\"]\n",
    "print(full_cols)"
   ]
  },
  {
   "cell_type": "code",
   "execution_count": 300,
   "metadata": {},
   "outputs": [],
   "source": [
    "columns_file = os.path.join(path_to_save, f\"{model_id} (COLUMNS) - n_features_{len(full_cols)}.pickle\")\n",
    "\n",
    "with open(columns_file, \"wb\") as file:\n",
    "    pickle.dump(full_cols, file, pickle.HIGHEST_PROTOCOL)"
   ]
  },
  {
   "cell_type": "code",
   "execution_count": 120,
   "metadata": {},
   "outputs": [],
   "source": [
    "# saving to use as example a few rows to implement the model\n",
    "# path_to_save = \"../../src/data/1.1 - df_train 01-18to12-18/\"\n",
    "# sample_file = os.path.join(path_to_save, f\"{model_id} (sample)  - dataset example to predict model.csv\")\n",
    "\n",
    "# df_example = X_val.loc[:, to_keep][-50:]\n",
    "# df_example[\"EXISTE_FRAUDE\"] = y_val[-50:]\n",
    "# df_example.to_csv(sample_file)"
   ]
  },
  {
   "cell_type": "code",
   "execution_count": null,
   "metadata": {},
   "outputs": [],
   "source": [
    "# df_example.head()"
   ]
  },
  {
   "cell_type": "markdown",
   "metadata": {},
   "source": [
    "# Test prediction"
   ]
  },
  {
   "cell_type": "code",
   "execution_count": 301,
   "metadata": {},
   "outputs": [],
   "source": [
    "df_test = pd.read_feather(os.path.join(path, \"1.2.b - group zone - 01-17 to 01-19 - df_test 04-19to04-19.feather\"))"
   ]
  },
  {
   "cell_type": "code",
   "execution_count": 302,
   "metadata": {},
   "outputs": [],
   "source": [
    "df_test = df_test[(df_test[\"total_condicion\"] >= 4)]"
   ]
  },
  {
   "cell_type": "code",
   "execution_count": 303,
   "metadata": {},
   "outputs": [],
   "source": [
    "# Loding the model\n",
    "\n",
    "def load_model(model_file):\n",
    "    \"\"\"Load the dump model.\"\"\"\n",
    "    with open(model_file, \"rb\") as file:\n",
    "        m = pickle.load(file)\n",
    "    return m\n",
    "\n",
    "\n",
    "def load_columns(columns_file):\n",
    "    \"\"\"Load the array of columns use in the dump model.\"\"\"\n",
    "    with open(columns_file, \"rb\") as file:\n",
    "        columns = pickle.load(file)\n",
    "    return columns"
   ]
  },
  {
   "cell_type": "code",
   "execution_count": 304,
   "metadata": {},
   "outputs": [],
   "source": [
    "m = load_model(model_file)\n",
    "columns = load_columns(columns_file)"
   ]
  },
  {
   "cell_type": "code",
   "execution_count": 305,
   "metadata": {},
   "outputs": [
    {
     "name": "stdout",
     "output_type": "stream",
     "text": [
      "['CODIGO_VEHICULO', 'COD_RIES_sini', 'FECHA_SINI_Elapsed', 'cond_C10', 'FECHA_SINI_Dayofyear', 'FECHA_SINI_Day', 'COD_CAUSA_SINI', 'total_condicion', 'COD_POST_POLIZA', 'CANT_RENOVACION', 'COD_POST_POLIZA_DP_CLUSTER_2019', 'COD_PROD', 'ESTADO_CIVIL', 'COD_POST_OCURRENCIA_DP_CLUSTER_2019', 'COD_POST_POLIZA_RC_CLUSTER_2019', 'NEGOCIO', 'FALTANTE', 'preg_28', 'cond_C11', 'MCA_JUICIO', 'ANTIG_pol', 'COD_POST_OCURRENCIA', 'dias_entre_denu_y_sini', 'SEGMENTO', 'CAPITAL_ASEGURADO_COTIZACION', 'OCUPACION_ASEG', 'CAPITAL_VEHICULO', 'DOMICILIO_CODIGO_POSTAL', 'CONV_COMISIONARIO', 'FECHA_SINI_Month', 'cant_pol', 'FECHA_SINI_Week', 'cond_C12', 'cond_C5', 'PRENDARIO']\n"
     ]
    }
   ],
   "source": [
    "print(columns)"
   ]
  },
  {
   "cell_type": "code",
   "execution_count": 306,
   "metadata": {},
   "outputs": [
    {
     "data": {
      "text/plain": [
       "2    389\n",
       "1     56\n",
       "3     41\n",
       "4      3\n",
       "Name: cant_cond, dtype: int64"
      ]
     },
     "execution_count": 306,
     "metadata": {},
     "output_type": "execute_result"
    }
   ],
   "source": [
    "# create cant_cond column\n",
    "cond_cols = df.filter(regex=\"^cond_\").columns\n",
    "df_test[\"cant_cond\"] = (df_test[cond_cols] > 0).sum(axis=1)\n",
    "df_test[\"cant_cond\"].value_counts(dropna=False)"
   ]
  },
  {
   "cell_type": "code",
   "execution_count": 307,
   "metadata": {},
   "outputs": [],
   "source": [
    "X_test = df_test[columns]\n",
    "y_test = df_test[\"EXISTE_FRAUDE\"]"
   ]
  },
  {
   "cell_type": "code",
   "execution_count": 308,
   "metadata": {},
   "outputs": [
    {
     "data": {
      "text/html": [
       "<div>\n",
       "<style scoped>\n",
       "    .dataframe tbody tr th:only-of-type {\n",
       "        vertical-align: middle;\n",
       "    }\n",
       "\n",
       "    .dataframe tbody tr th {\n",
       "        vertical-align: top;\n",
       "    }\n",
       "\n",
       "    .dataframe thead th {\n",
       "        text-align: right;\n",
       "    }\n",
       "</style>\n",
       "<table border=\"1\" class=\"dataframe\">\n",
       "  <thead>\n",
       "    <tr style=\"text-align: right;\">\n",
       "      <th></th>\n",
       "      <th>CODIGO_VEHICULO</th>\n",
       "      <th>COD_RIES_sini</th>\n",
       "      <th>FECHA_SINI_Elapsed</th>\n",
       "      <th>cond_C10</th>\n",
       "      <th>FECHA_SINI_Dayofyear</th>\n",
       "      <th>FECHA_SINI_Day</th>\n",
       "      <th>COD_CAUSA_SINI</th>\n",
       "      <th>total_condicion</th>\n",
       "      <th>COD_POST_POLIZA</th>\n",
       "      <th>CANT_RENOVACION</th>\n",
       "      <th>COD_POST_POLIZA_DP_CLUSTER_2019</th>\n",
       "      <th>COD_PROD</th>\n",
       "      <th>ESTADO_CIVIL</th>\n",
       "      <th>COD_POST_OCURRENCIA_DP_CLUSTER_2019</th>\n",
       "      <th>COD_POST_POLIZA_RC_CLUSTER_2019</th>\n",
       "      <th>NEGOCIO</th>\n",
       "      <th>FALTANTE</th>\n",
       "      <th>preg_28</th>\n",
       "      <th>cond_C11</th>\n",
       "      <th>MCA_JUICIO</th>\n",
       "      <th>ANTIG_pol</th>\n",
       "      <th>COD_POST_OCURRENCIA</th>\n",
       "      <th>dias_entre_denu_y_sini</th>\n",
       "      <th>SEGMENTO</th>\n",
       "      <th>CAPITAL_ASEGURADO_COTIZACION</th>\n",
       "      <th>OCUPACION_ASEG</th>\n",
       "      <th>CAPITAL_VEHICULO</th>\n",
       "      <th>DOMICILIO_CODIGO_POSTAL</th>\n",
       "      <th>CONV_COMISIONARIO</th>\n",
       "      <th>FECHA_SINI_Month</th>\n",
       "      <th>cant_pol</th>\n",
       "      <th>FECHA_SINI_Week</th>\n",
       "      <th>cond_C12</th>\n",
       "      <th>cond_C5</th>\n",
       "      <th>PRENDARIO</th>\n",
       "    </tr>\n",
       "  </thead>\n",
       "  <tbody>\n",
       "    <tr>\n",
       "      <th>2</th>\n",
       "      <td>2605.0</td>\n",
       "      <td>1.0</td>\n",
       "      <td>1554076800</td>\n",
       "      <td>-1.0</td>\n",
       "      <td>91.0</td>\n",
       "      <td>1.0</td>\n",
       "      <td>202.0</td>\n",
       "      <td>4.0</td>\n",
       "      <td>1407.0</td>\n",
       "      <td>1.0</td>\n",
       "      <td>25.0</td>\n",
       "      <td>73761.0</td>\n",
       "      <td>6</td>\n",
       "      <td>27.0</td>\n",
       "      <td>22.0</td>\n",
       "      <td>43</td>\n",
       "      <td>1</td>\n",
       "      <td>133</td>\n",
       "      <td>-1.0</td>\n",
       "      <td>-1</td>\n",
       "      <td>0.0</td>\n",
       "      <td>1678.0</td>\n",
       "      <td>0.0</td>\n",
       "      <td>4</td>\n",
       "      <td>433</td>\n",
       "      <td>44.0</td>\n",
       "      <td>674</td>\n",
       "      <td>-1.0</td>\n",
       "      <td>38</td>\n",
       "      <td>4.0</td>\n",
       "      <td>0.0</td>\n",
       "      <td>14.0</td>\n",
       "      <td>-1.0</td>\n",
       "      <td>0.0</td>\n",
       "      <td>0</td>\n",
       "    </tr>\n",
       "    <tr>\n",
       "      <th>23</th>\n",
       "      <td>2035.0</td>\n",
       "      <td>1.0</td>\n",
       "      <td>1554076800</td>\n",
       "      <td>0.0</td>\n",
       "      <td>91.0</td>\n",
       "      <td>1.0</td>\n",
       "      <td>209.0</td>\n",
       "      <td>5.0</td>\n",
       "      <td>1766.0</td>\n",
       "      <td>35.0</td>\n",
       "      <td>29.0</td>\n",
       "      <td>6030.0</td>\n",
       "      <td>6</td>\n",
       "      <td>29.0</td>\n",
       "      <td>25.0</td>\n",
       "      <td>21</td>\n",
       "      <td>0</td>\n",
       "      <td>-1</td>\n",
       "      <td>0.0</td>\n",
       "      <td>-1</td>\n",
       "      <td>1034.0</td>\n",
       "      <td>1754.0</td>\n",
       "      <td>0.0</td>\n",
       "      <td>4</td>\n",
       "      <td>1475</td>\n",
       "      <td>8.0</td>\n",
       "      <td>2781</td>\n",
       "      <td>-1.0</td>\n",
       "      <td>107</td>\n",
       "      <td>4.0</td>\n",
       "      <td>0.0</td>\n",
       "      <td>14.0</td>\n",
       "      <td>3.0</td>\n",
       "      <td>-1.0</td>\n",
       "      <td>0</td>\n",
       "    </tr>\n",
       "    <tr>\n",
       "      <th>283</th>\n",
       "      <td>12600.0</td>\n",
       "      <td>1.0</td>\n",
       "      <td>1554076800</td>\n",
       "      <td>0.0</td>\n",
       "      <td>91.0</td>\n",
       "      <td>1.0</td>\n",
       "      <td>209.0</td>\n",
       "      <td>6.0</td>\n",
       "      <td>1406.0</td>\n",
       "      <td>29.0</td>\n",
       "      <td>15.0</td>\n",
       "      <td>6060.0</td>\n",
       "      <td>0</td>\n",
       "      <td>25.0</td>\n",
       "      <td>19.0</td>\n",
       "      <td>21</td>\n",
       "      <td>1</td>\n",
       "      <td>-1</td>\n",
       "      <td>5.0</td>\n",
       "      <td>-1</td>\n",
       "      <td>850.0</td>\n",
       "      <td>1706.0</td>\n",
       "      <td>0.0</td>\n",
       "      <td>6</td>\n",
       "      <td>1446</td>\n",
       "      <td>99999.0</td>\n",
       "      <td>2099</td>\n",
       "      <td>-1.0</td>\n",
       "      <td>107</td>\n",
       "      <td>4.0</td>\n",
       "      <td>0.0</td>\n",
       "      <td>14.0</td>\n",
       "      <td>0.0</td>\n",
       "      <td>-1.0</td>\n",
       "      <td>0</td>\n",
       "    </tr>\n",
       "    <tr>\n",
       "      <th>292</th>\n",
       "      <td>26206.0</td>\n",
       "      <td>5.0</td>\n",
       "      <td>1554076800</td>\n",
       "      <td>0.0</td>\n",
       "      <td>91.0</td>\n",
       "      <td>1.0</td>\n",
       "      <td>209.0</td>\n",
       "      <td>4.0</td>\n",
       "      <td>1759.0</td>\n",
       "      <td>-1.0</td>\n",
       "      <td>29.0</td>\n",
       "      <td>5990.0</td>\n",
       "      <td>0</td>\n",
       "      <td>29.0</td>\n",
       "      <td>25.0</td>\n",
       "      <td>-1</td>\n",
       "      <td>1</td>\n",
       "      <td>-1</td>\n",
       "      <td>0.0</td>\n",
       "      <td>-1</td>\n",
       "      <td>92.0</td>\n",
       "      <td>1759.0</td>\n",
       "      <td>0.0</td>\n",
       "      <td>-1</td>\n",
       "      <td>888</td>\n",
       "      <td>8.0</td>\n",
       "      <td>1520</td>\n",
       "      <td>-1.0</td>\n",
       "      <td>107</td>\n",
       "      <td>4.0</td>\n",
       "      <td>0.0</td>\n",
       "      <td>14.0</td>\n",
       "      <td>0.0</td>\n",
       "      <td>-1.0</td>\n",
       "      <td>-1</td>\n",
       "    </tr>\n",
       "    <tr>\n",
       "      <th>336</th>\n",
       "      <td>24360.0</td>\n",
       "      <td>1.0</td>\n",
       "      <td>1554076800</td>\n",
       "      <td>-1.0</td>\n",
       "      <td>91.0</td>\n",
       "      <td>1.0</td>\n",
       "      <td>201.0</td>\n",
       "      <td>5.0</td>\n",
       "      <td>2300.0</td>\n",
       "      <td>2.0</td>\n",
       "      <td>8.0</td>\n",
       "      <td>72038.0</td>\n",
       "      <td>6</td>\n",
       "      <td>10.0</td>\n",
       "      <td>15.0</td>\n",
       "      <td>47</td>\n",
       "      <td>1</td>\n",
       "      <td>134</td>\n",
       "      <td>-1.0</td>\n",
       "      <td>-1</td>\n",
       "      <td>182.0</td>\n",
       "      <td>2000.0</td>\n",
       "      <td>0.0</td>\n",
       "      <td>4</td>\n",
       "      <td>3836</td>\n",
       "      <td>5.0</td>\n",
       "      <td>8132</td>\n",
       "      <td>-1.0</td>\n",
       "      <td>16</td>\n",
       "      <td>4.0</td>\n",
       "      <td>0.0</td>\n",
       "      <td>14.0</td>\n",
       "      <td>-1.0</td>\n",
       "      <td>2.0</td>\n",
       "      <td>1</td>\n",
       "    </tr>\n",
       "  </tbody>\n",
       "</table>\n",
       "</div>"
      ],
      "text/plain": [
       "     CODIGO_VEHICULO  COD_RIES_sini  FECHA_SINI_Elapsed  cond_C10  \\\n",
       "2             2605.0            1.0          1554076800      -1.0   \n",
       "23            2035.0            1.0          1554076800       0.0   \n",
       "283          12600.0            1.0          1554076800       0.0   \n",
       "292          26206.0            5.0          1554076800       0.0   \n",
       "336          24360.0            1.0          1554076800      -1.0   \n",
       "\n",
       "     FECHA_SINI_Dayofyear  FECHA_SINI_Day  COD_CAUSA_SINI  total_condicion  \\\n",
       "2                    91.0             1.0           202.0              4.0   \n",
       "23                   91.0             1.0           209.0              5.0   \n",
       "283                  91.0             1.0           209.0              6.0   \n",
       "292                  91.0             1.0           209.0              4.0   \n",
       "336                  91.0             1.0           201.0              5.0   \n",
       "\n",
       "     COD_POST_POLIZA  CANT_RENOVACION  COD_POST_POLIZA_DP_CLUSTER_2019  \\\n",
       "2             1407.0              1.0                             25.0   \n",
       "23            1766.0             35.0                             29.0   \n",
       "283           1406.0             29.0                             15.0   \n",
       "292           1759.0             -1.0                             29.0   \n",
       "336           2300.0              2.0                              8.0   \n",
       "\n",
       "     COD_PROD  ESTADO_CIVIL  COD_POST_OCURRENCIA_DP_CLUSTER_2019  \\\n",
       "2     73761.0             6                                 27.0   \n",
       "23     6030.0             6                                 29.0   \n",
       "283    6060.0             0                                 25.0   \n",
       "292    5990.0             0                                 29.0   \n",
       "336   72038.0             6                                 10.0   \n",
       "\n",
       "     COD_POST_POLIZA_RC_CLUSTER_2019  NEGOCIO  FALTANTE  preg_28  cond_C11  \\\n",
       "2                               22.0       43         1      133      -1.0   \n",
       "23                              25.0       21         0       -1       0.0   \n",
       "283                             19.0       21         1       -1       5.0   \n",
       "292                             25.0       -1         1       -1       0.0   \n",
       "336                             15.0       47         1      134      -1.0   \n",
       "\n",
       "     MCA_JUICIO  ANTIG_pol  COD_POST_OCURRENCIA  dias_entre_denu_y_sini  \\\n",
       "2            -1        0.0               1678.0                     0.0   \n",
       "23           -1     1034.0               1754.0                     0.0   \n",
       "283          -1      850.0               1706.0                     0.0   \n",
       "292          -1       92.0               1759.0                     0.0   \n",
       "336          -1      182.0               2000.0                     0.0   \n",
       "\n",
       "     SEGMENTO  CAPITAL_ASEGURADO_COTIZACION  OCUPACION_ASEG  CAPITAL_VEHICULO  \\\n",
       "2           4                           433            44.0               674   \n",
       "23          4                          1475             8.0              2781   \n",
       "283         6                          1446         99999.0              2099   \n",
       "292        -1                           888             8.0              1520   \n",
       "336         4                          3836             5.0              8132   \n",
       "\n",
       "     DOMICILIO_CODIGO_POSTAL  CONV_COMISIONARIO  FECHA_SINI_Month  cant_pol  \\\n",
       "2                       -1.0                 38               4.0       0.0   \n",
       "23                      -1.0                107               4.0       0.0   \n",
       "283                     -1.0                107               4.0       0.0   \n",
       "292                     -1.0                107               4.0       0.0   \n",
       "336                     -1.0                 16               4.0       0.0   \n",
       "\n",
       "     FECHA_SINI_Week  cond_C12  cond_C5  PRENDARIO  \n",
       "2               14.0      -1.0      0.0          0  \n",
       "23              14.0       3.0     -1.0          0  \n",
       "283             14.0       0.0     -1.0          0  \n",
       "292             14.0       0.0     -1.0         -1  \n",
       "336             14.0      -1.0      2.0          1  "
      ]
     },
     "execution_count": 308,
     "metadata": {},
     "output_type": "execute_result"
    }
   ],
   "source": [
    "X_test.head()"
   ]
  },
  {
   "cell_type": "markdown",
   "metadata": {},
   "source": [
    "## Model in test"
   ]
  },
  {
   "cell_type": "code",
   "execution_count": 309,
   "metadata": {},
   "outputs": [
    {
     "name": "stdout",
     "output_type": "stream",
     "text": [
      "0.393, 0.849\n"
     ]
    }
   ],
   "source": [
    "# using trained model\n",
    "y_test_pred_prob = m.predict_proba(X_test)[:, -1]\n",
    "\n",
    "# Using load model\n",
    "# y_test_pred_prob = m.predict_proba(X_test)[:, -1]\n",
    "\n",
    "print(\"%.3f, %.3f\" % (f1_score(y_test, y_test_pred_prob > 0.5), roc_auc_score(y_test, y_test_pred_prob)))"
   ]
  },
  {
   "cell_type": "code",
   "execution_count": 315,
   "metadata": {},
   "outputs": [
    {
     "data": {
      "text/plain": [
       "<matplotlib.axes._subplots.AxesSubplot at 0x7fafceeffe10>"
      ]
     },
     "execution_count": 315,
     "metadata": {},
     "output_type": "execute_result"
    },
    {
     "data": {
      "image/png": "[encoded data removed]",
      "text/plain": [
       "<Figure size 432x288 with 2 Axes>"
      ]
     },
     "metadata": {
      "needs_background": "light"
     },
     "output_type": "display_data"
    }
   ],
   "source": [
    "y_prob_adj = y_test_pred_prob > 0.5\n",
    "conf_mat = confusion_matrix(y_test, y_prob_adj)\n",
    "sns.heatmap(conf_mat, annot=True, fmt=\"d\")"
   ]
  },
  {
   "cell_type": "code",
   "execution_count": 311,
   "metadata": {},
   "outputs": [
    {
     "data": {
      "text/html": [
       "<div>\n",
       "<style scoped>\n",
       "    .dataframe tbody tr th:only-of-type {\n",
       "        vertical-align: middle;\n",
       "    }\n",
       "\n",
       "    .dataframe tbody tr th {\n",
       "        vertical-align: top;\n",
       "    }\n",
       "\n",
       "    .dataframe thead tr th {\n",
       "        text-align: left;\n",
       "    }\n",
       "\n",
       "    .dataframe thead tr:last-of-type th {\n",
       "        text-align: right;\n",
       "    }\n",
       "</style>\n",
       "<table border=\"1\" class=\"dataframe\">\n",
       "  <thead>\n",
       "    <tr>\n",
       "      <th>EXISTE_FRAUDE</th>\n",
       "      <th colspan=\"2\" halign=\"left\">False</th>\n",
       "      <th colspan=\"2\" halign=\"left\">True</th>\n",
       "    </tr>\n",
       "    <tr>\n",
       "      <th>col_1</th>\n",
       "      <th>False</th>\n",
       "      <th>True</th>\n",
       "      <th>False</th>\n",
       "      <th>True</th>\n",
       "    </tr>\n",
       "    <tr>\n",
       "      <th>TIPO_EXPED</th>\n",
       "      <th></th>\n",
       "      <th></th>\n",
       "      <th></th>\n",
       "      <th></th>\n",
       "    </tr>\n",
       "  </thead>\n",
       "  <tbody>\n",
       "    <tr>\n",
       "      <th>0</th>\n",
       "      <td>5</td>\n",
       "      <td>0</td>\n",
       "      <td>0</td>\n",
       "      <td>0</td>\n",
       "    </tr>\n",
       "    <tr>\n",
       "      <th>1</th>\n",
       "      <td>65</td>\n",
       "      <td>0</td>\n",
       "      <td>0</td>\n",
       "      <td>0</td>\n",
       "    </tr>\n",
       "    <tr>\n",
       "      <th>2</th>\n",
       "      <td>41</td>\n",
       "      <td>0</td>\n",
       "      <td>0</td>\n",
       "      <td>0</td>\n",
       "    </tr>\n",
       "    <tr>\n",
       "      <th>3</th>\n",
       "      <td>34</td>\n",
       "      <td>0</td>\n",
       "      <td>0</td>\n",
       "      <td>0</td>\n",
       "    </tr>\n",
       "    <tr>\n",
       "      <th>5</th>\n",
       "      <td>50</td>\n",
       "      <td>73</td>\n",
       "      <td>1</td>\n",
       "      <td>4</td>\n",
       "    </tr>\n",
       "    <tr>\n",
       "      <th>6</th>\n",
       "      <td>7</td>\n",
       "      <td>146</td>\n",
       "      <td>0</td>\n",
       "      <td>63</td>\n",
       "    </tr>\n",
       "  </tbody>\n",
       "</table>\n",
       "</div>"
      ],
      "text/plain": [
       "EXISTE_FRAUDE False       True       \n",
       "col_1         False True  False True \n",
       "TIPO_EXPED                           \n",
       "0                 5     0     0     0\n",
       "1                65     0     0     0\n",
       "2                41     0     0     0\n",
       "3                34     0     0     0\n",
       "5                50    73     1     4\n",
       "6                 7   146     0    63"
      ]
     },
     "execution_count": 311,
     "metadata": {},
     "output_type": "execute_result"
    }
   ],
   "source": [
    "pd.crosstab(df_test[\"TIPO_EXPED\"], [df_test[\"EXISTE_FRAUDE\"], y_prob_adj])"
   ]
  },
  {
   "cell_type": "markdown",
   "metadata": {},
   "source": [
    "## Tronador in test"
   ]
  },
  {
   "cell_type": "code",
   "execution_count": 71,
   "metadata": {},
   "outputs": [
    {
     "name": "stdout",
     "output_type": "stream",
     "text": [
      "0.354, 0.705\n"
     ]
    }
   ],
   "source": [
    "y_tronador = df_test[\"es_gte_5\"]\n",
    "print(\"%.3f, %.3f\" % (f1_score(y_test, y_tronador), roc_auc_score(y_test, y_tronador)))"
   ]
  },
  {
   "cell_type": "code",
   "execution_count": 72,
   "metadata": {},
   "outputs": [
    {
     "data": {
      "text/plain": [
       "<matplotlib.axes._subplots.AxesSubplot at 0x7f96a214a400>"
      ]
     },
     "execution_count": 72,
     "metadata": {},
     "output_type": "execute_result"
    },
    {
     "data": {
      "image/png": "[encoded data removed]",
      "text/plain": [
       "<Figure size 432x288 with 2 Axes>"
      ]
     },
     "metadata": {
      "needs_background": "light"
     },
     "output_type": "display_data"
    }
   ],
   "source": [
    "conf_mat = confusion_matrix(y_test, y_tronador)\n",
    "sns.heatmap(conf_mat, annot=True, fmt=\"d\")"
   ]
  },
  {
   "cell_type": "code",
   "execution_count": 78,
   "metadata": {},
   "outputs": [
    {
     "data": {
      "text/html": [
       "<div>\n",
       "<style scoped>\n",
       "    .dataframe tbody tr th:only-of-type {\n",
       "        vertical-align: middle;\n",
       "    }\n",
       "\n",
       "    .dataframe tbody tr th {\n",
       "        vertical-align: top;\n",
       "    }\n",
       "\n",
       "    .dataframe thead tr th {\n",
       "        text-align: left;\n",
       "    }\n",
       "\n",
       "    .dataframe thead tr:last-of-type th {\n",
       "        text-align: right;\n",
       "    }\n",
       "</style>\n",
       "<table border=\"1\" class=\"dataframe\">\n",
       "  <thead>\n",
       "    <tr>\n",
       "      <th>EXISTE_FRAUDE</th>\n",
       "      <th colspan=\"2\" halign=\"left\">False</th>\n",
       "      <th>True</th>\n",
       "    </tr>\n",
       "    <tr>\n",
       "      <th>es_gte_5</th>\n",
       "      <th>False</th>\n",
       "      <th>True</th>\n",
       "      <th>True</th>\n",
       "    </tr>\n",
       "    <tr>\n",
       "      <th>TIPO_EXPED</th>\n",
       "      <th></th>\n",
       "      <th></th>\n",
       "      <th></th>\n",
       "    </tr>\n",
       "  </thead>\n",
       "  <tbody>\n",
       "    <tr>\n",
       "      <th>0</th>\n",
       "      <td>3</td>\n",
       "      <td>2</td>\n",
       "      <td>0</td>\n",
       "    </tr>\n",
       "    <tr>\n",
       "      <th>1</th>\n",
       "      <td>54</td>\n",
       "      <td>11</td>\n",
       "      <td>0</td>\n",
       "    </tr>\n",
       "    <tr>\n",
       "      <th>2</th>\n",
       "      <td>40</td>\n",
       "      <td>1</td>\n",
       "      <td>0</td>\n",
       "    </tr>\n",
       "    <tr>\n",
       "      <th>3</th>\n",
       "      <td>33</td>\n",
       "      <td>1</td>\n",
       "      <td>0</td>\n",
       "    </tr>\n",
       "    <tr>\n",
       "      <th>5</th>\n",
       "      <td>26</td>\n",
       "      <td>97</td>\n",
       "      <td>5</td>\n",
       "    </tr>\n",
       "    <tr>\n",
       "      <th>6</th>\n",
       "      <td>17</td>\n",
       "      <td>136</td>\n",
       "      <td>63</td>\n",
       "    </tr>\n",
       "  </tbody>\n",
       "</table>\n",
       "</div>"
      ],
      "text/plain": [
       "EXISTE_FRAUDE False       True \n",
       "es_gte_5      False True  True \n",
       "TIPO_EXPED                     \n",
       "0                 3     2     0\n",
       "1                54    11     0\n",
       "2                40     1     0\n",
       "3                33     1     0\n",
       "5                26    97     5\n",
       "6                17   136    63"
      ]
     },
     "execution_count": 78,
     "metadata": {},
     "output_type": "execute_result"
    }
   ],
   "source": [
    "pd.crosstab(df_test[\"TIPO_EXPED\"], [df_test[\"EXISTE_FRAUDE\"], y_tronador])"
   ]
  },
  {
   "cell_type": "code",
   "execution_count": null,
   "metadata": {},
   "outputs": [],
   "source": []
  }
 ],
 "metadata": {
  "kernelspec": {
   "display_name": "Python 3",
   "language": "python",
   "name": "python3"
  },
  "language_info": {
   "codemirror_mode": {
    "name": "ipython",
    "version": 3
   },
   "file_extension": ".py",
   "mimetype": "text/x-python",
   "name": "python",
   "nbconvert_exporter": "python",
   "pygments_lexer": "ipython3",
   "version": "3.6.8"
  },
  "varInspector": {
   "cols": {
    "lenName": 16,
    "lenType": 16,
    "lenVar": 40
   },
   "kernels_config": {
    "python": {
     "delete_cmd_postfix": "",
     "delete_cmd_prefix": "del ",
     "library": "var_list.py",
     "varRefreshCmd": "print(var_dic_list())"
    },
    "r": {
     "delete_cmd_postfix": ") ",
     "delete_cmd_prefix": "rm(",
     "library": "var_list.r",
     "varRefreshCmd": "cat(var_dic_list()) "
    }
   },
   "types_to_exclude": [
    "module",
    "function",
    "builtin_function_or_method",
    "instance",
    "_Feature"
   ],
   "window_display": false
  }
 },
 "nbformat": 4,
 "nbformat_minor": 2
}
