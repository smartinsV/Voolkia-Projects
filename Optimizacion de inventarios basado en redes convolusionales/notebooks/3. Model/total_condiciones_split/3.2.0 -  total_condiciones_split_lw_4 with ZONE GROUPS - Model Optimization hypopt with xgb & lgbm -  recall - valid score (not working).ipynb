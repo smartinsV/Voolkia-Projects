{
 "cells": [
  {
   "cell_type": "markdown",
   "metadata": {},
   "source": [
    "# Model hiper optimization"
   ]
  },
  {
   "cell_type": "markdown",
   "metadata": {},
   "source": [
    "<h1 style=\"color:red\">Don't use. Use separated model by tipo_exped</h1>"
   ]
  },
  {
   "cell_type": "code",
   "execution_count": 1,
   "metadata": {},
   "outputs": [],
   "source": [
    "#imports\n",
    "import os\n",
    "from copy import copy\n",
    "\n",
    "import pandas as pd\n",
    "import numpy as np\n",
    "import seaborn as sns\n",
    "import matplotlib.pyplot as plt\n",
    "from sklearn.metrics import roc_auc_score, f1_score, confusion_matrix\n",
    "from sklearn.ensemble import RandomForestClassifier, ExtraTreesClassifier\n",
    "from sklearn.tree import DecisionTreeClassifier\n",
    "from xgboost import XGBClassifier\n",
    "from lightgbm import LGBMClassifier\n",
    "from sklearn.model_selection import GridSearchCV, RandomizedSearchCV\n",
    "from hypopt import GridSearch\n",
    "from hyperopt import tpe, fmin, space_eval, Trials, STATUS_OK, hp\n",
    "from sklearn.model_selection import StratifiedShuffleSplit\n",
    "\n",
    "import pickle"
   ]
  },
  {
   "cell_type": "code",
   "execution_count": 140,
   "metadata": {},
   "outputs": [
    {
     "name": "stdout",
     "output_type": "stream",
     "text": [
      "['1.1.b - 01-17 to 01-19 - df_val 02-19to03-19.feather', '1.1.b - 01-17 to 01-19 - df_train only 2018 without nulls.feather', '1.2.b - group zone - 01-17 to 01-19 - df_test 04-19to05-19.feather', '1.1 - df_train with nan.feather', '1.2.b - group zone - 01-17 to 01-19 - df_val 02-19to03-19.feather', '1.1 - df_train.feather', '1.2.b - group zone - 01-17 to 01-19 - df_train with nan.feather', '1.1 - df_test 04-19to04-19.feather', '1.1 - df_val 01-19to03-19.feather', '1.1.b - 01-17 to 01-19 - df_train without nulls.feather', '1.1 - df_train only 2018 without nulls.feather', '1.2.b - group zone - 01-17 to 01-19 - df_test 04-19to04-19.feather', '1.1.b - 01-17 to 01-19 - df_train with nan.feather', '1.1 - df_test 04-19to05-19.feather', '1.2.b - group zone - 01-17 to 01-19 - df_train without nulls.feather', '1.1.b - 01-17 to 01-19 - df_test 04-19to04-19.feather', '1.1.b - 01-17 to 01-19 - df_test 04-19to05-19.feather', '1.2.b - group zone - 01-17 to 01-19 - df_train only 2018 without nulls.feather']\n"
     ]
    }
   ],
   "source": [
    "# configs.\n",
    "%matplotlib inline\n",
    "# version to read\n",
    "read_version = \"1.2.b - group zone\"\n",
    "\n",
    "# model to save\n",
    "model_id = \"3.2.0 - total_condiciones_split lw4 - recall with zone groups\"\n",
    "\n",
    "pd.set_option(\"display.max_columns\", 500)\n",
    "\n",
    "path = \"../../../data/split\"\n",
    "random_state = 42\n",
    "print(os.listdir(path))"
   ]
  },
  {
   "cell_type": "markdown",
   "metadata": {},
   "source": [
    "## Loading training and validation datasets"
   ]
  },
  {
   "cell_type": "code",
   "execution_count": 3,
   "metadata": {},
   "outputs": [],
   "source": [
    "df = pd.read_feather(os.path.join(path, f\"{read_version} - 01-17 to 01-19 - df_train with nan.feather\"))\n",
    "df_val = pd.read_feather(os.path.join(path, f\"{read_version} - 01-17 to 01-19 - df_val 02-19to03-19.feather\"))"
   ]
  },
  {
   "cell_type": "code",
   "execution_count": 4,
   "metadata": {},
   "outputs": [],
   "source": [
    "# using only last year\n",
    "split_date = \"2018-01-01\"\n",
    "df = df[df[\"FECHA_SINI\"] >= split_date].copy()"
   ]
  },
  {
   "cell_type": "code",
   "execution_count": 5,
   "metadata": {},
   "outputs": [
    {
     "data": {
      "text/plain": [
       "(Timestamp('2018-01-01 00:00:00'), Timestamp('2019-01-31 00:00:00'))"
      ]
     },
     "execution_count": 5,
     "metadata": {},
     "output_type": "execute_result"
    }
   ],
   "source": [
    "df[\"FECHA_SINI\"].min(), df[\"FECHA_SINI\"].max()"
   ]
  },
  {
   "cell_type": "code",
   "execution_count": 6,
   "metadata": {},
   "outputs": [
    {
     "data": {
      "text/html": [
       "<div>\n",
       "<style scoped>\n",
       "    .dataframe tbody tr th:only-of-type {\n",
       "        vertical-align: middle;\n",
       "    }\n",
       "\n",
       "    .dataframe tbody tr th {\n",
       "        vertical-align: top;\n",
       "    }\n",
       "\n",
       "    .dataframe thead th {\n",
       "        text-align: right;\n",
       "    }\n",
       "</style>\n",
       "<table border=\"1\" class=\"dataframe\">\n",
       "  <thead>\n",
       "    <tr style=\"text-align: right;\">\n",
       "      <th>EXISTE_FRAUDE</th>\n",
       "      <th>False</th>\n",
       "      <th>True</th>\n",
       "    </tr>\n",
       "    <tr>\n",
       "      <th>total_condicion</th>\n",
       "      <th></th>\n",
       "      <th></th>\n",
       "    </tr>\n",
       "  </thead>\n",
       "  <tbody>\n",
       "    <tr>\n",
       "      <th>0.0</th>\n",
       "      <td>464245</td>\n",
       "      <td>827</td>\n",
       "    </tr>\n",
       "    <tr>\n",
       "      <th>1.0</th>\n",
       "      <td>22687</td>\n",
       "      <td>27</td>\n",
       "    </tr>\n",
       "    <tr>\n",
       "      <th>2.0</th>\n",
       "      <td>4198</td>\n",
       "      <td>98</td>\n",
       "    </tr>\n",
       "    <tr>\n",
       "      <th>3.0</th>\n",
       "      <td>18620</td>\n",
       "      <td>225</td>\n",
       "    </tr>\n",
       "    <tr>\n",
       "      <th>4.0</th>\n",
       "      <td>1828</td>\n",
       "      <td>24</td>\n",
       "    </tr>\n",
       "    <tr>\n",
       "      <th>5.0</th>\n",
       "      <td>2050</td>\n",
       "      <td>517</td>\n",
       "    </tr>\n",
       "    <tr>\n",
       "      <th>6.0</th>\n",
       "      <td>479</td>\n",
       "      <td>53</td>\n",
       "    </tr>\n",
       "    <tr>\n",
       "      <th>7.0</th>\n",
       "      <td>153</td>\n",
       "      <td>83</td>\n",
       "    </tr>\n",
       "    <tr>\n",
       "      <th>8.0</th>\n",
       "      <td>137</td>\n",
       "      <td>67</td>\n",
       "    </tr>\n",
       "    <tr>\n",
       "      <th>9.0</th>\n",
       "      <td>17</td>\n",
       "      <td>4</td>\n",
       "    </tr>\n",
       "    <tr>\n",
       "      <th>10.0</th>\n",
       "      <td>49</td>\n",
       "      <td>41</td>\n",
       "    </tr>\n",
       "    <tr>\n",
       "      <th>11.0</th>\n",
       "      <td>3</td>\n",
       "      <td>2</td>\n",
       "    </tr>\n",
       "    <tr>\n",
       "      <th>12.0</th>\n",
       "      <td>8</td>\n",
       "      <td>7</td>\n",
       "    </tr>\n",
       "    <tr>\n",
       "      <th>13.0</th>\n",
       "      <td>6</td>\n",
       "      <td>5</td>\n",
       "    </tr>\n",
       "    <tr>\n",
       "      <th>15.0</th>\n",
       "      <td>3</td>\n",
       "      <td>2</td>\n",
       "    </tr>\n",
       "  </tbody>\n",
       "</table>\n",
       "</div>"
      ],
      "text/plain": [
       "EXISTE_FRAUDE     False  True \n",
       "total_condicion               \n",
       "0.0              464245    827\n",
       "1.0               22687     27\n",
       "2.0                4198     98\n",
       "3.0               18620    225\n",
       "4.0                1828     24\n",
       "5.0                2050    517\n",
       "6.0                 479     53\n",
       "7.0                 153     83\n",
       "8.0                 137     67\n",
       "9.0                  17      4\n",
       "10.0                 49     41\n",
       "11.0                  3      2\n",
       "12.0                  8      7\n",
       "13.0                  6      5\n",
       "15.0                  3      2"
      ]
     },
     "execution_count": 6,
     "metadata": {},
     "output_type": "execute_result"
    }
   ],
   "source": [
    "pd.crosstab(df[\"total_condicion\"], df[\"EXISTE_FRAUDE\"])"
   ]
  },
  {
   "cell_type": "code",
   "execution_count": 7,
   "metadata": {},
   "outputs": [],
   "source": [
    "# Select all non 060 tipo exped.\n",
    "# 'None': 7,  '003': 2,  '060': 6,  '010': 3,  '020': 4,  '002': 1,  '050': 5,  '001': 0\n",
    "df = df[(df[\"total_condicion\"] < 4)]\n",
    "df_val = df_val[(df_val[\"total_condicion\"] < 4)]"
   ]
  },
  {
   "cell_type": "code",
   "execution_count": 8,
   "metadata": {},
   "outputs": [
    {
     "data": {
      "text/html": [
       "<div>\n",
       "<style scoped>\n",
       "    .dataframe tbody tr th:only-of-type {\n",
       "        vertical-align: middle;\n",
       "    }\n",
       "\n",
       "    .dataframe tbody tr th {\n",
       "        vertical-align: top;\n",
       "    }\n",
       "\n",
       "    .dataframe thead th {\n",
       "        text-align: right;\n",
       "    }\n",
       "</style>\n",
       "<table border=\"1\" class=\"dataframe\">\n",
       "  <thead>\n",
       "    <tr style=\"text-align: right;\">\n",
       "      <th>EXISTE_FRAUDE</th>\n",
       "      <th>False</th>\n",
       "      <th>True</th>\n",
       "    </tr>\n",
       "    <tr>\n",
       "      <th>total_condicion</th>\n",
       "      <th></th>\n",
       "      <th></th>\n",
       "    </tr>\n",
       "  </thead>\n",
       "  <tbody>\n",
       "    <tr>\n",
       "      <th>0.0</th>\n",
       "      <td>464245</td>\n",
       "      <td>827</td>\n",
       "    </tr>\n",
       "    <tr>\n",
       "      <th>1.0</th>\n",
       "      <td>22687</td>\n",
       "      <td>27</td>\n",
       "    </tr>\n",
       "    <tr>\n",
       "      <th>2.0</th>\n",
       "      <td>4198</td>\n",
       "      <td>98</td>\n",
       "    </tr>\n",
       "    <tr>\n",
       "      <th>3.0</th>\n",
       "      <td>18620</td>\n",
       "      <td>225</td>\n",
       "    </tr>\n",
       "  </tbody>\n",
       "</table>\n",
       "</div>"
      ],
      "text/plain": [
       "EXISTE_FRAUDE     False  True \n",
       "total_condicion               \n",
       "0.0              464245    827\n",
       "1.0               22687     27\n",
       "2.0                4198     98\n",
       "3.0               18620    225"
      ]
     },
     "execution_count": 8,
     "metadata": {},
     "output_type": "execute_result"
    }
   ],
   "source": [
    "pd.crosstab(df[\"total_condicion\"], df[\"EXISTE_FRAUDE\"])"
   ]
  },
  {
   "cell_type": "code",
   "execution_count": 9,
   "metadata": {},
   "outputs": [
    {
     "data": {
      "text/plain": [
       "2    224888\n",
       "3    202970\n",
       "1     39627\n",
       "6     30066\n",
       "4      6556\n",
       "5      4160\n",
       "0      2660\n",
       "Name: TIPO_EXPED, dtype: int64"
      ]
     },
     "execution_count": 9,
     "metadata": {},
     "output_type": "execute_result"
    }
   ],
   "source": [
    "df[\"TIPO_EXPED\"].value_counts()"
   ]
  },
  {
   "cell_type": "code",
   "execution_count": 10,
   "metadata": {},
   "outputs": [],
   "source": [
    "# delete unique value columns (for tipo_exped == 060)\n",
    "use_cols = df.nunique()[df.nunique() > 1].index\n",
    "df = df[use_cols]\n",
    "df_val = df_val[use_cols]"
   ]
  },
  {
   "cell_type": "code",
   "execution_count": 11,
   "metadata": {},
   "outputs": [
    {
     "data": {
      "text/plain": [
       "Index(['cond_04', 'cond_05', 'cond_06', 'cond_09', 'cond_11', 'cond_12',\n",
       "       'cond_32', 'cond_37', 'cond_C1', 'cond_C10', 'cond_C11', 'cond_C12',\n",
       "       'cond_C13', 'cond_C14', 'cond_C15', 'cond_C16', 'cond_C17', 'cond_C18',\n",
       "       'cond_C19', 'cond_C2', 'cond_C20', 'cond_C21', 'cond_C3', 'cond_C4',\n",
       "       'cond_C5', 'cond_C6', 'cond_C7', 'cond_C8', 'cond_C9'],\n",
       "      dtype='object')"
      ]
     },
     "execution_count": 11,
     "metadata": {},
     "output_type": "execute_result"
    }
   ],
   "source": [
    "cond_cols = df.filter(regex=\"^cond_*\").columns\n",
    "cond_cols"
   ]
  },
  {
   "cell_type": "code",
   "execution_count": 12,
   "metadata": {},
   "outputs": [],
   "source": [
    "# create column number of conditions activated\n",
    "df[\"cant_cond\"] = (df[cond_cols] > 0).sum(axis=1)\n",
    "df_val[\"cant_cond\"] = (df_val[cond_cols] > 0).sum(axis=1)"
   ]
  },
  {
   "cell_type": "code",
   "execution_count": 13,
   "metadata": {},
   "outputs": [
    {
     "data": {
      "text/plain": [
       "0    465072\n",
       "1     44391\n",
       "2      1422\n",
       "3        42\n",
       "Name: cant_cond, dtype: int64"
      ]
     },
     "execution_count": 13,
     "metadata": {},
     "output_type": "execute_result"
    }
   ],
   "source": [
    "df[\"cant_cond\"].value_counts()"
   ]
  },
  {
   "cell_type": "code",
   "execution_count": 14,
   "metadata": {},
   "outputs": [
    {
     "data": {
      "text/plain": [
       "False    509750\n",
       "True       1177\n",
       "Name: EXISTE_FRAUDE, dtype: int64"
      ]
     },
     "execution_count": 14,
     "metadata": {},
     "output_type": "execute_result"
    }
   ],
   "source": [
    "df[\"EXISTE_FRAUDE\"].value_counts()"
   ]
  },
  {
   "cell_type": "code",
   "execution_count": 15,
   "metadata": {},
   "outputs": [
    {
     "data": {
      "text/plain": [
       "(Timestamp('2018-01-01 00:00:00'), Timestamp('2019-01-31 00:00:00'))"
      ]
     },
     "execution_count": 15,
     "metadata": {},
     "output_type": "execute_result"
    }
   ],
   "source": [
    "df[\"FECHA_SINI\"].min(), df[\"FECHA_SINI\"].max()"
   ]
  },
  {
   "cell_type": "code",
   "execution_count": 16,
   "metadata": {},
   "outputs": [
    {
     "data": {
      "text/plain": [
       "(Timestamp('2019-02-01 00:00:00'), Timestamp('2019-03-31 00:00:00'))"
      ]
     },
     "execution_count": 16,
     "metadata": {},
     "output_type": "execute_result"
    }
   ],
   "source": [
    "df_val[\"FECHA_SINI\"].min(), df_val[\"FECHA_SINI\"].max()"
   ]
  },
  {
   "cell_type": "code",
   "execution_count": 17,
   "metadata": {},
   "outputs": [
    {
     "data": {
      "text/html": [
       "<div>\n",
       "<style scoped>\n",
       "    .dataframe tbody tr th:only-of-type {\n",
       "        vertical-align: middle;\n",
       "    }\n",
       "\n",
       "    .dataframe tbody tr th {\n",
       "        vertical-align: top;\n",
       "    }\n",
       "\n",
       "    .dataframe thead tr th {\n",
       "        text-align: left;\n",
       "    }\n",
       "\n",
       "    .dataframe thead tr:last-of-type th {\n",
       "        text-align: right;\n",
       "    }\n",
       "</style>\n",
       "<table border=\"1\" class=\"dataframe\">\n",
       "  <thead>\n",
       "    <tr>\n",
       "      <th>EXISTE_FRAUDE</th>\n",
       "      <th colspan=\"7\" halign=\"left\">False</th>\n",
       "      <th colspan=\"7\" halign=\"left\">True</th>\n",
       "      <th>All</th>\n",
       "    </tr>\n",
       "    <tr>\n",
       "      <th>TIPO_EXPED</th>\n",
       "      <th>0</th>\n",
       "      <th>1</th>\n",
       "      <th>2</th>\n",
       "      <th>3</th>\n",
       "      <th>4</th>\n",
       "      <th>5</th>\n",
       "      <th>6</th>\n",
       "      <th>0</th>\n",
       "      <th>1</th>\n",
       "      <th>2</th>\n",
       "      <th>3</th>\n",
       "      <th>4</th>\n",
       "      <th>5</th>\n",
       "      <th>6</th>\n",
       "      <th></th>\n",
       "    </tr>\n",
       "    <tr>\n",
       "      <th>FECHA_SINI</th>\n",
       "      <th></th>\n",
       "      <th></th>\n",
       "      <th></th>\n",
       "      <th></th>\n",
       "      <th></th>\n",
       "      <th></th>\n",
       "      <th></th>\n",
       "      <th></th>\n",
       "      <th></th>\n",
       "      <th></th>\n",
       "      <th></th>\n",
       "      <th></th>\n",
       "      <th></th>\n",
       "      <th></th>\n",
       "      <th></th>\n",
       "    </tr>\n",
       "  </thead>\n",
       "  <tbody>\n",
       "    <tr>\n",
       "      <th>1</th>\n",
       "      <td>359</td>\n",
       "      <td>5153</td>\n",
       "      <td>29449</td>\n",
       "      <td>30453</td>\n",
       "      <td>1025</td>\n",
       "      <td>604</td>\n",
       "      <td>5283</td>\n",
       "      <td>0</td>\n",
       "      <td>22</td>\n",
       "      <td>6</td>\n",
       "      <td>4</td>\n",
       "      <td>6</td>\n",
       "      <td>19</td>\n",
       "      <td>125</td>\n",
       "      <td>72508</td>\n",
       "    </tr>\n",
       "    <tr>\n",
       "      <th>2</th>\n",
       "      <td>223</td>\n",
       "      <td>2801</td>\n",
       "      <td>14765</td>\n",
       "      <td>13112</td>\n",
       "      <td>445</td>\n",
       "      <td>321</td>\n",
       "      <td>1874</td>\n",
       "      <td>1</td>\n",
       "      <td>11</td>\n",
       "      <td>4</td>\n",
       "      <td>4</td>\n",
       "      <td>1</td>\n",
       "      <td>10</td>\n",
       "      <td>47</td>\n",
       "      <td>33619</td>\n",
       "    </tr>\n",
       "    <tr>\n",
       "      <th>3</th>\n",
       "      <td>238</td>\n",
       "      <td>3644</td>\n",
       "      <td>18569</td>\n",
       "      <td>26327</td>\n",
       "      <td>686</td>\n",
       "      <td>352</td>\n",
       "      <td>2087</td>\n",
       "      <td>0</td>\n",
       "      <td>13</td>\n",
       "      <td>7</td>\n",
       "      <td>4</td>\n",
       "      <td>3</td>\n",
       "      <td>11</td>\n",
       "      <td>46</td>\n",
       "      <td>51987</td>\n",
       "    </tr>\n",
       "    <tr>\n",
       "      <th>4</th>\n",
       "      <td>235</td>\n",
       "      <td>3229</td>\n",
       "      <td>17569</td>\n",
       "      <td>15462</td>\n",
       "      <td>476</td>\n",
       "      <td>356</td>\n",
       "      <td>1943</td>\n",
       "      <td>2</td>\n",
       "      <td>12</td>\n",
       "      <td>7</td>\n",
       "      <td>4</td>\n",
       "      <td>2</td>\n",
       "      <td>18</td>\n",
       "      <td>51</td>\n",
       "      <td>39366</td>\n",
       "    </tr>\n",
       "    <tr>\n",
       "      <th>5</th>\n",
       "      <td>200</td>\n",
       "      <td>3372</td>\n",
       "      <td>18843</td>\n",
       "      <td>14489</td>\n",
       "      <td>424</td>\n",
       "      <td>329</td>\n",
       "      <td>2229</td>\n",
       "      <td>1</td>\n",
       "      <td>19</td>\n",
       "      <td>3</td>\n",
       "      <td>5</td>\n",
       "      <td>3</td>\n",
       "      <td>16</td>\n",
       "      <td>53</td>\n",
       "      <td>39986</td>\n",
       "    </tr>\n",
       "    <tr>\n",
       "      <th>6</th>\n",
       "      <td>199</td>\n",
       "      <td>3273</td>\n",
       "      <td>18405</td>\n",
       "      <td>13383</td>\n",
       "      <td>468</td>\n",
       "      <td>321</td>\n",
       "      <td>1893</td>\n",
       "      <td>1</td>\n",
       "      <td>6</td>\n",
       "      <td>9</td>\n",
       "      <td>3</td>\n",
       "      <td>2</td>\n",
       "      <td>7</td>\n",
       "      <td>57</td>\n",
       "      <td>38027</td>\n",
       "    </tr>\n",
       "    <tr>\n",
       "      <th>7</th>\n",
       "      <td>176</td>\n",
       "      <td>2919</td>\n",
       "      <td>18272</td>\n",
       "      <td>14154</td>\n",
       "      <td>491</td>\n",
       "      <td>327</td>\n",
       "      <td>2205</td>\n",
       "      <td>0</td>\n",
       "      <td>17</td>\n",
       "      <td>5</td>\n",
       "      <td>4</td>\n",
       "      <td>3</td>\n",
       "      <td>13</td>\n",
       "      <td>94</td>\n",
       "      <td>38680</td>\n",
       "    </tr>\n",
       "    <tr>\n",
       "      <th>8</th>\n",
       "      <td>172</td>\n",
       "      <td>3244</td>\n",
       "      <td>18890</td>\n",
       "      <td>14818</td>\n",
       "      <td>458</td>\n",
       "      <td>305</td>\n",
       "      <td>2290</td>\n",
       "      <td>1</td>\n",
       "      <td>9</td>\n",
       "      <td>2</td>\n",
       "      <td>4</td>\n",
       "      <td>1</td>\n",
       "      <td>11</td>\n",
       "      <td>73</td>\n",
       "      <td>40278</td>\n",
       "    </tr>\n",
       "    <tr>\n",
       "      <th>9</th>\n",
       "      <td>218</td>\n",
       "      <td>2941</td>\n",
       "      <td>16992</td>\n",
       "      <td>14622</td>\n",
       "      <td>498</td>\n",
       "      <td>313</td>\n",
       "      <td>2359</td>\n",
       "      <td>1</td>\n",
       "      <td>11</td>\n",
       "      <td>5</td>\n",
       "      <td>4</td>\n",
       "      <td>1</td>\n",
       "      <td>5</td>\n",
       "      <td>72</td>\n",
       "      <td>38042</td>\n",
       "    </tr>\n",
       "    <tr>\n",
       "      <th>10</th>\n",
       "      <td>206</td>\n",
       "      <td>3221</td>\n",
       "      <td>18225</td>\n",
       "      <td>16072</td>\n",
       "      <td>489</td>\n",
       "      <td>291</td>\n",
       "      <td>2560</td>\n",
       "      <td>1</td>\n",
       "      <td>5</td>\n",
       "      <td>2</td>\n",
       "      <td>5</td>\n",
       "      <td>1</td>\n",
       "      <td>7</td>\n",
       "      <td>52</td>\n",
       "      <td>41137</td>\n",
       "    </tr>\n",
       "    <tr>\n",
       "      <th>11</th>\n",
       "      <td>195</td>\n",
       "      <td>2904</td>\n",
       "      <td>16956</td>\n",
       "      <td>14431</td>\n",
       "      <td>485</td>\n",
       "      <td>262</td>\n",
       "      <td>2224</td>\n",
       "      <td>0</td>\n",
       "      <td>3</td>\n",
       "      <td>2</td>\n",
       "      <td>5</td>\n",
       "      <td>0</td>\n",
       "      <td>12</td>\n",
       "      <td>55</td>\n",
       "      <td>37534</td>\n",
       "    </tr>\n",
       "    <tr>\n",
       "      <th>12</th>\n",
       "      <td>230</td>\n",
       "      <td>2795</td>\n",
       "      <td>17898</td>\n",
       "      <td>15595</td>\n",
       "      <td>585</td>\n",
       "      <td>246</td>\n",
       "      <td>2348</td>\n",
       "      <td>1</td>\n",
       "      <td>3</td>\n",
       "      <td>3</td>\n",
       "      <td>6</td>\n",
       "      <td>3</td>\n",
       "      <td>4</td>\n",
       "      <td>46</td>\n",
       "      <td>39763</td>\n",
       "    </tr>\n",
       "    <tr>\n",
       "      <th>All</th>\n",
       "      <td>2651</td>\n",
       "      <td>39496</td>\n",
       "      <td>224833</td>\n",
       "      <td>202918</td>\n",
       "      <td>6530</td>\n",
       "      <td>4027</td>\n",
       "      <td>29295</td>\n",
       "      <td>9</td>\n",
       "      <td>131</td>\n",
       "      <td>55</td>\n",
       "      <td>52</td>\n",
       "      <td>26</td>\n",
       "      <td>133</td>\n",
       "      <td>771</td>\n",
       "      <td>510927</td>\n",
       "    </tr>\n",
       "  </tbody>\n",
       "</table>\n",
       "</div>"
      ],
      "text/plain": [
       "EXISTE_FRAUDE False                                           True           \\\n",
       "TIPO_EXPED        0      1       2       3     4     5      6    0    1   2   \n",
       "FECHA_SINI                                                                    \n",
       "1               359   5153   29449   30453  1025   604   5283    0   22   6   \n",
       "2               223   2801   14765   13112   445   321   1874    1   11   4   \n",
       "3               238   3644   18569   26327   686   352   2087    0   13   7   \n",
       "4               235   3229   17569   15462   476   356   1943    2   12   7   \n",
       "5               200   3372   18843   14489   424   329   2229    1   19   3   \n",
       "6               199   3273   18405   13383   468   321   1893    1    6   9   \n",
       "7               176   2919   18272   14154   491   327   2205    0   17   5   \n",
       "8               172   3244   18890   14818   458   305   2290    1    9   2   \n",
       "9               218   2941   16992   14622   498   313   2359    1   11   5   \n",
       "10              206   3221   18225   16072   489   291   2560    1    5   2   \n",
       "11              195   2904   16956   14431   485   262   2224    0    3   2   \n",
       "12              230   2795   17898   15595   585   246   2348    1    3   3   \n",
       "All            2651  39496  224833  202918  6530  4027  29295    9  131  55   \n",
       "\n",
       "EXISTE_FRAUDE                       All  \n",
       "TIPO_EXPED      3   4    5    6          \n",
       "FECHA_SINI                               \n",
       "1               4   6   19  125   72508  \n",
       "2               4   1   10   47   33619  \n",
       "3               4   3   11   46   51987  \n",
       "4               4   2   18   51   39366  \n",
       "5               5   3   16   53   39986  \n",
       "6               3   2    7   57   38027  \n",
       "7               4   3   13   94   38680  \n",
       "8               4   1   11   73   40278  \n",
       "9               4   1    5   72   38042  \n",
       "10              5   1    7   52   41137  \n",
       "11              5   0   12   55   37534  \n",
       "12              6   3    4   46   39763  \n",
       "All            52  26  133  771  510927  "
      ]
     },
     "execution_count": 17,
     "metadata": {},
     "output_type": "execute_result"
    }
   ],
   "source": [
    "pd.crosstab(df[\"FECHA_SINI\"].dt.month, [df[\"EXISTE_FRAUDE\"], df[\"TIPO_EXPED\"]], margins=True)"
   ]
  },
  {
   "cell_type": "code",
   "execution_count": 18,
   "metadata": {},
   "outputs": [
    {
     "name": "stdout",
     "output_type": "stream",
     "text": [
      "2018-01-01 00:00:00 2018-10-31 00:00:00\n",
      "2018-11-01 00:00:00 2019-01-31 00:00:00\n"
     ]
    }
   ],
   "source": [
    "# using only last year\n",
    "split_date = \"2018-11-01\"\n",
    "df_train = df[df[\"FECHA_SINI\"] < split_date].copy()\n",
    "df_opt = df[df[\"FECHA_SINI\"] >= split_date].copy()\n",
    "print(df_train[\"FECHA_SINI\"].min(), df_train[\"FECHA_SINI\"].max())\n",
    "print(df_opt[\"FECHA_SINI\"].min(), df_opt[\"FECHA_SINI\"].max())"
   ]
  },
  {
   "cell_type": "code",
   "execution_count": 19,
   "metadata": {},
   "outputs": [
    {
     "data": {
      "text/plain": [
       "(False    0.997551\n",
       " True     0.002449\n",
       " Name: EXISTE_FRAUDE, dtype: float64, False    0.998214\n",
       " True     0.001786\n",
       " Name: EXISTE_FRAUDE, dtype: float64)"
      ]
     },
     "execution_count": 19,
     "metadata": {},
     "output_type": "execute_result"
    }
   ],
   "source": [
    "df_train[\"EXISTE_FRAUDE\"].value_counts(normalize=True), df_opt[\"EXISTE_FRAUDE\"].value_counts(normalize=True)"
   ]
  },
  {
   "cell_type": "code",
   "execution_count": 20,
   "metadata": {},
   "outputs": [
    {
     "data": {
      "text/plain": [
       "(0.7808571478900117, 0.21914285210998832)"
      ]
     },
     "execution_count": 20,
     "metadata": {},
     "output_type": "execute_result"
    }
   ],
   "source": [
    "full_len = df_train.shape[0] + df_opt.shape[0]\n",
    "df_train.shape[0] / full_len, df_opt.shape[0] / full_len"
   ]
  },
  {
   "cell_type": "code",
   "execution_count": 21,
   "metadata": {},
   "outputs": [],
   "source": [
    "# dropping date FEC_ACT_cond\n",
    "to_drop = [\"FECHA_SINI\"]\n",
    "df_train.drop(to_drop, axis=1, inplace=True)\n",
    "df_opt.drop(to_drop, axis=1, inplace=True)\n",
    "df_val.drop(to_drop, axis=1, inplace=True)"
   ]
  },
  {
   "cell_type": "markdown",
   "metadata": {},
   "source": [
    "## split X, y dataset"
   ]
  },
  {
   "cell_type": "code",
   "execution_count": 22,
   "metadata": {},
   "outputs": [],
   "source": [
    "# to_drop = [\"COD_FRAUDE\", \"EXISTE_FRAUDE\", \"EXISTE_INHABILITAR\"]\n",
    "# already removed : \"EXISTE_INHABILITAR\", \"COD_ACT_BENEF\",\n",
    "to_drop = [\"EXISTE_FRAUDE\", \"NUM_SECU_EXPED\", \"NUM_SECU_POL\", \"EXISTE_INVEST\"] # , \"es_gte_5\"\n",
    "\n",
    "# training\n",
    "X_train = df_train.drop(to_drop, axis=1)\n",
    "y_train = df_train[\"EXISTE_FRAUDE\"]\n",
    "# validation\n",
    "X_opt = df_opt.drop(to_drop, axis=1)\n",
    "y_opt = df_opt[\"EXISTE_FRAUDE\"]\n",
    "# validation\n",
    "X_val = df_val.drop(to_drop, axis=1)\n",
    "y_val = df_val[\"EXISTE_FRAUDE\"]"
   ]
  },
  {
   "cell_type": "code",
   "execution_count": 23,
   "metadata": {},
   "outputs": [],
   "source": [
    "X_full_train = df.drop(to_drop, axis=1)\n",
    "X_full_train.drop(columns=[\"FECHA_SINI\"], inplace=True)\n",
    "y_full_train = df[\"EXISTE_FRAUDE\"]"
   ]
  },
  {
   "cell_type": "code",
   "execution_count": 24,
   "metadata": {},
   "outputs": [
    {
     "name": "stdout",
     "output_type": "stream",
     "text": [
      "dif between X_train & X_opt: set()\n",
      "dif between X_val & X_opt: set()\n"
     ]
    }
   ],
   "source": [
    "# checking if all have the same inputs columns\n",
    "print(\"dif between X_train & X_opt: {}\".format(set(X_train.columns) - set(X_opt.columns)))\n",
    "print(\"dif between X_val & X_opt: {}\".format(set(X_val.columns) - set(X_opt.columns)))"
   ]
  },
  {
   "cell_type": "code",
   "execution_count": 25,
   "metadata": {},
   "outputs": [
    {
     "name": "stdout",
     "output_type": "stream",
     "text": [
      "398961, 111966\n",
      "398961, 111966\n"
     ]
    }
   ],
   "source": [
    "print(f\"{len(X_train)}, {len(X_opt)}\")\n",
    "print(f\"{len(y_train)}, {len(y_opt)}\")"
   ]
  },
  {
   "cell_type": "code",
   "execution_count": 26,
   "metadata": {},
   "outputs": [
    {
     "data": {
      "text/plain": [
       "(0.0024488609162299072, 0.0017862565421645858)"
      ]
     },
     "execution_count": 26,
     "metadata": {},
     "output_type": "execute_result"
    }
   ],
   "source": [
    "y_train.sum() / len(y_train), y_opt.sum() / len(y_opt)"
   ]
  },
  {
   "cell_type": "code",
   "execution_count": 27,
   "metadata": {},
   "outputs": [
    {
     "data": {
      "text/plain": [
       "False    397984\n",
       "True        977\n",
       "Name: EXISTE_FRAUDE, dtype: int64"
      ]
     },
     "execution_count": 27,
     "metadata": {},
     "output_type": "execute_result"
    }
   ],
   "source": [
    "y_train.value_counts(dropna=False)"
   ]
  },
  {
   "cell_type": "markdown",
   "metadata": {},
   "source": [
    "## Defining grid configuration"
   ]
  },
  {
   "cell_type": "code",
   "execution_count": 28,
   "metadata": {},
   "outputs": [],
   "source": [
    "from sklearn.utils.class_weight import compute_class_weight"
   ]
  },
  {
   "cell_type": "code",
   "execution_count": 29,
   "metadata": {},
   "outputs": [
    {
     "data": {
      "text/plain": [
       "array([  0.50115449, 217.04630416])"
      ]
     },
     "execution_count": 29,
     "metadata": {},
     "output_type": "execute_result"
    }
   ],
   "source": [
    "weights = compute_class_weight(\"balanced\", df[\"EXISTE_FRAUDE\"].unique(), df[\"EXISTE_FRAUDE\"])\n",
    "weights"
   ]
  },
  {
   "cell_type": "code",
   "execution_count": 95,
   "metadata": {},
   "outputs": [
    {
     "data": {
      "text/plain": [
       "[{0: 1, 1: 180}, {0: 1, 1: 200}]"
      ]
     },
     "execution_count": 95,
     "metadata": {},
     "output_type": "execute_result"
    }
   ],
   "source": [
    "# configs\n",
    "list_weights = [180, 200] # , 350\n",
    "[{0:1, 1:l} for l in list_weights]"
   ]
  },
  {
   "cell_type": "markdown",
   "metadata": {
    "heading_collapsed": true
   },
   "source": [
    "### VERSION SIMPLE"
   ]
  },
  {
   "cell_type": "code",
   "execution_count": 97,
   "metadata": {
    "hidden": true
   },
   "outputs": [
    {
     "data": {
      "text/plain": [
       "[{'n_estimators': [60, 100],\n",
       "  'learning_rate': [1.0, 0.1, 0.01],\n",
       "  'scale_pos_weight': [180, 200]},\n",
       " {'n_estimators': [60, 100],\n",
       "  'learning_rate': [1.0, 0.1, 0.01],\n",
       "  'class_weight': [{0: 1, 1: 180}, {0: 1, 1: 200}]}]"
      ]
     },
     "execution_count": 97,
     "metadata": {},
     "output_type": "execute_result"
    }
   ],
   "source": [
    "\n",
    "rf_params = {\n",
    "    \"n_estimators\": [40],\n",
    "    \"min_samples_leaf\": [3, 5, 7],\n",
    "    \"max_depth\": [10, 40], # 10,\n",
    "    \"max_features\": ['sqrt'],  # , None\n",
    "    \"class_weight\": [{0:1, 1:l} for l in list_weights],\n",
    "    \"bootstrap\": [False, True],\n",
    "}\n",
    "param_configs = []\n",
    "# param_configs.append(rf_params)\n",
    "# param_configs.append(rf_params)\n",
    "\n",
    "dt_params = {\n",
    "    \"min_samples_leaf\": [3, 5, 7],\n",
    "    \"class_weight\": [{0:1, 1:l} for l in list_weights],\n",
    "}\n",
    "# param_configs.append(dt_params)\n",
    "\n",
    "\n",
    "gbt_params = {\n",
    "    'n_estimators': [60, 100], \n",
    "#    \"min_samples_leaf\": [3, 5, 7],\n",
    "#    \"max_depth\": [10, 40], # 10,\n",
    "#    'min_samples_split': [5, 7],\n",
    "    'learning_rate': [1.0, 0.1, 0.01],\n",
    "#    'subsample': [0.5, 1],\n",
    "#    \"colsample_bynode\": [0.5 , 1],\n",
    "    \"scale_pos_weight\": list_weights,\n",
    "}\n",
    "param_configs.append(gbt_params)\n",
    "\n",
    "\n",
    "lgbm_params = {\n",
    "    'n_estimators': [60, 100], \n",
    "#    'num_leaves': [10, 20, 50],\n",
    "#    'max_depth': [5, 10, 30],\n",
    "#    'min_child_samples': [3, 5, 7],\n",
    "    'learning_rate': [1.0, 0.1, 0.01],\n",
    "#    'subsample': [0.5, 1],\n",
    "#    \"colsample_bytree\": [0.5 , 1],\n",
    "    \"class_weight\": [{0:1, 1:l} for l in list_weights],\n",
    "}\n",
    "\n",
    "param_configs.append(lgbm_params)\n",
    "param_configs"
   ]
  },
  {
   "cell_type": "markdown",
   "metadata": {},
   "source": [
    "### VERSION COMPLEJA"
   ]
  },
  {
   "cell_type": "code",
   "execution_count": 98,
   "metadata": {},
   "outputs": [
    {
     "data": {
      "text/plain": [
       "[{'n_estimators': [60, 200],\n",
       "  'max_depth': [15, 40, 5],\n",
       "  'learning_rate': [1.0, 0.1, 0.05, 0.01],\n",
       "  'colsample_bytree': [0.5, 1.0],\n",
       "  'scale_pos_weight': [180, 200]},\n",
       " {'n_estimators': [60, 200],\n",
       "  'max_depth': [15, 40, -1],\n",
       "  'min_child_samples': [3, 5, 7, 11],\n",
       "  'learning_rate': [1.0, 0.1, 0.05, 0.01],\n",
       "  'colsample_bytree': [0.5, 1.0],\n",
       "  'class_weight': [{0: 1, 1: 180}, {0: 1, 1: 200}]}]"
      ]
     },
     "execution_count": 98,
     "metadata": {},
     "output_type": "execute_result"
    }
   ],
   "source": [
    "n_estimators = [60, 200]\n",
    "\n",
    "rf_params = {\n",
    "    \"n_estimators\": [60],\n",
    "    \"min_samples_leaf\": [3, 5, 7],\n",
    "    \"max_depth\": [10, 40], # 10,\n",
    "    \"max_features\": ['sqrt', None],\n",
    "    \"class_weight\": [{0:1, 1:l} for l in list_weights],\n",
    "    \"bootstrap\": [False, True],\n",
    "}\n",
    "param_configs = []\n",
    "# param_configs.append(rf_params)\n",
    "# param_configs.append(rf_params)\n",
    "\n",
    "dt_params = {\n",
    "    \"min_samples_leaf\": [3, 5, 7],\n",
    "    \"class_weight\": [{0:1, 1:l} for l in list_weights],\n",
    "}\n",
    "# param_configs.append(dt_params)\n",
    "\n",
    "\n",
    "gbt_params = {\n",
    "    'n_estimators': n_estimators, \n",
    "    \"max_depth\": [15, 40, 5],\n",
    "    'learning_rate': [1.0, 0.1, 0.05, 0.01],\n",
    "#    'subsample': [0.5, 1.0],\n",
    "    \"colsample_bytree\": [0.5 , 1.0],\n",
    "    \"scale_pos_weight\": list_weights,\n",
    "}\n",
    "param_configs.append(gbt_params)\n",
    "\n",
    "\n",
    "lgbm_params = {\n",
    "    'n_estimators': n_estimators, \n",
    "#    'num_leaves': [10, 20, 50],\n",
    "    \"max_depth\": [15, 40, -1],\n",
    "    'min_child_samples': [3, 5, 7, 11],\n",
    "    'learning_rate': [1.0, 0.1, 0.05, 0.01],\n",
    "#    'subsample': [0.5, 1.0],\n",
    "    \"colsample_bytree\": [0.5 , 1.0],\n",
    "    \"class_weight\": [{0:1, 1:l} for l in list_weights],\n",
    "}\n",
    "param_configs.append(lgbm_params)\n",
    "param_configs"
   ]
  },
  {
   "cell_type": "markdown",
   "metadata": {},
   "source": [
    "### Optimizing"
   ]
  },
  {
   "cell_type": "code",
   "execution_count": 99,
   "metadata": {},
   "outputs": [
    {
     "data": {
      "text/plain": [
       "[XGBClassifier(base_score=0.5, booster='gbtree', colsample_bylevel=1,\n",
       "               colsample_bytree=1, gamma=0, learning_rate=0.1, max_delta_step=0,\n",
       "               max_depth=3, min_child_weight=1, missing=None, n_estimators=100,\n",
       "               n_jobs=-1, nthread=None, objective='binary:logistic',\n",
       "               random_state=42, reg_alpha=0, reg_lambda=1, scale_pos_weight=1,\n",
       "               seed=None, silent=True, subsample=1),\n",
       " LGBMClassifier(boosting_type='gbdt', class_weight=None, colsample_bytree=1.0,\n",
       "                importance_type='split', learning_rate=0.1, max_depth=-1,\n",
       "                min_child_samples=20, min_child_weight=0.001, min_split_gain=0.0,\n",
       "                n_estimators=100, n_jobs=-1, num_leaves=31, objective=None,\n",
       "                random_state=42, reg_alpha=0.0, reg_lambda=0.0, silent=False,\n",
       "                subsample=1.0, subsample_for_bin=200000, subsample_freq=0)]"
      ]
     },
     "execution_count": 99,
     "metadata": {},
     "output_type": "execute_result"
    }
   ],
   "source": [
    "# using without grid with list of models\n",
    "rfs = []\n",
    "# rfs.append(RandomForestClassifier(random_state=random_state, n_jobs=-1))\n",
    "# rfs.append(ExtraTreesClassifier(random_state=random_state, n_jobs=-1))\n",
    "# rfs.append(DecisionTreeClassifier(random_state=random_state))\n",
    "rfs.append(XGBClassifier(random_state=random_state, n_jobs=-1))\n",
    "rfs.append(LGBMClassifier(random_state=random_state, silent=False, n_jobs=-1))\n",
    "rfs"
   ]
  },
  {
   "cell_type": "code",
   "execution_count": 100,
   "metadata": {
    "scrolled": true
   },
   "outputs": [
    {
     "name": "stdout",
     "output_type": "stream",
     "text": [
      "Model 0: XGBClassifier(base_score=0.5, booster='gbtree', colsample_bylevel=1,\n",
      "              colsample_bytree=1, gamma=0, learning_rate=0.1, max_delta_step=0,\n",
      "              max_depth=3, min_child_weight=1, missing=None, n_estimators=100,\n",
      "              n_jobs=-1, nthread=None, objective='binary:logistic',\n",
      "              random_state=42, reg_alpha=0, reg_lambda=1, scale_pos_weight=1,\n",
      "              seed=None, silent=True, subsample=1)\n",
      "Comparing 96 parameter setting(s) using 1 CPU thread(s) ( 96 job(s) per thread ).\n",
      "Best score: 0.725\n",
      "Best config: {'colsample_bytree': 1.0, 'learning_rate': 0.01, 'max_depth': 5, 'n_estimators': 200, 'scale_pos_weight': 200}\n",
      "*-*-*-*-*-*-*-*-*-*-*-*-*-*-*-*-*-*-*-*-*-*-*-*-*-*-*-*-*-*-\n",
      "Model 1: LGBMClassifier(boosting_type='gbdt', class_weight=None, colsample_bytree=1.0,\n",
      "               importance_type='split', learning_rate=0.1, max_depth=-1,\n",
      "               min_child_samples=20, min_child_weight=0.001, min_split_gain=0.0,\n",
      "               n_estimators=100, n_jobs=-1, num_leaves=31, objective=None,\n",
      "               random_state=42, reg_alpha=0.0, reg_lambda=0.0, silent=False,\n",
      "               subsample=1.0, subsample_for_bin=200000, subsample_freq=0)\n",
      "Comparing 384 parameter setting(s) using 1 CPU thread(s) ( 384 job(s) per thread ).\n",
      "Best score: 0.785\n",
      "Best config: {'class_weight': {0: 1, 1: 200}, 'colsample_bytree': 0.5, 'learning_rate': 0.01, 'max_depth': -1, 'min_child_samples': 7, 'n_estimators': 200}\n",
      "*-*-*-*-*-*-*-*-*-*-*-*-*-*-*-*-*-*-*-*-*-*-*-*-*-*-*-*-*-*-\n"
     ]
    }
   ],
   "source": [
    "# TO avoid random sampling,\n",
    "# WE USE GridSearch of hypopt\n",
    "metric = \"recall\"\n",
    "best_models_ = []\n",
    "best_scores_ = []\n",
    "for counter, rf in enumerate(rfs):\n",
    "    print(f\"Model {counter}: {rf}\")\n",
    "    clf = GridSearch(rf, param_grid=param_configs[counter], seed=random_state, num_threads=1)\n",
    "    clf.fit(X_train, y_train, X_val=X_opt, y_val=y_opt, scoring=metric, verbose=True)\n",
    "    print(f\"Best score: {clf.best_score}\")\n",
    "    print(f\"Best config: {clf.best_params}\")\n",
    "    best_models_.append(copy(clf))\n",
    "    best_scores_.append(clf.best_score)\n",
    "    print(\"*-*-*-\" * 10)"
   ]
  },
  {
   "cell_type": "code",
   "execution_count": 101,
   "metadata": {},
   "outputs": [
    {
     "name": "stdout",
     "output_type": "stream",
     "text": [
      "Best Config:\n",
      "GridSearch(cv_folds=3,\n",
      "           model=XGBClassifier(base_score=0.5, booster='gbtree',\n",
      "                               colsample_bylevel=1, colsample_bytree=1.0,\n",
      "                               gamma=0, learning_rate=0.01, max_delta_step=0,\n",
      "                               max_depth=5, min_child_weight=1, missing=nan,\n",
      "                               n_estimators=200, n_jobs=-1, nthread=None,\n",
      "                               objective='binary:logistic', random_state=0,\n",
      "                               reg_alpha=0, reg_lambda=1, scale_pos_weight=200,\n",
      "                               seed=0, silent=True, subsample=1),\n",
      "           num_threads=1,\n",
      "           param_grid={'colsample_bytree': [0.5, 1.0],\n",
      "                       'learning_rate': [1.0, 0.1, 0.05, 0.01],\n",
      "                       'max_depth': [15, 40, 5], 'n_estimators': [60, 200],\n",
      "                       'scale_pos_weight': [180, 200]},\n",
      "           seed=42) 0.725\n",
      "GridSearch(cv_folds=3,\n",
      "           model=LGBMClassifier(boosting_type='gbdt',\n",
      "                                class_weight={0: 1, 1: 180},\n",
      "                                colsample_bytree=0.5, importance_type='split',\n",
      "                                learning_rate=0.01, max_depth=-1,\n",
      "                                min_child_samples=11, min_child_weight=0.001,\n",
      "                                min_split_gain=0.0, n_estimators=200, n_jobs=-1,\n",
      "                                num_leaves=31, objective=None, random_state=0,\n",
      "                                reg_alpha=0.0, reg_lambda=0.0, silent=False,\n",
      "                                subsample=1.0, subsample_for_bin=200000,\n",
      "                                subsample_freq=0),\n",
      "           num_threads=1,\n",
      "           param_grid={'class_weight': [{0: 1, 1: 180}, {0: 1, 1: 200}],\n",
      "                       'colsample_bytree': [0.5, 1.0],\n",
      "                       'learning_rate': [1.0, 0.1, 0.05, 0.01],\n",
      "                       'max_depth': [15, 40, -1],\n",
      "                       'min_child_samples': [3, 5, 7, 11],\n",
      "                       'n_estimators': [60, 200]},\n",
      "           seed=42) 0.785\n"
     ]
    }
   ],
   "source": [
    "print(\"Best Config:\")\n",
    "for m, s in zip(best_models_, best_scores_):\n",
    "    print(m, s)"
   ]
  },
  {
   "cell_type": "code",
   "execution_count": 102,
   "metadata": {},
   "outputs": [],
   "source": [
    "# select best grid\n",
    "best_model = best_models_[np.argmax(best_scores_)]\n",
    "\n",
    "# select by hand\n",
    "# best_model = best_models_[2]"
   ]
  },
  {
   "cell_type": "code",
   "execution_count": 103,
   "metadata": {},
   "outputs": [
    {
     "name": "stdout",
     "output_type": "stream",
     "text": [
      "Grid scores:\n",
      "0.785 for {'class_weight': {0: 1, 1: 200}, 'colsample_bytree': 0.5, 'learning_rate': 0.01, 'max_depth': -1, 'min_child_samples': 7, 'n_estimators': 200}\n",
      "0.785 for {'class_weight': {0: 1, 1: 180}, 'colsample_bytree': 0.5, 'learning_rate': 0.01, 'max_depth': 15, 'min_child_samples': 5, 'n_estimators': 200}\n",
      "0.785 for {'class_weight': {0: 1, 1: 200}, 'colsample_bytree': 0.5, 'learning_rate': 0.01, 'max_depth': 40, 'min_child_samples': 11, 'n_estimators': 200}\n",
      "0.785 for {'class_weight': {0: 1, 1: 200}, 'colsample_bytree': 0.5, 'learning_rate': 0.01, 'max_depth': 40, 'min_child_samples': 7, 'n_estimators': 200}\n",
      "0.785 for {'class_weight': {0: 1, 1: 200}, 'colsample_bytree': 0.5, 'learning_rate': 0.01, 'max_depth': 15, 'min_child_samples': 11, 'n_estimators': 200}\n",
      "0.785 for {'class_weight': {0: 1, 1: 200}, 'colsample_bytree': 0.5, 'learning_rate': 0.01, 'max_depth': 15, 'min_child_samples': 7, 'n_estimators': 200}\n",
      "0.785 for {'class_weight': {0: 1, 1: 200}, 'colsample_bytree': 0.5, 'learning_rate': 0.01, 'max_depth': 15, 'min_child_samples': 5, 'n_estimators': 200}\n",
      "0.785 for {'class_weight': {0: 1, 1: 200}, 'colsample_bytree': 0.5, 'learning_rate': 0.01, 'max_depth': -1, 'min_child_samples': 11, 'n_estimators': 200}\n",
      "0.780 for {'class_weight': {0: 1, 1: 200}, 'colsample_bytree': 0.5, 'learning_rate': 0.01, 'max_depth': -1, 'min_child_samples': 5, 'n_estimators': 200}\n",
      "0.780 for {'class_weight': {0: 1, 1: 200}, 'colsample_bytree': 0.5, 'learning_rate': 0.01, 'max_depth': 40, 'min_child_samples': 3, 'n_estimators': 200}\n",
      "0.780 for {'class_weight': {0: 1, 1: 200}, 'colsample_bytree': 0.5, 'learning_rate': 0.01, 'max_depth': 40, 'min_child_samples': 5, 'n_estimators': 200}\n",
      "0.780 for {'class_weight': {0: 1, 1: 200}, 'colsample_bytree': 0.5, 'learning_rate': 0.01, 'max_depth': -1, 'min_child_samples': 3, 'n_estimators': 200}\n",
      "0.780 for {'class_weight': {0: 1, 1: 180}, 'colsample_bytree': 0.5, 'learning_rate': 0.01, 'max_depth': 15, 'min_child_samples': 3, 'n_estimators': 200}\n",
      "0.780 for {'class_weight': {0: 1, 1: 180}, 'colsample_bytree': 0.5, 'learning_rate': 0.01, 'max_depth': 40, 'min_child_samples': 3, 'n_estimators': 200}\n",
      "0.780 for {'class_weight': {0: 1, 1: 180}, 'colsample_bytree': 0.5, 'learning_rate': 0.01, 'max_depth': -1, 'min_child_samples': 5, 'n_estimators': 200}\n",
      "0.780 for {'class_weight': {0: 1, 1: 180}, 'colsample_bytree': 0.5, 'learning_rate': 0.01, 'max_depth': 15, 'min_child_samples': 7, 'n_estimators': 200}\n",
      "0.780 for {'class_weight': {0: 1, 1: 180}, 'colsample_bytree': 0.5, 'learning_rate': 0.01, 'max_depth': 15, 'min_child_samples': 11, 'n_estimators': 200}\n",
      "0.780 for {'class_weight': {0: 1, 1: 200}, 'colsample_bytree': 0.5, 'learning_rate': 0.05, 'max_depth': -1, 'min_child_samples': 11, 'n_estimators': 60}\n",
      "0.780 for {'class_weight': {0: 1, 1: 200}, 'colsample_bytree': 0.5, 'learning_rate': 0.01, 'max_depth': 15, 'min_child_samples': 3, 'n_estimators': 200}\n",
      "0.780 for {'class_weight': {0: 1, 1: 200}, 'colsample_bytree': 0.5, 'learning_rate': 0.05, 'max_depth': 40, 'min_child_samples': 11, 'n_estimators': 60}\n",
      "0.780 for {'class_weight': {0: 1, 1: 200}, 'colsample_bytree': 0.5, 'learning_rate': 0.05, 'max_depth': 40, 'min_child_samples': 3, 'n_estimators': 60}\n",
      "0.780 for {'class_weight': {0: 1, 1: 200}, 'colsample_bytree': 0.5, 'learning_rate': 0.05, 'max_depth': -1, 'min_child_samples': 3, 'n_estimators': 60}\n",
      "0.780 for {'class_weight': {0: 1, 1: 180}, 'colsample_bytree': 0.5, 'learning_rate': 0.01, 'max_depth': -1, 'min_child_samples': 11, 'n_estimators': 200}\n",
      "0.780 for {'class_weight': {0: 1, 1: 180}, 'colsample_bytree': 0.5, 'learning_rate': 0.01, 'max_depth': -1, 'min_child_samples': 7, 'n_estimators': 200}\n",
      "0.780 for {'class_weight': {0: 1, 1: 180}, 'colsample_bytree': 0.5, 'learning_rate': 0.01, 'max_depth': -1, 'min_child_samples': 3, 'n_estimators': 200}\n",
      "0.780 for {'class_weight': {0: 1, 1: 180}, 'colsample_bytree': 0.5, 'learning_rate': 0.01, 'max_depth': 40, 'min_child_samples': 11, 'n_estimators': 200}\n",
      "0.780 for {'class_weight': {0: 1, 1: 180}, 'colsample_bytree': 0.5, 'learning_rate': 0.01, 'max_depth': 40, 'min_child_samples': 7, 'n_estimators': 200}\n",
      "0.780 for {'class_weight': {0: 1, 1: 180}, 'colsample_bytree': 0.5, 'learning_rate': 0.01, 'max_depth': 40, 'min_child_samples': 5, 'n_estimators': 200}\n",
      "0.780 for {'class_weight': {0: 1, 1: 200}, 'colsample_bytree': 0.5, 'learning_rate': 0.05, 'max_depth': 15, 'min_child_samples': 3, 'n_estimators': 60}\n",
      "0.775 for {'class_weight': {0: 1, 1: 200}, 'colsample_bytree': 0.5, 'learning_rate': 0.05, 'max_depth': 15, 'min_child_samples': 11, 'n_estimators': 60}\n",
      "0.775 for {'class_weight': {0: 1, 1: 200}, 'colsample_bytree': 1.0, 'learning_rate': 0.05, 'max_depth': 40, 'min_child_samples': 11, 'n_estimators': 60}\n",
      "0.775 for {'class_weight': {0: 1, 1: 200}, 'colsample_bytree': 1.0, 'learning_rate': 0.05, 'max_depth': -1, 'min_child_samples': 11, 'n_estimators': 60}\n",
      "0.775 for {'class_weight': {0: 1, 1: 200}, 'colsample_bytree': 1.0, 'learning_rate': 0.05, 'max_depth': 15, 'min_child_samples': 11, 'n_estimators': 60}\n",
      "0.770 for {'class_weight': {0: 1, 1: 200}, 'colsample_bytree': 0.5, 'learning_rate': 0.05, 'max_depth': 15, 'min_child_samples': 5, 'n_estimators': 60}\n",
      "0.770 for {'class_weight': {0: 1, 1: 200}, 'colsample_bytree': 0.5, 'learning_rate': 0.05, 'max_depth': 15, 'min_child_samples': 7, 'n_estimators': 60}\n",
      "0.770 for {'class_weight': {0: 1, 1: 200}, 'colsample_bytree': 0.5, 'learning_rate': 0.05, 'max_depth': 40, 'min_child_samples': 5, 'n_estimators': 60}\n",
      "0.770 for {'class_weight': {0: 1, 1: 200}, 'colsample_bytree': 0.5, 'learning_rate': 0.05, 'max_depth': 40, 'min_child_samples': 7, 'n_estimators': 60}\n",
      "0.770 for {'class_weight': {0: 1, 1: 200}, 'colsample_bytree': 0.5, 'learning_rate': 0.05, 'max_depth': -1, 'min_child_samples': 5, 'n_estimators': 60}\n",
      "0.770 for {'class_weight': {0: 1, 1: 200}, 'colsample_bytree': 0.5, 'learning_rate': 0.05, 'max_depth': -1, 'min_child_samples': 7, 'n_estimators': 60}\n",
      "0.760 for {'class_weight': {0: 1, 1: 200}, 'colsample_bytree': 1.0, 'learning_rate': 0.05, 'max_depth': 40, 'min_child_samples': 5, 'n_estimators': 60}\n",
      "0.760 for {'class_weight': {0: 1, 1: 200}, 'colsample_bytree': 1.0, 'learning_rate': 0.05, 'max_depth': -1, 'min_child_samples': 5, 'n_estimators': 60}\n",
      "0.760 for {'class_weight': {0: 1, 1: 200}, 'colsample_bytree': 1.0, 'learning_rate': 0.01, 'max_depth': 15, 'min_child_samples': 3, 'n_estimators': 200}\n",
      "0.760 for {'class_weight': {0: 1, 1: 200}, 'colsample_bytree': 1.0, 'learning_rate': 0.01, 'max_depth': -1, 'min_child_samples': 3, 'n_estimators': 200}\n",
      "0.760 for {'class_weight': {0: 1, 1: 180}, 'colsample_bytree': 0.5, 'learning_rate': 0.05, 'max_depth': 15, 'min_child_samples': 3, 'n_estimators': 60}\n",
      "0.760 for {'class_weight': {0: 1, 1: 180}, 'colsample_bytree': 0.5, 'learning_rate': 0.05, 'max_depth': 40, 'min_child_samples': 3, 'n_estimators': 60}\n",
      "0.760 for {'class_weight': {0: 1, 1: 200}, 'colsample_bytree': 1.0, 'learning_rate': 0.01, 'max_depth': 40, 'min_child_samples': 3, 'n_estimators': 200}\n",
      "0.760 for {'class_weight': {0: 1, 1: 180}, 'colsample_bytree': 0.5, 'learning_rate': 0.05, 'max_depth': -1, 'min_child_samples': 3, 'n_estimators': 60}\n",
      "0.755 for {'class_weight': {0: 1, 1: 200}, 'colsample_bytree': 1.0, 'learning_rate': 0.05, 'max_depth': -1, 'min_child_samples': 7, 'n_estimators': 60}\n",
      "0.755 for {'class_weight': {0: 1, 1: 200}, 'colsample_bytree': 1.0, 'learning_rate': 0.05, 'max_depth': 40, 'min_child_samples': 3, 'n_estimators': 60}\n",
      "0.755 for {'class_weight': {0: 1, 1: 200}, 'colsample_bytree': 1.0, 'learning_rate': 0.01, 'max_depth': 15, 'min_child_samples': 5, 'n_estimators': 200}\n",
      "0.755 for {'class_weight': {0: 1, 1: 180}, 'colsample_bytree': 0.5, 'learning_rate': 0.05, 'max_depth': -1, 'min_child_samples': 11, 'n_estimators': 60}\n",
      "0.755 for {'class_weight': {0: 1, 1: 200}, 'colsample_bytree': 1.0, 'learning_rate': 0.05, 'max_depth': -1, 'min_child_samples': 3, 'n_estimators': 60}\n",
      "0.755 for {'class_weight': {0: 1, 1: 200}, 'colsample_bytree': 1.0, 'learning_rate': 0.01, 'max_depth': 15, 'min_child_samples': 7, 'n_estimators': 200}\n",
      "0.755 for {'class_weight': {0: 1, 1: 200}, 'colsample_bytree': 1.0, 'learning_rate': 0.01, 'max_depth': -1, 'min_child_samples': 11, 'n_estimators': 200}\n",
      "0.755 for {'class_weight': {0: 1, 1: 200}, 'colsample_bytree': 1.0, 'learning_rate': 0.05, 'max_depth': 40, 'min_child_samples': 7, 'n_estimators': 60}\n",
      "0.755 for {'class_weight': {0: 1, 1: 200}, 'colsample_bytree': 1.0, 'learning_rate': 0.01, 'max_depth': -1, 'min_child_samples': 5, 'n_estimators': 200}\n",
      "0.755 for {'class_weight': {0: 1, 1: 180}, 'colsample_bytree': 0.5, 'learning_rate': 0.05, 'max_depth': 40, 'min_child_samples': 11, 'n_estimators': 60}\n",
      "0.755 for {'class_weight': {0: 1, 1: 200}, 'colsample_bytree': 1.0, 'learning_rate': 0.01, 'max_depth': 40, 'min_child_samples': 11, 'n_estimators': 200}\n",
      "0.755 for {'class_weight': {0: 1, 1: 200}, 'colsample_bytree': 1.0, 'learning_rate': 0.01, 'max_depth': 15, 'min_child_samples': 11, 'n_estimators': 200}\n",
      "0.755 for {'class_weight': {0: 1, 1: 200}, 'colsample_bytree': 1.0, 'learning_rate': 0.01, 'max_depth': 40, 'min_child_samples': 5, 'n_estimators': 200}\n",
      "0.755 for {'class_weight': {0: 1, 1: 180}, 'colsample_bytree': 0.5, 'learning_rate': 0.05, 'max_depth': 15, 'min_child_samples': 11, 'n_estimators': 60}\n",
      "0.750 for {'class_weight': {0: 1, 1: 180}, 'colsample_bytree': 1.0, 'learning_rate': 0.01, 'max_depth': 40, 'min_child_samples': 7, 'n_estimators': 200}\n",
      "0.750 for {'class_weight': {0: 1, 1: 180}, 'colsample_bytree': 1.0, 'learning_rate': 0.01, 'max_depth': 15, 'min_child_samples': 11, 'n_estimators': 200}\n",
      "0.750 for {'class_weight': {0: 1, 1: 180}, 'colsample_bytree': 1.0, 'learning_rate': 0.01, 'max_depth': 40, 'min_child_samples': 3, 'n_estimators': 200}\n",
      "0.750 for {'class_weight': {0: 1, 1: 180}, 'colsample_bytree': 1.0, 'learning_rate': 0.01, 'max_depth': 40, 'min_child_samples': 5, 'n_estimators': 200}\n",
      "0.750 for {'class_weight': {0: 1, 1: 200}, 'colsample_bytree': 1.0, 'learning_rate': 0.01, 'max_depth': 40, 'min_child_samples': 7, 'n_estimators': 200}\n",
      "0.750 for {'class_weight': {0: 1, 1: 180}, 'colsample_bytree': 1.0, 'learning_rate': 0.01, 'max_depth': -1, 'min_child_samples': 11, 'n_estimators': 200}\n",
      "0.750 for {'class_weight': {0: 1, 1: 180}, 'colsample_bytree': 1.0, 'learning_rate': 0.01, 'max_depth': -1, 'min_child_samples': 3, 'n_estimators': 200}\n",
      "0.750 for {'class_weight': {0: 1, 1: 180}, 'colsample_bytree': 1.0, 'learning_rate': 0.01, 'max_depth': 40, 'min_child_samples': 11, 'n_estimators': 200}\n",
      "0.750 for {'class_weight': {0: 1, 1: 200}, 'colsample_bytree': 1.0, 'learning_rate': 0.01, 'max_depth': -1, 'min_child_samples': 7, 'n_estimators': 200}\n",
      "0.750 for {'class_weight': {0: 1, 1: 200}, 'colsample_bytree': 1.0, 'learning_rate': 0.05, 'max_depth': 15, 'min_child_samples': 7, 'n_estimators': 60}\n",
      "0.750 for {'class_weight': {0: 1, 1: 180}, 'colsample_bytree': 1.0, 'learning_rate': 0.01, 'max_depth': 15, 'min_child_samples': 5, 'n_estimators': 200}\n",
      "0.750 for {'class_weight': {0: 1, 1: 180}, 'colsample_bytree': 1.0, 'learning_rate': 0.01, 'max_depth': 15, 'min_child_samples': 7, 'n_estimators': 200}\n",
      "0.750 for {'class_weight': {0: 1, 1: 180}, 'colsample_bytree': 0.5, 'learning_rate': 0.05, 'max_depth': -1, 'min_child_samples': 5, 'n_estimators': 60}\n",
      "0.750 for {'class_weight': {0: 1, 1: 180}, 'colsample_bytree': 1.0, 'learning_rate': 0.01, 'max_depth': 15, 'min_child_samples': 3, 'n_estimators': 200}\n",
      "0.750 for {'class_weight': {0: 1, 1: 180}, 'colsample_bytree': 0.5, 'learning_rate': 0.05, 'max_depth': -1, 'min_child_samples': 7, 'n_estimators': 60}\n",
      "0.750 for {'class_weight': {0: 1, 1: 180}, 'colsample_bytree': 1.0, 'learning_rate': 0.05, 'max_depth': -1, 'min_child_samples': 5, 'n_estimators': 60}\n",
      "0.750 for {'class_weight': {0: 1, 1: 180}, 'colsample_bytree': 0.5, 'learning_rate': 0.05, 'max_depth': 15, 'min_child_samples': 5, 'n_estimators': 60}\n",
      "0.750 for {'class_weight': {0: 1, 1: 180}, 'colsample_bytree': 0.5, 'learning_rate': 0.05, 'max_depth': 15, 'min_child_samples': 7, 'n_estimators': 60}\n",
      "0.750 for {'class_weight': {0: 1, 1: 180}, 'colsample_bytree': 1.0, 'learning_rate': 0.01, 'max_depth': -1, 'min_child_samples': 5, 'n_estimators': 200}\n",
      "0.750 for {'class_weight': {0: 1, 1: 180}, 'colsample_bytree': 0.5, 'learning_rate': 0.05, 'max_depth': 40, 'min_child_samples': 5, 'n_estimators': 60}\n",
      "0.750 for {'class_weight': {0: 1, 1: 180}, 'colsample_bytree': 0.5, 'learning_rate': 0.05, 'max_depth': 40, 'min_child_samples': 7, 'n_estimators': 60}\n",
      "0.750 for {'class_weight': {0: 1, 1: 180}, 'colsample_bytree': 1.0, 'learning_rate': 0.01, 'max_depth': -1, 'min_child_samples': 7, 'n_estimators': 200}\n",
      "0.750 for {'class_weight': {0: 1, 1: 180}, 'colsample_bytree': 1.0, 'learning_rate': 0.05, 'max_depth': 40, 'min_child_samples': 5, 'n_estimators': 60}\n",
      "0.745 for {'class_weight': {0: 1, 1: 180}, 'colsample_bytree': 1.0, 'learning_rate': 0.05, 'max_depth': 15, 'min_child_samples': 5, 'n_estimators': 60}\n",
      "0.745 for {'class_weight': {0: 1, 1: 180}, 'colsample_bytree': 1.0, 'learning_rate': 0.05, 'max_depth': 15, 'min_child_samples': 7, 'n_estimators': 60}\n",
      "0.745 for {'class_weight': {0: 1, 1: 200}, 'colsample_bytree': 1.0, 'learning_rate': 0.05, 'max_depth': 15, 'min_child_samples': 3, 'n_estimators': 60}\n",
      "0.745 for {'class_weight': {0: 1, 1: 200}, 'colsample_bytree': 1.0, 'learning_rate': 0.05, 'max_depth': 15, 'min_child_samples': 5, 'n_estimators': 60}\n",
      "0.745 for {'class_weight': {0: 1, 1: 180}, 'colsample_bytree': 1.0, 'learning_rate': 0.05, 'max_depth': -1, 'min_child_samples': 3, 'n_estimators': 60}\n",
      "0.745 for {'class_weight': {0: 1, 1: 180}, 'colsample_bytree': 1.0, 'learning_rate': 0.05, 'max_depth': 40, 'min_child_samples': 3, 'n_estimators': 60}\n",
      "0.740 for {'class_weight': {0: 1, 1: 180}, 'colsample_bytree': 1.0, 'learning_rate': 0.05, 'max_depth': 40, 'min_child_samples': 11, 'n_estimators': 60}\n",
      "0.740 for {'class_weight': {0: 1, 1: 180}, 'colsample_bytree': 1.0, 'learning_rate': 0.05, 'max_depth': 40, 'min_child_samples': 7, 'n_estimators': 60}\n",
      "0.740 for {'class_weight': {0: 1, 1: 180}, 'colsample_bytree': 1.0, 'learning_rate': 0.05, 'max_depth': -1, 'min_child_samples': 7, 'n_estimators': 60}\n",
      "0.740 for {'class_weight': {0: 1, 1: 180}, 'colsample_bytree': 1.0, 'learning_rate': 0.05, 'max_depth': 15, 'min_child_samples': 11, 'n_estimators': 60}\n",
      "0.740 for {'class_weight': {0: 1, 1: 180}, 'colsample_bytree': 1.0, 'learning_rate': 0.05, 'max_depth': -1, 'min_child_samples': 11, 'n_estimators': 60}\n",
      "0.735 for {'class_weight': {0: 1, 1: 180}, 'colsample_bytree': 1.0, 'learning_rate': 0.05, 'max_depth': 15, 'min_child_samples': 3, 'n_estimators': 60}\n",
      "0.730 for {'class_weight': {0: 1, 1: 200}, 'colsample_bytree': 0.5, 'learning_rate': 0.01, 'max_depth': -1, 'min_child_samples': 7, 'n_estimators': 60}\n",
      "0.730 for {'class_weight': {0: 1, 1: 200}, 'colsample_bytree': 0.5, 'learning_rate': 0.01, 'max_depth': 40, 'min_child_samples': 7, 'n_estimators': 60}\n",
      "0.730 for {'class_weight': {0: 1, 1: 200}, 'colsample_bytree': 0.5, 'learning_rate': 0.01, 'max_depth': 15, 'min_child_samples': 3, 'n_estimators': 60}\n",
      "0.730 for {'class_weight': {0: 1, 1: 200}, 'colsample_bytree': 0.5, 'learning_rate': 0.01, 'max_depth': 40, 'min_child_samples': 11, 'n_estimators': 60}\n",
      "0.730 for {'class_weight': {0: 1, 1: 200}, 'colsample_bytree': 0.5, 'learning_rate': 0.01, 'max_depth': 15, 'min_child_samples': 5, 'n_estimators': 60}\n",
      "0.730 for {'class_weight': {0: 1, 1: 200}, 'colsample_bytree': 0.5, 'learning_rate': 0.01, 'max_depth': -1, 'min_child_samples': 5, 'n_estimators': 60}\n",
      "0.730 for {'class_weight': {0: 1, 1: 200}, 'colsample_bytree': 0.5, 'learning_rate': 0.01, 'max_depth': -1, 'min_child_samples': 3, 'n_estimators': 60}\n",
      "0.730 for {'class_weight': {0: 1, 1: 200}, 'colsample_bytree': 0.5, 'learning_rate': 0.01, 'max_depth': 15, 'min_child_samples': 7, 'n_estimators': 60}\n",
      "0.730 for {'class_weight': {0: 1, 1: 200}, 'colsample_bytree': 0.5, 'learning_rate': 0.01, 'max_depth': -1, 'min_child_samples': 11, 'n_estimators': 60}\n",
      "0.730 for {'class_weight': {0: 1, 1: 200}, 'colsample_bytree': 0.5, 'learning_rate': 0.01, 'max_depth': 40, 'min_child_samples': 3, 'n_estimators': 60}\n",
      "0.730 for {'class_weight': {0: 1, 1: 200}, 'colsample_bytree': 0.5, 'learning_rate': 0.01, 'max_depth': 40, 'min_child_samples': 5, 'n_estimators': 60}\n",
      "0.730 for {'class_weight': {0: 1, 1: 200}, 'colsample_bytree': 0.5, 'learning_rate': 0.01, 'max_depth': 15, 'min_child_samples': 11, 'n_estimators': 60}\n",
      "0.645 for {'class_weight': {0: 1, 1: 200}, 'colsample_bytree': 0.5, 'learning_rate': 0.1, 'max_depth': 15, 'min_child_samples': 3, 'n_estimators': 60}\n",
      "0.625 for {'class_weight': {0: 1, 1: 180}, 'colsample_bytree': 0.5, 'learning_rate': 0.01, 'max_depth': 40, 'min_child_samples': 3, 'n_estimators': 60}\n",
      "0.625 for {'class_weight': {0: 1, 1: 180}, 'colsample_bytree': 0.5, 'learning_rate': 0.01, 'max_depth': -1, 'min_child_samples': 7, 'n_estimators': 60}\n",
      "0.625 for {'class_weight': {0: 1, 1: 180}, 'colsample_bytree': 0.5, 'learning_rate': 0.01, 'max_depth': -1, 'min_child_samples': 5, 'n_estimators': 60}\n",
      "0.625 for {'class_weight': {0: 1, 1: 180}, 'colsample_bytree': 0.5, 'learning_rate': 0.01, 'max_depth': -1, 'min_child_samples': 3, 'n_estimators': 60}\n",
      "0.625 for {'class_weight': {0: 1, 1: 180}, 'colsample_bytree': 0.5, 'learning_rate': 0.01, 'max_depth': 40, 'min_child_samples': 11, 'n_estimators': 60}\n",
      "0.625 for {'class_weight': {0: 1, 1: 180}, 'colsample_bytree': 0.5, 'learning_rate': 0.01, 'max_depth': 40, 'min_child_samples': 7, 'n_estimators': 60}\n",
      "0.625 for {'class_weight': {0: 1, 1: 180}, 'colsample_bytree': 0.5, 'learning_rate': 0.01, 'max_depth': 40, 'min_child_samples': 5, 'n_estimators': 60}\n",
      "0.625 for {'class_weight': {0: 1, 1: 180}, 'colsample_bytree': 0.5, 'learning_rate': 0.01, 'max_depth': 15, 'min_child_samples': 3, 'n_estimators': 60}\n",
      "0.625 for {'class_weight': {0: 1, 1: 180}, 'colsample_bytree': 0.5, 'learning_rate': 0.01, 'max_depth': -1, 'min_child_samples': 11, 'n_estimators': 60}\n",
      "0.625 for {'class_weight': {0: 1, 1: 180}, 'colsample_bytree': 0.5, 'learning_rate': 0.01, 'max_depth': 15, 'min_child_samples': 7, 'n_estimators': 60}\n",
      "0.625 for {'class_weight': {0: 1, 1: 180}, 'colsample_bytree': 0.5, 'learning_rate': 0.01, 'max_depth': 15, 'min_child_samples': 5, 'n_estimators': 60}\n",
      "0.625 for {'class_weight': {0: 1, 1: 180}, 'colsample_bytree': 0.5, 'learning_rate': 0.01, 'max_depth': 15, 'min_child_samples': 11, 'n_estimators': 60}\n",
      "0.575 for {'class_weight': {0: 1, 1: 200}, 'colsample_bytree': 1.0, 'learning_rate': 0.1, 'max_depth': 40, 'min_child_samples': 3, 'n_estimators': 60}\n",
      "0.575 for {'class_weight': {0: 1, 1: 200}, 'colsample_bytree': 1.0, 'learning_rate': 0.1, 'max_depth': -1, 'min_child_samples': 3, 'n_estimators': 60}\n",
      "0.570 for {'class_weight': {0: 1, 1: 200}, 'colsample_bytree': 0.5, 'learning_rate': 0.1, 'max_depth': 40, 'min_child_samples': 3, 'n_estimators': 60}\n",
      "0.570 for {'class_weight': {0: 1, 1: 200}, 'colsample_bytree': 0.5, 'learning_rate': 0.1, 'max_depth': -1, 'min_child_samples': 3, 'n_estimators': 60}\n",
      "0.555 for {'class_weight': {0: 1, 1: 200}, 'colsample_bytree': 0.5, 'learning_rate': 0.1, 'max_depth': 40, 'min_child_samples': 5, 'n_estimators': 60}\n",
      "0.555 for {'class_weight': {0: 1, 1: 200}, 'colsample_bytree': 0.5, 'learning_rate': 0.1, 'max_depth': -1, 'min_child_samples': 5, 'n_estimators': 60}\n",
      "0.545 for {'class_weight': {0: 1, 1: 180}, 'colsample_bytree': 1.0, 'learning_rate': 0.1, 'max_depth': 15, 'min_child_samples': 5, 'n_estimators': 60}\n",
      "0.545 for {'class_weight': {0: 1, 1: 200}, 'colsample_bytree': 1.0, 'learning_rate': 0.1, 'max_depth': 40, 'min_child_samples': 5, 'n_estimators': 60}\n",
      "0.545 for {'class_weight': {0: 1, 1: 200}, 'colsample_bytree': 1.0, 'learning_rate': 0.1, 'max_depth': -1, 'min_child_samples': 5, 'n_estimators': 60}\n",
      "0.545 for {'class_weight': {0: 1, 1: 200}, 'colsample_bytree': 0.5, 'learning_rate': 0.1, 'max_depth': 15, 'min_child_samples': 5, 'n_estimators': 60}\n",
      "0.540 for {'class_weight': {0: 1, 1: 180}, 'colsample_bytree': 0.5, 'learning_rate': 0.1, 'max_depth': -1, 'min_child_samples': 5, 'n_estimators': 60}\n",
      "0.540 for {'class_weight': {0: 1, 1: 180}, 'colsample_bytree': 0.5, 'learning_rate': 0.1, 'max_depth': 40, 'min_child_samples': 5, 'n_estimators': 60}\n",
      "0.540 for {'class_weight': {0: 1, 1: 180}, 'colsample_bytree': 0.5, 'learning_rate': 0.1, 'max_depth': -1, 'min_child_samples': 3, 'n_estimators': 60}\n",
      "0.540 for {'class_weight': {0: 1, 1: 180}, 'colsample_bytree': 1.0, 'learning_rate': 0.1, 'max_depth': 40, 'min_child_samples': 11, 'n_estimators': 60}\n",
      "0.540 for {'class_weight': {0: 1, 1: 180}, 'colsample_bytree': 1.0, 'learning_rate': 0.1, 'max_depth': -1, 'min_child_samples': 11, 'n_estimators': 60}\n",
      "0.540 for {'class_weight': {0: 1, 1: 180}, 'colsample_bytree': 0.5, 'learning_rate': 0.1, 'max_depth': 40, 'min_child_samples': 3, 'n_estimators': 60}\n",
      "0.535 for {'class_weight': {0: 1, 1: 180}, 'colsample_bytree': 1.0, 'learning_rate': 0.1, 'max_depth': 40, 'min_child_samples': 5, 'n_estimators': 60}\n",
      "0.535 for {'class_weight': {0: 1, 1: 180}, 'colsample_bytree': 1.0, 'learning_rate': 0.1, 'max_depth': -1, 'min_child_samples': 5, 'n_estimators': 60}\n",
      "0.525 for {'class_weight': {0: 1, 1: 180}, 'colsample_bytree': 1.0, 'learning_rate': 0.1, 'max_depth': 15, 'min_child_samples': 7, 'n_estimators': 60}\n",
      "0.525 for {'class_weight': {0: 1, 1: 200}, 'colsample_bytree': 0.5, 'learning_rate': 0.1, 'max_depth': 40, 'min_child_samples': 11, 'n_estimators': 60}\n",
      "0.525 for {'class_weight': {0: 1, 1: 200}, 'colsample_bytree': 0.5, 'learning_rate': 0.1, 'max_depth': -1, 'min_child_samples': 11, 'n_estimators': 60}\n",
      "0.520 for {'class_weight': {0: 1, 1: 180}, 'colsample_bytree': 1.0, 'learning_rate': 0.1, 'max_depth': 15, 'min_child_samples': 3, 'n_estimators': 60}\n",
      "0.520 for {'class_weight': {0: 1, 1: 180}, 'colsample_bytree': 1.0, 'learning_rate': 0.1, 'max_depth': 15, 'min_child_samples': 11, 'n_estimators': 60}\n",
      "0.515 for {'class_weight': {0: 1, 1: 200}, 'colsample_bytree': 0.5, 'learning_rate': 0.1, 'max_depth': 40, 'min_child_samples': 7, 'n_estimators': 60}\n",
      "0.515 for {'class_weight': {0: 1, 1: 200}, 'colsample_bytree': 0.5, 'learning_rate': 0.1, 'max_depth': -1, 'min_child_samples': 7, 'n_estimators': 60}\n",
      "0.515 for {'class_weight': {0: 1, 1: 180}, 'colsample_bytree': 0.5, 'learning_rate': 0.1, 'max_depth': 15, 'min_child_samples': 5, 'n_estimators': 60}\n",
      "0.515 for {'class_weight': {0: 1, 1: 180}, 'colsample_bytree': 0.5, 'learning_rate': 0.1, 'max_depth': 15, 'min_child_samples': 3, 'n_estimators': 60}\n",
      "0.510 for {'class_weight': {0: 1, 1: 200}, 'colsample_bytree': 0.5, 'learning_rate': 0.1, 'max_depth': 15, 'min_child_samples': 11, 'n_estimators': 60}\n",
      "0.505 for {'class_weight': {0: 1, 1: 180}, 'colsample_bytree': 0.5, 'learning_rate': 0.1, 'max_depth': 40, 'min_child_samples': 7, 'n_estimators': 60}\n",
      "0.505 for {'class_weight': {0: 1, 1: 180}, 'colsample_bytree': 0.5, 'learning_rate': 0.1, 'max_depth': -1, 'min_child_samples': 7, 'n_estimators': 60}\n",
      "0.500 for {'class_weight': {0: 1, 1: 200}, 'colsample_bytree': 1.0, 'learning_rate': 0.1, 'max_depth': 15, 'min_child_samples': 7, 'n_estimators': 60}\n",
      "0.500 for {'class_weight': {0: 1, 1: 180}, 'colsample_bytree': 1.0, 'learning_rate': 0.1, 'max_depth': 40, 'min_child_samples': 7, 'n_estimators': 60}\n",
      "0.500 for {'class_weight': {0: 1, 1: 180}, 'colsample_bytree': 1.0, 'learning_rate': 0.1, 'max_depth': -1, 'min_child_samples': 7, 'n_estimators': 60}\n",
      "0.500 for {'class_weight': {0: 1, 1: 200}, 'colsample_bytree': 0.5, 'learning_rate': 0.1, 'max_depth': 15, 'min_child_samples': 7, 'n_estimators': 60}\n",
      "0.495 for {'class_weight': {0: 1, 1: 180}, 'colsample_bytree': 1.0, 'learning_rate': 0.1, 'max_depth': 40, 'min_child_samples': 3, 'n_estimators': 60}\n",
      "0.495 for {'class_weight': {0: 1, 1: 180}, 'colsample_bytree': 1.0, 'learning_rate': 0.1, 'max_depth': -1, 'min_child_samples': 3, 'n_estimators': 60}\n",
      "0.495 for {'class_weight': {0: 1, 1: 200}, 'colsample_bytree': 1.0, 'learning_rate': 0.1, 'max_depth': 15, 'min_child_samples': 5, 'n_estimators': 60}\n",
      "0.490 for {'class_weight': {0: 1, 1: 200}, 'colsample_bytree': 1.0, 'learning_rate': 0.1, 'max_depth': 40, 'min_child_samples': 7, 'n_estimators': 60}\n",
      "0.490 for {'class_weight': {0: 1, 1: 200}, 'colsample_bytree': 1.0, 'learning_rate': 0.1, 'max_depth': -1, 'min_child_samples': 7, 'n_estimators': 60}\n",
      "0.480 for {'class_weight': {0: 1, 1: 200}, 'colsample_bytree': 1.0, 'learning_rate': 0.1, 'max_depth': 15, 'min_child_samples': 11, 'n_estimators': 60}\n",
      "0.470 for {'class_weight': {0: 1, 1: 200}, 'colsample_bytree': 1.0, 'learning_rate': 0.1, 'max_depth': 15, 'min_child_samples': 3, 'n_estimators': 60}\n",
      "0.470 for {'class_weight': {0: 1, 1: 180}, 'colsample_bytree': 0.5, 'learning_rate': 0.1, 'max_depth': 15, 'min_child_samples': 11, 'n_estimators': 60}\n",
      "0.465 for {'class_weight': {0: 1, 1: 180}, 'colsample_bytree': 0.5, 'learning_rate': 0.1, 'max_depth': -1, 'min_child_samples': 11, 'n_estimators': 60}\n",
      "0.465 for {'class_weight': {0: 1, 1: 180}, 'colsample_bytree': 0.5, 'learning_rate': 0.1, 'max_depth': 40, 'min_child_samples': 11, 'n_estimators': 60}\n",
      "0.460 for {'class_weight': {0: 1, 1: 180}, 'colsample_bytree': 0.5, 'learning_rate': 0.1, 'max_depth': 15, 'min_child_samples': 7, 'n_estimators': 60}\n",
      "0.440 for {'class_weight': {0: 1, 1: 200}, 'colsample_bytree': 1.0, 'learning_rate': 0.01, 'max_depth': -1, 'min_child_samples': 7, 'n_estimators': 60}\n",
      "0.440 for {'class_weight': {0: 1, 1: 200}, 'colsample_bytree': 1.0, 'learning_rate': 0.01, 'max_depth': 40, 'min_child_samples': 7, 'n_estimators': 60}\n",
      "0.440 for {'class_weight': {0: 1, 1: 200}, 'colsample_bytree': 1.0, 'learning_rate': 0.01, 'max_depth': 15, 'min_child_samples': 7, 'n_estimators': 60}\n",
      "0.440 for {'class_weight': {0: 1, 1: 200}, 'colsample_bytree': 1.0, 'learning_rate': 0.01, 'max_depth': -1, 'min_child_samples': 11, 'n_estimators': 60}\n",
      "0.440 for {'class_weight': {0: 1, 1: 200}, 'colsample_bytree': 1.0, 'learning_rate': 0.01, 'max_depth': 15, 'min_child_samples': 11, 'n_estimators': 60}\n",
      "0.440 for {'class_weight': {0: 1, 1: 200}, 'colsample_bytree': 0.5, 'learning_rate': 0.05, 'max_depth': 15, 'min_child_samples': 7, 'n_estimators': 200}\n",
      "0.440 for {'class_weight': {0: 1, 1: 200}, 'colsample_bytree': 1.0, 'learning_rate': 0.01, 'max_depth': 40, 'min_child_samples': 11, 'n_estimators': 60}\n",
      "0.430 for {'class_weight': {0: 1, 1: 200}, 'colsample_bytree': 0.5, 'learning_rate': 0.05, 'max_depth': 15, 'min_child_samples': 5, 'n_estimators': 200}\n",
      "0.430 for {'class_weight': {0: 1, 1: 180}, 'colsample_bytree': 0.5, 'learning_rate': 0.05, 'max_depth': 15, 'min_child_samples': 11, 'n_estimators': 200}\n",
      "0.425 for {'class_weight': {0: 1, 1: 200}, 'colsample_bytree': 1.0, 'learning_rate': 0.01, 'max_depth': 15, 'min_child_samples': 3, 'n_estimators': 60}\n",
      "0.425 for {'class_weight': {0: 1, 1: 200}, 'colsample_bytree': 1.0, 'learning_rate': 0.01, 'max_depth': -1, 'min_child_samples': 3, 'n_estimators': 60}\n",
      "0.425 for {'class_weight': {0: 1, 1: 200}, 'colsample_bytree': 0.5, 'learning_rate': 0.05, 'max_depth': 15, 'min_child_samples': 3, 'n_estimators': 200}\n",
      "0.425 for {'class_weight': {0: 1, 1: 200}, 'colsample_bytree': 1.0, 'learning_rate': 0.01, 'max_depth': -1, 'min_child_samples': 5, 'n_estimators': 60}\n",
      "0.425 for {'class_weight': {0: 1, 1: 200}, 'colsample_bytree': 1.0, 'learning_rate': 0.01, 'max_depth': 40, 'min_child_samples': 3, 'n_estimators': 60}\n",
      "0.425 for {'class_weight': {0: 1, 1: 200}, 'colsample_bytree': 1.0, 'learning_rate': 0.01, 'max_depth': 15, 'min_child_samples': 5, 'n_estimators': 60}\n",
      "0.425 for {'class_weight': {0: 1, 1: 200}, 'colsample_bytree': 1.0, 'learning_rate': 0.01, 'max_depth': 40, 'min_child_samples': 5, 'n_estimators': 60}\n",
      "0.420 for {'class_weight': {0: 1, 1: 200}, 'colsample_bytree': 0.5, 'learning_rate': 0.05, 'max_depth': 40, 'min_child_samples': 5, 'n_estimators': 200}\n",
      "0.420 for {'class_weight': {0: 1, 1: 200}, 'colsample_bytree': 0.5, 'learning_rate': 0.05, 'max_depth': -1, 'min_child_samples': 5, 'n_estimators': 200}\n",
      "0.415 for {'class_weight': {0: 1, 1: 180}, 'colsample_bytree': 0.5, 'learning_rate': 0.05, 'max_depth': -1, 'min_child_samples': 11, 'n_estimators': 200}\n",
      "0.415 for {'class_weight': {0: 1, 1: 200}, 'colsample_bytree': 0.5, 'learning_rate': 0.05, 'max_depth': -1, 'min_child_samples': 7, 'n_estimators': 200}\n",
      "0.415 for {'class_weight': {0: 1, 1: 200}, 'colsample_bytree': 0.5, 'learning_rate': 0.05, 'max_depth': 40, 'min_child_samples': 11, 'n_estimators': 200}\n",
      "0.415 for {'class_weight': {0: 1, 1: 200}, 'colsample_bytree': 0.5, 'learning_rate': 0.05, 'max_depth': -1, 'min_child_samples': 11, 'n_estimators': 200}\n",
      "0.415 for {'class_weight': {0: 1, 1: 200}, 'colsample_bytree': 0.5, 'learning_rate': 0.05, 'max_depth': 40, 'min_child_samples': 7, 'n_estimators': 200}\n",
      "0.415 for {'class_weight': {0: 1, 1: 200}, 'colsample_bytree': 0.5, 'learning_rate': 0.05, 'max_depth': 15, 'min_child_samples': 11, 'n_estimators': 200}\n",
      "0.415 for {'class_weight': {0: 1, 1: 180}, 'colsample_bytree': 0.5, 'learning_rate': 0.05, 'max_depth': 40, 'min_child_samples': 11, 'n_estimators': 200}\n",
      "0.410 for {'class_weight': {0: 1, 1: 200}, 'colsample_bytree': 1.0, 'learning_rate': 0.1, 'max_depth': 40, 'min_child_samples': 11, 'n_estimators': 60}\n",
      "0.410 for {'class_weight': {0: 1, 1: 200}, 'colsample_bytree': 1.0, 'learning_rate': 0.1, 'max_depth': -1, 'min_child_samples': 11, 'n_estimators': 60}\n",
      "0.405 for {'class_weight': {0: 1, 1: 200}, 'colsample_bytree': 1.0, 'learning_rate': 0.05, 'max_depth': 15, 'min_child_samples': 11, 'n_estimators': 200}\n",
      "0.400 for {'class_weight': {0: 1, 1: 180}, 'colsample_bytree': 1.0, 'learning_rate': 0.01, 'max_depth': 40, 'min_child_samples': 5, 'n_estimators': 60}\n",
      "0.400 for {'class_weight': {0: 1, 1: 180}, 'colsample_bytree': 1.0, 'learning_rate': 0.01, 'max_depth': -1, 'min_child_samples': 7, 'n_estimators': 60}\n",
      "0.400 for {'class_weight': {0: 1, 1: 180}, 'colsample_bytree': 1.0, 'learning_rate': 0.01, 'max_depth': -1, 'min_child_samples': 5, 'n_estimators': 60}\n",
      "0.400 for {'class_weight': {0: 1, 1: 180}, 'colsample_bytree': 1.0, 'learning_rate': 0.01, 'max_depth': -1, 'min_child_samples': 3, 'n_estimators': 60}\n",
      "0.400 for {'class_weight': {0: 1, 1: 180}, 'colsample_bytree': 1.0, 'learning_rate': 0.01, 'max_depth': 15, 'min_child_samples': 5, 'n_estimators': 60}\n",
      "0.400 for {'class_weight': {0: 1, 1: 200}, 'colsample_bytree': 0.5, 'learning_rate': 0.05, 'max_depth': 40, 'min_child_samples': 3, 'n_estimators': 200}\n",
      "0.400 for {'class_weight': {0: 1, 1: 180}, 'colsample_bytree': 1.0, 'learning_rate': 0.01, 'max_depth': 40, 'min_child_samples': 3, 'n_estimators': 60}\n",
      "0.400 for {'class_weight': {0: 1, 1: 180}, 'colsample_bytree': 1.0, 'learning_rate': 0.01, 'max_depth': 15, 'min_child_samples': 7, 'n_estimators': 60}\n",
      "0.400 for {'class_weight': {0: 1, 1: 180}, 'colsample_bytree': 1.0, 'learning_rate': 0.01, 'max_depth': 15, 'min_child_samples': 3, 'n_estimators': 60}\n",
      "0.400 for {'class_weight': {0: 1, 1: 200}, 'colsample_bytree': 0.5, 'learning_rate': 0.05, 'max_depth': -1, 'min_child_samples': 3, 'n_estimators': 200}\n",
      "0.400 for {'class_weight': {0: 1, 1: 180}, 'colsample_bytree': 1.0, 'learning_rate': 0.01, 'max_depth': 40, 'min_child_samples': 7, 'n_estimators': 60}\n",
      "0.395 for {'class_weight': {0: 1, 1: 180}, 'colsample_bytree': 1.0, 'learning_rate': 0.01, 'max_depth': 40, 'min_child_samples': 11, 'n_estimators': 60}\n",
      "0.395 for {'class_weight': {0: 1, 1: 180}, 'colsample_bytree': 0.5, 'learning_rate': 0.05, 'max_depth': -1, 'min_child_samples': 3, 'n_estimators': 200}\n",
      "0.395 for {'class_weight': {0: 1, 1: 180}, 'colsample_bytree': 0.5, 'learning_rate': 0.05, 'max_depth': 40, 'min_child_samples': 3, 'n_estimators': 200}\n",
      "0.395 for {'class_weight': {0: 1, 1: 180}, 'colsample_bytree': 1.0, 'learning_rate': 0.01, 'max_depth': 15, 'min_child_samples': 11, 'n_estimators': 60}\n",
      "0.395 for {'class_weight': {0: 1, 1: 180}, 'colsample_bytree': 1.0, 'learning_rate': 0.01, 'max_depth': -1, 'min_child_samples': 11, 'n_estimators': 60}\n",
      "0.380 for {'class_weight': {0: 1, 1: 180}, 'colsample_bytree': 0.5, 'learning_rate': 0.05, 'max_depth': 40, 'min_child_samples': 7, 'n_estimators': 200}\n",
      "0.380 for {'class_weight': {0: 1, 1: 180}, 'colsample_bytree': 0.5, 'learning_rate': 0.05, 'max_depth': -1, 'min_child_samples': 7, 'n_estimators': 200}\n",
      "0.375 for {'class_weight': {0: 1, 1: 200}, 'colsample_bytree': 1.0, 'learning_rate': 0.05, 'max_depth': 40, 'min_child_samples': 7, 'n_estimators': 200}\n",
      "0.375 for {'class_weight': {0: 1, 1: 200}, 'colsample_bytree': 1.0, 'learning_rate': 0.05, 'max_depth': -1, 'min_child_samples': 5, 'n_estimators': 200}\n",
      "0.375 for {'class_weight': {0: 1, 1: 200}, 'colsample_bytree': 1.0, 'learning_rate': 0.05, 'max_depth': -1, 'min_child_samples': 7, 'n_estimators': 200}\n",
      "0.375 for {'class_weight': {0: 1, 1: 200}, 'colsample_bytree': 1.0, 'learning_rate': 0.05, 'max_depth': 15, 'min_child_samples': 3, 'n_estimators': 200}\n",
      "0.375 for {'class_weight': {0: 1, 1: 180}, 'colsample_bytree': 1.0, 'learning_rate': 0.05, 'max_depth': -1, 'min_child_samples': 11, 'n_estimators': 200}\n",
      "0.375 for {'class_weight': {0: 1, 1: 200}, 'colsample_bytree': 1.0, 'learning_rate': 0.05, 'max_depth': 40, 'min_child_samples': 5, 'n_estimators': 200}\n",
      "0.375 for {'class_weight': {0: 1, 1: 180}, 'colsample_bytree': 1.0, 'learning_rate': 0.05, 'max_depth': 40, 'min_child_samples': 11, 'n_estimators': 200}\n",
      "0.370 for {'class_weight': {0: 1, 1: 180}, 'colsample_bytree': 1.0, 'learning_rate': 0.05, 'max_depth': 15, 'min_child_samples': 3, 'n_estimators': 200}\n",
      "0.370 for {'class_weight': {0: 1, 1: 180}, 'colsample_bytree': 0.5, 'learning_rate': 0.05, 'max_depth': -1, 'min_child_samples': 5, 'n_estimators': 200}\n",
      "0.370 for {'class_weight': {0: 1, 1: 180}, 'colsample_bytree': 1.0, 'learning_rate': 0.05, 'max_depth': -1, 'min_child_samples': 7, 'n_estimators': 200}\n",
      "0.370 for {'class_weight': {0: 1, 1: 180}, 'colsample_bytree': 0.5, 'learning_rate': 0.05, 'max_depth': 15, 'min_child_samples': 7, 'n_estimators': 200}\n",
      "0.370 for {'class_weight': {0: 1, 1: 180}, 'colsample_bytree': 1.0, 'learning_rate': 0.05, 'max_depth': 40, 'min_child_samples': 7, 'n_estimators': 200}\n",
      "0.370 for {'class_weight': {0: 1, 1: 180}, 'colsample_bytree': 0.5, 'learning_rate': 0.05, 'max_depth': 40, 'min_child_samples': 5, 'n_estimators': 200}\n",
      "0.365 for {'class_weight': {0: 1, 1: 180}, 'colsample_bytree': 0.5, 'learning_rate': 0.05, 'max_depth': 15, 'min_child_samples': 3, 'n_estimators': 200}\n",
      "0.360 for {'class_weight': {0: 1, 1: 200}, 'colsample_bytree': 1.0, 'learning_rate': 0.05, 'max_depth': 15, 'min_child_samples': 5, 'n_estimators': 200}\n",
      "0.360 for {'class_weight': {0: 1, 1: 180}, 'colsample_bytree': 1.0, 'learning_rate': 0.05, 'max_depth': -1, 'min_child_samples': 5, 'n_estimators': 200}\n",
      "0.360 for {'class_weight': {0: 1, 1: 180}, 'colsample_bytree': 1.0, 'learning_rate': 0.05, 'max_depth': 40, 'min_child_samples': 5, 'n_estimators': 200}\n",
      "0.355 for {'class_weight': {0: 1, 1: 200}, 'colsample_bytree': 1.0, 'learning_rate': 0.05, 'max_depth': -1, 'min_child_samples': 3, 'n_estimators': 200}\n",
      "0.355 for {'class_weight': {0: 1, 1: 200}, 'colsample_bytree': 1.0, 'learning_rate': 0.05, 'max_depth': 40, 'min_child_samples': 11, 'n_estimators': 200}\n",
      "0.355 for {'class_weight': {0: 1, 1: 200}, 'colsample_bytree': 1.0, 'learning_rate': 0.05, 'max_depth': -1, 'min_child_samples': 11, 'n_estimators': 200}\n",
      "0.355 for {'class_weight': {0: 1, 1: 180}, 'colsample_bytree': 1.0, 'learning_rate': 0.05, 'max_depth': 15, 'min_child_samples': 7, 'n_estimators': 200}\n",
      "0.355 for {'class_weight': {0: 1, 1: 200}, 'colsample_bytree': 1.0, 'learning_rate': 0.05, 'max_depth': 40, 'min_child_samples': 3, 'n_estimators': 200}\n",
      "0.350 for {'class_weight': {0: 1, 1: 180}, 'colsample_bytree': 0.5, 'learning_rate': 0.05, 'max_depth': 15, 'min_child_samples': 5, 'n_estimators': 200}\n",
      "0.345 for {'class_weight': {0: 1, 1: 180}, 'colsample_bytree': 1.0, 'learning_rate': 0.05, 'max_depth': 15, 'min_child_samples': 11, 'n_estimators': 200}\n",
      "0.345 for {'class_weight': {0: 1, 1: 200}, 'colsample_bytree': 1.0, 'learning_rate': 0.05, 'max_depth': 15, 'min_child_samples': 7, 'n_estimators': 200}\n",
      "0.340 for {'class_weight': {0: 1, 1: 180}, 'colsample_bytree': 1.0, 'learning_rate': 0.05, 'max_depth': 40, 'min_child_samples': 3, 'n_estimators': 200}\n",
      "0.340 for {'class_weight': {0: 1, 1: 180}, 'colsample_bytree': 1.0, 'learning_rate': 0.05, 'max_depth': -1, 'min_child_samples': 3, 'n_estimators': 200}\n",
      "0.335 for {'class_weight': {0: 1, 1: 180}, 'colsample_bytree': 1.0, 'learning_rate': 0.05, 'max_depth': 15, 'min_child_samples': 5, 'n_estimators': 200}\n",
      "0.310 for {'class_weight': {0: 1, 1: 200}, 'colsample_bytree': 0.5, 'learning_rate': 1.0, 'max_depth': -1, 'min_child_samples': 5, 'n_estimators': 200}\n",
      "0.310 for {'class_weight': {0: 1, 1: 200}, 'colsample_bytree': 0.5, 'learning_rate': 1.0, 'max_depth': 40, 'min_child_samples': 5, 'n_estimators': 200}\n",
      "0.265 for {'class_weight': {0: 1, 1: 180}, 'colsample_bytree': 0.5, 'learning_rate': 0.1, 'max_depth': 15, 'min_child_samples': 5, 'n_estimators': 200}\n",
      "0.255 for {'class_weight': {0: 1, 1: 180}, 'colsample_bytree': 0.5, 'learning_rate': 0.1, 'max_depth': 40, 'min_child_samples': 5, 'n_estimators': 200}\n",
      "0.255 for {'class_weight': {0: 1, 1: 180}, 'colsample_bytree': 0.5, 'learning_rate': 0.1, 'max_depth': -1, 'min_child_samples': 5, 'n_estimators': 200}\n",
      "0.250 for {'class_weight': {0: 1, 1: 200}, 'colsample_bytree': 0.5, 'learning_rate': 0.1, 'max_depth': -1, 'min_child_samples': 11, 'n_estimators': 200}\n",
      "0.250 for {'class_weight': {0: 1, 1: 200}, 'colsample_bytree': 0.5, 'learning_rate': 0.1, 'max_depth': 40, 'min_child_samples': 11, 'n_estimators': 200}\n",
      "0.240 for {'class_weight': {0: 1, 1: 180}, 'colsample_bytree': 0.5, 'learning_rate': 0.1, 'max_depth': 40, 'min_child_samples': 3, 'n_estimators': 200}\n",
      "0.240 for {'class_weight': {0: 1, 1: 180}, 'colsample_bytree': 1.0, 'learning_rate': 0.1, 'max_depth': 15, 'min_child_samples': 3, 'n_estimators': 200}\n",
      "0.240 for {'class_weight': {0: 1, 1: 200}, 'colsample_bytree': 1.0, 'learning_rate': 0.1, 'max_depth': 40, 'min_child_samples': 5, 'n_estimators': 200}\n",
      "0.240 for {'class_weight': {0: 1, 1: 200}, 'colsample_bytree': 1.0, 'learning_rate': 0.1, 'max_depth': -1, 'min_child_samples': 5, 'n_estimators': 200}\n",
      "0.240 for {'class_weight': {0: 1, 1: 180}, 'colsample_bytree': 0.5, 'learning_rate': 0.1, 'max_depth': -1, 'min_child_samples': 3, 'n_estimators': 200}\n",
      "0.235 for {'class_weight': {0: 1, 1: 180}, 'colsample_bytree': 0.5, 'learning_rate': 0.1, 'max_depth': 40, 'min_child_samples': 7, 'n_estimators': 200}\n",
      "0.235 for {'class_weight': {0: 1, 1: 180}, 'colsample_bytree': 0.5, 'learning_rate': 0.1, 'max_depth': -1, 'min_child_samples': 7, 'n_estimators': 200}\n",
      "0.230 for {'class_weight': {0: 1, 1: 200}, 'colsample_bytree': 1.0, 'learning_rate': 1.0, 'max_depth': 40, 'min_child_samples': 11, 'n_estimators': 200}\n",
      "0.230 for {'class_weight': {0: 1, 1: 200}, 'colsample_bytree': 1.0, 'learning_rate': 1.0, 'max_depth': -1, 'min_child_samples': 11, 'n_estimators': 200}\n",
      "0.230 for {'class_weight': {0: 1, 1: 200}, 'colsample_bytree': 0.5, 'learning_rate': 0.1, 'max_depth': 15, 'min_child_samples': 5, 'n_estimators': 200}\n",
      "0.230 for {'class_weight': {0: 1, 1: 200}, 'colsample_bytree': 1.0, 'learning_rate': 0.1, 'max_depth': 15, 'min_child_samples': 5, 'n_estimators': 200}\n",
      "0.230 for {'class_weight': {0: 1, 1: 180}, 'colsample_bytree': 0.5, 'learning_rate': 0.1, 'max_depth': 15, 'min_child_samples': 7, 'n_estimators': 200}\n",
      "0.225 for {'class_weight': {0: 1, 1: 200}, 'colsample_bytree': 1.0, 'learning_rate': 0.1, 'max_depth': 40, 'min_child_samples': 3, 'n_estimators': 200}\n",
      "0.225 for {'class_weight': {0: 1, 1: 200}, 'colsample_bytree': 1.0, 'learning_rate': 0.1, 'max_depth': -1, 'min_child_samples': 3, 'n_estimators': 200}\n",
      "0.220 for {'class_weight': {0: 1, 1: 200}, 'colsample_bytree': 0.5, 'learning_rate': 0.1, 'max_depth': 15, 'min_child_samples': 7, 'n_estimators': 200}\n",
      "0.220 for {'class_weight': {0: 1, 1: 200}, 'colsample_bytree': 1.0, 'learning_rate': 1.0, 'max_depth': -1, 'min_child_samples': 3, 'n_estimators': 200}\n",
      "0.215 for {'class_weight': {0: 1, 1: 180}, 'colsample_bytree': 0.5, 'learning_rate': 1.0, 'max_depth': 40, 'min_child_samples': 11, 'n_estimators': 200}\n",
      "0.215 for {'class_weight': {0: 1, 1: 180}, 'colsample_bytree': 1.0, 'learning_rate': 0.1, 'max_depth': 15, 'min_child_samples': 5, 'n_estimators': 200}\n",
      "0.215 for {'class_weight': {0: 1, 1: 180}, 'colsample_bytree': 0.5, 'learning_rate': 1.0, 'max_depth': -1, 'min_child_samples': 11, 'n_estimators': 200}\n",
      "0.215 for {'class_weight': {0: 1, 1: 180}, 'colsample_bytree': 0.5, 'learning_rate': 1.0, 'max_depth': 15, 'min_child_samples': 7, 'n_estimators': 200}\n",
      "0.210 for {'class_weight': {0: 1, 1: 180}, 'colsample_bytree': 0.5, 'learning_rate': 0.1, 'max_depth': 15, 'min_child_samples': 11, 'n_estimators': 200}\n",
      "0.210 for {'class_weight': {0: 1, 1: 200}, 'colsample_bytree': 1.0, 'learning_rate': 0.1, 'max_depth': 15, 'min_child_samples': 3, 'n_estimators': 200}\n",
      "0.210 for {'class_weight': {0: 1, 1: 180}, 'colsample_bytree': 1.0, 'learning_rate': 1.0, 'max_depth': 40, 'min_child_samples': 5, 'n_estimators': 200}\n",
      "0.205 for {'class_weight': {0: 1, 1: 200}, 'colsample_bytree': 1.0, 'learning_rate': 1.0, 'max_depth': 40, 'min_child_samples': 3, 'n_estimators': 200}\n",
      "0.205 for {'class_weight': {0: 1, 1: 200}, 'colsample_bytree': 0.5, 'learning_rate': 0.1, 'max_depth': -1, 'min_child_samples': 7, 'n_estimators': 200}\n",
      "0.205 for {'class_weight': {0: 1, 1: 180}, 'colsample_bytree': 0.5, 'learning_rate': 0.1, 'max_depth': -1, 'min_child_samples': 11, 'n_estimators': 200}\n",
      "0.205 for {'class_weight': {0: 1, 1: 200}, 'colsample_bytree': 0.5, 'learning_rate': 0.1, 'max_depth': 15, 'min_child_samples': 11, 'n_estimators': 200}\n",
      "0.205 for {'class_weight': {0: 1, 1: 180}, 'colsample_bytree': 0.5, 'learning_rate': 0.1, 'max_depth': 15, 'min_child_samples': 3, 'n_estimators': 200}\n",
      "0.205 for {'class_weight': {0: 1, 1: 200}, 'colsample_bytree': 0.5, 'learning_rate': 0.1, 'max_depth': 40, 'min_child_samples': 7, 'n_estimators': 200}\n",
      "0.205 for {'class_weight': {0: 1, 1: 180}, 'colsample_bytree': 0.5, 'learning_rate': 0.1, 'max_depth': 40, 'min_child_samples': 11, 'n_estimators': 200}\n",
      "0.200 for {'class_weight': {0: 1, 1: 200}, 'colsample_bytree': 0.5, 'learning_rate': 0.1, 'max_depth': -1, 'min_child_samples': 3, 'n_estimators': 200}\n",
      "0.200 for {'class_weight': {0: 1, 1: 200}, 'colsample_bytree': 0.5, 'learning_rate': 0.1, 'max_depth': -1, 'min_child_samples': 5, 'n_estimators': 200}\n",
      "0.200 for {'class_weight': {0: 1, 1: 200}, 'colsample_bytree': 0.5, 'learning_rate': 0.1, 'max_depth': 40, 'min_child_samples': 3, 'n_estimators': 200}\n",
      "0.200 for {'class_weight': {0: 1, 1: 180}, 'colsample_bytree': 1.0, 'learning_rate': 0.1, 'max_depth': 15, 'min_child_samples': 11, 'n_estimators': 200}\n",
      "0.200 for {'class_weight': {0: 1, 1: 200}, 'colsample_bytree': 0.5, 'learning_rate': 0.1, 'max_depth': 40, 'min_child_samples': 5, 'n_estimators': 200}\n",
      "0.195 for {'class_weight': {0: 1, 1: 180}, 'colsample_bytree': 1.0, 'learning_rate': 0.1, 'max_depth': 15, 'min_child_samples': 7, 'n_estimators': 200}\n",
      "0.195 for {'class_weight': {0: 1, 1: 200}, 'colsample_bytree': 1.0, 'learning_rate': 1.0, 'max_depth': -1, 'min_child_samples': 11, 'n_estimators': 60}\n",
      "0.195 for {'class_weight': {0: 1, 1: 200}, 'colsample_bytree': 1.0, 'learning_rate': 1.0, 'max_depth': 40, 'min_child_samples': 11, 'n_estimators': 60}\n",
      "0.195 for {'class_weight': {0: 1, 1: 200}, 'colsample_bytree': 1.0, 'learning_rate': 1.0, 'max_depth': 15, 'min_child_samples': 11, 'n_estimators': 200}\n",
      "0.190 for {'class_weight': {0: 1, 1: 180}, 'colsample_bytree': 1.0, 'learning_rate': 0.1, 'max_depth': -1, 'min_child_samples': 3, 'n_estimators': 200}\n",
      "0.190 for {'class_weight': {0: 1, 1: 180}, 'colsample_bytree': 1.0, 'learning_rate': 0.1, 'max_depth': 40, 'min_child_samples': 3, 'n_estimators': 200}\n",
      "0.190 for {'class_weight': {0: 1, 1: 200}, 'colsample_bytree': 1.0, 'learning_rate': 0.1, 'max_depth': 15, 'min_child_samples': 11, 'n_estimators': 200}\n",
      "0.180 for {'class_weight': {0: 1, 1: 200}, 'colsample_bytree': 0.5, 'learning_rate': 1.0, 'max_depth': 15, 'min_child_samples': 11, 'n_estimators': 200}\n",
      "0.180 for {'class_weight': {0: 1, 1: 180}, 'colsample_bytree': 1.0, 'learning_rate': 0.1, 'max_depth': -1, 'min_child_samples': 5, 'n_estimators': 200}\n",
      "0.180 for {'class_weight': {0: 1, 1: 180}, 'colsample_bytree': 1.0, 'learning_rate': 0.1, 'max_depth': 40, 'min_child_samples': 5, 'n_estimators': 200}\n",
      "0.180 for {'class_weight': {0: 1, 1: 200}, 'colsample_bytree': 0.5, 'learning_rate': 1.0, 'max_depth': 40, 'min_child_samples': 11, 'n_estimators': 200}\n",
      "0.175 for {'class_weight': {0: 1, 1: 200}, 'colsample_bytree': 1.0, 'learning_rate': 1.0, 'max_depth': -1, 'min_child_samples': 3, 'n_estimators': 60}\n",
      "0.175 for {'class_weight': {0: 1, 1: 200}, 'colsample_bytree': 1.0, 'learning_rate': 1.0, 'max_depth': 40, 'min_child_samples': 3, 'n_estimators': 60}\n",
      "0.175 for {'class_weight': {0: 1, 1: 200}, 'colsample_bytree': 1.0, 'learning_rate': 0.1, 'max_depth': 40, 'min_child_samples': 7, 'n_estimators': 200}\n",
      "0.175 for {'class_weight': {0: 1, 1: 200}, 'colsample_bytree': 1.0, 'learning_rate': 0.1, 'max_depth': -1, 'min_child_samples': 7, 'n_estimators': 200}\n",
      "0.170 for {'class_weight': {0: 1, 1: 200}, 'colsample_bytree': 1.0, 'learning_rate': 0.1, 'max_depth': -1, 'min_child_samples': 11, 'n_estimators': 200}\n",
      "0.170 for {'class_weight': {0: 1, 1: 200}, 'colsample_bytree': 1.0, 'learning_rate': 0.1, 'max_depth': 40, 'min_child_samples': 11, 'n_estimators': 200}\n",
      "0.170 for {'class_weight': {0: 1, 1: 180}, 'colsample_bytree': 0.5, 'learning_rate': 1.0, 'max_depth': 15, 'min_child_samples': 3, 'n_estimators': 200}\n",
      "0.170 for {'class_weight': {0: 1, 1: 180}, 'colsample_bytree': 1.0, 'learning_rate': 1.0, 'max_depth': 15, 'min_child_samples': 7, 'n_estimators': 200}\n",
      "0.165 for {'class_weight': {0: 1, 1: 200}, 'colsample_bytree': 0.5, 'learning_rate': 0.1, 'max_depth': 15, 'min_child_samples': 3, 'n_estimators': 200}\n",
      "0.165 for {'class_weight': {0: 1, 1: 200}, 'colsample_bytree': 1.0, 'learning_rate': 0.1, 'max_depth': 15, 'min_child_samples': 7, 'n_estimators': 200}\n",
      "0.160 for {'class_weight': {0: 1, 1: 180}, 'colsample_bytree': 1.0, 'learning_rate': 1.0, 'max_depth': 40, 'min_child_samples': 7, 'n_estimators': 200}\n",
      "0.160 for {'class_weight': {0: 1, 1: 200}, 'colsample_bytree': 1.0, 'learning_rate': 1.0, 'max_depth': 40, 'min_child_samples': 5, 'n_estimators': 200}\n",
      "0.160 for {'class_weight': {0: 1, 1: 200}, 'colsample_bytree': 1.0, 'learning_rate': 1.0, 'max_depth': -1, 'min_child_samples': 5, 'n_estimators': 200}\n",
      "0.155 for {'class_weight': {0: 1, 1: 180}, 'colsample_bytree': 0.5, 'learning_rate': 1.0, 'max_depth': -1, 'min_child_samples': 7, 'n_estimators': 200}\n",
      "0.155 for {'class_weight': {0: 1, 1: 180}, 'colsample_bytree': 1.0, 'learning_rate': 0.1, 'max_depth': 40, 'min_child_samples': 11, 'n_estimators': 200}\n",
      "0.155 for {'class_weight': {0: 1, 1: 180}, 'colsample_bytree': 1.0, 'learning_rate': 0.1, 'max_depth': -1, 'min_child_samples': 11, 'n_estimators': 200}\n",
      "0.155 for {'class_weight': {0: 1, 1: 180}, 'colsample_bytree': 0.5, 'learning_rate': 1.0, 'max_depth': 40, 'min_child_samples': 7, 'n_estimators': 200}\n",
      "0.155 for {'class_weight': {0: 1, 1: 180}, 'colsample_bytree': 0.5, 'learning_rate': 1.0, 'max_depth': 15, 'min_child_samples': 5, 'n_estimators': 200}\n",
      "0.150 for {'class_weight': {0: 1, 1: 180}, 'colsample_bytree': 1.0, 'learning_rate': 1.0, 'max_depth': -1, 'min_child_samples': 5, 'n_estimators': 200}\n",
      "0.150 for {'class_weight': {0: 1, 1: 180}, 'colsample_bytree': 0.5, 'learning_rate': 1.0, 'max_depth': -1, 'min_child_samples': 5, 'n_estimators': 200}\n",
      "0.150 for {'class_weight': {0: 1, 1: 200}, 'colsample_bytree': 0.5, 'learning_rate': 1.0, 'max_depth': -1, 'min_child_samples': 11, 'n_estimators': 200}\n",
      "0.150 for {'class_weight': {0: 1, 1: 200}, 'colsample_bytree': 1.0, 'learning_rate': 1.0, 'max_depth': 40, 'min_child_samples': 7, 'n_estimators': 200}\n",
      "0.150 for {'class_weight': {0: 1, 1: 180}, 'colsample_bytree': 0.5, 'learning_rate': 1.0, 'max_depth': 40, 'min_child_samples': 5, 'n_estimators': 200}\n",
      "0.150 for {'class_weight': {0: 1, 1: 200}, 'colsample_bytree': 1.0, 'learning_rate': 1.0, 'max_depth': -1, 'min_child_samples': 7, 'n_estimators': 200}\n",
      "0.150 for {'class_weight': {0: 1, 1: 180}, 'colsample_bytree': 1.0, 'learning_rate': 1.0, 'max_depth': -1, 'min_child_samples': 7, 'n_estimators': 200}\n",
      "0.145 for {'class_weight': {0: 1, 1: 200}, 'colsample_bytree': 1.0, 'learning_rate': 1.0, 'max_depth': 15, 'min_child_samples': 3, 'n_estimators': 200}\n",
      "0.145 for {'class_weight': {0: 1, 1: 180}, 'colsample_bytree': 1.0, 'learning_rate': 1.0, 'max_depth': 40, 'min_child_samples': 11, 'n_estimators': 200}\n",
      "0.145 for {'class_weight': {0: 1, 1: 180}, 'colsample_bytree': 1.0, 'learning_rate': 1.0, 'max_depth': -1, 'min_child_samples': 11, 'n_estimators': 200}\n",
      "0.140 for {'class_weight': {0: 1, 1: 180}, 'colsample_bytree': 1.0, 'learning_rate': 1.0, 'max_depth': 15, 'min_child_samples': 11, 'n_estimators': 200}\n",
      "0.140 for {'class_weight': {0: 1, 1: 200}, 'colsample_bytree': 1.0, 'learning_rate': 1.0, 'max_depth': 15, 'min_child_samples': 7, 'n_estimators': 200}\n",
      "0.140 for {'class_weight': {0: 1, 1: 200}, 'colsample_bytree': 0.5, 'learning_rate': 1.0, 'max_depth': 15, 'min_child_samples': 11, 'n_estimators': 60}\n",
      "0.140 for {'class_weight': {0: 1, 1: 200}, 'colsample_bytree': 0.5, 'learning_rate': 1.0, 'max_depth': 40, 'min_child_samples': 3, 'n_estimators': 200}\n",
      "0.135 for {'class_weight': {0: 1, 1: 180}, 'colsample_bytree': 1.0, 'learning_rate': 1.0, 'max_depth': 15, 'min_child_samples': 5, 'n_estimators': 200}\n",
      "0.130 for {'class_weight': {0: 1, 1: 200}, 'colsample_bytree': 0.5, 'learning_rate': 1.0, 'max_depth': -1, 'min_child_samples': 11, 'n_estimators': 60}\n",
      "0.130 for {'class_weight': {0: 1, 1: 200}, 'colsample_bytree': 0.5, 'learning_rate': 1.0, 'max_depth': 40, 'min_child_samples': 11, 'n_estimators': 60}\n",
      "0.125 for {'class_weight': {0: 1, 1: 180}, 'colsample_bytree': 0.5, 'learning_rate': 1.0, 'max_depth': 15, 'min_child_samples': 3, 'n_estimators': 60}\n",
      "0.125 for {'class_weight': {0: 1, 1: 180}, 'colsample_bytree': 1.0, 'learning_rate': 1.0, 'max_depth': 15, 'min_child_samples': 3, 'n_estimators': 200}\n",
      "0.125 for {'class_weight': {0: 1, 1: 180}, 'colsample_bytree': 1.0, 'learning_rate': 1.0, 'max_depth': -1, 'min_child_samples': 3, 'n_estimators': 200}\n",
      "0.125 for {'class_weight': {0: 1, 1: 200}, 'colsample_bytree': 1.0, 'learning_rate': 1.0, 'max_depth': 40, 'min_child_samples': 7, 'n_estimators': 60}\n",
      "0.125 for {'class_weight': {0: 1, 1: 200}, 'colsample_bytree': 1.0, 'learning_rate': 1.0, 'max_depth': -1, 'min_child_samples': 7, 'n_estimators': 60}\n",
      "0.120 for {'class_weight': {0: 1, 1: 180}, 'colsample_bytree': 1.0, 'learning_rate': 1.0, 'max_depth': 15, 'min_child_samples': 11, 'n_estimators': 60}\n",
      "0.120 for {'class_weight': {0: 1, 1: 200}, 'colsample_bytree': 0.5, 'learning_rate': 1.0, 'max_depth': 40, 'min_child_samples': 7, 'n_estimators': 200}\n",
      "0.115 for {'class_weight': {0: 1, 1: 200}, 'colsample_bytree': 1.0, 'learning_rate': 1.0, 'max_depth': 40, 'min_child_samples': 5, 'n_estimators': 60}\n",
      "0.115 for {'class_weight': {0: 1, 1: 180}, 'colsample_bytree': 1.0, 'learning_rate': 0.1, 'max_depth': 40, 'min_child_samples': 7, 'n_estimators': 200}\n",
      "0.115 for {'class_weight': {0: 1, 1: 200}, 'colsample_bytree': 1.0, 'learning_rate': 1.0, 'max_depth': -1, 'min_child_samples': 5, 'n_estimators': 60}\n",
      "0.115 for {'class_weight': {0: 1, 1: 180}, 'colsample_bytree': 1.0, 'learning_rate': 0.1, 'max_depth': -1, 'min_child_samples': 7, 'n_estimators': 200}\n",
      "0.110 for {'class_weight': {0: 1, 1: 180}, 'colsample_bytree': 1.0, 'learning_rate': 1.0, 'max_depth': 15, 'min_child_samples': 3, 'n_estimators': 60}\n",
      "0.110 for {'class_weight': {0: 1, 1: 200}, 'colsample_bytree': 1.0, 'learning_rate': 1.0, 'max_depth': 15, 'min_child_samples': 3, 'n_estimators': 60}\n",
      "0.105 for {'class_weight': {0: 1, 1: 180}, 'colsample_bytree': 0.5, 'learning_rate': 1.0, 'max_depth': 15, 'min_child_samples': 11, 'n_estimators': 200}\n",
      "0.105 for {'class_weight': {0: 1, 1: 180}, 'colsample_bytree': 1.0, 'learning_rate': 1.0, 'max_depth': 40, 'min_child_samples': 5, 'n_estimators': 60}\n",
      "0.105 for {'class_weight': {0: 1, 1: 180}, 'colsample_bytree': 0.5, 'learning_rate': 1.0, 'max_depth': 40, 'min_child_samples': 3, 'n_estimators': 200}\n",
      "0.105 for {'class_weight': {0: 1, 1: 200}, 'colsample_bytree': 0.5, 'learning_rate': 1.0, 'max_depth': 15, 'min_child_samples': 7, 'n_estimators': 200}\n",
      "0.105 for {'class_weight': {0: 1, 1: 180}, 'colsample_bytree': 1.0, 'learning_rate': 1.0, 'max_depth': -1, 'min_child_samples': 5, 'n_estimators': 60}\n",
      "0.105 for {'class_weight': {0: 1, 1: 180}, 'colsample_bytree': 1.0, 'learning_rate': 1.0, 'max_depth': 15, 'min_child_samples': 5, 'n_estimators': 60}\n",
      "0.100 for {'class_weight': {0: 1, 1: 180}, 'colsample_bytree': 1.0, 'learning_rate': 1.0, 'max_depth': 40, 'min_child_samples': 3, 'n_estimators': 200}\n",
      "0.100 for {'class_weight': {0: 1, 1: 200}, 'colsample_bytree': 0.5, 'learning_rate': 1.0, 'max_depth': -1, 'min_child_samples': 5, 'n_estimators': 60}\n",
      "0.100 for {'class_weight': {0: 1, 1: 200}, 'colsample_bytree': 0.5, 'learning_rate': 1.0, 'max_depth': 40, 'min_child_samples': 5, 'n_estimators': 60}\n",
      "0.095 for {'class_weight': {0: 1, 1: 180}, 'colsample_bytree': 0.5, 'learning_rate': 1.0, 'max_depth': -1, 'min_child_samples': 11, 'n_estimators': 60}\n",
      "0.095 for {'class_weight': {0: 1, 1: 180}, 'colsample_bytree': 0.5, 'learning_rate': 1.0, 'max_depth': 40, 'min_child_samples': 11, 'n_estimators': 60}\n",
      "0.095 for {'class_weight': {0: 1, 1: 200}, 'colsample_bytree': 0.5, 'learning_rate': 1.0, 'max_depth': -1, 'min_child_samples': 7, 'n_estimators': 200}\n",
      "0.090 for {'class_weight': {0: 1, 1: 200}, 'colsample_bytree': 1.0, 'learning_rate': 1.0, 'max_depth': 15, 'min_child_samples': 7, 'n_estimators': 60}\n",
      "0.090 for {'class_weight': {0: 1, 1: 200}, 'colsample_bytree': 0.5, 'learning_rate': 1.0, 'max_depth': 15, 'min_child_samples': 3, 'n_estimators': 60}\n",
      "0.090 for {'class_weight': {0: 1, 1: 200}, 'colsample_bytree': 1.0, 'learning_rate': 1.0, 'max_depth': 15, 'min_child_samples': 11, 'n_estimators': 60}\n",
      "0.090 for {'class_weight': {0: 1, 1: 180}, 'colsample_bytree': 0.5, 'learning_rate': 1.0, 'max_depth': -1, 'min_child_samples': 3, 'n_estimators': 200}\n",
      "0.090 for {'class_weight': {0: 1, 1: 180}, 'colsample_bytree': 0.5, 'learning_rate': 1.0, 'max_depth': 15, 'min_child_samples': 5, 'n_estimators': 60}\n",
      "0.080 for {'class_weight': {0: 1, 1: 180}, 'colsample_bytree': 0.5, 'learning_rate': 1.0, 'max_depth': -1, 'min_child_samples': 5, 'n_estimators': 60}\n",
      "0.080 for {'class_weight': {0: 1, 1: 200}, 'colsample_bytree': 0.5, 'learning_rate': 1.0, 'max_depth': -1, 'min_child_samples': 7, 'n_estimators': 60}\n",
      "0.080 for {'class_weight': {0: 1, 1: 200}, 'colsample_bytree': 1.0, 'learning_rate': 1.0, 'max_depth': 15, 'min_child_samples': 5, 'n_estimators': 200}\n",
      "0.080 for {'class_weight': {0: 1, 1: 200}, 'colsample_bytree': 0.5, 'learning_rate': 1.0, 'max_depth': 15, 'min_child_samples': 5, 'n_estimators': 200}\n",
      "0.080 for {'class_weight': {0: 1, 1: 180}, 'colsample_bytree': 0.5, 'learning_rate': 1.0, 'max_depth': 40, 'min_child_samples': 5, 'n_estimators': 60}\n",
      "0.080 for {'class_weight': {0: 1, 1: 200}, 'colsample_bytree': 0.5, 'learning_rate': 1.0, 'max_depth': 40, 'min_child_samples': 7, 'n_estimators': 60}\n",
      "0.075 for {'class_weight': {0: 1, 1: 200}, 'colsample_bytree': 0.5, 'learning_rate': 1.0, 'max_depth': -1, 'min_child_samples': 3, 'n_estimators': 200}\n",
      "0.070 for {'class_weight': {0: 1, 1: 200}, 'colsample_bytree': 0.5, 'learning_rate': 1.0, 'max_depth': 15, 'min_child_samples': 3, 'n_estimators': 200}\n",
      "0.065 for {'class_weight': {0: 1, 1: 180}, 'colsample_bytree': 0.5, 'learning_rate': 1.0, 'max_depth': 40, 'min_child_samples': 7, 'n_estimators': 60}\n",
      "0.065 for {'class_weight': {0: 1, 1: 180}, 'colsample_bytree': 1.0, 'learning_rate': 1.0, 'max_depth': 15, 'min_child_samples': 7, 'n_estimators': 60}\n",
      "0.065 for {'class_weight': {0: 1, 1: 180}, 'colsample_bytree': 0.5, 'learning_rate': 1.0, 'max_depth': -1, 'min_child_samples': 7, 'n_estimators': 60}\n",
      "0.065 for {'class_weight': {0: 1, 1: 200}, 'colsample_bytree': 1.0, 'learning_rate': 1.0, 'max_depth': 15, 'min_child_samples': 5, 'n_estimators': 60}\n",
      "0.060 for {'class_weight': {0: 1, 1: 200}, 'colsample_bytree': 0.5, 'learning_rate': 1.0, 'max_depth': 40, 'min_child_samples': 3, 'n_estimators': 60}\n",
      "0.060 for {'class_weight': {0: 1, 1: 200}, 'colsample_bytree': 0.5, 'learning_rate': 1.0, 'max_depth': -1, 'min_child_samples': 3, 'n_estimators': 60}\n",
      "0.060 for {'class_weight': {0: 1, 1: 180}, 'colsample_bytree': 1.0, 'learning_rate': 1.0, 'max_depth': -1, 'min_child_samples': 3, 'n_estimators': 60}\n",
      "0.060 for {'class_weight': {0: 1, 1: 180}, 'colsample_bytree': 1.0, 'learning_rate': 1.0, 'max_depth': 40, 'min_child_samples': 3, 'n_estimators': 60}\n",
      "0.060 for {'class_weight': {0: 1, 1: 180}, 'colsample_bytree': 0.5, 'learning_rate': 1.0, 'max_depth': 40, 'min_child_samples': 3, 'n_estimators': 60}\n",
      "0.060 for {'class_weight': {0: 1, 1: 180}, 'colsample_bytree': 0.5, 'learning_rate': 1.0, 'max_depth': -1, 'min_child_samples': 3, 'n_estimators': 60}\n",
      "0.055 for {'class_weight': {0: 1, 1: 180}, 'colsample_bytree': 1.0, 'learning_rate': 1.0, 'max_depth': -1, 'min_child_samples': 7, 'n_estimators': 60}\n",
      "0.055 for {'class_weight': {0: 1, 1: 180}, 'colsample_bytree': 1.0, 'learning_rate': 1.0, 'max_depth': 40, 'min_child_samples': 7, 'n_estimators': 60}\n",
      "0.050 for {'class_weight': {0: 1, 1: 200}, 'colsample_bytree': 0.5, 'learning_rate': 1.0, 'max_depth': 15, 'min_child_samples': 5, 'n_estimators': 60}\n",
      "0.050 for {'class_weight': {0: 1, 1: 180}, 'colsample_bytree': 1.0, 'learning_rate': 1.0, 'max_depth': 40, 'min_child_samples': 11, 'n_estimators': 60}\n",
      "0.050 for {'class_weight': {0: 1, 1: 180}, 'colsample_bytree': 1.0, 'learning_rate': 1.0, 'max_depth': -1, 'min_child_samples': 11, 'n_estimators': 60}\n",
      "0.050 for {'class_weight': {0: 1, 1: 180}, 'colsample_bytree': 0.5, 'learning_rate': 1.0, 'max_depth': 15, 'min_child_samples': 7, 'n_estimators': 60}\n",
      "0.040 for {'class_weight': {0: 1, 1: 200}, 'colsample_bytree': 0.5, 'learning_rate': 1.0, 'max_depth': 15, 'min_child_samples': 7, 'n_estimators': 60}\n",
      "0.010 for {'class_weight': {0: 1, 1: 180}, 'colsample_bytree': 0.5, 'learning_rate': 1.0, 'max_depth': 15, 'min_child_samples': 11, 'n_estimators': 60}\n"
     ]
    }
   ],
   "source": [
    "sorted_ids = np.argsort(best_model.scores)\n",
    "print(\"Grid scores:\")\n",
    "for i in sorted_ids[::-1]:\n",
    "    print(\"%0.3f for %r\" % (best_model.scores[i], best_model.params[i]))"
   ]
  },
  {
   "cell_type": "code",
   "execution_count": 104,
   "metadata": {},
   "outputs": [
    {
     "data": {
      "text/plain": [
       "(0.044173863797253285, 0.859995347422293)"
      ]
     },
     "execution_count": 104,
     "metadata": {},
     "output_type": "execute_result"
    }
   ],
   "source": [
    "y_opt_pred = best_model.predict(X_opt)\n",
    "y_opt_f1_bestFI, y_opt_rocauc_bestFI = f1_score(y_opt, y_opt_pred), roc_auc_score(y_opt, y_opt_pred)\n",
    "y_opt_f1_bestFI, y_opt_rocauc_bestFI"
   ]
  },
  {
   "cell_type": "code",
   "execution_count": 105,
   "metadata": {},
   "outputs": [
    {
     "data": {
      "text/plain": [
       "array([[105059,   6707],\n",
       "       [    44,    156]])"
      ]
     },
     "execution_count": 105,
     "metadata": {},
     "output_type": "execute_result"
    }
   ],
   "source": [
    "confusion_matrix(y_opt, y_opt_pred)"
   ]
  },
  {
   "cell_type": "markdown",
   "metadata": {},
   "source": [
    "array([[104635,   7131],\n",
    "       [    46,    154]])"
   ]
  },
  {
   "cell_type": "code",
   "execution_count": 106,
   "metadata": {},
   "outputs": [
    {
     "data": {
      "text/html": [
       "<div>\n",
       "<style scoped>\n",
       "    .dataframe tbody tr th:only-of-type {\n",
       "        vertical-align: middle;\n",
       "    }\n",
       "\n",
       "    .dataframe tbody tr th {\n",
       "        vertical-align: top;\n",
       "    }\n",
       "\n",
       "    .dataframe thead tr th {\n",
       "        text-align: left;\n",
       "    }\n",
       "\n",
       "    .dataframe thead tr:last-of-type th {\n",
       "        text-align: right;\n",
       "    }\n",
       "</style>\n",
       "<table border=\"1\" class=\"dataframe\">\n",
       "  <thead>\n",
       "    <tr>\n",
       "      <th>EXISTE_FRAUDE</th>\n",
       "      <th colspan=\"2\" halign=\"left\">False</th>\n",
       "      <th colspan=\"2\" halign=\"left\">True</th>\n",
       "    </tr>\n",
       "    <tr>\n",
       "      <th>col_1</th>\n",
       "      <th>False</th>\n",
       "      <th>True</th>\n",
       "      <th>False</th>\n",
       "      <th>True</th>\n",
       "    </tr>\n",
       "    <tr>\n",
       "      <th>TIPO_EXPED</th>\n",
       "      <th></th>\n",
       "      <th></th>\n",
       "      <th></th>\n",
       "      <th></th>\n",
       "    </tr>\n",
       "  </thead>\n",
       "  <tbody>\n",
       "    <tr>\n",
       "      <th>0</th>\n",
       "      <td>555</td>\n",
       "      <td>1</td>\n",
       "      <td>1</td>\n",
       "      <td>0</td>\n",
       "    </tr>\n",
       "    <tr>\n",
       "      <th>1</th>\n",
       "      <td>8007</td>\n",
       "      <td>2</td>\n",
       "      <td>7</td>\n",
       "      <td>0</td>\n",
       "    </tr>\n",
       "    <tr>\n",
       "      <th>2</th>\n",
       "      <td>48886</td>\n",
       "      <td>0</td>\n",
       "      <td>5</td>\n",
       "      <td>0</td>\n",
       "    </tr>\n",
       "    <tr>\n",
       "      <th>3</th>\n",
       "      <td>44766</td>\n",
       "      <td>3</td>\n",
       "      <td>13</td>\n",
       "      <td>0</td>\n",
       "    </tr>\n",
       "    <tr>\n",
       "      <th>4</th>\n",
       "      <td>1546</td>\n",
       "      <td>16</td>\n",
       "      <td>4</td>\n",
       "      <td>1</td>\n",
       "    </tr>\n",
       "    <tr>\n",
       "      <th>5</th>\n",
       "      <td>650</td>\n",
       "      <td>147</td>\n",
       "      <td>8</td>\n",
       "      <td>14</td>\n",
       "    </tr>\n",
       "    <tr>\n",
       "      <th>6</th>\n",
       "      <td>649</td>\n",
       "      <td>6538</td>\n",
       "      <td>6</td>\n",
       "      <td>141</td>\n",
       "    </tr>\n",
       "  </tbody>\n",
       "</table>\n",
       "</div>"
      ],
      "text/plain": [
       "EXISTE_FRAUDE  False       True       \n",
       "col_1          False True  False True \n",
       "TIPO_EXPED                            \n",
       "0                555     1     1     0\n",
       "1               8007     2     7     0\n",
       "2              48886     0     5     0\n",
       "3              44766     3    13     0\n",
       "4               1546    16     4     1\n",
       "5                650   147     8    14\n",
       "6                649  6538     6   141"
      ]
     },
     "execution_count": 106,
     "metadata": {},
     "output_type": "execute_result"
    }
   ],
   "source": [
    "pd.crosstab(X_opt[\"TIPO_EXPED\"], [df_opt[\"EXISTE_FRAUDE\"], y_opt_pred])"
   ]
  },
  {
   "cell_type": "code",
   "execution_count": 78,
   "metadata": {},
   "outputs": [
    {
     "data": {
      "text/html": [
       "<div>\n",
       "<style scoped>\n",
       "    .dataframe tbody tr th:only-of-type {\n",
       "        vertical-align: middle;\n",
       "    }\n",
       "\n",
       "    .dataframe tbody tr th {\n",
       "        vertical-align: top;\n",
       "    }\n",
       "\n",
       "    .dataframe thead tr th {\n",
       "        text-align: left;\n",
       "    }\n",
       "\n",
       "    .dataframe thead tr:last-of-type th {\n",
       "        text-align: right;\n",
       "    }\n",
       "</style>\n",
       "<table border=\"1\" class=\"dataframe\">\n",
       "  <thead>\n",
       "    <tr>\n",
       "      <th>EXISTE_FRAUDE</th>\n",
       "      <th colspan=\"2\" halign=\"left\">False</th>\n",
       "      <th colspan=\"2\" halign=\"left\">True</th>\n",
       "    </tr>\n",
       "    <tr>\n",
       "      <th>col_1</th>\n",
       "      <th>False</th>\n",
       "      <th>True</th>\n",
       "      <th>False</th>\n",
       "      <th>True</th>\n",
       "    </tr>\n",
       "    <tr>\n",
       "      <th>TIPO_EXPED</th>\n",
       "      <th></th>\n",
       "      <th></th>\n",
       "      <th></th>\n",
       "      <th></th>\n",
       "    </tr>\n",
       "  </thead>\n",
       "  <tbody>\n",
       "    <tr>\n",
       "      <th>0</th>\n",
       "      <td>546</td>\n",
       "      <td>10</td>\n",
       "      <td>0</td>\n",
       "      <td>1</td>\n",
       "    </tr>\n",
       "    <tr>\n",
       "      <th>1</th>\n",
       "      <td>7703</td>\n",
       "      <td>306</td>\n",
       "      <td>6</td>\n",
       "      <td>1</td>\n",
       "    </tr>\n",
       "    <tr>\n",
       "      <th>2</th>\n",
       "      <td>48861</td>\n",
       "      <td>25</td>\n",
       "      <td>5</td>\n",
       "      <td>0</td>\n",
       "    </tr>\n",
       "    <tr>\n",
       "      <th>3</th>\n",
       "      <td>44768</td>\n",
       "      <td>1</td>\n",
       "      <td>13</td>\n",
       "      <td>0</td>\n",
       "    </tr>\n",
       "    <tr>\n",
       "      <th>4</th>\n",
       "      <td>1492</td>\n",
       "      <td>70</td>\n",
       "      <td>5</td>\n",
       "      <td>0</td>\n",
       "    </tr>\n",
       "    <tr>\n",
       "      <th>5</th>\n",
       "      <td>667</td>\n",
       "      <td>130</td>\n",
       "      <td>8</td>\n",
       "      <td>14</td>\n",
       "    </tr>\n",
       "    <tr>\n",
       "      <th>6</th>\n",
       "      <td>598</td>\n",
       "      <td>6589</td>\n",
       "      <td>9</td>\n",
       "      <td>138</td>\n",
       "    </tr>\n",
       "  </tbody>\n",
       "</table>\n",
       "</div>"
      ],
      "text/plain": [
       "EXISTE_FRAUDE  False       True       \n",
       "col_1          False True  False True \n",
       "TIPO_EXPED                            \n",
       "0                546    10     0     1\n",
       "1               7703   306     6     1\n",
       "2              48861    25     5     0\n",
       "3              44768     1    13     0\n",
       "4               1492    70     5     0\n",
       "5                667   130     8    14\n",
       "6                598  6589     9   138"
      ]
     },
     "execution_count": 78,
     "metadata": {},
     "output_type": "execute_result"
    }
   ],
   "source": [
    "pd.crosstab(X_opt[\"TIPO_EXPED\"], [df_opt[\"EXISTE_FRAUDE\"], y_opt_pred])"
   ]
  },
  {
   "cell_type": "markdown",
   "metadata": {},
   "source": [
    "**Tronador**"
   ]
  },
  {
   "cell_type": "code",
   "execution_count": 48,
   "metadata": {},
   "outputs": [
    {
     "data": {
      "text/plain": [
       "array([[111766,      0],\n",
       "       [   200,      0]])"
      ]
     },
     "execution_count": 48,
     "metadata": {},
     "output_type": "execute_result"
    }
   ],
   "source": [
    "confusion_matrix(y_opt, X_opt[\"total_condicion\"] >= 5)"
   ]
  },
  {
   "cell_type": "code",
   "execution_count": 49,
   "metadata": {},
   "outputs": [
    {
     "data": {
      "text/html": [
       "<div>\n",
       "<style scoped>\n",
       "    .dataframe tbody tr th:only-of-type {\n",
       "        vertical-align: middle;\n",
       "    }\n",
       "\n",
       "    .dataframe tbody tr th {\n",
       "        vertical-align: top;\n",
       "    }\n",
       "\n",
       "    .dataframe thead tr th {\n",
       "        text-align: left;\n",
       "    }\n",
       "\n",
       "    .dataframe thead tr:last-of-type th {\n",
       "        text-align: right;\n",
       "    }\n",
       "</style>\n",
       "<table border=\"1\" class=\"dataframe\">\n",
       "  <thead>\n",
       "    <tr>\n",
       "      <th>EXISTE_FRAUDE</th>\n",
       "      <th>False</th>\n",
       "      <th>True</th>\n",
       "    </tr>\n",
       "    <tr>\n",
       "      <th>total_condicion</th>\n",
       "      <th>False</th>\n",
       "      <th>False</th>\n",
       "    </tr>\n",
       "    <tr>\n",
       "      <th>TIPO_EXPED</th>\n",
       "      <th></th>\n",
       "      <th></th>\n",
       "    </tr>\n",
       "  </thead>\n",
       "  <tbody>\n",
       "    <tr>\n",
       "      <th>0</th>\n",
       "      <td>556</td>\n",
       "      <td>1</td>\n",
       "    </tr>\n",
       "    <tr>\n",
       "      <th>1</th>\n",
       "      <td>8009</td>\n",
       "      <td>7</td>\n",
       "    </tr>\n",
       "    <tr>\n",
       "      <th>2</th>\n",
       "      <td>48886</td>\n",
       "      <td>5</td>\n",
       "    </tr>\n",
       "    <tr>\n",
       "      <th>3</th>\n",
       "      <td>44769</td>\n",
       "      <td>13</td>\n",
       "    </tr>\n",
       "    <tr>\n",
       "      <th>4</th>\n",
       "      <td>1562</td>\n",
       "      <td>5</td>\n",
       "    </tr>\n",
       "    <tr>\n",
       "      <th>5</th>\n",
       "      <td>797</td>\n",
       "      <td>22</td>\n",
       "    </tr>\n",
       "    <tr>\n",
       "      <th>6</th>\n",
       "      <td>7187</td>\n",
       "      <td>147</td>\n",
       "    </tr>\n",
       "  </tbody>\n",
       "</table>\n",
       "</div>"
      ],
      "text/plain": [
       "EXISTE_FRAUDE    False True \n",
       "total_condicion  False False\n",
       "TIPO_EXPED                  \n",
       "0                  556     1\n",
       "1                 8009     7\n",
       "2                48886     5\n",
       "3                44769    13\n",
       "4                 1562     5\n",
       "5                  797    22\n",
       "6                 7187   147"
      ]
     },
     "execution_count": 49,
     "metadata": {},
     "output_type": "execute_result"
    }
   ],
   "source": [
    "pd.crosstab(X_opt[\"TIPO_EXPED\"], [df_opt[\"EXISTE_FRAUDE\"], X_opt[\"total_condicion\"] >= 5])"
   ]
  },
  {
   "cell_type": "markdown",
   "metadata": {
    "heading_collapsed": true
   },
   "source": [
    "## dumping best current config"
   ]
  },
  {
   "cell_type": "code",
   "execution_count": null,
   "metadata": {
    "hidden": true
   },
   "outputs": [],
   "source": [
    "# Current good config\n",
    "\"\"\"\n",
    "RandomForestClassifier(bootstrap=True, class_weight={0: 1, 1: 15},\n",
    "                       criterion='gini', max_depth=None, max_features='auto',\n",
    "                       max_leaf_nodes=None, min_impurity_decrease=0.0,\n",
    "                       min_impurity_split=None, min_samples_leaf=55,\n",
    "                       min_samples_split=2, min_weight_fraction_leaf=0.0,\n",
    "                       n_estimators=60, n_jobs=-1, oob_score=False,\n",
    "                       random_state=0, verbose=0, warm_start=False)\n",
    "\"\"\"\n",
    "# full features\n",
    "# scores: 0.449, 0.971\n",
    "# array([[71143,   360],\n",
    "#       [  116,   194]])\n",
    "# Tronador\n",
    "# (0.3472,0.816)\n",
    "# array([[70866,   637],\n",
    "#        [  111,   199]])"
   ]
  },
  {
   "cell_type": "code",
   "execution_count": null,
   "metadata": {
    "hidden": true
   },
   "outputs": [],
   "source": [
    "# with open(ps.path.join(\"models\", \"s1 - cond_preg_fill-1_ class_weight balanced.pickle\"), \"wb\") as file:\n",
    "#     pickle.dump(rf_f, file)"
   ]
  },
  {
   "cell_type": "markdown",
   "metadata": {},
   "source": [
    "## Feature Importance\n",
    "\n",
    "<h3 style=\"color:red\">When reducing the # of features the model get worse</h3>"
   ]
  },
  {
   "cell_type": "code",
   "execution_count": 107,
   "metadata": {},
   "outputs": [
    {
     "data": {
      "image/png": "[encoded data removed]",
      "text/plain": [
       "<Figure size 432x288 with 1 Axes>"
      ]
     },
     "metadata": {
      "needs_background": "light"
     },
     "output_type": "display_data"
    }
   ],
   "source": [
    "rf_fi = pd.DataFrame({'cols':X_train.columns, 'fi':best_model.best_estimator_.feature_importances_}).sort_values('fi', ascending=False)\n",
    "rf_fi[:20].plot.bar(x=\"cols\")\n",
    "plt.xticks(rotation=\"vertical\")\n",
    "plt.show()"
   ]
  },
  {
   "cell_type": "code",
   "execution_count": 119,
   "metadata": {},
   "outputs": [
    {
     "name": "stdout",
     "output_type": "stream",
     "text": [
      "# of features: 77 of 148\n"
     ]
    }
   ],
   "source": [
    "to_keep = list(rf_fi[rf_fi[\"fi\"] >=15][\"cols\"].values)\n",
    "print(f\"# of features: {len(to_keep)} of {len(rf_fi)}\")"
   ]
  },
  {
   "cell_type": "code",
   "execution_count": 120,
   "metadata": {},
   "outputs": [
    {
     "data": {
      "text/plain": [
       "'to_remove = [\\'COD_POST_POLIZA_RT_CLUSTER_2019\\', \\'COD_POST_OCURRENCIA_RT_CLUSTER_2019\\',\\n             \\'COD_POST_OCURRENCIA_RC_CLUSTER_2019\\',  \\'COD_POST_POLIZA_RC_CLUSTER_2019\\',\\n             \\'COD_POST_OCURRENCIA_DP_CLUSTER_2019\\', \\'COD_POST_POLIZA_DP_CLUSTER_2019\\',\\n             \"COD_CAUSA_SINI\", \\n            ] # \"es_gte_5\", \"total_condicion\", \\n\\nfor col in to_remove:\\n    if(col in to_keep):\\n        to_keep.remove(col)\\nto_keep'"
      ]
     },
     "execution_count": 120,
     "metadata": {},
     "output_type": "execute_result"
    }
   ],
   "source": [
    "\"\"\"to_remove = ['COD_POST_POLIZA_RT_CLUSTER_2019', 'COD_POST_OCURRENCIA_RT_CLUSTER_2019',\n",
    "             'COD_POST_OCURRENCIA_RC_CLUSTER_2019',  'COD_POST_POLIZA_RC_CLUSTER_2019',\n",
    "             'COD_POST_OCURRENCIA_DP_CLUSTER_2019', 'COD_POST_POLIZA_DP_CLUSTER_2019',\n",
    "             \"COD_CAUSA_SINI\", \n",
    "            ] # \"es_gte_5\", \"total_condicion\", \n",
    "\n",
    "for col in to_remove:\n",
    "    if(col in to_keep):\n",
    "        to_keep.remove(col)\n",
    "to_keep\"\"\""
   ]
  },
  {
   "cell_type": "code",
   "execution_count": 121,
   "metadata": {},
   "outputs": [
    {
     "data": {
      "text/plain": [
       "LGBMClassifier(boosting_type='gbdt', class_weight={0: 1, 1: 180},\n",
       "               colsample_bytree=0.5, importance_type='split',\n",
       "               learning_rate=0.01, max_depth=-1, min_child_samples=11,\n",
       "               min_child_weight=0.001, min_split_gain=0.0, n_estimators=200,\n",
       "               n_jobs=-1, num_leaves=31, objective=None, random_state=0,\n",
       "               reg_alpha=0.0, reg_lambda=0.0, silent=False, subsample=1.0,\n",
       "               subsample_for_bin=200000, subsample_freq=0)"
      ]
     },
     "execution_count": 121,
     "metadata": {},
     "output_type": "execute_result"
    }
   ],
   "source": [
    "# best model\n",
    "best_model.best_estimator_"
   ]
  },
  {
   "cell_type": "markdown",
   "metadata": {},
   "source": [
    "### Training again with less features"
   ]
  },
  {
   "cell_type": "code",
   "execution_count": 122,
   "metadata": {},
   "outputs": [
    {
     "name": "stdout",
     "output_type": "stream",
     "text": [
      "77\n"
     ]
    }
   ],
   "source": [
    "X_train_red = X_train[to_keep].copy()\n",
    "print(len(X_train_red.columns))"
   ]
  },
  {
   "cell_type": "code",
   "execution_count": 123,
   "metadata": {},
   "outputs": [
    {
     "data": {
      "text/plain": [
       "LGBMClassifier(boosting_type='gbdt', class_weight={0: 1, 1: 180},\n",
       "               colsample_bytree=0.5, importance_type='split',\n",
       "               learning_rate=0.01, max_depth=-1, min_child_samples=11,\n",
       "               min_child_weight=0.001, min_split_gain=0.0, n_estimators=200,\n",
       "               n_jobs=-1, num_leaves=31, objective=None, random_state=0,\n",
       "               reg_alpha=0.0, reg_lambda=0.0, silent=False, subsample=1.0,\n",
       "               subsample_for_bin=200000, subsample_freq=0)"
      ]
     },
     "execution_count": 123,
     "metadata": {},
     "output_type": "execute_result"
    }
   ],
   "source": [
    "# rf = RandomForestClassifier(n_estimators=40, max_features=0.5, min_samples_leaf=7, random_state=random_state, n_jobs=-1)\n",
    "rf = copy(best_model.best_estimator_)\n",
    "rf.fit(X_train_red, y_train)"
   ]
  },
  {
   "cell_type": "code",
   "execution_count": 124,
   "metadata": {},
   "outputs": [
    {
     "data": {
      "text/plain": [
       "(0.04370477568740955, 0.8481574450190575)"
      ]
     },
     "execution_count": 124,
     "metadata": {},
     "output_type": "execute_result"
    }
   ],
   "source": [
    "y_opt_pred = rf.predict(X_opt[to_keep])\n",
    "y_opt_f1_bestFI, y_opt_rocauc_bestFI = f1_score(y_opt, y_opt_pred), roc_auc_score(y_opt, y_opt_pred)\n",
    "y_opt_f1_bestFI, y_opt_rocauc_bestFI"
   ]
  },
  {
   "cell_type": "code",
   "execution_count": 125,
   "metadata": {},
   "outputs": [
    {
     "data": {
      "text/plain": [
       "array([[105207,   6559],\n",
       "       [    49,    151]])"
      ]
     },
     "execution_count": 125,
     "metadata": {},
     "output_type": "execute_result"
    }
   ],
   "source": [
    "confusion_matrix(y_opt, y_opt_pred)"
   ]
  },
  {
   "cell_type": "markdown",
   "metadata": {},
   "source": [
    "array([[103320,   8446],\n",
    "       [    28,    172]])"
   ]
  },
  {
   "cell_type": "code",
   "execution_count": 126,
   "metadata": {},
   "outputs": [
    {
     "data": {
      "text/html": [
       "<div>\n",
       "<style scoped>\n",
       "    .dataframe tbody tr th:only-of-type {\n",
       "        vertical-align: middle;\n",
       "    }\n",
       "\n",
       "    .dataframe tbody tr th {\n",
       "        vertical-align: top;\n",
       "    }\n",
       "\n",
       "    .dataframe thead tr th {\n",
       "        text-align: left;\n",
       "    }\n",
       "\n",
       "    .dataframe thead tr:last-of-type th {\n",
       "        text-align: right;\n",
       "    }\n",
       "</style>\n",
       "<table border=\"1\" class=\"dataframe\">\n",
       "  <thead>\n",
       "    <tr>\n",
       "      <th>EXISTE_FRAUDE</th>\n",
       "      <th colspan=\"2\" halign=\"left\">False</th>\n",
       "      <th colspan=\"2\" halign=\"left\">True</th>\n",
       "    </tr>\n",
       "    <tr>\n",
       "      <th>col_1</th>\n",
       "      <th>False</th>\n",
       "      <th>True</th>\n",
       "      <th>False</th>\n",
       "      <th>True</th>\n",
       "    </tr>\n",
       "    <tr>\n",
       "      <th>TIPO_EXPED</th>\n",
       "      <th></th>\n",
       "      <th></th>\n",
       "      <th></th>\n",
       "      <th></th>\n",
       "    </tr>\n",
       "  </thead>\n",
       "  <tbody>\n",
       "    <tr>\n",
       "      <th>0</th>\n",
       "      <td>556</td>\n",
       "      <td>0</td>\n",
       "      <td>1</td>\n",
       "      <td>0</td>\n",
       "    </tr>\n",
       "    <tr>\n",
       "      <th>1</th>\n",
       "      <td>8009</td>\n",
       "      <td>0</td>\n",
       "      <td>7</td>\n",
       "      <td>0</td>\n",
       "    </tr>\n",
       "    <tr>\n",
       "      <th>2</th>\n",
       "      <td>48886</td>\n",
       "      <td>0</td>\n",
       "      <td>5</td>\n",
       "      <td>0</td>\n",
       "    </tr>\n",
       "    <tr>\n",
       "      <th>3</th>\n",
       "      <td>44767</td>\n",
       "      <td>2</td>\n",
       "      <td>13</td>\n",
       "      <td>0</td>\n",
       "    </tr>\n",
       "    <tr>\n",
       "      <th>4</th>\n",
       "      <td>1538</td>\n",
       "      <td>24</td>\n",
       "      <td>5</td>\n",
       "      <td>0</td>\n",
       "    </tr>\n",
       "    <tr>\n",
       "      <th>5</th>\n",
       "      <td>655</td>\n",
       "      <td>142</td>\n",
       "      <td>8</td>\n",
       "      <td>14</td>\n",
       "    </tr>\n",
       "    <tr>\n",
       "      <th>6</th>\n",
       "      <td>796</td>\n",
       "      <td>6391</td>\n",
       "      <td>10</td>\n",
       "      <td>137</td>\n",
       "    </tr>\n",
       "  </tbody>\n",
       "</table>\n",
       "</div>"
      ],
      "text/plain": [
       "EXISTE_FRAUDE  False       True       \n",
       "col_1          False True  False True \n",
       "TIPO_EXPED                            \n",
       "0                556     0     1     0\n",
       "1               8009     0     7     0\n",
       "2              48886     0     5     0\n",
       "3              44767     2    13     0\n",
       "4               1538    24     5     0\n",
       "5                655   142     8    14\n",
       "6                796  6391    10   137"
      ]
     },
     "execution_count": 126,
     "metadata": {},
     "output_type": "execute_result"
    }
   ],
   "source": [
    "pd.crosstab(X_opt[\"TIPO_EXPED\"], [df_opt[\"EXISTE_FRAUDE\"], y_opt_pred])"
   ]
  },
  {
   "cell_type": "code",
   "execution_count": 87,
   "metadata": {},
   "outputs": [
    {
     "data": {
      "text/html": [
       "<div>\n",
       "<style scoped>\n",
       "    .dataframe tbody tr th:only-of-type {\n",
       "        vertical-align: middle;\n",
       "    }\n",
       "\n",
       "    .dataframe tbody tr th {\n",
       "        vertical-align: top;\n",
       "    }\n",
       "\n",
       "    .dataframe thead tr th {\n",
       "        text-align: left;\n",
       "    }\n",
       "\n",
       "    .dataframe thead tr:last-of-type th {\n",
       "        text-align: right;\n",
       "    }\n",
       "</style>\n",
       "<table border=\"1\" class=\"dataframe\">\n",
       "  <thead>\n",
       "    <tr>\n",
       "      <th>EXISTE_FRAUDE</th>\n",
       "      <th colspan=\"2\" halign=\"left\">False</th>\n",
       "      <th colspan=\"2\" halign=\"left\">True</th>\n",
       "    </tr>\n",
       "    <tr>\n",
       "      <th>col_1</th>\n",
       "      <th>False</th>\n",
       "      <th>True</th>\n",
       "      <th>False</th>\n",
       "      <th>True</th>\n",
       "    </tr>\n",
       "    <tr>\n",
       "      <th>TIPO_EXPED</th>\n",
       "      <th></th>\n",
       "      <th></th>\n",
       "      <th></th>\n",
       "      <th></th>\n",
       "    </tr>\n",
       "  </thead>\n",
       "  <tbody>\n",
       "    <tr>\n",
       "      <th>0</th>\n",
       "      <td>546</td>\n",
       "      <td>10</td>\n",
       "      <td>0</td>\n",
       "      <td>1</td>\n",
       "    </tr>\n",
       "    <tr>\n",
       "      <th>1</th>\n",
       "      <td>7703</td>\n",
       "      <td>306</td>\n",
       "      <td>6</td>\n",
       "      <td>1</td>\n",
       "    </tr>\n",
       "    <tr>\n",
       "      <th>2</th>\n",
       "      <td>48861</td>\n",
       "      <td>25</td>\n",
       "      <td>5</td>\n",
       "      <td>0</td>\n",
       "    </tr>\n",
       "    <tr>\n",
       "      <th>3</th>\n",
       "      <td>44768</td>\n",
       "      <td>1</td>\n",
       "      <td>13</td>\n",
       "      <td>0</td>\n",
       "    </tr>\n",
       "    <tr>\n",
       "      <th>4</th>\n",
       "      <td>1492</td>\n",
       "      <td>70</td>\n",
       "      <td>5</td>\n",
       "      <td>0</td>\n",
       "    </tr>\n",
       "    <tr>\n",
       "      <th>5</th>\n",
       "      <td>667</td>\n",
       "      <td>130</td>\n",
       "      <td>8</td>\n",
       "      <td>14</td>\n",
       "    </tr>\n",
       "    <tr>\n",
       "      <th>6</th>\n",
       "      <td>598</td>\n",
       "      <td>6589</td>\n",
       "      <td>9</td>\n",
       "      <td>138</td>\n",
       "    </tr>\n",
       "  </tbody>\n",
       "</table>\n",
       "</div>"
      ],
      "text/plain": [
       "EXISTE_FRAUDE  False       True       \n",
       "col_1          False True  False True \n",
       "TIPO_EXPED                            \n",
       "0                546    10     0     1\n",
       "1               7703   306     6     1\n",
       "2              48861    25     5     0\n",
       "3              44768     1    13     0\n",
       "4               1492    70     5     0\n",
       "5                667   130     8    14\n",
       "6                598  6589     9   138"
      ]
     },
     "execution_count": 87,
     "metadata": {},
     "output_type": "execute_result"
    }
   ],
   "source": [
    "pd.crosstab(X_opt[\"TIPO_EXPED\"], [df_opt[\"EXISTE_FRAUDE\"], y_opt_pred])"
   ]
  },
  {
   "cell_type": "code",
   "execution_count": 127,
   "metadata": {},
   "outputs": [
    {
     "data": {
      "image/png": "[encoded data removed]",
      "text/plain": [
       "<Figure size 432x288 with 1 Axes>"
      ]
     },
     "metadata": {
      "needs_background": "light"
     },
     "output_type": "display_data"
    }
   ],
   "source": [
    "rf_fi = pd.DataFrame({'cols':X_train_red.columns, 'fi':rf.feature_importances_}).sort_values('fi', ascending=False)\n",
    "rf_fi[:20].plot.bar(x=\"cols\")\n",
    "plt.xticks(rotation=\"vertical\")\n",
    "plt.show()"
   ]
  },
  {
   "cell_type": "code",
   "execution_count": null,
   "metadata": {},
   "outputs": [],
   "source": [
    "# best columns used\n",
    "rf_fi[\"cols\"].values"
   ]
  },
  {
   "cell_type": "markdown",
   "metadata": {},
   "source": [
    "# model with validation set"
   ]
  },
  {
   "cell_type": "markdown",
   "metadata": {
    "heading_collapsed": true
   },
   "source": [
    "## full features final model"
   ]
  },
  {
   "cell_type": "code",
   "execution_count": 77,
   "metadata": {
    "hidden": true
   },
   "outputs": [
    {
     "data": {
      "text/plain": [
       "LGBMClassifier(boosting_type='gbdt', class_weight={0: 1, 1: 14},\n",
       "               colsample_bytree=1.0, importance_type='split', learning_rate=0.1,\n",
       "               max_depth=-1, min_child_samples=20, min_child_weight=0.001,\n",
       "               min_split_gain=0.0, n_estimators=60, n_jobs=-1, num_leaves=31,\n",
       "               objective=None, random_state=0, reg_alpha=0.0, reg_lambda=0.0,\n",
       "               silent=False, subsample=1.0, subsample_for_bin=200000,\n",
       "               subsample_freq=0)"
      ]
     },
     "execution_count": 77,
     "metadata": {},
     "output_type": "execute_result"
    }
   ],
   "source": [
    "rf_full = copy(best_model)\n",
    "rf_full.fit(X_full_train, y_full_train)"
   ]
  },
  {
   "cell_type": "code",
   "execution_count": 78,
   "metadata": {
    "hidden": true
   },
   "outputs": [
    {
     "name": "stdout",
     "output_type": "stream",
     "text": [
      "0.468, 0.905\n"
     ]
    }
   ],
   "source": [
    "y_val_pred = rf_full.predict(X_val)\n",
    "y_val_f1_bestFI = f1_score(y_val, y_val_pred)\n",
    "y_val_rocauc_bestFI = roc_auc_score(y_val, rf_full.predict_proba(X_val)[:, -1])\n",
    "metric_results = \"%.3f, %.3f\" % (y_val_f1_bestFI, y_val_rocauc_bestFI)\n",
    "print(metric_results)"
   ]
  },
  {
   "cell_type": "code",
   "execution_count": 79,
   "metadata": {
    "hidden": true
   },
   "outputs": [
    {
     "data": {
      "text/plain": [
       "array([[4475,  388],\n",
       "       [  69,  201]])"
      ]
     },
     "execution_count": 79,
     "metadata": {},
     "output_type": "execute_result"
    }
   ],
   "source": [
    "conf_mat = confusion_matrix(y_val, y_val_pred)\n",
    "conf_mat"
   ]
  },
  {
   "cell_type": "code",
   "execution_count": 80,
   "metadata": {
    "hidden": true
   },
   "outputs": [
    {
     "data": {
      "text/plain": [
       "<matplotlib.axes._subplots.AxesSubplot at 0x7f4b4d7c7ba8>"
      ]
     },
     "execution_count": 80,
     "metadata": {},
     "output_type": "execute_result"
    },
    {
     "data": {
      "image/png": "[encoded data removed]",
      "text/plain": [
       "<Figure size 432x288 with 2 Axes>"
      ]
     },
     "metadata": {
      "needs_background": "light"
     },
     "output_type": "display_data"
    }
   ],
   "source": [
    "sns.heatmap(conf_mat, annot=True, fmt=\"d\")"
   ]
  },
  {
   "cell_type": "markdown",
   "metadata": {},
   "source": [
    "## red features final model"
   ]
  },
  {
   "cell_type": "code",
   "execution_count": 128,
   "metadata": {},
   "outputs": [
    {
     "data": {
      "text/plain": [
       "LGBMClassifier(boosting_type='gbdt', class_weight={0: 1, 1: 180},\n",
       "               colsample_bytree=0.5, importance_type='split',\n",
       "               learning_rate=0.01, max_depth=-1, min_child_samples=11,\n",
       "               min_child_weight=0.001, min_split_gain=0.0, n_estimators=200,\n",
       "               n_jobs=-1, num_leaves=31, objective=None, random_state=0,\n",
       "               reg_alpha=0.0, reg_lambda=0.0, silent=False, subsample=1.0,\n",
       "               subsample_for_bin=200000, subsample_freq=0)"
      ]
     },
     "execution_count": 128,
     "metadata": {},
     "output_type": "execute_result"
    }
   ],
   "source": [
    "rf_full = copy(best_model.best_estimator_)\n",
    "rf_full.fit(X_full_train[to_keep], y_full_train)"
   ]
  },
  {
   "cell_type": "code",
   "execution_count": 129,
   "metadata": {},
   "outputs": [
    {
     "name": "stdout",
     "output_type": "stream",
     "text": [
      "0.035, 0.951\n"
     ]
    }
   ],
   "source": [
    "y_val_pred_prob = rf_full.predict_proba(X_val[to_keep])[:, -1]\n",
    "y_val_pred = y_val_pred_prob > 0.5\n",
    "y_val_f1_bestFI = f1_score(y_val, y_val_pred)\n",
    "y_val_rocauc_bestFI = roc_auc_score(y_val, y_val_pred_prob)\n",
    "metric_results = \"%.3f, %.3f\" % (y_val_f1_bestFI, y_val_rocauc_bestFI)\n",
    "print(metric_results)"
   ]
  },
  {
   "cell_type": "code",
   "execution_count": 130,
   "metadata": {},
   "outputs": [
    {
     "data": {
      "text/plain": [
       "<matplotlib.axes._subplots.AxesSubplot at 0x7efed04c0be0>"
      ]
     },
     "execution_count": 130,
     "metadata": {},
     "output_type": "execute_result"
    },
    {
     "data": {
      "image/png": "[encoded data removed]",
      "text/plain": [
       "<Figure size 432x288 with 2 Axes>"
      ]
     },
     "metadata": {
      "needs_background": "light"
     },
     "output_type": "display_data"
    }
   ],
   "source": [
    "conf_mat = confusion_matrix(y_val, y_val_pred)\n",
    "sns.heatmap(conf_mat, annot=True, fmt=\"d\")"
   ]
  },
  {
   "cell_type": "code",
   "execution_count": 131,
   "metadata": {},
   "outputs": [
    {
     "data": {
      "text/html": [
       "<div>\n",
       "<style scoped>\n",
       "    .dataframe tbody tr th:only-of-type {\n",
       "        vertical-align: middle;\n",
       "    }\n",
       "\n",
       "    .dataframe tbody tr th {\n",
       "        vertical-align: top;\n",
       "    }\n",
       "\n",
       "    .dataframe thead tr th {\n",
       "        text-align: left;\n",
       "    }\n",
       "\n",
       "    .dataframe thead tr:last-of-type th {\n",
       "        text-align: right;\n",
       "    }\n",
       "</style>\n",
       "<table border=\"1\" class=\"dataframe\">\n",
       "  <thead>\n",
       "    <tr>\n",
       "      <th>EXISTE_FRAUDE</th>\n",
       "      <th colspan=\"2\" halign=\"left\">False</th>\n",
       "      <th colspan=\"2\" halign=\"left\">True</th>\n",
       "    </tr>\n",
       "    <tr>\n",
       "      <th>col_1</th>\n",
       "      <th>False</th>\n",
       "      <th>True</th>\n",
       "      <th>False</th>\n",
       "      <th>True</th>\n",
       "    </tr>\n",
       "    <tr>\n",
       "      <th>TIPO_EXPED</th>\n",
       "      <th></th>\n",
       "      <th></th>\n",
       "      <th></th>\n",
       "      <th></th>\n",
       "    </tr>\n",
       "  </thead>\n",
       "  <tbody>\n",
       "    <tr>\n",
       "      <th>0</th>\n",
       "      <td>379</td>\n",
       "      <td>0</td>\n",
       "      <td>2</td>\n",
       "      <td>0</td>\n",
       "    </tr>\n",
       "    <tr>\n",
       "      <th>1</th>\n",
       "      <td>5187</td>\n",
       "      <td>0</td>\n",
       "      <td>7</td>\n",
       "      <td>0</td>\n",
       "    </tr>\n",
       "    <tr>\n",
       "      <th>2</th>\n",
       "      <td>30794</td>\n",
       "      <td>0</td>\n",
       "      <td>3</td>\n",
       "      <td>0</td>\n",
       "    </tr>\n",
       "    <tr>\n",
       "      <th>3</th>\n",
       "      <td>28079</td>\n",
       "      <td>6</td>\n",
       "      <td>4</td>\n",
       "      <td>0</td>\n",
       "    </tr>\n",
       "    <tr>\n",
       "      <th>4</th>\n",
       "      <td>867</td>\n",
       "      <td>64</td>\n",
       "      <td>0</td>\n",
       "      <td>1</td>\n",
       "    </tr>\n",
       "    <tr>\n",
       "      <th>5</th>\n",
       "      <td>5</td>\n",
       "      <td>625</td>\n",
       "      <td>0</td>\n",
       "      <td>17</td>\n",
       "    </tr>\n",
       "    <tr>\n",
       "      <th>6</th>\n",
       "      <td>112</td>\n",
       "      <td>4364</td>\n",
       "      <td>1</td>\n",
       "      <td>73</td>\n",
       "    </tr>\n",
       "  </tbody>\n",
       "</table>\n",
       "</div>"
      ],
      "text/plain": [
       "EXISTE_FRAUDE  False       True       \n",
       "col_1          False True  False True \n",
       "TIPO_EXPED                            \n",
       "0                379     0     2     0\n",
       "1               5187     0     7     0\n",
       "2              30794     0     3     0\n",
       "3              28079     6     4     0\n",
       "4                867    64     0     1\n",
       "5                  5   625     0    17\n",
       "6                112  4364     1    73"
      ]
     },
     "execution_count": 131,
     "metadata": {},
     "output_type": "execute_result"
    }
   ],
   "source": [
    "pd.crosstab(X_val[\"TIPO_EXPED\"], [y_val, y_val_pred])"
   ]
  },
  {
   "cell_type": "code",
   "execution_count": 156,
   "metadata": {},
   "outputs": [],
   "source": [
    "# run this to save the reduce model\n",
    "best_model = copy(rf_full)"
   ]
  },
  {
   "cell_type": "markdown",
   "metadata": {},
   "source": [
    "## Tronador (sum cond >=5) comparison"
   ]
  },
  {
   "cell_type": "code",
   "execution_count": 67,
   "metadata": {},
   "outputs": [
    {
     "name": "stdout",
     "output_type": "stream",
     "text": [
      "(0.0,0.5)\n"
     ]
    },
    {
     "name": "stderr",
     "output_type": "stream",
     "text": [
      "/home/seba/anaconda3/lib/python3.6/site-packages/sklearn/metrics/classification.py:1437: UndefinedMetricWarning: F-score is ill-defined and being set to 0.0 due to no predicted samples.\n",
      "  'precision', 'predicted', average, warn_for)\n"
     ]
    }
   ],
   "source": [
    "# comparing against > 5 logic\n",
    "y_tronador = X_val[\"total_condicion\"] >= 5\n",
    "print(f\"({f1_score(y_val, y_tronador)},{roc_auc_score(y_val, y_tronador)})\")"
   ]
  },
  {
   "cell_type": "code",
   "execution_count": 68,
   "metadata": {},
   "outputs": [
    {
     "data": {
      "text/plain": [
       "<matplotlib.axes._subplots.AxesSubplot at 0x7efedc427128>"
      ]
     },
     "execution_count": 68,
     "metadata": {},
     "output_type": "execute_result"
    },
    {
     "data": {
      "image/png": "[encoded data removed]",
      "text/plain": [
       "<Figure size 432x288 with 2 Axes>"
      ]
     },
     "metadata": {
      "needs_background": "light"
     },
     "output_type": "display_data"
    }
   ],
   "source": [
    "conf_mat = confusion_matrix(y_val, y_tronador)\n",
    "sns.heatmap(conf_mat, annot=True, fmt=\"d\")"
   ]
  },
  {
   "cell_type": "markdown",
   "metadata": {},
   "source": [
    "## Model % sec != 0.5"
   ]
  },
  {
   "cell_type": "code",
   "execution_count": 136,
   "metadata": {},
   "outputs": [
    {
     "name": "stdout",
     "output_type": "stream",
     "text": [
      "0.070, 0.951\n"
     ]
    },
    {
     "data": {
      "text/plain": [
       "<matplotlib.axes._subplots.AxesSubplot at 0x7efed00f8f28>"
      ]
     },
     "execution_count": 136,
     "metadata": {},
     "output_type": "execute_result"
    },
    {
     "data": {
      "image/png": "[encoded data removed]",
      "text/plain": [
       "<Figure size 432x288 with 2 Axes>"
      ]
     },
     "metadata": {
      "needs_background": "light"
     },
     "output_type": "display_data"
    }
   ],
   "source": [
    "porc_sec = 0.76\n",
    "y_val_pred = y_val_pred_prob >= porc_sec\n",
    "y_val_f1_bestFI = f1_score(y_val, y_val_pred)\n",
    "y_val_rocauc_bestFI = roc_auc_score(y_val, y_val_pred_prob)\n",
    "metric_results = \"%.3f, %.3f\" % (y_val_f1_bestFI, y_val_rocauc_bestFI)\n",
    "print(metric_results)\n",
    "conf_mat = confusion_matrix(y_val, y_val_pred)\n",
    "sns.heatmap(conf_mat, annot=True, fmt=\"d\")"
   ]
  },
  {
   "cell_type": "code",
   "execution_count": 137,
   "metadata": {},
   "outputs": [
    {
     "data": {
      "text/html": [
       "<div>\n",
       "<style scoped>\n",
       "    .dataframe tbody tr th:only-of-type {\n",
       "        vertical-align: middle;\n",
       "    }\n",
       "\n",
       "    .dataframe tbody tr th {\n",
       "        vertical-align: top;\n",
       "    }\n",
       "\n",
       "    .dataframe thead tr th {\n",
       "        text-align: left;\n",
       "    }\n",
       "\n",
       "    .dataframe thead tr:last-of-type th {\n",
       "        text-align: right;\n",
       "    }\n",
       "</style>\n",
       "<table border=\"1\" class=\"dataframe\">\n",
       "  <thead>\n",
       "    <tr>\n",
       "      <th>EXISTE_FRAUDE</th>\n",
       "      <th colspan=\"2\" halign=\"left\">False</th>\n",
       "      <th colspan=\"2\" halign=\"left\">True</th>\n",
       "    </tr>\n",
       "    <tr>\n",
       "      <th>col_1</th>\n",
       "      <th>False</th>\n",
       "      <th>True</th>\n",
       "      <th>False</th>\n",
       "      <th>True</th>\n",
       "    </tr>\n",
       "    <tr>\n",
       "      <th>TIPO_EXPED</th>\n",
       "      <th></th>\n",
       "      <th></th>\n",
       "      <th></th>\n",
       "      <th></th>\n",
       "    </tr>\n",
       "  </thead>\n",
       "  <tbody>\n",
       "    <tr>\n",
       "      <th>0</th>\n",
       "      <td>379</td>\n",
       "      <td>0</td>\n",
       "      <td>2</td>\n",
       "      <td>0</td>\n",
       "    </tr>\n",
       "    <tr>\n",
       "      <th>1</th>\n",
       "      <td>5187</td>\n",
       "      <td>0</td>\n",
       "      <td>7</td>\n",
       "      <td>0</td>\n",
       "    </tr>\n",
       "    <tr>\n",
       "      <th>2</th>\n",
       "      <td>30794</td>\n",
       "      <td>0</td>\n",
       "      <td>3</td>\n",
       "      <td>0</td>\n",
       "    </tr>\n",
       "    <tr>\n",
       "      <th>3</th>\n",
       "      <td>28085</td>\n",
       "      <td>0</td>\n",
       "      <td>4</td>\n",
       "      <td>0</td>\n",
       "    </tr>\n",
       "    <tr>\n",
       "      <th>4</th>\n",
       "      <td>931</td>\n",
       "      <td>0</td>\n",
       "      <td>1</td>\n",
       "      <td>0</td>\n",
       "    </tr>\n",
       "    <tr>\n",
       "      <th>5</th>\n",
       "      <td>630</td>\n",
       "      <td>0</td>\n",
       "      <td>17</td>\n",
       "      <td>0</td>\n",
       "    </tr>\n",
       "    <tr>\n",
       "      <th>6</th>\n",
       "      <td>4115</td>\n",
       "      <td>361</td>\n",
       "      <td>57</td>\n",
       "      <td>17</td>\n",
       "    </tr>\n",
       "  </tbody>\n",
       "</table>\n",
       "</div>"
      ],
      "text/plain": [
       "EXISTE_FRAUDE  False       True       \n",
       "col_1          False True  False True \n",
       "TIPO_EXPED                            \n",
       "0                379     0     2     0\n",
       "1               5187     0     7     0\n",
       "2              30794     0     3     0\n",
       "3              28085     0     4     0\n",
       "4                931     0     1     0\n",
       "5                630     0    17     0\n",
       "6               4115   361    57    17"
      ]
     },
     "execution_count": 137,
     "metadata": {},
     "output_type": "execute_result"
    }
   ],
   "source": [
    "pd.crosstab(X_val[\"TIPO_EXPED\"], [y_val, y_val_pred])"
   ]
  },
  {
   "cell_type": "markdown",
   "metadata": {},
   "source": [
    "# Saving final model & columns used into hard drive"
   ]
  },
  {
   "cell_type": "code",
   "execution_count": 141,
   "metadata": {},
   "outputs": [],
   "source": [
    "path_to_save = f\"models/{model_id}/\"\n",
    "os.makedirs(path_to_save, exist_ok=True)"
   ]
  },
  {
   "cell_type": "code",
   "execution_count": 157,
   "metadata": {},
   "outputs": [],
   "source": [
    "model_file = os.path.join(path_to_save, f\"{model_id}.pickle\")\n",
    "\n",
    "with open(model_file, \"wb\") as f:\n",
    "    pickle.dump(best_model, f, pickle.HIGHEST_PROTOCOL)"
   ]
  },
  {
   "cell_type": "code",
   "execution_count": 158,
   "metadata": {},
   "outputs": [],
   "source": [
    "# save file for humans\n",
    "model_file = os.path.join(path_to_save, f\"{model_id} - readable.pickle\")\n",
    "\n",
    "with open(model_file, \"wb\") as f:\n",
    "    pickle.dump(best_model, f, 0) # 0 is human readable format"
   ]
  },
  {
   "cell_type": "code",
   "execution_count": 143,
   "metadata": {},
   "outputs": [
    {
     "name": "stdout",
     "output_type": "stream",
     "text": [
      "['dias_entre_denu_y_sini', 'COD_POST_OCURRENCIA_RC_CLUSTER_2019', 'dist_fformal_fsini', 'CODIGO_VEHICULO', 'COD_PROD', 'dist_fformal_fdenu', 'COD_POST_OCURRENCIA', 'COD_POST_POLIZA_RC_CLUSTER_2019', 'CAPITAL_VEHICULO', 'CAPITAL_ASEGURADO_COTIZACION', 'TIPO_EXPED', 'OCUPACION_ASEG', 'COD_CAUSA_SINI', 'COD_POST_TERC', 'FALTANTE', 'DANOS_MATERIALES', 'COD_POST_TERC_RC_CLUSTER_2019', 'CODIGO_REAPERTURA', 'ANTIG_pol', 'cond_C1', 'TIPO_LESION', 'COD_POST_POLIZA_DP_CLUSTER_2019', 'CANT_RENOVACION', 'COD_POST_POLIZA', 'ESTADO_CIVIL', 'FECHA_SINI_Dayofyear', 'TELEFONO_TERC', 'TIPO_SINIESTRO', 'COD_POST_POLIZA_RT_CLUSTER_2019', 'COD_POST_OCURRENCIA_DP_CLUSTER_2019', 'cond_C6', 'FECHA_SINI_Day', 'CONV_COMISIONARIO', 'FECHA_SINI_Elapsed', 'cond_C15', 'CAPITAL_ACCESORIOS', 'cond_C10', 'preg_15', 'MCA_JUICIO', 'COD_POST_OCURRENCIA_RT_CLUSTER_2019', 'FECHA_SINI_Dayofweek', 'CODIGO_CARATULA', 'COD_POST_TERC_DP_CLUSTER_2019', 'COD_ZONA_RC', 'cond_C14', 'SEXO', 'NEGOCIO', 'DESCRIPCION_TIPO', 'cant_cond', 'cond_37', 'ESTAD_VEH_ASEG', 'preg_9', 'cond_C7', 'cond_C13', 'COD_POST_TERC_RT_CLUSTER_2019', 'cond_C16', 'cond_C9', 'total_condicion', 'TIPO_LESION_MAXIMA', 'cond_11', 'SEGMENTO', 'preg_34', 'FECHA_SINI_Week', 'cond_C11', 'COD_ZONA_ROBO', 'cond_C8', 'cond_12', 'existe_FECHA_FORMAL', 'cond_09', 'COD_ZONA_CASCO', 'cant_sini_1y', 'PRENDARIO', 'SEXO_TERC', 'COD_COBRO_ANTERIOR', 'CERRADURA_DERECHA', 'CERRADURA_BAUL', 'COD_COBRO']\n"
     ]
    }
   ],
   "source": [
    "# merging list input & target\n",
    "full_cols = list(to_keep)  # + [\"EXISTE_FRAUDE\"]\n",
    "print(full_cols)"
   ]
  },
  {
   "cell_type": "code",
   "execution_count": 144,
   "metadata": {},
   "outputs": [],
   "source": [
    "columns_file = os.path.join(path_to_save, f\"{model_id} (COLUMNS) - n_features_{len(full_cols)}.pickle\")\n",
    "\n",
    "with open(columns_file, \"wb\") as file:\n",
    "    pickle.dump(full_cols, file, pickle.HIGHEST_PROTOCOL)"
   ]
  },
  {
   "cell_type": "code",
   "execution_count": 120,
   "metadata": {},
   "outputs": [],
   "source": [
    "# saving to use as example a few rows to implement the model\n",
    "# path_to_save = \"../../src/data/1.1 - df_train 01-18to12-18/\"\n",
    "# sample_file = os.path.join(path_to_save, f\"{model_id} (sample)  - dataset example to predict model.csv\")\n",
    "\n",
    "# df_example = X_val.loc[:, to_keep][-50:]\n",
    "# df_example[\"EXISTE_FRAUDE\"] = y_val[-50:]\n",
    "# df_example.to_csv(sample_file)"
   ]
  },
  {
   "cell_type": "code",
   "execution_count": null,
   "metadata": {},
   "outputs": [],
   "source": [
    "# df_example.head()"
   ]
  },
  {
   "cell_type": "markdown",
   "metadata": {},
   "source": [
    "# Test prediction"
   ]
  },
  {
   "cell_type": "code",
   "execution_count": 138,
   "metadata": {},
   "outputs": [],
   "source": [
    "df_test = pd.read_feather(os.path.join(path, \"1.2.b - group zone - 01-17 to 01-19 - df_test 04-19to04-19.feather\"))"
   ]
  },
  {
   "cell_type": "code",
   "execution_count": 139,
   "metadata": {},
   "outputs": [],
   "source": [
    "# Select all non 060 tipo exped.\n",
    "# 'None': 7,  '003': 2,  '060': 6,  '010': 3,  '020': 4,  '002': 1,  '050': 5,  '001': 0\n",
    "df_test = df_test[(df_test[\"total_condicion\"] < 4)]"
   ]
  },
  {
   "cell_type": "code",
   "execution_count": 145,
   "metadata": {},
   "outputs": [],
   "source": [
    "# Loding the model\n",
    "\n",
    "def load_model(model_file):\n",
    "    \"\"\"Load the dump model.\"\"\"\n",
    "    with open(model_file, \"rb\") as file:\n",
    "        m = pickle.load(file)\n",
    "    return m\n",
    "\n",
    "\n",
    "def load_columns(columns_file):\n",
    "    \"\"\"Load the array of columns use in the dump model.\"\"\"\n",
    "    with open(columns_file, \"rb\") as file:\n",
    "        columns = pickle.load(file)\n",
    "    return columns"
   ]
  },
  {
   "cell_type": "code",
   "execution_count": 159,
   "metadata": {},
   "outputs": [],
   "source": [
    "m = load_model(model_file)\n",
    "columns = load_columns(columns_file)"
   ]
  },
  {
   "cell_type": "code",
   "execution_count": 147,
   "metadata": {},
   "outputs": [
    {
     "name": "stdout",
     "output_type": "stream",
     "text": [
      "['dias_entre_denu_y_sini', 'COD_POST_OCURRENCIA_RC_CLUSTER_2019', 'dist_fformal_fsini', 'CODIGO_VEHICULO', 'COD_PROD', 'dist_fformal_fdenu', 'COD_POST_OCURRENCIA', 'COD_POST_POLIZA_RC_CLUSTER_2019', 'CAPITAL_VEHICULO', 'CAPITAL_ASEGURADO_COTIZACION', 'TIPO_EXPED', 'OCUPACION_ASEG', 'COD_CAUSA_SINI', 'COD_POST_TERC', 'FALTANTE', 'DANOS_MATERIALES', 'COD_POST_TERC_RC_CLUSTER_2019', 'CODIGO_REAPERTURA', 'ANTIG_pol', 'cond_C1', 'TIPO_LESION', 'COD_POST_POLIZA_DP_CLUSTER_2019', 'CANT_RENOVACION', 'COD_POST_POLIZA', 'ESTADO_CIVIL', 'FECHA_SINI_Dayofyear', 'TELEFONO_TERC', 'TIPO_SINIESTRO', 'COD_POST_POLIZA_RT_CLUSTER_2019', 'COD_POST_OCURRENCIA_DP_CLUSTER_2019', 'cond_C6', 'FECHA_SINI_Day', 'CONV_COMISIONARIO', 'FECHA_SINI_Elapsed', 'cond_C15', 'CAPITAL_ACCESORIOS', 'cond_C10', 'preg_15', 'MCA_JUICIO', 'COD_POST_OCURRENCIA_RT_CLUSTER_2019', 'FECHA_SINI_Dayofweek', 'CODIGO_CARATULA', 'COD_POST_TERC_DP_CLUSTER_2019', 'COD_ZONA_RC', 'cond_C14', 'SEXO', 'NEGOCIO', 'DESCRIPCION_TIPO', 'cant_cond', 'cond_37', 'ESTAD_VEH_ASEG', 'preg_9', 'cond_C7', 'cond_C13', 'COD_POST_TERC_RT_CLUSTER_2019', 'cond_C16', 'cond_C9', 'total_condicion', 'TIPO_LESION_MAXIMA', 'cond_11', 'SEGMENTO', 'preg_34', 'FECHA_SINI_Week', 'cond_C11', 'COD_ZONA_ROBO', 'cond_C8', 'cond_12', 'existe_FECHA_FORMAL', 'cond_09', 'COD_ZONA_CASCO', 'cant_sini_1y', 'PRENDARIO', 'SEXO_TERC', 'COD_COBRO_ANTERIOR', 'CERRADURA_DERECHA', 'CERRADURA_BAUL', 'COD_COBRO']\n"
     ]
    }
   ],
   "source": [
    "print(columns)"
   ]
  },
  {
   "cell_type": "code",
   "execution_count": 152,
   "metadata": {},
   "outputs": [
    {
     "data": {
      "text/plain": [
       "0    27870\n",
       "1     5928\n",
       "2      354\n",
       "3       17\n",
       "Name: cant_cond, dtype: int64"
      ]
     },
     "execution_count": 152,
     "metadata": {},
     "output_type": "execute_result"
    }
   ],
   "source": [
    "# create cant_cond column\n",
    "cond_cols = df.filter(regex=\"^cond_\").columns\n",
    "df_test[\"cant_cond\"] = (df_test[cond_cols] > 0).sum(axis=1)\n",
    "df_test[\"cant_cond\"].value_counts(dropna=False)"
   ]
  },
  {
   "cell_type": "code",
   "execution_count": 153,
   "metadata": {},
   "outputs": [],
   "source": [
    "X_test = df_test[columns]\n",
    "y_test = df_test[\"EXISTE_FRAUDE\"]"
   ]
  },
  {
   "cell_type": "code",
   "execution_count": 154,
   "metadata": {},
   "outputs": [
    {
     "data": {
      "text/html": [
       "<div>\n",
       "<style scoped>\n",
       "    .dataframe tbody tr th:only-of-type {\n",
       "        vertical-align: middle;\n",
       "    }\n",
       "\n",
       "    .dataframe tbody tr th {\n",
       "        vertical-align: top;\n",
       "    }\n",
       "\n",
       "    .dataframe thead th {\n",
       "        text-align: right;\n",
       "    }\n",
       "</style>\n",
       "<table border=\"1\" class=\"dataframe\">\n",
       "  <thead>\n",
       "    <tr style=\"text-align: right;\">\n",
       "      <th></th>\n",
       "      <th>dias_entre_denu_y_sini</th>\n",
       "      <th>COD_POST_OCURRENCIA_RC_CLUSTER_2019</th>\n",
       "      <th>dist_fformal_fsini</th>\n",
       "      <th>CODIGO_VEHICULO</th>\n",
       "      <th>COD_PROD</th>\n",
       "      <th>dist_fformal_fdenu</th>\n",
       "      <th>COD_POST_OCURRENCIA</th>\n",
       "      <th>COD_POST_POLIZA_RC_CLUSTER_2019</th>\n",
       "      <th>CAPITAL_VEHICULO</th>\n",
       "      <th>CAPITAL_ASEGURADO_COTIZACION</th>\n",
       "      <th>TIPO_EXPED</th>\n",
       "      <th>OCUPACION_ASEG</th>\n",
       "      <th>COD_CAUSA_SINI</th>\n",
       "      <th>COD_POST_TERC</th>\n",
       "      <th>FALTANTE</th>\n",
       "      <th>DANOS_MATERIALES</th>\n",
       "      <th>COD_POST_TERC_RC_CLUSTER_2019</th>\n",
       "      <th>CODIGO_REAPERTURA</th>\n",
       "      <th>ANTIG_pol</th>\n",
       "      <th>cond_C1</th>\n",
       "      <th>TIPO_LESION</th>\n",
       "      <th>COD_POST_POLIZA_DP_CLUSTER_2019</th>\n",
       "      <th>CANT_RENOVACION</th>\n",
       "      <th>COD_POST_POLIZA</th>\n",
       "      <th>ESTADO_CIVIL</th>\n",
       "      <th>FECHA_SINI_Dayofyear</th>\n",
       "      <th>TELEFONO_TERC</th>\n",
       "      <th>TIPO_SINIESTRO</th>\n",
       "      <th>COD_POST_POLIZA_RT_CLUSTER_2019</th>\n",
       "      <th>COD_POST_OCURRENCIA_DP_CLUSTER_2019</th>\n",
       "      <th>cond_C6</th>\n",
       "      <th>FECHA_SINI_Day</th>\n",
       "      <th>CONV_COMISIONARIO</th>\n",
       "      <th>FECHA_SINI_Elapsed</th>\n",
       "      <th>cond_C15</th>\n",
       "      <th>CAPITAL_ACCESORIOS</th>\n",
       "      <th>cond_C10</th>\n",
       "      <th>preg_15</th>\n",
       "      <th>MCA_JUICIO</th>\n",
       "      <th>COD_POST_OCURRENCIA_RT_CLUSTER_2019</th>\n",
       "      <th>FECHA_SINI_Dayofweek</th>\n",
       "      <th>CODIGO_CARATULA</th>\n",
       "      <th>COD_POST_TERC_DP_CLUSTER_2019</th>\n",
       "      <th>COD_ZONA_RC</th>\n",
       "      <th>cond_C14</th>\n",
       "      <th>SEXO</th>\n",
       "      <th>NEGOCIO</th>\n",
       "      <th>DESCRIPCION_TIPO</th>\n",
       "      <th>cant_cond</th>\n",
       "      <th>cond_37</th>\n",
       "      <th>ESTAD_VEH_ASEG</th>\n",
       "      <th>preg_9</th>\n",
       "      <th>cond_C7</th>\n",
       "      <th>cond_C13</th>\n",
       "      <th>COD_POST_TERC_RT_CLUSTER_2019</th>\n",
       "      <th>cond_C16</th>\n",
       "      <th>cond_C9</th>\n",
       "      <th>total_condicion</th>\n",
       "      <th>TIPO_LESION_MAXIMA</th>\n",
       "      <th>cond_11</th>\n",
       "      <th>SEGMENTO</th>\n",
       "      <th>preg_34</th>\n",
       "      <th>FECHA_SINI_Week</th>\n",
       "      <th>cond_C11</th>\n",
       "      <th>COD_ZONA_ROBO</th>\n",
       "      <th>cond_C8</th>\n",
       "      <th>cond_12</th>\n",
       "      <th>existe_FECHA_FORMAL</th>\n",
       "      <th>cond_09</th>\n",
       "      <th>COD_ZONA_CASCO</th>\n",
       "      <th>cant_sini_1y</th>\n",
       "      <th>PRENDARIO</th>\n",
       "      <th>SEXO_TERC</th>\n",
       "      <th>COD_COBRO_ANTERIOR</th>\n",
       "      <th>CERRADURA_DERECHA</th>\n",
       "      <th>CERRADURA_BAUL</th>\n",
       "      <th>COD_COBRO</th>\n",
       "    </tr>\n",
       "  </thead>\n",
       "  <tbody>\n",
       "    <tr>\n",
       "      <th>0</th>\n",
       "      <td>0.0</td>\n",
       "      <td>26.0</td>\n",
       "      <td>-1.0</td>\n",
       "      <td>18380.0</td>\n",
       "      <td>73747.0</td>\n",
       "      <td>-1.0</td>\n",
       "      <td>1439.0</td>\n",
       "      <td>26.0</td>\n",
       "      <td>4514</td>\n",
       "      <td>2293</td>\n",
       "      <td>3</td>\n",
       "      <td>44.0</td>\n",
       "      <td>226.0</td>\n",
       "      <td>-1.0</td>\n",
       "      <td>1</td>\n",
       "      <td>0</td>\n",
       "      <td>-1.0</td>\n",
       "      <td>-1.0</td>\n",
       "      <td>699.0</td>\n",
       "      <td>-1.0</td>\n",
       "      <td>-1</td>\n",
       "      <td>28.0</td>\n",
       "      <td>24.0</td>\n",
       "      <td>1439.0</td>\n",
       "      <td>0</td>\n",
       "      <td>91.0</td>\n",
       "      <td>-1</td>\n",
       "      <td>5</td>\n",
       "      <td>8.0</td>\n",
       "      <td>28.0</td>\n",
       "      <td>-1.0</td>\n",
       "      <td>1.0</td>\n",
       "      <td>23</td>\n",
       "      <td>1554076800</td>\n",
       "      <td>0.0</td>\n",
       "      <td>8</td>\n",
       "      <td>-1.0</td>\n",
       "      <td>-1</td>\n",
       "      <td>-1</td>\n",
       "      <td>8.0</td>\n",
       "      <td>0.0</td>\n",
       "      <td>-1.0</td>\n",
       "      <td>-1.0</td>\n",
       "      <td>1.0</td>\n",
       "      <td>-1.0</td>\n",
       "      <td>1</td>\n",
       "      <td>21</td>\n",
       "      <td>3</td>\n",
       "      <td>0</td>\n",
       "      <td>-1.0</td>\n",
       "      <td>5.0</td>\n",
       "      <td>-1</td>\n",
       "      <td>-1.0</td>\n",
       "      <td>0.0</td>\n",
       "      <td>-1.0</td>\n",
       "      <td>0.0</td>\n",
       "      <td>-1.0</td>\n",
       "      <td>0.0</td>\n",
       "      <td>-1</td>\n",
       "      <td>-1.0</td>\n",
       "      <td>5</td>\n",
       "      <td>-1</td>\n",
       "      <td>14.0</td>\n",
       "      <td>-1.0</td>\n",
       "      <td>3.0</td>\n",
       "      <td>-1.0</td>\n",
       "      <td>-1.0</td>\n",
       "      <td>0</td>\n",
       "      <td>-1.0</td>\n",
       "      <td>1.0</td>\n",
       "      <td>0.0</td>\n",
       "      <td>0</td>\n",
       "      <td>-1</td>\n",
       "      <td>0</td>\n",
       "      <td>0</td>\n",
       "      <td>0</td>\n",
       "      <td>0</td>\n",
       "    </tr>\n",
       "    <tr>\n",
       "      <th>1</th>\n",
       "      <td>0.0</td>\n",
       "      <td>26.0</td>\n",
       "      <td>-1.0</td>\n",
       "      <td>6846.0</td>\n",
       "      <td>5350.0</td>\n",
       "      <td>-1.0</td>\n",
       "      <td>1708.0</td>\n",
       "      <td>26.0</td>\n",
       "      <td>3913</td>\n",
       "      <td>1985</td>\n",
       "      <td>3</td>\n",
       "      <td>5.0</td>\n",
       "      <td>226.0</td>\n",
       "      <td>-1.0</td>\n",
       "      <td>1</td>\n",
       "      <td>0</td>\n",
       "      <td>-1.0</td>\n",
       "      <td>-1.0</td>\n",
       "      <td>1216.0</td>\n",
       "      <td>-1.0</td>\n",
       "      <td>-1</td>\n",
       "      <td>25.0</td>\n",
       "      <td>41.0</td>\n",
       "      <td>1684.0</td>\n",
       "      <td>0</td>\n",
       "      <td>91.0</td>\n",
       "      <td>-1</td>\n",
       "      <td>5</td>\n",
       "      <td>8.0</td>\n",
       "      <td>25.0</td>\n",
       "      <td>-1.0</td>\n",
       "      <td>1.0</td>\n",
       "      <td>107</td>\n",
       "      <td>1554076800</td>\n",
       "      <td>0.0</td>\n",
       "      <td>8</td>\n",
       "      <td>-1.0</td>\n",
       "      <td>-1</td>\n",
       "      <td>-1</td>\n",
       "      <td>8.0</td>\n",
       "      <td>0.0</td>\n",
       "      <td>-1.0</td>\n",
       "      <td>-1.0</td>\n",
       "      <td>1.0</td>\n",
       "      <td>-1.0</td>\n",
       "      <td>1</td>\n",
       "      <td>21</td>\n",
       "      <td>3</td>\n",
       "      <td>0</td>\n",
       "      <td>-1.0</td>\n",
       "      <td>3.0</td>\n",
       "      <td>-1</td>\n",
       "      <td>-1.0</td>\n",
       "      <td>0.0</td>\n",
       "      <td>-1.0</td>\n",
       "      <td>0.0</td>\n",
       "      <td>-1.0</td>\n",
       "      <td>0.0</td>\n",
       "      <td>-1</td>\n",
       "      <td>-1.0</td>\n",
       "      <td>4</td>\n",
       "      <td>-1</td>\n",
       "      <td>14.0</td>\n",
       "      <td>-1.0</td>\n",
       "      <td>1.0</td>\n",
       "      <td>-1.0</td>\n",
       "      <td>-1.0</td>\n",
       "      <td>0</td>\n",
       "      <td>-1.0</td>\n",
       "      <td>1.0</td>\n",
       "      <td>0.0</td>\n",
       "      <td>0</td>\n",
       "      <td>-1</td>\n",
       "      <td>0</td>\n",
       "      <td>0</td>\n",
       "      <td>0</td>\n",
       "      <td>0</td>\n",
       "    </tr>\n",
       "    <tr>\n",
       "      <th>3</th>\n",
       "      <td>0.0</td>\n",
       "      <td>8.0</td>\n",
       "      <td>-1.0</td>\n",
       "      <td>5611.0</td>\n",
       "      <td>72948.0</td>\n",
       "      <td>-1.0</td>\n",
       "      <td>5178.0</td>\n",
       "      <td>8.0</td>\n",
       "      <td>4838</td>\n",
       "      <td>2359</td>\n",
       "      <td>2</td>\n",
       "      <td>44.0</td>\n",
       "      <td>501.0</td>\n",
       "      <td>-1.0</td>\n",
       "      <td>1</td>\n",
       "      <td>0</td>\n",
       "      <td>-1.0</td>\n",
       "      <td>-1.0</td>\n",
       "      <td>28.0</td>\n",
       "      <td>0.0</td>\n",
       "      <td>-1</td>\n",
       "      <td>8.0</td>\n",
       "      <td>2.0</td>\n",
       "      <td>5178.0</td>\n",
       "      <td>6</td>\n",
       "      <td>91.0</td>\n",
       "      <td>-1</td>\n",
       "      <td>9</td>\n",
       "      <td>3.0</td>\n",
       "      <td>8.0</td>\n",
       "      <td>0.0</td>\n",
       "      <td>1.0</td>\n",
       "      <td>106</td>\n",
       "      <td>1554076800</td>\n",
       "      <td>0.0</td>\n",
       "      <td>8</td>\n",
       "      <td>-1.0</td>\n",
       "      <td>-1</td>\n",
       "      <td>-1</td>\n",
       "      <td>3.0</td>\n",
       "      <td>0.0</td>\n",
       "      <td>-1.0</td>\n",
       "      <td>-1.0</td>\n",
       "      <td>30.0</td>\n",
       "      <td>-1.0</td>\n",
       "      <td>1</td>\n",
       "      <td>21</td>\n",
       "      <td>3</td>\n",
       "      <td>0</td>\n",
       "      <td>-1.0</td>\n",
       "      <td>3.0</td>\n",
       "      <td>-1</td>\n",
       "      <td>0.0</td>\n",
       "      <td>-1.0</td>\n",
       "      <td>-1.0</td>\n",
       "      <td>0.0</td>\n",
       "      <td>0.0</td>\n",
       "      <td>0.0</td>\n",
       "      <td>-1</td>\n",
       "      <td>-1.0</td>\n",
       "      <td>5</td>\n",
       "      <td>-1</td>\n",
       "      <td>14.0</td>\n",
       "      <td>-1.0</td>\n",
       "      <td>30.0</td>\n",
       "      <td>0.0</td>\n",
       "      <td>-1.0</td>\n",
       "      <td>0</td>\n",
       "      <td>-1.0</td>\n",
       "      <td>11.0</td>\n",
       "      <td>0.0</td>\n",
       "      <td>0</td>\n",
       "      <td>1</td>\n",
       "      <td>5</td>\n",
       "      <td>-1</td>\n",
       "      <td>-1</td>\n",
       "      <td>5</td>\n",
       "    </tr>\n",
       "    <tr>\n",
       "      <th>4</th>\n",
       "      <td>0.0</td>\n",
       "      <td>8.0</td>\n",
       "      <td>-1.0</td>\n",
       "      <td>5611.0</td>\n",
       "      <td>72948.0</td>\n",
       "      <td>-1.0</td>\n",
       "      <td>5178.0</td>\n",
       "      <td>8.0</td>\n",
       "      <td>4838</td>\n",
       "      <td>2359</td>\n",
       "      <td>3</td>\n",
       "      <td>44.0</td>\n",
       "      <td>501.0</td>\n",
       "      <td>-1.0</td>\n",
       "      <td>1</td>\n",
       "      <td>0</td>\n",
       "      <td>-1.0</td>\n",
       "      <td>1.0</td>\n",
       "      <td>28.0</td>\n",
       "      <td>-1.0</td>\n",
       "      <td>-1</td>\n",
       "      <td>8.0</td>\n",
       "      <td>2.0</td>\n",
       "      <td>5178.0</td>\n",
       "      <td>6</td>\n",
       "      <td>91.0</td>\n",
       "      <td>-1</td>\n",
       "      <td>9</td>\n",
       "      <td>3.0</td>\n",
       "      <td>8.0</td>\n",
       "      <td>-1.0</td>\n",
       "      <td>1.0</td>\n",
       "      <td>106</td>\n",
       "      <td>1554076800</td>\n",
       "      <td>0.0</td>\n",
       "      <td>8</td>\n",
       "      <td>-1.0</td>\n",
       "      <td>-1</td>\n",
       "      <td>-1</td>\n",
       "      <td>3.0</td>\n",
       "      <td>0.0</td>\n",
       "      <td>-1.0</td>\n",
       "      <td>-1.0</td>\n",
       "      <td>30.0</td>\n",
       "      <td>-1.0</td>\n",
       "      <td>1</td>\n",
       "      <td>21</td>\n",
       "      <td>3</td>\n",
       "      <td>0</td>\n",
       "      <td>-1.0</td>\n",
       "      <td>3.0</td>\n",
       "      <td>-1</td>\n",
       "      <td>-1.0</td>\n",
       "      <td>0.0</td>\n",
       "      <td>-1.0</td>\n",
       "      <td>0.0</td>\n",
       "      <td>-1.0</td>\n",
       "      <td>0.0</td>\n",
       "      <td>-1</td>\n",
       "      <td>-1.0</td>\n",
       "      <td>5</td>\n",
       "      <td>-1</td>\n",
       "      <td>14.0</td>\n",
       "      <td>-1.0</td>\n",
       "      <td>30.0</td>\n",
       "      <td>-1.0</td>\n",
       "      <td>-1.0</td>\n",
       "      <td>0</td>\n",
       "      <td>-1.0</td>\n",
       "      <td>11.0</td>\n",
       "      <td>0.0</td>\n",
       "      <td>0</td>\n",
       "      <td>-1</td>\n",
       "      <td>5</td>\n",
       "      <td>0</td>\n",
       "      <td>0</td>\n",
       "      <td>5</td>\n",
       "    </tr>\n",
       "    <tr>\n",
       "      <th>5</th>\n",
       "      <td>0.0</td>\n",
       "      <td>25.0</td>\n",
       "      <td>-1.0</td>\n",
       "      <td>2114.0</td>\n",
       "      <td>72189.0</td>\n",
       "      <td>-1.0</td>\n",
       "      <td>1778.0</td>\n",
       "      <td>25.0</td>\n",
       "      <td>5899</td>\n",
       "      <td>2653</td>\n",
       "      <td>2</td>\n",
       "      <td>5.0</td>\n",
       "      <td>501.0</td>\n",
       "      <td>-1.0</td>\n",
       "      <td>1</td>\n",
       "      <td>0</td>\n",
       "      <td>-1.0</td>\n",
       "      <td>-1.0</td>\n",
       "      <td>88.0</td>\n",
       "      <td>0.0</td>\n",
       "      <td>-1</td>\n",
       "      <td>29.0</td>\n",
       "      <td>4.0</td>\n",
       "      <td>1766.0</td>\n",
       "      <td>0</td>\n",
       "      <td>91.0</td>\n",
       "      <td>-1</td>\n",
       "      <td>4</td>\n",
       "      <td>10.0</td>\n",
       "      <td>29.0</td>\n",
       "      <td>0.0</td>\n",
       "      <td>1.0</td>\n",
       "      <td>32</td>\n",
       "      <td>1554076800</td>\n",
       "      <td>0.0</td>\n",
       "      <td>8</td>\n",
       "      <td>-1.0</td>\n",
       "      <td>-1</td>\n",
       "      <td>-1</td>\n",
       "      <td>10.0</td>\n",
       "      <td>0.0</td>\n",
       "      <td>-1.0</td>\n",
       "      <td>-1.0</td>\n",
       "      <td>1.0</td>\n",
       "      <td>-1.0</td>\n",
       "      <td>0</td>\n",
       "      <td>50</td>\n",
       "      <td>3</td>\n",
       "      <td>0</td>\n",
       "      <td>-1.0</td>\n",
       "      <td>5.0</td>\n",
       "      <td>-1</td>\n",
       "      <td>0.0</td>\n",
       "      <td>-1.0</td>\n",
       "      <td>-1.0</td>\n",
       "      <td>0.0</td>\n",
       "      <td>0.0</td>\n",
       "      <td>0.0</td>\n",
       "      <td>-1</td>\n",
       "      <td>-1.0</td>\n",
       "      <td>-1</td>\n",
       "      <td>-1</td>\n",
       "      <td>14.0</td>\n",
       "      <td>-1.0</td>\n",
       "      <td>1.0</td>\n",
       "      <td>0.0</td>\n",
       "      <td>-1.0</td>\n",
       "      <td>0</td>\n",
       "      <td>-1.0</td>\n",
       "      <td>1.0</td>\n",
       "      <td>0.0</td>\n",
       "      <td>1</td>\n",
       "      <td>1</td>\n",
       "      <td>2</td>\n",
       "      <td>-1</td>\n",
       "      <td>-1</td>\n",
       "      <td>2</td>\n",
       "    </tr>\n",
       "  </tbody>\n",
       "</table>\n",
       "</div>"
      ],
      "text/plain": [
       "   dias_entre_denu_y_sini  COD_POST_OCURRENCIA_RC_CLUSTER_2019  \\\n",
       "0                     0.0                                 26.0   \n",
       "1                     0.0                                 26.0   \n",
       "3                     0.0                                  8.0   \n",
       "4                     0.0                                  8.0   \n",
       "5                     0.0                                 25.0   \n",
       "\n",
       "   dist_fformal_fsini  CODIGO_VEHICULO  COD_PROD  dist_fformal_fdenu  \\\n",
       "0                -1.0          18380.0   73747.0                -1.0   \n",
       "1                -1.0           6846.0    5350.0                -1.0   \n",
       "3                -1.0           5611.0   72948.0                -1.0   \n",
       "4                -1.0           5611.0   72948.0                -1.0   \n",
       "5                -1.0           2114.0   72189.0                -1.0   \n",
       "\n",
       "   COD_POST_OCURRENCIA  COD_POST_POLIZA_RC_CLUSTER_2019  CAPITAL_VEHICULO  \\\n",
       "0               1439.0                             26.0              4514   \n",
       "1               1708.0                             26.0              3913   \n",
       "3               5178.0                              8.0              4838   \n",
       "4               5178.0                              8.0              4838   \n",
       "5               1778.0                             25.0              5899   \n",
       "\n",
       "   CAPITAL_ASEGURADO_COTIZACION  TIPO_EXPED  OCUPACION_ASEG  COD_CAUSA_SINI  \\\n",
       "0                          2293           3            44.0           226.0   \n",
       "1                          1985           3             5.0           226.0   \n",
       "3                          2359           2            44.0           501.0   \n",
       "4                          2359           3            44.0           501.0   \n",
       "5                          2653           2             5.0           501.0   \n",
       "\n",
       "   COD_POST_TERC  FALTANTE  DANOS_MATERIALES  COD_POST_TERC_RC_CLUSTER_2019  \\\n",
       "0           -1.0         1                 0                           -1.0   \n",
       "1           -1.0         1                 0                           -1.0   \n",
       "3           -1.0         1                 0                           -1.0   \n",
       "4           -1.0         1                 0                           -1.0   \n",
       "5           -1.0         1                 0                           -1.0   \n",
       "\n",
       "   CODIGO_REAPERTURA  ANTIG_pol  cond_C1  TIPO_LESION  \\\n",
       "0               -1.0      699.0     -1.0           -1   \n",
       "1               -1.0     1216.0     -1.0           -1   \n",
       "3               -1.0       28.0      0.0           -1   \n",
       "4                1.0       28.0     -1.0           -1   \n",
       "5               -1.0       88.0      0.0           -1   \n",
       "\n",
       "   COD_POST_POLIZA_DP_CLUSTER_2019  CANT_RENOVACION  COD_POST_POLIZA  \\\n",
       "0                             28.0             24.0           1439.0   \n",
       "1                             25.0             41.0           1684.0   \n",
       "3                              8.0              2.0           5178.0   \n",
       "4                              8.0              2.0           5178.0   \n",
       "5                             29.0              4.0           1766.0   \n",
       "\n",
       "   ESTADO_CIVIL  FECHA_SINI_Dayofyear  TELEFONO_TERC  TIPO_SINIESTRO  \\\n",
       "0             0                  91.0             -1               5   \n",
       "1             0                  91.0             -1               5   \n",
       "3             6                  91.0             -1               9   \n",
       "4             6                  91.0             -1               9   \n",
       "5             0                  91.0             -1               4   \n",
       "\n",
       "   COD_POST_POLIZA_RT_CLUSTER_2019  COD_POST_OCURRENCIA_DP_CLUSTER_2019  \\\n",
       "0                              8.0                                 28.0   \n",
       "1                              8.0                                 25.0   \n",
       "3                              3.0                                  8.0   \n",
       "4                              3.0                                  8.0   \n",
       "5                             10.0                                 29.0   \n",
       "\n",
       "   cond_C6  FECHA_SINI_Day  CONV_COMISIONARIO  FECHA_SINI_Elapsed  cond_C15  \\\n",
       "0     -1.0             1.0                 23          1554076800       0.0   \n",
       "1     -1.0             1.0                107          1554076800       0.0   \n",
       "3      0.0             1.0                106          1554076800       0.0   \n",
       "4     -1.0             1.0                106          1554076800       0.0   \n",
       "5      0.0             1.0                 32          1554076800       0.0   \n",
       "\n",
       "   CAPITAL_ACCESORIOS  cond_C10  preg_15  MCA_JUICIO  \\\n",
       "0                   8      -1.0       -1          -1   \n",
       "1                   8      -1.0       -1          -1   \n",
       "3                   8      -1.0       -1          -1   \n",
       "4                   8      -1.0       -1          -1   \n",
       "5                   8      -1.0       -1          -1   \n",
       "\n",
       "   COD_POST_OCURRENCIA_RT_CLUSTER_2019  FECHA_SINI_Dayofweek  CODIGO_CARATULA  \\\n",
       "0                                  8.0                   0.0             -1.0   \n",
       "1                                  8.0                   0.0             -1.0   \n",
       "3                                  3.0                   0.0             -1.0   \n",
       "4                                  3.0                   0.0             -1.0   \n",
       "5                                 10.0                   0.0             -1.0   \n",
       "\n",
       "   COD_POST_TERC_DP_CLUSTER_2019  COD_ZONA_RC  cond_C14  SEXO  NEGOCIO  \\\n",
       "0                           -1.0          1.0      -1.0     1       21   \n",
       "1                           -1.0          1.0      -1.0     1       21   \n",
       "3                           -1.0         30.0      -1.0     1       21   \n",
       "4                           -1.0         30.0      -1.0     1       21   \n",
       "5                           -1.0          1.0      -1.0     0       50   \n",
       "\n",
       "   DESCRIPCION_TIPO  cant_cond  cond_37  ESTAD_VEH_ASEG  preg_9  cond_C7  \\\n",
       "0                 3          0     -1.0             5.0      -1     -1.0   \n",
       "1                 3          0     -1.0             3.0      -1     -1.0   \n",
       "3                 3          0     -1.0             3.0      -1      0.0   \n",
       "4                 3          0     -1.0             3.0      -1     -1.0   \n",
       "5                 3          0     -1.0             5.0      -1      0.0   \n",
       "\n",
       "   cond_C13  COD_POST_TERC_RT_CLUSTER_2019  cond_C16  cond_C9  \\\n",
       "0       0.0                           -1.0       0.0     -1.0   \n",
       "1       0.0                           -1.0       0.0     -1.0   \n",
       "3      -1.0                           -1.0       0.0      0.0   \n",
       "4       0.0                           -1.0       0.0     -1.0   \n",
       "5      -1.0                           -1.0       0.0      0.0   \n",
       "\n",
       "   total_condicion  TIPO_LESION_MAXIMA  cond_11  SEGMENTO  preg_34  \\\n",
       "0              0.0                  -1     -1.0         5       -1   \n",
       "1              0.0                  -1     -1.0         4       -1   \n",
       "3              0.0                  -1     -1.0         5       -1   \n",
       "4              0.0                  -1     -1.0         5       -1   \n",
       "5              0.0                  -1     -1.0        -1       -1   \n",
       "\n",
       "   FECHA_SINI_Week  cond_C11  COD_ZONA_ROBO  cond_C8  cond_12  \\\n",
       "0             14.0      -1.0            3.0     -1.0     -1.0   \n",
       "1             14.0      -1.0            1.0     -1.0     -1.0   \n",
       "3             14.0      -1.0           30.0      0.0     -1.0   \n",
       "4             14.0      -1.0           30.0     -1.0     -1.0   \n",
       "5             14.0      -1.0            1.0      0.0     -1.0   \n",
       "\n",
       "   existe_FECHA_FORMAL  cond_09  COD_ZONA_CASCO  cant_sini_1y  PRENDARIO  \\\n",
       "0                    0     -1.0             1.0           0.0          0   \n",
       "1                    0     -1.0             1.0           0.0          0   \n",
       "3                    0     -1.0            11.0           0.0          0   \n",
       "4                    0     -1.0            11.0           0.0          0   \n",
       "5                    0     -1.0             1.0           0.0          1   \n",
       "\n",
       "   SEXO_TERC  COD_COBRO_ANTERIOR  CERRADURA_DERECHA  CERRADURA_BAUL  COD_COBRO  \n",
       "0         -1                   0                  0               0          0  \n",
       "1         -1                   0                  0               0          0  \n",
       "3          1                   5                 -1              -1          5  \n",
       "4         -1                   5                  0               0          5  \n",
       "5          1                   2                 -1              -1          2  "
      ]
     },
     "execution_count": 154,
     "metadata": {},
     "output_type": "execute_result"
    }
   ],
   "source": [
    "X_test.head()"
   ]
  },
  {
   "cell_type": "markdown",
   "metadata": {},
   "source": [
    "## Model in test"
   ]
  },
  {
   "cell_type": "code",
   "execution_count": 160,
   "metadata": {},
   "outputs": [
    {
     "name": "stdout",
     "output_type": "stream",
     "text": [
      "0.022, 0.974\n"
     ]
    }
   ],
   "source": [
    "# using trained model\n",
    "y_test_pred_prob = m.predict_proba(X_test)[:, -1]\n",
    "\n",
    "# Using load model\n",
    "# y_test_pred_prob = m.predict_proba(X_test)[:, -1]\n",
    "\n",
    "print(\"%.3f, %.3f\" % (f1_score(y_test, y_test_pred_prob > 0.5), roc_auc_score(y_test, y_test_pred_prob)))"
   ]
  },
  {
   "cell_type": "code",
   "execution_count": 169,
   "metadata": {},
   "outputs": [
    {
     "data": {
      "text/plain": [
       "<matplotlib.axes._subplots.AxesSubplot at 0x7efeb8715240>"
      ]
     },
     "execution_count": 169,
     "metadata": {},
     "output_type": "execute_result"
    },
    {
     "data": {
      "image/png": "[encoded data removed]",
      "text/plain": [
       "<Figure size 432x288 with 2 Axes>"
      ]
     },
     "metadata": {
      "needs_background": "light"
     },
     "output_type": "display_data"
    }
   ],
   "source": [
    "conf_mat = confusion_matrix(y_test, y_test_pred_prob > 0.5)\n",
    "sns.heatmap(conf_mat, annot=True, fmt=\"d\")"
   ]
  },
  {
   "cell_type": "code",
   "execution_count": 170,
   "metadata": {},
   "outputs": [
    {
     "data": {
      "text/html": [
       "<div>\n",
       "<style scoped>\n",
       "    .dataframe tbody tr th:only-of-type {\n",
       "        vertical-align: middle;\n",
       "    }\n",
       "\n",
       "    .dataframe tbody tr th {\n",
       "        vertical-align: top;\n",
       "    }\n",
       "\n",
       "    .dataframe thead tr th {\n",
       "        text-align: left;\n",
       "    }\n",
       "\n",
       "    .dataframe thead tr:last-of-type th {\n",
       "        text-align: right;\n",
       "    }\n",
       "</style>\n",
       "<table border=\"1\" class=\"dataframe\">\n",
       "  <thead>\n",
       "    <tr>\n",
       "      <th>EXISTE_FRAUDE</th>\n",
       "      <th colspan=\"2\" halign=\"left\">False</th>\n",
       "      <th colspan=\"2\" halign=\"left\">True</th>\n",
       "    </tr>\n",
       "    <tr>\n",
       "      <th>col_1</th>\n",
       "      <th>False</th>\n",
       "      <th>True</th>\n",
       "      <th>False</th>\n",
       "      <th>True</th>\n",
       "    </tr>\n",
       "    <tr>\n",
       "      <th>TIPO_EXPED</th>\n",
       "      <th></th>\n",
       "      <th></th>\n",
       "      <th></th>\n",
       "      <th></th>\n",
       "    </tr>\n",
       "  </thead>\n",
       "  <tbody>\n",
       "    <tr>\n",
       "      <th>0</th>\n",
       "      <td>158</td>\n",
       "      <td>0</td>\n",
       "      <td>0</td>\n",
       "      <td>0</td>\n",
       "    </tr>\n",
       "    <tr>\n",
       "      <th>1</th>\n",
       "      <td>2538</td>\n",
       "      <td>0</td>\n",
       "      <td>0</td>\n",
       "      <td>0</td>\n",
       "    </tr>\n",
       "    <tr>\n",
       "      <th>2</th>\n",
       "      <td>16053</td>\n",
       "      <td>0</td>\n",
       "      <td>0</td>\n",
       "      <td>0</td>\n",
       "    </tr>\n",
       "    <tr>\n",
       "      <th>3</th>\n",
       "      <td>12491</td>\n",
       "      <td>0</td>\n",
       "      <td>1</td>\n",
       "      <td>0</td>\n",
       "    </tr>\n",
       "    <tr>\n",
       "      <th>4</th>\n",
       "      <td>418</td>\n",
       "      <td>15</td>\n",
       "      <td>0</td>\n",
       "      <td>0</td>\n",
       "    </tr>\n",
       "    <tr>\n",
       "      <th>5</th>\n",
       "      <td>0</td>\n",
       "      <td>249</td>\n",
       "      <td>0</td>\n",
       "      <td>5</td>\n",
       "    </tr>\n",
       "    <tr>\n",
       "      <th>6</th>\n",
       "      <td>59</td>\n",
       "      <td>2160</td>\n",
       "      <td>0</td>\n",
       "      <td>22</td>\n",
       "    </tr>\n",
       "  </tbody>\n",
       "</table>\n",
       "</div>"
      ],
      "text/plain": [
       "EXISTE_FRAUDE  False       True       \n",
       "col_1          False True  False True \n",
       "TIPO_EXPED                            \n",
       "0                158     0     0     0\n",
       "1               2538     0     0     0\n",
       "2              16053     0     0     0\n",
       "3              12491     0     1     0\n",
       "4                418    15     0     0\n",
       "5                  0   249     0     5\n",
       "6                 59  2160     0    22"
      ]
     },
     "execution_count": 170,
     "metadata": {},
     "output_type": "execute_result"
    }
   ],
   "source": [
    "pd.crosstab(X_test[\"TIPO_EXPED\"], [y_test, y_test_pred_prob > 0.5])"
   ]
  },
  {
   "cell_type": "markdown",
   "metadata": {},
   "source": [
    "## Tronador in test"
   ]
  },
  {
   "cell_type": "code",
   "execution_count": 162,
   "metadata": {},
   "outputs": [
    {
     "name": "stdout",
     "output_type": "stream",
     "text": [
      "0.000, 0.500\n"
     ]
    },
    {
     "name": "stderr",
     "output_type": "stream",
     "text": [
      "/home/seba/anaconda3/lib/python3.6/site-packages/sklearn/metrics/classification.py:1437: UndefinedMetricWarning: F-score is ill-defined and being set to 0.0 due to no predicted samples.\n",
      "  'precision', 'predicted', average, warn_for)\n"
     ]
    }
   ],
   "source": [
    "y_tronador = df_test[\"es_gte_5\"]\n",
    "print(\"%.3f, %.3f\" % (f1_score(y_test, y_tronador), roc_auc_score(y_test, y_tronador)))"
   ]
  },
  {
   "cell_type": "code",
   "execution_count": 163,
   "metadata": {},
   "outputs": [
    {
     "data": {
      "text/plain": [
       "<matplotlib.axes._subplots.AxesSubplot at 0x7efef18b93c8>"
      ]
     },
     "execution_count": 163,
     "metadata": {},
     "output_type": "execute_result"
    },
    {
     "data": {
      "image/png": "[encoded data removed]",
      "text/plain": [
       "<Figure size 432x288 with 2 Axes>"
      ]
     },
     "metadata": {
      "needs_background": "light"
     },
     "output_type": "display_data"
    }
   ],
   "source": [
    "conf_mat = confusion_matrix(y_test, y_tronador)\n",
    "sns.heatmap(conf_mat, annot=True, fmt=\"d\")"
   ]
  },
  {
   "cell_type": "code",
   "execution_count": 5,
   "metadata": {
    "scrolled": true
   },
   "outputs": [
    {
     "data": {
      "text/html": [
       "<div>\n",
       "<style scoped>\n",
       "    .dataframe tbody tr th:only-of-type {\n",
       "        vertical-align: middle;\n",
       "    }\n",
       "\n",
       "    .dataframe tbody tr th {\n",
       "        vertical-align: top;\n",
       "    }\n",
       "\n",
       "    .dataframe thead th {\n",
       "        text-align: right;\n",
       "    }\n",
       "</style>\n",
       "<table border=\"1\" class=\"dataframe\">\n",
       "  <thead>\n",
       "    <tr style=\"text-align: right;\">\n",
       "      <th>EXISTE_FRAUDE</th>\n",
       "      <th>False</th>\n",
       "      <th>True</th>\n",
       "    </tr>\n",
       "    <tr>\n",
       "      <th>total_condicion</th>\n",
       "      <th></th>\n",
       "      <th></th>\n",
       "    </tr>\n",
       "  </thead>\n",
       "  <tbody>\n",
       "    <tr>\n",
       "      <th>0.0</th>\n",
       "      <td>1595</td>\n",
       "      <td>10</td>\n",
       "    </tr>\n",
       "    <tr>\n",
       "      <th>1.0</th>\n",
       "      <td>134</td>\n",
       "      <td>1</td>\n",
       "    </tr>\n",
       "    <tr>\n",
       "      <th>2.0</th>\n",
       "      <td>239</td>\n",
       "      <td>1</td>\n",
       "    </tr>\n",
       "    <tr>\n",
       "      <th>3.0</th>\n",
       "      <td>251</td>\n",
       "      <td>10</td>\n",
       "    </tr>\n",
       "    <tr>\n",
       "      <th>4.0</th>\n",
       "      <td>17</td>\n",
       "      <td>0</td>\n",
       "    </tr>\n",
       "    <tr>\n",
       "      <th>5.0</th>\n",
       "      <td>80</td>\n",
       "      <td>30</td>\n",
       "    </tr>\n",
       "    <tr>\n",
       "      <th>6.0</th>\n",
       "      <td>23</td>\n",
       "      <td>5</td>\n",
       "    </tr>\n",
       "    <tr>\n",
       "      <th>7.0</th>\n",
       "      <td>3</td>\n",
       "      <td>3</td>\n",
       "    </tr>\n",
       "    <tr>\n",
       "      <th>8.0</th>\n",
       "      <td>15</td>\n",
       "      <td>6</td>\n",
       "    </tr>\n",
       "    <tr>\n",
       "      <th>9.0</th>\n",
       "      <td>0</td>\n",
       "      <td>1</td>\n",
       "    </tr>\n",
       "    <tr>\n",
       "      <th>10.0</th>\n",
       "      <td>11</td>\n",
       "      <td>8</td>\n",
       "    </tr>\n",
       "    <tr>\n",
       "      <th>11.0</th>\n",
       "      <td>0</td>\n",
       "      <td>1</td>\n",
       "    </tr>\n",
       "    <tr>\n",
       "      <th>12.0</th>\n",
       "      <td>2</td>\n",
       "      <td>5</td>\n",
       "    </tr>\n",
       "    <tr>\n",
       "      <th>13.0</th>\n",
       "      <td>1</td>\n",
       "      <td>4</td>\n",
       "    </tr>\n",
       "    <tr>\n",
       "      <th>15.0</th>\n",
       "      <td>1</td>\n",
       "      <td>0</td>\n",
       "    </tr>\n",
       "  </tbody>\n",
       "</table>\n",
       "</div>"
      ],
      "text/plain": [
       "EXISTE_FRAUDE    False  True \n",
       "total_condicion              \n",
       "0.0               1595     10\n",
       "1.0                134      1\n",
       "2.0                239      1\n",
       "3.0                251     10\n",
       "4.0                 17      0\n",
       "5.0                 80     30\n",
       "6.0                 23      5\n",
       "7.0                  3      3\n",
       "8.0                 15      6\n",
       "9.0                  0      1\n",
       "10.0                11      8\n",
       "11.0                 0      1\n",
       "12.0                 2      5\n",
       "13.0                 1      4\n",
       "15.0                 1      0"
      ]
     },
     "execution_count": 5,
     "metadata": {},
     "output_type": "execute_result"
    }
   ],
   "source": [
    "pd.crosstab(df_test[\"total_condicion\"],df_test[\"EXISTE_FRAUDE\"])"
   ]
  },
  {
   "cell_type": "code",
   "execution_count": null,
   "metadata": {},
   "outputs": [],
   "source": []
  }
 ],
 "metadata": {
  "kernelspec": {
   "display_name": "Python 3",
   "language": "python",
   "name": "python3"
  },
  "language_info": {
   "codemirror_mode": {
    "name": "ipython",
    "version": 3
   },
   "file_extension": ".py",
   "mimetype": "text/x-python",
   "name": "python",
   "nbconvert_exporter": "python",
   "pygments_lexer": "ipython3",
   "version": "3.6.8"
  },
  "varInspector": {
   "cols": {
    "lenName": 16,
    "lenType": 16,
    "lenVar": 40
   },
   "kernels_config": {
    "python": {
     "delete_cmd_postfix": "",
     "delete_cmd_prefix": "del ",
     "library": "var_list.py",
     "varRefreshCmd": "print(var_dic_list())"
    },
    "r": {
     "delete_cmd_postfix": ") ",
     "delete_cmd_prefix": "rm(",
     "library": "var_list.r",
     "varRefreshCmd": "cat(var_dic_list()) "
    }
   },
   "types_to_exclude": [
    "module",
    "function",
    "builtin_function_or_method",
    "instance",
    "_Feature"
   ],
   "window_display": false
  }
 },
 "nbformat": 4,
 "nbformat_minor": 2
}
