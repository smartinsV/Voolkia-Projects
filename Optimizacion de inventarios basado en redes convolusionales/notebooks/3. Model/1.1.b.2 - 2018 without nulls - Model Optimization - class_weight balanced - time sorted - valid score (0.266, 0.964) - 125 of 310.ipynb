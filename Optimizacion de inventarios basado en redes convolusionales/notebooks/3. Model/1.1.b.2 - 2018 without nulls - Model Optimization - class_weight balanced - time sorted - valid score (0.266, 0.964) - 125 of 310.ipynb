{
 "cells": [
  {
   "cell_type": "markdown",
   "metadata": {},
   "source": [
    "# Model hiper optimization"
   ]
  },
  {
   "cell_type": "code",
   "execution_count": 1,
   "metadata": {},
   "outputs": [],
   "source": [
    "#imports\n",
    "import os\n",
    "from copy import copy\n",
    "\n",
    "import pandas as pd\n",
    "import numpy as np\n",
    "import seaborn as sns\n",
    "import matplotlib.pyplot as plt\n",
    "from sklearn.metrics import roc_auc_score, f1_score, confusion_matrix\n",
    "from sklearn.ensemble import RandomForestClassifier, ExtraTreesClassifier\n",
    "from sklearn.model_selection import GridSearchCV, RandomizedSearchCV\n",
    "from hypopt import GridSearch\n",
    "from sklearn.model_selection import StratifiedShuffleSplit\n",
    "\n",
    "import pickle"
   ]
  },
  {
   "cell_type": "code",
   "execution_count": 2,
   "metadata": {},
   "outputs": [
    {
     "name": "stdout",
     "output_type": "stream",
     "text": [
      "['1.1.b - 01-17 to 01-19 - df_test 04-19to05-19.feather', '1.1.a - df_test 04-19to05-19.feather', '1.1.a - df_train  without nulls.feather', '1.1.a - df_val 01-19to03-19.feather', '1.1.b - 01-17 to 01-19 - df_train without nulls.feather', '1.1.b - 01-17 to 01-19 - df_train only 2018 without nulls.feather', '1.1.b - 01-17 to 01-19 - df_train with nan.feather', '1.1.b - 01-17 to 01-19 - df_val 01-19to03-19.feather', '1.1.a - df_test 04-19to04-19.feather', '1.1.b - 01-17 to 01-19 - df_test 04-19to04-19.feather', '1.1.a - df_train only 2018 without nulls.feather', '1.1.a - df_train with nan.feather']\n"
     ]
    }
   ],
   "source": [
    "# configs.\n",
    "%matplotlib inline\n",
    "\n",
    "pd.set_option(\"display.max_columns\", 500)\n",
    "\n",
    "path = \"../../data/split\"\n",
    "random_state = 42\n",
    "print(os.listdir(path))"
   ]
  },
  {
   "cell_type": "markdown",
   "metadata": {},
   "source": [
    "## Loading training and validation datasets"
   ]
  },
  {
   "cell_type": "code",
   "execution_count": 5,
   "metadata": {},
   "outputs": [
    {
     "name": "stderr",
     "output_type": "stream",
     "text": [
      "/home/voolkia/anaconda3/lib/python3.6/site-packages/pyarrow/pandas_compat.py:752: FutureWarning: .labels was deprecated in version 0.24.0. Use .codes instead.\n",
      "  labels, = index.labels\n"
     ]
    }
   ],
   "source": [
    "df = pd.read_feather(os.path.join(path, \"1.1.b - 01-17 to 01-19 - df_train only 2018 without nulls.feather\"))\n",
    "df_val = pd.read_feather(os.path.join(path, \"1.1.b - 01-17 to 01-19 - df_val 01-19to03-19.feather\"))"
   ]
  },
  {
   "cell_type": "code",
   "execution_count": 4,
   "metadata": {},
   "outputs": [],
   "source": [
    "# dropping index variables\n",
    "# to_drop = [\"index\"]\n",
    "# df.drop(to_drop, axis=1, inplace=True)\n",
    "# to_drop = [\"level_0\", \"index\"]\n",
    "# df_val.drop(to_drop, axis=1, inplace=True)"
   ]
  },
  {
   "cell_type": "code",
   "execution_count": 5,
   "metadata": {},
   "outputs": [],
   "source": [
    "# dropping NUM_SECU_EXPED\n",
    "# to_drop = [\"NUM_SECU_EXPED\"]\n",
    "# df.drop(to_drop, axis=1, inplace=True)\n",
    "# df_val.drop(to_drop, axis=1, inplace=True)"
   ]
  },
  {
   "cell_type": "code",
   "execution_count": 6,
   "metadata": {},
   "outputs": [
    {
     "data": {
      "text/plain": [
       "(Timestamp('2018-01-01 00:00:00'), Timestamp('2019-01-31 00:00:00'))"
      ]
     },
     "execution_count": 6,
     "metadata": {},
     "output_type": "execute_result"
    }
   ],
   "source": [
    "df[\"FECHA_SINI\"].min(), df[\"FECHA_SINI\"].max()"
   ]
  },
  {
   "cell_type": "code",
   "execution_count": 7,
   "metadata": {},
   "outputs": [
    {
     "name": "stdout",
     "output_type": "stream",
     "text": [
      "2018-01-01 00:00:00 2018-09-30 00:00:00\n",
      "2018-10-01 00:00:00 2019-01-31 00:00:00\n"
     ]
    }
   ],
   "source": [
    "# using only last year\n",
    "df_train = df[df[\"FECHA_SINI\"] < \"2018-10-01\"].copy()\n",
    "df_opt = df[df[\"FECHA_SINI\"] >= \"2018-10-01\"].copy()\n",
    "print(df_train[\"FECHA_SINI\"].min(), df_train[\"FECHA_SINI\"].max())\n",
    "print(df_opt[\"FECHA_SINI\"].min(), df_opt[\"FECHA_SINI\"].max())"
   ]
  },
  {
   "cell_type": "code",
   "execution_count": 8,
   "metadata": {},
   "outputs": [],
   "source": [
    "# dropping date FEC_ACT_cond\n",
    "to_drop = [\"FECHA_SINI\"]\n",
    "df_train.drop(to_drop, axis=1, inplace=True)\n",
    "df_opt.drop(to_drop, axis=1, inplace=True)\n",
    "df_val.drop(to_drop, axis=1, inplace=True)"
   ]
  },
  {
   "cell_type": "markdown",
   "metadata": {},
   "source": [
    "## split X, y dataset"
   ]
  },
  {
   "cell_type": "code",
   "execution_count": 9,
   "metadata": {},
   "outputs": [],
   "source": [
    "# to_drop = [\"COD_FRAUDE\", \"EXISTE_FRAUDE\", \"EXISTE_INHABILITAR\"]\n",
    "# already removed : \"EXISTE_INHABILITAR\", \"COD_ACT_BENEF\",\n",
    "to_drop = [\"EXISTE_FRAUDE\", \"NUM_SECU_EXPED\", \"NUM_SECU_POL\", \"EXISTE_INVEST\"]\n",
    "\n",
    "# training\n",
    "X_train = df_train.drop(to_drop, axis=1)\n",
    "y_train = df_train[\"EXISTE_FRAUDE\"]\n",
    "# validation\n",
    "X_opt = df_opt.drop(to_drop, axis=1)\n",
    "y_opt = df_opt[\"EXISTE_FRAUDE\"]\n",
    "# validation\n",
    "X_val = df_val.drop(to_drop, axis=1)\n",
    "y_val = df_val[\"EXISTE_FRAUDE\"]"
   ]
  },
  {
   "cell_type": "code",
   "execution_count": 10,
   "metadata": {},
   "outputs": [],
   "source": [
    "X_full_train = df.drop(to_drop, axis=1)\n",
    "y_full_train = df[\"EXISTE_FRAUDE\"]"
   ]
  },
  {
   "cell_type": "code",
   "execution_count": 11,
   "metadata": {},
   "outputs": [
    {
     "name": "stdout",
     "output_type": "stream",
     "text": [
      "dif between X_train & X_opt: set()\n",
      "dif between X_val & X_opt: set()\n"
     ]
    }
   ],
   "source": [
    "# checking if all have the same inputs columns\n",
    "print(\"dif between X_train & X_opt: {}\".format(set(X_train.columns) - set(X_opt.columns)))\n",
    "print(\"dif between X_val & X_opt: {}\".format(set(X_val.columns) - set(X_opt.columns)))"
   ]
  },
  {
   "cell_type": "code",
   "execution_count": 12,
   "metadata": {},
   "outputs": [
    {
     "name": "stdout",
     "output_type": "stream",
     "text": [
      "360463, 156002\n",
      "360463, 156002\n"
     ]
    }
   ],
   "source": [
    "print(f\"{len(X_train)}, {len(X_opt)}\")\n",
    "print(f\"{len(y_train)}, {len(y_opt)}\")"
   ]
  },
  {
   "cell_type": "code",
   "execution_count": 13,
   "metadata": {},
   "outputs": [
    {
     "data": {
      "text/plain": [
       "(0.0035287949109894775, 0.0045512237022602275)"
      ]
     },
     "execution_count": 13,
     "metadata": {},
     "output_type": "execute_result"
    }
   ],
   "source": [
    "y_train.sum() / len(y_train), y_opt.sum() / len(y_opt)"
   ]
  },
  {
   "cell_type": "markdown",
   "metadata": {
    "heading_collapsed": true
   },
   "source": [
    "## short optimization"
   ]
  },
  {
   "cell_type": "code",
   "execution_count": 58,
   "metadata": {
    "hidden": true
   },
   "outputs": [
    {
     "data": {
      "text/plain": [
       "'from sklearn.ensemble import forest\\ndef set_rf_samples(n):\\n    \"\"\" Changes Scikit learn\\'s random forests to give each tree a random sample of\\n    n random rows.\\n    \"\"\"\\n    forest._generate_sample_indices = (lambda rs, n_samples:\\n        forest.check_random_state(rs).randint(0, n_samples, n))\\n\\ndef reset_rf_samples():\\n    \"\"\" Undoes the changes produced by set_rf_samples.\\n    \"\"\"\\n    forest._generate_sample_indices = (lambda rs, n_samples:\\n        forest.check_random_state(rs).randint(0, n_samples, n_samples))\\n'"
      ]
     },
     "execution_count": 58,
     "metadata": {},
     "output_type": "execute_result"
    }
   ],
   "source": [
    "'''from sklearn.ensemble import forest\n",
    "def set_rf_samples(n):\n",
    "    \"\"\" Changes Scikit learn's random forests to give each tree a random sample of\n",
    "    n random rows.\n",
    "    \"\"\"\n",
    "    forest._generate_sample_indices = (lambda rs, n_samples:\n",
    "        forest.check_random_state(rs).randint(0, n_samples, n))\n",
    "\n",
    "def reset_rf_samples():\n",
    "    \"\"\" Undoes the changes produced by set_rf_samples.\n",
    "    \"\"\"\n",
    "    forest._generate_sample_indices = (lambda rs, n_samples:\n",
    "        forest.check_random_state(rs).randint(0, n_samples, n_samples))\n",
    "'''\n",
    "#set_rf_samples(60000)"
   ]
  },
  {
   "cell_type": "markdown",
   "metadata": {},
   "source": [
    "## Defining grid configuration"
   ]
  },
  {
   "cell_type": "code",
   "execution_count": 14,
   "metadata": {},
   "outputs": [],
   "source": [
    "from sklearn.utils.class_weight import compute_class_weight"
   ]
  },
  {
   "cell_type": "code",
   "execution_count": 15,
   "metadata": {},
   "outputs": [
    {
     "data": {
      "text/plain": [
       "array([  0.50192621, 130.28884965])"
      ]
     },
     "execution_count": 15,
     "metadata": {},
     "output_type": "execute_result"
    }
   ],
   "source": [
    "weights = compute_class_weight(\"balanced\", df[\"EXISTE_FRAUDE\"].unique(), df[\"EXISTE_FRAUDE\"])\n",
    "weights"
   ]
  },
  {
   "cell_type": "code",
   "execution_count": 46,
   "metadata": {},
   "outputs": [],
   "source": [
    "rf_params = {\n",
    "#    \"n_estimators\": [40, 100],\n",
    "#    \"min_samples_leaf\": [3, 7],\n",
    "#    \"max_depth\": [3, 5, 10],\n",
    "#    \"max_features\": ['sqrt', 0.5],\n",
    "    \"class_weight\": [{0:1, 1:20}, {0:1, 1:18}, {0:1, 1:25}]\n",
    "}"
   ]
  },
  {
   "cell_type": "code",
   "execution_count": 67,
   "metadata": {},
   "outputs": [],
   "source": [
    "# using without grid\n",
    "rf = RandomForestClassifier(n_estimators=40, max_features=\"sqrt\",\n",
    "                            min_samples_leaf=55, random_state=random_state, n_jobs=-1)\n",
    "# rf.fit(X_full_train, y_full_train)"
   ]
  },
  {
   "cell_type": "code",
   "execution_count": 68,
   "metadata": {
    "scrolled": true
   },
   "outputs": [
    {
     "name": "stdout",
     "output_type": "stream",
     "text": [
      "Comparing 3 parameter setting(s) using 8 CPU thread(s) ( 1 job(s) per thread ).\n"
     ]
    },
    {
     "name": "stderr",
     "output_type": "stream",
     "text": [
      "/home/voolkia/anaconda3/lib/python3.6/site-packages/sklearn/ensemble/base.py:154: UserWarning: Loky-backed parallel loops cannot be called in a multiprocessing, setting n_jobs=1\n",
      "  n_jobs = min(effective_n_jobs(n_jobs), n_estimators)\n",
      "/home/voolkia/anaconda3/lib/python3.6/site-packages/sklearn/ensemble/base.py:154: UserWarning: Loky-backed parallel loops cannot be called in a multiprocessing, setting n_jobs=1\n",
      "  n_jobs = min(effective_n_jobs(n_jobs), n_estimators)\n",
      "/home/voolkia/anaconda3/lib/python3.6/site-packages/sklearn/ensemble/base.py:154: UserWarning: Loky-backed parallel loops cannot be called in a multiprocessing, setting n_jobs=1\n",
      "  n_jobs = min(effective_n_jobs(n_jobs), n_estimators)\n"
     ]
    },
    {
     "data": {
      "text/plain": [
       "RandomForestClassifier(bootstrap=True, class_weight={0: 1, 1: 25},\n",
       "            criterion='gini', max_depth=None, max_features='sqrt',\n",
       "            max_leaf_nodes=None, min_impurity_decrease=0.0,\n",
       "            min_impurity_split=None, min_samples_leaf=55,\n",
       "            min_samples_split=2, min_weight_fraction_leaf=0.0,\n",
       "            n_estimators=40, n_jobs=-1, oob_score=False, random_state=0,\n",
       "            verbose=0, warm_start=False)"
      ]
     },
     "execution_count": 68,
     "metadata": {},
     "output_type": "execute_result"
    }
   ],
   "source": [
    "# TO avoid random sampling,\n",
    "# WE USE GridSearch of hypopt \n",
    "clf = GridSearch(rf, param_grid=rf_params)\n",
    "clf.fit(X_train, y_train, X_val=X_opt, y_val=y_opt, scoring=\"recall\", verbose=True)"
   ]
  },
  {
   "cell_type": "code",
   "execution_count": 69,
   "metadata": {},
   "outputs": [
    {
     "name": "stdout",
     "output_type": "stream",
     "text": [
      "Best Config:\n",
      "{'class_weight': {0: 1, 1: 25}} 0.6605633802816901\n"
     ]
    }
   ],
   "source": [
    "print(\"Best Config:\")\n",
    "print(clf.best_params, clf.best_score)"
   ]
  },
  {
   "cell_type": "code",
   "execution_count": 70,
   "metadata": {},
   "outputs": [
    {
     "name": "stdout",
     "output_type": "stream",
     "text": [
      "Grid scores:\n",
      "0.661 for {'class_weight': {0: 1, 1: 25}}\n",
      "0.627 for {'class_weight': {0: 1, 1: 20}}\n",
      "0.624 for {'class_weight': {0: 1, 1: 18}}\n"
     ]
    }
   ],
   "source": [
    "print(\"Grid scores:\")\n",
    "for params, score in zip(clf.params, clf.scores):\n",
    "    print(\"%0.3f for %r\" % (score, params))"
   ]
  },
  {
   "cell_type": "code",
   "execution_count": 71,
   "metadata": {},
   "outputs": [
    {
     "data": {
      "text/plain": [
       "RandomForestClassifier(bootstrap=True, class_weight={0: 1, 1: 25},\n",
       "            criterion='gini', max_depth=None, max_features='sqrt',\n",
       "            max_leaf_nodes=None, min_impurity_decrease=0.0,\n",
       "            min_impurity_split=None, min_samples_leaf=55,\n",
       "            min_samples_split=2, min_weight_fraction_leaf=0.0,\n",
       "            n_estimators=40, n_jobs=-1, oob_score=False, random_state=0,\n",
       "            verbose=0, warm_start=False)"
      ]
     },
     "execution_count": 71,
     "metadata": {},
     "output_type": "execute_result"
    }
   ],
   "source": [
    "clf.best_estimator_"
   ]
  },
  {
   "cell_type": "code",
   "execution_count": 72,
   "metadata": {},
   "outputs": [
    {
     "data": {
      "text/plain": [
       "(0.38122065727699533, 0.8235593769356846)"
      ]
     },
     "execution_count": 72,
     "metadata": {},
     "output_type": "execute_result"
    }
   ],
   "source": [
    "y_val_pred = clf.best_estimator_.predict(X_val)\n",
    "y_val_f1_bestFI, y_val_rocauc_bestFI = f1_score(y_val, y_val_pred), roc_auc_score(y_val, y_val_pred)\n",
    "y_val_f1_bestFI, y_val_rocauc_bestFI"
   ]
  },
  {
   "cell_type": "code",
   "execution_count": 73,
   "metadata": {},
   "outputs": [
    {
     "data": {
      "text/plain": [
       "array([[70951,   552],\n",
       "       [  107,   203]])"
      ]
     },
     "execution_count": 73,
     "metadata": {},
     "output_type": "execute_result"
    }
   ],
   "source": [
    "confusion_matrix(y_val, y_val_pred)"
   ]
  },
  {
   "cell_type": "code",
   "execution_count": 65,
   "metadata": {},
   "outputs": [
    {
     "data": {
      "text/plain": [
       "array([[106303,    420],\n",
       "       [   259,    282]])"
      ]
     },
     "execution_count": 65,
     "metadata": {},
     "output_type": "execute_result"
    }
   ],
   "source": [
    "confusion_matrix(y_val, y_val_pred)"
   ]
  },
  {
   "cell_type": "markdown",
   "metadata": {},
   "source": [
    "## dumping best current config"
   ]
  },
  {
   "cell_type": "code",
   "execution_count": 208,
   "metadata": {},
   "outputs": [],
   "source": [
    "# with open(ps.path.join(\"models\", \"s1 - cond_preg_fill-1_ class_weight balanced.pickle\"), \"wb\") as file:\n",
    "#     pickle.dump(rf_f, file)"
   ]
  },
  {
   "cell_type": "markdown",
   "metadata": {},
   "source": [
    "## Feature Importance\n",
    "\n",
    "<h3 style=\"color:red\">When reducing the # of features the model get worst</h3>"
   ]
  },
  {
   "cell_type": "code",
   "execution_count": 74,
   "metadata": {},
   "outputs": [
    {
     "data": {
      "text/html": [
       "<div>\n",
       "<style scoped>\n",
       "    .dataframe tbody tr th:only-of-type {\n",
       "        vertical-align: middle;\n",
       "    }\n",
       "\n",
       "    .dataframe tbody tr th {\n",
       "        vertical-align: top;\n",
       "    }\n",
       "\n",
       "    .dataframe thead th {\n",
       "        text-align: right;\n",
       "    }\n",
       "</style>\n",
       "<table border=\"1\" class=\"dataframe\">\n",
       "  <thead>\n",
       "    <tr style=\"text-align: right;\">\n",
       "      <th></th>\n",
       "      <th>cols</th>\n",
       "      <th>fi</th>\n",
       "    </tr>\n",
       "  </thead>\n",
       "  <tbody>\n",
       "    <tr>\n",
       "      <th>11</th>\n",
       "      <td>cond_C12</td>\n",
       "      <td>0.100492</td>\n",
       "    </tr>\n",
       "    <tr>\n",
       "      <th>88</th>\n",
       "      <td>TIPO_EXPED</td>\n",
       "      <td>0.099174</td>\n",
       "    </tr>\n",
       "    <tr>\n",
       "      <th>43</th>\n",
       "      <td>preg_15</td>\n",
       "      <td>0.057843</td>\n",
       "    </tr>\n",
       "    <tr>\n",
       "      <th>29</th>\n",
       "      <td>total_condicion</td>\n",
       "      <td>0.047763</td>\n",
       "    </tr>\n",
       "    <tr>\n",
       "      <th>9</th>\n",
       "      <td>cond_C10</td>\n",
       "      <td>0.047684</td>\n",
       "    </tr>\n",
       "    <tr>\n",
       "      <th>10</th>\n",
       "      <td>cond_C11</td>\n",
       "      <td>0.046140</td>\n",
       "    </tr>\n",
       "    <tr>\n",
       "      <th>54</th>\n",
       "      <td>preg_33</td>\n",
       "      <td>0.043075</td>\n",
       "    </tr>\n",
       "    <tr>\n",
       "      <th>52</th>\n",
       "      <td>preg_31</td>\n",
       "      <td>0.034657</td>\n",
       "    </tr>\n",
       "    <tr>\n",
       "      <th>30</th>\n",
       "      <td>es_gte_5</td>\n",
       "      <td>0.032194</td>\n",
       "    </tr>\n",
       "    <tr>\n",
       "      <th>6</th>\n",
       "      <td>cond_32</td>\n",
       "      <td>0.031895</td>\n",
       "    </tr>\n",
       "  </tbody>\n",
       "</table>\n",
       "</div>"
      ],
      "text/plain": [
       "               cols        fi\n",
       "11         cond_C12  0.100492\n",
       "88       TIPO_EXPED  0.099174\n",
       "43          preg_15  0.057843\n",
       "29  total_condicion  0.047763\n",
       "9          cond_C10  0.047684\n",
       "10         cond_C11  0.046140\n",
       "54          preg_33  0.043075\n",
       "52          preg_31  0.034657\n",
       "30         es_gte_5  0.032194\n",
       "6           cond_32  0.031895"
      ]
     },
     "execution_count": 74,
     "metadata": {},
     "output_type": "execute_result"
    }
   ],
   "source": [
    "rf_fi = pd.DataFrame({'cols':X_train.columns, 'fi':clf.best_estimator_.feature_importances_}).sort_values('fi', ascending=False)\n",
    "rf_fi[:10]"
   ]
  },
  {
   "cell_type": "code",
   "execution_count": 75,
   "metadata": {},
   "outputs": [
    {
     "data": {
      "image/png": "[encoded data removed]",
      "text/plain": [
       "<Figure size 432x288 with 1 Axes>"
      ]
     },
     "metadata": {},
     "output_type": "display_data"
    }
   ],
   "source": [
    "rf_fi[:20].plot.bar(x=\"cols\")\n",
    "plt.xticks(rotation=\"vertical\")\n",
    "plt.show()"
   ]
  },
  {
   "cell_type": "code",
   "execution_count": 76,
   "metadata": {},
   "outputs": [
    {
     "name": "stdout",
     "output_type": "stream",
     "text": [
      "# of features: 39 of 152\n"
     ]
    }
   ],
   "source": [
    "to_keep = list(rf_fi[rf_fi[\"fi\"] >=0.005][\"cols\"].values)\n",
    "print(f\"# of features: {len(to_keep)} of {len(rf_fi)}\")"
   ]
  },
  {
   "cell_type": "code",
   "execution_count": 77,
   "metadata": {},
   "outputs": [
    {
     "data": {
      "text/plain": [
       "['cond_C12',\n",
       " 'TIPO_EXPED',\n",
       " 'preg_15',\n",
       " 'cond_C10',\n",
       " 'cond_C11',\n",
       " 'preg_33',\n",
       " 'preg_31',\n",
       " 'cond_32',\n",
       " 'preg_32',\n",
       " 'preg_34',\n",
       " 'COD_POST_OCURRENCIA',\n",
       " 'COD_CAUSA_SINI',\n",
       " 'COD_POST_POLIZA',\n",
       " 'CODIGO_VEHICULO',\n",
       " 'CAPITAL_ASEGURADO_COTIZACION',\n",
       " 'ANTIG_pol',\n",
       " 'CAPITAL_VEHICULO',\n",
       " 'FECHA_SINI_Dayofyear',\n",
       " 'FECHA_SINI_Elapsed',\n",
       " 'OCUPACION_ASEG',\n",
       " 'COD_PROD',\n",
       " 'cond_C5',\n",
       " 'CANT_RENOVACION',\n",
       " 'FECHA_SINI_Week',\n",
       " 'FECHA_SINI_Day',\n",
       " 'CONDICION_ROBO_EXP50',\n",
       " 'cond_37',\n",
       " 'cond_12',\n",
       " 'COD_ZONA_ROBO',\n",
       " 'dias_entre_denu_y_sini',\n",
       " 'FECHA_SINI_Dayofweek']"
      ]
     },
     "execution_count": 77,
     "metadata": {},
     "output_type": "execute_result"
    }
   ],
   "source": [
    "to_remove = ['COD_POST_POLIZA_RT_CLUSTER_2019', 'COD_POST_OCURRENCIA_RT_CLUSTER_2019',\n",
    "             'COD_POST_OCURRENCIA_RC_CLUSTER_2019',  'COD_POST_POLIZA_RC_CLUSTER_2019',\n",
    "             'COD_POST_OCURRENCIA_DP_CLUSTER_2019', 'COD_POST_POLIZA_DP_CLUSTER_2019',\n",
    "             \"total_condicion\", \"es_gte_5\",\n",
    "            ]\n",
    "for col in to_remove:\n",
    "    to_keep.remove(col)\n",
    "to_keep"
   ]
  },
  {
   "cell_type": "code",
   "execution_count": 78,
   "metadata": {},
   "outputs": [
    {
     "data": {
      "text/plain": [
       "RandomForestClassifier(bootstrap=True, class_weight={0: 1, 1: 25},\n",
       "            criterion='gini', max_depth=None, max_features='sqrt',\n",
       "            max_leaf_nodes=None, min_impurity_decrease=0.0,\n",
       "            min_impurity_split=None, min_samples_leaf=55,\n",
       "            min_samples_split=2, min_weight_fraction_leaf=0.0,\n",
       "            n_estimators=40, n_jobs=-1, oob_score=False, random_state=0,\n",
       "            verbose=0, warm_start=False)"
      ]
     },
     "execution_count": 78,
     "metadata": {},
     "output_type": "execute_result"
    }
   ],
   "source": [
    "# best model\n",
    "clf.best_estimator_"
   ]
  },
  {
   "cell_type": "code",
   "execution_count": 79,
   "metadata": {},
   "outputs": [],
   "source": [
    "X_train_red = X_train[to_keep].copy()"
   ]
  },
  {
   "cell_type": "code",
   "execution_count": 80,
   "metadata": {},
   "outputs": [
    {
     "name": "stdout",
     "output_type": "stream",
     "text": [
      "31\n"
     ]
    }
   ],
   "source": [
    "print(len(X_train_red.columns))"
   ]
  },
  {
   "cell_type": "markdown",
   "metadata": {},
   "source": [
    "### Training again with less features"
   ]
  },
  {
   "cell_type": "code",
   "execution_count": 81,
   "metadata": {},
   "outputs": [
    {
     "data": {
      "text/plain": [
       "RandomForestClassifier(bootstrap=True, class_weight={0: 1, 1: 25},\n",
       "            criterion='gini', max_depth=None, max_features='sqrt',\n",
       "            max_leaf_nodes=None, min_impurity_decrease=0.0,\n",
       "            min_impurity_split=None, min_samples_leaf=55,\n",
       "            min_samples_split=2, min_weight_fraction_leaf=0.0,\n",
       "            n_estimators=40, n_jobs=-1, oob_score=False, random_state=0,\n",
       "            verbose=0, warm_start=False)"
      ]
     },
     "execution_count": 81,
     "metadata": {},
     "output_type": "execute_result"
    }
   ],
   "source": [
    "# rf = RandomForestClassifier(n_estimators=40, max_features=0.5, min_samples_leaf=7, random_state=random_state, n_jobs=-1)\n",
    "rf = copy(clf.best_estimator_)\n",
    "rf.fit(X_train_red, y_train)"
   ]
  },
  {
   "cell_type": "code",
   "execution_count": 82,
   "metadata": {},
   "outputs": [
    {
     "data": {
      "text/plain": [
       "(0.2627345844504021, 0.6557009789347887)"
      ]
     },
     "execution_count": 82,
     "metadata": {},
     "output_type": "execute_result"
    }
   ],
   "source": [
    "y_val_pred = rf.predict(X_val[to_keep])\n",
    "y_val_f1_bestFI, y_val_rocauc_bestFI = f1_score(y_val, y_val_pred), roc_auc_score(y_val, y_val_pred)\n",
    "y_val_f1_bestFI, y_val_rocauc_bestFI"
   ]
  },
  {
   "cell_type": "code",
   "execution_count": 83,
   "metadata": {},
   "outputs": [
    {
     "data": {
      "text/plain": [
       "array([[71165,   338],\n",
       "       [  212,    98]])"
      ]
     },
     "execution_count": 83,
     "metadata": {},
     "output_type": "execute_result"
    }
   ],
   "source": [
    "confusion_matrix(y_val, y_val_pred)"
   ]
  },
  {
   "cell_type": "code",
   "execution_count": 34,
   "metadata": {},
   "outputs": [
    {
     "data": {
      "text/plain": [
       "array([[105782,    941],\n",
       "       [   162,    379]])"
      ]
     },
     "execution_count": 34,
     "metadata": {},
     "output_type": "execute_result"
    }
   ],
   "source": [
    "confusion_matrix(y_val, y_val_pred)"
   ]
  },
  {
   "cell_type": "code",
   "execution_count": 84,
   "metadata": {},
   "outputs": [
    {
     "data": {
      "text/html": [
       "<div>\n",
       "<style scoped>\n",
       "    .dataframe tbody tr th:only-of-type {\n",
       "        vertical-align: middle;\n",
       "    }\n",
       "\n",
       "    .dataframe tbody tr th {\n",
       "        vertical-align: top;\n",
       "    }\n",
       "\n",
       "    .dataframe thead th {\n",
       "        text-align: right;\n",
       "    }\n",
       "</style>\n",
       "<table border=\"1\" class=\"dataframe\">\n",
       "  <thead>\n",
       "    <tr style=\"text-align: right;\">\n",
       "      <th></th>\n",
       "      <th>cols</th>\n",
       "      <th>fi</th>\n",
       "    </tr>\n",
       "  </thead>\n",
       "  <tbody>\n",
       "    <tr>\n",
       "      <th>1</th>\n",
       "      <td>TIPO_EXPED</td>\n",
       "      <td>0.143556</td>\n",
       "    </tr>\n",
       "    <tr>\n",
       "      <th>2</th>\n",
       "      <td>preg_15</td>\n",
       "      <td>0.112987</td>\n",
       "    </tr>\n",
       "    <tr>\n",
       "      <th>3</th>\n",
       "      <td>cond_C10</td>\n",
       "      <td>0.102195</td>\n",
       "    </tr>\n",
       "    <tr>\n",
       "      <th>7</th>\n",
       "      <td>cond_32</td>\n",
       "      <td>0.092817</td>\n",
       "    </tr>\n",
       "    <tr>\n",
       "      <th>4</th>\n",
       "      <td>cond_C11</td>\n",
       "      <td>0.049313</td>\n",
       "    </tr>\n",
       "    <tr>\n",
       "      <th>0</th>\n",
       "      <td>cond_C12</td>\n",
       "      <td>0.043617</td>\n",
       "    </tr>\n",
       "    <tr>\n",
       "      <th>6</th>\n",
       "      <td>preg_31</td>\n",
       "      <td>0.034922</td>\n",
       "    </tr>\n",
       "    <tr>\n",
       "      <th>10</th>\n",
       "      <td>COD_POST_OCURRENCIA</td>\n",
       "      <td>0.034104</td>\n",
       "    </tr>\n",
       "    <tr>\n",
       "      <th>12</th>\n",
       "      <td>COD_POST_POLIZA</td>\n",
       "      <td>0.028758</td>\n",
       "    </tr>\n",
       "    <tr>\n",
       "      <th>13</th>\n",
       "      <td>CODIGO_VEHICULO</td>\n",
       "      <td>0.028343</td>\n",
       "    </tr>\n",
       "  </tbody>\n",
       "</table>\n",
       "</div>"
      ],
      "text/plain": [
       "                   cols        fi\n",
       "1            TIPO_EXPED  0.143556\n",
       "2               preg_15  0.112987\n",
       "3              cond_C10  0.102195\n",
       "7               cond_32  0.092817\n",
       "4              cond_C11  0.049313\n",
       "0              cond_C12  0.043617\n",
       "6               preg_31  0.034922\n",
       "10  COD_POST_OCURRENCIA  0.034104\n",
       "12      COD_POST_POLIZA  0.028758\n",
       "13      CODIGO_VEHICULO  0.028343"
      ]
     },
     "execution_count": 84,
     "metadata": {},
     "output_type": "execute_result"
    }
   ],
   "source": [
    "rf_fi = pd.DataFrame({'cols':X_train_red.columns, 'fi':rf.feature_importances_}).sort_values('fi', ascending=False)\n",
    "rf_fi[:10]"
   ]
  },
  {
   "cell_type": "code",
   "execution_count": 85,
   "metadata": {},
   "outputs": [
    {
     "data": {
      "image/png": "[encoded data removed]",
      "text/plain": [
       "<Figure size 432x288 with 1 Axes>"
      ]
     },
     "metadata": {},
     "output_type": "display_data"
    }
   ],
   "source": [
    "rf_fi[:20].plot.bar(x=\"cols\")\n",
    "plt.xticks(rotation=\"vertical\")\n",
    "plt.show()"
   ]
  },
  {
   "cell_type": "code",
   "execution_count": 78,
   "metadata": {},
   "outputs": [
    {
     "data": {
      "text/plain": [
       "array(['total_condicion', 'cond_C10', 'TIPO_EXPED', 'preg_33', 'cond_32',\n",
       "       'cond_C11', 'CODIGO_VEHICULO', 'preg_32', 'preg_15', 'cond_C12',\n",
       "       'CAPITAL_ASEGURADO_COTIZACION',\n",
       "       'COD_POST_OCURRENCIA_RC_CLUSTER_2019', 'CAPITAL_VEHICULO',\n",
       "       'FECHA_SINI_Dayofyear', 'COD_POST_POLIZA', 'OCUPACION_ASEG',\n",
       "       'ANTIG_pol', 'preg_34', 'COD_POST_OCURRENCIA',\n",
       "       'FECHA_SINI_Elapsed', 'COD_PROD',\n",
       "       'COD_POST_POLIZA_RC_CLUSTER_2019', 'CONDICION_ROBO_EXP50',\n",
       "       'CANT_RENOVACION', 'TIPO_SINIESTRO',\n",
       "       'COD_POST_OCURRENCIA_DP_CLUSTER_2019', 'FECHA_SINI_Day',\n",
       "       'COD_POST_OCURRENCIA_RT_CLUSTER_2019', 'preg_31',\n",
       "       'FECHA_SINI_Week', 'SEGMENTO', 'preg_28',\n",
       "       'COD_POST_POLIZA_DP_CLUSTER_2019', 'FECHA_SINI_Dayofweek',\n",
       "       'COD_ZONA_ROBO', 'COD_POST_POLIZA_RT_CLUSTER_2019',\n",
       "       'FECHA_SINI_Month', 'cond_C5', 'COD_CAUSA_SINI'], dtype=object)"
      ]
     },
     "execution_count": 78,
     "metadata": {},
     "output_type": "execute_result"
    }
   ],
   "source": [
    "# best columns used\n",
    "rf_fi[\"cols\"].values"
   ]
  },
  {
   "cell_type": "markdown",
   "metadata": {},
   "source": [
    "# final model"
   ]
  },
  {
   "cell_type": "code",
   "execution_count": 209,
   "metadata": {},
   "outputs": [],
   "source": [
    "# reset_rf_samples()"
   ]
  },
  {
   "cell_type": "markdown",
   "metadata": {
    "heading_collapsed": true
   },
   "source": [
    "## full features final model"
   ]
  },
  {
   "cell_type": "code",
   "execution_count": 159,
   "metadata": {
    "hidden": true
   },
   "outputs": [
    {
     "data": {
      "text/plain": [
       "RandomForestClassifier(bootstrap=True, class_weight={0: 1, 1: 10},\n",
       "            criterion='gini', max_depth=None, max_features='sqrt',\n",
       "            max_leaf_nodes=None, min_impurity_decrease=0.0,\n",
       "            min_impurity_split=None, min_samples_leaf=100,\n",
       "            min_samples_split=2, min_weight_fraction_leaf=0.0,\n",
       "            n_estimators=40, n_jobs=-1, oob_score=False, random_state=0,\n",
       "            verbose=0, warm_start=False)"
      ]
     },
     "execution_count": 159,
     "metadata": {},
     "output_type": "execute_result"
    }
   ],
   "source": [
    "rf_full = copy(clf.best_estimator_)\n",
    "rf_full.fit(X_full_train, y_full_train)"
   ]
  },
  {
   "cell_type": "code",
   "execution_count": 160,
   "metadata": {
    "hidden": true
   },
   "outputs": [
    {
     "name": "stdout",
     "output_type": "stream",
     "text": [
      "0.554, 0.998\n"
     ]
    }
   ],
   "source": [
    "y_val_pred = rf_full.predict(X_val)\n",
    "y_val_f1_bestFI = f1_score(y_val, y_val_pred)\n",
    "y_val_rocauc_bestFI = roc_auc_score(y_val, rf_full.predict_proba(X_val)[:, -1])\n",
    "print(\"%.3f, %.3f\" % (y_val_f1_bestFI, y_val_rocauc_bestFI))"
   ]
  },
  {
   "cell_type": "code",
   "execution_count": 161,
   "metadata": {
    "hidden": true
   },
   "outputs": [
    {
     "data": {
      "text/plain": [
       "array([[105994,    747],\n",
       "       [    37,    486]])"
      ]
     },
     "execution_count": 161,
     "metadata": {},
     "output_type": "execute_result"
    }
   ],
   "source": [
    "confusion_matrix(y_val, y_val_pred)"
   ]
  },
  {
   "cell_type": "markdown",
   "metadata": {},
   "source": [
    "## red features final model"
   ]
  },
  {
   "cell_type": "code",
   "execution_count": 86,
   "metadata": {},
   "outputs": [
    {
     "data": {
      "text/plain": [
       "RandomForestClassifier(bootstrap=True, class_weight={0: 1, 1: 25},\n",
       "            criterion='gini', max_depth=None, max_features='sqrt',\n",
       "            max_leaf_nodes=None, min_impurity_decrease=0.0,\n",
       "            min_impurity_split=None, min_samples_leaf=55,\n",
       "            min_samples_split=2, min_weight_fraction_leaf=0.0,\n",
       "            n_estimators=40, n_jobs=-1, oob_score=False, random_state=0,\n",
       "            verbose=0, warm_start=False)"
      ]
     },
     "execution_count": 86,
     "metadata": {},
     "output_type": "execute_result"
    }
   ],
   "source": [
    "rf_full = copy(clf.best_estimator_)\n",
    "rf_full.fit(X_full_train[to_keep], y_full_train)"
   ]
  },
  {
   "cell_type": "code",
   "execution_count": 87,
   "metadata": {},
   "outputs": [
    {
     "name": "stdout",
     "output_type": "stream",
     "text": [
      "0.266, 0.964\n"
     ]
    }
   ],
   "source": [
    "y_val_pred_prob = rf_full.predict_proba(X_val[to_keep])[:, -1]\n",
    "y_val_pred = y_val_pred_prob > 0.5\n",
    "y_val_f1_bestFI = f1_score(y_val, y_val_pred)\n",
    "y_val_rocauc_bestFI = roc_auc_score(y_val, y_val_pred_prob)\n",
    "print(\"%.3f, %.3f\" % (y_val_f1_bestFI, y_val_rocauc_bestFI))"
   ]
  },
  {
   "cell_type": "code",
   "execution_count": 89,
   "metadata": {},
   "outputs": [
    {
     "data": {
      "text/plain": [
       "array([[70605,   898],\n",
       "       [  125,   185]])"
      ]
     },
     "execution_count": 89,
     "metadata": {},
     "output_type": "execute_result"
    }
   ],
   "source": [
    "confusion_matrix(y_val, y_val_pred)"
   ]
  },
  {
   "cell_type": "code",
   "execution_count": 66,
   "metadata": {},
   "outputs": [
    {
     "data": {
      "text/plain": [
       "array([[71098,   405],\n",
       "       [  114,   196]])"
      ]
     },
     "execution_count": 66,
     "metadata": {},
     "output_type": "execute_result"
    }
   ],
   "source": [
    "conf_mat = confusion_matrix(y_val, y_val_pred)\n",
    "conf_mat"
   ]
  },
  {
   "cell_type": "code",
   "execution_count": 131,
   "metadata": {},
   "outputs": [
    {
     "data": {
      "text/plain": [
       "<matplotlib.axes._subplots.AxesSubplot at 0x7f6d440d8908>"
      ]
     },
     "execution_count": 131,
     "metadata": {},
     "output_type": "execute_result"
    },
    {
     "data": {
      "image/png": "[encoded data removed]",
      "text/plain": [
       "<Figure size 432x288 with 2 Axes>"
      ]
     },
     "metadata": {},
     "output_type": "display_data"
    }
   ],
   "source": [
    "sns.heatmap(conf_mat, annot=True, fmt=\"d\")"
   ]
  },
  {
   "cell_type": "markdown",
   "metadata": {},
   "source": [
    "## Tronador (sum cond >=5) comparison"
   ]
  },
  {
   "cell_type": "code",
   "execution_count": 39,
   "metadata": {},
   "outputs": [
    {
     "name": "stdout",
     "output_type": "stream",
     "text": [
      "(0.3472949389179756,0.8165133833771018)\n"
     ]
    }
   ],
   "source": [
    "# comparing against > 5 logic\n",
    "y_tronador = X_val[\"total_condicion\"] >= 5\n",
    "print(f\"({f1_score(y_val, y_tronador)},{roc_auc_score(y_val, y_tronador)})\")"
   ]
  },
  {
   "cell_type": "code",
   "execution_count": 40,
   "metadata": {},
   "outputs": [
    {
     "data": {
      "text/plain": [
       "array([[70866,   637],\n",
       "       [  111,   199]])"
      ]
     },
     "execution_count": 40,
     "metadata": {},
     "output_type": "execute_result"
    }
   ],
   "source": [
    "conf_mat = confusion_matrix(y_val, y_tronador)\n",
    "conf_mat"
   ]
  },
  {
   "cell_type": "code",
   "execution_count": 129,
   "metadata": {},
   "outputs": [
    {
     "data": {
      "text/plain": [
       "<matplotlib.axes._subplots.AxesSubplot at 0x7f6d470afa58>"
      ]
     },
     "execution_count": 129,
     "metadata": {},
     "output_type": "execute_result"
    },
    {
     "data": {
      "image/png": "[encoded data removed]",
      "text/plain": [
       "<Figure size 432x288 with 2 Axes>"
      ]
     },
     "metadata": {},
     "output_type": "display_data"
    }
   ],
   "source": [
    "sns.heatmap(conf_mat, annot=True, fmt=\"d\")"
   ]
  },
  {
   "cell_type": "code",
   "execution_count": null,
   "metadata": {},
   "outputs": [],
   "source": []
  },
  {
   "cell_type": "markdown",
   "metadata": {},
   "source": [
    "# Saving final model & columns used into hard drive"
   ]
  },
  {
   "cell_type": "code",
   "execution_count": 112,
   "metadata": {},
   "outputs": [],
   "source": [
    "path_to_save = \"../../src/models/1.1 - df_train 01-18to12-18/\"\n",
    "model_file = os.path.join(path_to_save, \"1.1.a (Model) - Model Optimization recall - class_weight balanced - time sorted - valid score (0.452, 0.978).pickle\")\n",
    "\n",
    "with open(model_file, \"wb\") as f:\n",
    "    pickle.dump(rf_full, f, pickle.HIGHEST_PROTOCOL)"
   ]
  },
  {
   "cell_type": "code",
   "execution_count": 113,
   "metadata": {},
   "outputs": [],
   "source": [
    "# save file for humans\n",
    "# model_file = \"../../models/1.0 - df_train with nan 01-17to12-18/1.0 - Model for humans - Model Optimization - class_weight balanced - time sorted - valid score (0.696, 0.999).pickle\"\n",
    "\n",
    "# with open(model_file, \"wb\") as f:\n",
    "#    pickle.dump(rf_full, f, 0) # 0 is human readable format"
   ]
  },
  {
   "cell_type": "code",
   "execution_count": 114,
   "metadata": {},
   "outputs": [
    {
     "name": "stdout",
     "output_type": "stream",
     "text": [
      "['cond_C12', 'preg_33', 'total_condicion', 'cond_C10', 'cond_32', 'TIPO_EXPED', 'cond_C11', 'preg_15', 'preg_31', 'preg_32', 'COD_POST_OCURRENCIA', 'preg_34', 'COD_CAUSA_SINI', 'COD_POST_POLIZA', 'COD_POSTAL', 'cond_12', 'CAPITAL_VEHICULO', 'CODIGO_VEHICULO', 'ANTIG_pol', 'FECHA_SINI_Dayofyear', 'COD_PROD', 'FECHA_SINI_Elapsed', 'OCUPACION_ASEG', 'CANT_RENOVACION', 'CAPITAL_ASEGURADO_COTIZACION', 'FECHA_SINI_Week', 'COD_ZONA_ROBO', 'FECHA_SINI_Day', 'preg_27', 'dias_entre_denu_y_sini', 'cond_C2', 'FECHA_SINI_Month', 'FECHA_SINI_Dayofweek', 'SEGMENTO', 'CONV_COMISIONARIO', 'COD_ZONA_RC', 'TIPO_SINIESTRO', 'EXISTE_FRAUDE']\n"
     ]
    }
   ],
   "source": [
    "# merging list input & target\n",
    "full_cols = list(to_keep) + [\"EXISTE_FRAUDE\"]\n",
    "print(full_cols)"
   ]
  },
  {
   "cell_type": "code",
   "execution_count": 115,
   "metadata": {},
   "outputs": [],
   "source": [
    "path_to_save = \"../../src/features/1.1 - df_train 01-18to12-18/\"\n",
    "columns_file = os.path.join(path_to_save, \"1.1.a (COLUMNS) - Model Optimization - class_weight balanced - time sorted - valid score (0.696, 0.999).pickle\")\n",
    "\n",
    "with open(columns_file, \"wb\") as file:\n",
    "    pickle.dump(full_cols, file, pickle.HIGHEST_PROTOCOL)"
   ]
  },
  {
   "cell_type": "code",
   "execution_count": 127,
   "metadata": {},
   "outputs": [],
   "source": [
    "# saving for example a few rows to implement the model\n",
    "path_to_save = \"../../src/data/1.1 - df_train 01-18to12-18/\"\n",
    "sample_file = os.path.join(path_to_save, \"1.1.a. (sample)  - dataset example to predict model.csv\")\n",
    "\n",
    "df_example = X_val.loc[:, to_keep][-50:]\n",
    "df_example[\"EXISTE_FRAUDE\"] = y_val[-50:]\n",
    "df_example.to_csv(sample_file)"
   ]
  },
  {
   "cell_type": "code",
   "execution_count": 126,
   "metadata": {},
   "outputs": [
    {
     "data": {
      "text/html": [
       "<div>\n",
       "<style scoped>\n",
       "    .dataframe tbody tr th:only-of-type {\n",
       "        vertical-align: middle;\n",
       "    }\n",
       "\n",
       "    .dataframe tbody tr th {\n",
       "        vertical-align: top;\n",
       "    }\n",
       "\n",
       "    .dataframe thead th {\n",
       "        text-align: right;\n",
       "    }\n",
       "</style>\n",
       "<table border=\"1\" class=\"dataframe\">\n",
       "  <thead>\n",
       "    <tr style=\"text-align: right;\">\n",
       "      <th></th>\n",
       "      <th>cond_C12</th>\n",
       "      <th>preg_33</th>\n",
       "      <th>total_condicion</th>\n",
       "      <th>cond_C10</th>\n",
       "      <th>cond_32</th>\n",
       "      <th>TIPO_EXPED</th>\n",
       "      <th>cond_C11</th>\n",
       "      <th>preg_15</th>\n",
       "      <th>preg_31</th>\n",
       "      <th>preg_32</th>\n",
       "      <th>COD_POST_OCURRENCIA</th>\n",
       "      <th>preg_34</th>\n",
       "      <th>COD_CAUSA_SINI</th>\n",
       "      <th>COD_POST_POLIZA</th>\n",
       "      <th>COD_POSTAL</th>\n",
       "      <th>cond_12</th>\n",
       "      <th>CAPITAL_VEHICULO</th>\n",
       "      <th>CODIGO_VEHICULO</th>\n",
       "      <th>ANTIG_pol</th>\n",
       "      <th>FECHA_SINI_Dayofyear</th>\n",
       "      <th>COD_PROD</th>\n",
       "      <th>FECHA_SINI_Elapsed</th>\n",
       "      <th>OCUPACION_ASEG</th>\n",
       "      <th>CANT_RENOVACION</th>\n",
       "      <th>CAPITAL_ASEGURADO_COTIZACION</th>\n",
       "      <th>FECHA_SINI_Week</th>\n",
       "      <th>COD_ZONA_ROBO</th>\n",
       "      <th>FECHA_SINI_Day</th>\n",
       "      <th>preg_27</th>\n",
       "      <th>dias_entre_denu_y_sini</th>\n",
       "      <th>cond_C2</th>\n",
       "      <th>FECHA_SINI_Month</th>\n",
       "      <th>FECHA_SINI_Dayofweek</th>\n",
       "      <th>SEGMENTO</th>\n",
       "      <th>CONV_COMISIONARIO</th>\n",
       "      <th>COD_ZONA_RC</th>\n",
       "      <th>TIPO_SINIESTRO</th>\n",
       "      <th>EXISTE_FRAUDE</th>\n",
       "    </tr>\n",
       "  </thead>\n",
       "  <tbody>\n",
       "    <tr>\n",
       "      <th>107214</th>\n",
       "      <td>-1.0</td>\n",
       "      <td>-1</td>\n",
       "      <td>3.0</td>\n",
       "      <td>-1.0</td>\n",
       "      <td>-1.0</td>\n",
       "      <td>4</td>\n",
       "      <td>-1.0</td>\n",
       "      <td>-1</td>\n",
       "      <td>-1</td>\n",
       "      <td>-1</td>\n",
       "      <td>1900000.0</td>\n",
       "      <td>-1</td>\n",
       "      <td>501.0</td>\n",
       "      <td>1900000.0</td>\n",
       "      <td>1900000.0</td>\n",
       "      <td>-1.0</td>\n",
       "      <td>9743</td>\n",
       "      <td>32848.0</td>\n",
       "      <td>0.0</td>\n",
       "      <td>80.0</td>\n",
       "      <td>74233.0</td>\n",
       "      <td>1553126400</td>\n",
       "      <td>5.0</td>\n",
       "      <td>1.0</td>\n",
       "      <td>4362</td>\n",
       "      <td>12.0</td>\n",
       "      <td>6.0</td>\n",
       "      <td>21.0</td>\n",
       "      <td>-1</td>\n",
       "      <td>26.0</td>\n",
       "      <td>-1.0</td>\n",
       "      <td>3.0</td>\n",
       "      <td>3.0</td>\n",
       "      <td>-1</td>\n",
       "      <td>39</td>\n",
       "      <td>9.0</td>\n",
       "      <td>3</td>\n",
       "      <td>False</td>\n",
       "    </tr>\n",
       "    <tr>\n",
       "      <th>107215</th>\n",
       "      <td>-1.0</td>\n",
       "      <td>-1</td>\n",
       "      <td>0.0</td>\n",
       "      <td>-1.0</td>\n",
       "      <td>-1.0</td>\n",
       "      <td>2</td>\n",
       "      <td>-1.0</td>\n",
       "      <td>-1</td>\n",
       "      <td>-1</td>\n",
       "      <td>-1</td>\n",
       "      <td>1274000.0</td>\n",
       "      <td>-1</td>\n",
       "      <td>501.0</td>\n",
       "      <td>1417000.0</td>\n",
       "      <td>1417000.0</td>\n",
       "      <td>-1.0</td>\n",
       "      <td>6156</td>\n",
       "      <td>5786.0</td>\n",
       "      <td>488.0</td>\n",
       "      <td>66.0</td>\n",
       "      <td>23402.0</td>\n",
       "      <td>1551916800</td>\n",
       "      <td>44.0</td>\n",
       "      <td>17.0</td>\n",
       "      <td>2868</td>\n",
       "      <td>10.0</td>\n",
       "      <td>3.0</td>\n",
       "      <td>7.0</td>\n",
       "      <td>-1</td>\n",
       "      <td>85.0</td>\n",
       "      <td>-1.0</td>\n",
       "      <td>3.0</td>\n",
       "      <td>3.0</td>\n",
       "      <td>5</td>\n",
       "      <td>3</td>\n",
       "      <td>1.0</td>\n",
       "      <td>7</td>\n",
       "      <td>False</td>\n",
       "    </tr>\n",
       "    <tr>\n",
       "      <th>107216</th>\n",
       "      <td>-1.0</td>\n",
       "      <td>-1</td>\n",
       "      <td>0.0</td>\n",
       "      <td>-1.0</td>\n",
       "      <td>-1.0</td>\n",
       "      <td>3</td>\n",
       "      <td>-1.0</td>\n",
       "      <td>-1</td>\n",
       "      <td>-1</td>\n",
       "      <td>-1</td>\n",
       "      <td>1274000.0</td>\n",
       "      <td>-1</td>\n",
       "      <td>501.0</td>\n",
       "      <td>1417000.0</td>\n",
       "      <td>1417000.0</td>\n",
       "      <td>-1.0</td>\n",
       "      <td>6156</td>\n",
       "      <td>5786.0</td>\n",
       "      <td>488.0</td>\n",
       "      <td>66.0</td>\n",
       "      <td>23402.0</td>\n",
       "      <td>1551916800</td>\n",
       "      <td>44.0</td>\n",
       "      <td>17.0</td>\n",
       "      <td>2868</td>\n",
       "      <td>10.0</td>\n",
       "      <td>3.0</td>\n",
       "      <td>7.0</td>\n",
       "      <td>-1</td>\n",
       "      <td>85.0</td>\n",
       "      <td>-1.0</td>\n",
       "      <td>3.0</td>\n",
       "      <td>3.0</td>\n",
       "      <td>5</td>\n",
       "      <td>3</td>\n",
       "      <td>1.0</td>\n",
       "      <td>7</td>\n",
       "      <td>False</td>\n",
       "    </tr>\n",
       "    <tr>\n",
       "      <th>107217</th>\n",
       "      <td>-1.0</td>\n",
       "      <td>-1</td>\n",
       "      <td>0.0</td>\n",
       "      <td>-1.0</td>\n",
       "      <td>-1.0</td>\n",
       "      <td>2</td>\n",
       "      <td>-1.0</td>\n",
       "      <td>-1</td>\n",
       "      <td>-1</td>\n",
       "      <td>-1</td>\n",
       "      <td>4129004.0</td>\n",
       "      <td>-1</td>\n",
       "      <td>501.0</td>\n",
       "      <td>4128006.0</td>\n",
       "      <td>4128006.0</td>\n",
       "      <td>-1.0</td>\n",
       "      <td>7430</td>\n",
       "      <td>2146.0</td>\n",
       "      <td>154.0</td>\n",
       "      <td>53.0</td>\n",
       "      <td>73500.0</td>\n",
       "      <td>1550793600</td>\n",
       "      <td>9.0</td>\n",
       "      <td>7.0</td>\n",
       "      <td>2844</td>\n",
       "      <td>8.0</td>\n",
       "      <td>3.0</td>\n",
       "      <td>22.0</td>\n",
       "      <td>-1</td>\n",
       "      <td>98.0</td>\n",
       "      <td>-1.0</td>\n",
       "      <td>2.0</td>\n",
       "      <td>4.0</td>\n",
       "      <td>-1</td>\n",
       "      <td>33</td>\n",
       "      <td>4.0</td>\n",
       "      <td>4</td>\n",
       "      <td>False</td>\n",
       "    </tr>\n",
       "    <tr>\n",
       "      <th>107218</th>\n",
       "      <td>-1.0</td>\n",
       "      <td>-1</td>\n",
       "      <td>0.0</td>\n",
       "      <td>-1.0</td>\n",
       "      <td>-1.0</td>\n",
       "      <td>2</td>\n",
       "      <td>-1.0</td>\n",
       "      <td>-1</td>\n",
       "      <td>-1</td>\n",
       "      <td>-1</td>\n",
       "      <td>2812004.0</td>\n",
       "      <td>-1</td>\n",
       "      <td>505.0</td>\n",
       "      <td>2812000.0</td>\n",
       "      <td>2812000.0</td>\n",
       "      <td>-1.0</td>\n",
       "      <td>6225</td>\n",
       "      <td>12747.0</td>\n",
       "      <td>856.0</td>\n",
       "      <td>69.0</td>\n",
       "      <td>73500.0</td>\n",
       "      <td>1552176000</td>\n",
       "      <td>5.0</td>\n",
       "      <td>30.0</td>\n",
       "      <td>2965</td>\n",
       "      <td>10.0</td>\n",
       "      <td>3.0</td>\n",
       "      <td>10.0</td>\n",
       "      <td>-1</td>\n",
       "      <td>3.0</td>\n",
       "      <td>-1.0</td>\n",
       "      <td>3.0</td>\n",
       "      <td>6.0</td>\n",
       "      <td>-1</td>\n",
       "      <td>33</td>\n",
       "      <td>4.0</td>\n",
       "      <td>7</td>\n",
       "      <td>False</td>\n",
       "    </tr>\n",
       "  </tbody>\n",
       "</table>\n",
       "</div>"
      ],
      "text/plain": [
       "        cond_C12  preg_33  total_condicion  cond_C10  cond_32  TIPO_EXPED  \\\n",
       "107214      -1.0       -1              3.0      -1.0     -1.0           4   \n",
       "107215      -1.0       -1              0.0      -1.0     -1.0           2   \n",
       "107216      -1.0       -1              0.0      -1.0     -1.0           3   \n",
       "107217      -1.0       -1              0.0      -1.0     -1.0           2   \n",
       "107218      -1.0       -1              0.0      -1.0     -1.0           2   \n",
       "\n",
       "        cond_C11  preg_15  preg_31  preg_32  COD_POST_OCURRENCIA  preg_34  \\\n",
       "107214      -1.0       -1       -1       -1            1900000.0       -1   \n",
       "107215      -1.0       -1       -1       -1            1274000.0       -1   \n",
       "107216      -1.0       -1       -1       -1            1274000.0       -1   \n",
       "107217      -1.0       -1       -1       -1            4129004.0       -1   \n",
       "107218      -1.0       -1       -1       -1            2812004.0       -1   \n",
       "\n",
       "        COD_CAUSA_SINI  COD_POST_POLIZA  COD_POSTAL  cond_12  \\\n",
       "107214           501.0        1900000.0   1900000.0     -1.0   \n",
       "107215           501.0        1417000.0   1417000.0     -1.0   \n",
       "107216           501.0        1417000.0   1417000.0     -1.0   \n",
       "107217           501.0        4128006.0   4128006.0     -1.0   \n",
       "107218           505.0        2812000.0   2812000.0     -1.0   \n",
       "\n",
       "        CAPITAL_VEHICULO  CODIGO_VEHICULO  ANTIG_pol  FECHA_SINI_Dayofyear  \\\n",
       "107214              9743          32848.0        0.0                  80.0   \n",
       "107215              6156           5786.0      488.0                  66.0   \n",
       "107216              6156           5786.0      488.0                  66.0   \n",
       "107217              7430           2146.0      154.0                  53.0   \n",
       "107218              6225          12747.0      856.0                  69.0   \n",
       "\n",
       "        COD_PROD  FECHA_SINI_Elapsed  OCUPACION_ASEG  CANT_RENOVACION  \\\n",
       "107214   74233.0          1553126400             5.0              1.0   \n",
       "107215   23402.0          1551916800            44.0             17.0   \n",
       "107216   23402.0          1551916800            44.0             17.0   \n",
       "107217   73500.0          1550793600             9.0              7.0   \n",
       "107218   73500.0          1552176000             5.0             30.0   \n",
       "\n",
       "        CAPITAL_ASEGURADO_COTIZACION  FECHA_SINI_Week  COD_ZONA_ROBO  \\\n",
       "107214                          4362             12.0            6.0   \n",
       "107215                          2868             10.0            3.0   \n",
       "107216                          2868             10.0            3.0   \n",
       "107217                          2844              8.0            3.0   \n",
       "107218                          2965             10.0            3.0   \n",
       "\n",
       "        FECHA_SINI_Day  preg_27  dias_entre_denu_y_sini  cond_C2  \\\n",
       "107214            21.0       -1                    26.0     -1.0   \n",
       "107215             7.0       -1                    85.0     -1.0   \n",
       "107216             7.0       -1                    85.0     -1.0   \n",
       "107217            22.0       -1                    98.0     -1.0   \n",
       "107218            10.0       -1                     3.0     -1.0   \n",
       "\n",
       "        FECHA_SINI_Month  FECHA_SINI_Dayofweek  SEGMENTO  CONV_COMISIONARIO  \\\n",
       "107214               3.0                   3.0        -1                 39   \n",
       "107215               3.0                   3.0         5                  3   \n",
       "107216               3.0                   3.0         5                  3   \n",
       "107217               2.0                   4.0        -1                 33   \n",
       "107218               3.0                   6.0        -1                 33   \n",
       "\n",
       "        COD_ZONA_RC  TIPO_SINIESTRO  EXISTE_FRAUDE  \n",
       "107214          9.0               3          False  \n",
       "107215          1.0               7          False  \n",
       "107216          1.0               7          False  \n",
       "107217          4.0               4          False  \n",
       "107218          4.0               7          False  "
      ]
     },
     "execution_count": 126,
     "metadata": {},
     "output_type": "execute_result"
    }
   ],
   "source": [
    "df_example.head()"
   ]
  },
  {
   "cell_type": "code",
   "execution_count": null,
   "metadata": {},
   "outputs": [],
   "source": []
  }
 ],
 "metadata": {
  "kernelspec": {
   "display_name": "Python 3",
   "language": "python",
   "name": "python3"
  },
  "language_info": {
   "codemirror_mode": {
    "name": "ipython",
    "version": 3
   },
   "file_extension": ".py",
   "mimetype": "text/x-python",
   "name": "python",
   "nbconvert_exporter": "python",
   "pygments_lexer": "ipython3",
   "version": "3.6.8"
  },
  "varInspector": {
   "cols": {
    "lenName": 16,
    "lenType": 16,
    "lenVar": 40
   },
   "kernels_config": {
    "python": {
     "delete_cmd_postfix": "",
     "delete_cmd_prefix": "del ",
     "library": "var_list.py",
     "varRefreshCmd": "print(var_dic_list())"
    },
    "r": {
     "delete_cmd_postfix": ") ",
     "delete_cmd_prefix": "rm(",
     "library": "var_list.r",
     "varRefreshCmd": "cat(var_dic_list()) "
    }
   },
   "types_to_exclude": [
    "module",
    "function",
    "builtin_function_or_method",
    "instance",
    "_Feature"
   ],
   "window_display": false
  }
 },
 "nbformat": 4,
 "nbformat_minor": 2
}
