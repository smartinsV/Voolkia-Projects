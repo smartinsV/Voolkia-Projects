{
 "cells": [
  {
   "cell_type": "code",
   "execution_count": 1,
   "metadata": {},
   "outputs": [],
   "source": [
    "import os\n",
    "\n",
    "import pandas as pd"
   ]
  },
  {
   "cell_type": "code",
   "execution_count": 2,
   "metadata": {},
   "outputs": [],
   "source": [
    "# general configs\n",
    "pd.set_option(\"display.max_columns\", 500)"
   ]
  },
  {
   "cell_type": "markdown",
   "metadata": {},
   "source": [
    "# analysis"
   ]
  },
  {
   "cell_type": "code",
   "execution_count": 5,
   "metadata": {},
   "outputs": [],
   "source": [
    "# setting configs and constants\n",
    "# path to dataset\n",
    "PATH = \"../../../data/interim/1. col_red\"\n",
    "FILENAME = \"tb_cif-red_col.feather\"\n",
    "FILE = os.path.join(PATH, FILENAME)\n",
    "\n",
    "if not(os.path.exists(FILE) and os.path.isfile(FILE)):\n",
    "    raise Exception(\"File doesn't exists.\")"
   ]
  },
  {
   "cell_type": "markdown",
   "metadata": {},
   "source": [
    "## Loading database"
   ]
  },
  {
   "cell_type": "code",
   "execution_count": 6,
   "metadata": {},
   "outputs": [
    {
     "name": "stdout",
     "output_type": "stream",
     "text": [
      "<class 'pandas.core.frame.DataFrame'>\n",
      "RangeIndex: 174922 entries, 0 to 174921\n",
      "Data columns (total 11 columns):\n",
      "APELLIDO                   174900 non-null object\n",
      "APELLIDO_NOMBRES           174921 non-null object\n",
      "CLIENTE                    129422 non-null object\n",
      "CODIGO_NACION              172133 non-null object\n",
      "DATECO_TIPO_ACTIVIDAD      112412 non-null object\n",
      "DOMICILIO_BARRIO           38130 non-null object\n",
      "DOMICILIO_CODIGO_POSTAL    148152 non-null float64\n",
      "FECHA_NACIMIENTO           169854 non-null datetime64[ns]\n",
      "HABILITADO                 38716 non-null object\n",
      "ID                         174922 non-null int64\n",
      "SEXO                       172271 non-null object\n",
      "dtypes: datetime64[ns](1), float64(1), int64(1), object(8)\n",
      "memory usage: 14.7+ MB\n"
     ]
    }
   ],
   "source": [
    "# usecols = []\n",
    "df = pd.read_feather(FILE)\n",
    "df.info()"
   ]
  },
  {
   "cell_type": "code",
   "execution_count": 8,
   "metadata": {},
   "outputs": [
    {
     "name": "stdout",
     "output_type": "stream",
     "text": [
      "<class 'pandas.core.frame.DataFrame'>\n",
      "RangeIndex: 174922 entries, 0 to 174921\n",
      "Data columns (total 11 columns):\n",
      "APELLIDO                   174900 non-null object\n",
      "APELLIDO_NOMBRES           174921 non-null object\n",
      "CLIENTE                    129422 non-null object\n",
      "CODIGO_NACION              172133 non-null object\n",
      "DATECO_TIPO_ACTIVIDAD      112412 non-null object\n",
      "DOMICILIO_BARRIO           38130 non-null object\n",
      "DOMICILIO_CODIGO_POSTAL    148152 non-null float64\n",
      "FECHA_NACIMIENTO           169854 non-null datetime64[ns]\n",
      "HABILITADO                 38716 non-null object\n",
      "CIF_ID                     174922 non-null int64\n",
      "SEXO                       172271 non-null object\n",
      "dtypes: datetime64[ns](1), float64(1), int64(1), object(8)\n",
      "memory usage: 14.7+ MB\n"
     ]
    }
   ],
   "source": [
    "# RENAME ID by CIF_ID\n",
    "df.rename(columns={\"ID\": \"CIF_ID\"}, inplace=True)\n",
    "df.info()"
   ]
  },
  {
   "cell_type": "code",
   "execution_count": 11,
   "metadata": {},
   "outputs": [],
   "source": [
    "# drop repeated columns\n",
    "cols_to_drop = [\"SEXO\", \"FECHA_NACIMIENTO\", \"APELLIDO\", \"APELLIDO_NOMBRES\", \"DOMICILIO_BARRIO\"]\n",
    "df.drop(columns=cols_to_drop, inplace=True)"
   ]
  },
  {
   "cell_type": "code",
   "execution_count": 12,
   "metadata": {},
   "outputs": [
    {
     "name": "stdout",
     "output_type": "stream",
     "text": [
      "<class 'pandas.core.frame.DataFrame'>\n",
      "RangeIndex: 174922 entries, 0 to 174921\n",
      "Data columns (total 7 columns):\n",
      "CLIENTE                    129422 non-null object\n",
      "CODIGO_NACION              172133 non-null object\n",
      "DATECO_TIPO_ACTIVIDAD      112412 non-null object\n",
      "DOMICILIO_BARRIO           38130 non-null object\n",
      "DOMICILIO_CODIGO_POSTAL    148152 non-null float64\n",
      "HABILITADO                 38716 non-null object\n",
      "CIF_ID                     174922 non-null int64\n",
      "dtypes: float64(1), int64(1), object(5)\n",
      "memory usage: 9.3+ MB\n"
     ]
    }
   ],
   "source": [
    "df.info()"
   ]
  },
  {
   "cell_type": "markdown",
   "metadata": {},
   "source": [
    "# save into file"
   ]
  },
  {
   "cell_type": "code",
   "execution_count": 16,
   "metadata": {},
   "outputs": [
    {
     "data": {
      "text/plain": [
       "'tb_cif-red_col'"
      ]
     },
     "execution_count": 16,
     "metadata": {},
     "output_type": "execute_result"
    }
   ],
   "source": [
    "file_save = FILENAME.split(\".\")[0]\n",
    "file_save"
   ]
  },
  {
   "cell_type": "code",
   "execution_count": 17,
   "metadata": {},
   "outputs": [],
   "source": [
    "to_save = f\"../../../data/interim/2. col_red_min/{file_save}-red_rows-clean.feather\"\n",
    "df.reset_index(drop=True).to_feather(to_save)"
   ]
  },
  {
   "cell_type": "code",
   "execution_count": null,
   "metadata": {},
   "outputs": [],
   "source": []
  }
 ],
 "metadata": {
  "kernelspec": {
   "display_name": "Python 3",
   "language": "python",
   "name": "python3"
  },
  "language_info": {
   "codemirror_mode": {
    "name": "ipython",
    "version": 3
   },
   "file_extension": ".py",
   "mimetype": "text/x-python",
   "name": "python",
   "nbconvert_exporter": "python",
   "pygments_lexer": "ipython3",
   "version": "3.6.8"
  },
  "varInspector": {
   "cols": {
    "lenName": 16,
    "lenType": 16,
    "lenVar": 40
   },
   "kernels_config": {
    "python": {
     "delete_cmd_postfix": "",
     "delete_cmd_prefix": "del ",
     "library": "var_list.py",
     "varRefreshCmd": "print(var_dic_list())"
    },
    "r": {
     "delete_cmd_postfix": ") ",
     "delete_cmd_prefix": "rm(",
     "library": "var_list.r",
     "varRefreshCmd": "cat(var_dic_list()) "
    }
   },
   "types_to_exclude": [
    "module",
    "function",
    "builtin_function_or_method",
    "instance",
    "_Feature"
   ],
   "window_display": false
  }
 },
 "nbformat": 4,
 "nbformat_minor": 2
}
