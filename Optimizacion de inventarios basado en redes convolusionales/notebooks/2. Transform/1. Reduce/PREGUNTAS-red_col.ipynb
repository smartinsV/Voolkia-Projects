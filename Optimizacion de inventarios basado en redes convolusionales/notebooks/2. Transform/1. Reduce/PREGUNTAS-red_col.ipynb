{
 "cells": [
  {
   "cell_type": "code",
   "execution_count": 1,
   "metadata": {},
   "outputs": [],
   "source": [
    "import os\n",
    "\n",
    "import pandas as pd"
   ]
  },
  {
   "cell_type": "code",
   "execution_count": 2,
   "metadata": {},
   "outputs": [],
   "source": [
    "# display tables options\n",
    "pd.set_option(\"display.max_columns\", 500)\n",
    "pd.set_option(\"display.max_rows\", 500)"
   ]
  },
  {
   "cell_type": "code",
   "execution_count": 3,
   "metadata": {},
   "outputs": [
    {
     "data": {
      "text/plain": [
       "'../../../data/interim/1. col_red/PREGUNTAS-red_col.feather'"
      ]
     },
     "execution_count": 3,
     "metadata": {},
     "output_type": "execute_result"
    }
   ],
   "source": [
    "# creating the path\n",
    "path = \"../../../data/raw\"\n",
    "save_to_path = \"../../../data/interim/1. col_red\"\n",
    "# file\n",
    "filename = \"PREGUNTAS.csv\"\n",
    "filename_to_save = os.path.join(save_to_path, filename.split(\".\")[0]+\"-red_col.feather\")\n",
    "filename_to_save"
   ]
  },
  {
   "cell_type": "code",
   "execution_count": 4,
   "metadata": {},
   "outputs": [
    {
     "name": "stdout",
     "output_type": "stream",
     "text": [
      "ok\n"
     ]
    }
   ],
   "source": [
    "# checking the path\n",
    "file = os.path.join(path, filename)\n",
    "if not(os.path.exists(file) and os.path.isfile(file)):\n",
    "    raise Exception(\"File {} doesn't exists.\".format(file))\n",
    "else:\n",
    "    print(\"ok\")"
   ]
  },
  {
   "cell_type": "code",
   "execution_count": 6,
   "metadata": {},
   "outputs": [],
   "source": [
    "usecols = ['COD_PREGUNTA', 'FEC_ACT', 'NUM_SECU_EXPED', 'TIPO_EXPED', 'VALOR_PREGUNTA', ]"
   ]
  },
  {
   "cell_type": "markdown",
   "metadata": {},
   "source": [
    "## Loading the dataset"
   ]
  },
  {
   "cell_type": "code",
   "execution_count": 7,
   "metadata": {},
   "outputs": [
    {
     "name": "stdout",
     "output_type": "stream",
     "text": [
      "<class 'pandas.core.frame.DataFrame'>\n",
      "RangeIndex: 1808628 entries, 0 to 1808627\n",
      "Data columns (total 5 columns):\n",
      "NUM_SECU_EXPED    int64\n",
      "TIPO_EXPED        int64\n",
      "COD_PREGUNTA      int64\n",
      "VALOR_PREGUNTA    object\n",
      "FEC_ACT           object\n",
      "dtypes: int64(3), object(2)\n",
      "memory usage: 69.0+ MB\n"
     ]
    }
   ],
   "source": [
    "df = pd.read_csv(file, usecols=usecols)\n",
    "df.info()"
   ]
  },
  {
   "cell_type": "code",
   "execution_count": 8,
   "metadata": {},
   "outputs": [
    {
     "data": {
      "text/html": [
       "<div>\n",
       "<style scoped>\n",
       "    .dataframe tbody tr th:only-of-type {\n",
       "        vertical-align: middle;\n",
       "    }\n",
       "\n",
       "    .dataframe tbody tr th {\n",
       "        vertical-align: top;\n",
       "    }\n",
       "\n",
       "    .dataframe thead th {\n",
       "        text-align: right;\n",
       "    }\n",
       "</style>\n",
       "<table border=\"1\" class=\"dataframe\">\n",
       "  <thead>\n",
       "    <tr style=\"text-align: right;\">\n",
       "      <th></th>\n",
       "      <th>COD_PREGUNTA</th>\n",
       "      <th>FEC_ACT</th>\n",
       "      <th>NUM_SECU_EXPED</th>\n",
       "      <th>TIPO_EXPED</th>\n",
       "      <th>VALOR_PREGUNTA</th>\n",
       "    </tr>\n",
       "  </thead>\n",
       "  <tbody>\n",
       "    <tr>\n",
       "      <th>0</th>\n",
       "      <td>9</td>\n",
       "      <td>7/3/2017</td>\n",
       "      <td>1651669769999</td>\n",
       "      <td>2</td>\n",
       "      <td>AMB</td>\n",
       "    </tr>\n",
       "    <tr>\n",
       "      <th>1</th>\n",
       "      <td>18</td>\n",
       "      <td>8/3/2017</td>\n",
       "      <td>1605473309999</td>\n",
       "      <td>50</td>\n",
       "      <td>T2</td>\n",
       "    </tr>\n",
       "    <tr>\n",
       "      <th>2</th>\n",
       "      <td>15</td>\n",
       "      <td>8/3/2017</td>\n",
       "      <td>1605473309999</td>\n",
       "      <td>50</td>\n",
       "      <td>N</td>\n",
       "    </tr>\n",
       "    <tr>\n",
       "      <th>1808623</th>\n",
       "      <td>31</td>\n",
       "      <td>19/3/2019</td>\n",
       "      <td>1931299409999</td>\n",
       "      <td>60</td>\n",
       "      <td>N</td>\n",
       "    </tr>\n",
       "    <tr>\n",
       "      <th>1808624</th>\n",
       "      <td>34</td>\n",
       "      <td>19/3/2019</td>\n",
       "      <td>1931298629999</td>\n",
       "      <td>60</td>\n",
       "      <td>N</td>\n",
       "    </tr>\n",
       "    <tr>\n",
       "      <th>1808625</th>\n",
       "      <td>32</td>\n",
       "      <td>19/3/2019</td>\n",
       "      <td>1931298629999</td>\n",
       "      <td>60</td>\n",
       "      <td>1</td>\n",
       "    </tr>\n",
       "    <tr>\n",
       "      <th>1808626</th>\n",
       "      <td>33</td>\n",
       "      <td>19/3/2019</td>\n",
       "      <td>1931298629999</td>\n",
       "      <td>60</td>\n",
       "      <td>S</td>\n",
       "    </tr>\n",
       "    <tr>\n",
       "      <th>1808627</th>\n",
       "      <td>31</td>\n",
       "      <td>19/3/2019</td>\n",
       "      <td>1931298629999</td>\n",
       "      <td>60</td>\n",
       "      <td>N</td>\n",
       "    </tr>\n",
       "  </tbody>\n",
       "</table>\n",
       "</div>"
      ],
      "text/plain": [
       "         COD_PREGUNTA    FEC_ACT  NUM_SECU_EXPED  TIPO_EXPED VALOR_PREGUNTA\n",
       "0                   9   7/3/2017   1651669769999           2            AMB\n",
       "1                  18   8/3/2017   1605473309999          50             T2\n",
       "2                  15   8/3/2017   1605473309999          50              N\n",
       "1808623            31  19/3/2019   1931299409999          60              N\n",
       "1808624            34  19/3/2019   1931298629999          60              N\n",
       "1808625            32  19/3/2019   1931298629999          60              1\n",
       "1808626            33  19/3/2019   1931298629999          60              S\n",
       "1808627            31  19/3/2019   1931298629999          60              N"
      ]
     },
     "execution_count": 8,
     "metadata": {},
     "output_type": "execute_result"
    }
   ],
   "source": [
    "df = df[df.columns.sort_values()]\n",
    "df.head(3).append(df.tail())"
   ]
  },
  {
   "cell_type": "code",
   "execution_count": 8,
   "metadata": {},
   "outputs": [],
   "source": [
    "# idx = \"COD_MOD\"\n",
    "# df[idx].value_counts(dropna=False)"
   ]
  },
  {
   "cell_type": "markdown",
   "metadata": {},
   "source": [
    "### Feature Format"
   ]
  },
  {
   "cell_type": "code",
   "execution_count": 9,
   "metadata": {},
   "outputs": [],
   "source": [
    "to_date = ['FEC_ACT', ]\n",
    "date_format = \"%d/%m/%Y\"\n",
    "# for is faster\n",
    "# df.loc[:, to_date] = df.loc[:, to_date].apply(pd.to_datetime(format=date_format))"
   ]
  },
  {
   "cell_type": "code",
   "execution_count": 10,
   "metadata": {},
   "outputs": [
    {
     "name": "stdout",
     "output_type": "stream",
     "text": [
      "CPU times: user 3.57 s, sys: 20.5 ms, total: 3.59 s\n",
      "Wall time: 3.38 s\n"
     ]
    }
   ],
   "source": [
    "%%time \n",
    "for col in to_date:\n",
    "    df[col] = pd.to_datetime(df[col], format=date_format, errors=\"coerce\")"
   ]
  },
  {
   "cell_type": "markdown",
   "metadata": {},
   "source": [
    "# saving into feather file"
   ]
  },
  {
   "cell_type": "code",
   "execution_count": 11,
   "metadata": {},
   "outputs": [
    {
     "name": "stdout",
     "output_type": "stream",
     "text": [
      "<class 'pandas.core.frame.DataFrame'>\n",
      "RangeIndex: 1808628 entries, 0 to 1808627\n",
      "Data columns (total 5 columns):\n",
      "COD_PREGUNTA      int64\n",
      "FEC_ACT           datetime64[ns]\n",
      "NUM_SECU_EXPED    int64\n",
      "TIPO_EXPED        int64\n",
      "VALOR_PREGUNTA    object\n",
      "dtypes: datetime64[ns](1), int64(3), object(1)\n",
      "memory usage: 69.0+ MB\n"
     ]
    }
   ],
   "source": [
    "df.info()"
   ]
  },
  {
   "cell_type": "code",
   "execution_count": 12,
   "metadata": {},
   "outputs": [],
   "source": [
    "# df[\"CONV_COMISIONARIO\"].value_counts()"
   ]
  },
  {
   "cell_type": "code",
   "execution_count": 13,
   "metadata": {},
   "outputs": [],
   "source": [
    "# fixing to_feather error\n",
    "# df[\"CONV_COMISIONARIO\"] = df[\"CONV_COMISIONARIO\"].astype(str)"
   ]
  },
  {
   "cell_type": "code",
   "execution_count": 14,
   "metadata": {},
   "outputs": [],
   "source": [
    "df.to_feather(filename_to_save)"
   ]
  },
  {
   "cell_type": "code",
   "execution_count": null,
   "metadata": {},
   "outputs": [],
   "source": []
  }
 ],
 "metadata": {
  "kernelspec": {
   "display_name": "Python 3",
   "language": "python",
   "name": "python3"
  },
  "language_info": {
   "codemirror_mode": {
    "name": "ipython",
    "version": 3
   },
   "file_extension": ".py",
   "mimetype": "text/x-python",
   "name": "python",
   "nbconvert_exporter": "python",
   "pygments_lexer": "ipython3",
   "version": "3.6.8"
  },
  "varInspector": {
   "cols": {
    "lenName": 16,
    "lenType": 16,
    "lenVar": 40
   },
   "kernels_config": {
    "python": {
     "delete_cmd_postfix": "",
     "delete_cmd_prefix": "del ",
     "library": "var_list.py",
     "varRefreshCmd": "print(var_dic_list())"
    },
    "r": {
     "delete_cmd_postfix": ") ",
     "delete_cmd_prefix": "rm(",
     "library": "var_list.r",
     "varRefreshCmd": "cat(var_dic_list()) "
    }
   },
   "types_to_exclude": [
    "module",
    "function",
    "builtin_function_or_method",
    "instance",
    "_Feature"
   ],
   "window_display": false
  }
 },
 "nbformat": 4,
 "nbformat_minor": 2
}
