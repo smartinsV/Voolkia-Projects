{
 "cells": [
  {
   "cell_type": "markdown",
   "metadata": {},
   "source": [
    "# merging cond, invest, preg into a dataset"
   ]
  },
  {
   "cell_type": "code",
   "execution_count": 1,
   "metadata": {},
   "outputs": [],
   "source": [
    "import os\n",
    "\n",
    "import pandas as pd\n",
    "import matplotlib.pyplot as plt"
   ]
  },
  {
   "cell_type": "code",
   "execution_count": 2,
   "metadata": {},
   "outputs": [],
   "source": [
    "# general configs\n",
    "pd.set_option(\"display.max_columns\", 500)\n",
    "pd.set_option(\"display.max_rows\", 500)"
   ]
  },
  {
   "cell_type": "markdown",
   "metadata": {},
   "source": [
    "# Merging CONDICIONES & INVESTIGACIONES"
   ]
  },
  {
   "cell_type": "markdown",
   "metadata": {},
   "source": [
    "## Loading CONDICIONES"
   ]
  },
  {
   "cell_type": "code",
   "execution_count": 3,
   "metadata": {},
   "outputs": [],
   "source": [
    "# path to dataset\n",
    "path_cond = \"../../../data/interim/4. transformed/CONDICIONES-red_col_with_fec_and_user-new_cols.feather\"\n",
    "\n",
    "if not(os.path.exists(path_cond) and os.path.isfile(path_cond)):\n",
    "    raise Exception(\"File {} doesn't exists.\".format(path_cond))"
   ]
  },
  {
   "cell_type": "code",
   "execution_count": 4,
   "metadata": {},
   "outputs": [
    {
     "name": "stderr",
     "output_type": "stream",
     "text": [
      "/home/voolkia/anaconda3/lib/python3.6/site-packages/pyarrow/pandas_compat.py:752: FutureWarning: .labels was deprecated in version 0.24.0. Use .codes instead.\n",
      "  labels, = index.labels\n"
     ]
    },
    {
     "name": "stdout",
     "output_type": "stream",
     "text": [
      "<class 'pandas.core.frame.DataFrame'>\n",
      "RangeIndex: 1231015 entries, 0 to 1231014\n",
      "Data columns (total 34 columns):\n",
      "NUM_SECU_EXPED     1231015 non-null int64\n",
      "cond_04            108057 non-null float64\n",
      "cond_05            33644 non-null float64\n",
      "cond_06            33644 non-null float64\n",
      "cond_09            34337 non-null float64\n",
      "cond_11            131464 non-null float64\n",
      "cond_12            14119 non-null float64\n",
      "cond_32            74055 non-null float64\n",
      "cond_37            11644 non-null float64\n",
      "cond_C1            191102 non-null float64\n",
      "cond_C10           75339 non-null float64\n",
      "cond_C11           75339 non-null float64\n",
      "cond_C12           75339 non-null float64\n",
      "cond_C13           670758 non-null float64\n",
      "cond_C14           10667 non-null float64\n",
      "cond_C15           261730 non-null float64\n",
      "cond_C16           261730 non-null float64\n",
      "cond_C17           35174 non-null float64\n",
      "cond_C18           17275 non-null float64\n",
      "cond_C19           17275 non-null float64\n",
      "cond_C2            14229 non-null float64\n",
      "cond_C20           17275 non-null float64\n",
      "cond_C21           35174 non-null float64\n",
      "cond_C3            14229 non-null float64\n",
      "cond_C4            13069 non-null float64\n",
      "cond_C5            14229 non-null float64\n",
      "cond_C6            680784 non-null float64\n",
      "cond_C7            544348 non-null float64\n",
      "cond_C8            696693 non-null float64\n",
      "cond_C9            680784 non-null float64\n",
      "FEC_ACT            1231015 non-null datetime64[ns]\n",
      "USR_ACT            1231015 non-null object\n",
      "total_condicion    1231015 non-null float64\n",
      "es_gte_5           1231015 non-null bool\n",
      "dtypes: bool(1), datetime64[ns](1), float64(30), int64(1), object(1)\n",
      "memory usage: 311.1+ MB\n"
     ]
    }
   ],
   "source": [
    "df_cond = pd.read_feather(path_cond)\n",
    "df_cond.info()"
   ]
  },
  {
   "cell_type": "code",
   "execution_count": 5,
   "metadata": {},
   "outputs": [
    {
     "data": {
      "text/plain": [
       "1.0"
      ]
     },
     "execution_count": 5,
     "metadata": {},
     "output_type": "execute_result"
    }
   ],
   "source": [
    "# checking ID is unique\n",
    "df_cond[\"NUM_SECU_EXPED\"].nunique() / len(df_cond)"
   ]
  },
  {
   "cell_type": "markdown",
   "metadata": {},
   "source": [
    "## Loading INVESTIGACIONES"
   ]
  },
  {
   "cell_type": "code",
   "execution_count": 6,
   "metadata": {},
   "outputs": [],
   "source": [
    "# path to dataset\n",
    "path_inv = \"../../../data/interim/3. row_red/investigaciones_col_full_uniques.feather\"\n",
    "\n",
    "if not(os.path.exists(path_inv) and os.path.isfile(path_inv)):\n",
    "    raise Exception(\"File {} doesn't exists.\".format(path_inv))"
   ]
  },
  {
   "cell_type": "code",
   "execution_count": 7,
   "metadata": {},
   "outputs": [
    {
     "name": "stdout",
     "output_type": "stream",
     "text": [
      "<class 'pandas.core.frame.DataFrame'>\n",
      "RangeIndex: 13092 entries, 0 to 13091\n",
      "Data columns (total 6 columns):\n",
      "COD_FRAUDE            12415 non-null float64\n",
      "COD_RAMO              13092 non-null int64\n",
      "EXISTE_FRAUDE         13092 non-null bool\n",
      "EXISTE_INHABILITAR    13092 non-null bool\n",
      "EXISTE_INVEST         13092 non-null bool\n",
      "NUM_SECU_EXPED        13092 non-null int64\n",
      "dtypes: bool(3), float64(1), int64(2)\n",
      "memory usage: 345.3 KB\n"
     ]
    },
    {
     "name": "stderr",
     "output_type": "stream",
     "text": [
      "/home/voolkia/anaconda3/lib/python3.6/site-packages/pyarrow/pandas_compat.py:752: FutureWarning: .labels was deprecated in version 0.24.0. Use .codes instead.\n",
      "  labels, = index.labels\n"
     ]
    }
   ],
   "source": [
    "df_inv = pd.read_feather(path_inv)\n",
    "df_inv.drop(columns=\"index\", inplace=True)\n",
    "df_inv.info()"
   ]
  },
  {
   "cell_type": "code",
   "execution_count": 8,
   "metadata": {},
   "outputs": [
    {
     "data": {
      "text/plain": [
       "1.0"
      ]
     },
     "execution_count": 8,
     "metadata": {},
     "output_type": "execute_result"
    }
   ],
   "source": [
    "# checking ID is unique\n",
    "df_inv[\"NUM_SECU_EXPED\"].nunique() / len(df_inv)"
   ]
  },
  {
   "cell_type": "markdown",
   "metadata": {},
   "source": [
    "## Comparing CONDICIONES vs INVESTIGACIONES\n",
    "Checking NUM_SECU_EXPED intersection"
   ]
  },
  {
   "cell_type": "code",
   "execution_count": 9,
   "metadata": {},
   "outputs": [
    {
     "data": {
      "text/plain": [
       "(12742, 1.035080807301292, 97.32661167124962)"
      ]
     },
     "execution_count": 9,
     "metadata": {},
     "output_type": "execute_result"
    }
   ],
   "source": [
    "# Checking intersection between both datasets\n",
    "id_common = set(df_cond[\"NUM_SECU_EXPED\"].unique()).intersection(set(df_inv[\"NUM_SECU_EXPED\"].unique()))\n",
    "len(id_common), len(id_common) / len(df_cond) *100, len(id_common) / len(df_inv)*100"
   ]
  },
  {
   "cell_type": "markdown",
   "metadata": {},
   "source": [
    "As expected, only a few (1%) of the NUM_SECU_EXPED in INVESTIGACIONES are in CONDICIONES. <br>\n",
    "But, there are almost 3% of rows in INVESTIGACIONES that aren't in CONDICIONES. <br>"
   ]
  },
  {
   "cell_type": "code",
   "execution_count": 10,
   "metadata": {},
   "outputs": [
    {
     "data": {
      "text/plain": [
       "350"
      ]
     },
     "execution_count": 10,
     "metadata": {},
     "output_type": "execute_result"
    }
   ],
   "source": [
    "# Analyzing the 3% of INVESTIGACIONES\n",
    "idx = set(df_inv[\"NUM_SECU_EXPED\"].unique()) - set(df_cond[\"NUM_SECU_EXPED\"].unique()) \n",
    "len(idx)"
   ]
  },
  {
   "cell_type": "code",
   "execution_count": 11,
   "metadata": {},
   "outputs": [
    {
     "data": {
      "text/plain": [
       "False    236\n",
       "True     114\n",
       "Name: EXISTE_FRAUDE, dtype: int64"
      ]
     },
     "execution_count": 11,
     "metadata": {},
     "output_type": "execute_result"
    }
   ],
   "source": [
    "# Checking distribution on target (EXISTE_FRAUDE)\n",
    "df_inv[df_inv[\"NUM_SECU_EXPED\"].isin(idx)][\"EXISTE_FRAUDE\"].value_counts(dropna=False)"
   ]
  },
  {
   "cell_type": "markdown",
   "metadata": {},
   "source": [
    "<b>104 records are fraud.</b>"
   ]
  },
  {
   "cell_type": "code",
   "execution_count": 13,
   "metadata": {},
   "outputs": [
    {
     "data": {
      "text/html": [
       "<div>\n",
       "<style scoped>\n",
       "    .dataframe tbody tr th:only-of-type {\n",
       "        vertical-align: middle;\n",
       "    }\n",
       "\n",
       "    .dataframe tbody tr th {\n",
       "        vertical-align: top;\n",
       "    }\n",
       "\n",
       "    .dataframe thead th {\n",
       "        text-align: right;\n",
       "    }\n",
       "</style>\n",
       "<table border=\"1\" class=\"dataframe\">\n",
       "  <thead>\n",
       "    <tr style=\"text-align: right;\">\n",
       "      <th></th>\n",
       "      <th>COD_FRAUDE</th>\n",
       "      <th>COD_RAMO</th>\n",
       "      <th>EXISTE_FRAUDE</th>\n",
       "      <th>EXISTE_INHABILITAR</th>\n",
       "      <th>EXISTE_INVEST</th>\n",
       "      <th>NUM_SECU_EXPED</th>\n",
       "    </tr>\n",
       "  </thead>\n",
       "  <tbody>\n",
       "    <tr>\n",
       "      <th>6</th>\n",
       "      <td>99.0</td>\n",
       "      <td>1</td>\n",
       "      <td>False</td>\n",
       "      <td>False</td>\n",
       "      <td>False</td>\n",
       "      <td>1626306469999</td>\n",
       "    </tr>\n",
       "    <tr>\n",
       "      <th>7</th>\n",
       "      <td>99.0</td>\n",
       "      <td>8</td>\n",
       "      <td>False</td>\n",
       "      <td>False</td>\n",
       "      <td>False</td>\n",
       "      <td>1622593359999</td>\n",
       "    </tr>\n",
       "    <tr>\n",
       "      <th>8</th>\n",
       "      <td>99.0</td>\n",
       "      <td>8</td>\n",
       "      <td>False</td>\n",
       "      <td>False</td>\n",
       "      <td>False</td>\n",
       "      <td>1622555639999</td>\n",
       "    </tr>\n",
       "    <tr>\n",
       "      <th>9</th>\n",
       "      <td>99.0</td>\n",
       "      <td>8</td>\n",
       "      <td>False</td>\n",
       "      <td>False</td>\n",
       "      <td>False</td>\n",
       "      <td>1626456429999</td>\n",
       "    </tr>\n",
       "    <tr>\n",
       "      <th>10</th>\n",
       "      <td>NaN</td>\n",
       "      <td>1</td>\n",
       "      <td>False</td>\n",
       "      <td>False</td>\n",
       "      <td>True</td>\n",
       "      <td>1616251899999</td>\n",
       "    </tr>\n",
       "  </tbody>\n",
       "</table>\n",
       "</div>"
      ],
      "text/plain": [
       "    COD_FRAUDE  COD_RAMO  EXISTE_FRAUDE  EXISTE_INHABILITAR  EXISTE_INVEST  \\\n",
       "6         99.0         1          False               False          False   \n",
       "7         99.0         8          False               False          False   \n",
       "8         99.0         8          False               False          False   \n",
       "9         99.0         8          False               False          False   \n",
       "10         NaN         1          False               False           True   \n",
       "\n",
       "    NUM_SECU_EXPED  \n",
       "6    1626306469999  \n",
       "7    1622593359999  \n",
       "8    1622555639999  \n",
       "9    1626456429999  \n",
       "10   1616251899999  "
      ]
     },
     "execution_count": 13,
     "metadata": {},
     "output_type": "execute_result"
    }
   ],
   "source": [
    "# See rows detail in file:\n",
    "# ../../1. Analysis/investigaciones sin aparecer en condiciones.csv\n",
    "tmp = pd.read_csv(\"../../1. Analysis/investigaciones sin aparecer en condiciones.csv\", index_col=0)\n",
    "tmp.head()\n",
    "# tmp[\"FECHA_SINI\"].value_counts(dropna=False)"
   ]
  },
  {
   "cell_type": "markdown",
   "metadata": {},
   "source": [
    "## Merging CONDICIONES & INVESTIGACIONES"
   ]
  },
  {
   "cell_type": "code",
   "execution_count": 14,
   "metadata": {},
   "outputs": [
    {
     "name": "stdout",
     "output_type": "stream",
     "text": [
      "1231015 13092 1231015\n"
     ]
    }
   ],
   "source": [
    "# Merging dropping not founded INVESTIGACIONES\n",
    "df_cond_inv = pd.merge(df_cond, df_inv, on=\"NUM_SECU_EXPED\", how=\"left\", suffixes=(\"_cond\", \"_inv\"))\n",
    "print(len(df_cond), len(df_inv), len(df_cond_inv))"
   ]
  },
  {
   "cell_type": "code",
   "execution_count": 15,
   "metadata": {},
   "outputs": [
    {
     "name": "stdout",
     "output_type": "stream",
     "text": [
      "<class 'pandas.core.frame.DataFrame'>\n",
      "Int64Index: 1231015 entries, 0 to 1231014\n",
      "Data columns (total 39 columns):\n",
      "NUM_SECU_EXPED        1231015 non-null int64\n",
      "cond_04               108057 non-null float64\n",
      "cond_05               33644 non-null float64\n",
      "cond_06               33644 non-null float64\n",
      "cond_09               34337 non-null float64\n",
      "cond_11               131464 non-null float64\n",
      "cond_12               14119 non-null float64\n",
      "cond_32               74055 non-null float64\n",
      "cond_37               11644 non-null float64\n",
      "cond_C1               191102 non-null float64\n",
      "cond_C10              75339 non-null float64\n",
      "cond_C11              75339 non-null float64\n",
      "cond_C12              75339 non-null float64\n",
      "cond_C13              670758 non-null float64\n",
      "cond_C14              10667 non-null float64\n",
      "cond_C15              261730 non-null float64\n",
      "cond_C16              261730 non-null float64\n",
      "cond_C17              35174 non-null float64\n",
      "cond_C18              17275 non-null float64\n",
      "cond_C19              17275 non-null float64\n",
      "cond_C2               14229 non-null float64\n",
      "cond_C20              17275 non-null float64\n",
      "cond_C21              35174 non-null float64\n",
      "cond_C3               14229 non-null float64\n",
      "cond_C4               13069 non-null float64\n",
      "cond_C5               14229 non-null float64\n",
      "cond_C6               680784 non-null float64\n",
      "cond_C7               544348 non-null float64\n",
      "cond_C8               696693 non-null float64\n",
      "cond_C9               680784 non-null float64\n",
      "FEC_ACT               1231015 non-null datetime64[ns]\n",
      "USR_ACT               1231015 non-null object\n",
      "total_condicion       1231015 non-null float64\n",
      "es_gte_5              1231015 non-null bool\n",
      "COD_FRAUDE            12077 non-null float64\n",
      "COD_RAMO              12742 non-null float64\n",
      "EXISTE_FRAUDE         12742 non-null object\n",
      "EXISTE_INHABILITAR    12742 non-null object\n",
      "EXISTE_INVEST         12742 non-null object\n",
      "dtypes: bool(1), datetime64[ns](1), float64(32), int64(1), object(4)\n",
      "memory usage: 367.5+ MB\n"
     ]
    }
   ],
   "source": [
    "df_cond_inv.info()"
   ]
  },
  {
   "cell_type": "markdown",
   "metadata": {},
   "source": [
    "### temporal saving (checkpoint)"
   ]
  },
  {
   "cell_type": "code",
   "execution_count": 16,
   "metadata": {},
   "outputs": [],
   "source": [
    "path_to_save = \"../../../data/interim/5. merged\"\n",
    "check_filename = \"condiciones_Investigacion.feather\"\n",
    "df_cond_inv.to_feather(os.path.join(path_to_save, check_filename))"
   ]
  },
  {
   "cell_type": "markdown",
   "metadata": {},
   "source": [
    "# MERGIN condiciones_Investigacion & PREGUNTAS"
   ]
  },
  {
   "cell_type": "markdown",
   "metadata": {},
   "source": [
    "## Restart from checkpoint (condiciones_Investigacion)"
   ]
  },
  {
   "cell_type": "code",
   "execution_count": 17,
   "metadata": {},
   "outputs": [
    {
     "name": "stderr",
     "output_type": "stream",
     "text": [
      "/home/voolkia/anaconda3/lib/python3.6/site-packages/pyarrow/pandas_compat.py:752: FutureWarning: .labels was deprecated in version 0.24.0. Use .codes instead.\n",
      "  labels, = index.labels\n"
     ]
    },
    {
     "name": "stdout",
     "output_type": "stream",
     "text": [
      "<class 'pandas.core.frame.DataFrame'>\n",
      "RangeIndex: 1231015 entries, 0 to 1231014\n",
      "Data columns (total 39 columns):\n",
      "NUM_SECU_EXPED        1231015 non-null int64\n",
      "cond_04               108057 non-null float64\n",
      "cond_05               33644 non-null float64\n",
      "cond_06               33644 non-null float64\n",
      "cond_09               34337 non-null float64\n",
      "cond_11               131464 non-null float64\n",
      "cond_12               14119 non-null float64\n",
      "cond_32               74055 non-null float64\n",
      "cond_37               11644 non-null float64\n",
      "cond_C1               191102 non-null float64\n",
      "cond_C10              75339 non-null float64\n",
      "cond_C11              75339 non-null float64\n",
      "cond_C12              75339 non-null float64\n",
      "cond_C13              670758 non-null float64\n",
      "cond_C14              10667 non-null float64\n",
      "cond_C15              261730 non-null float64\n",
      "cond_C16              261730 non-null float64\n",
      "cond_C17              35174 non-null float64\n",
      "cond_C18              17275 non-null float64\n",
      "cond_C19              17275 non-null float64\n",
      "cond_C2               14229 non-null float64\n",
      "cond_C20              17275 non-null float64\n",
      "cond_C21              35174 non-null float64\n",
      "cond_C3               14229 non-null float64\n",
      "cond_C4               13069 non-null float64\n",
      "cond_C5               14229 non-null float64\n",
      "cond_C6               680784 non-null float64\n",
      "cond_C7               544348 non-null float64\n",
      "cond_C8               696693 non-null float64\n",
      "cond_C9               680784 non-null float64\n",
      "FEC_ACT               1231015 non-null datetime64[ns]\n",
      "USR_ACT               1231015 non-null object\n",
      "total_condicion       1231015 non-null float64\n",
      "es_gte_5              1231015 non-null bool\n",
      "COD_FRAUDE            12077 non-null float64\n",
      "COD_RAMO              12742 non-null float64\n",
      "EXISTE_FRAUDE         12742 non-null object\n",
      "EXISTE_INHABILITAR    12742 non-null object\n",
      "EXISTE_INVEST         12742 non-null object\n",
      "dtypes: bool(1), datetime64[ns](1), float64(32), int64(1), object(4)\n",
      "memory usage: 358.1+ MB\n"
     ]
    }
   ],
   "source": [
    "path = \"../../../data/interim/5. merged\"\n",
    "check_filename = os.path.join(path, \"condiciones_Investigacion.feather\")\n",
    "df_cond_inv = pd.read_feather(check_filename)\n",
    "df_cond_inv.info()"
   ]
  },
  {
   "cell_type": "markdown",
   "metadata": {},
   "source": [
    "## Loading PREGUNTAS"
   ]
  },
  {
   "cell_type": "code",
   "execution_count": 18,
   "metadata": {},
   "outputs": [],
   "source": [
    "# path to dataset\n",
    "path_preg = \"../../../data/interim/4. transformed/PREGUNTAS-red_col_with_fec_and_user.feather\"\n",
    "\n",
    "if not(os.path.exists(path_preg) and os.path.isfile(path_preg)):\n",
    "    raise Exception(\"File {} doesn't exists.\".format(path_preg))"
   ]
  },
  {
   "cell_type": "code",
   "execution_count": 19,
   "metadata": {},
   "outputs": [
    {
     "name": "stdout",
     "output_type": "stream",
     "text": [
      "<class 'pandas.core.frame.DataFrame'>\n",
      "RangeIndex: 147342 entries, 0 to 147341\n",
      "Data columns (total 29 columns):\n",
      "NUM_SECU_EXPED    147342 non-null int64\n",
      "preg_1            2544 non-null object\n",
      "preg_2            52954 non-null object\n",
      "preg_3            51706 non-null object\n",
      "preg_4            54292 non-null object\n",
      "preg_5            66654 non-null object\n",
      "preg_6            66654 non-null object\n",
      "preg_7            54292 non-null object\n",
      "preg_8            57010 non-null object\n",
      "preg_9            66654 non-null object\n",
      "preg_10           54292 non-null object\n",
      "preg_11           66654 non-null object\n",
      "preg_12           12995 non-null object\n",
      "preg_15           62152 non-null object\n",
      "preg_16           12995 non-null object\n",
      "preg_18           10762 non-null object\n",
      "preg_19           10762 non-null object\n",
      "preg_22           7923 non-null object\n",
      "preg_24           10763 non-null object\n",
      "preg_27           12995 non-null object\n",
      "preg_28           12995 non-null object\n",
      "preg_30           12995 non-null object\n",
      "preg_31           65008 non-null object\n",
      "preg_32           67798 non-null object\n",
      "preg_33           65008 non-null object\n",
      "preg_34           33748 non-null object\n",
      "preg_36           16536 non-null object\n",
      "preg_37           10692 non-null object\n",
      "FEC_ACT           147342 non-null datetime64[ns]\n",
      "dtypes: datetime64[ns](1), int64(1), object(27)\n",
      "memory usage: 32.6+ MB\n"
     ]
    },
    {
     "name": "stderr",
     "output_type": "stream",
     "text": [
      "/home/voolkia/anaconda3/lib/python3.6/site-packages/pyarrow/pandas_compat.py:752: FutureWarning: .labels was deprecated in version 0.24.0. Use .codes instead.\n",
      "  labels, = index.labels\n"
     ]
    }
   ],
   "source": [
    "df_preg = pd.read_feather(path_preg)\n",
    "df_preg.drop(columns=\"index\", inplace=True)\n",
    "df_preg.info()"
   ]
  },
  {
   "cell_type": "code",
   "execution_count": 20,
   "metadata": {},
   "outputs": [],
   "source": [
    "# Dropping FEC_ACT\n",
    "df_preg.drop(columns=\"FEC_ACT\", inplace=True)"
   ]
  },
  {
   "cell_type": "markdown",
   "metadata": {},
   "source": [
    "## Comparing merged vs PREGUNTAS\n",
    "Checking NUM_SECU_EXPED intersection"
   ]
  },
  {
   "cell_type": "code",
   "execution_count": 21,
   "metadata": {},
   "outputs": [
    {
     "data": {
      "text/plain": [
       "(146595, 11.908465778239908, 99.49301624791302)"
      ]
     },
     "execution_count": 21,
     "metadata": {},
     "output_type": "execute_result"
    }
   ],
   "source": [
    "# Checking intersection between both datasets\n",
    "id_common = set(df_cond_inv[\"NUM_SECU_EXPED\"].unique()).intersection(set(df_preg[\"NUM_SECU_EXPED\"].unique()))\n",
    "len(id_common), len(id_common) / len(df_cond_inv) *100, len(id_common) / len(df_preg)*100"
   ]
  },
  {
   "cell_type": "markdown",
   "metadata": {},
   "source": [
    "Almost 88% of the NUM_SECU_EXPED doens't have PREGUNTAS.<br/>\n",
    "Only 0.5% of PREGUNTAS, aren't in MERGED dataset"
   ]
  },
  {
   "cell_type": "markdown",
   "metadata": {},
   "source": [
    "## Merging merged & PREGUNTAS"
   ]
  },
  {
   "cell_type": "code",
   "execution_count": 22,
   "metadata": {},
   "outputs": [
    {
     "name": "stdout",
     "output_type": "stream",
     "text": [
      "1231015 147342 1231015\n",
      "<class 'pandas.core.frame.DataFrame'>\n",
      "Int64Index: 1231015 entries, 0 to 1231014\n",
      "Data columns (total 66 columns):\n",
      "NUM_SECU_EXPED        1231015 non-null int64\n",
      "cond_04               108057 non-null float64\n",
      "cond_05               33644 non-null float64\n",
      "cond_06               33644 non-null float64\n",
      "cond_09               34337 non-null float64\n",
      "cond_11               131464 non-null float64\n",
      "cond_12               14119 non-null float64\n",
      "cond_32               74055 non-null float64\n",
      "cond_37               11644 non-null float64\n",
      "cond_C1               191102 non-null float64\n",
      "cond_C10              75339 non-null float64\n",
      "cond_C11              75339 non-null float64\n",
      "cond_C12              75339 non-null float64\n",
      "cond_C13              670758 non-null float64\n",
      "cond_C14              10667 non-null float64\n",
      "cond_C15              261730 non-null float64\n",
      "cond_C16              261730 non-null float64\n",
      "cond_C17              35174 non-null float64\n",
      "cond_C18              17275 non-null float64\n",
      "cond_C19              17275 non-null float64\n",
      "cond_C2               14229 non-null float64\n",
      "cond_C20              17275 non-null float64\n",
      "cond_C21              35174 non-null float64\n",
      "cond_C3               14229 non-null float64\n",
      "cond_C4               13069 non-null float64\n",
      "cond_C5               14229 non-null float64\n",
      "cond_C6               680784 non-null float64\n",
      "cond_C7               544348 non-null float64\n",
      "cond_C8               696693 non-null float64\n",
      "cond_C9               680784 non-null float64\n",
      "FEC_ACT               1231015 non-null datetime64[ns]\n",
      "USR_ACT               1231015 non-null object\n",
      "total_condicion       1231015 non-null float64\n",
      "es_gte_5              1231015 non-null bool\n",
      "COD_FRAUDE            12077 non-null float64\n",
      "COD_RAMO              12742 non-null float64\n",
      "EXISTE_FRAUDE         12742 non-null object\n",
      "EXISTE_INHABILITAR    12742 non-null object\n",
      "EXISTE_INVEST         12742 non-null object\n",
      "preg_1                2541 non-null object\n",
      "preg_2                52885 non-null object\n",
      "preg_3                51670 non-null object\n",
      "preg_4                54226 non-null object\n",
      "preg_5                66588 non-null object\n",
      "preg_6                66588 non-null object\n",
      "preg_7                54226 non-null object\n",
      "preg_8                56938 non-null object\n",
      "preg_9                66588 non-null object\n",
      "preg_10               54226 non-null object\n",
      "preg_11               66588 non-null object\n",
      "preg_12               12524 non-null object\n",
      "preg_15               61479 non-null object\n",
      "preg_16               12524 non-null object\n",
      "preg_18               10292 non-null object\n",
      "preg_19               10292 non-null object\n",
      "preg_22               7531 non-null object\n",
      "preg_24               10293 non-null object\n",
      "preg_27               12524 non-null object\n",
      "preg_28               12524 non-null object\n",
      "preg_30               12524 non-null object\n",
      "preg_31               64804 non-null object\n",
      "preg_32               67597 non-null object\n",
      "preg_33               64804 non-null object\n",
      "preg_34               33609 non-null object\n",
      "preg_36               16511 non-null object\n",
      "preg_37               10267 non-null object\n",
      "dtypes: bool(1), datetime64[ns](1), float64(32), int64(1), object(31)\n",
      "memory usage: 621.0+ MB\n"
     ]
    }
   ],
   "source": [
    "# Merging dropping not founded INVESTIGACIONES\n",
    "df_cond_inv_preg = pd.merge(df_cond_inv, df_preg, on=\"NUM_SECU_EXPED\", how=\"left\", suffixes=(\"\", \"_preg\"))\n",
    "print(len(df_cond_inv), len(df_preg), len(df_cond_inv_preg))\n",
    "df_cond_inv_preg.info()"
   ]
  },
  {
   "cell_type": "markdown",
   "metadata": {},
   "source": [
    "### Saving merged file"
   ]
  },
  {
   "cell_type": "code",
   "execution_count": 23,
   "metadata": {},
   "outputs": [],
   "source": [
    "path_to_save = \"../../../data/interim/5. merged\"\n",
    "check_filename = \"condiciones_Investigacion_preguntas.feather\"\n",
    "df_cond_inv_preg.to_feather(os.path.join(path_to_save, check_filename))"
   ]
  },
  {
   "cell_type": "code",
   "execution_count": null,
   "metadata": {},
   "outputs": [],
   "source": []
  }
 ],
 "metadata": {
  "kernelspec": {
   "display_name": "Python 3",
   "language": "python",
   "name": "python3"
  },
  "language_info": {
   "codemirror_mode": {
    "name": "ipython",
    "version": 3
   },
   "file_extension": ".py",
   "mimetype": "text/x-python",
   "name": "python",
   "nbconvert_exporter": "python",
   "pygments_lexer": "ipython3",
   "version": "3.6.8"
  },
  "varInspector": {
   "cols": {
    "lenName": 16,
    "lenType": 16,
    "lenVar": 40
   },
   "kernels_config": {
    "python": {
     "delete_cmd_postfix": "",
     "delete_cmd_prefix": "del ",
     "library": "var_list.py",
     "varRefreshCmd": "print(var_dic_list())"
    },
    "r": {
     "delete_cmd_postfix": ") ",
     "delete_cmd_prefix": "rm(",
     "library": "var_list.r",
     "varRefreshCmd": "cat(var_dic_list()) "
    }
   },
   "position": {
    "height": "241px",
    "left": "1483px",
    "right": "20px",
    "top": "120px",
    "width": "350px"
   },
   "types_to_exclude": [
    "module",
    "function",
    "builtin_function_or_method",
    "instance",
    "_Feature"
   ],
   "window_display": false
  }
 },
 "nbformat": 4,
 "nbformat_minor": 2
}
