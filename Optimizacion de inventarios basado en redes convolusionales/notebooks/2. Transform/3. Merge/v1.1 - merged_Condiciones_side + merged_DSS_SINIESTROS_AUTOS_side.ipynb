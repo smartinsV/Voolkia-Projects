{
 "cells": [
  {
   "cell_type": "markdown",
   "metadata": {},
   "source": [
    "## Merging merged_Condiciones_side + merged_DSS_SINIESTROS_AUTOS_side"
   ]
  },
  {
   "cell_type": "code",
   "execution_count": 1,
   "metadata": {},
   "outputs": [],
   "source": [
    "import os\n",
    "\n",
    "import pandas as pd"
   ]
  },
  {
   "cell_type": "code",
   "execution_count": 2,
   "metadata": {},
   "outputs": [],
   "source": [
    "# general configs\n",
    "pd.set_option(\"display.max_columns\", 500)\n",
    "pd.set_option(\"display.max_rows\", 500)"
   ]
  },
  {
   "cell_type": "markdown",
   "metadata": {},
   "source": [
    "## Loading merged_Condiciones_side"
   ]
  },
  {
   "cell_type": "code",
   "execution_count": 7,
   "metadata": {},
   "outputs": [
    {
     "ename": "Exception",
     "evalue": "File ../../../data/interim/5. merged/condiciones_Investigacion_preguntas.feather doesn't exists.",
     "output_type": "error",
     "traceback": [
      "\u001b[0;31m---------------------------------------------------------------------------\u001b[0m",
      "\u001b[0;31mException\u001b[0m                                 Traceback (most recent call last)",
      "\u001b[0;32m<ipython-input-7-c673780c0717>\u001b[0m in \u001b[0;36m<module>\u001b[0;34m\u001b[0m\n\u001b[1;32m      6\u001b[0m \u001b[0;34m\u001b[0m\u001b[0m\n\u001b[1;32m      7\u001b[0m \u001b[0;32mif\u001b[0m \u001b[0;32mnot\u001b[0m\u001b[0;34m(\u001b[0m\u001b[0mos\u001b[0m\u001b[0;34m.\u001b[0m\u001b[0mpath\u001b[0m\u001b[0;34m.\u001b[0m\u001b[0mexists\u001b[0m\u001b[0;34m(\u001b[0m\u001b[0mpath_cond\u001b[0m\u001b[0;34m)\u001b[0m \u001b[0;32mand\u001b[0m \u001b[0;32mnot\u001b[0m \u001b[0mos\u001b[0m\u001b[0;34m.\u001b[0m\u001b[0mpath\u001b[0m\u001b[0;34m.\u001b[0m\u001b[0misfile\u001b[0m\u001b[0;34m(\u001b[0m\u001b[0mpath_cond\u001b[0m\u001b[0;34m)\u001b[0m\u001b[0;34m)\u001b[0m\u001b[0;34m:\u001b[0m\u001b[0;34m\u001b[0m\u001b[0;34m\u001b[0m\u001b[0m\n\u001b[0;32m----> 8\u001b[0;31m     \u001b[0;32mraise\u001b[0m \u001b[0mException\u001b[0m\u001b[0;34m(\u001b[0m\u001b[0;34m\"File {} doesn't exists.\"\u001b[0m\u001b[0;34m.\u001b[0m\u001b[0mformat\u001b[0m\u001b[0;34m(\u001b[0m\u001b[0mpath_cond\u001b[0m\u001b[0;34m)\u001b[0m\u001b[0;34m)\u001b[0m\u001b[0;34m\u001b[0m\u001b[0;34m\u001b[0m\u001b[0m\n\u001b[0m",
      "\u001b[0;31mException\u001b[0m: File ../../../data/interim/5. merged/condiciones_Investigacion_preguntas.feather doesn't exists."
     ]
    }
   ],
   "source": [
    "merged_path = \"../../../data/interim/5. merged\"\n",
    "cond_filename = \"condiciones_Investigacion_preguntas.feather\"\n",
    "\n",
    "# path to dataset\n",
    "path_cond = os.path.join(merged_path, cond_filename)\n",
    "\n",
    "if not(os.path.exists(path_cond) and not os.path.isfile(path_cond)):\n",
    "    raise Exception(\"File {} doesn't exists.\".format(path_cond))"
   ]
  },
  {
   "cell_type": "code",
   "execution_count": 8,
   "metadata": {},
   "outputs": [
    {
     "name": "stdout",
     "output_type": "stream",
     "text": [
      "<class 'pandas.core.frame.DataFrame'>\n",
      "RangeIndex: 1231015 entries, 0 to 1231014\n",
      "Data columns (total 66 columns):\n",
      "NUM_SECU_EXPED        1231015 non-null int64\n",
      "cond_04               108057 non-null float64\n",
      "cond_05               33644 non-null float64\n",
      "cond_06               33644 non-null float64\n",
      "cond_09               34337 non-null float64\n",
      "cond_11               131464 non-null float64\n",
      "cond_12               14119 non-null float64\n",
      "cond_32               74055 non-null float64\n",
      "cond_37               11644 non-null float64\n",
      "cond_C1               191102 non-null float64\n",
      "cond_C10              75339 non-null float64\n",
      "cond_C11              75339 non-null float64\n",
      "cond_C12              75339 non-null float64\n",
      "cond_C13              670758 non-null float64\n",
      "cond_C14              10667 non-null float64\n",
      "cond_C15              261730 non-null float64\n",
      "cond_C16              261730 non-null float64\n",
      "cond_C17              35174 non-null float64\n",
      "cond_C18              17275 non-null float64\n",
      "cond_C19              17275 non-null float64\n",
      "cond_C2               14229 non-null float64\n",
      "cond_C20              17275 non-null float64\n",
      "cond_C21              35174 non-null float64\n",
      "cond_C3               14229 non-null float64\n",
      "cond_C4               13069 non-null float64\n",
      "cond_C5               14229 non-null float64\n",
      "cond_C6               680784 non-null float64\n",
      "cond_C7               544348 non-null float64\n",
      "cond_C8               696693 non-null float64\n",
      "cond_C9               680784 non-null float64\n",
      "FEC_ACT               1231015 non-null datetime64[ns]\n",
      "USR_ACT               1231015 non-null object\n",
      "total_condicion       1231015 non-null float64\n",
      "es_gte_5              1231015 non-null bool\n",
      "COD_FRAUDE            12077 non-null float64\n",
      "COD_RAMO              12742 non-null float64\n",
      "EXISTE_FRAUDE         12742 non-null object\n",
      "EXISTE_INHABILITAR    12742 non-null object\n",
      "EXISTE_INVEST         12742 non-null object\n",
      "preg_1                2541 non-null object\n",
      "preg_2                52885 non-null object\n",
      "preg_3                51670 non-null object\n",
      "preg_4                54226 non-null object\n",
      "preg_5                66588 non-null object\n",
      "preg_6                66588 non-null object\n",
      "preg_7                54226 non-null object\n",
      "preg_8                56938 non-null object\n",
      "preg_9                66588 non-null object\n",
      "preg_10               54226 non-null object\n",
      "preg_11               66588 non-null object\n",
      "preg_12               12524 non-null object\n",
      "preg_15               61479 non-null object\n",
      "preg_16               12524 non-null object\n",
      "preg_18               10292 non-null object\n",
      "preg_19               10292 non-null object\n",
      "preg_22               7531 non-null object\n",
      "preg_24               10293 non-null object\n",
      "preg_27               12524 non-null object\n",
      "preg_28               12524 non-null object\n",
      "preg_30               12524 non-null object\n",
      "preg_31               64804 non-null object\n",
      "preg_32               67597 non-null object\n",
      "preg_33               64804 non-null object\n",
      "preg_34               33609 non-null object\n",
      "preg_36               16511 non-null object\n",
      "preg_37               10267 non-null object\n",
      "dtypes: bool(1), datetime64[ns](1), float64(32), int64(1), object(31)\n",
      "memory usage: 611.6+ MB\n"
     ]
    }
   ],
   "source": [
    "df_cond = pd.read_feather(path_cond)\n",
    "df_cond.info()"
   ]
  },
  {
   "cell_type": "code",
   "execution_count": 9,
   "metadata": {},
   "outputs": [
    {
     "data": {
      "text/plain": [
       "1.0"
      ]
     },
     "execution_count": 9,
     "metadata": {},
     "output_type": "execute_result"
    }
   ],
   "source": [
    "# checking ID is unique\n",
    "df_cond[\"NUM_SECU_EXPED\"].nunique() / len(df_cond)"
   ]
  },
  {
   "cell_type": "markdown",
   "metadata": {},
   "source": [
    "## Loading  merged_DSS_SINIESTROS_AUTOS_side"
   ]
  },
  {
   "cell_type": "code",
   "execution_count": 10,
   "metadata": {},
   "outputs": [],
   "source": [
    "sini_filename = \"DSS_SINIESTROS_AUTOS+VIGABT_POLIZAS+BTT_ASEGURADOS+tb_cif.feather\"\n",
    "\n",
    "# path to dataset\n",
    "path_sini = os.path.join(merged_path, sini_filename)\n",
    "\n",
    "if not(os.path.exists(path_sini) and os.path.isfile(path_sini)):\n",
    "    raise Exception(\"File {} doesn't exists.\".format(path_sini))"
   ]
  },
  {
   "cell_type": "code",
   "execution_count": 11,
   "metadata": {},
   "outputs": [
    {
     "name": "stdout",
     "output_type": "stream",
     "text": [
      "<class 'pandas.core.frame.DataFrame'>\n",
      "RangeIndex: 1144995 entries, 0 to 1144994\n",
      "Data columns (total 82 columns):\n",
      "CATASTROFICO                    1144989 non-null object\n",
      "CERRADURA_BAUL                  504402 non-null object\n",
      "CERRADURA_DERECHA               504402 non-null object\n",
      "CERRADURA_IZQUIERDA             504402 non-null object\n",
      "CODIGO_BAJA                     1562 non-null float64\n",
      "CODIGO_CARATULA                 30240 non-null float64\n",
      "CODIGO_REAPERTURA               58512 non-null float64\n",
      "CODIGO_VEHICULO                 1144905 non-null float64\n",
      "COD_ACT_BENEF                   463893 non-null float64\n",
      "COD_CAUSA_SINI                  1144995 non-null float64\n",
      "COD_POST_OCURRENCIA             1144991 non-null float64\n",
      "COD_POST_POLIZA                 1144971 non-null float64\n",
      "COD_POST_TERC                   194056 non-null float64\n",
      "COD_RAMO_sini                   1144995 non-null int64\n",
      "COD_RIES_sini                   1144995 non-null float64\n",
      "CONDICION_ROBO_EXP50            13085 non-null float64\n",
      "DANOS_MATERIALES                1144989 non-null object\n",
      "DESCRIPCION_TIPO                1144993 non-null object\n",
      "DESCRIPCION_VEHICULO            1144905 non-null object\n",
      "ESTADO_CIVIL                    1129107 non-null object\n",
      "ESTADO_CIVIL_TERC               184865 non-null object\n",
      "ESTAD_VEH_ASEG                  968507 non-null float64\n",
      "FALTANTE                        1144992 non-null object\n",
      "FECHA_SINI                      1144995 non-null datetime64[ns]\n",
      "MCA_COASEG                      1144995 non-null bool\n",
      "MCA_JUICIO                      30240 non-null object\n",
      "MCA_VIP                         1144989 non-null object\n",
      "METRO                           1144989 non-null object\n",
      "NUM_SECU_EXPED                  1144995 non-null float64\n",
      "NUM_SECU_POL                    1144995 non-null int64\n",
      "OCUPACION_ASEG                  1144051 non-null float64\n",
      "SEXO                            1144907 non-null object\n",
      "SEXO_TERC                       611769 non-null object\n",
      "TELEFONO_TERC                   100621 non-null object\n",
      "TIPO                            1144993 non-null float64\n",
      "TIPO_EXPED                      1144995 non-null object\n",
      "TIPO_LESION                     117070 non-null object\n",
      "TIPO_LESION_MAXIMA              30240 non-null object\n",
      "TIPO_SINIESTRO                  1144992 non-null object\n",
      "USO                             1144993 non-null float64\n",
      "dias_entre_denu_y_sini          1144995 non-null int64\n",
      "dist_fformal_fsini              166482 non-null float64\n",
      "dist_fformal_fdenu              166482 non-null float64\n",
      "existe_FECHA_FORMAL             1144995 non-null bool\n",
      "CANT_RENOVACION                 1074503 non-null float64\n",
      "CAPITAL_ACCESORIOS              1137961 non-null object\n",
      "CAPITAL_ASEGURADO_COTIZACION    1112460 non-null object\n",
      "CAPITAL_VEHICULO                1137961 non-null object\n",
      "COD_COBRO                       1137961 non-null object\n",
      "COD_COBRO_ANTERIOR              910384 non-null object\n",
      "COD_POSTAL                      1137961 non-null float64\n",
      "COD_PROD                        1137961 non-null float64\n",
      "COD_RAMO_vigabt_aseg_cif        1137961 non-null float64\n",
      "COD_RIES_vigabt_aseg_cif        1137961 non-null float64\n",
      "COD_ZONA_CASCO                  1137957 non-null float64\n",
      "COD_ZONA_RC                     1137957 non-null float64\n",
      "COD_ZONA_ROBO                   1137957 non-null float64\n",
      "CONV_COMISIONARIO               1137961 non-null object\n",
      "FECHA_PROCESO                   1137961 non-null datetime64[ns]\n",
      "FECHA_VENC_POL                  1137961 non-null datetime64[ns]\n",
      "FECHA_VIG_ORIG_POL              1137961 non-null datetime64[ns]\n",
      "FECHA_VIG_POL                   1137961 non-null datetime64[ns]\n",
      "CIF_ID                          113743 non-null float64\n",
      "MCA_AGRAVANTE                   1125440 non-null object\n",
      "MCA_EMPLEADO                    1137961 non-null object\n",
      "MCA_MOVIMIENTO                  50265 non-null object\n",
      "MCA_POLIZA_VIP                  1074503 non-null object\n",
      "NEGOCIO                         944096 non-null object\n",
      "PRENDARIO                       961376 non-null object\n",
      "SEGMENTO                        838288 non-null object\n",
      "cambio_cobro                    1137961 non-null object\n",
      "ANTIG_calc                      1137961 non-null float64\n",
      "COD_EST_CIVIL                   89903 non-null object\n",
      "FECHA_DESDE                     96574 non-null datetime64[ns]\n",
      "FECHA_NACIMIENTO                96180 non-null datetime64[ns]\n",
      "SEXO_ASEG                       96804 non-null object\n",
      "TIPO_ACTIVIDAD                  113718 non-null object\n",
      "CLIENTE                         17038 non-null object\n",
      "CODIGO_NACION                   40536 non-null object\n",
      "DATECO_TIPO_ACTIVIDAD           25372 non-null object\n",
      "DOMICILIO_CODIGO_POSTAL         29391 non-null float64\n",
      "HABILITADO                      19368 non-null object\n",
      "dtypes: bool(2), datetime64[ns](7), float64(29), int64(3), object(41)\n",
      "memory usage: 701.0+ MB\n"
     ]
    }
   ],
   "source": [
    "df_sini = pd.read_feather(path_sini)\n",
    "df_sini.info()"
   ]
  },
  {
   "cell_type": "code",
   "execution_count": 12,
   "metadata": {},
   "outputs": [
    {
     "data": {
      "text/plain": [
       "1.0"
      ]
     },
     "execution_count": 12,
     "metadata": {},
     "output_type": "execute_result"
    }
   ],
   "source": [
    "# checking ID is unique\n",
    "df_sini[\"NUM_SECU_EXPED\"].nunique() / len(df_sini)"
   ]
  },
  {
   "cell_type": "markdown",
   "metadata": {},
   "source": [
    "## Merging merged_Condiciones_side & merged_DSS_SINIESTROS_AUTOS_side"
   ]
  },
  {
   "cell_type": "code",
   "execution_count": 13,
   "metadata": {},
   "outputs": [
    {
     "name": "stdout",
     "output_type": "stream",
     "text": [
      "1231015 1144995 1231015\n"
     ]
    }
   ],
   "source": [
    "# Merging dropping not founded in DSS_SINIESTROS_AUTOS\n",
    "df_merged = pd.merge(df_cond, df_sini, on=\"NUM_SECU_EXPED\", how=\"left\", suffixes=(\"_cond_side\", \"_sini_side\"))\n",
    "print(len(df_cond), len(df_sini), len(df_merged))"
   ]
  },
  {
   "cell_type": "code",
   "execution_count": 14,
   "metadata": {},
   "outputs": [
    {
     "data": {
      "text/plain": [
       "(1141368, 1231015, 1144995)"
      ]
     },
     "execution_count": 14,
     "metadata": {},
     "output_type": "execute_result"
    }
   ],
   "source": [
    "len(set(df_cond[\"NUM_SECU_EXPED\"].unique()).intersection(set(df_sini[\"NUM_SECU_EXPED\"].unique()))), df_cond[\"NUM_SECU_EXPED\"].nunique(), df_sini[\"NUM_SECU_EXPED\"].nunique()"
   ]
  },
  {
   "cell_type": "code",
   "execution_count": 12,
   "metadata": {},
   "outputs": [
    {
     "data": {
      "text/plain": [
       "(1231015, 1144995)"
      ]
     },
     "execution_count": 12,
     "metadata": {},
     "output_type": "execute_result"
    }
   ],
   "source": [
    "df_cond[\"NUM_SECU_EXPED\"].nunique(), df_sini[\"NUM_SECU_EXPED\"].nunique()"
   ]
  },
  {
   "cell_type": "code",
   "execution_count": 10,
   "metadata": {},
   "outputs": [
    {
     "data": {
      "text/plain": [
       "89647"
      ]
     },
     "execution_count": 10,
     "metadata": {},
     "output_type": "execute_result"
    }
   ],
   "source": [
    "len(set(df_merged[\"NUM_SECU_EXPED\"]) - set(df_sini[\"NUM_SECU_EXPED\"]))"
   ]
  },
  {
   "cell_type": "markdown",
   "metadata": {},
   "source": [
    "### saving merged dataset"
   ]
  },
  {
   "cell_type": "code",
   "execution_count": 10,
   "metadata": {},
   "outputs": [],
   "source": [
    "path_to_save = \"../../../data/interim/5. merged\"\n",
    "check_filename = \"merged_Condiciones_side + merged_DSS_SINIESTROS_AUTOS_side.feather\"\n",
    "df_merged.to_feather(os.path.join(path_to_save, check_filename))"
   ]
  },
  {
   "cell_type": "code",
   "execution_count": 5,
   "metadata": {},
   "outputs": [],
   "source": [
    "path_to_save = \"../../../data/interim/5. merged\"\n",
    "check_filename = \"merged_Condiciones_side + merged_DSS_SINIESTROS_AUTOS_side.feather\"\n",
    "df_merged = pd.read_feather(os.path.join(path_to_save, check_filename))"
   ]
  },
  {
   "cell_type": "code",
   "execution_count": 15,
   "metadata": {
    "scrolled": true
   },
   "outputs": [
    {
     "data": {
      "text/plain": [
       "3.0     130964\n",
       "5.0     114744\n",
       "4.0     113004\n",
       "1.0     111492\n",
       "2.0     101390\n",
       "NaN      89647\n",
       "10.0     85152\n",
       "8.0      83324\n",
       "12.0     83301\n",
       "11.0     80631\n",
       "9.0      79879\n",
       "7.0      79631\n",
       "6.0      77856\n",
       "Name: FECHA_SINI, dtype: int64"
      ]
     },
     "execution_count": 15,
     "metadata": {},
     "output_type": "execute_result"
    }
   ],
   "source": [
    "(df_merged[\"FECHA_SINI\"].dt.month).value_counts(dropna=False)"
   ]
  },
  {
   "cell_type": "code",
   "execution_count": 11,
   "metadata": {},
   "outputs": [
    {
     "data": {
      "text/plain": [
       "3    37608\n",
       "1    35451\n",
       "4    34658\n",
       "2    34205\n",
       "5    33142\n",
       "Name: FECHA_SINI, dtype: int64"
      ]
     },
     "execution_count": 11,
     "metadata": {},
     "output_type": "execute_result"
    }
   ],
   "source": [
    "(df_merged[df_merged[\"FECHA_SINI\"].dt.year == 2019][\"FECHA_SINI\"].dt.month).value_counts(dropna=False)"
   ]
  },
  {
   "cell_type": "code",
   "execution_count": null,
   "metadata": {},
   "outputs": [],
   "source": []
  }
 ],
 "metadata": {
  "kernelspec": {
   "display_name": "Python 3",
   "language": "python",
   "name": "python3"
  },
  "language_info": {
   "codemirror_mode": {
    "name": "ipython",
    "version": 3
   },
   "file_extension": ".py",
   "mimetype": "text/x-python",
   "name": "python",
   "nbconvert_exporter": "python",
   "pygments_lexer": "ipython3",
   "version": "3.6.8"
  },
  "varInspector": {
   "cols": {
    "lenName": 16,
    "lenType": 16,
    "lenVar": 40
   },
   "kernels_config": {
    "python": {
     "delete_cmd_postfix": "",
     "delete_cmd_prefix": "del ",
     "library": "var_list.py",
     "varRefreshCmd": "print(var_dic_list())"
    },
    "r": {
     "delete_cmd_postfix": ") ",
     "delete_cmd_prefix": "rm(",
     "library": "var_list.r",
     "varRefreshCmd": "cat(var_dic_list()) "
    }
   },
   "types_to_exclude": [
    "module",
    "function",
    "builtin_function_or_method",
    "instance",
    "_Feature"
   ],
   "window_display": false
  }
 },
 "nbformat": 4,
 "nbformat_minor": 2
}
