{
 "cells": [
  {
   "cell_type": "markdown",
   "metadata": {},
   "source": [
    "# merging DSS_SINIESTROS_AUTOS + (DM_RETAIL_CLIE+BTT_ASEGURADOS+VIGABT_POLIZAS+tb_cif)"
   ]
  },
  {
   "cell_type": "code",
   "execution_count": 1,
   "metadata": {},
   "outputs": [],
   "source": [
    "import os\n",
    "\n",
    "import pandas as pd\n",
    "import matplotlib.pyplot as plt"
   ]
  },
  {
   "cell_type": "code",
   "execution_count": 2,
   "metadata": {},
   "outputs": [],
   "source": [
    "# general configs\n",
    "pd.set_option(\"display.max_columns\", 500)\n",
    "pd.set_option(\"display.max_rows\", 500)"
   ]
  },
  {
   "cell_type": "markdown",
   "metadata": {},
   "source": [
    "# Merging DSS_SINIESTROS_AUTOS + merged (DM_RETAIL_CLIE+BTT_ASEGURADOS+VIGABT_POLIZAS+tb_cif)"
   ]
  },
  {
   "cell_type": "markdown",
   "metadata": {
    "heading_collapsed": true
   },
   "source": [
    "## Loading DSS_SINIESTROS_AUTOS"
   ]
  },
  {
   "cell_type": "code",
   "execution_count": 11,
   "metadata": {
    "hidden": true
   },
   "outputs": [],
   "source": [
    "# path to dataset\n",
    "path_sini = \"../../../data/interim/4. transformed/DSS_SINI_AUTOS_ID-red_col-newcols-dropDuplic-NUM_SECU_EXPED_UNIC.feather\"\n",
    "\n",
    "if not(os.path.exists(path_sini) and os.path.isfile(path_sini)):\n",
    "    raise Exception(\"File {} doesn't exists.\".format(path_sini))"
   ]
  },
  {
   "cell_type": "code",
   "execution_count": 12,
   "metadata": {
    "hidden": true
   },
   "outputs": [
    {
     "name": "stdout",
     "output_type": "stream",
     "text": [
      "<class 'pandas.core.frame.DataFrame'>\n",
      "RangeIndex: 1144995 entries, 0 to 1144994\n",
      "Data columns (total 44 columns):\n",
      "CATASTROFICO              1144989 non-null object\n",
      "CERRADURA_BAUL            504402 non-null object\n",
      "CERRADURA_DERECHA         504402 non-null object\n",
      "CERRADURA_IZQUIERDA       504402 non-null object\n",
      "CODIGO_BAJA               1562 non-null float64\n",
      "CODIGO_CARATULA           30240 non-null float64\n",
      "CODIGO_REAPERTURA         58512 non-null float64\n",
      "CODIGO_VEHICULO           1144905 non-null float64\n",
      "COD_ACT_BENEF             463893 non-null float64\n",
      "COD_CAUSA_SINI            1144995 non-null float64\n",
      "COD_POST_OCURRENCIA       1144991 non-null float64\n",
      "COD_POST_POLIZA           1144971 non-null float64\n",
      "COD_POST_TERC             194056 non-null float64\n",
      "COD_RAMO                  1144995 non-null int64\n",
      "COD_RIES                  1144995 non-null float64\n",
      "CONDICION_ROBO_EXP50      13085 non-null float64\n",
      "DANOS_MATERIALES          1144989 non-null object\n",
      "DESCRIPCION_TIPO          1144993 non-null object\n",
      "DESCRIPCION_VEHICULO      1144905 non-null object\n",
      "ESTADO_CIVIL              1129107 non-null object\n",
      "ESTADO_CIVIL_TERC         184865 non-null object\n",
      "ESTAD_VEH_ASEG            968507 non-null float64\n",
      "FALTANTE                  1144992 non-null object\n",
      "FECHA_SINI                1144995 non-null datetime64[ns]\n",
      "MCA_COASEG                1144995 non-null bool\n",
      "MCA_JUICIO                30240 non-null object\n",
      "MCA_VIP                   1144989 non-null object\n",
      "METRO                     1144989 non-null object\n",
      "NUM_SECU_EXPED            1144995 non-null float64\n",
      "NUM_SECU_POL              1144995 non-null int64\n",
      "OCUPACION_ASEG            1144051 non-null float64\n",
      "SEXO                      1144907 non-null object\n",
      "SEXO_TERC                 611769 non-null object\n",
      "TELEFONO_TERC             100621 non-null object\n",
      "TIPO                      1144993 non-null float64\n",
      "TIPO_EXPED                1144995 non-null object\n",
      "TIPO_LESION               117070 non-null object\n",
      "TIPO_LESION_MAXIMA        30240 non-null object\n",
      "TIPO_SINIESTRO            1144992 non-null object\n",
      "USO                       1144993 non-null float64\n",
      "dias_entre_denu_y_sini    1144995 non-null int64\n",
      "dist_fformal_fsini        166482 non-null float64\n",
      "dist_fformal_fdenu        166482 non-null float64\n",
      "existe_FECHA_FORMAL       1144995 non-null bool\n",
      "dtypes: bool(2), datetime64[ns](1), float64(18), int64(3), object(20)\n",
      "memory usage: 369.1+ MB\n"
     ]
    }
   ],
   "source": [
    "df_sini = pd.read_feather(path_sini)\n",
    "df_sini.info()"
   ]
  },
  {
   "cell_type": "markdown",
   "metadata": {
    "hidden": true
   },
   "source": [
    "<b>DSS_SINIESTROS_AUTOS: has both keys NUM_SECU_EXPED & NUM_SECU_POL</b>"
   ]
  },
  {
   "cell_type": "code",
   "execution_count": 13,
   "metadata": {
    "hidden": true
   },
   "outputs": [
    {
     "data": {
      "text/plain": [
       "1.0"
      ]
     },
     "execution_count": 13,
     "metadata": {},
     "output_type": "execute_result"
    }
   ],
   "source": [
    "# checking ID is unique\n",
    "df_sini[\"NUM_SECU_EXPED\"].nunique() / len(df_sini)"
   ]
  },
  {
   "cell_type": "code",
   "execution_count": 14,
   "metadata": {
    "hidden": true
   },
   "outputs": [
    {
     "data": {
      "text/plain": [
       "0.6410001790400831"
      ]
     },
     "execution_count": 14,
     "metadata": {},
     "output_type": "execute_result"
    }
   ],
   "source": [
    "# checking ID is unique\n",
    "df_sini[\"NUM_SECU_POL\"].nunique() / len(df_sini)"
   ]
  },
  {
   "cell_type": "code",
   "execution_count": 15,
   "metadata": {
    "hidden": true
   },
   "outputs": [
    {
     "data": {
      "text/plain": [
       "0"
      ]
     },
     "execution_count": 15,
     "metadata": {},
     "output_type": "execute_result"
    }
   ],
   "source": [
    "# checking duplicated rows\n",
    "df_sini.duplicated().sum()"
   ]
  },
  {
   "cell_type": "markdown",
   "metadata": {
    "heading_collapsed": true
   },
   "source": [
    "## Loading (DM_RETAIL_CLIE+BTT_ASEGURADOS+VIGABT_POLIZAS+tb_cif)"
   ]
  },
  {
   "cell_type": "code",
   "execution_count": 17,
   "metadata": {
    "hidden": true
   },
   "outputs": [],
   "source": [
    "# path to dataset\n",
    "path_df_ret_aseg_cif= \"../../../data/interim/5. merged/DM_RETAIL+BTT_ASEGURADOS+tb_cif.feather\"\n",
    "\n",
    "if not(os.path.exists(path_df_ret_aseg_cif) and os.path.isfile(path_df_ret_aseg_cif)):\n",
    "    raise Exception(\"File {} doesn't exists.\".format(path_df_ret_aseg_cif))"
   ]
  },
  {
   "cell_type": "code",
   "execution_count": 18,
   "metadata": {
    "hidden": true
   },
   "outputs": [
    {
     "name": "stdout",
     "output_type": "stream",
     "text": [
      "<class 'pandas.core.frame.DataFrame'>\n",
      "RangeIndex: 741910 entries, 0 to 741909\n",
      "Data columns (total 39 columns):\n",
      "ACA                        741910 non-null bool\n",
      "ANTIG_MESES                741466 non-null float64\n",
      "APTO_E_MAIL                741910 non-null bool\n",
      "CANAL                      738563 non-null object\n",
      "CANAL_ORIGEN               741910 non-null object\n",
      "CIF_ID                     741909 non-null float64\n",
      "COBERTURA_PLAN             715940 non-null object\n",
      "COD_MARCA                  715940 non-null float64\n",
      "COD_MOD                    715940 non-null float64\n",
      "DESC_EQUIPO                161921 non-null object\n",
      "ES_ELEGIBLE                741910 non-null object\n",
      "FLAG_EBILLING              741910 non-null bool\n",
      "FLAG_ROBO_CONTENIDO        741910 non-null bool\n",
      "FOR_COBRO                  741910 non-null object\n",
      "GRUPO_COMBUSTIBLE          715684 non-null float64\n",
      "MARCA                      715940 non-null object\n",
      "MARCA_SIMPLIFICADA         715940 non-null object\n",
      "MCA_0KM                    732395 non-null float64\n",
      "MODELO                     715940 non-null object\n",
      "NEGOCIO                    735427 non-null object\n",
      "NUM_SECU_POL               741910 non-null int64\n",
      "ORIGEN_DESC                741907 non-null object\n",
      "PERIODO_FACT               741910 non-null int64\n",
      "PREMIO                     741910 non-null object\n",
      "PRIMA                      741910 non-null object\n",
      "PRODUCTO_PLAN              715940 non-null object\n",
      "PROVEEDOR_EQUIPO           161921 non-null float64\n",
      "SCORE_PLAN                 409142 non-null object\n",
      "SUMA_ASEG                  740824 non-null object\n",
      "VENC_PRENDA                212459 non-null datetime64[ns]\n",
      "ZONA_RETAIL                738563 non-null object\n",
      "COD_EST_CIVIL              451374 non-null object\n",
      "FECHA_DESDE                478895 non-null datetime64[ns]\n",
      "TIPO_ACTIVIDAD             478964 non-null object\n",
      "CLIENTE                    81109 non-null object\n",
      "CODIGO_NACION              110974 non-null object\n",
      "DATECO_TIPO_ACTIVIDAD      76496 non-null object\n",
      "DOMICILIO_CODIGO_POSTAL    98488 non-null float64\n",
      "HABILITADO                 26247 non-null object\n",
      "dtypes: bool(4), datetime64[ns](2), float64(8), int64(2), object(23)\n",
      "memory usage: 200.9+ MB\n"
     ]
    }
   ],
   "source": [
    "df_ret_aseg_cif = pd.read_feather(path_df_ret_aseg_cif)\n",
    "df_ret_aseg_cif.info()"
   ]
  },
  {
   "cell_type": "code",
   "execution_count": 19,
   "metadata": {
    "hidden": true
   },
   "outputs": [
    {
     "data": {
      "text/plain": [
       "1.0"
      ]
     },
     "execution_count": 19,
     "metadata": {},
     "output_type": "execute_result"
    }
   ],
   "source": [
    "# checking ID is unique\n",
    "df_ret_aseg_cif[\"NUM_SECU_POL\"].nunique() / len(df_ret_aseg_cif)"
   ]
  },
  {
   "cell_type": "markdown",
   "metadata": {},
   "source": [
    "## Comparing DSS_SINIESTROS_AUTOS vs (DM_RETAIL_CLIE+BTT_ASEGURADOS+VIGABT_POLIZAS+tb_cif)\n",
    "Checking NUM_SECU_POL intersection"
   ]
  },
  {
   "cell_type": "code",
   "execution_count": 1,
   "metadata": {},
   "outputs": [
    {
     "ename": "NameError",
     "evalue": "name 'df_sini' is not defined",
     "output_type": "error",
     "traceback": [
      "\u001b[0;31m---------------------------------------------------------------------------\u001b[0m",
      "\u001b[0;31mNameError\u001b[0m                                 Traceback (most recent call last)",
      "\u001b[0;32m<ipython-input-1-a7449a0959b7>\u001b[0m in \u001b[0;36m<module>\u001b[0;34m()\u001b[0m\n\u001b[1;32m      1\u001b[0m \u001b[0;31m# Checking intersection between both datasets\u001b[0m\u001b[0;34m\u001b[0m\u001b[0;34m\u001b[0m\u001b[0m\n\u001b[0;32m----> 2\u001b[0;31m \u001b[0mid_common\u001b[0m \u001b[0;34m=\u001b[0m \u001b[0mset\u001b[0m\u001b[0;34m(\u001b[0m\u001b[0mdf_sini\u001b[0m\u001b[0;34m[\u001b[0m\u001b[0;34m\"NUM_SECU_POL\"\u001b[0m\u001b[0;34m]\u001b[0m\u001b[0;34m.\u001b[0m\u001b[0munique\u001b[0m\u001b[0;34m(\u001b[0m\u001b[0;34m)\u001b[0m\u001b[0;34m)\u001b[0m\u001b[0;34m.\u001b[0m\u001b[0mintersection\u001b[0m\u001b[0;34m(\u001b[0m\u001b[0mset\u001b[0m\u001b[0;34m(\u001b[0m\u001b[0mdf_ret_aseg_cif\u001b[0m\u001b[0;34m[\u001b[0m\u001b[0;34m\"NUM_SECU_POL\"\u001b[0m\u001b[0;34m]\u001b[0m\u001b[0;34m.\u001b[0m\u001b[0munique\u001b[0m\u001b[0;34m(\u001b[0m\u001b[0;34m)\u001b[0m\u001b[0;34m)\u001b[0m\u001b[0;34m)\u001b[0m\u001b[0;34m\u001b[0m\u001b[0m\n\u001b[0m\u001b[1;32m      3\u001b[0m \u001b[0mlen\u001b[0m\u001b[0;34m(\u001b[0m\u001b[0mid_common\u001b[0m\u001b[0;34m)\u001b[0m\u001b[0;34m,\u001b[0m \u001b[0mlen\u001b[0m\u001b[0;34m(\u001b[0m\u001b[0mid_common\u001b[0m\u001b[0;34m)\u001b[0m \u001b[0;34m/\u001b[0m \u001b[0mdf_sini\u001b[0m\u001b[0;34m[\u001b[0m\u001b[0;34m\"NUM_SECU_POL\"\u001b[0m\u001b[0;34m]\u001b[0m\u001b[0;34m.\u001b[0m\u001b[0mnunique\u001b[0m\u001b[0;34m(\u001b[0m\u001b[0;34m)\u001b[0m \u001b[0;34m*\u001b[0m\u001b[0;36m100\u001b[0m\u001b[0;34m,\u001b[0m \u001b[0mlen\u001b[0m\u001b[0;34m(\u001b[0m\u001b[0mid_common\u001b[0m\u001b[0;34m)\u001b[0m \u001b[0;34m/\u001b[0m \u001b[0mlen\u001b[0m\u001b[0;34m(\u001b[0m\u001b[0mdf_ret_aseg_cif\u001b[0m\u001b[0;34m)\u001b[0m\u001b[0;34m*\u001b[0m\u001b[0;36m100\u001b[0m\u001b[0;34m\u001b[0m\u001b[0m\n",
      "\u001b[0;31mNameError\u001b[0m: name 'df_sini' is not defined"
     ]
    }
   ],
   "source": [
    "# Checking intersection between both datasets\n",
    "id_common = set(df_sini[\"NUM_SECU_POL\"].unique()).intersection(set(df_ret_aseg_cif[\"NUM_SECU_POL\"].unique()))\n",
    "len(id_common), len(id_common) / df_sini[\"NUM_SECU_POL\"].nunique() *100, len(id_common) / df_ret_aseg_cif[\"NUM_SECU_POL\"].nunique()*100"
   ]
  },
  {
   "cell_type": "code",
   "execution_count": 21,
   "metadata": {},
   "outputs": [
    {
     "data": {
      "text/plain": [
       "726777"
      ]
     },
     "execution_count": 21,
     "metadata": {},
     "output_type": "execute_result"
    }
   ],
   "source": [
    "not_in_merged = set(df_sini[\"NUM_SECU_POL\"].unique()) - set(df_ret_aseg_cif[\"NUM_SECU_POL\"].unique())\n",
    "len(not_in_merged)"
   ]
  },
  {
   "cell_type": "markdown",
   "metadata": {},
   "source": [
    "<h1 style=\"color:red\"> Extremely low intersection</h1>"
   ]
  },
  {
   "cell_type": "markdown",
   "metadata": {
    "heading_collapsed": true
   },
   "source": [
    "## Merging DSS_SINIESTROS_AUTOS vs (DM_RETAIL_CLIE+BTT_ASEGURADOS+VIGABT_POLIZAS+tb_cif)"
   ]
  },
  {
   "cell_type": "code",
   "execution_count": 24,
   "metadata": {
    "hidden": true
   },
   "outputs": [
    {
     "name": "stdout",
     "output_type": "stream",
     "text": [
      "1144995 741910 1144995\n"
     ]
    }
   ],
   "source": [
    "# Merging dropping not founded in DSS_SINIESTROS_AUTOS\n",
    "df_merged = pd.merge(df_sini, df_ret_aseg_cif, on=\"NUM_SECU_POL\", how=\"left\", suffixes=(\"_sini\", \"_ret_aseg_cif\"))\n",
    "print(len(df_sini), len(df_ret_aseg_cif), len(df_merged))"
   ]
  },
  {
   "cell_type": "code",
   "execution_count": 25,
   "metadata": {
    "hidden": true
   },
   "outputs": [
    {
     "name": "stdout",
     "output_type": "stream",
     "text": [
      "<class 'pandas.core.frame.DataFrame'>\n",
      "Int64Index: 1144995 entries, 0 to 1144994\n",
      "Data columns (total 82 columns):\n",
      "CATASTROFICO               1144989 non-null object\n",
      "CERRADURA_BAUL             504402 non-null object\n",
      "CERRADURA_DERECHA          504402 non-null object\n",
      "CERRADURA_IZQUIERDA        504402 non-null object\n",
      "CODIGO_BAJA                1562 non-null float64\n",
      "CODIGO_CARATULA            30240 non-null float64\n",
      "CODIGO_REAPERTURA          58512 non-null float64\n",
      "CODIGO_VEHICULO            1144905 non-null float64\n",
      "COD_ACT_BENEF              463893 non-null float64\n",
      "COD_CAUSA_SINI             1144995 non-null float64\n",
      "COD_POST_OCURRENCIA        1144991 non-null float64\n",
      "COD_POST_POLIZA            1144971 non-null float64\n",
      "COD_POST_TERC              194056 non-null float64\n",
      "COD_RAMO                   1144995 non-null int64\n",
      "COD_RIES                   1144995 non-null float64\n",
      "CONDICION_ROBO_EXP50       13085 non-null float64\n",
      "DANOS_MATERIALES           1144989 non-null object\n",
      "DESCRIPCION_TIPO           1144993 non-null object\n",
      "DESCRIPCION_VEHICULO       1144905 non-null object\n",
      "ESTADO_CIVIL               1129107 non-null object\n",
      "ESTADO_CIVIL_TERC          184865 non-null object\n",
      "ESTAD_VEH_ASEG             968507 non-null float64\n",
      "FALTANTE                   1144992 non-null object\n",
      "FECHA_SINI                 1144995 non-null datetime64[ns]\n",
      "MCA_COASEG                 1144995 non-null bool\n",
      "MCA_JUICIO                 30240 non-null object\n",
      "MCA_VIP                    1144989 non-null object\n",
      "METRO                      1144989 non-null object\n",
      "NUM_SECU_EXPED             1144995 non-null float64\n",
      "NUM_SECU_POL               1144995 non-null int64\n",
      "OCUPACION_ASEG             1144051 non-null float64\n",
      "SEXO                       1144907 non-null object\n",
      "SEXO_TERC                  611769 non-null object\n",
      "TELEFONO_TERC              100621 non-null object\n",
      "TIPO                       1144993 non-null float64\n",
      "TIPO_EXPED                 1144995 non-null object\n",
      "TIPO_LESION                117070 non-null object\n",
      "TIPO_LESION_MAXIMA         30240 non-null object\n",
      "TIPO_SINIESTRO             1144992 non-null object\n",
      "USO                        1144993 non-null float64\n",
      "dias_entre_denu_y_sini     1144995 non-null int64\n",
      "dist_fformal_fsini         166482 non-null float64\n",
      "dist_fformal_fdenu         166482 non-null float64\n",
      "existe_FECHA_FORMAL        1144995 non-null bool\n",
      "ACA                        10675 non-null object\n",
      "ANTIG_MESES                10675 non-null float64\n",
      "APTO_E_MAIL                10675 non-null object\n",
      "CANAL                      10672 non-null object\n",
      "CANAL_ORIGEN               10675 non-null object\n",
      "CIF_ID                     10675 non-null float64\n",
      "COBERTURA_PLAN             9685 non-null object\n",
      "COD_MARCA                  9685 non-null float64\n",
      "COD_MOD                    9685 non-null float64\n",
      "DESC_EQUIPO                2095 non-null object\n",
      "ES_ELEGIBLE                10675 non-null object\n",
      "FLAG_EBILLING              10675 non-null object\n",
      "FLAG_ROBO_CONTENIDO        10675 non-null object\n",
      "FOR_COBRO                  10675 non-null object\n",
      "GRUPO_COMBUSTIBLE          9685 non-null float64\n",
      "MARCA                      9685 non-null object\n",
      "MARCA_SIMPLIFICADA         9685 non-null object\n",
      "MCA_0KM                    10661 non-null float64\n",
      "MODELO                     9685 non-null object\n",
      "NEGOCIO                    10588 non-null object\n",
      "ORIGEN_DESC                10675 non-null object\n",
      "PERIODO_FACT               10675 non-null float64\n",
      "PREMIO                     10675 non-null object\n",
      "PRIMA                      10675 non-null object\n",
      "PRODUCTO_PLAN              9685 non-null object\n",
      "PROVEEDOR_EQUIPO           2095 non-null float64\n",
      "SCORE_PLAN                 4339 non-null object\n",
      "SUMA_ASEG                  10671 non-null object\n",
      "VENC_PRENDA                5912 non-null datetime64[ns]\n",
      "ZONA_RETAIL                10672 non-null object\n",
      "COD_EST_CIVIL              4834 non-null object\n",
      "FECHA_DESDE                5399 non-null datetime64[ns]\n",
      "TIPO_ACTIVIDAD             5399 non-null object\n",
      "CLIENTE                    3112 non-null object\n",
      "CODIGO_NACION              3688 non-null object\n",
      "DATECO_TIPO_ACTIVIDAD      1573 non-null object\n",
      "DOMICILIO_CODIGO_POSTAL    3546 non-null float64\n",
      "HABILITADO                 464 non-null object\n",
      "dtypes: bool(2), datetime64[ns](3), float64(27), int64(3), object(47)\n",
      "memory usage: 709.8+ MB\n"
     ]
    }
   ],
   "source": [
    "df_merged.info()"
   ]
  },
  {
   "cell_type": "markdown",
   "metadata": {
    "hidden": true
   },
   "source": [
    "### saving merged dataset"
   ]
  },
  {
   "cell_type": "code",
   "execution_count": 26,
   "metadata": {
    "hidden": true
   },
   "outputs": [],
   "source": [
    "path_to_save = \"../../../data/interim/5. merged\"\n",
    "check_filename = \"DSS_SINIESTROS_AUTOS+DM_RETAIL+BTT_ASEGURADOS+tb_cif.feather\"\n",
    "df_merged.to_feather(os.path.join(path_to_save, check_filename))"
   ]
  },
  {
   "cell_type": "code",
   "execution_count": null,
   "metadata": {
    "hidden": true
   },
   "outputs": [],
   "source": []
  }
 ],
 "metadata": {
  "kernelspec": {
   "display_name": "Python 3",
   "language": "python",
   "name": "python3"
  },
  "language_info": {
   "codemirror_mode": {
    "name": "ipython",
    "version": 3
   },
   "file_extension": ".py",
   "mimetype": "text/x-python",
   "name": "python",
   "nbconvert_exporter": "python",
   "pygments_lexer": "ipython3",
   "version": "3.6.5"
  },
  "varInspector": {
   "cols": {
    "lenName": 16,
    "lenType": 16,
    "lenVar": 40
   },
   "kernels_config": {
    "python": {
     "delete_cmd_postfix": "",
     "delete_cmd_prefix": "del ",
     "library": "var_list.py",
     "varRefreshCmd": "print(var_dic_list())"
    },
    "r": {
     "delete_cmd_postfix": ") ",
     "delete_cmd_prefix": "rm(",
     "library": "var_list.r",
     "varRefreshCmd": "cat(var_dic_list()) "
    }
   },
   "types_to_exclude": [
    "module",
    "function",
    "builtin_function_or_method",
    "instance",
    "_Feature"
   ],
   "window_display": false
  }
 },
 "nbformat": 4,
 "nbformat_minor": 2
}
