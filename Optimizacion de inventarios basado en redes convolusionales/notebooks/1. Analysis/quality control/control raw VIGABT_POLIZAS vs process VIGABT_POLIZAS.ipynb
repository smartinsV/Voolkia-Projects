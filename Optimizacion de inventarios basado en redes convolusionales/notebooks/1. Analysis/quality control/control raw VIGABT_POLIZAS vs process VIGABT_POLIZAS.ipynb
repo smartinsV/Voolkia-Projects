{
 "cells": [
  {
   "cell_type": "code",
   "execution_count": 1,
   "metadata": {},
   "outputs": [],
   "source": [
    "import os\n",
    "\n",
    "import pandas as pd"
   ]
  },
  {
   "cell_type": "code",
   "execution_count": 2,
   "metadata": {},
   "outputs": [],
   "source": [
    "# display tables options\n",
    "pd.set_option(\"display.max_columns\", 500)\n",
    "pd.set_option(\"display.max_rows\", 500)"
   ]
  },
  {
   "cell_type": "markdown",
   "metadata": {},
   "source": [
    "# Loading raw dataset"
   ]
  },
  {
   "cell_type": "code",
   "execution_count": 3,
   "metadata": {},
   "outputs": [],
   "source": [
    "# creating the path\n",
    "path = \"../../../data/raw\"\n",
    "filename = \"VIGABT_POLIZAS.csv\"\n",
    "raw_path = os.path.join(path, filename)\n",
    "if not(os.path.exists(raw_path) and os.path.isfile(raw_path)):\n",
    "    raise Exception(\"File {} doesn't exists.\".format(raw_path))"
   ]
  },
  {
   "cell_type": "code",
   "execution_count": 4,
   "metadata": {},
   "outputs": [
    {
     "name": "stdout",
     "output_type": "stream",
     "text": [
      "<class 'pandas.core.frame.DataFrame'>\n",
      "RangeIndex: 2363937 entries, 0 to 2363936\n",
      "Data columns (total 2 columns):\n",
      "NUM_SECU_POL    int64\n",
      "ID              float64\n",
      "dtypes: float64(1), int64(1)\n",
      "memory usage: 36.1 MB\n"
     ]
    }
   ],
   "source": [
    "usecols = [\"NUM_SECU_POL\", \"ID\"]\n",
    "df_raw = pd.read_csv(raw_path, usecols=usecols)\n",
    "df_raw.info()"
   ]
  },
  {
   "cell_type": "code",
   "execution_count": 17,
   "metadata": {},
   "outputs": [
    {
     "data": {
      "text/plain": [
       "NUM_SECU_POL     0.00000\n",
       "ID              74.78025\n",
       "dtype: float64"
      ]
     },
     "execution_count": 17,
     "metadata": {},
     "output_type": "execute_result"
    }
   ],
   "source": [
    "df_raw.isna().mean() * 100"
   ]
  },
  {
   "cell_type": "code",
   "execution_count": 16,
   "metadata": {},
   "outputs": [
    {
     "data": {
      "text/plain": [
       "596179"
      ]
     },
     "execution_count": 16,
     "metadata": {},
     "output_type": "execute_result"
    }
   ],
   "source": [
    "df_raw[\"ID\"].count()  # not na values"
   ]
  },
  {
   "cell_type": "markdown",
   "metadata": {},
   "source": [
    "# Loading process file"
   ]
  },
  {
   "cell_type": "code",
   "execution_count": 5,
   "metadata": {},
   "outputs": [],
   "source": [
    "# path to dataset\n",
    "path_vigabt = \"../../../data/interim/3. row_red/VIGABT_POLIZAS-red_col-red_rows-clean.feather\"\n",
    "\n",
    "if not(os.path.exists(path_vigabt) and os.path.isfile(path_vigabt)):\n",
    "    raise Exception(\"File {} doesn't exists.\".format(path_vigabt))"
   ]
  },
  {
   "cell_type": "code",
   "execution_count": 6,
   "metadata": {},
   "outputs": [
    {
     "name": "stdout",
     "output_type": "stream",
     "text": [
      "<class 'pandas.core.frame.DataFrame'>\n",
      "RangeIndex: 729756 entries, 0 to 729755\n",
      "Data columns (total 29 columns):\n",
      "CANT_RENOVACION                 709911 non-null float64\n",
      "CAPITAL_ACCESORIOS              729756 non-null object\n",
      "CAPITAL_ASEGURADO_COTIZACION    725415 non-null object\n",
      "CAPITAL_VEHICULO                729756 non-null object\n",
      "COD_COBRO                       729756 non-null object\n",
      "COD_COBRO_ANTERIOR              604173 non-null object\n",
      "COD_POSTAL                      729756 non-null int64\n",
      "COD_PROD                        729756 non-null int64\n",
      "COD_RAMO                        729756 non-null int64\n",
      "COD_RIES                        729756 non-null int64\n",
      "COD_ZONA_CASCO                  729754 non-null float64\n",
      "COD_ZONA_RC                     729754 non-null float64\n",
      "COD_ZONA_ROBO                   729754 non-null float64\n",
      "CONV_COMISIONARIO               729756 non-null object\n",
      "FECHA_PROCESO                   729756 non-null datetime64[ns]\n",
      "FECHA_VENC_POL                  729756 non-null datetime64[ns]\n",
      "FECHA_VIG_ORIG_POL              729756 non-null datetime64[ns]\n",
      "FECHA_VIG_POL                   729756 non-null datetime64[ns]\n",
      "ID                              64646 non-null float64\n",
      "MCA_AGRAVANTE                   729582 non-null object\n",
      "MCA_EMPLEADO                    729756 non-null object\n",
      "MCA_MOVIMIENTO                  29103 non-null object\n",
      "MCA_POLIZA_VIP                  709911 non-null object\n",
      "NEGOCIO                         626653 non-null object\n",
      "NUM_SECU_POL                    729756 non-null int64\n",
      "PRENDARIO                       638122 non-null object\n",
      "SEGMENTO                        565119 non-null object\n",
      "cambio_cobro                    729756 non-null bool\n",
      "ANTIG_calc                      729756 non-null int64\n",
      "dtypes: bool(1), datetime64[ns](4), float64(5), int64(6), object(13)\n",
      "memory usage: 156.6+ MB\n"
     ]
    }
   ],
   "source": [
    "df_process = pd.read_feather(path_vigabt)\n",
    "df_process.info()"
   ]
  },
  {
   "cell_type": "code",
   "execution_count": 9,
   "metadata": {},
   "outputs": [
    {
     "data": {
      "text/plain": [
       "CANT_RENOVACION                 0.027194\n",
       "CAPITAL_ACCESORIOS              0.000000\n",
       "CAPITAL_ASEGURADO_COTIZACION    0.005949\n",
       "CAPITAL_VEHICULO                0.000000\n",
       "COD_COBRO                       0.000000\n",
       "COD_COBRO_ANTERIOR              0.172089\n",
       "COD_POSTAL                      0.000000\n",
       "COD_PROD                        0.000000\n",
       "COD_RAMO                        0.000000\n",
       "COD_RIES                        0.000000\n",
       "COD_ZONA_CASCO                  0.000003\n",
       "COD_ZONA_RC                     0.000003\n",
       "COD_ZONA_ROBO                   0.000003\n",
       "CONV_COMISIONARIO               0.000000\n",
       "FECHA_PROCESO                   0.000000\n",
       "FECHA_VENC_POL                  0.000000\n",
       "FECHA_VIG_ORIG_POL              0.000000\n",
       "FECHA_VIG_POL                   0.000000\n",
       "ID                              0.911414\n",
       "MCA_AGRAVANTE                   0.000238\n",
       "MCA_EMPLEADO                    0.000000\n",
       "MCA_MOVIMIENTO                  0.960120\n",
       "MCA_POLIZA_VIP                  0.027194\n",
       "NEGOCIO                         0.141284\n",
       "NUM_SECU_POL                    0.000000\n",
       "PRENDARIO                       0.125568\n",
       "SEGMENTO                        0.225606\n",
       "cambio_cobro                    0.000000\n",
       "ANTIG_calc                      0.000000\n",
       "dtype: float64"
      ]
     },
     "execution_count": 9,
     "metadata": {},
     "output_type": "execute_result"
    }
   ],
   "source": [
    "df_process.isna().mean()"
   ]
  },
  {
   "cell_type": "markdown",
   "metadata": {},
   "source": [
    "# controlling intersection"
   ]
  },
  {
   "cell_type": "code",
   "execution_count": 14,
   "metadata": {},
   "outputs": [
    {
     "data": {
      "text/plain": [
       "(42834, 99.95332991086013, 100.0)"
      ]
     },
     "execution_count": 14,
     "metadata": {},
     "output_type": "execute_result"
    }
   ],
   "source": [
    "col = \"ID\"\n",
    "common = set(df_raw[col].unique()).intersection(set(df_process[col].unique()))\n",
    "len(common), len(common)/ df_raw[col].nunique() * 100, len(common)/ df_process[col].nunique() * 100"
   ]
  },
  {
   "cell_type": "code",
   "execution_count": 27,
   "metadata": {},
   "outputs": [
    {
     "data": {
      "text/plain": [
       "21"
      ]
     },
     "execution_count": 27,
     "metadata": {},
     "output_type": "execute_result"
    }
   ],
   "source": [
    "not_in = set(df_raw[~df_raw[col].isin(common)][col].unique())\n",
    "len(not_in)"
   ]
  },
  {
   "cell_type": "code",
   "execution_count": 28,
   "metadata": {},
   "outputs": [
    {
     "data": {
      "text/plain": [
       "21"
      ]
     },
     "execution_count": 28,
     "metadata": {},
     "output_type": "execute_result"
    }
   ],
   "source": [
    "not_in_set = set(df_raw[col].unique()) - (set(df_process[col].unique()))\n",
    "len(not_in_set)"
   ]
  },
  {
   "cell_type": "code",
   "execution_count": 29,
   "metadata": {},
   "outputs": [
    {
     "data": {
      "text/plain": [
       "{nan}"
      ]
     },
     "execution_count": 29,
     "metadata": {},
     "output_type": "execute_result"
    }
   ],
   "source": [
    "not_in_set - not_in"
   ]
  },
  {
   "cell_type": "code",
   "execution_count": 30,
   "metadata": {},
   "outputs": [
    {
     "name": "stdout",
     "output_type": "stream",
     "text": [
      "nan\n",
      "8512896.0\n",
      "6025475.0\n",
      "2961541.0\n",
      "8558600.0\n",
      "3782674.0\n",
      "401310.0\n",
      "8426159.0\n",
      "7890869.0\n",
      "8558013.0\n",
      "6037437.0\n",
      "1380799.0\n",
      "22720452.0\n",
      "8562653.0\n",
      "7006689.0\n",
      "5286376.0\n",
      "3193198.0\n",
      "8683119.0\n",
      "1768049.0\n",
      "1987571.0\n",
      "7889908.0\n"
     ]
    }
   ],
   "source": [
    "for v in not_in:\n",
    "    print(v)"
   ]
  },
  {
   "cell_type": "code",
   "execution_count": null,
   "metadata": {},
   "outputs": [],
   "source": []
  }
 ],
 "metadata": {
  "kernelspec": {
   "display_name": "Python 3",
   "language": "python",
   "name": "python3"
  },
  "language_info": {
   "codemirror_mode": {
    "name": "ipython",
    "version": 3
   },
   "file_extension": ".py",
   "mimetype": "text/x-python",
   "name": "python",
   "nbconvert_exporter": "python",
   "pygments_lexer": "ipython3",
   "version": "3.6.8"
  },
  "varInspector": {
   "cols": {
    "lenName": 16,
    "lenType": 16,
    "lenVar": 40
   },
   "kernels_config": {
    "python": {
     "delete_cmd_postfix": "",
     "delete_cmd_prefix": "del ",
     "library": "var_list.py",
     "varRefreshCmd": "print(var_dic_list())"
    },
    "r": {
     "delete_cmd_postfix": ") ",
     "delete_cmd_prefix": "rm(",
     "library": "var_list.r",
     "varRefreshCmd": "cat(var_dic_list()) "
    }
   },
   "types_to_exclude": [
    "module",
    "function",
    "builtin_function_or_method",
    "instance",
    "_Feature"
   ],
   "window_display": false
  }
 },
 "nbformat": 4,
 "nbformat_minor": 2
}
