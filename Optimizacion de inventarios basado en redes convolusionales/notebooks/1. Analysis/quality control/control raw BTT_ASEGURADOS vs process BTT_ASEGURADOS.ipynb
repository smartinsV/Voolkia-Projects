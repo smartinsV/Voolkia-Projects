{
 "cells": [
  {
   "cell_type": "code",
   "execution_count": 1,
   "metadata": {},
   "outputs": [],
   "source": [
    "import os\n",
    "\n",
    "import pandas as pd"
   ]
  },
  {
   "cell_type": "code",
   "execution_count": 2,
   "metadata": {},
   "outputs": [],
   "source": [
    "# display tables options\n",
    "pd.set_option(\"display.max_columns\", 500)\n",
    "pd.set_option(\"display.max_rows\", 500)"
   ]
  },
  {
   "cell_type": "markdown",
   "metadata": {},
   "source": [
    "# Loading raw dataset"
   ]
  },
  {
   "cell_type": "code",
   "execution_count": 3,
   "metadata": {},
   "outputs": [],
   "source": [
    "# creating the path\n",
    "path = \"../../../data/raw\"\n",
    "filename = \"BTT_ASEGURADOS.csv\"\n",
    "raw_path = os.path.join(path, filename)\n",
    "if not(os.path.exists(raw_path) and os.path.isfile(raw_path)):\n",
    "    raise Exception(\"File {} doesn't exists.\".format(raw_path))"
   ]
  },
  {
   "cell_type": "code",
   "execution_count": 5,
   "metadata": {},
   "outputs": [
    {
     "name": "stdout",
     "output_type": "stream",
     "text": [
      "<class 'pandas.core.frame.DataFrame'>\n",
      "RangeIndex: 3479842 entries, 0 to 3479841\n",
      "Data columns (total 1 columns):\n",
      "CIF_ID    float64\n",
      "dtypes: float64(1)\n",
      "memory usage: 26.5 MB\n"
     ]
    }
   ],
   "source": [
    "usecols = [\"CIF_ID\"]\n",
    "df_raw = pd.read_csv(raw_path, usecols=usecols)\n",
    "df_raw.info()"
   ]
  },
  {
   "cell_type": "markdown",
   "metadata": {},
   "source": [
    "# Loading process file"
   ]
  },
  {
   "cell_type": "code",
   "execution_count": 6,
   "metadata": {},
   "outputs": [],
   "source": [
    "# path to dataset\n",
    "path_aseg = \"../../../data/interim/3. row_red/BTT_ASEGURADOS-red_col-red_cols-clean-unique_CIF_ID.feather\"\n",
    "\n",
    "if not(os.path.exists(path_aseg) and os.path.isfile(path_aseg)):\n",
    "    raise Exception(\"File {} doesn't exists.\".format(path_aseg))"
   ]
  },
  {
   "cell_type": "code",
   "execution_count": 7,
   "metadata": {},
   "outputs": [
    {
     "name": "stdout",
     "output_type": "stream",
     "text": [
      "<class 'pandas.core.frame.DataFrame'>\n",
      "RangeIndex: 1271360 entries, 0 to 1271359\n",
      "Data columns (total 4 columns):\n",
      "CIF_ID            1271360 non-null float64\n",
      "COD_EST_CIVIL     1210521 non-null object\n",
      "FECHA_DESDE       1248383 non-null datetime64[ns]\n",
      "TIPO_ACTIVIDAD    1271360 non-null object\n",
      "dtypes: datetime64[ns](1), float64(1), object(2)\n",
      "memory usage: 38.8+ MB\n"
     ]
    },
    {
     "name": "stderr",
     "output_type": "stream",
     "text": [
      "/home/voolkia/anaconda3/lib/python3.6/site-packages/pyarrow/pandas_compat.py:752: FutureWarning: .labels was deprecated in version 0.24.0. Use .codes instead.\n",
      "  labels, = index.labels\n"
     ]
    }
   ],
   "source": [
    "df_process = pd.read_feather(path_aseg)\n",
    "df_process.info()"
   ]
  },
  {
   "cell_type": "markdown",
   "metadata": {},
   "source": [
    "# controlling intersection"
   ]
  },
  {
   "cell_type": "code",
   "execution_count": 8,
   "metadata": {},
   "outputs": [
    {
     "data": {
      "text/plain": [
       "(1271360, 37.55563439381958, 100.0)"
      ]
     },
     "execution_count": 8,
     "metadata": {},
     "output_type": "execute_result"
    }
   ],
   "source": [
    "col = \"CIF_ID\"\n",
    "common = set(df_raw[col].unique()).intersection(set(df_process[col].unique()))\n",
    "len(common), len(common)/ df_raw[col].nunique() * 100, len(common)/ df_process[col].nunique() * 100"
   ]
  },
  {
   "cell_type": "code",
   "execution_count": 9,
   "metadata": {},
   "outputs": [
    {
     "data": {
      "text/plain": [
       "2113912"
      ]
     },
     "execution_count": 9,
     "metadata": {},
     "output_type": "execute_result"
    }
   ],
   "source": [
    "not_in = set(df_raw[~df_raw[col].isin(common)][col].unique())\n",
    "len(not_in)"
   ]
  },
  {
   "cell_type": "code",
   "execution_count": 10,
   "metadata": {},
   "outputs": [
    {
     "data": {
      "text/plain": [
       "2113912"
      ]
     },
     "execution_count": 10,
     "metadata": {},
     "output_type": "execute_result"
    }
   ],
   "source": [
    "not_in_set = set(df_raw[col].unique()) - (set(df_process[col].unique()))\n",
    "len(not_in_set)"
   ]
  },
  {
   "cell_type": "code",
   "execution_count": 11,
   "metadata": {},
   "outputs": [
    {
     "data": {
      "text/plain": [
       "{nan}"
      ]
     },
     "execution_count": 11,
     "metadata": {},
     "output_type": "execute_result"
    }
   ],
   "source": [
    "not_in_set - not_in"
   ]
  },
  {
   "cell_type": "code",
   "execution_count": 30,
   "metadata": {},
   "outputs": [
    {
     "name": "stdout",
     "output_type": "stream",
     "text": [
      "nan\n",
      "8512896.0\n",
      "6025475.0\n",
      "2961541.0\n",
      "8558600.0\n",
      "3782674.0\n",
      "401310.0\n",
      "8426159.0\n",
      "7890869.0\n",
      "8558013.0\n",
      "6037437.0\n",
      "1380799.0\n",
      "22720452.0\n",
      "8562653.0\n",
      "7006689.0\n",
      "5286376.0\n",
      "3193198.0\n",
      "8683119.0\n",
      "1768049.0\n",
      "1987571.0\n",
      "7889908.0\n"
     ]
    }
   ],
   "source": [
    "for v in not_in:\n",
    "    print(v)"
   ]
  },
  {
   "cell_type": "markdown",
   "metadata": {},
   "source": [
    "# partial control"
   ]
  },
  {
   "cell_type": "code",
   "execution_count": 12,
   "metadata": {},
   "outputs": [
    {
     "name": "stderr",
     "output_type": "stream",
     "text": [
      "/home/voolkia/anaconda3/lib/python3.6/site-packages/pyarrow/pandas_compat.py:752: FutureWarning: .labels was deprecated in version 0.24.0. Use .codes instead.\n",
      "  labels, = index.labels\n"
     ]
    }
   ],
   "source": [
    "df_par = pd.read_feather(\"../../../data/interim/1. col_red/BTT_ASEGURADOS-red_col.feather\")"
   ]
  },
  {
   "cell_type": "code",
   "execution_count": 13,
   "metadata": {},
   "outputs": [
    {
     "data": {
      "text/plain": [
       "(3385271, 100.0, 100.0)"
      ]
     },
     "execution_count": 13,
     "metadata": {},
     "output_type": "execute_result"
    }
   ],
   "source": [
    "col = \"CIF_ID\"\n",
    "common = set(df_raw[col].unique()).intersection(set(df_par[col].unique()))\n",
    "len(common), len(common)/ df_raw[col].nunique() * 100, len(common)/ df_par[col].nunique() * 100"
   ]
  },
  {
   "cell_type": "code",
   "execution_count": null,
   "metadata": {},
   "outputs": [],
   "source": []
  }
 ],
 "metadata": {
  "kernelspec": {
   "display_name": "Python 3",
   "language": "python",
   "name": "python3"
  },
  "language_info": {
   "codemirror_mode": {
    "name": "ipython",
    "version": 3
   },
   "file_extension": ".py",
   "mimetype": "text/x-python",
   "name": "python",
   "nbconvert_exporter": "python",
   "pygments_lexer": "ipython3",
   "version": "3.6.5"
  },
  "varInspector": {
   "cols": {
    "lenName": 16,
    "lenType": 16,
    "lenVar": 40
   },
   "kernels_config": {
    "python": {
     "delete_cmd_postfix": "",
     "delete_cmd_prefix": "del ",
     "library": "var_list.py",
     "varRefreshCmd": "print(var_dic_list())"
    },
    "r": {
     "delete_cmd_postfix": ") ",
     "delete_cmd_prefix": "rm(",
     "library": "var_list.r",
     "varRefreshCmd": "cat(var_dic_list()) "
    }
   },
   "types_to_exclude": [
    "module",
    "function",
    "builtin_function_or_method",
    "instance",
    "_Feature"
   ],
   "window_display": false
  }
 },
 "nbformat": 4,
 "nbformat_minor": 2
}
