{
 "cells": [
  {
   "cell_type": "code",
   "execution_count": 1,
   "metadata": {},
   "outputs": [],
   "source": [
    "import os\n",
    "\n",
    "import pandas as pd"
   ]
  },
  {
   "cell_type": "code",
   "execution_count": 2,
   "metadata": {},
   "outputs": [],
   "source": [
    "# display tables options\n",
    "pd.set_option(\"display.max_columns\", 500)\n",
    "pd.set_option(\"display.max_rows\", 500)"
   ]
  },
  {
   "cell_type": "code",
   "execution_count": 3,
   "metadata": {},
   "outputs": [],
   "source": [
    "# creating the path\n",
    "path = \"../../data/raw\"\n",
    "# file\n",
    "vigabt_filename = \"VIGABT_POLIZAS.csv\"\n",
    "dmretail_filename = \"DM_RETAIL_CLIE.csv\""
   ]
  },
  {
   "cell_type": "code",
   "execution_count": 4,
   "metadata": {},
   "outputs": [
    {
     "name": "stdout",
     "output_type": "stream",
     "text": [
      "<class 'pandas.core.frame.DataFrame'>\n",
      "RangeIndex: 2363937 entries, 0 to 2363936\n",
      "Data columns (total 2 columns):\n",
      "NUM_SECU_POL    int64\n",
      "ID              float64\n",
      "dtypes: float64(1), int64(1)\n",
      "memory usage: 36.1 MB\n"
     ]
    }
   ],
   "source": [
    "usecols = [\"NUM_SECU_POL\", \"ID\"]\n",
    "df_vigabt = pd.read_csv(os.path.join(path, vigabt_filename), usecols=usecols)\n",
    "df_vigabt.info()"
   ]
  },
  {
   "cell_type": "code",
   "execution_count": 5,
   "metadata": {},
   "outputs": [
    {
     "name": "stdout",
     "output_type": "stream",
     "text": [
      "<class 'pandas.core.frame.DataFrame'>\n",
      "RangeIndex: 798517 entries, 0 to 798516\n",
      "Data columns (total 2 columns):\n",
      "NUM_SECU_POL    798517 non-null int64\n",
      "CIF_ID          798245 non-null float64\n",
      "dtypes: float64(1), int64(1)\n",
      "memory usage: 12.2 MB\n"
     ]
    }
   ],
   "source": [
    "usecols = [\"NUM_SECU_POL\", \"CIF_ID\"]\n",
    "df_dmretail = pd.read_csv(os.path.join(path, dmretail_filename), usecols=usecols)\n",
    "df_dmretail.info()"
   ]
  },
  {
   "cell_type": "markdown",
   "metadata": {},
   "source": [
    "# comparing CIF_ID"
   ]
  },
  {
   "cell_type": "code",
   "execution_count": 6,
   "metadata": {},
   "outputs": [
    {
     "name": "stdout",
     "output_type": "stream",
     "text": [
      "<class 'pandas.core.frame.DataFrame'>\n",
      "RangeIndex: 2363937 entries, 0 to 2363936\n",
      "Data columns (total 2 columns):\n",
      "NUM_SECU_POL    int64\n",
      "CIF_ID          float64\n",
      "dtypes: float64(1), int64(1)\n",
      "memory usage: 36.1 MB\n"
     ]
    }
   ],
   "source": [
    "df_vigabt.rename(columns={\"ID\": \"CIF_ID\"}, inplace=True)\n",
    "df_vigabt.info()"
   ]
  },
  {
   "cell_type": "code",
   "execution_count": 8,
   "metadata": {},
   "outputs": [
    {
     "data": {
      "text/plain": [
       "(32094, 4.019200593099458, 1.3576503942363947)"
      ]
     },
     "execution_count": 8,
     "metadata": {},
     "output_type": "execute_result"
    }
   ],
   "source": [
    "col = \"CIF_ID\"\n",
    "common = set(df_dmretail[col].unique()).intersection(set(df_vigabt[col].unique()))\n",
    "len(common), len(common)/len(df_dmretail) * 100, len(common)/len(df_vigabt) * 100"
   ]
  },
  {
   "cell_type": "code",
   "execution_count": null,
   "metadata": {},
   "outputs": [],
   "source": []
  },
  {
   "cell_type": "markdown",
   "metadata": {},
   "source": [
    "# comparing NUM_SECU_POL"
   ]
  },
  {
   "cell_type": "code",
   "execution_count": 9,
   "metadata": {},
   "outputs": [
    {
     "data": {
      "text/plain": [
       "(7484, 0.9372374038373635, 0.3165905013543085)"
      ]
     },
     "execution_count": 9,
     "metadata": {},
     "output_type": "execute_result"
    }
   ],
   "source": [
    "col = \"NUM_SECU_POL\"\n",
    "common = set(df_dmretail[col].unique()).intersection(set(df_vigabt[col].unique()))\n",
    "len(common), len(common)/len(df_dmretail) * 100, len(common)/len(df_vigabt) * 100"
   ]
  },
  {
   "cell_type": "code",
   "execution_count": null,
   "metadata": {},
   "outputs": [],
   "source": []
  }
 ],
 "metadata": {
  "kernelspec": {
   "display_name": "Python 3",
   "language": "python",
   "name": "python3"
  },
  "language_info": {
   "codemirror_mode": {
    "name": "ipython",
    "version": 3
   },
   "file_extension": ".py",
   "mimetype": "text/x-python",
   "name": "python",
   "nbconvert_exporter": "python",
   "pygments_lexer": "ipython3",
   "version": "3.6.5"
  },
  "varInspector": {
   "cols": {
    "lenName": 16,
    "lenType": 16,
    "lenVar": 40
   },
   "kernels_config": {
    "python": {
     "delete_cmd_postfix": "",
     "delete_cmd_prefix": "del ",
     "library": "var_list.py",
     "varRefreshCmd": "print(var_dic_list())"
    },
    "r": {
     "delete_cmd_postfix": ") ",
     "delete_cmd_prefix": "rm(",
     "library": "var_list.r",
     "varRefreshCmd": "cat(var_dic_list()) "
    }
   },
   "types_to_exclude": [
    "module",
    "function",
    "builtin_function_or_method",
    "instance",
    "_Feature"
   ],
   "window_display": false
  }
 },
 "nbformat": 4,
 "nbformat_minor": 2
}
