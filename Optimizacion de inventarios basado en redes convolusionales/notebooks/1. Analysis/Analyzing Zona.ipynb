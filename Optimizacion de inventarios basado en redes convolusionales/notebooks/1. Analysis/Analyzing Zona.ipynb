{
 "cells": [
  {
   "cell_type": "code",
   "execution_count": 1,
   "metadata": {},
   "outputs": [],
   "source": [
    "import os\n",
    "\n",
    "import pandas as pd"
   ]
  },
  {
   "cell_type": "code",
   "execution_count": 2,
   "metadata": {},
   "outputs": [],
   "source": [
    "path = \"../../data/raw/CP_zonas.csv\"\n",
    "\n",
    "if not os.path.isfile(path):\n",
    "    raise Exception(\"FIle not found\")"
   ]
  },
  {
   "cell_type": "code",
   "execution_count": 3,
   "metadata": {},
   "outputs": [
    {
     "data": {
      "text/html": [
       "<div>\n",
       "<style scoped>\n",
       "    .dataframe tbody tr th:only-of-type {\n",
       "        vertical-align: middle;\n",
       "    }\n",
       "\n",
       "    .dataframe tbody tr th {\n",
       "        vertical-align: top;\n",
       "    }\n",
       "\n",
       "    .dataframe thead th {\n",
       "        text-align: right;\n",
       "    }\n",
       "</style>\n",
       "<table border=\"1\" class=\"dataframe\">\n",
       "  <thead>\n",
       "    <tr style=\"text-align: right;\">\n",
       "      <th></th>\n",
       "      <th>COD_POSTAL</th>\n",
       "      <th>PARTIDO</th>\n",
       "      <th>COD_PROVINCIA</th>\n",
       "      <th>COD_PARTIDO</th>\n",
       "      <th>DESC_PROVINCIA</th>\n",
       "      <th>DESC_PARTIDO</th>\n",
       "      <th>RC_CLUSTER_2019</th>\n",
       "      <th>RC_RELATIVIDAD_2019</th>\n",
       "      <th>DP_CLUSTER_2019</th>\n",
       "      <th>DP_RELATIVIDAD_2019</th>\n",
       "      <th>RT_CLUSTER_2019</th>\n",
       "      <th>RT_RELATIVIDAD_2019</th>\n",
       "    </tr>\n",
       "  </thead>\n",
       "  <tbody>\n",
       "    <tr>\n",
       "      <th>0</th>\n",
       "      <td>1343</td>\n",
       "      <td>2001</td>\n",
       "      <td>2</td>\n",
       "      <td>1</td>\n",
       "      <td>CIUDAD AUTONOMA DE BUENOS AIRES</td>\n",
       "      <td>COMUNA 01</td>\n",
       "      <td>18.0</td>\n",
       "      <td>0.8631</td>\n",
       "      <td>17.0</td>\n",
       "      <td>0.8395</td>\n",
       "      <td>3.0</td>\n",
       "      <td>1.0</td>\n",
       "    </tr>\n",
       "    <tr>\n",
       "      <th>1</th>\n",
       "      <td>1344</td>\n",
       "      <td>2001</td>\n",
       "      <td>2</td>\n",
       "      <td>1</td>\n",
       "      <td>CIUDAD AUTONOMA DE BUENOS AIRES</td>\n",
       "      <td>COMUNA 01</td>\n",
       "      <td>18.0</td>\n",
       "      <td>0.8631</td>\n",
       "      <td>17.0</td>\n",
       "      <td>0.8395</td>\n",
       "      <td>3.0</td>\n",
       "      <td>1.0</td>\n",
       "    </tr>\n",
       "    <tr>\n",
       "      <th>2</th>\n",
       "      <td>1345</td>\n",
       "      <td>2001</td>\n",
       "      <td>2</td>\n",
       "      <td>1</td>\n",
       "      <td>CIUDAD AUTONOMA DE BUENOS AIRES</td>\n",
       "      <td>COMUNA 01</td>\n",
       "      <td>18.0</td>\n",
       "      <td>0.8631</td>\n",
       "      <td>17.0</td>\n",
       "      <td>0.8395</td>\n",
       "      <td>3.0</td>\n",
       "      <td>1.0</td>\n",
       "    </tr>\n",
       "    <tr>\n",
       "      <th>3</th>\n",
       "      <td>1347</td>\n",
       "      <td>2001</td>\n",
       "      <td>2</td>\n",
       "      <td>1</td>\n",
       "      <td>CIUDAD AUTONOMA DE BUENOS AIRES</td>\n",
       "      <td>COMUNA 01</td>\n",
       "      <td>18.0</td>\n",
       "      <td>0.8631</td>\n",
       "      <td>17.0</td>\n",
       "      <td>0.8395</td>\n",
       "      <td>3.0</td>\n",
       "      <td>1.0</td>\n",
       "    </tr>\n",
       "    <tr>\n",
       "      <th>4</th>\n",
       "      <td>1348</td>\n",
       "      <td>2001</td>\n",
       "      <td>2</td>\n",
       "      <td>1</td>\n",
       "      <td>CIUDAD AUTONOMA DE BUENOS AIRES</td>\n",
       "      <td>COMUNA 01</td>\n",
       "      <td>18.0</td>\n",
       "      <td>0.8631</td>\n",
       "      <td>17.0</td>\n",
       "      <td>0.8395</td>\n",
       "      <td>3.0</td>\n",
       "      <td>1.0</td>\n",
       "    </tr>\n",
       "  </tbody>\n",
       "</table>\n",
       "</div>"
      ],
      "text/plain": [
       "   COD_POSTAL  PARTIDO  COD_PROVINCIA  COD_PARTIDO  \\\n",
       "0        1343     2001              2            1   \n",
       "1        1344     2001              2            1   \n",
       "2        1345     2001              2            1   \n",
       "3        1347     2001              2            1   \n",
       "4        1348     2001              2            1   \n",
       "\n",
       "                    DESC_PROVINCIA DESC_PARTIDO  RC_CLUSTER_2019  \\\n",
       "0  CIUDAD AUTONOMA DE BUENOS AIRES    COMUNA 01             18.0   \n",
       "1  CIUDAD AUTONOMA DE BUENOS AIRES    COMUNA 01             18.0   \n",
       "2  CIUDAD AUTONOMA DE BUENOS AIRES    COMUNA 01             18.0   \n",
       "3  CIUDAD AUTONOMA DE BUENOS AIRES    COMUNA 01             18.0   \n",
       "4  CIUDAD AUTONOMA DE BUENOS AIRES    COMUNA 01             18.0   \n",
       "\n",
       "   RC_RELATIVIDAD_2019  DP_CLUSTER_2019  DP_RELATIVIDAD_2019  RT_CLUSTER_2019  \\\n",
       "0               0.8631             17.0               0.8395              3.0   \n",
       "1               0.8631             17.0               0.8395              3.0   \n",
       "2               0.8631             17.0               0.8395              3.0   \n",
       "3               0.8631             17.0               0.8395              3.0   \n",
       "4               0.8631             17.0               0.8395              3.0   \n",
       "\n",
       "   RT_RELATIVIDAD_2019  \n",
       "0                  1.0  \n",
       "1                  1.0  \n",
       "2                  1.0  \n",
       "3                  1.0  \n",
       "4                  1.0  "
      ]
     },
     "execution_count": 3,
     "metadata": {},
     "output_type": "execute_result"
    }
   ],
   "source": [
    "df = pd.read_csv(path, sep=\";\")\n",
    "df.head()"
   ]
  },
  {
   "cell_type": "code",
   "execution_count": 4,
   "metadata": {},
   "outputs": [
    {
     "data": {
      "text/plain": [
       "(1000, 9421)"
      ]
     },
     "execution_count": 4,
     "metadata": {},
     "output_type": "execute_result"
    }
   ],
   "source": [
    "df[\"COD_POSTAL\"].min(), df[\"COD_POSTAL\"].max()"
   ]
  },
  {
   "cell_type": "code",
   "execution_count": 6,
   "metadata": {},
   "outputs": [
    {
     "data": {
      "text/plain": [
       "0"
      ]
     },
     "execution_count": 6,
     "metadata": {},
     "output_type": "execute_result"
    }
   ],
   "source": [
    "# all COD_POSTAL have only 1 PARTIDO\n",
    "(df.groupby(\"COD_POSTAL\")[\"PARTIDO\"].value_counts() > 1).sum()"
   ]
  },
  {
   "cell_type": "code",
   "execution_count": 22,
   "metadata": {},
   "outputs": [
    {
     "name": "stdout",
     "output_type": "stream",
     "text": [
      "265\n",
      "\n",
      "86\n",
      "\n",
      "9\n",
      "\n",
      "24\n",
      "\n",
      "104\n",
      "\n",
      "13\n",
      "\n",
      "14\n",
      "\n",
      "54\n",
      "\n",
      "64\n",
      "\n",
      "64\n",
      "\n",
      "4\n",
      "\n",
      "24\n",
      "\n",
      "30\n",
      "\n",
      "18\n",
      "\n",
      "6\n",
      "\n",
      "9\n",
      "\n",
      "9\n",
      "\n",
      "59\n",
      "\n",
      "129\n",
      "\n",
      "30\n",
      "\n",
      "231\n",
      "\n",
      "99\n",
      "\n",
      "8\n",
      "\n",
      "124\n",
      "\n",
      "235\n",
      "\n",
      "209\n",
      "\n",
      "188\n",
      "\n",
      "68\n",
      "\n",
      "231\n",
      "\n",
      "1\n",
      "\n"
     ]
    }
   ],
   "source": [
    "# tmp[\"RC_CLUSTER_2019\"].nunique(), tmp[\"RT_CLUSTER_2019\"].nunique()\n",
    "col = \"DP_CLUSTER_2019\"\n",
    "for v in df[col].unique():\n",
    "    tmp = df[df[col] == v]\n",
    "    print(tmp[\"COD_POSTAL\"].nunique())\n",
    "    print()"
   ]
  },
  {
   "cell_type": "code",
   "execution_count": null,
   "metadata": {},
   "outputs": [],
   "source": []
  }
 ],
 "metadata": {
  "kernelspec": {
   "display_name": "Python 3",
   "language": "python",
   "name": "python3"
  },
  "language_info": {
   "codemirror_mode": {
    "name": "ipython",
    "version": 3
   },
   "file_extension": ".py",
   "mimetype": "text/x-python",
   "name": "python",
   "nbconvert_exporter": "python",
   "pygments_lexer": "ipython3",
   "version": "3.6.8"
  },
  "varInspector": {
   "cols": {
    "lenName": 16,
    "lenType": 16,
    "lenVar": 40
   },
   "kernels_config": {
    "python": {
     "delete_cmd_postfix": "",
     "delete_cmd_prefix": "del ",
     "library": "var_list.py",
     "varRefreshCmd": "print(var_dic_list())"
    },
    "r": {
     "delete_cmd_postfix": ") ",
     "delete_cmd_prefix": "rm(",
     "library": "var_list.r",
     "varRefreshCmd": "cat(var_dic_list()) "
    }
   },
   "types_to_exclude": [
    "module",
    "function",
    "builtin_function_or_method",
    "instance",
    "_Feature"
   ],
   "window_display": false
  }
 },
 "nbformat": 4,
 "nbformat_minor": 2
}
