{
 "cells": [
  {
   "cell_type": "code",
   "execution_count": 4,
   "metadata": {},
   "outputs": [],
   "source": [
    "import pandas as pd\n",
    "from pathlib import Path"
   ]
  },
  {
   "cell_type": "code",
   "execution_count": 10,
   "metadata": {},
   "outputs": [],
   "source": [
    "# configs\n",
    "TABLES = {\n",
    "    \"condiciones\": \"CONDICIONES\",\n",
    "    \"preguntas\": \"PREGUNTAS\",\n",
    "    \"siniestros\": \"DSS_SINI_AUTOS_ID\",\n",
    "    \"asegurados\": \"BTT_ASEGURADOS\",\n",
    "    \"cif\": \"tb_cif\",\n",
    "    \"vigabt\": \"VIGABT_POLIZAS\",\n",
    "    #     \"investigacion\": \"INVESTIGACION\",  # only to check the results\n",
    "}\n",
    "\n",
    "TABLE_COLS = {\n",
    "    \"condiciones\": ['CONDICION', 'FEC_ACT', 'NUM_SECU_EXPED', 'USR_ACT', 'VALOR_CONDICION', ],\n",
    "    \"preguntas\": ['COD_PREGUNTA', 'FEC_ACT', 'NUM_SECU_EXPED', 'TIPO_EXPED', 'VALOR_PREGUNTA', ],\n",
    "    \"siniestros\": ['CATASTROFICO', 'CERRADURA_BAUL', 'CERRADURA_DERECHA', 'CERRADURA_IZQUIERDA', 'CODIGO_BAJA', 'CODIGO_CARATULA', 'CODIGO_REAPERTURA', 'CODIGO_VEHICULO', 'COD_ACT_BENEF', 'COD_CAUSA_SINI', 'COD_POST_OCURRENCIA', 'COD_POST_POLIZA', 'COD_POST_TERC', 'COD_RAMO', 'COD_RIES', 'CONDICION_ROBO_EXP50', 'DANOS_MATERIALES', 'DESCRIPCION_TIPO', 'DESCRIPCION_VEHICULO', 'ESTADO_CIVIL', 'ESTADO_CIVIL_TERC', 'ESTAD_VEH_ASEG', 'FALTANTE', 'FECHA_FORMAL', 'FECHA_NAC_ASEG', 'FECHA_NAC_TERC', 'FECHA_SINI', 'FEC_DENU_SINI', 'FIN_INVESTIGACION', 'MCA_COASEG', 'MCA_JUICIO', 'MCA_VIP', 'METRO', 'NUM_SECU_EXPED', 'NUM_SECU_POL', 'OCUPACION_ASEG', 'SEXO', 'SEXO_TERC', 'TELEFONO_TERC', 'TIPO', 'TIPO_EXPED', 'TIPO_LESION', 'TIPO_LESION_MAXIMA', 'TIPO_SINIESTRO', 'USO', ],\n",
    "    \"asegurados\": ['CIF_ID', 'COD_EST_CIVIL', 'FECHA_DESDE', 'FECHA_NACIMIENTO', 'SEXO_ASEG', 'TIPO_ACTIVIDAD', ],\n",
    "    \"cif\": ['CLIENTE', 'CODIGO_NACION', 'DATECO_TIPO_ACTIVIDAD', 'DOMICILIO_CODIGO_POSTAL', 'HABILITADO', 'ID', ],\n",
    "    \"vigabt\": ['CANT_RENOVACION', 'CAPITAL_ACCESORIOS', 'CAPITAL_ASEGURADO_COTIZACION', 'CAPITAL_VEHICULO', 'COD_COBRO', 'COD_COBRO_ANTERIOR', 'COD_POSTAL', 'COD_PROD', 'COD_RAMO', 'COD_RIES', 'COD_ZONA_CASCO', 'COD_ZONA_RC', 'COD_ZONA_ROBO', 'CONV_COMISIONARIO', 'FECHA_PROCESO', 'FECHA_VENC_POL', 'FECHA_VIG_ORIG_POL', 'FECHA_VIG_POL', 'ID', 'MCA_AGRAVANTE', 'MCA_EMPLEADO', 'MCA_MOVIMIENTO', 'MCA_POLIZA_VIP', 'NEGOCIO', 'NUM_SECU_POL', 'PRENDARIO', 'SEGMENTO', ],\n",
    "}\n",
    "# file folders\n",
    "READ_FOLDER = \"../input_dataset\"\n",
    "READ_FILES_FORMAT = \".csv\"\n",
    "TMP_FOLDER = \"tmp\"\n",
    "OUTPUT_FOLDER = \"output_dataset\"\n",
    "PRED_FOLDER = \"pred_output\""
   ]
  },
  {
   "cell_type": "code",
   "execution_count": 13,
   "metadata": {},
   "outputs": [],
   "source": [
    "for k, v in TABLES.items():\n",
    "    file = Path(READ_FOLDER) / (v+READ_FILES_FORMAT)\n",
    "    df = pd.read_csv(file, nrows=500, usecols=TABLE_COLS[k])\n",
    "    df.to_csv(v+READ_FILES_FORMAT)"
   ]
  },
  {
   "cell_type": "code",
   "execution_count": 7,
   "metadata": {},
   "outputs": [
    {
     "data": {
      "text/plain": [
       "False"
      ]
     },
     "execution_count": 7,
     "metadata": {},
     "output_type": "execute_result"
    }
   ],
   "source": []
  },
  {
   "cell_type": "code",
   "execution_count": null,
   "metadata": {},
   "outputs": [],
   "source": []
  }
 ],
 "metadata": {
  "kernelspec": {
   "display_name": "Python 3",
   "language": "python",
   "name": "python3"
  },
  "language_info": {
   "codemirror_mode": {
    "name": "ipython",
    "version": 3
   },
   "file_extension": ".py",
   "mimetype": "text/x-python",
   "name": "python",
   "nbconvert_exporter": "python",
   "pygments_lexer": "ipython3",
   "version": "3.6.5"
  },
  "varInspector": {
   "cols": {
    "lenName": 16,
    "lenType": 16,
    "lenVar": 40
   },
   "kernels_config": {
    "python": {
     "delete_cmd_postfix": "",
     "delete_cmd_prefix": "del ",
     "library": "var_list.py",
     "varRefreshCmd": "print(var_dic_list())"
    },
    "r": {
     "delete_cmd_postfix": ") ",
     "delete_cmd_prefix": "rm(",
     "library": "var_list.r",
     "varRefreshCmd": "cat(var_dic_list()) "
    }
   },
   "types_to_exclude": [
    "module",
    "function",
    "builtin_function_or_method",
    "instance",
    "_Feature"
   ],
   "window_display": false
  }
 },
 "nbformat": 4,
 "nbformat_minor": 2
}
