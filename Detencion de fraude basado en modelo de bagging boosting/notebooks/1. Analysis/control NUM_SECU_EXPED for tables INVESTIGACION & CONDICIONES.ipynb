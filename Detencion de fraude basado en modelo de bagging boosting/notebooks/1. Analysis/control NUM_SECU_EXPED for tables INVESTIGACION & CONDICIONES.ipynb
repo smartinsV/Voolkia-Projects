{
 "cells": [
  {
   "cell_type": "code",
   "execution_count": 1,
   "metadata": {},
   "outputs": [],
   "source": [
    "import os\n",
    "\n",
    "import pandas as pd"
   ]
  },
  {
   "cell_type": "code",
   "execution_count": 2,
   "metadata": {},
   "outputs": [],
   "source": [
    "# general configs\n",
    "pd.set_option(\"display.max_columns\", 500)"
   ]
  },
  {
   "cell_type": "code",
   "execution_count": 62,
   "metadata": {},
   "outputs": [],
   "source": [
    "# setting configs and constants\n",
    "# path to raw dataset\n",
    "file_cond = \"../../data/raw/CONDICIONES.csv\"\n",
    "file_inv = \"../../data/raw/INVESTIGACION.csv\"\n",
    "files = [file_cond, file_inv]\n",
    "for file in files:\n",
    "    if not(os.path.exists(file) and os.path.isfile(file)):\n",
    "        raise Exception(\"File {} doesn't exists.\".format(file))"
   ]
  },
  {
   "cell_type": "code",
   "execution_count": 63,
   "metadata": {},
   "outputs": [
    {
     "name": "stdout",
     "output_type": "stream",
     "text": [
      "<class 'pandas.core.frame.DataFrame'>\n",
      "RangeIndex: 22468 entries, 0 to 22467\n",
      "Data columns (total 43 columns):\n",
      "COD_CIA                22468 non-null int64\n",
      "COD_RAMO               22468 non-null int64\n",
      "NUM_SINI               22468 non-null int64\n",
      "NRO_EXPED              22468 non-null int64\n",
      "NRO_ORDEN_INV          22468 non-null int64\n",
      "NRO_INVEST             22468 non-null int64\n",
      "COD_TALLER             0 non-null float64\n",
      "IMPORTE                22467 non-null object\n",
      "FECHA_INI_INVEST       22468 non-null object\n",
      "FECHA_ENT_INVEST       22468 non-null object\n",
      "FECHA_FIN_INVEST       13711 non-null object\n",
      "FECHA_MOD_INVEST       14103 non-null object\n",
      "EXISTE_INVEST          22468 non-null object\n",
      "COD_INVEST_INT         129 non-null object\n",
      "COD_DOCUM_INVEST1      17431 non-null object\n",
      "COD_INVEST1            17431 non-null float64\n",
      "NOM_INVEST1            17431 non-null object\n",
      "COD_DOCUM_INVEST2      4 non-null object\n",
      "COD_INVEST2            4 non-null float64\n",
      "NOM_INVEST2            4 non-null object\n",
      "COD_DOCUM_INVEST3      0 non-null float64\n",
      "COD_INVEST3            0 non-null float64\n",
      "NOM_INVEST3            0 non-null float64\n",
      "COD_FRAUDE             13711 non-null float64\n",
      "OBSERVACIONES          4 non-null object\n",
      "COMENTARIOS            17535 non-null object\n",
      "CONCLUSIONES           13732 non-null object\n",
      "NUM_SECU_SINI          22468 non-null int64\n",
      "NUM_SECU_EXPED         22468 non-null int64\n",
      "FECHA_EQUIPO           22468 non-null object\n",
      "COD_USR                22468 non-null object\n",
      "COD_ABOGADO            0 non-null float64\n",
      "FECHA_VTO_PLAZO        14338 non-null object\n",
      "CAUSA_DERIVACION       22467 non-null object\n",
      "MOTIVO_DERIVACION      22467 non-null object\n",
      "EXISTE_FRAUDE          22468 non-null object\n",
      "EXISTE_INHABILITAR     22468 non-null object\n",
      "COD_AGEN_DERIV         17115 non-null float64\n",
      "CESVI_INF_OK           22468 non-null object\n",
      "IMPORTE_AHORRADO       22468 non-null object\n",
      "SUB_COD_FRAUDE         2976 non-null object\n",
      "TIPO_ABOGADO           0 non-null float64\n",
      "FECHA_DESISTIMIENTO    897 non-null object\n",
      "dtypes: float64(10), int64(8), object(25)\n",
      "memory usage: 7.4+ MB\n"
     ]
    },
    {
     "name": "stderr",
     "output_type": "stream",
     "text": [
      "/home/voolkia/anaconda3/lib/python3.6/site-packages/IPython/core/interactiveshell.py:2785: DtypeWarning: Columns (24) have mixed types. Specify dtype option on import or set low_memory=False.\n",
      "  interactivity=interactivity, compiler=compiler, result=result)\n"
     ]
    }
   ],
   "source": [
    "df_inv = pd.read_csv(file_inv)\n",
    "# df_inv.drop(columns=\"index\", inplace=True)\n",
    "df_inv.info()"
   ]
  },
  {
   "cell_type": "code",
   "execution_count": 64,
   "metadata": {},
   "outputs": [
    {
     "name": "stdout",
     "output_type": "stream",
     "text": [
      "<class 'pandas.core.frame.DataFrame'>\n",
      "RangeIndex: 10230858 entries, 0 to 10230857\n",
      "Data columns (total 6 columns):\n",
      "NUM_SECU_EXPED     int64\n",
      "NRO_ORDEN_EXP      int64\n",
      "CONDICION          object\n",
      "VALOR_CONDICION    float64\n",
      "FEC_ACT            object\n",
      "USR_ACT            object\n",
      "dtypes: float64(1), int64(2), object(3)\n",
      "memory usage: 468.3+ MB\n"
     ]
    }
   ],
   "source": [
    "df_cond = pd.read_csv(file_cond)\n",
    "# df_cond.drop(columns=\"index\", inplace=True)\n",
    "df_cond.info()"
   ]
  },
  {
   "cell_type": "code",
   "execution_count": 65,
   "metadata": {},
   "outputs": [
    {
     "data": {
      "text/plain": [
       "(12742, 1.035080807301292, 97.32661167124962)"
      ]
     },
     "execution_count": 65,
     "metadata": {},
     "output_type": "execute_result"
    }
   ],
   "source": [
    "col = \"NUM_SECU_EXPED\"\n",
    "common = set(df_cond[col].unique()).intersection(set(df_inv[col].unique()))\n",
    "len(common), len(common)/len(df_cond[col].unique()) * 100, len(common)/len(df_inv[col].unique()) * 100"
   ]
  },
  {
   "cell_type": "code",
   "execution_count": 66,
   "metadata": {},
   "outputs": [
    {
     "data": {
      "text/plain": [
       "350"
      ]
     },
     "execution_count": 66,
     "metadata": {},
     "output_type": "execute_result"
    }
   ],
   "source": [
    "idx = set(df_inv[\"NUM_SECU_EXPED\"].unique()) - set(df_cond[\"NUM_SECU_EXPED\"].unique()) \n",
    "len(idx)"
   ]
  },
  {
   "cell_type": "code",
   "execution_count": 11,
   "metadata": {},
   "outputs": [
    {
     "data": {
      "text/plain": [
       "1218273"
      ]
     },
     "execution_count": 11,
     "metadata": {},
     "output_type": "execute_result"
    }
   ],
   "source": [
    "len(set(df_cond[\"NUM_SECU_EXPED\"].unique()) - set(df_inv[\"NUM_SECU_EXPED\"].unique()))"
   ]
  },
  {
   "cell_type": "code",
   "execution_count": 67,
   "metadata": {},
   "outputs": [
    {
     "name": "stdout",
     "output_type": "stream",
     "text": [
      "13092 1231015\n"
     ]
    },
    {
     "data": {
      "text/plain": [
       "12742"
      ]
     },
     "execution_count": 67,
     "metadata": {},
     "output_type": "execute_result"
    }
   ],
   "source": [
    "# getting NUM_SECU_EXPED in common\n",
    "print(df_inv[\"NUM_SECU_EXPED\"].nunique(), df_cond[\"NUM_SECU_EXPED\"].nunique())\n",
    "\n",
    "in_both = set(df_cond[\"NUM_SECU_EXPED\"].unique()).intersection(set(df_inv[\"NUM_SECU_EXPED\"].unique()))\n",
    "len(in_both)"
   ]
  },
  {
   "cell_type": "code",
   "execution_count": 68,
   "metadata": {},
   "outputs": [
    {
     "name": "stdout",
     "output_type": "stream",
     "text": [
      "NUM_SECU_EXPED unique:350\n"
     ]
    },
    {
     "data": {
      "text/plain": [
       "N    552\n",
       "S    136\n",
       "Name: EXISTE_FRAUDE, dtype: int64"
      ]
     },
     "execution_count": 68,
     "metadata": {},
     "output_type": "execute_result"
    }
   ],
   "source": [
    "inv_not_in_cond = df_inv[~df_inv[\"NUM_SECU_EXPED\"].isin(in_both)]\n",
    "print(\"NUM_SECU_EXPED unique:{}\".format(inv_not_in_cond[\"NUM_SECU_EXPED\"].nunique()))\n",
    "inv_not_in_cond[\"EXISTE_FRAUDE\"].value_counts()"
   ]
  },
  {
   "cell_type": "code",
   "execution_count": 33,
   "metadata": {},
   "outputs": [],
   "source": [
    "inv_not_in_cond.to_csv(\"investigaciones sin aparecer en condiciones.csv\")"
   ]
  },
  {
   "cell_type": "code",
   "execution_count": 69,
   "metadata": {},
   "outputs": [
    {
     "data": {
      "text/plain": [
       "set()"
      ]
     },
     "execution_count": 69,
     "metadata": {},
     "output_type": "execute_result"
    }
   ],
   "source": [
    "# doble checking\n",
    "set(idx) - set(inv_not_in_cond[\"NUM_SECU_EXPED\"].unique())"
   ]
  },
  {
   "cell_type": "markdown",
   "metadata": {},
   "source": [
    "# Checking date"
   ]
  },
  {
   "cell_type": "code",
   "execution_count": 53,
   "metadata": {},
   "outputs": [],
   "source": [
    "# check in DSS_SINI_AUTOS_ID\n",
    "# creating the path\n",
    "path = \"../../data/raw\"\n",
    "# file\n",
    "file_sini = os.path.join(path, \"DSS_SINI_AUTOS_ID.csv\")\n",
    "if not(os.path.exists(file_sini) and os.path.isfile(file_sini)):\n",
    "    raise Exception(\"File {} doesn't exists.\".format(file_sini))"
   ]
  },
  {
   "cell_type": "code",
   "execution_count": 70,
   "metadata": {},
   "outputs": [
    {
     "name": "stderr",
     "output_type": "stream",
     "text": [
      "/home/voolkia/anaconda3/lib/python3.6/site-packages/IPython/core/interactiveshell.py:2785: DtypeWarning: Columns (2) have mixed types. Specify dtype option on import or set low_memory=False.\n",
      "  interactivity=interactivity, compiler=compiler, result=result)\n"
     ]
    }
   ],
   "source": [
    "usecols = [\"FECHA_SINI\", \"NUM_SECU_EXPED\"]\n",
    "df_sini = pd.read_csv(file_sini, usecols=usecols)"
   ]
  },
  {
   "cell_type": "code",
   "execution_count": 71,
   "metadata": {},
   "outputs": [
    {
     "name": "stdout",
     "output_type": "stream",
     "text": [
      "98\n"
     ]
    },
    {
     "name": "stderr",
     "output_type": "stream",
     "text": [
      "/home/voolkia/anaconda3/lib/python3.6/site-packages/ipykernel_launcher.py:3: SettingWithCopyWarning: \n",
      "A value is trying to be set on a copy of a slice from a DataFrame.\n",
      "Try using .loc[row_indexer,col_indexer] = value instead\n",
      "\n",
      "See the caveats in the documentation: http://pandas.pydata.org/pandas-docs/stable/indexing.html#indexing-view-versus-copy\n",
      "  This is separate from the ipykernel package so we can avoid doing imports until\n"
     ]
    },
    {
     "data": {
      "text/plain": [
       "2017-12-12    17\n",
       "2018-11-02    11\n",
       "2018-11-07    11\n",
       "2017-04-20     9\n",
       "2017-03-10     7\n",
       "2017-03-13     6\n",
       "2018-10-21     6\n",
       "2018-08-23     6\n",
       "2018-06-11     5\n",
       "2017-09-03     5\n",
       "2018-10-14     5\n",
       "2018-07-02     5\n",
       "2018-08-10     3\n",
       "2019-05-07     2\n",
       "Name: FECHA_SINI, dtype: int64"
      ]
     },
     "execution_count": 71,
     "metadata": {},
     "output_type": "execute_result"
    }
   ],
   "source": [
    "# getting the dates of the records only in investigacion\n",
    "only_in_inv = df_sini[df_sini[\"NUM_SECU_EXPED\"].isin(idx)]\n",
    "only_in_inv[\"FECHA_SINI\"] = pd.to_datetime(only_in_inv[\"FECHA_SINI\"], format=\"%d/%m/%Y\")\n",
    "print(len(not_in_inv))\n",
    "only_in_inv[\"FECHA_SINI\"].value_counts()"
   ]
  },
  {
   "cell_type": "code",
   "execution_count": 72,
   "metadata": {},
   "outputs": [
    {
     "data": {
      "text/plain": [
       "14"
      ]
     },
     "execution_count": 72,
     "metadata": {},
     "output_type": "execute_result"
    }
   ],
   "source": [
    "only_in_inv[\"NUM_SECU_EXPED\"].nunique()"
   ]
  },
  {
   "cell_type": "code",
   "execution_count": 74,
   "metadata": {},
   "outputs": [
    {
     "data": {
      "text/plain": [
       "2018-06-11    1\n",
       "2017-09-03    1\n",
       "2018-11-07    1\n",
       "2017-12-12    1\n",
       "2017-03-10    1\n",
       "2017-03-13    1\n",
       "2018-07-02    1\n",
       "2018-08-10    1\n",
       "2018-08-23    1\n",
       "2018-10-21    1\n",
       "2018-11-02    1\n",
       "2017-04-20    1\n",
       "2018-10-14    1\n",
       "2019-05-07    1\n",
       "Name: FECHA_SINI, dtype: int64"
      ]
     },
     "execution_count": 74,
     "metadata": {},
     "output_type": "execute_result"
    }
   ],
   "source": [
    "only_in_inv_uniq = only_in_inv.drop_duplicates(subset=[\"NUM_SECU_EXPED\"], keep=\"first\")\n",
    "len(only_in_inv_uniq)\n",
    "only_in_inv_uniq[\"FECHA_SINI\"].value_counts()"
   ]
  },
  {
   "cell_type": "code",
   "execution_count": 61,
   "metadata": {},
   "outputs": [],
   "source": [
    "only_in_inv_uniq.sort_values(by=\"FECHA_SINI\").to_csv(\"investigaciones sin aparecer en condiciones en la tabla DSS_SINIESTROS.csv\")"
   ]
  },
  {
   "cell_type": "code",
   "execution_count": null,
   "metadata": {},
   "outputs": [],
   "source": []
  },
  {
   "cell_type": "code",
   "execution_count": null,
   "metadata": {},
   "outputs": [],
   "source": []
  },
  {
   "cell_type": "code",
   "execution_count": 27,
   "metadata": {},
   "outputs": [
    {
     "data": {
      "text/plain": [
       "False    9\n",
       "Name: EXISTE_FRAUDE, dtype: int64"
      ]
     },
     "execution_count": 27,
     "metadata": {},
     "output_type": "execute_result"
    }
   ],
   "source": [
    "# checking distrib of EXISTE_FRAUDE\n",
    "df_inv[df_inv[\"NUM_SECU_EXPED\"].isin(not_in_inv[not_in_inv[\"FECHA_SINI\"] >= \"2018-01-01\"][\"NUM_SECU_EXPED\"])][\"EXISTE_FRAUDE\"].value_counts(dropna=False)"
   ]
  },
  {
   "cell_type": "code",
   "execution_count": 33,
   "metadata": {},
   "outputs": [],
   "source": [
    "# setting configs and constants\n",
    "# path to raw dataset\n",
    "PATH = \"../../data/interim/1. col_red\"\n",
    "FILENAME = \"CONDICIONES-red_col.feather\"\n",
    "RAW_FILE = os.path.join(PATH, FILENAME)\n",
    "\n",
    "if not(os.path.exists(RAW_FILE) and os.path.isfile(RAW_FILE)):\n",
    "    raise Exception(\"File doesn't exists.\")"
   ]
  },
  {
   "cell_type": "code",
   "execution_count": 34,
   "metadata": {},
   "outputs": [
    {
     "name": "stdout",
     "output_type": "stream",
     "text": [
      "<class 'pandas.core.frame.DataFrame'>\n",
      "RangeIndex: 10230858 entries, 0 to 10230857\n",
      "Data columns (total 5 columns):\n",
      "CONDICION          object\n",
      "FEC_ACT            datetime64[ns]\n",
      "NUM_SECU_EXPED     int64\n",
      "USR_ACT            object\n",
      "VALOR_CONDICION    float64\n",
      "dtypes: datetime64[ns](1), float64(1), int64(1), object(2)\n",
      "memory usage: 390.3+ MB\n"
     ]
    }
   ],
   "source": [
    "df = pd.read_feather(RAW_FILE)\n",
    "df.info()"
   ]
  },
  {
   "cell_type": "code",
   "execution_count": 35,
   "metadata": {},
   "outputs": [
    {
     "data": {
      "text/html": [
       "<div>\n",
       "<style scoped>\n",
       "    .dataframe tbody tr th:only-of-type {\n",
       "        vertical-align: middle;\n",
       "    }\n",
       "\n",
       "    .dataframe tbody tr th {\n",
       "        vertical-align: top;\n",
       "    }\n",
       "\n",
       "    .dataframe thead th {\n",
       "        text-align: right;\n",
       "    }\n",
       "</style>\n",
       "<table border=\"1\" class=\"dataframe\">\n",
       "  <thead>\n",
       "    <tr style=\"text-align: right;\">\n",
       "      <th></th>\n",
       "      <th>CONDICION</th>\n",
       "      <th>FEC_ACT</th>\n",
       "      <th>NUM_SECU_EXPED</th>\n",
       "      <th>USR_ACT</th>\n",
       "      <th>VALOR_CONDICION</th>\n",
       "    </tr>\n",
       "  </thead>\n",
       "  <tbody>\n",
       "  </tbody>\n",
       "</table>\n",
       "</div>"
      ],
      "text/plain": [
       "Empty DataFrame\n",
       "Columns: [CONDICION, FEC_ACT, NUM_SECU_EXPED, USR_ACT, VALOR_CONDICION]\n",
       "Index: []"
      ]
     },
     "execution_count": 35,
     "metadata": {},
     "output_type": "execute_result"
    }
   ],
   "source": [
    "df[df[\"NUM_SECU_EXPED\"].isin(idx)]"
   ]
  },
  {
   "cell_type": "code",
   "execution_count": null,
   "metadata": {},
   "outputs": [],
   "source": []
  }
 ],
 "metadata": {
  "kernelspec": {
   "display_name": "Python 3",
   "language": "python",
   "name": "python3"
  },
  "language_info": {
   "codemirror_mode": {
    "name": "ipython",
    "version": 3
   },
   "file_extension": ".py",
   "mimetype": "text/x-python",
   "name": "python",
   "nbconvert_exporter": "python",
   "pygments_lexer": "ipython3",
   "version": "3.6.5"
  },
  "varInspector": {
   "cols": {
    "lenName": 16,
    "lenType": 16,
    "lenVar": 40
   },
   "kernels_config": {
    "python": {
     "delete_cmd_postfix": "",
     "delete_cmd_prefix": "del ",
     "library": "var_list.py",
     "varRefreshCmd": "print(var_dic_list())"
    },
    "r": {
     "delete_cmd_postfix": ") ",
     "delete_cmd_prefix": "rm(",
     "library": "var_list.r",
     "varRefreshCmd": "cat(var_dic_list()) "
    }
   },
   "types_to_exclude": [
    "module",
    "function",
    "builtin_function_or_method",
    "instance",
    "_Feature"
   ],
   "window_display": false
  }
 },
 "nbformat": 4,
 "nbformat_minor": 2
}
