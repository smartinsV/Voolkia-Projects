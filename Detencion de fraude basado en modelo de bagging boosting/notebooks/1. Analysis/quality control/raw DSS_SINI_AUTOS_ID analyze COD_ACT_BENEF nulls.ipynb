{
 "cells": [
  {
   "cell_type": "code",
   "execution_count": 1,
   "metadata": {},
   "outputs": [],
   "source": [
    "import os\n",
    "\n",
    "import pandas as pd"
   ]
  },
  {
   "cell_type": "code",
   "execution_count": 6,
   "metadata": {},
   "outputs": [],
   "source": [
    "filename = \"../../../data/raw/DSS_SINI_AUTOS_ID.csv\"\n",
    "\n",
    "if not os.path.isfile(filename):\n",
    "    raise Exception(\"Error file not found.\")"
   ]
  },
  {
   "cell_type": "code",
   "execution_count": 7,
   "metadata": {},
   "outputs": [
    {
     "name": "stderr",
     "output_type": "stream",
     "text": [
      "/home/seba/anaconda3/lib/python3.6/site-packages/IPython/core/interactiveshell.py:3049: DtypeWarning: Columns (2,58) have mixed types. Specify dtype option on import or set low_memory=False.\n",
      "  interactivity=interactivity, compiler=compiler, result=result)\n"
     ]
    },
    {
     "name": "stdout",
     "output_type": "stream",
     "text": [
      "<class 'pandas.core.frame.DataFrame'>\n",
      "RangeIndex: 7517029 entries, 0 to 7517028\n",
      "Data columns (total 4 columns):\n",
      "NUM_SECU_EXPED     object\n",
      "FECHA_SINI         object\n",
      "COD_ACT_BENEF      object\n",
      "COD_POST_POLIZA    float64\n",
      "dtypes: float64(1), object(3)\n",
      "memory usage: 229.4+ MB\n"
     ]
    }
   ],
   "source": [
    "df = pd.read_csv(filename, usecols=[\"NUM_SECU_EXPED\", \"COD_ACT_BENEF\", \"FECHA_SINI\", \"COD_POST_POLIZA\"])\n",
    "df.info()"
   ]
  },
  {
   "cell_type": "code",
   "execution_count": 5,
   "metadata": {},
   "outputs": [
    {
     "data": {
      "text/plain": [
       "NaN     6431753\n",
       "7.0      212120\n",
       "3.0      199217\n",
       "1.0      187692\n",
       "15.0     171239\n",
       "10.0     106337\n",
       "4.0       54089\n",
       "8.0       53881\n",
       "26.0      36849\n",
       "99.0      11789\n",
       "24.0      11613\n",
       "18.0       9450\n",
       "25.0       6635\n",
       "2.0        5007\n",
       "6.0        4922\n",
       "98.0       4775\n",
       "16.0       3209\n",
       "29.0       2517\n",
       "51.0       2094\n",
       "50.0       1353\n",
       "5.0         431\n",
       "33.0          2\n",
       "Name: COD_ACT_BENEF, dtype: int64"
      ]
     },
     "execution_count": 5,
     "metadata": {},
     "output_type": "execute_result"
    }
   ],
   "source": [
    "df[\"COD_ACT_BENEF\"].value_counts(dropna=False)"
   ]
  },
  {
   "cell_type": "code",
   "execution_count": 8,
   "metadata": {},
   "outputs": [
    {
     "data": {
      "text/plain": [
       "1414000.0    152058\n",
       "2000005.0    140659\n",
       "1406000.0    123224\n",
       "1900000.0    116453\n",
       "1407000.0    112576\n",
       "1439000.0    100885\n",
       "1425000.0    100010\n",
       "5000050.0     79241\n",
       "1824002.0     77261\n",
       "1419000.0     77258\n",
       "1426000.0     74791\n",
       "1431000.0     73262\n",
       "1416000.0     71672\n",
       "7600002.0     69008\n",
       "1828008.0     67885\n",
       "1417000.0     66089\n",
       "1704001.0     64563\n",
       "1428000.0     64365\n",
       "1408000.0     62802\n",
       "5000000.0     61336\n",
       "1424000.0     53974\n",
       "1712000.0     53686\n",
       "1832007.0     53276\n",
       "1430000.0     52037\n",
       "1714010.0     51800\n",
       "1429000.0     51756\n",
       "1722006.0     51625\n",
       "4000028.0     50634\n",
       "1878000.0     50452\n",
       "1744005.0     50104\n",
       "              ...  \n",
       "5700009.0         2\n",
       "5612000.0         2\n",
       "2754000.0         2\n",
       "5471001.0         2\n",
       "3351501.0         2\n",
       "5933002.0         2\n",
       "6439001.0         2\n",
       "5143002.0         2\n",
       "5133002.0         2\n",
       "5427002.0         2\n",
       "4600011.0         2\n",
       "3101025.0         2\n",
       "4600022.0         2\n",
       "6239001.0         2\n",
       "7247002.0         2\n",
       "4522002.0         2\n",
       "5561007.0         2\n",
       "4166006.0         2\n",
       "3074003.0         2\n",
       "8353014.0         2\n",
       "8351022.0         2\n",
       "5533006.0         2\n",
       "3700011.0         2\n",
       "5525002.0         2\n",
       "3610001.0         2\n",
       "1445000.0         2\n",
       "3304003.0         2\n",
       "8505003.0         1\n",
       "5135002.0         1\n",
       "8353051.0         1\n",
       "Name: COD_POST_POLIZA, Length: 5763, dtype: int64"
      ]
     },
     "execution_count": 8,
     "metadata": {},
     "output_type": "execute_result"
    }
   ],
   "source": [
    "df[\"COD_POST_POLIZA\"].value_counts(dropna=False)"
   ]
  },
  {
   "cell_type": "code",
   "execution_count": 9,
   "metadata": {},
   "outputs": [
    {
     "data": {
      "text/plain": [
       "(5012.0, 9420017.0)"
      ]
     },
     "execution_count": 9,
     "metadata": {},
     "output_type": "execute_result"
    }
   ],
   "source": [
    "df[\"COD_POST_POLIZA\"].min(), df[\"COD_POST_POLIZA\"].max()"
   ]
  },
  {
   "cell_type": "code",
   "execution_count": null,
   "metadata": {},
   "outputs": [],
   "source": []
  }
 ],
 "metadata": {
  "kernelspec": {
   "display_name": "Python 3",
   "language": "python",
   "name": "python3"
  },
  "language_info": {
   "codemirror_mode": {
    "name": "ipython",
    "version": 3
   },
   "file_extension": ".py",
   "mimetype": "text/x-python",
   "name": "python",
   "nbconvert_exporter": "python",
   "pygments_lexer": "ipython3",
   "version": "3.6.8"
  },
  "varInspector": {
   "cols": {
    "lenName": 16,
    "lenType": 16,
    "lenVar": 40
   },
   "kernels_config": {
    "python": {
     "delete_cmd_postfix": "",
     "delete_cmd_prefix": "del ",
     "library": "var_list.py",
     "varRefreshCmd": "print(var_dic_list())"
    },
    "r": {
     "delete_cmd_postfix": ") ",
     "delete_cmd_prefix": "rm(",
     "library": "var_list.r",
     "varRefreshCmd": "cat(var_dic_list()) "
    }
   },
   "types_to_exclude": [
    "module",
    "function",
    "builtin_function_or_method",
    "instance",
    "_Feature"
   ],
   "window_display": false
  }
 },
 "nbformat": 4,
 "nbformat_minor": 2
}
