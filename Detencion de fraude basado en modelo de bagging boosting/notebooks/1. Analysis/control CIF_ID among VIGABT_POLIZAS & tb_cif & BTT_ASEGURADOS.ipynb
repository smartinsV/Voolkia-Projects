{
 "cells": [
  {
   "cell_type": "code",
   "execution_count": 2,
   "metadata": {},
   "outputs": [],
   "source": [
    "import os\n",
    "\n",
    "import pandas as pd"
   ]
  },
  {
   "cell_type": "code",
   "execution_count": 3,
   "metadata": {},
   "outputs": [],
   "source": [
    "# display tables options\n",
    "pd.set_option(\"display.max_columns\", 500)\n",
    "pd.set_option(\"display.max_rows\", 500)"
   ]
  },
  {
   "cell_type": "code",
   "execution_count": 4,
   "metadata": {},
   "outputs": [],
   "source": [
    "# creating the path\n",
    "path = \"../../data/raw\"\n",
    "# file\n",
    "vigabt_filename = \"VIGABT_POLIZAS.csv\"\n",
    "cif_filename = \"tb_cif.csv\""
   ]
  },
  {
   "cell_type": "code",
   "execution_count": 5,
   "metadata": {},
   "outputs": [
    {
     "name": "stdout",
     "output_type": "stream",
     "text": [
      "<class 'pandas.core.frame.DataFrame'>\n",
      "RangeIndex: 2363937 entries, 0 to 2363936\n",
      "Data columns (total 2 columns):\n",
      "NUM_SECU_POL    int64\n",
      "ID              float64\n",
      "dtypes: float64(1), int64(1)\n",
      "memory usage: 36.1 MB\n"
     ]
    }
   ],
   "source": [
    "usecols = [\"NUM_SECU_POL\", \"ID\"]\n",
    "df_vigabt = pd.read_csv(os.path.join(path, vigabt_filename), usecols=usecols)\n",
    "df_vigabt.info()"
   ]
  },
  {
   "cell_type": "code",
   "execution_count": 6,
   "metadata": {},
   "outputs": [
    {
     "name": "stdout",
     "output_type": "stream",
     "text": [
      "<class 'pandas.core.frame.DataFrame'>\n",
      "RangeIndex: 174922 entries, 0 to 174921\n",
      "Data columns (total 1 columns):\n",
      "ID    174922 non-null int64\n",
      "dtypes: int64(1)\n",
      "memory usage: 1.3 MB\n"
     ]
    }
   ],
   "source": [
    "usecols = [\"ID\"]\n",
    "df_cif = pd.read_csv(os.path.join(path, cif_filename), usecols=usecols, delimiter=\";\", encoding=\"latin-1\")\n",
    "df_cif.info()"
   ]
  },
  {
   "cell_type": "markdown",
   "metadata": {
    "heading_collapsed": true
   },
   "source": [
    "## comparing CIF_ID with tb_cif"
   ]
  },
  {
   "cell_type": "code",
   "execution_count": 7,
   "metadata": {
    "hidden": true
   },
   "outputs": [
    {
     "name": "stdout",
     "output_type": "stream",
     "text": [
      "<class 'pandas.core.frame.DataFrame'>\n",
      "RangeIndex: 2363937 entries, 0 to 2363936\n",
      "Data columns (total 2 columns):\n",
      "NUM_SECU_POL    int64\n",
      "CIF_ID          float64\n",
      "dtypes: float64(1), int64(1)\n",
      "memory usage: 36.1 MB\n"
     ]
    }
   ],
   "source": [
    "df_vigabt.rename(columns={\"ID\": \"CIF_ID\"}, inplace=True)\n",
    "df_cif.rename(columns={\"ID\": \"CIF_ID\"}, inplace=True)\n",
    "df_vigabt.info()"
   ]
  },
  {
   "cell_type": "code",
   "execution_count": 8,
   "metadata": {
    "hidden": true
   },
   "outputs": [
    {
     "data": {
      "text/plain": [
       "(12247, 7.001406341112039, 28.57776222144441)"
      ]
     },
     "execution_count": 8,
     "metadata": {},
     "output_type": "execute_result"
    }
   ],
   "source": [
    "col = \"CIF_ID\"\n",
    "common = set(df_cif[col].unique()).intersection(set(df_vigabt[col].unique()))\n",
    "len(common), len(common)/len(df_cif[col].unique()) * 100, len(common)/len(df_vigabt[col].unique()) * 100"
   ]
  },
  {
   "cell_type": "markdown",
   "metadata": {},
   "source": [
    "## comparing CIF_ID with BTT_ASEGURADOS"
   ]
  },
  {
   "cell_type": "code",
   "execution_count": 9,
   "metadata": {},
   "outputs": [
    {
     "name": "stdout",
     "output_type": "stream",
     "text": [
      "<class 'pandas.core.frame.DataFrame'>\n",
      "RangeIndex: 3479842 entries, 0 to 3479841\n",
      "Data columns (total 1 columns):\n",
      "CIF_ID    float64\n",
      "dtypes: float64(1)\n",
      "memory usage: 26.5 MB\n"
     ]
    }
   ],
   "source": [
    "usecols = [\"CIF_ID\"]\n",
    "btt_filename = \"BTT_ASEGURADOS.csv\"\n",
    "df_btt = pd.read_csv(os.path.join(path, btt_filename), usecols=usecols)\n",
    "df_btt.info()"
   ]
  },
  {
   "cell_type": "code",
   "execution_count": 10,
   "metadata": {},
   "outputs": [
    {
     "data": {
      "text/plain": [
       "(42836, 1.2653636103686794, 99.95566444988916)"
      ]
     },
     "execution_count": 10,
     "metadata": {},
     "output_type": "execute_result"
    }
   ],
   "source": [
    "col = \"CIF_ID\"\n",
    "common = set(df_btt[col].unique()).intersection(set(df_vigabt[col].unique()))\n",
    "len(common), len(common)/len(df_btt[col].unique()) * 100, len(common)/len(df_vigabt[col].unique()) * 100"
   ]
  },
  {
   "cell_type": "code",
   "execution_count": 12,
   "metadata": {},
   "outputs": [
    {
     "name": "stdout",
     "output_type": "stream",
     "text": [
      "19\n"
     ]
    },
    {
     "data": {
      "text/plain": [
       "{nan,\n",
       " 1744654.0,\n",
       " 1768049.0,\n",
       " 1772415.0,\n",
       " 2620576.0,\n",
       " 2891556.0,\n",
       " 5286376.0,\n",
       " 5944087.0,\n",
       " 6025475.0,\n",
       " 6037437.0,\n",
       " 6037762.0,\n",
       " 6102951.0,\n",
       " 7006689.0,\n",
       " 7264544.0,\n",
       " 7889908.0,\n",
       " 7890869.0,\n",
       " 8558600.0,\n",
       " 8558972.0,\n",
       " 23020616.0}"
      ]
     },
     "execution_count": 12,
     "metadata": {},
     "output_type": "execute_result"
    }
   ],
   "source": [
    "diff = (set(df_vigabt[col].unique())) - set(df_btt[col].unique())\n",
    "print(len(diff))\n",
    "diff"
   ]
  },
  {
   "cell_type": "code",
   "execution_count": null,
   "metadata": {},
   "outputs": [],
   "source": []
  }
 ],
 "metadata": {
  "kernelspec": {
   "display_name": "Python 3",
   "language": "python",
   "name": "python3"
  },
  "language_info": {
   "codemirror_mode": {
    "name": "ipython",
    "version": 3
   },
   "file_extension": ".py",
   "mimetype": "text/x-python",
   "name": "python",
   "nbconvert_exporter": "python",
   "pygments_lexer": "ipython3",
   "version": "3.6.5"
  },
  "varInspector": {
   "cols": {
    "lenName": 16,
    "lenType": 16,
    "lenVar": 40
   },
   "kernels_config": {
    "python": {
     "delete_cmd_postfix": "",
     "delete_cmd_prefix": "del ",
     "library": "var_list.py",
     "varRefreshCmd": "print(var_dic_list())"
    },
    "r": {
     "delete_cmd_postfix": ") ",
     "delete_cmd_prefix": "rm(",
     "library": "var_list.r",
     "varRefreshCmd": "cat(var_dic_list()) "
    }
   },
   "types_to_exclude": [
    "module",
    "function",
    "builtin_function_or_method",
    "instance",
    "_Feature"
   ],
   "window_display": false
  }
 },
 "nbformat": 4,
 "nbformat_minor": 2
}
