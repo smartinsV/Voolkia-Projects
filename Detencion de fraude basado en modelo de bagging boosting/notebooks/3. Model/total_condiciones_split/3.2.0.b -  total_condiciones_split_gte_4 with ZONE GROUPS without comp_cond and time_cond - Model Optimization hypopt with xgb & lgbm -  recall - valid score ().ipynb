{
 "cells": [
  {
   "cell_type": "markdown",
   "metadata": {},
   "source": [
    "# Model hiper optimization"
   ]
  },
  {
   "cell_type": "markdown",
   "metadata": {},
   "source": []
  },
  {
   "cell_type": "code",
   "execution_count": 1,
   "metadata": {},
   "outputs": [],
   "source": [
    "#imports\n",
    "import os\n",
    "from copy import copy\n",
    "\n",
    "import pandas as pd\n",
    "import numpy as np\n",
    "import seaborn as sns\n",
    "import matplotlib.pyplot as plt\n",
    "from sklearn.metrics import roc_auc_score, f1_score, confusion_matrix\n",
    "from sklearn.ensemble import RandomForestClassifier, ExtraTreesClassifier\n",
    "from sklearn.tree import DecisionTreeClassifier\n",
    "from xgboost import XGBClassifier\n",
    "from lightgbm import LGBMClassifier\n",
    "from sklearn.model_selection import GridSearchCV, RandomizedSearchCV\n",
    "from hypopt import GridSearch\n",
    "from hyperopt import tpe, fmin, space_eval, Trials, STATUS_OK, hp\n",
    "from sklearn.model_selection import StratifiedShuffleSplit\n",
    "\n",
    "import pickle"
   ]
  },
  {
   "cell_type": "code",
   "execution_count": 63,
   "metadata": {},
   "outputs": [
    {
     "name": "stdout",
     "output_type": "stream",
     "text": [
      "['1.1.b - 01-17 to 01-19 - df_val 02-19to03-19.feather', '1.1.b - 01-17 to 01-19 - df_train only 2018 without nulls.feather', '1.2.b - group zone - 01-17 to 01-19 - df_test 04-19to05-19.feather', '1.1 - df_train with nan.feather', '1.2.b - group zone - 01-17 to 01-19 - df_val 02-19to03-19.feather', '1.1 - df_train.feather', '1.2.b - group zone - 01-17 to 01-19 - df_train with nan.feather', '1.1 - df_test 04-19to04-19.feather', '1.1 - df_val 01-19to03-19.feather', '1.1.b - 01-17 to 01-19 - df_train without nulls.feather', '1.1 - df_train only 2018 without nulls.feather', '1.2.b - group zone - 01-17 to 01-19 - df_test 04-19to04-19.feather', '1.1.b - 01-17 to 01-19 - df_train with nan.feather', '1.1 - df_test 04-19to05-19.feather', '1.2.b - group zone - 01-17 to 01-19 - df_train without nulls.feather', '1.1.b - 01-17 to 01-19 - df_test 04-19to04-19.feather', '1.1.b - 01-17 to 01-19 - df_test 04-19to05-19.feather', '1.2.b - group zone - 01-17 to 01-19 - df_train only 2018 without nulls.feather']\n"
     ]
    }
   ],
   "source": [
    "# configs.\n",
    "%matplotlib inline\n",
    "# version to read\n",
    "read_version = \"1.2.b - group zone\"\n",
    "\n",
    "# model to save\n",
    "model_id = \"3.2.0.b -  total_condiciones_split_gte_4 with ZONE GROUPS without comp_cond and time_cond\"\n",
    "\n",
    "pd.set_option(\"display.max_columns\", 500)\n",
    "\n",
    "path = \"../../../data/split\"\n",
    "random_state = 42\n",
    "print(os.listdir(path))"
   ]
  },
  {
   "cell_type": "markdown",
   "metadata": {},
   "source": [
    "## Loading training and validation datasets"
   ]
  },
  {
   "cell_type": "code",
   "execution_count": 3,
   "metadata": {},
   "outputs": [],
   "source": [
    "df = pd.read_feather(os.path.join(path, f\"{read_version} - 01-17 to 01-19 - df_train with nan.feather\"))\n",
    "df_val = pd.read_feather(os.path.join(path, f\"{read_version} - 01-17 to 01-19 - df_val 02-19to03-19.feather\"))"
   ]
  },
  {
   "cell_type": "code",
   "execution_count": 4,
   "metadata": {},
   "outputs": [],
   "source": [
    "# using only last year\n",
    "# split_date = \"2018-01-01\"\n",
    "# df = df[df[\"FECHA_SINI\"] >= split_date].copy()"
   ]
  },
  {
   "cell_type": "code",
   "execution_count": 5,
   "metadata": {},
   "outputs": [
    {
     "data": {
      "text/plain": [
       "(Timestamp('2017-01-01 00:00:00'), Timestamp('2019-01-31 00:00:00'))"
      ]
     },
     "execution_count": 5,
     "metadata": {},
     "output_type": "execute_result"
    }
   ],
   "source": [
    "df[\"FECHA_SINI\"].min(), df[\"FECHA_SINI\"].max()"
   ]
  },
  {
   "cell_type": "code",
   "execution_count": 6,
   "metadata": {},
   "outputs": [
    {
     "data": {
      "text/html": [
       "<div>\n",
       "<style scoped>\n",
       "    .dataframe tbody tr th:only-of-type {\n",
       "        vertical-align: middle;\n",
       "    }\n",
       "\n",
       "    .dataframe tbody tr th {\n",
       "        vertical-align: top;\n",
       "    }\n",
       "\n",
       "    .dataframe thead th {\n",
       "        text-align: right;\n",
       "    }\n",
       "</style>\n",
       "<table border=\"1\" class=\"dataframe\">\n",
       "  <thead>\n",
       "    <tr style=\"text-align: right;\">\n",
       "      <th>EXISTE_FRAUDE</th>\n",
       "      <th>False</th>\n",
       "      <th>True</th>\n",
       "    </tr>\n",
       "    <tr>\n",
       "      <th>total_condicion</th>\n",
       "      <th></th>\n",
       "      <th></th>\n",
       "    </tr>\n",
       "  </thead>\n",
       "  <tbody>\n",
       "    <tr>\n",
       "      <th>0.0</th>\n",
       "      <td>983521</td>\n",
       "      <td>1705</td>\n",
       "    </tr>\n",
       "    <tr>\n",
       "      <th>1.0</th>\n",
       "      <td>44395</td>\n",
       "      <td>162</td>\n",
       "    </tr>\n",
       "    <tr>\n",
       "      <th>2.0</th>\n",
       "      <td>9329</td>\n",
       "      <td>216</td>\n",
       "    </tr>\n",
       "    <tr>\n",
       "      <th>3.0</th>\n",
       "      <td>42457</td>\n",
       "      <td>478</td>\n",
       "    </tr>\n",
       "    <tr>\n",
       "      <th>4.0</th>\n",
       "      <td>3258</td>\n",
       "      <td>35</td>\n",
       "    </tr>\n",
       "    <tr>\n",
       "      <th>5.0</th>\n",
       "      <td>2940</td>\n",
       "      <td>718</td>\n",
       "    </tr>\n",
       "    <tr>\n",
       "      <th>6.0</th>\n",
       "      <td>1314</td>\n",
       "      <td>94</td>\n",
       "    </tr>\n",
       "    <tr>\n",
       "      <th>7.0</th>\n",
       "      <td>219</td>\n",
       "      <td>99</td>\n",
       "    </tr>\n",
       "    <tr>\n",
       "      <th>8.0</th>\n",
       "      <td>203</td>\n",
       "      <td>80</td>\n",
       "    </tr>\n",
       "    <tr>\n",
       "      <th>9.0</th>\n",
       "      <td>28</td>\n",
       "      <td>4</td>\n",
       "    </tr>\n",
       "    <tr>\n",
       "      <th>10.0</th>\n",
       "      <td>61</td>\n",
       "      <td>44</td>\n",
       "    </tr>\n",
       "    <tr>\n",
       "      <th>11.0</th>\n",
       "      <td>6</td>\n",
       "      <td>2</td>\n",
       "    </tr>\n",
       "    <tr>\n",
       "      <th>12.0</th>\n",
       "      <td>9</td>\n",
       "      <td>8</td>\n",
       "    </tr>\n",
       "    <tr>\n",
       "      <th>13.0</th>\n",
       "      <td>7</td>\n",
       "      <td>5</td>\n",
       "    </tr>\n",
       "    <tr>\n",
       "      <th>15.0</th>\n",
       "      <td>3</td>\n",
       "      <td>2</td>\n",
       "    </tr>\n",
       "  </tbody>\n",
       "</table>\n",
       "</div>"
      ],
      "text/plain": [
       "EXISTE_FRAUDE     False  True \n",
       "total_condicion               \n",
       "0.0              983521   1705\n",
       "1.0               44395    162\n",
       "2.0                9329    216\n",
       "3.0               42457    478\n",
       "4.0                3258     35\n",
       "5.0                2940    718\n",
       "6.0                1314     94\n",
       "7.0                 219     99\n",
       "8.0                 203     80\n",
       "9.0                  28      4\n",
       "10.0                 61     44\n",
       "11.0                  6      2\n",
       "12.0                  9      8\n",
       "13.0                  7      5\n",
       "15.0                  3      2"
      ]
     },
     "execution_count": 6,
     "metadata": {},
     "output_type": "execute_result"
    }
   ],
   "source": [
    "pd.crosstab(df[\"total_condicion\"], df[\"EXISTE_FRAUDE\"])"
   ]
  },
  {
   "cell_type": "code",
   "execution_count": 7,
   "metadata": {},
   "outputs": [],
   "source": [
    "# Select all non 060 tipo exped.\n",
    "# 'None': 7,  '003': 2,  '060': 6,  '010': 3,  '020': 4,  '002': 1,  '050': 5,  '001': 0\n",
    "df = df[(df[\"total_condicion\"] >= 4)]\n",
    "df_val = df_val[(df_val[\"total_condicion\"] >= 4)]"
   ]
  },
  {
   "cell_type": "code",
   "execution_count": 8,
   "metadata": {},
   "outputs": [
    {
     "data": {
      "text/html": [
       "<div>\n",
       "<style scoped>\n",
       "    .dataframe tbody tr th:only-of-type {\n",
       "        vertical-align: middle;\n",
       "    }\n",
       "\n",
       "    .dataframe tbody tr th {\n",
       "        vertical-align: top;\n",
       "    }\n",
       "\n",
       "    .dataframe thead th {\n",
       "        text-align: right;\n",
       "    }\n",
       "</style>\n",
       "<table border=\"1\" class=\"dataframe\">\n",
       "  <thead>\n",
       "    <tr style=\"text-align: right;\">\n",
       "      <th>EXISTE_FRAUDE</th>\n",
       "      <th>False</th>\n",
       "      <th>True</th>\n",
       "    </tr>\n",
       "    <tr>\n",
       "      <th>total_condicion</th>\n",
       "      <th></th>\n",
       "      <th></th>\n",
       "    </tr>\n",
       "  </thead>\n",
       "  <tbody>\n",
       "    <tr>\n",
       "      <th>4.0</th>\n",
       "      <td>3258</td>\n",
       "      <td>35</td>\n",
       "    </tr>\n",
       "    <tr>\n",
       "      <th>5.0</th>\n",
       "      <td>2940</td>\n",
       "      <td>718</td>\n",
       "    </tr>\n",
       "    <tr>\n",
       "      <th>6.0</th>\n",
       "      <td>1314</td>\n",
       "      <td>94</td>\n",
       "    </tr>\n",
       "    <tr>\n",
       "      <th>7.0</th>\n",
       "      <td>219</td>\n",
       "      <td>99</td>\n",
       "    </tr>\n",
       "    <tr>\n",
       "      <th>8.0</th>\n",
       "      <td>203</td>\n",
       "      <td>80</td>\n",
       "    </tr>\n",
       "    <tr>\n",
       "      <th>9.0</th>\n",
       "      <td>28</td>\n",
       "      <td>4</td>\n",
       "    </tr>\n",
       "    <tr>\n",
       "      <th>10.0</th>\n",
       "      <td>61</td>\n",
       "      <td>44</td>\n",
       "    </tr>\n",
       "    <tr>\n",
       "      <th>11.0</th>\n",
       "      <td>6</td>\n",
       "      <td>2</td>\n",
       "    </tr>\n",
       "    <tr>\n",
       "      <th>12.0</th>\n",
       "      <td>9</td>\n",
       "      <td>8</td>\n",
       "    </tr>\n",
       "    <tr>\n",
       "      <th>13.0</th>\n",
       "      <td>7</td>\n",
       "      <td>5</td>\n",
       "    </tr>\n",
       "    <tr>\n",
       "      <th>15.0</th>\n",
       "      <td>3</td>\n",
       "      <td>2</td>\n",
       "    </tr>\n",
       "  </tbody>\n",
       "</table>\n",
       "</div>"
      ],
      "text/plain": [
       "EXISTE_FRAUDE    False  True \n",
       "total_condicion              \n",
       "4.0               3258     35\n",
       "5.0               2940    718\n",
       "6.0               1314     94\n",
       "7.0                219     99\n",
       "8.0                203     80\n",
       "9.0                 28      4\n",
       "10.0                61     44\n",
       "11.0                 6      2\n",
       "12.0                 9      8\n",
       "13.0                 7      5\n",
       "15.0                 3      2"
      ]
     },
     "execution_count": 8,
     "metadata": {},
     "output_type": "execute_result"
    }
   ],
   "source": [
    "pd.crosstab(df[\"total_condicion\"], df[\"EXISTE_FRAUDE\"])"
   ]
  },
  {
   "cell_type": "code",
   "execution_count": 9,
   "metadata": {},
   "outputs": [
    {
     "data": {
      "text/plain": [
       "6    2634\n",
       "5    2056\n",
       "1    1849\n",
       "7    1281\n",
       "3     590\n",
       "2     564\n",
       "0     147\n",
       "4      18\n",
       "Name: TIPO_EXPED, dtype: int64"
      ]
     },
     "execution_count": 9,
     "metadata": {},
     "output_type": "execute_result"
    }
   ],
   "source": [
    "df[\"TIPO_EXPED\"].value_counts()"
   ]
  },
  {
   "cell_type": "code",
   "execution_count": 10,
   "metadata": {},
   "outputs": [],
   "source": [
    "# delete unique value columns (for tipo_exped == 060)\n",
    "use_cols = df.nunique()[df.nunique() > 1].index\n",
    "df = df[use_cols]\n",
    "df_val = df_val[use_cols]"
   ]
  },
  {
   "cell_type": "code",
   "execution_count": 11,
   "metadata": {},
   "outputs": [
    {
     "data": {
      "text/plain": [
       "Index(['cond_04', 'cond_05', 'cond_06', 'cond_09', 'cond_11', 'cond_12',\n",
       "       'cond_32', 'cond_37', 'cond_C1', 'cond_C10', 'cond_C11', 'cond_C12',\n",
       "       'cond_C13', 'cond_C14', 'cond_C15', 'cond_C16', 'cond_C17', 'cond_C18',\n",
       "       'cond_C19', 'cond_C2', 'cond_C20', 'cond_C21', 'cond_C3', 'cond_C4',\n",
       "       'cond_C5', 'cond_C6', 'cond_C7', 'cond_C8', 'cond_C9'],\n",
       "      dtype='object')"
      ]
     },
     "execution_count": 11,
     "metadata": {},
     "output_type": "execute_result"
    }
   ],
   "source": [
    "cond_cols = df.filter(regex=\"^cond_*\").columns\n",
    "cond_cols"
   ]
  },
  {
   "cell_type": "code",
   "execution_count": 12,
   "metadata": {},
   "outputs": [],
   "source": [
    "# create column number of conditions activated\n",
    "df[\"cant_cond\"] = (df[cond_cols] > 0).sum(axis=1)\n",
    "df_val[\"cant_cond\"] = (df_val[cond_cols] > 0).sum(axis=1)"
   ]
  },
  {
   "cell_type": "code",
   "execution_count": 13,
   "metadata": {},
   "outputs": [
    {
     "data": {
      "text/plain": [
       "2    7012\n",
       "1    1476\n",
       "3     617\n",
       "4      33\n",
       "5       1\n",
       "Name: cant_cond, dtype: int64"
      ]
     },
     "execution_count": 13,
     "metadata": {},
     "output_type": "execute_result"
    }
   ],
   "source": [
    "df[\"cant_cond\"].value_counts()"
   ]
  },
  {
   "cell_type": "code",
   "execution_count": 14,
   "metadata": {},
   "outputs": [
    {
     "data": {
      "text/plain": [
       "False    8048\n",
       "True     1091\n",
       "Name: EXISTE_FRAUDE, dtype: int64"
      ]
     },
     "execution_count": 14,
     "metadata": {},
     "output_type": "execute_result"
    }
   ],
   "source": [
    "df[\"EXISTE_FRAUDE\"].value_counts()"
   ]
  },
  {
   "cell_type": "code",
   "execution_count": 15,
   "metadata": {},
   "outputs": [
    {
     "data": {
      "text/plain": [
       "(Timestamp('2017-01-01 00:00:00'), Timestamp('2019-01-31 00:00:00'))"
      ]
     },
     "execution_count": 15,
     "metadata": {},
     "output_type": "execute_result"
    }
   ],
   "source": [
    "df[\"FECHA_SINI\"].min(), df[\"FECHA_SINI\"].max()"
   ]
  },
  {
   "cell_type": "code",
   "execution_count": 16,
   "metadata": {},
   "outputs": [
    {
     "data": {
      "text/plain": [
       "(Timestamp('2019-02-01 00:00:00'), Timestamp('2019-03-31 00:00:00'))"
      ]
     },
     "execution_count": 16,
     "metadata": {},
     "output_type": "execute_result"
    }
   ],
   "source": [
    "df_val[\"FECHA_SINI\"].min(), df_val[\"FECHA_SINI\"].max()"
   ]
  },
  {
   "cell_type": "code",
   "execution_count": 17,
   "metadata": {},
   "outputs": [
    {
     "data": {
      "text/html": [
       "<div>\n",
       "<style scoped>\n",
       "    .dataframe tbody tr th:only-of-type {\n",
       "        vertical-align: middle;\n",
       "    }\n",
       "\n",
       "    .dataframe tbody tr th {\n",
       "        vertical-align: top;\n",
       "    }\n",
       "\n",
       "    .dataframe thead tr th {\n",
       "        text-align: left;\n",
       "    }\n",
       "\n",
       "    .dataframe thead tr:last-of-type th {\n",
       "        text-align: right;\n",
       "    }\n",
       "</style>\n",
       "<table border=\"1\" class=\"dataframe\">\n",
       "  <thead>\n",
       "    <tr>\n",
       "      <th>EXISTE_FRAUDE</th>\n",
       "      <th colspan=\"7\" halign=\"left\">False</th>\n",
       "      <th colspan=\"4\" halign=\"left\">True</th>\n",
       "      <th>All</th>\n",
       "    </tr>\n",
       "    <tr>\n",
       "      <th>TIPO_EXPED</th>\n",
       "      <th>0</th>\n",
       "      <th>1</th>\n",
       "      <th>2</th>\n",
       "      <th>3</th>\n",
       "      <th>4</th>\n",
       "      <th>5</th>\n",
       "      <th>6</th>\n",
       "      <th>1</th>\n",
       "      <th>3</th>\n",
       "      <th>5</th>\n",
       "      <th>6</th>\n",
       "      <th></th>\n",
       "    </tr>\n",
       "    <tr>\n",
       "      <th>FECHA_SINI</th>\n",
       "      <th></th>\n",
       "      <th></th>\n",
       "      <th></th>\n",
       "      <th></th>\n",
       "      <th></th>\n",
       "      <th></th>\n",
       "      <th></th>\n",
       "      <th></th>\n",
       "      <th></th>\n",
       "      <th></th>\n",
       "      <th></th>\n",
       "      <th></th>\n",
       "    </tr>\n",
       "  </thead>\n",
       "  <tbody>\n",
       "    <tr>\n",
       "      <th>1.0</th>\n",
       "      <td>23</td>\n",
       "      <td>199</td>\n",
       "      <td>73</td>\n",
       "      <td>51</td>\n",
       "      <td>1</td>\n",
       "      <td>211</td>\n",
       "      <td>367</td>\n",
       "      <td>1</td>\n",
       "      <td>0</td>\n",
       "      <td>11</td>\n",
       "      <td>206</td>\n",
       "      <td>1143</td>\n",
       "    </tr>\n",
       "    <tr>\n",
       "      <th>2.0</th>\n",
       "      <td>16</td>\n",
       "      <td>131</td>\n",
       "      <td>20</td>\n",
       "      <td>3</td>\n",
       "      <td>0</td>\n",
       "      <td>98</td>\n",
       "      <td>64</td>\n",
       "      <td>0</td>\n",
       "      <td>0</td>\n",
       "      <td>5</td>\n",
       "      <td>34</td>\n",
       "      <td>371</td>\n",
       "    </tr>\n",
       "    <tr>\n",
       "      <th>3.0</th>\n",
       "      <td>10</td>\n",
       "      <td>117</td>\n",
       "      <td>31</td>\n",
       "      <td>1</td>\n",
       "      <td>0</td>\n",
       "      <td>101</td>\n",
       "      <td>57</td>\n",
       "      <td>0</td>\n",
       "      <td>0</td>\n",
       "      <td>1</td>\n",
       "      <td>40</td>\n",
       "      <td>358</td>\n",
       "    </tr>\n",
       "    <tr>\n",
       "      <th>4.0</th>\n",
       "      <td>13</td>\n",
       "      <td>139</td>\n",
       "      <td>31</td>\n",
       "      <td>0</td>\n",
       "      <td>2</td>\n",
       "      <td>106</td>\n",
       "      <td>48</td>\n",
       "      <td>0</td>\n",
       "      <td>0</td>\n",
       "      <td>8</td>\n",
       "      <td>31</td>\n",
       "      <td>378</td>\n",
       "    </tr>\n",
       "    <tr>\n",
       "      <th>5.0</th>\n",
       "      <td>9</td>\n",
       "      <td>127</td>\n",
       "      <td>32</td>\n",
       "      <td>3</td>\n",
       "      <td>1</td>\n",
       "      <td>119</td>\n",
       "      <td>94</td>\n",
       "      <td>1</td>\n",
       "      <td>0</td>\n",
       "      <td>7</td>\n",
       "      <td>47</td>\n",
       "      <td>440</td>\n",
       "    </tr>\n",
       "    <tr>\n",
       "      <th>6.0</th>\n",
       "      <td>16</td>\n",
       "      <td>147</td>\n",
       "      <td>32</td>\n",
       "      <td>0</td>\n",
       "      <td>0</td>\n",
       "      <td>128</td>\n",
       "      <td>119</td>\n",
       "      <td>0</td>\n",
       "      <td>0</td>\n",
       "      <td>10</td>\n",
       "      <td>52</td>\n",
       "      <td>504</td>\n",
       "    </tr>\n",
       "    <tr>\n",
       "      <th>7.0</th>\n",
       "      <td>17</td>\n",
       "      <td>133</td>\n",
       "      <td>45</td>\n",
       "      <td>7</td>\n",
       "      <td>2</td>\n",
       "      <td>190</td>\n",
       "      <td>162</td>\n",
       "      <td>0</td>\n",
       "      <td>0</td>\n",
       "      <td>6</td>\n",
       "      <td>97</td>\n",
       "      <td>659</td>\n",
       "    </tr>\n",
       "    <tr>\n",
       "      <th>8.0</th>\n",
       "      <td>12</td>\n",
       "      <td>155</td>\n",
       "      <td>29</td>\n",
       "      <td>22</td>\n",
       "      <td>2</td>\n",
       "      <td>191</td>\n",
       "      <td>127</td>\n",
       "      <td>1</td>\n",
       "      <td>0</td>\n",
       "      <td>5</td>\n",
       "      <td>66</td>\n",
       "      <td>610</td>\n",
       "    </tr>\n",
       "    <tr>\n",
       "      <th>9.0</th>\n",
       "      <td>5</td>\n",
       "      <td>139</td>\n",
       "      <td>46</td>\n",
       "      <td>29</td>\n",
       "      <td>3</td>\n",
       "      <td>203</td>\n",
       "      <td>95</td>\n",
       "      <td>0</td>\n",
       "      <td>0</td>\n",
       "      <td>8</td>\n",
       "      <td>76</td>\n",
       "      <td>604</td>\n",
       "    </tr>\n",
       "    <tr>\n",
       "      <th>10.0</th>\n",
       "      <td>9</td>\n",
       "      <td>166</td>\n",
       "      <td>40</td>\n",
       "      <td>81</td>\n",
       "      <td>1</td>\n",
       "      <td>190</td>\n",
       "      <td>109</td>\n",
       "      <td>0</td>\n",
       "      <td>1</td>\n",
       "      <td>7</td>\n",
       "      <td>85</td>\n",
       "      <td>689</td>\n",
       "    </tr>\n",
       "    <tr>\n",
       "      <th>11.0</th>\n",
       "      <td>7</td>\n",
       "      <td>192</td>\n",
       "      <td>78</td>\n",
       "      <td>163</td>\n",
       "      <td>3</td>\n",
       "      <td>229</td>\n",
       "      <td>107</td>\n",
       "      <td>0</td>\n",
       "      <td>0</td>\n",
       "      <td>6</td>\n",
       "      <td>115</td>\n",
       "      <td>900</td>\n",
       "    </tr>\n",
       "    <tr>\n",
       "      <th>12.0</th>\n",
       "      <td>10</td>\n",
       "      <td>200</td>\n",
       "      <td>107</td>\n",
       "      <td>229</td>\n",
       "      <td>3</td>\n",
       "      <td>209</td>\n",
       "      <td>282</td>\n",
       "      <td>1</td>\n",
       "      <td>0</td>\n",
       "      <td>7</td>\n",
       "      <td>154</td>\n",
       "      <td>1202</td>\n",
       "    </tr>\n",
       "    <tr>\n",
       "      <th>All</th>\n",
       "      <td>147</td>\n",
       "      <td>1845</td>\n",
       "      <td>564</td>\n",
       "      <td>589</td>\n",
       "      <td>18</td>\n",
       "      <td>1975</td>\n",
       "      <td>1631</td>\n",
       "      <td>4</td>\n",
       "      <td>1</td>\n",
       "      <td>81</td>\n",
       "      <td>1003</td>\n",
       "      <td>7858</td>\n",
       "    </tr>\n",
       "  </tbody>\n",
       "</table>\n",
       "</div>"
      ],
      "text/plain": [
       "EXISTE_FRAUDE False                                 True                All\n",
       "TIPO_EXPED        0     1    2    3   4     5     6    1  3   5     6      \n",
       "FECHA_SINI                                                                 \n",
       "1.0              23   199   73   51   1   211   367    1  0  11   206  1143\n",
       "2.0              16   131   20    3   0    98    64    0  0   5    34   371\n",
       "3.0              10   117   31    1   0   101    57    0  0   1    40   358\n",
       "4.0              13   139   31    0   2   106    48    0  0   8    31   378\n",
       "5.0               9   127   32    3   1   119    94    1  0   7    47   440\n",
       "6.0              16   147   32    0   0   128   119    0  0  10    52   504\n",
       "7.0              17   133   45    7   2   190   162    0  0   6    97   659\n",
       "8.0              12   155   29   22   2   191   127    1  0   5    66   610\n",
       "9.0               5   139   46   29   3   203    95    0  0   8    76   604\n",
       "10.0              9   166   40   81   1   190   109    0  1   7    85   689\n",
       "11.0              7   192   78  163   3   229   107    0  0   6   115   900\n",
       "12.0             10   200  107  229   3   209   282    1  0   7   154  1202\n",
       "All             147  1845  564  589  18  1975  1631    4  1  81  1003  7858"
      ]
     },
     "execution_count": 17,
     "metadata": {},
     "output_type": "execute_result"
    }
   ],
   "source": [
    "pd.crosstab(df[\"FECHA_SINI\"].dt.month, [df[\"EXISTE_FRAUDE\"], df[\"TIPO_EXPED\"]], margins=True)"
   ]
  },
  {
   "cell_type": "code",
   "execution_count": 18,
   "metadata": {},
   "outputs": [
    {
     "name": "stdout",
     "output_type": "stream",
     "text": [
      "2017-01-01 00:00:00 2018-10-31 00:00:00\n",
      "2018-11-01 00:00:00 2019-01-31 00:00:00\n"
     ]
    }
   ],
   "source": [
    "# using only last year\n",
    "split_date = \"2018-11-01\"\n",
    "df_train = df[df[\"FECHA_SINI\"] < split_date].copy()\n",
    "df_opt = df[df[\"FECHA_SINI\"] >= split_date].copy()\n",
    "print(df_train[\"FECHA_SINI\"].min(), df_train[\"FECHA_SINI\"].max())\n",
    "print(df_opt[\"FECHA_SINI\"].min(), df_opt[\"FECHA_SINI\"].max())"
   ]
  },
  {
   "cell_type": "code",
   "execution_count": 19,
   "metadata": {},
   "outputs": [
    {
     "data": {
      "text/plain": [
       "(False    0.87002\n",
       " True     0.12998\n",
       " Name: EXISTE_FRAUDE, dtype: float64, False    0.841974\n",
       " True     0.158026\n",
       " Name: EXISTE_FRAUDE, dtype: float64)"
      ]
     },
     "execution_count": 19,
     "metadata": {},
     "output_type": "execute_result"
    }
   ],
   "source": [
    "df_train[\"EXISTE_FRAUDE\"].value_counts(normalize=True), df_opt[\"EXISTE_FRAUDE\"].value_counts(normalize=True)"
   ]
  },
  {
   "cell_type": "code",
   "execution_count": 20,
   "metadata": {},
   "outputs": [
    {
     "data": {
      "text/plain": [
       "(0.6931789259353525, 0.3068210740646475)"
      ]
     },
     "execution_count": 20,
     "metadata": {},
     "output_type": "execute_result"
    }
   ],
   "source": [
    "full_len = df_train.shape[0] + df_opt.shape[0]\n",
    "df_train.shape[0] / full_len, df_opt.shape[0] / full_len"
   ]
  },
  {
   "cell_type": "code",
   "execution_count": 21,
   "metadata": {},
   "outputs": [],
   "source": [
    "# dropping date FEC_ACT_cond\n",
    "to_drop = [\"FECHA_SINI\"]\n",
    "df_train.drop(to_drop, axis=1, inplace=True)\n",
    "df_opt.drop(to_drop, axis=1, inplace=True)\n",
    "df_val.drop(to_drop, axis=1, inplace=True)"
   ]
  },
  {
   "cell_type": "code",
   "execution_count": 22,
   "metadata": {},
   "outputs": [
    {
     "data": {
      "text/plain": [
       "Index(['FECHA_SINI_Year', 'FECHA_SINI_Month', 'FECHA_SINI_Week',\n",
       "       'FECHA_SINI_Day', 'FECHA_SINI_Dayofweek', 'FECHA_SINI_Dayofyear',\n",
       "       'FECHA_SINI_Is_month_end', 'FECHA_SINI_Is_month_start',\n",
       "       'FECHA_SINI_Is_quarter_end', 'FECHA_SINI_Is_quarter_start',\n",
       "       'FECHA_SINI_Is_year_end', 'FECHA_SINI_Is_year_start', 'FECHA_SINI_Hour',\n",
       "       'FECHA_SINI_Minute', 'FECHA_SINI_Second', 'FECHA_SINI_Elapsed'],\n",
       "      dtype='object')"
      ]
     },
     "execution_count": 22,
     "metadata": {},
     "output_type": "execute_result"
    }
   ],
   "source": [
    "df.filter(regex=\"FECHA_SINI_\").columns"
   ]
  },
  {
   "cell_type": "markdown",
   "metadata": {},
   "source": [
    "## split X, y dataset"
   ]
  },
  {
   "cell_type": "code",
   "execution_count": 23,
   "metadata": {},
   "outputs": [],
   "source": [
    "# to_drop = [\"COD_FRAUDE\", \"EXISTE_FRAUDE\", \"EXISTE_INHABILITAR\"]\n",
    "# already removed : \"EXISTE_INHABILITAR\", \"COD_ACT_BENEF\",\n",
    "to_drop = [\"EXISTE_FRAUDE\", \"NUM_SECU_EXPED\", \"NUM_SECU_POL\", \"EXISTE_INVEST\", \"es_gte_5\", \"cant_sini_1y\",\n",
    "           \"cant_pol\", \"FECHA_SINI_Elapsed\", \"FECHA_SINI_Dayofyear\"] # \n",
    "\n",
    "# training\n",
    "X_train = df_train.drop(to_drop, axis=1)\n",
    "y_train = df_train[\"EXISTE_FRAUDE\"]\n",
    "# validation\n",
    "X_opt = df_opt.drop(to_drop, axis=1)\n",
    "y_opt = df_opt[\"EXISTE_FRAUDE\"]\n",
    "# validation\n",
    "X_val = df_val.drop(to_drop, axis=1)\n",
    "y_val = df_val[\"EXISTE_FRAUDE\"]"
   ]
  },
  {
   "cell_type": "code",
   "execution_count": 24,
   "metadata": {},
   "outputs": [],
   "source": [
    "X_full_train = df.drop(to_drop, axis=1)\n",
    "X_full_train.drop(columns=[\"FECHA_SINI\"], inplace=True)\n",
    "y_full_train = df[\"EXISTE_FRAUDE\"]"
   ]
  },
  {
   "cell_type": "code",
   "execution_count": 25,
   "metadata": {},
   "outputs": [
    {
     "name": "stdout",
     "output_type": "stream",
     "text": [
      "dif between X_train & X_opt: set()\n",
      "dif between X_val & X_opt: set()\n"
     ]
    }
   ],
   "source": [
    "# checking if all have the same inputs columns\n",
    "print(\"dif between X_train & X_opt: {}\".format(set(X_train.columns) - set(X_opt.columns)))\n",
    "print(\"dif between X_val & X_opt: {}\".format(set(X_val.columns) - set(X_opt.columns)))"
   ]
  },
  {
   "cell_type": "code",
   "execution_count": 26,
   "metadata": {},
   "outputs": [
    {
     "name": "stdout",
     "output_type": "stream",
     "text": [
      "5447, 2411\n",
      "5447, 2411\n"
     ]
    }
   ],
   "source": [
    "print(f\"{len(X_train)}, {len(X_opt)}\")\n",
    "print(f\"{len(y_train)}, {len(y_opt)}\")"
   ]
  },
  {
   "cell_type": "code",
   "execution_count": 27,
   "metadata": {},
   "outputs": [
    {
     "data": {
      "text/plain": [
       "(0.1299798053974665, 0.15802571547075903)"
      ]
     },
     "execution_count": 27,
     "metadata": {},
     "output_type": "execute_result"
    }
   ],
   "source": [
    "y_train.sum() / len(y_train), y_opt.sum() / len(y_opt)"
   ]
  },
  {
   "cell_type": "code",
   "execution_count": 28,
   "metadata": {},
   "outputs": [
    {
     "data": {
      "text/plain": [
       "False    4739\n",
       "True      708\n",
       "Name: EXISTE_FRAUDE, dtype: int64"
      ]
     },
     "execution_count": 28,
     "metadata": {},
     "output_type": "execute_result"
    }
   ],
   "source": [
    "y_train.value_counts(dropna=False)"
   ]
  },
  {
   "cell_type": "markdown",
   "metadata": {},
   "source": [
    "## Defining grid configuration"
   ]
  },
  {
   "cell_type": "code",
   "execution_count": 29,
   "metadata": {},
   "outputs": [],
   "source": [
    "from sklearn.utils.class_weight import compute_class_weight"
   ]
  },
  {
   "cell_type": "code",
   "execution_count": 30,
   "metadata": {},
   "outputs": [
    {
     "data": {
      "text/plain": [
       "(array([0.56778082, 4.1883593 ]), 7.3767186067827675)"
      ]
     },
     "execution_count": 30,
     "metadata": {},
     "output_type": "execute_result"
    }
   ],
   "source": [
    "weights = compute_class_weight(\"balanced\", df[\"EXISTE_FRAUDE\"].unique(), df[\"EXISTE_FRAUDE\"])\n",
    "weights, weights[1] / weights[0]"
   ]
  },
  {
   "cell_type": "code",
   "execution_count": 31,
   "metadata": {},
   "outputs": [
    {
     "data": {
      "text/plain": [
       "[{0: 1, 1: 40}, {0: 1, 1: 50}, {0: 1, 1: 60}]"
      ]
     },
     "execution_count": 31,
     "metadata": {},
     "output_type": "execute_result"
    }
   ],
   "source": [
    "# configs\n",
    "list_weights = [40, 50, 60] # 80\n",
    "[{0:1, 1:l} for l in list_weights]"
   ]
  },
  {
   "cell_type": "markdown",
   "metadata": {
    "heading_collapsed": true
   },
   "source": [
    "### VERSION SIMPLE"
   ]
  },
  {
   "cell_type": "code",
   "execution_count": 107,
   "metadata": {
    "hidden": true
   },
   "outputs": [
    {
     "data": {
      "text/plain": [
       "[{'n_estimators': [60],\n",
       "  'min_samples_leaf': [3, 5, 7],\n",
       "  'max_depth': [10, 40],\n",
       "  'max_features': ['sqrt', None],\n",
       "  'class_weight': [{0: 1, 1: 10}, {0: 1, 1: 20}],\n",
       "  'bootstrap': [False, True]},\n",
       " {'n_estimators': [60],\n",
       "  'min_samples_leaf': [3, 5, 7],\n",
       "  'max_depth': [10, 40],\n",
       "  'max_features': ['sqrt', None],\n",
       "  'class_weight': [{0: 1, 1: 10}, {0: 1, 1: 20}],\n",
       "  'bootstrap': [False, True]},\n",
       " {'n_estimators': [60, 100],\n",
       "  'learning_rate': [1.0, 0.1, 0.01],\n",
       "  'scale_pos_weight': [10, 20]},\n",
       " {'n_estimators': [60, 100],\n",
       "  'learning_rate': [1.0, 0.1, 0.01],\n",
       "  'class_weight': [{0: 1, 1: 10}, {0: 1, 1: 20}]}]"
      ]
     },
     "execution_count": 107,
     "metadata": {},
     "output_type": "execute_result"
    }
   ],
   "source": [
    "\n",
    "rf_params = {\n",
    "    \"n_estimators\": [60],\n",
    "    \"min_samples_leaf\": [3, 5, 7],\n",
    "    \"max_depth\": [10, 40], # 10,\n",
    "    \"max_features\": ['sqrt', None],\n",
    "    \"class_weight\": [{0:1, 1:l} for l in list_weights],\n",
    "    \"bootstrap\": [False, True],\n",
    "}\n",
    "param_configs = []\n",
    "param_configs.append(rf_params)\n",
    "param_configs.append(rf_params)\n",
    "\n",
    "dt_params = {\n",
    "    \"min_samples_leaf\": [3, 5, 7],\n",
    "    \"class_weight\": [{0:1, 1:l} for l in list_weights],\n",
    "}\n",
    "# param_configs.append(dt_params)\n",
    "\n",
    "\n",
    "gbt_params = {\n",
    "    'n_estimators': [60, 100], \n",
    "#    \"min_samples_leaf\": [3, 5, 7],\n",
    "#    \"max_depth\": [10, 40], # 10,\n",
    "#    'min_samples_split': [5, 7],\n",
    "    'learning_rate': [1.0, 0.1, 0.01],\n",
    "#    'subsample': [0.5, 1],\n",
    "#    \"colsample_bynode\": [0.5 , 1],\n",
    "    \"scale_pos_weight\": list_weights,\n",
    "}\n",
    "param_configs.append(gbt_params)\n",
    "\n",
    "\n",
    "lgbm_params = {\n",
    "    'n_estimators': [60, 100], \n",
    "#    'num_leaves': [10, 20, 50],\n",
    "#    'max_depth': [5, 10, 30],\n",
    "#    'min_child_samples': [3, 5, 7],\n",
    "    'learning_rate': [1.0, 0.1, 0.01],\n",
    "#    'subsample': [0.5, 1],\n",
    "#    \"colsample_bytree\": [0.5 , 1],\n",
    "    \"class_weight\": [{0:1, 1:l} for l in list_weights],\n",
    "}\n",
    "\n",
    "param_configs.append(lgbm_params)\n",
    "param_configs"
   ]
  },
  {
   "cell_type": "markdown",
   "metadata": {},
   "source": [
    "### VERSION COMPLEJA"
   ]
  },
  {
   "cell_type": "code",
   "execution_count": 32,
   "metadata": {},
   "outputs": [
    {
     "data": {
      "text/plain": [
       "[{'n_estimators': [60, 30],\n",
       "  'max_depth': [15, 40, 25, 5],\n",
       "  'learning_rate': [1.0, 0.5, 0.1, 0.05, 0.01],\n",
       "  'colsample_bytree': [0.5, 1.0],\n",
       "  'scale_pos_weight': [40, 50, 60]},\n",
       " {'n_estimators': [60, 30],\n",
       "  'max_depth': [3, 5],\n",
       "  'min_child_samples': [5, 7, 11],\n",
       "  'learning_rate': [1.0, 0.1, 0.05, 0.01],\n",
       "  'colsample_bytree': [0.5, 1.0],\n",
       "  'class_weight': [{0: 1, 1: 40}, {0: 1, 1: 50}, {0: 1, 1: 60}]}]"
      ]
     },
     "execution_count": 32,
     "metadata": {},
     "output_type": "execute_result"
    }
   ],
   "source": [
    "n_estimators = [60, 30]\n",
    "\n",
    "rf_params = {\n",
    "    \"n_estimators\": n_estimators,\n",
    "    \"min_samples_leaf\": [3, 5, 7],\n",
    "    \"max_depth\": [10, 40], # 10,\n",
    "    \"max_features\": ['sqrt', None],\n",
    "    \"class_weight\": [{0:1, 1:l} for l in list_weights],\n",
    "    \"bootstrap\": [False, True],\n",
    "}\n",
    "param_configs = []\n",
    "# param_configs.append(rf_params)\n",
    "# param_configs.append(rf_params)\n",
    "\n",
    "dt_params = {\n",
    "    \"min_samples_leaf\": [3, 5, 7],\n",
    "    \"class_weight\": [{0:1, 1:l} for l in list_weights],\n",
    "}\n",
    "# param_configs.append(dt_params)\n",
    "\n",
    "\n",
    "gbt_params = {\n",
    "    'n_estimators': n_estimators, \n",
    "    \"max_depth\": [15, 40, 25, 5],\n",
    "    'learning_rate': [1.0, 0.5, 0.1, 0.05, 0.01],\n",
    "#    'subsample': [0.5, 1.0],\n",
    "    \"colsample_bytree\": [0.5 , 1.0],\n",
    "    \"scale_pos_weight\": list_weights,\n",
    "}\n",
    "param_configs.append(gbt_params)\n",
    "\n",
    "\n",
    "lgbm_params = {\n",
    "    'n_estimators': n_estimators, \n",
    "#    'num_leaves': [10, 20, 50],\n",
    "    \"max_depth\": [3, 5],\n",
    "    'min_child_samples': [5, 7, 11],\n",
    "    'learning_rate': [1.0, 0.1, 0.05, 0.01],\n",
    "#    'subsample': [0.5, 1.0],\n",
    "    \"colsample_bytree\": [0.5 , 1.0],\n",
    "    \"class_weight\": [{0:1, 1:l} for l in list_weights],\n",
    "}\n",
    "param_configs.append(lgbm_params)\n",
    "param_configs"
   ]
  },
  {
   "cell_type": "markdown",
   "metadata": {},
   "source": [
    "### hiper opt"
   ]
  },
  {
   "cell_type": "code",
   "execution_count": 33,
   "metadata": {},
   "outputs": [
    {
     "data": {
      "text/plain": [
       "[XGBClassifier(base_score=0.5, booster='gbtree', colsample_bylevel=1,\n",
       "               colsample_bytree=1, gamma=0, learning_rate=0.1, max_delta_step=0,\n",
       "               max_depth=3, min_child_weight=1, missing=None, n_estimators=100,\n",
       "               n_jobs=-1, nthread=None, objective='binary:logistic',\n",
       "               random_state=42, reg_alpha=0, reg_lambda=1, scale_pos_weight=1,\n",
       "               seed=None, silent=True, subsample=1),\n",
       " LGBMClassifier(boosting_type='gbdt', class_weight=None, colsample_bytree=1.0,\n",
       "                importance_type='split', learning_rate=0.1, max_depth=-1,\n",
       "                min_child_samples=20, min_child_weight=0.001, min_split_gain=0.0,\n",
       "                n_estimators=100, n_jobs=-1, num_leaves=31, objective=None,\n",
       "                random_state=42, reg_alpha=0.0, reg_lambda=0.0, silent=False,\n",
       "                subsample=1.0, subsample_for_bin=200000, subsample_freq=0)]"
      ]
     },
     "execution_count": 33,
     "metadata": {},
     "output_type": "execute_result"
    }
   ],
   "source": [
    "# using without grid with list of models\n",
    "rfs = []\n",
    "# rfs.append(RandomForestClassifier(random_state=random_state, n_jobs=-1))\n",
    "# rfs.append(ExtraTreesClassifier(random_state=random_state, n_jobs=-1))\n",
    "# rfs.append(DecisionTreeClassifier(random_state=random_state))\n",
    "rfs.append(XGBClassifier(random_state=random_state, n_jobs=-1))\n",
    "rfs.append(LGBMClassifier(random_state=random_state, silent=False, n_jobs=-1))\n",
    "rfs"
   ]
  },
  {
   "cell_type": "code",
   "execution_count": 34,
   "metadata": {
    "scrolled": true
   },
   "outputs": [
    {
     "name": "stdout",
     "output_type": "stream",
     "text": [
      "Model 0: XGBClassifier(base_score=0.5, booster='gbtree', colsample_bylevel=1,\n",
      "              colsample_bytree=1, gamma=0, learning_rate=0.1, max_delta_step=0,\n",
      "              max_depth=3, min_child_weight=1, missing=None, n_estimators=100,\n",
      "              n_jobs=-1, nthread=None, objective='binary:logistic',\n",
      "              random_state=42, reg_alpha=0, reg_lambda=1, scale_pos_weight=1,\n",
      "              seed=None, silent=True, subsample=1)\n",
      "Comparing 240 parameter setting(s) using 1 CPU thread(s) ( 240 job(s) per thread ).\n",
      "Best score: 0.9973753280839895\n",
      "Best config: {'colsample_bytree': 0.5, 'learning_rate': 0.01, 'max_depth': 5, 'n_estimators': 30, 'scale_pos_weight': 60}\n",
      "*-*-*-*-*-*-*-*-*-*-*-*-*-*-*-*-*-*-*-*-*-*-*-*-*-*-*-*-*-*-\n",
      "Model 1: LGBMClassifier(boosting_type='gbdt', class_weight=None, colsample_bytree=1.0,\n",
      "               importance_type='split', learning_rate=0.1, max_depth=-1,\n",
      "               min_child_samples=20, min_child_weight=0.001, min_split_gain=0.0,\n",
      "               n_estimators=100, n_jobs=-1, num_leaves=31, objective=None,\n",
      "               random_state=42, reg_alpha=0.0, reg_lambda=0.0, silent=False,\n",
      "               subsample=1.0, subsample_for_bin=200000, subsample_freq=0)\n",
      "Comparing 288 parameter setting(s) using 1 CPU thread(s) ( 288 job(s) per thread ).\n",
      "Best score: 1.0\n",
      "Best config: {'class_weight': {0: 1, 1: 60}, 'colsample_bytree': 1.0, 'learning_rate': 0.01, 'max_depth': 5, 'min_child_samples': 11, 'n_estimators': 30}\n",
      "*-*-*-*-*-*-*-*-*-*-*-*-*-*-*-*-*-*-*-*-*-*-*-*-*-*-*-*-*-*-\n"
     ]
    }
   ],
   "source": [
    "# TO avoid random sampling,\n",
    "# WE USE GridSearch of hypopt\n",
    "metric = \"recall\"\n",
    "best_models_ = []\n",
    "best_scores_ = []\n",
    "for counter, rf in enumerate(rfs):\n",
    "    print(f\"Model {counter}: {rf}\")\n",
    "    clf = GridSearch(rf, param_grid=param_configs[counter], seed=random_state, num_threads=1)\n",
    "    clf.fit(X_train, y_train, X_val=X_opt, y_val=y_opt, scoring=metric, verbose=True)\n",
    "    print(f\"Best score: {clf.best_score}\")\n",
    "    print(f\"Best config: {clf.best_params}\")\n",
    "    best_models_.append(copy(clf))\n",
    "    best_scores_.append(clf.best_score)\n",
    "    print(\"*-*-*-\" * 10)"
   ]
  },
  {
   "cell_type": "code",
   "execution_count": 35,
   "metadata": {},
   "outputs": [
    {
     "name": "stdout",
     "output_type": "stream",
     "text": [
      "Best Config:\n",
      "GridSearch(cv_folds=3,\n",
      "           model=XGBClassifier(base_score=0.5, booster='gbtree',\n",
      "                               colsample_bylevel=1, colsample_bytree=0.5,\n",
      "                               gamma=0, learning_rate=0.01, max_delta_step=0,\n",
      "                               max_depth=5, min_child_weight=1, missing=nan,\n",
      "                               n_estimators=30, n_jobs=-1, nthread=None,\n",
      "                               objective='binary:logistic', random_state=0,\n",
      "                               reg_alpha=0, reg_lambda=1, scale_pos_weight=60,\n",
      "                               seed=0, silent=True, subsample=1),\n",
      "           num_threads=1,\n",
      "           param_grid={'colsample_bytree': [0.5, 1.0],\n",
      "                       'learning_rate': [1.0, 0.5, 0.1, 0.05, 0.01],\n",
      "                       'max_depth': [15, 40, 25, 5], 'n_estimators': [60, 30],\n",
      "                       'scale_pos_weight': [40, 50, 60]},\n",
      "           seed=42) 0.9973753280839895\n",
      "GridSearch(cv_folds=3,\n",
      "           model=LGBMClassifier(boosting_type='gbdt',\n",
      "                                class_weight={0: 1, 1: 40},\n",
      "                                colsample_bytree=1.0, importance_type='split',\n",
      "                                learning_rate=0.1, max_depth=5,\n",
      "                                min_child_samples=11, min_child_weight=0.001,\n",
      "                                min_split_gain=0.0, n_estimators=30, n_jobs=-1,\n",
      "                                num_leaves=31, objective=None, random_state=0,\n",
      "                                reg_alpha=0.0, reg_lambda=0.0, silent=False,\n",
      "                                subsample=1.0, subsample_for_bin=200000,\n",
      "                                subsample_freq=0),\n",
      "           num_threads=1,\n",
      "           param_grid={'class_weight': [{0: 1, 1: 40}, {0: 1, 1: 50},\n",
      "                                        {0: 1, 1: 60}],\n",
      "                       'colsample_bytree': [0.5, 1.0],\n",
      "                       'learning_rate': [1.0, 0.1, 0.05, 0.01],\n",
      "                       'max_depth': [3, 5], 'min_child_samples': [5, 7, 11],\n",
      "                       'n_estimators': [60, 30]},\n",
      "           seed=42) 1.0\n"
     ]
    }
   ],
   "source": [
    "print(\"Best Config:\")\n",
    "for m, s in zip(best_models_, best_scores_):\n",
    "    print(m, s)"
   ]
  },
  {
   "cell_type": "code",
   "execution_count": 41,
   "metadata": {},
   "outputs": [],
   "source": [
    "# select best grid\n",
    "# best_model = best_models_[np.argmax(best_scores_)]\n",
    "\n",
    "# select by hand\n",
    "best_model = best_models_[0]"
   ]
  },
  {
   "cell_type": "code",
   "execution_count": 42,
   "metadata": {},
   "outputs": [
    {
     "name": "stdout",
     "output_type": "stream",
     "text": [
      "Grid scores:\n",
      "0.997 for {'colsample_bytree': 0.5, 'learning_rate': 0.01, 'max_depth': 5, 'n_estimators': 30, 'scale_pos_weight': 60}\n",
      "0.997 for {'colsample_bytree': 0.5, 'learning_rate': 0.01, 'max_depth': 5, 'n_estimators': 60, 'scale_pos_weight': 60}\n",
      "0.995 for {'colsample_bytree': 0.5, 'learning_rate': 0.01, 'max_depth': 5, 'n_estimators': 30, 'scale_pos_weight': 50}\n",
      "0.995 for {'colsample_bytree': 0.5, 'learning_rate': 0.01, 'max_depth': 5, 'n_estimators': 60, 'scale_pos_weight': 50}\n",
      "0.992 for {'colsample_bytree': 0.5, 'learning_rate': 0.05, 'max_depth': 5, 'n_estimators': 30, 'scale_pos_weight': 60}\n",
      "0.990 for {'colsample_bytree': 0.5, 'learning_rate': 0.01, 'max_depth': 5, 'n_estimators': 60, 'scale_pos_weight': 40}\n",
      "0.990 for {'colsample_bytree': 0.5, 'learning_rate': 0.05, 'max_depth': 5, 'n_estimators': 30, 'scale_pos_weight': 50}\n",
      "0.990 for {'colsample_bytree': 1.0, 'learning_rate': 0.01, 'max_depth': 5, 'n_estimators': 30, 'scale_pos_weight': 40}\n",
      "0.987 for {'colsample_bytree': 1.0, 'learning_rate': 0.01, 'max_depth': 5, 'n_estimators': 60, 'scale_pos_weight': 50}\n",
      "0.987 for {'colsample_bytree': 1.0, 'learning_rate': 0.01, 'max_depth': 5, 'n_estimators': 60, 'scale_pos_weight': 40}\n",
      "0.987 for {'colsample_bytree': 0.5, 'learning_rate': 0.01, 'max_depth': 5, 'n_estimators': 30, 'scale_pos_weight': 40}\n",
      "0.987 for {'colsample_bytree': 1.0, 'learning_rate': 0.05, 'max_depth': 5, 'n_estimators': 30, 'scale_pos_weight': 40}\n",
      "0.987 for {'colsample_bytree': 0.5, 'learning_rate': 0.05, 'max_depth': 5, 'n_estimators': 60, 'scale_pos_weight': 60}\n",
      "0.984 for {'colsample_bytree': 0.5, 'learning_rate': 0.05, 'max_depth': 5, 'n_estimators': 60, 'scale_pos_weight': 40}\n",
      "0.984 for {'colsample_bytree': 0.5, 'learning_rate': 0.05, 'max_depth': 5, 'n_estimators': 60, 'scale_pos_weight': 50}\n",
      "0.984 for {'colsample_bytree': 0.5, 'learning_rate': 0.05, 'max_depth': 5, 'n_estimators': 30, 'scale_pos_weight': 40}\n",
      "0.982 for {'colsample_bytree': 1.0, 'learning_rate': 0.05, 'max_depth': 5, 'n_estimators': 30, 'scale_pos_weight': 50}\n",
      "0.982 for {'colsample_bytree': 0.5, 'learning_rate': 0.1, 'max_depth': 5, 'n_estimators': 30, 'scale_pos_weight': 50}\n",
      "0.982 for {'colsample_bytree': 0.5, 'learning_rate': 0.1, 'max_depth': 5, 'n_estimators': 30, 'scale_pos_weight': 40}\n",
      "0.982 for {'colsample_bytree': 1.0, 'learning_rate': 0.01, 'max_depth': 5, 'n_estimators': 30, 'scale_pos_weight': 50}\n",
      "0.982 for {'colsample_bytree': 1.0, 'learning_rate': 0.1, 'max_depth': 5, 'n_estimators': 30, 'scale_pos_weight': 40}\n",
      "0.982 for {'colsample_bytree': 1.0, 'learning_rate': 0.1, 'max_depth': 5, 'n_estimators': 30, 'scale_pos_weight': 50}\n",
      "0.982 for {'colsample_bytree': 1.0, 'learning_rate': 0.05, 'max_depth': 5, 'n_estimators': 60, 'scale_pos_weight': 40}\n",
      "0.982 for {'colsample_bytree': 0.5, 'learning_rate': 0.1, 'max_depth': 5, 'n_estimators': 30, 'scale_pos_weight': 60}\n",
      "0.982 for {'colsample_bytree': 1.0, 'learning_rate': 0.01, 'max_depth': 5, 'n_estimators': 30, 'scale_pos_weight': 60}\n",
      "0.982 for {'colsample_bytree': 1.0, 'learning_rate': 0.01, 'max_depth': 5, 'n_estimators': 60, 'scale_pos_weight': 60}\n",
      "0.979 for {'colsample_bytree': 1.0, 'learning_rate': 0.05, 'max_depth': 5, 'n_estimators': 60, 'scale_pos_weight': 60}\n",
      "0.979 for {'colsample_bytree': 1.0, 'learning_rate': 0.05, 'max_depth': 5, 'n_estimators': 60, 'scale_pos_weight': 50}\n",
      "0.976 for {'colsample_bytree': 1.0, 'learning_rate': 0.1, 'max_depth': 5, 'n_estimators': 30, 'scale_pos_weight': 60}\n",
      "0.976 for {'colsample_bytree': 1.0, 'learning_rate': 0.05, 'max_depth': 5, 'n_estimators': 30, 'scale_pos_weight': 60}\n",
      "0.974 for {'colsample_bytree': 1.0, 'learning_rate': 0.1, 'max_depth': 5, 'n_estimators': 60, 'scale_pos_weight': 40}\n",
      "0.969 for {'colsample_bytree': 1.0, 'learning_rate': 0.1, 'max_depth': 5, 'n_estimators': 60, 'scale_pos_weight': 50}\n",
      "0.969 for {'colsample_bytree': 1.0, 'learning_rate': 0.1, 'max_depth': 5, 'n_estimators': 60, 'scale_pos_weight': 60}\n",
      "0.963 for {'colsample_bytree': 0.5, 'learning_rate': 0.1, 'max_depth': 5, 'n_estimators': 60, 'scale_pos_weight': 60}\n",
      "0.963 for {'colsample_bytree': 0.5, 'learning_rate': 0.01, 'max_depth': 15, 'n_estimators': 30, 'scale_pos_weight': 50}\n",
      "0.963 for {'colsample_bytree': 0.5, 'learning_rate': 0.01, 'max_depth': 15, 'n_estimators': 30, 'scale_pos_weight': 60}\n",
      "0.963 for {'colsample_bytree': 0.5, 'learning_rate': 0.1, 'max_depth': 5, 'n_estimators': 60, 'scale_pos_weight': 50}\n",
      "0.955 for {'colsample_bytree': 0.5, 'learning_rate': 0.01, 'max_depth': 15, 'n_estimators': 30, 'scale_pos_weight': 40}\n",
      "0.948 for {'colsample_bytree': 0.5, 'learning_rate': 0.1, 'max_depth': 5, 'n_estimators': 60, 'scale_pos_weight': 40}\n",
      "0.942 for {'colsample_bytree': 1.0, 'learning_rate': 0.01, 'max_depth': 15, 'n_estimators': 30, 'scale_pos_weight': 60}\n",
      "0.940 for {'colsample_bytree': 0.5, 'learning_rate': 0.01, 'max_depth': 25, 'n_estimators': 30, 'scale_pos_weight': 60}\n",
      "0.940 for {'colsample_bytree': 1.0, 'learning_rate': 0.01, 'max_depth': 15, 'n_estimators': 30, 'scale_pos_weight': 50}\n",
      "0.934 for {'colsample_bytree': 0.5, 'learning_rate': 0.01, 'max_depth': 40, 'n_estimators': 30, 'scale_pos_weight': 60}\n",
      "0.927 for {'colsample_bytree': 0.5, 'learning_rate': 0.01, 'max_depth': 25, 'n_estimators': 30, 'scale_pos_weight': 50}\n",
      "0.924 for {'colsample_bytree': 0.5, 'learning_rate': 0.01, 'max_depth': 15, 'n_estimators': 60, 'scale_pos_weight': 60}\n",
      "0.924 for {'colsample_bytree': 0.5, 'learning_rate': 0.01, 'max_depth': 40, 'n_estimators': 30, 'scale_pos_weight': 50}\n",
      "0.921 for {'colsample_bytree': 0.5, 'learning_rate': 0.01, 'max_depth': 15, 'n_estimators': 60, 'scale_pos_weight': 50}\n",
      "0.921 for {'colsample_bytree': 0.5, 'learning_rate': 0.05, 'max_depth': 15, 'n_estimators': 30, 'scale_pos_weight': 60}\n",
      "0.913 for {'colsample_bytree': 0.5, 'learning_rate': 0.5, 'max_depth': 5, 'n_estimators': 30, 'scale_pos_weight': 60}\n",
      "0.911 for {'colsample_bytree': 0.5, 'learning_rate': 0.01, 'max_depth': 25, 'n_estimators': 30, 'scale_pos_weight': 40}\n",
      "0.911 for {'colsample_bytree': 1.0, 'learning_rate': 0.01, 'max_depth': 15, 'n_estimators': 30, 'scale_pos_weight': 40}\n",
      "0.908 for {'colsample_bytree': 0.5, 'learning_rate': 0.01, 'max_depth': 40, 'n_estimators': 30, 'scale_pos_weight': 40}\n",
      "0.898 for {'colsample_bytree': 0.5, 'learning_rate': 0.01, 'max_depth': 15, 'n_estimators': 60, 'scale_pos_weight': 40}\n",
      "0.898 for {'colsample_bytree': 0.5, 'learning_rate': 0.01, 'max_depth': 25, 'n_estimators': 60, 'scale_pos_weight': 60}\n",
      "0.898 for {'colsample_bytree': 1.0, 'learning_rate': 0.01, 'max_depth': 15, 'n_estimators': 60, 'scale_pos_weight': 60}\n",
      "0.898 for {'colsample_bytree': 1.0, 'learning_rate': 0.5, 'max_depth': 5, 'n_estimators': 30, 'scale_pos_weight': 60}\n",
      "0.895 for {'colsample_bytree': 0.5, 'learning_rate': 0.05, 'max_depth': 15, 'n_estimators': 30, 'scale_pos_weight': 50}\n",
      "0.895 for {'colsample_bytree': 0.5, 'learning_rate': 0.05, 'max_depth': 15, 'n_estimators': 30, 'scale_pos_weight': 40}\n",
      "0.892 for {'colsample_bytree': 0.5, 'learning_rate': 0.01, 'max_depth': 40, 'n_estimators': 60, 'scale_pos_weight': 60}\n",
      "0.882 for {'colsample_bytree': 0.5, 'learning_rate': 0.01, 'max_depth': 40, 'n_estimators': 60, 'scale_pos_weight': 50}\n",
      "0.882 for {'colsample_bytree': 0.5, 'learning_rate': 0.01, 'max_depth': 25, 'n_estimators': 60, 'scale_pos_weight': 50}\n",
      "0.869 for {'colsample_bytree': 1.0, 'learning_rate': 0.01, 'max_depth': 40, 'n_estimators': 30, 'scale_pos_weight': 60}\n",
      "0.869 for {'colsample_bytree': 1.0, 'learning_rate': 0.01, 'max_depth': 25, 'n_estimators': 30, 'scale_pos_weight': 60}\n",
      "0.866 for {'colsample_bytree': 0.5, 'learning_rate': 0.05, 'max_depth': 40, 'n_estimators': 30, 'scale_pos_weight': 60}\n",
      "0.864 for {'colsample_bytree': 0.5, 'learning_rate': 0.05, 'max_depth': 25, 'n_estimators': 30, 'scale_pos_weight': 60}\n",
      "0.856 for {'colsample_bytree': 1.0, 'learning_rate': 0.01, 'max_depth': 15, 'n_estimators': 60, 'scale_pos_weight': 50}\n",
      "0.856 for {'colsample_bytree': 1.0, 'learning_rate': 0.5, 'max_depth': 5, 'n_estimators': 30, 'scale_pos_weight': 50}\n",
      "0.845 for {'colsample_bytree': 0.5, 'learning_rate': 0.5, 'max_depth': 5, 'n_estimators': 30, 'scale_pos_weight': 40}\n",
      "0.843 for {'colsample_bytree': 0.5, 'learning_rate': 0.05, 'max_depth': 25, 'n_estimators': 30, 'scale_pos_weight': 50}\n",
      "0.837 for {'colsample_bytree': 0.5, 'learning_rate': 0.01, 'max_depth': 40, 'n_estimators': 60, 'scale_pos_weight': 40}\n",
      "0.835 for {'colsample_bytree': 1.0, 'learning_rate': 0.01, 'max_depth': 25, 'n_estimators': 30, 'scale_pos_weight': 50}\n",
      "0.835 for {'colsample_bytree': 0.5, 'learning_rate': 0.01, 'max_depth': 25, 'n_estimators': 60, 'scale_pos_weight': 40}\n",
      "0.835 for {'colsample_bytree': 1.0, 'learning_rate': 0.01, 'max_depth': 40, 'n_estimators': 30, 'scale_pos_weight': 50}\n",
      "0.832 for {'colsample_bytree': 0.5, 'learning_rate': 0.05, 'max_depth': 25, 'n_estimators': 30, 'scale_pos_weight': 40}\n",
      "0.827 for {'colsample_bytree': 0.5, 'learning_rate': 0.05, 'max_depth': 40, 'n_estimators': 30, 'scale_pos_weight': 50}\n",
      "0.822 for {'colsample_bytree': 0.5, 'learning_rate': 0.5, 'max_depth': 5, 'n_estimators': 30, 'scale_pos_weight': 50}\n",
      "0.811 for {'colsample_bytree': 0.5, 'learning_rate': 0.1, 'max_depth': 15, 'n_estimators': 30, 'scale_pos_weight': 50}\n",
      "0.808 for {'colsample_bytree': 0.5, 'learning_rate': 0.05, 'max_depth': 40, 'n_estimators': 30, 'scale_pos_weight': 40}\n",
      "0.806 for {'colsample_bytree': 0.5, 'learning_rate': 0.1, 'max_depth': 15, 'n_estimators': 30, 'scale_pos_weight': 60}\n",
      "0.801 for {'colsample_bytree': 1.0, 'learning_rate': 0.01, 'max_depth': 40, 'n_estimators': 30, 'scale_pos_weight': 40}\n",
      "0.801 for {'colsample_bytree': 1.0, 'learning_rate': 0.01, 'max_depth': 25, 'n_estimators': 30, 'scale_pos_weight': 40}\n",
      "0.780 for {'colsample_bytree': 0.5, 'learning_rate': 0.05, 'max_depth': 15, 'n_estimators': 60, 'scale_pos_weight': 60}\n",
      "0.774 for {'colsample_bytree': 0.5, 'learning_rate': 0.1, 'max_depth': 15, 'n_estimators': 30, 'scale_pos_weight': 40}\n",
      "0.772 for {'colsample_bytree': 1.0, 'learning_rate': 0.5, 'max_depth': 5, 'n_estimators': 30, 'scale_pos_weight': 40}\n",
      "0.759 for {'colsample_bytree': 0.5, 'learning_rate': 0.1, 'max_depth': 25, 'n_estimators': 30, 'scale_pos_weight': 50}\n",
      "0.751 for {'colsample_bytree': 0.5, 'learning_rate': 0.1, 'max_depth': 40, 'n_estimators': 30, 'scale_pos_weight': 60}\n",
      "0.748 for {'colsample_bytree': 0.5, 'learning_rate': 0.05, 'max_depth': 15, 'n_estimators': 60, 'scale_pos_weight': 50}\n",
      "0.748 for {'colsample_bytree': 0.5, 'learning_rate': 0.1, 'max_depth': 25, 'n_estimators': 30, 'scale_pos_weight': 60}\n",
      "0.743 for {'colsample_bytree': 0.5, 'learning_rate': 0.1, 'max_depth': 40, 'n_estimators': 30, 'scale_pos_weight': 50}\n",
      "0.738 for {'colsample_bytree': 0.5, 'learning_rate': 0.05, 'max_depth': 15, 'n_estimators': 60, 'scale_pos_weight': 40}\n",
      "0.722 for {'colsample_bytree': 0.5, 'learning_rate': 0.05, 'max_depth': 40, 'n_estimators': 60, 'scale_pos_weight': 60}\n",
      "0.711 for {'colsample_bytree': 0.5, 'learning_rate': 0.05, 'max_depth': 25, 'n_estimators': 60, 'scale_pos_weight': 60}\n",
      "0.709 for {'colsample_bytree': 0.5, 'learning_rate': 0.1, 'max_depth': 25, 'n_estimators': 30, 'scale_pos_weight': 40}\n",
      "0.706 for {'colsample_bytree': 0.5, 'learning_rate': 0.1, 'max_depth': 15, 'n_estimators': 60, 'scale_pos_weight': 50}\n",
      "0.703 for {'colsample_bytree': 0.5, 'learning_rate': 0.5, 'max_depth': 5, 'n_estimators': 60, 'scale_pos_weight': 60}\n",
      "0.701 for {'colsample_bytree': 0.5, 'learning_rate': 0.1, 'max_depth': 40, 'n_estimators': 30, 'scale_pos_weight': 40}\n",
      "0.698 for {'colsample_bytree': 1.0, 'learning_rate': 0.5, 'max_depth': 5, 'n_estimators': 60, 'scale_pos_weight': 60}\n",
      "0.696 for {'colsample_bytree': 1.0, 'learning_rate': 0.05, 'max_depth': 40, 'n_estimators': 30, 'scale_pos_weight': 60}\n",
      "0.696 for {'colsample_bytree': 0.5, 'learning_rate': 0.1, 'max_depth': 15, 'n_estimators': 60, 'scale_pos_weight': 60}\n",
      "0.696 for {'colsample_bytree': 1.0, 'learning_rate': 0.05, 'max_depth': 25, 'n_estimators': 30, 'scale_pos_weight': 60}\n",
      "0.693 for {'colsample_bytree': 1.0, 'learning_rate': 0.1, 'max_depth': 15, 'n_estimators': 30, 'scale_pos_weight': 60}\n",
      "0.690 for {'colsample_bytree': 0.5, 'learning_rate': 0.1, 'max_depth': 40, 'n_estimators': 60, 'scale_pos_weight': 50}\n",
      "0.688 for {'colsample_bytree': 1.0, 'learning_rate': 0.05, 'max_depth': 25, 'n_estimators': 60, 'scale_pos_weight': 60}\n",
      "0.688 for {'colsample_bytree': 1.0, 'learning_rate': 0.05, 'max_depth': 40, 'n_estimators': 60, 'scale_pos_weight': 60}\n",
      "0.685 for {'colsample_bytree': 0.5, 'learning_rate': 0.05, 'max_depth': 25, 'n_estimators': 60, 'scale_pos_weight': 40}\n",
      "0.685 for {'colsample_bytree': 1.0, 'learning_rate': 0.01, 'max_depth': 15, 'n_estimators': 60, 'scale_pos_weight': 40}\n",
      "0.682 for {'colsample_bytree': 0.5, 'learning_rate': 0.1, 'max_depth': 25, 'n_estimators': 60, 'scale_pos_weight': 50}\n",
      "0.680 for {'colsample_bytree': 0.5, 'learning_rate': 0.05, 'max_depth': 25, 'n_estimators': 60, 'scale_pos_weight': 50}\n",
      "0.680 for {'colsample_bytree': 1.0, 'learning_rate': 0.05, 'max_depth': 40, 'n_estimators': 30, 'scale_pos_weight': 50}\n",
      "0.680 for {'colsample_bytree': 1.0, 'learning_rate': 0.05, 'max_depth': 25, 'n_estimators': 30, 'scale_pos_weight': 50}\n",
      "0.680 for {'colsample_bytree': 1.0, 'learning_rate': 0.5, 'max_depth': 5, 'n_estimators': 60, 'scale_pos_weight': 40}\n",
      "0.680 for {'colsample_bytree': 1.0, 'learning_rate': 0.05, 'max_depth': 15, 'n_estimators': 60, 'scale_pos_weight': 60}\n",
      "0.677 for {'colsample_bytree': 0.5, 'learning_rate': 0.5, 'max_depth': 40, 'n_estimators': 30, 'scale_pos_weight': 60}\n",
      "0.675 for {'colsample_bytree': 0.5, 'learning_rate': 0.05, 'max_depth': 40, 'n_estimators': 60, 'scale_pos_weight': 50}\n",
      "0.675 for {'colsample_bytree': 0.5, 'learning_rate': 0.5, 'max_depth': 25, 'n_estimators': 30, 'scale_pos_weight': 40}\n",
      "0.672 for {'colsample_bytree': 1.0, 'learning_rate': 0.1, 'max_depth': 40, 'n_estimators': 30, 'scale_pos_weight': 50}\n",
      "0.672 for {'colsample_bytree': 0.5, 'learning_rate': 1.0, 'max_depth': 40, 'n_estimators': 30, 'scale_pos_weight': 50}\n",
      "0.667 for {'colsample_bytree': 0.5, 'learning_rate': 1.0, 'max_depth': 40, 'n_estimators': 60, 'scale_pos_weight': 50}\n",
      "0.667 for {'colsample_bytree': 0.5, 'learning_rate': 0.05, 'max_depth': 40, 'n_estimators': 60, 'scale_pos_weight': 40}\n",
      "0.667 for {'colsample_bytree': 1.0, 'learning_rate': 0.05, 'max_depth': 15, 'n_estimators': 30, 'scale_pos_weight': 50}\n",
      "0.667 for {'colsample_bytree': 1.0, 'learning_rate': 0.1, 'max_depth': 25, 'n_estimators': 30, 'scale_pos_weight': 50}\n",
      "0.667 for {'colsample_bytree': 1.0, 'learning_rate': 0.05, 'max_depth': 15, 'n_estimators': 60, 'scale_pos_weight': 40}\n",
      "0.664 for {'colsample_bytree': 0.5, 'learning_rate': 0.1, 'max_depth': 40, 'n_estimators': 60, 'scale_pos_weight': 60}\n",
      "0.661 for {'colsample_bytree': 1.0, 'learning_rate': 0.1, 'max_depth': 15, 'n_estimators': 30, 'scale_pos_weight': 40}\n",
      "0.661 for {'colsample_bytree': 0.5, 'learning_rate': 1.0, 'max_depth': 15, 'n_estimators': 60, 'scale_pos_weight': 40}\n",
      "0.659 for {'colsample_bytree': 1.0, 'learning_rate': 0.05, 'max_depth': 15, 'n_estimators': 60, 'scale_pos_weight': 50}\n",
      "0.659 for {'colsample_bytree': 1.0, 'learning_rate': 0.05, 'max_depth': 15, 'n_estimators': 30, 'scale_pos_weight': 60}\n",
      "0.659 for {'colsample_bytree': 0.5, 'learning_rate': 0.1, 'max_depth': 25, 'n_estimators': 60, 'scale_pos_weight': 60}\n",
      "0.659 for {'colsample_bytree': 1.0, 'learning_rate': 0.1, 'max_depth': 40, 'n_estimators': 60, 'scale_pos_weight': 50}\n",
      "0.656 for {'colsample_bytree': 1.0, 'learning_rate': 0.1, 'max_depth': 40, 'n_estimators': 30, 'scale_pos_weight': 60}\n",
      "0.656 for {'colsample_bytree': 0.5, 'learning_rate': 1.0, 'max_depth': 15, 'n_estimators': 30, 'scale_pos_weight': 40}\n",
      "0.656 for {'colsample_bytree': 1.0, 'learning_rate': 1.0, 'max_depth': 5, 'n_estimators': 30, 'scale_pos_weight': 40}\n",
      "0.656 for {'colsample_bytree': 1.0, 'learning_rate': 0.1, 'max_depth': 25, 'n_estimators': 30, 'scale_pos_weight': 60}\n",
      "0.654 for {'colsample_bytree': 1.0, 'learning_rate': 0.05, 'max_depth': 40, 'n_estimators': 60, 'scale_pos_weight': 40}\n",
      "0.654 for {'colsample_bytree': 0.5, 'learning_rate': 0.1, 'max_depth': 15, 'n_estimators': 60, 'scale_pos_weight': 40}\n",
      "0.651 for {'colsample_bytree': 1.0, 'learning_rate': 0.1, 'max_depth': 25, 'n_estimators': 60, 'scale_pos_weight': 60}\n",
      "0.651 for {'colsample_bytree': 0.5, 'learning_rate': 0.5, 'max_depth': 15, 'n_estimators': 30, 'scale_pos_weight': 60}\n",
      "0.651 for {'colsample_bytree': 0.5, 'learning_rate': 0.1, 'max_depth': 40, 'n_estimators': 60, 'scale_pos_weight': 40}\n",
      "0.651 for {'colsample_bytree': 1.0, 'learning_rate': 0.01, 'max_depth': 25, 'n_estimators': 60, 'scale_pos_weight': 60}\n",
      "0.651 for {'colsample_bytree': 1.0, 'learning_rate': 0.05, 'max_depth': 40, 'n_estimators': 60, 'scale_pos_weight': 50}\n",
      "0.651 for {'colsample_bytree': 1.0, 'learning_rate': 0.05, 'max_depth': 25, 'n_estimators': 60, 'scale_pos_weight': 50}\n",
      "0.651 for {'colsample_bytree': 1.0, 'learning_rate': 0.01, 'max_depth': 40, 'n_estimators': 60, 'scale_pos_weight': 60}\n",
      "0.648 for {'colsample_bytree': 1.0, 'learning_rate': 0.1, 'max_depth': 15, 'n_estimators': 60, 'scale_pos_weight': 60}\n",
      "0.648 for {'colsample_bytree': 1.0, 'learning_rate': 0.1, 'max_depth': 15, 'n_estimators': 30, 'scale_pos_weight': 50}\n",
      "0.646 for {'colsample_bytree': 0.5, 'learning_rate': 0.1, 'max_depth': 25, 'n_estimators': 60, 'scale_pos_weight': 40}\n",
      "0.646 for {'colsample_bytree': 1.0, 'learning_rate': 0.1, 'max_depth': 25, 'n_estimators': 60, 'scale_pos_weight': 40}\n",
      "0.646 for {'colsample_bytree': 1.0, 'learning_rate': 0.1, 'max_depth': 25, 'n_estimators': 60, 'scale_pos_weight': 50}\n",
      "0.646 for {'colsample_bytree': 1.0, 'learning_rate': 1.0, 'max_depth': 5, 'n_estimators': 30, 'scale_pos_weight': 50}\n",
      "0.643 for {'colsample_bytree': 1.0, 'learning_rate': 0.1, 'max_depth': 40, 'n_estimators': 60, 'scale_pos_weight': 40}\n",
      "0.643 for {'colsample_bytree': 0.5, 'learning_rate': 0.5, 'max_depth': 40, 'n_estimators': 30, 'scale_pos_weight': 50}\n",
      "0.643 for {'colsample_bytree': 0.5, 'learning_rate': 1.0, 'max_depth': 25, 'n_estimators': 30, 'scale_pos_weight': 50}\n",
      "0.640 for {'colsample_bytree': 1.0, 'learning_rate': 0.05, 'max_depth': 15, 'n_estimators': 30, 'scale_pos_weight': 40}\n",
      "0.640 for {'colsample_bytree': 1.0, 'learning_rate': 0.1, 'max_depth': 40, 'n_estimators': 30, 'scale_pos_weight': 40}\n",
      "0.638 for {'colsample_bytree': 0.5, 'learning_rate': 0.5, 'max_depth': 40, 'n_estimators': 60, 'scale_pos_weight': 60}\n",
      "0.638 for {'colsample_bytree': 1.0, 'learning_rate': 0.05, 'max_depth': 25, 'n_estimators': 60, 'scale_pos_weight': 40}\n",
      "0.633 for {'colsample_bytree': 0.5, 'learning_rate': 0.5, 'max_depth': 15, 'n_estimators': 30, 'scale_pos_weight': 50}\n",
      "0.633 for {'colsample_bytree': 0.5, 'learning_rate': 0.5, 'max_depth': 25, 'n_estimators': 60, 'scale_pos_weight': 40}\n",
      "0.633 for {'colsample_bytree': 0.5, 'learning_rate': 1.0, 'max_depth': 25, 'n_estimators': 60, 'scale_pos_weight': 60}\n",
      "0.627 for {'colsample_bytree': 0.5, 'learning_rate': 0.5, 'max_depth': 25, 'n_estimators': 30, 'scale_pos_weight': 60}\n",
      "0.627 for {'colsample_bytree': 1.0, 'learning_rate': 0.1, 'max_depth': 25, 'n_estimators': 30, 'scale_pos_weight': 40}\n",
      "0.625 for {'colsample_bytree': 1.0, 'learning_rate': 0.01, 'max_depth': 40, 'n_estimators': 60, 'scale_pos_weight': 50}\n",
      "0.625 for {'colsample_bytree': 0.5, 'learning_rate': 0.5, 'max_depth': 5, 'n_estimators': 60, 'scale_pos_weight': 50}\n",
      "0.625 for {'colsample_bytree': 1.0, 'learning_rate': 0.01, 'max_depth': 25, 'n_estimators': 60, 'scale_pos_weight': 50}\n",
      "0.625 for {'colsample_bytree': 0.5, 'learning_rate': 1.0, 'max_depth': 25, 'n_estimators': 30, 'scale_pos_weight': 60}\n",
      "0.625 for {'colsample_bytree': 1.0, 'learning_rate': 0.5, 'max_depth': 25, 'n_estimators': 30, 'scale_pos_weight': 40}\n",
      "0.622 for {'colsample_bytree': 1.0, 'learning_rate': 0.1, 'max_depth': 15, 'n_estimators': 60, 'scale_pos_weight': 50}\n",
      "0.622 for {'colsample_bytree': 0.5, 'learning_rate': 0.5, 'max_depth': 40, 'n_estimators': 60, 'scale_pos_weight': 50}\n",
      "0.622 for {'colsample_bytree': 0.5, 'learning_rate': 0.5, 'max_depth': 40, 'n_estimators': 30, 'scale_pos_weight': 40}\n",
      "0.619 for {'colsample_bytree': 0.5, 'learning_rate': 1.0, 'max_depth': 25, 'n_estimators': 60, 'scale_pos_weight': 50}\n",
      "0.617 for {'colsample_bytree': 0.5, 'learning_rate': 0.5, 'max_depth': 5, 'n_estimators': 60, 'scale_pos_weight': 40}\n",
      "0.617 for {'colsample_bytree': 0.5, 'learning_rate': 1.0, 'max_depth': 5, 'n_estimators': 30, 'scale_pos_weight': 50}\n",
      "0.617 for {'colsample_bytree': 1.0, 'learning_rate': 0.1, 'max_depth': 40, 'n_estimators': 60, 'scale_pos_weight': 60}\n",
      "0.614 for {'colsample_bytree': 0.5, 'learning_rate': 0.5, 'max_depth': 25, 'n_estimators': 30, 'scale_pos_weight': 50}\n",
      "0.614 for {'colsample_bytree': 1.0, 'learning_rate': 0.01, 'max_depth': 40, 'n_estimators': 60, 'scale_pos_weight': 40}\n",
      "0.614 for {'colsample_bytree': 1.0, 'learning_rate': 0.01, 'max_depth': 25, 'n_estimators': 60, 'scale_pos_weight': 40}\n",
      "0.612 for {'colsample_bytree': 0.5, 'learning_rate': 0.5, 'max_depth': 15, 'n_estimators': 60, 'scale_pos_weight': 60}\n",
      "0.612 for {'colsample_bytree': 0.5, 'learning_rate': 1.0, 'max_depth': 25, 'n_estimators': 30, 'scale_pos_weight': 40}\n",
      "0.612 for {'colsample_bytree': 0.5, 'learning_rate': 1.0, 'max_depth': 40, 'n_estimators': 30, 'scale_pos_weight': 40}\n",
      "0.606 for {'colsample_bytree': 1.0, 'learning_rate': 0.05, 'max_depth': 40, 'n_estimators': 30, 'scale_pos_weight': 40}\n",
      "0.606 for {'colsample_bytree': 1.0, 'learning_rate': 0.05, 'max_depth': 25, 'n_estimators': 30, 'scale_pos_weight': 40}\n",
      "0.606 for {'colsample_bytree': 0.5, 'learning_rate': 0.5, 'max_depth': 25, 'n_estimators': 60, 'scale_pos_weight': 60}\n",
      "0.604 for {'colsample_bytree': 1.0, 'learning_rate': 0.5, 'max_depth': 5, 'n_estimators': 60, 'scale_pos_weight': 50}\n",
      "0.604 for {'colsample_bytree': 0.5, 'learning_rate': 0.5, 'max_depth': 15, 'n_estimators': 30, 'scale_pos_weight': 40}\n",
      "0.604 for {'colsample_bytree': 0.5, 'learning_rate': 0.5, 'max_depth': 40, 'n_estimators': 60, 'scale_pos_weight': 40}\n",
      "0.593 for {'colsample_bytree': 0.5, 'learning_rate': 0.5, 'max_depth': 15, 'n_estimators': 60, 'scale_pos_weight': 50}\n",
      "0.588 for {'colsample_bytree': 1.0, 'learning_rate': 0.5, 'max_depth': 15, 'n_estimators': 30, 'scale_pos_weight': 50}\n",
      "0.588 for {'colsample_bytree': 0.5, 'learning_rate': 1.0, 'max_depth': 25, 'n_estimators': 60, 'scale_pos_weight': 40}\n",
      "0.588 for {'colsample_bytree': 0.5, 'learning_rate': 0.5, 'max_depth': 25, 'n_estimators': 60, 'scale_pos_weight': 50}\n",
      "0.588 for {'colsample_bytree': 0.5, 'learning_rate': 1.0, 'max_depth': 40, 'n_estimators': 60, 'scale_pos_weight': 40}\n",
      "0.585 for {'colsample_bytree': 0.5, 'learning_rate': 1.0, 'max_depth': 15, 'n_estimators': 30, 'scale_pos_weight': 60}\n",
      "0.583 for {'colsample_bytree': 1.0, 'learning_rate': 0.5, 'max_depth': 25, 'n_estimators': 60, 'scale_pos_weight': 60}\n",
      "0.583 for {'colsample_bytree': 1.0, 'learning_rate': 0.5, 'max_depth': 40, 'n_estimators': 60, 'scale_pos_weight': 60}\n",
      "0.580 for {'colsample_bytree': 1.0, 'learning_rate': 0.1, 'max_depth': 15, 'n_estimators': 60, 'scale_pos_weight': 40}\n",
      "0.580 for {'colsample_bytree': 1.0, 'learning_rate': 0.5, 'max_depth': 25, 'n_estimators': 60, 'scale_pos_weight': 40}\n",
      "0.577 for {'colsample_bytree': 0.5, 'learning_rate': 0.5, 'max_depth': 15, 'n_estimators': 60, 'scale_pos_weight': 40}\n",
      "0.577 for {'colsample_bytree': 1.0, 'learning_rate': 1.0, 'max_depth': 40, 'n_estimators': 30, 'scale_pos_weight': 60}\n",
      "0.577 for {'colsample_bytree': 1.0, 'learning_rate': 1.0, 'max_depth': 25, 'n_estimators': 30, 'scale_pos_weight': 60}\n",
      "0.575 for {'colsample_bytree': 0.5, 'learning_rate': 1.0, 'max_depth': 15, 'n_estimators': 30, 'scale_pos_weight': 50}\n",
      "0.575 for {'colsample_bytree': 1.0, 'learning_rate': 0.5, 'max_depth': 40, 'n_estimators': 30, 'scale_pos_weight': 40}\n",
      "0.572 for {'colsample_bytree': 0.5, 'learning_rate': 1.0, 'max_depth': 15, 'n_estimators': 60, 'scale_pos_weight': 60}\n",
      "0.572 for {'colsample_bytree': 1.0, 'learning_rate': 0.5, 'max_depth': 25, 'n_estimators': 30, 'scale_pos_weight': 60}\n",
      "0.572 for {'colsample_bytree': 1.0, 'learning_rate': 0.5, 'max_depth': 40, 'n_estimators': 30, 'scale_pos_weight': 60}\n",
      "0.570 for {'colsample_bytree': 1.0, 'learning_rate': 1.0, 'max_depth': 5, 'n_estimators': 60, 'scale_pos_weight': 40}\n",
      "0.567 for {'colsample_bytree': 0.5, 'learning_rate': 1.0, 'max_depth': 5, 'n_estimators': 30, 'scale_pos_weight': 60}\n",
      "0.564 for {'colsample_bytree': 0.5, 'learning_rate': 1.0, 'max_depth': 40, 'n_estimators': 30, 'scale_pos_weight': 60}\n",
      "0.564 for {'colsample_bytree': 1.0, 'learning_rate': 0.5, 'max_depth': 40, 'n_estimators': 30, 'scale_pos_weight': 50}\n",
      "0.564 for {'colsample_bytree': 1.0, 'learning_rate': 0.5, 'max_depth': 25, 'n_estimators': 30, 'scale_pos_weight': 50}\n",
      "0.564 for {'colsample_bytree': 1.0, 'learning_rate': 0.5, 'max_depth': 15, 'n_estimators': 60, 'scale_pos_weight': 50}\n",
      "0.562 for {'colsample_bytree': 1.0, 'learning_rate': 1.0, 'max_depth': 25, 'n_estimators': 30, 'scale_pos_weight': 40}\n",
      "0.562 for {'colsample_bytree': 1.0, 'learning_rate': 1.0, 'max_depth': 40, 'n_estimators': 30, 'scale_pos_weight': 40}\n",
      "0.559 for {'colsample_bytree': 0.5, 'learning_rate': 1.0, 'max_depth': 15, 'n_estimators': 60, 'scale_pos_weight': 50}\n",
      "0.559 for {'colsample_bytree': 1.0, 'learning_rate': 0.5, 'max_depth': 40, 'n_estimators': 60, 'scale_pos_weight': 40}\n",
      "0.556 for {'colsample_bytree': 1.0, 'learning_rate': 1.0, 'max_depth': 15, 'n_estimators': 30, 'scale_pos_weight': 50}\n",
      "0.556 for {'colsample_bytree': 1.0, 'learning_rate': 0.5, 'max_depth': 15, 'n_estimators': 30, 'scale_pos_weight': 60}\n",
      "0.556 for {'colsample_bytree': 1.0, 'learning_rate': 1.0, 'max_depth': 5, 'n_estimators': 60, 'scale_pos_weight': 50}\n",
      "0.551 for {'colsample_bytree': 1.0, 'learning_rate': 1.0, 'max_depth': 25, 'n_estimators': 60, 'scale_pos_weight': 40}\n",
      "0.551 for {'colsample_bytree': 1.0, 'learning_rate': 1.0, 'max_depth': 40, 'n_estimators': 60, 'scale_pos_weight': 40}\n",
      "0.551 for {'colsample_bytree': 1.0, 'learning_rate': 1.0, 'max_depth': 40, 'n_estimators': 60, 'scale_pos_weight': 50}\n",
      "0.551 for {'colsample_bytree': 1.0, 'learning_rate': 1.0, 'max_depth': 25, 'n_estimators': 60, 'scale_pos_weight': 50}\n",
      "0.551 for {'colsample_bytree': 1.0, 'learning_rate': 1.0, 'max_depth': 15, 'n_estimators': 60, 'scale_pos_weight': 50}\n",
      "0.549 for {'colsample_bytree': 1.0, 'learning_rate': 1.0, 'max_depth': 40, 'n_estimators': 30, 'scale_pos_weight': 50}\n",
      "0.549 for {'colsample_bytree': 1.0, 'learning_rate': 1.0, 'max_depth': 25, 'n_estimators': 30, 'scale_pos_weight': 50}\n",
      "0.543 for {'colsample_bytree': 1.0, 'learning_rate': 1.0, 'max_depth': 15, 'n_estimators': 30, 'scale_pos_weight': 40}\n",
      "0.541 for {'colsample_bytree': 0.5, 'learning_rate': 1.0, 'max_depth': 40, 'n_estimators': 60, 'scale_pos_weight': 60}\n",
      "0.538 for {'colsample_bytree': 1.0, 'learning_rate': 0.5, 'max_depth': 15, 'n_estimators': 60, 'scale_pos_weight': 60}\n",
      "0.538 for {'colsample_bytree': 1.0, 'learning_rate': 1.0, 'max_depth': 40, 'n_estimators': 60, 'scale_pos_weight': 60}\n",
      "0.538 for {'colsample_bytree': 1.0, 'learning_rate': 1.0, 'max_depth': 25, 'n_estimators': 60, 'scale_pos_weight': 60}\n",
      "0.535 for {'colsample_bytree': 1.0, 'learning_rate': 1.0, 'max_depth': 15, 'n_estimators': 60, 'scale_pos_weight': 40}\n",
      "0.535 for {'colsample_bytree': 0.5, 'learning_rate': 1.0, 'max_depth': 5, 'n_estimators': 30, 'scale_pos_weight': 40}\n",
      "0.528 for {'colsample_bytree': 1.0, 'learning_rate': 0.5, 'max_depth': 40, 'n_estimators': 60, 'scale_pos_weight': 50}\n",
      "0.528 for {'colsample_bytree': 1.0, 'learning_rate': 0.5, 'max_depth': 25, 'n_estimators': 60, 'scale_pos_weight': 50}\n",
      "0.525 for {'colsample_bytree': 1.0, 'learning_rate': 1.0, 'max_depth': 15, 'n_estimators': 30, 'scale_pos_weight': 60}\n",
      "0.522 for {'colsample_bytree': 1.0, 'learning_rate': 1.0, 'max_depth': 5, 'n_estimators': 30, 'scale_pos_weight': 60}\n",
      "0.520 for {'colsample_bytree': 1.0, 'learning_rate': 0.5, 'max_depth': 15, 'n_estimators': 30, 'scale_pos_weight': 40}\n",
      "0.517 for {'colsample_bytree': 0.5, 'learning_rate': 1.0, 'max_depth': 5, 'n_estimators': 60, 'scale_pos_weight': 50}\n",
      "0.514 for {'colsample_bytree': 1.0, 'learning_rate': 1.0, 'max_depth': 15, 'n_estimators': 60, 'scale_pos_weight': 60}\n",
      "0.512 for {'colsample_bytree': 0.5, 'learning_rate': 1.0, 'max_depth': 5, 'n_estimators': 60, 'scale_pos_weight': 60}\n",
      "0.509 for {'colsample_bytree': 1.0, 'learning_rate': 0.5, 'max_depth': 15, 'n_estimators': 60, 'scale_pos_weight': 40}\n",
      "0.454 for {'colsample_bytree': 0.5, 'learning_rate': 1.0, 'max_depth': 5, 'n_estimators': 60, 'scale_pos_weight': 40}\n",
      "0.402 for {'colsample_bytree': 1.0, 'learning_rate': 1.0, 'max_depth': 5, 'n_estimators': 60, 'scale_pos_weight': 60}\n"
     ]
    }
   ],
   "source": [
    "sorted_ids = np.argsort(best_model.scores)\n",
    "print(\"Grid scores:\")\n",
    "for i in sorted_ids[::-1]:\n",
    "    print(\"%0.3f for %r\" % (best_model.scores[i], best_model.params[i]))"
   ]
  },
  {
   "cell_type": "code",
   "execution_count": 43,
   "metadata": {},
   "outputs": [
    {
     "data": {
      "text/plain": [
       "(XGBClassifier(base_score=0.5, booster='gbtree', colsample_bylevel=1,\n",
       "               colsample_bytree=0.5, gamma=0, learning_rate=0.01,\n",
       "               max_delta_step=0, max_depth=5, min_child_weight=1, missing=nan,\n",
       "               n_estimators=30, n_jobs=-1, nthread=None,\n",
       "               objective='binary:logistic', random_state=0, reg_alpha=0,\n",
       "               reg_lambda=1, scale_pos_weight=60, seed=0, silent=True,\n",
       "               subsample=1), 0.9973753280839895)"
      ]
     },
     "execution_count": 43,
     "metadata": {},
     "output_type": "execute_result"
    }
   ],
   "source": [
    "best_model.best_estimator_, best_model.best_score"
   ]
  },
  {
   "cell_type": "code",
   "execution_count": 44,
   "metadata": {},
   "outputs": [
    {
     "data": {
      "text/plain": [
       "(0.46313223644119444, 0.7819388955690884)"
      ]
     },
     "execution_count": 44,
     "metadata": {},
     "output_type": "execute_result"
    }
   ],
   "source": [
    "y_opt_pred = best_model.predict_proba(X_opt)[:, 1]\n",
    "y_opt_f1_bestFI, y_opt_rocauc_bestFI = f1_score(y_opt, y_opt_pred > 0.5 ), roc_auc_score(y_opt, y_opt_pred > 0.5)\n",
    "y_opt_f1_bestFI, y_opt_rocauc_bestFI"
   ]
  },
  {
   "cell_type": "code",
   "execution_count": 45,
   "metadata": {},
   "outputs": [
    {
     "data": {
      "text/plain": [
       "array([[1150,  880],\n",
       "       [   1,  380]])"
      ]
     },
     "execution_count": 45,
     "metadata": {},
     "output_type": "execute_result"
    }
   ],
   "source": [
    "confusion_matrix(y_opt, y_opt_pred > 0.5)"
   ]
  },
  {
   "cell_type": "markdown",
   "metadata": {},
   "source": [
    "(0.5122615803814714, 0.8183151675006141)\n",
    "<br>\n",
    "array([[1319,  711],\n",
    "       [   5,  376]])"
   ]
  },
  {
   "cell_type": "code",
   "execution_count": 52,
   "metadata": {},
   "outputs": [
    {
     "name": "stdout",
     "output_type": "stream",
     "text": [
      "[[1246  784]\n",
      " [   3  378]]\n"
     ]
    },
    {
     "data": {
      "text/html": [
       "<div>\n",
       "<style scoped>\n",
       "    .dataframe tbody tr th:only-of-type {\n",
       "        vertical-align: middle;\n",
       "    }\n",
       "\n",
       "    .dataframe tbody tr th {\n",
       "        vertical-align: top;\n",
       "    }\n",
       "\n",
       "    .dataframe thead tr th {\n",
       "        text-align: left;\n",
       "    }\n",
       "\n",
       "    .dataframe thead tr:last-of-type th {\n",
       "        text-align: right;\n",
       "    }\n",
       "</style>\n",
       "<table border=\"1\" class=\"dataframe\">\n",
       "  <thead>\n",
       "    <tr>\n",
       "      <th>EXISTE_FRAUDE</th>\n",
       "      <th colspan=\"2\" halign=\"left\">False</th>\n",
       "      <th colspan=\"2\" halign=\"left\">True</th>\n",
       "    </tr>\n",
       "    <tr>\n",
       "      <th>col_1</th>\n",
       "      <th>False</th>\n",
       "      <th>True</th>\n",
       "      <th>False</th>\n",
       "      <th>True</th>\n",
       "    </tr>\n",
       "    <tr>\n",
       "      <th>TIPO_EXPED</th>\n",
       "      <th></th>\n",
       "      <th></th>\n",
       "      <th></th>\n",
       "      <th></th>\n",
       "    </tr>\n",
       "  </thead>\n",
       "  <tbody>\n",
       "    <tr>\n",
       "      <th>0</th>\n",
       "      <td>22</td>\n",
       "      <td>0</td>\n",
       "      <td>0</td>\n",
       "      <td>0</td>\n",
       "    </tr>\n",
       "    <tr>\n",
       "      <th>1</th>\n",
       "      <td>343</td>\n",
       "      <td>0</td>\n",
       "      <td>1</td>\n",
       "      <td>0</td>\n",
       "    </tr>\n",
       "    <tr>\n",
       "      <th>2</th>\n",
       "      <td>186</td>\n",
       "      <td>0</td>\n",
       "      <td>0</td>\n",
       "      <td>0</td>\n",
       "    </tr>\n",
       "    <tr>\n",
       "      <th>3</th>\n",
       "      <td>440</td>\n",
       "      <td>0</td>\n",
       "      <td>0</td>\n",
       "      <td>0</td>\n",
       "    </tr>\n",
       "    <tr>\n",
       "      <th>4</th>\n",
       "      <td>6</td>\n",
       "      <td>0</td>\n",
       "      <td>0</td>\n",
       "      <td>0</td>\n",
       "    </tr>\n",
       "    <tr>\n",
       "      <th>5</th>\n",
       "      <td>239</td>\n",
       "      <td>157</td>\n",
       "      <td>2</td>\n",
       "      <td>7</td>\n",
       "    </tr>\n",
       "    <tr>\n",
       "      <th>6</th>\n",
       "      <td>10</td>\n",
       "      <td>627</td>\n",
       "      <td>0</td>\n",
       "      <td>371</td>\n",
       "    </tr>\n",
       "  </tbody>\n",
       "</table>\n",
       "</div>"
      ],
      "text/plain": [
       "EXISTE_FRAUDE False       True       \n",
       "col_1         False True  False True \n",
       "TIPO_EXPED                           \n",
       "0                22     0     0     0\n",
       "1               343     0     1     0\n",
       "2               186     0     0     0\n",
       "3               440     0     0     0\n",
       "4                 6     0     0     0\n",
       "5               239   157     2     7\n",
       "6                10   627     0   371"
      ]
     },
     "execution_count": 52,
     "metadata": {},
     "output_type": "execute_result"
    }
   ],
   "source": [
    "t_prob = 0.5\n",
    "print(confusion_matrix(y_opt, y_opt_pred > t_prob))\n",
    "pd.crosstab(X_opt[\"TIPO_EXPED\"], [df_opt[\"EXISTE_FRAUDE\"], y_opt_pred > t_prob])"
   ]
  },
  {
   "cell_type": "markdown",
   "metadata": {},
   "source": [
    "**Tronador**"
   ]
  },
  {
   "cell_type": "code",
   "execution_count": 97,
   "metadata": {},
   "outputs": [
    {
     "data": {
      "text/plain": [
       "array([[ 868, 1162],\n",
       "       [   4,  377]])"
      ]
     },
     "execution_count": 97,
     "metadata": {},
     "output_type": "execute_result"
    }
   ],
   "source": [
    "confusion_matrix(y_opt, X_opt[\"total_condicion\"] >= 5)"
   ]
  },
  {
   "cell_type": "code",
   "execution_count": 98,
   "metadata": {},
   "outputs": [
    {
     "data": {
      "text/html": [
       "<div>\n",
       "<style scoped>\n",
       "    .dataframe tbody tr th:only-of-type {\n",
       "        vertical-align: middle;\n",
       "    }\n",
       "\n",
       "    .dataframe tbody tr th {\n",
       "        vertical-align: top;\n",
       "    }\n",
       "\n",
       "    .dataframe thead tr th {\n",
       "        text-align: left;\n",
       "    }\n",
       "\n",
       "    .dataframe thead tr:last-of-type th {\n",
       "        text-align: right;\n",
       "    }\n",
       "</style>\n",
       "<table border=\"1\" class=\"dataframe\">\n",
       "  <thead>\n",
       "    <tr>\n",
       "      <th>EXISTE_FRAUDE</th>\n",
       "      <th colspan=\"2\" halign=\"left\">False</th>\n",
       "      <th colspan=\"2\" halign=\"left\">True</th>\n",
       "    </tr>\n",
       "    <tr>\n",
       "      <th>total_condicion</th>\n",
       "      <th>False</th>\n",
       "      <th>True</th>\n",
       "      <th>False</th>\n",
       "      <th>True</th>\n",
       "    </tr>\n",
       "    <tr>\n",
       "      <th>TIPO_EXPED</th>\n",
       "      <th></th>\n",
       "      <th></th>\n",
       "      <th></th>\n",
       "      <th></th>\n",
       "    </tr>\n",
       "  </thead>\n",
       "  <tbody>\n",
       "    <tr>\n",
       "      <th>0</th>\n",
       "      <td>15</td>\n",
       "      <td>7</td>\n",
       "      <td>0</td>\n",
       "      <td>0</td>\n",
       "    </tr>\n",
       "    <tr>\n",
       "      <th>1</th>\n",
       "      <td>207</td>\n",
       "      <td>136</td>\n",
       "      <td>1</td>\n",
       "      <td>0</td>\n",
       "    </tr>\n",
       "    <tr>\n",
       "      <th>2</th>\n",
       "      <td>167</td>\n",
       "      <td>19</td>\n",
       "      <td>0</td>\n",
       "      <td>0</td>\n",
       "    </tr>\n",
       "    <tr>\n",
       "      <th>3</th>\n",
       "      <td>402</td>\n",
       "      <td>38</td>\n",
       "      <td>0</td>\n",
       "      <td>0</td>\n",
       "    </tr>\n",
       "    <tr>\n",
       "      <th>4</th>\n",
       "      <td>6</td>\n",
       "      <td>0</td>\n",
       "      <td>0</td>\n",
       "      <td>0</td>\n",
       "    </tr>\n",
       "    <tr>\n",
       "      <th>5</th>\n",
       "      <td>53</td>\n",
       "      <td>343</td>\n",
       "      <td>2</td>\n",
       "      <td>7</td>\n",
       "    </tr>\n",
       "    <tr>\n",
       "      <th>6</th>\n",
       "      <td>18</td>\n",
       "      <td>619</td>\n",
       "      <td>1</td>\n",
       "      <td>370</td>\n",
       "    </tr>\n",
       "  </tbody>\n",
       "</table>\n",
       "</div>"
      ],
      "text/plain": [
       "EXISTE_FRAUDE   False       True       \n",
       "total_condicion False True  False True \n",
       "TIPO_EXPED                             \n",
       "0                  15     7     0     0\n",
       "1                 207   136     1     0\n",
       "2                 167    19     0     0\n",
       "3                 402    38     0     0\n",
       "4                   6     0     0     0\n",
       "5                  53   343     2     7\n",
       "6                  18   619     1   370"
      ]
     },
     "execution_count": 98,
     "metadata": {},
     "output_type": "execute_result"
    }
   ],
   "source": [
    "pd.crosstab(X_opt[\"TIPO_EXPED\"], [df_opt[\"EXISTE_FRAUDE\"], X_opt[\"total_condicion\"] >= 5])"
   ]
  },
  {
   "cell_type": "markdown",
   "metadata": {},
   "source": [
    "## dumping best current config"
   ]
  },
  {
   "cell_type": "code",
   "execution_count": null,
   "metadata": {},
   "outputs": [],
   "source": [
    "# Current good config\n"
   ]
  },
  {
   "cell_type": "code",
   "execution_count": null,
   "metadata": {},
   "outputs": [],
   "source": [
    "# with open(ps.path.join(\"models\", \"s1 - cond_preg_fill-1_ class_weight balanced.pickle\"), \"wb\") as file:\n",
    "#     pickle.dump(rf_f, file)"
   ]
  },
  {
   "cell_type": "markdown",
   "metadata": {},
   "source": [
    "## Feature Importance\n",
    "\n",
    "<h3 style=\"color:red\">When reducing the # of features the model get worse</h3>"
   ]
  },
  {
   "cell_type": "code",
   "execution_count": 46,
   "metadata": {},
   "outputs": [
    {
     "data": {
      "image/png": "[encoded data removed]",
      "text/plain": [
       "<Figure size 432x288 with 1 Axes>"
      ]
     },
     "metadata": {
      "needs_background": "light"
     },
     "output_type": "display_data"
    }
   ],
   "source": [
    "rf_fi = pd.DataFrame({'cols':X_train.columns, 'fi':best_model.best_estimator_.feature_importances_}).sort_values('fi', ascending=False)\n",
    "rf_fi[:20].plot.bar(x=\"cols\")\n",
    "plt.xticks(rotation=\"vertical\")\n",
    "plt.show()"
   ]
  },
  {
   "cell_type": "code",
   "execution_count": 47,
   "metadata": {},
   "outputs": [
    {
     "name": "stdout",
     "output_type": "stream",
     "text": [
      "# of features: 49 of 147\n"
     ]
    }
   ],
   "source": [
    "to_keep = list(rf_fi[rf_fi[\"fi\"] >=0.005][\"cols\"].values)\n",
    "print(f\"# of features: {len(to_keep)} of {len(rf_fi)}\")"
   ]
  },
  {
   "cell_type": "code",
   "execution_count": 62,
   "metadata": {},
   "outputs": [
    {
     "data": {
      "text/plain": [
       "'to_remove = [\\'COD_POST_POLIZA_RT_CLUSTER_2019\\', \\'COD_POST_OCURRENCIA_RT_CLUSTER_2019\\',\\n             \\'COD_POST_OCURRENCIA_RC_CLUSTER_2019\\',  \\'COD_POST_POLIZA_RC_CLUSTER_2019\\',\\n             \\'COD_POST_OCURRENCIA_DP_CLUSTER_2019\\', \\'COD_POST_POLIZA_DP_CLUSTER_2019\\',\\n             \"COD_CAUSA_SINI\", \\n            ] # \"es_gte_5\", \"total_condicion\", \\n\\nfor col in to_remove:\\n    if(col in to_keep):\\n        to_keep.remove(col)\\nto_keep'"
      ]
     },
     "execution_count": 62,
     "metadata": {},
     "output_type": "execute_result"
    }
   ],
   "source": [
    "\"\"\"to_remove = ['COD_POST_POLIZA_RT_CLUSTER_2019', 'COD_POST_OCURRENCIA_RT_CLUSTER_2019',\n",
    "             'COD_POST_OCURRENCIA_RC_CLUSTER_2019',  'COD_POST_POLIZA_RC_CLUSTER_2019',\n",
    "             'COD_POST_OCURRENCIA_DP_CLUSTER_2019', 'COD_POST_POLIZA_DP_CLUSTER_2019',\n",
    "             \"COD_CAUSA_SINI\", \n",
    "            ] # \"es_gte_5\", \"total_condicion\", \n",
    "\n",
    "for col in to_remove:\n",
    "    if(col in to_keep):\n",
    "        to_keep.remove(col)\n",
    "to_keep\"\"\""
   ]
  },
  {
   "cell_type": "markdown",
   "metadata": {},
   "source": [
    "### Training again with less features"
   ]
  },
  {
   "cell_type": "code",
   "execution_count": 48,
   "metadata": {},
   "outputs": [
    {
     "name": "stdout",
     "output_type": "stream",
     "text": [
      "49\n"
     ]
    }
   ],
   "source": [
    "X_train_red = X_train[to_keep].copy()\n",
    "print(len(X_train_red.columns))"
   ]
  },
  {
   "cell_type": "code",
   "execution_count": 49,
   "metadata": {},
   "outputs": [
    {
     "data": {
      "text/plain": [
       "XGBClassifier(base_score=0.5, booster='gbtree', colsample_bylevel=1,\n",
       "              colsample_bytree=0.5, gamma=0, learning_rate=0.01,\n",
       "              max_delta_step=0, max_depth=5, min_child_weight=1, missing=nan,\n",
       "              n_estimators=30, n_jobs=-1, nthread=None,\n",
       "              objective='binary:logistic', random_state=0, reg_alpha=0,\n",
       "              reg_lambda=1, scale_pos_weight=60, seed=0, silent=True,\n",
       "              subsample=1)"
      ]
     },
     "execution_count": 49,
     "metadata": {},
     "output_type": "execute_result"
    }
   ],
   "source": [
    "# rf = RandomForestClassifier(n_estimators=40, max_features=0.5, min_samples_leaf=7, random_state=random_state, n_jobs=-1)\n",
    "rf = copy(best_model.best_estimator_)\n",
    "rf.fit(X_train_red, y_train)"
   ]
  },
  {
   "cell_type": "code",
   "execution_count": 50,
   "metadata": {},
   "outputs": [
    {
     "data": {
      "text/plain": [
       "(0.45103857566765576, 0.7711014571454431)"
      ]
     },
     "execution_count": 50,
     "metadata": {},
     "output_type": "execute_result"
    }
   ],
   "source": [
    "y_opt_pred = rf.predict(X_opt[to_keep])\n",
    "y_opt_f1_bestFI, y_opt_rocauc_bestFI = f1_score(y_opt, y_opt_pred), roc_auc_score(y_opt, y_opt_pred)\n",
    "y_opt_f1_bestFI, y_opt_rocauc_bestFI"
   ]
  },
  {
   "cell_type": "code",
   "execution_count": 51,
   "metadata": {},
   "outputs": [
    {
     "data": {
      "text/plain": [
       "array([[1106,  924],\n",
       "       [   1,  380]])"
      ]
     },
     "execution_count": 51,
     "metadata": {},
     "output_type": "execute_result"
    }
   ],
   "source": [
    "confusion_matrix(y_opt, y_opt_pred)"
   ]
  },
  {
   "cell_type": "markdown",
   "metadata": {},
   "source": [
    "**best model**<br>\n"
   ]
  },
  {
   "cell_type": "code",
   "execution_count": 52,
   "metadata": {},
   "outputs": [
    {
     "data": {
      "text/html": [
       "<div>\n",
       "<style scoped>\n",
       "    .dataframe tbody tr th:only-of-type {\n",
       "        vertical-align: middle;\n",
       "    }\n",
       "\n",
       "    .dataframe tbody tr th {\n",
       "        vertical-align: top;\n",
       "    }\n",
       "\n",
       "    .dataframe thead tr th {\n",
       "        text-align: left;\n",
       "    }\n",
       "\n",
       "    .dataframe thead tr:last-of-type th {\n",
       "        text-align: right;\n",
       "    }\n",
       "</style>\n",
       "<table border=\"1\" class=\"dataframe\">\n",
       "  <thead>\n",
       "    <tr>\n",
       "      <th>EXISTE_FRAUDE</th>\n",
       "      <th colspan=\"2\" halign=\"left\">False</th>\n",
       "      <th colspan=\"2\" halign=\"left\">True</th>\n",
       "    </tr>\n",
       "    <tr>\n",
       "      <th>col_1</th>\n",
       "      <th>False</th>\n",
       "      <th>True</th>\n",
       "      <th>False</th>\n",
       "      <th>True</th>\n",
       "    </tr>\n",
       "    <tr>\n",
       "      <th>TIPO_EXPED</th>\n",
       "      <th></th>\n",
       "      <th></th>\n",
       "      <th></th>\n",
       "      <th></th>\n",
       "    </tr>\n",
       "  </thead>\n",
       "  <tbody>\n",
       "    <tr>\n",
       "      <th>0</th>\n",
       "      <td>22</td>\n",
       "      <td>0</td>\n",
       "      <td>0</td>\n",
       "      <td>0</td>\n",
       "    </tr>\n",
       "    <tr>\n",
       "      <th>1</th>\n",
       "      <td>343</td>\n",
       "      <td>0</td>\n",
       "      <td>1</td>\n",
       "      <td>0</td>\n",
       "    </tr>\n",
       "    <tr>\n",
       "      <th>2</th>\n",
       "      <td>186</td>\n",
       "      <td>0</td>\n",
       "      <td>0</td>\n",
       "      <td>0</td>\n",
       "    </tr>\n",
       "    <tr>\n",
       "      <th>3</th>\n",
       "      <td>440</td>\n",
       "      <td>0</td>\n",
       "      <td>0</td>\n",
       "      <td>0</td>\n",
       "    </tr>\n",
       "    <tr>\n",
       "      <th>4</th>\n",
       "      <td>6</td>\n",
       "      <td>0</td>\n",
       "      <td>0</td>\n",
       "      <td>0</td>\n",
       "    </tr>\n",
       "    <tr>\n",
       "      <th>5</th>\n",
       "      <td>103</td>\n",
       "      <td>293</td>\n",
       "      <td>0</td>\n",
       "      <td>9</td>\n",
       "    </tr>\n",
       "    <tr>\n",
       "      <th>6</th>\n",
       "      <td>6</td>\n",
       "      <td>631</td>\n",
       "      <td>0</td>\n",
       "      <td>371</td>\n",
       "    </tr>\n",
       "  </tbody>\n",
       "</table>\n",
       "</div>"
      ],
      "text/plain": [
       "EXISTE_FRAUDE False       True       \n",
       "col_1         False True  False True \n",
       "TIPO_EXPED                           \n",
       "0                22     0     0     0\n",
       "1               343     0     1     0\n",
       "2               186     0     0     0\n",
       "3               440     0     0     0\n",
       "4                 6     0     0     0\n",
       "5               103   293     0     9\n",
       "6                 6   631     0   371"
      ]
     },
     "execution_count": 52,
     "metadata": {},
     "output_type": "execute_result"
    }
   ],
   "source": [
    "pd.crosstab(X_opt[\"TIPO_EXPED\"], [df_opt[\"EXISTE_FRAUDE\"], y_opt_pred])"
   ]
  },
  {
   "cell_type": "code",
   "execution_count": 53,
   "metadata": {},
   "outputs": [
    {
     "data": {
      "image/png": "[encoded data removed]",
      "text/plain": [
       "<Figure size 432x288 with 1 Axes>"
      ]
     },
     "metadata": {
      "needs_background": "light"
     },
     "output_type": "display_data"
    }
   ],
   "source": [
    "rf_fi = pd.DataFrame({'cols':X_train_red.columns, 'fi':rf.feature_importances_}).sort_values('fi', ascending=False)\n",
    "rf_fi[:20].plot.bar(x=\"cols\")\n",
    "plt.xticks(rotation=\"vertical\")\n",
    "plt.show()"
   ]
  },
  {
   "cell_type": "code",
   "execution_count": 54,
   "metadata": {},
   "outputs": [],
   "source": [
    "best_model = copy(rf)"
   ]
  },
  {
   "cell_type": "code",
   "execution_count": null,
   "metadata": {},
   "outputs": [],
   "source": [
    "# best columns used\n",
    "rf_fi[\"cols\"].values"
   ]
  },
  {
   "cell_type": "markdown",
   "metadata": {},
   "source": [
    "# model with validation set"
   ]
  },
  {
   "cell_type": "markdown",
   "metadata": {
    "heading_collapsed": true
   },
   "source": [
    "## full features final model"
   ]
  },
  {
   "cell_type": "code",
   "execution_count": 77,
   "metadata": {
    "hidden": true
   },
   "outputs": [
    {
     "data": {
      "text/plain": [
       "LGBMClassifier(boosting_type='gbdt', class_weight={0: 1, 1: 14},\n",
       "               colsample_bytree=1.0, importance_type='split', learning_rate=0.1,\n",
       "               max_depth=-1, min_child_samples=20, min_child_weight=0.001,\n",
       "               min_split_gain=0.0, n_estimators=60, n_jobs=-1, num_leaves=31,\n",
       "               objective=None, random_state=0, reg_alpha=0.0, reg_lambda=0.0,\n",
       "               silent=False, subsample=1.0, subsample_for_bin=200000,\n",
       "               subsample_freq=0)"
      ]
     },
     "execution_count": 77,
     "metadata": {},
     "output_type": "execute_result"
    }
   ],
   "source": [
    "rf_full = copy(best_model)\n",
    "rf_full.fit(X_full_train, y_full_train)"
   ]
  },
  {
   "cell_type": "code",
   "execution_count": 78,
   "metadata": {
    "hidden": true
   },
   "outputs": [
    {
     "name": "stdout",
     "output_type": "stream",
     "text": [
      "0.468, 0.905\n"
     ]
    }
   ],
   "source": [
    "y_val_pred = rf_full.predict(X_val)\n",
    "y_val_f1_bestFI = f1_score(y_val, y_val_pred)\n",
    "y_val_rocauc_bestFI = roc_auc_score(y_val, rf_full.predict_proba(X_val)[:, -1])\n",
    "metric_results = \"%.3f, %.3f\" % (y_val_f1_bestFI, y_val_rocauc_bestFI)\n",
    "print(metric_results)"
   ]
  },
  {
   "cell_type": "code",
   "execution_count": 79,
   "metadata": {
    "hidden": true
   },
   "outputs": [
    {
     "data": {
      "text/plain": [
       "array([[4475,  388],\n",
       "       [  69,  201]])"
      ]
     },
     "execution_count": 79,
     "metadata": {},
     "output_type": "execute_result"
    }
   ],
   "source": [
    "conf_mat = confusion_matrix(y_val, y_val_pred)\n",
    "conf_mat"
   ]
  },
  {
   "cell_type": "code",
   "execution_count": 80,
   "metadata": {
    "hidden": true
   },
   "outputs": [
    {
     "data": {
      "text/plain": [
       "<matplotlib.axes._subplots.AxesSubplot at 0x7f4b4d7c7ba8>"
      ]
     },
     "execution_count": 80,
     "metadata": {},
     "output_type": "execute_result"
    },
    {
     "data": {
      "image/png": "[encoded data removed]",
      "text/plain": [
       "<Figure size 432x288 with 2 Axes>"
      ]
     },
     "metadata": {
      "needs_background": "light"
     },
     "output_type": "display_data"
    }
   ],
   "source": [
    "sns.heatmap(conf_mat, annot=True, fmt=\"d\")"
   ]
  },
  {
   "cell_type": "markdown",
   "metadata": {},
   "source": [
    "## red features final model"
   ]
  },
  {
   "cell_type": "code",
   "execution_count": 55,
   "metadata": {},
   "outputs": [
    {
     "data": {
      "text/plain": [
       "XGBClassifier(base_score=0.5, booster='gbtree', colsample_bylevel=1,\n",
       "              colsample_bytree=0.5, gamma=0, learning_rate=0.01,\n",
       "              max_delta_step=0, max_depth=5, min_child_weight=1, missing=nan,\n",
       "              n_estimators=30, n_jobs=-1, nthread=None,\n",
       "              objective='binary:logistic', random_state=0, reg_alpha=0,\n",
       "              reg_lambda=1, scale_pos_weight=60, seed=0, silent=True,\n",
       "              subsample=1)"
      ]
     },
     "execution_count": 55,
     "metadata": {},
     "output_type": "execute_result"
    }
   ],
   "source": [
    "rf_full = copy(best_model)\n",
    "rf_full.fit(X_full_train[to_keep], y_full_train)"
   ]
  },
  {
   "cell_type": "code",
   "execution_count": 56,
   "metadata": {},
   "outputs": [
    {
     "name": "stdout",
     "output_type": "stream",
     "text": [
      "0.396, 0.824\n"
     ]
    }
   ],
   "source": [
    "y_val_pred_prob = rf_full.predict_proba(X_val[to_keep])[:, -1]\n",
    "y_val_pred = y_val_pred_prob > 0.5\n",
    "y_val_f1_bestFI = f1_score(y_val, y_val_pred)\n",
    "y_val_rocauc_bestFI = roc_auc_score(y_val, y_val_pred_prob)\n",
    "metric_results = \"%.3f, %.3f\" % (y_val_f1_bestFI, y_val_rocauc_bestFI)\n",
    "print(metric_results)"
   ]
  },
  {
   "cell_type": "code",
   "execution_count": 57,
   "metadata": {},
   "outputs": [
    {
     "data": {
      "text/plain": [
       "<matplotlib.axes._subplots.AxesSubplot at 0x7fb4150df240>"
      ]
     },
     "execution_count": 57,
     "metadata": {},
     "output_type": "execute_result"
    },
    {
     "data": {
      "image/png": "[encoded data removed]",
      "text/plain": [
       "<Figure size 432x288 with 2 Axes>"
      ]
     },
     "metadata": {
      "needs_background": "light"
     },
     "output_type": "display_data"
    }
   ],
   "source": [
    "Y_val_adj = y_val_pred_prob > 0.5\n",
    "conf_mat = confusion_matrix(y_val, Y_val_adj)\n",
    "sns.heatmap(conf_mat, annot=True, fmt=\"d\")"
   ]
  },
  {
   "cell_type": "code",
   "execution_count": 73,
   "metadata": {},
   "outputs": [],
   "source": [
    "# 0.471, 0.832\n",
    "# 580 441 4 198"
   ]
  },
  {
   "cell_type": "code",
   "execution_count": 74,
   "metadata": {},
   "outputs": [
    {
     "data": {
      "text/html": [
       "<div>\n",
       "<style scoped>\n",
       "    .dataframe tbody tr th:only-of-type {\n",
       "        vertical-align: middle;\n",
       "    }\n",
       "\n",
       "    .dataframe tbody tr th {\n",
       "        vertical-align: top;\n",
       "    }\n",
       "\n",
       "    .dataframe thead tr th {\n",
       "        text-align: left;\n",
       "    }\n",
       "\n",
       "    .dataframe thead tr:last-of-type th {\n",
       "        text-align: right;\n",
       "    }\n",
       "</style>\n",
       "<table border=\"1\" class=\"dataframe\">\n",
       "  <thead>\n",
       "    <tr>\n",
       "      <th>EXISTE_FRAUDE</th>\n",
       "      <th colspan=\"2\" halign=\"left\">False</th>\n",
       "      <th colspan=\"2\" halign=\"left\">True</th>\n",
       "    </tr>\n",
       "    <tr>\n",
       "      <th>col_1</th>\n",
       "      <th>False</th>\n",
       "      <th>True</th>\n",
       "      <th>False</th>\n",
       "      <th>True</th>\n",
       "    </tr>\n",
       "    <tr>\n",
       "      <th>TIPO_EXPED</th>\n",
       "      <th></th>\n",
       "      <th></th>\n",
       "      <th></th>\n",
       "      <th></th>\n",
       "    </tr>\n",
       "  </thead>\n",
       "  <tbody>\n",
       "    <tr>\n",
       "      <th>0</th>\n",
       "      <td>12</td>\n",
       "      <td>0</td>\n",
       "      <td>0</td>\n",
       "      <td>0</td>\n",
       "    </tr>\n",
       "    <tr>\n",
       "      <th>1</th>\n",
       "      <td>159</td>\n",
       "      <td>0</td>\n",
       "      <td>0</td>\n",
       "      <td>0</td>\n",
       "    </tr>\n",
       "    <tr>\n",
       "      <th>2</th>\n",
       "      <td>101</td>\n",
       "      <td>0</td>\n",
       "      <td>0</td>\n",
       "      <td>0</td>\n",
       "    </tr>\n",
       "    <tr>\n",
       "      <th>3</th>\n",
       "      <td>86</td>\n",
       "      <td>0</td>\n",
       "      <td>0</td>\n",
       "      <td>0</td>\n",
       "    </tr>\n",
       "    <tr>\n",
       "      <th>4</th>\n",
       "      <td>2</td>\n",
       "      <td>0</td>\n",
       "      <td>0</td>\n",
       "      <td>0</td>\n",
       "    </tr>\n",
       "    <tr>\n",
       "      <th>5</th>\n",
       "      <td>272</td>\n",
       "      <td>2</td>\n",
       "      <td>6</td>\n",
       "      <td>0</td>\n",
       "    </tr>\n",
       "    <tr>\n",
       "      <th>6</th>\n",
       "      <td>258</td>\n",
       "      <td>129</td>\n",
       "      <td>96</td>\n",
       "      <td>100</td>\n",
       "    </tr>\n",
       "  </tbody>\n",
       "</table>\n",
       "</div>"
      ],
      "text/plain": [
       "EXISTE_FRAUDE False       True       \n",
       "col_1         False True  False True \n",
       "TIPO_EXPED                           \n",
       "0                12     0     0     0\n",
       "1               159     0     0     0\n",
       "2               101     0     0     0\n",
       "3                86     0     0     0\n",
       "4                 2     0     0     0\n",
       "5               272     2     6     0\n",
       "6               258   129    96   100"
      ]
     },
     "execution_count": 74,
     "metadata": {},
     "output_type": "execute_result"
    }
   ],
   "source": [
    "pd.crosstab(X_val[\"TIPO_EXPED\"], [y_val, Y_val_adj])"
   ]
  },
  {
   "cell_type": "markdown",
   "metadata": {},
   "source": [
    "## Tronador (sum cond >=5) comparison"
   ]
  },
  {
   "cell_type": "code",
   "execution_count": 86,
   "metadata": {},
   "outputs": [
    {
     "name": "stdout",
     "output_type": "stream",
     "text": [
      "(0.3834296724470134,0.6806251878860756)\n"
     ]
    }
   ],
   "source": [
    "# comparing against > 5 logic\n",
    "y_tronador = X_val[\"total_condicion\"] >= 5\n",
    "print(f\"({f1_score(y_val, y_tronador)},{roc_auc_score(y_val, y_tronador)})\")"
   ]
  },
  {
   "cell_type": "code",
   "execution_count": 87,
   "metadata": {},
   "outputs": [
    {
     "data": {
      "text/plain": [
       "<matplotlib.axes._subplots.AxesSubplot at 0x7f969db12cf8>"
      ]
     },
     "execution_count": 87,
     "metadata": {},
     "output_type": "execute_result"
    },
    {
     "data": {
      "image/png": "[encoded data removed]",
      "text/plain": [
       "<Figure size 432x288 with 2 Axes>"
      ]
     },
     "metadata": {
      "needs_background": "light"
     },
     "output_type": "display_data"
    }
   ],
   "source": [
    "conf_mat = confusion_matrix(y_val, y_tronador)\n",
    "sns.heatmap(conf_mat, annot=True, fmt=\"d\")"
   ]
  },
  {
   "cell_type": "code",
   "execution_count": 88,
   "metadata": {},
   "outputs": [
    {
     "data": {
      "text/html": [
       "<div>\n",
       "<style scoped>\n",
       "    .dataframe tbody tr th:only-of-type {\n",
       "        vertical-align: middle;\n",
       "    }\n",
       "\n",
       "    .dataframe tbody tr th {\n",
       "        vertical-align: top;\n",
       "    }\n",
       "\n",
       "    .dataframe thead tr th {\n",
       "        text-align: left;\n",
       "    }\n",
       "\n",
       "    .dataframe thead tr:last-of-type th {\n",
       "        text-align: right;\n",
       "    }\n",
       "</style>\n",
       "<table border=\"1\" class=\"dataframe\">\n",
       "  <thead>\n",
       "    <tr>\n",
       "      <th>EXISTE_FRAUDE</th>\n",
       "      <th colspan=\"2\" halign=\"left\">False</th>\n",
       "      <th colspan=\"2\" halign=\"left\">True</th>\n",
       "    </tr>\n",
       "    <tr>\n",
       "      <th>total_condicion</th>\n",
       "      <th>False</th>\n",
       "      <th>True</th>\n",
       "      <th>False</th>\n",
       "      <th>True</th>\n",
       "    </tr>\n",
       "    <tr>\n",
       "      <th>TIPO_EXPED</th>\n",
       "      <th></th>\n",
       "      <th></th>\n",
       "      <th></th>\n",
       "      <th></th>\n",
       "    </tr>\n",
       "  </thead>\n",
       "  <tbody>\n",
       "    <tr>\n",
       "      <th>0</th>\n",
       "      <td>9</td>\n",
       "      <td>3</td>\n",
       "      <td>0</td>\n",
       "      <td>0</td>\n",
       "    </tr>\n",
       "    <tr>\n",
       "      <th>1</th>\n",
       "      <td>123</td>\n",
       "      <td>36</td>\n",
       "      <td>0</td>\n",
       "      <td>0</td>\n",
       "    </tr>\n",
       "    <tr>\n",
       "      <th>2</th>\n",
       "      <td>95</td>\n",
       "      <td>6</td>\n",
       "      <td>0</td>\n",
       "      <td>0</td>\n",
       "    </tr>\n",
       "    <tr>\n",
       "      <th>3</th>\n",
       "      <td>86</td>\n",
       "      <td>0</td>\n",
       "      <td>0</td>\n",
       "      <td>0</td>\n",
       "    </tr>\n",
       "    <tr>\n",
       "      <th>4</th>\n",
       "      <td>2</td>\n",
       "      <td>0</td>\n",
       "      <td>0</td>\n",
       "      <td>0</td>\n",
       "    </tr>\n",
       "    <tr>\n",
       "      <th>5</th>\n",
       "      <td>42</td>\n",
       "      <td>232</td>\n",
       "      <td>1</td>\n",
       "      <td>5</td>\n",
       "    </tr>\n",
       "    <tr>\n",
       "      <th>6</th>\n",
       "      <td>27</td>\n",
       "      <td>360</td>\n",
       "      <td>2</td>\n",
       "      <td>194</td>\n",
       "    </tr>\n",
       "  </tbody>\n",
       "</table>\n",
       "</div>"
      ],
      "text/plain": [
       "EXISTE_FRAUDE   False       True       \n",
       "total_condicion False True  False True \n",
       "TIPO_EXPED                             \n",
       "0                   9     3     0     0\n",
       "1                 123    36     0     0\n",
       "2                  95     6     0     0\n",
       "3                  86     0     0     0\n",
       "4                   2     0     0     0\n",
       "5                  42   232     1     5\n",
       "6                  27   360     2   194"
      ]
     },
     "execution_count": 88,
     "metadata": {},
     "output_type": "execute_result"
    }
   ],
   "source": [
    "pd.crosstab(X_val[\"TIPO_EXPED\"], [y_val, y_tronador])"
   ]
  },
  {
   "cell_type": "code",
   "execution_count": 64,
   "metadata": {},
   "outputs": [],
   "source": [
    "# use for test without dump  it into disk\n",
    "m = copy(rf_full)\n",
    "columns = copy(to_keep)"
   ]
  },
  {
   "cell_type": "markdown",
   "metadata": {},
   "source": [
    "# Saving final model & columns used into hard drive"
   ]
  },
  {
   "cell_type": "code",
   "execution_count": 65,
   "metadata": {},
   "outputs": [],
   "source": [
    "path_to_save = f\"models/{model_id}/\"\n",
    "os.makedirs(path_to_save, exist_ok=True)"
   ]
  },
  {
   "cell_type": "code",
   "execution_count": 66,
   "metadata": {},
   "outputs": [],
   "source": [
    "model_file = os.path.join(path_to_save, f\"{model_id}.pickle\")\n",
    "\n",
    "with open(model_file, \"wb\") as f:\n",
    "    pickle.dump(best_model, f, pickle.HIGHEST_PROTOCOL)"
   ]
  },
  {
   "cell_type": "code",
   "execution_count": 67,
   "metadata": {},
   "outputs": [],
   "source": [
    "# save file for humans\n",
    "model_file = os.path.join(path_to_save, f\"{model_id} - readable.pickle\")\n",
    "\n",
    "with open(model_file, \"wb\") as f:\n",
    "    pickle.dump(best_model, f, 0) # 0 is human readable format"
   ]
  },
  {
   "cell_type": "code",
   "execution_count": 68,
   "metadata": {},
   "outputs": [
    {
     "name": "stdout",
     "output_type": "stream",
     "text": [
      "['CODIGO_VEHICULO', 'COD_RIES_sini', 'COD_CAUSA_SINI', 'CANT_RENOVACION', 'total_condicion', 'FECHA_SINI_Day', 'CAPITAL_ASEGURADO_COTIZACION', 'preg_28', 'cond_C5', 'COD_POST_POLIZA_RC_CLUSTER_2019', 'FALTANTE', 'MCA_JUICIO', 'TIPO_EXPED', 'COD_POST_POLIZA_DP_CLUSTER_2019', 'ESTADO_CIVIL', 'cond_C16', 'COD_POST_POLIZA', 'COD_PROD', 'COD_POST_OCURRENCIA', 'FECHA_SINI_Week', 'FECHA_SINI_Month', 'MCA_COASEG', 'NEGOCIO', 'PRENDARIO', 'SEGMENTO', 'COD_POST_OCURRENCIA_RT_CLUSTER_2019', 'preg_27', 'CONV_COMISIONARIO', 'ANTIG_pol', 'cond_C10', 'COD_POST_OCURRENCIA_DP_CLUSTER_2019', 'existe_FECHA_FORMAL', 'cond_C11', 'CODIGO_CARATULA', 'TIPO_SINIESTRO', 'cond_C2', 'cond_C15', 'DOMICILIO_CODIGO_POSTAL', 'dist_fformal_fsini', 'ESTADO_CIVIL_TERC', 'CIF_ID', 'COD_POST_OCURRENCIA_RC_CLUSTER_2019', 'CONDICION_ROBO_EXP50', 'FECHA_SINI_Dayofweek', 'DESCRIPCION_TIPO', 'SEXO', 'preg_9', 'CAPITAL_VEHICULO', 'cond_C6']\n"
     ]
    }
   ],
   "source": [
    "# merging list input & target\n",
    "full_cols = list(to_keep)  # + [\"EXISTE_FRAUDE\"]\n",
    "print(full_cols)"
   ]
  },
  {
   "cell_type": "code",
   "execution_count": 69,
   "metadata": {},
   "outputs": [],
   "source": [
    "columns_file = os.path.join(path_to_save, f\"{model_id} (COLUMNS) - n_features_{len(full_cols)}.pickle\")\n",
    "\n",
    "with open(columns_file, \"wb\") as file:\n",
    "    pickle.dump(full_cols, file, pickle.HIGHEST_PROTOCOL)"
   ]
  },
  {
   "cell_type": "code",
   "execution_count": 120,
   "metadata": {},
   "outputs": [],
   "source": [
    "# saving to use as example a few rows to implement the model\n",
    "# path_to_save = \"../../src/data/1.1 - df_train 01-18to12-18/\"\n",
    "# sample_file = os.path.join(path_to_save, f\"{model_id} (sample)  - dataset example to predict model.csv\")\n",
    "\n",
    "# df_example = X_val.loc[:, to_keep][-50:]\n",
    "# df_example[\"EXISTE_FRAUDE\"] = y_val[-50:]\n",
    "# df_example.to_csv(sample_file)"
   ]
  },
  {
   "cell_type": "code",
   "execution_count": null,
   "metadata": {},
   "outputs": [],
   "source": [
    "# df_example.head()"
   ]
  },
  {
   "cell_type": "markdown",
   "metadata": {},
   "source": [
    "# Test prediction"
   ]
  },
  {
   "cell_type": "code",
   "execution_count": 80,
   "metadata": {},
   "outputs": [],
   "source": [
    "df_test = pd.read_feather(os.path.join(path, \"1.2.b - group zone - 01-17 to 01-19 - df_test 04-19to04-19.feather\"))"
   ]
  },
  {
   "cell_type": "code",
   "execution_count": 81,
   "metadata": {},
   "outputs": [
    {
     "data": {
      "text/plain": [
       "(34658, 157)"
      ]
     },
     "execution_count": 81,
     "metadata": {},
     "output_type": "execute_result"
    }
   ],
   "source": [
    "df_test.shape"
   ]
  },
  {
   "cell_type": "code",
   "execution_count": 71,
   "metadata": {},
   "outputs": [],
   "source": [
    "df_test = df_test[(df_test[\"total_condicion\"] >= 4)]"
   ]
  },
  {
   "cell_type": "code",
   "execution_count": 72,
   "metadata": {},
   "outputs": [],
   "source": [
    "# Loding the model\n",
    "\n",
    "def load_model(model_file):\n",
    "    \"\"\"Load the dump model.\"\"\"\n",
    "    with open(model_file, \"rb\") as file:\n",
    "        m = pickle.load(file)\n",
    "    return m\n",
    "\n",
    "\n",
    "def load_columns(columns_file):\n",
    "    \"\"\"Load the array of columns use in the dump model.\"\"\"\n",
    "    with open(columns_file, \"rb\") as file:\n",
    "        columns = pickle.load(file)\n",
    "    return columns"
   ]
  },
  {
   "cell_type": "code",
   "execution_count": 73,
   "metadata": {},
   "outputs": [],
   "source": [
    "m = load_model(model_file)\n",
    "columns = load_columns(columns_file)"
   ]
  },
  {
   "cell_type": "code",
   "execution_count": 74,
   "metadata": {},
   "outputs": [
    {
     "name": "stdout",
     "output_type": "stream",
     "text": [
      "['CODIGO_VEHICULO', 'COD_RIES_sini', 'COD_CAUSA_SINI', 'CANT_RENOVACION', 'total_condicion', 'FECHA_SINI_Day', 'CAPITAL_ASEGURADO_COTIZACION', 'preg_28', 'cond_C5', 'COD_POST_POLIZA_RC_CLUSTER_2019', 'FALTANTE', 'MCA_JUICIO', 'TIPO_EXPED', 'COD_POST_POLIZA_DP_CLUSTER_2019', 'ESTADO_CIVIL', 'cond_C16', 'COD_POST_POLIZA', 'COD_PROD', 'COD_POST_OCURRENCIA', 'FECHA_SINI_Week', 'FECHA_SINI_Month', 'MCA_COASEG', 'NEGOCIO', 'PRENDARIO', 'SEGMENTO', 'COD_POST_OCURRENCIA_RT_CLUSTER_2019', 'preg_27', 'CONV_COMISIONARIO', 'ANTIG_pol', 'cond_C10', 'COD_POST_OCURRENCIA_DP_CLUSTER_2019', 'existe_FECHA_FORMAL', 'cond_C11', 'CODIGO_CARATULA', 'TIPO_SINIESTRO', 'cond_C2', 'cond_C15', 'DOMICILIO_CODIGO_POSTAL', 'dist_fformal_fsini', 'ESTADO_CIVIL_TERC', 'CIF_ID', 'COD_POST_OCURRENCIA_RC_CLUSTER_2019', 'CONDICION_ROBO_EXP50', 'FECHA_SINI_Dayofweek', 'DESCRIPCION_TIPO', 'SEXO', 'preg_9', 'CAPITAL_VEHICULO', 'cond_C6']\n"
     ]
    }
   ],
   "source": [
    "print(columns)"
   ]
  },
  {
   "cell_type": "code",
   "execution_count": 75,
   "metadata": {},
   "outputs": [
    {
     "data": {
      "text/plain": [
       "2    389\n",
       "1     56\n",
       "3     41\n",
       "4      3\n",
       "Name: cant_cond, dtype: int64"
      ]
     },
     "execution_count": 75,
     "metadata": {},
     "output_type": "execute_result"
    }
   ],
   "source": [
    "# create cant_cond column\n",
    "cond_cols = df.filter(regex=\"^cond_\").columns\n",
    "df_test[\"cant_cond\"] = (df_test[cond_cols] > 0).sum(axis=1)\n",
    "df_test[\"cant_cond\"].value_counts(dropna=False)"
   ]
  },
  {
   "cell_type": "code",
   "execution_count": 76,
   "metadata": {},
   "outputs": [],
   "source": [
    "X_test = df_test[columns]\n",
    "y_test = df_test[\"EXISTE_FRAUDE\"]"
   ]
  },
  {
   "cell_type": "markdown",
   "metadata": {},
   "source": [
    "## Model in test"
   ]
  },
  {
   "cell_type": "code",
   "execution_count": 77,
   "metadata": {},
   "outputs": [
    {
     "name": "stdout",
     "output_type": "stream",
     "text": [
      "0.367, 0.850\n"
     ]
    }
   ],
   "source": [
    "# using trained model\n",
    "y_test_pred_prob = m.predict_proba(X_test)[:, -1]\n",
    "\n",
    "# Using load model\n",
    "# y_test_pred_prob = m.predict_proba(X_test)[:, -1]\n",
    "\n",
    "print(\"%.3f, %.3f\" % (f1_score(y_test, y_test_pred_prob > 0.5), roc_auc_score(y_test, y_test_pred_prob)))"
   ]
  },
  {
   "cell_type": "code",
   "execution_count": 78,
   "metadata": {},
   "outputs": [
    {
     "data": {
      "text/plain": [
       "<matplotlib.axes._subplots.AxesSubplot at 0x7fb4150df3c8>"
      ]
     },
     "execution_count": 78,
     "metadata": {},
     "output_type": "execute_result"
    },
    {
     "data": {
      "image/png": "[encoded data removed]",
      "text/plain": [
       "<Figure size 432x288 with 2 Axes>"
      ]
     },
     "metadata": {
      "needs_background": "light"
     },
     "output_type": "display_data"
    }
   ],
   "source": [
    "y_prob_adj = y_test_pred_prob > 0.5\n",
    "conf_mat = confusion_matrix(y_test, y_prob_adj)\n",
    "sns.heatmap(conf_mat, annot=True, fmt=\"d\")"
   ]
  },
  {
   "cell_type": "code",
   "execution_count": 79,
   "metadata": {},
   "outputs": [
    {
     "data": {
      "text/html": [
       "<div>\n",
       "<style scoped>\n",
       "    .dataframe tbody tr th:only-of-type {\n",
       "        vertical-align: middle;\n",
       "    }\n",
       "\n",
       "    .dataframe tbody tr th {\n",
       "        vertical-align: top;\n",
       "    }\n",
       "\n",
       "    .dataframe thead tr th {\n",
       "        text-align: left;\n",
       "    }\n",
       "\n",
       "    .dataframe thead tr:last-of-type th {\n",
       "        text-align: right;\n",
       "    }\n",
       "</style>\n",
       "<table border=\"1\" class=\"dataframe\">\n",
       "  <thead>\n",
       "    <tr>\n",
       "      <th>EXISTE_FRAUDE</th>\n",
       "      <th colspan=\"2\" halign=\"left\">False</th>\n",
       "      <th>True</th>\n",
       "    </tr>\n",
       "    <tr>\n",
       "      <th>col_1</th>\n",
       "      <th>False</th>\n",
       "      <th>True</th>\n",
       "      <th>True</th>\n",
       "    </tr>\n",
       "    <tr>\n",
       "      <th>TIPO_EXPED</th>\n",
       "      <th></th>\n",
       "      <th></th>\n",
       "      <th></th>\n",
       "    </tr>\n",
       "  </thead>\n",
       "  <tbody>\n",
       "    <tr>\n",
       "      <th>0</th>\n",
       "      <td>5</td>\n",
       "      <td>0</td>\n",
       "      <td>0</td>\n",
       "    </tr>\n",
       "    <tr>\n",
       "      <th>1</th>\n",
       "      <td>65</td>\n",
       "      <td>0</td>\n",
       "      <td>0</td>\n",
       "    </tr>\n",
       "    <tr>\n",
       "      <th>2</th>\n",
       "      <td>41</td>\n",
       "      <td>0</td>\n",
       "      <td>0</td>\n",
       "    </tr>\n",
       "    <tr>\n",
       "      <th>3</th>\n",
       "      <td>34</td>\n",
       "      <td>0</td>\n",
       "      <td>0</td>\n",
       "    </tr>\n",
       "    <tr>\n",
       "      <th>5</th>\n",
       "      <td>35</td>\n",
       "      <td>88</td>\n",
       "      <td>5</td>\n",
       "    </tr>\n",
       "    <tr>\n",
       "      <th>6</th>\n",
       "      <td>6</td>\n",
       "      <td>147</td>\n",
       "      <td>63</td>\n",
       "    </tr>\n",
       "  </tbody>\n",
       "</table>\n",
       "</div>"
      ],
      "text/plain": [
       "EXISTE_FRAUDE False       True \n",
       "col_1         False True  True \n",
       "TIPO_EXPED                     \n",
       "0                 5     0     0\n",
       "1                65     0     0\n",
       "2                41     0     0\n",
       "3                34     0     0\n",
       "5                35    88     5\n",
       "6                 6   147    63"
      ]
     },
     "execution_count": 79,
     "metadata": {},
     "output_type": "execute_result"
    }
   ],
   "source": [
    "pd.crosstab(df_test[\"TIPO_EXPED\"], [df_test[\"EXISTE_FRAUDE\"], y_prob_adj])"
   ]
  },
  {
   "cell_type": "markdown",
   "metadata": {},
   "source": [
    "## Tronador in test"
   ]
  },
  {
   "cell_type": "code",
   "execution_count": 71,
   "metadata": {},
   "outputs": [
    {
     "name": "stdout",
     "output_type": "stream",
     "text": [
      "0.354, 0.705\n"
     ]
    }
   ],
   "source": [
    "y_tronador = df_test[\"es_gte_5\"]\n",
    "print(\"%.3f, %.3f\" % (f1_score(y_test, y_tronador), roc_auc_score(y_test, y_tronador)))"
   ]
  },
  {
   "cell_type": "code",
   "execution_count": 72,
   "metadata": {},
   "outputs": [
    {
     "data": {
      "text/plain": [
       "<matplotlib.axes._subplots.AxesSubplot at 0x7f96a214a400>"
      ]
     },
     "execution_count": 72,
     "metadata": {},
     "output_type": "execute_result"
    },
    {
     "data": {
      "image/png": "[encoded data removed]",
      "text/plain": [
       "<Figure size 432x288 with 2 Axes>"
      ]
     },
     "metadata": {
      "needs_background": "light"
     },
     "output_type": "display_data"
    }
   ],
   "source": [
    "conf_mat = confusion_matrix(y_test, y_tronador)\n",
    "sns.heatmap(conf_mat, annot=True, fmt=\"d\")"
   ]
  },
  {
   "cell_type": "code",
   "execution_count": 78,
   "metadata": {},
   "outputs": [
    {
     "data": {
      "text/html": [
       "<div>\n",
       "<style scoped>\n",
       "    .dataframe tbody tr th:only-of-type {\n",
       "        vertical-align: middle;\n",
       "    }\n",
       "\n",
       "    .dataframe tbody tr th {\n",
       "        vertical-align: top;\n",
       "    }\n",
       "\n",
       "    .dataframe thead tr th {\n",
       "        text-align: left;\n",
       "    }\n",
       "\n",
       "    .dataframe thead tr:last-of-type th {\n",
       "        text-align: right;\n",
       "    }\n",
       "</style>\n",
       "<table border=\"1\" class=\"dataframe\">\n",
       "  <thead>\n",
       "    <tr>\n",
       "      <th>EXISTE_FRAUDE</th>\n",
       "      <th colspan=\"2\" halign=\"left\">False</th>\n",
       "      <th>True</th>\n",
       "    </tr>\n",
       "    <tr>\n",
       "      <th>es_gte_5</th>\n",
       "      <th>False</th>\n",
       "      <th>True</th>\n",
       "      <th>True</th>\n",
       "    </tr>\n",
       "    <tr>\n",
       "      <th>TIPO_EXPED</th>\n",
       "      <th></th>\n",
       "      <th></th>\n",
       "      <th></th>\n",
       "    </tr>\n",
       "  </thead>\n",
       "  <tbody>\n",
       "    <tr>\n",
       "      <th>0</th>\n",
       "      <td>3</td>\n",
       "      <td>2</td>\n",
       "      <td>0</td>\n",
       "    </tr>\n",
       "    <tr>\n",
       "      <th>1</th>\n",
       "      <td>54</td>\n",
       "      <td>11</td>\n",
       "      <td>0</td>\n",
       "    </tr>\n",
       "    <tr>\n",
       "      <th>2</th>\n",
       "      <td>40</td>\n",
       "      <td>1</td>\n",
       "      <td>0</td>\n",
       "    </tr>\n",
       "    <tr>\n",
       "      <th>3</th>\n",
       "      <td>33</td>\n",
       "      <td>1</td>\n",
       "      <td>0</td>\n",
       "    </tr>\n",
       "    <tr>\n",
       "      <th>5</th>\n",
       "      <td>26</td>\n",
       "      <td>97</td>\n",
       "      <td>5</td>\n",
       "    </tr>\n",
       "    <tr>\n",
       "      <th>6</th>\n",
       "      <td>17</td>\n",
       "      <td>136</td>\n",
       "      <td>63</td>\n",
       "    </tr>\n",
       "  </tbody>\n",
       "</table>\n",
       "</div>"
      ],
      "text/plain": [
       "EXISTE_FRAUDE False       True \n",
       "es_gte_5      False True  True \n",
       "TIPO_EXPED                     \n",
       "0                 3     2     0\n",
       "1                54    11     0\n",
       "2                40     1     0\n",
       "3                33     1     0\n",
       "5                26    97     5\n",
       "6                17   136    63"
      ]
     },
     "execution_count": 78,
     "metadata": {},
     "output_type": "execute_result"
    }
   ],
   "source": [
    "pd.crosstab(df_test[\"TIPO_EXPED\"], [df_test[\"EXISTE_FRAUDE\"], y_tronador])"
   ]
  },
  {
   "cell_type": "code",
   "execution_count": null,
   "metadata": {},
   "outputs": [],
   "source": []
  }
 ],
 "metadata": {
  "kernelspec": {
   "display_name": "Python 3",
   "language": "python",
   "name": "python3"
  },
  "language_info": {
   "codemirror_mode": {
    "name": "ipython",
    "version": 3
   },
   "file_extension": ".py",
   "mimetype": "text/x-python",
   "name": "python",
   "nbconvert_exporter": "python",
   "pygments_lexer": "ipython3",
   "version": "3.6.8"
  },
  "varInspector": {
   "cols": {
    "lenName": 16,
    "lenType": 16,
    "lenVar": 40
   },
   "kernels_config": {
    "python": {
     "delete_cmd_postfix": "",
     "delete_cmd_prefix": "del ",
     "library": "var_list.py",
     "varRefreshCmd": "print(var_dic_list())"
    },
    "r": {
     "delete_cmd_postfix": ") ",
     "delete_cmd_prefix": "rm(",
     "library": "var_list.r",
     "varRefreshCmd": "cat(var_dic_list()) "
    }
   },
   "types_to_exclude": [
    "module",
    "function",
    "builtin_function_or_method",
    "instance",
    "_Feature"
   ],
   "window_display": false
  }
 },
 "nbformat": 4,
 "nbformat_minor": 2
}
