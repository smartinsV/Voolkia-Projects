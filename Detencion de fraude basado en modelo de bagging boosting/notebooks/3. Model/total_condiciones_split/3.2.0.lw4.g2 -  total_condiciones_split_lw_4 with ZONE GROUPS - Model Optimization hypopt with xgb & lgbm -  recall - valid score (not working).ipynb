{
 "cells": [
  {
   "cell_type": "markdown",
   "metadata": {},
   "source": [
    "# Model hiper optimization"
   ]
  },
  {
   "cell_type": "markdown",
   "metadata": {},
   "source": [
    "all but tipo_exped=060 and 050"
   ]
  },
  {
   "cell_type": "code",
   "execution_count": 34,
   "metadata": {},
   "outputs": [],
   "source": [
    "#imports\n",
    "import os\n",
    "from copy import copy\n",
    "\n",
    "import pandas as pd\n",
    "import numpy as np\n",
    "import seaborn as sns\n",
    "import matplotlib.pyplot as plt\n",
    "from sklearn.metrics import roc_auc_score, f1_score, confusion_matrix\n",
    "from sklearn.ensemble import RandomForestClassifier, ExtraTreesClassifier\n",
    "from sklearn.tree import DecisionTreeClassifier\n",
    "from xgboost import XGBClassifier\n",
    "from lightgbm import LGBMClassifier\n",
    "from sklearn.model_selection import GridSearchCV, RandomizedSearchCV\n",
    "from hypopt import GridSearch\n",
    "from hyperopt import tpe, fmin, space_eval, Trials, STATUS_OK, hp\n",
    "from sklearn.model_selection import StratifiedShuffleSplit\n",
    "\n",
    "import pickle"
   ]
  },
  {
   "cell_type": "code",
   "execution_count": 35,
   "metadata": {},
   "outputs": [
    {
     "name": "stdout",
     "output_type": "stream",
     "text": [
      "['1.1.b - 01-17 to 01-19 - df_val 02-19to03-19.feather', '1.1.b - 01-17 to 01-19 - df_train only 2018 without nulls.feather', '1.2.b - group zone - 01-17 to 01-19 - df_test 04-19to05-19.feather', '1.1 - df_train with nan.feather', '1.2.b - group zone - 01-17 to 01-19 - df_val 02-19to03-19.feather', '1.1 - df_train.feather', '1.2.b - group zone - 01-17 to 01-19 - df_train with nan.feather', '1.1 - df_test 04-19to04-19.feather', '1.1 - df_val 01-19to03-19.feather', '1.1.b - 01-17 to 01-19 - df_train without nulls.feather', '1.1 - df_train only 2018 without nulls.feather', '1.2.b - group zone - 01-17 to 01-19 - df_test 04-19to04-19.feather', '1.1.b - 01-17 to 01-19 - df_train with nan.feather', '1.1 - df_test 04-19to05-19.feather', '1.2.b - group zone - 01-17 to 01-19 - df_train without nulls.feather', '1.1.b - 01-17 to 01-19 - df_test 04-19to04-19.feather', '1.1.b - 01-17 to 01-19 - df_test 04-19to05-19.feather', '1.2.b - group zone - 01-17 to 01-19 - df_train only 2018 without nulls.feather']\n"
     ]
    }
   ],
   "source": [
    "# configs.\n",
    "%matplotlib inline\n",
    "# version to read\n",
    "read_version = \"1.2.b - group zone\"\n",
    "\n",
    "# model to save\n",
    "model_id = \"3.2.0.lw4.g2 - total_condiciones_split lw4 - recall with zone groups\"\n",
    "\n",
    "pd.set_option(\"display.max_columns\", 500)\n",
    "\n",
    "path = \"../../../data/split\"\n",
    "random_state = 42\n",
    "print(os.listdir(path))"
   ]
  },
  {
   "cell_type": "markdown",
   "metadata": {},
   "source": [
    "## Loading training and validation datasets"
   ]
  },
  {
   "cell_type": "code",
   "execution_count": 36,
   "metadata": {},
   "outputs": [],
   "source": [
    "df = pd.read_feather(os.path.join(path, f\"{read_version} - 01-17 to 01-19 - df_train with nan.feather\"))\n",
    "df_val = pd.read_feather(os.path.join(path, f\"{read_version} - 01-17 to 01-19 - df_val 02-19to03-19.feather\"))"
   ]
  },
  {
   "cell_type": "code",
   "execution_count": 37,
   "metadata": {},
   "outputs": [],
   "source": [
    "# using only last year\n",
    "split_date = \"2018-01-01\"\n",
    "df = df[df[\"FECHA_SINI\"] >= split_date].copy()"
   ]
  },
  {
   "cell_type": "code",
   "execution_count": 38,
   "metadata": {},
   "outputs": [
    {
     "data": {
      "text/plain": [
       "(Timestamp('2018-01-01 00:00:00'), Timestamp('2019-01-31 00:00:00'))"
      ]
     },
     "execution_count": 38,
     "metadata": {},
     "output_type": "execute_result"
    }
   ],
   "source": [
    "df[\"FECHA_SINI\"].min(), df[\"FECHA_SINI\"].max()"
   ]
  },
  {
   "cell_type": "code",
   "execution_count": 39,
   "metadata": {},
   "outputs": [],
   "source": [
    "df = df[(df[\"total_condicion\"] < 4)]\n",
    "df_val = df_val[(df_val[\"total_condicion\"] < 4)]"
   ]
  },
  {
   "cell_type": "code",
   "execution_count": 40,
   "metadata": {},
   "outputs": [],
   "source": [
    "# Select all non 060 tipo exped.\n",
    "# 'None': 7,  '003': 2,  '060': 6,  '010': 3,  '020': 4,  '002': 1,  '050': 5,  '001': 0\n",
    "g1 = [6, 5]\n",
    "df = df[~(df[\"TIPO_EXPED\"].isin(g1))]\n",
    "df_val = df_val[~(df_val[\"TIPO_EXPED\"].isin(g1))]"
   ]
  },
  {
   "cell_type": "code",
   "execution_count": 41,
   "metadata": {},
   "outputs": [
    {
     "data": {
      "text/html": [
       "<div>\n",
       "<style scoped>\n",
       "    .dataframe tbody tr th:only-of-type {\n",
       "        vertical-align: middle;\n",
       "    }\n",
       "\n",
       "    .dataframe tbody tr th {\n",
       "        vertical-align: top;\n",
       "    }\n",
       "\n",
       "    .dataframe thead th {\n",
       "        text-align: right;\n",
       "    }\n",
       "</style>\n",
       "<table border=\"1\" class=\"dataframe\">\n",
       "  <thead>\n",
       "    <tr style=\"text-align: right;\">\n",
       "      <th>EXISTE_FRAUDE</th>\n",
       "      <th>False</th>\n",
       "      <th>True</th>\n",
       "    </tr>\n",
       "    <tr>\n",
       "      <th>TIPO_EXPED</th>\n",
       "      <th></th>\n",
       "      <th></th>\n",
       "    </tr>\n",
       "  </thead>\n",
       "  <tbody>\n",
       "    <tr>\n",
       "      <th>0</th>\n",
       "      <td>2651</td>\n",
       "      <td>9</td>\n",
       "    </tr>\n",
       "    <tr>\n",
       "      <th>1</th>\n",
       "      <td>39496</td>\n",
       "      <td>131</td>\n",
       "    </tr>\n",
       "    <tr>\n",
       "      <th>2</th>\n",
       "      <td>224833</td>\n",
       "      <td>55</td>\n",
       "    </tr>\n",
       "    <tr>\n",
       "      <th>3</th>\n",
       "      <td>202918</td>\n",
       "      <td>52</td>\n",
       "    </tr>\n",
       "    <tr>\n",
       "      <th>4</th>\n",
       "      <td>6530</td>\n",
       "      <td>26</td>\n",
       "    </tr>\n",
       "  </tbody>\n",
       "</table>\n",
       "</div>"
      ],
      "text/plain": [
       "EXISTE_FRAUDE   False  True \n",
       "TIPO_EXPED                  \n",
       "0                2651      9\n",
       "1               39496    131\n",
       "2              224833     55\n",
       "3              202918     52\n",
       "4                6530     26"
      ]
     },
     "execution_count": 41,
     "metadata": {},
     "output_type": "execute_result"
    }
   ],
   "source": [
    "pd.crosstab(df[\"TIPO_EXPED\"], df[\"EXISTE_FRAUDE\"])"
   ]
  },
  {
   "cell_type": "code",
   "execution_count": 42,
   "metadata": {},
   "outputs": [
    {
     "data": {
      "text/plain": [
       "2    224888\n",
       "3    202970\n",
       "1     39627\n",
       "4      6556\n",
       "0      2660\n",
       "Name: TIPO_EXPED, dtype: int64"
      ]
     },
     "execution_count": 42,
     "metadata": {},
     "output_type": "execute_result"
    }
   ],
   "source": [
    "df[\"TIPO_EXPED\"].value_counts()"
   ]
  },
  {
   "cell_type": "code",
   "execution_count": 43,
   "metadata": {},
   "outputs": [],
   "source": [
    "# delete unique value columns (for tipo_exped == 060)\n",
    "use_cols = df.nunique()[df.nunique() > 1].index\n",
    "df = df[use_cols]\n",
    "df_val = df_val[use_cols]"
   ]
  },
  {
   "cell_type": "code",
   "execution_count": 44,
   "metadata": {},
   "outputs": [
    {
     "data": {
      "text/plain": [
       "Index(['cond_04', 'cond_05', 'cond_06', 'cond_09', 'cond_11', 'cond_C1',\n",
       "       'cond_C13', 'cond_C14', 'cond_C15', 'cond_C16', 'cond_C17', 'cond_C21',\n",
       "       'cond_C6', 'cond_C7', 'cond_C8', 'cond_C9'],\n",
       "      dtype='object')"
      ]
     },
     "execution_count": 44,
     "metadata": {},
     "output_type": "execute_result"
    }
   ],
   "source": [
    "cond_cols = df.filter(regex=\"^cond_*\").columns\n",
    "cond_cols"
   ]
  },
  {
   "cell_type": "code",
   "execution_count": 45,
   "metadata": {},
   "outputs": [],
   "source": [
    "# create column number of conditions activated\n",
    "df[\"cant_cond\"] = (df[cond_cols] > 0).sum(axis=1)\n",
    "df_val[\"cant_cond\"] = (df_val[cond_cols] > 0).sum(axis=1)"
   ]
  },
  {
   "cell_type": "code",
   "execution_count": 46,
   "metadata": {},
   "outputs": [
    {
     "data": {
      "text/plain": [
       "0    439863\n",
       "1     35419\n",
       "2      1377\n",
       "3        42\n",
       "Name: cant_cond, dtype: int64"
      ]
     },
     "execution_count": 46,
     "metadata": {},
     "output_type": "execute_result"
    }
   ],
   "source": [
    "df[\"cant_cond\"].value_counts()"
   ]
  },
  {
   "cell_type": "code",
   "execution_count": 47,
   "metadata": {},
   "outputs": [
    {
     "data": {
      "text/plain": [
       "False    476428\n",
       "True        273\n",
       "Name: EXISTE_FRAUDE, dtype: int64"
      ]
     },
     "execution_count": 47,
     "metadata": {},
     "output_type": "execute_result"
    }
   ],
   "source": [
    "df[\"EXISTE_FRAUDE\"].value_counts()"
   ]
  },
  {
   "cell_type": "code",
   "execution_count": 48,
   "metadata": {},
   "outputs": [
    {
     "data": {
      "text/plain": [
       "(Timestamp('2018-01-01 00:00:00'), Timestamp('2019-01-31 00:00:00'))"
      ]
     },
     "execution_count": 48,
     "metadata": {},
     "output_type": "execute_result"
    }
   ],
   "source": [
    "df[\"FECHA_SINI\"].min(), df[\"FECHA_SINI\"].max()"
   ]
  },
  {
   "cell_type": "code",
   "execution_count": 49,
   "metadata": {},
   "outputs": [
    {
     "data": {
      "text/plain": [
       "(Timestamp('2019-02-01 00:00:00'), Timestamp('2019-03-31 00:00:00'))"
      ]
     },
     "execution_count": 49,
     "metadata": {},
     "output_type": "execute_result"
    }
   ],
   "source": [
    "df_val[\"FECHA_SINI\"].min(), df_val[\"FECHA_SINI\"].max()"
   ]
  },
  {
   "cell_type": "code",
   "execution_count": 50,
   "metadata": {},
   "outputs": [
    {
     "data": {
      "text/html": [
       "<div>\n",
       "<style scoped>\n",
       "    .dataframe tbody tr th:only-of-type {\n",
       "        vertical-align: middle;\n",
       "    }\n",
       "\n",
       "    .dataframe tbody tr th {\n",
       "        vertical-align: top;\n",
       "    }\n",
       "\n",
       "    .dataframe thead tr th {\n",
       "        text-align: left;\n",
       "    }\n",
       "\n",
       "    .dataframe thead tr:last-of-type th {\n",
       "        text-align: right;\n",
       "    }\n",
       "</style>\n",
       "<table border=\"1\" class=\"dataframe\">\n",
       "  <thead>\n",
       "    <tr>\n",
       "      <th>EXISTE_FRAUDE</th>\n",
       "      <th colspan=\"5\" halign=\"left\">False</th>\n",
       "      <th colspan=\"5\" halign=\"left\">True</th>\n",
       "      <th>All</th>\n",
       "    </tr>\n",
       "    <tr>\n",
       "      <th>TIPO_EXPED</th>\n",
       "      <th>0</th>\n",
       "      <th>1</th>\n",
       "      <th>2</th>\n",
       "      <th>3</th>\n",
       "      <th>4</th>\n",
       "      <th>0</th>\n",
       "      <th>1</th>\n",
       "      <th>2</th>\n",
       "      <th>3</th>\n",
       "      <th>4</th>\n",
       "      <th></th>\n",
       "    </tr>\n",
       "    <tr>\n",
       "      <th>FECHA_SINI</th>\n",
       "      <th></th>\n",
       "      <th></th>\n",
       "      <th></th>\n",
       "      <th></th>\n",
       "      <th></th>\n",
       "      <th></th>\n",
       "      <th></th>\n",
       "      <th></th>\n",
       "      <th></th>\n",
       "      <th></th>\n",
       "      <th></th>\n",
       "    </tr>\n",
       "  </thead>\n",
       "  <tbody>\n",
       "    <tr>\n",
       "      <th>1</th>\n",
       "      <td>359</td>\n",
       "      <td>5153</td>\n",
       "      <td>29449</td>\n",
       "      <td>30453</td>\n",
       "      <td>1025</td>\n",
       "      <td>0</td>\n",
       "      <td>22</td>\n",
       "      <td>6</td>\n",
       "      <td>4</td>\n",
       "      <td>6</td>\n",
       "      <td>66477</td>\n",
       "    </tr>\n",
       "    <tr>\n",
       "      <th>2</th>\n",
       "      <td>223</td>\n",
       "      <td>2801</td>\n",
       "      <td>14765</td>\n",
       "      <td>13112</td>\n",
       "      <td>445</td>\n",
       "      <td>1</td>\n",
       "      <td>11</td>\n",
       "      <td>4</td>\n",
       "      <td>4</td>\n",
       "      <td>1</td>\n",
       "      <td>31367</td>\n",
       "    </tr>\n",
       "    <tr>\n",
       "      <th>3</th>\n",
       "      <td>238</td>\n",
       "      <td>3644</td>\n",
       "      <td>18569</td>\n",
       "      <td>26327</td>\n",
       "      <td>686</td>\n",
       "      <td>0</td>\n",
       "      <td>13</td>\n",
       "      <td>7</td>\n",
       "      <td>4</td>\n",
       "      <td>3</td>\n",
       "      <td>49491</td>\n",
       "    </tr>\n",
       "    <tr>\n",
       "      <th>4</th>\n",
       "      <td>235</td>\n",
       "      <td>3229</td>\n",
       "      <td>17569</td>\n",
       "      <td>15462</td>\n",
       "      <td>476</td>\n",
       "      <td>2</td>\n",
       "      <td>12</td>\n",
       "      <td>7</td>\n",
       "      <td>4</td>\n",
       "      <td>2</td>\n",
       "      <td>36998</td>\n",
       "    </tr>\n",
       "    <tr>\n",
       "      <th>5</th>\n",
       "      <td>200</td>\n",
       "      <td>3372</td>\n",
       "      <td>18843</td>\n",
       "      <td>14489</td>\n",
       "      <td>424</td>\n",
       "      <td>1</td>\n",
       "      <td>19</td>\n",
       "      <td>3</td>\n",
       "      <td>5</td>\n",
       "      <td>3</td>\n",
       "      <td>37359</td>\n",
       "    </tr>\n",
       "    <tr>\n",
       "      <th>6</th>\n",
       "      <td>199</td>\n",
       "      <td>3273</td>\n",
       "      <td>18405</td>\n",
       "      <td>13383</td>\n",
       "      <td>468</td>\n",
       "      <td>1</td>\n",
       "      <td>6</td>\n",
       "      <td>9</td>\n",
       "      <td>3</td>\n",
       "      <td>2</td>\n",
       "      <td>35749</td>\n",
       "    </tr>\n",
       "    <tr>\n",
       "      <th>7</th>\n",
       "      <td>176</td>\n",
       "      <td>2919</td>\n",
       "      <td>18272</td>\n",
       "      <td>14154</td>\n",
       "      <td>491</td>\n",
       "      <td>0</td>\n",
       "      <td>17</td>\n",
       "      <td>5</td>\n",
       "      <td>4</td>\n",
       "      <td>3</td>\n",
       "      <td>36041</td>\n",
       "    </tr>\n",
       "    <tr>\n",
       "      <th>8</th>\n",
       "      <td>172</td>\n",
       "      <td>3244</td>\n",
       "      <td>18890</td>\n",
       "      <td>14818</td>\n",
       "      <td>458</td>\n",
       "      <td>1</td>\n",
       "      <td>9</td>\n",
       "      <td>2</td>\n",
       "      <td>4</td>\n",
       "      <td>1</td>\n",
       "      <td>37599</td>\n",
       "    </tr>\n",
       "    <tr>\n",
       "      <th>9</th>\n",
       "      <td>218</td>\n",
       "      <td>2941</td>\n",
       "      <td>16992</td>\n",
       "      <td>14622</td>\n",
       "      <td>498</td>\n",
       "      <td>1</td>\n",
       "      <td>11</td>\n",
       "      <td>5</td>\n",
       "      <td>4</td>\n",
       "      <td>1</td>\n",
       "      <td>35293</td>\n",
       "    </tr>\n",
       "    <tr>\n",
       "      <th>10</th>\n",
       "      <td>206</td>\n",
       "      <td>3221</td>\n",
       "      <td>18225</td>\n",
       "      <td>16072</td>\n",
       "      <td>489</td>\n",
       "      <td>1</td>\n",
       "      <td>5</td>\n",
       "      <td>2</td>\n",
       "      <td>5</td>\n",
       "      <td>1</td>\n",
       "      <td>38227</td>\n",
       "    </tr>\n",
       "    <tr>\n",
       "      <th>11</th>\n",
       "      <td>195</td>\n",
       "      <td>2904</td>\n",
       "      <td>16956</td>\n",
       "      <td>14431</td>\n",
       "      <td>485</td>\n",
       "      <td>0</td>\n",
       "      <td>3</td>\n",
       "      <td>2</td>\n",
       "      <td>5</td>\n",
       "      <td>0</td>\n",
       "      <td>34981</td>\n",
       "    </tr>\n",
       "    <tr>\n",
       "      <th>12</th>\n",
       "      <td>230</td>\n",
       "      <td>2795</td>\n",
       "      <td>17898</td>\n",
       "      <td>15595</td>\n",
       "      <td>585</td>\n",
       "      <td>1</td>\n",
       "      <td>3</td>\n",
       "      <td>3</td>\n",
       "      <td>6</td>\n",
       "      <td>3</td>\n",
       "      <td>37119</td>\n",
       "    </tr>\n",
       "    <tr>\n",
       "      <th>All</th>\n",
       "      <td>2651</td>\n",
       "      <td>39496</td>\n",
       "      <td>224833</td>\n",
       "      <td>202918</td>\n",
       "      <td>6530</td>\n",
       "      <td>9</td>\n",
       "      <td>131</td>\n",
       "      <td>55</td>\n",
       "      <td>52</td>\n",
       "      <td>26</td>\n",
       "      <td>476701</td>\n",
       "    </tr>\n",
       "  </tbody>\n",
       "</table>\n",
       "</div>"
      ],
      "text/plain": [
       "EXISTE_FRAUDE False                              True                      All\n",
       "TIPO_EXPED        0      1       2       3     4    0    1   2   3   4        \n",
       "FECHA_SINI                                                                    \n",
       "1               359   5153   29449   30453  1025    0   22   6   4   6   66477\n",
       "2               223   2801   14765   13112   445    1   11   4   4   1   31367\n",
       "3               238   3644   18569   26327   686    0   13   7   4   3   49491\n",
       "4               235   3229   17569   15462   476    2   12   7   4   2   36998\n",
       "5               200   3372   18843   14489   424    1   19   3   5   3   37359\n",
       "6               199   3273   18405   13383   468    1    6   9   3   2   35749\n",
       "7               176   2919   18272   14154   491    0   17   5   4   3   36041\n",
       "8               172   3244   18890   14818   458    1    9   2   4   1   37599\n",
       "9               218   2941   16992   14622   498    1   11   5   4   1   35293\n",
       "10              206   3221   18225   16072   489    1    5   2   5   1   38227\n",
       "11              195   2904   16956   14431   485    0    3   2   5   0   34981\n",
       "12              230   2795   17898   15595   585    1    3   3   6   3   37119\n",
       "All            2651  39496  224833  202918  6530    9  131  55  52  26  476701"
      ]
     },
     "execution_count": 50,
     "metadata": {},
     "output_type": "execute_result"
    }
   ],
   "source": [
    "pd.crosstab(df[\"FECHA_SINI\"].dt.month, [df[\"EXISTE_FRAUDE\"], df[\"TIPO_EXPED\"]], margins=True)"
   ]
  },
  {
   "cell_type": "code",
   "execution_count": 51,
   "metadata": {},
   "outputs": [
    {
     "name": "stdout",
     "output_type": "stream",
     "text": [
      "2018-01-01 00:00:00 2018-09-30 00:00:00\n",
      "2018-10-01 00:00:00 2019-01-31 00:00:00\n"
     ]
    }
   ],
   "source": [
    "# using only last year\n",
    "split_date = \"2018-10-01\"\n",
    "df_train = df[df[\"FECHA_SINI\"] < split_date].copy()\n",
    "df_opt = df[df[\"FECHA_SINI\"] >= split_date].copy()\n",
    "print(df_train[\"FECHA_SINI\"].min(), df_train[\"FECHA_SINI\"].max())\n",
    "print(df_opt[\"FECHA_SINI\"].min(), df_opt[\"FECHA_SINI\"].max())"
   ]
  },
  {
   "cell_type": "code",
   "execution_count": 52,
   "metadata": {},
   "outputs": [
    {
     "data": {
      "text/plain": [
       "(False    0.999319\n",
       " True     0.000681\n",
       " Name: EXISTE_FRAUDE, dtype: float64, False    0.999683\n",
       " True     0.000317\n",
       " Name: EXISTE_FRAUDE, dtype: float64)"
      ]
     },
     "execution_count": 52,
     "metadata": {},
     "output_type": "execute_result"
    }
   ],
   "source": [
    "df_train[\"EXISTE_FRAUDE\"].value_counts(normalize=True), df_opt[\"EXISTE_FRAUDE\"].value_counts(normalize=True)"
   ]
  },
  {
   "cell_type": "code",
   "execution_count": 53,
   "metadata": {},
   "outputs": [
    {
     "data": {
      "text/plain": [
       "(0.7020354477964175, 0.29796455220358253)"
      ]
     },
     "execution_count": 53,
     "metadata": {},
     "output_type": "execute_result"
    }
   ],
   "source": [
    "full_len = df_train.shape[0] + df_opt.shape[0]\n",
    "df_train.shape[0] / full_len, df_opt.shape[0] / full_len"
   ]
  },
  {
   "cell_type": "code",
   "execution_count": 54,
   "metadata": {},
   "outputs": [],
   "source": [
    "# dropping date FEC_ACT_cond\n",
    "to_drop = [\"FECHA_SINI\"]\n",
    "df_train.drop(to_drop, axis=1, inplace=True)\n",
    "df_opt.drop(to_drop, axis=1, inplace=True)\n",
    "df_val.drop(to_drop, axis=1, inplace=True)"
   ]
  },
  {
   "cell_type": "markdown",
   "metadata": {},
   "source": [
    "## split X, y dataset"
   ]
  },
  {
   "cell_type": "code",
   "execution_count": 55,
   "metadata": {},
   "outputs": [],
   "source": [
    "# to_drop = [\"COD_FRAUDE\", \"EXISTE_FRAUDE\", \"EXISTE_INHABILITAR\"]\n",
    "# already removed : \"EXISTE_INHABILITAR\", \"COD_ACT_BENEF\",\n",
    "to_drop = [\"EXISTE_FRAUDE\", \"NUM_SECU_EXPED\", \"NUM_SECU_POL\", \"EXISTE_INVEST\"] # , \"es_gte_5\"\n",
    "\n",
    "# training\n",
    "X_train = df_train.drop(to_drop, axis=1)\n",
    "y_train = df_train[\"EXISTE_FRAUDE\"]\n",
    "# validation\n",
    "X_opt = df_opt.drop(to_drop, axis=1)\n",
    "y_opt = df_opt[\"EXISTE_FRAUDE\"]\n",
    "# validation\n",
    "X_val = df_val.drop(to_drop, axis=1)\n",
    "y_val = df_val[\"EXISTE_FRAUDE\"]"
   ]
  },
  {
   "cell_type": "code",
   "execution_count": 56,
   "metadata": {},
   "outputs": [],
   "source": [
    "X_full_train = df.drop(to_drop, axis=1)\n",
    "X_full_train.drop(columns=[\"FECHA_SINI\"], inplace=True)\n",
    "y_full_train = df[\"EXISTE_FRAUDE\"]"
   ]
  },
  {
   "cell_type": "code",
   "execution_count": 57,
   "metadata": {},
   "outputs": [
    {
     "name": "stdout",
     "output_type": "stream",
     "text": [
      "dif between X_train & X_opt: set()\n",
      "dif between X_val & X_opt: set()\n"
     ]
    }
   ],
   "source": [
    "# checking if all have the same inputs columns\n",
    "print(\"dif between X_train & X_opt: {}\".format(set(X_train.columns) - set(X_opt.columns)))\n",
    "print(\"dif between X_val & X_opt: {}\".format(set(X_val.columns) - set(X_opt.columns)))"
   ]
  },
  {
   "cell_type": "code",
   "execution_count": 58,
   "metadata": {},
   "outputs": [
    {
     "name": "stdout",
     "output_type": "stream",
     "text": [
      "334661, 142040\n",
      "334661, 142040\n"
     ]
    }
   ],
   "source": [
    "print(f\"{len(X_train)}, {len(X_opt)}\")\n",
    "print(f\"{len(y_train)}, {len(y_opt)}\")"
   ]
  },
  {
   "cell_type": "code",
   "execution_count": 59,
   "metadata": {},
   "outputs": [
    {
     "data": {
      "text/plain": [
       "(0.0006812864361249144, 0.00031681216558715854)"
      ]
     },
     "execution_count": 59,
     "metadata": {},
     "output_type": "execute_result"
    }
   ],
   "source": [
    "y_train.sum() / len(y_train), y_opt.sum() / len(y_opt)"
   ]
  },
  {
   "cell_type": "code",
   "execution_count": 60,
   "metadata": {},
   "outputs": [
    {
     "data": {
      "text/plain": [
       "False    334433\n",
       "True        228\n",
       "Name: EXISTE_FRAUDE, dtype: int64"
      ]
     },
     "execution_count": 60,
     "metadata": {},
     "output_type": "execute_result"
    }
   ],
   "source": [
    "y_train.value_counts(dropna=False)"
   ]
  },
  {
   "cell_type": "markdown",
   "metadata": {},
   "source": [
    "## Defining grid configuration"
   ]
  },
  {
   "cell_type": "code",
   "execution_count": 28,
   "metadata": {},
   "outputs": [],
   "source": [
    "from sklearn.utils.class_weight import compute_class_weight"
   ]
  },
  {
   "cell_type": "code",
   "execution_count": 29,
   "metadata": {},
   "outputs": [
    {
     "data": {
      "text/plain": [
       "(array([5.00286507e-01, 8.73078755e+02]), 1745.1575091575094)"
      ]
     },
     "execution_count": 29,
     "metadata": {},
     "output_type": "execute_result"
    }
   ],
   "source": [
    "weights = compute_class_weight(\"balanced\", df[\"EXISTE_FRAUDE\"].unique(), df[\"EXISTE_FRAUDE\"])\n",
    "weights, weights[1] / weights[0]"
   ]
  },
  {
   "cell_type": "code",
   "execution_count": 61,
   "metadata": {},
   "outputs": [
    {
     "data": {
      "text/plain": [
       "[{0: 1, 1: 345}]"
      ]
     },
     "execution_count": 61,
     "metadata": {},
     "output_type": "execute_result"
    }
   ],
   "source": [
    "# configs\n",
    "list_weights = [345] # , 350\n",
    "[{0:1, 1:l} for l in list_weights]"
   ]
  },
  {
   "cell_type": "markdown",
   "metadata": {
    "heading_collapsed": true
   },
   "source": [
    "### VERSION SIMPLE"
   ]
  },
  {
   "cell_type": "code",
   "execution_count": 37,
   "metadata": {
    "hidden": true
   },
   "outputs": [
    {
     "data": {
      "text/plain": [
       "[{'n_estimators': [40],\n",
       "  'min_samples_leaf': [3, 5, 7],\n",
       "  'max_depth': [10, 40],\n",
       "  'max_features': ['sqrt'],\n",
       "  'class_weight': [{0: 1, 1: 120}, {0: 1, 1: 350}],\n",
       "  'bootstrap': [False, True]},\n",
       " {'n_estimators': [40],\n",
       "  'min_samples_leaf': [3, 5, 7],\n",
       "  'max_depth': [10, 40],\n",
       "  'max_features': ['sqrt'],\n",
       "  'class_weight': [{0: 1, 1: 120}, {0: 1, 1: 350}],\n",
       "  'bootstrap': [False, True]},\n",
       " {'n_estimators': [60, 100],\n",
       "  'learning_rate': [1.0, 0.1, 0.01],\n",
       "  'scale_pos_weight': [120, 350]},\n",
       " {'n_estimators': [60, 100],\n",
       "  'learning_rate': [1.0, 0.1, 0.01],\n",
       "  'class_weight': [{0: 1, 1: 120}, {0: 1, 1: 350}]}]"
      ]
     },
     "execution_count": 37,
     "metadata": {},
     "output_type": "execute_result"
    }
   ],
   "source": [
    "rf_params = {\n",
    "    \"n_estimators\": [40],\n",
    "    \"min_samples_leaf\": [3, 5, 7],\n",
    "    \"max_depth\": [10, 40], # 10,\n",
    "    \"max_features\": ['sqrt'],  # , None\n",
    "    \"class_weight\": [{0:1, 1:l} for l in list_weights],\n",
    "    \"bootstrap\": [False, True],\n",
    "}\n",
    "param_configs = []\n",
    "param_configs.append(rf_params)\n",
    "param_configs.append(rf_params)\n",
    "\n",
    "dt_params = {\n",
    "    \"min_samples_leaf\": [3, 5, 7],\n",
    "    \"class_weight\": [{0:1, 1:l} for l in list_weights],\n",
    "}\n",
    "# param_configs.append(dt_params)\n",
    "\n",
    "\n",
    "gbt_params = {\n",
    "    'n_estimators': [60, 100], \n",
    "#    \"min_samples_leaf\": [3, 5, 7],\n",
    "#    \"max_depth\": [10, 40], # 10,\n",
    "#    'min_samples_split': [5, 7],\n",
    "    'learning_rate': [1.0, 0.1, 0.01],\n",
    "#    'subsample': [0.5, 1],\n",
    "#    \"colsample_bynode\": [0.5 , 1],\n",
    "    \"scale_pos_weight\": list_weights,\n",
    "}\n",
    "param_configs.append(gbt_params)\n",
    "\n",
    "\n",
    "lgbm_params = {\n",
    "    'n_estimators': [60, 100], \n",
    "#    'num_leaves': [10, 20, 50],\n",
    "#    'max_depth': [5, 10, 30],\n",
    "#    'min_child_samples': [3, 5, 7],\n",
    "    'learning_rate': [1.0, 0.1, 0.01],\n",
    "#    'subsample': [0.5, 1],\n",
    "#    \"colsample_bytree\": [0.5 , 1],\n",
    "    \"class_weight\": [{0:1, 1:l} for l in list_weights],\n",
    "}\n",
    "\n",
    "param_configs.append(lgbm_params)\n",
    "param_configs"
   ]
  },
  {
   "cell_type": "markdown",
   "metadata": {},
   "source": [
    "### VERSION COMPLEJA"
   ]
  },
  {
   "cell_type": "code",
   "execution_count": 62,
   "metadata": {},
   "outputs": [
    {
     "data": {
      "text/plain": [
       "[{'n_estimators': [60, 200],\n",
       "  'max_depth': [15, 40, 5],\n",
       "  'learning_rate': [1.0, 0.1, 0.05, 0.01],\n",
       "  'colsample_bytree': [0.5, 1.0],\n",
       "  'scale_pos_weight': [345]},\n",
       " {'n_estimators': [60, 200],\n",
       "  'max_depth': [15, 40, -1],\n",
       "  'min_child_samples': [3, 5, 7, 11],\n",
       "  'learning_rate': [1.0, 0.1, 0.05, 0.01],\n",
       "  'colsample_bytree': [0.5, 1.0],\n",
       "  'class_weight': [{0: 1, 1: 345}]}]"
      ]
     },
     "execution_count": 62,
     "metadata": {},
     "output_type": "execute_result"
    }
   ],
   "source": [
    "n_estimators = [60, 200]\n",
    "\n",
    "rf_params = {\n",
    "    \"n_estimators\": n_estimators,\n",
    "    \"min_samples_leaf\": [3, 5, 7],\n",
    "    \"max_depth\": [10, 40], # 10,\n",
    "    \"max_features\": ['sqrt', None],\n",
    "    \"class_weight\": [{0:1, 1:l} for l in list_weights],\n",
    "    \"bootstrap\": [False, True],\n",
    "}\n",
    "param_configs = []\n",
    "# param_configs.append(rf_params)\n",
    "# param_configs.append(rf_params)\n",
    "\n",
    "dt_params = {\n",
    "    \"min_samples_leaf\": [3, 5, 7],\n",
    "    \"class_weight\": [{0:1, 1:l} for l in list_weights],\n",
    "}\n",
    "# param_configs.append(dt_params)\n",
    "\n",
    "\n",
    "gbt_params = {\n",
    "    'n_estimators': n_estimators, \n",
    "    \"max_depth\": [15, 40, 5],\n",
    "    'learning_rate': [1.0, 0.1, 0.05, 0.01],\n",
    "#    'subsample': [0.5, 1.0],\n",
    "    \"colsample_bytree\": [0.5 , 1.0],\n",
    "    \"scale_pos_weight\": list_weights,\n",
    "}\n",
    "param_configs.append(gbt_params)\n",
    "\n",
    "\n",
    "lgbm_params = {\n",
    "    'n_estimators': n_estimators, \n",
    "#    'num_leaves': [10, 20, 50],\n",
    "    \"max_depth\": [15, 40, -1],\n",
    "    'min_child_samples': [3, 5, 7, 11],\n",
    "    'learning_rate': [1.0, 0.1, 0.05, 0.01],\n",
    "#    'subsample': [0.5, 1.0],\n",
    "    \"colsample_bytree\": [0.5 , 1.0],\n",
    "    \"class_weight\": [{0:1, 1:l} for l in list_weights],\n",
    "}\n",
    "param_configs.append(lgbm_params)\n",
    "param_configs"
   ]
  },
  {
   "cell_type": "markdown",
   "metadata": {},
   "source": [
    "### Optimizing"
   ]
  },
  {
   "cell_type": "code",
   "execution_count": 63,
   "metadata": {},
   "outputs": [
    {
     "data": {
      "text/plain": [
       "[XGBClassifier(base_score=0.5, booster='gbtree', colsample_bylevel=1,\n",
       "               colsample_bytree=1, gamma=0, learning_rate=0.1, max_delta_step=0,\n",
       "               max_depth=3, min_child_weight=1, missing=None, n_estimators=100,\n",
       "               n_jobs=-1, nthread=None, objective='binary:logistic',\n",
       "               random_state=42, reg_alpha=0, reg_lambda=1, scale_pos_weight=1,\n",
       "               seed=None, silent=True, subsample=1),\n",
       " LGBMClassifier(boosting_type='gbdt', class_weight=None, colsample_bytree=1.0,\n",
       "                importance_type='split', learning_rate=0.1, max_depth=-1,\n",
       "                min_child_samples=20, min_child_weight=0.001, min_split_gain=0.0,\n",
       "                n_estimators=100, n_jobs=-1, num_leaves=31, objective=None,\n",
       "                random_state=42, reg_alpha=0.0, reg_lambda=0.0, silent=False,\n",
       "                subsample=1.0, subsample_for_bin=200000, subsample_freq=0)]"
      ]
     },
     "execution_count": 63,
     "metadata": {},
     "output_type": "execute_result"
    }
   ],
   "source": [
    "# using without grid with list of models\n",
    "rfs = []\n",
    "# rfs.append(RandomForestClassifier(random_state=random_state, n_jobs=-1))\n",
    "# rfs.append(ExtraTreesClassifier(random_state=random_state, n_jobs=-1))\n",
    "# rfs.append(DecisionTreeClassifier(random_state=random_state))\n",
    "rfs.append(XGBClassifier(random_state=random_state, n_jobs=-1))\n",
    "rfs.append(LGBMClassifier(random_state=random_state, silent=False, n_jobs=-1))\n",
    "rfs"
   ]
  },
  {
   "cell_type": "code",
   "execution_count": 64,
   "metadata": {
    "scrolled": true
   },
   "outputs": [
    {
     "name": "stdout",
     "output_type": "stream",
     "text": [
      "Model 0: XGBClassifier(base_score=0.5, booster='gbtree', colsample_bylevel=1,\n",
      "              colsample_bytree=1, gamma=0, learning_rate=0.1, max_delta_step=0,\n",
      "              max_depth=3, min_child_weight=1, missing=None, n_estimators=100,\n",
      "              n_jobs=-1, nthread=None, objective='binary:logistic',\n",
      "              random_state=42, reg_alpha=0, reg_lambda=1, scale_pos_weight=1,\n",
      "              seed=None, silent=True, subsample=1)\n",
      "Comparing 48 parameter setting(s) using 1 CPU thread(s) ( 48 job(s) per thread ).\n",
      "Best score: 0.17777777777777778\n",
      "Best config: {'colsample_bytree': 1.0, 'learning_rate': 1.0, 'max_depth': 5, 'n_estimators': 200, 'scale_pos_weight': 345}\n",
      "*-*-*-*-*-*-*-*-*-*-*-*-*-*-*-*-*-*-*-*-*-*-*-*-*-*-*-*-*-*-\n",
      "Model 1: LGBMClassifier(boosting_type='gbdt', class_weight=None, colsample_bytree=1.0,\n",
      "               importance_type='split', learning_rate=0.1, max_depth=-1,\n",
      "               min_child_samples=20, min_child_weight=0.001, min_split_gain=0.0,\n",
      "               n_estimators=100, n_jobs=-1, num_leaves=31, objective=None,\n",
      "               random_state=42, reg_alpha=0.0, reg_lambda=0.0, silent=False,\n",
      "               subsample=1.0, subsample_for_bin=200000, subsample_freq=0)\n",
      "Comparing 192 parameter setting(s) using 1 CPU thread(s) ( 192 job(s) per thread ).\n",
      "Best score: 0.7111111111111111\n",
      "Best config: {'class_weight': {0: 1, 1: 345}, 'colsample_bytree': 0.5, 'learning_rate': 1.0, 'max_depth': 15, 'min_child_samples': 3, 'n_estimators': 60}\n",
      "*-*-*-*-*-*-*-*-*-*-*-*-*-*-*-*-*-*-*-*-*-*-*-*-*-*-*-*-*-*-\n"
     ]
    }
   ],
   "source": [
    "# TO avoid random sampling,\n",
    "# WE USE GridSearch of hypopt\n",
    "metric = \"recall\"\n",
    "best_models_ = []\n",
    "best_scores_ = []\n",
    "for counter, rf in enumerate(rfs):\n",
    "    print(f\"Model {counter}: {rf}\")\n",
    "    clf = GridSearch(rf, param_grid=param_configs[counter], seed=random_state, num_threads=1)\n",
    "    clf.fit(X_train, y_train, X_val=X_opt, y_val=y_opt, scoring=metric, verbose=True)\n",
    "    print(f\"Best score: {clf.best_score}\")\n",
    "    print(f\"Best config: {clf.best_params}\")\n",
    "    best_models_.append(copy(clf))\n",
    "    best_scores_.append(clf.best_score)\n",
    "    print(\"*-*-*-\" * 10)"
   ]
  },
  {
   "cell_type": "code",
   "execution_count": 65,
   "metadata": {},
   "outputs": [
    {
     "name": "stdout",
     "output_type": "stream",
     "text": [
      "Best Config:\n",
      "GridSearch(cv_folds=3,\n",
      "           model=XGBClassifier(base_score=0.5, booster='gbtree',\n",
      "                               colsample_bylevel=1, colsample_bytree=1.0,\n",
      "                               gamma=0, learning_rate=0.1, max_delta_step=0,\n",
      "                               max_depth=5, min_child_weight=1, missing=nan,\n",
      "                               n_estimators=200, n_jobs=-1, nthread=None,\n",
      "                               objective='binary:logistic', random_state=0,\n",
      "                               reg_alpha=0, reg_lambda=1, scale_pos_weight=345,\n",
      "                               seed=0, silent=True, subsample=1),\n",
      "           num_threads=1,\n",
      "           param_grid={'colsample_bytree': [0.5, 1.0],\n",
      "                       'learning_rate': [1.0, 0.1, 0.05, 0.01],\n",
      "                       'max_depth': [15, 40, 5], 'n_estimators': [60, 200],\n",
      "                       'scale_pos_weight': [345]},\n",
      "           seed=42) 0.17777777777777778\n",
      "GridSearch(cv_folds=3,\n",
      "           model=LGBMClassifier(boosting_type='gbdt',\n",
      "                                class_weight={0: 1, 1: 345},\n",
      "                                colsample_bytree=0.5, importance_type='split',\n",
      "                                learning_rate=0.1, max_depth=-1,\n",
      "                                min_child_samples=11, min_child_weight=0.001,\n",
      "                                min_split_gain=0.0, n_estimators=200, n_jobs=-1,\n",
      "                                num_leaves=31, objective=None, random_state=0,\n",
      "                                reg_alpha=0.0, reg_lambda=0.0, silent=False,\n",
      "                                subsample=1.0, subsample_for_bin=200000,\n",
      "                                subsample_freq=0),\n",
      "           num_threads=1,\n",
      "           param_grid={'class_weight': [{0: 1, 1: 345}],\n",
      "                       'colsample_bytree': [0.5, 1.0],\n",
      "                       'learning_rate': [1.0, 0.1, 0.05, 0.01],\n",
      "                       'max_depth': [15, 40, -1],\n",
      "                       'min_child_samples': [3, 5, 7, 11],\n",
      "                       'n_estimators': [60, 200]},\n",
      "           seed=42) 0.7111111111111111\n"
     ]
    }
   ],
   "source": [
    "print(\"Best Config:\")\n",
    "for m, s in zip(best_models_, best_scores_):\n",
    "    print(m, s)"
   ]
  },
  {
   "cell_type": "code",
   "execution_count": 66,
   "metadata": {},
   "outputs": [],
   "source": [
    "# select best grid\n",
    "best_model = best_models_[np.argmax(best_scores_)]\n",
    "\n",
    "# select by hand\n",
    "# best_model = best_models_[2]"
   ]
  },
  {
   "cell_type": "code",
   "execution_count": 67,
   "metadata": {},
   "outputs": [
    {
     "name": "stdout",
     "output_type": "stream",
     "text": [
      "Grid scores:\n",
      "0.711 for {'class_weight': {0: 1, 1: 345}, 'colsample_bytree': 0.5, 'learning_rate': 1.0, 'max_depth': 15, 'min_child_samples': 3, 'n_estimators': 60}\n",
      "0.244 for {'class_weight': {0: 1, 1: 345}, 'colsample_bytree': 1.0, 'learning_rate': 1.0, 'max_depth': 40, 'min_child_samples': 7, 'n_estimators': 200}\n",
      "0.244 for {'class_weight': {0: 1, 1: 345}, 'colsample_bytree': 0.5, 'learning_rate': 1.0, 'max_depth': -1, 'min_child_samples': 5, 'n_estimators': 200}\n",
      "0.222 for {'class_weight': {0: 1, 1: 345}, 'colsample_bytree': 1.0, 'learning_rate': 1.0, 'max_depth': 15, 'min_child_samples': 11, 'n_estimators': 200}\n",
      "0.200 for {'class_weight': {0: 1, 1: 345}, 'colsample_bytree': 0.5, 'learning_rate': 1.0, 'max_depth': 40, 'min_child_samples': 11, 'n_estimators': 200}\n",
      "0.178 for {'class_weight': {0: 1, 1: 345}, 'colsample_bytree': 1.0, 'learning_rate': 1.0, 'max_depth': 40, 'min_child_samples': 3, 'n_estimators': 200}\n",
      "0.178 for {'class_weight': {0: 1, 1: 345}, 'colsample_bytree': 1.0, 'learning_rate': 1.0, 'max_depth': 40, 'min_child_samples': 11, 'n_estimators': 200}\n",
      "0.178 for {'class_weight': {0: 1, 1: 345}, 'colsample_bytree': 0.5, 'learning_rate': 1.0, 'max_depth': -1, 'min_child_samples': 11, 'n_estimators': 200}\n",
      "0.178 for {'class_weight': {0: 1, 1: 345}, 'colsample_bytree': 0.5, 'learning_rate': 1.0, 'max_depth': 40, 'min_child_samples': 5, 'n_estimators': 200}\n",
      "0.178 for {'class_weight': {0: 1, 1: 345}, 'colsample_bytree': 0.5, 'learning_rate': 1.0, 'max_depth': 40, 'min_child_samples': 3, 'n_estimators': 200}\n",
      "0.156 for {'class_weight': {0: 1, 1: 345}, 'colsample_bytree': 0.5, 'learning_rate': 1.0, 'max_depth': 15, 'min_child_samples': 7, 'n_estimators': 200}\n",
      "0.133 for {'class_weight': {0: 1, 1: 345}, 'colsample_bytree': 0.5, 'learning_rate': 1.0, 'max_depth': 15, 'min_child_samples': 11, 'n_estimators': 200}\n",
      "0.133 for {'class_weight': {0: 1, 1: 345}, 'colsample_bytree': 1.0, 'learning_rate': 1.0, 'max_depth': 40, 'min_child_samples': 5, 'n_estimators': 200}\n",
      "0.133 for {'class_weight': {0: 1, 1: 345}, 'colsample_bytree': 1.0, 'learning_rate': 1.0, 'max_depth': -1, 'min_child_samples': 11, 'n_estimators': 200}\n",
      "0.133 for {'class_weight': {0: 1, 1: 345}, 'colsample_bytree': 1.0, 'learning_rate': 1.0, 'max_depth': -1, 'min_child_samples': 3, 'n_estimators': 200}\n",
      "0.133 for {'class_weight': {0: 1, 1: 345}, 'colsample_bytree': 1.0, 'learning_rate': 1.0, 'max_depth': -1, 'min_child_samples': 7, 'n_estimators': 200}\n",
      "0.111 for {'class_weight': {0: 1, 1: 345}, 'colsample_bytree': 0.5, 'learning_rate': 0.05, 'max_depth': 40, 'min_child_samples': 3, 'n_estimators': 60}\n",
      "0.111 for {'class_weight': {0: 1, 1: 345}, 'colsample_bytree': 0.5, 'learning_rate': 0.05, 'max_depth': 40, 'min_child_samples': 5, 'n_estimators': 60}\n",
      "0.111 for {'class_weight': {0: 1, 1: 345}, 'colsample_bytree': 0.5, 'learning_rate': 1.0, 'max_depth': 15, 'min_child_samples': 3, 'n_estimators': 200}\n",
      "0.111 for {'class_weight': {0: 1, 1: 345}, 'colsample_bytree': 0.5, 'learning_rate': 0.05, 'max_depth': -1, 'min_child_samples': 5, 'n_estimators': 60}\n",
      "0.111 for {'class_weight': {0: 1, 1: 345}, 'colsample_bytree': 0.5, 'learning_rate': 0.05, 'max_depth': -1, 'min_child_samples': 3, 'n_estimators': 60}\n",
      "0.089 for {'class_weight': {0: 1, 1: 345}, 'colsample_bytree': 1.0, 'learning_rate': 0.05, 'max_depth': 15, 'min_child_samples': 11, 'n_estimators': 60}\n",
      "0.089 for {'class_weight': {0: 1, 1: 345}, 'colsample_bytree': 0.5, 'learning_rate': 0.01, 'max_depth': 15, 'min_child_samples': 3, 'n_estimators': 200}\n",
      "0.089 for {'class_weight': {0: 1, 1: 345}, 'colsample_bytree': 0.5, 'learning_rate': 0.01, 'max_depth': 15, 'min_child_samples': 5, 'n_estimators': 200}\n",
      "0.089 for {'class_weight': {0: 1, 1: 345}, 'colsample_bytree': 1.0, 'learning_rate': 0.1, 'max_depth': -1, 'min_child_samples': 7, 'n_estimators': 60}\n",
      "0.089 for {'class_weight': {0: 1, 1: 345}, 'colsample_bytree': 0.5, 'learning_rate': 0.01, 'max_depth': 40, 'min_child_samples': 3, 'n_estimators': 200}\n",
      "0.089 for {'class_weight': {0: 1, 1: 345}, 'colsample_bytree': 0.5, 'learning_rate': 0.01, 'max_depth': 40, 'min_child_samples': 5, 'n_estimators': 200}\n",
      "0.089 for {'class_weight': {0: 1, 1: 345}, 'colsample_bytree': 1.0, 'learning_rate': 0.1, 'max_depth': -1, 'min_child_samples': 5, 'n_estimators': 60}\n",
      "0.089 for {'class_weight': {0: 1, 1: 345}, 'colsample_bytree': 0.5, 'learning_rate': 0.01, 'max_depth': -1, 'min_child_samples': 11, 'n_estimators': 200}\n",
      "0.089 for {'class_weight': {0: 1, 1: 345}, 'colsample_bytree': 1.0, 'learning_rate': 0.05, 'max_depth': -1, 'min_child_samples': 3, 'n_estimators': 60}\n",
      "0.089 for {'class_weight': {0: 1, 1: 345}, 'colsample_bytree': 1.0, 'learning_rate': 0.05, 'max_depth': 40, 'min_child_samples': 5, 'n_estimators': 60}\n",
      "0.089 for {'class_weight': {0: 1, 1: 345}, 'colsample_bytree': 1.0, 'learning_rate': 0.05, 'max_depth': 15, 'min_child_samples': 5, 'n_estimators': 60}\n",
      "0.089 for {'class_weight': {0: 1, 1: 345}, 'colsample_bytree': 1.0, 'learning_rate': 0.05, 'max_depth': 40, 'min_child_samples': 11, 'n_estimators': 60}\n",
      "0.089 for {'class_weight': {0: 1, 1: 345}, 'colsample_bytree': 1.0, 'learning_rate': 0.05, 'max_depth': 15, 'min_child_samples': 3, 'n_estimators': 60}\n",
      "0.089 for {'class_weight': {0: 1, 1: 345}, 'colsample_bytree': 1.0, 'learning_rate': 0.05, 'max_depth': 40, 'min_child_samples': 3, 'n_estimators': 60}\n",
      "0.089 for {'class_weight': {0: 1, 1: 345}, 'colsample_bytree': 1.0, 'learning_rate': 0.05, 'max_depth': -1, 'min_child_samples': 11, 'n_estimators': 60}\n",
      "0.089 for {'class_weight': {0: 1, 1: 345}, 'colsample_bytree': 1.0, 'learning_rate': 0.05, 'max_depth': 40, 'min_child_samples': 7, 'n_estimators': 60}\n",
      "0.089 for {'class_weight': {0: 1, 1: 345}, 'colsample_bytree': 1.0, 'learning_rate': 0.05, 'max_depth': -1, 'min_child_samples': 7, 'n_estimators': 60}\n",
      "0.089 for {'class_weight': {0: 1, 1: 345}, 'colsample_bytree': 1.0, 'learning_rate': 0.05, 'max_depth': -1, 'min_child_samples': 5, 'n_estimators': 60}\n",
      "0.089 for {'class_weight': {0: 1, 1: 345}, 'colsample_bytree': 1.0, 'learning_rate': 0.05, 'max_depth': 15, 'min_child_samples': 7, 'n_estimators': 60}\n",
      "0.089 for {'class_weight': {0: 1, 1: 345}, 'colsample_bytree': 0.5, 'learning_rate': 0.05, 'max_depth': -1, 'min_child_samples': 7, 'n_estimators': 60}\n",
      "0.089 for {'class_weight': {0: 1, 1: 345}, 'colsample_bytree': 0.5, 'learning_rate': 0.05, 'max_depth': -1, 'min_child_samples': 11, 'n_estimators': 60}\n",
      "0.089 for {'class_weight': {0: 1, 1: 345}, 'colsample_bytree': 0.5, 'learning_rate': 0.01, 'max_depth': 15, 'min_child_samples': 11, 'n_estimators': 200}\n",
      "0.089 for {'class_weight': {0: 1, 1: 345}, 'colsample_bytree': 0.5, 'learning_rate': 0.05, 'max_depth': 40, 'min_child_samples': 11, 'n_estimators': 60}\n",
      "0.089 for {'class_weight': {0: 1, 1: 345}, 'colsample_bytree': 0.5, 'learning_rate': 0.01, 'max_depth': -1, 'min_child_samples': 5, 'n_estimators': 200}\n",
      "0.089 for {'class_weight': {0: 1, 1: 345}, 'colsample_bytree': 0.5, 'learning_rate': 0.05, 'max_depth': 40, 'min_child_samples': 7, 'n_estimators': 60}\n",
      "0.089 for {'class_weight': {0: 1, 1: 345}, 'colsample_bytree': 1.0, 'learning_rate': 1.0, 'max_depth': -1, 'min_child_samples': 5, 'n_estimators': 200}\n",
      "0.089 for {'class_weight': {0: 1, 1: 345}, 'colsample_bytree': 0.5, 'learning_rate': 0.01, 'max_depth': -1, 'min_child_samples': 3, 'n_estimators': 200}\n",
      "0.089 for {'class_weight': {0: 1, 1: 345}, 'colsample_bytree': 1.0, 'learning_rate': 0.1, 'max_depth': 40, 'min_child_samples': 3, 'n_estimators': 60}\n",
      "0.089 for {'class_weight': {0: 1, 1: 345}, 'colsample_bytree': 1.0, 'learning_rate': 0.1, 'max_depth': 40, 'min_child_samples': 5, 'n_estimators': 60}\n",
      "0.089 for {'class_weight': {0: 1, 1: 345}, 'colsample_bytree': 1.0, 'learning_rate': 0.1, 'max_depth': 40, 'min_child_samples': 7, 'n_estimators': 60}\n",
      "0.089 for {'class_weight': {0: 1, 1: 345}, 'colsample_bytree': 1.0, 'learning_rate': 0.1, 'max_depth': -1, 'min_child_samples': 3, 'n_estimators': 60}\n",
      "0.089 for {'class_weight': {0: 1, 1: 345}, 'colsample_bytree': 1.0, 'learning_rate': 1.0, 'max_depth': 15, 'min_child_samples': 3, 'n_estimators': 200}\n",
      "0.089 for {'class_weight': {0: 1, 1: 345}, 'colsample_bytree': 0.5, 'learning_rate': 0.01, 'max_depth': -1, 'min_child_samples': 7, 'n_estimators': 200}\n",
      "0.089 for {'class_weight': {0: 1, 1: 345}, 'colsample_bytree': 1.0, 'learning_rate': 1.0, 'max_depth': 15, 'min_child_samples': 5, 'n_estimators': 200}\n",
      "0.089 for {'class_weight': {0: 1, 1: 345}, 'colsample_bytree': 0.5, 'learning_rate': 0.01, 'max_depth': 15, 'min_child_samples': 7, 'n_estimators': 200}\n",
      "0.089 for {'class_weight': {0: 1, 1: 345}, 'colsample_bytree': 0.5, 'learning_rate': 0.05, 'max_depth': 15, 'min_child_samples': 3, 'n_estimators': 60}\n",
      "0.089 for {'class_weight': {0: 1, 1: 345}, 'colsample_bytree': 0.5, 'learning_rate': 0.05, 'max_depth': 15, 'min_child_samples': 11, 'n_estimators': 60}\n",
      "0.089 for {'class_weight': {0: 1, 1: 345}, 'colsample_bytree': 0.5, 'learning_rate': 0.01, 'max_depth': 40, 'min_child_samples': 11, 'n_estimators': 200}\n",
      "0.089 for {'class_weight': {0: 1, 1: 345}, 'colsample_bytree': 0.5, 'learning_rate': 0.05, 'max_depth': 15, 'min_child_samples': 5, 'n_estimators': 60}\n",
      "0.089 for {'class_weight': {0: 1, 1: 345}, 'colsample_bytree': 0.5, 'learning_rate': 0.05, 'max_depth': 15, 'min_child_samples': 7, 'n_estimators': 60}\n",
      "0.089 for {'class_weight': {0: 1, 1: 345}, 'colsample_bytree': 0.5, 'learning_rate': 1.0, 'max_depth': -1, 'min_child_samples': 3, 'n_estimators': 200}\n",
      "0.089 for {'class_weight': {0: 1, 1: 345}, 'colsample_bytree': 0.5, 'learning_rate': 0.01, 'max_depth': 40, 'min_child_samples': 7, 'n_estimators': 200}\n",
      "0.067 for {'class_weight': {0: 1, 1: 345}, 'colsample_bytree': 0.5, 'learning_rate': 1.0, 'max_depth': 40, 'min_child_samples': 7, 'n_estimators': 200}\n",
      "0.067 for {'class_weight': {0: 1, 1: 345}, 'colsample_bytree': 1.0, 'learning_rate': 0.1, 'max_depth': 15, 'min_child_samples': 3, 'n_estimators': 60}\n",
      "0.067 for {'class_weight': {0: 1, 1: 345}, 'colsample_bytree': 0.5, 'learning_rate': 1.0, 'max_depth': -1, 'min_child_samples': 7, 'n_estimators': 200}\n",
      "0.067 for {'class_weight': {0: 1, 1: 345}, 'colsample_bytree': 0.5, 'learning_rate': 1.0, 'max_depth': 15, 'min_child_samples': 7, 'n_estimators': 60}\n",
      "0.067 for {'class_weight': {0: 1, 1: 345}, 'colsample_bytree': 0.5, 'learning_rate': 1.0, 'max_depth': 15, 'min_child_samples': 5, 'n_estimators': 200}\n",
      "0.067 for {'class_weight': {0: 1, 1: 345}, 'colsample_bytree': 0.5, 'learning_rate': 0.1, 'max_depth': 15, 'min_child_samples': 3, 'n_estimators': 60}\n",
      "0.067 for {'class_weight': {0: 1, 1: 345}, 'colsample_bytree': 1.0, 'learning_rate': 0.1, 'max_depth': 15, 'min_child_samples': 5, 'n_estimators': 60}\n",
      "0.067 for {'class_weight': {0: 1, 1: 345}, 'colsample_bytree': 1.0, 'learning_rate': 0.1, 'max_depth': 15, 'min_child_samples': 7, 'n_estimators': 60}\n",
      "0.067 for {'class_weight': {0: 1, 1: 345}, 'colsample_bytree': 0.5, 'learning_rate': 0.1, 'max_depth': 15, 'min_child_samples': 5, 'n_estimators': 60}\n",
      "0.067 for {'class_weight': {0: 1, 1: 345}, 'colsample_bytree': 0.5, 'learning_rate': 0.1, 'max_depth': 40, 'min_child_samples': 11, 'n_estimators': 60}\n",
      "0.067 for {'class_weight': {0: 1, 1: 345}, 'colsample_bytree': 0.5, 'learning_rate': 0.1, 'max_depth': 40, 'min_child_samples': 3, 'n_estimators': 60}\n",
      "0.067 for {'class_weight': {0: 1, 1: 345}, 'colsample_bytree': 0.5, 'learning_rate': 0.1, 'max_depth': 40, 'min_child_samples': 7, 'n_estimators': 60}\n",
      "0.067 for {'class_weight': {0: 1, 1: 345}, 'colsample_bytree': 0.5, 'learning_rate': 0.1, 'max_depth': -1, 'min_child_samples': 3, 'n_estimators': 60}\n",
      "0.067 for {'class_weight': {0: 1, 1: 345}, 'colsample_bytree': 0.5, 'learning_rate': 0.1, 'max_depth': -1, 'min_child_samples': 5, 'n_estimators': 60}\n",
      "0.067 for {'class_weight': {0: 1, 1: 345}, 'colsample_bytree': 0.5, 'learning_rate': 0.1, 'max_depth': -1, 'min_child_samples': 7, 'n_estimators': 60}\n",
      "0.067 for {'class_weight': {0: 1, 1: 345}, 'colsample_bytree': 0.5, 'learning_rate': 0.1, 'max_depth': -1, 'min_child_samples': 11, 'n_estimators': 60}\n",
      "0.067 for {'class_weight': {0: 1, 1: 345}, 'colsample_bytree': 1.0, 'learning_rate': 1.0, 'max_depth': 15, 'min_child_samples': 7, 'n_estimators': 200}\n",
      "0.067 for {'class_weight': {0: 1, 1: 345}, 'colsample_bytree': 0.5, 'learning_rate': 0.1, 'max_depth': 40, 'min_child_samples': 5, 'n_estimators': 60}\n",
      "0.044 for {'class_weight': {0: 1, 1: 345}, 'colsample_bytree': 1.0, 'learning_rate': 0.01, 'max_depth': 40, 'min_child_samples': 5, 'n_estimators': 200}\n",
      "0.044 for {'class_weight': {0: 1, 1: 345}, 'colsample_bytree': 0.5, 'learning_rate': 1.0, 'max_depth': -1, 'min_child_samples': 11, 'n_estimators': 60}\n",
      "0.044 for {'class_weight': {0: 1, 1: 345}, 'colsample_bytree': 1.0, 'learning_rate': 0.01, 'max_depth': 40, 'min_child_samples': 11, 'n_estimators': 200}\n",
      "0.044 for {'class_weight': {0: 1, 1: 345}, 'colsample_bytree': 0.5, 'learning_rate': 1.0, 'max_depth': 40, 'min_child_samples': 11, 'n_estimators': 60}\n",
      "0.044 for {'class_weight': {0: 1, 1: 345}, 'colsample_bytree': 1.0, 'learning_rate': 0.01, 'max_depth': 40, 'min_child_samples': 3, 'n_estimators': 200}\n",
      "0.044 for {'class_weight': {0: 1, 1: 345}, 'colsample_bytree': 1.0, 'learning_rate': 0.01, 'max_depth': 15, 'min_child_samples': 11, 'n_estimators': 200}\n",
      "0.044 for {'class_weight': {0: 1, 1: 345}, 'colsample_bytree': 1.0, 'learning_rate': 0.01, 'max_depth': -1, 'min_child_samples': 7, 'n_estimators': 200}\n",
      "0.044 for {'class_weight': {0: 1, 1: 345}, 'colsample_bytree': 1.0, 'learning_rate': 0.01, 'max_depth': 15, 'min_child_samples': 5, 'n_estimators': 200}\n",
      "0.044 for {'class_weight': {0: 1, 1: 345}, 'colsample_bytree': 1.0, 'learning_rate': 0.01, 'max_depth': -1, 'min_child_samples': 3, 'n_estimators': 200}\n",
      "0.044 for {'class_weight': {0: 1, 1: 345}, 'colsample_bytree': 1.0, 'learning_rate': 0.01, 'max_depth': -1, 'min_child_samples': 5, 'n_estimators': 200}\n",
      "0.044 for {'class_weight': {0: 1, 1: 345}, 'colsample_bytree': 1.0, 'learning_rate': 0.01, 'max_depth': 15, 'min_child_samples': 7, 'n_estimators': 200}\n",
      "0.044 for {'class_weight': {0: 1, 1: 345}, 'colsample_bytree': 0.5, 'learning_rate': 0.1, 'max_depth': 15, 'min_child_samples': 11, 'n_estimators': 60}\n",
      "0.044 for {'class_weight': {0: 1, 1: 345}, 'colsample_bytree': 0.5, 'learning_rate': 0.1, 'max_depth': 15, 'min_child_samples': 7, 'n_estimators': 60}\n",
      "0.044 for {'class_weight': {0: 1, 1: 345}, 'colsample_bytree': 1.0, 'learning_rate': 0.01, 'max_depth': 40, 'min_child_samples': 7, 'n_estimators': 200}\n",
      "0.044 for {'class_weight': {0: 1, 1: 345}, 'colsample_bytree': 1.0, 'learning_rate': 0.01, 'max_depth': 15, 'min_child_samples': 3, 'n_estimators': 200}\n",
      "0.044 for {'class_weight': {0: 1, 1: 345}, 'colsample_bytree': 1.0, 'learning_rate': 0.1, 'max_depth': 15, 'min_child_samples': 11, 'n_estimators': 60}\n",
      "0.044 for {'class_weight': {0: 1, 1: 345}, 'colsample_bytree': 1.0, 'learning_rate': 0.1, 'max_depth': -1, 'min_child_samples': 11, 'n_estimators': 60}\n",
      "0.044 for {'class_weight': {0: 1, 1: 345}, 'colsample_bytree': 1.0, 'learning_rate': 1.0, 'max_depth': 15, 'min_child_samples': 5, 'n_estimators': 60}\n",
      "0.044 for {'class_weight': {0: 1, 1: 345}, 'colsample_bytree': 1.0, 'learning_rate': 0.1, 'max_depth': 40, 'min_child_samples': 11, 'n_estimators': 60}\n",
      "0.044 for {'class_weight': {0: 1, 1: 345}, 'colsample_bytree': 1.0, 'learning_rate': 0.01, 'max_depth': -1, 'min_child_samples': 11, 'n_estimators': 200}\n",
      "0.022 for {'class_weight': {0: 1, 1: 345}, 'colsample_bytree': 1.0, 'learning_rate': 1.0, 'max_depth': -1, 'min_child_samples': 5, 'n_estimators': 60}\n",
      "0.022 for {'class_weight': {0: 1, 1: 345}, 'colsample_bytree': 0.5, 'learning_rate': 0.05, 'max_depth': -1, 'min_child_samples': 5, 'n_estimators': 200}\n",
      "0.022 for {'class_weight': {0: 1, 1: 345}, 'colsample_bytree': 1.0, 'learning_rate': 1.0, 'max_depth': 40, 'min_child_samples': 7, 'n_estimators': 60}\n",
      "0.022 for {'class_weight': {0: 1, 1: 345}, 'colsample_bytree': 0.5, 'learning_rate': 1.0, 'max_depth': 40, 'min_child_samples': 3, 'n_estimators': 60}\n",
      "0.022 for {'class_weight': {0: 1, 1: 345}, 'colsample_bytree': 1.0, 'learning_rate': 1.0, 'max_depth': -1, 'min_child_samples': 3, 'n_estimators': 60}\n",
      "0.022 for {'class_weight': {0: 1, 1: 345}, 'colsample_bytree': 0.5, 'learning_rate': 1.0, 'max_depth': 15, 'min_child_samples': 11, 'n_estimators': 60}\n",
      "0.022 for {'class_weight': {0: 1, 1: 345}, 'colsample_bytree': 1.0, 'learning_rate': 1.0, 'max_depth': -1, 'min_child_samples': 7, 'n_estimators': 60}\n",
      "0.022 for {'class_weight': {0: 1, 1: 345}, 'colsample_bytree': 1.0, 'learning_rate': 1.0, 'max_depth': 40, 'min_child_samples': 5, 'n_estimators': 60}\n",
      "0.022 for {'class_weight': {0: 1, 1: 345}, 'colsample_bytree': 0.5, 'learning_rate': 1.0, 'max_depth': -1, 'min_child_samples': 3, 'n_estimators': 60}\n",
      "0.022 for {'class_weight': {0: 1, 1: 345}, 'colsample_bytree': 1.0, 'learning_rate': 1.0, 'max_depth': 40, 'min_child_samples': 3, 'n_estimators': 60}\n",
      "0.022 for {'class_weight': {0: 1, 1: 345}, 'colsample_bytree': 0.5, 'learning_rate': 0.05, 'max_depth': 40, 'min_child_samples': 5, 'n_estimators': 200}\n",
      "0.022 for {'class_weight': {0: 1, 1: 345}, 'colsample_bytree': 1.0, 'learning_rate': 0.05, 'max_depth': 15, 'min_child_samples': 7, 'n_estimators': 200}\n",
      "0.000 for {'class_weight': {0: 1, 1: 345}, 'colsample_bytree': 0.5, 'learning_rate': 0.01, 'max_depth': -1, 'min_child_samples': 5, 'n_estimators': 60}\n",
      "0.000 for {'class_weight': {0: 1, 1: 345}, 'colsample_bytree': 0.5, 'learning_rate': 0.01, 'max_depth': -1, 'min_child_samples': 3, 'n_estimators': 60}\n",
      "0.000 for {'class_weight': {0: 1, 1: 345}, 'colsample_bytree': 1.0, 'learning_rate': 1.0, 'max_depth': 15, 'min_child_samples': 3, 'n_estimators': 60}\n",
      "0.000 for {'class_weight': {0: 1, 1: 345}, 'colsample_bytree': 1.0, 'learning_rate': 0.01, 'max_depth': 15, 'min_child_samples': 5, 'n_estimators': 60}\n",
      "0.000 for {'class_weight': {0: 1, 1: 345}, 'colsample_bytree': 1.0, 'learning_rate': 0.05, 'max_depth': 40, 'min_child_samples': 11, 'n_estimators': 200}\n",
      "0.000 for {'class_weight': {0: 1, 1: 345}, 'colsample_bytree': 0.5, 'learning_rate': 0.01, 'max_depth': -1, 'min_child_samples': 7, 'n_estimators': 60}\n",
      "0.000 for {'class_weight': {0: 1, 1: 345}, 'colsample_bytree': 0.5, 'learning_rate': 0.01, 'max_depth': 15, 'min_child_samples': 3, 'n_estimators': 60}\n",
      "0.000 for {'class_weight': {0: 1, 1: 345}, 'colsample_bytree': 0.5, 'learning_rate': 0.01, 'max_depth': 40, 'min_child_samples': 11, 'n_estimators': 60}\n",
      "0.000 for {'class_weight': {0: 1, 1: 345}, 'colsample_bytree': 1.0, 'learning_rate': 0.05, 'max_depth': -1, 'min_child_samples': 3, 'n_estimators': 200}\n",
      "0.000 for {'class_weight': {0: 1, 1: 345}, 'colsample_bytree': 1.0, 'learning_rate': 1.0, 'max_depth': 15, 'min_child_samples': 7, 'n_estimators': 60}\n",
      "0.000 for {'class_weight': {0: 1, 1: 345}, 'colsample_bytree': 1.0, 'learning_rate': 0.05, 'max_depth': 40, 'min_child_samples': 7, 'n_estimators': 200}\n",
      "0.000 for {'class_weight': {0: 1, 1: 345}, 'colsample_bytree': 0.5, 'learning_rate': 0.01, 'max_depth': 40, 'min_child_samples': 7, 'n_estimators': 60}\n",
      "0.000 for {'class_weight': {0: 1, 1: 345}, 'colsample_bytree': 1.0, 'learning_rate': 0.05, 'max_depth': -1, 'min_child_samples': 5, 'n_estimators': 200}\n",
      "0.000 for {'class_weight': {0: 1, 1: 345}, 'colsample_bytree': 0.5, 'learning_rate': 0.01, 'max_depth': 40, 'min_child_samples': 5, 'n_estimators': 60}\n",
      "0.000 for {'class_weight': {0: 1, 1: 345}, 'colsample_bytree': 0.5, 'learning_rate': 0.01, 'max_depth': 40, 'min_child_samples': 3, 'n_estimators': 60}\n",
      "0.000 for {'class_weight': {0: 1, 1: 345}, 'colsample_bytree': 1.0, 'learning_rate': 0.05, 'max_depth': -1, 'min_child_samples': 7, 'n_estimators': 200}\n",
      "0.000 for {'class_weight': {0: 1, 1: 345}, 'colsample_bytree': 0.5, 'learning_rate': 0.01, 'max_depth': 15, 'min_child_samples': 11, 'n_estimators': 60}\n",
      "0.000 for {'class_weight': {0: 1, 1: 345}, 'colsample_bytree': 1.0, 'learning_rate': 0.1, 'max_depth': -1, 'min_child_samples': 5, 'n_estimators': 200}\n",
      "0.000 for {'class_weight': {0: 1, 1: 345}, 'colsample_bytree': 0.5, 'learning_rate': 0.05, 'max_depth': -1, 'min_child_samples': 11, 'n_estimators': 200}\n",
      "0.000 for {'class_weight': {0: 1, 1: 345}, 'colsample_bytree': 0.5, 'learning_rate': 0.05, 'max_depth': 15, 'min_child_samples': 7, 'n_estimators': 200}\n",
      "0.000 for {'class_weight': {0: 1, 1: 345}, 'colsample_bytree': 1.0, 'learning_rate': 0.01, 'max_depth': 40, 'min_child_samples': 3, 'n_estimators': 60}\n",
      "0.000 for {'class_weight': {0: 1, 1: 345}, 'colsample_bytree': 0.5, 'learning_rate': 0.05, 'max_depth': -1, 'min_child_samples': 7, 'n_estimators': 200}\n",
      "0.000 for {'class_weight': {0: 1, 1: 345}, 'colsample_bytree': 1.0, 'learning_rate': 1.0, 'max_depth': 15, 'min_child_samples': 11, 'n_estimators': 60}\n",
      "0.000 for {'class_weight': {0: 1, 1: 345}, 'colsample_bytree': 0.5, 'learning_rate': 0.05, 'max_depth': -1, 'min_child_samples': 3, 'n_estimators': 200}\n",
      "0.000 for {'class_weight': {0: 1, 1: 345}, 'colsample_bytree': 1.0, 'learning_rate': 0.01, 'max_depth': 15, 'min_child_samples': 7, 'n_estimators': 60}\n",
      "0.000 for {'class_weight': {0: 1, 1: 345}, 'colsample_bytree': 0.5, 'learning_rate': 0.05, 'max_depth': 40, 'min_child_samples': 11, 'n_estimators': 200}\n",
      "0.000 for {'class_weight': {0: 1, 1: 345}, 'colsample_bytree': 1.0, 'learning_rate': 0.05, 'max_depth': 40, 'min_child_samples': 5, 'n_estimators': 200}\n",
      "0.000 for {'class_weight': {0: 1, 1: 345}, 'colsample_bytree': 0.5, 'learning_rate': 0.05, 'max_depth': 40, 'min_child_samples': 7, 'n_estimators': 200}\n",
      "0.000 for {'class_weight': {0: 1, 1: 345}, 'colsample_bytree': 1.0, 'learning_rate': 0.01, 'max_depth': 15, 'min_child_samples': 11, 'n_estimators': 60}\n",
      "0.000 for {'class_weight': {0: 1, 1: 345}, 'colsample_bytree': 0.5, 'learning_rate': 0.05, 'max_depth': 40, 'min_child_samples': 3, 'n_estimators': 200}\n",
      "0.000 for {'class_weight': {0: 1, 1: 345}, 'colsample_bytree': 1.0, 'learning_rate': 0.01, 'max_depth': -1, 'min_child_samples': 11, 'n_estimators': 60}\n",
      "0.000 for {'class_weight': {0: 1, 1: 345}, 'colsample_bytree': 0.5, 'learning_rate': 0.05, 'max_depth': 15, 'min_child_samples': 11, 'n_estimators': 200}\n",
      "0.000 for {'class_weight': {0: 1, 1: 345}, 'colsample_bytree': 1.0, 'learning_rate': 0.05, 'max_depth': -1, 'min_child_samples': 11, 'n_estimators': 200}\n",
      "0.000 for {'class_weight': {0: 1, 1: 345}, 'colsample_bytree': 1.0, 'learning_rate': 0.01, 'max_depth': 40, 'min_child_samples': 5, 'n_estimators': 60}\n",
      "0.000 for {'class_weight': {0: 1, 1: 345}, 'colsample_bytree': 0.5, 'learning_rate': 0.05, 'max_depth': 15, 'min_child_samples': 5, 'n_estimators': 200}\n",
      "0.000 for {'class_weight': {0: 1, 1: 345}, 'colsample_bytree': 1.0, 'learning_rate': 0.05, 'max_depth': 40, 'min_child_samples': 3, 'n_estimators': 200}\n",
      "0.000 for {'class_weight': {0: 1, 1: 345}, 'colsample_bytree': 0.5, 'learning_rate': 0.05, 'max_depth': 15, 'min_child_samples': 3, 'n_estimators': 200}\n",
      "0.000 for {'class_weight': {0: 1, 1: 345}, 'colsample_bytree': 1.0, 'learning_rate': 0.01, 'max_depth': 40, 'min_child_samples': 7, 'n_estimators': 60}\n",
      "0.000 for {'class_weight': {0: 1, 1: 345}, 'colsample_bytree': 0.5, 'learning_rate': 0.01, 'max_depth': 15, 'min_child_samples': 7, 'n_estimators': 60}\n",
      "0.000 for {'class_weight': {0: 1, 1: 345}, 'colsample_bytree': 1.0, 'learning_rate': 0.1, 'max_depth': 40, 'min_child_samples': 3, 'n_estimators': 200}\n",
      "0.000 for {'class_weight': {0: 1, 1: 345}, 'colsample_bytree': 0.5, 'learning_rate': 0.01, 'max_depth': 15, 'min_child_samples': 5, 'n_estimators': 60}\n",
      "0.000 for {'class_weight': {0: 1, 1: 345}, 'colsample_bytree': 0.5, 'learning_rate': 0.1, 'max_depth': 40, 'min_child_samples': 3, 'n_estimators': 200}\n",
      "0.000 for {'class_weight': {0: 1, 1: 345}, 'colsample_bytree': 0.5, 'learning_rate': 1.0, 'max_depth': 15, 'min_child_samples': 5, 'n_estimators': 60}\n",
      "0.000 for {'class_weight': {0: 1, 1: 345}, 'colsample_bytree': 1.0, 'learning_rate': 0.1, 'max_depth': 40, 'min_child_samples': 7, 'n_estimators': 200}\n",
      "0.000 for {'class_weight': {0: 1, 1: 345}, 'colsample_bytree': 0.5, 'learning_rate': 0.1, 'max_depth': 15, 'min_child_samples': 3, 'n_estimators': 200}\n",
      "0.000 for {'class_weight': {0: 1, 1: 345}, 'colsample_bytree': 0.5, 'learning_rate': 0.01, 'max_depth': -1, 'min_child_samples': 11, 'n_estimators': 60}\n",
      "0.000 for {'class_weight': {0: 1, 1: 345}, 'colsample_bytree': 0.5, 'learning_rate': 0.1, 'max_depth': 40, 'min_child_samples': 5, 'n_estimators': 200}\n",
      "0.000 for {'class_weight': {0: 1, 1: 345}, 'colsample_bytree': 1.0, 'learning_rate': 0.1, 'max_depth': 15, 'min_child_samples': 5, 'n_estimators': 200}\n",
      "0.000 for {'class_weight': {0: 1, 1: 345}, 'colsample_bytree': 0.5, 'learning_rate': 0.1, 'max_depth': 40, 'min_child_samples': 11, 'n_estimators': 200}\n",
      "0.000 for {'class_weight': {0: 1, 1: 345}, 'colsample_bytree': 0.5, 'learning_rate': 0.1, 'max_depth': -1, 'min_child_samples': 3, 'n_estimators': 200}\n",
      "0.000 for {'class_weight': {0: 1, 1: 345}, 'colsample_bytree': 1.0, 'learning_rate': 0.1, 'max_depth': -1, 'min_child_samples': 11, 'n_estimators': 200}\n",
      "0.000 for {'class_weight': {0: 1, 1: 345}, 'colsample_bytree': 1.0, 'learning_rate': 1.0, 'max_depth': -1, 'min_child_samples': 11, 'n_estimators': 60}\n",
      "0.000 for {'class_weight': {0: 1, 1: 345}, 'colsample_bytree': 1.0, 'learning_rate': 0.05, 'max_depth': 15, 'min_child_samples': 5, 'n_estimators': 200}\n",
      "0.000 for {'class_weight': {0: 1, 1: 345}, 'colsample_bytree': 0.5, 'learning_rate': 0.1, 'max_depth': 15, 'min_child_samples': 7, 'n_estimators': 200}\n",
      "0.000 for {'class_weight': {0: 1, 1: 345}, 'colsample_bytree': 1.0, 'learning_rate': 0.1, 'max_depth': 15, 'min_child_samples': 3, 'n_estimators': 200}\n",
      "0.000 for {'class_weight': {0: 1, 1: 345}, 'colsample_bytree': 0.5, 'learning_rate': 0.1, 'max_depth': 15, 'min_child_samples': 5, 'n_estimators': 200}\n",
      "0.000 for {'class_weight': {0: 1, 1: 345}, 'colsample_bytree': 0.5, 'learning_rate': 0.1, 'max_depth': 15, 'min_child_samples': 11, 'n_estimators': 200}\n",
      "0.000 for {'class_weight': {0: 1, 1: 345}, 'colsample_bytree': 0.5, 'learning_rate': 0.1, 'max_depth': 40, 'min_child_samples': 7, 'n_estimators': 200}\n",
      "0.000 for {'class_weight': {0: 1, 1: 345}, 'colsample_bytree': 1.0, 'learning_rate': 0.1, 'max_depth': -1, 'min_child_samples': 3, 'n_estimators': 200}\n",
      "0.000 for {'class_weight': {0: 1, 1: 345}, 'colsample_bytree': 1.0, 'learning_rate': 0.01, 'max_depth': -1, 'min_child_samples': 7, 'n_estimators': 60}\n",
      "0.000 for {'class_weight': {0: 1, 1: 345}, 'colsample_bytree': 1.0, 'learning_rate': 0.01, 'max_depth': 15, 'min_child_samples': 3, 'n_estimators': 60}\n",
      "0.000 for {'class_weight': {0: 1, 1: 345}, 'colsample_bytree': 1.0, 'learning_rate': 0.01, 'max_depth': 40, 'min_child_samples': 11, 'n_estimators': 60}\n",
      "0.000 for {'class_weight': {0: 1, 1: 345}, 'colsample_bytree': 0.5, 'learning_rate': 0.1, 'max_depth': -1, 'min_child_samples': 7, 'n_estimators': 200}\n",
      "0.000 for {'class_weight': {0: 1, 1: 345}, 'colsample_bytree': 1.0, 'learning_rate': 1.0, 'max_depth': 40, 'min_child_samples': 11, 'n_estimators': 60}\n",
      "0.000 for {'class_weight': {0: 1, 1: 345}, 'colsample_bytree': 0.5, 'learning_rate': 0.1, 'max_depth': -1, 'min_child_samples': 11, 'n_estimators': 200}\n",
      "0.000 for {'class_weight': {0: 1, 1: 345}, 'colsample_bytree': 1.0, 'learning_rate': 0.05, 'max_depth': 15, 'min_child_samples': 11, 'n_estimators': 200}\n",
      "0.000 for {'class_weight': {0: 1, 1: 345}, 'colsample_bytree': 0.5, 'learning_rate': 0.1, 'max_depth': -1, 'min_child_samples': 5, 'n_estimators': 200}\n",
      "0.000 for {'class_weight': {0: 1, 1: 345}, 'colsample_bytree': 1.0, 'learning_rate': 0.1, 'max_depth': 15, 'min_child_samples': 11, 'n_estimators': 200}\n",
      "0.000 for {'class_weight': {0: 1, 1: 345}, 'colsample_bytree': 0.5, 'learning_rate': 1.0, 'max_depth': -1, 'min_child_samples': 7, 'n_estimators': 60}\n",
      "0.000 for {'class_weight': {0: 1, 1: 345}, 'colsample_bytree': 0.5, 'learning_rate': 1.0, 'max_depth': -1, 'min_child_samples': 5, 'n_estimators': 60}\n",
      "0.000 for {'class_weight': {0: 1, 1: 345}, 'colsample_bytree': 1.0, 'learning_rate': 0.1, 'max_depth': 40, 'min_child_samples': 11, 'n_estimators': 200}\n",
      "0.000 for {'class_weight': {0: 1, 1: 345}, 'colsample_bytree': 1.0, 'learning_rate': 0.05, 'max_depth': 15, 'min_child_samples': 3, 'n_estimators': 200}\n",
      "0.000 for {'class_weight': {0: 1, 1: 345}, 'colsample_bytree': 1.0, 'learning_rate': 0.01, 'max_depth': -1, 'min_child_samples': 3, 'n_estimators': 60}\n",
      "0.000 for {'class_weight': {0: 1, 1: 345}, 'colsample_bytree': 1.0, 'learning_rate': 0.1, 'max_depth': 15, 'min_child_samples': 7, 'n_estimators': 200}\n",
      "0.000 for {'class_weight': {0: 1, 1: 345}, 'colsample_bytree': 1.0, 'learning_rate': 0.1, 'max_depth': 40, 'min_child_samples': 5, 'n_estimators': 200}\n",
      "0.000 for {'class_weight': {0: 1, 1: 345}, 'colsample_bytree': 0.5, 'learning_rate': 1.0, 'max_depth': 40, 'min_child_samples': 7, 'n_estimators': 60}\n",
      "0.000 for {'class_weight': {0: 1, 1: 345}, 'colsample_bytree': 0.5, 'learning_rate': 1.0, 'max_depth': 40, 'min_child_samples': 5, 'n_estimators': 60}\n",
      "0.000 for {'class_weight': {0: 1, 1: 345}, 'colsample_bytree': 1.0, 'learning_rate': 0.01, 'max_depth': -1, 'min_child_samples': 5, 'n_estimators': 60}\n",
      "0.000 for {'class_weight': {0: 1, 1: 345}, 'colsample_bytree': 1.0, 'learning_rate': 0.1, 'max_depth': -1, 'min_child_samples': 7, 'n_estimators': 200}\n"
     ]
    }
   ],
   "source": [
    "sorted_ids = np.argsort(best_model.scores)\n",
    "print(\"Grid scores:\")\n",
    "for i in sorted_ids[::-1]:\n",
    "    print(\"%0.3f for %r\" % (best_model.scores[i], best_model.params[i]))"
   ]
  },
  {
   "cell_type": "code",
   "execution_count": 68,
   "metadata": {},
   "outputs": [
    {
     "data": {
      "text/plain": [
       "(0.0, 0.4999894362477552)"
      ]
     },
     "execution_count": 68,
     "metadata": {},
     "output_type": "execute_result"
    }
   ],
   "source": [
    "y_opt_pred = best_model.predict(X_opt)\n",
    "y_opt_f1_bestFI, y_opt_rocauc_bestFI = f1_score(y_opt, y_opt_pred), roc_auc_score(y_opt, y_opt_pred)\n",
    "y_opt_f1_bestFI, y_opt_rocauc_bestFI"
   ]
  },
  {
   "cell_type": "code",
   "execution_count": 69,
   "metadata": {},
   "outputs": [
    {
     "data": {
      "text/plain": [
       "array([[141992,      3],\n",
       "       [    45,      0]])"
      ]
     },
     "execution_count": 69,
     "metadata": {},
     "output_type": "execute_result"
    }
   ],
   "source": [
    "confusion_matrix(y_opt, y_opt_pred)"
   ]
  },
  {
   "cell_type": "markdown",
   "metadata": {},
   "source": [
    "best:<br>"
   ]
  },
  {
   "cell_type": "code",
   "execution_count": 45,
   "metadata": {},
   "outputs": [
    {
     "data": {
      "text/html": [
       "<div>\n",
       "<style scoped>\n",
       "    .dataframe tbody tr th:only-of-type {\n",
       "        vertical-align: middle;\n",
       "    }\n",
       "\n",
       "    .dataframe tbody tr th {\n",
       "        vertical-align: top;\n",
       "    }\n",
       "\n",
       "    .dataframe thead tr th {\n",
       "        text-align: left;\n",
       "    }\n",
       "\n",
       "    .dataframe thead tr:last-of-type th {\n",
       "        text-align: right;\n",
       "    }\n",
       "</style>\n",
       "<table border=\"1\" class=\"dataframe\">\n",
       "  <thead>\n",
       "    <tr>\n",
       "      <th>EXISTE_FRAUDE</th>\n",
       "      <th colspan=\"2\" halign=\"left\">False</th>\n",
       "      <th colspan=\"2\" halign=\"left\">True</th>\n",
       "    </tr>\n",
       "    <tr>\n",
       "      <th>col_1</th>\n",
       "      <th>False</th>\n",
       "      <th>True</th>\n",
       "      <th>False</th>\n",
       "      <th>True</th>\n",
       "    </tr>\n",
       "    <tr>\n",
       "      <th>TIPO_EXPED</th>\n",
       "      <th></th>\n",
       "      <th></th>\n",
       "      <th></th>\n",
       "      <th></th>\n",
       "    </tr>\n",
       "  </thead>\n",
       "  <tbody>\n",
       "    <tr>\n",
       "      <th>0</th>\n",
       "      <td>673</td>\n",
       "      <td>89</td>\n",
       "      <td>1</td>\n",
       "      <td>1</td>\n",
       "    </tr>\n",
       "    <tr>\n",
       "      <th>1</th>\n",
       "      <td>10191</td>\n",
       "      <td>1039</td>\n",
       "      <td>10</td>\n",
       "      <td>2</td>\n",
       "    </tr>\n",
       "    <tr>\n",
       "      <th>2</th>\n",
       "      <td>67060</td>\n",
       "      <td>51</td>\n",
       "      <td>7</td>\n",
       "      <td>0</td>\n",
       "    </tr>\n",
       "    <tr>\n",
       "      <th>3</th>\n",
       "      <td>60818</td>\n",
       "      <td>23</td>\n",
       "      <td>17</td>\n",
       "      <td>1</td>\n",
       "    </tr>\n",
       "    <tr>\n",
       "      <th>4</th>\n",
       "      <td>1700</td>\n",
       "      <td>351</td>\n",
       "      <td>1</td>\n",
       "      <td>5</td>\n",
       "    </tr>\n",
       "  </tbody>\n",
       "</table>\n",
       "</div>"
      ],
      "text/plain": [
       "EXISTE_FRAUDE  False       True       \n",
       "col_1          False True  False True \n",
       "TIPO_EXPED                            \n",
       "0                673    89     1     1\n",
       "1              10191  1039    10     2\n",
       "2              67060    51     7     0\n",
       "3              60818    23    17     1\n",
       "4               1700   351     1     5"
      ]
     },
     "execution_count": 45,
     "metadata": {},
     "output_type": "execute_result"
    }
   ],
   "source": [
    "pd.crosstab(X_opt[\"TIPO_EXPED\"], [df_opt[\"EXISTE_FRAUDE\"], y_opt_pred])"
   ]
  },
  {
   "cell_type": "markdown",
   "metadata": {},
   "source": [
    "**Tronador**"
   ]
  },
  {
   "cell_type": "code",
   "execution_count": 46,
   "metadata": {},
   "outputs": [
    {
     "data": {
      "text/plain": [
       "array([[141995,      0],\n",
       "       [    45,      0]])"
      ]
     },
     "execution_count": 46,
     "metadata": {},
     "output_type": "execute_result"
    }
   ],
   "source": [
    "confusion_matrix(y_opt, X_opt[\"total_condicion\"] >= 5)"
   ]
  },
  {
   "cell_type": "code",
   "execution_count": 47,
   "metadata": {},
   "outputs": [
    {
     "data": {
      "text/html": [
       "<div>\n",
       "<style scoped>\n",
       "    .dataframe tbody tr th:only-of-type {\n",
       "        vertical-align: middle;\n",
       "    }\n",
       "\n",
       "    .dataframe tbody tr th {\n",
       "        vertical-align: top;\n",
       "    }\n",
       "\n",
       "    .dataframe thead tr th {\n",
       "        text-align: left;\n",
       "    }\n",
       "\n",
       "    .dataframe thead tr:last-of-type th {\n",
       "        text-align: right;\n",
       "    }\n",
       "</style>\n",
       "<table border=\"1\" class=\"dataframe\">\n",
       "  <thead>\n",
       "    <tr>\n",
       "      <th>EXISTE_FRAUDE</th>\n",
       "      <th>False</th>\n",
       "      <th>True</th>\n",
       "    </tr>\n",
       "    <tr>\n",
       "      <th>total_condicion</th>\n",
       "      <th>False</th>\n",
       "      <th>False</th>\n",
       "    </tr>\n",
       "    <tr>\n",
       "      <th>TIPO_EXPED</th>\n",
       "      <th></th>\n",
       "      <th></th>\n",
       "    </tr>\n",
       "  </thead>\n",
       "  <tbody>\n",
       "    <tr>\n",
       "      <th>0</th>\n",
       "      <td>762</td>\n",
       "      <td>2</td>\n",
       "    </tr>\n",
       "    <tr>\n",
       "      <th>1</th>\n",
       "      <td>11230</td>\n",
       "      <td>12</td>\n",
       "    </tr>\n",
       "    <tr>\n",
       "      <th>2</th>\n",
       "      <td>67111</td>\n",
       "      <td>7</td>\n",
       "    </tr>\n",
       "    <tr>\n",
       "      <th>3</th>\n",
       "      <td>60841</td>\n",
       "      <td>18</td>\n",
       "    </tr>\n",
       "    <tr>\n",
       "      <th>4</th>\n",
       "      <td>2051</td>\n",
       "      <td>6</td>\n",
       "    </tr>\n",
       "  </tbody>\n",
       "</table>\n",
       "</div>"
      ],
      "text/plain": [
       "EXISTE_FRAUDE    False True \n",
       "total_condicion  False False\n",
       "TIPO_EXPED                  \n",
       "0                  762     2\n",
       "1                11230    12\n",
       "2                67111     7\n",
       "3                60841    18\n",
       "4                 2051     6"
      ]
     },
     "execution_count": 47,
     "metadata": {},
     "output_type": "execute_result"
    }
   ],
   "source": [
    "pd.crosstab(X_opt[\"TIPO_EXPED\"], [df_opt[\"EXISTE_FRAUDE\"], X_opt[\"total_condicion\"] >= 5])"
   ]
  },
  {
   "cell_type": "markdown",
   "metadata": {
    "heading_collapsed": true
   },
   "source": [
    "## dumping best current config"
   ]
  },
  {
   "cell_type": "code",
   "execution_count": null,
   "metadata": {
    "hidden": true
   },
   "outputs": [],
   "source": [
    "# Current good config\n",
    "\"\"\"\n",
    "RandomForestClassifier(bootstrap=True, class_weight={0: 1, 1: 15},\n",
    "                       criterion='gini', max_depth=None, max_features='auto',\n",
    "                       max_leaf_nodes=None, min_impurity_decrease=0.0,\n",
    "                       min_impurity_split=None, min_samples_leaf=55,\n",
    "                       min_samples_split=2, min_weight_fraction_leaf=0.0,\n",
    "                       n_estimators=60, n_jobs=-1, oob_score=False,\n",
    "                       random_state=0, verbose=0, warm_start=False)\n",
    "\"\"\"\n",
    "# full features\n",
    "# scores: 0.449, 0.971\n",
    "# array([[71143,   360],\n",
    "#       [  116,   194]])\n",
    "# Tronador\n",
    "# (0.3472,0.816)\n",
    "# array([[70866,   637],\n",
    "#        [  111,   199]])"
   ]
  },
  {
   "cell_type": "code",
   "execution_count": null,
   "metadata": {
    "hidden": true
   },
   "outputs": [],
   "source": [
    "# with open(ps.path.join(\"models\", \"s1 - cond_preg_fill-1_ class_weight balanced.pickle\"), \"wb\") as file:\n",
    "#     pickle.dump(rf_f, file)"
   ]
  },
  {
   "cell_type": "markdown",
   "metadata": {},
   "source": [
    "## Feature Importance\n",
    "\n",
    "<h3 style=\"color:red\">When reducing the # of features the model get worse</h3>"
   ]
  },
  {
   "cell_type": "code",
   "execution_count": 70,
   "metadata": {},
   "outputs": [
    {
     "data": {
      "image/png": "[encoded data removed]",
      "text/plain": [
       "<Figure size 432x288 with 1 Axes>"
      ]
     },
     "metadata": {
      "needs_background": "light"
     },
     "output_type": "display_data"
    }
   ],
   "source": [
    "rf_fi = pd.DataFrame({'cols':X_train.columns, 'fi':best_model.best_estimator_.feature_importances_}).sort_values('fi', ascending=False)\n",
    "rf_fi[:20].plot.bar(x=\"cols\")\n",
    "plt.xticks(rotation=\"vertical\")\n",
    "plt.show()"
   ]
  },
  {
   "cell_type": "code",
   "execution_count": 77,
   "metadata": {},
   "outputs": [
    {
     "name": "stdout",
     "output_type": "stream",
     "text": [
      "# of features: 74 of 119\n"
     ]
    }
   ],
   "source": [
    "to_keep = list(rf_fi[rf_fi[\"fi\"] >=15][\"cols\"].values)\n",
    "print(f\"# of features: {len(to_keep)} of {len(rf_fi)}\")"
   ]
  },
  {
   "cell_type": "code",
   "execution_count": 78,
   "metadata": {},
   "outputs": [
    {
     "data": {
      "text/plain": [
       "'to_remove = [\\'COD_POST_POLIZA_RT_CLUSTER_2019\\', \\'COD_POST_OCURRENCIA_RT_CLUSTER_2019\\',\\n             \\'COD_POST_OCURRENCIA_RC_CLUSTER_2019\\',  \\'COD_POST_POLIZA_RC_CLUSTER_2019\\',\\n             \\'COD_POST_OCURRENCIA_DP_CLUSTER_2019\\', \\'COD_POST_POLIZA_DP_CLUSTER_2019\\',\\n             \"COD_CAUSA_SINI\", \\n            ] # \"es_gte_5\", \"total_condicion\", \\n\\nfor col in to_remove:\\n    if(col in to_keep):\\n        to_keep.remove(col)\\nto_keep'"
      ]
     },
     "execution_count": 78,
     "metadata": {},
     "output_type": "execute_result"
    }
   ],
   "source": [
    "\"\"\"to_remove = ['COD_POST_POLIZA_RT_CLUSTER_2019', 'COD_POST_OCURRENCIA_RT_CLUSTER_2019',\n",
    "             'COD_POST_OCURRENCIA_RC_CLUSTER_2019',  'COD_POST_POLIZA_RC_CLUSTER_2019',\n",
    "             'COD_POST_OCURRENCIA_DP_CLUSTER_2019', 'COD_POST_POLIZA_DP_CLUSTER_2019',\n",
    "             \"COD_CAUSA_SINI\", \n",
    "            ] # \"es_gte_5\", \"total_condicion\", \n",
    "\n",
    "for col in to_remove:\n",
    "    if(col in to_keep):\n",
    "        to_keep.remove(col)\n",
    "to_keep\"\"\""
   ]
  },
  {
   "cell_type": "code",
   "execution_count": 79,
   "metadata": {},
   "outputs": [
    {
     "data": {
      "text/plain": [
       "LGBMClassifier(boosting_type='gbdt', class_weight={0: 1, 1: 345},\n",
       "               colsample_bytree=0.5, importance_type='split', learning_rate=0.1,\n",
       "               max_depth=-1, min_child_samples=11, min_child_weight=0.001,\n",
       "               min_split_gain=0.0, n_estimators=200, n_jobs=-1, num_leaves=31,\n",
       "               objective=None, random_state=0, reg_alpha=0.0, reg_lambda=0.0,\n",
       "               silent=False, subsample=1.0, subsample_for_bin=200000,\n",
       "               subsample_freq=0)"
      ]
     },
     "execution_count": 79,
     "metadata": {},
     "output_type": "execute_result"
    }
   ],
   "source": [
    "# best model\n",
    "best_model.best_estimator_"
   ]
  },
  {
   "cell_type": "markdown",
   "metadata": {},
   "source": [
    "### Training again with less features"
   ]
  },
  {
   "cell_type": "code",
   "execution_count": 80,
   "metadata": {},
   "outputs": [
    {
     "name": "stdout",
     "output_type": "stream",
     "text": [
      "74\n"
     ]
    }
   ],
   "source": [
    "X_train_red = X_train[to_keep].copy()\n",
    "print(len(X_train_red.columns))"
   ]
  },
  {
   "cell_type": "code",
   "execution_count": 81,
   "metadata": {},
   "outputs": [
    {
     "data": {
      "text/plain": [
       "LGBMClassifier(boosting_type='gbdt', class_weight={0: 1, 1: 345},\n",
       "               colsample_bytree=0.5, importance_type='split', learning_rate=0.1,\n",
       "               max_depth=-1, min_child_samples=11, min_child_weight=0.001,\n",
       "               min_split_gain=0.0, n_estimators=200, n_jobs=-1, num_leaves=31,\n",
       "               objective=None, random_state=0, reg_alpha=0.0, reg_lambda=0.0,\n",
       "               silent=False, subsample=1.0, subsample_for_bin=200000,\n",
       "               subsample_freq=0)"
      ]
     },
     "execution_count": 81,
     "metadata": {},
     "output_type": "execute_result"
    }
   ],
   "source": [
    "# rf = RandomForestClassifier(n_estimators=40, max_features=0.5, min_samples_leaf=7, random_state=random_state, n_jobs=-1)\n",
    "rf = copy(best_model.best_estimator_)\n",
    "rf.fit(X_train_red, y_train)"
   ]
  },
  {
   "cell_type": "code",
   "execution_count": 82,
   "metadata": {},
   "outputs": [
    {
     "data": {
      "text/plain": [
       "(0.0, 0.4999894362477552)"
      ]
     },
     "execution_count": 82,
     "metadata": {},
     "output_type": "execute_result"
    }
   ],
   "source": [
    "y_opt_pred = rf.predict(X_opt[to_keep])\n",
    "y_opt_f1_bestFI, y_opt_rocauc_bestFI = f1_score(y_opt, y_opt_pred), roc_auc_score(y_opt, y_opt_pred)\n",
    "y_opt_f1_bestFI, y_opt_rocauc_bestFI"
   ]
  },
  {
   "cell_type": "code",
   "execution_count": 83,
   "metadata": {},
   "outputs": [
    {
     "data": {
      "text/plain": [
       "array([[141992,      3],\n",
       "       [    45,      0]])"
      ]
     },
     "execution_count": 83,
     "metadata": {},
     "output_type": "execute_result"
    }
   ],
   "source": [
    "confusion_matrix(y_opt, y_opt_pred)"
   ]
  },
  {
   "cell_type": "markdown",
   "metadata": {},
   "source": [
    "array([[140442,   1553],\n",
    "       [    36,      9]])"
   ]
  },
  {
   "cell_type": "code",
   "execution_count": 57,
   "metadata": {},
   "outputs": [
    {
     "data": {
      "text/html": [
       "<div>\n",
       "<style scoped>\n",
       "    .dataframe tbody tr th:only-of-type {\n",
       "        vertical-align: middle;\n",
       "    }\n",
       "\n",
       "    .dataframe tbody tr th {\n",
       "        vertical-align: top;\n",
       "    }\n",
       "\n",
       "    .dataframe thead tr th {\n",
       "        text-align: left;\n",
       "    }\n",
       "\n",
       "    .dataframe thead tr:last-of-type th {\n",
       "        text-align: right;\n",
       "    }\n",
       "</style>\n",
       "<table border=\"1\" class=\"dataframe\">\n",
       "  <thead>\n",
       "    <tr>\n",
       "      <th>EXISTE_FRAUDE</th>\n",
       "      <th colspan=\"2\" halign=\"left\">False</th>\n",
       "      <th colspan=\"2\" halign=\"left\">True</th>\n",
       "    </tr>\n",
       "    <tr>\n",
       "      <th>col_1</th>\n",
       "      <th>False</th>\n",
       "      <th>True</th>\n",
       "      <th>False</th>\n",
       "      <th>True</th>\n",
       "    </tr>\n",
       "    <tr>\n",
       "      <th>TIPO_EXPED</th>\n",
       "      <th></th>\n",
       "      <th></th>\n",
       "      <th></th>\n",
       "      <th></th>\n",
       "    </tr>\n",
       "  </thead>\n",
       "  <tbody>\n",
       "    <tr>\n",
       "      <th>0</th>\n",
       "      <td>673</td>\n",
       "      <td>89</td>\n",
       "      <td>1</td>\n",
       "      <td>1</td>\n",
       "    </tr>\n",
       "    <tr>\n",
       "      <th>1</th>\n",
       "      <td>10191</td>\n",
       "      <td>1039</td>\n",
       "      <td>10</td>\n",
       "      <td>2</td>\n",
       "    </tr>\n",
       "    <tr>\n",
       "      <th>2</th>\n",
       "      <td>67060</td>\n",
       "      <td>51</td>\n",
       "      <td>7</td>\n",
       "      <td>0</td>\n",
       "    </tr>\n",
       "    <tr>\n",
       "      <th>3</th>\n",
       "      <td>60818</td>\n",
       "      <td>23</td>\n",
       "      <td>17</td>\n",
       "      <td>1</td>\n",
       "    </tr>\n",
       "    <tr>\n",
       "      <th>4</th>\n",
       "      <td>1700</td>\n",
       "      <td>351</td>\n",
       "      <td>1</td>\n",
       "      <td>5</td>\n",
       "    </tr>\n",
       "  </tbody>\n",
       "</table>\n",
       "</div>"
      ],
      "text/plain": [
       "EXISTE_FRAUDE  False       True       \n",
       "col_1          False True  False True \n",
       "TIPO_EXPED                            \n",
       "0                673    89     1     1\n",
       "1              10191  1039    10     2\n",
       "2              67060    51     7     0\n",
       "3              60818    23    17     1\n",
       "4               1700   351     1     5"
      ]
     },
     "execution_count": 57,
     "metadata": {},
     "output_type": "execute_result"
    }
   ],
   "source": [
    "pd.crosstab(X_opt[\"TIPO_EXPED\"], [df_opt[\"EXISTE_FRAUDE\"], y_opt_pred])"
   ]
  },
  {
   "cell_type": "code",
   "execution_count": 84,
   "metadata": {},
   "outputs": [
    {
     "data": {
      "image/png": "[encoded data removed]",
      "text/plain": [
       "<Figure size 432x288 with 1 Axes>"
      ]
     },
     "metadata": {
      "needs_background": "light"
     },
     "output_type": "display_data"
    }
   ],
   "source": [
    "rf_fi = pd.DataFrame({'cols':X_train_red.columns, 'fi':rf.feature_importances_}).sort_values('fi', ascending=False)\n",
    "rf_fi[:20].plot.bar(x=\"cols\")\n",
    "plt.xticks(rotation=\"vertical\")\n",
    "plt.show()"
   ]
  },
  {
   "cell_type": "code",
   "execution_count": null,
   "metadata": {},
   "outputs": [],
   "source": [
    "# best columns used\n",
    "rf_fi[\"cols\"].values"
   ]
  },
  {
   "cell_type": "markdown",
   "metadata": {},
   "source": [
    "# model with validation set"
   ]
  },
  {
   "cell_type": "markdown",
   "metadata": {
    "heading_collapsed": true
   },
   "source": [
    "## full features final model"
   ]
  },
  {
   "cell_type": "code",
   "execution_count": 77,
   "metadata": {
    "hidden": true
   },
   "outputs": [
    {
     "data": {
      "text/plain": [
       "LGBMClassifier(boosting_type='gbdt', class_weight={0: 1, 1: 14},\n",
       "               colsample_bytree=1.0, importance_type='split', learning_rate=0.1,\n",
       "               max_depth=-1, min_child_samples=20, min_child_weight=0.001,\n",
       "               min_split_gain=0.0, n_estimators=60, n_jobs=-1, num_leaves=31,\n",
       "               objective=None, random_state=0, reg_alpha=0.0, reg_lambda=0.0,\n",
       "               silent=False, subsample=1.0, subsample_for_bin=200000,\n",
       "               subsample_freq=0)"
      ]
     },
     "execution_count": 77,
     "metadata": {},
     "output_type": "execute_result"
    }
   ],
   "source": [
    "rf_full = copy(best_model)\n",
    "rf_full.fit(X_full_train, y_full_train)"
   ]
  },
  {
   "cell_type": "code",
   "execution_count": 78,
   "metadata": {
    "hidden": true
   },
   "outputs": [
    {
     "name": "stdout",
     "output_type": "stream",
     "text": [
      "0.468, 0.905\n"
     ]
    }
   ],
   "source": [
    "y_val_pred = rf_full.predict(X_val)\n",
    "y_val_f1_bestFI = f1_score(y_val, y_val_pred)\n",
    "y_val_rocauc_bestFI = roc_auc_score(y_val, rf_full.predict_proba(X_val)[:, -1])\n",
    "metric_results = \"%.3f, %.3f\" % (y_val_f1_bestFI, y_val_rocauc_bestFI)\n",
    "print(metric_results)"
   ]
  },
  {
   "cell_type": "code",
   "execution_count": 79,
   "metadata": {
    "hidden": true
   },
   "outputs": [
    {
     "data": {
      "text/plain": [
       "array([[4475,  388],\n",
       "       [  69,  201]])"
      ]
     },
     "execution_count": 79,
     "metadata": {},
     "output_type": "execute_result"
    }
   ],
   "source": [
    "conf_mat = confusion_matrix(y_val, y_val_pred)\n",
    "conf_mat"
   ]
  },
  {
   "cell_type": "code",
   "execution_count": 80,
   "metadata": {
    "hidden": true
   },
   "outputs": [
    {
     "data": {
      "text/plain": [
       "<matplotlib.axes._subplots.AxesSubplot at 0x7f4b4d7c7ba8>"
      ]
     },
     "execution_count": 80,
     "metadata": {},
     "output_type": "execute_result"
    },
    {
     "data": {
      "image/png": "[encoded data removed]",
      "text/plain": [
       "<Figure size 432x288 with 2 Axes>"
      ]
     },
     "metadata": {
      "needs_background": "light"
     },
     "output_type": "display_data"
    }
   ],
   "source": [
    "sns.heatmap(conf_mat, annot=True, fmt=\"d\")"
   ]
  },
  {
   "cell_type": "markdown",
   "metadata": {},
   "source": [
    "## red features final model"
   ]
  },
  {
   "cell_type": "code",
   "execution_count": 85,
   "metadata": {},
   "outputs": [
    {
     "data": {
      "text/plain": [
       "LGBMClassifier(boosting_type='gbdt', class_weight={0: 1, 1: 345},\n",
       "               colsample_bytree=0.5, importance_type='split', learning_rate=0.1,\n",
       "               max_depth=-1, min_child_samples=11, min_child_weight=0.001,\n",
       "               min_split_gain=0.0, n_estimators=200, n_jobs=-1, num_leaves=31,\n",
       "               objective=None, random_state=0, reg_alpha=0.0, reg_lambda=0.0,\n",
       "               silent=False, subsample=1.0, subsample_for_bin=200000,\n",
       "               subsample_freq=0)"
      ]
     },
     "execution_count": 85,
     "metadata": {},
     "output_type": "execute_result"
    }
   ],
   "source": [
    "rf_full = copy(best_model.best_estimator_)\n",
    "rf_full.fit(X_full_train[to_keep], y_full_train)"
   ]
  },
  {
   "cell_type": "code",
   "execution_count": 86,
   "metadata": {},
   "outputs": [
    {
     "name": "stdout",
     "output_type": "stream",
     "text": [
      "0.000, 0.803\n"
     ]
    },
    {
     "name": "stderr",
     "output_type": "stream",
     "text": [
      "/home/seba/anaconda3/lib/python3.6/site-packages/sklearn/metrics/classification.py:1437: UndefinedMetricWarning: F-score is ill-defined and being set to 0.0 due to no predicted samples.\n",
      "  'precision', 'predicted', average, warn_for)\n"
     ]
    }
   ],
   "source": [
    "y_val_pred_prob = rf_full.predict_proba(X_val[to_keep])[:, -1]\n",
    "y_val_pred = y_val_pred_prob > 0.5\n",
    "y_val_f1_bestFI = f1_score(y_val, y_val_pred)\n",
    "y_val_rocauc_bestFI = roc_auc_score(y_val, y_val_pred_prob)\n",
    "metric_results = \"%.3f, %.3f\" % (y_val_f1_bestFI, y_val_rocauc_bestFI)\n",
    "print(metric_results)"
   ]
  },
  {
   "cell_type": "code",
   "execution_count": 87,
   "metadata": {},
   "outputs": [
    {
     "data": {
      "text/plain": [
       "<matplotlib.axes._subplots.AxesSubplot at 0x7f732d89a940>"
      ]
     },
     "execution_count": 87,
     "metadata": {},
     "output_type": "execute_result"
    },
    {
     "data": {
      "image/png": "[encoded data removed]",
      "text/plain": [
       "<Figure size 432x288 with 2 Axes>"
      ]
     },
     "metadata": {
      "needs_background": "light"
     },
     "output_type": "display_data"
    }
   ],
   "source": [
    "conf_mat = confusion_matrix(y_val, y_val_pred)\n",
    "sns.heatmap(conf_mat, annot=True, fmt=\"d\")"
   ]
  },
  {
   "cell_type": "code",
   "execution_count": 62,
   "metadata": {},
   "outputs": [
    {
     "data": {
      "text/html": [
       "<div>\n",
       "<style scoped>\n",
       "    .dataframe tbody tr th:only-of-type {\n",
       "        vertical-align: middle;\n",
       "    }\n",
       "\n",
       "    .dataframe tbody tr th {\n",
       "        vertical-align: top;\n",
       "    }\n",
       "\n",
       "    .dataframe thead tr th {\n",
       "        text-align: left;\n",
       "    }\n",
       "\n",
       "    .dataframe thead tr:last-of-type th {\n",
       "        text-align: right;\n",
       "    }\n",
       "</style>\n",
       "<table border=\"1\" class=\"dataframe\">\n",
       "  <thead>\n",
       "    <tr>\n",
       "      <th>EXISTE_FRAUDE</th>\n",
       "      <th colspan=\"2\" halign=\"left\">False</th>\n",
       "      <th colspan=\"2\" halign=\"left\">True</th>\n",
       "    </tr>\n",
       "    <tr>\n",
       "      <th>col_1</th>\n",
       "      <th>False</th>\n",
       "      <th>True</th>\n",
       "      <th>False</th>\n",
       "      <th>True</th>\n",
       "    </tr>\n",
       "    <tr>\n",
       "      <th>TIPO_EXPED</th>\n",
       "      <th></th>\n",
       "      <th></th>\n",
       "      <th></th>\n",
       "      <th></th>\n",
       "    </tr>\n",
       "  </thead>\n",
       "  <tbody>\n",
       "    <tr>\n",
       "      <th>0</th>\n",
       "      <td>378</td>\n",
       "      <td>1</td>\n",
       "      <td>2</td>\n",
       "      <td>0</td>\n",
       "    </tr>\n",
       "    <tr>\n",
       "      <th>1</th>\n",
       "      <td>5178</td>\n",
       "      <td>9</td>\n",
       "      <td>7</td>\n",
       "      <td>0</td>\n",
       "    </tr>\n",
       "    <tr>\n",
       "      <th>2</th>\n",
       "      <td>30794</td>\n",
       "      <td>0</td>\n",
       "      <td>3</td>\n",
       "      <td>0</td>\n",
       "    </tr>\n",
       "    <tr>\n",
       "      <th>3</th>\n",
       "      <td>28085</td>\n",
       "      <td>0</td>\n",
       "      <td>4</td>\n",
       "      <td>0</td>\n",
       "    </tr>\n",
       "    <tr>\n",
       "      <th>4</th>\n",
       "      <td>813</td>\n",
       "      <td>118</td>\n",
       "      <td>0</td>\n",
       "      <td>1</td>\n",
       "    </tr>\n",
       "  </tbody>\n",
       "</table>\n",
       "</div>"
      ],
      "text/plain": [
       "EXISTE_FRAUDE  False       True       \n",
       "col_1          False True  False True \n",
       "TIPO_EXPED                            \n",
       "0                378     1     2     0\n",
       "1               5178     9     7     0\n",
       "2              30794     0     3     0\n",
       "3              28085     0     4     0\n",
       "4                813   118     0     1"
      ]
     },
     "execution_count": 62,
     "metadata": {},
     "output_type": "execute_result"
    }
   ],
   "source": [
    "pd.crosstab(X_val[\"TIPO_EXPED\"], [y_val, y_val_pred])"
   ]
  },
  {
   "cell_type": "code",
   "execution_count": 96,
   "metadata": {},
   "outputs": [],
   "source": [
    "# run this to save the reduce model\n",
    "best_model = copy(rf_full)"
   ]
  },
  {
   "cell_type": "markdown",
   "metadata": {},
   "source": [
    "## Tronador (sum cond >=5) comparison"
   ]
  },
  {
   "cell_type": "code",
   "execution_count": 63,
   "metadata": {},
   "outputs": [
    {
     "name": "stdout",
     "output_type": "stream",
     "text": [
      "(0.0,0.5)\n"
     ]
    },
    {
     "name": "stderr",
     "output_type": "stream",
     "text": [
      "/home/seba/anaconda3/lib/python3.6/site-packages/sklearn/metrics/classification.py:1437: UndefinedMetricWarning: F-score is ill-defined and being set to 0.0 due to no predicted samples.\n",
      "  'precision', 'predicted', average, warn_for)\n"
     ]
    }
   ],
   "source": [
    "# comparing against > 5 logic\n",
    "y_tronador = X_val[\"total_condicion\"] >= 5\n",
    "print(f\"({f1_score(y_val, y_tronador)},{roc_auc_score(y_val, y_tronador)})\")"
   ]
  },
  {
   "cell_type": "code",
   "execution_count": 64,
   "metadata": {},
   "outputs": [
    {
     "data": {
      "text/plain": [
       "<matplotlib.axes._subplots.AxesSubplot at 0x7f1f1114f470>"
      ]
     },
     "execution_count": 64,
     "metadata": {},
     "output_type": "execute_result"
    },
    {
     "data": {
      "image/png": "[encoded data removed]",
      "text/plain": [
       "<Figure size 432x288 with 2 Axes>"
      ]
     },
     "metadata": {
      "needs_background": "light"
     },
     "output_type": "display_data"
    }
   ],
   "source": [
    "conf_mat = confusion_matrix(y_val, y_tronador)\n",
    "sns.heatmap(conf_mat, annot=True, fmt=\"d\")"
   ]
  },
  {
   "cell_type": "markdown",
   "metadata": {},
   "source": [
    "## Model % sec != 0.5"
   ]
  },
  {
   "cell_type": "code",
   "execution_count": 78,
   "metadata": {},
   "outputs": [
    {
     "name": "stdout",
     "output_type": "stream",
     "text": [
      "0.014, 0.833\n"
     ]
    },
    {
     "data": {
      "text/plain": [
       "<matplotlib.axes._subplots.AxesSubplot at 0x7f1f092bd748>"
      ]
     },
     "execution_count": 78,
     "metadata": {},
     "output_type": "execute_result"
    },
    {
     "data": {
      "image/png": "[encoded data removed]",
      "text/plain": [
       "<Figure size 432x288 with 2 Axes>"
      ]
     },
     "metadata": {
      "needs_background": "light"
     },
     "output_type": "display_data"
    }
   ],
   "source": [
    "porc_sec = 0.5\n",
    "y_val_pred = y_val_pred_prob >= porc_sec\n",
    "y_val_f1_bestFI = f1_score(y_val, y_val_pred)\n",
    "y_val_rocauc_bestFI = roc_auc_score(y_val, y_val_pred_prob)\n",
    "metric_results = \"%.3f, %.3f\" % (y_val_f1_bestFI, y_val_rocauc_bestFI)\n",
    "print(metric_results)\n",
    "conf_mat = confusion_matrix(y_val, y_val_pred)\n",
    "sns.heatmap(conf_mat, annot=True, fmt=\"d\")"
   ]
  },
  {
   "cell_type": "code",
   "execution_count": 79,
   "metadata": {},
   "outputs": [
    {
     "data": {
      "text/html": [
       "<div>\n",
       "<style scoped>\n",
       "    .dataframe tbody tr th:only-of-type {\n",
       "        vertical-align: middle;\n",
       "    }\n",
       "\n",
       "    .dataframe tbody tr th {\n",
       "        vertical-align: top;\n",
       "    }\n",
       "\n",
       "    .dataframe thead tr th {\n",
       "        text-align: left;\n",
       "    }\n",
       "\n",
       "    .dataframe thead tr:last-of-type th {\n",
       "        text-align: right;\n",
       "    }\n",
       "</style>\n",
       "<table border=\"1\" class=\"dataframe\">\n",
       "  <thead>\n",
       "    <tr>\n",
       "      <th>EXISTE_FRAUDE</th>\n",
       "      <th colspan=\"2\" halign=\"left\">False</th>\n",
       "      <th colspan=\"2\" halign=\"left\">True</th>\n",
       "    </tr>\n",
       "    <tr>\n",
       "      <th>col_1</th>\n",
       "      <th>False</th>\n",
       "      <th>True</th>\n",
       "      <th>False</th>\n",
       "      <th>True</th>\n",
       "    </tr>\n",
       "    <tr>\n",
       "      <th>TIPO_EXPED</th>\n",
       "      <th></th>\n",
       "      <th></th>\n",
       "      <th></th>\n",
       "      <th></th>\n",
       "    </tr>\n",
       "  </thead>\n",
       "  <tbody>\n",
       "    <tr>\n",
       "      <th>0</th>\n",
       "      <td>378</td>\n",
       "      <td>1</td>\n",
       "      <td>2</td>\n",
       "      <td>0</td>\n",
       "    </tr>\n",
       "    <tr>\n",
       "      <th>1</th>\n",
       "      <td>5178</td>\n",
       "      <td>9</td>\n",
       "      <td>7</td>\n",
       "      <td>0</td>\n",
       "    </tr>\n",
       "    <tr>\n",
       "      <th>2</th>\n",
       "      <td>30794</td>\n",
       "      <td>0</td>\n",
       "      <td>3</td>\n",
       "      <td>0</td>\n",
       "    </tr>\n",
       "    <tr>\n",
       "      <th>3</th>\n",
       "      <td>28085</td>\n",
       "      <td>0</td>\n",
       "      <td>4</td>\n",
       "      <td>0</td>\n",
       "    </tr>\n",
       "    <tr>\n",
       "      <th>4</th>\n",
       "      <td>813</td>\n",
       "      <td>118</td>\n",
       "      <td>0</td>\n",
       "      <td>1</td>\n",
       "    </tr>\n",
       "  </tbody>\n",
       "</table>\n",
       "</div>"
      ],
      "text/plain": [
       "EXISTE_FRAUDE  False       True       \n",
       "col_1          False True  False True \n",
       "TIPO_EXPED                            \n",
       "0                378     1     2     0\n",
       "1               5178     9     7     0\n",
       "2              30794     0     3     0\n",
       "3              28085     0     4     0\n",
       "4                813   118     0     1"
      ]
     },
     "execution_count": 79,
     "metadata": {},
     "output_type": "execute_result"
    }
   ],
   "source": [
    "pd.crosstab(X_val[\"TIPO_EXPED\"], [y_val, y_val_pred])"
   ]
  },
  {
   "cell_type": "markdown",
   "metadata": {},
   "source": [
    "# Saving final model & columns used into hard drive"
   ]
  },
  {
   "cell_type": "code",
   "execution_count": 84,
   "metadata": {},
   "outputs": [],
   "source": [
    "path_to_save = f\"models/{model_id}/\"\n",
    "os.makedirs(path_to_save, exist_ok=True)"
   ]
  },
  {
   "cell_type": "code",
   "execution_count": 97,
   "metadata": {},
   "outputs": [],
   "source": [
    "model_file = os.path.join(path_to_save, f\"{model_id}.pickle\")\n",
    "\n",
    "with open(model_file, \"wb\") as f:\n",
    "    pickle.dump(best_model, f, pickle.HIGHEST_PROTOCOL)"
   ]
  },
  {
   "cell_type": "code",
   "execution_count": 98,
   "metadata": {},
   "outputs": [],
   "source": [
    "# save file for humans\n",
    "model_file = os.path.join(path_to_save, f\"{model_id} - readable.pickle\")\n",
    "\n",
    "with open(model_file, \"wb\") as f:\n",
    "    pickle.dump(best_model, f, 0) # 0 is human readable format"
   ]
  },
  {
   "cell_type": "code",
   "execution_count": 87,
   "metadata": {},
   "outputs": [
    {
     "name": "stdout",
     "output_type": "stream",
     "text": [
      "['cond_C1', 'TIPO_LESION', 'dist_fformal_fsini', 'TIPO_EXPED', 'COD_POST_OCURRENCIA_RC_CLUSTER_2019', 'cond_C6', 'DANOS_MATERIALES', 'COD_CAUSA_SINI', 'COD_POST_POLIZA_RC_CLUSTER_2019', 'FALTANTE', 'dias_entre_denu_y_sini', 'cond_C15', 'cond_C7', 'CODIGO_VEHICULO', 'SEGMENTO', 'COD_PROD', 'ESTADO_CIVIL', 'dist_fformal_fdenu']\n"
     ]
    }
   ],
   "source": [
    "# merging list input & target\n",
    "full_cols = list(to_keep)  # + [\"EXISTE_FRAUDE\"]\n",
    "print(full_cols)"
   ]
  },
  {
   "cell_type": "code",
   "execution_count": 88,
   "metadata": {},
   "outputs": [],
   "source": [
    "columns_file = os.path.join(path_to_save, f\"{model_id} (COLUMNS) - n_features_{len(full_cols)}.pickle\")\n",
    "\n",
    "with open(columns_file, \"wb\") as file:\n",
    "    pickle.dump(full_cols, file, pickle.HIGHEST_PROTOCOL)"
   ]
  },
  {
   "cell_type": "code",
   "execution_count": 120,
   "metadata": {},
   "outputs": [],
   "source": [
    "# saving to use as example a few rows to implement the model\n",
    "# path_to_save = \"../../src/data/1.1 - df_train 01-18to12-18/\"\n",
    "# sample_file = os.path.join(path_to_save, f\"{model_id} (sample)  - dataset example to predict model.csv\")\n",
    "\n",
    "# df_example = X_val.loc[:, to_keep][-50:]\n",
    "# df_example[\"EXISTE_FRAUDE\"] = y_val[-50:]\n",
    "# df_example.to_csv(sample_file)"
   ]
  },
  {
   "cell_type": "code",
   "execution_count": null,
   "metadata": {},
   "outputs": [],
   "source": [
    "# df_example.head()"
   ]
  },
  {
   "cell_type": "markdown",
   "metadata": {},
   "source": [
    "# Test prediction"
   ]
  },
  {
   "cell_type": "code",
   "execution_count": 80,
   "metadata": {},
   "outputs": [],
   "source": [
    "df_test = pd.read_feather(os.path.join(path, \"1.2.b - group zone - 01-17 to 01-19 - df_test 04-19to04-19.feather\"))"
   ]
  },
  {
   "cell_type": "code",
   "execution_count": 81,
   "metadata": {},
   "outputs": [],
   "source": [
    "# Select all non 060 tipo exped.\n",
    "# 'None': 7,  '003': 2,  '060': 6,  '010': 3,  '020': 4,  '002': 1,  '050': 5,  '001': 0\n",
    "df_test = df_test[(df_test[\"total_condicion\"] < 4)]"
   ]
  },
  {
   "cell_type": "code",
   "execution_count": 89,
   "metadata": {},
   "outputs": [],
   "source": [
    "# Loding the model\n",
    "\n",
    "def load_model(model_file):\n",
    "    \"\"\"Load the dump model.\"\"\"\n",
    "    with open(model_file, \"rb\") as file:\n",
    "        m = pickle.load(file)\n",
    "    return m\n",
    "\n",
    "\n",
    "def load_columns(columns_file):\n",
    "    \"\"\"Load the array of columns use in the dump model.\"\"\"\n",
    "    with open(columns_file, \"rb\") as file:\n",
    "        columns = pickle.load(file)\n",
    "    return columns"
   ]
  },
  {
   "cell_type": "code",
   "execution_count": 99,
   "metadata": {},
   "outputs": [],
   "source": [
    "m = load_model(model_file)\n",
    "columns = load_columns(columns_file)"
   ]
  },
  {
   "cell_type": "code",
   "execution_count": 91,
   "metadata": {},
   "outputs": [
    {
     "name": "stdout",
     "output_type": "stream",
     "text": [
      "['cond_C1', 'TIPO_LESION', 'dist_fformal_fsini', 'TIPO_EXPED', 'COD_POST_OCURRENCIA_RC_CLUSTER_2019', 'cond_C6', 'DANOS_MATERIALES', 'COD_CAUSA_SINI', 'COD_POST_POLIZA_RC_CLUSTER_2019', 'FALTANTE', 'dias_entre_denu_y_sini', 'cond_C15', 'cond_C7', 'CODIGO_VEHICULO', 'SEGMENTO', 'COD_PROD', 'ESTADO_CIVIL', 'dist_fformal_fdenu']\n"
     ]
    }
   ],
   "source": [
    "print(columns)"
   ]
  },
  {
   "cell_type": "code",
   "execution_count": 92,
   "metadata": {},
   "outputs": [
    {
     "data": {
      "text/plain": [
       "0    28594\n",
       "1     5221\n",
       "2      337\n",
       "3       17\n",
       "Name: cant_cond, dtype: int64"
      ]
     },
     "execution_count": 92,
     "metadata": {},
     "output_type": "execute_result"
    }
   ],
   "source": [
    "# create cant_cond column\n",
    "cond_cols = df.filter(regex=\"^cond_\").columns\n",
    "df_test[\"cant_cond\"] = (df_test[cond_cols] > 0).sum(axis=1)\n",
    "df_test[\"cant_cond\"].value_counts(dropna=False)"
   ]
  },
  {
   "cell_type": "code",
   "execution_count": 93,
   "metadata": {},
   "outputs": [],
   "source": [
    "X_test = df_test[columns]\n",
    "y_test = df_test[\"EXISTE_FRAUDE\"]"
   ]
  },
  {
   "cell_type": "code",
   "execution_count": 94,
   "metadata": {},
   "outputs": [
    {
     "data": {
      "text/html": [
       "<div>\n",
       "<style scoped>\n",
       "    .dataframe tbody tr th:only-of-type {\n",
       "        vertical-align: middle;\n",
       "    }\n",
       "\n",
       "    .dataframe tbody tr th {\n",
       "        vertical-align: top;\n",
       "    }\n",
       "\n",
       "    .dataframe thead th {\n",
       "        text-align: right;\n",
       "    }\n",
       "</style>\n",
       "<table border=\"1\" class=\"dataframe\">\n",
       "  <thead>\n",
       "    <tr style=\"text-align: right;\">\n",
       "      <th></th>\n",
       "      <th>cond_C1</th>\n",
       "      <th>TIPO_LESION</th>\n",
       "      <th>dist_fformal_fsini</th>\n",
       "      <th>TIPO_EXPED</th>\n",
       "      <th>COD_POST_OCURRENCIA_RC_CLUSTER_2019</th>\n",
       "      <th>cond_C6</th>\n",
       "      <th>DANOS_MATERIALES</th>\n",
       "      <th>COD_CAUSA_SINI</th>\n",
       "      <th>COD_POST_POLIZA_RC_CLUSTER_2019</th>\n",
       "      <th>FALTANTE</th>\n",
       "      <th>dias_entre_denu_y_sini</th>\n",
       "      <th>cond_C15</th>\n",
       "      <th>cond_C7</th>\n",
       "      <th>CODIGO_VEHICULO</th>\n",
       "      <th>SEGMENTO</th>\n",
       "      <th>COD_PROD</th>\n",
       "      <th>ESTADO_CIVIL</th>\n",
       "      <th>dist_fformal_fdenu</th>\n",
       "    </tr>\n",
       "  </thead>\n",
       "  <tbody>\n",
       "    <tr>\n",
       "      <th>0</th>\n",
       "      <td>-1.0</td>\n",
       "      <td>-1</td>\n",
       "      <td>-1.0</td>\n",
       "      <td>3</td>\n",
       "      <td>26.0</td>\n",
       "      <td>-1.0</td>\n",
       "      <td>0</td>\n",
       "      <td>226.0</td>\n",
       "      <td>26.0</td>\n",
       "      <td>1</td>\n",
       "      <td>0.0</td>\n",
       "      <td>0.0</td>\n",
       "      <td>-1.0</td>\n",
       "      <td>18380.0</td>\n",
       "      <td>5</td>\n",
       "      <td>73747.0</td>\n",
       "      <td>0</td>\n",
       "      <td>-1.0</td>\n",
       "    </tr>\n",
       "    <tr>\n",
       "      <th>1</th>\n",
       "      <td>-1.0</td>\n",
       "      <td>-1</td>\n",
       "      <td>-1.0</td>\n",
       "      <td>3</td>\n",
       "      <td>26.0</td>\n",
       "      <td>-1.0</td>\n",
       "      <td>0</td>\n",
       "      <td>226.0</td>\n",
       "      <td>26.0</td>\n",
       "      <td>1</td>\n",
       "      <td>0.0</td>\n",
       "      <td>0.0</td>\n",
       "      <td>-1.0</td>\n",
       "      <td>6846.0</td>\n",
       "      <td>4</td>\n",
       "      <td>5350.0</td>\n",
       "      <td>0</td>\n",
       "      <td>-1.0</td>\n",
       "    </tr>\n",
       "    <tr>\n",
       "      <th>3</th>\n",
       "      <td>0.0</td>\n",
       "      <td>-1</td>\n",
       "      <td>-1.0</td>\n",
       "      <td>2</td>\n",
       "      <td>8.0</td>\n",
       "      <td>0.0</td>\n",
       "      <td>0</td>\n",
       "      <td>501.0</td>\n",
       "      <td>8.0</td>\n",
       "      <td>1</td>\n",
       "      <td>0.0</td>\n",
       "      <td>0.0</td>\n",
       "      <td>0.0</td>\n",
       "      <td>5611.0</td>\n",
       "      <td>5</td>\n",
       "      <td>72948.0</td>\n",
       "      <td>6</td>\n",
       "      <td>-1.0</td>\n",
       "    </tr>\n",
       "    <tr>\n",
       "      <th>4</th>\n",
       "      <td>-1.0</td>\n",
       "      <td>-1</td>\n",
       "      <td>-1.0</td>\n",
       "      <td>3</td>\n",
       "      <td>8.0</td>\n",
       "      <td>-1.0</td>\n",
       "      <td>0</td>\n",
       "      <td>501.0</td>\n",
       "      <td>8.0</td>\n",
       "      <td>1</td>\n",
       "      <td>0.0</td>\n",
       "      <td>0.0</td>\n",
       "      <td>-1.0</td>\n",
       "      <td>5611.0</td>\n",
       "      <td>5</td>\n",
       "      <td>72948.0</td>\n",
       "      <td>6</td>\n",
       "      <td>-1.0</td>\n",
       "    </tr>\n",
       "    <tr>\n",
       "      <th>5</th>\n",
       "      <td>0.0</td>\n",
       "      <td>-1</td>\n",
       "      <td>-1.0</td>\n",
       "      <td>2</td>\n",
       "      <td>25.0</td>\n",
       "      <td>0.0</td>\n",
       "      <td>0</td>\n",
       "      <td>501.0</td>\n",
       "      <td>25.0</td>\n",
       "      <td>1</td>\n",
       "      <td>0.0</td>\n",
       "      <td>0.0</td>\n",
       "      <td>0.0</td>\n",
       "      <td>2114.0</td>\n",
       "      <td>-1</td>\n",
       "      <td>72189.0</td>\n",
       "      <td>0</td>\n",
       "      <td>-1.0</td>\n",
       "    </tr>\n",
       "  </tbody>\n",
       "</table>\n",
       "</div>"
      ],
      "text/plain": [
       "   cond_C1  TIPO_LESION  dist_fformal_fsini  TIPO_EXPED  \\\n",
       "0     -1.0           -1                -1.0           3   \n",
       "1     -1.0           -1                -1.0           3   \n",
       "3      0.0           -1                -1.0           2   \n",
       "4     -1.0           -1                -1.0           3   \n",
       "5      0.0           -1                -1.0           2   \n",
       "\n",
       "   COD_POST_OCURRENCIA_RC_CLUSTER_2019  cond_C6  DANOS_MATERIALES  \\\n",
       "0                                 26.0     -1.0                 0   \n",
       "1                                 26.0     -1.0                 0   \n",
       "3                                  8.0      0.0                 0   \n",
       "4                                  8.0     -1.0                 0   \n",
       "5                                 25.0      0.0                 0   \n",
       "\n",
       "   COD_CAUSA_SINI  COD_POST_POLIZA_RC_CLUSTER_2019  FALTANTE  \\\n",
       "0           226.0                             26.0         1   \n",
       "1           226.0                             26.0         1   \n",
       "3           501.0                              8.0         1   \n",
       "4           501.0                              8.0         1   \n",
       "5           501.0                             25.0         1   \n",
       "\n",
       "   dias_entre_denu_y_sini  cond_C15  cond_C7  CODIGO_VEHICULO  SEGMENTO  \\\n",
       "0                     0.0       0.0     -1.0          18380.0         5   \n",
       "1                     0.0       0.0     -1.0           6846.0         4   \n",
       "3                     0.0       0.0      0.0           5611.0         5   \n",
       "4                     0.0       0.0     -1.0           5611.0         5   \n",
       "5                     0.0       0.0      0.0           2114.0        -1   \n",
       "\n",
       "   COD_PROD  ESTADO_CIVIL  dist_fformal_fdenu  \n",
       "0   73747.0             0                -1.0  \n",
       "1    5350.0             0                -1.0  \n",
       "3   72948.0             6                -1.0  \n",
       "4   72948.0             6                -1.0  \n",
       "5   72189.0             0                -1.0  "
      ]
     },
     "execution_count": 94,
     "metadata": {},
     "output_type": "execute_result"
    }
   ],
   "source": [
    "X_test.head()"
   ]
  },
  {
   "cell_type": "markdown",
   "metadata": {},
   "source": [
    "## Model in test"
   ]
  },
  {
   "cell_type": "code",
   "execution_count": 100,
   "metadata": {},
   "outputs": [
    {
     "name": "stdout",
     "output_type": "stream",
     "text": [
      "0.000, 0.940\n"
     ]
    }
   ],
   "source": [
    "# using trained model\n",
    "y_test_pred_prob = m.predict_proba(X_test)[:, -1]\n",
    "\n",
    "# Using load model\n",
    "# y_test_pred_prob = m.predict_proba(X_test)[:, -1]\n",
    "\n",
    "print(\"%.3f, %.3f\" % (f1_score(y_test, y_test_pred_prob > 0.5), roc_auc_score(y_test, y_test_pred_prob)))"
   ]
  },
  {
   "cell_type": "code",
   "execution_count": 101,
   "metadata": {},
   "outputs": [
    {
     "data": {
      "text/plain": [
       "<matplotlib.axes._subplots.AxesSubplot at 0x7f1f09199ba8>"
      ]
     },
     "execution_count": 101,
     "metadata": {},
     "output_type": "execute_result"
    },
    {
     "data": {
      "image/png": "[encoded data removed]",
      "text/plain": [
       "<Figure size 432x288 with 2 Axes>"
      ]
     },
     "metadata": {
      "needs_background": "light"
     },
     "output_type": "display_data"
    }
   ],
   "source": [
    "conf_mat = confusion_matrix(y_test, y_test_pred_prob > 0.5)\n",
    "sns.heatmap(conf_mat, annot=True, fmt=\"d\")"
   ]
  },
  {
   "cell_type": "code",
   "execution_count": 102,
   "metadata": {},
   "outputs": [
    {
     "data": {
      "text/html": [
       "<div>\n",
       "<style scoped>\n",
       "    .dataframe tbody tr th:only-of-type {\n",
       "        vertical-align: middle;\n",
       "    }\n",
       "\n",
       "    .dataframe tbody tr th {\n",
       "        vertical-align: top;\n",
       "    }\n",
       "\n",
       "    .dataframe thead tr th {\n",
       "        text-align: left;\n",
       "    }\n",
       "\n",
       "    .dataframe thead tr:last-of-type th {\n",
       "        text-align: right;\n",
       "    }\n",
       "</style>\n",
       "<table border=\"1\" class=\"dataframe\">\n",
       "  <thead>\n",
       "    <tr>\n",
       "      <th>EXISTE_FRAUDE</th>\n",
       "      <th colspan=\"2\" halign=\"left\">False</th>\n",
       "      <th>True</th>\n",
       "    </tr>\n",
       "    <tr>\n",
       "      <th>col_1</th>\n",
       "      <th>False</th>\n",
       "      <th>True</th>\n",
       "      <th>False</th>\n",
       "    </tr>\n",
       "    <tr>\n",
       "      <th>TIPO_EXPED</th>\n",
       "      <th></th>\n",
       "      <th></th>\n",
       "      <th></th>\n",
       "    </tr>\n",
       "  </thead>\n",
       "  <tbody>\n",
       "    <tr>\n",
       "      <th>0</th>\n",
       "      <td>158</td>\n",
       "      <td>0</td>\n",
       "      <td>0</td>\n",
       "    </tr>\n",
       "    <tr>\n",
       "      <th>1</th>\n",
       "      <td>2537</td>\n",
       "      <td>1</td>\n",
       "      <td>0</td>\n",
       "    </tr>\n",
       "    <tr>\n",
       "      <th>2</th>\n",
       "      <td>16053</td>\n",
       "      <td>0</td>\n",
       "      <td>0</td>\n",
       "    </tr>\n",
       "    <tr>\n",
       "      <th>3</th>\n",
       "      <td>12491</td>\n",
       "      <td>0</td>\n",
       "      <td>1</td>\n",
       "    </tr>\n",
       "    <tr>\n",
       "      <th>4</th>\n",
       "      <td>391</td>\n",
       "      <td>42</td>\n",
       "      <td>0</td>\n",
       "    </tr>\n",
       "    <tr>\n",
       "      <th>5</th>\n",
       "      <td>194</td>\n",
       "      <td>55</td>\n",
       "      <td>5</td>\n",
       "    </tr>\n",
       "    <tr>\n",
       "      <th>6</th>\n",
       "      <td>2193</td>\n",
       "      <td>26</td>\n",
       "      <td>22</td>\n",
       "    </tr>\n",
       "  </tbody>\n",
       "</table>\n",
       "</div>"
      ],
      "text/plain": [
       "EXISTE_FRAUDE  False       True \n",
       "col_1          False True  False\n",
       "TIPO_EXPED                      \n",
       "0                158     0     0\n",
       "1               2537     1     0\n",
       "2              16053     0     0\n",
       "3              12491     0     1\n",
       "4                391    42     0\n",
       "5                194    55     5\n",
       "6               2193    26    22"
      ]
     },
     "execution_count": 102,
     "metadata": {},
     "output_type": "execute_result"
    }
   ],
   "source": [
    "pd.crosstab(X_test[\"TIPO_EXPED\"], [y_test, y_test_pred_prob > 0.5])"
   ]
  },
  {
   "cell_type": "markdown",
   "metadata": {},
   "source": [
    "## Tronador in test"
   ]
  },
  {
   "cell_type": "code",
   "execution_count": 162,
   "metadata": {},
   "outputs": [
    {
     "name": "stdout",
     "output_type": "stream",
     "text": [
      "0.000, 0.500\n"
     ]
    },
    {
     "name": "stderr",
     "output_type": "stream",
     "text": [
      "/home/seba/anaconda3/lib/python3.6/site-packages/sklearn/metrics/classification.py:1437: UndefinedMetricWarning: F-score is ill-defined and being set to 0.0 due to no predicted samples.\n",
      "  'precision', 'predicted', average, warn_for)\n"
     ]
    }
   ],
   "source": [
    "y_tronador = df_test[\"es_gte_5\"]\n",
    "print(\"%.3f, %.3f\" % (f1_score(y_test, y_tronador), roc_auc_score(y_test, y_tronador)))"
   ]
  },
  {
   "cell_type": "code",
   "execution_count": 163,
   "metadata": {},
   "outputs": [
    {
     "data": {
      "text/plain": [
       "<matplotlib.axes._subplots.AxesSubplot at 0x7efef18b93c8>"
      ]
     },
     "execution_count": 163,
     "metadata": {},
     "output_type": "execute_result"
    },
    {
     "data": {
      "image/png": "[encoded data removed]",
      "text/plain": [
       "<Figure size 432x288 with 2 Axes>"
      ]
     },
     "metadata": {
      "needs_background": "light"
     },
     "output_type": "display_data"
    }
   ],
   "source": [
    "conf_mat = confusion_matrix(y_test, y_tronador)\n",
    "sns.heatmap(conf_mat, annot=True, fmt=\"d\")"
   ]
  },
  {
   "cell_type": "code",
   "execution_count": 5,
   "metadata": {
    "scrolled": true
   },
   "outputs": [
    {
     "data": {
      "text/html": [
       "<div>\n",
       "<style scoped>\n",
       "    .dataframe tbody tr th:only-of-type {\n",
       "        vertical-align: middle;\n",
       "    }\n",
       "\n",
       "    .dataframe tbody tr th {\n",
       "        vertical-align: top;\n",
       "    }\n",
       "\n",
       "    .dataframe thead th {\n",
       "        text-align: right;\n",
       "    }\n",
       "</style>\n",
       "<table border=\"1\" class=\"dataframe\">\n",
       "  <thead>\n",
       "    <tr style=\"text-align: right;\">\n",
       "      <th>EXISTE_FRAUDE</th>\n",
       "      <th>False</th>\n",
       "      <th>True</th>\n",
       "    </tr>\n",
       "    <tr>\n",
       "      <th>total_condicion</th>\n",
       "      <th></th>\n",
       "      <th></th>\n",
       "    </tr>\n",
       "  </thead>\n",
       "  <tbody>\n",
       "    <tr>\n",
       "      <th>0.0</th>\n",
       "      <td>1595</td>\n",
       "      <td>10</td>\n",
       "    </tr>\n",
       "    <tr>\n",
       "      <th>1.0</th>\n",
       "      <td>134</td>\n",
       "      <td>1</td>\n",
       "    </tr>\n",
       "    <tr>\n",
       "      <th>2.0</th>\n",
       "      <td>239</td>\n",
       "      <td>1</td>\n",
       "    </tr>\n",
       "    <tr>\n",
       "      <th>3.0</th>\n",
       "      <td>251</td>\n",
       "      <td>10</td>\n",
       "    </tr>\n",
       "    <tr>\n",
       "      <th>4.0</th>\n",
       "      <td>17</td>\n",
       "      <td>0</td>\n",
       "    </tr>\n",
       "    <tr>\n",
       "      <th>5.0</th>\n",
       "      <td>80</td>\n",
       "      <td>30</td>\n",
       "    </tr>\n",
       "    <tr>\n",
       "      <th>6.0</th>\n",
       "      <td>23</td>\n",
       "      <td>5</td>\n",
       "    </tr>\n",
       "    <tr>\n",
       "      <th>7.0</th>\n",
       "      <td>3</td>\n",
       "      <td>3</td>\n",
       "    </tr>\n",
       "    <tr>\n",
       "      <th>8.0</th>\n",
       "      <td>15</td>\n",
       "      <td>6</td>\n",
       "    </tr>\n",
       "    <tr>\n",
       "      <th>9.0</th>\n",
       "      <td>0</td>\n",
       "      <td>1</td>\n",
       "    </tr>\n",
       "    <tr>\n",
       "      <th>10.0</th>\n",
       "      <td>11</td>\n",
       "      <td>8</td>\n",
       "    </tr>\n",
       "    <tr>\n",
       "      <th>11.0</th>\n",
       "      <td>0</td>\n",
       "      <td>1</td>\n",
       "    </tr>\n",
       "    <tr>\n",
       "      <th>12.0</th>\n",
       "      <td>2</td>\n",
       "      <td>5</td>\n",
       "    </tr>\n",
       "    <tr>\n",
       "      <th>13.0</th>\n",
       "      <td>1</td>\n",
       "      <td>4</td>\n",
       "    </tr>\n",
       "    <tr>\n",
       "      <th>15.0</th>\n",
       "      <td>1</td>\n",
       "      <td>0</td>\n",
       "    </tr>\n",
       "  </tbody>\n",
       "</table>\n",
       "</div>"
      ],
      "text/plain": [
       "EXISTE_FRAUDE    False  True \n",
       "total_condicion              \n",
       "0.0               1595     10\n",
       "1.0                134      1\n",
       "2.0                239      1\n",
       "3.0                251     10\n",
       "4.0                 17      0\n",
       "5.0                 80     30\n",
       "6.0                 23      5\n",
       "7.0                  3      3\n",
       "8.0                 15      6\n",
       "9.0                  0      1\n",
       "10.0                11      8\n",
       "11.0                 0      1\n",
       "12.0                 2      5\n",
       "13.0                 1      4\n",
       "15.0                 1      0"
      ]
     },
     "execution_count": 5,
     "metadata": {},
     "output_type": "execute_result"
    }
   ],
   "source": [
    "pd.crosstab(df_test[\"total_condicion\"],df_test[\"EXISTE_FRAUDE\"])"
   ]
  },
  {
   "cell_type": "code",
   "execution_count": null,
   "metadata": {},
   "outputs": [],
   "source": []
  }
 ],
 "metadata": {
  "kernelspec": {
   "display_name": "Python 3",
   "language": "python",
   "name": "python3"
  },
  "language_info": {
   "codemirror_mode": {
    "name": "ipython",
    "version": 3
   },
   "file_extension": ".py",
   "mimetype": "text/x-python",
   "name": "python",
   "nbconvert_exporter": "python",
   "pygments_lexer": "ipython3",
   "version": "3.6.8"
  },
  "varInspector": {
   "cols": {
    "lenName": 16,
    "lenType": 16,
    "lenVar": 40
   },
   "kernels_config": {
    "python": {
     "delete_cmd_postfix": "",
     "delete_cmd_prefix": "del ",
     "library": "var_list.py",
     "varRefreshCmd": "print(var_dic_list())"
    },
    "r": {
     "delete_cmd_postfix": ") ",
     "delete_cmd_prefix": "rm(",
     "library": "var_list.r",
     "varRefreshCmd": "cat(var_dic_list()) "
    }
   },
   "types_to_exclude": [
    "module",
    "function",
    "builtin_function_or_method",
    "instance",
    "_Feature"
   ],
   "window_display": false
  }
 },
 "nbformat": 4,
 "nbformat_minor": 2
}
