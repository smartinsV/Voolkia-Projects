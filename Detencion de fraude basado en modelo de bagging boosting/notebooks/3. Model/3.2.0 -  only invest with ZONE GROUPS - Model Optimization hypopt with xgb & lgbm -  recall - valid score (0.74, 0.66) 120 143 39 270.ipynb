{
 "cells": [
  {
   "cell_type": "markdown",
   "metadata": {},
   "source": [
    "# Model hiper optimization"
   ]
  },
  {
   "cell_type": "code",
   "execution_count": 1,
   "metadata": {},
   "outputs": [],
   "source": [
    "#imports\n",
    "import os\n",
    "from copy import copy\n",
    "\n",
    "import pandas as pd\n",
    "import numpy as np\n",
    "import seaborn as sns\n",
    "import matplotlib.pyplot as plt\n",
    "from sklearn.metrics import roc_auc_score, f1_score, confusion_matrix\n",
    "from sklearn.ensemble import RandomForestClassifier, ExtraTreesClassifier\n",
    "from xgboost import XGBClassifier\n",
    "from lightgbm import LGBMClassifier\n",
    "from sklearn.model_selection import GridSearchCV, RandomizedSearchCV\n",
    "from hypopt import GridSearch\n",
    "from hyperopt import tpe, fmin, space_eval, Trials, STATUS_OK, hp\n",
    "from sklearn.model_selection import StratifiedShuffleSplit\n",
    "\n",
    "import pickle"
   ]
  },
  {
   "cell_type": "code",
   "execution_count": 82,
   "metadata": {},
   "outputs": [
    {
     "name": "stdout",
     "output_type": "stream",
     "text": [
      "['1.1.b - 01-17 to 01-19 - df_val 02-19to03-19.feather', '1.1.b - 01-17 to 01-19 - df_train only 2018 without nulls.feather', '1.2.b - group zone - 01-17 to 01-19 - df_test 04-19to05-19.feather', '1.1 - df_train with nan.feather', '1.2.b - group zone - 01-17 to 01-19 - df_val 02-19to03-19.feather', '1.1 - df_train.feather', '1.2.b - group zone - 01-17 to 01-19 - df_train with nan.feather', '1.1 - df_test 04-19to04-19.feather', '1.1 - df_val 01-19to03-19.feather', '1.1.b - 01-17 to 01-19 - df_train without nulls.feather', '1.1 - df_train only 2018 without nulls.feather', '1.2.b - group zone - 01-17 to 01-19 - df_test 04-19to04-19.feather', '1.1.b - 01-17 to 01-19 - df_train with nan.feather', '1.1 - df_test 04-19to05-19.feather', '1.2.b - group zone - 01-17 to 01-19 - df_train without nulls.feather', '1.1.b - 01-17 to 01-19 - df_test 04-19to04-19.feather', '1.1.b - 01-17 to 01-19 - df_test 04-19to05-19.feather', '1.2.b - group zone - 01-17 to 01-19 - df_train only 2018 without nulls.feather']\n"
     ]
    }
   ],
   "source": [
    "# configs.\n",
    "%matplotlib inline\n",
    "# version to read\n",
    "read_version = \"1.2.b - group zone\"\n",
    "\n",
    "# model to save\n",
    "model_id = \"3.2.0 - only invest with zone groups recall\"\n",
    "\n",
    "pd.set_option(\"display.max_columns\", 500)\n",
    "\n",
    "path = \"../../data/split\"\n",
    "random_state = 42\n",
    "print(os.listdir(path))"
   ]
  },
  {
   "cell_type": "markdown",
   "metadata": {},
   "source": [
    "## Loading training and validation datasets"
   ]
  },
  {
   "cell_type": "code",
   "execution_count": 3,
   "metadata": {},
   "outputs": [],
   "source": [
    "df = pd.read_feather(os.path.join(path, f\"{read_version} - 01-17 to 01-19 - df_train with nan.feather\"))\n",
    "df_val = pd.read_feather(os.path.join(path, f\"{read_version} - 01-17 to 01-19 - df_val 02-19to03-19.feather\"))"
   ]
  },
  {
   "cell_type": "code",
   "execution_count": 4,
   "metadata": {},
   "outputs": [
    {
     "data": {
      "text/plain": [
       "(Timestamp('2017-01-01 00:00:00'), Timestamp('2019-01-31 00:00:00'))"
      ]
     },
     "execution_count": 4,
     "metadata": {},
     "output_type": "execute_result"
    }
   ],
   "source": [
    "df[\"FECHA_SINI\"].min(), df[\"FECHA_SINI\"].max()"
   ]
  },
  {
   "cell_type": "code",
   "execution_count": 5,
   "metadata": {},
   "outputs": [],
   "source": [
    "# Select all non 060 tipo exped.\n",
    "# 'None': 7,  '003': 2,  '060': 6,  '010': 3,  '020': 4,  '002': 1,  '050': 5,  '001': 0\n",
    "df = df[df[\"EXISTE_INVEST\"] == True]\n",
    "df_val = df_val[df_val[\"EXISTE_INVEST\"] == True]"
   ]
  },
  {
   "cell_type": "code",
   "execution_count": 6,
   "metadata": {},
   "outputs": [
    {
     "data": {
      "text/plain": [
       "6    3551\n",
       "5    1342\n",
       "1    1126\n",
       "2     367\n",
       "7     267\n",
       "3     195\n",
       "4     121\n",
       "0      62\n",
       "Name: TIPO_EXPED, dtype: int64"
      ]
     },
     "execution_count": 6,
     "metadata": {},
     "output_type": "execute_result"
    }
   ],
   "source": [
    "df[\"TIPO_EXPED\"].value_counts()"
   ]
  },
  {
   "cell_type": "code",
   "execution_count": 7,
   "metadata": {},
   "outputs": [
    {
     "data": {
      "text/plain": [
       "True     3641\n",
       "False    3390\n",
       "Name: EXISTE_FRAUDE, dtype: int64"
      ]
     },
     "execution_count": 7,
     "metadata": {},
     "output_type": "execute_result"
    }
   ],
   "source": [
    "df[\"EXISTE_FRAUDE\"].value_counts()"
   ]
  },
  {
   "cell_type": "code",
   "execution_count": 8,
   "metadata": {},
   "outputs": [
    {
     "data": {
      "text/plain": [
       "Index(['cond_04', 'cond_05', 'cond_06', 'cond_09', 'cond_11', 'cond_12',\n",
       "       'cond_32', 'cond_37', 'cond_C1', 'cond_C10', 'cond_C11', 'cond_C12',\n",
       "       'cond_C13', 'cond_C14', 'cond_C15', 'cond_C16', 'cond_C17', 'cond_C18',\n",
       "       'cond_C19', 'cond_C2', 'cond_C20', 'cond_C21', 'cond_C3', 'cond_C4',\n",
       "       'cond_C5', 'cond_C6', 'cond_C7', 'cond_C8', 'cond_C9'],\n",
       "      dtype='object')"
      ]
     },
     "execution_count": 8,
     "metadata": {},
     "output_type": "execute_result"
    }
   ],
   "source": [
    "cond_cols = df.filter(regex=\"^cond_*\").columns\n",
    "cond_cols"
   ]
  },
  {
   "cell_type": "code",
   "execution_count": 9,
   "metadata": {},
   "outputs": [],
   "source": [
    "# create column number of conditions activated\n",
    "df[\"cant_cond\"] = (df[cond_cols] > 0).sum(axis=1)\n",
    "df_val[\"cant_cond\"] = (df_val[cond_cols] > 0).sum(axis=1)"
   ]
  },
  {
   "cell_type": "code",
   "execution_count": 10,
   "metadata": {},
   "outputs": [
    {
     "data": {
      "text/plain": [
       "(Timestamp('2019-02-01 00:00:00'), Timestamp('2019-03-31 00:00:00'))"
      ]
     },
     "execution_count": 10,
     "metadata": {},
     "output_type": "execute_result"
    }
   ],
   "source": [
    "df_val[\"FECHA_SINI\"].min(), df_val[\"FECHA_SINI\"].max()"
   ]
  },
  {
   "cell_type": "code",
   "execution_count": 11,
   "metadata": {},
   "outputs": [],
   "source": [
    "# dropping index variables\n",
    "# to_drop = [\"index\"]\n",
    "# df.drop(to_drop, axis=1, inplace=True)\n",
    "# to_drop = [\"level_0\", \"index\"]\n",
    "# df_val.drop(to_drop, axis=1, inplace=True)"
   ]
  },
  {
   "cell_type": "code",
   "execution_count": 12,
   "metadata": {},
   "outputs": [],
   "source": [
    "# dropping NUM_SECU_EXPED\n",
    "# to_drop = [\"NUM_SECU_EXPED\"]\n",
    "# df.drop(to_drop, axis=1, inplace=True)\n",
    "# df_val.drop(to_drop, axis=1, inplace=True)"
   ]
  },
  {
   "cell_type": "code",
   "execution_count": 13,
   "metadata": {},
   "outputs": [
    {
     "data": {
      "text/plain": [
       "(Timestamp('2017-01-01 00:00:00'), Timestamp('2019-01-31 00:00:00'))"
      ]
     },
     "execution_count": 13,
     "metadata": {},
     "output_type": "execute_result"
    }
   ],
   "source": [
    "df[\"FECHA_SINI\"].min(), df[\"FECHA_SINI\"].max()"
   ]
  },
  {
   "cell_type": "code",
   "execution_count": 14,
   "metadata": {},
   "outputs": [
    {
     "name": "stdout",
     "output_type": "stream",
     "text": [
      "2017-01-01 00:00:00 2018-09-30 00:00:00\n",
      "2018-10-01 00:00:00 2019-01-31 00:00:00\n"
     ]
    }
   ],
   "source": [
    "# using only last year\n",
    "split_date = \"2018-10-01\"\n",
    "df_train = df[df[\"FECHA_SINI\"] < split_date].copy()\n",
    "df_opt = df[df[\"FECHA_SINI\"] >= split_date].copy()\n",
    "print(df_train[\"FECHA_SINI\"].min(), df_train[\"FECHA_SINI\"].max())\n",
    "print(df_opt[\"FECHA_SINI\"].min(), df_opt[\"FECHA_SINI\"].max())"
   ]
  },
  {
   "cell_type": "code",
   "execution_count": 15,
   "metadata": {},
   "outputs": [
    {
     "data": {
      "text/plain": [
       "True     704\n",
       "False    575\n",
       "Name: EXISTE_FRAUDE, dtype: int64"
      ]
     },
     "execution_count": 15,
     "metadata": {},
     "output_type": "execute_result"
    }
   ],
   "source": [
    "df_opt[\"EXISTE_FRAUDE\"].value_counts()"
   ]
  },
  {
   "cell_type": "code",
   "execution_count": 16,
   "metadata": {},
   "outputs": [
    {
     "data": {
      "text/plain": [
       "(0.8109107037256061, 0.18908929627439386)"
      ]
     },
     "execution_count": 16,
     "metadata": {},
     "output_type": "execute_result"
    }
   ],
   "source": [
    "full_len = df_train.shape[0] + df_opt.shape[0]\n",
    "df_train.shape[0] / full_len, df_opt.shape[0] / full_len"
   ]
  },
  {
   "cell_type": "code",
   "execution_count": 17,
   "metadata": {},
   "outputs": [],
   "source": [
    "# dropping date FEC_ACT_cond\n",
    "to_drop = [\"FECHA_SINI\"]\n",
    "df_train.drop(to_drop, axis=1, inplace=True)\n",
    "df_opt.drop(to_drop, axis=1, inplace=True)\n",
    "df_val.drop(to_drop, axis=1, inplace=True)"
   ]
  },
  {
   "cell_type": "markdown",
   "metadata": {},
   "source": [
    "## split X, y dataset"
   ]
  },
  {
   "cell_type": "code",
   "execution_count": 18,
   "metadata": {},
   "outputs": [],
   "source": [
    "# to_drop = [\"COD_FRAUDE\", \"EXISTE_FRAUDE\", \"EXISTE_INHABILITAR\"]\n",
    "# already removed : \"EXISTE_INHABILITAR\", \"COD_ACT_BENEF\",\n",
    "to_drop = [\"EXISTE_FRAUDE\", \"NUM_SECU_EXPED\", \"NUM_SECU_POL\", \"EXISTE_INVEST\"] # , \"es_gte_5\"\n",
    "\n",
    "# training\n",
    "X_train = df_train.drop(to_drop, axis=1)\n",
    "y_train = df_train[\"EXISTE_FRAUDE\"]\n",
    "# validation\n",
    "X_opt = df_opt.drop(to_drop, axis=1)\n",
    "y_opt = df_opt[\"EXISTE_FRAUDE\"]\n",
    "# validation\n",
    "X_val = df_val.drop(to_drop, axis=1)\n",
    "y_val = df_val[\"EXISTE_FRAUDE\"]"
   ]
  },
  {
   "cell_type": "code",
   "execution_count": 19,
   "metadata": {},
   "outputs": [],
   "source": [
    "X_full_train = df.drop(to_drop, axis=1)\n",
    "X_full_train.drop(columns=[\"FECHA_SINI\"], inplace=True)\n",
    "y_full_train = df[\"EXISTE_FRAUDE\"]"
   ]
  },
  {
   "cell_type": "code",
   "execution_count": 20,
   "metadata": {},
   "outputs": [
    {
     "name": "stdout",
     "output_type": "stream",
     "text": [
      "dif between X_train & X_opt: set()\n",
      "dif between X_val & X_opt: set()\n"
     ]
    }
   ],
   "source": [
    "# checking if all have the same inputs columns\n",
    "print(\"dif between X_train & X_opt: {}\".format(set(X_train.columns) - set(X_opt.columns)))\n",
    "print(\"dif between X_val & X_opt: {}\".format(set(X_val.columns) - set(X_opt.columns)))"
   ]
  },
  {
   "cell_type": "code",
   "execution_count": 21,
   "metadata": {},
   "outputs": [
    {
     "name": "stdout",
     "output_type": "stream",
     "text": [
      "5485, 1279\n",
      "5485, 1279\n"
     ]
    }
   ],
   "source": [
    "print(f\"{len(X_train)}, {len(X_opt)}\")\n",
    "print(f\"{len(y_train)}, {len(y_opt)}\")"
   ]
  },
  {
   "cell_type": "code",
   "execution_count": 22,
   "metadata": {},
   "outputs": [
    {
     "data": {
      "text/plain": [
       "(0.5161349134001824, 0.5504300234558248)"
      ]
     },
     "execution_count": 22,
     "metadata": {},
     "output_type": "execute_result"
    }
   ],
   "source": [
    "y_train.sum() / len(y_train), y_opt.sum() / len(y_opt)"
   ]
  },
  {
   "cell_type": "code",
   "execution_count": 23,
   "metadata": {},
   "outputs": [
    {
     "data": {
      "text/plain": [
       "True     2831\n",
       "False    2654\n",
       "Name: EXISTE_FRAUDE, dtype: int64"
      ]
     },
     "execution_count": 23,
     "metadata": {},
     "output_type": "execute_result"
    }
   ],
   "source": [
    "y_train.value_counts(dropna=False)"
   ]
  },
  {
   "cell_type": "markdown",
   "metadata": {},
   "source": [
    "## Defining grid configuration"
   ]
  },
  {
   "cell_type": "code",
   "execution_count": 24,
   "metadata": {},
   "outputs": [],
   "source": [
    "from sklearn.utils.class_weight import compute_class_weight"
   ]
  },
  {
   "cell_type": "code",
   "execution_count": 25,
   "metadata": {},
   "outputs": [
    {
     "data": {
      "text/plain": [
       "array([1.03702065, 0.96553145])"
      ]
     },
     "execution_count": 25,
     "metadata": {},
     "output_type": "execute_result"
    }
   ],
   "source": [
    "weights = compute_class_weight(\"balanced\", df[\"EXISTE_FRAUDE\"].unique(), df[\"EXISTE_FRAUDE\"])\n",
    "weights"
   ]
  },
  {
   "cell_type": "code",
   "execution_count": 26,
   "metadata": {},
   "outputs": [
    {
     "data": {
      "text/plain": [
       "[{0: 1, 1: 1}, {0: 1, 1: 1.2}, {0: 1, 1: 1.5}]"
      ]
     },
     "execution_count": 26,
     "metadata": {},
     "output_type": "execute_result"
    }
   ],
   "source": [
    "# configs\n",
    "list_weights = [1, 1.2, 1.5]\n",
    "[{0:1, 1:l} for l in list_weights]"
   ]
  },
  {
   "cell_type": "code",
   "execution_count": 27,
   "metadata": {},
   "outputs": [
    {
     "data": {
      "text/plain": [
       "[{'n_estimators': [40, 60, 200],\n",
       "  'min_samples_leaf': [3, 5, 7],\n",
       "  'max_depth': [10, 40],\n",
       "  'max_features': ['sqrt', None],\n",
       "  'class_weight': [{0: 1, 1: 1}, {0: 1, 1: 1.2}, {0: 1, 1: 1.5}],\n",
       "  'bootstrap': [False, True]},\n",
       " {'n_estimators': [40, 60, 200],\n",
       "  'min_samples_leaf': [3, 5, 7],\n",
       "  'max_depth': [10, 40],\n",
       "  'max_features': ['sqrt', None],\n",
       "  'class_weight': [{0: 1, 1: 1}, {0: 1, 1: 1.2}, {0: 1, 1: 1.5}],\n",
       "  'bootstrap': [False, True]},\n",
       " {'n_estimators': [40, 60, 200],\n",
       "  'max_depth': [15, 40, None],\n",
       "  'learning_rate': [1.0, 0.1, 0.05, 0.01],\n",
       "  'colsample_bytree': [0.5, 1.0],\n",
       "  'scale_pos_weight': [1, 1.2, 1.5]},\n",
       " {'n_estimators': [40, 60, 200],\n",
       "  'max_depth': [15, 40, None],\n",
       "  'min_child_samples': [3, 5, 7, 11],\n",
       "  'learning_rate': [1.0, 0.1, 0.05, 0.01],\n",
       "  'colsample_bytree': [0.5, 1.0],\n",
       "  'class_weight': [{0: 1, 1: 1}, {0: 1, 1: 1.2}, {0: 1, 1: 1.5}]}]"
      ]
     },
     "execution_count": 27,
     "metadata": {},
     "output_type": "execute_result"
    }
   ],
   "source": [
    "n_estimators = [40, 60, 200]\n",
    "\n",
    "rf_params = {\n",
    "    \"n_estimators\": n_estimators,\n",
    "    \"min_samples_leaf\": [3, 5, 7],\n",
    "    \"max_depth\": [10, 40], # 10,\n",
    "    \"max_features\": ['sqrt', None],\n",
    "    \"class_weight\": [{0:1, 1:l} for l in list_weights],\n",
    "    \"bootstrap\": [False, True],\n",
    "}\n",
    "param_configs = []\n",
    "param_configs.append(rf_params)\n",
    "param_configs.append(rf_params)\n",
    "\n",
    "dt_params = {\n",
    "    \"min_samples_leaf\": [3, 5, 7],\n",
    "    \"class_weight\": [{0:1, 1:l} for l in list_weights],\n",
    "}\n",
    "#param_configs.append(dt_params)\n",
    "\n",
    "\n",
    "gbt_params = {\n",
    "    'n_estimators': n_estimators, \n",
    "    \"max_depth\": [15, 40, 5],\n",
    "    'learning_rate': [1.0, 0.1, 0.05, 0.01],\n",
    "#    'subsample': [0.5, 1.0],\n",
    "    \"colsample_bytree\": [0.5 , 1.0],\n",
    "    \"scale_pos_weight\": list_weights,\n",
    "}\n",
    "param_configs.append(gbt_params)\n",
    "\n",
    "\n",
    "lgbm_params = {\n",
    "    'n_estimators': n_estimators, \n",
    "#    'num_leaves': [10, 20, 50],\n",
    "    \"max_depth\": [15, 40, -1],\n",
    "    'min_child_samples': [3, 5, 7, 11],\n",
    "    'learning_rate': [1.0, 0.1, 0.05, 0.01],\n",
    "#    'subsample': [0.5, 1.0],\n",
    "    \"colsample_bytree\": [0.5 , 1.0],\n",
    "    \"class_weight\": [{0:1, 1:l} for l in list_weights],\n",
    "}\n",
    "\n",
    "param_configs.append(lgbm_params)\n",
    "param_configs"
   ]
  },
  {
   "cell_type": "code",
   "execution_count": 28,
   "metadata": {},
   "outputs": [
    {
     "data": {
      "text/plain": [
       "[RandomForestClassifier(bootstrap=True, class_weight=None, criterion='gini',\n",
       "                        max_depth=None, max_features='auto', max_leaf_nodes=None,\n",
       "                        min_impurity_decrease=0.0, min_impurity_split=None,\n",
       "                        min_samples_leaf=1, min_samples_split=2,\n",
       "                        min_weight_fraction_leaf=0.0, n_estimators='warn',\n",
       "                        n_jobs=-1, oob_score=False, random_state=42, verbose=0,\n",
       "                        warm_start=False),\n",
       " ExtraTreesClassifier(bootstrap=False, class_weight=None, criterion='gini',\n",
       "                      max_depth=None, max_features='auto', max_leaf_nodes=None,\n",
       "                      min_impurity_decrease=0.0, min_impurity_split=None,\n",
       "                      min_samples_leaf=1, min_samples_split=2,\n",
       "                      min_weight_fraction_leaf=0.0, n_estimators='warn',\n",
       "                      n_jobs=-1, oob_score=False, random_state=42, verbose=0,\n",
       "                      warm_start=False),\n",
       " XGBClassifier(base_score=0.5, booster='gbtree', colsample_bylevel=1,\n",
       "               colsample_bytree=1, gamma=0, learning_rate=0.1, max_delta_step=0,\n",
       "               max_depth=3, min_child_weight=1, missing=None, n_estimators=100,\n",
       "               n_jobs=-1, nthread=None, objective='binary:logistic',\n",
       "               random_state=42, reg_alpha=0, reg_lambda=1, scale_pos_weight=1,\n",
       "               seed=None, silent=True, subsample=1),\n",
       " LGBMClassifier(boosting_type='gbdt', class_weight=None, colsample_bytree=1.0,\n",
       "                importance_type='split', learning_rate=0.1, max_depth=-1,\n",
       "                min_child_samples=20, min_child_weight=0.001, min_split_gain=0.0,\n",
       "                n_estimators=100, n_jobs=-1, num_leaves=31, objective=None,\n",
       "                random_state=42, reg_alpha=0.0, reg_lambda=0.0, silent=False,\n",
       "                subsample=1.0, subsample_for_bin=200000, subsample_freq=0)]"
      ]
     },
     "execution_count": 28,
     "metadata": {},
     "output_type": "execute_result"
    }
   ],
   "source": [
    "# using without grid with list of models\n",
    "rfs = []\n",
    "rfs.append(RandomForestClassifier(random_state=random_state, n_jobs=-1))\n",
    "# rfs.append(DecisionTreeClassifier(random_state=random_state))\n",
    "rfs.append(ExtraTreesClassifier(random_state=random_state, n_jobs=-1))\n",
    "rfs.append(XGBClassifier(random_state=random_state, n_jobs=-1))\n",
    "rfs.append(LGBMClassifier(random_state=random_state, silent=False, n_jobs=-1))\n",
    "rfs"
   ]
  },
  {
   "cell_type": "code",
   "execution_count": 29,
   "metadata": {
    "scrolled": true
   },
   "outputs": [
    {
     "name": "stdout",
     "output_type": "stream",
     "text": [
      "Model 0: RandomForestClassifier(bootstrap=True, class_weight=None, criterion='gini',\n",
      "                       max_depth=None, max_features='auto', max_leaf_nodes=None,\n",
      "                       min_impurity_decrease=0.0, min_impurity_split=None,\n",
      "                       min_samples_leaf=1, min_samples_split=2,\n",
      "                       min_weight_fraction_leaf=0.0, n_estimators='warn',\n",
      "                       n_jobs=-1, oob_score=False, random_state=42, verbose=0,\n",
      "                       warm_start=False)\n",
      "Comparing 216 parameter setting(s) using 1 CPU thread(s) ( 216 job(s) per thread ).\n"
     ]
    },
    {
     "name": "stderr",
     "output_type": "stream",
     "text": [
      "/home/seba/anaconda3/lib/python3.6/site-packages/sklearn/ensemble/base.py:154: UserWarning: Multiprocessing-backed parallel loops cannot be nested, setting n_jobs=1\n",
      "  n_jobs = min(effective_n_jobs(n_jobs), n_estimators)\n",
      "/home/seba/anaconda3/lib/python3.6/site-packages/sklearn/ensemble/base.py:154: UserWarning: Multiprocessing-backed parallel loops cannot be nested, setting n_jobs=1\n",
      "  n_jobs = min(effective_n_jobs(n_jobs), n_estimators)\n",
      "/home/seba/anaconda3/lib/python3.6/site-packages/sklearn/ensemble/base.py:154: UserWarning: Multiprocessing-backed parallel loops cannot be nested, setting n_jobs=1\n",
      "  n_jobs = min(effective_n_jobs(n_jobs), n_estimators)\n",
      "/home/seba/anaconda3/lib/python3.6/site-packages/sklearn/ensemble/base.py:154: UserWarning: Multiprocessing-backed parallel loops cannot be nested, setting n_jobs=1\n",
      "  n_jobs = min(effective_n_jobs(n_jobs), n_estimators)\n",
      "/home/seba/anaconda3/lib/python3.6/site-packages/sklearn/ensemble/base.py:154: UserWarning: Multiprocessing-backed parallel loops cannot be nested, setting n_jobs=1\n",
      "  n_jobs = min(effective_n_jobs(n_jobs), n_estimators)\n",
      "/home/seba/anaconda3/lib/python3.6/site-packages/sklearn/ensemble/base.py:154: UserWarning: Multiprocessing-backed parallel loops cannot be nested, setting n_jobs=1\n",
      "  n_jobs = min(effective_n_jobs(n_jobs), n_estimators)\n",
      "/home/seba/anaconda3/lib/python3.6/site-packages/sklearn/ensemble/base.py:154: UserWarning: Multiprocessing-backed parallel loops cannot be nested, setting n_jobs=1\n",
      "  n_jobs = min(effective_n_jobs(n_jobs), n_estimators)\n",
      "/home/seba/anaconda3/lib/python3.6/site-packages/sklearn/ensemble/base.py:154: UserWarning: Multiprocessing-backed parallel loops cannot be nested, setting n_jobs=1\n",
      "  n_jobs = min(effective_n_jobs(n_jobs), n_estimators)\n",
      "/home/seba/anaconda3/lib/python3.6/site-packages/sklearn/ensemble/base.py:154: UserWarning: Multiprocessing-backed parallel loops cannot be nested, setting n_jobs=1\n",
      "  n_jobs = min(effective_n_jobs(n_jobs), n_estimators)\n",
      "/home/seba/anaconda3/lib/python3.6/site-packages/sklearn/ensemble/base.py:154: UserWarning: Multiprocessing-backed parallel loops cannot be nested, setting n_jobs=1\n",
      "  n_jobs = min(effective_n_jobs(n_jobs), n_estimators)\n",
      "/home/seba/anaconda3/lib/python3.6/site-packages/sklearn/ensemble/base.py:154: UserWarning: Multiprocessing-backed parallel loops cannot be nested, setting n_jobs=1\n",
      "  n_jobs = min(effective_n_jobs(n_jobs), n_estimators)\n",
      "/home/seba/anaconda3/lib/python3.6/site-packages/sklearn/ensemble/base.py:154: UserWarning: Multiprocessing-backed parallel loops cannot be nested, setting n_jobs=1\n",
      "  n_jobs = min(effective_n_jobs(n_jobs), n_estimators)\n",
      "/home/seba/anaconda3/lib/python3.6/site-packages/sklearn/ensemble/base.py:154: UserWarning: Multiprocessing-backed parallel loops cannot be nested, setting n_jobs=1\n",
      "  n_jobs = min(effective_n_jobs(n_jobs), n_estimators)\n",
      "/home/seba/anaconda3/lib/python3.6/site-packages/sklearn/ensemble/base.py:154: UserWarning: Multiprocessing-backed parallel loops cannot be nested, setting n_jobs=1\n",
      "  n_jobs = min(effective_n_jobs(n_jobs), n_estimators)\n",
      "/home/seba/anaconda3/lib/python3.6/site-packages/sklearn/ensemble/base.py:154: UserWarning: Multiprocessing-backed parallel loops cannot be nested, setting n_jobs=1\n",
      "  n_jobs = min(effective_n_jobs(n_jobs), n_estimators)\n",
      "/home/seba/anaconda3/lib/python3.6/site-packages/sklearn/ensemble/base.py:154: UserWarning: Multiprocessing-backed parallel loops cannot be nested, setting n_jobs=1\n",
      "  n_jobs = min(effective_n_jobs(n_jobs), n_estimators)\n",
      "/home/seba/anaconda3/lib/python3.6/site-packages/sklearn/ensemble/base.py:154: UserWarning: Multiprocessing-backed parallel loops cannot be nested, setting n_jobs=1\n",
      "  n_jobs = min(effective_n_jobs(n_jobs), n_estimators)\n",
      "/home/seba/anaconda3/lib/python3.6/site-packages/sklearn/ensemble/base.py:154: UserWarning: Multiprocessing-backed parallel loops cannot be nested, setting n_jobs=1\n",
      "  n_jobs = min(effective_n_jobs(n_jobs), n_estimators)\n",
      "/home/seba/anaconda3/lib/python3.6/site-packages/sklearn/ensemble/base.py:154: UserWarning: Multiprocessing-backed parallel loops cannot be nested, setting n_jobs=1\n",
      "  n_jobs = min(effective_n_jobs(n_jobs), n_estimators)\n",
      "/home/seba/anaconda3/lib/python3.6/site-packages/sklearn/ensemble/base.py:154: UserWarning: Multiprocessing-backed parallel loops cannot be nested, setting n_jobs=1\n",
      "  n_jobs = min(effective_n_jobs(n_jobs), n_estimators)\n",
      "/home/seba/anaconda3/lib/python3.6/site-packages/sklearn/ensemble/base.py:154: UserWarning: Multiprocessing-backed parallel loops cannot be nested, setting n_jobs=1\n",
      "  n_jobs = min(effective_n_jobs(n_jobs), n_estimators)\n",
      "/home/seba/anaconda3/lib/python3.6/site-packages/sklearn/ensemble/base.py:154: UserWarning: Multiprocessing-backed parallel loops cannot be nested, setting n_jobs=1\n",
      "  n_jobs = min(effective_n_jobs(n_jobs), n_estimators)\n",
      "/home/seba/anaconda3/lib/python3.6/site-packages/sklearn/ensemble/base.py:154: UserWarning: Multiprocessing-backed parallel loops cannot be nested, setting n_jobs=1\n",
      "  n_jobs = min(effective_n_jobs(n_jobs), n_estimators)\n",
      "/home/seba/anaconda3/lib/python3.6/site-packages/sklearn/ensemble/base.py:154: UserWarning: Multiprocessing-backed parallel loops cannot be nested, setting n_jobs=1\n",
      "  n_jobs = min(effective_n_jobs(n_jobs), n_estimators)\n",
      "/home/seba/anaconda3/lib/python3.6/site-packages/sklearn/ensemble/base.py:154: UserWarning: Multiprocessing-backed parallel loops cannot be nested, setting n_jobs=1\n",
      "  n_jobs = min(effective_n_jobs(n_jobs), n_estimators)\n",
      "/home/seba/anaconda3/lib/python3.6/site-packages/sklearn/ensemble/base.py:154: UserWarning: Multiprocessing-backed parallel loops cannot be nested, setting n_jobs=1\n",
      "  n_jobs = min(effective_n_jobs(n_jobs), n_estimators)\n",
      "/home/seba/anaconda3/lib/python3.6/site-packages/sklearn/ensemble/base.py:154: UserWarning: Multiprocessing-backed parallel loops cannot be nested, setting n_jobs=1\n",
      "  n_jobs = min(effective_n_jobs(n_jobs), n_estimators)\n",
      "/home/seba/anaconda3/lib/python3.6/site-packages/sklearn/ensemble/base.py:154: UserWarning: Multiprocessing-backed parallel loops cannot be nested, setting n_jobs=1\n",
      "  n_jobs = min(effective_n_jobs(n_jobs), n_estimators)\n",
      "/home/seba/anaconda3/lib/python3.6/site-packages/sklearn/ensemble/base.py:154: UserWarning: Multiprocessing-backed parallel loops cannot be nested, setting n_jobs=1\n",
      "  n_jobs = min(effective_n_jobs(n_jobs), n_estimators)\n",
      "/home/seba/anaconda3/lib/python3.6/site-packages/sklearn/ensemble/base.py:154: UserWarning: Multiprocessing-backed parallel loops cannot be nested, setting n_jobs=1\n",
      "  n_jobs = min(effective_n_jobs(n_jobs), n_estimators)\n",
      "/home/seba/anaconda3/lib/python3.6/site-packages/sklearn/ensemble/base.py:154: UserWarning: Multiprocessing-backed parallel loops cannot be nested, setting n_jobs=1\n",
      "  n_jobs = min(effective_n_jobs(n_jobs), n_estimators)\n",
      "/home/seba/anaconda3/lib/python3.6/site-packages/sklearn/ensemble/base.py:154: UserWarning: Multiprocessing-backed parallel loops cannot be nested, setting n_jobs=1\n",
      "  n_jobs = min(effective_n_jobs(n_jobs), n_estimators)\n",
      "/home/seba/anaconda3/lib/python3.6/site-packages/sklearn/ensemble/base.py:154: UserWarning: Multiprocessing-backed parallel loops cannot be nested, setting n_jobs=1\n",
      "  n_jobs = min(effective_n_jobs(n_jobs), n_estimators)\n",
      "/home/seba/anaconda3/lib/python3.6/site-packages/sklearn/ensemble/base.py:154: UserWarning: Multiprocessing-backed parallel loops cannot be nested, setting n_jobs=1\n",
      "  n_jobs = min(effective_n_jobs(n_jobs), n_estimators)\n",
      "/home/seba/anaconda3/lib/python3.6/site-packages/sklearn/ensemble/base.py:154: UserWarning: Multiprocessing-backed parallel loops cannot be nested, setting n_jobs=1\n",
      "  n_jobs = min(effective_n_jobs(n_jobs), n_estimators)\n",
      "/home/seba/anaconda3/lib/python3.6/site-packages/sklearn/ensemble/base.py:154: UserWarning: Multiprocessing-backed parallel loops cannot be nested, setting n_jobs=1\n",
      "  n_jobs = min(effective_n_jobs(n_jobs), n_estimators)\n",
      "/home/seba/anaconda3/lib/python3.6/site-packages/sklearn/ensemble/base.py:154: UserWarning: Multiprocessing-backed parallel loops cannot be nested, setting n_jobs=1\n",
      "  n_jobs = min(effective_n_jobs(n_jobs), n_estimators)\n",
      "/home/seba/anaconda3/lib/python3.6/site-packages/sklearn/ensemble/base.py:154: UserWarning: Multiprocessing-backed parallel loops cannot be nested, setting n_jobs=1\n",
      "  n_jobs = min(effective_n_jobs(n_jobs), n_estimators)\n"
     ]
    },
    {
     "name": "stderr",
     "output_type": "stream",
     "text": [
      "/home/seba/anaconda3/lib/python3.6/site-packages/sklearn/ensemble/base.py:154: UserWarning: Multiprocessing-backed parallel loops cannot be nested, setting n_jobs=1\n",
      "  n_jobs = min(effective_n_jobs(n_jobs), n_estimators)\n",
      "/home/seba/anaconda3/lib/python3.6/site-packages/sklearn/ensemble/base.py:154: UserWarning: Multiprocessing-backed parallel loops cannot be nested, setting n_jobs=1\n",
      "  n_jobs = min(effective_n_jobs(n_jobs), n_estimators)\n",
      "/home/seba/anaconda3/lib/python3.6/site-packages/sklearn/ensemble/base.py:154: UserWarning: Multiprocessing-backed parallel loops cannot be nested, setting n_jobs=1\n",
      "  n_jobs = min(effective_n_jobs(n_jobs), n_estimators)\n",
      "/home/seba/anaconda3/lib/python3.6/site-packages/sklearn/ensemble/base.py:154: UserWarning: Multiprocessing-backed parallel loops cannot be nested, setting n_jobs=1\n",
      "  n_jobs = min(effective_n_jobs(n_jobs), n_estimators)\n",
      "/home/seba/anaconda3/lib/python3.6/site-packages/sklearn/ensemble/base.py:154: UserWarning: Multiprocessing-backed parallel loops cannot be nested, setting n_jobs=1\n",
      "  n_jobs = min(effective_n_jobs(n_jobs), n_estimators)\n",
      "/home/seba/anaconda3/lib/python3.6/site-packages/sklearn/ensemble/base.py:154: UserWarning: Multiprocessing-backed parallel loops cannot be nested, setting n_jobs=1\n",
      "  n_jobs = min(effective_n_jobs(n_jobs), n_estimators)\n",
      "/home/seba/anaconda3/lib/python3.6/site-packages/sklearn/ensemble/base.py:154: UserWarning: Multiprocessing-backed parallel loops cannot be nested, setting n_jobs=1\n",
      "  n_jobs = min(effective_n_jobs(n_jobs), n_estimators)\n",
      "/home/seba/anaconda3/lib/python3.6/site-packages/sklearn/ensemble/base.py:154: UserWarning: Multiprocessing-backed parallel loops cannot be nested, setting n_jobs=1\n",
      "  n_jobs = min(effective_n_jobs(n_jobs), n_estimators)\n",
      "/home/seba/anaconda3/lib/python3.6/site-packages/sklearn/ensemble/base.py:154: UserWarning: Multiprocessing-backed parallel loops cannot be nested, setting n_jobs=1\n",
      "  n_jobs = min(effective_n_jobs(n_jobs), n_estimators)\n",
      "/home/seba/anaconda3/lib/python3.6/site-packages/sklearn/ensemble/base.py:154: UserWarning: Multiprocessing-backed parallel loops cannot be nested, setting n_jobs=1\n",
      "  n_jobs = min(effective_n_jobs(n_jobs), n_estimators)\n",
      "/home/seba/anaconda3/lib/python3.6/site-packages/sklearn/ensemble/base.py:154: UserWarning: Multiprocessing-backed parallel loops cannot be nested, setting n_jobs=1\n",
      "  n_jobs = min(effective_n_jobs(n_jobs), n_estimators)\n",
      "/home/seba/anaconda3/lib/python3.6/site-packages/sklearn/ensemble/base.py:154: UserWarning: Multiprocessing-backed parallel loops cannot be nested, setting n_jobs=1\n",
      "  n_jobs = min(effective_n_jobs(n_jobs), n_estimators)\n",
      "/home/seba/anaconda3/lib/python3.6/site-packages/sklearn/ensemble/base.py:154: UserWarning: Multiprocessing-backed parallel loops cannot be nested, setting n_jobs=1\n",
      "  n_jobs = min(effective_n_jobs(n_jobs), n_estimators)\n",
      "/home/seba/anaconda3/lib/python3.6/site-packages/sklearn/ensemble/base.py:154: UserWarning: Multiprocessing-backed parallel loops cannot be nested, setting n_jobs=1\n",
      "  n_jobs = min(effective_n_jobs(n_jobs), n_estimators)\n",
      "/home/seba/anaconda3/lib/python3.6/site-packages/sklearn/ensemble/base.py:154: UserWarning: Multiprocessing-backed parallel loops cannot be nested, setting n_jobs=1\n",
      "  n_jobs = min(effective_n_jobs(n_jobs), n_estimators)\n",
      "/home/seba/anaconda3/lib/python3.6/site-packages/sklearn/ensemble/base.py:154: UserWarning: Multiprocessing-backed parallel loops cannot be nested, setting n_jobs=1\n",
      "  n_jobs = min(effective_n_jobs(n_jobs), n_estimators)\n",
      "/home/seba/anaconda3/lib/python3.6/site-packages/sklearn/ensemble/base.py:154: UserWarning: Multiprocessing-backed parallel loops cannot be nested, setting n_jobs=1\n",
      "  n_jobs = min(effective_n_jobs(n_jobs), n_estimators)\n",
      "/home/seba/anaconda3/lib/python3.6/site-packages/sklearn/ensemble/base.py:154: UserWarning: Multiprocessing-backed parallel loops cannot be nested, setting n_jobs=1\n",
      "  n_jobs = min(effective_n_jobs(n_jobs), n_estimators)\n",
      "/home/seba/anaconda3/lib/python3.6/site-packages/sklearn/ensemble/base.py:154: UserWarning: Multiprocessing-backed parallel loops cannot be nested, setting n_jobs=1\n",
      "  n_jobs = min(effective_n_jobs(n_jobs), n_estimators)\n",
      "/home/seba/anaconda3/lib/python3.6/site-packages/sklearn/ensemble/base.py:154: UserWarning: Multiprocessing-backed parallel loops cannot be nested, setting n_jobs=1\n",
      "  n_jobs = min(effective_n_jobs(n_jobs), n_estimators)\n",
      "/home/seba/anaconda3/lib/python3.6/site-packages/sklearn/ensemble/base.py:154: UserWarning: Multiprocessing-backed parallel loops cannot be nested, setting n_jobs=1\n",
      "  n_jobs = min(effective_n_jobs(n_jobs), n_estimators)\n",
      "/home/seba/anaconda3/lib/python3.6/site-packages/sklearn/ensemble/base.py:154: UserWarning: Multiprocessing-backed parallel loops cannot be nested, setting n_jobs=1\n",
      "  n_jobs = min(effective_n_jobs(n_jobs), n_estimators)\n",
      "/home/seba/anaconda3/lib/python3.6/site-packages/sklearn/ensemble/base.py:154: UserWarning: Multiprocessing-backed parallel loops cannot be nested, setting n_jobs=1\n",
      "  n_jobs = min(effective_n_jobs(n_jobs), n_estimators)\n",
      "/home/seba/anaconda3/lib/python3.6/site-packages/sklearn/ensemble/base.py:154: UserWarning: Multiprocessing-backed parallel loops cannot be nested, setting n_jobs=1\n",
      "  n_jobs = min(effective_n_jobs(n_jobs), n_estimators)\n",
      "/home/seba/anaconda3/lib/python3.6/site-packages/sklearn/ensemble/base.py:154: UserWarning: Multiprocessing-backed parallel loops cannot be nested, setting n_jobs=1\n",
      "  n_jobs = min(effective_n_jobs(n_jobs), n_estimators)\n",
      "/home/seba/anaconda3/lib/python3.6/site-packages/sklearn/ensemble/base.py:154: UserWarning: Multiprocessing-backed parallel loops cannot be nested, setting n_jobs=1\n",
      "  n_jobs = min(effective_n_jobs(n_jobs), n_estimators)\n",
      "/home/seba/anaconda3/lib/python3.6/site-packages/sklearn/ensemble/base.py:154: UserWarning: Multiprocessing-backed parallel loops cannot be nested, setting n_jobs=1\n",
      "  n_jobs = min(effective_n_jobs(n_jobs), n_estimators)\n",
      "/home/seba/anaconda3/lib/python3.6/site-packages/sklearn/ensemble/base.py:154: UserWarning: Multiprocessing-backed parallel loops cannot be nested, setting n_jobs=1\n",
      "  n_jobs = min(effective_n_jobs(n_jobs), n_estimators)\n",
      "/home/seba/anaconda3/lib/python3.6/site-packages/sklearn/ensemble/base.py:154: UserWarning: Multiprocessing-backed parallel loops cannot be nested, setting n_jobs=1\n",
      "  n_jobs = min(effective_n_jobs(n_jobs), n_estimators)\n",
      "/home/seba/anaconda3/lib/python3.6/site-packages/sklearn/ensemble/base.py:154: UserWarning: Multiprocessing-backed parallel loops cannot be nested, setting n_jobs=1\n",
      "  n_jobs = min(effective_n_jobs(n_jobs), n_estimators)\n",
      "/home/seba/anaconda3/lib/python3.6/site-packages/sklearn/ensemble/base.py:154: UserWarning: Multiprocessing-backed parallel loops cannot be nested, setting n_jobs=1\n",
      "  n_jobs = min(effective_n_jobs(n_jobs), n_estimators)\n",
      "/home/seba/anaconda3/lib/python3.6/site-packages/sklearn/ensemble/base.py:154: UserWarning: Multiprocessing-backed parallel loops cannot be nested, setting n_jobs=1\n",
      "  n_jobs = min(effective_n_jobs(n_jobs), n_estimators)\n",
      "/home/seba/anaconda3/lib/python3.6/site-packages/sklearn/ensemble/base.py:154: UserWarning: Multiprocessing-backed parallel loops cannot be nested, setting n_jobs=1\n",
      "  n_jobs = min(effective_n_jobs(n_jobs), n_estimators)\n",
      "/home/seba/anaconda3/lib/python3.6/site-packages/sklearn/ensemble/base.py:154: UserWarning: Multiprocessing-backed parallel loops cannot be nested, setting n_jobs=1\n",
      "  n_jobs = min(effective_n_jobs(n_jobs), n_estimators)\n",
      "/home/seba/anaconda3/lib/python3.6/site-packages/sklearn/ensemble/base.py:154: UserWarning: Multiprocessing-backed parallel loops cannot be nested, setting n_jobs=1\n",
      "  n_jobs = min(effective_n_jobs(n_jobs), n_estimators)\n",
      "/home/seba/anaconda3/lib/python3.6/site-packages/sklearn/ensemble/base.py:154: UserWarning: Multiprocessing-backed parallel loops cannot be nested, setting n_jobs=1\n",
      "  n_jobs = min(effective_n_jobs(n_jobs), n_estimators)\n",
      "/home/seba/anaconda3/lib/python3.6/site-packages/sklearn/ensemble/base.py:154: UserWarning: Multiprocessing-backed parallel loops cannot be nested, setting n_jobs=1\n",
      "  n_jobs = min(effective_n_jobs(n_jobs), n_estimators)\n",
      "/home/seba/anaconda3/lib/python3.6/site-packages/sklearn/ensemble/base.py:154: UserWarning: Multiprocessing-backed parallel loops cannot be nested, setting n_jobs=1\n",
      "  n_jobs = min(effective_n_jobs(n_jobs), n_estimators)\n"
     ]
    },
    {
     "name": "stderr",
     "output_type": "stream",
     "text": [
      "/home/seba/anaconda3/lib/python3.6/site-packages/sklearn/ensemble/base.py:154: UserWarning: Multiprocessing-backed parallel loops cannot be nested, setting n_jobs=1\n",
      "  n_jobs = min(effective_n_jobs(n_jobs), n_estimators)\n",
      "/home/seba/anaconda3/lib/python3.6/site-packages/sklearn/ensemble/base.py:154: UserWarning: Multiprocessing-backed parallel loops cannot be nested, setting n_jobs=1\n",
      "  n_jobs = min(effective_n_jobs(n_jobs), n_estimators)\n",
      "/home/seba/anaconda3/lib/python3.6/site-packages/sklearn/ensemble/base.py:154: UserWarning: Multiprocessing-backed parallel loops cannot be nested, setting n_jobs=1\n",
      "  n_jobs = min(effective_n_jobs(n_jobs), n_estimators)\n",
      "/home/seba/anaconda3/lib/python3.6/site-packages/sklearn/ensemble/base.py:154: UserWarning: Multiprocessing-backed parallel loops cannot be nested, setting n_jobs=1\n",
      "  n_jobs = min(effective_n_jobs(n_jobs), n_estimators)\n",
      "/home/seba/anaconda3/lib/python3.6/site-packages/sklearn/ensemble/base.py:154: UserWarning: Multiprocessing-backed parallel loops cannot be nested, setting n_jobs=1\n",
      "  n_jobs = min(effective_n_jobs(n_jobs), n_estimators)\n",
      "/home/seba/anaconda3/lib/python3.6/site-packages/sklearn/ensemble/base.py:154: UserWarning: Multiprocessing-backed parallel loops cannot be nested, setting n_jobs=1\n",
      "  n_jobs = min(effective_n_jobs(n_jobs), n_estimators)\n",
      "/home/seba/anaconda3/lib/python3.6/site-packages/sklearn/ensemble/base.py:154: UserWarning: Multiprocessing-backed parallel loops cannot be nested, setting n_jobs=1\n",
      "  n_jobs = min(effective_n_jobs(n_jobs), n_estimators)\n",
      "/home/seba/anaconda3/lib/python3.6/site-packages/sklearn/ensemble/base.py:154: UserWarning: Multiprocessing-backed parallel loops cannot be nested, setting n_jobs=1\n",
      "  n_jobs = min(effective_n_jobs(n_jobs), n_estimators)\n",
      "/home/seba/anaconda3/lib/python3.6/site-packages/sklearn/ensemble/base.py:154: UserWarning: Multiprocessing-backed parallel loops cannot be nested, setting n_jobs=1\n",
      "  n_jobs = min(effective_n_jobs(n_jobs), n_estimators)\n",
      "/home/seba/anaconda3/lib/python3.6/site-packages/sklearn/ensemble/base.py:154: UserWarning: Multiprocessing-backed parallel loops cannot be nested, setting n_jobs=1\n",
      "  n_jobs = min(effective_n_jobs(n_jobs), n_estimators)\n",
      "/home/seba/anaconda3/lib/python3.6/site-packages/sklearn/ensemble/base.py:154: UserWarning: Multiprocessing-backed parallel loops cannot be nested, setting n_jobs=1\n",
      "  n_jobs = min(effective_n_jobs(n_jobs), n_estimators)\n",
      "/home/seba/anaconda3/lib/python3.6/site-packages/sklearn/ensemble/base.py:154: UserWarning: Multiprocessing-backed parallel loops cannot be nested, setting n_jobs=1\n",
      "  n_jobs = min(effective_n_jobs(n_jobs), n_estimators)\n",
      "/home/seba/anaconda3/lib/python3.6/site-packages/sklearn/ensemble/base.py:154: UserWarning: Multiprocessing-backed parallel loops cannot be nested, setting n_jobs=1\n",
      "  n_jobs = min(effective_n_jobs(n_jobs), n_estimators)\n",
      "/home/seba/anaconda3/lib/python3.6/site-packages/sklearn/ensemble/base.py:154: UserWarning: Multiprocessing-backed parallel loops cannot be nested, setting n_jobs=1\n",
      "  n_jobs = min(effective_n_jobs(n_jobs), n_estimators)\n",
      "/home/seba/anaconda3/lib/python3.6/site-packages/sklearn/ensemble/base.py:154: UserWarning: Multiprocessing-backed parallel loops cannot be nested, setting n_jobs=1\n",
      "  n_jobs = min(effective_n_jobs(n_jobs), n_estimators)\n",
      "/home/seba/anaconda3/lib/python3.6/site-packages/sklearn/ensemble/base.py:154: UserWarning: Multiprocessing-backed parallel loops cannot be nested, setting n_jobs=1\n",
      "  n_jobs = min(effective_n_jobs(n_jobs), n_estimators)\n",
      "/home/seba/anaconda3/lib/python3.6/site-packages/sklearn/ensemble/base.py:154: UserWarning: Multiprocessing-backed parallel loops cannot be nested, setting n_jobs=1\n",
      "  n_jobs = min(effective_n_jobs(n_jobs), n_estimators)\n",
      "/home/seba/anaconda3/lib/python3.6/site-packages/sklearn/ensemble/base.py:154: UserWarning: Multiprocessing-backed parallel loops cannot be nested, setting n_jobs=1\n",
      "  n_jobs = min(effective_n_jobs(n_jobs), n_estimators)\n",
      "/home/seba/anaconda3/lib/python3.6/site-packages/sklearn/ensemble/base.py:154: UserWarning: Multiprocessing-backed parallel loops cannot be nested, setting n_jobs=1\n",
      "  n_jobs = min(effective_n_jobs(n_jobs), n_estimators)\n",
      "/home/seba/anaconda3/lib/python3.6/site-packages/sklearn/ensemble/base.py:154: UserWarning: Multiprocessing-backed parallel loops cannot be nested, setting n_jobs=1\n",
      "  n_jobs = min(effective_n_jobs(n_jobs), n_estimators)\n",
      "/home/seba/anaconda3/lib/python3.6/site-packages/sklearn/ensemble/base.py:154: UserWarning: Multiprocessing-backed parallel loops cannot be nested, setting n_jobs=1\n",
      "  n_jobs = min(effective_n_jobs(n_jobs), n_estimators)\n",
      "/home/seba/anaconda3/lib/python3.6/site-packages/sklearn/ensemble/base.py:154: UserWarning: Multiprocessing-backed parallel loops cannot be nested, setting n_jobs=1\n",
      "  n_jobs = min(effective_n_jobs(n_jobs), n_estimators)\n",
      "/home/seba/anaconda3/lib/python3.6/site-packages/sklearn/ensemble/base.py:154: UserWarning: Multiprocessing-backed parallel loops cannot be nested, setting n_jobs=1\n",
      "  n_jobs = min(effective_n_jobs(n_jobs), n_estimators)\n",
      "/home/seba/anaconda3/lib/python3.6/site-packages/sklearn/ensemble/base.py:154: UserWarning: Multiprocessing-backed parallel loops cannot be nested, setting n_jobs=1\n",
      "  n_jobs = min(effective_n_jobs(n_jobs), n_estimators)\n",
      "/home/seba/anaconda3/lib/python3.6/site-packages/sklearn/ensemble/base.py:154: UserWarning: Multiprocessing-backed parallel loops cannot be nested, setting n_jobs=1\n",
      "  n_jobs = min(effective_n_jobs(n_jobs), n_estimators)\n",
      "/home/seba/anaconda3/lib/python3.6/site-packages/sklearn/ensemble/base.py:154: UserWarning: Multiprocessing-backed parallel loops cannot be nested, setting n_jobs=1\n",
      "  n_jobs = min(effective_n_jobs(n_jobs), n_estimators)\n",
      "/home/seba/anaconda3/lib/python3.6/site-packages/sklearn/ensemble/base.py:154: UserWarning: Multiprocessing-backed parallel loops cannot be nested, setting n_jobs=1\n",
      "  n_jobs = min(effective_n_jobs(n_jobs), n_estimators)\n",
      "/home/seba/anaconda3/lib/python3.6/site-packages/sklearn/ensemble/base.py:154: UserWarning: Multiprocessing-backed parallel loops cannot be nested, setting n_jobs=1\n",
      "  n_jobs = min(effective_n_jobs(n_jobs), n_estimators)\n",
      "/home/seba/anaconda3/lib/python3.6/site-packages/sklearn/ensemble/base.py:154: UserWarning: Multiprocessing-backed parallel loops cannot be nested, setting n_jobs=1\n",
      "  n_jobs = min(effective_n_jobs(n_jobs), n_estimators)\n",
      "/home/seba/anaconda3/lib/python3.6/site-packages/sklearn/ensemble/base.py:154: UserWarning: Multiprocessing-backed parallel loops cannot be nested, setting n_jobs=1\n",
      "  n_jobs = min(effective_n_jobs(n_jobs), n_estimators)\n",
      "/home/seba/anaconda3/lib/python3.6/site-packages/sklearn/ensemble/base.py:154: UserWarning: Multiprocessing-backed parallel loops cannot be nested, setting n_jobs=1\n",
      "  n_jobs = min(effective_n_jobs(n_jobs), n_estimators)\n",
      "/home/seba/anaconda3/lib/python3.6/site-packages/sklearn/ensemble/base.py:154: UserWarning: Multiprocessing-backed parallel loops cannot be nested, setting n_jobs=1\n",
      "  n_jobs = min(effective_n_jobs(n_jobs), n_estimators)\n",
      "/home/seba/anaconda3/lib/python3.6/site-packages/sklearn/ensemble/base.py:154: UserWarning: Multiprocessing-backed parallel loops cannot be nested, setting n_jobs=1\n",
      "  n_jobs = min(effective_n_jobs(n_jobs), n_estimators)\n",
      "/home/seba/anaconda3/lib/python3.6/site-packages/sklearn/ensemble/base.py:154: UserWarning: Multiprocessing-backed parallel loops cannot be nested, setting n_jobs=1\n",
      "  n_jobs = min(effective_n_jobs(n_jobs), n_estimators)\n",
      "/home/seba/anaconda3/lib/python3.6/site-packages/sklearn/ensemble/base.py:154: UserWarning: Multiprocessing-backed parallel loops cannot be nested, setting n_jobs=1\n",
      "  n_jobs = min(effective_n_jobs(n_jobs), n_estimators)\n",
      "/home/seba/anaconda3/lib/python3.6/site-packages/sklearn/ensemble/base.py:154: UserWarning: Multiprocessing-backed parallel loops cannot be nested, setting n_jobs=1\n",
      "  n_jobs = min(effective_n_jobs(n_jobs), n_estimators)\n",
      "/home/seba/anaconda3/lib/python3.6/site-packages/sklearn/ensemble/base.py:154: UserWarning: Multiprocessing-backed parallel loops cannot be nested, setting n_jobs=1\n",
      "  n_jobs = min(effective_n_jobs(n_jobs), n_estimators)\n",
      "/home/seba/anaconda3/lib/python3.6/site-packages/sklearn/ensemble/base.py:154: UserWarning: Multiprocessing-backed parallel loops cannot be nested, setting n_jobs=1\n",
      "  n_jobs = min(effective_n_jobs(n_jobs), n_estimators)\n"
     ]
    },
    {
     "name": "stderr",
     "output_type": "stream",
     "text": [
      "/home/seba/anaconda3/lib/python3.6/site-packages/sklearn/ensemble/base.py:154: UserWarning: Multiprocessing-backed parallel loops cannot be nested, setting n_jobs=1\n",
      "  n_jobs = min(effective_n_jobs(n_jobs), n_estimators)\n",
      "/home/seba/anaconda3/lib/python3.6/site-packages/sklearn/ensemble/base.py:154: UserWarning: Multiprocessing-backed parallel loops cannot be nested, setting n_jobs=1\n",
      "  n_jobs = min(effective_n_jobs(n_jobs), n_estimators)\n",
      "/home/seba/anaconda3/lib/python3.6/site-packages/sklearn/ensemble/base.py:154: UserWarning: Multiprocessing-backed parallel loops cannot be nested, setting n_jobs=1\n",
      "  n_jobs = min(effective_n_jobs(n_jobs), n_estimators)\n",
      "/home/seba/anaconda3/lib/python3.6/site-packages/sklearn/ensemble/base.py:154: UserWarning: Multiprocessing-backed parallel loops cannot be nested, setting n_jobs=1\n",
      "  n_jobs = min(effective_n_jobs(n_jobs), n_estimators)\n",
      "/home/seba/anaconda3/lib/python3.6/site-packages/sklearn/ensemble/base.py:154: UserWarning: Multiprocessing-backed parallel loops cannot be nested, setting n_jobs=1\n",
      "  n_jobs = min(effective_n_jobs(n_jobs), n_estimators)\n",
      "/home/seba/anaconda3/lib/python3.6/site-packages/sklearn/ensemble/base.py:154: UserWarning: Multiprocessing-backed parallel loops cannot be nested, setting n_jobs=1\n",
      "  n_jobs = min(effective_n_jobs(n_jobs), n_estimators)\n",
      "/home/seba/anaconda3/lib/python3.6/site-packages/sklearn/ensemble/base.py:154: UserWarning: Multiprocessing-backed parallel loops cannot be nested, setting n_jobs=1\n",
      "  n_jobs = min(effective_n_jobs(n_jobs), n_estimators)\n",
      "/home/seba/anaconda3/lib/python3.6/site-packages/sklearn/ensemble/base.py:154: UserWarning: Multiprocessing-backed parallel loops cannot be nested, setting n_jobs=1\n",
      "  n_jobs = min(effective_n_jobs(n_jobs), n_estimators)\n",
      "/home/seba/anaconda3/lib/python3.6/site-packages/sklearn/ensemble/base.py:154: UserWarning: Multiprocessing-backed parallel loops cannot be nested, setting n_jobs=1\n",
      "  n_jobs = min(effective_n_jobs(n_jobs), n_estimators)\n",
      "/home/seba/anaconda3/lib/python3.6/site-packages/sklearn/ensemble/base.py:154: UserWarning: Multiprocessing-backed parallel loops cannot be nested, setting n_jobs=1\n",
      "  n_jobs = min(effective_n_jobs(n_jobs), n_estimators)\n",
      "/home/seba/anaconda3/lib/python3.6/site-packages/sklearn/ensemble/base.py:154: UserWarning: Multiprocessing-backed parallel loops cannot be nested, setting n_jobs=1\n",
      "  n_jobs = min(effective_n_jobs(n_jobs), n_estimators)\n",
      "/home/seba/anaconda3/lib/python3.6/site-packages/sklearn/ensemble/base.py:154: UserWarning: Multiprocessing-backed parallel loops cannot be nested, setting n_jobs=1\n",
      "  n_jobs = min(effective_n_jobs(n_jobs), n_estimators)\n",
      "/home/seba/anaconda3/lib/python3.6/site-packages/sklearn/ensemble/base.py:154: UserWarning: Multiprocessing-backed parallel loops cannot be nested, setting n_jobs=1\n",
      "  n_jobs = min(effective_n_jobs(n_jobs), n_estimators)\n",
      "/home/seba/anaconda3/lib/python3.6/site-packages/sklearn/ensemble/base.py:154: UserWarning: Multiprocessing-backed parallel loops cannot be nested, setting n_jobs=1\n",
      "  n_jobs = min(effective_n_jobs(n_jobs), n_estimators)\n",
      "/home/seba/anaconda3/lib/python3.6/site-packages/sklearn/ensemble/base.py:154: UserWarning: Multiprocessing-backed parallel loops cannot be nested, setting n_jobs=1\n",
      "  n_jobs = min(effective_n_jobs(n_jobs), n_estimators)\n",
      "/home/seba/anaconda3/lib/python3.6/site-packages/sklearn/ensemble/base.py:154: UserWarning: Multiprocessing-backed parallel loops cannot be nested, setting n_jobs=1\n",
      "  n_jobs = min(effective_n_jobs(n_jobs), n_estimators)\n",
      "/home/seba/anaconda3/lib/python3.6/site-packages/sklearn/ensemble/base.py:154: UserWarning: Multiprocessing-backed parallel loops cannot be nested, setting n_jobs=1\n",
      "  n_jobs = min(effective_n_jobs(n_jobs), n_estimators)\n",
      "/home/seba/anaconda3/lib/python3.6/site-packages/sklearn/ensemble/base.py:154: UserWarning: Multiprocessing-backed parallel loops cannot be nested, setting n_jobs=1\n",
      "  n_jobs = min(effective_n_jobs(n_jobs), n_estimators)\n",
      "/home/seba/anaconda3/lib/python3.6/site-packages/sklearn/ensemble/base.py:154: UserWarning: Multiprocessing-backed parallel loops cannot be nested, setting n_jobs=1\n",
      "  n_jobs = min(effective_n_jobs(n_jobs), n_estimators)\n",
      "/home/seba/anaconda3/lib/python3.6/site-packages/sklearn/ensemble/base.py:154: UserWarning: Multiprocessing-backed parallel loops cannot be nested, setting n_jobs=1\n",
      "  n_jobs = min(effective_n_jobs(n_jobs), n_estimators)\n",
      "/home/seba/anaconda3/lib/python3.6/site-packages/sklearn/ensemble/base.py:154: UserWarning: Multiprocessing-backed parallel loops cannot be nested, setting n_jobs=1\n",
      "  n_jobs = min(effective_n_jobs(n_jobs), n_estimators)\n",
      "/home/seba/anaconda3/lib/python3.6/site-packages/sklearn/ensemble/base.py:154: UserWarning: Multiprocessing-backed parallel loops cannot be nested, setting n_jobs=1\n",
      "  n_jobs = min(effective_n_jobs(n_jobs), n_estimators)\n",
      "/home/seba/anaconda3/lib/python3.6/site-packages/sklearn/ensemble/base.py:154: UserWarning: Multiprocessing-backed parallel loops cannot be nested, setting n_jobs=1\n",
      "  n_jobs = min(effective_n_jobs(n_jobs), n_estimators)\n",
      "/home/seba/anaconda3/lib/python3.6/site-packages/sklearn/ensemble/base.py:154: UserWarning: Multiprocessing-backed parallel loops cannot be nested, setting n_jobs=1\n",
      "  n_jobs = min(effective_n_jobs(n_jobs), n_estimators)\n",
      "/home/seba/anaconda3/lib/python3.6/site-packages/sklearn/ensemble/base.py:154: UserWarning: Multiprocessing-backed parallel loops cannot be nested, setting n_jobs=1\n",
      "  n_jobs = min(effective_n_jobs(n_jobs), n_estimators)\n",
      "/home/seba/anaconda3/lib/python3.6/site-packages/sklearn/ensemble/base.py:154: UserWarning: Multiprocessing-backed parallel loops cannot be nested, setting n_jobs=1\n",
      "  n_jobs = min(effective_n_jobs(n_jobs), n_estimators)\n",
      "/home/seba/anaconda3/lib/python3.6/site-packages/sklearn/ensemble/base.py:154: UserWarning: Multiprocessing-backed parallel loops cannot be nested, setting n_jobs=1\n",
      "  n_jobs = min(effective_n_jobs(n_jobs), n_estimators)\n",
      "/home/seba/anaconda3/lib/python3.6/site-packages/sklearn/ensemble/base.py:154: UserWarning: Multiprocessing-backed parallel loops cannot be nested, setting n_jobs=1\n",
      "  n_jobs = min(effective_n_jobs(n_jobs), n_estimators)\n",
      "/home/seba/anaconda3/lib/python3.6/site-packages/sklearn/ensemble/base.py:154: UserWarning: Multiprocessing-backed parallel loops cannot be nested, setting n_jobs=1\n",
      "  n_jobs = min(effective_n_jobs(n_jobs), n_estimators)\n",
      "/home/seba/anaconda3/lib/python3.6/site-packages/sklearn/ensemble/base.py:154: UserWarning: Multiprocessing-backed parallel loops cannot be nested, setting n_jobs=1\n",
      "  n_jobs = min(effective_n_jobs(n_jobs), n_estimators)\n",
      "/home/seba/anaconda3/lib/python3.6/site-packages/sklearn/ensemble/base.py:154: UserWarning: Multiprocessing-backed parallel loops cannot be nested, setting n_jobs=1\n",
      "  n_jobs = min(effective_n_jobs(n_jobs), n_estimators)\n",
      "/home/seba/anaconda3/lib/python3.6/site-packages/sklearn/ensemble/base.py:154: UserWarning: Multiprocessing-backed parallel loops cannot be nested, setting n_jobs=1\n",
      "  n_jobs = min(effective_n_jobs(n_jobs), n_estimators)\n",
      "/home/seba/anaconda3/lib/python3.6/site-packages/sklearn/ensemble/base.py:154: UserWarning: Multiprocessing-backed parallel loops cannot be nested, setting n_jobs=1\n",
      "  n_jobs = min(effective_n_jobs(n_jobs), n_estimators)\n",
      "/home/seba/anaconda3/lib/python3.6/site-packages/sklearn/ensemble/base.py:154: UserWarning: Multiprocessing-backed parallel loops cannot be nested, setting n_jobs=1\n",
      "  n_jobs = min(effective_n_jobs(n_jobs), n_estimators)\n",
      "/home/seba/anaconda3/lib/python3.6/site-packages/sklearn/ensemble/base.py:154: UserWarning: Multiprocessing-backed parallel loops cannot be nested, setting n_jobs=1\n",
      "  n_jobs = min(effective_n_jobs(n_jobs), n_estimators)\n",
      "/home/seba/anaconda3/lib/python3.6/site-packages/sklearn/ensemble/base.py:154: UserWarning: Multiprocessing-backed parallel loops cannot be nested, setting n_jobs=1\n",
      "  n_jobs = min(effective_n_jobs(n_jobs), n_estimators)\n",
      "/home/seba/anaconda3/lib/python3.6/site-packages/sklearn/ensemble/base.py:154: UserWarning: Multiprocessing-backed parallel loops cannot be nested, setting n_jobs=1\n",
      "  n_jobs = min(effective_n_jobs(n_jobs), n_estimators)\n",
      "/home/seba/anaconda3/lib/python3.6/site-packages/sklearn/ensemble/base.py:154: UserWarning: Multiprocessing-backed parallel loops cannot be nested, setting n_jobs=1\n",
      "  n_jobs = min(effective_n_jobs(n_jobs), n_estimators)\n"
     ]
    },
    {
     "name": "stderr",
     "output_type": "stream",
     "text": [
      "/home/seba/anaconda3/lib/python3.6/site-packages/sklearn/ensemble/base.py:154: UserWarning: Multiprocessing-backed parallel loops cannot be nested, setting n_jobs=1\n",
      "  n_jobs = min(effective_n_jobs(n_jobs), n_estimators)\n",
      "/home/seba/anaconda3/lib/python3.6/site-packages/sklearn/ensemble/base.py:154: UserWarning: Multiprocessing-backed parallel loops cannot be nested, setting n_jobs=1\n",
      "  n_jobs = min(effective_n_jobs(n_jobs), n_estimators)\n",
      "/home/seba/anaconda3/lib/python3.6/site-packages/sklearn/ensemble/base.py:154: UserWarning: Multiprocessing-backed parallel loops cannot be nested, setting n_jobs=1\n",
      "  n_jobs = min(effective_n_jobs(n_jobs), n_estimators)\n",
      "/home/seba/anaconda3/lib/python3.6/site-packages/sklearn/ensemble/base.py:154: UserWarning: Multiprocessing-backed parallel loops cannot be nested, setting n_jobs=1\n",
      "  n_jobs = min(effective_n_jobs(n_jobs), n_estimators)\n",
      "/home/seba/anaconda3/lib/python3.6/site-packages/sklearn/ensemble/base.py:154: UserWarning: Multiprocessing-backed parallel loops cannot be nested, setting n_jobs=1\n",
      "  n_jobs = min(effective_n_jobs(n_jobs), n_estimators)\n",
      "/home/seba/anaconda3/lib/python3.6/site-packages/sklearn/ensemble/base.py:154: UserWarning: Multiprocessing-backed parallel loops cannot be nested, setting n_jobs=1\n",
      "  n_jobs = min(effective_n_jobs(n_jobs), n_estimators)\n",
      "/home/seba/anaconda3/lib/python3.6/site-packages/sklearn/ensemble/base.py:154: UserWarning: Multiprocessing-backed parallel loops cannot be nested, setting n_jobs=1\n",
      "  n_jobs = min(effective_n_jobs(n_jobs), n_estimators)\n",
      "/home/seba/anaconda3/lib/python3.6/site-packages/sklearn/ensemble/base.py:154: UserWarning: Multiprocessing-backed parallel loops cannot be nested, setting n_jobs=1\n",
      "  n_jobs = min(effective_n_jobs(n_jobs), n_estimators)\n",
      "/home/seba/anaconda3/lib/python3.6/site-packages/sklearn/ensemble/base.py:154: UserWarning: Multiprocessing-backed parallel loops cannot be nested, setting n_jobs=1\n",
      "  n_jobs = min(effective_n_jobs(n_jobs), n_estimators)\n",
      "/home/seba/anaconda3/lib/python3.6/site-packages/sklearn/ensemble/base.py:154: UserWarning: Multiprocessing-backed parallel loops cannot be nested, setting n_jobs=1\n",
      "  n_jobs = min(effective_n_jobs(n_jobs), n_estimators)\n",
      "/home/seba/anaconda3/lib/python3.6/site-packages/sklearn/ensemble/base.py:154: UserWarning: Multiprocessing-backed parallel loops cannot be nested, setting n_jobs=1\n",
      "  n_jobs = min(effective_n_jobs(n_jobs), n_estimators)\n",
      "/home/seba/anaconda3/lib/python3.6/site-packages/sklearn/ensemble/base.py:154: UserWarning: Multiprocessing-backed parallel loops cannot be nested, setting n_jobs=1\n",
      "  n_jobs = min(effective_n_jobs(n_jobs), n_estimators)\n",
      "/home/seba/anaconda3/lib/python3.6/site-packages/sklearn/ensemble/base.py:154: UserWarning: Multiprocessing-backed parallel loops cannot be nested, setting n_jobs=1\n",
      "  n_jobs = min(effective_n_jobs(n_jobs), n_estimators)\n",
      "/home/seba/anaconda3/lib/python3.6/site-packages/sklearn/ensemble/base.py:154: UserWarning: Multiprocessing-backed parallel loops cannot be nested, setting n_jobs=1\n",
      "  n_jobs = min(effective_n_jobs(n_jobs), n_estimators)\n",
      "/home/seba/anaconda3/lib/python3.6/site-packages/sklearn/ensemble/base.py:154: UserWarning: Multiprocessing-backed parallel loops cannot be nested, setting n_jobs=1\n",
      "  n_jobs = min(effective_n_jobs(n_jobs), n_estimators)\n",
      "/home/seba/anaconda3/lib/python3.6/site-packages/sklearn/ensemble/base.py:154: UserWarning: Multiprocessing-backed parallel loops cannot be nested, setting n_jobs=1\n",
      "  n_jobs = min(effective_n_jobs(n_jobs), n_estimators)\n",
      "/home/seba/anaconda3/lib/python3.6/site-packages/sklearn/ensemble/base.py:154: UserWarning: Multiprocessing-backed parallel loops cannot be nested, setting n_jobs=1\n",
      "  n_jobs = min(effective_n_jobs(n_jobs), n_estimators)\n",
      "/home/seba/anaconda3/lib/python3.6/site-packages/sklearn/ensemble/base.py:154: UserWarning: Multiprocessing-backed parallel loops cannot be nested, setting n_jobs=1\n",
      "  n_jobs = min(effective_n_jobs(n_jobs), n_estimators)\n",
      "/home/seba/anaconda3/lib/python3.6/site-packages/sklearn/ensemble/base.py:154: UserWarning: Multiprocessing-backed parallel loops cannot be nested, setting n_jobs=1\n",
      "  n_jobs = min(effective_n_jobs(n_jobs), n_estimators)\n",
      "/home/seba/anaconda3/lib/python3.6/site-packages/sklearn/ensemble/base.py:154: UserWarning: Multiprocessing-backed parallel loops cannot be nested, setting n_jobs=1\n",
      "  n_jobs = min(effective_n_jobs(n_jobs), n_estimators)\n",
      "/home/seba/anaconda3/lib/python3.6/site-packages/sklearn/ensemble/base.py:154: UserWarning: Multiprocessing-backed parallel loops cannot be nested, setting n_jobs=1\n",
      "  n_jobs = min(effective_n_jobs(n_jobs), n_estimators)\n",
      "/home/seba/anaconda3/lib/python3.6/site-packages/sklearn/ensemble/base.py:154: UserWarning: Multiprocessing-backed parallel loops cannot be nested, setting n_jobs=1\n",
      "  n_jobs = min(effective_n_jobs(n_jobs), n_estimators)\n",
      "/home/seba/anaconda3/lib/python3.6/site-packages/sklearn/ensemble/base.py:154: UserWarning: Multiprocessing-backed parallel loops cannot be nested, setting n_jobs=1\n",
      "  n_jobs = min(effective_n_jobs(n_jobs), n_estimators)\n",
      "/home/seba/anaconda3/lib/python3.6/site-packages/sklearn/ensemble/base.py:154: UserWarning: Multiprocessing-backed parallel loops cannot be nested, setting n_jobs=1\n",
      "  n_jobs = min(effective_n_jobs(n_jobs), n_estimators)\n",
      "/home/seba/anaconda3/lib/python3.6/site-packages/sklearn/ensemble/base.py:154: UserWarning: Multiprocessing-backed parallel loops cannot be nested, setting n_jobs=1\n",
      "  n_jobs = min(effective_n_jobs(n_jobs), n_estimators)\n",
      "/home/seba/anaconda3/lib/python3.6/site-packages/sklearn/ensemble/base.py:154: UserWarning: Multiprocessing-backed parallel loops cannot be nested, setting n_jobs=1\n",
      "  n_jobs = min(effective_n_jobs(n_jobs), n_estimators)\n",
      "/home/seba/anaconda3/lib/python3.6/site-packages/sklearn/ensemble/base.py:154: UserWarning: Multiprocessing-backed parallel loops cannot be nested, setting n_jobs=1\n",
      "  n_jobs = min(effective_n_jobs(n_jobs), n_estimators)\n",
      "/home/seba/anaconda3/lib/python3.6/site-packages/sklearn/ensemble/base.py:154: UserWarning: Multiprocessing-backed parallel loops cannot be nested, setting n_jobs=1\n",
      "  n_jobs = min(effective_n_jobs(n_jobs), n_estimators)\n",
      "/home/seba/anaconda3/lib/python3.6/site-packages/sklearn/ensemble/base.py:154: UserWarning: Multiprocessing-backed parallel loops cannot be nested, setting n_jobs=1\n",
      "  n_jobs = min(effective_n_jobs(n_jobs), n_estimators)\n",
      "/home/seba/anaconda3/lib/python3.6/site-packages/sklearn/ensemble/base.py:154: UserWarning: Multiprocessing-backed parallel loops cannot be nested, setting n_jobs=1\n",
      "  n_jobs = min(effective_n_jobs(n_jobs), n_estimators)\n",
      "/home/seba/anaconda3/lib/python3.6/site-packages/sklearn/ensemble/base.py:154: UserWarning: Multiprocessing-backed parallel loops cannot be nested, setting n_jobs=1\n",
      "  n_jobs = min(effective_n_jobs(n_jobs), n_estimators)\n",
      "/home/seba/anaconda3/lib/python3.6/site-packages/sklearn/ensemble/base.py:154: UserWarning: Multiprocessing-backed parallel loops cannot be nested, setting n_jobs=1\n",
      "  n_jobs = min(effective_n_jobs(n_jobs), n_estimators)\n",
      "/home/seba/anaconda3/lib/python3.6/site-packages/sklearn/ensemble/base.py:154: UserWarning: Multiprocessing-backed parallel loops cannot be nested, setting n_jobs=1\n",
      "  n_jobs = min(effective_n_jobs(n_jobs), n_estimators)\n",
      "/home/seba/anaconda3/lib/python3.6/site-packages/sklearn/ensemble/base.py:154: UserWarning: Multiprocessing-backed parallel loops cannot be nested, setting n_jobs=1\n",
      "  n_jobs = min(effective_n_jobs(n_jobs), n_estimators)\n",
      "/home/seba/anaconda3/lib/python3.6/site-packages/sklearn/ensemble/base.py:154: UserWarning: Multiprocessing-backed parallel loops cannot be nested, setting n_jobs=1\n",
      "  n_jobs = min(effective_n_jobs(n_jobs), n_estimators)\n",
      "/home/seba/anaconda3/lib/python3.6/site-packages/sklearn/ensemble/base.py:154: UserWarning: Multiprocessing-backed parallel loops cannot be nested, setting n_jobs=1\n",
      "  n_jobs = min(effective_n_jobs(n_jobs), n_estimators)\n",
      "/home/seba/anaconda3/lib/python3.6/site-packages/sklearn/ensemble/base.py:154: UserWarning: Multiprocessing-backed parallel loops cannot be nested, setting n_jobs=1\n",
      "  n_jobs = min(effective_n_jobs(n_jobs), n_estimators)\n",
      "/home/seba/anaconda3/lib/python3.6/site-packages/sklearn/ensemble/base.py:154: UserWarning: Multiprocessing-backed parallel loops cannot be nested, setting n_jobs=1\n",
      "  n_jobs = min(effective_n_jobs(n_jobs), n_estimators)\n"
     ]
    },
    {
     "name": "stderr",
     "output_type": "stream",
     "text": [
      "/home/seba/anaconda3/lib/python3.6/site-packages/sklearn/ensemble/base.py:154: UserWarning: Multiprocessing-backed parallel loops cannot be nested, setting n_jobs=1\n",
      "  n_jobs = min(effective_n_jobs(n_jobs), n_estimators)\n",
      "/home/seba/anaconda3/lib/python3.6/site-packages/sklearn/ensemble/base.py:154: UserWarning: Multiprocessing-backed parallel loops cannot be nested, setting n_jobs=1\n",
      "  n_jobs = min(effective_n_jobs(n_jobs), n_estimators)\n",
      "/home/seba/anaconda3/lib/python3.6/site-packages/sklearn/ensemble/base.py:154: UserWarning: Multiprocessing-backed parallel loops cannot be nested, setting n_jobs=1\n",
      "  n_jobs = min(effective_n_jobs(n_jobs), n_estimators)\n",
      "/home/seba/anaconda3/lib/python3.6/site-packages/sklearn/ensemble/base.py:154: UserWarning: Multiprocessing-backed parallel loops cannot be nested, setting n_jobs=1\n",
      "  n_jobs = min(effective_n_jobs(n_jobs), n_estimators)\n",
      "/home/seba/anaconda3/lib/python3.6/site-packages/sklearn/ensemble/base.py:154: UserWarning: Multiprocessing-backed parallel loops cannot be nested, setting n_jobs=1\n",
      "  n_jobs = min(effective_n_jobs(n_jobs), n_estimators)\n",
      "/home/seba/anaconda3/lib/python3.6/site-packages/sklearn/ensemble/base.py:154: UserWarning: Multiprocessing-backed parallel loops cannot be nested, setting n_jobs=1\n",
      "  n_jobs = min(effective_n_jobs(n_jobs), n_estimators)\n",
      "/home/seba/anaconda3/lib/python3.6/site-packages/sklearn/ensemble/base.py:154: UserWarning: Multiprocessing-backed parallel loops cannot be nested, setting n_jobs=1\n",
      "  n_jobs = min(effective_n_jobs(n_jobs), n_estimators)\n",
      "/home/seba/anaconda3/lib/python3.6/site-packages/sklearn/ensemble/base.py:154: UserWarning: Multiprocessing-backed parallel loops cannot be nested, setting n_jobs=1\n",
      "  n_jobs = min(effective_n_jobs(n_jobs), n_estimators)\n",
      "/home/seba/anaconda3/lib/python3.6/site-packages/sklearn/ensemble/base.py:154: UserWarning: Multiprocessing-backed parallel loops cannot be nested, setting n_jobs=1\n",
      "  n_jobs = min(effective_n_jobs(n_jobs), n_estimators)\n",
      "/home/seba/anaconda3/lib/python3.6/site-packages/sklearn/ensemble/base.py:154: UserWarning: Multiprocessing-backed parallel loops cannot be nested, setting n_jobs=1\n",
      "  n_jobs = min(effective_n_jobs(n_jobs), n_estimators)\n",
      "/home/seba/anaconda3/lib/python3.6/site-packages/sklearn/ensemble/base.py:154: UserWarning: Multiprocessing-backed parallel loops cannot be nested, setting n_jobs=1\n",
      "  n_jobs = min(effective_n_jobs(n_jobs), n_estimators)\n",
      "/home/seba/anaconda3/lib/python3.6/site-packages/sklearn/ensemble/base.py:154: UserWarning: Multiprocessing-backed parallel loops cannot be nested, setting n_jobs=1\n",
      "  n_jobs = min(effective_n_jobs(n_jobs), n_estimators)\n",
      "/home/seba/anaconda3/lib/python3.6/site-packages/sklearn/ensemble/base.py:154: UserWarning: Multiprocessing-backed parallel loops cannot be nested, setting n_jobs=1\n",
      "  n_jobs = min(effective_n_jobs(n_jobs), n_estimators)\n",
      "/home/seba/anaconda3/lib/python3.6/site-packages/sklearn/ensemble/base.py:154: UserWarning: Multiprocessing-backed parallel loops cannot be nested, setting n_jobs=1\n",
      "  n_jobs = min(effective_n_jobs(n_jobs), n_estimators)\n",
      "/home/seba/anaconda3/lib/python3.6/site-packages/sklearn/ensemble/base.py:154: UserWarning: Multiprocessing-backed parallel loops cannot be nested, setting n_jobs=1\n",
      "  n_jobs = min(effective_n_jobs(n_jobs), n_estimators)\n",
      "/home/seba/anaconda3/lib/python3.6/site-packages/sklearn/ensemble/base.py:154: UserWarning: Multiprocessing-backed parallel loops cannot be nested, setting n_jobs=1\n",
      "  n_jobs = min(effective_n_jobs(n_jobs), n_estimators)\n",
      "/home/seba/anaconda3/lib/python3.6/site-packages/sklearn/ensemble/base.py:154: UserWarning: Multiprocessing-backed parallel loops cannot be nested, setting n_jobs=1\n",
      "  n_jobs = min(effective_n_jobs(n_jobs), n_estimators)\n",
      "/home/seba/anaconda3/lib/python3.6/site-packages/sklearn/ensemble/base.py:154: UserWarning: Multiprocessing-backed parallel loops cannot be nested, setting n_jobs=1\n",
      "  n_jobs = min(effective_n_jobs(n_jobs), n_estimators)\n",
      "/home/seba/anaconda3/lib/python3.6/site-packages/sklearn/ensemble/base.py:154: UserWarning: Multiprocessing-backed parallel loops cannot be nested, setting n_jobs=1\n",
      "  n_jobs = min(effective_n_jobs(n_jobs), n_estimators)\n",
      "/home/seba/anaconda3/lib/python3.6/site-packages/sklearn/ensemble/base.py:154: UserWarning: Multiprocessing-backed parallel loops cannot be nested, setting n_jobs=1\n",
      "  n_jobs = min(effective_n_jobs(n_jobs), n_estimators)\n",
      "/home/seba/anaconda3/lib/python3.6/site-packages/sklearn/ensemble/base.py:154: UserWarning: Multiprocessing-backed parallel loops cannot be nested, setting n_jobs=1\n",
      "  n_jobs = min(effective_n_jobs(n_jobs), n_estimators)\n",
      "/home/seba/anaconda3/lib/python3.6/site-packages/sklearn/ensemble/base.py:154: UserWarning: Multiprocessing-backed parallel loops cannot be nested, setting n_jobs=1\n",
      "  n_jobs = min(effective_n_jobs(n_jobs), n_estimators)\n",
      "/home/seba/anaconda3/lib/python3.6/site-packages/sklearn/ensemble/base.py:154: UserWarning: Multiprocessing-backed parallel loops cannot be nested, setting n_jobs=1\n",
      "  n_jobs = min(effective_n_jobs(n_jobs), n_estimators)\n",
      "/home/seba/anaconda3/lib/python3.6/site-packages/sklearn/ensemble/base.py:154: UserWarning: Multiprocessing-backed parallel loops cannot be nested, setting n_jobs=1\n",
      "  n_jobs = min(effective_n_jobs(n_jobs), n_estimators)\n",
      "/home/seba/anaconda3/lib/python3.6/site-packages/sklearn/ensemble/base.py:154: UserWarning: Multiprocessing-backed parallel loops cannot be nested, setting n_jobs=1\n",
      "  n_jobs = min(effective_n_jobs(n_jobs), n_estimators)\n",
      "/home/seba/anaconda3/lib/python3.6/site-packages/sklearn/ensemble/base.py:154: UserWarning: Multiprocessing-backed parallel loops cannot be nested, setting n_jobs=1\n",
      "  n_jobs = min(effective_n_jobs(n_jobs), n_estimators)\n"
     ]
    },
    {
     "name": "stdout",
     "output_type": "stream",
     "text": [
      "Best score: 0.9005681818181818\n",
      "Best config: {'bootstrap': True, 'class_weight': {0: 1, 1: 1.5}, 'max_depth': 40, 'max_features': 'sqrt', 'min_samples_leaf': 5, 'n_estimators': 40}\n",
      "*-*-*-*-*-*-*-*-*-*-*-*-*-*-*-*-*-*-*-*-*-*-*-*-*-*-*-*-*-*-\n",
      "Model 1: ExtraTreesClassifier(bootstrap=False, class_weight=None, criterion='gini',\n",
      "                     max_depth=None, max_features='auto', max_leaf_nodes=None,\n",
      "                     min_impurity_decrease=0.0, min_impurity_split=None,\n",
      "                     min_samples_leaf=1, min_samples_split=2,\n",
      "                     min_weight_fraction_leaf=0.0, n_estimators='warn',\n",
      "                     n_jobs=-1, oob_score=False, random_state=42, verbose=0,\n",
      "                     warm_start=False)\n",
      "Comparing 216 parameter setting(s) using 1 CPU thread(s) ( 216 job(s) per thread ).\n"
     ]
    },
    {
     "name": "stderr",
     "output_type": "stream",
     "text": [
      "/home/seba/anaconda3/lib/python3.6/site-packages/sklearn/ensemble/base.py:154: UserWarning: Multiprocessing-backed parallel loops cannot be nested, setting n_jobs=1\n",
      "  n_jobs = min(effective_n_jobs(n_jobs), n_estimators)\n",
      "/home/seba/anaconda3/lib/python3.6/site-packages/sklearn/ensemble/base.py:154: UserWarning: Multiprocessing-backed parallel loops cannot be nested, setting n_jobs=1\n",
      "  n_jobs = min(effective_n_jobs(n_jobs), n_estimators)\n",
      "/home/seba/anaconda3/lib/python3.6/site-packages/sklearn/ensemble/base.py:154: UserWarning: Multiprocessing-backed parallel loops cannot be nested, setting n_jobs=1\n",
      "  n_jobs = min(effective_n_jobs(n_jobs), n_estimators)\n",
      "/home/seba/anaconda3/lib/python3.6/site-packages/sklearn/ensemble/base.py:154: UserWarning: Multiprocessing-backed parallel loops cannot be nested, setting n_jobs=1\n",
      "  n_jobs = min(effective_n_jobs(n_jobs), n_estimators)\n",
      "/home/seba/anaconda3/lib/python3.6/site-packages/sklearn/ensemble/base.py:154: UserWarning: Multiprocessing-backed parallel loops cannot be nested, setting n_jobs=1\n",
      "  n_jobs = min(effective_n_jobs(n_jobs), n_estimators)\n",
      "/home/seba/anaconda3/lib/python3.6/site-packages/sklearn/ensemble/base.py:154: UserWarning: Multiprocessing-backed parallel loops cannot be nested, setting n_jobs=1\n",
      "  n_jobs = min(effective_n_jobs(n_jobs), n_estimators)\n",
      "/home/seba/anaconda3/lib/python3.6/site-packages/sklearn/ensemble/base.py:154: UserWarning: Multiprocessing-backed parallel loops cannot be nested, setting n_jobs=1\n",
      "  n_jobs = min(effective_n_jobs(n_jobs), n_estimators)\n",
      "/home/seba/anaconda3/lib/python3.6/site-packages/sklearn/ensemble/base.py:154: UserWarning: Multiprocessing-backed parallel loops cannot be nested, setting n_jobs=1\n",
      "  n_jobs = min(effective_n_jobs(n_jobs), n_estimators)\n",
      "/home/seba/anaconda3/lib/python3.6/site-packages/sklearn/ensemble/base.py:154: UserWarning: Multiprocessing-backed parallel loops cannot be nested, setting n_jobs=1\n",
      "  n_jobs = min(effective_n_jobs(n_jobs), n_estimators)\n",
      "/home/seba/anaconda3/lib/python3.6/site-packages/sklearn/ensemble/base.py:154: UserWarning: Multiprocessing-backed parallel loops cannot be nested, setting n_jobs=1\n",
      "  n_jobs = min(effective_n_jobs(n_jobs), n_estimators)\n",
      "/home/seba/anaconda3/lib/python3.6/site-packages/sklearn/ensemble/base.py:154: UserWarning: Multiprocessing-backed parallel loops cannot be nested, setting n_jobs=1\n",
      "  n_jobs = min(effective_n_jobs(n_jobs), n_estimators)\n",
      "/home/seba/anaconda3/lib/python3.6/site-packages/sklearn/ensemble/base.py:154: UserWarning: Multiprocessing-backed parallel loops cannot be nested, setting n_jobs=1\n",
      "  n_jobs = min(effective_n_jobs(n_jobs), n_estimators)\n",
      "/home/seba/anaconda3/lib/python3.6/site-packages/sklearn/ensemble/base.py:154: UserWarning: Multiprocessing-backed parallel loops cannot be nested, setting n_jobs=1\n",
      "  n_jobs = min(effective_n_jobs(n_jobs), n_estimators)\n",
      "/home/seba/anaconda3/lib/python3.6/site-packages/sklearn/ensemble/base.py:154: UserWarning: Multiprocessing-backed parallel loops cannot be nested, setting n_jobs=1\n",
      "  n_jobs = min(effective_n_jobs(n_jobs), n_estimators)\n",
      "/home/seba/anaconda3/lib/python3.6/site-packages/sklearn/ensemble/base.py:154: UserWarning: Multiprocessing-backed parallel loops cannot be nested, setting n_jobs=1\n",
      "  n_jobs = min(effective_n_jobs(n_jobs), n_estimators)\n",
      "/home/seba/anaconda3/lib/python3.6/site-packages/sklearn/ensemble/base.py:154: UserWarning: Multiprocessing-backed parallel loops cannot be nested, setting n_jobs=1\n",
      "  n_jobs = min(effective_n_jobs(n_jobs), n_estimators)\n",
      "/home/seba/anaconda3/lib/python3.6/site-packages/sklearn/ensemble/base.py:154: UserWarning: Multiprocessing-backed parallel loops cannot be nested, setting n_jobs=1\n",
      "  n_jobs = min(effective_n_jobs(n_jobs), n_estimators)\n",
      "/home/seba/anaconda3/lib/python3.6/site-packages/sklearn/ensemble/base.py:154: UserWarning: Multiprocessing-backed parallel loops cannot be nested, setting n_jobs=1\n",
      "  n_jobs = min(effective_n_jobs(n_jobs), n_estimators)\n",
      "/home/seba/anaconda3/lib/python3.6/site-packages/sklearn/ensemble/base.py:154: UserWarning: Multiprocessing-backed parallel loops cannot be nested, setting n_jobs=1\n",
      "  n_jobs = min(effective_n_jobs(n_jobs), n_estimators)\n",
      "/home/seba/anaconda3/lib/python3.6/site-packages/sklearn/ensemble/base.py:154: UserWarning: Multiprocessing-backed parallel loops cannot be nested, setting n_jobs=1\n",
      "  n_jobs = min(effective_n_jobs(n_jobs), n_estimators)\n",
      "/home/seba/anaconda3/lib/python3.6/site-packages/sklearn/ensemble/base.py:154: UserWarning: Multiprocessing-backed parallel loops cannot be nested, setting n_jobs=1\n",
      "  n_jobs = min(effective_n_jobs(n_jobs), n_estimators)\n",
      "/home/seba/anaconda3/lib/python3.6/site-packages/sklearn/ensemble/base.py:154: UserWarning: Multiprocessing-backed parallel loops cannot be nested, setting n_jobs=1\n",
      "  n_jobs = min(effective_n_jobs(n_jobs), n_estimators)\n",
      "/home/seba/anaconda3/lib/python3.6/site-packages/sklearn/ensemble/base.py:154: UserWarning: Multiprocessing-backed parallel loops cannot be nested, setting n_jobs=1\n",
      "  n_jobs = min(effective_n_jobs(n_jobs), n_estimators)\n",
      "/home/seba/anaconda3/lib/python3.6/site-packages/sklearn/ensemble/base.py:154: UserWarning: Multiprocessing-backed parallel loops cannot be nested, setting n_jobs=1\n",
      "  n_jobs = min(effective_n_jobs(n_jobs), n_estimators)\n",
      "/home/seba/anaconda3/lib/python3.6/site-packages/sklearn/ensemble/base.py:154: UserWarning: Multiprocessing-backed parallel loops cannot be nested, setting n_jobs=1\n",
      "  n_jobs = min(effective_n_jobs(n_jobs), n_estimators)\n",
      "/home/seba/anaconda3/lib/python3.6/site-packages/sklearn/ensemble/base.py:154: UserWarning: Multiprocessing-backed parallel loops cannot be nested, setting n_jobs=1\n",
      "  n_jobs = min(effective_n_jobs(n_jobs), n_estimators)\n",
      "/home/seba/anaconda3/lib/python3.6/site-packages/sklearn/ensemble/base.py:154: UserWarning: Multiprocessing-backed parallel loops cannot be nested, setting n_jobs=1\n",
      "  n_jobs = min(effective_n_jobs(n_jobs), n_estimators)\n",
      "/home/seba/anaconda3/lib/python3.6/site-packages/sklearn/ensemble/base.py:154: UserWarning: Multiprocessing-backed parallel loops cannot be nested, setting n_jobs=1\n",
      "  n_jobs = min(effective_n_jobs(n_jobs), n_estimators)\n",
      "/home/seba/anaconda3/lib/python3.6/site-packages/sklearn/ensemble/base.py:154: UserWarning: Multiprocessing-backed parallel loops cannot be nested, setting n_jobs=1\n",
      "  n_jobs = min(effective_n_jobs(n_jobs), n_estimators)\n",
      "/home/seba/anaconda3/lib/python3.6/site-packages/sklearn/ensemble/base.py:154: UserWarning: Multiprocessing-backed parallel loops cannot be nested, setting n_jobs=1\n",
      "  n_jobs = min(effective_n_jobs(n_jobs), n_estimators)\n",
      "/home/seba/anaconda3/lib/python3.6/site-packages/sklearn/ensemble/base.py:154: UserWarning: Multiprocessing-backed parallel loops cannot be nested, setting n_jobs=1\n",
      "  n_jobs = min(effective_n_jobs(n_jobs), n_estimators)\n",
      "/home/seba/anaconda3/lib/python3.6/site-packages/sklearn/ensemble/base.py:154: UserWarning: Multiprocessing-backed parallel loops cannot be nested, setting n_jobs=1\n",
      "  n_jobs = min(effective_n_jobs(n_jobs), n_estimators)\n",
      "/home/seba/anaconda3/lib/python3.6/site-packages/sklearn/ensemble/base.py:154: UserWarning: Multiprocessing-backed parallel loops cannot be nested, setting n_jobs=1\n",
      "  n_jobs = min(effective_n_jobs(n_jobs), n_estimators)\n",
      "/home/seba/anaconda3/lib/python3.6/site-packages/sklearn/ensemble/base.py:154: UserWarning: Multiprocessing-backed parallel loops cannot be nested, setting n_jobs=1\n",
      "  n_jobs = min(effective_n_jobs(n_jobs), n_estimators)\n",
      "/home/seba/anaconda3/lib/python3.6/site-packages/sklearn/ensemble/base.py:154: UserWarning: Multiprocessing-backed parallel loops cannot be nested, setting n_jobs=1\n",
      "  n_jobs = min(effective_n_jobs(n_jobs), n_estimators)\n",
      "/home/seba/anaconda3/lib/python3.6/site-packages/sklearn/ensemble/base.py:154: UserWarning: Multiprocessing-backed parallel loops cannot be nested, setting n_jobs=1\n",
      "  n_jobs = min(effective_n_jobs(n_jobs), n_estimators)\n",
      "/home/seba/anaconda3/lib/python3.6/site-packages/sklearn/ensemble/base.py:154: UserWarning: Multiprocessing-backed parallel loops cannot be nested, setting n_jobs=1\n",
      "  n_jobs = min(effective_n_jobs(n_jobs), n_estimators)\n",
      "/home/seba/anaconda3/lib/python3.6/site-packages/sklearn/ensemble/base.py:154: UserWarning: Multiprocessing-backed parallel loops cannot be nested, setting n_jobs=1\n",
      "  n_jobs = min(effective_n_jobs(n_jobs), n_estimators)\n"
     ]
    },
    {
     "name": "stderr",
     "output_type": "stream",
     "text": [
      "/home/seba/anaconda3/lib/python3.6/site-packages/sklearn/ensemble/base.py:154: UserWarning: Multiprocessing-backed parallel loops cannot be nested, setting n_jobs=1\n",
      "  n_jobs = min(effective_n_jobs(n_jobs), n_estimators)\n",
      "/home/seba/anaconda3/lib/python3.6/site-packages/sklearn/ensemble/base.py:154: UserWarning: Multiprocessing-backed parallel loops cannot be nested, setting n_jobs=1\n",
      "  n_jobs = min(effective_n_jobs(n_jobs), n_estimators)\n",
      "/home/seba/anaconda3/lib/python3.6/site-packages/sklearn/ensemble/base.py:154: UserWarning: Multiprocessing-backed parallel loops cannot be nested, setting n_jobs=1\n",
      "  n_jobs = min(effective_n_jobs(n_jobs), n_estimators)\n",
      "/home/seba/anaconda3/lib/python3.6/site-packages/sklearn/ensemble/base.py:154: UserWarning: Multiprocessing-backed parallel loops cannot be nested, setting n_jobs=1\n",
      "  n_jobs = min(effective_n_jobs(n_jobs), n_estimators)\n",
      "/home/seba/anaconda3/lib/python3.6/site-packages/sklearn/ensemble/base.py:154: UserWarning: Multiprocessing-backed parallel loops cannot be nested, setting n_jobs=1\n",
      "  n_jobs = min(effective_n_jobs(n_jobs), n_estimators)\n",
      "/home/seba/anaconda3/lib/python3.6/site-packages/sklearn/ensemble/base.py:154: UserWarning: Multiprocessing-backed parallel loops cannot be nested, setting n_jobs=1\n",
      "  n_jobs = min(effective_n_jobs(n_jobs), n_estimators)\n",
      "/home/seba/anaconda3/lib/python3.6/site-packages/sklearn/ensemble/base.py:154: UserWarning: Multiprocessing-backed parallel loops cannot be nested, setting n_jobs=1\n",
      "  n_jobs = min(effective_n_jobs(n_jobs), n_estimators)\n",
      "/home/seba/anaconda3/lib/python3.6/site-packages/sklearn/ensemble/base.py:154: UserWarning: Multiprocessing-backed parallel loops cannot be nested, setting n_jobs=1\n",
      "  n_jobs = min(effective_n_jobs(n_jobs), n_estimators)\n",
      "/home/seba/anaconda3/lib/python3.6/site-packages/sklearn/ensemble/base.py:154: UserWarning: Multiprocessing-backed parallel loops cannot be nested, setting n_jobs=1\n",
      "  n_jobs = min(effective_n_jobs(n_jobs), n_estimators)\n",
      "/home/seba/anaconda3/lib/python3.6/site-packages/sklearn/ensemble/base.py:154: UserWarning: Multiprocessing-backed parallel loops cannot be nested, setting n_jobs=1\n",
      "  n_jobs = min(effective_n_jobs(n_jobs), n_estimators)\n",
      "/home/seba/anaconda3/lib/python3.6/site-packages/sklearn/ensemble/base.py:154: UserWarning: Multiprocessing-backed parallel loops cannot be nested, setting n_jobs=1\n",
      "  n_jobs = min(effective_n_jobs(n_jobs), n_estimators)\n",
      "/home/seba/anaconda3/lib/python3.6/site-packages/sklearn/ensemble/base.py:154: UserWarning: Multiprocessing-backed parallel loops cannot be nested, setting n_jobs=1\n",
      "  n_jobs = min(effective_n_jobs(n_jobs), n_estimators)\n",
      "/home/seba/anaconda3/lib/python3.6/site-packages/sklearn/ensemble/base.py:154: UserWarning: Multiprocessing-backed parallel loops cannot be nested, setting n_jobs=1\n",
      "  n_jobs = min(effective_n_jobs(n_jobs), n_estimators)\n",
      "/home/seba/anaconda3/lib/python3.6/site-packages/sklearn/ensemble/base.py:154: UserWarning: Multiprocessing-backed parallel loops cannot be nested, setting n_jobs=1\n",
      "  n_jobs = min(effective_n_jobs(n_jobs), n_estimators)\n",
      "/home/seba/anaconda3/lib/python3.6/site-packages/sklearn/ensemble/base.py:154: UserWarning: Multiprocessing-backed parallel loops cannot be nested, setting n_jobs=1\n",
      "  n_jobs = min(effective_n_jobs(n_jobs), n_estimators)\n",
      "/home/seba/anaconda3/lib/python3.6/site-packages/sklearn/ensemble/base.py:154: UserWarning: Multiprocessing-backed parallel loops cannot be nested, setting n_jobs=1\n",
      "  n_jobs = min(effective_n_jobs(n_jobs), n_estimators)\n",
      "/home/seba/anaconda3/lib/python3.6/site-packages/sklearn/ensemble/base.py:154: UserWarning: Multiprocessing-backed parallel loops cannot be nested, setting n_jobs=1\n",
      "  n_jobs = min(effective_n_jobs(n_jobs), n_estimators)\n",
      "/home/seba/anaconda3/lib/python3.6/site-packages/sklearn/ensemble/base.py:154: UserWarning: Multiprocessing-backed parallel loops cannot be nested, setting n_jobs=1\n",
      "  n_jobs = min(effective_n_jobs(n_jobs), n_estimators)\n",
      "/home/seba/anaconda3/lib/python3.6/site-packages/sklearn/ensemble/base.py:154: UserWarning: Multiprocessing-backed parallel loops cannot be nested, setting n_jobs=1\n",
      "  n_jobs = min(effective_n_jobs(n_jobs), n_estimators)\n",
      "/home/seba/anaconda3/lib/python3.6/site-packages/sklearn/ensemble/base.py:154: UserWarning: Multiprocessing-backed parallel loops cannot be nested, setting n_jobs=1\n",
      "  n_jobs = min(effective_n_jobs(n_jobs), n_estimators)\n",
      "/home/seba/anaconda3/lib/python3.6/site-packages/sklearn/ensemble/base.py:154: UserWarning: Multiprocessing-backed parallel loops cannot be nested, setting n_jobs=1\n",
      "  n_jobs = min(effective_n_jobs(n_jobs), n_estimators)\n",
      "/home/seba/anaconda3/lib/python3.6/site-packages/sklearn/ensemble/base.py:154: UserWarning: Multiprocessing-backed parallel loops cannot be nested, setting n_jobs=1\n",
      "  n_jobs = min(effective_n_jobs(n_jobs), n_estimators)\n",
      "/home/seba/anaconda3/lib/python3.6/site-packages/sklearn/ensemble/base.py:154: UserWarning: Multiprocessing-backed parallel loops cannot be nested, setting n_jobs=1\n",
      "  n_jobs = min(effective_n_jobs(n_jobs), n_estimators)\n",
      "/home/seba/anaconda3/lib/python3.6/site-packages/sklearn/ensemble/base.py:154: UserWarning: Multiprocessing-backed parallel loops cannot be nested, setting n_jobs=1\n",
      "  n_jobs = min(effective_n_jobs(n_jobs), n_estimators)\n",
      "/home/seba/anaconda3/lib/python3.6/site-packages/sklearn/ensemble/base.py:154: UserWarning: Multiprocessing-backed parallel loops cannot be nested, setting n_jobs=1\n",
      "  n_jobs = min(effective_n_jobs(n_jobs), n_estimators)\n",
      "/home/seba/anaconda3/lib/python3.6/site-packages/sklearn/ensemble/base.py:154: UserWarning: Multiprocessing-backed parallel loops cannot be nested, setting n_jobs=1\n",
      "  n_jobs = min(effective_n_jobs(n_jobs), n_estimators)\n",
      "/home/seba/anaconda3/lib/python3.6/site-packages/sklearn/ensemble/base.py:154: UserWarning: Multiprocessing-backed parallel loops cannot be nested, setting n_jobs=1\n",
      "  n_jobs = min(effective_n_jobs(n_jobs), n_estimators)\n",
      "/home/seba/anaconda3/lib/python3.6/site-packages/sklearn/ensemble/base.py:154: UserWarning: Multiprocessing-backed parallel loops cannot be nested, setting n_jobs=1\n",
      "  n_jobs = min(effective_n_jobs(n_jobs), n_estimators)\n",
      "/home/seba/anaconda3/lib/python3.6/site-packages/sklearn/ensemble/base.py:154: UserWarning: Multiprocessing-backed parallel loops cannot be nested, setting n_jobs=1\n",
      "  n_jobs = min(effective_n_jobs(n_jobs), n_estimators)\n",
      "/home/seba/anaconda3/lib/python3.6/site-packages/sklearn/ensemble/base.py:154: UserWarning: Multiprocessing-backed parallel loops cannot be nested, setting n_jobs=1\n",
      "  n_jobs = min(effective_n_jobs(n_jobs), n_estimators)\n",
      "/home/seba/anaconda3/lib/python3.6/site-packages/sklearn/ensemble/base.py:154: UserWarning: Multiprocessing-backed parallel loops cannot be nested, setting n_jobs=1\n",
      "  n_jobs = min(effective_n_jobs(n_jobs), n_estimators)\n",
      "/home/seba/anaconda3/lib/python3.6/site-packages/sklearn/ensemble/base.py:154: UserWarning: Multiprocessing-backed parallel loops cannot be nested, setting n_jobs=1\n",
      "  n_jobs = min(effective_n_jobs(n_jobs), n_estimators)\n",
      "/home/seba/anaconda3/lib/python3.6/site-packages/sklearn/ensemble/base.py:154: UserWarning: Multiprocessing-backed parallel loops cannot be nested, setting n_jobs=1\n",
      "  n_jobs = min(effective_n_jobs(n_jobs), n_estimators)\n",
      "/home/seba/anaconda3/lib/python3.6/site-packages/sklearn/ensemble/base.py:154: UserWarning: Multiprocessing-backed parallel loops cannot be nested, setting n_jobs=1\n",
      "  n_jobs = min(effective_n_jobs(n_jobs), n_estimators)\n",
      "/home/seba/anaconda3/lib/python3.6/site-packages/sklearn/ensemble/base.py:154: UserWarning: Multiprocessing-backed parallel loops cannot be nested, setting n_jobs=1\n",
      "  n_jobs = min(effective_n_jobs(n_jobs), n_estimators)\n",
      "/home/seba/anaconda3/lib/python3.6/site-packages/sklearn/ensemble/base.py:154: UserWarning: Multiprocessing-backed parallel loops cannot be nested, setting n_jobs=1\n",
      "  n_jobs = min(effective_n_jobs(n_jobs), n_estimators)\n",
      "/home/seba/anaconda3/lib/python3.6/site-packages/sklearn/ensemble/base.py:154: UserWarning: Multiprocessing-backed parallel loops cannot be nested, setting n_jobs=1\n",
      "  n_jobs = min(effective_n_jobs(n_jobs), n_estimators)\n",
      "/home/seba/anaconda3/lib/python3.6/site-packages/sklearn/ensemble/base.py:154: UserWarning: Multiprocessing-backed parallel loops cannot be nested, setting n_jobs=1\n",
      "  n_jobs = min(effective_n_jobs(n_jobs), n_estimators)\n"
     ]
    },
    {
     "name": "stderr",
     "output_type": "stream",
     "text": [
      "/home/seba/anaconda3/lib/python3.6/site-packages/sklearn/ensemble/base.py:154: UserWarning: Multiprocessing-backed parallel loops cannot be nested, setting n_jobs=1\n",
      "  n_jobs = min(effective_n_jobs(n_jobs), n_estimators)\n",
      "/home/seba/anaconda3/lib/python3.6/site-packages/sklearn/ensemble/base.py:154: UserWarning: Multiprocessing-backed parallel loops cannot be nested, setting n_jobs=1\n",
      "  n_jobs = min(effective_n_jobs(n_jobs), n_estimators)\n",
      "/home/seba/anaconda3/lib/python3.6/site-packages/sklearn/ensemble/base.py:154: UserWarning: Multiprocessing-backed parallel loops cannot be nested, setting n_jobs=1\n",
      "  n_jobs = min(effective_n_jobs(n_jobs), n_estimators)\n",
      "/home/seba/anaconda3/lib/python3.6/site-packages/sklearn/ensemble/base.py:154: UserWarning: Multiprocessing-backed parallel loops cannot be nested, setting n_jobs=1\n",
      "  n_jobs = min(effective_n_jobs(n_jobs), n_estimators)\n",
      "/home/seba/anaconda3/lib/python3.6/site-packages/sklearn/ensemble/base.py:154: UserWarning: Multiprocessing-backed parallel loops cannot be nested, setting n_jobs=1\n",
      "  n_jobs = min(effective_n_jobs(n_jobs), n_estimators)\n",
      "/home/seba/anaconda3/lib/python3.6/site-packages/sklearn/ensemble/base.py:154: UserWarning: Multiprocessing-backed parallel loops cannot be nested, setting n_jobs=1\n",
      "  n_jobs = min(effective_n_jobs(n_jobs), n_estimators)\n",
      "/home/seba/anaconda3/lib/python3.6/site-packages/sklearn/ensemble/base.py:154: UserWarning: Multiprocessing-backed parallel loops cannot be nested, setting n_jobs=1\n",
      "  n_jobs = min(effective_n_jobs(n_jobs), n_estimators)\n",
      "/home/seba/anaconda3/lib/python3.6/site-packages/sklearn/ensemble/base.py:154: UserWarning: Multiprocessing-backed parallel loops cannot be nested, setting n_jobs=1\n",
      "  n_jobs = min(effective_n_jobs(n_jobs), n_estimators)\n",
      "/home/seba/anaconda3/lib/python3.6/site-packages/sklearn/ensemble/base.py:154: UserWarning: Multiprocessing-backed parallel loops cannot be nested, setting n_jobs=1\n",
      "  n_jobs = min(effective_n_jobs(n_jobs), n_estimators)\n",
      "/home/seba/anaconda3/lib/python3.6/site-packages/sklearn/ensemble/base.py:154: UserWarning: Multiprocessing-backed parallel loops cannot be nested, setting n_jobs=1\n",
      "  n_jobs = min(effective_n_jobs(n_jobs), n_estimators)\n",
      "/home/seba/anaconda3/lib/python3.6/site-packages/sklearn/ensemble/base.py:154: UserWarning: Multiprocessing-backed parallel loops cannot be nested, setting n_jobs=1\n",
      "  n_jobs = min(effective_n_jobs(n_jobs), n_estimators)\n",
      "/home/seba/anaconda3/lib/python3.6/site-packages/sklearn/ensemble/base.py:154: UserWarning: Multiprocessing-backed parallel loops cannot be nested, setting n_jobs=1\n",
      "  n_jobs = min(effective_n_jobs(n_jobs), n_estimators)\n",
      "/home/seba/anaconda3/lib/python3.6/site-packages/sklearn/ensemble/base.py:154: UserWarning: Multiprocessing-backed parallel loops cannot be nested, setting n_jobs=1\n",
      "  n_jobs = min(effective_n_jobs(n_jobs), n_estimators)\n",
      "/home/seba/anaconda3/lib/python3.6/site-packages/sklearn/ensemble/base.py:154: UserWarning: Multiprocessing-backed parallel loops cannot be nested, setting n_jobs=1\n",
      "  n_jobs = min(effective_n_jobs(n_jobs), n_estimators)\n",
      "/home/seba/anaconda3/lib/python3.6/site-packages/sklearn/ensemble/base.py:154: UserWarning: Multiprocessing-backed parallel loops cannot be nested, setting n_jobs=1\n",
      "  n_jobs = min(effective_n_jobs(n_jobs), n_estimators)\n",
      "/home/seba/anaconda3/lib/python3.6/site-packages/sklearn/ensemble/base.py:154: UserWarning: Multiprocessing-backed parallel loops cannot be nested, setting n_jobs=1\n",
      "  n_jobs = min(effective_n_jobs(n_jobs), n_estimators)\n",
      "/home/seba/anaconda3/lib/python3.6/site-packages/sklearn/ensemble/base.py:154: UserWarning: Multiprocessing-backed parallel loops cannot be nested, setting n_jobs=1\n",
      "  n_jobs = min(effective_n_jobs(n_jobs), n_estimators)\n",
      "/home/seba/anaconda3/lib/python3.6/site-packages/sklearn/ensemble/base.py:154: UserWarning: Multiprocessing-backed parallel loops cannot be nested, setting n_jobs=1\n",
      "  n_jobs = min(effective_n_jobs(n_jobs), n_estimators)\n",
      "/home/seba/anaconda3/lib/python3.6/site-packages/sklearn/ensemble/base.py:154: UserWarning: Multiprocessing-backed parallel loops cannot be nested, setting n_jobs=1\n",
      "  n_jobs = min(effective_n_jobs(n_jobs), n_estimators)\n",
      "/home/seba/anaconda3/lib/python3.6/site-packages/sklearn/ensemble/base.py:154: UserWarning: Multiprocessing-backed parallel loops cannot be nested, setting n_jobs=1\n",
      "  n_jobs = min(effective_n_jobs(n_jobs), n_estimators)\n",
      "/home/seba/anaconda3/lib/python3.6/site-packages/sklearn/ensemble/base.py:154: UserWarning: Multiprocessing-backed parallel loops cannot be nested, setting n_jobs=1\n",
      "  n_jobs = min(effective_n_jobs(n_jobs), n_estimators)\n",
      "/home/seba/anaconda3/lib/python3.6/site-packages/sklearn/ensemble/base.py:154: UserWarning: Multiprocessing-backed parallel loops cannot be nested, setting n_jobs=1\n",
      "  n_jobs = min(effective_n_jobs(n_jobs), n_estimators)\n",
      "/home/seba/anaconda3/lib/python3.6/site-packages/sklearn/ensemble/base.py:154: UserWarning: Multiprocessing-backed parallel loops cannot be nested, setting n_jobs=1\n",
      "  n_jobs = min(effective_n_jobs(n_jobs), n_estimators)\n",
      "/home/seba/anaconda3/lib/python3.6/site-packages/sklearn/ensemble/base.py:154: UserWarning: Multiprocessing-backed parallel loops cannot be nested, setting n_jobs=1\n",
      "  n_jobs = min(effective_n_jobs(n_jobs), n_estimators)\n",
      "/home/seba/anaconda3/lib/python3.6/site-packages/sklearn/ensemble/base.py:154: UserWarning: Multiprocessing-backed parallel loops cannot be nested, setting n_jobs=1\n",
      "  n_jobs = min(effective_n_jobs(n_jobs), n_estimators)\n",
      "/home/seba/anaconda3/lib/python3.6/site-packages/sklearn/ensemble/base.py:154: UserWarning: Multiprocessing-backed parallel loops cannot be nested, setting n_jobs=1\n",
      "  n_jobs = min(effective_n_jobs(n_jobs), n_estimators)\n",
      "/home/seba/anaconda3/lib/python3.6/site-packages/sklearn/ensemble/base.py:154: UserWarning: Multiprocessing-backed parallel loops cannot be nested, setting n_jobs=1\n",
      "  n_jobs = min(effective_n_jobs(n_jobs), n_estimators)\n",
      "/home/seba/anaconda3/lib/python3.6/site-packages/sklearn/ensemble/base.py:154: UserWarning: Multiprocessing-backed parallel loops cannot be nested, setting n_jobs=1\n",
      "  n_jobs = min(effective_n_jobs(n_jobs), n_estimators)\n",
      "/home/seba/anaconda3/lib/python3.6/site-packages/sklearn/ensemble/base.py:154: UserWarning: Multiprocessing-backed parallel loops cannot be nested, setting n_jobs=1\n",
      "  n_jobs = min(effective_n_jobs(n_jobs), n_estimators)\n",
      "/home/seba/anaconda3/lib/python3.6/site-packages/sklearn/ensemble/base.py:154: UserWarning: Multiprocessing-backed parallel loops cannot be nested, setting n_jobs=1\n",
      "  n_jobs = min(effective_n_jobs(n_jobs), n_estimators)\n",
      "/home/seba/anaconda3/lib/python3.6/site-packages/sklearn/ensemble/base.py:154: UserWarning: Multiprocessing-backed parallel loops cannot be nested, setting n_jobs=1\n",
      "  n_jobs = min(effective_n_jobs(n_jobs), n_estimators)\n",
      "/home/seba/anaconda3/lib/python3.6/site-packages/sklearn/ensemble/base.py:154: UserWarning: Multiprocessing-backed parallel loops cannot be nested, setting n_jobs=1\n",
      "  n_jobs = min(effective_n_jobs(n_jobs), n_estimators)\n",
      "/home/seba/anaconda3/lib/python3.6/site-packages/sklearn/ensemble/base.py:154: UserWarning: Multiprocessing-backed parallel loops cannot be nested, setting n_jobs=1\n",
      "  n_jobs = min(effective_n_jobs(n_jobs), n_estimators)\n",
      "/home/seba/anaconda3/lib/python3.6/site-packages/sklearn/ensemble/base.py:154: UserWarning: Multiprocessing-backed parallel loops cannot be nested, setting n_jobs=1\n",
      "  n_jobs = min(effective_n_jobs(n_jobs), n_estimators)\n",
      "/home/seba/anaconda3/lib/python3.6/site-packages/sklearn/ensemble/base.py:154: UserWarning: Multiprocessing-backed parallel loops cannot be nested, setting n_jobs=1\n",
      "  n_jobs = min(effective_n_jobs(n_jobs), n_estimators)\n",
      "/home/seba/anaconda3/lib/python3.6/site-packages/sklearn/ensemble/base.py:154: UserWarning: Multiprocessing-backed parallel loops cannot be nested, setting n_jobs=1\n",
      "  n_jobs = min(effective_n_jobs(n_jobs), n_estimators)\n",
      "/home/seba/anaconda3/lib/python3.6/site-packages/sklearn/ensemble/base.py:154: UserWarning: Multiprocessing-backed parallel loops cannot be nested, setting n_jobs=1\n",
      "  n_jobs = min(effective_n_jobs(n_jobs), n_estimators)\n",
      "/home/seba/anaconda3/lib/python3.6/site-packages/sklearn/ensemble/base.py:154: UserWarning: Multiprocessing-backed parallel loops cannot be nested, setting n_jobs=1\n",
      "  n_jobs = min(effective_n_jobs(n_jobs), n_estimators)\n"
     ]
    },
    {
     "name": "stderr",
     "output_type": "stream",
     "text": [
      "/home/seba/anaconda3/lib/python3.6/site-packages/sklearn/ensemble/base.py:154: UserWarning: Multiprocessing-backed parallel loops cannot be nested, setting n_jobs=1\n",
      "  n_jobs = min(effective_n_jobs(n_jobs), n_estimators)\n",
      "/home/seba/anaconda3/lib/python3.6/site-packages/sklearn/ensemble/base.py:154: UserWarning: Multiprocessing-backed parallel loops cannot be nested, setting n_jobs=1\n",
      "  n_jobs = min(effective_n_jobs(n_jobs), n_estimators)\n",
      "/home/seba/anaconda3/lib/python3.6/site-packages/sklearn/ensemble/base.py:154: UserWarning: Multiprocessing-backed parallel loops cannot be nested, setting n_jobs=1\n",
      "  n_jobs = min(effective_n_jobs(n_jobs), n_estimators)\n",
      "/home/seba/anaconda3/lib/python3.6/site-packages/sklearn/ensemble/base.py:154: UserWarning: Multiprocessing-backed parallel loops cannot be nested, setting n_jobs=1\n",
      "  n_jobs = min(effective_n_jobs(n_jobs), n_estimators)\n",
      "/home/seba/anaconda3/lib/python3.6/site-packages/sklearn/ensemble/base.py:154: UserWarning: Multiprocessing-backed parallel loops cannot be nested, setting n_jobs=1\n",
      "  n_jobs = min(effective_n_jobs(n_jobs), n_estimators)\n",
      "/home/seba/anaconda3/lib/python3.6/site-packages/sklearn/ensemble/base.py:154: UserWarning: Multiprocessing-backed parallel loops cannot be nested, setting n_jobs=1\n",
      "  n_jobs = min(effective_n_jobs(n_jobs), n_estimators)\n",
      "/home/seba/anaconda3/lib/python3.6/site-packages/sklearn/ensemble/base.py:154: UserWarning: Multiprocessing-backed parallel loops cannot be nested, setting n_jobs=1\n",
      "  n_jobs = min(effective_n_jobs(n_jobs), n_estimators)\n",
      "/home/seba/anaconda3/lib/python3.6/site-packages/sklearn/ensemble/base.py:154: UserWarning: Multiprocessing-backed parallel loops cannot be nested, setting n_jobs=1\n",
      "  n_jobs = min(effective_n_jobs(n_jobs), n_estimators)\n",
      "/home/seba/anaconda3/lib/python3.6/site-packages/sklearn/ensemble/base.py:154: UserWarning: Multiprocessing-backed parallel loops cannot be nested, setting n_jobs=1\n",
      "  n_jobs = min(effective_n_jobs(n_jobs), n_estimators)\n",
      "/home/seba/anaconda3/lib/python3.6/site-packages/sklearn/ensemble/base.py:154: UserWarning: Multiprocessing-backed parallel loops cannot be nested, setting n_jobs=1\n",
      "  n_jobs = min(effective_n_jobs(n_jobs), n_estimators)\n",
      "/home/seba/anaconda3/lib/python3.6/site-packages/sklearn/ensemble/base.py:154: UserWarning: Multiprocessing-backed parallel loops cannot be nested, setting n_jobs=1\n",
      "  n_jobs = min(effective_n_jobs(n_jobs), n_estimators)\n",
      "/home/seba/anaconda3/lib/python3.6/site-packages/sklearn/ensemble/base.py:154: UserWarning: Multiprocessing-backed parallel loops cannot be nested, setting n_jobs=1\n",
      "  n_jobs = min(effective_n_jobs(n_jobs), n_estimators)\n",
      "/home/seba/anaconda3/lib/python3.6/site-packages/sklearn/ensemble/base.py:154: UserWarning: Multiprocessing-backed parallel loops cannot be nested, setting n_jobs=1\n",
      "  n_jobs = min(effective_n_jobs(n_jobs), n_estimators)\n",
      "/home/seba/anaconda3/lib/python3.6/site-packages/sklearn/ensemble/base.py:154: UserWarning: Multiprocessing-backed parallel loops cannot be nested, setting n_jobs=1\n",
      "  n_jobs = min(effective_n_jobs(n_jobs), n_estimators)\n",
      "/home/seba/anaconda3/lib/python3.6/site-packages/sklearn/ensemble/base.py:154: UserWarning: Multiprocessing-backed parallel loops cannot be nested, setting n_jobs=1\n",
      "  n_jobs = min(effective_n_jobs(n_jobs), n_estimators)\n",
      "/home/seba/anaconda3/lib/python3.6/site-packages/sklearn/ensemble/base.py:154: UserWarning: Multiprocessing-backed parallel loops cannot be nested, setting n_jobs=1\n",
      "  n_jobs = min(effective_n_jobs(n_jobs), n_estimators)\n",
      "/home/seba/anaconda3/lib/python3.6/site-packages/sklearn/ensemble/base.py:154: UserWarning: Multiprocessing-backed parallel loops cannot be nested, setting n_jobs=1\n",
      "  n_jobs = min(effective_n_jobs(n_jobs), n_estimators)\n",
      "/home/seba/anaconda3/lib/python3.6/site-packages/sklearn/ensemble/base.py:154: UserWarning: Multiprocessing-backed parallel loops cannot be nested, setting n_jobs=1\n",
      "  n_jobs = min(effective_n_jobs(n_jobs), n_estimators)\n",
      "/home/seba/anaconda3/lib/python3.6/site-packages/sklearn/ensemble/base.py:154: UserWarning: Multiprocessing-backed parallel loops cannot be nested, setting n_jobs=1\n",
      "  n_jobs = min(effective_n_jobs(n_jobs), n_estimators)\n",
      "/home/seba/anaconda3/lib/python3.6/site-packages/sklearn/ensemble/base.py:154: UserWarning: Multiprocessing-backed parallel loops cannot be nested, setting n_jobs=1\n",
      "  n_jobs = min(effective_n_jobs(n_jobs), n_estimators)\n",
      "/home/seba/anaconda3/lib/python3.6/site-packages/sklearn/ensemble/base.py:154: UserWarning: Multiprocessing-backed parallel loops cannot be nested, setting n_jobs=1\n",
      "  n_jobs = min(effective_n_jobs(n_jobs), n_estimators)\n",
      "/home/seba/anaconda3/lib/python3.6/site-packages/sklearn/ensemble/base.py:154: UserWarning: Multiprocessing-backed parallel loops cannot be nested, setting n_jobs=1\n",
      "  n_jobs = min(effective_n_jobs(n_jobs), n_estimators)\n",
      "/home/seba/anaconda3/lib/python3.6/site-packages/sklearn/ensemble/base.py:154: UserWarning: Multiprocessing-backed parallel loops cannot be nested, setting n_jobs=1\n",
      "  n_jobs = min(effective_n_jobs(n_jobs), n_estimators)\n",
      "/home/seba/anaconda3/lib/python3.6/site-packages/sklearn/ensemble/base.py:154: UserWarning: Multiprocessing-backed parallel loops cannot be nested, setting n_jobs=1\n",
      "  n_jobs = min(effective_n_jobs(n_jobs), n_estimators)\n",
      "/home/seba/anaconda3/lib/python3.6/site-packages/sklearn/ensemble/base.py:154: UserWarning: Multiprocessing-backed parallel loops cannot be nested, setting n_jobs=1\n",
      "  n_jobs = min(effective_n_jobs(n_jobs), n_estimators)\n",
      "/home/seba/anaconda3/lib/python3.6/site-packages/sklearn/ensemble/base.py:154: UserWarning: Multiprocessing-backed parallel loops cannot be nested, setting n_jobs=1\n",
      "  n_jobs = min(effective_n_jobs(n_jobs), n_estimators)\n",
      "/home/seba/anaconda3/lib/python3.6/site-packages/sklearn/ensemble/base.py:154: UserWarning: Multiprocessing-backed parallel loops cannot be nested, setting n_jobs=1\n",
      "  n_jobs = min(effective_n_jobs(n_jobs), n_estimators)\n",
      "/home/seba/anaconda3/lib/python3.6/site-packages/sklearn/ensemble/base.py:154: UserWarning: Multiprocessing-backed parallel loops cannot be nested, setting n_jobs=1\n",
      "  n_jobs = min(effective_n_jobs(n_jobs), n_estimators)\n",
      "/home/seba/anaconda3/lib/python3.6/site-packages/sklearn/ensemble/base.py:154: UserWarning: Multiprocessing-backed parallel loops cannot be nested, setting n_jobs=1\n",
      "  n_jobs = min(effective_n_jobs(n_jobs), n_estimators)\n",
      "/home/seba/anaconda3/lib/python3.6/site-packages/sklearn/ensemble/base.py:154: UserWarning: Multiprocessing-backed parallel loops cannot be nested, setting n_jobs=1\n",
      "  n_jobs = min(effective_n_jobs(n_jobs), n_estimators)\n",
      "/home/seba/anaconda3/lib/python3.6/site-packages/sklearn/ensemble/base.py:154: UserWarning: Multiprocessing-backed parallel loops cannot be nested, setting n_jobs=1\n",
      "  n_jobs = min(effective_n_jobs(n_jobs), n_estimators)\n",
      "/home/seba/anaconda3/lib/python3.6/site-packages/sklearn/ensemble/base.py:154: UserWarning: Multiprocessing-backed parallel loops cannot be nested, setting n_jobs=1\n",
      "  n_jobs = min(effective_n_jobs(n_jobs), n_estimators)\n",
      "/home/seba/anaconda3/lib/python3.6/site-packages/sklearn/ensemble/base.py:154: UserWarning: Multiprocessing-backed parallel loops cannot be nested, setting n_jobs=1\n",
      "  n_jobs = min(effective_n_jobs(n_jobs), n_estimators)\n",
      "/home/seba/anaconda3/lib/python3.6/site-packages/sklearn/ensemble/base.py:154: UserWarning: Multiprocessing-backed parallel loops cannot be nested, setting n_jobs=1\n",
      "  n_jobs = min(effective_n_jobs(n_jobs), n_estimators)\n",
      "/home/seba/anaconda3/lib/python3.6/site-packages/sklearn/ensemble/base.py:154: UserWarning: Multiprocessing-backed parallel loops cannot be nested, setting n_jobs=1\n",
      "  n_jobs = min(effective_n_jobs(n_jobs), n_estimators)\n",
      "/home/seba/anaconda3/lib/python3.6/site-packages/sklearn/ensemble/base.py:154: UserWarning: Multiprocessing-backed parallel loops cannot be nested, setting n_jobs=1\n",
      "  n_jobs = min(effective_n_jobs(n_jobs), n_estimators)\n",
      "/home/seba/anaconda3/lib/python3.6/site-packages/sklearn/ensemble/base.py:154: UserWarning: Multiprocessing-backed parallel loops cannot be nested, setting n_jobs=1\n",
      "  n_jobs = min(effective_n_jobs(n_jobs), n_estimators)\n",
      "/home/seba/anaconda3/lib/python3.6/site-packages/sklearn/ensemble/base.py:154: UserWarning: Multiprocessing-backed parallel loops cannot be nested, setting n_jobs=1\n",
      "  n_jobs = min(effective_n_jobs(n_jobs), n_estimators)\n"
     ]
    },
    {
     "name": "stderr",
     "output_type": "stream",
     "text": [
      "/home/seba/anaconda3/lib/python3.6/site-packages/sklearn/ensemble/base.py:154: UserWarning: Multiprocessing-backed parallel loops cannot be nested, setting n_jobs=1\n",
      "  n_jobs = min(effective_n_jobs(n_jobs), n_estimators)\n",
      "/home/seba/anaconda3/lib/python3.6/site-packages/sklearn/ensemble/base.py:154: UserWarning: Multiprocessing-backed parallel loops cannot be nested, setting n_jobs=1\n",
      "  n_jobs = min(effective_n_jobs(n_jobs), n_estimators)\n",
      "/home/seba/anaconda3/lib/python3.6/site-packages/sklearn/ensemble/base.py:154: UserWarning: Multiprocessing-backed parallel loops cannot be nested, setting n_jobs=1\n",
      "  n_jobs = min(effective_n_jobs(n_jobs), n_estimators)\n",
      "/home/seba/anaconda3/lib/python3.6/site-packages/sklearn/ensemble/base.py:154: UserWarning: Multiprocessing-backed parallel loops cannot be nested, setting n_jobs=1\n",
      "  n_jobs = min(effective_n_jobs(n_jobs), n_estimators)\n",
      "/home/seba/anaconda3/lib/python3.6/site-packages/sklearn/ensemble/base.py:154: UserWarning: Multiprocessing-backed parallel loops cannot be nested, setting n_jobs=1\n",
      "  n_jobs = min(effective_n_jobs(n_jobs), n_estimators)\n",
      "/home/seba/anaconda3/lib/python3.6/site-packages/sklearn/ensemble/base.py:154: UserWarning: Multiprocessing-backed parallel loops cannot be nested, setting n_jobs=1\n",
      "  n_jobs = min(effective_n_jobs(n_jobs), n_estimators)\n",
      "/home/seba/anaconda3/lib/python3.6/site-packages/sklearn/ensemble/base.py:154: UserWarning: Multiprocessing-backed parallel loops cannot be nested, setting n_jobs=1\n",
      "  n_jobs = min(effective_n_jobs(n_jobs), n_estimators)\n",
      "/home/seba/anaconda3/lib/python3.6/site-packages/sklearn/ensemble/base.py:154: UserWarning: Multiprocessing-backed parallel loops cannot be nested, setting n_jobs=1\n",
      "  n_jobs = min(effective_n_jobs(n_jobs), n_estimators)\n",
      "/home/seba/anaconda3/lib/python3.6/site-packages/sklearn/ensemble/base.py:154: UserWarning: Multiprocessing-backed parallel loops cannot be nested, setting n_jobs=1\n",
      "  n_jobs = min(effective_n_jobs(n_jobs), n_estimators)\n",
      "/home/seba/anaconda3/lib/python3.6/site-packages/sklearn/ensemble/base.py:154: UserWarning: Multiprocessing-backed parallel loops cannot be nested, setting n_jobs=1\n",
      "  n_jobs = min(effective_n_jobs(n_jobs), n_estimators)\n",
      "/home/seba/anaconda3/lib/python3.6/site-packages/sklearn/ensemble/base.py:154: UserWarning: Multiprocessing-backed parallel loops cannot be nested, setting n_jobs=1\n",
      "  n_jobs = min(effective_n_jobs(n_jobs), n_estimators)\n",
      "/home/seba/anaconda3/lib/python3.6/site-packages/sklearn/ensemble/base.py:154: UserWarning: Multiprocessing-backed parallel loops cannot be nested, setting n_jobs=1\n",
      "  n_jobs = min(effective_n_jobs(n_jobs), n_estimators)\n",
      "/home/seba/anaconda3/lib/python3.6/site-packages/sklearn/ensemble/base.py:154: UserWarning: Multiprocessing-backed parallel loops cannot be nested, setting n_jobs=1\n",
      "  n_jobs = min(effective_n_jobs(n_jobs), n_estimators)\n",
      "/home/seba/anaconda3/lib/python3.6/site-packages/sklearn/ensemble/base.py:154: UserWarning: Multiprocessing-backed parallel loops cannot be nested, setting n_jobs=1\n",
      "  n_jobs = min(effective_n_jobs(n_jobs), n_estimators)\n",
      "/home/seba/anaconda3/lib/python3.6/site-packages/sklearn/ensemble/base.py:154: UserWarning: Multiprocessing-backed parallel loops cannot be nested, setting n_jobs=1\n",
      "  n_jobs = min(effective_n_jobs(n_jobs), n_estimators)\n",
      "/home/seba/anaconda3/lib/python3.6/site-packages/sklearn/ensemble/base.py:154: UserWarning: Multiprocessing-backed parallel loops cannot be nested, setting n_jobs=1\n",
      "  n_jobs = min(effective_n_jobs(n_jobs), n_estimators)\n",
      "/home/seba/anaconda3/lib/python3.6/site-packages/sklearn/ensemble/base.py:154: UserWarning: Multiprocessing-backed parallel loops cannot be nested, setting n_jobs=1\n",
      "  n_jobs = min(effective_n_jobs(n_jobs), n_estimators)\n",
      "/home/seba/anaconda3/lib/python3.6/site-packages/sklearn/ensemble/base.py:154: UserWarning: Multiprocessing-backed parallel loops cannot be nested, setting n_jobs=1\n",
      "  n_jobs = min(effective_n_jobs(n_jobs), n_estimators)\n",
      "/home/seba/anaconda3/lib/python3.6/site-packages/sklearn/ensemble/base.py:154: UserWarning: Multiprocessing-backed parallel loops cannot be nested, setting n_jobs=1\n",
      "  n_jobs = min(effective_n_jobs(n_jobs), n_estimators)\n",
      "/home/seba/anaconda3/lib/python3.6/site-packages/sklearn/ensemble/base.py:154: UserWarning: Multiprocessing-backed parallel loops cannot be nested, setting n_jobs=1\n",
      "  n_jobs = min(effective_n_jobs(n_jobs), n_estimators)\n",
      "/home/seba/anaconda3/lib/python3.6/site-packages/sklearn/ensemble/base.py:154: UserWarning: Multiprocessing-backed parallel loops cannot be nested, setting n_jobs=1\n",
      "  n_jobs = min(effective_n_jobs(n_jobs), n_estimators)\n",
      "/home/seba/anaconda3/lib/python3.6/site-packages/sklearn/ensemble/base.py:154: UserWarning: Multiprocessing-backed parallel loops cannot be nested, setting n_jobs=1\n",
      "  n_jobs = min(effective_n_jobs(n_jobs), n_estimators)\n",
      "/home/seba/anaconda3/lib/python3.6/site-packages/sklearn/ensemble/base.py:154: UserWarning: Multiprocessing-backed parallel loops cannot be nested, setting n_jobs=1\n",
      "  n_jobs = min(effective_n_jobs(n_jobs), n_estimators)\n",
      "/home/seba/anaconda3/lib/python3.6/site-packages/sklearn/ensemble/base.py:154: UserWarning: Multiprocessing-backed parallel loops cannot be nested, setting n_jobs=1\n",
      "  n_jobs = min(effective_n_jobs(n_jobs), n_estimators)\n",
      "/home/seba/anaconda3/lib/python3.6/site-packages/sklearn/ensemble/base.py:154: UserWarning: Multiprocessing-backed parallel loops cannot be nested, setting n_jobs=1\n",
      "  n_jobs = min(effective_n_jobs(n_jobs), n_estimators)\n",
      "/home/seba/anaconda3/lib/python3.6/site-packages/sklearn/ensemble/base.py:154: UserWarning: Multiprocessing-backed parallel loops cannot be nested, setting n_jobs=1\n",
      "  n_jobs = min(effective_n_jobs(n_jobs), n_estimators)\n",
      "/home/seba/anaconda3/lib/python3.6/site-packages/sklearn/ensemble/base.py:154: UserWarning: Multiprocessing-backed parallel loops cannot be nested, setting n_jobs=1\n",
      "  n_jobs = min(effective_n_jobs(n_jobs), n_estimators)\n",
      "/home/seba/anaconda3/lib/python3.6/site-packages/sklearn/ensemble/base.py:154: UserWarning: Multiprocessing-backed parallel loops cannot be nested, setting n_jobs=1\n",
      "  n_jobs = min(effective_n_jobs(n_jobs), n_estimators)\n",
      "/home/seba/anaconda3/lib/python3.6/site-packages/sklearn/ensemble/base.py:154: UserWarning: Multiprocessing-backed parallel loops cannot be nested, setting n_jobs=1\n",
      "  n_jobs = min(effective_n_jobs(n_jobs), n_estimators)\n",
      "/home/seba/anaconda3/lib/python3.6/site-packages/sklearn/ensemble/base.py:154: UserWarning: Multiprocessing-backed parallel loops cannot be nested, setting n_jobs=1\n",
      "  n_jobs = min(effective_n_jobs(n_jobs), n_estimators)\n",
      "/home/seba/anaconda3/lib/python3.6/site-packages/sklearn/ensemble/base.py:154: UserWarning: Multiprocessing-backed parallel loops cannot be nested, setting n_jobs=1\n",
      "  n_jobs = min(effective_n_jobs(n_jobs), n_estimators)\n",
      "/home/seba/anaconda3/lib/python3.6/site-packages/sklearn/ensemble/base.py:154: UserWarning: Multiprocessing-backed parallel loops cannot be nested, setting n_jobs=1\n",
      "  n_jobs = min(effective_n_jobs(n_jobs), n_estimators)\n",
      "/home/seba/anaconda3/lib/python3.6/site-packages/sklearn/ensemble/base.py:154: UserWarning: Multiprocessing-backed parallel loops cannot be nested, setting n_jobs=1\n",
      "  n_jobs = min(effective_n_jobs(n_jobs), n_estimators)\n",
      "/home/seba/anaconda3/lib/python3.6/site-packages/sklearn/ensemble/base.py:154: UserWarning: Multiprocessing-backed parallel loops cannot be nested, setting n_jobs=1\n",
      "  n_jobs = min(effective_n_jobs(n_jobs), n_estimators)\n",
      "/home/seba/anaconda3/lib/python3.6/site-packages/sklearn/ensemble/base.py:154: UserWarning: Multiprocessing-backed parallel loops cannot be nested, setting n_jobs=1\n",
      "  n_jobs = min(effective_n_jobs(n_jobs), n_estimators)\n",
      "/home/seba/anaconda3/lib/python3.6/site-packages/sklearn/ensemble/base.py:154: UserWarning: Multiprocessing-backed parallel loops cannot be nested, setting n_jobs=1\n",
      "  n_jobs = min(effective_n_jobs(n_jobs), n_estimators)\n",
      "/home/seba/anaconda3/lib/python3.6/site-packages/sklearn/ensemble/base.py:154: UserWarning: Multiprocessing-backed parallel loops cannot be nested, setting n_jobs=1\n",
      "  n_jobs = min(effective_n_jobs(n_jobs), n_estimators)\n",
      "/home/seba/anaconda3/lib/python3.6/site-packages/sklearn/ensemble/base.py:154: UserWarning: Multiprocessing-backed parallel loops cannot be nested, setting n_jobs=1\n",
      "  n_jobs = min(effective_n_jobs(n_jobs), n_estimators)\n"
     ]
    },
    {
     "name": "stderr",
     "output_type": "stream",
     "text": [
      "/home/seba/anaconda3/lib/python3.6/site-packages/sklearn/ensemble/base.py:154: UserWarning: Multiprocessing-backed parallel loops cannot be nested, setting n_jobs=1\n",
      "  n_jobs = min(effective_n_jobs(n_jobs), n_estimators)\n",
      "/home/seba/anaconda3/lib/python3.6/site-packages/sklearn/ensemble/base.py:154: UserWarning: Multiprocessing-backed parallel loops cannot be nested, setting n_jobs=1\n",
      "  n_jobs = min(effective_n_jobs(n_jobs), n_estimators)\n",
      "/home/seba/anaconda3/lib/python3.6/site-packages/sklearn/ensemble/base.py:154: UserWarning: Multiprocessing-backed parallel loops cannot be nested, setting n_jobs=1\n",
      "  n_jobs = min(effective_n_jobs(n_jobs), n_estimators)\n",
      "/home/seba/anaconda3/lib/python3.6/site-packages/sklearn/ensemble/base.py:154: UserWarning: Multiprocessing-backed parallel loops cannot be nested, setting n_jobs=1\n",
      "  n_jobs = min(effective_n_jobs(n_jobs), n_estimators)\n",
      "/home/seba/anaconda3/lib/python3.6/site-packages/sklearn/ensemble/base.py:154: UserWarning: Multiprocessing-backed parallel loops cannot be nested, setting n_jobs=1\n",
      "  n_jobs = min(effective_n_jobs(n_jobs), n_estimators)\n",
      "/home/seba/anaconda3/lib/python3.6/site-packages/sklearn/ensemble/base.py:154: UserWarning: Multiprocessing-backed parallel loops cannot be nested, setting n_jobs=1\n",
      "  n_jobs = min(effective_n_jobs(n_jobs), n_estimators)\n",
      "/home/seba/anaconda3/lib/python3.6/site-packages/sklearn/ensemble/base.py:154: UserWarning: Multiprocessing-backed parallel loops cannot be nested, setting n_jobs=1\n",
      "  n_jobs = min(effective_n_jobs(n_jobs), n_estimators)\n",
      "/home/seba/anaconda3/lib/python3.6/site-packages/sklearn/ensemble/base.py:154: UserWarning: Multiprocessing-backed parallel loops cannot be nested, setting n_jobs=1\n",
      "  n_jobs = min(effective_n_jobs(n_jobs), n_estimators)\n",
      "/home/seba/anaconda3/lib/python3.6/site-packages/sklearn/ensemble/base.py:154: UserWarning: Multiprocessing-backed parallel loops cannot be nested, setting n_jobs=1\n",
      "  n_jobs = min(effective_n_jobs(n_jobs), n_estimators)\n",
      "/home/seba/anaconda3/lib/python3.6/site-packages/sklearn/ensemble/base.py:154: UserWarning: Multiprocessing-backed parallel loops cannot be nested, setting n_jobs=1\n",
      "  n_jobs = min(effective_n_jobs(n_jobs), n_estimators)\n",
      "/home/seba/anaconda3/lib/python3.6/site-packages/sklearn/ensemble/base.py:154: UserWarning: Multiprocessing-backed parallel loops cannot be nested, setting n_jobs=1\n",
      "  n_jobs = min(effective_n_jobs(n_jobs), n_estimators)\n",
      "/home/seba/anaconda3/lib/python3.6/site-packages/sklearn/ensemble/base.py:154: UserWarning: Multiprocessing-backed parallel loops cannot be nested, setting n_jobs=1\n",
      "  n_jobs = min(effective_n_jobs(n_jobs), n_estimators)\n",
      "/home/seba/anaconda3/lib/python3.6/site-packages/sklearn/ensemble/base.py:154: UserWarning: Multiprocessing-backed parallel loops cannot be nested, setting n_jobs=1\n",
      "  n_jobs = min(effective_n_jobs(n_jobs), n_estimators)\n",
      "/home/seba/anaconda3/lib/python3.6/site-packages/sklearn/ensemble/base.py:154: UserWarning: Multiprocessing-backed parallel loops cannot be nested, setting n_jobs=1\n",
      "  n_jobs = min(effective_n_jobs(n_jobs), n_estimators)\n",
      "/home/seba/anaconda3/lib/python3.6/site-packages/sklearn/ensemble/base.py:154: UserWarning: Multiprocessing-backed parallel loops cannot be nested, setting n_jobs=1\n",
      "  n_jobs = min(effective_n_jobs(n_jobs), n_estimators)\n",
      "/home/seba/anaconda3/lib/python3.6/site-packages/sklearn/ensemble/base.py:154: UserWarning: Multiprocessing-backed parallel loops cannot be nested, setting n_jobs=1\n",
      "  n_jobs = min(effective_n_jobs(n_jobs), n_estimators)\n",
      "/home/seba/anaconda3/lib/python3.6/site-packages/sklearn/ensemble/base.py:154: UserWarning: Multiprocessing-backed parallel loops cannot be nested, setting n_jobs=1\n",
      "  n_jobs = min(effective_n_jobs(n_jobs), n_estimators)\n",
      "/home/seba/anaconda3/lib/python3.6/site-packages/sklearn/ensemble/base.py:154: UserWarning: Multiprocessing-backed parallel loops cannot be nested, setting n_jobs=1\n",
      "  n_jobs = min(effective_n_jobs(n_jobs), n_estimators)\n",
      "/home/seba/anaconda3/lib/python3.6/site-packages/sklearn/ensemble/base.py:154: UserWarning: Multiprocessing-backed parallel loops cannot be nested, setting n_jobs=1\n",
      "  n_jobs = min(effective_n_jobs(n_jobs), n_estimators)\n",
      "/home/seba/anaconda3/lib/python3.6/site-packages/sklearn/ensemble/base.py:154: UserWarning: Multiprocessing-backed parallel loops cannot be nested, setting n_jobs=1\n",
      "  n_jobs = min(effective_n_jobs(n_jobs), n_estimators)\n",
      "/home/seba/anaconda3/lib/python3.6/site-packages/sklearn/ensemble/base.py:154: UserWarning: Multiprocessing-backed parallel loops cannot be nested, setting n_jobs=1\n",
      "  n_jobs = min(effective_n_jobs(n_jobs), n_estimators)\n",
      "/home/seba/anaconda3/lib/python3.6/site-packages/sklearn/ensemble/base.py:154: UserWarning: Multiprocessing-backed parallel loops cannot be nested, setting n_jobs=1\n",
      "  n_jobs = min(effective_n_jobs(n_jobs), n_estimators)\n",
      "/home/seba/anaconda3/lib/python3.6/site-packages/sklearn/ensemble/base.py:154: UserWarning: Multiprocessing-backed parallel loops cannot be nested, setting n_jobs=1\n",
      "  n_jobs = min(effective_n_jobs(n_jobs), n_estimators)\n",
      "/home/seba/anaconda3/lib/python3.6/site-packages/sklearn/ensemble/base.py:154: UserWarning: Multiprocessing-backed parallel loops cannot be nested, setting n_jobs=1\n",
      "  n_jobs = min(effective_n_jobs(n_jobs), n_estimators)\n",
      "/home/seba/anaconda3/lib/python3.6/site-packages/sklearn/ensemble/base.py:154: UserWarning: Multiprocessing-backed parallel loops cannot be nested, setting n_jobs=1\n",
      "  n_jobs = min(effective_n_jobs(n_jobs), n_estimators)\n",
      "/home/seba/anaconda3/lib/python3.6/site-packages/sklearn/ensemble/base.py:154: UserWarning: Multiprocessing-backed parallel loops cannot be nested, setting n_jobs=1\n",
      "  n_jobs = min(effective_n_jobs(n_jobs), n_estimators)\n"
     ]
    },
    {
     "name": "stdout",
     "output_type": "stream",
     "text": [
      "Best score: 0.9133522727272727\n",
      "Best config: {'bootstrap': False, 'class_weight': {0: 1, 1: 1.5}, 'max_depth': 10, 'max_features': 'sqrt', 'min_samples_leaf': 7, 'n_estimators': 200}\n",
      "*-*-*-*-*-*-*-*-*-*-*-*-*-*-*-*-*-*-*-*-*-*-*-*-*-*-*-*-*-*-\n",
      "Model 2: XGBClassifier(base_score=0.5, booster='gbtree', colsample_bylevel=1,\n",
      "              colsample_bytree=1, gamma=0, learning_rate=0.1, max_delta_step=0,\n",
      "              max_depth=3, min_child_weight=1, missing=None, n_estimators=100,\n",
      "              n_jobs=-1, nthread=None, objective='binary:logistic',\n",
      "              random_state=42, reg_alpha=0, reg_lambda=1, scale_pos_weight=1,\n",
      "              seed=None, silent=True, subsample=1)\n",
      "Comparing 216 parameter setting(s) using 1 CPU thread(s) ( 216 job(s) per thread ).\n"
     ]
    },
    {
     "name": "stderr",
     "output_type": "stream",
     "text": [
      "/home/seba/anaconda3/lib/python3.6/site-packages/hypopt/model_selection.py:141: UserWarning: ERROR in thread<ForkProcess(ForkPoolWorker-3, started daemon)>with exception:\n",
      "b\"Invalid Parameter format for max_depth expect int but value='None'\"\n",
      "  warnings.warn('ERROR in thread' + str(mp.current_process()) + \"with exception:\\n\" + str(e))\n",
      "/home/seba/anaconda3/lib/python3.6/site-packages/hypopt/model_selection.py:141: UserWarning: ERROR in thread<ForkProcess(ForkPoolWorker-3, started daemon)>with exception:\n",
      "b\"Invalid Parameter format for max_depth expect int but value='None'\"\n",
      "  warnings.warn('ERROR in thread' + str(mp.current_process()) + \"with exception:\\n\" + str(e))\n",
      "/home/seba/anaconda3/lib/python3.6/site-packages/hypopt/model_selection.py:141: UserWarning: ERROR in thread<ForkProcess(ForkPoolWorker-3, started daemon)>with exception:\n",
      "b\"Invalid Parameter format for max_depth expect int but value='None'\"\n",
      "  warnings.warn('ERROR in thread' + str(mp.current_process()) + \"with exception:\\n\" + str(e))\n",
      "/home/seba/anaconda3/lib/python3.6/site-packages/hypopt/model_selection.py:141: UserWarning: ERROR in thread<ForkProcess(ForkPoolWorker-3, started daemon)>with exception:\n",
      "b\"Invalid Parameter format for max_depth expect int but value='None'\"\n",
      "  warnings.warn('ERROR in thread' + str(mp.current_process()) + \"with exception:\\n\" + str(e))\n",
      "/home/seba/anaconda3/lib/python3.6/site-packages/hypopt/model_selection.py:141: UserWarning: ERROR in thread<ForkProcess(ForkPoolWorker-3, started daemon)>with exception:\n",
      "b\"Invalid Parameter format for max_depth expect int but value='None'\"\n",
      "  warnings.warn('ERROR in thread' + str(mp.current_process()) + \"with exception:\\n\" + str(e))\n",
      "/home/seba/anaconda3/lib/python3.6/site-packages/hypopt/model_selection.py:141: UserWarning: ERROR in thread<ForkProcess(ForkPoolWorker-3, started daemon)>with exception:\n",
      "b\"Invalid Parameter format for max_depth expect int but value='None'\"\n",
      "  warnings.warn('ERROR in thread' + str(mp.current_process()) + \"with exception:\\n\" + str(e))\n",
      "/home/seba/anaconda3/lib/python3.6/site-packages/hypopt/model_selection.py:141: UserWarning: ERROR in thread<ForkProcess(ForkPoolWorker-3, started daemon)>with exception:\n",
      "b\"Invalid Parameter format for max_depth expect int but value='None'\"\n",
      "  warnings.warn('ERROR in thread' + str(mp.current_process()) + \"with exception:\\n\" + str(e))\n",
      "/home/seba/anaconda3/lib/python3.6/site-packages/hypopt/model_selection.py:141: UserWarning: ERROR in thread<ForkProcess(ForkPoolWorker-3, started daemon)>with exception:\n",
      "b\"Invalid Parameter format for max_depth expect int but value='None'\"\n",
      "  warnings.warn('ERROR in thread' + str(mp.current_process()) + \"with exception:\\n\" + str(e))\n",
      "/home/seba/anaconda3/lib/python3.6/site-packages/hypopt/model_selection.py:141: UserWarning: ERROR in thread<ForkProcess(ForkPoolWorker-3, started daemon)>with exception:\n",
      "b\"Invalid Parameter format for max_depth expect int but value='None'\"\n",
      "  warnings.warn('ERROR in thread' + str(mp.current_process()) + \"with exception:\\n\" + str(e))\n",
      "/home/seba/anaconda3/lib/python3.6/site-packages/hypopt/model_selection.py:141: UserWarning: ERROR in thread<ForkProcess(ForkPoolWorker-3, started daemon)>with exception:\n",
      "b\"Invalid Parameter format for max_depth expect int but value='None'\"\n",
      "  warnings.warn('ERROR in thread' + str(mp.current_process()) + \"with exception:\\n\" + str(e))\n",
      "/home/seba/anaconda3/lib/python3.6/site-packages/hypopt/model_selection.py:141: UserWarning: ERROR in thread<ForkProcess(ForkPoolWorker-3, started daemon)>with exception:\n",
      "b\"Invalid Parameter format for max_depth expect int but value='None'\"\n",
      "  warnings.warn('ERROR in thread' + str(mp.current_process()) + \"with exception:\\n\" + str(e))\n",
      "/home/seba/anaconda3/lib/python3.6/site-packages/hypopt/model_selection.py:141: UserWarning: ERROR in thread<ForkProcess(ForkPoolWorker-3, started daemon)>with exception:\n",
      "b\"Invalid Parameter format for max_depth expect int but value='None'\"\n",
      "  warnings.warn('ERROR in thread' + str(mp.current_process()) + \"with exception:\\n\" + str(e))\n",
      "/home/seba/anaconda3/lib/python3.6/site-packages/hypopt/model_selection.py:141: UserWarning: ERROR in thread<ForkProcess(ForkPoolWorker-3, started daemon)>with exception:\n",
      "b\"Invalid Parameter format for max_depth expect int but value='None'\"\n",
      "  warnings.warn('ERROR in thread' + str(mp.current_process()) + \"with exception:\\n\" + str(e))\n",
      "/home/seba/anaconda3/lib/python3.6/site-packages/hypopt/model_selection.py:141: UserWarning: ERROR in thread<ForkProcess(ForkPoolWorker-3, started daemon)>with exception:\n",
      "b\"Invalid Parameter format for max_depth expect int but value='None'\"\n",
      "  warnings.warn('ERROR in thread' + str(mp.current_process()) + \"with exception:\\n\" + str(e))\n",
      "/home/seba/anaconda3/lib/python3.6/site-packages/hypopt/model_selection.py:141: UserWarning: ERROR in thread<ForkProcess(ForkPoolWorker-3, started daemon)>with exception:\n",
      "b\"Invalid Parameter format for max_depth expect int but value='None'\"\n",
      "  warnings.warn('ERROR in thread' + str(mp.current_process()) + \"with exception:\\n\" + str(e))\n",
      "/home/seba/anaconda3/lib/python3.6/site-packages/hypopt/model_selection.py:141: UserWarning: ERROR in thread<ForkProcess(ForkPoolWorker-3, started daemon)>with exception:\n",
      "b\"Invalid Parameter format for max_depth expect int but value='None'\"\n",
      "  warnings.warn('ERROR in thread' + str(mp.current_process()) + \"with exception:\\n\" + str(e))\n",
      "/home/seba/anaconda3/lib/python3.6/site-packages/hypopt/model_selection.py:141: UserWarning: ERROR in thread<ForkProcess(ForkPoolWorker-3, started daemon)>with exception:\n",
      "b\"Invalid Parameter format for max_depth expect int but value='None'\"\n",
      "  warnings.warn('ERROR in thread' + str(mp.current_process()) + \"with exception:\\n\" + str(e))\n",
      "/home/seba/anaconda3/lib/python3.6/site-packages/hypopt/model_selection.py:141: UserWarning: ERROR in thread<ForkProcess(ForkPoolWorker-3, started daemon)>with exception:\n",
      "b\"Invalid Parameter format for max_depth expect int but value='None'\"\n",
      "  warnings.warn('ERROR in thread' + str(mp.current_process()) + \"with exception:\\n\" + str(e))\n",
      "/home/seba/anaconda3/lib/python3.6/site-packages/hypopt/model_selection.py:141: UserWarning: ERROR in thread<ForkProcess(ForkPoolWorker-3, started daemon)>with exception:\n",
      "b\"Invalid Parameter format for max_depth expect int but value='None'\"\n",
      "  warnings.warn('ERROR in thread' + str(mp.current_process()) + \"with exception:\\n\" + str(e))\n",
      "/home/seba/anaconda3/lib/python3.6/site-packages/hypopt/model_selection.py:141: UserWarning: ERROR in thread<ForkProcess(ForkPoolWorker-3, started daemon)>with exception:\n",
      "b\"Invalid Parameter format for max_depth expect int but value='None'\"\n",
      "  warnings.warn('ERROR in thread' + str(mp.current_process()) + \"with exception:\\n\" + str(e))\n",
      "/home/seba/anaconda3/lib/python3.6/site-packages/hypopt/model_selection.py:141: UserWarning: ERROR in thread<ForkProcess(ForkPoolWorker-3, started daemon)>with exception:\n",
      "b\"Invalid Parameter format for max_depth expect int but value='None'\"\n",
      "  warnings.warn('ERROR in thread' + str(mp.current_process()) + \"with exception:\\n\" + str(e))\n",
      "/home/seba/anaconda3/lib/python3.6/site-packages/hypopt/model_selection.py:141: UserWarning: ERROR in thread<ForkProcess(ForkPoolWorker-3, started daemon)>with exception:\n",
      "b\"Invalid Parameter format for max_depth expect int but value='None'\"\n",
      "  warnings.warn('ERROR in thread' + str(mp.current_process()) + \"with exception:\\n\" + str(e))\n",
      "/home/seba/anaconda3/lib/python3.6/site-packages/hypopt/model_selection.py:141: UserWarning: ERROR in thread<ForkProcess(ForkPoolWorker-3, started daemon)>with exception:\n",
      "b\"Invalid Parameter format for max_depth expect int but value='None'\"\n",
      "  warnings.warn('ERROR in thread' + str(mp.current_process()) + \"with exception:\\n\" + str(e))\n",
      "/home/seba/anaconda3/lib/python3.6/site-packages/hypopt/model_selection.py:141: UserWarning: ERROR in thread<ForkProcess(ForkPoolWorker-3, started daemon)>with exception:\n",
      "b\"Invalid Parameter format for max_depth expect int but value='None'\"\n",
      "  warnings.warn('ERROR in thread' + str(mp.current_process()) + \"with exception:\\n\" + str(e))\n",
      "/home/seba/anaconda3/lib/python3.6/site-packages/hypopt/model_selection.py:141: UserWarning: ERROR in thread<ForkProcess(ForkPoolWorker-3, started daemon)>with exception:\n",
      "b\"Invalid Parameter format for max_depth expect int but value='None'\"\n",
      "  warnings.warn('ERROR in thread' + str(mp.current_process()) + \"with exception:\\n\" + str(e))\n"
     ]
    },
    {
     "name": "stderr",
     "output_type": "stream",
     "text": [
      "/home/seba/anaconda3/lib/python3.6/site-packages/hypopt/model_selection.py:141: UserWarning: ERROR in thread<ForkProcess(ForkPoolWorker-3, started daemon)>with exception:\n",
      "b\"Invalid Parameter format for max_depth expect int but value='None'\"\n",
      "  warnings.warn('ERROR in thread' + str(mp.current_process()) + \"with exception:\\n\" + str(e))\n",
      "/home/seba/anaconda3/lib/python3.6/site-packages/hypopt/model_selection.py:141: UserWarning: ERROR in thread<ForkProcess(ForkPoolWorker-3, started daemon)>with exception:\n",
      "b\"Invalid Parameter format for max_depth expect int but value='None'\"\n",
      "  warnings.warn('ERROR in thread' + str(mp.current_process()) + \"with exception:\\n\" + str(e))\n",
      "/home/seba/anaconda3/lib/python3.6/site-packages/hypopt/model_selection.py:141: UserWarning: ERROR in thread<ForkProcess(ForkPoolWorker-3, started daemon)>with exception:\n",
      "b\"Invalid Parameter format for max_depth expect int but value='None'\"\n",
      "  warnings.warn('ERROR in thread' + str(mp.current_process()) + \"with exception:\\n\" + str(e))\n",
      "/home/seba/anaconda3/lib/python3.6/site-packages/hypopt/model_selection.py:141: UserWarning: ERROR in thread<ForkProcess(ForkPoolWorker-3, started daemon)>with exception:\n",
      "b\"Invalid Parameter format for max_depth expect int but value='None'\"\n",
      "  warnings.warn('ERROR in thread' + str(mp.current_process()) + \"with exception:\\n\" + str(e))\n",
      "/home/seba/anaconda3/lib/python3.6/site-packages/hypopt/model_selection.py:141: UserWarning: ERROR in thread<ForkProcess(ForkPoolWorker-3, started daemon)>with exception:\n",
      "b\"Invalid Parameter format for max_depth expect int but value='None'\"\n",
      "  warnings.warn('ERROR in thread' + str(mp.current_process()) + \"with exception:\\n\" + str(e))\n",
      "/home/seba/anaconda3/lib/python3.6/site-packages/hypopt/model_selection.py:141: UserWarning: ERROR in thread<ForkProcess(ForkPoolWorker-3, started daemon)>with exception:\n",
      "b\"Invalid Parameter format for max_depth expect int but value='None'\"\n",
      "  warnings.warn('ERROR in thread' + str(mp.current_process()) + \"with exception:\\n\" + str(e))\n",
      "/home/seba/anaconda3/lib/python3.6/site-packages/hypopt/model_selection.py:141: UserWarning: ERROR in thread<ForkProcess(ForkPoolWorker-3, started daemon)>with exception:\n",
      "b\"Invalid Parameter format for max_depth expect int but value='None'\"\n",
      "  warnings.warn('ERROR in thread' + str(mp.current_process()) + \"with exception:\\n\" + str(e))\n",
      "/home/seba/anaconda3/lib/python3.6/site-packages/hypopt/model_selection.py:141: UserWarning: ERROR in thread<ForkProcess(ForkPoolWorker-3, started daemon)>with exception:\n",
      "b\"Invalid Parameter format for max_depth expect int but value='None'\"\n",
      "  warnings.warn('ERROR in thread' + str(mp.current_process()) + \"with exception:\\n\" + str(e))\n",
      "/home/seba/anaconda3/lib/python3.6/site-packages/hypopt/model_selection.py:141: UserWarning: ERROR in thread<ForkProcess(ForkPoolWorker-3, started daemon)>with exception:\n",
      "b\"Invalid Parameter format for max_depth expect int but value='None'\"\n",
      "  warnings.warn('ERROR in thread' + str(mp.current_process()) + \"with exception:\\n\" + str(e))\n",
      "/home/seba/anaconda3/lib/python3.6/site-packages/hypopt/model_selection.py:141: UserWarning: ERROR in thread<ForkProcess(ForkPoolWorker-3, started daemon)>with exception:\n",
      "b\"Invalid Parameter format for max_depth expect int but value='None'\"\n",
      "  warnings.warn('ERROR in thread' + str(mp.current_process()) + \"with exception:\\n\" + str(e))\n",
      "/home/seba/anaconda3/lib/python3.6/site-packages/hypopt/model_selection.py:141: UserWarning: ERROR in thread<ForkProcess(ForkPoolWorker-3, started daemon)>with exception:\n",
      "b\"Invalid Parameter format for max_depth expect int but value='None'\"\n",
      "  warnings.warn('ERROR in thread' + str(mp.current_process()) + \"with exception:\\n\" + str(e))\n",
      "/home/seba/anaconda3/lib/python3.6/site-packages/hypopt/model_selection.py:141: UserWarning: ERROR in thread<ForkProcess(ForkPoolWorker-3, started daemon)>with exception:\n",
      "b\"Invalid Parameter format for max_depth expect int but value='None'\"\n",
      "  warnings.warn('ERROR in thread' + str(mp.current_process()) + \"with exception:\\n\" + str(e))\n",
      "/home/seba/anaconda3/lib/python3.6/site-packages/hypopt/model_selection.py:141: UserWarning: ERROR in thread<ForkProcess(ForkPoolWorker-3, started daemon)>with exception:\n",
      "b\"Invalid Parameter format for max_depth expect int but value='None'\"\n",
      "  warnings.warn('ERROR in thread' + str(mp.current_process()) + \"with exception:\\n\" + str(e))\n",
      "/home/seba/anaconda3/lib/python3.6/site-packages/hypopt/model_selection.py:141: UserWarning: ERROR in thread<ForkProcess(ForkPoolWorker-3, started daemon)>with exception:\n",
      "b\"Invalid Parameter format for max_depth expect int but value='None'\"\n",
      "  warnings.warn('ERROR in thread' + str(mp.current_process()) + \"with exception:\\n\" + str(e))\n",
      "/home/seba/anaconda3/lib/python3.6/site-packages/hypopt/model_selection.py:141: UserWarning: ERROR in thread<ForkProcess(ForkPoolWorker-3, started daemon)>with exception:\n",
      "b\"Invalid Parameter format for max_depth expect int but value='None'\"\n",
      "  warnings.warn('ERROR in thread' + str(mp.current_process()) + \"with exception:\\n\" + str(e))\n",
      "/home/seba/anaconda3/lib/python3.6/site-packages/hypopt/model_selection.py:141: UserWarning: ERROR in thread<ForkProcess(ForkPoolWorker-3, started daemon)>with exception:\n",
      "b\"Invalid Parameter format for max_depth expect int but value='None'\"\n",
      "  warnings.warn('ERROR in thread' + str(mp.current_process()) + \"with exception:\\n\" + str(e))\n",
      "/home/seba/anaconda3/lib/python3.6/site-packages/hypopt/model_selection.py:141: UserWarning: ERROR in thread<ForkProcess(ForkPoolWorker-3, started daemon)>with exception:\n",
      "b\"Invalid Parameter format for max_depth expect int but value='None'\"\n",
      "  warnings.warn('ERROR in thread' + str(mp.current_process()) + \"with exception:\\n\" + str(e))\n",
      "/home/seba/anaconda3/lib/python3.6/site-packages/hypopt/model_selection.py:141: UserWarning: ERROR in thread<ForkProcess(ForkPoolWorker-3, started daemon)>with exception:\n",
      "b\"Invalid Parameter format for max_depth expect int but value='None'\"\n",
      "  warnings.warn('ERROR in thread' + str(mp.current_process()) + \"with exception:\\n\" + str(e))\n",
      "/home/seba/anaconda3/lib/python3.6/site-packages/hypopt/model_selection.py:141: UserWarning: ERROR in thread<ForkProcess(ForkPoolWorker-3, started daemon)>with exception:\n",
      "b\"Invalid Parameter format for max_depth expect int but value='None'\"\n",
      "  warnings.warn('ERROR in thread' + str(mp.current_process()) + \"with exception:\\n\" + str(e))\n",
      "/home/seba/anaconda3/lib/python3.6/site-packages/hypopt/model_selection.py:141: UserWarning: ERROR in thread<ForkProcess(ForkPoolWorker-3, started daemon)>with exception:\n",
      "b\"Invalid Parameter format for max_depth expect int but value='None'\"\n",
      "  warnings.warn('ERROR in thread' + str(mp.current_process()) + \"with exception:\\n\" + str(e))\n",
      "/home/seba/anaconda3/lib/python3.6/site-packages/hypopt/model_selection.py:141: UserWarning: ERROR in thread<ForkProcess(ForkPoolWorker-3, started daemon)>with exception:\n",
      "b\"Invalid Parameter format for max_depth expect int but value='None'\"\n",
      "  warnings.warn('ERROR in thread' + str(mp.current_process()) + \"with exception:\\n\" + str(e))\n",
      "/home/seba/anaconda3/lib/python3.6/site-packages/hypopt/model_selection.py:141: UserWarning: ERROR in thread<ForkProcess(ForkPoolWorker-3, started daemon)>with exception:\n",
      "b\"Invalid Parameter format for max_depth expect int but value='None'\"\n",
      "  warnings.warn('ERROR in thread' + str(mp.current_process()) + \"with exception:\\n\" + str(e))\n",
      "/home/seba/anaconda3/lib/python3.6/site-packages/hypopt/model_selection.py:141: UserWarning: ERROR in thread<ForkProcess(ForkPoolWorker-3, started daemon)>with exception:\n",
      "b\"Invalid Parameter format for max_depth expect int but value='None'\"\n",
      "  warnings.warn('ERROR in thread' + str(mp.current_process()) + \"with exception:\\n\" + str(e))\n",
      "/home/seba/anaconda3/lib/python3.6/site-packages/hypopt/model_selection.py:141: UserWarning: ERROR in thread<ForkProcess(ForkPoolWorker-3, started daemon)>with exception:\n",
      "b\"Invalid Parameter format for max_depth expect int but value='None'\"\n",
      "  warnings.warn('ERROR in thread' + str(mp.current_process()) + \"with exception:\\n\" + str(e))\n",
      "/home/seba/anaconda3/lib/python3.6/site-packages/hypopt/model_selection.py:141: UserWarning: ERROR in thread<ForkProcess(ForkPoolWorker-3, started daemon)>with exception:\n",
      "b\"Invalid Parameter format for max_depth expect int but value='None'\"\n",
      "  warnings.warn('ERROR in thread' + str(mp.current_process()) + \"with exception:\\n\" + str(e))\n"
     ]
    },
    {
     "name": "stderr",
     "output_type": "stream",
     "text": [
      "/home/seba/anaconda3/lib/python3.6/site-packages/hypopt/model_selection.py:141: UserWarning: ERROR in thread<ForkProcess(ForkPoolWorker-3, started daemon)>with exception:\n",
      "b\"Invalid Parameter format for max_depth expect int but value='None'\"\n",
      "  warnings.warn('ERROR in thread' + str(mp.current_process()) + \"with exception:\\n\" + str(e))\n",
      "/home/seba/anaconda3/lib/python3.6/site-packages/hypopt/model_selection.py:141: UserWarning: ERROR in thread<ForkProcess(ForkPoolWorker-3, started daemon)>with exception:\n",
      "b\"Invalid Parameter format for max_depth expect int but value='None'\"\n",
      "  warnings.warn('ERROR in thread' + str(mp.current_process()) + \"with exception:\\n\" + str(e))\n",
      "/home/seba/anaconda3/lib/python3.6/site-packages/hypopt/model_selection.py:141: UserWarning: ERROR in thread<ForkProcess(ForkPoolWorker-3, started daemon)>with exception:\n",
      "b\"Invalid Parameter format for max_depth expect int but value='None'\"\n",
      "  warnings.warn('ERROR in thread' + str(mp.current_process()) + \"with exception:\\n\" + str(e))\n",
      "/home/seba/anaconda3/lib/python3.6/site-packages/hypopt/model_selection.py:141: UserWarning: ERROR in thread<ForkProcess(ForkPoolWorker-3, started daemon)>with exception:\n",
      "b\"Invalid Parameter format for max_depth expect int but value='None'\"\n",
      "  warnings.warn('ERROR in thread' + str(mp.current_process()) + \"with exception:\\n\" + str(e))\n",
      "/home/seba/anaconda3/lib/python3.6/site-packages/hypopt/model_selection.py:141: UserWarning: ERROR in thread<ForkProcess(ForkPoolWorker-3, started daemon)>with exception:\n",
      "b\"Invalid Parameter format for max_depth expect int but value='None'\"\n",
      "  warnings.warn('ERROR in thread' + str(mp.current_process()) + \"with exception:\\n\" + str(e))\n",
      "/home/seba/anaconda3/lib/python3.6/site-packages/hypopt/model_selection.py:141: UserWarning: ERROR in thread<ForkProcess(ForkPoolWorker-3, started daemon)>with exception:\n",
      "b\"Invalid Parameter format for max_depth expect int but value='None'\"\n",
      "  warnings.warn('ERROR in thread' + str(mp.current_process()) + \"with exception:\\n\" + str(e))\n",
      "/home/seba/anaconda3/lib/python3.6/site-packages/hypopt/model_selection.py:141: UserWarning: ERROR in thread<ForkProcess(ForkPoolWorker-3, started daemon)>with exception:\n",
      "b\"Invalid Parameter format for max_depth expect int but value='None'\"\n",
      "  warnings.warn('ERROR in thread' + str(mp.current_process()) + \"with exception:\\n\" + str(e))\n",
      "/home/seba/anaconda3/lib/python3.6/site-packages/hypopt/model_selection.py:141: UserWarning: ERROR in thread<ForkProcess(ForkPoolWorker-3, started daemon)>with exception:\n",
      "b\"Invalid Parameter format for max_depth expect int but value='None'\"\n",
      "  warnings.warn('ERROR in thread' + str(mp.current_process()) + \"with exception:\\n\" + str(e))\n",
      "/home/seba/anaconda3/lib/python3.6/site-packages/hypopt/model_selection.py:141: UserWarning: ERROR in thread<ForkProcess(ForkPoolWorker-3, started daemon)>with exception:\n",
      "b\"Invalid Parameter format for max_depth expect int but value='None'\"\n",
      "  warnings.warn('ERROR in thread' + str(mp.current_process()) + \"with exception:\\n\" + str(e))\n",
      "/home/seba/anaconda3/lib/python3.6/site-packages/hypopt/model_selection.py:141: UserWarning: ERROR in thread<ForkProcess(ForkPoolWorker-3, started daemon)>with exception:\n",
      "b\"Invalid Parameter format for max_depth expect int but value='None'\"\n",
      "  warnings.warn('ERROR in thread' + str(mp.current_process()) + \"with exception:\\n\" + str(e))\n",
      "/home/seba/anaconda3/lib/python3.6/site-packages/hypopt/model_selection.py:141: UserWarning: ERROR in thread<ForkProcess(ForkPoolWorker-3, started daemon)>with exception:\n",
      "b\"Invalid Parameter format for max_depth expect int but value='None'\"\n",
      "  warnings.warn('ERROR in thread' + str(mp.current_process()) + \"with exception:\\n\" + str(e))\n",
      "/home/seba/anaconda3/lib/python3.6/site-packages/hypopt/model_selection.py:141: UserWarning: ERROR in thread<ForkProcess(ForkPoolWorker-3, started daemon)>with exception:\n",
      "b\"Invalid Parameter format for max_depth expect int but value='None'\"\n",
      "  warnings.warn('ERROR in thread' + str(mp.current_process()) + \"with exception:\\n\" + str(e))\n",
      "/home/seba/anaconda3/lib/python3.6/site-packages/hypopt/model_selection.py:141: UserWarning: ERROR in thread<ForkProcess(ForkPoolWorker-3, started daemon)>with exception:\n",
      "b\"Invalid Parameter format for max_depth expect int but value='None'\"\n",
      "  warnings.warn('ERROR in thread' + str(mp.current_process()) + \"with exception:\\n\" + str(e))\n",
      "/home/seba/anaconda3/lib/python3.6/site-packages/hypopt/model_selection.py:141: UserWarning: ERROR in thread<ForkProcess(ForkPoolWorker-3, started daemon)>with exception:\n",
      "b\"Invalid Parameter format for max_depth expect int but value='None'\"\n",
      "  warnings.warn('ERROR in thread' + str(mp.current_process()) + \"with exception:\\n\" + str(e))\n",
      "/home/seba/anaconda3/lib/python3.6/site-packages/hypopt/model_selection.py:141: UserWarning: ERROR in thread<ForkProcess(ForkPoolWorker-3, started daemon)>with exception:\n",
      "b\"Invalid Parameter format for max_depth expect int but value='None'\"\n",
      "  warnings.warn('ERROR in thread' + str(mp.current_process()) + \"with exception:\\n\" + str(e))\n",
      "/home/seba/anaconda3/lib/python3.6/site-packages/hypopt/model_selection.py:141: UserWarning: ERROR in thread<ForkProcess(ForkPoolWorker-3, started daemon)>with exception:\n",
      "b\"Invalid Parameter format for max_depth expect int but value='None'\"\n",
      "  warnings.warn('ERROR in thread' + str(mp.current_process()) + \"with exception:\\n\" + str(e))\n",
      "/home/seba/anaconda3/lib/python3.6/site-packages/hypopt/model_selection.py:141: UserWarning: ERROR in thread<ForkProcess(ForkPoolWorker-3, started daemon)>with exception:\n",
      "b\"Invalid Parameter format for max_depth expect int but value='None'\"\n",
      "  warnings.warn('ERROR in thread' + str(mp.current_process()) + \"with exception:\\n\" + str(e))\n",
      "/home/seba/anaconda3/lib/python3.6/site-packages/hypopt/model_selection.py:141: UserWarning: ERROR in thread<ForkProcess(ForkPoolWorker-3, started daemon)>with exception:\n",
      "b\"Invalid Parameter format for max_depth expect int but value='None'\"\n",
      "  warnings.warn('ERROR in thread' + str(mp.current_process()) + \"with exception:\\n\" + str(e))\n",
      "/home/seba/anaconda3/lib/python3.6/site-packages/hypopt/model_selection.py:141: UserWarning: ERROR in thread<ForkProcess(ForkPoolWorker-3, started daemon)>with exception:\n",
      "b\"Invalid Parameter format for max_depth expect int but value='None'\"\n",
      "  warnings.warn('ERROR in thread' + str(mp.current_process()) + \"with exception:\\n\" + str(e))\n",
      "/home/seba/anaconda3/lib/python3.6/site-packages/hypopt/model_selection.py:141: UserWarning: ERROR in thread<ForkProcess(ForkPoolWorker-3, started daemon)>with exception:\n",
      "b\"Invalid Parameter format for max_depth expect int but value='None'\"\n",
      "  warnings.warn('ERROR in thread' + str(mp.current_process()) + \"with exception:\\n\" + str(e))\n",
      "/home/seba/anaconda3/lib/python3.6/site-packages/hypopt/model_selection.py:141: UserWarning: ERROR in thread<ForkProcess(ForkPoolWorker-3, started daemon)>with exception:\n",
      "b\"Invalid Parameter format for max_depth expect int but value='None'\"\n",
      "  warnings.warn('ERROR in thread' + str(mp.current_process()) + \"with exception:\\n\" + str(e))\n",
      "/home/seba/anaconda3/lib/python3.6/site-packages/hypopt/model_selection.py:141: UserWarning: ERROR in thread<ForkProcess(ForkPoolWorker-3, started daemon)>with exception:\n",
      "b\"Invalid Parameter format for max_depth expect int but value='None'\"\n",
      "  warnings.warn('ERROR in thread' + str(mp.current_process()) + \"with exception:\\n\" + str(e))\n"
     ]
    },
    {
     "name": "stdout",
     "output_type": "stream",
     "text": [
      "Best score: 0.8849431818181818\n",
      "Best config: {'colsample_bytree': 0.5, 'learning_rate': 1.0, 'max_depth': None, 'n_estimators': 60, 'scale_pos_weight': 1.5}\n",
      "*-*-*-*-*-*-*-*-*-*-*-*-*-*-*-*-*-*-*-*-*-*-*-*-*-*-*-*-*-*-\n",
      "Model 3: LGBMClassifier(boosting_type='gbdt', class_weight=None, colsample_bytree=1.0,\n",
      "               importance_type='split', learning_rate=0.1, max_depth=-1,\n",
      "               min_child_samples=20, min_child_weight=0.001, min_split_gain=0.0,\n",
      "               n_estimators=100, n_jobs=-1, num_leaves=31, objective=None,\n",
      "               random_state=42, reg_alpha=0.0, reg_lambda=0.0, silent=False,\n",
      "               subsample=1.0, subsample_for_bin=200000, subsample_freq=0)\n",
      "Comparing 864 parameter setting(s) using 1 CPU thread(s) ( 864 job(s) per thread ).\n",
      "Best score: 0.9971590909090909\n",
      "Best config: {'class_weight': {0: 1, 1: 1.5}, 'colsample_bytree': 0.5, 'learning_rate': 0.01, 'max_depth': None, 'min_child_samples': 5, 'n_estimators': 40}\n",
      "*-*-*-*-*-*-*-*-*-*-*-*-*-*-*-*-*-*-*-*-*-*-*-*-*-*-*-*-*-*-\n"
     ]
    }
   ],
   "source": [
    "# TO avoid random sampling,\n",
    "# WE USE GridSearch of hypopt\n",
    "metric = \"recall\"\n",
    "best_models_ = []\n",
    "best_scores_ = []\n",
    "for counter, rf in enumerate(rfs):\n",
    "    print(f\"Model {counter}: {rf}\")\n",
    "    clf = GridSearch(rf, param_grid=param_configs[counter], seed=random_state, num_threads=1)\n",
    "    clf.fit(X_train, y_train, X_val=X_opt, y_val=y_opt, scoring=metric, verbose=True)\n",
    "    print(f\"Best score: {clf.best_score}\")\n",
    "    print(f\"Best config: {clf.best_params}\")\n",
    "    best_models_.append(copy(clf))\n",
    "    best_scores_.append(clf.best_score)\n",
    "    print(\"*-*-*-\" * 10)"
   ]
  },
  {
   "cell_type": "code",
   "execution_count": 30,
   "metadata": {},
   "outputs": [
    {
     "name": "stdout",
     "output_type": "stream",
     "text": [
      "Best Config:\n",
      "GridSearch(cv_folds=3,\n",
      "           model=RandomForestClassifier(bootstrap=True,\n",
      "                                        class_weight={0: 1, 1: 1.5},\n",
      "                                        criterion='gini', max_depth=40,\n",
      "                                        max_features=None, max_leaf_nodes=None,\n",
      "                                        min_impurity_decrease=0.0,\n",
      "                                        min_impurity_split=None,\n",
      "                                        min_samples_leaf=7, min_samples_split=2,\n",
      "                                        min_weight_fraction_leaf=0.0,\n",
      "                                        n_estimators=200, n_jobs=-1,\n",
      "                                        oob_score=False, random_state=0,\n",
      "                                        verbose=0, warm_start=False),\n",
      "           num_threads=1,\n",
      "           param_grid={'bootstrap': [False, True],\n",
      "                       'class_weight': [{0: 1, 1: 1}, {0: 1, 1: 1.2},\n",
      "                                        {0: 1, 1: 1.5}],\n",
      "                       'max_depth': [10, 40], 'max_features': ['sqrt', None],\n",
      "                       'min_samples_leaf': [3, 5, 7],\n",
      "                       'n_estimators': [40, 60, 200]},\n",
      "           seed=42) 0.9005681818181818\n",
      "GridSearch(cv_folds=3,\n",
      "           model=ExtraTreesClassifier(bootstrap=False,\n",
      "                                      class_weight={0: 1, 1: 1.5},\n",
      "                                      criterion='gini', max_depth=40,\n",
      "                                      max_features=None, max_leaf_nodes=None,\n",
      "                                      min_impurity_decrease=0.0,\n",
      "                                      min_impurity_split=None,\n",
      "                                      min_samples_leaf=7, min_samples_split=2,\n",
      "                                      min_weight_fraction_leaf=0.0,\n",
      "                                      n_estimators=200, n_jobs=-1,\n",
      "                                      oob_score=False, random_state=0,\n",
      "                                      verbose=0, warm_start=False),\n",
      "           num_threads=1,\n",
      "           param_grid={'bootstrap': [False, True],\n",
      "                       'class_weight': [{0: 1, 1: 1}, {0: 1, 1: 1.2},\n",
      "                                        {0: 1, 1: 1.5}],\n",
      "                       'max_depth': [10, 40], 'max_features': ['sqrt', None],\n",
      "                       'min_samples_leaf': [3, 5, 7],\n",
      "                       'n_estimators': [40, 60, 200]},\n",
      "           seed=42) 0.9133522727272727\n",
      "GridSearch(cv_folds=3,\n",
      "           model=XGBClassifier(base_score=0.5, booster='gbtree',\n",
      "                               colsample_bylevel=1, colsample_bytree=0.5,\n",
      "                               gamma=0, learning_rate=0.1, max_delta_step=0,\n",
      "                               max_depth=None, min_child_weight=1, missing=nan,\n",
      "                               n_estimators=200, n_jobs=-1, nthread=None,\n",
      "                               objective='binary:logistic', random_state=0,\n",
      "                               reg_alpha=0, reg_lambda=1, scale_pos_weight=1.5,\n",
      "                               seed=0, silent=True, subsample=1),\n",
      "           num_threads=1,\n",
      "           param_grid={'colsample_bytree': [0.5, 1.0],\n",
      "                       'learning_rate': [1.0, 0.1, 0.05, 0.01],\n",
      "                       'max_depth': [15, 40, None],\n",
      "                       'n_estimators': [40, 60, 200],\n",
      "                       'scale_pos_weight': [1, 1.2, 1.5]},\n",
      "           seed=42) 0.8849431818181818\n",
      "GridSearch(cv_folds=3,\n",
      "           model=LGBMClassifier(boosting_type='gbdt',\n",
      "                                class_weight={0: 1, 1: 1.5},\n",
      "                                colsample_bytree=1.0, importance_type='split',\n",
      "                                learning_rate=0.01, max_depth=None,\n",
      "                                min_child_samples=11, min_child_weight=0.001,\n",
      "                                min_split_gain=0.0, n_estimators=200, n_jobs=-1,\n",
      "                                num_leaves=31, objective=None, random_state=0,\n",
      "                                reg_alpha=0.0, reg_lambda=0.0, silent=False,\n",
      "                                subsample=1.0, subsample_for_bin=200000,\n",
      "                                subsample_freq=0),\n",
      "           num_threads=1,\n",
      "           param_grid={'class_weight': [{0: 1, 1: 1}, {0: 1, 1: 1.2},\n",
      "                                        {0: 1, 1: 1.5}],\n",
      "                       'colsample_bytree': [0.5, 1.0],\n",
      "                       'learning_rate': [1.0, 0.1, 0.05, 0.01],\n",
      "                       'max_depth': [15, 40, None],\n",
      "                       'min_child_samples': [3, 5, 7, 11],\n",
      "                       'n_estimators': [40, 60, 200]},\n",
      "           seed=42) 0.9971590909090909\n"
     ]
    }
   ],
   "source": [
    "print(\"Best Config:\")\n",
    "for m, s in zip(best_models_, best_scores_):\n",
    "    print(m, s)"
   ]
  },
  {
   "cell_type": "code",
   "execution_count": 48,
   "metadata": {},
   "outputs": [],
   "source": [
    "# select best grid\n",
    "best_model = best_models_[np.argmax(best_scores_)]\n",
    "\n",
    "# select by hand\n",
    "#best_model = best_models_[1]"
   ]
  },
  {
   "cell_type": "code",
   "execution_count": 49,
   "metadata": {},
   "outputs": [
    {
     "name": "stdout",
     "output_type": "stream",
     "text": [
      "Grid scores:\n",
      "0.997 for {'class_weight': {0: 1, 1: 1.5}, 'colsample_bytree': 0.5, 'learning_rate': 0.01, 'max_depth': None, 'min_child_samples': 5, 'n_estimators': 40}\n",
      "0.997 for {'class_weight': {0: 1, 1: 1.5}, 'colsample_bytree': 0.5, 'learning_rate': 0.01, 'max_depth': 40, 'min_child_samples': 5, 'n_estimators': 40}\n",
      "0.997 for {'class_weight': {0: 1, 1: 1.5}, 'colsample_bytree': 0.5, 'learning_rate': 0.01, 'max_depth': 15, 'min_child_samples': 5, 'n_estimators': 40}\n",
      "0.996 for {'class_weight': {0: 1, 1: 1.5}, 'colsample_bytree': 0.5, 'learning_rate': 0.01, 'max_depth': 40, 'min_child_samples': 3, 'n_estimators': 40}\n",
      "0.996 for {'class_weight': {0: 1, 1: 1.5}, 'colsample_bytree': 0.5, 'learning_rate': 0.01, 'max_depth': 15, 'min_child_samples': 3, 'n_estimators': 40}\n",
      "0.996 for {'class_weight': {0: 1, 1: 1.5}, 'colsample_bytree': 0.5, 'learning_rate': 0.01, 'max_depth': None, 'min_child_samples': 3, 'n_estimators': 40}\n",
      "0.994 for {'class_weight': {0: 1, 1: 1.5}, 'colsample_bytree': 0.5, 'learning_rate': 0.01, 'max_depth': 40, 'min_child_samples': 11, 'n_estimators': 40}\n",
      "0.994 for {'class_weight': {0: 1, 1: 1.5}, 'colsample_bytree': 0.5, 'learning_rate': 0.01, 'max_depth': 15, 'min_child_samples': 7, 'n_estimators': 40}\n",
      "0.994 for {'class_weight': {0: 1, 1: 1.5}, 'colsample_bytree': 0.5, 'learning_rate': 0.01, 'max_depth': 15, 'min_child_samples': 11, 'n_estimators': 40}\n",
      "0.994 for {'class_weight': {0: 1, 1: 1.5}, 'colsample_bytree': 0.5, 'learning_rate': 0.01, 'max_depth': None, 'min_child_samples': 7, 'n_estimators': 40}\n",
      "0.994 for {'class_weight': {0: 1, 1: 1.5}, 'colsample_bytree': 0.5, 'learning_rate': 0.01, 'max_depth': None, 'min_child_samples': 11, 'n_estimators': 40}\n",
      "0.994 for {'class_weight': {0: 1, 1: 1.5}, 'colsample_bytree': 0.5, 'learning_rate': 0.01, 'max_depth': 40, 'min_child_samples': 7, 'n_estimators': 40}\n",
      "0.993 for {'class_weight': {0: 1, 1: 1.5}, 'colsample_bytree': 1.0, 'learning_rate': 0.01, 'max_depth': 15, 'min_child_samples': 3, 'n_estimators': 40}\n",
      "0.993 for {'class_weight': {0: 1, 1: 1.5}, 'colsample_bytree': 1.0, 'learning_rate': 0.01, 'max_depth': 15, 'min_child_samples': 7, 'n_estimators': 40}\n",
      "0.993 for {'class_weight': {0: 1, 1: 1.5}, 'colsample_bytree': 1.0, 'learning_rate': 0.01, 'max_depth': 15, 'min_child_samples': 5, 'n_estimators': 40}\n",
      "0.993 for {'class_weight': {0: 1, 1: 1.5}, 'colsample_bytree': 1.0, 'learning_rate': 0.01, 'max_depth': 40, 'min_child_samples': 7, 'n_estimators': 40}\n",
      "0.993 for {'class_weight': {0: 1, 1: 1.5}, 'colsample_bytree': 1.0, 'learning_rate': 0.01, 'max_depth': 40, 'min_child_samples': 5, 'n_estimators': 40}\n",
      "0.993 for {'class_weight': {0: 1, 1: 1.5}, 'colsample_bytree': 1.0, 'learning_rate': 0.01, 'max_depth': 40, 'min_child_samples': 3, 'n_estimators': 40}\n",
      "0.993 for {'class_weight': {0: 1, 1: 1.5}, 'colsample_bytree': 1.0, 'learning_rate': 0.01, 'max_depth': None, 'min_child_samples': 5, 'n_estimators': 40}\n",
      "0.993 for {'class_weight': {0: 1, 1: 1.5}, 'colsample_bytree': 1.0, 'learning_rate': 0.01, 'max_depth': None, 'min_child_samples': 7, 'n_estimators': 40}\n",
      "0.993 for {'class_weight': {0: 1, 1: 1.5}, 'colsample_bytree': 1.0, 'learning_rate': 0.01, 'max_depth': None, 'min_child_samples': 3, 'n_estimators': 40}\n",
      "0.991 for {'class_weight': {0: 1, 1: 1.5}, 'colsample_bytree': 1.0, 'learning_rate': 0.01, 'max_depth': None, 'min_child_samples': 11, 'n_estimators': 40}\n",
      "0.991 for {'class_weight': {0: 1, 1: 1.5}, 'colsample_bytree': 1.0, 'learning_rate': 0.01, 'max_depth': 40, 'min_child_samples': 11, 'n_estimators': 40}\n",
      "0.991 for {'class_weight': {0: 1, 1: 1.5}, 'colsample_bytree': 1.0, 'learning_rate': 0.01, 'max_depth': 15, 'min_child_samples': 11, 'n_estimators': 40}\n",
      "0.980 for {'class_weight': {0: 1, 1: 1.5}, 'colsample_bytree': 0.5, 'learning_rate': 1.0, 'max_depth': 15, 'min_child_samples': 5, 'n_estimators': 60}\n",
      "0.973 for {'class_weight': {0: 1, 1: 1.2}, 'colsample_bytree': 0.5, 'learning_rate': 1.0, 'max_depth': None, 'min_child_samples': 5, 'n_estimators': 60}\n",
      "0.956 for {'class_weight': {0: 1, 1: 1.5}, 'colsample_bytree': 0.5, 'learning_rate': 0.01, 'max_depth': None, 'min_child_samples': 11, 'n_estimators': 60}\n",
      "0.956 for {'class_weight': {0: 1, 1: 1.5}, 'colsample_bytree': 0.5, 'learning_rate': 0.01, 'max_depth': 40, 'min_child_samples': 11, 'n_estimators': 60}\n",
      "0.956 for {'class_weight': {0: 1, 1: 1.5}, 'colsample_bytree': 0.5, 'learning_rate': 0.01, 'max_depth': 15, 'min_child_samples': 11, 'n_estimators': 60}\n",
      "0.955 for {'class_weight': {0: 1, 1: 1.5}, 'colsample_bytree': 0.5, 'learning_rate': 0.01, 'max_depth': None, 'min_child_samples': 7, 'n_estimators': 60}\n",
      "0.955 for {'class_weight': {0: 1, 1: 1.5}, 'colsample_bytree': 0.5, 'learning_rate': 0.01, 'max_depth': 40, 'min_child_samples': 7, 'n_estimators': 60}\n",
      "0.955 for {'class_weight': {0: 1, 1: 1.5}, 'colsample_bytree': 0.5, 'learning_rate': 0.01, 'max_depth': 15, 'min_child_samples': 7, 'n_estimators': 60}\n",
      "0.953 for {'class_weight': {0: 1, 1: 1.5}, 'colsample_bytree': 0.5, 'learning_rate': 0.01, 'max_depth': None, 'min_child_samples': 5, 'n_estimators': 60}\n",
      "0.953 for {'class_weight': {0: 1, 1: 1.5}, 'colsample_bytree': 0.5, 'learning_rate': 0.01, 'max_depth': 15, 'min_child_samples': 5, 'n_estimators': 60}\n",
      "0.953 for {'class_weight': {0: 1, 1: 1.5}, 'colsample_bytree': 0.5, 'learning_rate': 0.01, 'max_depth': 40, 'min_child_samples': 5, 'n_estimators': 60}\n",
      "0.952 for {'class_weight': {0: 1, 1: 1.5}, 'colsample_bytree': 0.5, 'learning_rate': 0.01, 'max_depth': 40, 'min_child_samples': 3, 'n_estimators': 60}\n",
      "0.952 for {'class_weight': {0: 1, 1: 1.5}, 'colsample_bytree': 0.5, 'learning_rate': 0.01, 'max_depth': 15, 'min_child_samples': 3, 'n_estimators': 60}\n",
      "0.952 for {'class_weight': {0: 1, 1: 1.5}, 'colsample_bytree': 0.5, 'learning_rate': 0.01, 'max_depth': None, 'min_child_samples': 3, 'n_estimators': 60}\n",
      "0.950 for {'class_weight': {0: 1, 1: 1.5}, 'colsample_bytree': 1.0, 'learning_rate': 0.01, 'max_depth': 40, 'min_child_samples': 11, 'n_estimators': 60}\n",
      "0.950 for {'class_weight': {0: 1, 1: 1.5}, 'colsample_bytree': 1.0, 'learning_rate': 0.01, 'max_depth': 15, 'min_child_samples': 11, 'n_estimators': 60}\n",
      "0.950 for {'class_weight': {0: 1, 1: 1.5}, 'colsample_bytree': 1.0, 'learning_rate': 0.01, 'max_depth': None, 'min_child_samples': 11, 'n_estimators': 60}\n",
      "0.946 for {'class_weight': {0: 1, 1: 1.5}, 'colsample_bytree': 1.0, 'learning_rate': 0.01, 'max_depth': 40, 'min_child_samples': 3, 'n_estimators': 60}\n",
      "0.946 for {'class_weight': {0: 1, 1: 1.5}, 'colsample_bytree': 1.0, 'learning_rate': 0.01, 'max_depth': None, 'min_child_samples': 7, 'n_estimators': 60}\n",
      "0.946 for {'class_weight': {0: 1, 1: 1.5}, 'colsample_bytree': 1.0, 'learning_rate': 0.01, 'max_depth': 15, 'min_child_samples': 7, 'n_estimators': 60}\n",
      "0.946 for {'class_weight': {0: 1, 1: 1.5}, 'colsample_bytree': 1.0, 'learning_rate': 0.01, 'max_depth': 40, 'min_child_samples': 7, 'n_estimators': 60}\n",
      "0.946 for {'class_weight': {0: 1, 1: 1.5}, 'colsample_bytree': 1.0, 'learning_rate': 0.01, 'max_depth': None, 'min_child_samples': 3, 'n_estimators': 60}\n",
      "0.946 for {'class_weight': {0: 1, 1: 1.5}, 'colsample_bytree': 1.0, 'learning_rate': 0.01, 'max_depth': 15, 'min_child_samples': 3, 'n_estimators': 60}\n",
      "0.945 for {'class_weight': {0: 1, 1: 1.5}, 'colsample_bytree': 1.0, 'learning_rate': 0.01, 'max_depth': 15, 'min_child_samples': 5, 'n_estimators': 60}\n",
      "0.945 for {'class_weight': {0: 1, 1: 1.2}, 'colsample_bytree': 0.5, 'learning_rate': 1.0, 'max_depth': 40, 'min_child_samples': 5, 'n_estimators': 200}\n",
      "0.945 for {'class_weight': {0: 1, 1: 1.5}, 'colsample_bytree': 1.0, 'learning_rate': 0.01, 'max_depth': 40, 'min_child_samples': 5, 'n_estimators': 60}\n",
      "0.945 for {'class_weight': {0: 1, 1: 1.5}, 'colsample_bytree': 1.0, 'learning_rate': 0.01, 'max_depth': None, 'min_child_samples': 5, 'n_estimators': 60}\n",
      "0.942 for {'class_weight': {0: 1, 1: 1.2}, 'colsample_bytree': 0.5, 'learning_rate': 1.0, 'max_depth': 15, 'min_child_samples': 5, 'n_estimators': 60}\n",
      "0.915 for {'class_weight': {0: 1, 1: 1.2}, 'colsample_bytree': 0.5, 'learning_rate': 1.0, 'max_depth': 40, 'min_child_samples': 5, 'n_estimators': 60}\n",
      "0.915 for {'class_weight': {0: 1, 1: 1.2}, 'colsample_bytree': 1.0, 'learning_rate': 0.01, 'max_depth': 15, 'min_child_samples': 11, 'n_estimators': 40}\n",
      "0.915 for {'class_weight': {0: 1, 1: 1.2}, 'colsample_bytree': 1.0, 'learning_rate': 0.01, 'max_depth': 15, 'min_child_samples': 3, 'n_estimators': 40}\n",
      "0.915 for {'class_weight': {0: 1, 1: 1.2}, 'colsample_bytree': 0.5, 'learning_rate': 0.01, 'max_depth': None, 'min_child_samples': 11, 'n_estimators': 40}\n",
      "0.915 for {'class_weight': {0: 1, 1: 1.2}, 'colsample_bytree': 1.0, 'learning_rate': 0.01, 'max_depth': None, 'min_child_samples': 3, 'n_estimators': 40}\n",
      "0.915 for {'class_weight': {0: 1, 1: 1.2}, 'colsample_bytree': 0.5, 'learning_rate': 0.01, 'max_depth': 15, 'min_child_samples': 11, 'n_estimators': 40}\n",
      "0.915 for {'class_weight': {0: 1, 1: 1.2}, 'colsample_bytree': 1.0, 'learning_rate': 0.01, 'max_depth': 40, 'min_child_samples': 11, 'n_estimators': 40}\n",
      "0.915 for {'class_weight': {0: 1, 1: 1.2}, 'colsample_bytree': 1.0, 'learning_rate': 0.01, 'max_depth': None, 'min_child_samples': 11, 'n_estimators': 40}\n",
      "0.915 for {'class_weight': {0: 1, 1: 1.2}, 'colsample_bytree': 0.5, 'learning_rate': 0.01, 'max_depth': 40, 'min_child_samples': 11, 'n_estimators': 40}\n",
      "0.915 for {'class_weight': {0: 1, 1: 1.2}, 'colsample_bytree': 1.0, 'learning_rate': 0.01, 'max_depth': 40, 'min_child_samples': 3, 'n_estimators': 40}\n",
      "0.913 for {'class_weight': {0: 1, 1: 1.2}, 'colsample_bytree': 1.0, 'learning_rate': 0.01, 'max_depth': 15, 'min_child_samples': 7, 'n_estimators': 40}\n",
      "0.913 for {'class_weight': {0: 1, 1: 1.2}, 'colsample_bytree': 1.0, 'learning_rate': 0.01, 'max_depth': None, 'min_child_samples': 7, 'n_estimators': 40}\n",
      "0.913 for {'class_weight': {0: 1, 1: 1.2}, 'colsample_bytree': 1.0, 'learning_rate': 0.01, 'max_depth': 40, 'min_child_samples': 7, 'n_estimators': 40}\n",
      "0.912 for {'class_weight': {0: 1, 1: 1.2}, 'colsample_bytree': 1.0, 'learning_rate': 0.01, 'max_depth': None, 'min_child_samples': 5, 'n_estimators': 40}\n",
      "0.912 for {'class_weight': {0: 1, 1: 1.2}, 'colsample_bytree': 0.5, 'learning_rate': 0.01, 'max_depth': 15, 'min_child_samples': 5, 'n_estimators': 40}\n",
      "0.912 for {'class_weight': {0: 1, 1: 1.2}, 'colsample_bytree': 0.5, 'learning_rate': 0.01, 'max_depth': 15, 'min_child_samples': 7, 'n_estimators': 40}\n",
      "0.912 for {'class_weight': {0: 1, 1: 1.2}, 'colsample_bytree': 1.0, 'learning_rate': 0.01, 'max_depth': 15, 'min_child_samples': 5, 'n_estimators': 40}\n",
      "0.912 for {'class_weight': {0: 1, 1: 1.2}, 'colsample_bytree': 1.0, 'learning_rate': 0.01, 'max_depth': 40, 'min_child_samples': 5, 'n_estimators': 40}\n",
      "0.912 for {'class_weight': {0: 1, 1: 1.2}, 'colsample_bytree': 0.5, 'learning_rate': 0.01, 'max_depth': None, 'min_child_samples': 7, 'n_estimators': 40}\n",
      "0.912 for {'class_weight': {0: 1, 1: 1.2}, 'colsample_bytree': 0.5, 'learning_rate': 0.01, 'max_depth': 40, 'min_child_samples': 7, 'n_estimators': 40}\n",
      "0.912 for {'class_weight': {0: 1, 1: 1.2}, 'colsample_bytree': 0.5, 'learning_rate': 0.01, 'max_depth': None, 'min_child_samples': 5, 'n_estimators': 40}\n",
      "0.912 for {'class_weight': {0: 1, 1: 1.2}, 'colsample_bytree': 0.5, 'learning_rate': 0.01, 'max_depth': 40, 'min_child_samples': 5, 'n_estimators': 40}\n",
      "0.909 for {'class_weight': {0: 1, 1: 1.2}, 'colsample_bytree': 0.5, 'learning_rate': 0.01, 'max_depth': None, 'min_child_samples': 3, 'n_estimators': 40}\n",
      "0.909 for {'class_weight': {0: 1, 1: 1.2}, 'colsample_bytree': 0.5, 'learning_rate': 0.01, 'max_depth': 40, 'min_child_samples': 3, 'n_estimators': 40}\n",
      "0.909 for {'class_weight': {0: 1, 1: 1.2}, 'colsample_bytree': 0.5, 'learning_rate': 0.01, 'max_depth': 15, 'min_child_samples': 3, 'n_estimators': 40}\n",
      "0.906 for {'class_weight': {0: 1, 1: 1.5}, 'colsample_bytree': 1.0, 'learning_rate': 0.05, 'max_depth': None, 'min_child_samples': 3, 'n_estimators': 40}\n",
      "0.906 for {'class_weight': {0: 1, 1: 1.5}, 'colsample_bytree': 1.0, 'learning_rate': 0.05, 'max_depth': 40, 'min_child_samples': 3, 'n_estimators': 40}\n",
      "0.905 for {'class_weight': {0: 1, 1: 1.5}, 'colsample_bytree': 1.0, 'learning_rate': 0.01, 'max_depth': 40, 'min_child_samples': 11, 'n_estimators': 200}\n",
      "0.905 for {'class_weight': {0: 1, 1: 1.5}, 'colsample_bytree': 1.0, 'learning_rate': 0.01, 'max_depth': 15, 'min_child_samples': 11, 'n_estimators': 200}\n",
      "0.905 for {'class_weight': {0: 1, 1: 1.5}, 'colsample_bytree': 1.0, 'learning_rate': 0.01, 'max_depth': None, 'min_child_samples': 11, 'n_estimators': 200}\n",
      "0.903 for {'class_weight': {0: 1, 1: 1.5}, 'colsample_bytree': 0.5, 'learning_rate': 0.05, 'max_depth': 15, 'min_child_samples': 11, 'n_estimators': 40}\n",
      "0.903 for {'class_weight': {0: 1, 1: 1.5}, 'colsample_bytree': 1.0, 'learning_rate': 0.01, 'max_depth': None, 'min_child_samples': 7, 'n_estimators': 200}\n",
      "0.903 for {'class_weight': {0: 1, 1: 1.5}, 'colsample_bytree': 1.0, 'learning_rate': 0.05, 'max_depth': 40, 'min_child_samples': 11, 'n_estimators': 40}\n",
      "0.903 for {'class_weight': {0: 1, 1: 1.5}, 'colsample_bytree': 1.0, 'learning_rate': 0.01, 'max_depth': None, 'min_child_samples': 3, 'n_estimators': 200}\n",
      "0.903 for {'class_weight': {0: 1, 1: 1.5}, 'colsample_bytree': 0.5, 'learning_rate': 0.1, 'max_depth': 15, 'min_child_samples': 7, 'n_estimators': 40}\n",
      "0.903 for {'class_weight': {0: 1, 1: 1.5}, 'colsample_bytree': 1.0, 'learning_rate': 0.01, 'max_depth': 40, 'min_child_samples': 7, 'n_estimators': 200}\n",
      "0.903 for {'class_weight': {0: 1, 1: 1.5}, 'colsample_bytree': 1.0, 'learning_rate': 0.01, 'max_depth': 40, 'min_child_samples': 3, 'n_estimators': 200}\n",
      "0.903 for {'class_weight': {0: 1, 1: 1.5}, 'colsample_bytree': 1.0, 'learning_rate': 0.01, 'max_depth': 15, 'min_child_samples': 3, 'n_estimators': 200}\n",
      "0.903 for {'class_weight': {0: 1, 1: 1.5}, 'colsample_bytree': 1.0, 'learning_rate': 0.05, 'max_depth': None, 'min_child_samples': 11, 'n_estimators': 40}\n",
      "0.903 for {'class_weight': {0: 1, 1: 1.5}, 'colsample_bytree': 0.5, 'learning_rate': 0.1, 'max_depth': 40, 'min_child_samples': 7, 'n_estimators': 40}\n",
      "0.903 for {'class_weight': {0: 1, 1: 1.5}, 'colsample_bytree': 1.0, 'learning_rate': 0.05, 'max_depth': 40, 'min_child_samples': 3, 'n_estimators': 60}\n",
      "0.903 for {'class_weight': {0: 1, 1: 1.5}, 'colsample_bytree': 0.5, 'learning_rate': 0.05, 'max_depth': None, 'min_child_samples': 7, 'n_estimators': 40}\n",
      "0.903 for {'class_weight': {0: 1, 1: 1.5}, 'colsample_bytree': 0.5, 'learning_rate': 0.1, 'max_depth': None, 'min_child_samples': 7, 'n_estimators': 40}\n",
      "0.903 for {'class_weight': {0: 1, 1: 1.5}, 'colsample_bytree': 1.0, 'learning_rate': 0.05, 'max_depth': None, 'min_child_samples': 3, 'n_estimators': 60}\n",
      "0.903 for {'class_weight': {0: 1, 1: 1.5}, 'colsample_bytree': 0.5, 'learning_rate': 0.01, 'max_depth': None, 'min_child_samples': 11, 'n_estimators': 200}\n",
      "0.903 for {'class_weight': {0: 1, 1: 1.5}, 'colsample_bytree': 0.5, 'learning_rate': 0.05, 'max_depth': 40, 'min_child_samples': 7, 'n_estimators': 40}\n",
      "0.903 for {'class_weight': {0: 1, 1: 1.5}, 'colsample_bytree': 0.5, 'learning_rate': 0.05, 'max_depth': None, 'min_child_samples': 11, 'n_estimators': 40}\n",
      "0.903 for {'class_weight': {0: 1, 1: 1.5}, 'colsample_bytree': 0.5, 'learning_rate': 0.01, 'max_depth': None, 'min_child_samples': 7, 'n_estimators': 200}\n",
      "0.903 for {'class_weight': {0: 1, 1: 1.5}, 'colsample_bytree': 0.5, 'learning_rate': 0.01, 'max_depth': 15, 'min_child_samples': 5, 'n_estimators': 200}\n",
      "0.903 for {'class_weight': {0: 1, 1: 1.5}, 'colsample_bytree': 0.5, 'learning_rate': 0.01, 'max_depth': 15, 'min_child_samples': 7, 'n_estimators': 200}\n",
      "0.903 for {'class_weight': {0: 1, 1: 1.5}, 'colsample_bytree': 0.5, 'learning_rate': 0.01, 'max_depth': 40, 'min_child_samples': 5, 'n_estimators': 200}\n",
      "0.903 for {'class_weight': {0: 1, 1: 1.5}, 'colsample_bytree': 0.5, 'learning_rate': 0.01, 'max_depth': 15, 'min_child_samples': 11, 'n_estimators': 200}\n",
      "0.903 for {'class_weight': {0: 1, 1: 1.5}, 'colsample_bytree': 0.5, 'learning_rate': 0.05, 'max_depth': 40, 'min_child_samples': 11, 'n_estimators': 40}\n",
      "0.903 for {'class_weight': {0: 1, 1: 1.5}, 'colsample_bytree': 0.5, 'learning_rate': 0.05, 'max_depth': 15, 'min_child_samples': 7, 'n_estimators': 40}\n",
      "0.903 for {'class_weight': {0: 1, 1: 1.5}, 'colsample_bytree': 0.5, 'learning_rate': 0.01, 'max_depth': 40, 'min_child_samples': 7, 'n_estimators': 200}\n",
      "0.903 for {'class_weight': {0: 1, 1: 1.5}, 'colsample_bytree': 0.5, 'learning_rate': 0.01, 'max_depth': 40, 'min_child_samples': 11, 'n_estimators': 200}\n",
      "0.903 for {'class_weight': {0: 1, 1: 1.5}, 'colsample_bytree': 0.5, 'learning_rate': 0.01, 'max_depth': None, 'min_child_samples': 5, 'n_estimators': 200}\n",
      "0.902 for {'class_weight': {0: 1, 1: 1.5}, 'colsample_bytree': 1.0, 'learning_rate': 0.1, 'max_depth': 40, 'min_child_samples': 7, 'n_estimators': 40}\n",
      "0.902 for {'class_weight': {0: 1, 1: 1.5}, 'colsample_bytree': 1.0, 'learning_rate': 0.01, 'max_depth': 15, 'min_child_samples': 7, 'n_estimators': 200}\n",
      "0.902 for {'class_weight': {0: 1, 1: 1.5}, 'colsample_bytree': 1.0, 'learning_rate': 0.05, 'max_depth': 15, 'min_child_samples': 5, 'n_estimators': 40}\n",
      "0.902 for {'class_weight': {0: 1, 1: 1.5}, 'colsample_bytree': 1.0, 'learning_rate': 0.1, 'max_depth': None, 'min_child_samples': 7, 'n_estimators': 40}\n",
      "0.902 for {'class_weight': {0: 1, 1: 1.5}, 'colsample_bytree': 0.5, 'learning_rate': 0.05, 'max_depth': 40, 'min_child_samples': 11, 'n_estimators': 60}\n",
      "0.902 for {'class_weight': {0: 1, 1: 1.5}, 'colsample_bytree': 0.5, 'learning_rate': 0.05, 'max_depth': None, 'min_child_samples': 11, 'n_estimators': 60}\n",
      "0.902 for {'class_weight': {0: 1, 1: 1.5}, 'colsample_bytree': 0.5, 'learning_rate': 0.05, 'max_depth': 15, 'min_child_samples': 11, 'n_estimators': 60}\n",
      "0.902 for {'class_weight': {0: 1, 1: 1.5}, 'colsample_bytree': 1.0, 'learning_rate': 0.05, 'max_depth': 40, 'min_child_samples': 11, 'n_estimators': 60}\n",
      "0.902 for {'class_weight': {0: 1, 1: 1.5}, 'colsample_bytree': 1.0, 'learning_rate': 0.01, 'max_depth': 15, 'min_child_samples': 5, 'n_estimators': 200}\n",
      "0.902 for {'class_weight': {0: 1, 1: 1.5}, 'colsample_bytree': 1.0, 'learning_rate': 0.05, 'max_depth': None, 'min_child_samples': 11, 'n_estimators': 60}\n",
      "0.901 for {'class_weight': {0: 1, 1: 1.2}, 'colsample_bytree': 0.5, 'learning_rate': 0.01, 'max_depth': 40, 'min_child_samples': 11, 'n_estimators': 60}\n",
      "0.901 for {'class_weight': {0: 1, 1: 1.2}, 'colsample_bytree': 0.5, 'learning_rate': 0.01, 'max_depth': 15, 'min_child_samples': 7, 'n_estimators': 60}\n",
      "0.901 for {'class_weight': {0: 1, 1: 1.5}, 'colsample_bytree': 0.5, 'learning_rate': 0.05, 'max_depth': None, 'min_child_samples': 7, 'n_estimators': 60}\n",
      "0.901 for {'class_weight': {0: 1, 1: 1.5}, 'colsample_bytree': 1.0, 'learning_rate': 0.1, 'max_depth': 15, 'min_child_samples': 7, 'n_estimators': 40}\n",
      "0.901 for {'class_weight': {0: 1, 1: 1.2}, 'colsample_bytree': 0.5, 'learning_rate': 0.01, 'max_depth': 15, 'min_child_samples': 11, 'n_estimators': 60}\n",
      "0.901 for {'class_weight': {0: 1, 1: 1.5}, 'colsample_bytree': 1.0, 'learning_rate': 0.01, 'max_depth': 40, 'min_child_samples': 5, 'n_estimators': 200}\n",
      "0.901 for {'class_weight': {0: 1, 1: 1.5}, 'colsample_bytree': 0.5, 'learning_rate': 0.1, 'max_depth': 15, 'min_child_samples': 11, 'n_estimators': 40}\n",
      "0.901 for {'class_weight': {0: 1, 1: 1.5}, 'colsample_bytree': 1.0, 'learning_rate': 0.01, 'max_depth': None, 'min_child_samples': 5, 'n_estimators': 200}\n",
      "0.901 for {'class_weight': {0: 1, 1: 1.2}, 'colsample_bytree': 0.5, 'learning_rate': 0.01, 'max_depth': 40, 'min_child_samples': 7, 'n_estimators': 60}\n",
      "0.901 for {'class_weight': {0: 1, 1: 1.5}, 'colsample_bytree': 0.5, 'learning_rate': 0.1, 'max_depth': 40, 'min_child_samples': 11, 'n_estimators': 40}\n",
      "0.901 for {'class_weight': {0: 1, 1: 1.2}, 'colsample_bytree': 0.5, 'learning_rate': 0.01, 'max_depth': None, 'min_child_samples': 11, 'n_estimators': 60}\n",
      "0.901 for {'class_weight': {0: 1, 1: 1.5}, 'colsample_bytree': 0.5, 'learning_rate': 0.1, 'max_depth': None, 'min_child_samples': 11, 'n_estimators': 40}\n",
      "0.901 for {'class_weight': {0: 1, 1: 1.5}, 'colsample_bytree': 0.5, 'learning_rate': 0.05, 'max_depth': 40, 'min_child_samples': 7, 'n_estimators': 60}\n",
      "0.901 for {'class_weight': {0: 1, 1: 1.5}, 'colsample_bytree': 1.0, 'learning_rate': 0.05, 'max_depth': 40, 'min_child_samples': 7, 'n_estimators': 40}\n",
      "0.901 for {'class_weight': {0: 1, 1: 1.5}, 'colsample_bytree': 1.0, 'learning_rate': 0.05, 'max_depth': None, 'min_child_samples': 7, 'n_estimators': 40}\n",
      "0.901 for {'class_weight': {0: 1, 1: 1.2}, 'colsample_bytree': 0.5, 'learning_rate': 0.01, 'max_depth': None, 'min_child_samples': 7, 'n_estimators': 60}\n",
      "0.901 for {'class_weight': {0: 1, 1: 1.5}, 'colsample_bytree': 1.0, 'learning_rate': 0.05, 'max_depth': 15, 'min_child_samples': 3, 'n_estimators': 40}\n",
      "0.901 for {'class_weight': {0: 1, 1: 1.5}, 'colsample_bytree': 1.0, 'learning_rate': 0.05, 'max_depth': 15, 'min_child_samples': 7, 'n_estimators': 40}\n",
      "0.901 for {'class_weight': {0: 1, 1: 1.5}, 'colsample_bytree': 1.0, 'learning_rate': 0.05, 'max_depth': 15, 'min_child_samples': 11, 'n_estimators': 60}\n",
      "0.901 for {'class_weight': {0: 1, 1: 1.5}, 'colsample_bytree': 0.5, 'learning_rate': 0.05, 'max_depth': 15, 'min_child_samples': 7, 'n_estimators': 60}\n",
      "0.899 for {'class_weight': {0: 1, 1: 1.5}, 'colsample_bytree': 0.5, 'learning_rate': 0.01, 'max_depth': 15, 'min_child_samples': 3, 'n_estimators': 200}\n",
      "0.899 for {'class_weight': {0: 1, 1: 1.5}, 'colsample_bytree': 1.0, 'learning_rate': 0.1, 'max_depth': None, 'min_child_samples': 5, 'n_estimators': 40}\n",
      "0.899 for {'class_weight': {0: 1, 1: 1.5}, 'colsample_bytree': 0.5, 'learning_rate': 0.01, 'max_depth': 40, 'min_child_samples': 3, 'n_estimators': 200}\n",
      "0.899 for {'class_weight': {0: 1, 1: 1.5}, 'colsample_bytree': 1.0, 'learning_rate': 0.1, 'max_depth': 40, 'min_child_samples': 5, 'n_estimators': 40}\n",
      "0.899 for {'class_weight': {0: 1, 1: 1.5}, 'colsample_bytree': 1.0, 'learning_rate': 0.05, 'max_depth': None, 'min_child_samples': 5, 'n_estimators': 40}\n",
      "0.899 for {'class_weight': {0: 1, 1: 1.5}, 'colsample_bytree': 1.0, 'learning_rate': 0.1, 'max_depth': 15, 'min_child_samples': 11, 'n_estimators': 60}\n",
      "0.899 for {'class_weight': {0: 1, 1: 1.5}, 'colsample_bytree': 1.0, 'learning_rate': 0.05, 'max_depth': 40, 'min_child_samples': 5, 'n_estimators': 40}\n",
      "0.899 for {'class_weight': {0: 1, 1: 1.5}, 'colsample_bytree': 0.5, 'learning_rate': 0.01, 'max_depth': None, 'min_child_samples': 3, 'n_estimators': 200}\n",
      "0.899 for {'class_weight': {0: 1, 1: 1.5}, 'colsample_bytree': 1.0, 'learning_rate': 0.05, 'max_depth': 15, 'min_child_samples': 11, 'n_estimators': 40}\n",
      "0.898 for {'class_weight': {0: 1, 1: 1.5}, 'colsample_bytree': 1.0, 'learning_rate': 0.1, 'max_depth': None, 'min_child_samples': 11, 'n_estimators': 60}\n",
      "0.898 for {'class_weight': {0: 1, 1: 1.5}, 'colsample_bytree': 1.0, 'learning_rate': 0.05, 'max_depth': 15, 'min_child_samples': 3, 'n_estimators': 60}\n",
      "0.898 for {'class_weight': {0: 1, 1: 1.2}, 'colsample_bytree': 1.0, 'learning_rate': 0.01, 'max_depth': 15, 'min_child_samples': 11, 'n_estimators': 60}\n",
      "0.898 for {'class_weight': {0: 1, 1: 1.2}, 'colsample_bytree': 0.5, 'learning_rate': 0.01, 'max_depth': None, 'min_child_samples': 5, 'n_estimators': 60}\n",
      "0.898 for {'class_weight': {0: 1, 1: 1.5}, 'colsample_bytree': 1.0, 'learning_rate': 0.05, 'max_depth': 15, 'min_child_samples': 5, 'n_estimators': 60}\n",
      "0.898 for {'class_weight': {0: 1, 1: 1.5}, 'colsample_bytree': 1.0, 'learning_rate': 0.1, 'max_depth': 40, 'min_child_samples': 11, 'n_estimators': 60}\n",
      "0.898 for {'class_weight': {0: 1, 1: 1.5}, 'colsample_bytree': 1.0, 'learning_rate': 0.1, 'max_depth': 40, 'min_child_samples': 11, 'n_estimators': 40}\n",
      "0.898 for {'class_weight': {0: 1, 1: 1.2}, 'colsample_bytree': 0.5, 'learning_rate': 0.01, 'max_depth': 40, 'min_child_samples': 5, 'n_estimators': 60}\n",
      "0.898 for {'class_weight': {0: 1, 1: 1.2}, 'colsample_bytree': 0.5, 'learning_rate': 0.01, 'max_depth': 15, 'min_child_samples': 5, 'n_estimators': 60}\n",
      "0.898 for {'class_weight': {0: 1, 1: 1.5}, 'colsample_bytree': 1.0, 'learning_rate': 0.1, 'max_depth': None, 'min_child_samples': 11, 'n_estimators': 40}\n",
      "0.898 for {'class_weight': {0: 1, 1: 1.5}, 'colsample_bytree': 1.0, 'learning_rate': 0.1, 'max_depth': 15, 'min_child_samples': 11, 'n_estimators': 40}\n",
      "0.898 for {'class_weight': {0: 1, 1: 1.2}, 'colsample_bytree': 1.0, 'learning_rate': 0.01, 'max_depth': None, 'min_child_samples': 11, 'n_estimators': 60}\n",
      "0.898 for {'class_weight': {0: 1, 1: 1.5}, 'colsample_bytree': 1.0, 'learning_rate': 0.05, 'max_depth': None, 'min_child_samples': 7, 'n_estimators': 60}\n",
      "0.898 for {'class_weight': {0: 1, 1: 1.2}, 'colsample_bytree': 1.0, 'learning_rate': 0.01, 'max_depth': 40, 'min_child_samples': 11, 'n_estimators': 60}\n",
      "0.898 for {'class_weight': {0: 1, 1: 1.5}, 'colsample_bytree': 1.0, 'learning_rate': 0.05, 'max_depth': 40, 'min_child_samples': 7, 'n_estimators': 60}\n",
      "0.898 for {'class_weight': {0: 1, 1: 1.5}, 'colsample_bytree': 1.0, 'learning_rate': 0.05, 'max_depth': 15, 'min_child_samples': 7, 'n_estimators': 60}\n",
      "0.896 for {'class_weight': {0: 1, 1: 1.2}, 'colsample_bytree': 0.5, 'learning_rate': 0.01, 'max_depth': None, 'min_child_samples': 3, 'n_estimators': 60}\n",
      "0.896 for {'class_weight': {0: 1, 1: 1.2}, 'colsample_bytree': 0.5, 'learning_rate': 0.01, 'max_depth': 40, 'min_child_samples': 3, 'n_estimators': 60}\n",
      "0.896 for {'class_weight': {0: 1, 1: 1.5}, 'colsample_bytree': 1.0, 'learning_rate': 0.05, 'max_depth': None, 'min_child_samples': 5, 'n_estimators': 60}\n",
      "0.896 for {'class_weight': {0: 1, 1: 1.2}, 'colsample_bytree': 1.0, 'learning_rate': 0.01, 'max_depth': 15, 'min_child_samples': 7, 'n_estimators': 60}\n",
      "0.896 for {'class_weight': {0: 1, 1: 1.2}, 'colsample_bytree': 0.5, 'learning_rate': 0.01, 'max_depth': 15, 'min_child_samples': 3, 'n_estimators': 60}\n",
      "0.896 for {'class_weight': {0: 1, 1: 1.2}, 'colsample_bytree': 1.0, 'learning_rate': 0.05, 'max_depth': None, 'min_child_samples': 11, 'n_estimators': 40}\n",
      "0.896 for {'class_weight': {0: 1, 1: 1.2}, 'colsample_bytree': 1.0, 'learning_rate': 0.05, 'max_depth': 40, 'min_child_samples': 11, 'n_estimators': 40}\n",
      "0.896 for {'class_weight': {0: 1, 1: 1.2}, 'colsample_bytree': 1.0, 'learning_rate': 0.01, 'max_depth': 40, 'min_child_samples': 7, 'n_estimators': 60}\n",
      "0.896 for {'class_weight': {0: 1, 1: 1.2}, 'colsample_bytree': 1.0, 'learning_rate': 0.01, 'max_depth': None, 'min_child_samples': 7, 'n_estimators': 60}\n",
      "0.896 for {'class_weight': {0: 1, 1: 1.5}, 'colsample_bytree': 1.0, 'learning_rate': 0.05, 'max_depth': 40, 'min_child_samples': 5, 'n_estimators': 60}\n",
      "0.895 for {'class_weight': {0: 1, 1: 1.2}, 'colsample_bytree': 1.0, 'learning_rate': 0.05, 'max_depth': 40, 'min_child_samples': 11, 'n_estimators': 60}\n",
      "0.895 for {'class_weight': {0: 1, 1: 1.2}, 'colsample_bytree': 1.0, 'learning_rate': 0.05, 'max_depth': None, 'min_child_samples': 11, 'n_estimators': 60}\n",
      "0.895 for {'class_weight': {0: 1, 1: 1.2}, 'colsample_bytree': 1.0, 'learning_rate': 0.05, 'max_depth': 15, 'min_child_samples': 7, 'n_estimators': 60}\n",
      "0.895 for {'class_weight': {0: 1, 1: 1.2}, 'colsample_bytree': 1.0, 'learning_rate': 0.01, 'max_depth': None, 'min_child_samples': 3, 'n_estimators': 60}\n",
      "0.895 for {'class_weight': {0: 1, 1: 1.2}, 'colsample_bytree': 1.0, 'learning_rate': 0.01, 'max_depth': 40, 'min_child_samples': 3, 'n_estimators': 60}\n",
      "0.895 for {'class_weight': {0: 1, 1: 1.2}, 'colsample_bytree': 1.0, 'learning_rate': 0.01, 'max_depth': 15, 'min_child_samples': 3, 'n_estimators': 60}\n",
      "0.893 for {'class_weight': {0: 1, 1: 1.5}, 'colsample_bytree': 0.5, 'learning_rate': 0.05, 'max_depth': None, 'min_child_samples': 3, 'n_estimators': 60}\n",
      "0.893 for {'class_weight': {0: 1, 1: 1.5}, 'colsample_bytree': 1.0, 'learning_rate': 0.1, 'max_depth': None, 'min_child_samples': 3, 'n_estimators': 60}\n",
      "0.893 for {'class_weight': {0: 1, 1: 1.5}, 'colsample_bytree': 1.0, 'learning_rate': 0.1, 'max_depth': 15, 'min_child_samples': 3, 'n_estimators': 40}\n",
      "0.893 for {'class_weight': {0: 1, 1: 1.5}, 'colsample_bytree': 1.0, 'learning_rate': 0.1, 'max_depth': 40, 'min_child_samples': 3, 'n_estimators': 60}\n",
      "0.893 for {'class_weight': {0: 1, 1: 1.5}, 'colsample_bytree': 0.5, 'learning_rate': 0.05, 'max_depth': 40, 'min_child_samples': 3, 'n_estimators': 60}\n",
      "0.893 for {'class_weight': {0: 1, 1: 1.2}, 'colsample_bytree': 1.0, 'learning_rate': 0.1, 'max_depth': 15, 'min_child_samples': 5, 'n_estimators': 40}\n",
      "0.893 for {'class_weight': {0: 1, 1: 1.5}, 'colsample_bytree': 0.5, 'learning_rate': 0.05, 'max_depth': 40, 'min_child_samples': 5, 'n_estimators': 40}\n",
      "0.893 for {'class_weight': {0: 1, 1: 1.5}, 'colsample_bytree': 0.5, 'learning_rate': 0.05, 'max_depth': None, 'min_child_samples': 5, 'n_estimators': 40}\n",
      "0.893 for {'class_weight': {0: 1, 1: 1.5}, 'colsample_bytree': 0.5, 'learning_rate': 0.05, 'max_depth': 15, 'min_child_samples': 3, 'n_estimators': 60}\n",
      "0.893 for {'class_weight': {0: 1, 1: 1.5}, 'colsample_bytree': 0.5, 'learning_rate': 0.05, 'max_depth': 15, 'min_child_samples': 5, 'n_estimators': 40}\n",
      "0.892 for {'class_weight': {0: 1, 1: 1.2}, 'colsample_bytree': 1.0, 'learning_rate': 0.05, 'max_depth': 15, 'min_child_samples': 7, 'n_estimators': 40}\n",
      "0.892 for {'class_weight': {0: 1, 1: 1.5}, 'colsample_bytree': 0.5, 'learning_rate': 0.1, 'max_depth': None, 'min_child_samples': 11, 'n_estimators': 60}\n",
      "0.892 for {'class_weight': {0: 1, 1: 1.5}, 'colsample_bytree': 1.0, 'learning_rate': 0.1, 'max_depth': None, 'min_child_samples': 3, 'n_estimators': 40}\n",
      "0.892 for {'class_weight': {0: 1, 1: 1.2}, 'colsample_bytree': 1.0, 'learning_rate': 0.01, 'max_depth': 40, 'min_child_samples': 5, 'n_estimators': 60}\n",
      "0.892 for {'class_weight': {0: 1, 1: 1.2}, 'colsample_bytree': 1.0, 'learning_rate': 0.01, 'max_depth': None, 'min_child_samples': 5, 'n_estimators': 60}\n",
      "0.892 for {'class_weight': {0: 1, 1: 1.5}, 'colsample_bytree': 0.5, 'learning_rate': 0.1, 'max_depth': 15, 'min_child_samples': 11, 'n_estimators': 60}\n",
      "0.892 for {'class_weight': {0: 1, 1: 1.2}, 'colsample_bytree': 1.0, 'learning_rate': 0.01, 'max_depth': 15, 'min_child_samples': 5, 'n_estimators': 60}\n",
      "0.892 for {'class_weight': {0: 1, 1: 1.2}, 'colsample_bytree': 1.0, 'learning_rate': 0.1, 'max_depth': None, 'min_child_samples': 7, 'n_estimators': 40}\n",
      "0.892 for {'class_weight': {0: 1, 1: 1.5}, 'colsample_bytree': 0.5, 'learning_rate': 0.05, 'max_depth': 40, 'min_child_samples': 5, 'n_estimators': 60}\n",
      "0.892 for {'class_weight': {0: 1, 1: 1.2}, 'colsample_bytree': 1.0, 'learning_rate': 0.1, 'max_depth': 15, 'min_child_samples': 7, 'n_estimators': 40}\n",
      "0.892 for {'class_weight': {0: 1, 1: 1.5}, 'colsample_bytree': 0.5, 'learning_rate': 0.1, 'max_depth': 40, 'min_child_samples': 11, 'n_estimators': 60}\n",
      "0.892 for {'class_weight': {0: 1, 1: 1.2}, 'colsample_bytree': 1.0, 'learning_rate': 0.1, 'max_depth': 40, 'min_child_samples': 7, 'n_estimators': 40}\n",
      "0.892 for {'class_weight': {0: 1, 1: 1.5}, 'colsample_bytree': 0.5, 'learning_rate': 0.05, 'max_depth': None, 'min_child_samples': 5, 'n_estimators': 60}\n",
      "0.892 for {'class_weight': {0: 1, 1: 1.5}, 'colsample_bytree': 1.0, 'learning_rate': 0.1, 'max_depth': 40, 'min_child_samples': 3, 'n_estimators': 40}\n",
      "0.891 for {'class_weight': {0: 1, 1: 1.2}, 'colsample_bytree': 1.0, 'learning_rate': 0.05, 'max_depth': None, 'min_child_samples': 7, 'n_estimators': 60}\n",
      "0.891 for {'class_weight': {0: 1, 1: 1.2}, 'colsample_bytree': 1.0, 'learning_rate': 0.05, 'max_depth': 15, 'min_child_samples': 11, 'n_estimators': 60}\n",
      "0.891 for {'class_weight': {0: 1, 1: 1.2}, 'colsample_bytree': 1.0, 'learning_rate': 0.05, 'max_depth': 40, 'min_child_samples': 7, 'n_estimators': 40}\n",
      "0.891 for {'class_weight': {0: 1, 1: 1.2}, 'colsample_bytree': 1.0, 'learning_rate': 0.05, 'max_depth': 40, 'min_child_samples': 7, 'n_estimators': 60}\n",
      "0.891 for {'class_weight': {0: 1, 1: 1.2}, 'colsample_bytree': 1.0, 'learning_rate': 0.05, 'max_depth': None, 'min_child_samples': 7, 'n_estimators': 40}\n",
      "0.891 for {'class_weight': {0: 1, 1: 1.5}, 'colsample_bytree': 0.5, 'learning_rate': 0.05, 'max_depth': None, 'min_child_samples': 3, 'n_estimators': 40}\n",
      "0.891 for {'class_weight': {0: 1, 1: 1.2}, 'colsample_bytree': 1.0, 'learning_rate': 0.1, 'max_depth': 15, 'min_child_samples': 5, 'n_estimators': 60}\n",
      "0.891 for {'class_weight': {0: 1, 1: 1.5}, 'colsample_bytree': 0.5, 'learning_rate': 0.05, 'max_depth': 40, 'min_child_samples': 3, 'n_estimators': 40}\n",
      "0.891 for {'class_weight': {0: 1, 1: 1.5}, 'colsample_bytree': 0.5, 'learning_rate': 0.05, 'max_depth': 15, 'min_child_samples': 3, 'n_estimators': 40}\n",
      "0.889 for {'class_weight': {0: 1, 1: 1.2}, 'colsample_bytree': 1.0, 'learning_rate': 0.1, 'max_depth': 40, 'min_child_samples': 11, 'n_estimators': 40}\n",
      "0.889 for {'class_weight': {0: 1, 1: 1.2}, 'colsample_bytree': 1.0, 'learning_rate': 0.05, 'max_depth': 15, 'min_child_samples': 11, 'n_estimators': 40}\n",
      "0.889 for {'class_weight': {0: 1, 1: 1.5}, 'colsample_bytree': 0.5, 'learning_rate': 0.05, 'max_depth': 15, 'min_child_samples': 5, 'n_estimators': 60}\n",
      "0.889 for {'class_weight': {0: 1, 1: 1.2}, 'colsample_bytree': 1.0, 'learning_rate': 0.05, 'max_depth': 15, 'min_child_samples': 5, 'n_estimators': 60}\n",
      "0.889 for {'class_weight': {0: 1, 1: 1.5}, 'colsample_bytree': 1.0, 'learning_rate': 0.1, 'max_depth': 15, 'min_child_samples': 5, 'n_estimators': 40}\n",
      "0.889 for {'class_weight': {0: 1, 1: 1.5}, 'colsample_bytree': 1.0, 'learning_rate': 0.1, 'max_depth': 15, 'min_child_samples': 7, 'n_estimators': 60}\n",
      "0.889 for {'class_weight': {0: 1, 1: 1.2}, 'colsample_bytree': 1.0, 'learning_rate': 0.1, 'max_depth': None, 'min_child_samples': 11, 'n_estimators': 40}\n",
      "0.888 for {'class_weight': {0: 1, 1: 1.2}, 'colsample_bytree': 1.0, 'learning_rate': 0.01, 'max_depth': 40, 'min_child_samples': 11, 'n_estimators': 200}\n",
      "0.888 for {'class_weight': {0: 1, 1: 1.2}, 'colsample_bytree': 0.5, 'learning_rate': 0.05, 'max_depth': None, 'min_child_samples': 5, 'n_estimators': 40}\n",
      "0.888 for {'class_weight': {0: 1, 1: 1.2}, 'colsample_bytree': 0.5, 'learning_rate': 0.01, 'max_depth': 40, 'min_child_samples': 7, 'n_estimators': 200}\n",
      "0.888 for {'class_weight': {0: 1, 1: 1.2}, 'colsample_bytree': 1.0, 'learning_rate': 0.1, 'max_depth': 15, 'min_child_samples': 11, 'n_estimators': 40}\n",
      "0.888 for {'class_weight': {0: 1, 1: 1.2}, 'colsample_bytree': 0.5, 'learning_rate': 0.05, 'max_depth': None, 'min_child_samples': 3, 'n_estimators': 40}\n",
      "0.888 for {'class_weight': {0: 1, 1: 1.2}, 'colsample_bytree': 0.5, 'learning_rate': 0.05, 'max_depth': 40, 'min_child_samples': 5, 'n_estimators': 40}\n",
      "0.888 for {'class_weight': {0: 1, 1: 1.2}, 'colsample_bytree': 1.0, 'learning_rate': 0.1, 'max_depth': 40, 'min_child_samples': 5, 'n_estimators': 40}\n",
      "0.888 for {'class_weight': {0: 1, 1: 1.2}, 'colsample_bytree': 1.0, 'learning_rate': 0.05, 'max_depth': None, 'min_child_samples': 3, 'n_estimators': 40}\n",
      "0.888 for {'class_weight': {0: 1, 1: 1.2}, 'colsample_bytree': 1.0, 'learning_rate': 0.01, 'max_depth': None, 'min_child_samples': 11, 'n_estimators': 200}\n",
      "0.888 for {'class_weight': {0: 1, 1: 1.2}, 'colsample_bytree': 1.0, 'learning_rate': 0.05, 'max_depth': 15, 'min_child_samples': 3, 'n_estimators': 40}\n",
      "0.888 for {'class_weight': {0: 1, 1: 1.2}, 'colsample_bytree': 1.0, 'learning_rate': 0.01, 'max_depth': None, 'min_child_samples': 5, 'n_estimators': 200}\n",
      "0.888 for {'class_weight': {0: 1, 1: 1.2}, 'colsample_bytree': 1.0, 'learning_rate': 0.1, 'max_depth': None, 'min_child_samples': 11, 'n_estimators': 60}\n",
      "0.888 for {'class_weight': {0: 1, 1: 1.2}, 'colsample_bytree': 0.5, 'learning_rate': 0.01, 'max_depth': None, 'min_child_samples': 7, 'n_estimators': 200}\n",
      "0.888 for {'class_weight': {0: 1, 1: 1.2}, 'colsample_bytree': 0.5, 'learning_rate': 0.1, 'max_depth': 15, 'min_child_samples': 3, 'n_estimators': 40}\n",
      "0.888 for {'class_weight': {0: 1, 1: 1.2}, 'colsample_bytree': 1.0, 'learning_rate': 0.01, 'max_depth': 40, 'min_child_samples': 5, 'n_estimators': 200}\n",
      "0.888 for {'class_weight': {0: 1, 1: 1.2}, 'colsample_bytree': 0.5, 'learning_rate': 0.05, 'max_depth': 40, 'min_child_samples': 3, 'n_estimators': 40}\n",
      "0.888 for {'class_weight': {0: 1, 1: 1.2}, 'colsample_bytree': 1.0, 'learning_rate': 0.05, 'max_depth': 40, 'min_child_samples': 3, 'n_estimators': 40}\n",
      "0.888 for {'class_weight': {0: 1, 1: 1.2}, 'colsample_bytree': 0.5, 'learning_rate': 0.05, 'max_depth': 15, 'min_child_samples': 3, 'n_estimators': 40}\n",
      "0.888 for {'class_weight': {0: 1, 1: 1.2}, 'colsample_bytree': 1.0, 'learning_rate': 0.01, 'max_depth': 15, 'min_child_samples': 11, 'n_estimators': 200}\n",
      "0.888 for {'class_weight': {0: 1, 1: 1.2}, 'colsample_bytree': 1.0, 'learning_rate': 0.1, 'max_depth': None, 'min_child_samples': 5, 'n_estimators': 40}\n",
      "0.888 for {'class_weight': {0: 1, 1: 1.2}, 'colsample_bytree': 1.0, 'learning_rate': 0.1, 'max_depth': 40, 'min_child_samples': 11, 'n_estimators': 60}\n",
      "0.888 for {'class_weight': {0: 1, 1: 1.2}, 'colsample_bytree': 0.5, 'learning_rate': 0.05, 'max_depth': 15, 'min_child_samples': 5, 'n_estimators': 40}\n",
      "0.888 for {'class_weight': {0: 1, 1: 1.2}, 'colsample_bytree': 0.5, 'learning_rate': 0.1, 'max_depth': 40, 'min_child_samples': 3, 'n_estimators': 40}\n",
      "0.888 for {'class_weight': {0: 1, 1: 1.2}, 'colsample_bytree': 0.5, 'learning_rate': 0.01, 'max_depth': 15, 'min_child_samples': 7, 'n_estimators': 200}\n",
      "0.888 for {'class_weight': {0: 1, 1: 1.2}, 'colsample_bytree': 0.5, 'learning_rate': 0.1, 'max_depth': None, 'min_child_samples': 3, 'n_estimators': 40}\n",
      "0.886 for {'class_weight': {0: 1, 1: 1.2}, 'colsample_bytree': 0.5, 'learning_rate': 0.05, 'max_depth': 15, 'min_child_samples': 11, 'n_estimators': 60}\n",
      "0.886 for {'class_weight': {0: 1, 1: 1.5}, 'colsample_bytree': 0.5, 'learning_rate': 0.05, 'max_depth': 15, 'min_child_samples': 7, 'n_estimators': 200}\n",
      "0.886 for {'class_weight': {0: 1, 1: 1.2}, 'colsample_bytree': 1.0, 'learning_rate': 0.01, 'max_depth': 15, 'min_child_samples': 5, 'n_estimators': 200}\n",
      "0.886 for {'class_weight': {0: 1, 1: 1.2}, 'colsample_bytree': 1.0, 'learning_rate': 0.01, 'max_depth': 40, 'min_child_samples': 3, 'n_estimators': 200}\n",
      "0.886 for {'class_weight': {0: 1, 1: 1.2}, 'colsample_bytree': 1.0, 'learning_rate': 0.05, 'max_depth': 15, 'min_child_samples': 3, 'n_estimators': 60}\n",
      "0.886 for {'class_weight': {0: 1, 1: 1.2}, 'colsample_bytree': 1.0, 'learning_rate': 0.01, 'max_depth': 15, 'min_child_samples': 7, 'n_estimators': 200}\n",
      "0.886 for {'class_weight': {0: 1, 1: 1.5}, 'colsample_bytree': 1.0, 'learning_rate': 0.1, 'max_depth': None, 'min_child_samples': 7, 'n_estimators': 60}\n",
      "0.886 for {'class_weight': {0: 1, 1: 1.5}, 'colsample_bytree': 1.0, 'learning_rate': 0.1, 'max_depth': 40, 'min_child_samples': 7, 'n_estimators': 60}\n",
      "0.886 for {'class_weight': {0: 1, 1: 1}, 'colsample_bytree': 1.0, 'learning_rate': 0.1, 'max_depth': None, 'min_child_samples': 11, 'n_estimators': 40}\n",
      "0.886 for {'class_weight': {0: 1, 1: 1.2}, 'colsample_bytree': 1.0, 'learning_rate': 0.01, 'max_depth': 40, 'min_child_samples': 7, 'n_estimators': 200}\n",
      "0.886 for {'class_weight': {0: 1, 1: 1.2}, 'colsample_bytree': 1.0, 'learning_rate': 0.01, 'max_depth': None, 'min_child_samples': 3, 'n_estimators': 200}\n",
      "0.886 for {'class_weight': {0: 1, 1: 1}, 'colsample_bytree': 1.0, 'learning_rate': 0.1, 'max_depth': 40, 'min_child_samples': 11, 'n_estimators': 40}\n",
      "0.886 for {'class_weight': {0: 1, 1: 1}, 'colsample_bytree': 1.0, 'learning_rate': 0.1, 'max_depth': 15, 'min_child_samples': 11, 'n_estimators': 40}\n",
      "0.886 for {'class_weight': {0: 1, 1: 1.2}, 'colsample_bytree': 1.0, 'learning_rate': 0.01, 'max_depth': None, 'min_child_samples': 7, 'n_estimators': 200}\n",
      "0.886 for {'class_weight': {0: 1, 1: 1.2}, 'colsample_bytree': 1.0, 'learning_rate': 0.01, 'max_depth': 15, 'min_child_samples': 3, 'n_estimators': 200}\n",
      "0.885 for {'class_weight': {0: 1, 1: 1.2}, 'colsample_bytree': 0.5, 'learning_rate': 0.05, 'max_depth': 40, 'min_child_samples': 3, 'n_estimators': 60}\n",
      "0.885 for {'class_weight': {0: 1, 1: 1.5}, 'colsample_bytree': 0.5, 'learning_rate': 0.1, 'max_depth': 15, 'min_child_samples': 7, 'n_estimators': 60}\n",
      "0.885 for {'class_weight': {0: 1, 1: 1.5}, 'colsample_bytree': 0.5, 'learning_rate': 0.1, 'max_depth': 40, 'min_child_samples': 5, 'n_estimators': 40}\n",
      "0.885 for {'class_weight': {0: 1, 1: 1.5}, 'colsample_bytree': 0.5, 'learning_rate': 0.1, 'max_depth': 15, 'min_child_samples': 5, 'n_estimators': 40}\n",
      "0.885 for {'class_weight': {0: 1, 1: 1.5}, 'colsample_bytree': 0.5, 'learning_rate': 0.1, 'max_depth': None, 'min_child_samples': 5, 'n_estimators': 40}\n",
      "0.885 for {'class_weight': {0: 1, 1: 1.2}, 'colsample_bytree': 0.5, 'learning_rate': 0.01, 'max_depth': None, 'min_child_samples': 11, 'n_estimators': 200}\n",
      "0.885 for {'class_weight': {0: 1, 1: 1.2}, 'colsample_bytree': 1.0, 'learning_rate': 0.05, 'max_depth': None, 'min_child_samples': 5, 'n_estimators': 40}\n",
      "0.885 for {'class_weight': {0: 1, 1: 1}, 'colsample_bytree': 0.5, 'learning_rate': 0.01, 'max_depth': 15, 'min_child_samples': 3, 'n_estimators': 40}\n",
      "0.885 for {'class_weight': {0: 1, 1: 1}, 'colsample_bytree': 0.5, 'learning_rate': 0.01, 'max_depth': 40, 'min_child_samples': 3, 'n_estimators': 40}\n",
      "0.885 for {'class_weight': {0: 1, 1: 1.2}, 'colsample_bytree': 1.0, 'learning_rate': 0.05, 'max_depth': 40, 'min_child_samples': 5, 'n_estimators': 40}\n",
      "0.885 for {'class_weight': {0: 1, 1: 1}, 'colsample_bytree': 0.5, 'learning_rate': 0.01, 'max_depth': None, 'min_child_samples': 3, 'n_estimators': 40}\n",
      "0.885 for {'class_weight': {0: 1, 1: 1.2}, 'colsample_bytree': 0.5, 'learning_rate': 0.01, 'max_depth': 15, 'min_child_samples': 11, 'n_estimators': 200}\n",
      "0.885 for {'class_weight': {0: 1, 1: 1.2}, 'colsample_bytree': 0.5, 'learning_rate': 0.05, 'max_depth': None, 'min_child_samples': 3, 'n_estimators': 60}\n",
      "0.885 for {'class_weight': {0: 1, 1: 1.2}, 'colsample_bytree': 0.5, 'learning_rate': 0.01, 'max_depth': 40, 'min_child_samples': 11, 'n_estimators': 200}\n",
      "0.885 for {'class_weight': {0: 1, 1: 1.2}, 'colsample_bytree': 0.5, 'learning_rate': 0.05, 'max_depth': 15, 'min_child_samples': 11, 'n_estimators': 40}\n",
      "0.885 for {'class_weight': {0: 1, 1: 1}, 'colsample_bytree': 1.0, 'learning_rate': 0.05, 'max_depth': 40, 'min_child_samples': 5, 'n_estimators': 60}\n",
      "0.885 for {'class_weight': {0: 1, 1: 1.2}, 'colsample_bytree': 0.5, 'learning_rate': 0.05, 'max_depth': 15, 'min_child_samples': 3, 'n_estimators': 60}\n",
      "0.885 for {'class_weight': {0: 1, 1: 1}, 'colsample_bytree': 1.0, 'learning_rate': 0.05, 'max_depth': None, 'min_child_samples': 5, 'n_estimators': 60}\n",
      "0.884 for {'class_weight': {0: 1, 1: 1.2}, 'colsample_bytree': 0.5, 'learning_rate': 0.01, 'max_depth': 15, 'min_child_samples': 5, 'n_estimators': 200}\n",
      "0.884 for {'class_weight': {0: 1, 1: 1.2}, 'colsample_bytree': 1.0, 'learning_rate': 0.05, 'max_depth': 15, 'min_child_samples': 5, 'n_estimators': 40}\n",
      "0.884 for {'class_weight': {0: 1, 1: 1.2}, 'colsample_bytree': 0.5, 'learning_rate': 0.05, 'max_depth': None, 'min_child_samples': 11, 'n_estimators': 40}\n",
      "0.884 for {'class_weight': {0: 1, 1: 1.2}, 'colsample_bytree': 0.5, 'learning_rate': 0.05, 'max_depth': 40, 'min_child_samples': 11, 'n_estimators': 40}\n",
      "0.884 for {'class_weight': {0: 1, 1: 1.5}, 'colsample_bytree': 0.5, 'learning_rate': 0.1, 'max_depth': 15, 'min_child_samples': 5, 'n_estimators': 60}\n",
      "0.884 for {'class_weight': {0: 1, 1: 1}, 'colsample_bytree': 1.0, 'learning_rate': 0.05, 'max_depth': 15, 'min_child_samples': 3, 'n_estimators': 60}\n",
      "0.884 for {'class_weight': {0: 1, 1: 1.5}, 'colsample_bytree': 1.0, 'learning_rate': 0.1, 'max_depth': 40, 'min_child_samples': 5, 'n_estimators': 60}\n",
      "0.884 for {'class_weight': {0: 1, 1: 1.2}, 'colsample_bytree': 1.0, 'learning_rate': 0.05, 'max_depth': 40, 'min_child_samples': 5, 'n_estimators': 60}\n",
      "0.884 for {'class_weight': {0: 1, 1: 1.2}, 'colsample_bytree': 1.0, 'learning_rate': 0.05, 'max_depth': None, 'min_child_samples': 5, 'n_estimators': 60}\n",
      "0.884 for {'class_weight': {0: 1, 1: 1.5}, 'colsample_bytree': 1.0, 'learning_rate': 0.1, 'max_depth': None, 'min_child_samples': 5, 'n_estimators': 60}\n",
      "0.884 for {'class_weight': {0: 1, 1: 1.2}, 'colsample_bytree': 0.5, 'learning_rate': 0.01, 'max_depth': 40, 'min_child_samples': 5, 'n_estimators': 200}\n",
      "0.884 for {'class_weight': {0: 1, 1: 1.2}, 'colsample_bytree': 0.5, 'learning_rate': 0.01, 'max_depth': None, 'min_child_samples': 5, 'n_estimators': 200}\n",
      "0.884 for {'class_weight': {0: 1, 1: 1}, 'colsample_bytree': 1.0, 'learning_rate': 0.05, 'max_depth': 40, 'min_child_samples': 3, 'n_estimators': 60}\n",
      "0.884 for {'class_weight': {0: 1, 1: 1}, 'colsample_bytree': 1.0, 'learning_rate': 0.05, 'max_depth': None, 'min_child_samples': 3, 'n_estimators': 60}\n",
      "0.882 for {'class_weight': {0: 1, 1: 1.2}, 'colsample_bytree': 1.0, 'learning_rate': 0.1, 'max_depth': 15, 'min_child_samples': 3, 'n_estimators': 40}\n",
      "0.882 for {'class_weight': {0: 1, 1: 1.2}, 'colsample_bytree': 1.0, 'learning_rate': 0.05, 'max_depth': None, 'min_child_samples': 3, 'n_estimators': 60}\n",
      "0.882 for {'class_weight': {0: 1, 1: 1.2}, 'colsample_bytree': 0.5, 'learning_rate': 0.05, 'max_depth': 15, 'min_child_samples': 7, 'n_estimators': 40}\n",
      "0.882 for {'class_weight': {0: 1, 1: 1.2}, 'colsample_bytree': 0.5, 'learning_rate': 0.05, 'max_depth': 40, 'min_child_samples': 7, 'n_estimators': 40}\n",
      "0.882 for {'class_weight': {0: 1, 1: 1.5}, 'colsample_bytree': 0.5, 'learning_rate': 0.1, 'max_depth': None, 'min_child_samples': 7, 'n_estimators': 60}\n",
      "0.882 for {'class_weight': {0: 1, 1: 1.2}, 'colsample_bytree': 1.0, 'learning_rate': 0.1, 'max_depth': None, 'min_child_samples': 3, 'n_estimators': 40}\n",
      "0.882 for {'class_weight': {0: 1, 1: 1}, 'colsample_bytree': 0.5, 'learning_rate': 0.05, 'max_depth': 40, 'min_child_samples': 3, 'n_estimators': 40}\n",
      "0.882 for {'class_weight': {0: 1, 1: 1.2}, 'colsample_bytree': 1.0, 'learning_rate': 0.1, 'max_depth': 40, 'min_child_samples': 3, 'n_estimators': 40}\n",
      "0.882 for {'class_weight': {0: 1, 1: 1}, 'colsample_bytree': 0.5, 'learning_rate': 0.05, 'max_depth': None, 'min_child_samples': 3, 'n_estimators': 40}\n",
      "0.882 for {'class_weight': {0: 1, 1: 1.2}, 'colsample_bytree': 1.0, 'learning_rate': 0.1, 'max_depth': 15, 'min_child_samples': 7, 'n_estimators': 60}\n",
      "0.882 for {'class_weight': {0: 1, 1: 1.2}, 'colsample_bytree': 1.0, 'learning_rate': 0.05, 'max_depth': 40, 'min_child_samples': 3, 'n_estimators': 60}\n",
      "0.882 for {'class_weight': {0: 1, 1: 1}, 'colsample_bytree': 0.5, 'learning_rate': 0.05, 'max_depth': 15, 'min_child_samples': 3, 'n_estimators': 40}\n",
      "0.882 for {'class_weight': {0: 1, 1: 1.5}, 'colsample_bytree': 1.0, 'learning_rate': 0.05, 'max_depth': 15, 'min_child_samples': 11, 'n_estimators': 200}\n",
      "0.882 for {'class_weight': {0: 1, 1: 1.2}, 'colsample_bytree': 0.5, 'learning_rate': 0.05, 'max_depth': None, 'min_child_samples': 7, 'n_estimators': 40}\n",
      "0.882 for {'class_weight': {0: 1, 1: 1.5}, 'colsample_bytree': 0.5, 'learning_rate': 0.1, 'max_depth': 40, 'min_child_samples': 7, 'n_estimators': 60}\n",
      "0.881 for {'class_weight': {0: 1, 1: 1}, 'colsample_bytree': 1.0, 'learning_rate': 0.05, 'max_depth': 40, 'min_child_samples': 7, 'n_estimators': 60}\n",
      "0.881 for {'class_weight': {0: 1, 1: 1}, 'colsample_bytree': 1.0, 'learning_rate': 0.05, 'max_depth': None, 'min_child_samples': 7, 'n_estimators': 60}\n",
      "0.881 for {'class_weight': {0: 1, 1: 1}, 'colsample_bytree': 1.0, 'learning_rate': 0.1, 'max_depth': 15, 'min_child_samples': 3, 'n_estimators': 200}\n",
      "0.881 for {'class_weight': {0: 1, 1: 1.2}, 'colsample_bytree': 0.5, 'learning_rate': 0.01, 'max_depth': 40, 'min_child_samples': 3, 'n_estimators': 200}\n",
      "0.881 for {'class_weight': {0: 1, 1: 1.2}, 'colsample_bytree': 0.5, 'learning_rate': 0.01, 'max_depth': None, 'min_child_samples': 3, 'n_estimators': 200}\n",
      "0.881 for {'class_weight': {0: 1, 1: 1.2}, 'colsample_bytree': 0.5, 'learning_rate': 0.01, 'max_depth': 15, 'min_child_samples': 3, 'n_estimators': 200}\n",
      "0.881 for {'class_weight': {0: 1, 1: 1.2}, 'colsample_bytree': 0.5, 'learning_rate': 0.05, 'max_depth': None, 'min_child_samples': 11, 'n_estimators': 60}\n",
      "0.881 for {'class_weight': {0: 1, 1: 1}, 'colsample_bytree': 0.5, 'learning_rate': 0.05, 'max_depth': 15, 'min_child_samples': 3, 'n_estimators': 60}\n",
      "0.881 for {'class_weight': {0: 1, 1: 1}, 'colsample_bytree': 1.0, 'learning_rate': 0.05, 'max_depth': None, 'min_child_samples': 5, 'n_estimators': 40}\n",
      "0.881 for {'class_weight': {0: 1, 1: 1}, 'colsample_bytree': 1.0, 'learning_rate': 0.05, 'max_depth': 15, 'min_child_samples': 5, 'n_estimators': 60}\n",
      "0.881 for {'class_weight': {0: 1, 1: 1}, 'colsample_bytree': 1.0, 'learning_rate': 0.05, 'max_depth': 15, 'min_child_samples': 5, 'n_estimators': 40}\n",
      "0.881 for {'class_weight': {0: 1, 1: 1}, 'colsample_bytree': 0.5, 'learning_rate': 0.05, 'max_depth': 40, 'min_child_samples': 3, 'n_estimators': 60}\n",
      "0.881 for {'class_weight': {0: 1, 1: 1}, 'colsample_bytree': 0.5, 'learning_rate': 0.05, 'max_depth': None, 'min_child_samples': 3, 'n_estimators': 60}\n",
      "0.881 for {'class_weight': {0: 1, 1: 1.5}, 'colsample_bytree': 0.5, 'learning_rate': 0.1, 'max_depth': 40, 'min_child_samples': 5, 'n_estimators': 60}\n",
      "0.881 for {'class_weight': {0: 1, 1: 1.5}, 'colsample_bytree': 0.5, 'learning_rate': 0.1, 'max_depth': None, 'min_child_samples': 5, 'n_estimators': 60}\n",
      "0.881 for {'class_weight': {0: 1, 1: 1}, 'colsample_bytree': 1.0, 'learning_rate': 0.05, 'max_depth': 40, 'min_child_samples': 5, 'n_estimators': 40}\n",
      "0.881 for {'class_weight': {0: 1, 1: 1.2}, 'colsample_bytree': 0.5, 'learning_rate': 0.05, 'max_depth': 40, 'min_child_samples': 11, 'n_estimators': 60}\n",
      "0.879 for {'class_weight': {0: 1, 1: 1}, 'colsample_bytree': 0.5, 'learning_rate': 0.1, 'max_depth': 15, 'min_child_samples': 5, 'n_estimators': 40}\n",
      "0.879 for {'class_weight': {0: 1, 1: 1.2}, 'colsample_bytree': 0.5, 'learning_rate': 0.1, 'max_depth': 15, 'min_child_samples': 5, 'n_estimators': 40}\n",
      "0.879 for {'class_weight': {0: 1, 1: 1.2}, 'colsample_bytree': 0.5, 'learning_rate': 0.1, 'max_depth': 40, 'min_child_samples': 5, 'n_estimators': 40}\n",
      "0.879 for {'class_weight': {0: 1, 1: 1.2}, 'colsample_bytree': 0.5, 'learning_rate': 0.1, 'max_depth': None, 'min_child_samples': 5, 'n_estimators': 40}\n",
      "0.879 for {'class_weight': {0: 1, 1: 1}, 'colsample_bytree': 0.5, 'learning_rate': 0.1, 'max_depth': None, 'min_child_samples': 5, 'n_estimators': 40}\n",
      "0.879 for {'class_weight': {0: 1, 1: 1.5}, 'colsample_bytree': 0.5, 'learning_rate': 0.1, 'max_depth': None, 'min_child_samples': 3, 'n_estimators': 40}\n",
      "0.879 for {'class_weight': {0: 1, 1: 1.5}, 'colsample_bytree': 0.5, 'learning_rate': 0.1, 'max_depth': 15, 'min_child_samples': 3, 'n_estimators': 40}\n",
      "0.879 for {'class_weight': {0: 1, 1: 1}, 'colsample_bytree': 0.5, 'learning_rate': 0.1, 'max_depth': 40, 'min_child_samples': 5, 'n_estimators': 40}\n",
      "0.879 for {'class_weight': {0: 1, 1: 1.5}, 'colsample_bytree': 0.5, 'learning_rate': 0.1, 'max_depth': 40, 'min_child_samples': 3, 'n_estimators': 40}\n",
      "0.879 for {'class_weight': {0: 1, 1: 1.2}, 'colsample_bytree': 0.5, 'learning_rate': 0.05, 'max_depth': 40, 'min_child_samples': 7, 'n_estimators': 60}\n",
      "0.879 for {'class_weight': {0: 1, 1: 1.2}, 'colsample_bytree': 0.5, 'learning_rate': 0.05, 'max_depth': None, 'min_child_samples': 7, 'n_estimators': 60}\n",
      "0.879 for {'class_weight': {0: 1, 1: 1.2}, 'colsample_bytree': 0.5, 'learning_rate': 0.05, 'max_depth': None, 'min_child_samples': 5, 'n_estimators': 60}\n",
      "0.879 for {'class_weight': {0: 1, 1: 1.2}, 'colsample_bytree': 0.5, 'learning_rate': 0.05, 'max_depth': 15, 'min_child_samples': 5, 'n_estimators': 60}\n",
      "0.879 for {'class_weight': {0: 1, 1: 1.2}, 'colsample_bytree': 0.5, 'learning_rate': 0.05, 'max_depth': 40, 'min_child_samples': 5, 'n_estimators': 60}\n",
      "0.878 for {'class_weight': {0: 1, 1: 1.5}, 'colsample_bytree': 0.5, 'learning_rate': 0.05, 'max_depth': 40, 'min_child_samples': 11, 'n_estimators': 200}\n",
      "0.878 for {'class_weight': {0: 1, 1: 1.5}, 'colsample_bytree': 0.5, 'learning_rate': 0.1, 'max_depth': 15, 'min_child_samples': 3, 'n_estimators': 60}\n",
      "0.878 for {'class_weight': {0: 1, 1: 1.5}, 'colsample_bytree': 1.0, 'learning_rate': 0.1, 'max_depth': 15, 'min_child_samples': 5, 'n_estimators': 60}\n",
      "0.878 for {'class_weight': {0: 1, 1: 1.5}, 'colsample_bytree': 0.5, 'learning_rate': 0.05, 'max_depth': 40, 'min_child_samples': 7, 'n_estimators': 200}\n",
      "0.878 for {'class_weight': {0: 1, 1: 1.5}, 'colsample_bytree': 1.0, 'learning_rate': 0.1, 'max_depth': 15, 'min_child_samples': 3, 'n_estimators': 60}\n",
      "0.878 for {'class_weight': {0: 1, 1: 1.5}, 'colsample_bytree': 0.5, 'learning_rate': 0.05, 'max_depth': None, 'min_child_samples': 7, 'n_estimators': 200}\n",
      "0.878 for {'class_weight': {0: 1, 1: 1.2}, 'colsample_bytree': 1.0, 'learning_rate': 0.1, 'max_depth': None, 'min_child_samples': 7, 'n_estimators': 60}\n",
      "0.878 for {'class_weight': {0: 1, 1: 1.2}, 'colsample_bytree': 1.0, 'learning_rate': 0.1, 'max_depth': 40, 'min_child_samples': 7, 'n_estimators': 60}\n",
      "0.878 for {'class_weight': {0: 1, 1: 1.5}, 'colsample_bytree': 0.5, 'learning_rate': 0.05, 'max_depth': None, 'min_child_samples': 11, 'n_estimators': 200}\n",
      "0.878 for {'class_weight': {0: 1, 1: 1.2}, 'colsample_bytree': 0.5, 'learning_rate': 0.05, 'max_depth': 15, 'min_child_samples': 7, 'n_estimators': 60}\n",
      "0.876 for {'class_weight': {0: 1, 1: 1}, 'colsample_bytree': 0.5, 'learning_rate': 0.01, 'max_depth': 15, 'min_child_samples': 11, 'n_estimators': 200}\n",
      "0.876 for {'class_weight': {0: 1, 1: 1}, 'colsample_bytree': 0.5, 'learning_rate': 0.05, 'max_depth': None, 'min_child_samples': 7, 'n_estimators': 40}\n",
      "0.876 for {'class_weight': {0: 1, 1: 1}, 'colsample_bytree': 0.5, 'learning_rate': 0.01, 'max_depth': 40, 'min_child_samples': 7, 'n_estimators': 200}\n",
      "0.876 for {'class_weight': {0: 1, 1: 1.2}, 'colsample_bytree': 0.5, 'learning_rate': 0.1, 'max_depth': None, 'min_child_samples': 7, 'n_estimators': 40}\n",
      "0.876 for {'class_weight': {0: 1, 1: 1}, 'colsample_bytree': 0.5, 'learning_rate': 0.01, 'max_depth': 40, 'min_child_samples': 5, 'n_estimators': 200}\n",
      "0.876 for {'class_weight': {0: 1, 1: 1}, 'colsample_bytree': 0.5, 'learning_rate': 0.01, 'max_depth': 40, 'min_child_samples': 3, 'n_estimators': 60}\n",
      "0.876 for {'class_weight': {0: 1, 1: 1}, 'colsample_bytree': 0.5, 'learning_rate': 0.05, 'max_depth': None, 'min_child_samples': 11, 'n_estimators': 40}\n",
      "0.876 for {'class_weight': {0: 1, 1: 1}, 'colsample_bytree': 0.5, 'learning_rate': 0.01, 'max_depth': 15, 'min_child_samples': 3, 'n_estimators': 60}\n",
      "0.876 for {'class_weight': {0: 1, 1: 1}, 'colsample_bytree': 1.0, 'learning_rate': 0.05, 'max_depth': 15, 'min_child_samples': 7, 'n_estimators': 60}\n",
      "0.876 for {'class_weight': {0: 1, 1: 1}, 'colsample_bytree': 0.5, 'learning_rate': 0.05, 'max_depth': 40, 'min_child_samples': 7, 'n_estimators': 60}\n",
      "0.876 for {'class_weight': {0: 1, 1: 1}, 'colsample_bytree': 0.5, 'learning_rate': 0.05, 'max_depth': 40, 'min_child_samples': 7, 'n_estimators': 40}\n",
      "0.876 for {'class_weight': {0: 1, 1: 1}, 'colsample_bytree': 0.5, 'learning_rate': 0.01, 'max_depth': 40, 'min_child_samples': 11, 'n_estimators': 200}\n",
      "0.876 for {'class_weight': {0: 1, 1: 1.2}, 'colsample_bytree': 0.5, 'learning_rate': 0.1, 'max_depth': 40, 'min_child_samples': 7, 'n_estimators': 40}\n",
      "0.876 for {'class_weight': {0: 1, 1: 1}, 'colsample_bytree': 0.5, 'learning_rate': 0.05, 'max_depth': None, 'min_child_samples': 7, 'n_estimators': 60}\n",
      "0.876 for {'class_weight': {0: 1, 1: 1}, 'colsample_bytree': 0.5, 'learning_rate': 0.05, 'max_depth': 40, 'min_child_samples': 11, 'n_estimators': 40}\n",
      "0.876 for {'class_weight': {0: 1, 1: 1}, 'colsample_bytree': 1.0, 'learning_rate': 0.01, 'max_depth': 40, 'min_child_samples': 7, 'n_estimators': 200}\n",
      "0.876 for {'class_weight': {0: 1, 1: 1.2}, 'colsample_bytree': 0.5, 'learning_rate': 0.1, 'max_depth': 15, 'min_child_samples': 7, 'n_estimators': 40}\n",
      "0.876 for {'class_weight': {0: 1, 1: 1}, 'colsample_bytree': 1.0, 'learning_rate': 0.01, 'max_depth': None, 'min_child_samples': 7, 'n_estimators': 200}\n",
      "0.876 for {'class_weight': {0: 1, 1: 1}, 'colsample_bytree': 0.5, 'learning_rate': 0.01, 'max_depth': None, 'min_child_samples': 3, 'n_estimators': 60}\n",
      "0.876 for {'class_weight': {0: 1, 1: 1}, 'colsample_bytree': 0.5, 'learning_rate': 0.01, 'max_depth': None, 'min_child_samples': 11, 'n_estimators': 200}\n",
      "0.876 for {'class_weight': {0: 1, 1: 1}, 'colsample_bytree': 1.0, 'learning_rate': 0.01, 'max_depth': 15, 'min_child_samples': 5, 'n_estimators': 200}\n",
      "0.876 for {'class_weight': {0: 1, 1: 1}, 'colsample_bytree': 0.5, 'learning_rate': 0.01, 'max_depth': None, 'min_child_samples': 7, 'n_estimators': 200}\n",
      "0.876 for {'class_weight': {0: 1, 1: 1}, 'colsample_bytree': 0.5, 'learning_rate': 0.01, 'max_depth': None, 'min_child_samples': 5, 'n_estimators': 200}\n",
      "0.876 for {'class_weight': {0: 1, 1: 1}, 'colsample_bytree': 0.5, 'learning_rate': 0.05, 'max_depth': 15, 'min_child_samples': 11, 'n_estimators': 40}\n",
      "0.876 for {'class_weight': {0: 1, 1: 1}, 'colsample_bytree': 0.5, 'learning_rate': 0.05, 'max_depth': 15, 'min_child_samples': 7, 'n_estimators': 60}\n",
      "0.876 for {'class_weight': {0: 1, 1: 1}, 'colsample_bytree': 0.5, 'learning_rate': 0.05, 'max_depth': 15, 'min_child_samples': 7, 'n_estimators': 40}\n",
      "0.876 for {'class_weight': {0: 1, 1: 1.5}, 'colsample_bytree': 1.0, 'learning_rate': 0.05, 'max_depth': 15, 'min_child_samples': 5, 'n_estimators': 200}\n",
      "0.875 for {'class_weight': {0: 1, 1: 1}, 'colsample_bytree': 1.0, 'learning_rate': 0.05, 'max_depth': 15, 'min_child_samples': 7, 'n_estimators': 40}\n",
      "0.875 for {'class_weight': {0: 1, 1: 1}, 'colsample_bytree': 1.0, 'learning_rate': 0.05, 'max_depth': 40, 'min_child_samples': 11, 'n_estimators': 60}\n",
      "0.875 for {'class_weight': {0: 1, 1: 1}, 'colsample_bytree': 1.0, 'learning_rate': 0.05, 'max_depth': 15, 'min_child_samples': 11, 'n_estimators': 60}\n",
      "0.875 for {'class_weight': {0: 1, 1: 1.2}, 'colsample_bytree': 0.5, 'learning_rate': 0.1, 'max_depth': 15, 'min_child_samples': 3, 'n_estimators': 60}\n",
      "0.875 for {'class_weight': {0: 1, 1: 1}, 'colsample_bytree': 1.0, 'learning_rate': 0.05, 'max_depth': 40, 'min_child_samples': 11, 'n_estimators': 40}\n",
      "0.875 for {'class_weight': {0: 1, 1: 1}, 'colsample_bytree': 0.5, 'learning_rate': 0.1, 'max_depth': 40, 'min_child_samples': 3, 'n_estimators': 40}\n",
      "0.875 for {'class_weight': {0: 1, 1: 1}, 'colsample_bytree': 1.0, 'learning_rate': 0.05, 'max_depth': 40, 'min_child_samples': 3, 'n_estimators': 40}\n",
      "0.875 for {'class_weight': {0: 1, 1: 1}, 'colsample_bytree': 1.0, 'learning_rate': 0.05, 'max_depth': 40, 'min_child_samples': 7, 'n_estimators': 40}\n",
      "0.875 for {'class_weight': {0: 1, 1: 1.5}, 'colsample_bytree': 1.0, 'learning_rate': 0.05, 'max_depth': 40, 'min_child_samples': 5, 'n_estimators': 200}\n",
      "0.875 for {'class_weight': {0: 1, 1: 1}, 'colsample_bytree': 1.0, 'learning_rate': 0.05, 'max_depth': 15, 'min_child_samples': 3, 'n_estimators': 40}\n",
      "0.875 for {'class_weight': {0: 1, 1: 1}, 'colsample_bytree': 1.0, 'learning_rate': 0.05, 'max_depth': 15, 'min_child_samples': 11, 'n_estimators': 40}\n",
      "0.875 for {'class_weight': {0: 1, 1: 1.2}, 'colsample_bytree': 0.5, 'learning_rate': 0.1, 'max_depth': None, 'min_child_samples': 3, 'n_estimators': 60}\n",
      "0.875 for {'class_weight': {0: 1, 1: 1.2}, 'colsample_bytree': 1.0, 'learning_rate': 0.1, 'max_depth': 15, 'min_child_samples': 3, 'n_estimators': 60}\n",
      "0.875 for {'class_weight': {0: 1, 1: 1}, 'colsample_bytree': 0.5, 'learning_rate': 0.01, 'max_depth': 15, 'min_child_samples': 7, 'n_estimators': 200}\n",
      "0.875 for {'class_weight': {0: 1, 1: 1.5}, 'colsample_bytree': 1.0, 'learning_rate': 0.05, 'max_depth': None, 'min_child_samples': 5, 'n_estimators': 200}\n",
      "0.875 for {'class_weight': {0: 1, 1: 1}, 'colsample_bytree': 1.0, 'learning_rate': 0.01, 'max_depth': None, 'min_child_samples': 3, 'n_estimators': 200}\n",
      "0.875 for {'class_weight': {0: 1, 1: 1}, 'colsample_bytree': 1.0, 'learning_rate': 0.05, 'max_depth': None, 'min_child_samples': 11, 'n_estimators': 60}\n",
      "0.875 for {'class_weight': {0: 1, 1: 1}, 'colsample_bytree': 0.5, 'learning_rate': 0.01, 'max_depth': None, 'min_child_samples': 5, 'n_estimators': 60}\n",
      "0.875 for {'class_weight': {0: 1, 1: 1}, 'colsample_bytree': 0.5, 'learning_rate': 0.1, 'max_depth': None, 'min_child_samples': 3, 'n_estimators': 40}\n",
      "0.875 for {'class_weight': {0: 1, 1: 1}, 'colsample_bytree': 0.5, 'learning_rate': 0.01, 'max_depth': 15, 'min_child_samples': 5, 'n_estimators': 60}\n",
      "0.875 for {'class_weight': {0: 1, 1: 1}, 'colsample_bytree': 1.0, 'learning_rate': 0.05, 'max_depth': None, 'min_child_samples': 7, 'n_estimators': 40}\n",
      "0.875 for {'class_weight': {0: 1, 1: 1}, 'colsample_bytree': 1.0, 'learning_rate': 0.05, 'max_depth': None, 'min_child_samples': 11, 'n_estimators': 40}\n",
      "0.875 for {'class_weight': {0: 1, 1: 1}, 'colsample_bytree': 1.0, 'learning_rate': 0.01, 'max_depth': 15, 'min_child_samples': 7, 'n_estimators': 200}\n",
      "0.875 for {'class_weight': {0: 1, 1: 1}, 'colsample_bytree': 0.5, 'learning_rate': 0.01, 'max_depth': 40, 'min_child_samples': 5, 'n_estimators': 60}\n",
      "0.875 for {'class_weight': {0: 1, 1: 1}, 'colsample_bytree': 0.5, 'learning_rate': 0.1, 'max_depth': 15, 'min_child_samples': 3, 'n_estimators': 40}\n",
      "0.875 for {'class_weight': {0: 1, 1: 1}, 'colsample_bytree': 0.5, 'learning_rate': 0.01, 'max_depth': 15, 'min_child_samples': 5, 'n_estimators': 200}\n",
      "0.875 for {'class_weight': {0: 1, 1: 1}, 'colsample_bytree': 1.0, 'learning_rate': 0.05, 'max_depth': None, 'min_child_samples': 3, 'n_estimators': 40}\n",
      "0.875 for {'class_weight': {0: 1, 1: 1}, 'colsample_bytree': 1.0, 'learning_rate': 0.01, 'max_depth': 40, 'min_child_samples': 3, 'n_estimators': 200}\n",
      "0.875 for {'class_weight': {0: 1, 1: 1.2}, 'colsample_bytree': 0.5, 'learning_rate': 0.1, 'max_depth': 40, 'min_child_samples': 3, 'n_estimators': 60}\n",
      "0.874 for {'class_weight': {0: 1, 1: 1.2}, 'colsample_bytree': 0.5, 'learning_rate': 0.1, 'max_depth': 15, 'min_child_samples': 11, 'n_estimators': 60}\n",
      "0.874 for {'class_weight': {0: 1, 1: 1}, 'colsample_bytree': 0.5, 'learning_rate': 0.01, 'max_depth': 40, 'min_child_samples': 5, 'n_estimators': 40}\n",
      "0.874 for {'class_weight': {0: 1, 1: 1.2}, 'colsample_bytree': 0.5, 'learning_rate': 0.1, 'max_depth': 40, 'min_child_samples': 11, 'n_estimators': 40}\n",
      "0.874 for {'class_weight': {0: 1, 1: 1}, 'colsample_bytree': 0.5, 'learning_rate': 0.01, 'max_depth': 40, 'min_child_samples': 11, 'n_estimators': 60}\n",
      "0.874 for {'class_weight': {0: 1, 1: 1.5}, 'colsample_bytree': 0.5, 'learning_rate': 0.1, 'max_depth': 40, 'min_child_samples': 3, 'n_estimators': 60}\n",
      "0.874 for {'class_weight': {0: 1, 1: 1}, 'colsample_bytree': 0.5, 'learning_rate': 0.01, 'max_depth': None, 'min_child_samples': 11, 'n_estimators': 60}\n",
      "0.874 for {'class_weight': {0: 1, 1: 1}, 'colsample_bytree': 0.5, 'learning_rate': 0.01, 'max_depth': 15, 'min_child_samples': 5, 'n_estimators': 40}\n",
      "0.874 for {'class_weight': {0: 1, 1: 1}, 'colsample_bytree': 1.0, 'learning_rate': 0.1, 'max_depth': None, 'min_child_samples': 11, 'n_estimators': 60}\n",
      "0.874 for {'class_weight': {0: 1, 1: 1.5}, 'colsample_bytree': 0.5, 'learning_rate': 0.1, 'max_depth': None, 'min_child_samples': 3, 'n_estimators': 60}\n",
      "0.874 for {'class_weight': {0: 1, 1: 1}, 'colsample_bytree': 1.0, 'learning_rate': 0.01, 'max_depth': 40, 'min_child_samples': 5, 'n_estimators': 200}\n",
      "0.874 for {'class_weight': {0: 1, 1: 1}, 'colsample_bytree': 1.0, 'learning_rate': 0.1, 'max_depth': 40, 'min_child_samples': 11, 'n_estimators': 60}\n",
      "0.874 for {'class_weight': {0: 1, 1: 1}, 'colsample_bytree': 1.0, 'learning_rate': 0.01, 'max_depth': None, 'min_child_samples': 5, 'n_estimators': 200}\n",
      "0.874 for {'class_weight': {0: 1, 1: 1}, 'colsample_bytree': 1.0, 'learning_rate': 0.01, 'max_depth': 15, 'min_child_samples': 3, 'n_estimators': 200}\n",
      "0.874 for {'class_weight': {0: 1, 1: 1.2}, 'colsample_bytree': 0.5, 'learning_rate': 0.1, 'max_depth': 15, 'min_child_samples': 5, 'n_estimators': 60}\n",
      "0.874 for {'class_weight': {0: 1, 1: 1.5}, 'colsample_bytree': 0.5, 'learning_rate': 0.05, 'max_depth': 15, 'min_child_samples': 11, 'n_estimators': 200}\n",
      "0.874 for {'class_weight': {0: 1, 1: 1.2}, 'colsample_bytree': 0.5, 'learning_rate': 0.1, 'max_depth': None, 'min_child_samples': 11, 'n_estimators': 40}\n",
      "0.874 for {'class_weight': {0: 1, 1: 1.2}, 'colsample_bytree': 0.5, 'learning_rate': 0.1, 'max_depth': 15, 'min_child_samples': 11, 'n_estimators': 40}\n",
      "0.874 for {'class_weight': {0: 1, 1: 1}, 'colsample_bytree': 0.5, 'learning_rate': 0.01, 'max_depth': None, 'min_child_samples': 5, 'n_estimators': 40}\n",
      "0.874 for {'class_weight': {0: 1, 1: 1}, 'colsample_bytree': 0.5, 'learning_rate': 0.1, 'max_depth': 15, 'min_child_samples': 11, 'n_estimators': 40}\n",
      "0.874 for {'class_weight': {0: 1, 1: 1}, 'colsample_bytree': 0.5, 'learning_rate': 0.01, 'max_depth': 15, 'min_child_samples': 11, 'n_estimators': 60}\n",
      "0.872 for {'class_weight': {0: 1, 1: 1}, 'colsample_bytree': 0.5, 'learning_rate': 0.05, 'max_depth': 15, 'min_child_samples': 5, 'n_estimators': 40}\n",
      "0.872 for {'class_weight': {0: 1, 1: 1.2}, 'colsample_bytree': 0.5, 'learning_rate': 0.1, 'max_depth': None, 'min_child_samples': 7, 'n_estimators': 60}\n",
      "0.872 for {'class_weight': {0: 1, 1: 1}, 'colsample_bytree': 0.5, 'learning_rate': 0.01, 'max_depth': 40, 'min_child_samples': 7, 'n_estimators': 40}\n",
      "0.872 for {'class_weight': {0: 1, 1: 1}, 'colsample_bytree': 0.5, 'learning_rate': 0.05, 'max_depth': 40, 'min_child_samples': 5, 'n_estimators': 40}\n",
      "0.872 for {'class_weight': {0: 1, 1: 1}, 'colsample_bytree': 0.5, 'learning_rate': 0.01, 'max_depth': None, 'min_child_samples': 3, 'n_estimators': 200}\n",
      "0.872 for {'class_weight': {0: 1, 1: 1}, 'colsample_bytree': 1.0, 'learning_rate': 0.1, 'max_depth': 40, 'min_child_samples': 7, 'n_estimators': 60}\n",
      "0.872 for {'class_weight': {0: 1, 1: 1}, 'colsample_bytree': 0.5, 'learning_rate': 0.05, 'max_depth': 40, 'min_child_samples': 11, 'n_estimators': 60}\n",
      "0.872 for {'class_weight': {0: 1, 1: 1}, 'colsample_bytree': 0.5, 'learning_rate': 0.01, 'max_depth': 40, 'min_child_samples': 3, 'n_estimators': 200}\n",
      "0.872 for {'class_weight': {0: 1, 1: 1.2}, 'colsample_bytree': 0.5, 'learning_rate': 0.1, 'max_depth': 40, 'min_child_samples': 7, 'n_estimators': 60}\n",
      "0.872 for {'class_weight': {0: 1, 1: 1}, 'colsample_bytree': 0.5, 'learning_rate': 0.01, 'max_depth': 15, 'min_child_samples': 7, 'n_estimators': 40}\n",
      "0.872 for {'class_weight': {0: 1, 1: 1}, 'colsample_bytree': 1.0, 'learning_rate': 0.1, 'max_depth': None, 'min_child_samples': 7, 'n_estimators': 60}\n",
      "0.872 for {'class_weight': {0: 1, 1: 1}, 'colsample_bytree': 0.5, 'learning_rate': 0.01, 'max_depth': None, 'min_child_samples': 7, 'n_estimators': 40}\n",
      "0.872 for {'class_weight': {0: 1, 1: 1}, 'colsample_bytree': 0.5, 'learning_rate': 0.01, 'max_depth': 15, 'min_child_samples': 3, 'n_estimators': 200}\n",
      "0.872 for {'class_weight': {0: 1, 1: 1}, 'colsample_bytree': 0.5, 'learning_rate': 0.05, 'max_depth': None, 'min_child_samples': 5, 'n_estimators': 40}\n",
      "0.872 for {'class_weight': {0: 1, 1: 1}, 'colsample_bytree': 0.5, 'learning_rate': 0.05, 'max_depth': None, 'min_child_samples': 11, 'n_estimators': 60}\n",
      "0.872 for {'class_weight': {0: 1, 1: 1.2}, 'colsample_bytree': 1.0, 'learning_rate': 0.05, 'max_depth': 15, 'min_child_samples': 11, 'n_estimators': 200}\n",
      "0.871 for {'class_weight': {0: 1, 1: 1}, 'colsample_bytree': 1.0, 'learning_rate': 0.1, 'max_depth': 15, 'min_child_samples': 5, 'n_estimators': 40}\n",
      "0.871 for {'class_weight': {0: 1, 1: 1}, 'colsample_bytree': 0.5, 'learning_rate': 0.01, 'max_depth': None, 'min_child_samples': 11, 'n_estimators': 40}\n",
      "0.871 for {'class_weight': {0: 1, 1: 1}, 'colsample_bytree': 0.5, 'learning_rate': 0.05, 'max_depth': 15, 'min_child_samples': 5, 'n_estimators': 60}\n",
      "0.871 for {'class_weight': {0: 1, 1: 1}, 'colsample_bytree': 0.5, 'learning_rate': 0.01, 'max_depth': 40, 'min_child_samples': 11, 'n_estimators': 40}\n",
      "0.871 for {'class_weight': {0: 1, 1: 1}, 'colsample_bytree': 0.5, 'learning_rate': 0.05, 'max_depth': 40, 'min_child_samples': 5, 'n_estimators': 60}\n",
      "0.871 for {'class_weight': {0: 1, 1: 1}, 'colsample_bytree': 0.5, 'learning_rate': 0.05, 'max_depth': 15, 'min_child_samples': 11, 'n_estimators': 60}\n",
      "0.871 for {'class_weight': {0: 1, 1: 1}, 'colsample_bytree': 0.5, 'learning_rate': 0.05, 'max_depth': None, 'min_child_samples': 5, 'n_estimators': 60}\n",
      "0.871 for {'class_weight': {0: 1, 1: 1}, 'colsample_bytree': 0.5, 'learning_rate': 0.01, 'max_depth': 40, 'min_child_samples': 7, 'n_estimators': 60}\n",
      "0.871 for {'class_weight': {0: 1, 1: 1}, 'colsample_bytree': 0.5, 'learning_rate': 0.01, 'max_depth': None, 'min_child_samples': 7, 'n_estimators': 60}\n",
      "0.871 for {'class_weight': {0: 1, 1: 1}, 'colsample_bytree': 0.5, 'learning_rate': 0.01, 'max_depth': 15, 'min_child_samples': 7, 'n_estimators': 60}\n",
      "0.871 for {'class_weight': {0: 1, 1: 1}, 'colsample_bytree': 0.5, 'learning_rate': 0.01, 'max_depth': 15, 'min_child_samples': 11, 'n_estimators': 40}\n",
      "0.871 for {'class_weight': {0: 1, 1: 1.2}, 'colsample_bytree': 1.0, 'learning_rate': 0.05, 'max_depth': 15, 'min_child_samples': 7, 'n_estimators': 200}\n",
      "0.869 for {'class_weight': {0: 1, 1: 1}, 'colsample_bytree': 0.5, 'learning_rate': 0.1, 'max_depth': 40, 'min_child_samples': 11, 'n_estimators': 40}\n",
      "0.869 for {'class_weight': {0: 1, 1: 1}, 'colsample_bytree': 1.0, 'learning_rate': 0.1, 'max_depth': 15, 'min_child_samples': 7, 'n_estimators': 40}\n",
      "0.869 for {'class_weight': {0: 1, 1: 1}, 'colsample_bytree': 1.0, 'learning_rate': 0.1, 'max_depth': 40, 'min_child_samples': 3, 'n_estimators': 40}\n",
      "0.869 for {'class_weight': {0: 1, 1: 1.2}, 'colsample_bytree': 1.0, 'learning_rate': 0.05, 'max_depth': 40, 'min_child_samples': 11, 'n_estimators': 200}\n",
      "0.869 for {'class_weight': {0: 1, 1: 1}, 'colsample_bytree': 1.0, 'learning_rate': 0.1, 'max_depth': 15, 'min_child_samples': 3, 'n_estimators': 40}\n",
      "0.869 for {'class_weight': {0: 1, 1: 1.2}, 'colsample_bytree': 0.5, 'learning_rate': 0.1, 'max_depth': 15, 'min_child_samples': 7, 'n_estimators': 60}\n",
      "0.869 for {'class_weight': {0: 1, 1: 1}, 'colsample_bytree': 1.0, 'learning_rate': 0.1, 'max_depth': 15, 'min_child_samples': 11, 'n_estimators': 60}\n",
      "0.869 for {'class_weight': {0: 1, 1: 1}, 'colsample_bytree': 1.0, 'learning_rate': 0.1, 'max_depth': None, 'min_child_samples': 3, 'n_estimators': 40}\n",
      "0.869 for {'class_weight': {0: 1, 1: 1}, 'colsample_bytree': 1.0, 'learning_rate': 0.1, 'max_depth': None, 'min_child_samples': 7, 'n_estimators': 40}\n",
      "0.869 for {'class_weight': {0: 1, 1: 1}, 'colsample_bytree': 1.0, 'learning_rate': 0.1, 'max_depth': 40, 'min_child_samples': 7, 'n_estimators': 40}\n",
      "0.869 for {'class_weight': {0: 1, 1: 1}, 'colsample_bytree': 1.0, 'learning_rate': 0.1, 'max_depth': 15, 'min_child_samples': 7, 'n_estimators': 60}\n",
      "0.869 for {'class_weight': {0: 1, 1: 1}, 'colsample_bytree': 0.5, 'learning_rate': 0.1, 'max_depth': None, 'min_child_samples': 11, 'n_estimators': 40}\n",
      "0.869 for {'class_weight': {0: 1, 1: 1.2}, 'colsample_bytree': 1.0, 'learning_rate': 0.05, 'max_depth': None, 'min_child_samples': 11, 'n_estimators': 200}\n",
      "0.868 for {'class_weight': {0: 1, 1: 1}, 'colsample_bytree': 0.5, 'learning_rate': 0.1, 'max_depth': None, 'min_child_samples': 11, 'n_estimators': 60}\n",
      "0.868 for {'class_weight': {0: 1, 1: 1.5}, 'colsample_bytree': 1.0, 'learning_rate': 0.05, 'max_depth': 15, 'min_child_samples': 3, 'n_estimators': 200}\n",
      "0.868 for {'class_weight': {0: 1, 1: 1.5}, 'colsample_bytree': 1.0, 'learning_rate': 1.0, 'max_depth': 40, 'min_child_samples': 3, 'n_estimators': 200}\n",
      "0.868 for {'class_weight': {0: 1, 1: 1}, 'colsample_bytree': 0.5, 'learning_rate': 0.1, 'max_depth': 40, 'min_child_samples': 11, 'n_estimators': 60}\n",
      "0.866 for {'class_weight': {0: 1, 1: 1}, 'colsample_bytree': 1.0, 'learning_rate': 0.01, 'max_depth': None, 'min_child_samples': 11, 'n_estimators': 200}\n",
      "0.866 for {'class_weight': {0: 1, 1: 1}, 'colsample_bytree': 1.0, 'learning_rate': 0.1, 'max_depth': 40, 'min_child_samples': 5, 'n_estimators': 40}\n",
      "0.866 for {'class_weight': {0: 1, 1: 1.2}, 'colsample_bytree': 0.5, 'learning_rate': 0.1, 'max_depth': None, 'min_child_samples': 11, 'n_estimators': 60}\n",
      "0.866 for {'class_weight': {0: 1, 1: 1}, 'colsample_bytree': 1.0, 'learning_rate': 0.1, 'max_depth': None, 'min_child_samples': 5, 'n_estimators': 40}\n",
      "0.866 for {'class_weight': {0: 1, 1: 1.2}, 'colsample_bytree': 0.5, 'learning_rate': 0.05, 'max_depth': 15, 'min_child_samples': 7, 'n_estimators': 200}\n",
      "0.866 for {'class_weight': {0: 1, 1: 1}, 'colsample_bytree': 1.0, 'learning_rate': 0.01, 'max_depth': 40, 'min_child_samples': 11, 'n_estimators': 200}\n",
      "0.866 for {'class_weight': {0: 1, 1: 1}, 'colsample_bytree': 1.0, 'learning_rate': 0.01, 'max_depth': 15, 'min_child_samples': 11, 'n_estimators': 200}\n",
      "0.866 for {'class_weight': {0: 1, 1: 1.2}, 'colsample_bytree': 0.5, 'learning_rate': 0.1, 'max_depth': 40, 'min_child_samples': 11, 'n_estimators': 60}\n",
      "0.866 for {'class_weight': {0: 1, 1: 1}, 'colsample_bytree': 1.0, 'learning_rate': 0.05, 'max_depth': 15, 'min_child_samples': 3, 'n_estimators': 200}\n",
      "0.865 for {'class_weight': {0: 1, 1: 1}, 'colsample_bytree': 1.0, 'learning_rate': 0.05, 'max_depth': 40, 'min_child_samples': 7, 'n_estimators': 200}\n",
      "0.865 for {'class_weight': {0: 1, 1: 1}, 'colsample_bytree': 1.0, 'learning_rate': 0.05, 'max_depth': None, 'min_child_samples': 7, 'n_estimators': 200}\n",
      "0.865 for {'class_weight': {0: 1, 1: 1.5}, 'colsample_bytree': 1.0, 'learning_rate': 0.05, 'max_depth': 40, 'min_child_samples': 11, 'n_estimators': 200}\n",
      "0.865 for {'class_weight': {0: 1, 1: 1.5}, 'colsample_bytree': 0.5, 'learning_rate': 0.05, 'max_depth': 15, 'min_child_samples': 3, 'n_estimators': 200}\n",
      "0.865 for {'class_weight': {0: 1, 1: 1.5}, 'colsample_bytree': 0.5, 'learning_rate': 0.05, 'max_depth': None, 'min_child_samples': 3, 'n_estimators': 200}\n",
      "0.865 for {'class_weight': {0: 1, 1: 1.5}, 'colsample_bytree': 1.0, 'learning_rate': 0.05, 'max_depth': None, 'min_child_samples': 11, 'n_estimators': 200}\n",
      "0.865 for {'class_weight': {0: 1, 1: 1.2}, 'colsample_bytree': 1.0, 'learning_rate': 0.1, 'max_depth': 40, 'min_child_samples': 5, 'n_estimators': 60}\n",
      "0.865 for {'class_weight': {0: 1, 1: 1}, 'colsample_bytree': 0.5, 'learning_rate': 0.1, 'max_depth': None, 'min_child_samples': 3, 'n_estimators': 60}\n",
      "0.865 for {'class_weight': {0: 1, 1: 1.2}, 'colsample_bytree': 0.5, 'learning_rate': 0.05, 'max_depth': 15, 'min_child_samples': 11, 'n_estimators': 200}\n",
      "0.865 for {'class_weight': {0: 1, 1: 1}, 'colsample_bytree': 0.5, 'learning_rate': 0.1, 'max_depth': 40, 'min_child_samples': 3, 'n_estimators': 60}\n",
      "0.865 for {'class_weight': {0: 1, 1: 1.5}, 'colsample_bytree': 0.5, 'learning_rate': 0.1, 'max_depth': 40, 'min_child_samples': 11, 'n_estimators': 200}\n",
      "0.865 for {'class_weight': {0: 1, 1: 1.2}, 'colsample_bytree': 1.0, 'learning_rate': 0.1, 'max_depth': None, 'min_child_samples': 5, 'n_estimators': 60}\n",
      "0.865 for {'class_weight': {0: 1, 1: 1.5}, 'colsample_bytree': 0.5, 'learning_rate': 0.05, 'max_depth': 40, 'min_child_samples': 3, 'n_estimators': 200}\n",
      "0.865 for {'class_weight': {0: 1, 1: 1.5}, 'colsample_bytree': 0.5, 'learning_rate': 0.1, 'max_depth': None, 'min_child_samples': 11, 'n_estimators': 200}\n",
      "0.864 for {'class_weight': {0: 1, 1: 1.2}, 'colsample_bytree': 1.0, 'learning_rate': 0.1, 'max_depth': None, 'min_child_samples': 3, 'n_estimators': 60}\n",
      "0.864 for {'class_weight': {0: 1, 1: 1}, 'colsample_bytree': 1.0, 'learning_rate': 0.01, 'max_depth': None, 'min_child_samples': 7, 'n_estimators': 40}\n",
      "0.864 for {'class_weight': {0: 1, 1: 1}, 'colsample_bytree': 1.0, 'learning_rate': 0.01, 'max_depth': 40, 'min_child_samples': 11, 'n_estimators': 60}\n",
      "0.864 for {'class_weight': {0: 1, 1: 1.2}, 'colsample_bytree': 1.0, 'learning_rate': 0.1, 'max_depth': 15, 'min_child_samples': 3, 'n_estimators': 200}\n",
      "0.864 for {'class_weight': {0: 1, 1: 1}, 'colsample_bytree': 1.0, 'learning_rate': 0.01, 'max_depth': None, 'min_child_samples': 11, 'n_estimators': 60}\n",
      "0.864 for {'class_weight': {0: 1, 1: 1.5}, 'colsample_bytree': 0.5, 'learning_rate': 0.05, 'max_depth': None, 'min_child_samples': 5, 'n_estimators': 200}\n",
      "0.864 for {'class_weight': {0: 1, 1: 1.2}, 'colsample_bytree': 1.0, 'learning_rate': 0.05, 'max_depth': None, 'min_child_samples': 5, 'n_estimators': 200}\n",
      "0.864 for {'class_weight': {0: 1, 1: 1.2}, 'colsample_bytree': 1.0, 'learning_rate': 0.1, 'max_depth': 40, 'min_child_samples': 3, 'n_estimators': 60}\n",
      "0.864 for {'class_weight': {0: 1, 1: 1.2}, 'colsample_bytree': 1.0, 'learning_rate': 0.1, 'max_depth': 40, 'min_child_samples': 7, 'n_estimators': 200}\n",
      "0.864 for {'class_weight': {0: 1, 1: 1.2}, 'colsample_bytree': 1.0, 'learning_rate': 0.05, 'max_depth': 40, 'min_child_samples': 5, 'n_estimators': 200}\n",
      "0.864 for {'class_weight': {0: 1, 1: 1}, 'colsample_bytree': 0.5, 'learning_rate': 0.1, 'max_depth': 15, 'min_child_samples': 11, 'n_estimators': 60}\n",
      "0.864 for {'class_weight': {0: 1, 1: 1}, 'colsample_bytree': 1.0, 'learning_rate': 0.1, 'max_depth': 15, 'min_child_samples': 3, 'n_estimators': 60}\n",
      "0.864 for {'class_weight': {0: 1, 1: 1}, 'colsample_bytree': 1.0, 'learning_rate': 0.1, 'max_depth': 15, 'min_child_samples': 5, 'n_estimators': 60}\n",
      "0.864 for {'class_weight': {0: 1, 1: 1}, 'colsample_bytree': 1.0, 'learning_rate': 0.01, 'max_depth': 15, 'min_child_samples': 7, 'n_estimators': 40}\n",
      "0.864 for {'class_weight': {0: 1, 1: 1}, 'colsample_bytree': 1.0, 'learning_rate': 0.01, 'max_depth': 15, 'min_child_samples': 11, 'n_estimators': 60}\n",
      "0.864 for {'class_weight': {0: 1, 1: 1.2}, 'colsample_bytree': 1.0, 'learning_rate': 0.1, 'max_depth': None, 'min_child_samples': 7, 'n_estimators': 200}\n",
      "0.864 for {'class_weight': {0: 1, 1: 1.5}, 'colsample_bytree': 0.5, 'learning_rate': 0.05, 'max_depth': 40, 'min_child_samples': 5, 'n_estimators': 200}\n",
      "0.864 for {'class_weight': {0: 1, 1: 1}, 'colsample_bytree': 1.0, 'learning_rate': 0.01, 'max_depth': 40, 'min_child_samples': 7, 'n_estimators': 40}\n",
      "0.864 for {'class_weight': {0: 1, 1: 1.5}, 'colsample_bytree': 1.0, 'learning_rate': 0.05, 'max_depth': 15, 'min_child_samples': 7, 'n_estimators': 200}\n",
      "0.864 for {'class_weight': {0: 1, 1: 1}, 'colsample_bytree': 0.5, 'learning_rate': 0.1, 'max_depth': 15, 'min_child_samples': 3, 'n_estimators': 60}\n",
      "0.862 for {'class_weight': {0: 1, 1: 1}, 'colsample_bytree': 1.0, 'learning_rate': 0.01, 'max_depth': 40, 'min_child_samples': 7, 'n_estimators': 60}\n",
      "0.862 for {'class_weight': {0: 1, 1: 1.2}, 'colsample_bytree': 0.5, 'learning_rate': 0.1, 'max_depth': None, 'min_child_samples': 5, 'n_estimators': 60}\n",
      "0.862 for {'class_weight': {0: 1, 1: 1}, 'colsample_bytree': 1.0, 'learning_rate': 0.01, 'max_depth': 15, 'min_child_samples': 7, 'n_estimators': 60}\n",
      "0.862 for {'class_weight': {0: 1, 1: 1}, 'colsample_bytree': 1.0, 'learning_rate': 0.01, 'max_depth': 15, 'min_child_samples': 5, 'n_estimators': 40}\n",
      "0.862 for {'class_weight': {0: 1, 1: 1}, 'colsample_bytree': 1.0, 'learning_rate': 0.1, 'max_depth': None, 'min_child_samples': 3, 'n_estimators': 60}\n",
      "0.862 for {'class_weight': {0: 1, 1: 1}, 'colsample_bytree': 1.0, 'learning_rate': 0.1, 'max_depth': 40, 'min_child_samples': 3, 'n_estimators': 60}\n",
      "0.862 for {'class_weight': {0: 1, 1: 1.2}, 'colsample_bytree': 0.5, 'learning_rate': 0.1, 'max_depth': 40, 'min_child_samples': 5, 'n_estimators': 60}\n",
      "0.862 for {'class_weight': {0: 1, 1: 1}, 'colsample_bytree': 1.0, 'learning_rate': 0.01, 'max_depth': None, 'min_child_samples': 7, 'n_estimators': 60}\n",
      "0.862 for {'class_weight': {0: 1, 1: 1}, 'colsample_bytree': 1.0, 'learning_rate': 0.01, 'max_depth': 40, 'min_child_samples': 5, 'n_estimators': 40}\n",
      "0.862 for {'class_weight': {0: 1, 1: 1.2}, 'colsample_bytree': 1.0, 'learning_rate': 0.1, 'max_depth': 15, 'min_child_samples': 11, 'n_estimators': 60}\n",
      "0.862 for {'class_weight': {0: 1, 1: 1}, 'colsample_bytree': 1.0, 'learning_rate': 0.01, 'max_depth': None, 'min_child_samples': 5, 'n_estimators': 40}\n",
      "0.862 for {'class_weight': {0: 1, 1: 1}, 'colsample_bytree': 0.5, 'learning_rate': 1.0, 'max_depth': 15, 'min_child_samples': 7, 'n_estimators': 200}\n",
      "0.861 for {'class_weight': {0: 1, 1: 1.2}, 'colsample_bytree': 1.0, 'learning_rate': 0.05, 'max_depth': None, 'min_child_samples': 3, 'n_estimators': 200}\n",
      "0.861 for {'class_weight': {0: 1, 1: 1.5}, 'colsample_bytree': 1.0, 'learning_rate': 0.05, 'max_depth': None, 'min_child_samples': 7, 'n_estimators': 200}\n",
      "0.861 for {'class_weight': {0: 1, 1: 1}, 'colsample_bytree': 1.0, 'learning_rate': 0.01, 'max_depth': 15, 'min_child_samples': 11, 'n_estimators': 40}\n",
      "0.861 for {'class_weight': {0: 1, 1: 1.2}, 'colsample_bytree': 1.0, 'learning_rate': 0.05, 'max_depth': 40, 'min_child_samples': 3, 'n_estimators': 200}\n",
      "0.861 for {'class_weight': {0: 1, 1: 1}, 'colsample_bytree': 0.5, 'learning_rate': 1.0, 'max_depth': 15, 'min_child_samples': 7, 'n_estimators': 40}\n",
      "0.861 for {'class_weight': {0: 1, 1: 1}, 'colsample_bytree': 0.5, 'learning_rate': 0.1, 'max_depth': 40, 'min_child_samples': 7, 'n_estimators': 40}\n",
      "0.861 for {'class_weight': {0: 1, 1: 1}, 'colsample_bytree': 0.5, 'learning_rate': 0.1, 'max_depth': None, 'min_child_samples': 7, 'n_estimators': 40}\n",
      "0.861 for {'class_weight': {0: 1, 1: 1}, 'colsample_bytree': 0.5, 'learning_rate': 0.1, 'max_depth': None, 'min_child_samples': 5, 'n_estimators': 60}\n",
      "0.861 for {'class_weight': {0: 1, 1: 1}, 'colsample_bytree': 0.5, 'learning_rate': 0.1, 'max_depth': 15, 'min_child_samples': 7, 'n_estimators': 40}\n",
      "0.861 for {'class_weight': {0: 1, 1: 1}, 'colsample_bytree': 1.0, 'learning_rate': 0.01, 'max_depth': 40, 'min_child_samples': 11, 'n_estimators': 40}\n",
      "0.861 for {'class_weight': {0: 1, 1: 1}, 'colsample_bytree': 0.5, 'learning_rate': 1.0, 'max_depth': 40, 'min_child_samples': 7, 'n_estimators': 40}\n",
      "0.861 for {'class_weight': {0: 1, 1: 1}, 'colsample_bytree': 1.0, 'learning_rate': 0.01, 'max_depth': 15, 'min_child_samples': 5, 'n_estimators': 60}\n",
      "0.861 for {'class_weight': {0: 1, 1: 1.5}, 'colsample_bytree': 1.0, 'learning_rate': 0.05, 'max_depth': 40, 'min_child_samples': 7, 'n_estimators': 200}\n",
      "0.861 for {'class_weight': {0: 1, 1: 1}, 'colsample_bytree': 0.5, 'learning_rate': 0.1, 'max_depth': 40, 'min_child_samples': 5, 'n_estimators': 60}\n",
      "0.861 for {'class_weight': {0: 1, 1: 1}, 'colsample_bytree': 1.0, 'learning_rate': 0.01, 'max_depth': 15, 'min_child_samples': 3, 'n_estimators': 60}\n",
      "0.861 for {'class_weight': {0: 1, 1: 1}, 'colsample_bytree': 1.0, 'learning_rate': 0.01, 'max_depth': None, 'min_child_samples': 3, 'n_estimators': 60}\n",
      "0.861 for {'class_weight': {0: 1, 1: 1}, 'colsample_bytree': 1.0, 'learning_rate': 0.01, 'max_depth': None, 'min_child_samples': 5, 'n_estimators': 60}\n",
      "0.861 for {'class_weight': {0: 1, 1: 1}, 'colsample_bytree': 0.5, 'learning_rate': 1.0, 'max_depth': None, 'min_child_samples': 7, 'n_estimators': 40}\n",
      "0.861 for {'class_weight': {0: 1, 1: 1}, 'colsample_bytree': 1.0, 'learning_rate': 0.01, 'max_depth': 40, 'min_child_samples': 3, 'n_estimators': 60}\n",
      "0.861 for {'class_weight': {0: 1, 1: 1}, 'colsample_bytree': 1.0, 'learning_rate': 0.01, 'max_depth': None, 'min_child_samples': 11, 'n_estimators': 40}\n",
      "0.861 for {'class_weight': {0: 1, 1: 1}, 'colsample_bytree': 1.0, 'learning_rate': 0.01, 'max_depth': 40, 'min_child_samples': 5, 'n_estimators': 60}\n",
      "0.859 for {'class_weight': {0: 1, 1: 1}, 'colsample_bytree': 1.0, 'learning_rate': 0.01, 'max_depth': 40, 'min_child_samples': 3, 'n_estimators': 40}\n",
      "0.859 for {'class_weight': {0: 1, 1: 1}, 'colsample_bytree': 1.0, 'learning_rate': 0.01, 'max_depth': 15, 'min_child_samples': 3, 'n_estimators': 40}\n",
      "0.859 for {'class_weight': {0: 1, 1: 1.2}, 'colsample_bytree': 0.5, 'learning_rate': 0.05, 'max_depth': 15, 'min_child_samples': 5, 'n_estimators': 200}\n",
      "0.859 for {'class_weight': {0: 1, 1: 1}, 'colsample_bytree': 0.5, 'learning_rate': 0.1, 'max_depth': 15, 'min_child_samples': 7, 'n_estimators': 200}\n",
      "0.859 for {'class_weight': {0: 1, 1: 1}, 'colsample_bytree': 1.0, 'learning_rate': 0.01, 'max_depth': None, 'min_child_samples': 3, 'n_estimators': 40}\n",
      "0.859 for {'class_weight': {0: 1, 1: 1}, 'colsample_bytree': 0.5, 'learning_rate': 0.1, 'max_depth': 15, 'min_child_samples': 3, 'n_estimators': 200}\n",
      "0.858 for {'class_weight': {0: 1, 1: 1}, 'colsample_bytree': 0.5, 'learning_rate': 1.0, 'max_depth': None, 'min_child_samples': 7, 'n_estimators': 60}\n",
      "0.858 for {'class_weight': {0: 1, 1: 1}, 'colsample_bytree': 0.5, 'learning_rate': 1.0, 'max_depth': 40, 'min_child_samples': 7, 'n_estimators': 60}\n",
      "0.858 for {'class_weight': {0: 1, 1: 1}, 'colsample_bytree': 0.5, 'learning_rate': 1.0, 'max_depth': 15, 'min_child_samples': 7, 'n_estimators': 60}\n",
      "0.857 for {'class_weight': {0: 1, 1: 1.5}, 'colsample_bytree': 0.5, 'learning_rate': 0.05, 'max_depth': 15, 'min_child_samples': 5, 'n_estimators': 200}\n",
      "0.857 for {'class_weight': {0: 1, 1: 1.2}, 'colsample_bytree': 0.5, 'learning_rate': 0.05, 'max_depth': 40, 'min_child_samples': 11, 'n_estimators': 200}\n",
      "0.857 for {'class_weight': {0: 1, 1: 1.5}, 'colsample_bytree': 1.0, 'learning_rate': 0.05, 'max_depth': None, 'min_child_samples': 3, 'n_estimators': 200}\n",
      "0.857 for {'class_weight': {0: 1, 1: 1.2}, 'colsample_bytree': 0.5, 'learning_rate': 0.05, 'max_depth': None, 'min_child_samples': 11, 'n_estimators': 200}\n",
      "0.857 for {'class_weight': {0: 1, 1: 1.2}, 'colsample_bytree': 0.5, 'learning_rate': 0.05, 'max_depth': None, 'min_child_samples': 3, 'n_estimators': 200}\n",
      "0.857 for {'class_weight': {0: 1, 1: 1.2}, 'colsample_bytree': 0.5, 'learning_rate': 0.05, 'max_depth': 40, 'min_child_samples': 3, 'n_estimators': 200}\n",
      "0.857 for {'class_weight': {0: 1, 1: 1.5}, 'colsample_bytree': 1.0, 'learning_rate': 0.05, 'max_depth': 40, 'min_child_samples': 3, 'n_estimators': 200}\n",
      "0.857 for {'class_weight': {0: 1, 1: 1}, 'colsample_bytree': 1.0, 'learning_rate': 0.05, 'max_depth': 15, 'min_child_samples': 7, 'n_estimators': 200}\n",
      "0.857 for {'class_weight': {0: 1, 1: 1}, 'colsample_bytree': 0.5, 'learning_rate': 0.1, 'max_depth': 15, 'min_child_samples': 5, 'n_estimators': 60}\n",
      "0.855 for {'class_weight': {0: 1, 1: 1}, 'colsample_bytree': 0.5, 'learning_rate': 0.05, 'max_depth': 40, 'min_child_samples': 5, 'n_estimators': 200}\n",
      "0.855 for {'class_weight': {0: 1, 1: 1.2}, 'colsample_bytree': 1.0, 'learning_rate': 0.1, 'max_depth': 40, 'min_child_samples': 3, 'n_estimators': 200}\n",
      "0.855 for {'class_weight': {0: 1, 1: 1.2}, 'colsample_bytree': 1.0, 'learning_rate': 0.1, 'max_depth': None, 'min_child_samples': 3, 'n_estimators': 200}\n",
      "0.855 for {'class_weight': {0: 1, 1: 1}, 'colsample_bytree': 1.0, 'learning_rate': 0.05, 'max_depth': 15, 'min_child_samples': 5, 'n_estimators': 200}\n",
      "0.855 for {'class_weight': {0: 1, 1: 1}, 'colsample_bytree': 1.0, 'learning_rate': 0.05, 'max_depth': None, 'min_child_samples': 3, 'n_estimators': 200}\n",
      "0.855 for {'class_weight': {0: 1, 1: 1}, 'colsample_bytree': 1.0, 'learning_rate': 0.05, 'max_depth': 40, 'min_child_samples': 3, 'n_estimators': 200}\n",
      "0.855 for {'class_weight': {0: 1, 1: 1.5}, 'colsample_bytree': 1.0, 'learning_rate': 0.1, 'max_depth': 15, 'min_child_samples': 7, 'n_estimators': 200}\n",
      "0.855 for {'class_weight': {0: 1, 1: 1.2}, 'colsample_bytree': 0.5, 'learning_rate': 0.05, 'max_depth': 40, 'min_child_samples': 5, 'n_estimators': 200}\n",
      "0.855 for {'class_weight': {0: 1, 1: 1}, 'colsample_bytree': 0.5, 'learning_rate': 0.1, 'max_depth': 15, 'min_child_samples': 7, 'n_estimators': 60}\n",
      "0.855 for {'class_weight': {0: 1, 1: 1}, 'colsample_bytree': 0.5, 'learning_rate': 0.05, 'max_depth': None, 'min_child_samples': 5, 'n_estimators': 200}\n",
      "0.855 for {'class_weight': {0: 1, 1: 1.2}, 'colsample_bytree': 0.5, 'learning_rate': 0.05, 'max_depth': None, 'min_child_samples': 5, 'n_estimators': 200}\n",
      "0.854 for {'class_weight': {0: 1, 1: 1.2}, 'colsample_bytree': 0.5, 'learning_rate': 0.05, 'max_depth': 40, 'min_child_samples': 7, 'n_estimators': 200}\n",
      "0.854 for {'class_weight': {0: 1, 1: 1.2}, 'colsample_bytree': 0.5, 'learning_rate': 0.05, 'max_depth': None, 'min_child_samples': 7, 'n_estimators': 200}\n",
      "0.852 for {'class_weight': {0: 1, 1: 1}, 'colsample_bytree': 0.5, 'learning_rate': 0.05, 'max_depth': 40, 'min_child_samples': 11, 'n_estimators': 200}\n",
      "0.852 for {'class_weight': {0: 1, 1: 1}, 'colsample_bytree': 0.5, 'learning_rate': 0.05, 'max_depth': None, 'min_child_samples': 11, 'n_estimators': 200}\n",
      "0.852 for {'class_weight': {0: 1, 1: 1}, 'colsample_bytree': 0.5, 'learning_rate': 0.1, 'max_depth': None, 'min_child_samples': 7, 'n_estimators': 60}\n",
      "0.852 for {'class_weight': {0: 1, 1: 1}, 'colsample_bytree': 0.5, 'learning_rate': 0.1, 'max_depth': 40, 'min_child_samples': 7, 'n_estimators': 60}\n",
      "0.851 for {'class_weight': {0: 1, 1: 1}, 'colsample_bytree': 0.5, 'learning_rate': 0.05, 'max_depth': 40, 'min_child_samples': 3, 'n_estimators': 200}\n",
      "0.851 for {'class_weight': {0: 1, 1: 1}, 'colsample_bytree': 0.5, 'learning_rate': 0.05, 'max_depth': 15, 'min_child_samples': 7, 'n_estimators': 200}\n",
      "0.851 for {'class_weight': {0: 1, 1: 1}, 'colsample_bytree': 0.5, 'learning_rate': 0.05, 'max_depth': 15, 'min_child_samples': 5, 'n_estimators': 200}\n",
      "0.851 for {'class_weight': {0: 1, 1: 1}, 'colsample_bytree': 0.5, 'learning_rate': 0.05, 'max_depth': 40, 'min_child_samples': 7, 'n_estimators': 200}\n",
      "0.851 for {'class_weight': {0: 1, 1: 1}, 'colsample_bytree': 0.5, 'learning_rate': 0.05, 'max_depth': None, 'min_child_samples': 7, 'n_estimators': 200}\n",
      "0.851 for {'class_weight': {0: 1, 1: 1}, 'colsample_bytree': 0.5, 'learning_rate': 0.05, 'max_depth': None, 'min_child_samples': 3, 'n_estimators': 200}\n",
      "0.851 for {'class_weight': {0: 1, 1: 1.2}, 'colsample_bytree': 1.0, 'learning_rate': 0.05, 'max_depth': 15, 'min_child_samples': 3, 'n_estimators': 200}\n",
      "0.849 for {'class_weight': {0: 1, 1: 1.5}, 'colsample_bytree': 0.5, 'learning_rate': 0.1, 'max_depth': None, 'min_child_samples': 7, 'n_estimators': 200}\n",
      "0.849 for {'class_weight': {0: 1, 1: 1.5}, 'colsample_bytree': 0.5, 'learning_rate': 0.1, 'max_depth': 40, 'min_child_samples': 7, 'n_estimators': 200}\n",
      "0.849 for {'class_weight': {0: 1, 1: 1.5}, 'colsample_bytree': 0.5, 'learning_rate': 0.1, 'max_depth': None, 'min_child_samples': 5, 'n_estimators': 200}\n",
      "0.849 for {'class_weight': {0: 1, 1: 1.5}, 'colsample_bytree': 0.5, 'learning_rate': 0.1, 'max_depth': 40, 'min_child_samples': 5, 'n_estimators': 200}\n",
      "0.848 for {'class_weight': {0: 1, 1: 1}, 'colsample_bytree': 1.0, 'learning_rate': 0.05, 'max_depth': 15, 'min_child_samples': 11, 'n_estimators': 200}\n",
      "0.847 for {'class_weight': {0: 1, 1: 1.5}, 'colsample_bytree': 1.0, 'learning_rate': 0.1, 'max_depth': 40, 'min_child_samples': 11, 'n_estimators': 200}\n",
      "0.847 for {'class_weight': {0: 1, 1: 1.5}, 'colsample_bytree': 1.0, 'learning_rate': 1.0, 'max_depth': 40, 'min_child_samples': 3, 'n_estimators': 40}\n",
      "0.847 for {'class_weight': {0: 1, 1: 1}, 'colsample_bytree': 1.0, 'learning_rate': 0.1, 'max_depth': None, 'min_child_samples': 7, 'n_estimators': 200}\n",
      "0.847 for {'class_weight': {0: 1, 1: 1.5}, 'colsample_bytree': 1.0, 'learning_rate': 1.0, 'max_depth': None, 'min_child_samples': 3, 'n_estimators': 40}\n",
      "0.847 for {'class_weight': {0: 1, 1: 1}, 'colsample_bytree': 0.5, 'learning_rate': 0.05, 'max_depth': 15, 'min_child_samples': 11, 'n_estimators': 200}\n",
      "0.847 for {'class_weight': {0: 1, 1: 1.5}, 'colsample_bytree': 1.0, 'learning_rate': 0.1, 'max_depth': None, 'min_child_samples': 11, 'n_estimators': 200}\n",
      "0.847 for {'class_weight': {0: 1, 1: 1}, 'colsample_bytree': 1.0, 'learning_rate': 0.1, 'max_depth': 40, 'min_child_samples': 7, 'n_estimators': 200}\n",
      "0.845 for {'class_weight': {0: 1, 1: 1}, 'colsample_bytree': 1.0, 'learning_rate': 0.1, 'max_depth': 40, 'min_child_samples': 5, 'n_estimators': 60}\n",
      "0.845 for {'class_weight': {0: 1, 1: 1}, 'colsample_bytree': 0.5, 'learning_rate': 0.05, 'max_depth': 15, 'min_child_samples': 3, 'n_estimators': 200}\n",
      "0.845 for {'class_weight': {0: 1, 1: 1}, 'colsample_bytree': 1.0, 'learning_rate': 0.1, 'max_depth': None, 'min_child_samples': 5, 'n_estimators': 60}\n",
      "0.845 for {'class_weight': {0: 1, 1: 1.2}, 'colsample_bytree': 1.0, 'learning_rate': 0.1, 'max_depth': 15, 'min_child_samples': 7, 'n_estimators': 200}\n",
      "0.844 for {'class_weight': {0: 1, 1: 1.2}, 'colsample_bytree': 0.5, 'learning_rate': 1.0, 'max_depth': 15, 'min_child_samples': 7, 'n_estimators': 40}\n",
      "0.842 for {'class_weight': {0: 1, 1: 1.2}, 'colsample_bytree': 1.0, 'learning_rate': 0.05, 'max_depth': 15, 'min_child_samples': 5, 'n_estimators': 200}\n",
      "0.842 for {'class_weight': {0: 1, 1: 1.2}, 'colsample_bytree': 1.0, 'learning_rate': 0.1, 'max_depth': 15, 'min_child_samples': 5, 'n_estimators': 200}\n",
      "0.842 for {'class_weight': {0: 1, 1: 1.2}, 'colsample_bytree': 0.5, 'learning_rate': 0.1, 'max_depth': 15, 'min_child_samples': 7, 'n_estimators': 200}\n",
      "0.841 for {'class_weight': {0: 1, 1: 1}, 'colsample_bytree': 0.5, 'learning_rate': 0.1, 'max_depth': None, 'min_child_samples': 7, 'n_estimators': 200}\n",
      "0.841 for {'class_weight': {0: 1, 1: 1.5}, 'colsample_bytree': 1.0, 'learning_rate': 0.1, 'max_depth': None, 'min_child_samples': 3, 'n_estimators': 200}\n",
      "0.841 for {'class_weight': {0: 1, 1: 1.2}, 'colsample_bytree': 0.5, 'learning_rate': 0.1, 'max_depth': 15, 'min_child_samples': 3, 'n_estimators': 200}\n",
      "0.841 for {'class_weight': {0: 1, 1: 1.5}, 'colsample_bytree': 1.0, 'learning_rate': 0.1, 'max_depth': 40, 'min_child_samples': 7, 'n_estimators': 200}\n",
      "0.841 for {'class_weight': {0: 1, 1: 1.5}, 'colsample_bytree': 1.0, 'learning_rate': 0.1, 'max_depth': 15, 'min_child_samples': 11, 'n_estimators': 200}\n",
      "0.841 for {'class_weight': {0: 1, 1: 1}, 'colsample_bytree': 0.5, 'learning_rate': 0.1, 'max_depth': 40, 'min_child_samples': 7, 'n_estimators': 200}\n",
      "0.841 for {'class_weight': {0: 1, 1: 1.5}, 'colsample_bytree': 1.0, 'learning_rate': 0.1, 'max_depth': None, 'min_child_samples': 7, 'n_estimators': 200}\n",
      "0.841 for {'class_weight': {0: 1, 1: 1.5}, 'colsample_bytree': 1.0, 'learning_rate': 0.1, 'max_depth': 40, 'min_child_samples': 3, 'n_estimators': 200}\n",
      "0.839 for {'class_weight': {0: 1, 1: 1.5}, 'colsample_bytree': 0.5, 'learning_rate': 0.1, 'max_depth': 15, 'min_child_samples': 11, 'n_estimators': 200}\n",
      "0.838 for {'class_weight': {0: 1, 1: 1.2}, 'colsample_bytree': 0.5, 'learning_rate': 0.1, 'max_depth': None, 'min_child_samples': 5, 'n_estimators': 200}\n",
      "0.838 for {'class_weight': {0: 1, 1: 1.2}, 'colsample_bytree': 1.0, 'learning_rate': 0.05, 'max_depth': 40, 'min_child_samples': 7, 'n_estimators': 200}\n",
      "0.838 for {'class_weight': {0: 1, 1: 1.2}, 'colsample_bytree': 0.5, 'learning_rate': 0.1, 'max_depth': 40, 'min_child_samples': 11, 'n_estimators': 200}\n",
      "0.838 for {'class_weight': {0: 1, 1: 1.2}, 'colsample_bytree': 1.0, 'learning_rate': 0.05, 'max_depth': None, 'min_child_samples': 7, 'n_estimators': 200}\n",
      "0.838 for {'class_weight': {0: 1, 1: 1.2}, 'colsample_bytree': 0.5, 'learning_rate': 0.1, 'max_depth': None, 'min_child_samples': 11, 'n_estimators': 200}\n",
      "0.838 for {'class_weight': {0: 1, 1: 1.2}, 'colsample_bytree': 0.5, 'learning_rate': 0.1, 'max_depth': 40, 'min_child_samples': 5, 'n_estimators': 200}\n",
      "0.837 for {'class_weight': {0: 1, 1: 1}, 'colsample_bytree': 1.0, 'learning_rate': 0.05, 'max_depth': None, 'min_child_samples': 11, 'n_estimators': 200}\n",
      "0.837 for {'class_weight': {0: 1, 1: 1}, 'colsample_bytree': 1.0, 'learning_rate': 0.05, 'max_depth': 40, 'min_child_samples': 11, 'n_estimators': 200}\n",
      "0.835 for {'class_weight': {0: 1, 1: 1}, 'colsample_bytree': 0.5, 'learning_rate': 1.0, 'max_depth': None, 'min_child_samples': 7, 'n_estimators': 200}\n",
      "0.835 for {'class_weight': {0: 1, 1: 1.2}, 'colsample_bytree': 1.0, 'learning_rate': 1.0, 'max_depth': None, 'min_child_samples': 3, 'n_estimators': 40}\n",
      "0.835 for {'class_weight': {0: 1, 1: 1}, 'colsample_bytree': 0.5, 'learning_rate': 1.0, 'max_depth': 40, 'min_child_samples': 7, 'n_estimators': 200}\n",
      "0.835 for {'class_weight': {0: 1, 1: 1.2}, 'colsample_bytree': 1.0, 'learning_rate': 1.0, 'max_depth': 40, 'min_child_samples': 3, 'n_estimators': 40}\n",
      "0.834 for {'class_weight': {0: 1, 1: 1.2}, 'colsample_bytree': 0.5, 'learning_rate': 0.05, 'max_depth': 15, 'min_child_samples': 3, 'n_estimators': 200}\n",
      "0.832 for {'class_weight': {0: 1, 1: 1}, 'colsample_bytree': 1.0, 'learning_rate': 0.1, 'max_depth': 40, 'min_child_samples': 3, 'n_estimators': 200}\n",
      "0.832 for {'class_weight': {0: 1, 1: 1}, 'colsample_bytree': 1.0, 'learning_rate': 0.1, 'max_depth': None, 'min_child_samples': 3, 'n_estimators': 200}\n",
      "0.832 for {'class_weight': {0: 1, 1: 1.5}, 'colsample_bytree': 1.0, 'learning_rate': 0.1, 'max_depth': 15, 'min_child_samples': 5, 'n_estimators': 200}\n",
      "0.831 for {'class_weight': {0: 1, 1: 1}, 'colsample_bytree': 1.0, 'learning_rate': 1.0, 'max_depth': 15, 'min_child_samples': 3, 'n_estimators': 40}\n",
      "0.831 for {'class_weight': {0: 1, 1: 1}, 'colsample_bytree': 0.5, 'learning_rate': 0.1, 'max_depth': 15, 'min_child_samples': 11, 'n_estimators': 200}\n",
      "0.831 for {'class_weight': {0: 1, 1: 1.2}, 'colsample_bytree': 0.5, 'learning_rate': 0.1, 'max_depth': None, 'min_child_samples': 3, 'n_estimators': 200}\n",
      "0.831 for {'class_weight': {0: 1, 1: 1}, 'colsample_bytree': 0.5, 'learning_rate': 0.1, 'max_depth': None, 'min_child_samples': 3, 'n_estimators': 200}\n",
      "0.831 for {'class_weight': {0: 1, 1: 1.2}, 'colsample_bytree': 1.0, 'learning_rate': 1.0, 'max_depth': None, 'min_child_samples': 3, 'n_estimators': 60}\n",
      "0.831 for {'class_weight': {0: 1, 1: 1.2}, 'colsample_bytree': 0.5, 'learning_rate': 0.1, 'max_depth': 40, 'min_child_samples': 3, 'n_estimators': 200}\n",
      "0.831 for {'class_weight': {0: 1, 1: 1.2}, 'colsample_bytree': 1.0, 'learning_rate': 1.0, 'max_depth': 40, 'min_child_samples': 3, 'n_estimators': 60}\n",
      "0.831 for {'class_weight': {0: 1, 1: 1}, 'colsample_bytree': 1.0, 'learning_rate': 0.1, 'max_depth': 15, 'min_child_samples': 7, 'n_estimators': 200}\n",
      "0.831 for {'class_weight': {0: 1, 1: 1.2}, 'colsample_bytree': 0.5, 'learning_rate': 0.1, 'max_depth': 15, 'min_child_samples': 11, 'n_estimators': 200}\n",
      "0.831 for {'class_weight': {0: 1, 1: 1}, 'colsample_bytree': 0.5, 'learning_rate': 0.1, 'max_depth': 40, 'min_child_samples': 3, 'n_estimators': 200}\n",
      "0.830 for {'class_weight': {0: 1, 1: 1.2}, 'colsample_bytree': 0.5, 'learning_rate': 0.1, 'max_depth': 40, 'min_child_samples': 7, 'n_estimators': 200}\n",
      "0.830 for {'class_weight': {0: 1, 1: 1}, 'colsample_bytree': 1.0, 'learning_rate': 1.0, 'max_depth': 15, 'min_child_samples': 3, 'n_estimators': 60}\n",
      "0.830 for {'class_weight': {0: 1, 1: 1.2}, 'colsample_bytree': 0.5, 'learning_rate': 0.1, 'max_depth': None, 'min_child_samples': 7, 'n_estimators': 200}\n",
      "0.828 for {'class_weight': {0: 1, 1: 1.2}, 'colsample_bytree': 0.5, 'learning_rate': 0.1, 'max_depth': 15, 'min_child_samples': 5, 'n_estimators': 200}\n",
      "0.828 for {'class_weight': {0: 1, 1: 1.5}, 'colsample_bytree': 0.5, 'learning_rate': 0.1, 'max_depth': 15, 'min_child_samples': 5, 'n_estimators': 200}\n",
      "0.828 for {'class_weight': {0: 1, 1: 1.2}, 'colsample_bytree': 1.0, 'learning_rate': 0.1, 'max_depth': 40, 'min_child_samples': 11, 'n_estimators': 200}\n",
      "0.828 for {'class_weight': {0: 1, 1: 1.2}, 'colsample_bytree': 1.0, 'learning_rate': 0.1, 'max_depth': None, 'min_child_samples': 11, 'n_estimators': 200}\n",
      "0.828 for {'class_weight': {0: 1, 1: 1.5}, 'colsample_bytree': 0.5, 'learning_rate': 0.1, 'max_depth': 15, 'min_child_samples': 7, 'n_estimators': 200}\n",
      "0.827 for {'class_weight': {0: 1, 1: 1.2}, 'colsample_bytree': 1.0, 'learning_rate': 0.1, 'max_depth': 15, 'min_child_samples': 11, 'n_estimators': 200}\n",
      "0.827 for {'class_weight': {0: 1, 1: 1}, 'colsample_bytree': 1.0, 'learning_rate': 0.05, 'max_depth': None, 'min_child_samples': 5, 'n_estimators': 200}\n",
      "0.827 for {'class_weight': {0: 1, 1: 1.5}, 'colsample_bytree': 1.0, 'learning_rate': 0.1, 'max_depth': 40, 'min_child_samples': 5, 'n_estimators': 200}\n",
      "0.827 for {'class_weight': {0: 1, 1: 1.5}, 'colsample_bytree': 1.0, 'learning_rate': 0.1, 'max_depth': None, 'min_child_samples': 5, 'n_estimators': 200}\n",
      "0.827 for {'class_weight': {0: 1, 1: 1.5}, 'colsample_bytree': 1.0, 'learning_rate': 0.1, 'max_depth': 15, 'min_child_samples': 3, 'n_estimators': 200}\n",
      "0.827 for {'class_weight': {0: 1, 1: 1}, 'colsample_bytree': 1.0, 'learning_rate': 0.1, 'max_depth': 40, 'min_child_samples': 11, 'n_estimators': 200}\n",
      "0.827 for {'class_weight': {0: 1, 1: 1}, 'colsample_bytree': 1.0, 'learning_rate': 0.1, 'max_depth': None, 'min_child_samples': 11, 'n_estimators': 200}\n",
      "0.827 for {'class_weight': {0: 1, 1: 1}, 'colsample_bytree': 1.0, 'learning_rate': 0.05, 'max_depth': 40, 'min_child_samples': 5, 'n_estimators': 200}\n",
      "0.824 for {'class_weight': {0: 1, 1: 1}, 'colsample_bytree': 1.0, 'learning_rate': 0.1, 'max_depth': 15, 'min_child_samples': 11, 'n_estimators': 200}\n",
      "0.824 for {'class_weight': {0: 1, 1: 1}, 'colsample_bytree': 0.5, 'learning_rate': 0.1, 'max_depth': None, 'min_child_samples': 11, 'n_estimators': 200}\n",
      "0.824 for {'class_weight': {0: 1, 1: 1}, 'colsample_bytree': 0.5, 'learning_rate': 0.1, 'max_depth': 40, 'min_child_samples': 11, 'n_estimators': 200}\n",
      "0.818 for {'class_weight': {0: 1, 1: 1}, 'colsample_bytree': 1.0, 'learning_rate': 0.1, 'max_depth': 40, 'min_child_samples': 5, 'n_estimators': 200}\n",
      "0.818 for {'class_weight': {0: 1, 1: 1}, 'colsample_bytree': 1.0, 'learning_rate': 0.1, 'max_depth': None, 'min_child_samples': 5, 'n_estimators': 200}\n",
      "0.815 for {'class_weight': {0: 1, 1: 1}, 'colsample_bytree': 0.5, 'learning_rate': 0.1, 'max_depth': 15, 'min_child_samples': 5, 'n_estimators': 200}\n",
      "0.815 for {'class_weight': {0: 1, 1: 1.2}, 'colsample_bytree': 1.0, 'learning_rate': 1.0, 'max_depth': 15, 'min_child_samples': 7, 'n_estimators': 200}\n",
      "0.807 for {'class_weight': {0: 1, 1: 1.5}, 'colsample_bytree': 0.5, 'learning_rate': 0.1, 'max_depth': None, 'min_child_samples': 3, 'n_estimators': 200}\n",
      "0.807 for {'class_weight': {0: 1, 1: 1.5}, 'colsample_bytree': 0.5, 'learning_rate': 0.1, 'max_depth': 40, 'min_child_samples': 3, 'n_estimators': 200}\n",
      "0.804 for {'class_weight': {0: 1, 1: 1}, 'colsample_bytree': 0.5, 'learning_rate': 0.1, 'max_depth': None, 'min_child_samples': 5, 'n_estimators': 200}\n",
      "0.804 for {'class_weight': {0: 1, 1: 1}, 'colsample_bytree': 0.5, 'learning_rate': 0.1, 'max_depth': 40, 'min_child_samples': 5, 'n_estimators': 200}\n",
      "0.803 for {'class_weight': {0: 1, 1: 1.2}, 'colsample_bytree': 0.5, 'learning_rate': 1.0, 'max_depth': None, 'min_child_samples': 7, 'n_estimators': 40}\n",
      "0.803 for {'class_weight': {0: 1, 1: 1.2}, 'colsample_bytree': 0.5, 'learning_rate': 1.0, 'max_depth': 40, 'min_child_samples': 7, 'n_estimators': 40}\n",
      "0.801 for {'class_weight': {0: 1, 1: 1.2}, 'colsample_bytree': 0.5, 'learning_rate': 1.0, 'max_depth': 40, 'min_child_samples': 7, 'n_estimators': 200}\n",
      "0.801 for {'class_weight': {0: 1, 1: 1.2}, 'colsample_bytree': 0.5, 'learning_rate': 1.0, 'max_depth': None, 'min_child_samples': 7, 'n_estimators': 200}\n",
      "0.800 for {'class_weight': {0: 1, 1: 1.2}, 'colsample_bytree': 1.0, 'learning_rate': 0.1, 'max_depth': 40, 'min_child_samples': 5, 'n_estimators': 200}\n",
      "0.800 for {'class_weight': {0: 1, 1: 1}, 'colsample_bytree': 1.0, 'learning_rate': 0.1, 'max_depth': 15, 'min_child_samples': 5, 'n_estimators': 200}\n",
      "0.800 for {'class_weight': {0: 1, 1: 1.2}, 'colsample_bytree': 1.0, 'learning_rate': 0.1, 'max_depth': None, 'min_child_samples': 5, 'n_estimators': 200}\n",
      "0.798 for {'class_weight': {0: 1, 1: 1.5}, 'colsample_bytree': 0.5, 'learning_rate': 0.1, 'max_depth': 15, 'min_child_samples': 3, 'n_estimators': 200}\n",
      "0.797 for {'class_weight': {0: 1, 1: 1.2}, 'colsample_bytree': 0.5, 'learning_rate': 1.0, 'max_depth': None, 'min_child_samples': 7, 'n_estimators': 60}\n",
      "0.797 for {'class_weight': {0: 1, 1: 1.2}, 'colsample_bytree': 0.5, 'learning_rate': 1.0, 'max_depth': 40, 'min_child_samples': 7, 'n_estimators': 60}\n",
      "0.794 for {'class_weight': {0: 1, 1: 1.2}, 'colsample_bytree': 0.5, 'learning_rate': 1.0, 'max_depth': 15, 'min_child_samples': 7, 'n_estimators': 60}\n",
      "0.793 for {'class_weight': {0: 1, 1: 1}, 'colsample_bytree': 1.0, 'learning_rate': 1.0, 'max_depth': None, 'min_child_samples': 11, 'n_estimators': 200}\n",
      "0.793 for {'class_weight': {0: 1, 1: 1}, 'colsample_bytree': 1.0, 'learning_rate': 1.0, 'max_depth': 40, 'min_child_samples': 11, 'n_estimators': 200}\n",
      "0.784 for {'class_weight': {0: 1, 1: 1.5}, 'colsample_bytree': 0.5, 'learning_rate': 1.0, 'max_depth': 15, 'min_child_samples': 5, 'n_estimators': 40}\n",
      "0.783 for {'class_weight': {0: 1, 1: 1.5}, 'colsample_bytree': 0.5, 'learning_rate': 1.0, 'max_depth': 40, 'min_child_samples': 11, 'n_estimators': 200}\n",
      "0.783 for {'class_weight': {0: 1, 1: 1.2}, 'colsample_bytree': 1.0, 'learning_rate': 1.0, 'max_depth': None, 'min_child_samples': 11, 'n_estimators': 200}\n",
      "0.783 for {'class_weight': {0: 1, 1: 1.2}, 'colsample_bytree': 1.0, 'learning_rate': 1.0, 'max_depth': 40, 'min_child_samples': 11, 'n_estimators': 200}\n",
      "0.783 for {'class_weight': {0: 1, 1: 1.5}, 'colsample_bytree': 0.5, 'learning_rate': 1.0, 'max_depth': None, 'min_child_samples': 11, 'n_estimators': 200}\n",
      "0.781 for {'class_weight': {0: 1, 1: 1}, 'colsample_bytree': 1.0, 'learning_rate': 1.0, 'max_depth': None, 'min_child_samples': 11, 'n_estimators': 60}\n",
      "0.781 for {'class_weight': {0: 1, 1: 1}, 'colsample_bytree': 1.0, 'learning_rate': 1.0, 'max_depth': 40, 'min_child_samples': 11, 'n_estimators': 60}\n",
      "0.780 for {'class_weight': {0: 1, 1: 1.5}, 'colsample_bytree': 1.0, 'learning_rate': 1.0, 'max_depth': 15, 'min_child_samples': 3, 'n_estimators': 200}\n",
      "0.777 for {'class_weight': {0: 1, 1: 1}, 'colsample_bytree': 0.5, 'learning_rate': 1.0, 'max_depth': None, 'min_child_samples': 11, 'n_estimators': 200}\n",
      "0.777 for {'class_weight': {0: 1, 1: 1}, 'colsample_bytree': 0.5, 'learning_rate': 1.0, 'max_depth': 40, 'min_child_samples': 11, 'n_estimators': 200}\n",
      "0.776 for {'class_weight': {0: 1, 1: 1.5}, 'colsample_bytree': 1.0, 'learning_rate': 1.0, 'max_depth': None, 'min_child_samples': 7, 'n_estimators': 60}\n",
      "0.776 for {'class_weight': {0: 1, 1: 1.5}, 'colsample_bytree': 1.0, 'learning_rate': 1.0, 'max_depth': 40, 'min_child_samples': 7, 'n_estimators': 60}\n",
      "0.774 for {'class_weight': {0: 1, 1: 1.5}, 'colsample_bytree': 1.0, 'learning_rate': 1.0, 'max_depth': 15, 'min_child_samples': 7, 'n_estimators': 200}\n",
      "0.773 for {'class_weight': {0: 1, 1: 1.5}, 'colsample_bytree': 1.0, 'learning_rate': 1.0, 'max_depth': 15, 'min_child_samples': 5, 'n_estimators': 200}\n",
      "0.768 for {'class_weight': {0: 1, 1: 1}, 'colsample_bytree': 1.0, 'learning_rate': 1.0, 'max_depth': 15, 'min_child_samples': 7, 'n_estimators': 40}\n",
      "0.767 for {'class_weight': {0: 1, 1: 1.5}, 'colsample_bytree': 0.5, 'learning_rate': 1.0, 'max_depth': 15, 'min_child_samples': 3, 'n_estimators': 200}\n",
      "0.767 for {'class_weight': {0: 1, 1: 1}, 'colsample_bytree': 0.5, 'learning_rate': 1.0, 'max_depth': 15, 'min_child_samples': 11, 'n_estimators': 200}\n",
      "0.767 for {'class_weight': {0: 1, 1: 1.5}, 'colsample_bytree': 0.5, 'learning_rate': 1.0, 'max_depth': 15, 'min_child_samples': 7, 'n_estimators': 60}\n",
      "0.767 for {'class_weight': {0: 1, 1: 1.5}, 'colsample_bytree': 0.5, 'learning_rate': 1.0, 'max_depth': 40, 'min_child_samples': 7, 'n_estimators': 60}\n",
      "0.767 for {'class_weight': {0: 1, 1: 1.5}, 'colsample_bytree': 0.5, 'learning_rate': 1.0, 'max_depth': None, 'min_child_samples': 7, 'n_estimators': 60}\n",
      "0.766 for {'class_weight': {0: 1, 1: 1.5}, 'colsample_bytree': 0.5, 'learning_rate': 1.0, 'max_depth': 15, 'min_child_samples': 11, 'n_estimators': 200}\n",
      "0.766 for {'class_weight': {0: 1, 1: 1.2}, 'colsample_bytree': 1.0, 'learning_rate': 1.0, 'max_depth': 40, 'min_child_samples': 7, 'n_estimators': 200}\n",
      "0.764 for {'class_weight': {0: 1, 1: 1.5}, 'colsample_bytree': 0.5, 'learning_rate': 1.0, 'max_depth': None, 'min_child_samples': 5, 'n_estimators': 60}\n",
      "0.764 for {'class_weight': {0: 1, 1: 1.5}, 'colsample_bytree': 0.5, 'learning_rate': 1.0, 'max_depth': 40, 'min_child_samples': 5, 'n_estimators': 60}\n",
      "0.763 for {'class_weight': {0: 1, 1: 1.5}, 'colsample_bytree': 1.0, 'learning_rate': 1.0, 'max_depth': None, 'min_child_samples': 7, 'n_estimators': 40}\n",
      "0.763 for {'class_weight': {0: 1, 1: 1.5}, 'colsample_bytree': 1.0, 'learning_rate': 1.0, 'max_depth': 40, 'min_child_samples': 7, 'n_estimators': 40}\n",
      "0.763 for {'class_weight': {0: 1, 1: 1.5}, 'colsample_bytree': 1.0, 'learning_rate': 1.0, 'max_depth': 15, 'min_child_samples': 7, 'n_estimators': 40}\n",
      "0.763 for {'class_weight': {0: 1, 1: 1.2}, 'colsample_bytree': 1.0, 'learning_rate': 1.0, 'max_depth': 15, 'min_child_samples': 3, 'n_estimators': 60}\n",
      "0.763 for {'class_weight': {0: 1, 1: 1.2}, 'colsample_bytree': 0.5, 'learning_rate': 1.0, 'max_depth': 15, 'min_child_samples': 11, 'n_estimators': 40}\n",
      "0.761 for {'class_weight': {0: 1, 1: 1.2}, 'colsample_bytree': 0.5, 'learning_rate': 1.0, 'max_depth': 15, 'min_child_samples': 11, 'n_estimators': 60}\n",
      "0.761 for {'class_weight': {0: 1, 1: 1}, 'colsample_bytree': 1.0, 'learning_rate': 1.0, 'max_depth': 40, 'min_child_samples': 7, 'n_estimators': 40}\n",
      "0.761 for {'class_weight': {0: 1, 1: 1}, 'colsample_bytree': 1.0, 'learning_rate': 1.0, 'max_depth': None, 'min_child_samples': 7, 'n_estimators': 40}\n",
      "0.760 for {'class_weight': {0: 1, 1: 1}, 'colsample_bytree': 1.0, 'learning_rate': 1.0, 'max_depth': None, 'min_child_samples': 7, 'n_estimators': 60}\n",
      "0.760 for {'class_weight': {0: 1, 1: 1.5}, 'colsample_bytree': 0.5, 'learning_rate': 1.0, 'max_depth': 40, 'min_child_samples': 5, 'n_estimators': 40}\n",
      "0.760 for {'class_weight': {0: 1, 1: 1.5}, 'colsample_bytree': 1.0, 'learning_rate': 1.0, 'max_depth': 40, 'min_child_samples': 7, 'n_estimators': 200}\n",
      "0.760 for {'class_weight': {0: 1, 1: 1}, 'colsample_bytree': 0.5, 'learning_rate': 1.0, 'max_depth': 40, 'min_child_samples': 3, 'n_estimators': 60}\n",
      "0.760 for {'class_weight': {0: 1, 1: 1.5}, 'colsample_bytree': 1.0, 'learning_rate': 1.0, 'max_depth': None, 'min_child_samples': 7, 'n_estimators': 200}\n",
      "0.760 for {'class_weight': {0: 1, 1: 1.5}, 'colsample_bytree': 0.5, 'learning_rate': 1.0, 'max_depth': None, 'min_child_samples': 5, 'n_estimators': 40}\n",
      "0.760 for {'class_weight': {0: 1, 1: 1}, 'colsample_bytree': 1.0, 'learning_rate': 1.0, 'max_depth': 40, 'min_child_samples': 3, 'n_estimators': 40}\n",
      "0.760 for {'class_weight': {0: 1, 1: 1}, 'colsample_bytree': 1.0, 'learning_rate': 1.0, 'max_depth': None, 'min_child_samples': 3, 'n_estimators': 40}\n",
      "0.760 for {'class_weight': {0: 1, 1: 1}, 'colsample_bytree': 1.0, 'learning_rate': 1.0, 'max_depth': 40, 'min_child_samples': 7, 'n_estimators': 60}\n",
      "0.759 for {'class_weight': {0: 1, 1: 1.2}, 'colsample_bytree': 0.5, 'learning_rate': 1.0, 'max_depth': 40, 'min_child_samples': 11, 'n_estimators': 40}\n",
      "0.759 for {'class_weight': {0: 1, 1: 1.2}, 'colsample_bytree': 0.5, 'learning_rate': 1.0, 'max_depth': None, 'min_child_samples': 11, 'n_estimators': 40}\n",
      "0.757 for {'class_weight': {0: 1, 1: 1}, 'colsample_bytree': 0.5, 'learning_rate': 1.0, 'max_depth': 15, 'min_child_samples': 5, 'n_estimators': 200}\n",
      "0.756 for {'class_weight': {0: 1, 1: 1.5}, 'colsample_bytree': 1.0, 'learning_rate': 1.0, 'max_depth': 40, 'min_child_samples': 11, 'n_estimators': 40}\n",
      "0.756 for {'class_weight': {0: 1, 1: 1.5}, 'colsample_bytree': 1.0, 'learning_rate': 1.0, 'max_depth': None, 'min_child_samples': 11, 'n_estimators': 40}\n",
      "0.756 for {'class_weight': {0: 1, 1: 1.5}, 'colsample_bytree': 0.5, 'learning_rate': 1.0, 'max_depth': 40, 'min_child_samples': 11, 'n_estimators': 60}\n",
      "0.756 for {'class_weight': {0: 1, 1: 1.2}, 'colsample_bytree': 1.0, 'learning_rate': 1.0, 'max_depth': 15, 'min_child_samples': 11, 'n_estimators': 200}\n",
      "0.756 for {'class_weight': {0: 1, 1: 1.5}, 'colsample_bytree': 0.5, 'learning_rate': 1.0, 'max_depth': None, 'min_child_samples': 11, 'n_estimators': 60}\n",
      "0.751 for {'class_weight': {0: 1, 1: 1.2}, 'colsample_bytree': 1.0, 'learning_rate': 1.0, 'max_depth': 15, 'min_child_samples': 3, 'n_estimators': 40}\n",
      "0.751 for {'class_weight': {0: 1, 1: 1.5}, 'colsample_bytree': 0.5, 'learning_rate': 1.0, 'max_depth': 15, 'min_child_samples': 7, 'n_estimators': 40}\n",
      "0.751 for {'class_weight': {0: 1, 1: 1.5}, 'colsample_bytree': 0.5, 'learning_rate': 1.0, 'max_depth': 40, 'min_child_samples': 7, 'n_estimators': 40}\n",
      "0.751 for {'class_weight': {0: 1, 1: 1.5}, 'colsample_bytree': 0.5, 'learning_rate': 1.0, 'max_depth': None, 'min_child_samples': 7, 'n_estimators': 40}\n",
      "0.750 for {'class_weight': {0: 1, 1: 1.5}, 'colsample_bytree': 1.0, 'learning_rate': 1.0, 'max_depth': 15, 'min_child_samples': 7, 'n_estimators': 60}\n",
      "0.749 for {'class_weight': {0: 1, 1: 1.2}, 'colsample_bytree': 0.5, 'learning_rate': 1.0, 'max_depth': 15, 'min_child_samples': 3, 'n_estimators': 200}\n",
      "0.746 for {'class_weight': {0: 1, 1: 1.2}, 'colsample_bytree': 0.5, 'learning_rate': 1.0, 'max_depth': 15, 'min_child_samples': 3, 'n_estimators': 60}\n",
      "0.744 for {'class_weight': {0: 1, 1: 1}, 'colsample_bytree': 1.0, 'learning_rate': 1.0, 'max_depth': 15, 'min_child_samples': 7, 'n_estimators': 60}\n",
      "0.743 for {'class_weight': {0: 1, 1: 1}, 'colsample_bytree': 0.5, 'learning_rate': 1.0, 'max_depth': 40, 'min_child_samples': 11, 'n_estimators': 40}\n",
      "0.743 for {'class_weight': {0: 1, 1: 1}, 'colsample_bytree': 0.5, 'learning_rate': 1.0, 'max_depth': None, 'min_child_samples': 11, 'n_estimators': 40}\n",
      "0.743 for {'class_weight': {0: 1, 1: 1}, 'colsample_bytree': 0.5, 'learning_rate': 1.0, 'max_depth': 15, 'min_child_samples': 11, 'n_estimators': 40}\n",
      "0.741 for {'class_weight': {0: 1, 1: 1}, 'colsample_bytree': 1.0, 'learning_rate': 1.0, 'max_depth': None, 'min_child_samples': 3, 'n_estimators': 60}\n",
      "0.741 for {'class_weight': {0: 1, 1: 1}, 'colsample_bytree': 1.0, 'learning_rate': 1.0, 'max_depth': 40, 'min_child_samples': 3, 'n_estimators': 60}\n",
      "0.740 for {'class_weight': {0: 1, 1: 1}, 'colsample_bytree': 0.5, 'learning_rate': 1.0, 'max_depth': 40, 'min_child_samples': 3, 'n_estimators': 40}\n",
      "0.740 for {'class_weight': {0: 1, 1: 1}, 'colsample_bytree': 0.5, 'learning_rate': 1.0, 'max_depth': None, 'min_child_samples': 3, 'n_estimators': 40}\n",
      "0.739 for {'class_weight': {0: 1, 1: 1}, 'colsample_bytree': 0.5, 'learning_rate': 1.0, 'max_depth': 40, 'min_child_samples': 11, 'n_estimators': 60}\n",
      "0.739 for {'class_weight': {0: 1, 1: 1}, 'colsample_bytree': 0.5, 'learning_rate': 1.0, 'max_depth': None, 'min_child_samples': 11, 'n_estimators': 60}\n",
      "0.737 for {'class_weight': {0: 1, 1: 1.5}, 'colsample_bytree': 0.5, 'learning_rate': 1.0, 'max_depth': 15, 'min_child_samples': 7, 'n_estimators': 200}\n",
      "0.736 for {'class_weight': {0: 1, 1: 1.2}, 'colsample_bytree': 0.5, 'learning_rate': 1.0, 'max_depth': None, 'min_child_samples': 11, 'n_estimators': 60}\n",
      "0.736 for {'class_weight': {0: 1, 1: 1.2}, 'colsample_bytree': 0.5, 'learning_rate': 1.0, 'max_depth': 40, 'min_child_samples': 11, 'n_estimators': 60}\n",
      "0.734 for {'class_weight': {0: 1, 1: 1.5}, 'colsample_bytree': 0.5, 'learning_rate': 1.0, 'max_depth': None, 'min_child_samples': 3, 'n_estimators': 200}\n",
      "0.734 for {'class_weight': {0: 1, 1: 1}, 'colsample_bytree': 1.0, 'learning_rate': 1.0, 'max_depth': 40, 'min_child_samples': 11, 'n_estimators': 40}\n",
      "0.734 for {'class_weight': {0: 1, 1: 1}, 'colsample_bytree': 1.0, 'learning_rate': 1.0, 'max_depth': None, 'min_child_samples': 11, 'n_estimators': 40}\n",
      "0.734 for {'class_weight': {0: 1, 1: 1.2}, 'colsample_bytree': 0.5, 'learning_rate': 1.0, 'max_depth': 15, 'min_child_samples': 5, 'n_estimators': 200}\n",
      "0.733 for {'class_weight': {0: 1, 1: 1}, 'colsample_bytree': 0.5, 'learning_rate': 1.0, 'max_depth': 15, 'min_child_samples': 11, 'n_estimators': 60}\n",
      "0.732 for {'class_weight': {0: 1, 1: 1.5}, 'colsample_bytree': 0.5, 'learning_rate': 1.0, 'max_depth': None, 'min_child_samples': 11, 'n_estimators': 40}\n",
      "0.732 for {'class_weight': {0: 1, 1: 1}, 'colsample_bytree': 0.5, 'learning_rate': 1.0, 'max_depth': None, 'min_child_samples': 3, 'n_estimators': 60}\n",
      "0.732 for {'class_weight': {0: 1, 1: 1.5}, 'colsample_bytree': 0.5, 'learning_rate': 1.0, 'max_depth': 40, 'min_child_samples': 11, 'n_estimators': 40}\n",
      "0.730 for {'class_weight': {0: 1, 1: 1.2}, 'colsample_bytree': 0.5, 'learning_rate': 1.0, 'max_depth': None, 'min_child_samples': 11, 'n_estimators': 200}\n",
      "0.730 for {'class_weight': {0: 1, 1: 1.2}, 'colsample_bytree': 0.5, 'learning_rate': 1.0, 'max_depth': 40, 'min_child_samples': 11, 'n_estimators': 200}\n",
      "0.729 for {'class_weight': {0: 1, 1: 1}, 'colsample_bytree': 0.5, 'learning_rate': 1.0, 'max_depth': 15, 'min_child_samples': 3, 'n_estimators': 40}\n",
      "0.727 for {'class_weight': {0: 1, 1: 1}, 'colsample_bytree': 0.5, 'learning_rate': 1.0, 'max_depth': 40, 'min_child_samples': 5, 'n_estimators': 40}\n",
      "0.727 for {'class_weight': {0: 1, 1: 1.5}, 'colsample_bytree': 1.0, 'learning_rate': 1.0, 'max_depth': None, 'min_child_samples': 3, 'n_estimators': 200}\n",
      "0.727 for {'class_weight': {0: 1, 1: 1.5}, 'colsample_bytree': 0.5, 'learning_rate': 1.0, 'max_depth': 40, 'min_child_samples': 7, 'n_estimators': 200}\n",
      "0.727 for {'class_weight': {0: 1, 1: 1}, 'colsample_bytree': 0.5, 'learning_rate': 1.0, 'max_depth': 15, 'min_child_samples': 5, 'n_estimators': 40}\n",
      "0.727 for {'class_weight': {0: 1, 1: 1}, 'colsample_bytree': 0.5, 'learning_rate': 1.0, 'max_depth': None, 'min_child_samples': 5, 'n_estimators': 40}\n",
      "0.727 for {'class_weight': {0: 1, 1: 1.5}, 'colsample_bytree': 0.5, 'learning_rate': 1.0, 'max_depth': None, 'min_child_samples': 7, 'n_estimators': 200}\n",
      "0.726 for {'class_weight': {0: 1, 1: 1.5}, 'colsample_bytree': 1.0, 'learning_rate': 1.0, 'max_depth': None, 'min_child_samples': 5, 'n_estimators': 200}\n",
      "0.726 for {'class_weight': {0: 1, 1: 1.5}, 'colsample_bytree': 1.0, 'learning_rate': 1.0, 'max_depth': 40, 'min_child_samples': 5, 'n_estimators': 200}\n",
      "0.722 for {'class_weight': {0: 1, 1: 1.5}, 'colsample_bytree': 1.0, 'learning_rate': 1.0, 'max_depth': 15, 'min_child_samples': 11, 'n_estimators': 40}\n",
      "0.717 for {'class_weight': {0: 1, 1: 1}, 'colsample_bytree': 0.5, 'learning_rate': 1.0, 'max_depth': 40, 'min_child_samples': 5, 'n_estimators': 200}\n",
      "0.717 for {'class_weight': {0: 1, 1: 1}, 'colsample_bytree': 0.5, 'learning_rate': 1.0, 'max_depth': None, 'min_child_samples': 5, 'n_estimators': 200}\n",
      "0.713 for {'class_weight': {0: 1, 1: 1.2}, 'colsample_bytree': 0.5, 'learning_rate': 1.0, 'max_depth': None, 'min_child_samples': 5, 'n_estimators': 40}\n",
      "0.713 for {'class_weight': {0: 1, 1: 1.2}, 'colsample_bytree': 0.5, 'learning_rate': 1.0, 'max_depth': 40, 'min_child_samples': 5, 'n_estimators': 40}\n",
      "0.713 for {'class_weight': {0: 1, 1: 1.5}, 'colsample_bytree': 1.0, 'learning_rate': 1.0, 'max_depth': None, 'min_child_samples': 11, 'n_estimators': 200}\n",
      "0.713 for {'class_weight': {0: 1, 1: 1.5}, 'colsample_bytree': 1.0, 'learning_rate': 1.0, 'max_depth': 40, 'min_child_samples': 11, 'n_estimators': 200}\n",
      "0.713 for {'class_weight': {0: 1, 1: 1.2}, 'colsample_bytree': 0.5, 'learning_rate': 1.0, 'max_depth': 15, 'min_child_samples': 5, 'n_estimators': 40}\n",
      "0.712 for {'class_weight': {0: 1, 1: 1.2}, 'colsample_bytree': 1.0, 'learning_rate': 1.0, 'max_depth': 15, 'min_child_samples': 5, 'n_estimators': 40}\n",
      "0.709 for {'class_weight': {0: 1, 1: 1.5}, 'colsample_bytree': 1.0, 'learning_rate': 1.0, 'max_depth': 15, 'min_child_samples': 11, 'n_estimators': 60}\n",
      "0.709 for {'class_weight': {0: 1, 1: 1.2}, 'colsample_bytree': 0.5, 'learning_rate': 1.0, 'max_depth': 15, 'min_child_samples': 11, 'n_estimators': 200}\n",
      "0.707 for {'class_weight': {0: 1, 1: 1.5}, 'colsample_bytree': 1.0, 'learning_rate': 1.0, 'max_depth': 15, 'min_child_samples': 3, 'n_estimators': 60}\n",
      "0.705 for {'class_weight': {0: 1, 1: 1.2}, 'colsample_bytree': 1.0, 'learning_rate': 1.0, 'max_depth': None, 'min_child_samples': 5, 'n_estimators': 200}\n",
      "0.705 for {'class_weight': {0: 1, 1: 1}, 'colsample_bytree': 1.0, 'learning_rate': 1.0, 'max_depth': 15, 'min_child_samples': 11, 'n_estimators': 200}\n",
      "0.702 for {'class_weight': {0: 1, 1: 1.2}, 'colsample_bytree': 1.0, 'learning_rate': 1.0, 'max_depth': 15, 'min_child_samples': 7, 'n_estimators': 60}\n",
      "0.696 for {'class_weight': {0: 1, 1: 1.5}, 'colsample_bytree': 1.0, 'learning_rate': 1.0, 'max_depth': None, 'min_child_samples': 11, 'n_estimators': 60}\n",
      "0.696 for {'class_weight': {0: 1, 1: 1.2}, 'colsample_bytree': 1.0, 'learning_rate': 1.0, 'max_depth': 40, 'min_child_samples': 11, 'n_estimators': 60}\n",
      "0.696 for {'class_weight': {0: 1, 1: 1.2}, 'colsample_bytree': 1.0, 'learning_rate': 1.0, 'max_depth': None, 'min_child_samples': 11, 'n_estimators': 60}\n",
      "0.696 for {'class_weight': {0: 1, 1: 1.5}, 'colsample_bytree': 1.0, 'learning_rate': 1.0, 'max_depth': 40, 'min_child_samples': 11, 'n_estimators': 60}\n",
      "0.695 for {'class_weight': {0: 1, 1: 1.5}, 'colsample_bytree': 0.5, 'learning_rate': 1.0, 'max_depth': 15, 'min_child_samples': 11, 'n_estimators': 60}\n",
      "0.689 for {'class_weight': {0: 1, 1: 1.2}, 'colsample_bytree': 1.0, 'learning_rate': 1.0, 'max_depth': None, 'min_child_samples': 7, 'n_estimators': 40}\n",
      "0.689 for {'class_weight': {0: 1, 1: 1.2}, 'colsample_bytree': 1.0, 'learning_rate': 1.0, 'max_depth': 15, 'min_child_samples': 7, 'n_estimators': 40}\n",
      "0.689 for {'class_weight': {0: 1, 1: 1.5}, 'colsample_bytree': 0.5, 'learning_rate': 1.0, 'max_depth': 40, 'min_child_samples': 3, 'n_estimators': 200}\n",
      "0.689 for {'class_weight': {0: 1, 1: 1.2}, 'colsample_bytree': 1.0, 'learning_rate': 1.0, 'max_depth': 40, 'min_child_samples': 7, 'n_estimators': 40}\n",
      "0.686 for {'class_weight': {0: 1, 1: 1}, 'colsample_bytree': 1.0, 'learning_rate': 1.0, 'max_depth': 15, 'min_child_samples': 5, 'n_estimators': 200}\n",
      "0.685 for {'class_weight': {0: 1, 1: 1.5}, 'colsample_bytree': 1.0, 'learning_rate': 1.0, 'max_depth': 15, 'min_child_samples': 11, 'n_estimators': 200}\n",
      "0.680 for {'class_weight': {0: 1, 1: 1.5}, 'colsample_bytree': 0.5, 'learning_rate': 1.0, 'max_depth': None, 'min_child_samples': 5, 'n_estimators': 200}\n",
      "0.679 for {'class_weight': {0: 1, 1: 1.2}, 'colsample_bytree': 1.0, 'learning_rate': 1.0, 'max_depth': 15, 'min_child_samples': 11, 'n_estimators': 60}\n",
      "0.676 for {'class_weight': {0: 1, 1: 1.2}, 'colsample_bytree': 0.5, 'learning_rate': 1.0, 'max_depth': 40, 'min_child_samples': 3, 'n_estimators': 200}\n",
      "0.673 for {'class_weight': {0: 1, 1: 1.2}, 'colsample_bytree': 1.0, 'learning_rate': 1.0, 'max_depth': 40, 'min_child_samples': 7, 'n_estimators': 60}\n",
      "0.673 for {'class_weight': {0: 1, 1: 1.2}, 'colsample_bytree': 1.0, 'learning_rate': 1.0, 'max_depth': None, 'min_child_samples': 7, 'n_estimators': 60}\n",
      "0.672 for {'class_weight': {0: 1, 1: 1.2}, 'colsample_bytree': 1.0, 'learning_rate': 1.0, 'max_depth': 40, 'min_child_samples': 5, 'n_estimators': 60}\n",
      "0.672 for {'class_weight': {0: 1, 1: 1.2}, 'colsample_bytree': 1.0, 'learning_rate': 1.0, 'max_depth': None, 'min_child_samples': 5, 'n_estimators': 60}\n",
      "0.670 for {'class_weight': {0: 1, 1: 1}, 'colsample_bytree': 0.5, 'learning_rate': 1.0, 'max_depth': 40, 'min_child_samples': 5, 'n_estimators': 60}\n",
      "0.670 for {'class_weight': {0: 1, 1: 1}, 'colsample_bytree': 0.5, 'learning_rate': 1.0, 'max_depth': None, 'min_child_samples': 5, 'n_estimators': 60}\n",
      "0.666 for {'class_weight': {0: 1, 1: 1.2}, 'colsample_bytree': 1.0, 'learning_rate': 1.0, 'max_depth': 40, 'min_child_samples': 5, 'n_estimators': 200}\n",
      "0.661 for {'class_weight': {0: 1, 1: 1}, 'colsample_bytree': 0.5, 'learning_rate': 1.0, 'max_depth': 15, 'min_child_samples': 5, 'n_estimators': 60}\n",
      "0.661 for {'class_weight': {0: 1, 1: 1.5}, 'colsample_bytree': 1.0, 'learning_rate': 1.0, 'max_depth': None, 'min_child_samples': 5, 'n_estimators': 60}\n",
      "0.661 for {'class_weight': {0: 1, 1: 1}, 'colsample_bytree': 1.0, 'learning_rate': 1.0, 'max_depth': 15, 'min_child_samples': 11, 'n_estimators': 60}\n",
      "0.661 for {'class_weight': {0: 1, 1: 1.5}, 'colsample_bytree': 1.0, 'learning_rate': 1.0, 'max_depth': 40, 'min_child_samples': 5, 'n_estimators': 60}\n",
      "0.658 for {'class_weight': {0: 1, 1: 1.2}, 'colsample_bytree': 1.0, 'learning_rate': 1.0, 'max_depth': 40, 'min_child_samples': 5, 'n_estimators': 40}\n",
      "0.658 for {'class_weight': {0: 1, 1: 1.2}, 'colsample_bytree': 1.0, 'learning_rate': 1.0, 'max_depth': None, 'min_child_samples': 5, 'n_estimators': 40}\n",
      "0.658 for {'class_weight': {0: 1, 1: 1.2}, 'colsample_bytree': 1.0, 'learning_rate': 1.0, 'max_depth': 40, 'min_child_samples': 3, 'n_estimators': 200}\n",
      "0.656 for {'class_weight': {0: 1, 1: 1.2}, 'colsample_bytree': 1.0, 'learning_rate': 1.0, 'max_depth': 40, 'min_child_samples': 11, 'n_estimators': 40}\n",
      "0.656 for {'class_weight': {0: 1, 1: 1.2}, 'colsample_bytree': 1.0, 'learning_rate': 1.0, 'max_depth': None, 'min_child_samples': 11, 'n_estimators': 40}\n",
      "0.652 for {'class_weight': {0: 1, 1: 1.5}, 'colsample_bytree': 0.5, 'learning_rate': 1.0, 'max_depth': 15, 'min_child_samples': 11, 'n_estimators': 40}\n",
      "0.651 for {'class_weight': {0: 1, 1: 1.2}, 'colsample_bytree': 0.5, 'learning_rate': 1.0, 'max_depth': 15, 'min_child_samples': 3, 'n_estimators': 40}\n",
      "0.643 for {'class_weight': {0: 1, 1: 1.2}, 'colsample_bytree': 1.0, 'learning_rate': 1.0, 'max_depth': 15, 'min_child_samples': 5, 'n_estimators': 200}\n",
      "0.642 for {'class_weight': {0: 1, 1: 1.2}, 'colsample_bytree': 1.0, 'learning_rate': 1.0, 'max_depth': 15, 'min_child_samples': 11, 'n_estimators': 40}\n",
      "0.641 for {'class_weight': {0: 1, 1: 1}, 'colsample_bytree': 1.0, 'learning_rate': 1.0, 'max_depth': None, 'min_child_samples': 5, 'n_estimators': 200}\n",
      "0.641 for {'class_weight': {0: 1, 1: 1}, 'colsample_bytree': 1.0, 'learning_rate': 1.0, 'max_depth': 40, 'min_child_samples': 5, 'n_estimators': 200}\n",
      "0.639 for {'class_weight': {0: 1, 1: 1}, 'colsample_bytree': 1.0, 'learning_rate': 1.0, 'max_depth': None, 'min_child_samples': 3, 'n_estimators': 200}\n",
      "0.636 for {'class_weight': {0: 1, 1: 1}, 'colsample_bytree': 1.0, 'learning_rate': 1.0, 'max_depth': 15, 'min_child_samples': 11, 'n_estimators': 40}\n",
      "0.636 for {'class_weight': {0: 1, 1: 1.2}, 'colsample_bytree': 0.5, 'learning_rate': 1.0, 'max_depth': None, 'min_child_samples': 3, 'n_estimators': 200}\n",
      "0.634 for {'class_weight': {0: 1, 1: 1.5}, 'colsample_bytree': 1.0, 'learning_rate': 1.0, 'max_depth': 15, 'min_child_samples': 3, 'n_estimators': 40}\n",
      "0.631 for {'class_weight': {0: 1, 1: 1.2}, 'colsample_bytree': 0.5, 'learning_rate': 1.0, 'max_depth': None, 'min_child_samples': 3, 'n_estimators': 40}\n",
      "0.631 for {'class_weight': {0: 1, 1: 1.2}, 'colsample_bytree': 0.5, 'learning_rate': 1.0, 'max_depth': 40, 'min_child_samples': 3, 'n_estimators': 40}\n",
      "0.629 for {'class_weight': {0: 1, 1: 1}, 'colsample_bytree': 1.0, 'learning_rate': 1.0, 'max_depth': 15, 'min_child_samples': 5, 'n_estimators': 60}\n",
      "0.621 for {'class_weight': {0: 1, 1: 1.5}, 'colsample_bytree': 1.0, 'learning_rate': 1.0, 'max_depth': 15, 'min_child_samples': 5, 'n_estimators': 60}\n",
      "0.618 for {'class_weight': {0: 1, 1: 1}, 'colsample_bytree': 0.5, 'learning_rate': 1.0, 'max_depth': 15, 'min_child_samples': 3, 'n_estimators': 200}\n",
      "0.616 for {'class_weight': {0: 1, 1: 1}, 'colsample_bytree': 1.0, 'learning_rate': 1.0, 'max_depth': 40, 'min_child_samples': 7, 'n_estimators': 200}\n",
      "0.612 for {'class_weight': {0: 1, 1: 1.5}, 'colsample_bytree': 0.5, 'learning_rate': 1.0, 'max_depth': None, 'min_child_samples': 3, 'n_estimators': 60}\n",
      "0.611 for {'class_weight': {0: 1, 1: 1}, 'colsample_bytree': 1.0, 'learning_rate': 1.0, 'max_depth': 15, 'min_child_samples': 5, 'n_estimators': 40}\n",
      "0.611 for {'class_weight': {0: 1, 1: 1}, 'colsample_bytree': 1.0, 'learning_rate': 1.0, 'max_depth': None, 'min_child_samples': 5, 'n_estimators': 40}\n",
      "0.611 for {'class_weight': {0: 1, 1: 1}, 'colsample_bytree': 1.0, 'learning_rate': 1.0, 'max_depth': 40, 'min_child_samples': 5, 'n_estimators': 40}\n",
      "0.604 for {'class_weight': {0: 1, 1: 1.5}, 'colsample_bytree': 0.5, 'learning_rate': 1.0, 'max_depth': 40, 'min_child_samples': 3, 'n_estimators': 60}\n",
      "0.601 for {'class_weight': {0: 1, 1: 1.5}, 'colsample_bytree': 1.0, 'learning_rate': 1.0, 'max_depth': 15, 'min_child_samples': 5, 'n_estimators': 40}\n",
      "0.599 for {'class_weight': {0: 1, 1: 1.2}, 'colsample_bytree': 0.5, 'learning_rate': 1.0, 'max_depth': 15, 'min_child_samples': 7, 'n_estimators': 200}\n",
      "0.594 for {'class_weight': {0: 1, 1: 1.5}, 'colsample_bytree': 0.5, 'learning_rate': 1.0, 'max_depth': None, 'min_child_samples': 3, 'n_estimators': 40}\n",
      "0.594 for {'class_weight': {0: 1, 1: 1.5}, 'colsample_bytree': 0.5, 'learning_rate': 1.0, 'max_depth': 40, 'min_child_samples': 3, 'n_estimators': 40}\n",
      "0.594 for {'class_weight': {0: 1, 1: 1.5}, 'colsample_bytree': 0.5, 'learning_rate': 1.0, 'max_depth': 40, 'min_child_samples': 5, 'n_estimators': 200}\n",
      "0.592 for {'class_weight': {0: 1, 1: 1.2}, 'colsample_bytree': 0.5, 'learning_rate': 1.0, 'max_depth': None, 'min_child_samples': 3, 'n_estimators': 60}\n",
      "0.592 for {'class_weight': {0: 1, 1: 1.2}, 'colsample_bytree': 0.5, 'learning_rate': 1.0, 'max_depth': 40, 'min_child_samples': 3, 'n_estimators': 60}\n",
      "0.588 for {'class_weight': {0: 1, 1: 1.2}, 'colsample_bytree': 1.0, 'learning_rate': 1.0, 'max_depth': None, 'min_child_samples': 7, 'n_estimators': 200}\n",
      "0.585 for {'class_weight': {0: 1, 1: 1.5}, 'colsample_bytree': 1.0, 'learning_rate': 1.0, 'max_depth': None, 'min_child_samples': 5, 'n_estimators': 40}\n",
      "0.585 for {'class_weight': {0: 1, 1: 1.5}, 'colsample_bytree': 1.0, 'learning_rate': 1.0, 'max_depth': 40, 'min_child_samples': 5, 'n_estimators': 40}\n",
      "0.572 for {'class_weight': {0: 1, 1: 1}, 'colsample_bytree': 1.0, 'learning_rate': 1.0, 'max_depth': 15, 'min_child_samples': 7, 'n_estimators': 200}\n",
      "0.567 for {'class_weight': {0: 1, 1: 1.2}, 'colsample_bytree': 1.0, 'learning_rate': 1.0, 'max_depth': 15, 'min_child_samples': 3, 'n_estimators': 200}\n",
      "0.550 for {'class_weight': {0: 1, 1: 1.5}, 'colsample_bytree': 1.0, 'learning_rate': 1.0, 'max_depth': None, 'min_child_samples': 3, 'n_estimators': 60}\n",
      "0.550 for {'class_weight': {0: 1, 1: 1.5}, 'colsample_bytree': 1.0, 'learning_rate': 1.0, 'max_depth': 40, 'min_child_samples': 3, 'n_estimators': 60}\n",
      "0.548 for {'class_weight': {0: 1, 1: 1}, 'colsample_bytree': 1.0, 'learning_rate': 1.0, 'max_depth': 40, 'min_child_samples': 5, 'n_estimators': 60}\n",
      "0.548 for {'class_weight': {0: 1, 1: 1}, 'colsample_bytree': 0.5, 'learning_rate': 1.0, 'max_depth': 15, 'min_child_samples': 3, 'n_estimators': 60}\n",
      "0.548 for {'class_weight': {0: 1, 1: 1}, 'colsample_bytree': 1.0, 'learning_rate': 1.0, 'max_depth': None, 'min_child_samples': 5, 'n_estimators': 60}\n",
      "0.541 for {'class_weight': {0: 1, 1: 1.5}, 'colsample_bytree': 0.5, 'learning_rate': 1.0, 'max_depth': 15, 'min_child_samples': 3, 'n_estimators': 40}\n",
      "0.533 for {'class_weight': {0: 1, 1: 1.5}, 'colsample_bytree': 0.5, 'learning_rate': 1.0, 'max_depth': 15, 'min_child_samples': 5, 'n_estimators': 200}\n",
      "0.500 for {'class_weight': {0: 1, 1: 1}, 'colsample_bytree': 1.0, 'learning_rate': 1.0, 'max_depth': None, 'min_child_samples': 7, 'n_estimators': 200}\n",
      "0.493 for {'class_weight': {0: 1, 1: 1}, 'colsample_bytree': 1.0, 'learning_rate': 1.0, 'max_depth': 40, 'min_child_samples': 3, 'n_estimators': 200}\n",
      "0.462 for {'class_weight': {0: 1, 1: 1.2}, 'colsample_bytree': 1.0, 'learning_rate': 1.0, 'max_depth': None, 'min_child_samples': 3, 'n_estimators': 200}\n",
      "0.457 for {'class_weight': {0: 1, 1: 1}, 'colsample_bytree': 0.5, 'learning_rate': 1.0, 'max_depth': None, 'min_child_samples': 3, 'n_estimators': 200}\n",
      "0.452 for {'class_weight': {0: 1, 1: 1.5}, 'colsample_bytree': 0.5, 'learning_rate': 1.0, 'max_depth': 15, 'min_child_samples': 3, 'n_estimators': 60}\n",
      "0.413 for {'class_weight': {0: 1, 1: 1}, 'colsample_bytree': 1.0, 'learning_rate': 1.0, 'max_depth': 15, 'min_child_samples': 3, 'n_estimators': 200}\n",
      "0.395 for {'class_weight': {0: 1, 1: 1}, 'colsample_bytree': 0.5, 'learning_rate': 1.0, 'max_depth': 40, 'min_child_samples': 3, 'n_estimators': 200}\n",
      "0.141 for {'class_weight': {0: 1, 1: 1.2}, 'colsample_bytree': 0.5, 'learning_rate': 1.0, 'max_depth': None, 'min_child_samples': 5, 'n_estimators': 200}\n",
      "0.067 for {'class_weight': {0: 1, 1: 1.2}, 'colsample_bytree': 1.0, 'learning_rate': 1.0, 'max_depth': 15, 'min_child_samples': 5, 'n_estimators': 60}\n"
     ]
    }
   ],
   "source": [
    "sorted_ids = np.argsort(best_model.scores)\n",
    "print(\"Grid scores:\")\n",
    "for i in sorted_ids[::-1]:\n",
    "    print(\"%0.3f for %r\" % (best_model.scores[i], best_model.params[i]))"
   ]
  },
  {
   "cell_type": "code",
   "execution_count": 50,
   "metadata": {},
   "outputs": [
    {
     "data": {
      "text/plain": [
       "LGBMClassifier(boosting_type='gbdt', class_weight={0: 1, 1: 1.5},\n",
       "               colsample_bytree=1.0, importance_type='split',\n",
       "               learning_rate=0.01, max_depth=None, min_child_samples=11,\n",
       "               min_child_weight=0.001, min_split_gain=0.0, n_estimators=200,\n",
       "               n_jobs=-1, num_leaves=31, objective=None, random_state=0,\n",
       "               reg_alpha=0.0, reg_lambda=0.0, silent=False, subsample=1.0,\n",
       "               subsample_for_bin=200000, subsample_freq=0)"
      ]
     },
     "execution_count": 50,
     "metadata": {},
     "output_type": "execute_result"
    }
   ],
   "source": [
    "best_model.best_estimator_.fit(X_full_train, y_full_train)"
   ]
  },
  {
   "cell_type": "code",
   "execution_count": 51,
   "metadata": {},
   "outputs": [
    {
     "data": {
      "text/plain": [
       "(0.7419804741980475, 0.6604587347877983)"
      ]
     },
     "execution_count": 51,
     "metadata": {},
     "output_type": "execute_result"
    }
   ],
   "source": [
    "y_val_pred = best_model.best_estimator_.predict(X_val)\n",
    "y_val_f1_bestFI, y_val_rocauc_bestFI = f1_score(y_val, y_val_pred), roc_auc_score(y_val, y_val_pred)\n",
    "y_val_f1_bestFI, y_val_rocauc_bestFI"
   ]
  },
  {
   "cell_type": "code",
   "execution_count": 52,
   "metadata": {},
   "outputs": [
    {
     "data": {
      "text/plain": [
       "array([[121, 142],\n",
       "       [ 43, 266]])"
      ]
     },
     "execution_count": 52,
     "metadata": {},
     "output_type": "execute_result"
    }
   ],
   "source": [
    "confusion_matrix(y_val, y_val_pred)"
   ]
  },
  {
   "cell_type": "markdown",
   "metadata": {},
   "source": [
    "**best model**: <br>"
   ]
  },
  {
   "cell_type": "markdown",
   "metadata": {},
   "source": [
    "LGBMClassifier(boosting_type='gbdt', class_weight={0: 1, 1: 1.5},\n",
    "               colsample_bytree=1.0, importance_type='split',\n",
    "               learning_rate=0.01, max_depth=None, min_child_samples=11,\n",
    "               min_child_weight=0.001, min_split_gain=0.0, n_estimators=200,\n",
    "               n_jobs=-1, num_leaves=31, objective=None, random_state=0,\n",
    "               reg_alpha=0.0, reg_lambda=0.0, silent=False, subsample=1.0,\n",
    "               subsample_for_bin=200000, subsample_freq=0)"
   ]
  },
  {
   "cell_type": "markdown",
   "metadata": {},
   "source": [
    "(0.7419804741980475, 0.6604587347877983)\n",
    "<br>\n",
    "array([[121, 142],\n",
    "       [ 43, 266]])"
   ]
  },
  {
   "cell_type": "code",
   "execution_count": 44,
   "metadata": {},
   "outputs": [
    {
     "data": {
      "text/plain": [
       "(0.7479224376731303, 0.6650300860127727)"
      ]
     },
     "execution_count": 44,
     "metadata": {},
     "output_type": "execute_result"
    }
   ],
   "source": [
    "y_val_pred = best_model.best_estimator_.predict(X_val)\n",
    "y_val_f1_bestFI, y_val_rocauc_bestFI = f1_score(y_val, y_val_pred), roc_auc_score(y_val, y_val_pred)\n",
    "y_val_f1_bestFI, y_val_rocauc_bestFI"
   ]
  },
  {
   "cell_type": "code",
   "execution_count": 45,
   "metadata": {},
   "outputs": [
    {
     "data": {
      "text/plain": [
       "array([[120, 143],\n",
       "       [ 39, 270]])"
      ]
     },
     "execution_count": 45,
     "metadata": {},
     "output_type": "execute_result"
    }
   ],
   "source": [
    "confusion_matrix(y_val, y_val_pred)"
   ]
  },
  {
   "cell_type": "markdown",
   "metadata": {},
   "source": [
    "**Tronador**"
   ]
  },
  {
   "cell_type": "code",
   "execution_count": 82,
   "metadata": {},
   "outputs": [
    {
     "data": {
      "text/plain": [
       "(0.6376811594202898, 0.6036583114917495)"
      ]
     },
     "execution_count": 82,
     "metadata": {},
     "output_type": "execute_result"
    }
   ],
   "source": [
    "y_val_tron = X_val[\"total_condicion\"] >= 5\n",
    "y_val_tron_f1_bestFI, y_val_tron_rocauc_bestFI = f1_score(y_val, y_val_tron), roc_auc_score(y_val, y_val_tron)\n",
    "y_val_tron_f1_bestFI, y_val_tron_rocauc_bestFI"
   ]
  },
  {
   "cell_type": "code",
   "execution_count": 83,
   "metadata": {},
   "outputs": [
    {
     "data": {
      "text/plain": [
       "array([[149, 114],\n",
       "       [111, 198]])"
      ]
     },
     "execution_count": 83,
     "metadata": {},
     "output_type": "execute_result"
    }
   ],
   "source": [
    "confusion_matrix(y_val, y_val_tron)"
   ]
  },
  {
   "cell_type": "code",
   "execution_count": 53,
   "metadata": {},
   "outputs": [
    {
     "data": {
      "text/html": [
       "<div>\n",
       "<style scoped>\n",
       "    .dataframe tbody tr th:only-of-type {\n",
       "        vertical-align: middle;\n",
       "    }\n",
       "\n",
       "    .dataframe tbody tr th {\n",
       "        vertical-align: top;\n",
       "    }\n",
       "\n",
       "    .dataframe thead tr th {\n",
       "        text-align: left;\n",
       "    }\n",
       "\n",
       "    .dataframe thead tr:last-of-type th {\n",
       "        text-align: right;\n",
       "    }\n",
       "</style>\n",
       "<table border=\"1\" class=\"dataframe\">\n",
       "  <thead>\n",
       "    <tr>\n",
       "      <th>EXISTE_FRAUDE</th>\n",
       "      <th colspan=\"2\" halign=\"left\">False</th>\n",
       "      <th colspan=\"2\" halign=\"left\">True</th>\n",
       "    </tr>\n",
       "    <tr>\n",
       "      <th>y_pred</th>\n",
       "      <th>False</th>\n",
       "      <th>True</th>\n",
       "      <th>False</th>\n",
       "      <th>True</th>\n",
       "    </tr>\n",
       "    <tr>\n",
       "      <th>TIPO_EXPED</th>\n",
       "      <th></th>\n",
       "      <th></th>\n",
       "      <th></th>\n",
       "      <th></th>\n",
       "    </tr>\n",
       "  </thead>\n",
       "  <tbody>\n",
       "    <tr>\n",
       "      <th>0</th>\n",
       "      <td>2</td>\n",
       "      <td>1</td>\n",
       "      <td>2</td>\n",
       "      <td>0</td>\n",
       "    </tr>\n",
       "    <tr>\n",
       "      <th>1</th>\n",
       "      <td>43</td>\n",
       "      <td>0</td>\n",
       "      <td>7</td>\n",
       "      <td>0</td>\n",
       "    </tr>\n",
       "    <tr>\n",
       "      <th>2</th>\n",
       "      <td>7</td>\n",
       "      <td>0</td>\n",
       "      <td>3</td>\n",
       "      <td>0</td>\n",
       "    </tr>\n",
       "    <tr>\n",
       "      <th>3</th>\n",
       "      <td>3</td>\n",
       "      <td>2</td>\n",
       "      <td>3</td>\n",
       "      <td>1</td>\n",
       "    </tr>\n",
       "    <tr>\n",
       "      <th>4</th>\n",
       "      <td>2</td>\n",
       "      <td>1</td>\n",
       "      <td>0</td>\n",
       "      <td>1</td>\n",
       "    </tr>\n",
       "    <tr>\n",
       "      <th>5</th>\n",
       "      <td>57</td>\n",
       "      <td>2</td>\n",
       "      <td>21</td>\n",
       "      <td>2</td>\n",
       "    </tr>\n",
       "    <tr>\n",
       "      <th>6</th>\n",
       "      <td>7</td>\n",
       "      <td>136</td>\n",
       "      <td>7</td>\n",
       "      <td>262</td>\n",
       "    </tr>\n",
       "  </tbody>\n",
       "</table>\n",
       "</div>"
      ],
      "text/plain": [
       "EXISTE_FRAUDE False       True       \n",
       "y_pred        False True  False True \n",
       "TIPO_EXPED                           \n",
       "0                 2     1     2     0\n",
       "1                43     0     7     0\n",
       "2                 7     0     3     0\n",
       "3                 3     2     3     1\n",
       "4                 2     1     0     1\n",
       "5                57     2    21     2\n",
       "6                 7   136     7   262"
      ]
     },
     "execution_count": 53,
     "metadata": {},
     "output_type": "execute_result"
    }
   ],
   "source": [
    "# tipo exped analysis\n",
    "tmp = X_val.copy()\n",
    "tmp[\"EXISTE_FRAUDE\"] = y_val\n",
    "tmp[\"y_pred\"] = y_val_pred\n",
    "pd.crosstab(tmp[\"TIPO_EXPED\"], [tmp[\"EXISTE_FRAUDE\"], tmp[\"y_pred\"] > 0.5])"
   ]
  },
  {
   "cell_type": "markdown",
   "metadata": {
    "heading_collapsed": true
   },
   "source": [
    "## dumping best current config"
   ]
  },
  {
   "cell_type": "code",
   "execution_count": null,
   "metadata": {
    "hidden": true
   },
   "outputs": [],
   "source": [
    "# Current good config\n",
    "\"\"\"\n",
    "RandomForestClassifier(bootstrap=True, class_weight={0: 1, 1: 15},\n",
    "                       criterion='gini', max_depth=None, max_features='auto',\n",
    "                       max_leaf_nodes=None, min_impurity_decrease=0.0,\n",
    "                       min_impurity_split=None, min_samples_leaf=55,\n",
    "                       min_samples_split=2, min_weight_fraction_leaf=0.0,\n",
    "                       n_estimators=60, n_jobs=-1, oob_score=False,\n",
    "                       random_state=0, verbose=0, warm_start=False)\n",
    "\"\"\"\n",
    "# full features\n",
    "# scores: 0.449, 0.971\n",
    "# array([[71143,   360],\n",
    "#       [  116,   194]])\n",
    "# Tronador\n",
    "# (0.3472,0.816)\n",
    "# array([[70866,   637],\n",
    "#        [  111,   199]])"
   ]
  },
  {
   "cell_type": "code",
   "execution_count": null,
   "metadata": {
    "hidden": true
   },
   "outputs": [],
   "source": [
    "# with open(ps.path.join(\"models\", \"s1 - cond_preg_fill-1_ class_weight balanced.pickle\"), \"wb\") as file:\n",
    "#     pickle.dump(rf_f, file)"
   ]
  },
  {
   "cell_type": "markdown",
   "metadata": {},
   "source": [
    "## Feature Importance\n",
    "\n",
    "<h3 style=\"color:red\">When reducing the # of features the model get worse</h3>"
   ]
  },
  {
   "cell_type": "code",
   "execution_count": 54,
   "metadata": {},
   "outputs": [
    {
     "data": {
      "text/html": [
       "<div>\n",
       "<style scoped>\n",
       "    .dataframe tbody tr th:only-of-type {\n",
       "        vertical-align: middle;\n",
       "    }\n",
       "\n",
       "    .dataframe tbody tr th {\n",
       "        vertical-align: top;\n",
       "    }\n",
       "\n",
       "    .dataframe thead th {\n",
       "        text-align: right;\n",
       "    }\n",
       "</style>\n",
       "<table border=\"1\" class=\"dataframe\">\n",
       "  <thead>\n",
       "    <tr style=\"text-align: right;\">\n",
       "      <th></th>\n",
       "      <th>cols</th>\n",
       "      <th>fi</th>\n",
       "    </tr>\n",
       "  </thead>\n",
       "  <tbody>\n",
       "    <tr>\n",
       "      <th>140</th>\n",
       "      <td>FECHA_SINI_Elapsed</td>\n",
       "      <td>322</td>\n",
       "    </tr>\n",
       "    <tr>\n",
       "      <th>72</th>\n",
       "      <td>CONDICION_ROBO_EXP50</td>\n",
       "      <td>274</td>\n",
       "    </tr>\n",
       "    <tr>\n",
       "      <th>99</th>\n",
       "      <td>CAPITAL_ASEGURADO_COTIZACION</td>\n",
       "      <td>267</td>\n",
       "    </tr>\n",
       "    <tr>\n",
       "      <th>93</th>\n",
       "      <td>dias_entre_denu_y_sini</td>\n",
       "      <td>263</td>\n",
       "    </tr>\n",
       "    <tr>\n",
       "      <th>68</th>\n",
       "      <td>COD_POST_POLIZA</td>\n",
       "      <td>257</td>\n",
       "    </tr>\n",
       "    <tr>\n",
       "      <th>117</th>\n",
       "      <td>ANTIG_pol</td>\n",
       "      <td>231</td>\n",
       "    </tr>\n",
       "    <tr>\n",
       "      <th>103</th>\n",
       "      <td>COD_PROD</td>\n",
       "      <td>201</td>\n",
       "    </tr>\n",
       "    <tr>\n",
       "      <th>65</th>\n",
       "      <td>CODIGO_VEHICULO</td>\n",
       "      <td>183</td>\n",
       "    </tr>\n",
       "    <tr>\n",
       "      <th>100</th>\n",
       "      <td>CAPITAL_VEHICULO</td>\n",
       "      <td>173</td>\n",
       "    </tr>\n",
       "    <tr>\n",
       "      <th>67</th>\n",
       "      <td>COD_POST_OCURRENCIA</td>\n",
       "      <td>173</td>\n",
       "    </tr>\n",
       "  </tbody>\n",
       "</table>\n",
       "</div>"
      ],
      "text/plain": [
       "                             cols   fi\n",
       "140            FECHA_SINI_Elapsed  322\n",
       "72           CONDICION_ROBO_EXP50  274\n",
       "99   CAPITAL_ASEGURADO_COTIZACION  267\n",
       "93         dias_entre_denu_y_sini  263\n",
       "68                COD_POST_POLIZA  257\n",
       "117                     ANTIG_pol  231\n",
       "103                      COD_PROD  201\n",
       "65                CODIGO_VEHICULO  183\n",
       "100              CAPITAL_VEHICULO  173\n",
       "67            COD_POST_OCURRENCIA  173"
      ]
     },
     "execution_count": 54,
     "metadata": {},
     "output_type": "execute_result"
    }
   ],
   "source": [
    "rf_fi = pd.DataFrame({'cols':X_train.columns, 'fi':best_model.best_estimator_.feature_importances_}).sort_values('fi', ascending=False)\n",
    "rf_fi[:10]"
   ]
  },
  {
   "cell_type": "code",
   "execution_count": 55,
   "metadata": {},
   "outputs": [
    {
     "data": {
      "image/png": "[encoded data removed]",
      "text/plain": [
       "<Figure size 432x288 with 1 Axes>"
      ]
     },
     "metadata": {
      "needs_background": "light"
     },
     "output_type": "display_data"
    }
   ],
   "source": [
    "rf_fi[:20].plot.bar(x=\"cols\")\n",
    "plt.xticks(rotation=\"vertical\")\n",
    "plt.show()"
   ]
  },
  {
   "cell_type": "code",
   "execution_count": 56,
   "metadata": {},
   "outputs": [
    {
     "name": "stdout",
     "output_type": "stream",
     "text": [
      "# of features: 40 of 153\n"
     ]
    }
   ],
   "source": [
    "to_keep = list(rf_fi[rf_fi[\"fi\"] >=50][\"cols\"].values) # 0.005\n",
    "print(f\"# of features: {len(to_keep)} of {len(rf_fi)}\")"
   ]
  },
  {
   "cell_type": "code",
   "execution_count": 45,
   "metadata": {},
   "outputs": [
    {
     "data": {
      "text/plain": [
       "'to_remove = [\\'COD_POST_POLIZA_RT_CLUSTER_2019\\', \\'COD_POST_OCURRENCIA_RT_CLUSTER_2019\\',\\n             \\'COD_POST_OCURRENCIA_RC_CLUSTER_2019\\',  \\'COD_POST_POLIZA_RC_CLUSTER_2019\\',\\n             \\'COD_POST_OCURRENCIA_DP_CLUSTER_2019\\', \\'COD_POST_POLIZA_DP_CLUSTER_2019\\',\\n             \"COD_CAUSA_SINI\", \\n            ] # \"es_gte_5\", \"total_condicion\", \\n\\nfor col in to_remove:\\n    if(col in to_keep):\\n        to_keep.remove(col)\\nto_keep'"
      ]
     },
     "execution_count": 45,
     "metadata": {},
     "output_type": "execute_result"
    }
   ],
   "source": [
    "\"\"\"to_remove = ['COD_POST_POLIZA_RT_CLUSTER_2019', 'COD_POST_OCURRENCIA_RT_CLUSTER_2019',\n",
    "             'COD_POST_OCURRENCIA_RC_CLUSTER_2019',  'COD_POST_POLIZA_RC_CLUSTER_2019',\n",
    "             'COD_POST_OCURRENCIA_DP_CLUSTER_2019', 'COD_POST_POLIZA_DP_CLUSTER_2019',\n",
    "             \"COD_CAUSA_SINI\", \n",
    "            ] # \"es_gte_5\", \"total_condicion\", \n",
    "\n",
    "for col in to_remove:\n",
    "    if(col in to_keep):\n",
    "        to_keep.remove(col)\n",
    "to_keep\"\"\""
   ]
  },
  {
   "cell_type": "code",
   "execution_count": 55,
   "metadata": {},
   "outputs": [
    {
     "data": {
      "text/plain": [
       "ExtraTreesClassifier(bootstrap=False, class_weight={0: 1, 1: 10},\n",
       "           criterion='gini', max_depth=10, max_features='auto',\n",
       "           max_leaf_nodes=None, min_impurity_decrease=0.0,\n",
       "           min_impurity_split=None, min_samples_leaf=15,\n",
       "           min_samples_split=2, min_weight_fraction_leaf=0.0,\n",
       "           n_estimators=200, n_jobs=-1, oob_score=False, random_state=0,\n",
       "           verbose=0, warm_start=False)"
      ]
     },
     "execution_count": 55,
     "metadata": {},
     "output_type": "execute_result"
    }
   ],
   "source": [
    "# best model\n",
    "clf.best_estimator_"
   ]
  },
  {
   "cell_type": "code",
   "execution_count": 57,
   "metadata": {},
   "outputs": [],
   "source": [
    "X_train_red = X_train[to_keep].copy()"
   ]
  },
  {
   "cell_type": "code",
   "execution_count": 58,
   "metadata": {},
   "outputs": [
    {
     "name": "stdout",
     "output_type": "stream",
     "text": [
      "40\n"
     ]
    }
   ],
   "source": [
    "print(len(X_train_red.columns))"
   ]
  },
  {
   "cell_type": "markdown",
   "metadata": {},
   "source": [
    "### Training again with less features"
   ]
  },
  {
   "cell_type": "code",
   "execution_count": 59,
   "metadata": {},
   "outputs": [
    {
     "data": {
      "text/plain": [
       "LGBMClassifier(boosting_type='gbdt', class_weight={0: 1, 1: 1.5},\n",
       "               colsample_bytree=1.0, importance_type='split',\n",
       "               learning_rate=0.01, max_depth=None, min_child_samples=11,\n",
       "               min_child_weight=0.001, min_split_gain=0.0, n_estimators=200,\n",
       "               n_jobs=-1, num_leaves=31, objective=None, random_state=0,\n",
       "               reg_alpha=0.0, reg_lambda=0.0, silent=False, subsample=1.0,\n",
       "               subsample_for_bin=200000, subsample_freq=0)"
      ]
     },
     "execution_count": 59,
     "metadata": {},
     "output_type": "execute_result"
    }
   ],
   "source": [
    "# rf = RandomForestClassifier(n_estimators=40, max_features=0.5, min_samples_leaf=7, random_state=random_state, n_jobs=-1)\n",
    "rf = copy(best_model.best_estimator_)\n",
    "rf.fit(X_train_red, y_train)"
   ]
  },
  {
   "cell_type": "code",
   "execution_count": 60,
   "metadata": {},
   "outputs": [
    {
     "data": {
      "text/plain": [
       "(0.7575392038600725, 0.6625444664031621)"
      ]
     },
     "execution_count": 60,
     "metadata": {},
     "output_type": "execute_result"
    }
   ],
   "source": [
    "y_val_pred = rf.predict(X_opt[to_keep])\n",
    "y_val_f1_bestFI, y_val_rocauc_bestFI = f1_score(y_opt, y_val_pred), roc_auc_score(y_opt, y_val_pred)\n",
    "y_val_f1_bestFI, y_val_rocauc_bestFI"
   ]
  },
  {
   "cell_type": "code",
   "execution_count": 61,
   "metadata": {},
   "outputs": [
    {
     "data": {
      "text/plain": [
       "array([[249, 326],\n",
       "       [ 76, 628]])"
      ]
     },
     "execution_count": 61,
     "metadata": {},
     "output_type": "execute_result"
    }
   ],
   "source": [
    "confusion_matrix(y_opt, y_val_pred)"
   ]
  },
  {
   "cell_type": "code",
   "execution_count": 62,
   "metadata": {},
   "outputs": [
    {
     "data": {
      "text/html": [
       "<div>\n",
       "<style scoped>\n",
       "    .dataframe tbody tr th:only-of-type {\n",
       "        vertical-align: middle;\n",
       "    }\n",
       "\n",
       "    .dataframe tbody tr th {\n",
       "        vertical-align: top;\n",
       "    }\n",
       "\n",
       "    .dataframe thead th {\n",
       "        text-align: right;\n",
       "    }\n",
       "</style>\n",
       "<table border=\"1\" class=\"dataframe\">\n",
       "  <thead>\n",
       "    <tr style=\"text-align: right;\">\n",
       "      <th></th>\n",
       "      <th>cols</th>\n",
       "      <th>fi</th>\n",
       "    </tr>\n",
       "  </thead>\n",
       "  <tbody>\n",
       "    <tr>\n",
       "      <th>4</th>\n",
       "      <td>COD_POST_POLIZA</td>\n",
       "      <td>386</td>\n",
       "    </tr>\n",
       "    <tr>\n",
       "      <th>1</th>\n",
       "      <td>CONDICION_ROBO_EXP50</td>\n",
       "      <td>317</td>\n",
       "    </tr>\n",
       "    <tr>\n",
       "      <th>5</th>\n",
       "      <td>ANTIG_pol</td>\n",
       "      <td>296</td>\n",
       "    </tr>\n",
       "    <tr>\n",
       "      <th>0</th>\n",
       "      <td>FECHA_SINI_Elapsed</td>\n",
       "      <td>278</td>\n",
       "    </tr>\n",
       "    <tr>\n",
       "      <th>13</th>\n",
       "      <td>FECHA_SINI_Dayofyear</td>\n",
       "      <td>278</td>\n",
       "    </tr>\n",
       "    <tr>\n",
       "      <th>7</th>\n",
       "      <td>CODIGO_VEHICULO</td>\n",
       "      <td>266</td>\n",
       "    </tr>\n",
       "    <tr>\n",
       "      <th>2</th>\n",
       "      <td>CAPITAL_ASEGURADO_COTIZACION</td>\n",
       "      <td>246</td>\n",
       "    </tr>\n",
       "    <tr>\n",
       "      <th>6</th>\n",
       "      <td>COD_PROD</td>\n",
       "      <td>235</td>\n",
       "    </tr>\n",
       "    <tr>\n",
       "      <th>8</th>\n",
       "      <td>CAPITAL_VEHICULO</td>\n",
       "      <td>235</td>\n",
       "    </tr>\n",
       "    <tr>\n",
       "      <th>3</th>\n",
       "      <td>dias_entre_denu_y_sini</td>\n",
       "      <td>223</td>\n",
       "    </tr>\n",
       "  </tbody>\n",
       "</table>\n",
       "</div>"
      ],
      "text/plain": [
       "                            cols   fi\n",
       "4                COD_POST_POLIZA  386\n",
       "1           CONDICION_ROBO_EXP50  317\n",
       "5                      ANTIG_pol  296\n",
       "0             FECHA_SINI_Elapsed  278\n",
       "13          FECHA_SINI_Dayofyear  278\n",
       "7                CODIGO_VEHICULO  266\n",
       "2   CAPITAL_ASEGURADO_COTIZACION  246\n",
       "6                       COD_PROD  235\n",
       "8               CAPITAL_VEHICULO  235\n",
       "3         dias_entre_denu_y_sini  223"
      ]
     },
     "execution_count": 62,
     "metadata": {},
     "output_type": "execute_result"
    }
   ],
   "source": [
    "rf_fi = pd.DataFrame({'cols':X_train_red.columns, 'fi':rf.feature_importances_}).sort_values('fi', ascending=False)\n",
    "rf_fi[:10]"
   ]
  },
  {
   "cell_type": "code",
   "execution_count": 63,
   "metadata": {},
   "outputs": [
    {
     "data": {
      "image/png": "[encoded data removed]",
      "text/plain": [
       "<Figure size 432x288 with 1 Axes>"
      ]
     },
     "metadata": {
      "needs_background": "light"
     },
     "output_type": "display_data"
    }
   ],
   "source": [
    "rf_fi[:20].plot.bar(x=\"cols\")\n",
    "plt.xticks(rotation=\"vertical\")\n",
    "plt.show()"
   ]
  },
  {
   "cell_type": "code",
   "execution_count": null,
   "metadata": {},
   "outputs": [],
   "source": [
    "# best columns used\n",
    "rf_fi[\"cols\"].values"
   ]
  },
  {
   "cell_type": "markdown",
   "metadata": {},
   "source": [
    "# final model"
   ]
  },
  {
   "cell_type": "code",
   "execution_count": null,
   "metadata": {},
   "outputs": [],
   "source": [
    "# reset_rf_samples()"
   ]
  },
  {
   "cell_type": "markdown",
   "metadata": {
    "heading_collapsed": true
   },
   "source": [
    "## full features final model"
   ]
  },
  {
   "cell_type": "code",
   "execution_count": 39,
   "metadata": {
    "hidden": true
   },
   "outputs": [
    {
     "data": {
      "text/plain": [
       "ExtraTreesClassifier(bootstrap=False, class_weight=None, criterion='gini',\n",
       "           max_depth=10, max_features='sqrt', max_leaf_nodes=None,\n",
       "           min_impurity_decrease=0.0, min_impurity_split=None,\n",
       "           min_samples_leaf=7, min_samples_split=2,\n",
       "           min_weight_fraction_leaf=0.0, n_estimators=200, n_jobs=-1,\n",
       "           oob_score=False, random_state=0, verbose=0, warm_start=False)"
      ]
     },
     "execution_count": 39,
     "metadata": {},
     "output_type": "execute_result"
    }
   ],
   "source": [
    "rf_full = copy(best_model.best_estimator_)\n",
    "rf_full.fit(X_full_train, y_full_train)"
   ]
  },
  {
   "cell_type": "code",
   "execution_count": 40,
   "metadata": {
    "hidden": true
   },
   "outputs": [
    {
     "name": "stdout",
     "output_type": "stream",
     "text": [
      "0.746, 0.738\n"
     ]
    }
   ],
   "source": [
    "y_val_pred = rf_full.predict(X_val)\n",
    "y_val_f1_bestFI = f1_score(y_val, y_val_pred)\n",
    "y_val_rocauc_bestFI = roc_auc_score(y_val, rf_full.predict_proba(X_val)[:, -1])\n",
    "metric_results = \"%.3f, %.3f\" % (y_val_f1_bestFI, y_val_rocauc_bestFI)\n",
    "print(metric_results)"
   ]
  },
  {
   "cell_type": "code",
   "execution_count": 41,
   "metadata": {
    "hidden": true
   },
   "outputs": [
    {
     "data": {
      "text/plain": [
       "array([[118, 145],\n",
       "       [ 39, 270]])"
      ]
     },
     "execution_count": 41,
     "metadata": {},
     "output_type": "execute_result"
    }
   ],
   "source": [
    "conf_mat = confusion_matrix(y_val, y_val_pred)\n",
    "conf_mat"
   ]
  },
  {
   "cell_type": "code",
   "execution_count": 42,
   "metadata": {
    "hidden": true
   },
   "outputs": [
    {
     "data": {
      "text/plain": [
       "<matplotlib.axes._subplots.AxesSubplot at 0x7f1082341dd8>"
      ]
     },
     "execution_count": 42,
     "metadata": {},
     "output_type": "execute_result"
    },
    {
     "data": {
      "image/png": "[encoded data removed]",
      "text/plain": [
       "<Figure size 432x288 with 2 Axes>"
      ]
     },
     "metadata": {},
     "output_type": "display_data"
    }
   ],
   "source": [
    "sns.heatmap(conf_mat, annot=True, fmt=\"d\")"
   ]
  },
  {
   "cell_type": "markdown",
   "metadata": {},
   "source": [
    "## red features final model"
   ]
  },
  {
   "cell_type": "code",
   "execution_count": 64,
   "metadata": {},
   "outputs": [
    {
     "data": {
      "text/plain": [
       "LGBMClassifier(boosting_type='gbdt', class_weight={0: 1, 1: 1.5},\n",
       "               colsample_bytree=1.0, importance_type='split',\n",
       "               learning_rate=0.01, max_depth=None, min_child_samples=11,\n",
       "               min_child_weight=0.001, min_split_gain=0.0, n_estimators=200,\n",
       "               n_jobs=-1, num_leaves=31, objective=None, random_state=0,\n",
       "               reg_alpha=0.0, reg_lambda=0.0, silent=False, subsample=1.0,\n",
       "               subsample_for_bin=200000, subsample_freq=0)"
      ]
     },
     "execution_count": 64,
     "metadata": {},
     "output_type": "execute_result"
    }
   ],
   "source": [
    "rf_full = copy(best_model.best_estimator_)\n",
    "rf_full.fit(X_full_train[to_keep], y_full_train)"
   ]
  },
  {
   "cell_type": "code",
   "execution_count": 65,
   "metadata": {},
   "outputs": [
    {
     "name": "stdout",
     "output_type": "stream",
     "text": [
      "0.749, 0.709\n"
     ]
    }
   ],
   "source": [
    "y_val_pred_prob = rf_full.predict_proba(X_val[to_keep])[:, -1]\n",
    "y_val_pred = y_val_pred_prob > 0.5\n",
    "y_val_f1_bestFI = f1_score(y_val, y_val_pred)\n",
    "y_val_rocauc_bestFI = roc_auc_score(y_val, y_val_pred_prob)\n",
    "metric_results = \"%.3f, %.3f\" % (y_val_f1_bestFI, y_val_rocauc_bestFI)\n",
    "print(metric_results)"
   ]
  },
  {
   "cell_type": "code",
   "execution_count": 66,
   "metadata": {},
   "outputs": [
    {
     "data": {
      "text/plain": [
       "array([[121, 142],\n",
       "       [ 39, 270]])"
      ]
     },
     "execution_count": 66,
     "metadata": {},
     "output_type": "execute_result"
    }
   ],
   "source": [
    "conf_mat = confusion_matrix(y_val, y_val_pred)\n",
    "conf_mat"
   ]
  },
  {
   "cell_type": "code",
   "execution_count": 67,
   "metadata": {},
   "outputs": [
    {
     "data": {
      "text/plain": [
       "<matplotlib.axes._subplots.AxesSubplot at 0x7fba70191588>"
      ]
     },
     "execution_count": 67,
     "metadata": {},
     "output_type": "execute_result"
    },
    {
     "data": {
      "image/png": "[encoded data removed]",
      "text/plain": [
       "<Figure size 432x288 with 2 Axes>"
      ]
     },
     "metadata": {
      "needs_background": "light"
     },
     "output_type": "display_data"
    }
   ],
   "source": [
    "sns.heatmap(conf_mat, annot=True, fmt=\"d\")"
   ]
  },
  {
   "cell_type": "markdown",
   "metadata": {},
   "source": [
    "## Tronador (sum cond >=5) comparison"
   ]
  },
  {
   "cell_type": "code",
   "execution_count": 68,
   "metadata": {},
   "outputs": [
    {
     "name": "stdout",
     "output_type": "stream",
     "text": [
      "(0.6376811594202898,0.6036583114917495)\n"
     ]
    }
   ],
   "source": [
    "# comparing against > 5 logic\n",
    "y_tronador = X_val[\"total_condicion\"] >= 5\n",
    "print(f\"({f1_score(y_val, y_tronador)},{roc_auc_score(y_val, y_tronador)})\")"
   ]
  },
  {
   "cell_type": "code",
   "execution_count": 69,
   "metadata": {},
   "outputs": [
    {
     "data": {
      "text/plain": [
       "array([[149, 114],\n",
       "       [111, 198]])"
      ]
     },
     "execution_count": 69,
     "metadata": {},
     "output_type": "execute_result"
    }
   ],
   "source": [
    "conf_mat = confusion_matrix(y_val, y_tronador)\n",
    "conf_mat"
   ]
  },
  {
   "cell_type": "code",
   "execution_count": 70,
   "metadata": {},
   "outputs": [
    {
     "data": {
      "text/plain": [
       "<matplotlib.axes._subplots.AxesSubplot at 0x7fba70a29be0>"
      ]
     },
     "execution_count": 70,
     "metadata": {},
     "output_type": "execute_result"
    },
    {
     "data": {
      "image/png": "[encoded data removed]",
      "text/plain": [
       "<Figure size 432x288 with 2 Axes>"
      ]
     },
     "metadata": {
      "needs_background": "light"
     },
     "output_type": "display_data"
    }
   ],
   "source": [
    "sns.heatmap(conf_mat, annot=True, fmt=\"d\")"
   ]
  },
  {
   "cell_type": "code",
   "execution_count": 75,
   "metadata": {},
   "outputs": [],
   "source": [
    "best_model = copy(rf_full)"
   ]
  },
  {
   "cell_type": "markdown",
   "metadata": {},
   "source": [
    "# Saving final model & columns used into hard drive"
   ]
  },
  {
   "cell_type": "code",
   "execution_count": 83,
   "metadata": {},
   "outputs": [],
   "source": [
    "path_to_save = f\"models/{model_id}/\"\n",
    "os.makedirs(path_to_save, exist_ok=True)"
   ]
  },
  {
   "cell_type": "code",
   "execution_count": 84,
   "metadata": {},
   "outputs": [],
   "source": [
    "model_file = os.path.join(path_to_save, f\"{model_id}.pickle\")\n",
    "\n",
    "with open(model_file, \"wb\") as f:\n",
    "    pickle.dump(best_model, f, pickle.HIGHEST_PROTOCOL)"
   ]
  },
  {
   "cell_type": "code",
   "execution_count": 85,
   "metadata": {},
   "outputs": [],
   "source": [
    "# save file for humans\n",
    "model_file = os.path.join(path_to_save, f\"{model_id} - readable.pickle\")\n",
    "\n",
    "with open(model_file, \"wb\") as f:\n",
    "    pickle.dump(best_model, f, 0) # 0 is human readable format"
   ]
  },
  {
   "cell_type": "code",
   "execution_count": 86,
   "metadata": {},
   "outputs": [
    {
     "name": "stdout",
     "output_type": "stream",
     "text": [
      "['FECHA_SINI_Elapsed', 'CONDICION_ROBO_EXP50', 'CAPITAL_ASEGURADO_COTIZACION', 'dias_entre_denu_y_sini', 'COD_POST_POLIZA', 'ANTIG_pol', 'COD_PROD', 'CODIGO_VEHICULO', 'CAPITAL_VEHICULO', 'COD_POST_OCURRENCIA', 'FALTANTE', 'COD_POST_POLIZA_RC_CLUSTER_2019', 'ESTAD_VEH_ASEG', 'FECHA_SINI_Dayofyear', 'COD_POST_OCURRENCIA_DP_CLUSTER_2019', 'cond_C10', 'CANT_RENOVACION', 'COD_POST_OCURRENCIA_RT_CLUSTER_2019', 'cond_05', 'CODIGO_REAPERTURA', 'FECHA_SINI_Day', 'COD_ZONA_ROBO', 'TIPO_LESION', 'COD_POST_OCURRENCIA_RC_CLUSTER_2019', 'CERRADURA_BAUL', 'OCUPACION_ASEG', 'MCA_JUICIO', 'CONV_COMISIONARIO', 'dist_fformal_fsini', 'preg_5', 'FECHA_SINI_Dayofweek', 'COD_POST_POLIZA_RT_CLUSTER_2019', 'TELEFONO_TERC', 'preg_31', 'TIPO_SINIESTRO', 'COD_COBRO', 'COD_POST_TERC', 'SEGMENTO', 'COD_POST_POLIZA_DP_CLUSTER_2019', 'dist_fformal_fdenu']\n"
     ]
    }
   ],
   "source": [
    "# merging list input & target\n",
    "full_cols = list(to_keep)  # + [\"EXISTE_FRAUDE\"]\n",
    "print(full_cols)"
   ]
  },
  {
   "cell_type": "code",
   "execution_count": 87,
   "metadata": {},
   "outputs": [],
   "source": [
    "columns_file = os.path.join(path_to_save, f\"{model_id} (COLUMNS) - n_features_{len(full_cols)}.pickle\")\n",
    "\n",
    "with open(columns_file, \"wb\") as file:\n",
    "    pickle.dump(full_cols, file, pickle.HIGHEST_PROTOCOL)"
   ]
  },
  {
   "cell_type": "code",
   "execution_count": 81,
   "metadata": {},
   "outputs": [],
   "source": [
    "# saving to use as example a few rows to implement the model\n",
    "# path_to_save = \"../../src/data/1.1 - df_train 01-18to12-18/\"\n",
    "# sample_file = os.path.join(path_to_save, f\"{model_id} (sample)  - dataset example to predict model.csv\")\n",
    "\n",
    "# df_example = X_val.loc[:, to_keep][-50:]\n",
    "# df_example[\"EXISTE_FRAUDE\"] = y_val[-50:]\n",
    "# df_example.to_csv(sample_file)"
   ]
  },
  {
   "cell_type": "code",
   "execution_count": null,
   "metadata": {},
   "outputs": [],
   "source": [
    "# df_example.head()"
   ]
  },
  {
   "cell_type": "markdown",
   "metadata": {},
   "source": [
    "# Test prediction"
   ]
  },
  {
   "cell_type": "code",
   "execution_count": 71,
   "metadata": {},
   "outputs": [],
   "source": [
    "df_test = pd.read_feather(os.path.join(path, \"1.2.b - group zone - 01-17 to 01-19 - df_test 04-19to04-19.feather\"))"
   ]
  },
  {
   "cell_type": "code",
   "execution_count": 59,
   "metadata": {},
   "outputs": [],
   "source": [
    "# Loding the model\n",
    "\n",
    "def load_model(file_name):\n",
    "    \"\"\"Load the dump model.\"\"\"\n",
    "    folder = \"models\"\n",
    "    path_to_load = f\"../../src/{folder}/1.1 - df_train 01-18to12-18\"\n",
    "    model_file = os.path.join(path_to_load, file_name)\n",
    "\n",
    "    with open(model_file, \"rb\") as file:\n",
    "        m = pickle.load(file)\n",
    "    return m\n",
    "\n",
    "\n",
    "def load_columns(file_name):\n",
    "    \"\"\"Load the array of columns use in the dump model.\"\"\"\n",
    "    folder = \"features\"\n",
    "    path_to_load = f\"../../src/{folder}/1.1 - df_train 01-18to12-18\"\n",
    "    columns_file = os.path.join(path_to_load, file_name)\n",
    "\n",
    "    with open(columns_file, \"rb\") as file:\n",
    "        columns = pickle.load(file)\n",
    "    return columns"
   ]
  },
  {
   "cell_type": "code",
   "execution_count": 47,
   "metadata": {},
   "outputs": [],
   "source": [
    "model_name = \"1.1.b.2.f(Model) - Model Optimization recall - class_weight (1, 18) - time sorted - valid score (0.403, 0.972).pickle\"\n",
    "columns_name = \"1.1.b.2.f (COLUMNS) - features: 17.pickle\"\n",
    "m = load_model(model_name)\n",
    "columns = load_columns(columns_name)"
   ]
  },
  {
   "cell_type": "code",
   "execution_count": 72,
   "metadata": {},
   "outputs": [],
   "source": [
    "X_test = df_test[to_keep]\n",
    "y_test = df_test[\"EXISTE_FRAUDE\"]"
   ]
  },
  {
   "cell_type": "code",
   "execution_count": 73,
   "metadata": {},
   "outputs": [
    {
     "data": {
      "text/html": [
       "<div>\n",
       "<style scoped>\n",
       "    .dataframe tbody tr th:only-of-type {\n",
       "        vertical-align: middle;\n",
       "    }\n",
       "\n",
       "    .dataframe tbody tr th {\n",
       "        vertical-align: top;\n",
       "    }\n",
       "\n",
       "    .dataframe thead th {\n",
       "        text-align: right;\n",
       "    }\n",
       "</style>\n",
       "<table border=\"1\" class=\"dataframe\">\n",
       "  <thead>\n",
       "    <tr style=\"text-align: right;\">\n",
       "      <th></th>\n",
       "      <th>FECHA_SINI_Elapsed</th>\n",
       "      <th>CONDICION_ROBO_EXP50</th>\n",
       "      <th>CAPITAL_ASEGURADO_COTIZACION</th>\n",
       "      <th>dias_entre_denu_y_sini</th>\n",
       "      <th>COD_POST_POLIZA</th>\n",
       "      <th>ANTIG_pol</th>\n",
       "      <th>COD_PROD</th>\n",
       "      <th>CODIGO_VEHICULO</th>\n",
       "      <th>CAPITAL_VEHICULO</th>\n",
       "      <th>COD_POST_OCURRENCIA</th>\n",
       "      <th>FALTANTE</th>\n",
       "      <th>COD_POST_POLIZA_RC_CLUSTER_2019</th>\n",
       "      <th>ESTAD_VEH_ASEG</th>\n",
       "      <th>FECHA_SINI_Dayofyear</th>\n",
       "      <th>COD_POST_OCURRENCIA_DP_CLUSTER_2019</th>\n",
       "      <th>cond_C10</th>\n",
       "      <th>CANT_RENOVACION</th>\n",
       "      <th>COD_POST_OCURRENCIA_RT_CLUSTER_2019</th>\n",
       "      <th>cond_05</th>\n",
       "      <th>CODIGO_REAPERTURA</th>\n",
       "      <th>FECHA_SINI_Day</th>\n",
       "      <th>COD_ZONA_ROBO</th>\n",
       "      <th>TIPO_LESION</th>\n",
       "      <th>COD_POST_OCURRENCIA_RC_CLUSTER_2019</th>\n",
       "      <th>CERRADURA_BAUL</th>\n",
       "      <th>OCUPACION_ASEG</th>\n",
       "      <th>MCA_JUICIO</th>\n",
       "      <th>CONV_COMISIONARIO</th>\n",
       "      <th>dist_fformal_fsini</th>\n",
       "      <th>preg_5</th>\n",
       "      <th>FECHA_SINI_Dayofweek</th>\n",
       "      <th>COD_POST_POLIZA_RT_CLUSTER_2019</th>\n",
       "      <th>TELEFONO_TERC</th>\n",
       "      <th>preg_31</th>\n",
       "      <th>TIPO_SINIESTRO</th>\n",
       "      <th>COD_COBRO</th>\n",
       "      <th>COD_POST_TERC</th>\n",
       "      <th>SEGMENTO</th>\n",
       "      <th>COD_POST_POLIZA_DP_CLUSTER_2019</th>\n",
       "      <th>dist_fformal_fdenu</th>\n",
       "    </tr>\n",
       "  </thead>\n",
       "  <tbody>\n",
       "    <tr>\n",
       "      <th>0</th>\n",
       "      <td>1554076800</td>\n",
       "      <td>-1.0</td>\n",
       "      <td>2293</td>\n",
       "      <td>0.0</td>\n",
       "      <td>1439.0</td>\n",
       "      <td>699.0</td>\n",
       "      <td>73747.0</td>\n",
       "      <td>18380.0</td>\n",
       "      <td>4514</td>\n",
       "      <td>1439.0</td>\n",
       "      <td>1</td>\n",
       "      <td>26.0</td>\n",
       "      <td>5.0</td>\n",
       "      <td>91.0</td>\n",
       "      <td>28.0</td>\n",
       "      <td>-1.0</td>\n",
       "      <td>24.0</td>\n",
       "      <td>8.0</td>\n",
       "      <td>-1.0</td>\n",
       "      <td>-1.0</td>\n",
       "      <td>1.0</td>\n",
       "      <td>3.0</td>\n",
       "      <td>-1</td>\n",
       "      <td>26.0</td>\n",
       "      <td>0</td>\n",
       "      <td>44.0</td>\n",
       "      <td>-1</td>\n",
       "      <td>23</td>\n",
       "      <td>-1.0</td>\n",
       "      <td>-1</td>\n",
       "      <td>0.0</td>\n",
       "      <td>8.0</td>\n",
       "      <td>-1</td>\n",
       "      <td>-1</td>\n",
       "      <td>5</td>\n",
       "      <td>0</td>\n",
       "      <td>-1.0</td>\n",
       "      <td>5</td>\n",
       "      <td>28.0</td>\n",
       "      <td>-1.0</td>\n",
       "    </tr>\n",
       "    <tr>\n",
       "      <th>1</th>\n",
       "      <td>1554076800</td>\n",
       "      <td>-1.0</td>\n",
       "      <td>1985</td>\n",
       "      <td>0.0</td>\n",
       "      <td>1684.0</td>\n",
       "      <td>1216.0</td>\n",
       "      <td>5350.0</td>\n",
       "      <td>6846.0</td>\n",
       "      <td>3913</td>\n",
       "      <td>1708.0</td>\n",
       "      <td>1</td>\n",
       "      <td>26.0</td>\n",
       "      <td>3.0</td>\n",
       "      <td>91.0</td>\n",
       "      <td>25.0</td>\n",
       "      <td>-1.0</td>\n",
       "      <td>41.0</td>\n",
       "      <td>8.0</td>\n",
       "      <td>-1.0</td>\n",
       "      <td>-1.0</td>\n",
       "      <td>1.0</td>\n",
       "      <td>1.0</td>\n",
       "      <td>-1</td>\n",
       "      <td>26.0</td>\n",
       "      <td>0</td>\n",
       "      <td>5.0</td>\n",
       "      <td>-1</td>\n",
       "      <td>107</td>\n",
       "      <td>-1.0</td>\n",
       "      <td>-1</td>\n",
       "      <td>0.0</td>\n",
       "      <td>8.0</td>\n",
       "      <td>-1</td>\n",
       "      <td>-1</td>\n",
       "      <td>5</td>\n",
       "      <td>0</td>\n",
       "      <td>-1.0</td>\n",
       "      <td>4</td>\n",
       "      <td>25.0</td>\n",
       "      <td>-1.0</td>\n",
       "    </tr>\n",
       "    <tr>\n",
       "      <th>2</th>\n",
       "      <td>1554076800</td>\n",
       "      <td>1.0</td>\n",
       "      <td>433</td>\n",
       "      <td>0.0</td>\n",
       "      <td>1407.0</td>\n",
       "      <td>0.0</td>\n",
       "      <td>73761.0</td>\n",
       "      <td>2605.0</td>\n",
       "      <td>674</td>\n",
       "      <td>1678.0</td>\n",
       "      <td>1</td>\n",
       "      <td>22.0</td>\n",
       "      <td>3.0</td>\n",
       "      <td>91.0</td>\n",
       "      <td>27.0</td>\n",
       "      <td>-1.0</td>\n",
       "      <td>1.0</td>\n",
       "      <td>6.0</td>\n",
       "      <td>-1.0</td>\n",
       "      <td>-1.0</td>\n",
       "      <td>1.0</td>\n",
       "      <td>3.0</td>\n",
       "      <td>-1</td>\n",
       "      <td>24.0</td>\n",
       "      <td>-1</td>\n",
       "      <td>44.0</td>\n",
       "      <td>-1</td>\n",
       "      <td>38</td>\n",
       "      <td>-1.0</td>\n",
       "      <td>-1</td>\n",
       "      <td>0.0</td>\n",
       "      <td>5.0</td>\n",
       "      <td>-1</td>\n",
       "      <td>-1</td>\n",
       "      <td>6</td>\n",
       "      <td>5</td>\n",
       "      <td>-1.0</td>\n",
       "      <td>4</td>\n",
       "      <td>25.0</td>\n",
       "      <td>-1.0</td>\n",
       "    </tr>\n",
       "    <tr>\n",
       "      <th>3</th>\n",
       "      <td>1554076800</td>\n",
       "      <td>-1.0</td>\n",
       "      <td>2359</td>\n",
       "      <td>0.0</td>\n",
       "      <td>5178.0</td>\n",
       "      <td>28.0</td>\n",
       "      <td>72948.0</td>\n",
       "      <td>5611.0</td>\n",
       "      <td>4838</td>\n",
       "      <td>5178.0</td>\n",
       "      <td>1</td>\n",
       "      <td>8.0</td>\n",
       "      <td>3.0</td>\n",
       "      <td>91.0</td>\n",
       "      <td>8.0</td>\n",
       "      <td>-1.0</td>\n",
       "      <td>2.0</td>\n",
       "      <td>3.0</td>\n",
       "      <td>-1.0</td>\n",
       "      <td>-1.0</td>\n",
       "      <td>1.0</td>\n",
       "      <td>30.0</td>\n",
       "      <td>-1</td>\n",
       "      <td>8.0</td>\n",
       "      <td>-1</td>\n",
       "      <td>44.0</td>\n",
       "      <td>-1</td>\n",
       "      <td>106</td>\n",
       "      <td>-1.0</td>\n",
       "      <td>-1</td>\n",
       "      <td>0.0</td>\n",
       "      <td>3.0</td>\n",
       "      <td>-1</td>\n",
       "      <td>-1</td>\n",
       "      <td>9</td>\n",
       "      <td>5</td>\n",
       "      <td>-1.0</td>\n",
       "      <td>5</td>\n",
       "      <td>8.0</td>\n",
       "      <td>-1.0</td>\n",
       "    </tr>\n",
       "    <tr>\n",
       "      <th>4</th>\n",
       "      <td>1554076800</td>\n",
       "      <td>-1.0</td>\n",
       "      <td>2359</td>\n",
       "      <td>0.0</td>\n",
       "      <td>5178.0</td>\n",
       "      <td>28.0</td>\n",
       "      <td>72948.0</td>\n",
       "      <td>5611.0</td>\n",
       "      <td>4838</td>\n",
       "      <td>5178.0</td>\n",
       "      <td>1</td>\n",
       "      <td>8.0</td>\n",
       "      <td>3.0</td>\n",
       "      <td>91.0</td>\n",
       "      <td>8.0</td>\n",
       "      <td>-1.0</td>\n",
       "      <td>2.0</td>\n",
       "      <td>3.0</td>\n",
       "      <td>-1.0</td>\n",
       "      <td>1.0</td>\n",
       "      <td>1.0</td>\n",
       "      <td>30.0</td>\n",
       "      <td>-1</td>\n",
       "      <td>8.0</td>\n",
       "      <td>0</td>\n",
       "      <td>44.0</td>\n",
       "      <td>-1</td>\n",
       "      <td>106</td>\n",
       "      <td>-1.0</td>\n",
       "      <td>-1</td>\n",
       "      <td>0.0</td>\n",
       "      <td>3.0</td>\n",
       "      <td>-1</td>\n",
       "      <td>-1</td>\n",
       "      <td>9</td>\n",
       "      <td>5</td>\n",
       "      <td>-1.0</td>\n",
       "      <td>5</td>\n",
       "      <td>8.0</td>\n",
       "      <td>-1.0</td>\n",
       "    </tr>\n",
       "  </tbody>\n",
       "</table>\n",
       "</div>"
      ],
      "text/plain": [
       "   FECHA_SINI_Elapsed  CONDICION_ROBO_EXP50  CAPITAL_ASEGURADO_COTIZACION  \\\n",
       "0          1554076800                  -1.0                          2293   \n",
       "1          1554076800                  -1.0                          1985   \n",
       "2          1554076800                   1.0                           433   \n",
       "3          1554076800                  -1.0                          2359   \n",
       "4          1554076800                  -1.0                          2359   \n",
       "\n",
       "   dias_entre_denu_y_sini  COD_POST_POLIZA  ANTIG_pol  COD_PROD  \\\n",
       "0                     0.0           1439.0      699.0   73747.0   \n",
       "1                     0.0           1684.0     1216.0    5350.0   \n",
       "2                     0.0           1407.0        0.0   73761.0   \n",
       "3                     0.0           5178.0       28.0   72948.0   \n",
       "4                     0.0           5178.0       28.0   72948.0   \n",
       "\n",
       "   CODIGO_VEHICULO  CAPITAL_VEHICULO  COD_POST_OCURRENCIA  FALTANTE  \\\n",
       "0          18380.0              4514               1439.0         1   \n",
       "1           6846.0              3913               1708.0         1   \n",
       "2           2605.0               674               1678.0         1   \n",
       "3           5611.0              4838               5178.0         1   \n",
       "4           5611.0              4838               5178.0         1   \n",
       "\n",
       "   COD_POST_POLIZA_RC_CLUSTER_2019  ESTAD_VEH_ASEG  FECHA_SINI_Dayofyear  \\\n",
       "0                             26.0             5.0                  91.0   \n",
       "1                             26.0             3.0                  91.0   \n",
       "2                             22.0             3.0                  91.0   \n",
       "3                              8.0             3.0                  91.0   \n",
       "4                              8.0             3.0                  91.0   \n",
       "\n",
       "   COD_POST_OCURRENCIA_DP_CLUSTER_2019  cond_C10  CANT_RENOVACION  \\\n",
       "0                                 28.0      -1.0             24.0   \n",
       "1                                 25.0      -1.0             41.0   \n",
       "2                                 27.0      -1.0              1.0   \n",
       "3                                  8.0      -1.0              2.0   \n",
       "4                                  8.0      -1.0              2.0   \n",
       "\n",
       "   COD_POST_OCURRENCIA_RT_CLUSTER_2019  cond_05  CODIGO_REAPERTURA  \\\n",
       "0                                  8.0     -1.0               -1.0   \n",
       "1                                  8.0     -1.0               -1.0   \n",
       "2                                  6.0     -1.0               -1.0   \n",
       "3                                  3.0     -1.0               -1.0   \n",
       "4                                  3.0     -1.0                1.0   \n",
       "\n",
       "   FECHA_SINI_Day  COD_ZONA_ROBO  TIPO_LESION  \\\n",
       "0             1.0            3.0           -1   \n",
       "1             1.0            1.0           -1   \n",
       "2             1.0            3.0           -1   \n",
       "3             1.0           30.0           -1   \n",
       "4             1.0           30.0           -1   \n",
       "\n",
       "   COD_POST_OCURRENCIA_RC_CLUSTER_2019  CERRADURA_BAUL  OCUPACION_ASEG  \\\n",
       "0                                 26.0               0            44.0   \n",
       "1                                 26.0               0             5.0   \n",
       "2                                 24.0              -1            44.0   \n",
       "3                                  8.0              -1            44.0   \n",
       "4                                  8.0               0            44.0   \n",
       "\n",
       "   MCA_JUICIO  CONV_COMISIONARIO  dist_fformal_fsini  preg_5  \\\n",
       "0          -1                 23                -1.0      -1   \n",
       "1          -1                107                -1.0      -1   \n",
       "2          -1                 38                -1.0      -1   \n",
       "3          -1                106                -1.0      -1   \n",
       "4          -1                106                -1.0      -1   \n",
       "\n",
       "   FECHA_SINI_Dayofweek  COD_POST_POLIZA_RT_CLUSTER_2019  TELEFONO_TERC  \\\n",
       "0                   0.0                              8.0             -1   \n",
       "1                   0.0                              8.0             -1   \n",
       "2                   0.0                              5.0             -1   \n",
       "3                   0.0                              3.0             -1   \n",
       "4                   0.0                              3.0             -1   \n",
       "\n",
       "   preg_31  TIPO_SINIESTRO  COD_COBRO  COD_POST_TERC  SEGMENTO  \\\n",
       "0       -1               5          0           -1.0         5   \n",
       "1       -1               5          0           -1.0         4   \n",
       "2       -1               6          5           -1.0         4   \n",
       "3       -1               9          5           -1.0         5   \n",
       "4       -1               9          5           -1.0         5   \n",
       "\n",
       "   COD_POST_POLIZA_DP_CLUSTER_2019  dist_fformal_fdenu  \n",
       "0                             28.0                -1.0  \n",
       "1                             25.0                -1.0  \n",
       "2                             25.0                -1.0  \n",
       "3                              8.0                -1.0  \n",
       "4                              8.0                -1.0  "
      ]
     },
     "execution_count": 73,
     "metadata": {},
     "output_type": "execute_result"
    }
   ],
   "source": [
    "X_test.head()"
   ]
  },
  {
   "cell_type": "markdown",
   "metadata": {},
   "source": [
    "## Model in test"
   ]
  },
  {
   "cell_type": "code",
   "execution_count": 76,
   "metadata": {},
   "outputs": [
    {
     "name": "stdout",
     "output_type": "stream",
     "text": [
      "0.016, 0.925\n"
     ]
    }
   ],
   "source": [
    "# using trained model\n",
    "y_test_pred_prob = best_model.predict_proba(X_test)[:, -1]\n",
    "\n",
    "# Using load model\n",
    "# y_test_pred_prob = m.predict_proba(X_test)[:, -1]\n",
    "\n",
    "print(\"%.3f, %.3f\" % (f1_score(y_test, y_test_pred_prob > 0.5), roc_auc_score(y_test, y_test_pred_prob)))"
   ]
  },
  {
   "cell_type": "code",
   "execution_count": 106,
   "metadata": {},
   "outputs": [
    {
     "data": {
      "text/plain": [
       "<matplotlib.axes._subplots.AxesSubplot at 0x7fba4766a240>"
      ]
     },
     "execution_count": 106,
     "metadata": {},
     "output_type": "execute_result"
    },
    {
     "data": {
      "image/png": "[encoded data removed]",
      "text/plain": [
       "<Figure size 432x288 with 2 Axes>"
      ]
     },
     "metadata": {
      "needs_background": "light"
     },
     "output_type": "display_data"
    }
   ],
   "source": [
    "conf_mat = confusion_matrix(y_test, ((y_test_pred_prob > 0.5)))\n",
    "sns.heatmap(conf_mat, annot=True, fmt=\"d\")"
   ]
  },
  {
   "cell_type": "markdown",
   "metadata": {},
   "source": [
    "## Tronador in test"
   ]
  },
  {
   "cell_type": "code",
   "execution_count": 79,
   "metadata": {},
   "outputs": [
    {
     "name": "stdout",
     "output_type": "stream",
     "text": [
      "0.330, 0.851\n"
     ]
    }
   ],
   "source": [
    "y_tronador = df_test[\"es_gte_5\"]\n",
    "print(\"%.3f, %.3f\" % (f1_score(y_test, y_tronador), roc_auc_score(y_test, y_tronador)))"
   ]
  },
  {
   "cell_type": "code",
   "execution_count": 80,
   "metadata": {},
   "outputs": [
    {
     "data": {
      "text/plain": [
       "<matplotlib.axes._subplots.AxesSubplot at 0x7fba615a2cf8>"
      ]
     },
     "execution_count": 80,
     "metadata": {},
     "output_type": "execute_result"
    },
    {
     "data": {
      "image/png": "[encoded data removed]",
      "text/plain": [
       "<Figure size 432x288 with 2 Axes>"
      ]
     },
     "metadata": {
      "needs_background": "light"
     },
     "output_type": "display_data"
    }
   ],
   "source": [
    "conf_mat = confusion_matrix(y_test, y_tronador)\n",
    "sns.heatmap(conf_mat, annot=True, fmt=\"d\")"
   ]
  },
  {
   "cell_type": "code",
   "execution_count": 102,
   "metadata": {},
   "outputs": [
    {
     "data": {
      "text/html": [
       "<div>\n",
       "<style scoped>\n",
       "    .dataframe tbody tr th:only-of-type {\n",
       "        vertical-align: middle;\n",
       "    }\n",
       "\n",
       "    .dataframe tbody tr th {\n",
       "        vertical-align: top;\n",
       "    }\n",
       "\n",
       "    .dataframe thead tr th {\n",
       "        text-align: left;\n",
       "    }\n",
       "\n",
       "    .dataframe thead tr:last-of-type th {\n",
       "        text-align: right;\n",
       "    }\n",
       "</style>\n",
       "<table border=\"1\" class=\"dataframe\">\n",
       "  <thead>\n",
       "    <tr>\n",
       "      <th></th>\n",
       "      <th>EXISTE_FRAUDE</th>\n",
       "      <th colspan=\"2\" halign=\"left\">False</th>\n",
       "      <th colspan=\"2\" halign=\"left\">True</th>\n",
       "    </tr>\n",
       "    <tr>\n",
       "      <th></th>\n",
       "      <th>y_pred</th>\n",
       "      <th>False</th>\n",
       "      <th>True</th>\n",
       "      <th>False</th>\n",
       "      <th>True</th>\n",
       "    </tr>\n",
       "    <tr>\n",
       "      <th>es_gte_5</th>\n",
       "      <th>TIPO_EXPED</th>\n",
       "      <th></th>\n",
       "      <th></th>\n",
       "      <th></th>\n",
       "      <th></th>\n",
       "    </tr>\n",
       "  </thead>\n",
       "  <tbody>\n",
       "    <tr>\n",
       "      <th rowspan=\"7\" valign=\"top\">False</th>\n",
       "      <th>0</th>\n",
       "      <td>160</td>\n",
       "      <td>1</td>\n",
       "      <td>0</td>\n",
       "      <td>0</td>\n",
       "    </tr>\n",
       "    <tr>\n",
       "      <th>1</th>\n",
       "      <td>2549</td>\n",
       "      <td>43</td>\n",
       "      <td>0</td>\n",
       "      <td>0</td>\n",
       "    </tr>\n",
       "    <tr>\n",
       "      <th>2</th>\n",
       "      <td>14288</td>\n",
       "      <td>1805</td>\n",
       "      <td>0</td>\n",
       "      <td>0</td>\n",
       "    </tr>\n",
       "    <tr>\n",
       "      <th>3</th>\n",
       "      <td>5343</td>\n",
       "      <td>7181</td>\n",
       "      <td>1</td>\n",
       "      <td>0</td>\n",
       "    </tr>\n",
       "    <tr>\n",
       "      <th>4</th>\n",
       "      <td>372</td>\n",
       "      <td>61</td>\n",
       "      <td>0</td>\n",
       "      <td>0</td>\n",
       "    </tr>\n",
       "    <tr>\n",
       "      <th>5</th>\n",
       "      <td>245</td>\n",
       "      <td>30</td>\n",
       "      <td>0</td>\n",
       "      <td>5</td>\n",
       "    </tr>\n",
       "    <tr>\n",
       "      <th>6</th>\n",
       "      <td>112</td>\n",
       "      <td>2124</td>\n",
       "      <td>0</td>\n",
       "      <td>22</td>\n",
       "    </tr>\n",
       "    <tr>\n",
       "      <th rowspan=\"6\" valign=\"top\">True</th>\n",
       "      <th>0</th>\n",
       "      <td>2</td>\n",
       "      <td>0</td>\n",
       "      <td>0</td>\n",
       "      <td>0</td>\n",
       "    </tr>\n",
       "    <tr>\n",
       "      <th>1</th>\n",
       "      <td>11</td>\n",
       "      <td>0</td>\n",
       "      <td>0</td>\n",
       "      <td>0</td>\n",
       "    </tr>\n",
       "    <tr>\n",
       "      <th>2</th>\n",
       "      <td>0</td>\n",
       "      <td>1</td>\n",
       "      <td>0</td>\n",
       "      <td>0</td>\n",
       "    </tr>\n",
       "    <tr>\n",
       "      <th>3</th>\n",
       "      <td>1</td>\n",
       "      <td>0</td>\n",
       "      <td>0</td>\n",
       "      <td>0</td>\n",
       "    </tr>\n",
       "    <tr>\n",
       "      <th>5</th>\n",
       "      <td>89</td>\n",
       "      <td>8</td>\n",
       "      <td>4</td>\n",
       "      <td>1</td>\n",
       "    </tr>\n",
       "    <tr>\n",
       "      <th>6</th>\n",
       "      <td>4</td>\n",
       "      <td>132</td>\n",
       "      <td>0</td>\n",
       "      <td>63</td>\n",
       "    </tr>\n",
       "  </tbody>\n",
       "</table>\n",
       "</div>"
      ],
      "text/plain": [
       "EXISTE_FRAUDE        False       True       \n",
       "y_pred               False True  False True \n",
       "es_gte_5 TIPO_EXPED                         \n",
       "False    0             160     1     0     0\n",
       "         1            2549    43     0     0\n",
       "         2           14288  1805     0     0\n",
       "         3            5343  7181     1     0\n",
       "         4             372    61     0     0\n",
       "         5             245    30     0     5\n",
       "         6             112  2124     0    22\n",
       "True     0               2     0     0     0\n",
       "         1              11     0     0     0\n",
       "         2               0     1     0     0\n",
       "         3               1     0     0     0\n",
       "         5              89     8     4     1\n",
       "         6               4   132     0    63"
      ]
     },
     "execution_count": 102,
     "metadata": {},
     "output_type": "execute_result"
    }
   ],
   "source": [
    "tmp = df_test.copy()\n",
    "tmp[\"y_pred\"] = y_test_pred_prob\n",
    "\n",
    "pd.crosstab([tmp[\"es_gte_5\"], tmp[\"TIPO_EXPED\"]], [tmp[\"EXISTE_FRAUDE\"], tmp[\"y_pred\"] > 0.5])"
   ]
  },
  {
   "cell_type": "code",
   "execution_count": null,
   "metadata": {},
   "outputs": [],
   "source": []
  }
 ],
 "metadata": {
  "kernelspec": {
   "display_name": "Python 3",
   "language": "python",
   "name": "python3"
  },
  "language_info": {
   "codemirror_mode": {
    "name": "ipython",
    "version": 3
   },
   "file_extension": ".py",
   "mimetype": "text/x-python",
   "name": "python",
   "nbconvert_exporter": "python",
   "pygments_lexer": "ipython3",
   "version": "3.6.8"
  },
  "varInspector": {
   "cols": {
    "lenName": 16,
    "lenType": 16,
    "lenVar": 40
   },
   "kernels_config": {
    "python": {
     "delete_cmd_postfix": "",
     "delete_cmd_prefix": "del ",
     "library": "var_list.py",
     "varRefreshCmd": "print(var_dic_list())"
    },
    "r": {
     "delete_cmd_postfix": ") ",
     "delete_cmd_prefix": "rm(",
     "library": "var_list.r",
     "varRefreshCmd": "cat(var_dic_list()) "
    }
   },
   "types_to_exclude": [
    "module",
    "function",
    "builtin_function_or_method",
    "instance",
    "_Feature"
   ],
   "window_display": false
  }
 },
 "nbformat": 4,
 "nbformat_minor": 2
}
