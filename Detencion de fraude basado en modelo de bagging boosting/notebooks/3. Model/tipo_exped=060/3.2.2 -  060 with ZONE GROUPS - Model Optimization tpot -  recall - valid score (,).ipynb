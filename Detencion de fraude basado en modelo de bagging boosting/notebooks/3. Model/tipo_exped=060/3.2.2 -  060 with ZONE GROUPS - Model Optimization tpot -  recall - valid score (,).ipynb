{
 "cells": [
  {
   "cell_type": "markdown",
   "metadata": {},
   "source": [
    "# Model hiper optimization"
   ]
  },
  {
   "cell_type": "code",
   "execution_count": 1,
   "metadata": {},
   "outputs": [
    {
     "name": "stderr",
     "output_type": "stream",
     "text": [
      "/home/seba/anaconda3/lib/python3.6/site-packages/sklearn/externals/joblib/__init__.py:15: DeprecationWarning: sklearn.externals.joblib is deprecated in 0.21 and will be removed in 0.23. Please import this functionality directly from joblib, which can be installed with: pip install joblib. If this warning is raised when loading pickled models, you may need to re-serialize those models with scikit-learn 0.21+.\n",
      "  warnings.warn(msg, category=DeprecationWarning)\n"
     ]
    }
   ],
   "source": [
    "#imports\n",
    "import os\n",
    "from copy import copy\n",
    "import pickle\n",
    "\n",
    "import pandas as pd\n",
    "import numpy as np\n",
    "\n",
    "import seaborn as sns\n",
    "import matplotlib.pyplot as plt\n",
    "\n",
    "from sklearn.model_selection import StratifiedShuffleSplit\n",
    "\n",
    "from sklearn.model_selection import GridSearchCV, RandomizedSearchCV\n",
    "from hypopt import GridSearch\n",
    "from hyperopt import tpe, fmin, space_eval, Trials, STATUS_OK, hp\n",
    "\n",
    "from sklearn.ensemble import RandomForestClassifier, ExtraTreesClassifier\n",
    "from xgboost import XGBClassifier\n",
    "from lightgbm import LGBMClassifier\n",
    "\n",
    "from tpot import TPOTClassifier\n",
    "\n",
    "from sklearn.metrics import roc_auc_score, f1_score, confusion_matrix"
   ]
  },
  {
   "cell_type": "code",
   "execution_count": 2,
   "metadata": {},
   "outputs": [
    {
     "name": "stdout",
     "output_type": "stream",
     "text": [
      "['1.1.b - 01-17 to 01-19 - df_val 02-19to03-19.feather', '1.1.b - 01-17 to 01-19 - df_train only 2018 without nulls.feather', '1.2.b - group zone - 01-17 to 01-19 - df_test 04-19to05-19.feather', '1.1 - df_train with nan.feather', '1.2.b - group zone - 01-17 to 01-19 - df_val 02-19to03-19.feather', '1.1 - df_train.feather', '1.2.b - group zone - 01-17 to 01-19 - df_train with nan.feather', '1.1 - df_test 04-19to04-19.feather', '1.1 - df_val 01-19to03-19.feather', '1.1.b - 01-17 to 01-19 - df_train without nulls.feather', '1.1 - df_train only 2018 without nulls.feather', '1.2.b - group zone - 01-17 to 01-19 - df_test 04-19to04-19.feather', '1.1.b - 01-17 to 01-19 - df_train with nan.feather', '1.1 - df_test 04-19to05-19.feather', '1.2.b - group zone - 01-17 to 01-19 - df_train without nulls.feather', '1.1.b - 01-17 to 01-19 - df_test 04-19to04-19.feather', '1.1.b - 01-17 to 01-19 - df_test 04-19to05-19.feather', '1.2.b - group zone - 01-17 to 01-19 - df_train only 2018 without nulls.feather']\n"
     ]
    }
   ],
   "source": [
    "# configs.\n",
    "%matplotlib inline\n",
    "# version to read\n",
    "read_version = \"1.2.b - group zone\"\n",
    "\n",
    "# model to save\n",
    "model_id = \"3.2.2 - 060 with zone groups - tpot\"\n",
    "\n",
    "pd.set_option(\"display.max_columns\", 500)\n",
    "\n",
    "path = \"../../../data/split\"\n",
    "random_state = 42\n",
    "print(os.listdir(path))"
   ]
  },
  {
   "cell_type": "markdown",
   "metadata": {},
   "source": [
    "## Loading training and validation datasets"
   ]
  },
  {
   "cell_type": "code",
   "execution_count": 3,
   "metadata": {},
   "outputs": [],
   "source": [
    "df = pd.read_feather(os.path.join(path, f\"{read_version} - 01-17 to 01-19 - df_train with nan.feather\"))\n",
    "df_val = pd.read_feather(os.path.join(path, f\"{read_version} - 01-17 to 01-19 - df_val 02-19to03-19.feather\"))"
   ]
  },
  {
   "cell_type": "code",
   "execution_count": 5,
   "metadata": {},
   "outputs": [
    {
     "data": {
      "text/html": [
       "<div>\n",
       "<style scoped>\n",
       "    .dataframe tbody tr th:only-of-type {\n",
       "        vertical-align: middle;\n",
       "    }\n",
       "\n",
       "    .dataframe tbody tr th {\n",
       "        vertical-align: top;\n",
       "    }\n",
       "\n",
       "    .dataframe thead tr th {\n",
       "        text-align: left;\n",
       "    }\n",
       "\n",
       "    .dataframe thead tr:last-of-type th {\n",
       "        text-align: right;\n",
       "    }\n",
       "</style>\n",
       "<table border=\"1\" class=\"dataframe\">\n",
       "  <thead>\n",
       "    <tr>\n",
       "      <th>EXISTE_FRAUDE</th>\n",
       "      <th colspan=\"8\" halign=\"left\">False</th>\n",
       "      <th colspan=\"8\" halign=\"left\">True</th>\n",
       "    </tr>\n",
       "    <tr>\n",
       "      <th>TIPO_EXPED</th>\n",
       "      <th>0</th>\n",
       "      <th>1</th>\n",
       "      <th>2</th>\n",
       "      <th>3</th>\n",
       "      <th>4</th>\n",
       "      <th>5</th>\n",
       "      <th>6</th>\n",
       "      <th>7</th>\n",
       "      <th>0</th>\n",
       "      <th>1</th>\n",
       "      <th>2</th>\n",
       "      <th>3</th>\n",
       "      <th>4</th>\n",
       "      <th>5</th>\n",
       "      <th>6</th>\n",
       "      <th>7</th>\n",
       "    </tr>\n",
       "    <tr>\n",
       "      <th>total_condicion</th>\n",
       "      <th></th>\n",
       "      <th></th>\n",
       "      <th></th>\n",
       "      <th></th>\n",
       "      <th></th>\n",
       "      <th></th>\n",
       "      <th></th>\n",
       "      <th></th>\n",
       "      <th></th>\n",
       "      <th></th>\n",
       "      <th></th>\n",
       "      <th></th>\n",
       "      <th></th>\n",
       "      <th></th>\n",
       "      <th></th>\n",
       "      <th></th>\n",
       "    </tr>\n",
       "  </thead>\n",
       "  <tbody>\n",
       "    <tr>\n",
       "      <th>0.0</th>\n",
       "      <td>4053</td>\n",
       "      <td>61640</td>\n",
       "      <td>417806</td>\n",
       "      <td>368526</td>\n",
       "      <td>10187</td>\n",
       "      <td>0</td>\n",
       "      <td>48642</td>\n",
       "      <td>72667</td>\n",
       "      <td>22</td>\n",
       "      <td>241</td>\n",
       "      <td>109</td>\n",
       "      <td>86</td>\n",
       "      <td>26</td>\n",
       "      <td>0</td>\n",
       "      <td>1149</td>\n",
       "      <td>72</td>\n",
       "    </tr>\n",
       "    <tr>\n",
       "      <th>1.0</th>\n",
       "      <td>881</td>\n",
       "      <td>7374</td>\n",
       "      <td>21219</td>\n",
       "      <td>3327</td>\n",
       "      <td>1847</td>\n",
       "      <td>2140</td>\n",
       "      <td>463</td>\n",
       "      <td>7144</td>\n",
       "      <td>1</td>\n",
       "      <td>17</td>\n",
       "      <td>15</td>\n",
       "      <td>2</td>\n",
       "      <td>14</td>\n",
       "      <td>95</td>\n",
       "      <td>5</td>\n",
       "      <td>13</td>\n",
       "    </tr>\n",
       "    <tr>\n",
       "      <th>2.0</th>\n",
       "      <td>212</td>\n",
       "      <td>2038</td>\n",
       "      <td>344</td>\n",
       "      <td>86</td>\n",
       "      <td>0</td>\n",
       "      <td>15</td>\n",
       "      <td>5779</td>\n",
       "      <td>855</td>\n",
       "      <td>1</td>\n",
       "      <td>4</td>\n",
       "      <td>1</td>\n",
       "      <td>0</td>\n",
       "      <td>0</td>\n",
       "      <td>2</td>\n",
       "      <td>207</td>\n",
       "      <td>1</td>\n",
       "    </tr>\n",
       "    <tr>\n",
       "      <th>3.0</th>\n",
       "      <td>396</td>\n",
       "      <td>9988</td>\n",
       "      <td>7425</td>\n",
       "      <td>7083</td>\n",
       "      <td>93</td>\n",
       "      <td>6821</td>\n",
       "      <td>3055</td>\n",
       "      <td>7596</td>\n",
       "      <td>1</td>\n",
       "      <td>35</td>\n",
       "      <td>4</td>\n",
       "      <td>4</td>\n",
       "      <td>0</td>\n",
       "      <td>214</td>\n",
       "      <td>202</td>\n",
       "      <td>18</td>\n",
       "    </tr>\n",
       "    <tr>\n",
       "      <th>4.0</th>\n",
       "      <td>106</td>\n",
       "      <td>859</td>\n",
       "      <td>531</td>\n",
       "      <td>502</td>\n",
       "      <td>18</td>\n",
       "      <td>93</td>\n",
       "      <td>387</td>\n",
       "      <td>762</td>\n",
       "      <td>0</td>\n",
       "      <td>4</td>\n",
       "      <td>0</td>\n",
       "      <td>0</td>\n",
       "      <td>0</td>\n",
       "      <td>4</td>\n",
       "      <td>26</td>\n",
       "      <td>1</td>\n",
       "    </tr>\n",
       "    <tr>\n",
       "      <th>5.0</th>\n",
       "      <td>18</td>\n",
       "      <td>298</td>\n",
       "      <td>19</td>\n",
       "      <td>77</td>\n",
       "      <td>0</td>\n",
       "      <td>1536</td>\n",
       "      <td>891</td>\n",
       "      <td>101</td>\n",
       "      <td>0</td>\n",
       "      <td>0</td>\n",
       "      <td>0</td>\n",
       "      <td>1</td>\n",
       "      <td>0</td>\n",
       "      <td>44</td>\n",
       "      <td>673</td>\n",
       "      <td>0</td>\n",
       "    </tr>\n",
       "    <tr>\n",
       "      <th>6.0</th>\n",
       "      <td>13</td>\n",
       "      <td>607</td>\n",
       "      <td>10</td>\n",
       "      <td>3</td>\n",
       "      <td>0</td>\n",
       "      <td>243</td>\n",
       "      <td>81</td>\n",
       "      <td>357</td>\n",
       "      <td>0</td>\n",
       "      <td>0</td>\n",
       "      <td>0</td>\n",
       "      <td>0</td>\n",
       "      <td>0</td>\n",
       "      <td>28</td>\n",
       "      <td>65</td>\n",
       "      <td>1</td>\n",
       "    </tr>\n",
       "    <tr>\n",
       "      <th>7.0</th>\n",
       "      <td>6</td>\n",
       "      <td>62</td>\n",
       "      <td>4</td>\n",
       "      <td>4</td>\n",
       "      <td>0</td>\n",
       "      <td>6</td>\n",
       "      <td>112</td>\n",
       "      <td>25</td>\n",
       "      <td>0</td>\n",
       "      <td>0</td>\n",
       "      <td>0</td>\n",
       "      <td>0</td>\n",
       "      <td>0</td>\n",
       "      <td>0</td>\n",
       "      <td>99</td>\n",
       "      <td>0</td>\n",
       "    </tr>\n",
       "    <tr>\n",
       "      <th>8.0</th>\n",
       "      <td>4</td>\n",
       "      <td>7</td>\n",
       "      <td>0</td>\n",
       "      <td>1</td>\n",
       "      <td>0</td>\n",
       "      <td>87</td>\n",
       "      <td>85</td>\n",
       "      <td>19</td>\n",
       "      <td>0</td>\n",
       "      <td>0</td>\n",
       "      <td>0</td>\n",
       "      <td>0</td>\n",
       "      <td>0</td>\n",
       "      <td>5</td>\n",
       "      <td>75</td>\n",
       "      <td>0</td>\n",
       "    </tr>\n",
       "    <tr>\n",
       "      <th>9.0</th>\n",
       "      <td>0</td>\n",
       "      <td>9</td>\n",
       "      <td>0</td>\n",
       "      <td>2</td>\n",
       "      <td>0</td>\n",
       "      <td>4</td>\n",
       "      <td>7</td>\n",
       "      <td>6</td>\n",
       "      <td>0</td>\n",
       "      <td>0</td>\n",
       "      <td>0</td>\n",
       "      <td>0</td>\n",
       "      <td>0</td>\n",
       "      <td>0</td>\n",
       "      <td>4</td>\n",
       "      <td>0</td>\n",
       "    </tr>\n",
       "    <tr>\n",
       "      <th>10.0</th>\n",
       "      <td>0</td>\n",
       "      <td>3</td>\n",
       "      <td>0</td>\n",
       "      <td>0</td>\n",
       "      <td>0</td>\n",
       "      <td>3</td>\n",
       "      <td>49</td>\n",
       "      <td>6</td>\n",
       "      <td>0</td>\n",
       "      <td>0</td>\n",
       "      <td>0</td>\n",
       "      <td>0</td>\n",
       "      <td>0</td>\n",
       "      <td>0</td>\n",
       "      <td>44</td>\n",
       "      <td>0</td>\n",
       "    </tr>\n",
       "    <tr>\n",
       "      <th>11.0</th>\n",
       "      <td>0</td>\n",
       "      <td>0</td>\n",
       "      <td>0</td>\n",
       "      <td>0</td>\n",
       "      <td>0</td>\n",
       "      <td>2</td>\n",
       "      <td>3</td>\n",
       "      <td>1</td>\n",
       "      <td>0</td>\n",
       "      <td>0</td>\n",
       "      <td>0</td>\n",
       "      <td>0</td>\n",
       "      <td>0</td>\n",
       "      <td>0</td>\n",
       "      <td>2</td>\n",
       "      <td>0</td>\n",
       "    </tr>\n",
       "    <tr>\n",
       "      <th>12.0</th>\n",
       "      <td>0</td>\n",
       "      <td>0</td>\n",
       "      <td>0</td>\n",
       "      <td>0</td>\n",
       "      <td>0</td>\n",
       "      <td>0</td>\n",
       "      <td>8</td>\n",
       "      <td>1</td>\n",
       "      <td>0</td>\n",
       "      <td>0</td>\n",
       "      <td>0</td>\n",
       "      <td>0</td>\n",
       "      <td>0</td>\n",
       "      <td>0</td>\n",
       "      <td>8</td>\n",
       "      <td>0</td>\n",
       "    </tr>\n",
       "    <tr>\n",
       "      <th>13.0</th>\n",
       "      <td>0</td>\n",
       "      <td>0</td>\n",
       "      <td>0</td>\n",
       "      <td>0</td>\n",
       "      <td>0</td>\n",
       "      <td>1</td>\n",
       "      <td>5</td>\n",
       "      <td>1</td>\n",
       "      <td>0</td>\n",
       "      <td>0</td>\n",
       "      <td>0</td>\n",
       "      <td>0</td>\n",
       "      <td>0</td>\n",
       "      <td>0</td>\n",
       "      <td>5</td>\n",
       "      <td>0</td>\n",
       "    </tr>\n",
       "    <tr>\n",
       "      <th>15.0</th>\n",
       "      <td>0</td>\n",
       "      <td>0</td>\n",
       "      <td>0</td>\n",
       "      <td>0</td>\n",
       "      <td>0</td>\n",
       "      <td>0</td>\n",
       "      <td>3</td>\n",
       "      <td>0</td>\n",
       "      <td>0</td>\n",
       "      <td>0</td>\n",
       "      <td>0</td>\n",
       "      <td>0</td>\n",
       "      <td>0</td>\n",
       "      <td>0</td>\n",
       "      <td>2</td>\n",
       "      <td>0</td>\n",
       "    </tr>\n",
       "  </tbody>\n",
       "</table>\n",
       "</div>"
      ],
      "text/plain": [
       "EXISTE_FRAUDE   False                                                   True   \\\n",
       "TIPO_EXPED          0      1       2       3      4     5      6      7     0   \n",
       "total_condicion                                                                 \n",
       "0.0              4053  61640  417806  368526  10187     0  48642  72667    22   \n",
       "1.0               881   7374   21219    3327   1847  2140    463   7144     1   \n",
       "2.0               212   2038     344      86      0    15   5779    855     1   \n",
       "3.0               396   9988    7425    7083     93  6821   3055   7596     1   \n",
       "4.0               106    859     531     502     18    93    387    762     0   \n",
       "5.0                18    298      19      77      0  1536    891    101     0   \n",
       "6.0                13    607      10       3      0   243     81    357     0   \n",
       "7.0                 6     62       4       4      0     6    112     25     0   \n",
       "8.0                 4      7       0       1      0    87     85     19     0   \n",
       "9.0                 0      9       0       2      0     4      7      6     0   \n",
       "10.0                0      3       0       0      0     3     49      6     0   \n",
       "11.0                0      0       0       0      0     2      3      1     0   \n",
       "12.0                0      0       0       0      0     0      8      1     0   \n",
       "13.0                0      0       0       0      0     1      5      1     0   \n",
       "15.0                0      0       0       0      0     0      3      0     0   \n",
       "\n",
       "EXISTE_FRAUDE                                     \n",
       "TIPO_EXPED         1    2   3   4    5     6   7  \n",
       "total_condicion                                   \n",
       "0.0              241  109  86  26    0  1149  72  \n",
       "1.0               17   15   2  14   95     5  13  \n",
       "2.0                4    1   0   0    2   207   1  \n",
       "3.0               35    4   4   0  214   202  18  \n",
       "4.0                4    0   0   0    4    26   1  \n",
       "5.0                0    0   1   0   44   673   0  \n",
       "6.0                0    0   0   0   28    65   1  \n",
       "7.0                0    0   0   0    0    99   0  \n",
       "8.0                0    0   0   0    5    75   0  \n",
       "9.0                0    0   0   0    0     4   0  \n",
       "10.0               0    0   0   0    0    44   0  \n",
       "11.0               0    0   0   0    0     2   0  \n",
       "12.0               0    0   0   0    0     8   0  \n",
       "13.0               0    0   0   0    0     5   0  \n",
       "15.0               0    0   0   0    0     2   0  "
      ]
     },
     "execution_count": 5,
     "metadata": {},
     "output_type": "execute_result"
    }
   ],
   "source": [
    "pd.crosstab(df[\"total_condicion\"], [df[\"EXISTE_FRAUDE\"], df[\"TIPO_EXPED\"]])"
   ]
  },
  {
   "cell_type": "code",
   "execution_count": 39,
   "metadata": {},
   "outputs": [
    {
     "data": {
      "text/plain": [
       "(Timestamp('2017-01-01 00:00:00'), Timestamp('2019-01-31 00:00:00'))"
      ]
     },
     "execution_count": 39,
     "metadata": {},
     "output_type": "execute_result"
    }
   ],
   "source": [
    "df[\"FECHA_SINI\"].min(), df[\"FECHA_SINI\"].max()"
   ]
  },
  {
   "cell_type": "code",
   "execution_count": 40,
   "metadata": {},
   "outputs": [],
   "source": [
    "# Select all non 060 tipo exped.\n",
    "# 'None': 7,  '003': 2,  '060': 6,  '010': 3,  '020': 4,  '002': 1,  '050': 5,  '001': 0\n",
    "df = df[df[\"TIPO_EXPED\"] == 6]\n",
    "df_val = df_val[df_val[\"TIPO_EXPED\"] == 6]"
   ]
  },
  {
   "cell_type": "code",
   "execution_count": 41,
   "metadata": {},
   "outputs": [
    {
     "data": {
      "text/plain": [
       "6    62136\n",
       "Name: TIPO_EXPED, dtype: int64"
      ]
     },
     "execution_count": 41,
     "metadata": {},
     "output_type": "execute_result"
    }
   ],
   "source": [
    "df[\"TIPO_EXPED\"].value_counts()"
   ]
  },
  {
   "cell_type": "code",
   "execution_count": 42,
   "metadata": {},
   "outputs": [
    {
     "data": {
      "text/plain": [
       "False    59570\n",
       "True      2566\n",
       "Name: EXISTE_FRAUDE, dtype: int64"
      ]
     },
     "execution_count": 42,
     "metadata": {},
     "output_type": "execute_result"
    }
   ],
   "source": [
    "df[\"EXISTE_FRAUDE\"].value_counts()"
   ]
  },
  {
   "cell_type": "code",
   "execution_count": 43,
   "metadata": {},
   "outputs": [
    {
     "data": {
      "text/plain": [
       "(Timestamp('2019-02-01 00:00:00'), Timestamp('2019-03-31 00:00:00'))"
      ]
     },
     "execution_count": 43,
     "metadata": {},
     "output_type": "execute_result"
    }
   ],
   "source": [
    "df_val[\"FECHA_SINI\"].min(), df_val[\"FECHA_SINI\"].max()"
   ]
  },
  {
   "cell_type": "code",
   "execution_count": 44,
   "metadata": {},
   "outputs": [],
   "source": [
    "# dropping index variables\n",
    "# to_drop = [\"index\"]\n",
    "# df.drop(to_drop, axis=1, inplace=True)\n",
    "# to_drop = [\"level_0\", \"index\"]\n",
    "# df_val.drop(to_drop, axis=1, inplace=True)"
   ]
  },
  {
   "cell_type": "code",
   "execution_count": 45,
   "metadata": {},
   "outputs": [],
   "source": [
    "# dropping NUM_SECU_EXPED\n",
    "# to_drop = [\"NUM_SECU_EXPED\"]\n",
    "# df.drop(to_drop, axis=1, inplace=True)\n",
    "# df_val.drop(to_drop, axis=1, inplace=True)"
   ]
  },
  {
   "cell_type": "code",
   "execution_count": 46,
   "metadata": {},
   "outputs": [
    {
     "data": {
      "text/plain": [
       "(Timestamp('2017-01-01 00:00:00'), Timestamp('2019-01-31 00:00:00'))"
      ]
     },
     "execution_count": 46,
     "metadata": {},
     "output_type": "execute_result"
    }
   ],
   "source": [
    "df[\"FECHA_SINI\"].min(), df[\"FECHA_SINI\"].max()"
   ]
  },
  {
   "cell_type": "code",
   "execution_count": 47,
   "metadata": {},
   "outputs": [
    {
     "name": "stdout",
     "output_type": "stream",
     "text": [
      "2018-01-02 00:00:00 2019-01-31 00:00:00\n"
     ]
    }
   ],
   "source": [
    "# using only last year\n",
    "split_date = \"2018-01-01\"\n",
    "df_train = df[df[\"FECHA_SINI\"] > split_date].copy()\n",
    "# df_opt = df[df[\"FECHA_SINI\"] >= split_date].copy()\n",
    "\n",
    "# Using full dataset\n",
    "# df_train = df.copy()\n",
    "print(df_train[\"FECHA_SINI\"].min(), df_train[\"FECHA_SINI\"].max())\n",
    "# print(df_opt[\"FECHA_SINI\"].min(), df_opt[\"FECHA_SINI\"].max())"
   ]
  },
  {
   "cell_type": "code",
   "execution_count": 48,
   "metadata": {},
   "outputs": [
    {
     "data": {
      "text/plain": [
       "False    0.952539\n",
       "True     0.047461\n",
       "Name: EXISTE_FRAUDE, dtype: float64"
      ]
     },
     "execution_count": 48,
     "metadata": {},
     "output_type": "execute_result"
    }
   ],
   "source": [
    "df_train[\"EXISTE_FRAUDE\"].value_counts(normalize=True)#, df_opt[\"EXISTE_FRAUDE\"].value_counts(normalize=True)"
   ]
  },
  {
   "cell_type": "code",
   "execution_count": 49,
   "metadata": {},
   "outputs": [],
   "source": [
    "# full_len = df_train.shape[0] + df_opt.shape[0]\n",
    "# df_train.shape[0] / full_len, df_opt.shape[0] / full_len"
   ]
  },
  {
   "cell_type": "code",
   "execution_count": 50,
   "metadata": {},
   "outputs": [],
   "source": [
    "# dropping date FEC_ACT_cond\n",
    "to_drop = [\"FECHA_SINI\"]\n",
    "df_train.drop(to_drop, axis=1, inplace=True)\n",
    "# df_opt.drop(to_drop, axis=1, inplace=True)\n",
    "df_val.drop(to_drop, axis=1, inplace=True)"
   ]
  },
  {
   "cell_type": "markdown",
   "metadata": {},
   "source": [
    "## split X, y dataset"
   ]
  },
  {
   "cell_type": "code",
   "execution_count": 51,
   "metadata": {},
   "outputs": [],
   "source": [
    "# to_drop = [\"COD_FRAUDE\", \"EXISTE_FRAUDE\", \"EXISTE_INHABILITAR\"]\n",
    "# already removed : \"EXISTE_INHABILITAR\", \"COD_ACT_BENEF\",\n",
    "to_drop = [\"EXISTE_FRAUDE\", \"NUM_SECU_EXPED\", \"NUM_SECU_POL\", \"EXISTE_INVEST\"] # , \"es_gte_5\"\n",
    "\n",
    "# training\n",
    "X_train = df_train.drop(to_drop, axis=1)\n",
    "y_train = df_train[\"EXISTE_FRAUDE\"]\n",
    "# validation\n",
    "# X_opt = df_opt.drop(to_drop, axis=1)\n",
    "# y_opt = df_opt[\"EXISTE_FRAUDE\"]\n",
    "# validation\n",
    "X_val = df_val.drop(to_drop, axis=1)\n",
    "y_val = df_val[\"EXISTE_FRAUDE\"]"
   ]
  },
  {
   "cell_type": "code",
   "execution_count": 52,
   "metadata": {},
   "outputs": [],
   "source": [
    "# X_full_train = df.drop(to_drop, axis=1)\n",
    "# X_full_train.drop(columns=[\"FECHA_SINI\"], inplace=True)\n",
    "# y_full_train = df[\"EXISTE_FRAUDE\"]"
   ]
  },
  {
   "cell_type": "code",
   "execution_count": 53,
   "metadata": {},
   "outputs": [
    {
     "name": "stdout",
     "output_type": "stream",
     "text": [
      "dif between X_train & X_val: set()\n",
      "dif between X_val & X_train: set()\n"
     ]
    }
   ],
   "source": [
    "# checking if all have the same inputs columns\n",
    "print(\"dif between X_train & X_val: {}\".format(set(X_train.columns) - set(X_val.columns)))\n",
    "print(\"dif between X_val & X_train: {}\".format(set(X_val.columns) - set(X_train.columns)))"
   ]
  },
  {
   "cell_type": "code",
   "execution_count": 54,
   "metadata": {},
   "outputs": [
    {
     "name": "stdout",
     "output_type": "stream",
     "text": [
      "31921, 5133\n",
      "31921, 5133\n"
     ]
    }
   ],
   "source": [
    "print(f\"{len(X_train)}, {len(X_val)}\")\n",
    "print(f\"{len(y_train)}, {len(y_val)}\")"
   ]
  },
  {
   "cell_type": "code",
   "execution_count": 55,
   "metadata": {},
   "outputs": [
    {
     "data": {
      "text/plain": [
       "(0.04746091914413709, 0.052600818234950324)"
      ]
     },
     "execution_count": 55,
     "metadata": {},
     "output_type": "execute_result"
    }
   ],
   "source": [
    "y_train.sum() / len(y_train), y_val.sum() / len(y_val)"
   ]
  },
  {
   "cell_type": "code",
   "execution_count": 56,
   "metadata": {},
   "outputs": [
    {
     "data": {
      "text/plain": [
       "False    30406\n",
       "True      1515\n",
       "Name: EXISTE_FRAUDE, dtype: int64"
      ]
     },
     "execution_count": 56,
     "metadata": {},
     "output_type": "execute_result"
    }
   ],
   "source": [
    "y_train.value_counts(dropna=False)"
   ]
  },
  {
   "cell_type": "markdown",
   "metadata": {},
   "source": [
    "## Defining grid configuration"
   ]
  },
  {
   "cell_type": "code",
   "execution_count": 57,
   "metadata": {},
   "outputs": [],
   "source": [
    "from sklearn.utils.class_weight import compute_class_weight"
   ]
  },
  {
   "cell_type": "code",
   "execution_count": 58,
   "metadata": {},
   "outputs": [
    {
     "data": {
      "text/plain": [
       "array([ 0.52153769, 12.10756041])"
      ]
     },
     "execution_count": 58,
     "metadata": {},
     "output_type": "execute_result"
    }
   ],
   "source": [
    "weights = compute_class_weight(\"balanced\", df[\"EXISTE_FRAUDE\"].unique(), df[\"EXISTE_FRAUDE\"])\n",
    "weights"
   ]
  },
  {
   "cell_type": "code",
   "execution_count": 63,
   "metadata": {},
   "outputs": [],
   "source": [
    "X_train = X_train.astype(float)\n",
    "X_val = X_val.astype(float)"
   ]
  },
  {
   "cell_type": "code",
   "execution_count": 91,
   "metadata": {},
   "outputs": [],
   "source": [
    "# default tpot\n",
    "metric = \"f1_macro\"\n",
    "tpot = TPOTClassifier(generations=5, population_size=50,\n",
    "                      scoring=metric, n_jobs=-1, verbosity=2, cv=3,\n",
    "                      random_state=random_state, max_time_mins=60)"
   ]
  },
  {
   "cell_type": "code",
   "execution_count": 92,
   "metadata": {
    "scrolled": false
   },
   "outputs": [
    {
     "name": "stderr",
     "output_type": "stream",
     "text": [
      "Optimization Progress:  86%|████████▌ | 86/100 [43:21<09:53, 42.37s/pipeline]Process ForkPoolWorker-129:\n",
      "Process ForkPoolWorker-126:\n",
      "Process ForkPoolWorker-130:\n",
      "Process ForkPoolWorker-127:\n",
      "Traceback (most recent call last):\n",
      "Traceback (most recent call last):\n",
      "Traceback (most recent call last):\n",
      "  File \"/home/seba/anaconda3/lib/python3.6/multiprocessing/process.py\", line 258, in _bootstrap\n",
      "    self.run()\n",
      "  File \"/home/seba/anaconda3/lib/python3.6/multiprocessing/process.py\", line 93, in run\n",
      "    self._target(*self._args, **self._kwargs)\n",
      "  File \"/home/seba/anaconda3/lib/python3.6/multiprocessing/pool.py\", line 108, in worker\n",
      "    task = get()\n",
      "  File \"/home/seba/anaconda3/lib/python3.6/site-packages/joblib/pool.py\", line 360, in get\n",
      "    racquire()\n",
      "KeyboardInterrupt\n",
      "Traceback (most recent call last):\n",
      "  File \"/home/seba/anaconda3/lib/python3.6/multiprocessing/process.py\", line 258, in _bootstrap\n",
      "    self.run()\n",
      "  File \"/home/seba/anaconda3/lib/python3.6/multiprocessing/process.py\", line 258, in _bootstrap\n",
      "    self.run()\n",
      "  File \"/home/seba/anaconda3/lib/python3.6/multiprocessing/process.py\", line 258, in _bootstrap\n",
      "    self.run()\n",
      "  File \"/home/seba/anaconda3/lib/python3.6/multiprocessing/process.py\", line 93, in run\n",
      "    self._target(*self._args, **self._kwargs)\n",
      "  File \"/home/seba/anaconda3/lib/python3.6/multiprocessing/process.py\", line 93, in run\n",
      "    self._target(*self._args, **self._kwargs)\n",
      "  File \"/home/seba/anaconda3/lib/python3.6/multiprocessing/process.py\", line 93, in run\n",
      "    self._target(*self._args, **self._kwargs)\n",
      "  File \"/home/seba/anaconda3/lib/python3.6/multiprocessing/pool.py\", line 108, in worker\n",
      "    task = get()\n",
      "  File \"/home/seba/anaconda3/lib/python3.6/multiprocessing/pool.py\", line 108, in worker\n",
      "    task = get()\n",
      "  File \"/home/seba/anaconda3/lib/python3.6/site-packages/joblib/pool.py\", line 360, in get\n",
      "    racquire()\n",
      "  File \"/home/seba/anaconda3/lib/python3.6/site-packages/joblib/pool.py\", line 362, in get\n",
      "    return recv()\n",
      "KeyboardInterrupt\n",
      "  File \"/home/seba/anaconda3/lib/python3.6/multiprocessing/connection.py\", line 250, in recv\n",
      "    buf = self._recv_bytes()\n",
      "  File \"/home/seba/anaconda3/lib/python3.6/multiprocessing/connection.py\", line 407, in _recv_bytes\n",
      "    buf = self._recv(4)\n",
      "  File \"/home/seba/anaconda3/lib/python3.6/multiprocessing/connection.py\", line 379, in _recv\n",
      "    chunk = read(handle, remaining)\n",
      "KeyboardInterrupt\n",
      "  File \"/home/seba/anaconda3/lib/python3.6/multiprocessing/pool.py\", line 108, in worker\n",
      "    task = get()\n",
      "  File \"/home/seba/anaconda3/lib/python3.6/site-packages/joblib/pool.py\", line 360, in get\n",
      "    racquire()\n",
      "KeyboardInterrupt\n",
      "                                                                             \r"
     ]
    },
    {
     "name": "stdout",
     "output_type": "stream",
     "text": [
      "\n",
      "\n",
      "TPOT closed prematurely. Will use the current best pipeline.\n",
      "\n",
      "Best pipeline: BernoulliNB(input_matrix, alpha=1.0, fit_prior=True)\n"
     ]
    },
    {
     "data": {
      "text/plain": [
       "TPOTClassifier(config_dict={'sklearn.cluster.FeatureAgglomeration': {'affinity': ['euclidean',\n",
       "                                                                                  'l1',\n",
       "                                                                                  'l2',\n",
       "                                                                                  'manhattan',\n",
       "                                                                                  'cosine'],\n",
       "                                                                     'linkage': ['ward',\n",
       "                                                                                 'complete',\n",
       "                                                                                 'average']},\n",
       "                            'sklearn.decomposition.FastICA': {'tol': array([0.  , 0.05, 0.1 , 0.15, 0.2 , 0.25, 0.3 , 0.35, 0.4 , 0.45, 0.5 ,\n",
       "       0.55, 0.6 , 0.65, 0.7 , 0.75, 0.8 , 0.85, 0.9 , 0.95, 1.  ])},\n",
       "                            'sklearn.decomposition.PCA': {'iterated_power...\n",
       "                                                      'subsample': array([0.05, 0.1 , 0.15, 0.2 , 0.25, 0.3 , 0.35, 0.4 , 0.45, 0.5 , 0.55,\n",
       "       0.6 , 0.65, 0.7 , 0.75, 0.8 , 0.85, 0.9 , 0.95, 1.  ])}},\n",
       "               crossover_rate=0.1, cv=3, disable_update_check=False,\n",
       "               early_stop=None, generations=1000000, max_eval_time_mins=5,\n",
       "               max_time_mins=60, memory=None, mutation_rate=0.9, n_jobs=4,\n",
       "               offspring_size=50, periodic_checkpoint_folder=None,\n",
       "               population_size=50, random_state=42, scoring=None, subsample=1.0,\n",
       "               verbosity=2, warm_start=False)"
      ]
     },
     "execution_count": 92,
     "metadata": {},
     "output_type": "execute_result"
    }
   ],
   "source": [
    "tpot.fit(X_train, y_train)"
   ]
  },
  {
   "cell_type": "code",
   "execution_count": 100,
   "metadata": {
    "scrolled": true
   },
   "outputs": [
    {
     "data": {
      "text/plain": [
       "0.6973505167746739"
      ]
     },
     "execution_count": 100,
     "metadata": {},
     "output_type": "execute_result"
    }
   ],
   "source": [
    "tpot.score(X_val, y_val)"
   ]
  },
  {
   "cell_type": "code",
   "execution_count": 101,
   "metadata": {},
   "outputs": [
    {
     "data": {
      "text/plain": [
       "(8.606597822891946e-05, 0.9999997763639393)"
      ]
     },
     "execution_count": 101,
     "metadata": {},
     "output_type": "execute_result"
    }
   ],
   "source": [
    "y_val_pred = tpot.predict_proba(X_val)[:, 1]\n",
    "y_val_pred.min(), y_val_pred.max() "
   ]
  },
  {
   "cell_type": "code",
   "execution_count": 102,
   "metadata": {},
   "outputs": [
    {
     "data": {
      "text/plain": [
       "Pipeline(memory=None,\n",
       "         steps=[('bernoullinb',\n",
       "                 BernoulliNB(alpha=1.0, binarize=0.0, class_prior=None,\n",
       "                             fit_prior=True))],\n",
       "         verbose=False)"
      ]
     },
     "execution_count": 102,
     "metadata": {},
     "output_type": "execute_result"
    }
   ],
   "source": [
    "# select best grid\n",
    "best_model = tpot.fitted_pipeline_\n",
    "best_model\n",
    "# select by hand\n",
    "# best_model = best_models_[1]"
   ]
  },
  {
   "cell_type": "code",
   "execution_count": 103,
   "metadata": {},
   "outputs": [
    {
     "data": {
      "text/plain": [
       "(0.44646924829157175, 0.874636522189473)"
      ]
     },
     "execution_count": 103,
     "metadata": {},
     "output_type": "execute_result"
    }
   ],
   "source": [
    "y_val_f1_bestFI, y_val_rocauc_bestFI = f1_score(y_val, y_val_pred > 0.5), roc_auc_score(y_val.astype(float), y_val_pred)\n",
    "y_val_f1_bestFI, y_val_rocauc_bestFI"
   ]
  },
  {
   "cell_type": "code",
   "execution_count": 104,
   "metadata": {},
   "outputs": [
    {
     "data": {
      "text/plain": [
       "array([[4451,  412],\n",
       "       [  74,  196]])"
      ]
     },
     "execution_count": 104,
     "metadata": {},
     "output_type": "execute_result"
    }
   ],
   "source": [
    "confusion_matrix(y_val, y_val_pred > 0.5)"
   ]
  },
  {
   "cell_type": "code",
   "execution_count": 105,
   "metadata": {},
   "outputs": [
    {
     "name": "stdout",
     "output_type": "stream",
     "text": [
      "LogisticRegression(input_matrix, LogisticRegression__C=25.0, LogisticRegression__dual=False, LogisticRegression__penalty=l1)\n",
      "DecisionTreeClassifier(input_matrix, DecisionTreeClassifier__criterion=gini, DecisionTreeClassifier__max_depth=7, DecisionTreeClassifier__min_samples_leaf=11, DecisionTreeClassifier__min_samples_split=12)\n",
      "LogisticRegression(input_matrix, LogisticRegression__C=10.0, LogisticRegression__dual=False, LogisticRegression__penalty=l1)\n",
      "GradientBoostingClassifier(input_matrix, GradientBoostingClassifier__learning_rate=0.5, GradientBoostingClassifier__max_depth=6, GradientBoostingClassifier__max_features=0.1, GradientBoostingClassifier__min_samples_leaf=1, GradientBoostingClassifier__min_samples_split=13, GradientBoostingClassifier__n_estimators=100, GradientBoostingClassifier__subsample=0.6000000000000001)\n",
      "DecisionTreeClassifier(RandomForestClassifier(input_matrix, RandomForestClassifier__bootstrap=True, RandomForestClassifier__criterion=gini, RandomForestClassifier__max_features=0.9000000000000001, RandomForestClassifier__min_samples_leaf=6, RandomForestClassifier__min_samples_split=20, RandomForestClassifier__n_estimators=100), DecisionTreeClassifier__criterion=entropy, DecisionTreeClassifier__max_depth=8, DecisionTreeClassifier__min_samples_leaf=8, DecisionTreeClassifier__min_samples_split=7)\n",
      "RandomForestClassifier(ZeroCount(input_matrix), RandomForestClassifier__bootstrap=True, RandomForestClassifier__criterion=entropy, RandomForestClassifier__max_features=0.4, RandomForestClassifier__min_samples_leaf=12, RandomForestClassifier__min_samples_split=3, RandomForestClassifier__n_estimators=100)\n",
      "GradientBoostingClassifier(RBFSampler(input_matrix, RBFSampler__gamma=0.30000000000000004), GradientBoostingClassifier__learning_rate=0.01, GradientBoostingClassifier__max_depth=10, GradientBoostingClassifier__max_features=0.7000000000000001, GradientBoostingClassifier__min_samples_leaf=11, GradientBoostingClassifier__min_samples_split=11, GradientBoostingClassifier__n_estimators=100, GradientBoostingClassifier__subsample=0.3)\n",
      "GaussianNB(input_matrix)\n",
      "ExtraTreesClassifier(GradientBoostingClassifier(input_matrix, GradientBoostingClassifier__learning_rate=0.5, GradientBoostingClassifier__max_depth=4, GradientBoostingClassifier__max_features=0.55, GradientBoostingClassifier__min_samples_leaf=18, GradientBoostingClassifier__min_samples_split=11, GradientBoostingClassifier__n_estimators=100, GradientBoostingClassifier__subsample=0.8500000000000001), ExtraTreesClassifier__bootstrap=False, ExtraTreesClassifier__criterion=gini, ExtraTreesClassifier__max_features=0.3, ExtraTreesClassifier__min_samples_leaf=16, ExtraTreesClassifier__min_samples_split=16, ExtraTreesClassifier__n_estimators=100)\n",
      "LogisticRegression(SelectFwe(input_matrix, SelectFwe__alpha=0.002), LogisticRegression__C=0.5, LogisticRegression__dual=True, LogisticRegression__penalty=l2)\n",
      "DecisionTreeClassifier(input_matrix, DecisionTreeClassifier__criterion=entropy, DecisionTreeClassifier__max_depth=10, DecisionTreeClassifier__min_samples_leaf=2, DecisionTreeClassifier__min_samples_split=17)\n",
      "XGBClassifier(Nystroem(input_matrix, Nystroem__gamma=0.05, Nystroem__kernel=laplacian, Nystroem__n_components=3), XGBClassifier__learning_rate=0.001, XGBClassifier__max_depth=2, XGBClassifier__min_child_weight=19, XGBClassifier__n_estimators=100, XGBClassifier__nthread=1, XGBClassifier__subsample=0.35000000000000003)\n",
      "LinearSVC(input_matrix, LinearSVC__C=25.0, LinearSVC__dual=True, LinearSVC__loss=hinge, LinearSVC__penalty=l2, LinearSVC__tol=0.001)\n",
      "XGBClassifier(input_matrix, XGBClassifier__learning_rate=0.01, XGBClassifier__max_depth=7, XGBClassifier__min_child_weight=15, XGBClassifier__n_estimators=100, XGBClassifier__nthread=1, XGBClassifier__subsample=0.6500000000000001)\n",
      "KNeighborsClassifier(input_matrix, KNeighborsClassifier__n_neighbors=34, KNeighborsClassifier__p=2, KNeighborsClassifier__weights=uniform)\n",
      "RandomForestClassifier(input_matrix, RandomForestClassifier__bootstrap=True, RandomForestClassifier__criterion=gini, RandomForestClassifier__max_features=0.3, RandomForestClassifier__min_samples_leaf=8, RandomForestClassifier__min_samples_split=15, RandomForestClassifier__n_estimators=100)\n",
      "BernoulliNB(input_matrix, BernoulliNB__alpha=1.0, BernoulliNB__fit_prior=True)\n",
      "ExtraTreesClassifier(input_matrix, ExtraTreesClassifier__bootstrap=True, ExtraTreesClassifier__criterion=gini, ExtraTreesClassifier__max_features=0.8, ExtraTreesClassifier__min_samples_leaf=12, ExtraTreesClassifier__min_samples_split=4, ExtraTreesClassifier__n_estimators=100)\n",
      "XGBClassifier(input_matrix, XGBClassifier__learning_rate=0.01, XGBClassifier__max_depth=3, XGBClassifier__min_child_weight=19, XGBClassifier__n_estimators=100, XGBClassifier__nthread=1, XGBClassifier__subsample=1.0)\n",
      "GradientBoostingClassifier(input_matrix, GradientBoostingClassifier__learning_rate=0.01, GradientBoostingClassifier__max_depth=10, GradientBoostingClassifier__max_features=0.35000000000000003, GradientBoostingClassifier__min_samples_leaf=10, GradientBoostingClassifier__min_samples_split=6, GradientBoostingClassifier__n_estimators=100, GradientBoostingClassifier__subsample=0.7500000000000001)\n",
      "GradientBoostingClassifier(input_matrix, GradientBoostingClassifier__learning_rate=0.5, GradientBoostingClassifier__max_depth=1, GradientBoostingClassifier__max_features=0.7500000000000001, GradientBoostingClassifier__min_samples_leaf=14, GradientBoostingClassifier__min_samples_split=17, GradientBoostingClassifier__n_estimators=100, GradientBoostingClassifier__subsample=0.2)\n",
      "RandomForestClassifier(MinMaxScaler(input_matrix), RandomForestClassifier__bootstrap=True, RandomForestClassifier__criterion=entropy, RandomForestClassifier__max_features=0.15000000000000002, RandomForestClassifier__min_samples_leaf=12, RandomForestClassifier__min_samples_split=16, RandomForestClassifier__n_estimators=100)\n",
      "RandomForestClassifier(Nystroem(input_matrix, Nystroem__gamma=0.30000000000000004, Nystroem__kernel=linear, Nystroem__n_components=9), RandomForestClassifier__bootstrap=True, RandomForestClassifier__criterion=gini, RandomForestClassifier__max_features=0.6500000000000001, RandomForestClassifier__min_samples_leaf=19, RandomForestClassifier__min_samples_split=2, RandomForestClassifier__n_estimators=100)\n",
      "ExtraTreesClassifier(input_matrix, ExtraTreesClassifier__bootstrap=False, ExtraTreesClassifier__criterion=entropy, ExtraTreesClassifier__max_features=0.9500000000000001, ExtraTreesClassifier__min_samples_leaf=17, ExtraTreesClassifier__min_samples_split=12, ExtraTreesClassifier__n_estimators=100)\n",
      "KNeighborsClassifier(input_matrix, KNeighborsClassifier__n_neighbors=93, KNeighborsClassifier__p=1, KNeighborsClassifier__weights=distance)\n",
      "DecisionTreeClassifier(input_matrix, DecisionTreeClassifier__criterion=gini, DecisionTreeClassifier__max_depth=3, DecisionTreeClassifier__min_samples_leaf=14, DecisionTreeClassifier__min_samples_split=20)\n",
      "BernoulliNB(SelectFwe(input_matrix, SelectFwe__alpha=0.012), BernoulliNB__alpha=0.001, BernoulliNB__fit_prior=False)\n",
      "BernoulliNB(input_matrix, BernoulliNB__alpha=100.0, BernoulliNB__fit_prior=True)\n",
      "KNeighborsClassifier(input_matrix, KNeighborsClassifier__n_neighbors=38, KNeighborsClassifier__p=2, KNeighborsClassifier__weights=uniform)\n",
      "ExtraTreesClassifier(input_matrix, ExtraTreesClassifier__bootstrap=False, ExtraTreesClassifier__criterion=entropy, ExtraTreesClassifier__max_features=0.8, ExtraTreesClassifier__min_samples_leaf=12, ExtraTreesClassifier__min_samples_split=19, ExtraTreesClassifier__n_estimators=100)\n",
      "XGBClassifier(FastICA(input_matrix, FastICA__tol=0.2), XGBClassifier__learning_rate=0.5, XGBClassifier__max_depth=3, XGBClassifier__min_child_weight=14, XGBClassifier__n_estimators=100, XGBClassifier__nthread=1, XGBClassifier__subsample=0.55)\n",
      "LogisticRegression(PCA(input_matrix, PCA__iterated_power=2, PCA__svd_solver=randomized), LogisticRegression__C=0.001, LogisticRegression__dual=True, LogisticRegression__penalty=l2)\n",
      "RandomForestClassifier(input_matrix, RandomForestClassifier__bootstrap=True, RandomForestClassifier__criterion=gini, RandomForestClassifier__max_features=0.35000000000000003, RandomForestClassifier__min_samples_leaf=18, RandomForestClassifier__min_samples_split=10, RandomForestClassifier__n_estimators=100)\n",
      "LinearSVC(input_matrix, LinearSVC__C=1.0, LinearSVC__dual=False, LinearSVC__loss=squared_hinge, LinearSVC__penalty=l1, LinearSVC__tol=0.0001)\n",
      "RandomForestClassifier(input_matrix, RandomForestClassifier__bootstrap=True, RandomForestClassifier__criterion=gini, RandomForestClassifier__max_features=0.05, RandomForestClassifier__min_samples_leaf=15, RandomForestClassifier__min_samples_split=14, RandomForestClassifier__n_estimators=100)\n",
      "KNeighborsClassifier(DecisionTreeClassifier(input_matrix, DecisionTreeClassifier__criterion=entropy, DecisionTreeClassifier__max_depth=10, DecisionTreeClassifier__min_samples_leaf=2, DecisionTreeClassifier__min_samples_split=4), KNeighborsClassifier__n_neighbors=26, KNeighborsClassifier__p=1, KNeighborsClassifier__weights=uniform)\n",
      "XGBClassifier(Binarizer(input_matrix, Binarizer__threshold=0.75), XGBClassifier__learning_rate=0.5, XGBClassifier__max_depth=2, XGBClassifier__min_child_weight=11, XGBClassifier__n_estimators=100, XGBClassifier__nthread=1, XGBClassifier__subsample=0.05)\n",
      "BernoulliNB(MinMaxScaler(input_matrix), BernoulliNB__alpha=100.0, BernoulliNB__fit_prior=False)\n",
      "BernoulliNB(input_matrix, BernoulliNB__alpha=10.0, BernoulliNB__fit_prior=True)\n",
      "GradientBoostingClassifier(input_matrix, GradientBoostingClassifier__learning_rate=1.0, GradientBoostingClassifier__max_depth=10, GradientBoostingClassifier__max_features=0.25, GradientBoostingClassifier__min_samples_leaf=6, GradientBoostingClassifier__min_samples_split=17, GradientBoostingClassifier__n_estimators=100, GradientBoostingClassifier__subsample=0.1)\n",
      "BernoulliNB(OneHotEncoder(input_matrix, OneHotEncoder__minimum_fraction=0.25, OneHotEncoder__sparse=False), BernoulliNB__alpha=0.01, BernoulliNB__fit_prior=True)\n",
      "GradientBoostingClassifier(RandomForestClassifier(input_matrix, RandomForestClassifier__bootstrap=True, RandomForestClassifier__criterion=entropy, RandomForestClassifier__max_features=0.35000000000000003, RandomForestClassifier__min_samples_leaf=9, RandomForestClassifier__min_samples_split=10, RandomForestClassifier__n_estimators=100), GradientBoostingClassifier__learning_rate=0.001, GradientBoostingClassifier__max_depth=7, GradientBoostingClassifier__max_features=0.15000000000000002, GradientBoostingClassifier__min_samples_leaf=4, GradientBoostingClassifier__min_samples_split=3, GradientBoostingClassifier__n_estimators=100, GradientBoostingClassifier__subsample=0.05)\n",
      "DecisionTreeClassifier(input_matrix, DecisionTreeClassifier__criterion=entropy, DecisionTreeClassifier__max_depth=6, DecisionTreeClassifier__min_samples_leaf=8, DecisionTreeClassifier__min_samples_split=4)\n",
      "LogisticRegression(input_matrix, LogisticRegression__C=0.5, LogisticRegression__dual=False, LogisticRegression__penalty=l2)\n",
      "XGBClassifier(VarianceThreshold(input_matrix, VarianceThreshold__threshold=0.01), XGBClassifier__learning_rate=0.5, XGBClassifier__max_depth=4, XGBClassifier__min_child_weight=3, XGBClassifier__n_estimators=100, XGBClassifier__nthread=1, XGBClassifier__subsample=0.45)\n"
     ]
    }
   ],
   "source": [
    "for k in tpot.evaluated_individuals_:\n",
    "    print(k)"
   ]
  },
  {
   "cell_type": "markdown",
   "metadata": {},
   "source": [
    "**old**"
   ]
  },
  {
   "cell_type": "markdown",
   "metadata": {},
   "source": [
    "Best model:\n"
   ]
  },
  {
   "cell_type": "code",
   "execution_count": 62,
   "metadata": {},
   "outputs": [
    {
     "data": {
      "text/plain": [
       "(0.29571106094808125, 0.6927262549409371)"
      ]
     },
     "execution_count": 62,
     "metadata": {},
     "output_type": "execute_result"
    }
   ],
   "source": [
    "y_val_pred = best_model.best_estimator_.predict(X_val)\n",
    "y_val_f1_bestFI, y_val_rocauc_bestFI = f1_score(y_val, y_val_pred), roc_auc_score(y_val, y_val_pred)\n",
    "y_val_f1_bestFI, y_val_rocauc_bestFI"
   ]
  },
  {
   "cell_type": "code",
   "execution_count": 63,
   "metadata": {},
   "outputs": [
    {
     "data": {
      "text/plain": [
       "array([[4378,  485],\n",
       "       [ 139,  131]])"
      ]
     },
     "execution_count": 63,
     "metadata": {},
     "output_type": "execute_result"
    }
   ],
   "source": [
    "confusion_matrix(y_val, y_val_pred)"
   ]
  },
  {
   "cell_type": "markdown",
   "metadata": {},
   "source": [
    "**Tronador**"
   ]
  },
  {
   "cell_type": "code",
   "execution_count": 89,
   "metadata": {},
   "outputs": [
    {
     "data": {
      "text/plain": [
       "(0.470873786407767, 0.8222450704868967)"
      ]
     },
     "execution_count": 89,
     "metadata": {},
     "output_type": "execute_result"
    }
   ],
   "source": [
    "y_val_tron = X_val[\"total_condicion\"] >= 5\n",
    "y_val_tron_f1_bestFI, y_val_tron_rocauc_bestFI = f1_score(y_val, y_val_tron), roc_auc_score(y_val, y_val_tron)\n",
    "y_val_tron_f1_bestFI, y_val_tron_rocauc_bestFI"
   ]
  },
  {
   "cell_type": "code",
   "execution_count": 90,
   "metadata": {},
   "outputs": [
    {
     "data": {
      "text/plain": [
       "array([[4503,  360],\n",
       "       [  76,  194]])"
      ]
     },
     "execution_count": 90,
     "metadata": {},
     "output_type": "execute_result"
    }
   ],
   "source": [
    "confusion_matrix(y_val, y_val_tron)"
   ]
  },
  {
   "cell_type": "markdown",
   "metadata": {
    "heading_collapsed": true
   },
   "source": [
    "## dumping best current config"
   ]
  },
  {
   "cell_type": "code",
   "execution_count": null,
   "metadata": {
    "hidden": true
   },
   "outputs": [],
   "source": [
    "# Current good config\n",
    "\"\"\"\n",
    "RandomForestClassifier(bootstrap=True, class_weight={0: 1, 1: 15},\n",
    "                       criterion='gini', max_depth=None, max_features='auto',\n",
    "                       max_leaf_nodes=None, min_impurity_decrease=0.0,\n",
    "                       min_impurity_split=None, min_samples_leaf=55,\n",
    "                       min_samples_split=2, min_weight_fraction_leaf=0.0,\n",
    "                       n_estimators=60, n_jobs=-1, oob_score=False,\n",
    "                       random_state=0, verbose=0, warm_start=False)\n",
    "\"\"\"\n",
    "# full features\n",
    "# scores: 0.449, 0.971\n",
    "# array([[71143,   360],\n",
    "#       [  116,   194]])\n",
    "# Tronador\n",
    "# (0.3472,0.816)\n",
    "# array([[70866,   637],\n",
    "#        [  111,   199]])"
   ]
  },
  {
   "cell_type": "code",
   "execution_count": null,
   "metadata": {
    "hidden": true
   },
   "outputs": [],
   "source": [
    "# with open(ps.path.join(\"models\", \"s1 - cond_preg_fill-1_ class_weight balanced.pickle\"), \"wb\") as file:\n",
    "#     pickle.dump(rf_f, file)"
   ]
  },
  {
   "cell_type": "markdown",
   "metadata": {},
   "source": [
    "## Feature Importance\n",
    "\n",
    "<h3 style=\"color:red\">When reducing the # of features the model get worse</h3>"
   ]
  },
  {
   "cell_type": "code",
   "execution_count": 106,
   "metadata": {},
   "outputs": [
    {
     "ename": "AttributeError",
     "evalue": "'Pipeline' object has no attribute 'best_estimator_'",
     "output_type": "error",
     "traceback": [
      "\u001b[0;31m---------------------------------------------------------------------------\u001b[0m",
      "\u001b[0;31mAttributeError\u001b[0m                            Traceback (most recent call last)",
      "\u001b[0;32m<ipython-input-106-09f841ac12b1>\u001b[0m in \u001b[0;36m<module>\u001b[0;34m\u001b[0m\n\u001b[0;32m----> 1\u001b[0;31m \u001b[0mrf_fi\u001b[0m \u001b[0;34m=\u001b[0m \u001b[0mpd\u001b[0m\u001b[0;34m.\u001b[0m\u001b[0mDataFrame\u001b[0m\u001b[0;34m(\u001b[0m\u001b[0;34m{\u001b[0m\u001b[0;34m'cols'\u001b[0m\u001b[0;34m:\u001b[0m\u001b[0mX_train\u001b[0m\u001b[0;34m.\u001b[0m\u001b[0mcolumns\u001b[0m\u001b[0;34m,\u001b[0m \u001b[0;34m'fi'\u001b[0m\u001b[0;34m:\u001b[0m\u001b[0mbest_model\u001b[0m\u001b[0;34m.\u001b[0m\u001b[0mbest_estimator_\u001b[0m\u001b[0;34m.\u001b[0m\u001b[0mfeature_importances_\u001b[0m\u001b[0;34m}\u001b[0m\u001b[0;34m)\u001b[0m\u001b[0;34m.\u001b[0m\u001b[0msort_values\u001b[0m\u001b[0;34m(\u001b[0m\u001b[0;34m'fi'\u001b[0m\u001b[0;34m,\u001b[0m \u001b[0mascending\u001b[0m\u001b[0;34m=\u001b[0m\u001b[0;32mFalse\u001b[0m\u001b[0;34m)\u001b[0m\u001b[0;34m\u001b[0m\u001b[0;34m\u001b[0m\u001b[0m\n\u001b[0m\u001b[1;32m      2\u001b[0m \u001b[0mrf_fi\u001b[0m\u001b[0;34m[\u001b[0m\u001b[0;34m:\u001b[0m\u001b[0;36m10\u001b[0m\u001b[0;34m]\u001b[0m\u001b[0;34m\u001b[0m\u001b[0;34m\u001b[0m\u001b[0m\n",
      "\u001b[0;31mAttributeError\u001b[0m: 'Pipeline' object has no attribute 'best_estimator_'"
     ]
    }
   ],
   "source": [
    "rf_fi = pd.DataFrame({'cols':X_train.columns, 'fi':best_model.best_estimator_.feature_importances_}).sort_values('fi', ascending=False)\n",
    "rf_fi[:10]"
   ]
  },
  {
   "cell_type": "code",
   "execution_count": 90,
   "metadata": {},
   "outputs": [
    {
     "data": {
      "image/png": "[encoded data removed]",
      "text/plain": [
       "<Figure size 432x288 with 1 Axes>"
      ]
     },
     "metadata": {},
     "output_type": "display_data"
    }
   ],
   "source": [
    "rf_fi[:20].plot.bar(x=\"cols\")\n",
    "plt.xticks(rotation=\"vertical\")\n",
    "plt.show()"
   ]
  },
  {
   "cell_type": "code",
   "execution_count": 86,
   "metadata": {},
   "outputs": [
    {
     "name": "stdout",
     "output_type": "stream",
     "text": [
      "# of features: 121 of 152\n"
     ]
    }
   ],
   "source": [
    "to_keep = list(rf_fi[rf_fi[\"fi\"] >=0.005][\"cols\"].values)\n",
    "print(f\"# of features: {len(to_keep)} of {len(rf_fi)}\")"
   ]
  },
  {
   "cell_type": "code",
   "execution_count": 53,
   "metadata": {},
   "outputs": [
    {
     "data": {
      "text/plain": [
       "['es_gte_5',\n",
       " 'cond_C10',\n",
       " 'total_condicion',\n",
       " 'cond_C11',\n",
       " 'preg_32',\n",
       " 'OCUPACION_ASEG',\n",
       " 'cond_32',\n",
       " 'METRO',\n",
       " 'preg_33',\n",
       " 'FALTANTE',\n",
       " 'cond_C12',\n",
       " 'DESCRIPCION_TIPO',\n",
       " 'preg_34',\n",
       " 'SEXO',\n",
       " 'ESTAD_VEH_ASEG',\n",
       " 'ESTADO_CIVIL',\n",
       " 'CAPITAL_VEHICULO',\n",
       " 'TIPO_SINIESTRO',\n",
       " 'COD_POST_POLIZA',\n",
       " 'SEGMENTO',\n",
       " 'COD_POST_OCURRENCIA',\n",
       " 'TIPO',\n",
       " 'CODIGO_VEHICULO',\n",
       " 'CONV_COMISIONARIO',\n",
       " 'CAPITAL_ASEGURADO_COTIZACION',\n",
       " 'CAPITAL_ACCESORIOS',\n",
       " 'COD_PROD']"
      ]
     },
     "execution_count": 53,
     "metadata": {},
     "output_type": "execute_result"
    }
   ],
   "source": [
    "to_remove = ['COD_POST_POLIZA_RT_CLUSTER_2019', 'COD_POST_OCURRENCIA_RT_CLUSTER_2019',\n",
    "             'COD_POST_OCURRENCIA_RC_CLUSTER_2019',  'COD_POST_POLIZA_RC_CLUSTER_2019',\n",
    "             'COD_POST_OCURRENCIA_DP_CLUSTER_2019', 'COD_POST_POLIZA_DP_CLUSTER_2019',\n",
    "             \"COD_CAUSA_SINI\", \n",
    "            ] # \"es_gte_5\", \"total_condicion\", \n",
    "\n",
    "for col in to_remove:\n",
    "    if(col in to_keep):\n",
    "        to_keep.remove(col)\n",
    "to_keep"
   ]
  },
  {
   "cell_type": "code",
   "execution_count": 55,
   "metadata": {},
   "outputs": [
    {
     "data": {
      "text/plain": [
       "ExtraTreesClassifier(bootstrap=False, class_weight={0: 1, 1: 10},\n",
       "           criterion='gini', max_depth=10, max_features='auto',\n",
       "           max_leaf_nodes=None, min_impurity_decrease=0.0,\n",
       "           min_impurity_split=None, min_samples_leaf=15,\n",
       "           min_samples_split=2, min_weight_fraction_leaf=0.0,\n",
       "           n_estimators=200, n_jobs=-1, oob_score=False, random_state=0,\n",
       "           verbose=0, warm_start=False)"
      ]
     },
     "execution_count": 55,
     "metadata": {},
     "output_type": "execute_result"
    }
   ],
   "source": [
    "# best model\n",
    "clf.best_estimator_"
   ]
  },
  {
   "cell_type": "code",
   "execution_count": 56,
   "metadata": {},
   "outputs": [],
   "source": [
    "X_train_red = X_train[to_keep].copy()"
   ]
  },
  {
   "cell_type": "code",
   "execution_count": 57,
   "metadata": {},
   "outputs": [
    {
     "name": "stdout",
     "output_type": "stream",
     "text": [
      "33\n"
     ]
    }
   ],
   "source": [
    "print(len(X_train_red.columns))"
   ]
  },
  {
   "cell_type": "markdown",
   "metadata": {},
   "source": [
    "### Training again with less features"
   ]
  },
  {
   "cell_type": "code",
   "execution_count": 58,
   "metadata": {},
   "outputs": [
    {
     "data": {
      "text/plain": [
       "ExtraTreesClassifier(bootstrap=False, class_weight={0: 1, 1: 10},\n",
       "           criterion='gini', max_depth=10, max_features='auto',\n",
       "           max_leaf_nodes=None, min_impurity_decrease=0.0,\n",
       "           min_impurity_split=None, min_samples_leaf=15,\n",
       "           min_samples_split=2, min_weight_fraction_leaf=0.0,\n",
       "           n_estimators=200, n_jobs=-1, oob_score=False, random_state=0,\n",
       "           verbose=0, warm_start=False)"
      ]
     },
     "execution_count": 58,
     "metadata": {},
     "output_type": "execute_result"
    }
   ],
   "source": [
    "# rf = RandomForestClassifier(n_estimators=40, max_features=0.5, min_samples_leaf=7, random_state=random_state, n_jobs=-1)\n",
    "rf = copy(clf.best_estimator_)\n",
    "rf.fit(X_train_red, y_train)"
   ]
  },
  {
   "cell_type": "code",
   "execution_count": 59,
   "metadata": {},
   "outputs": [
    {
     "data": {
      "text/plain": [
       "(0.4878048780487805, 0.8169460268770085)"
      ]
     },
     "execution_count": 59,
     "metadata": {},
     "output_type": "execute_result"
    }
   ],
   "source": [
    "y_val_pred = rf.predict(X_opt[to_keep])\n",
    "y_val_f1_bestFI, y_val_rocauc_bestFI = f1_score(y_opt, y_val_pred), roc_auc_score(y_opt, y_val_pred)\n",
    "y_val_f1_bestFI, y_val_rocauc_bestFI"
   ]
  },
  {
   "cell_type": "code",
   "execution_count": 60,
   "metadata": {},
   "outputs": [
    {
     "data": {
      "text/plain": [
       "array([[7195,  629],\n",
       "       [ 148,  370]])"
      ]
     },
     "execution_count": 60,
     "metadata": {},
     "output_type": "execute_result"
    }
   ],
   "source": [
    "confusion_matrix(y_opt, y_val_pred)"
   ]
  },
  {
   "cell_type": "code",
   "execution_count": 61,
   "metadata": {},
   "outputs": [
    {
     "data": {
      "text/html": [
       "<div>\n",
       "<style scoped>\n",
       "    .dataframe tbody tr th:only-of-type {\n",
       "        vertical-align: middle;\n",
       "    }\n",
       "\n",
       "    .dataframe tbody tr th {\n",
       "        vertical-align: top;\n",
       "    }\n",
       "\n",
       "    .dataframe thead th {\n",
       "        text-align: right;\n",
       "    }\n",
       "</style>\n",
       "<table border=\"1\" class=\"dataframe\">\n",
       "  <thead>\n",
       "    <tr style=\"text-align: right;\">\n",
       "      <th></th>\n",
       "      <th>cols</th>\n",
       "      <th>fi</th>\n",
       "    </tr>\n",
       "  </thead>\n",
       "  <tbody>\n",
       "    <tr>\n",
       "      <th>0</th>\n",
       "      <td>es_gte_5</td>\n",
       "      <td>0.314610</td>\n",
       "    </tr>\n",
       "    <tr>\n",
       "      <th>1</th>\n",
       "      <td>cond_C10</td>\n",
       "      <td>0.187029</td>\n",
       "    </tr>\n",
       "    <tr>\n",
       "      <th>2</th>\n",
       "      <td>total_condicion</td>\n",
       "      <td>0.124276</td>\n",
       "    </tr>\n",
       "    <tr>\n",
       "      <th>5</th>\n",
       "      <td>OCUPACION_ASEG</td>\n",
       "      <td>0.025247</td>\n",
       "    </tr>\n",
       "    <tr>\n",
       "      <th>3</th>\n",
       "      <td>cond_C11</td>\n",
       "      <td>0.024490</td>\n",
       "    </tr>\n",
       "    <tr>\n",
       "      <th>4</th>\n",
       "      <td>preg_32</td>\n",
       "      <td>0.022295</td>\n",
       "    </tr>\n",
       "    <tr>\n",
       "      <th>8</th>\n",
       "      <td>preg_33</td>\n",
       "      <td>0.019963</td>\n",
       "    </tr>\n",
       "    <tr>\n",
       "      <th>9</th>\n",
       "      <td>FALTANTE</td>\n",
       "      <td>0.019271</td>\n",
       "    </tr>\n",
       "    <tr>\n",
       "      <th>7</th>\n",
       "      <td>METRO</td>\n",
       "      <td>0.016864</td>\n",
       "    </tr>\n",
       "    <tr>\n",
       "      <th>11</th>\n",
       "      <td>COD_POST_POLIZA_RC_CLUSTER_2019</td>\n",
       "      <td>0.015746</td>\n",
       "    </tr>\n",
       "  </tbody>\n",
       "</table>\n",
       "</div>"
      ],
      "text/plain": [
       "                               cols        fi\n",
       "0                          es_gte_5  0.314610\n",
       "1                          cond_C10  0.187029\n",
       "2                   total_condicion  0.124276\n",
       "5                    OCUPACION_ASEG  0.025247\n",
       "3                          cond_C11  0.024490\n",
       "4                           preg_32  0.022295\n",
       "8                           preg_33  0.019963\n",
       "9                          FALTANTE  0.019271\n",
       "7                             METRO  0.016864\n",
       "11  COD_POST_POLIZA_RC_CLUSTER_2019  0.015746"
      ]
     },
     "execution_count": 61,
     "metadata": {},
     "output_type": "execute_result"
    }
   ],
   "source": [
    "rf_fi = pd.DataFrame({'cols':X_train_red.columns, 'fi':rf.feature_importances_}).sort_values('fi', ascending=False)\n",
    "rf_fi[:10]"
   ]
  },
  {
   "cell_type": "code",
   "execution_count": 62,
   "metadata": {},
   "outputs": [
    {
     "data": {
      "image/png": "[encoded data removed]",
      "text/plain": [
       "<Figure size 432x288 with 1 Axes>"
      ]
     },
     "metadata": {},
     "output_type": "display_data"
    }
   ],
   "source": [
    "rf_fi[:20].plot.bar(x=\"cols\")\n",
    "plt.xticks(rotation=\"vertical\")\n",
    "plt.show()"
   ]
  },
  {
   "cell_type": "code",
   "execution_count": null,
   "metadata": {},
   "outputs": [],
   "source": [
    "# best columns used\n",
    "rf_fi[\"cols\"].values"
   ]
  },
  {
   "cell_type": "markdown",
   "metadata": {},
   "source": [
    "# final model"
   ]
  },
  {
   "cell_type": "code",
   "execution_count": null,
   "metadata": {},
   "outputs": [],
   "source": [
    "# reset_rf_samples()"
   ]
  },
  {
   "cell_type": "markdown",
   "metadata": {},
   "source": [
    "## full features final model"
   ]
  },
  {
   "cell_type": "code",
   "execution_count": 39,
   "metadata": {},
   "outputs": [
    {
     "data": {
      "text/plain": [
       "ExtraTreesClassifier(bootstrap=False, class_weight=None, criterion='gini',\n",
       "           max_depth=10, max_features='sqrt', max_leaf_nodes=None,\n",
       "           min_impurity_decrease=0.0, min_impurity_split=None,\n",
       "           min_samples_leaf=7, min_samples_split=2,\n",
       "           min_weight_fraction_leaf=0.0, n_estimators=200, n_jobs=-1,\n",
       "           oob_score=False, random_state=0, verbose=0, warm_start=False)"
      ]
     },
     "execution_count": 39,
     "metadata": {},
     "output_type": "execute_result"
    }
   ],
   "source": [
    "rf_full = copy(best_model.best_estimator_)\n",
    "rf_full.fit(X_full_train, y_full_train)"
   ]
  },
  {
   "cell_type": "code",
   "execution_count": 40,
   "metadata": {},
   "outputs": [
    {
     "name": "stdout",
     "output_type": "stream",
     "text": [
      "0.746, 0.738\n"
     ]
    }
   ],
   "source": [
    "y_val_pred = rf_full.predict(X_val)\n",
    "y_val_f1_bestFI = f1_score(y_val, y_val_pred)\n",
    "y_val_rocauc_bestFI = roc_auc_score(y_val, rf_full.predict_proba(X_val)[:, -1])\n",
    "metric_results = \"%.3f, %.3f\" % (y_val_f1_bestFI, y_val_rocauc_bestFI)\n",
    "print(metric_results)"
   ]
  },
  {
   "cell_type": "code",
   "execution_count": 41,
   "metadata": {},
   "outputs": [
    {
     "data": {
      "text/plain": [
       "array([[118, 145],\n",
       "       [ 39, 270]])"
      ]
     },
     "execution_count": 41,
     "metadata": {},
     "output_type": "execute_result"
    }
   ],
   "source": [
    "conf_mat = confusion_matrix(y_val, y_val_pred)\n",
    "conf_mat"
   ]
  },
  {
   "cell_type": "code",
   "execution_count": 42,
   "metadata": {},
   "outputs": [
    {
     "data": {
      "text/plain": [
       "<matplotlib.axes._subplots.AxesSubplot at 0x7f1082341dd8>"
      ]
     },
     "execution_count": 42,
     "metadata": {},
     "output_type": "execute_result"
    },
    {
     "data": {
      "image/png": "[encoded data removed]",
      "text/plain": [
       "<Figure size 432x288 with 2 Axes>"
      ]
     },
     "metadata": {},
     "output_type": "display_data"
    }
   ],
   "source": [
    "sns.heatmap(conf_mat, annot=True, fmt=\"d\")"
   ]
  },
  {
   "cell_type": "markdown",
   "metadata": {
    "heading_collapsed": true
   },
   "source": [
    "## red features final model"
   ]
  },
  {
   "cell_type": "code",
   "execution_count": 63,
   "metadata": {
    "hidden": true
   },
   "outputs": [
    {
     "data": {
      "text/plain": [
       "ExtraTreesClassifier(bootstrap=False, class_weight={0: 1, 1: 10},\n",
       "           criterion='gini', max_depth=10, max_features='auto',\n",
       "           max_leaf_nodes=None, min_impurity_decrease=0.0,\n",
       "           min_impurity_split=None, min_samples_leaf=15,\n",
       "           min_samples_split=2, min_weight_fraction_leaf=0.0,\n",
       "           n_estimators=200, n_jobs=-1, oob_score=False, random_state=0,\n",
       "           verbose=0, warm_start=False)"
      ]
     },
     "execution_count": 63,
     "metadata": {},
     "output_type": "execute_result"
    }
   ],
   "source": [
    "rf_full = copy(clf.best_estimator_)\n",
    "rf_full.fit(X_full_train[to_keep], y_full_train)"
   ]
  },
  {
   "cell_type": "code",
   "execution_count": 64,
   "metadata": {
    "hidden": true
   },
   "outputs": [
    {
     "name": "stdout",
     "output_type": "stream",
     "text": [
      "0.469, 0.893\n"
     ]
    }
   ],
   "source": [
    "y_val_pred_prob = rf_full.predict_proba(X_val[to_keep])[:, -1]\n",
    "y_val_pred = y_val_pred_prob > 0.5\n",
    "y_val_f1_bestFI = f1_score(y_val, y_val_pred)\n",
    "y_val_rocauc_bestFI = roc_auc_score(y_val, y_val_pred_prob)\n",
    "metric_results = \"%.3f, %.3f\" % (y_val_f1_bestFI, y_val_rocauc_bestFI)\n",
    "print(metric_results)"
   ]
  },
  {
   "cell_type": "code",
   "execution_count": 65,
   "metadata": {
    "hidden": true
   },
   "outputs": [
    {
     "data": {
      "text/plain": [
       "array([[4500,  363],\n",
       "       [  76,  194]])"
      ]
     },
     "execution_count": 65,
     "metadata": {},
     "output_type": "execute_result"
    }
   ],
   "source": [
    "conf_mat = confusion_matrix(y_val, y_val_pred)\n",
    "conf_mat"
   ]
  },
  {
   "cell_type": "code",
   "execution_count": 66,
   "metadata": {
    "hidden": true
   },
   "outputs": [
    {
     "data": {
      "text/plain": [
       "<matplotlib.axes._subplots.AxesSubplot at 0x7f67bde91d68>"
      ]
     },
     "execution_count": 66,
     "metadata": {},
     "output_type": "execute_result"
    },
    {
     "data": {
      "image/png": "[encoded data removed]",
      "text/plain": [
       "<Figure size 432x288 with 2 Axes>"
      ]
     },
     "metadata": {},
     "output_type": "display_data"
    }
   ],
   "source": [
    "sns.heatmap(conf_mat, annot=True, fmt=\"d\")"
   ]
  },
  {
   "cell_type": "markdown",
   "metadata": {
    "heading_collapsed": true
   },
   "source": [
    "## Tronador (sum cond >=5) comparison"
   ]
  },
  {
   "cell_type": "code",
   "execution_count": 59,
   "metadata": {
    "hidden": true
   },
   "outputs": [
    {
     "name": "stdout",
     "output_type": "stream",
     "text": [
      "(0.470873786407767,0.8222450704868967)\n"
     ]
    }
   ],
   "source": [
    "# comparing against > 5 logic\n",
    "y_tronador = X_val[\"total_condicion\"] >= 5\n",
    "print(f\"({f1_score(y_val, y_tronador)},{roc_auc_score(y_val, y_tronador)})\")"
   ]
  },
  {
   "cell_type": "code",
   "execution_count": 60,
   "metadata": {
    "hidden": true
   },
   "outputs": [
    {
     "data": {
      "text/plain": [
       "array([[4503,  360],\n",
       "       [  76,  194]])"
      ]
     },
     "execution_count": 60,
     "metadata": {},
     "output_type": "execute_result"
    }
   ],
   "source": [
    "conf_mat = confusion_matrix(y_val, y_tronador)\n",
    "conf_mat"
   ]
  },
  {
   "cell_type": "code",
   "execution_count": 61,
   "metadata": {
    "hidden": true
   },
   "outputs": [
    {
     "data": {
      "text/plain": [
       "<matplotlib.axes._subplots.AxesSubplot at 0x7f02993d9828>"
      ]
     },
     "execution_count": 61,
     "metadata": {},
     "output_type": "execute_result"
    },
    {
     "data": {
      "image/png": "[encoded data removed]",
      "text/plain": [
       "<Figure size 432x288 with 2 Axes>"
      ]
     },
     "metadata": {},
     "output_type": "display_data"
    }
   ],
   "source": [
    "sns.heatmap(conf_mat, annot=True, fmt=\"d\")"
   ]
  },
  {
   "cell_type": "code",
   "execution_count": null,
   "metadata": {
    "hidden": true
   },
   "outputs": [],
   "source": []
  },
  {
   "cell_type": "markdown",
   "metadata": {},
   "source": [
    "# Saving final model & columns used into hard drive"
   ]
  },
  {
   "cell_type": "code",
   "execution_count": 51,
   "metadata": {},
   "outputs": [],
   "source": [
    "path_to_save = \"../../src/models/1.1 - df_train 01-18to12-18/\"\n",
    "model_file = os.path.join(path_to_save, f\"{model_id}(Model) - Model Optimization {metric} - class_weight {(rf_full.class_weight[0], rf_full.class_weight[1])} - time sorted - valid score ({metric_results}).pickle\")\n",
    "\n",
    "with open(model_file, \"wb\") as f:\n",
    "    pickle.dump(rf_full, f, pickle.HIGHEST_PROTOCOL)"
   ]
  },
  {
   "cell_type": "code",
   "execution_count": 52,
   "metadata": {},
   "outputs": [],
   "source": [
    "# save file for humans\n",
    "# model_file = \"../../models/1.0 - df_train with nan 01-17to12-18/1.0 - Model for humans - Model Optimization - class_weight balanced - time sorted - valid score (0.696, 0.999).pickle\"\n",
    "\n",
    "# with open(model_file, \"wb\") as f:\n",
    "#    pickle.dump(rf_full, f, 0) # 0 is human readable format"
   ]
  },
  {
   "cell_type": "code",
   "execution_count": 53,
   "metadata": {},
   "outputs": [
    {
     "name": "stdout",
     "output_type": "stream",
     "text": [
      "['cond_C10', 'TIPO_EXPED', 'preg_15', 'es_gte_5', 'preg_31', 'preg_33', 'cond_32', 'preg_32', 'cond_C11', 'cond_C12', 'cond_C2', 'METRO', 'SEXO_TERC', 'OCUPACION_ASEG', 'FALTANTE', 'preg_34', 'cond_C5']\n"
     ]
    }
   ],
   "source": [
    "# merging list input & target\n",
    "full_cols = list(to_keep)  # + [\"EXISTE_FRAUDE\"]\n",
    "print(full_cols)"
   ]
  },
  {
   "cell_type": "code",
   "execution_count": 54,
   "metadata": {},
   "outputs": [],
   "source": [
    "path_to_save = \"../../src/features/1.1 - df_train 01-18to12-18/\"\n",
    "columns_file = os.path.join(path_to_save, f\"{model_id} (COLUMNS) - features: {len(full_cols)}.pickle\")\n",
    "\n",
    "with open(columns_file, \"wb\") as file:\n",
    "    pickle.dump(full_cols, file, pickle.HIGHEST_PROTOCOL)"
   ]
  },
  {
   "cell_type": "code",
   "execution_count": 81,
   "metadata": {},
   "outputs": [],
   "source": [
    "# saving to use as example a few rows to implement the model\n",
    "# path_to_save = \"../../src/data/1.1 - df_train 01-18to12-18/\"\n",
    "# sample_file = os.path.join(path_to_save, f\"{model_id} (sample)  - dataset example to predict model.csv\")\n",
    "\n",
    "# df_example = X_val.loc[:, to_keep][-50:]\n",
    "# df_example[\"EXISTE_FRAUDE\"] = y_val[-50:]\n",
    "# df_example.to_csv(sample_file)"
   ]
  },
  {
   "cell_type": "code",
   "execution_count": null,
   "metadata": {},
   "outputs": [],
   "source": [
    "# df_example.head()"
   ]
  },
  {
   "cell_type": "markdown",
   "metadata": {},
   "source": [
    "# Test prediction"
   ]
  },
  {
   "cell_type": "code",
   "execution_count": 113,
   "metadata": {},
   "outputs": [],
   "source": [
    "df_test = pd.read_feather(os.path.join(path, \"1.2.b - group zone - 01-17 to 01-19 - df_test 04-19to04-19.feather\"))"
   ]
  },
  {
   "cell_type": "code",
   "execution_count": 114,
   "metadata": {},
   "outputs": [],
   "source": [
    "df_test = df_test[df_test[\"TIPO_EXPED\"] == 6]"
   ]
  },
  {
   "cell_type": "code",
   "execution_count": 59,
   "metadata": {},
   "outputs": [],
   "source": [
    "# Loding the model\n",
    "\n",
    "def load_model(file_name):\n",
    "    \"\"\"Load the dump model.\"\"\"\n",
    "    folder = \"models\"\n",
    "    path_to_load = f\"../../src/{folder}/1.1 - df_train 01-18to12-18\"\n",
    "    model_file = os.path.join(path_to_load, file_name)\n",
    "\n",
    "    with open(model_file, \"rb\") as file:\n",
    "        m = pickle.load(file)\n",
    "    return m\n",
    "\n",
    "\n",
    "def load_columns(file_name):\n",
    "    \"\"\"Load the array of columns use in the dump model.\"\"\"\n",
    "    folder = \"features\"\n",
    "    path_to_load = f\"../../src/{folder}/1.1 - df_train 01-18to12-18\"\n",
    "    columns_file = os.path.join(path_to_load, file_name)\n",
    "\n",
    "    with open(columns_file, \"rb\") as file:\n",
    "        columns = pickle.load(file)\n",
    "    return columns"
   ]
  },
  {
   "cell_type": "code",
   "execution_count": 47,
   "metadata": {},
   "outputs": [],
   "source": [
    "model_name = \"1.1.b.2.f(Model) - Model Optimization recall - class_weight (1, 18) - time sorted - valid score (0.403, 0.972).pickle\"\n",
    "columns_name = \"1.1.b.2.f (COLUMNS) - features: 17.pickle\"\n",
    "m = load_model(model_name)\n",
    "columns = load_columns(columns_name)"
   ]
  },
  {
   "cell_type": "code",
   "execution_count": 115,
   "metadata": {},
   "outputs": [],
   "source": [
    "X_test = df_test[X_train.columns]\n",
    "y_test = df_test[\"EXISTE_FRAUDE\"]"
   ]
  },
  {
   "cell_type": "code",
   "execution_count": 116,
   "metadata": {},
   "outputs": [],
   "source": [
    "X_test = X_test"
   ]
  },
  {
   "cell_type": "code",
   "execution_count": 117,
   "metadata": {},
   "outputs": [
    {
     "data": {
      "text/html": [
       "<div>\n",
       "<style scoped>\n",
       "    .dataframe tbody tr th:only-of-type {\n",
       "        vertical-align: middle;\n",
       "    }\n",
       "\n",
       "    .dataframe tbody tr th {\n",
       "        vertical-align: top;\n",
       "    }\n",
       "\n",
       "    .dataframe thead th {\n",
       "        text-align: right;\n",
       "    }\n",
       "</style>\n",
       "<table border=\"1\" class=\"dataframe\">\n",
       "  <thead>\n",
       "    <tr style=\"text-align: right;\">\n",
       "      <th></th>\n",
       "      <th>cond_04</th>\n",
       "      <th>cond_05</th>\n",
       "      <th>cond_06</th>\n",
       "      <th>cond_09</th>\n",
       "      <th>cond_11</th>\n",
       "      <th>cond_12</th>\n",
       "      <th>cond_32</th>\n",
       "      <th>cond_37</th>\n",
       "      <th>cond_C1</th>\n",
       "      <th>cond_C10</th>\n",
       "      <th>cond_C11</th>\n",
       "      <th>cond_C12</th>\n",
       "      <th>cond_C13</th>\n",
       "      <th>cond_C14</th>\n",
       "      <th>cond_C15</th>\n",
       "      <th>cond_C16</th>\n",
       "      <th>cond_C17</th>\n",
       "      <th>cond_C18</th>\n",
       "      <th>cond_C19</th>\n",
       "      <th>cond_C2</th>\n",
       "      <th>cond_C20</th>\n",
       "      <th>cond_C21</th>\n",
       "      <th>cond_C3</th>\n",
       "      <th>cond_C4</th>\n",
       "      <th>cond_C5</th>\n",
       "      <th>cond_C6</th>\n",
       "      <th>cond_C7</th>\n",
       "      <th>cond_C8</th>\n",
       "      <th>cond_C9</th>\n",
       "      <th>total_condicion</th>\n",
       "      <th>es_gte_5</th>\n",
       "      <th>preg_1</th>\n",
       "      <th>preg_2</th>\n",
       "      <th>preg_3</th>\n",
       "      <th>preg_4</th>\n",
       "      <th>preg_5</th>\n",
       "      <th>preg_6</th>\n",
       "      <th>preg_7</th>\n",
       "      <th>preg_8</th>\n",
       "      <th>preg_9</th>\n",
       "      <th>preg_10</th>\n",
       "      <th>preg_11</th>\n",
       "      <th>preg_12</th>\n",
       "      <th>preg_15</th>\n",
       "      <th>preg_16</th>\n",
       "      <th>preg_18</th>\n",
       "      <th>preg_19</th>\n",
       "      <th>preg_22</th>\n",
       "      <th>preg_24</th>\n",
       "      <th>preg_27</th>\n",
       "      <th>preg_28</th>\n",
       "      <th>preg_30</th>\n",
       "      <th>preg_31</th>\n",
       "      <th>preg_32</th>\n",
       "      <th>preg_33</th>\n",
       "      <th>preg_34</th>\n",
       "      <th>preg_36</th>\n",
       "      <th>preg_37</th>\n",
       "      <th>CATASTROFICO</th>\n",
       "      <th>CERRADURA_BAUL</th>\n",
       "      <th>CERRADURA_DERECHA</th>\n",
       "      <th>CERRADURA_IZQUIERDA</th>\n",
       "      <th>CODIGO_BAJA</th>\n",
       "      <th>CODIGO_CARATULA</th>\n",
       "      <th>CODIGO_REAPERTURA</th>\n",
       "      <th>CODIGO_VEHICULO</th>\n",
       "      <th>COD_CAUSA_SINI</th>\n",
       "      <th>COD_POST_OCURRENCIA</th>\n",
       "      <th>COD_POST_POLIZA</th>\n",
       "      <th>COD_POST_TERC</th>\n",
       "      <th>COD_RAMO_sini</th>\n",
       "      <th>COD_RIES_sini</th>\n",
       "      <th>CONDICION_ROBO_EXP50</th>\n",
       "      <th>DANOS_MATERIALES</th>\n",
       "      <th>DESCRIPCION_TIPO</th>\n",
       "      <th>ESTADO_CIVIL</th>\n",
       "      <th>ESTADO_CIVIL_TERC</th>\n",
       "      <th>ESTAD_VEH_ASEG</th>\n",
       "      <th>FALTANTE</th>\n",
       "      <th>MCA_COASEG</th>\n",
       "      <th>MCA_JUICIO</th>\n",
       "      <th>MCA_VIP</th>\n",
       "      <th>METRO</th>\n",
       "      <th>OCUPACION_ASEG</th>\n",
       "      <th>SEXO</th>\n",
       "      <th>SEXO_TERC</th>\n",
       "      <th>TELEFONO_TERC</th>\n",
       "      <th>TIPO</th>\n",
       "      <th>TIPO_EXPED</th>\n",
       "      <th>TIPO_LESION</th>\n",
       "      <th>TIPO_LESION_MAXIMA</th>\n",
       "      <th>TIPO_SINIESTRO</th>\n",
       "      <th>USO</th>\n",
       "      <th>dias_entre_denu_y_sini</th>\n",
       "      <th>dist_fformal_fsini</th>\n",
       "      <th>dist_fformal_fdenu</th>\n",
       "      <th>existe_FECHA_FORMAL</th>\n",
       "      <th>CANT_RENOVACION</th>\n",
       "      <th>CAPITAL_ACCESORIOS</th>\n",
       "      <th>CAPITAL_ASEGURADO_COTIZACION</th>\n",
       "      <th>CAPITAL_VEHICULO</th>\n",
       "      <th>COD_COBRO</th>\n",
       "      <th>COD_COBRO_ANTERIOR</th>\n",
       "      <th>COD_PROD</th>\n",
       "      <th>COD_ZONA_CASCO</th>\n",
       "      <th>COD_ZONA_RC</th>\n",
       "      <th>COD_ZONA_ROBO</th>\n",
       "      <th>CONV_COMISIONARIO</th>\n",
       "      <th>CIF_ID</th>\n",
       "      <th>MCA_AGRAVANTE</th>\n",
       "      <th>MCA_EMPLEADO</th>\n",
       "      <th>MCA_MOVIMIENTO</th>\n",
       "      <th>MCA_POLIZA_VIP</th>\n",
       "      <th>NEGOCIO</th>\n",
       "      <th>PRENDARIO</th>\n",
       "      <th>SEGMENTO</th>\n",
       "      <th>cambio_cobro</th>\n",
       "      <th>ANTIG_pol</th>\n",
       "      <th>COD_EST_CIVIL</th>\n",
       "      <th>TIPO_ACTIVIDAD</th>\n",
       "      <th>CLIENTE</th>\n",
       "      <th>CODIGO_NACION</th>\n",
       "      <th>DATECO_TIPO_ACTIVIDAD</th>\n",
       "      <th>DOMICILIO_CODIGO_POSTAL</th>\n",
       "      <th>HABILITADO</th>\n",
       "      <th>FECHA_SINI_Year</th>\n",
       "      <th>FECHA_SINI_Month</th>\n",
       "      <th>FECHA_SINI_Week</th>\n",
       "      <th>FECHA_SINI_Day</th>\n",
       "      <th>FECHA_SINI_Dayofweek</th>\n",
       "      <th>FECHA_SINI_Dayofyear</th>\n",
       "      <th>FECHA_SINI_Is_month_end</th>\n",
       "      <th>FECHA_SINI_Is_month_start</th>\n",
       "      <th>FECHA_SINI_Is_quarter_end</th>\n",
       "      <th>FECHA_SINI_Is_quarter_start</th>\n",
       "      <th>FECHA_SINI_Is_year_end</th>\n",
       "      <th>FECHA_SINI_Is_year_start</th>\n",
       "      <th>FECHA_SINI_Hour</th>\n",
       "      <th>FECHA_SINI_Minute</th>\n",
       "      <th>FECHA_SINI_Second</th>\n",
       "      <th>FECHA_SINI_Elapsed</th>\n",
       "      <th>cant_pol</th>\n",
       "      <th>cant_sini_1y</th>\n",
       "      <th>COD_POST_POLIZA_DP_CLUSTER_2019</th>\n",
       "      <th>COD_POST_POLIZA_RT_CLUSTER_2019</th>\n",
       "      <th>COD_POST_POLIZA_RC_CLUSTER_2019</th>\n",
       "      <th>COD_POST_OCURRENCIA_DP_CLUSTER_2019</th>\n",
       "      <th>COD_POST_OCURRENCIA_RT_CLUSTER_2019</th>\n",
       "      <th>COD_POST_OCURRENCIA_RC_CLUSTER_2019</th>\n",
       "      <th>COD_POST_TERC_DP_CLUSTER_2019</th>\n",
       "      <th>COD_POST_TERC_RT_CLUSTER_2019</th>\n",
       "      <th>COD_POST_TERC_RC_CLUSTER_2019</th>\n",
       "    </tr>\n",
       "  </thead>\n",
       "  <tbody>\n",
       "    <tr>\n",
       "      <th>11</th>\n",
       "      <td>-1.0</td>\n",
       "      <td>-1.0</td>\n",
       "      <td>-1.0</td>\n",
       "      <td>-1.0</td>\n",
       "      <td>-1.0</td>\n",
       "      <td>-1.0</td>\n",
       "      <td>2.0</td>\n",
       "      <td>-1.0</td>\n",
       "      <td>-1.0</td>\n",
       "      <td>0.0</td>\n",
       "      <td>0.0</td>\n",
       "      <td>0.0</td>\n",
       "      <td>0.0</td>\n",
       "      <td>-1.0</td>\n",
       "      <td>0.0</td>\n",
       "      <td>0.0</td>\n",
       "      <td>-1.0</td>\n",
       "      <td>0.0</td>\n",
       "      <td>0.0</td>\n",
       "      <td>-1.0</td>\n",
       "      <td>0.0</td>\n",
       "      <td>-1.0</td>\n",
       "      <td>-1.0</td>\n",
       "      <td>-1.0</td>\n",
       "      <td>-1.0</td>\n",
       "      <td>-1.0</td>\n",
       "      <td>-1.0</td>\n",
       "      <td>-1.0</td>\n",
       "      <td>-1.0</td>\n",
       "      <td>2.0</td>\n",
       "      <td>0.0</td>\n",
       "      <td>-1.0</td>\n",
       "      <td>-1.0</td>\n",
       "      <td>-1.0</td>\n",
       "      <td>-1.0</td>\n",
       "      <td>-1.0</td>\n",
       "      <td>-1.0</td>\n",
       "      <td>-1.0</td>\n",
       "      <td>-1.0</td>\n",
       "      <td>-1.0</td>\n",
       "      <td>-1.0</td>\n",
       "      <td>-1.0</td>\n",
       "      <td>-1.0</td>\n",
       "      <td>-1.0</td>\n",
       "      <td>-1.0</td>\n",
       "      <td>-1.0</td>\n",
       "      <td>-1.0</td>\n",
       "      <td>-1.0</td>\n",
       "      <td>-1.0</td>\n",
       "      <td>-1.0</td>\n",
       "      <td>-1.0</td>\n",
       "      <td>-1.0</td>\n",
       "      <td>0.0</td>\n",
       "      <td>1.0</td>\n",
       "      <td>1.0</td>\n",
       "      <td>270.0</td>\n",
       "      <td>-1.0</td>\n",
       "      <td>-1.0</td>\n",
       "      <td>0.0</td>\n",
       "      <td>0.0</td>\n",
       "      <td>0.0</td>\n",
       "      <td>0.0</td>\n",
       "      <td>-1.0</td>\n",
       "      <td>-1.0</td>\n",
       "      <td>-1.0</td>\n",
       "      <td>12415.0</td>\n",
       "      <td>209.0</td>\n",
       "      <td>5010.0</td>\n",
       "      <td>5010.0</td>\n",
       "      <td>-1.0</td>\n",
       "      <td>1.0</td>\n",
       "      <td>1.0</td>\n",
       "      <td>-1.0</td>\n",
       "      <td>0.0</td>\n",
       "      <td>3.0</td>\n",
       "      <td>6.0</td>\n",
       "      <td>-1.0</td>\n",
       "      <td>3.0</td>\n",
       "      <td>0.0</td>\n",
       "      <td>0.0</td>\n",
       "      <td>-1.0</td>\n",
       "      <td>1.0</td>\n",
       "      <td>0.0</td>\n",
       "      <td>5.0</td>\n",
       "      <td>1.0</td>\n",
       "      <td>-1.0</td>\n",
       "      <td>-1.0</td>\n",
       "      <td>3.0</td>\n",
       "      <td>6.0</td>\n",
       "      <td>-1.0</td>\n",
       "      <td>-1.0</td>\n",
       "      <td>5.0</td>\n",
       "      <td>1.0</td>\n",
       "      <td>0.0</td>\n",
       "      <td>-1.0</td>\n",
       "      <td>-1.0</td>\n",
       "      <td>0.0</td>\n",
       "      <td>16.0</td>\n",
       "      <td>8.0</td>\n",
       "      <td>778.0</td>\n",
       "      <td>1324.0</td>\n",
       "      <td>0.0</td>\n",
       "      <td>0.0</td>\n",
       "      <td>5010.0</td>\n",
       "      <td>2.0</td>\n",
       "      <td>8.0</td>\n",
       "      <td>7.0</td>\n",
       "      <td>107.0</td>\n",
       "      <td>-1.0</td>\n",
       "      <td>0.0</td>\n",
       "      <td>0.0</td>\n",
       "      <td>-1.0</td>\n",
       "      <td>1.0</td>\n",
       "      <td>21.0</td>\n",
       "      <td>0.0</td>\n",
       "      <td>4.0</td>\n",
       "      <td>0.0</td>\n",
       "      <td>455.0</td>\n",
       "      <td>-1.0</td>\n",
       "      <td>-1.0</td>\n",
       "      <td>-1.0</td>\n",
       "      <td>-1.0</td>\n",
       "      <td>-1.0</td>\n",
       "      <td>-1.0</td>\n",
       "      <td>-1.0</td>\n",
       "      <td>2019.0</td>\n",
       "      <td>4.0</td>\n",
       "      <td>14.0</td>\n",
       "      <td>1.0</td>\n",
       "      <td>0.0</td>\n",
       "      <td>91.0</td>\n",
       "      <td>0.0</td>\n",
       "      <td>1.0</td>\n",
       "      <td>0.0</td>\n",
       "      <td>1.0</td>\n",
       "      <td>0.0</td>\n",
       "      <td>0.0</td>\n",
       "      <td>0.0</td>\n",
       "      <td>0.0</td>\n",
       "      <td>0.0</td>\n",
       "      <td>1.554077e+09</td>\n",
       "      <td>0.0</td>\n",
       "      <td>0.0</td>\n",
       "      <td>19.0</td>\n",
       "      <td>3.0</td>\n",
       "      <td>18.0</td>\n",
       "      <td>19.0</td>\n",
       "      <td>3.0</td>\n",
       "      <td>18.0</td>\n",
       "      <td>-1.0</td>\n",
       "      <td>-1.0</td>\n",
       "      <td>-1.0</td>\n",
       "    </tr>\n",
       "    <tr>\n",
       "      <th>13</th>\n",
       "      <td>-1.0</td>\n",
       "      <td>-1.0</td>\n",
       "      <td>-1.0</td>\n",
       "      <td>-1.0</td>\n",
       "      <td>-1.0</td>\n",
       "      <td>-1.0</td>\n",
       "      <td>2.0</td>\n",
       "      <td>-1.0</td>\n",
       "      <td>-1.0</td>\n",
       "      <td>0.0</td>\n",
       "      <td>0.0</td>\n",
       "      <td>0.0</td>\n",
       "      <td>0.0</td>\n",
       "      <td>-1.0</td>\n",
       "      <td>0.0</td>\n",
       "      <td>0.0</td>\n",
       "      <td>-1.0</td>\n",
       "      <td>0.0</td>\n",
       "      <td>0.0</td>\n",
       "      <td>-1.0</td>\n",
       "      <td>0.0</td>\n",
       "      <td>-1.0</td>\n",
       "      <td>-1.0</td>\n",
       "      <td>-1.0</td>\n",
       "      <td>-1.0</td>\n",
       "      <td>-1.0</td>\n",
       "      <td>-1.0</td>\n",
       "      <td>-1.0</td>\n",
       "      <td>-1.0</td>\n",
       "      <td>2.0</td>\n",
       "      <td>0.0</td>\n",
       "      <td>-1.0</td>\n",
       "      <td>-1.0</td>\n",
       "      <td>-1.0</td>\n",
       "      <td>-1.0</td>\n",
       "      <td>-1.0</td>\n",
       "      <td>-1.0</td>\n",
       "      <td>-1.0</td>\n",
       "      <td>-1.0</td>\n",
       "      <td>-1.0</td>\n",
       "      <td>-1.0</td>\n",
       "      <td>-1.0</td>\n",
       "      <td>-1.0</td>\n",
       "      <td>-1.0</td>\n",
       "      <td>-1.0</td>\n",
       "      <td>-1.0</td>\n",
       "      <td>-1.0</td>\n",
       "      <td>-1.0</td>\n",
       "      <td>-1.0</td>\n",
       "      <td>-1.0</td>\n",
       "      <td>-1.0</td>\n",
       "      <td>-1.0</td>\n",
       "      <td>1.0</td>\n",
       "      <td>1.0</td>\n",
       "      <td>1.0</td>\n",
       "      <td>-1.0</td>\n",
       "      <td>-1.0</td>\n",
       "      <td>-1.0</td>\n",
       "      <td>0.0</td>\n",
       "      <td>0.0</td>\n",
       "      <td>0.0</td>\n",
       "      <td>0.0</td>\n",
       "      <td>-1.0</td>\n",
       "      <td>-1.0</td>\n",
       "      <td>-1.0</td>\n",
       "      <td>21763.0</td>\n",
       "      <td>209.0</td>\n",
       "      <td>1759.0</td>\n",
       "      <td>1759.0</td>\n",
       "      <td>-1.0</td>\n",
       "      <td>1.0</td>\n",
       "      <td>1.0</td>\n",
       "      <td>-1.0</td>\n",
       "      <td>0.0</td>\n",
       "      <td>3.0</td>\n",
       "      <td>6.0</td>\n",
       "      <td>-1.0</td>\n",
       "      <td>3.0</td>\n",
       "      <td>1.0</td>\n",
       "      <td>0.0</td>\n",
       "      <td>-1.0</td>\n",
       "      <td>1.0</td>\n",
       "      <td>1.0</td>\n",
       "      <td>28.0</td>\n",
       "      <td>1.0</td>\n",
       "      <td>-1.0</td>\n",
       "      <td>-1.0</td>\n",
       "      <td>3.0</td>\n",
       "      <td>6.0</td>\n",
       "      <td>-1.0</td>\n",
       "      <td>-1.0</td>\n",
       "      <td>5.0</td>\n",
       "      <td>1.0</td>\n",
       "      <td>0.0</td>\n",
       "      <td>-1.0</td>\n",
       "      <td>-1.0</td>\n",
       "      <td>0.0</td>\n",
       "      <td>21.0</td>\n",
       "      <td>8.0</td>\n",
       "      <td>317.0</td>\n",
       "      <td>424.0</td>\n",
       "      <td>5.0</td>\n",
       "      <td>5.0</td>\n",
       "      <td>6030.0</td>\n",
       "      <td>1.0</td>\n",
       "      <td>1.0</td>\n",
       "      <td>1.0</td>\n",
       "      <td>107.0</td>\n",
       "      <td>-1.0</td>\n",
       "      <td>0.0</td>\n",
       "      <td>0.0</td>\n",
       "      <td>-1.0</td>\n",
       "      <td>1.0</td>\n",
       "      <td>21.0</td>\n",
       "      <td>0.0</td>\n",
       "      <td>4.0</td>\n",
       "      <td>0.0</td>\n",
       "      <td>608.0</td>\n",
       "      <td>-1.0</td>\n",
       "      <td>-1.0</td>\n",
       "      <td>-1.0</td>\n",
       "      <td>-1.0</td>\n",
       "      <td>-1.0</td>\n",
       "      <td>-1.0</td>\n",
       "      <td>-1.0</td>\n",
       "      <td>2019.0</td>\n",
       "      <td>4.0</td>\n",
       "      <td>14.0</td>\n",
       "      <td>1.0</td>\n",
       "      <td>0.0</td>\n",
       "      <td>91.0</td>\n",
       "      <td>0.0</td>\n",
       "      <td>1.0</td>\n",
       "      <td>0.0</td>\n",
       "      <td>1.0</td>\n",
       "      <td>0.0</td>\n",
       "      <td>0.0</td>\n",
       "      <td>0.0</td>\n",
       "      <td>0.0</td>\n",
       "      <td>0.0</td>\n",
       "      <td>1.554077e+09</td>\n",
       "      <td>0.0</td>\n",
       "      <td>0.0</td>\n",
       "      <td>29.0</td>\n",
       "      <td>10.0</td>\n",
       "      <td>25.0</td>\n",
       "      <td>29.0</td>\n",
       "      <td>10.0</td>\n",
       "      <td>25.0</td>\n",
       "      <td>-1.0</td>\n",
       "      <td>-1.0</td>\n",
       "      <td>-1.0</td>\n",
       "    </tr>\n",
       "    <tr>\n",
       "      <th>23</th>\n",
       "      <td>-1.0</td>\n",
       "      <td>-1.0</td>\n",
       "      <td>-1.0</td>\n",
       "      <td>-1.0</td>\n",
       "      <td>-1.0</td>\n",
       "      <td>-1.0</td>\n",
       "      <td>2.0</td>\n",
       "      <td>-1.0</td>\n",
       "      <td>-1.0</td>\n",
       "      <td>0.0</td>\n",
       "      <td>0.0</td>\n",
       "      <td>3.0</td>\n",
       "      <td>0.0</td>\n",
       "      <td>-1.0</td>\n",
       "      <td>0.0</td>\n",
       "      <td>0.0</td>\n",
       "      <td>-1.0</td>\n",
       "      <td>0.0</td>\n",
       "      <td>0.0</td>\n",
       "      <td>-1.0</td>\n",
       "      <td>0.0</td>\n",
       "      <td>-1.0</td>\n",
       "      <td>-1.0</td>\n",
       "      <td>-1.0</td>\n",
       "      <td>-1.0</td>\n",
       "      <td>-1.0</td>\n",
       "      <td>-1.0</td>\n",
       "      <td>-1.0</td>\n",
       "      <td>-1.0</td>\n",
       "      <td>5.0</td>\n",
       "      <td>1.0</td>\n",
       "      <td>-1.0</td>\n",
       "      <td>-1.0</td>\n",
       "      <td>-1.0</td>\n",
       "      <td>-1.0</td>\n",
       "      <td>-1.0</td>\n",
       "      <td>-1.0</td>\n",
       "      <td>-1.0</td>\n",
       "      <td>-1.0</td>\n",
       "      <td>-1.0</td>\n",
       "      <td>-1.0</td>\n",
       "      <td>-1.0</td>\n",
       "      <td>-1.0</td>\n",
       "      <td>-1.0</td>\n",
       "      <td>-1.0</td>\n",
       "      <td>-1.0</td>\n",
       "      <td>-1.0</td>\n",
       "      <td>-1.0</td>\n",
       "      <td>-1.0</td>\n",
       "      <td>-1.0</td>\n",
       "      <td>-1.0</td>\n",
       "      <td>-1.0</td>\n",
       "      <td>0.0</td>\n",
       "      <td>1.0</td>\n",
       "      <td>1.0</td>\n",
       "      <td>293.0</td>\n",
       "      <td>-1.0</td>\n",
       "      <td>-1.0</td>\n",
       "      <td>0.0</td>\n",
       "      <td>0.0</td>\n",
       "      <td>0.0</td>\n",
       "      <td>0.0</td>\n",
       "      <td>-1.0</td>\n",
       "      <td>-1.0</td>\n",
       "      <td>-1.0</td>\n",
       "      <td>2035.0</td>\n",
       "      <td>209.0</td>\n",
       "      <td>1754.0</td>\n",
       "      <td>1766.0</td>\n",
       "      <td>-1.0</td>\n",
       "      <td>1.0</td>\n",
       "      <td>1.0</td>\n",
       "      <td>-1.0</td>\n",
       "      <td>0.0</td>\n",
       "      <td>2.0</td>\n",
       "      <td>6.0</td>\n",
       "      <td>-1.0</td>\n",
       "      <td>3.0</td>\n",
       "      <td>0.0</td>\n",
       "      <td>0.0</td>\n",
       "      <td>-1.0</td>\n",
       "      <td>1.0</td>\n",
       "      <td>1.0</td>\n",
       "      <td>8.0</td>\n",
       "      <td>1.0</td>\n",
       "      <td>-1.0</td>\n",
       "      <td>-1.0</td>\n",
       "      <td>6.0</td>\n",
       "      <td>6.0</td>\n",
       "      <td>-1.0</td>\n",
       "      <td>-1.0</td>\n",
       "      <td>7.0</td>\n",
       "      <td>1.0</td>\n",
       "      <td>0.0</td>\n",
       "      <td>-1.0</td>\n",
       "      <td>-1.0</td>\n",
       "      <td>0.0</td>\n",
       "      <td>35.0</td>\n",
       "      <td>182.0</td>\n",
       "      <td>1475.0</td>\n",
       "      <td>2781.0</td>\n",
       "      <td>5.0</td>\n",
       "      <td>5.0</td>\n",
       "      <td>6030.0</td>\n",
       "      <td>1.0</td>\n",
       "      <td>1.0</td>\n",
       "      <td>1.0</td>\n",
       "      <td>107.0</td>\n",
       "      <td>-1.0</td>\n",
       "      <td>0.0</td>\n",
       "      <td>0.0</td>\n",
       "      <td>-1.0</td>\n",
       "      <td>1.0</td>\n",
       "      <td>21.0</td>\n",
       "      <td>0.0</td>\n",
       "      <td>4.0</td>\n",
       "      <td>0.0</td>\n",
       "      <td>1034.0</td>\n",
       "      <td>-1.0</td>\n",
       "      <td>-1.0</td>\n",
       "      <td>-1.0</td>\n",
       "      <td>-1.0</td>\n",
       "      <td>-1.0</td>\n",
       "      <td>-1.0</td>\n",
       "      <td>-1.0</td>\n",
       "      <td>2019.0</td>\n",
       "      <td>4.0</td>\n",
       "      <td>14.0</td>\n",
       "      <td>1.0</td>\n",
       "      <td>0.0</td>\n",
       "      <td>91.0</td>\n",
       "      <td>0.0</td>\n",
       "      <td>1.0</td>\n",
       "      <td>0.0</td>\n",
       "      <td>1.0</td>\n",
       "      <td>0.0</td>\n",
       "      <td>0.0</td>\n",
       "      <td>0.0</td>\n",
       "      <td>0.0</td>\n",
       "      <td>0.0</td>\n",
       "      <td>1.554077e+09</td>\n",
       "      <td>0.0</td>\n",
       "      <td>0.0</td>\n",
       "      <td>29.0</td>\n",
       "      <td>10.0</td>\n",
       "      <td>25.0</td>\n",
       "      <td>29.0</td>\n",
       "      <td>10.0</td>\n",
       "      <td>25.0</td>\n",
       "      <td>-1.0</td>\n",
       "      <td>-1.0</td>\n",
       "      <td>-1.0</td>\n",
       "    </tr>\n",
       "    <tr>\n",
       "      <th>24</th>\n",
       "      <td>-1.0</td>\n",
       "      <td>-1.0</td>\n",
       "      <td>-1.0</td>\n",
       "      <td>-1.0</td>\n",
       "      <td>-1.0</td>\n",
       "      <td>-1.0</td>\n",
       "      <td>0.0</td>\n",
       "      <td>-1.0</td>\n",
       "      <td>-1.0</td>\n",
       "      <td>0.0</td>\n",
       "      <td>0.0</td>\n",
       "      <td>3.0</td>\n",
       "      <td>0.0</td>\n",
       "      <td>-1.0</td>\n",
       "      <td>0.0</td>\n",
       "      <td>0.0</td>\n",
       "      <td>-1.0</td>\n",
       "      <td>0.0</td>\n",
       "      <td>0.0</td>\n",
       "      <td>-1.0</td>\n",
       "      <td>0.0</td>\n",
       "      <td>-1.0</td>\n",
       "      <td>-1.0</td>\n",
       "      <td>-1.0</td>\n",
       "      <td>-1.0</td>\n",
       "      <td>-1.0</td>\n",
       "      <td>-1.0</td>\n",
       "      <td>-1.0</td>\n",
       "      <td>-1.0</td>\n",
       "      <td>3.0</td>\n",
       "      <td>0.0</td>\n",
       "      <td>-1.0</td>\n",
       "      <td>-1.0</td>\n",
       "      <td>-1.0</td>\n",
       "      <td>-1.0</td>\n",
       "      <td>-1.0</td>\n",
       "      <td>-1.0</td>\n",
       "      <td>-1.0</td>\n",
       "      <td>-1.0</td>\n",
       "      <td>-1.0</td>\n",
       "      <td>-1.0</td>\n",
       "      <td>-1.0</td>\n",
       "      <td>-1.0</td>\n",
       "      <td>-1.0</td>\n",
       "      <td>-1.0</td>\n",
       "      <td>-1.0</td>\n",
       "      <td>-1.0</td>\n",
       "      <td>-1.0</td>\n",
       "      <td>-1.0</td>\n",
       "      <td>-1.0</td>\n",
       "      <td>-1.0</td>\n",
       "      <td>-1.0</td>\n",
       "      <td>0.0</td>\n",
       "      <td>0.0</td>\n",
       "      <td>0.0</td>\n",
       "      <td>270.0</td>\n",
       "      <td>-1.0</td>\n",
       "      <td>-1.0</td>\n",
       "      <td>0.0</td>\n",
       "      <td>0.0</td>\n",
       "      <td>0.0</td>\n",
       "      <td>0.0</td>\n",
       "      <td>-1.0</td>\n",
       "      <td>-1.0</td>\n",
       "      <td>-1.0</td>\n",
       "      <td>2116.0</td>\n",
       "      <td>209.0</td>\n",
       "      <td>1766.0</td>\n",
       "      <td>1766.0</td>\n",
       "      <td>-1.0</td>\n",
       "      <td>8.0</td>\n",
       "      <td>1.0</td>\n",
       "      <td>-1.0</td>\n",
       "      <td>0.0</td>\n",
       "      <td>3.0</td>\n",
       "      <td>0.0</td>\n",
       "      <td>-1.0</td>\n",
       "      <td>5.0</td>\n",
       "      <td>1.0</td>\n",
       "      <td>0.0</td>\n",
       "      <td>-1.0</td>\n",
       "      <td>1.0</td>\n",
       "      <td>1.0</td>\n",
       "      <td>5.0</td>\n",
       "      <td>1.0</td>\n",
       "      <td>-1.0</td>\n",
       "      <td>-1.0</td>\n",
       "      <td>3.0</td>\n",
       "      <td>6.0</td>\n",
       "      <td>-1.0</td>\n",
       "      <td>-1.0</td>\n",
       "      <td>5.0</td>\n",
       "      <td>1.0</td>\n",
       "      <td>0.0</td>\n",
       "      <td>-1.0</td>\n",
       "      <td>-1.0</td>\n",
       "      <td>0.0</td>\n",
       "      <td>24.0</td>\n",
       "      <td>8.0</td>\n",
       "      <td>2818.0</td>\n",
       "      <td>5618.0</td>\n",
       "      <td>2.0</td>\n",
       "      <td>2.0</td>\n",
       "      <td>72189.0</td>\n",
       "      <td>1.0</td>\n",
       "      <td>1.0</td>\n",
       "      <td>1.0</td>\n",
       "      <td>32.0</td>\n",
       "      <td>-1.0</td>\n",
       "      <td>1.0</td>\n",
       "      <td>0.0</td>\n",
       "      <td>-1.0</td>\n",
       "      <td>1.0</td>\n",
       "      <td>50.0</td>\n",
       "      <td>1.0</td>\n",
       "      <td>-1.0</td>\n",
       "      <td>0.0</td>\n",
       "      <td>676.0</td>\n",
       "      <td>-1.0</td>\n",
       "      <td>-1.0</td>\n",
       "      <td>-1.0</td>\n",
       "      <td>-1.0</td>\n",
       "      <td>-1.0</td>\n",
       "      <td>-1.0</td>\n",
       "      <td>-1.0</td>\n",
       "      <td>2019.0</td>\n",
       "      <td>4.0</td>\n",
       "      <td>14.0</td>\n",
       "      <td>1.0</td>\n",
       "      <td>0.0</td>\n",
       "      <td>91.0</td>\n",
       "      <td>0.0</td>\n",
       "      <td>1.0</td>\n",
       "      <td>0.0</td>\n",
       "      <td>1.0</td>\n",
       "      <td>0.0</td>\n",
       "      <td>0.0</td>\n",
       "      <td>0.0</td>\n",
       "      <td>0.0</td>\n",
       "      <td>0.0</td>\n",
       "      <td>1.554077e+09</td>\n",
       "      <td>0.0</td>\n",
       "      <td>0.0</td>\n",
       "      <td>29.0</td>\n",
       "      <td>10.0</td>\n",
       "      <td>25.0</td>\n",
       "      <td>29.0</td>\n",
       "      <td>10.0</td>\n",
       "      <td>25.0</td>\n",
       "      <td>-1.0</td>\n",
       "      <td>-1.0</td>\n",
       "      <td>-1.0</td>\n",
       "    </tr>\n",
       "    <tr>\n",
       "      <th>30</th>\n",
       "      <td>-1.0</td>\n",
       "      <td>-1.0</td>\n",
       "      <td>-1.0</td>\n",
       "      <td>-1.0</td>\n",
       "      <td>-1.0</td>\n",
       "      <td>-1.0</td>\n",
       "      <td>0.0</td>\n",
       "      <td>-1.0</td>\n",
       "      <td>-1.0</td>\n",
       "      <td>0.0</td>\n",
       "      <td>0.0</td>\n",
       "      <td>0.0</td>\n",
       "      <td>0.0</td>\n",
       "      <td>-1.0</td>\n",
       "      <td>0.0</td>\n",
       "      <td>0.0</td>\n",
       "      <td>-1.0</td>\n",
       "      <td>0.0</td>\n",
       "      <td>0.0</td>\n",
       "      <td>-1.0</td>\n",
       "      <td>0.0</td>\n",
       "      <td>-1.0</td>\n",
       "      <td>-1.0</td>\n",
       "      <td>-1.0</td>\n",
       "      <td>-1.0</td>\n",
       "      <td>-1.0</td>\n",
       "      <td>-1.0</td>\n",
       "      <td>-1.0</td>\n",
       "      <td>-1.0</td>\n",
       "      <td>0.0</td>\n",
       "      <td>0.0</td>\n",
       "      <td>-1.0</td>\n",
       "      <td>-1.0</td>\n",
       "      <td>-1.0</td>\n",
       "      <td>-1.0</td>\n",
       "      <td>-1.0</td>\n",
       "      <td>-1.0</td>\n",
       "      <td>-1.0</td>\n",
       "      <td>-1.0</td>\n",
       "      <td>-1.0</td>\n",
       "      <td>-1.0</td>\n",
       "      <td>-1.0</td>\n",
       "      <td>-1.0</td>\n",
       "      <td>-1.0</td>\n",
       "      <td>-1.0</td>\n",
       "      <td>-1.0</td>\n",
       "      <td>-1.0</td>\n",
       "      <td>-1.0</td>\n",
       "      <td>-1.0</td>\n",
       "      <td>-1.0</td>\n",
       "      <td>-1.0</td>\n",
       "      <td>-1.0</td>\n",
       "      <td>0.0</td>\n",
       "      <td>0.0</td>\n",
       "      <td>1.0</td>\n",
       "      <td>270.0</td>\n",
       "      <td>-1.0</td>\n",
       "      <td>-1.0</td>\n",
       "      <td>0.0</td>\n",
       "      <td>0.0</td>\n",
       "      <td>0.0</td>\n",
       "      <td>0.0</td>\n",
       "      <td>-1.0</td>\n",
       "      <td>-1.0</td>\n",
       "      <td>-1.0</td>\n",
       "      <td>28512.0</td>\n",
       "      <td>209.0</td>\n",
       "      <td>5000.0</td>\n",
       "      <td>5000.0</td>\n",
       "      <td>-1.0</td>\n",
       "      <td>1.0</td>\n",
       "      <td>1.0</td>\n",
       "      <td>-1.0</td>\n",
       "      <td>0.0</td>\n",
       "      <td>23.0</td>\n",
       "      <td>9.0</td>\n",
       "      <td>-1.0</td>\n",
       "      <td>3.0</td>\n",
       "      <td>1.0</td>\n",
       "      <td>0.0</td>\n",
       "      <td>-1.0</td>\n",
       "      <td>1.0</td>\n",
       "      <td>0.0</td>\n",
       "      <td>13.0</td>\n",
       "      <td>1.0</td>\n",
       "      <td>-1.0</td>\n",
       "      <td>-1.0</td>\n",
       "      <td>8.0</td>\n",
       "      <td>6.0</td>\n",
       "      <td>-1.0</td>\n",
       "      <td>-1.0</td>\n",
       "      <td>5.0</td>\n",
       "      <td>1.0</td>\n",
       "      <td>0.0</td>\n",
       "      <td>-1.0</td>\n",
       "      <td>-1.0</td>\n",
       "      <td>0.0</td>\n",
       "      <td>18.0</td>\n",
       "      <td>8.0</td>\n",
       "      <td>3534.0</td>\n",
       "      <td>7555.0</td>\n",
       "      <td>2.0</td>\n",
       "      <td>2.0</td>\n",
       "      <td>72043.0</td>\n",
       "      <td>2.0</td>\n",
       "      <td>8.0</td>\n",
       "      <td>7.0</td>\n",
       "      <td>3.0</td>\n",
       "      <td>9020714.0</td>\n",
       "      <td>0.0</td>\n",
       "      <td>0.0</td>\n",
       "      <td>-1.0</td>\n",
       "      <td>1.0</td>\n",
       "      <td>47.0</td>\n",
       "      <td>1.0</td>\n",
       "      <td>5.0</td>\n",
       "      <td>0.0</td>\n",
       "      <td>516.0</td>\n",
       "      <td>-1.0</td>\n",
       "      <td>-1.0</td>\n",
       "      <td>-1.0</td>\n",
       "      <td>2.0</td>\n",
       "      <td>-1.0</td>\n",
       "      <td>5000000.0</td>\n",
       "      <td>-1.0</td>\n",
       "      <td>2019.0</td>\n",
       "      <td>4.0</td>\n",
       "      <td>14.0</td>\n",
       "      <td>1.0</td>\n",
       "      <td>0.0</td>\n",
       "      <td>91.0</td>\n",
       "      <td>0.0</td>\n",
       "      <td>1.0</td>\n",
       "      <td>0.0</td>\n",
       "      <td>1.0</td>\n",
       "      <td>0.0</td>\n",
       "      <td>0.0</td>\n",
       "      <td>0.0</td>\n",
       "      <td>0.0</td>\n",
       "      <td>0.0</td>\n",
       "      <td>1.554077e+09</td>\n",
       "      <td>1.0</td>\n",
       "      <td>1.0</td>\n",
       "      <td>19.0</td>\n",
       "      <td>3.0</td>\n",
       "      <td>18.0</td>\n",
       "      <td>19.0</td>\n",
       "      <td>3.0</td>\n",
       "      <td>18.0</td>\n",
       "      <td>-1.0</td>\n",
       "      <td>-1.0</td>\n",
       "      <td>-1.0</td>\n",
       "    </tr>\n",
       "  </tbody>\n",
       "</table>\n",
       "</div>"
      ],
      "text/plain": [
       "    cond_04  cond_05  cond_06  cond_09  cond_11  cond_12  cond_32  cond_37  \\\n",
       "11     -1.0     -1.0     -1.0     -1.0     -1.0     -1.0      2.0     -1.0   \n",
       "13     -1.0     -1.0     -1.0     -1.0     -1.0     -1.0      2.0     -1.0   \n",
       "23     -1.0     -1.0     -1.0     -1.0     -1.0     -1.0      2.0     -1.0   \n",
       "24     -1.0     -1.0     -1.0     -1.0     -1.0     -1.0      0.0     -1.0   \n",
       "30     -1.0     -1.0     -1.0     -1.0     -1.0     -1.0      0.0     -1.0   \n",
       "\n",
       "    cond_C1  cond_C10  cond_C11  cond_C12  cond_C13  cond_C14  cond_C15  \\\n",
       "11     -1.0       0.0       0.0       0.0       0.0      -1.0       0.0   \n",
       "13     -1.0       0.0       0.0       0.0       0.0      -1.0       0.0   \n",
       "23     -1.0       0.0       0.0       3.0       0.0      -1.0       0.0   \n",
       "24     -1.0       0.0       0.0       3.0       0.0      -1.0       0.0   \n",
       "30     -1.0       0.0       0.0       0.0       0.0      -1.0       0.0   \n",
       "\n",
       "    cond_C16  cond_C17  cond_C18  cond_C19  cond_C2  cond_C20  cond_C21  \\\n",
       "11       0.0      -1.0       0.0       0.0     -1.0       0.0      -1.0   \n",
       "13       0.0      -1.0       0.0       0.0     -1.0       0.0      -1.0   \n",
       "23       0.0      -1.0       0.0       0.0     -1.0       0.0      -1.0   \n",
       "24       0.0      -1.0       0.0       0.0     -1.0       0.0      -1.0   \n",
       "30       0.0      -1.0       0.0       0.0     -1.0       0.0      -1.0   \n",
       "\n",
       "    cond_C3  cond_C4  cond_C5  cond_C6  cond_C7  cond_C8  cond_C9  \\\n",
       "11     -1.0     -1.0     -1.0     -1.0     -1.0     -1.0     -1.0   \n",
       "13     -1.0     -1.0     -1.0     -1.0     -1.0     -1.0     -1.0   \n",
       "23     -1.0     -1.0     -1.0     -1.0     -1.0     -1.0     -1.0   \n",
       "24     -1.0     -1.0     -1.0     -1.0     -1.0     -1.0     -1.0   \n",
       "30     -1.0     -1.0     -1.0     -1.0     -1.0     -1.0     -1.0   \n",
       "\n",
       "    total_condicion  es_gte_5  preg_1  preg_2  preg_3  preg_4  preg_5  preg_6  \\\n",
       "11              2.0       0.0    -1.0    -1.0    -1.0    -1.0    -1.0    -1.0   \n",
       "13              2.0       0.0    -1.0    -1.0    -1.0    -1.0    -1.0    -1.0   \n",
       "23              5.0       1.0    -1.0    -1.0    -1.0    -1.0    -1.0    -1.0   \n",
       "24              3.0       0.0    -1.0    -1.0    -1.0    -1.0    -1.0    -1.0   \n",
       "30              0.0       0.0    -1.0    -1.0    -1.0    -1.0    -1.0    -1.0   \n",
       "\n",
       "    preg_7  preg_8  preg_9  preg_10  preg_11  preg_12  preg_15  preg_16  \\\n",
       "11    -1.0    -1.0    -1.0     -1.0     -1.0     -1.0     -1.0     -1.0   \n",
       "13    -1.0    -1.0    -1.0     -1.0     -1.0     -1.0     -1.0     -1.0   \n",
       "23    -1.0    -1.0    -1.0     -1.0     -1.0     -1.0     -1.0     -1.0   \n",
       "24    -1.0    -1.0    -1.0     -1.0     -1.0     -1.0     -1.0     -1.0   \n",
       "30    -1.0    -1.0    -1.0     -1.0     -1.0     -1.0     -1.0     -1.0   \n",
       "\n",
       "    preg_18  preg_19  preg_22  preg_24  preg_27  preg_28  preg_30  preg_31  \\\n",
       "11     -1.0     -1.0     -1.0     -1.0     -1.0     -1.0     -1.0      0.0   \n",
       "13     -1.0     -1.0     -1.0     -1.0     -1.0     -1.0     -1.0      1.0   \n",
       "23     -1.0     -1.0     -1.0     -1.0     -1.0     -1.0     -1.0      0.0   \n",
       "24     -1.0     -1.0     -1.0     -1.0     -1.0     -1.0     -1.0      0.0   \n",
       "30     -1.0     -1.0     -1.0     -1.0     -1.0     -1.0     -1.0      0.0   \n",
       "\n",
       "    preg_32  preg_33  preg_34  preg_36  preg_37  CATASTROFICO  CERRADURA_BAUL  \\\n",
       "11      1.0      1.0    270.0     -1.0     -1.0           0.0             0.0   \n",
       "13      1.0      1.0     -1.0     -1.0     -1.0           0.0             0.0   \n",
       "23      1.0      1.0    293.0     -1.0     -1.0           0.0             0.0   \n",
       "24      0.0      0.0    270.0     -1.0     -1.0           0.0             0.0   \n",
       "30      0.0      1.0    270.0     -1.0     -1.0           0.0             0.0   \n",
       "\n",
       "    CERRADURA_DERECHA  CERRADURA_IZQUIERDA  CODIGO_BAJA  CODIGO_CARATULA  \\\n",
       "11                0.0                  0.0         -1.0             -1.0   \n",
       "13                0.0                  0.0         -1.0             -1.0   \n",
       "23                0.0                  0.0         -1.0             -1.0   \n",
       "24                0.0                  0.0         -1.0             -1.0   \n",
       "30                0.0                  0.0         -1.0             -1.0   \n",
       "\n",
       "    CODIGO_REAPERTURA  CODIGO_VEHICULO  COD_CAUSA_SINI  COD_POST_OCURRENCIA  \\\n",
       "11               -1.0          12415.0           209.0               5010.0   \n",
       "13               -1.0          21763.0           209.0               1759.0   \n",
       "23               -1.0           2035.0           209.0               1754.0   \n",
       "24               -1.0           2116.0           209.0               1766.0   \n",
       "30               -1.0          28512.0           209.0               5000.0   \n",
       "\n",
       "    COD_POST_POLIZA  COD_POST_TERC  COD_RAMO_sini  COD_RIES_sini  \\\n",
       "11           5010.0           -1.0            1.0            1.0   \n",
       "13           1759.0           -1.0            1.0            1.0   \n",
       "23           1766.0           -1.0            1.0            1.0   \n",
       "24           1766.0           -1.0            8.0            1.0   \n",
       "30           5000.0           -1.0            1.0            1.0   \n",
       "\n",
       "    CONDICION_ROBO_EXP50  DANOS_MATERIALES  DESCRIPCION_TIPO  ESTADO_CIVIL  \\\n",
       "11                  -1.0               0.0               3.0           6.0   \n",
       "13                  -1.0               0.0               3.0           6.0   \n",
       "23                  -1.0               0.0               2.0           6.0   \n",
       "24                  -1.0               0.0               3.0           0.0   \n",
       "30                  -1.0               0.0              23.0           9.0   \n",
       "\n",
       "    ESTADO_CIVIL_TERC  ESTAD_VEH_ASEG  FALTANTE  MCA_COASEG  MCA_JUICIO  \\\n",
       "11               -1.0             3.0       0.0         0.0        -1.0   \n",
       "13               -1.0             3.0       1.0         0.0        -1.0   \n",
       "23               -1.0             3.0       0.0         0.0        -1.0   \n",
       "24               -1.0             5.0       1.0         0.0        -1.0   \n",
       "30               -1.0             3.0       1.0         0.0        -1.0   \n",
       "\n",
       "    MCA_VIP  METRO  OCUPACION_ASEG  SEXO  SEXO_TERC  TELEFONO_TERC  TIPO  \\\n",
       "11      1.0    0.0             5.0   1.0       -1.0           -1.0   3.0   \n",
       "13      1.0    1.0            28.0   1.0       -1.0           -1.0   3.0   \n",
       "23      1.0    1.0             8.0   1.0       -1.0           -1.0   6.0   \n",
       "24      1.0    1.0             5.0   1.0       -1.0           -1.0   3.0   \n",
       "30      1.0    0.0            13.0   1.0       -1.0           -1.0   8.0   \n",
       "\n",
       "    TIPO_EXPED  TIPO_LESION  TIPO_LESION_MAXIMA  TIPO_SINIESTRO  USO  \\\n",
       "11         6.0         -1.0                -1.0             5.0  1.0   \n",
       "13         6.0         -1.0                -1.0             5.0  1.0   \n",
       "23         6.0         -1.0                -1.0             7.0  1.0   \n",
       "24         6.0         -1.0                -1.0             5.0  1.0   \n",
       "30         6.0         -1.0                -1.0             5.0  1.0   \n",
       "\n",
       "    dias_entre_denu_y_sini  dist_fformal_fsini  dist_fformal_fdenu  \\\n",
       "11                     0.0                -1.0                -1.0   \n",
       "13                     0.0                -1.0                -1.0   \n",
       "23                     0.0                -1.0                -1.0   \n",
       "24                     0.0                -1.0                -1.0   \n",
       "30                     0.0                -1.0                -1.0   \n",
       "\n",
       "    existe_FECHA_FORMAL  CANT_RENOVACION  CAPITAL_ACCESORIOS  \\\n",
       "11                  0.0             16.0                 8.0   \n",
       "13                  0.0             21.0                 8.0   \n",
       "23                  0.0             35.0               182.0   \n",
       "24                  0.0             24.0                 8.0   \n",
       "30                  0.0             18.0                 8.0   \n",
       "\n",
       "    CAPITAL_ASEGURADO_COTIZACION  CAPITAL_VEHICULO  COD_COBRO  \\\n",
       "11                         778.0            1324.0        0.0   \n",
       "13                         317.0             424.0        5.0   \n",
       "23                        1475.0            2781.0        5.0   \n",
       "24                        2818.0            5618.0        2.0   \n",
       "30                        3534.0            7555.0        2.0   \n",
       "\n",
       "    COD_COBRO_ANTERIOR  COD_PROD  COD_ZONA_CASCO  COD_ZONA_RC  COD_ZONA_ROBO  \\\n",
       "11                 0.0    5010.0             2.0          8.0            7.0   \n",
       "13                 5.0    6030.0             1.0          1.0            1.0   \n",
       "23                 5.0    6030.0             1.0          1.0            1.0   \n",
       "24                 2.0   72189.0             1.0          1.0            1.0   \n",
       "30                 2.0   72043.0             2.0          8.0            7.0   \n",
       "\n",
       "    CONV_COMISIONARIO     CIF_ID  MCA_AGRAVANTE  MCA_EMPLEADO  MCA_MOVIMIENTO  \\\n",
       "11              107.0       -1.0            0.0           0.0            -1.0   \n",
       "13              107.0       -1.0            0.0           0.0            -1.0   \n",
       "23              107.0       -1.0            0.0           0.0            -1.0   \n",
       "24               32.0       -1.0            1.0           0.0            -1.0   \n",
       "30                3.0  9020714.0            0.0           0.0            -1.0   \n",
       "\n",
       "    MCA_POLIZA_VIP  NEGOCIO  PRENDARIO  SEGMENTO  cambio_cobro  ANTIG_pol  \\\n",
       "11             1.0     21.0        0.0       4.0           0.0      455.0   \n",
       "13             1.0     21.0        0.0       4.0           0.0      608.0   \n",
       "23             1.0     21.0        0.0       4.0           0.0     1034.0   \n",
       "24             1.0     50.0        1.0      -1.0           0.0      676.0   \n",
       "30             1.0     47.0        1.0       5.0           0.0      516.0   \n",
       "\n",
       "    COD_EST_CIVIL  TIPO_ACTIVIDAD  CLIENTE  CODIGO_NACION  \\\n",
       "11           -1.0            -1.0     -1.0           -1.0   \n",
       "13           -1.0            -1.0     -1.0           -1.0   \n",
       "23           -1.0            -1.0     -1.0           -1.0   \n",
       "24           -1.0            -1.0     -1.0           -1.0   \n",
       "30           -1.0            -1.0     -1.0            2.0   \n",
       "\n",
       "    DATECO_TIPO_ACTIVIDAD  DOMICILIO_CODIGO_POSTAL  HABILITADO  \\\n",
       "11                   -1.0                     -1.0        -1.0   \n",
       "13                   -1.0                     -1.0        -1.0   \n",
       "23                   -1.0                     -1.0        -1.0   \n",
       "24                   -1.0                     -1.0        -1.0   \n",
       "30                   -1.0                5000000.0        -1.0   \n",
       "\n",
       "    FECHA_SINI_Year  FECHA_SINI_Month  FECHA_SINI_Week  FECHA_SINI_Day  \\\n",
       "11           2019.0               4.0             14.0             1.0   \n",
       "13           2019.0               4.0             14.0             1.0   \n",
       "23           2019.0               4.0             14.0             1.0   \n",
       "24           2019.0               4.0             14.0             1.0   \n",
       "30           2019.0               4.0             14.0             1.0   \n",
       "\n",
       "    FECHA_SINI_Dayofweek  FECHA_SINI_Dayofyear  FECHA_SINI_Is_month_end  \\\n",
       "11                   0.0                  91.0                      0.0   \n",
       "13                   0.0                  91.0                      0.0   \n",
       "23                   0.0                  91.0                      0.0   \n",
       "24                   0.0                  91.0                      0.0   \n",
       "30                   0.0                  91.0                      0.0   \n",
       "\n",
       "    FECHA_SINI_Is_month_start  FECHA_SINI_Is_quarter_end  \\\n",
       "11                        1.0                        0.0   \n",
       "13                        1.0                        0.0   \n",
       "23                        1.0                        0.0   \n",
       "24                        1.0                        0.0   \n",
       "30                        1.0                        0.0   \n",
       "\n",
       "    FECHA_SINI_Is_quarter_start  FECHA_SINI_Is_year_end  \\\n",
       "11                          1.0                     0.0   \n",
       "13                          1.0                     0.0   \n",
       "23                          1.0                     0.0   \n",
       "24                          1.0                     0.0   \n",
       "30                          1.0                     0.0   \n",
       "\n",
       "    FECHA_SINI_Is_year_start  FECHA_SINI_Hour  FECHA_SINI_Minute  \\\n",
       "11                       0.0              0.0                0.0   \n",
       "13                       0.0              0.0                0.0   \n",
       "23                       0.0              0.0                0.0   \n",
       "24                       0.0              0.0                0.0   \n",
       "30                       0.0              0.0                0.0   \n",
       "\n",
       "    FECHA_SINI_Second  FECHA_SINI_Elapsed  cant_pol  cant_sini_1y  \\\n",
       "11                0.0        1.554077e+09       0.0           0.0   \n",
       "13                0.0        1.554077e+09       0.0           0.0   \n",
       "23                0.0        1.554077e+09       0.0           0.0   \n",
       "24                0.0        1.554077e+09       0.0           0.0   \n",
       "30                0.0        1.554077e+09       1.0           1.0   \n",
       "\n",
       "    COD_POST_POLIZA_DP_CLUSTER_2019  COD_POST_POLIZA_RT_CLUSTER_2019  \\\n",
       "11                             19.0                              3.0   \n",
       "13                             29.0                             10.0   \n",
       "23                             29.0                             10.0   \n",
       "24                             29.0                             10.0   \n",
       "30                             19.0                              3.0   \n",
       "\n",
       "    COD_POST_POLIZA_RC_CLUSTER_2019  COD_POST_OCURRENCIA_DP_CLUSTER_2019  \\\n",
       "11                             18.0                                 19.0   \n",
       "13                             25.0                                 29.0   \n",
       "23                             25.0                                 29.0   \n",
       "24                             25.0                                 29.0   \n",
       "30                             18.0                                 19.0   \n",
       "\n",
       "    COD_POST_OCURRENCIA_RT_CLUSTER_2019  COD_POST_OCURRENCIA_RC_CLUSTER_2019  \\\n",
       "11                                  3.0                                 18.0   \n",
       "13                                 10.0                                 25.0   \n",
       "23                                 10.0                                 25.0   \n",
       "24                                 10.0                                 25.0   \n",
       "30                                  3.0                                 18.0   \n",
       "\n",
       "    COD_POST_TERC_DP_CLUSTER_2019  COD_POST_TERC_RT_CLUSTER_2019  \\\n",
       "11                           -1.0                           -1.0   \n",
       "13                           -1.0                           -1.0   \n",
       "23                           -1.0                           -1.0   \n",
       "24                           -1.0                           -1.0   \n",
       "30                           -1.0                           -1.0   \n",
       "\n",
       "    COD_POST_TERC_RC_CLUSTER_2019  \n",
       "11                           -1.0  \n",
       "13                           -1.0  \n",
       "23                           -1.0  \n",
       "24                           -1.0  \n",
       "30                           -1.0  "
      ]
     },
     "execution_count": 117,
     "metadata": {},
     "output_type": "execute_result"
    }
   ],
   "source": [
    "X_test = X_test.astype(float)\n",
    "X_test.head()"
   ]
  },
  {
   "cell_type": "markdown",
   "metadata": {},
   "source": [
    "## Model in test"
   ]
  },
  {
   "cell_type": "code",
   "execution_count": 118,
   "metadata": {},
   "outputs": [
    {
     "name": "stdout",
     "output_type": "stream",
     "text": [
      "0.425, 0.896\n"
     ]
    }
   ],
   "source": [
    "# using trained model\n",
    "y_test_pred_prob = best_model.predict_proba(X_test)[:, -1]\n",
    "\n",
    "# Using load model\n",
    "# y_test_pred_prob = m.predict_proba(X_test)[:, -1]\n",
    "\n",
    "print(\"%.3f, %.3f\" % (f1_score(y_test, y_test_pred_prob > 0.5), roc_auc_score(y_test, y_test_pred_prob)))"
   ]
  },
  {
   "cell_type": "code",
   "execution_count": 119,
   "metadata": {},
   "outputs": [
    {
     "data": {
      "text/plain": [
       "<matplotlib.axes._subplots.AxesSubplot at 0x7f6042576208>"
      ]
     },
     "execution_count": 119,
     "metadata": {},
     "output_type": "execute_result"
    },
    {
     "data": {
      "image/png": "[encoded data removed]",
      "text/plain": [
       "<Figure size 432x288 with 2 Axes>"
      ]
     },
     "metadata": {
      "needs_background": "light"
     },
     "output_type": "display_data"
    }
   ],
   "source": [
    "conf_mat = confusion_matrix(y_test, y_test_pred_prob > 0.5)\n",
    "sns.heatmap(conf_mat, annot=True, fmt=\"d\")"
   ]
  },
  {
   "cell_type": "markdown",
   "metadata": {},
   "source": [
    "## Tronador in test"
   ]
  },
  {
   "cell_type": "code",
   "execution_count": 120,
   "metadata": {},
   "outputs": [
    {
     "name": "stdout",
     "output_type": "stream",
     "text": [
      "0.444, 0.842\n"
     ]
    }
   ],
   "source": [
    "y_tronador = X_test[\"es_gte_5\"]\n",
    "print(\"%.3f, %.3f\" % (f1_score(y_test, y_tronador), roc_auc_score(y_test, y_tronador)))"
   ]
  },
  {
   "cell_type": "code",
   "execution_count": 121,
   "metadata": {},
   "outputs": [
    {
     "data": {
      "text/plain": [
       "<matplotlib.axes._subplots.AxesSubplot at 0x7f60424f0898>"
      ]
     },
     "execution_count": 121,
     "metadata": {},
     "output_type": "execute_result"
    },
    {
     "data": {
      "image/png": "[encoded data removed]",
      "text/plain": [
       "<Figure size 432x288 with 2 Axes>"
      ]
     },
     "metadata": {
      "needs_background": "light"
     },
     "output_type": "display_data"
    }
   ],
   "source": [
    "conf_mat = confusion_matrix(y_test, y_tronador)\n",
    "sns.heatmap(conf_mat, annot=True, fmt=\"d\")"
   ]
  },
  {
   "cell_type": "code",
   "execution_count": null,
   "metadata": {},
   "outputs": [],
   "source": []
  }
 ],
 "metadata": {
  "kernelspec": {
   "display_name": "Python 3",
   "language": "python",
   "name": "python3"
  },
  "language_info": {
   "codemirror_mode": {
    "name": "ipython",
    "version": 3
   },
   "file_extension": ".py",
   "mimetype": "text/x-python",
   "name": "python",
   "nbconvert_exporter": "python",
   "pygments_lexer": "ipython3",
   "version": "3.6.8"
  },
  "varInspector": {
   "cols": {
    "lenName": 16,
    "lenType": 16,
    "lenVar": 40
   },
   "kernels_config": {
    "python": {
     "delete_cmd_postfix": "",
     "delete_cmd_prefix": "del ",
     "library": "var_list.py",
     "varRefreshCmd": "print(var_dic_list())"
    },
    "r": {
     "delete_cmd_postfix": ") ",
     "delete_cmd_prefix": "rm(",
     "library": "var_list.r",
     "varRefreshCmd": "cat(var_dic_list()) "
    }
   },
   "types_to_exclude": [
    "module",
    "function",
    "builtin_function_or_method",
    "instance",
    "_Feature"
   ],
   "window_display": false
  }
 },
 "nbformat": 4,
 "nbformat_minor": 2
}
