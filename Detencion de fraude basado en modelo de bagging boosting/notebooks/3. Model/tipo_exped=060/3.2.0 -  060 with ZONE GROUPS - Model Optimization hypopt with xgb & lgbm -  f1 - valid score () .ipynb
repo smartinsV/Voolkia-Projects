{
 "cells": [
  {
   "cell_type": "markdown",
   "metadata": {},
   "source": [
    "# Model hiper optimization"
   ]
  },
  {
   "cell_type": "code",
   "execution_count": 1,
   "metadata": {},
   "outputs": [],
   "source": [
    "#imports\n",
    "import os\n",
    "from copy import copy\n",
    "\n",
    "import pandas as pd\n",
    "import numpy as np\n",
    "import seaborn as sns\n",
    "import matplotlib.pyplot as plt\n",
    "from sklearn.metrics import roc_auc_score, f1_score, confusion_matrix\n",
    "from sklearn.ensemble import RandomForestClassifier, ExtraTreesClassifier\n",
    "from sklearn.tree import DecisionTreeClassifier\n",
    "from xgboost import XGBClassifier\n",
    "from lightgbm import LGBMClassifier\n",
    "from sklearn.model_selection import GridSearchCV, RandomizedSearchCV\n",
    "from hypopt import GridSearch\n",
    "from hyperopt import tpe, fmin, space_eval, Trials, STATUS_OK, hp\n",
    "from sklearn.model_selection import StratifiedShuffleSplit\n",
    "\n",
    "import pickle"
   ]
  },
  {
   "cell_type": "code",
   "execution_count": 2,
   "metadata": {},
   "outputs": [
    {
     "name": "stdout",
     "output_type": "stream",
     "text": [
      "['1.1.b - 01-17 to 01-19 - df_val 02-19to03-19.feather', '1.1.b - 01-17 to 01-19 - df_train only 2018 without nulls.feather', '1.2.b - group zone - 01-17 to 01-19 - df_test 04-19to05-19.feather', '1.1 - df_train with nan.feather', '1.2.b - group zone - 01-17 to 01-19 - df_val 02-19to03-19.feather', '1.1 - df_train.feather', '1.2.b - group zone - 01-17 to 01-19 - df_train with nan.feather', '1.1 - df_test 04-19to04-19.feather', '1.1 - df_val 01-19to03-19.feather', '1.1.b - 01-17 to 01-19 - df_train without nulls.feather', '1.1 - df_train only 2018 without nulls.feather', '1.2.b - group zone - 01-17 to 01-19 - df_test 04-19to04-19.feather', '1.1.b - 01-17 to 01-19 - df_train with nan.feather', '1.1 - df_test 04-19to05-19.feather', '1.2.b - group zone - 01-17 to 01-19 - df_train without nulls.feather', '1.1.b - 01-17 to 01-19 - df_test 04-19to04-19.feather', '1.1.b - 01-17 to 01-19 - df_test 04-19to05-19.feather', '1.2.b - group zone - 01-17 to 01-19 - df_train only 2018 without nulls.feather']\n"
     ]
    }
   ],
   "source": [
    "# configs.\n",
    "%matplotlib inline\n",
    "# version to read\n",
    "read_version = \"1.2.b - group zone\"\n",
    "\n",
    "# model to save\n",
    "model_id = \"3.2.0 - 060 f1 with zone groups\"\n",
    "\n",
    "pd.set_option(\"display.max_columns\", 500)\n",
    "\n",
    "path = \"../../../data/split\"\n",
    "random_state = 42\n",
    "print(os.listdir(path))"
   ]
  },
  {
   "cell_type": "markdown",
   "metadata": {},
   "source": [
    "## Loading training and validation datasets"
   ]
  },
  {
   "cell_type": "code",
   "execution_count": 3,
   "metadata": {},
   "outputs": [],
   "source": [
    "df = pd.read_feather(os.path.join(path, f\"{read_version} - 01-17 to 01-19 - df_train with nan.feather\"))\n",
    "df_val = pd.read_feather(os.path.join(path, f\"{read_version} - 01-17 to 01-19 - df_val 02-19to03-19.feather\"))"
   ]
  },
  {
   "cell_type": "code",
   "execution_count": 4,
   "metadata": {},
   "outputs": [
    {
     "data": {
      "text/plain": [
       "(Timestamp('2017-01-01 00:00:00'), Timestamp('2019-01-31 00:00:00'))"
      ]
     },
     "execution_count": 4,
     "metadata": {},
     "output_type": "execute_result"
    }
   ],
   "source": [
    "df[\"FECHA_SINI\"].min(), df[\"FECHA_SINI\"].max()"
   ]
  },
  {
   "cell_type": "code",
   "execution_count": 5,
   "metadata": {},
   "outputs": [
    {
     "data": {
      "text/plain": [
       "Index(['NUM_SECU_EXPED', 'cond_04', 'cond_05', 'cond_06', 'cond_09', 'cond_11',\n",
       "       'cond_12', 'cond_32', 'cond_37', 'cond_C1',\n",
       "       ...\n",
       "       'cant_sini_1y', 'COD_POST_POLIZA_DP_CLUSTER_2019',\n",
       "       'COD_POST_POLIZA_RT_CLUSTER_2019', 'COD_POST_POLIZA_RC_CLUSTER_2019',\n",
       "       'COD_POST_OCURRENCIA_DP_CLUSTER_2019',\n",
       "       'COD_POST_OCURRENCIA_RT_CLUSTER_2019',\n",
       "       'COD_POST_OCURRENCIA_RC_CLUSTER_2019', 'COD_POST_TERC_DP_CLUSTER_2019',\n",
       "       'COD_POST_TERC_RT_CLUSTER_2019', 'COD_POST_TERC_RC_CLUSTER_2019'],\n",
       "      dtype='object', length=157)"
      ]
     },
     "execution_count": 5,
     "metadata": {},
     "output_type": "execute_result"
    }
   ],
   "source": [
    "df.columns"
   ]
  },
  {
   "cell_type": "code",
   "execution_count": 6,
   "metadata": {},
   "outputs": [
    {
     "data": {
      "text/html": [
       "<div>\n",
       "<style scoped>\n",
       "    .dataframe tbody tr th:only-of-type {\n",
       "        vertical-align: middle;\n",
       "    }\n",
       "\n",
       "    .dataframe tbody tr th {\n",
       "        vertical-align: top;\n",
       "    }\n",
       "\n",
       "    .dataframe thead th {\n",
       "        text-align: right;\n",
       "    }\n",
       "</style>\n",
       "<table border=\"1\" class=\"dataframe\">\n",
       "  <thead>\n",
       "    <tr style=\"text-align: right;\">\n",
       "      <th>EXISTE_FRAUDE</th>\n",
       "      <th>False</th>\n",
       "      <th>True</th>\n",
       "    </tr>\n",
       "    <tr>\n",
       "      <th>total_condicion</th>\n",
       "      <th></th>\n",
       "      <th></th>\n",
       "    </tr>\n",
       "  </thead>\n",
       "  <tbody>\n",
       "    <tr>\n",
       "      <th>0.0</th>\n",
       "      <td>0.998269</td>\n",
       "      <td>0.001731</td>\n",
       "    </tr>\n",
       "    <tr>\n",
       "      <th>1.0</th>\n",
       "      <td>0.996364</td>\n",
       "      <td>0.003636</td>\n",
       "    </tr>\n",
       "    <tr>\n",
       "      <th>2.0</th>\n",
       "      <td>0.977370</td>\n",
       "      <td>0.022630</td>\n",
       "    </tr>\n",
       "    <tr>\n",
       "      <th>3.0</th>\n",
       "      <td>0.988867</td>\n",
       "      <td>0.011133</td>\n",
       "    </tr>\n",
       "    <tr>\n",
       "      <th>4.0</th>\n",
       "      <td>0.989371</td>\n",
       "      <td>0.010629</td>\n",
       "    </tr>\n",
       "    <tr>\n",
       "      <th>5.0</th>\n",
       "      <td>0.803718</td>\n",
       "      <td>0.196282</td>\n",
       "    </tr>\n",
       "    <tr>\n",
       "      <th>6.0</th>\n",
       "      <td>0.933239</td>\n",
       "      <td>0.066761</td>\n",
       "    </tr>\n",
       "    <tr>\n",
       "      <th>7.0</th>\n",
       "      <td>0.688679</td>\n",
       "      <td>0.311321</td>\n",
       "    </tr>\n",
       "    <tr>\n",
       "      <th>8.0</th>\n",
       "      <td>0.717314</td>\n",
       "      <td>0.282686</td>\n",
       "    </tr>\n",
       "    <tr>\n",
       "      <th>9.0</th>\n",
       "      <td>0.875000</td>\n",
       "      <td>0.125000</td>\n",
       "    </tr>\n",
       "    <tr>\n",
       "      <th>10.0</th>\n",
       "      <td>0.580952</td>\n",
       "      <td>0.419048</td>\n",
       "    </tr>\n",
       "    <tr>\n",
       "      <th>11.0</th>\n",
       "      <td>0.750000</td>\n",
       "      <td>0.250000</td>\n",
       "    </tr>\n",
       "    <tr>\n",
       "      <th>12.0</th>\n",
       "      <td>0.529412</td>\n",
       "      <td>0.470588</td>\n",
       "    </tr>\n",
       "    <tr>\n",
       "      <th>13.0</th>\n",
       "      <td>0.583333</td>\n",
       "      <td>0.416667</td>\n",
       "    </tr>\n",
       "    <tr>\n",
       "      <th>15.0</th>\n",
       "      <td>0.600000</td>\n",
       "      <td>0.400000</td>\n",
       "    </tr>\n",
       "  </tbody>\n",
       "</table>\n",
       "</div>"
      ],
      "text/plain": [
       "EXISTE_FRAUDE       False     True \n",
       "total_condicion                    \n",
       "0.0              0.998269  0.001731\n",
       "1.0              0.996364  0.003636\n",
       "2.0              0.977370  0.022630\n",
       "3.0              0.988867  0.011133\n",
       "4.0              0.989371  0.010629\n",
       "5.0              0.803718  0.196282\n",
       "6.0              0.933239  0.066761\n",
       "7.0              0.688679  0.311321\n",
       "8.0              0.717314  0.282686\n",
       "9.0              0.875000  0.125000\n",
       "10.0             0.580952  0.419048\n",
       "11.0             0.750000  0.250000\n",
       "12.0             0.529412  0.470588\n",
       "13.0             0.583333  0.416667\n",
       "15.0             0.600000  0.400000"
      ]
     },
     "execution_count": 6,
     "metadata": {},
     "output_type": "execute_result"
    }
   ],
   "source": [
    "pd.crosstab(df[\"total_condicion\"], df[\"EXISTE_FRAUDE\"], normalize=0)"
   ]
  },
  {
   "cell_type": "code",
   "execution_count": 7,
   "metadata": {},
   "outputs": [],
   "source": [
    "# Select all non 060 tipo exped.\n",
    "# 'None': 7,  '003': 2,  '060': 6,  '010': 3,  '020': 4,  '002': 1,  '050': 5,  '001': 0\n",
    "df = df[df[\"TIPO_EXPED\"] == 6]\n",
    "df_val = df_val[df_val[\"TIPO_EXPED\"] == 6]"
   ]
  },
  {
   "cell_type": "code",
   "execution_count": 8,
   "metadata": {},
   "outputs": [
    {
     "data": {
      "text/html": [
       "<div>\n",
       "<style scoped>\n",
       "    .dataframe tbody tr th:only-of-type {\n",
       "        vertical-align: middle;\n",
       "    }\n",
       "\n",
       "    .dataframe tbody tr th {\n",
       "        vertical-align: top;\n",
       "    }\n",
       "\n",
       "    .dataframe thead th {\n",
       "        text-align: right;\n",
       "    }\n",
       "</style>\n",
       "<table border=\"1\" class=\"dataframe\">\n",
       "  <thead>\n",
       "    <tr style=\"text-align: right;\">\n",
       "      <th>EXISTE_FRAUDE</th>\n",
       "      <th>False</th>\n",
       "      <th>True</th>\n",
       "    </tr>\n",
       "    <tr>\n",
       "      <th>total_condicion</th>\n",
       "      <th></th>\n",
       "      <th></th>\n",
       "    </tr>\n",
       "  </thead>\n",
       "  <tbody>\n",
       "    <tr>\n",
       "      <th>0.0</th>\n",
       "      <td>48642</td>\n",
       "      <td>1149</td>\n",
       "    </tr>\n",
       "    <tr>\n",
       "      <th>1.0</th>\n",
       "      <td>463</td>\n",
       "      <td>5</td>\n",
       "    </tr>\n",
       "    <tr>\n",
       "      <th>2.0</th>\n",
       "      <td>5779</td>\n",
       "      <td>207</td>\n",
       "    </tr>\n",
       "    <tr>\n",
       "      <th>3.0</th>\n",
       "      <td>3055</td>\n",
       "      <td>202</td>\n",
       "    </tr>\n",
       "    <tr>\n",
       "      <th>4.0</th>\n",
       "      <td>387</td>\n",
       "      <td>26</td>\n",
       "    </tr>\n",
       "    <tr>\n",
       "      <th>5.0</th>\n",
       "      <td>891</td>\n",
       "      <td>673</td>\n",
       "    </tr>\n",
       "    <tr>\n",
       "      <th>6.0</th>\n",
       "      <td>81</td>\n",
       "      <td>65</td>\n",
       "    </tr>\n",
       "    <tr>\n",
       "      <th>7.0</th>\n",
       "      <td>112</td>\n",
       "      <td>99</td>\n",
       "    </tr>\n",
       "    <tr>\n",
       "      <th>8.0</th>\n",
       "      <td>85</td>\n",
       "      <td>75</td>\n",
       "    </tr>\n",
       "    <tr>\n",
       "      <th>9.0</th>\n",
       "      <td>7</td>\n",
       "      <td>4</td>\n",
       "    </tr>\n",
       "    <tr>\n",
       "      <th>10.0</th>\n",
       "      <td>49</td>\n",
       "      <td>44</td>\n",
       "    </tr>\n",
       "    <tr>\n",
       "      <th>11.0</th>\n",
       "      <td>3</td>\n",
       "      <td>2</td>\n",
       "    </tr>\n",
       "    <tr>\n",
       "      <th>12.0</th>\n",
       "      <td>8</td>\n",
       "      <td>8</td>\n",
       "    </tr>\n",
       "    <tr>\n",
       "      <th>13.0</th>\n",
       "      <td>5</td>\n",
       "      <td>5</td>\n",
       "    </tr>\n",
       "    <tr>\n",
       "      <th>15.0</th>\n",
       "      <td>3</td>\n",
       "      <td>2</td>\n",
       "    </tr>\n",
       "  </tbody>\n",
       "</table>\n",
       "</div>"
      ],
      "text/plain": [
       "EXISTE_FRAUDE    False  True \n",
       "total_condicion              \n",
       "0.0              48642   1149\n",
       "1.0                463      5\n",
       "2.0               5779    207\n",
       "3.0               3055    202\n",
       "4.0                387     26\n",
       "5.0                891    673\n",
       "6.0                 81     65\n",
       "7.0                112     99\n",
       "8.0                 85     75\n",
       "9.0                  7      4\n",
       "10.0                49     44\n",
       "11.0                 3      2\n",
       "12.0                 8      8\n",
       "13.0                 5      5\n",
       "15.0                 3      2"
      ]
     },
     "execution_count": 8,
     "metadata": {},
     "output_type": "execute_result"
    }
   ],
   "source": [
    "pd.crosstab(df[\"total_condicion\"], df[\"EXISTE_FRAUDE\"])"
   ]
  },
  {
   "cell_type": "code",
   "execution_count": 9,
   "metadata": {},
   "outputs": [
    {
     "data": {
      "text/html": [
       "<div>\n",
       "<style scoped>\n",
       "    .dataframe tbody tr th:only-of-type {\n",
       "        vertical-align: middle;\n",
       "    }\n",
       "\n",
       "    .dataframe tbody tr th {\n",
       "        vertical-align: top;\n",
       "    }\n",
       "\n",
       "    .dataframe thead th {\n",
       "        text-align: right;\n",
       "    }\n",
       "</style>\n",
       "<table border=\"1\" class=\"dataframe\">\n",
       "  <thead>\n",
       "    <tr style=\"text-align: right;\">\n",
       "      <th>EXISTE_FRAUDE</th>\n",
       "      <th>False</th>\n",
       "      <th>True</th>\n",
       "    </tr>\n",
       "    <tr>\n",
       "      <th>total_condicion</th>\n",
       "      <th></th>\n",
       "      <th></th>\n",
       "    </tr>\n",
       "  </thead>\n",
       "  <tbody>\n",
       "    <tr>\n",
       "      <th>0.0</th>\n",
       "      <td>3685</td>\n",
       "      <td>60</td>\n",
       "    </tr>\n",
       "    <tr>\n",
       "      <th>1.0</th>\n",
       "      <td>338</td>\n",
       "      <td>4</td>\n",
       "    </tr>\n",
       "    <tr>\n",
       "      <th>2.0</th>\n",
       "      <td>474</td>\n",
       "      <td>8</td>\n",
       "    </tr>\n",
       "    <tr>\n",
       "      <th>3.0</th>\n",
       "      <td>389</td>\n",
       "      <td>18</td>\n",
       "    </tr>\n",
       "    <tr>\n",
       "      <th>4.0</th>\n",
       "      <td>17</td>\n",
       "      <td>1</td>\n",
       "    </tr>\n",
       "    <tr>\n",
       "      <th>5.0</th>\n",
       "      <td>342</td>\n",
       "      <td>170</td>\n",
       "    </tr>\n",
       "    <tr>\n",
       "      <th>6.0</th>\n",
       "      <td>26</td>\n",
       "      <td>17</td>\n",
       "    </tr>\n",
       "    <tr>\n",
       "      <th>7.0</th>\n",
       "      <td>59</td>\n",
       "      <td>35</td>\n",
       "    </tr>\n",
       "    <tr>\n",
       "      <th>8.0</th>\n",
       "      <td>36</td>\n",
       "      <td>18</td>\n",
       "    </tr>\n",
       "    <tr>\n",
       "      <th>9.0</th>\n",
       "      <td>4</td>\n",
       "      <td>2</td>\n",
       "    </tr>\n",
       "    <tr>\n",
       "      <th>10.0</th>\n",
       "      <td>39</td>\n",
       "      <td>33</td>\n",
       "    </tr>\n",
       "    <tr>\n",
       "      <th>11.0</th>\n",
       "      <td>2</td>\n",
       "      <td>2</td>\n",
       "    </tr>\n",
       "    <tr>\n",
       "      <th>12.0</th>\n",
       "      <td>7</td>\n",
       "      <td>7</td>\n",
       "    </tr>\n",
       "    <tr>\n",
       "      <th>13.0</th>\n",
       "      <td>5</td>\n",
       "      <td>5</td>\n",
       "    </tr>\n",
       "    <tr>\n",
       "      <th>15.0</th>\n",
       "      <td>3</td>\n",
       "      <td>2</td>\n",
       "    </tr>\n",
       "  </tbody>\n",
       "</table>\n",
       "</div>"
      ],
      "text/plain": [
       "EXISTE_FRAUDE    False  True \n",
       "total_condicion              \n",
       "0.0               3685     60\n",
       "1.0                338      4\n",
       "2.0                474      8\n",
       "3.0                389     18\n",
       "4.0                 17      1\n",
       "5.0                342    170\n",
       "6.0                 26     17\n",
       "7.0                 59     35\n",
       "8.0                 36     18\n",
       "9.0                  4      2\n",
       "10.0                39     33\n",
       "11.0                 2      2\n",
       "12.0                 7      7\n",
       "13.0                 5      5\n",
       "15.0                 3      2"
      ]
     },
     "execution_count": 9,
     "metadata": {},
     "output_type": "execute_result"
    }
   ],
   "source": [
    "split_date = \"2018-12-01\"\n",
    "tmp = df[df[\"FECHA_SINI\"] > split_date].copy()\n",
    "\n",
    "pd.crosstab(tmp[\"total_condicion\"], tmp[\"EXISTE_FRAUDE\"])"
   ]
  },
  {
   "cell_type": "code",
   "execution_count": 10,
   "metadata": {},
   "outputs": [
    {
     "data": {
      "text/plain": [
       "6    62136\n",
       "Name: TIPO_EXPED, dtype: int64"
      ]
     },
     "execution_count": 10,
     "metadata": {},
     "output_type": "execute_result"
    }
   ],
   "source": [
    "df[\"TIPO_EXPED\"].value_counts()"
   ]
  },
  {
   "cell_type": "code",
   "execution_count": 11,
   "metadata": {},
   "outputs": [],
   "source": [
    "# delete unique value columns (for tipo_exped == 060)\n",
    "use_cols = df.nunique()[df.nunique() > 1].index\n",
    "df = df[use_cols]\n",
    "df_val = df_val[use_cols]"
   ]
  },
  {
   "cell_type": "code",
   "execution_count": 12,
   "metadata": {},
   "outputs": [],
   "source": [
    "# create column number of conditions activated\n",
    "cond_cols = ['cond_32', 'cond_C10', 'cond_C11', 'cond_C12',\n",
    "       'cond_C13', 'cond_C14', 'cond_C15', 'cond_C16', 'cond_C18', 'cond_C19',\n",
    "       'cond_C20']\n",
    "df[\"cant_cond\"] = (df[cond_cols] > 0).sum(axis=1)\n",
    "df_val[\"cant_cond\"] = (df_val[cond_cols] > 0).sum(axis=1)"
   ]
  },
  {
   "cell_type": "code",
   "execution_count": 13,
   "metadata": {},
   "outputs": [
    {
     "data": {
      "text/plain": [
       "0    49791\n",
       "1    11072\n",
       "2     1171\n",
       "3       95\n",
       "4        7\n",
       "Name: cant_cond, dtype: int64"
      ]
     },
     "execution_count": 13,
     "metadata": {},
     "output_type": "execute_result"
    }
   ],
   "source": [
    "df[\"cant_cond\"].value_counts()"
   ]
  },
  {
   "cell_type": "code",
   "execution_count": 14,
   "metadata": {},
   "outputs": [
    {
     "data": {
      "text/plain": [
       "False    59570\n",
       "True      2566\n",
       "Name: EXISTE_FRAUDE, dtype: int64"
      ]
     },
     "execution_count": 14,
     "metadata": {},
     "output_type": "execute_result"
    }
   ],
   "source": [
    "df[\"EXISTE_FRAUDE\"].value_counts()"
   ]
  },
  {
   "cell_type": "code",
   "execution_count": 15,
   "metadata": {},
   "outputs": [
    {
     "data": {
      "text/plain": [
       "(Timestamp('2019-02-01 00:00:00'), Timestamp('2019-03-31 00:00:00'))"
      ]
     },
     "execution_count": 15,
     "metadata": {},
     "output_type": "execute_result"
    }
   ],
   "source": [
    "df_val[\"FECHA_SINI\"].min(), df_val[\"FECHA_SINI\"].max()"
   ]
  },
  {
   "cell_type": "code",
   "execution_count": 16,
   "metadata": {},
   "outputs": [],
   "source": [
    "# dropping index variables\n",
    "# to_drop = [\"index\"]\n",
    "# df.drop(to_drop, axis=1, inplace=True)\n",
    "# to_drop = [\"level_0\", \"index\"]\n",
    "# df_val.drop(to_drop, axis=1, inplace=True)"
   ]
  },
  {
   "cell_type": "code",
   "execution_count": 17,
   "metadata": {},
   "outputs": [],
   "source": [
    "# dropping NUM_SECU_EXPED\n",
    "# to_drop = [\"NUM_SECU_EXPED\"]\n",
    "# df.drop(to_drop, axis=1, inplace=True)\n",
    "# df_val.drop(to_drop, axis=1, inplace=True)"
   ]
  },
  {
   "cell_type": "code",
   "execution_count": 18,
   "metadata": {},
   "outputs": [
    {
     "data": {
      "text/plain": [
       "(Timestamp('2017-01-01 00:00:00'), Timestamp('2019-01-31 00:00:00'))"
      ]
     },
     "execution_count": 18,
     "metadata": {},
     "output_type": "execute_result"
    }
   ],
   "source": [
    "df[\"FECHA_SINI\"].min(), df[\"FECHA_SINI\"].max()"
   ]
  },
  {
   "cell_type": "code",
   "execution_count": 19,
   "metadata": {},
   "outputs": [
    {
     "name": "stdout",
     "output_type": "stream",
     "text": [
      "2017-01-01 00:00:00 2018-08-31 00:00:00\n",
      "2018-09-01 00:00:00 2019-01-31 00:00:00\n"
     ]
    }
   ],
   "source": [
    "# using only last year\n",
    "split_date = \"2018-09-01\"\n",
    "df_train = df[df[\"FECHA_SINI\"] < split_date].copy()\n",
    "df_opt = df[df[\"FECHA_SINI\"] >= split_date].copy()\n",
    "print(df_train[\"FECHA_SINI\"].min(), df_train[\"FECHA_SINI\"].max())\n",
    "print(df_opt[\"FECHA_SINI\"].min(), df_opt[\"FECHA_SINI\"].max())"
   ]
  },
  {
   "cell_type": "code",
   "execution_count": 20,
   "metadata": {},
   "outputs": [
    {
     "data": {
      "text/plain": [
       "(False    0.962444\n",
       " True     0.037556\n",
       " Name: EXISTE_FRAUDE, dtype: float64, False    0.945417\n",
       " True     0.054583\n",
       " Name: EXISTE_FRAUDE, dtype: float64)"
      ]
     },
     "execution_count": 20,
     "metadata": {},
     "output_type": "execute_result"
    }
   ],
   "source": [
    "df_train[\"EXISTE_FRAUDE\"].value_counts(normalize=True), df_opt[\"EXISTE_FRAUDE\"].value_counts(normalize=True)"
   ]
  },
  {
   "cell_type": "code",
   "execution_count": 21,
   "metadata": {},
   "outputs": [
    {
     "data": {
      "text/plain": [
       "(0.780336680829149, 0.21966331917085102)"
      ]
     },
     "execution_count": 21,
     "metadata": {},
     "output_type": "execute_result"
    }
   ],
   "source": [
    "full_len = df_train.shape[0] + df_opt.shape[0]\n",
    "df_train.shape[0] / full_len, df_opt.shape[0] / full_len"
   ]
  },
  {
   "cell_type": "code",
   "execution_count": 22,
   "metadata": {},
   "outputs": [],
   "source": [
    "# dropping date FEC_ACT_cond\n",
    "to_drop = [\"FECHA_SINI\"]\n",
    "df_train.drop(to_drop, axis=1, inplace=True)\n",
    "df_opt.drop(to_drop, axis=1, inplace=True)\n",
    "df_val.drop(to_drop, axis=1, inplace=True)"
   ]
  },
  {
   "cell_type": "markdown",
   "metadata": {},
   "source": [
    "## split X, y dataset"
   ]
  },
  {
   "cell_type": "code",
   "execution_count": 23,
   "metadata": {},
   "outputs": [],
   "source": [
    "# to_drop = [\"COD_FRAUDE\", \"EXISTE_FRAUDE\", \"EXISTE_INHABILITAR\"]\n",
    "# already removed : \"EXISTE_INHABILITAR\", \"COD_ACT_BENEF\",\n",
    "to_drop = [\"EXISTE_FRAUDE\", \"NUM_SECU_EXPED\", \"NUM_SECU_POL\", \"EXISTE_INVEST\", \"es_gte_5\"] # \n",
    "\n",
    "# training\n",
    "X_train = df_train.drop(to_drop, axis=1)\n",
    "y_train = df_train[\"EXISTE_FRAUDE\"]\n",
    "# validation\n",
    "X_opt = df_opt.drop(to_drop, axis=1)\n",
    "y_opt = df_opt[\"EXISTE_FRAUDE\"]\n",
    "# validation\n",
    "X_val = df_val.drop(to_drop, axis=1)\n",
    "y_val = df_val[\"EXISTE_FRAUDE\"]"
   ]
  },
  {
   "cell_type": "code",
   "execution_count": 24,
   "metadata": {},
   "outputs": [],
   "source": [
    "X_full_train = df.drop(to_drop, axis=1)\n",
    "X_full_train.drop(columns=[\"FECHA_SINI\"], inplace=True)\n",
    "y_full_train = df[\"EXISTE_FRAUDE\"]"
   ]
  },
  {
   "cell_type": "code",
   "execution_count": 25,
   "metadata": {},
   "outputs": [
    {
     "name": "stdout",
     "output_type": "stream",
     "text": [
      "dif between X_train & X_opt: set()\n",
      "dif between X_val & X_opt: set()\n"
     ]
    }
   ],
   "source": [
    "# checking if all have the same inputs columns\n",
    "print(\"dif between X_train & X_opt: {}\".format(set(X_train.columns) - set(X_opt.columns)))\n",
    "print(\"dif between X_val & X_opt: {}\".format(set(X_val.columns) - set(X_opt.columns)))"
   ]
  },
  {
   "cell_type": "code",
   "execution_count": 26,
   "metadata": {},
   "outputs": [
    {
     "name": "stdout",
     "output_type": "stream",
     "text": [
      "48487, 13649\n",
      "48487, 13649\n"
     ]
    }
   ],
   "source": [
    "print(f\"{len(X_train)}, {len(X_opt)}\")\n",
    "print(f\"{len(y_train)}, {len(y_opt)}\")"
   ]
  },
  {
   "cell_type": "code",
   "execution_count": 27,
   "metadata": {},
   "outputs": [
    {
     "data": {
      "text/plain": [
       "(0.037556458432157075, 0.05458275331526119)"
      ]
     },
     "execution_count": 27,
     "metadata": {},
     "output_type": "execute_result"
    }
   ],
   "source": [
    "y_train.sum() / len(y_train), y_opt.sum() / len(y_opt)"
   ]
  },
  {
   "cell_type": "code",
   "execution_count": 28,
   "metadata": {},
   "outputs": [
    {
     "data": {
      "text/plain": [
       "False    46666\n",
       "True      1821\n",
       "Name: EXISTE_FRAUDE, dtype: int64"
      ]
     },
     "execution_count": 28,
     "metadata": {},
     "output_type": "execute_result"
    }
   ],
   "source": [
    "y_train.value_counts(dropna=False)"
   ]
  },
  {
   "cell_type": "markdown",
   "metadata": {},
   "source": [
    "## Defining grid configuration"
   ]
  },
  {
   "cell_type": "code",
   "execution_count": 29,
   "metadata": {},
   "outputs": [],
   "source": [
    "from sklearn.utils.class_weight import compute_class_weight"
   ]
  },
  {
   "cell_type": "code",
   "execution_count": 30,
   "metadata": {},
   "outputs": [
    {
     "data": {
      "text/plain": [
       "array([ 0.52153769, 12.10756041])"
      ]
     },
     "execution_count": 30,
     "metadata": {},
     "output_type": "execute_result"
    }
   ],
   "source": [
    "weights = compute_class_weight(\"balanced\", df[\"EXISTE_FRAUDE\"].unique(), df[\"EXISTE_FRAUDE\"])\n",
    "weights"
   ]
  },
  {
   "cell_type": "code",
   "execution_count": 69,
   "metadata": {},
   "outputs": [
    {
     "data": {
      "text/plain": [
       "[{0: 1, 1: 12}, {0: 1, 1: 10}]"
      ]
     },
     "execution_count": 69,
     "metadata": {},
     "output_type": "execute_result"
    }
   ],
   "source": [
    "# configs\n",
    "list_weights = [12, 10]\n",
    "[{0:1, 1:l} for l in list_weights]"
   ]
  },
  {
   "cell_type": "code",
   "execution_count": 128,
   "metadata": {},
   "outputs": [
    {
     "data": {
      "text/plain": [
       "[{'n_estimators': [60, 100], 'scale_pos_weight': [12, 10]}]"
      ]
     },
     "execution_count": 128,
     "metadata": {},
     "output_type": "execute_result"
    }
   ],
   "source": [
    "rf_params = {\n",
    "    \"n_estimators\": [60],\n",
    "    \"min_samples_leaf\": [3, 5, 7],\n",
    "    \"max_depth\": [10, 40], # 10,\n",
    "    \"max_features\": ['sqrt', None],\n",
    "    \"class_weight\": [{0:1, 1:l} for l in list_weights],\n",
    "    \"bootstrap\": [False, True],\n",
    "}\n",
    "param_configs = []\n",
    "# param_configs.append(rf_params)\n",
    "# param_configs.append(rf_params)\n",
    "\n",
    "dt_params = {\n",
    "    \"min_samples_leaf\": [3, 5, 7],\n",
    "    \"class_weight\": [{0:1, 1:l} for l in list_weights],\n",
    "}\n",
    "# param_configs.append(dt_params)\n",
    "\n",
    "\n",
    "gbt_params = {\n",
    "    'n_estimators': [60, 100], \n",
    "#    \"min_samples_leaf\": [3, 5, 7],\n",
    "#    \"max_depth\": [10, 40], # 10,\n",
    "#    'min_samples_split': [5, 7],\n",
    "#    'learning_rate': [1.0, 0.1, 0.01],\n",
    "#    'subsample': [0.5, 1],\n",
    "#    \"colsample_bynode\": [0.5 , 1],\n",
    "    \"scale_pos_weight\": list_weights,\n",
    "}\n",
    "param_configs.append(gbt_params)\n",
    "\n",
    "\n",
    "lgbm_params = {\n",
    "    'n_estimators': [60], \n",
    "    'num_leaves': [10, 20, 50],\n",
    "    'max_depth': [5, 10, 30],\n",
    "    'min_child_samples': [3, 5, 7],\n",
    "    'learning_rate': [1.0, 0.1, 0.01],\n",
    "    'subsample': [0.5, 1],\n",
    "    \"colsample_bytree\": [0.5 , 1],\n",
    "    \"class_weight\": [{0:1, 1:l} for l in list_weights],\n",
    "}\n",
    "\n",
    "# param_configs.append(lgbm_params)\n",
    "param_configs"
   ]
  },
  {
   "cell_type": "code",
   "execution_count": 129,
   "metadata": {},
   "outputs": [
    {
     "data": {
      "text/plain": [
       "[XGBClassifier(base_score=0.5, booster='gbtree', colsample_bylevel=1,\n",
       "               colsample_bytree=1, gamma=0, learning_rate=0.1, max_delta_step=0,\n",
       "               max_depth=3, min_child_weight=1, missing=None, n_estimators=100,\n",
       "               n_jobs=1, nthread=None, objective='binary:logistic',\n",
       "               random_state=42, reg_alpha=0, reg_lambda=1, scale_pos_weight=1,\n",
       "               seed=None, silent=True, subsample=1)]"
      ]
     },
     "execution_count": 129,
     "metadata": {},
     "output_type": "execute_result"
    }
   ],
   "source": [
    "# using without grid with list of models\n",
    "rfs = []\n",
    "# rfs.append(RandomForestClassifier(random_state=random_state, n_jobs=-1))\n",
    "# rfs.append(DecisionTreeClassifier(random_state=random_state))\n",
    "# rfs.append(ExtraTreesClassifier(random_state=random_state, n_jobs=-1))\n",
    "rfs.append(XGBClassifier(random_state=random_state))\n",
    "# rfs.append(LGBMClassifier(random_state=random_state, silent=False, n_jobs=-1))\n",
    "rfs"
   ]
  },
  {
   "cell_type": "code",
   "execution_count": 130,
   "metadata": {
    "scrolled": true
   },
   "outputs": [
    {
     "name": "stdout",
     "output_type": "stream",
     "text": [
      "Model 0: XGBClassifier(base_score=0.5, booster='gbtree', colsample_bylevel=1,\n",
      "              colsample_bytree=1, gamma=0, learning_rate=0.1, max_delta_step=0,\n",
      "              max_depth=3, min_child_weight=1, missing=None, n_estimators=100,\n",
      "              n_jobs=1, nthread=None, objective='binary:logistic',\n",
      "              random_state=42, reg_alpha=0, reg_lambda=1, scale_pos_weight=1,\n",
      "              seed=None, silent=True, subsample=1)\n",
      "Comparing 4 parameter setting(s) using 2 CPU thread(s) ( 2 job(s) per thread ).\n",
      "Best score: 0.47234247234247234\n",
      "Best config: {'n_estimators': 60, 'scale_pos_weight': 10}\n",
      "*-*-*-*-*-*-*-*-*-*-*-*-*-*-*-*-*-*-*-*-*-*-*-*-*-*-*-*-*-*-\n"
     ]
    }
   ],
   "source": [
    "# TO avoid random sampling,\n",
    "# WE USE GridSearch of hypopt\n",
    "metric = \"f1\"\n",
    "best_models_ = []\n",
    "best_scores_ = []\n",
    "for counter, rf in enumerate(rfs):\n",
    "    print(f\"Model {counter}: {rf}\")\n",
    "    clf = GridSearch(rf, param_grid=param_configs[counter], seed=random_state, num_threads=2)\n",
    "    clf.fit(X_train, y_train, X_val=X_opt, y_val=y_opt, scoring=metric, verbose=True)\n",
    "    print(f\"Best score: {clf.best_score}\")\n",
    "    print(f\"Best config: {clf.best_params}\")\n",
    "    best_models_.append(copy(clf))\n",
    "    best_scores_.append(clf.best_score)\n",
    "    print(\"*-*-*-\" * 10)"
   ]
  },
  {
   "cell_type": "code",
   "execution_count": 131,
   "metadata": {},
   "outputs": [
    {
     "name": "stdout",
     "output_type": "stream",
     "text": [
      "Best Config:\n",
      "GridSearch(cv_folds=3,\n",
      "           model=XGBClassifier(base_score=0.5, booster='gbtree',\n",
      "                               colsample_bylevel=1, colsample_bytree=1, gamma=0,\n",
      "                               learning_rate=0.1, max_delta_step=0, max_depth=3,\n",
      "                               min_child_weight=1, missing=nan, n_estimators=60,\n",
      "                               n_jobs=1, nthread=None,\n",
      "                               objective='binary:logistic', random_state=0,\n",
      "                               reg_alpha=0, reg_lambda=1, scale_pos_weight=10,\n",
      "                               seed=0, silent=True, subsample=1),\n",
      "           num_threads=2,\n",
      "           param_grid={'n_estimators': [60, 100], 'scale_pos_weight': [12, 10]},\n",
      "           seed=42) 0.47234247234247234\n"
     ]
    }
   ],
   "source": [
    "print(\"Best Config:\")\n",
    "for m, s in zip(best_models_, best_scores_):\n",
    "    print(m, s)"
   ]
  },
  {
   "cell_type": "code",
   "execution_count": 132,
   "metadata": {},
   "outputs": [],
   "source": [
    "# select best grid\n",
    "best_model = best_models_[np.argmax(best_scores_)]\n",
    "\n",
    "# select by hand\n",
    "# best_model = best_models_[1]"
   ]
  },
  {
   "cell_type": "code",
   "execution_count": 133,
   "metadata": {},
   "outputs": [
    {
     "name": "stdout",
     "output_type": "stream",
     "text": [
      "Grid scores:\n",
      "0.472 for {'n_estimators': 60, 'scale_pos_weight': 10}\n",
      "0.459 for {'n_estimators': 60, 'scale_pos_weight': 12}\n",
      "0.454 for {'n_estimators': 100, 'scale_pos_weight': 10}\n",
      "0.431 for {'n_estimators': 100, 'scale_pos_weight': 12}\n"
     ]
    }
   ],
   "source": [
    "sorted_ids = np.argsort(best_model.scores)\n",
    "print(\"Grid scores:\")\n",
    "for i in sorted_ids[::-1]:\n",
    "    print(\"%0.3f for %r\" % (best_model.scores[i], best_model.params[i]))"
   ]
  },
  {
   "cell_type": "code",
   "execution_count": 134,
   "metadata": {},
   "outputs": [
    {
     "data": {
      "text/plain": [
       "XGBClassifier(base_score=0.5, booster='gbtree', colsample_bylevel=1,\n",
       "              colsample_bytree=1, gamma=0, learning_rate=0.1, max_delta_step=0,\n",
       "              max_depth=3, min_child_weight=1, missing=nan, n_estimators=60,\n",
       "              n_jobs=1, nthread=None, objective='binary:logistic',\n",
       "              random_state=0, reg_alpha=0, reg_lambda=1, scale_pos_weight=10,\n",
       "              seed=0, silent=True, subsample=1)"
      ]
     },
     "execution_count": 134,
     "metadata": {},
     "output_type": "execute_result"
    }
   ],
   "source": [
    "best_model.best_estimator_.fit(X_full_train, y_full_train)"
   ]
  },
  {
   "cell_type": "code",
   "execution_count": 135,
   "metadata": {},
   "outputs": [
    {
     "data": {
      "text/plain": [
       "(0.47804878048780486, 0.9033430819262611)"
      ]
     },
     "execution_count": 135,
     "metadata": {},
     "output_type": "execute_result"
    }
   ],
   "source": [
    "y_val_pred = best_model.best_estimator_.predict_proba(X_val)[:, 1]\n",
    "y_val_f1_bestFI, y_val_rocauc_bestFI = f1_score(y_val, y_val_pred > 0.5), roc_auc_score(y_val, y_val_pred)\n",
    "y_val_f1_bestFI, y_val_rocauc_bestFI"
   ]
  },
  {
   "cell_type": "code",
   "execution_count": 136,
   "metadata": {},
   "outputs": [
    {
     "data": {
      "text/plain": [
       "array([[4509,  354],\n",
       "       [  74,  196]])"
      ]
     },
     "execution_count": 136,
     "metadata": {},
     "output_type": "execute_result"
    }
   ],
   "source": [
    "confusion_matrix(y_val, y_val_pred> 0.5)"
   ]
  },
  {
   "cell_type": "markdown",
   "metadata": {},
   "source": [
    "**old**"
   ]
  },
  {
   "cell_type": "markdown",
   "metadata": {},
   "source": [
    "Best model:\n",
    "ExtraTreesClassifier(bootstrap=False, class_weight={0: 1, 1: 2},\n",
    "           criterion='gini', max_depth=30, max_features=None,\n",
    "           max_leaf_nodes=None, min_impurity_decrease=0.0,\n",
    "           min_impurity_split=None, min_samples_leaf=7,\n",
    "           min_samples_split=2, min_weight_fraction_leaf=0.0,\n",
    "           n_estimators=200, n_jobs=-1, oob_score=False, random_state=0,\n",
    "           verbose=0, warm_start=False)"
   ]
  },
  {
   "cell_type": "code",
   "execution_count": 62,
   "metadata": {},
   "outputs": [
    {
     "data": {
      "text/plain": [
       "(0.29571106094808125, 0.6927262549409371)"
      ]
     },
     "execution_count": 62,
     "metadata": {},
     "output_type": "execute_result"
    }
   ],
   "source": [
    "y_val_pred = best_model.best_estimator_.predict(X_val)\n",
    "y_val_f1_bestFI, y_val_rocauc_bestFI = f1_score(y_val, y_val_pred), roc_auc_score(y_val, y_val_pred)\n",
    "y_val_f1_bestFI, y_val_rocauc_bestFI"
   ]
  },
  {
   "cell_type": "code",
   "execution_count": 63,
   "metadata": {},
   "outputs": [
    {
     "data": {
      "text/plain": [
       "array([[4378,  485],\n",
       "       [ 139,  131]])"
      ]
     },
     "execution_count": 63,
     "metadata": {},
     "output_type": "execute_result"
    }
   ],
   "source": [
    "confusion_matrix(y_val, y_val_pred)"
   ]
  },
  {
   "cell_type": "markdown",
   "metadata": {},
   "source": [
    "**Tronador**"
   ]
  },
  {
   "cell_type": "code",
   "execution_count": 79,
   "metadata": {},
   "outputs": [
    {
     "data": {
      "text/plain": [
       "(0.470873786407767, 0.8222450704868967)"
      ]
     },
     "execution_count": 79,
     "metadata": {},
     "output_type": "execute_result"
    }
   ],
   "source": [
    "y_val_tron = X_val[\"total_condicion\"] >= 5\n",
    "y_val_tron_f1_bestFI, y_val_tron_rocauc_bestFI = f1_score(y_val, y_val_tron), roc_auc_score(y_val, y_val_tron)\n",
    "y_val_tron_f1_bestFI, y_val_tron_rocauc_bestFI"
   ]
  },
  {
   "cell_type": "code",
   "execution_count": 80,
   "metadata": {},
   "outputs": [
    {
     "data": {
      "text/plain": [
       "array([[4503,  360],\n",
       "       [  76,  194]])"
      ]
     },
     "execution_count": 80,
     "metadata": {},
     "output_type": "execute_result"
    }
   ],
   "source": [
    "confusion_matrix(y_val, y_val_tron)"
   ]
  },
  {
   "cell_type": "code",
   "execution_count": 81,
   "metadata": {},
   "outputs": [],
   "source": [
    "df_val_an = df_val.copy()"
   ]
  },
  {
   "cell_type": "code",
   "execution_count": 82,
   "metadata": {},
   "outputs": [],
   "source": [
    "df_val_an[\"y_pred\"] = y_val_pred"
   ]
  },
  {
   "cell_type": "code",
   "execution_count": 84,
   "metadata": {},
   "outputs": [
    {
     "data": {
      "text/html": [
       "<div>\n",
       "<style scoped>\n",
       "    .dataframe tbody tr th:only-of-type {\n",
       "        vertical-align: middle;\n",
       "    }\n",
       "\n",
       "    .dataframe tbody tr th {\n",
       "        vertical-align: top;\n",
       "    }\n",
       "\n",
       "    .dataframe thead tr th {\n",
       "        text-align: left;\n",
       "    }\n",
       "\n",
       "    .dataframe thead tr:last-of-type th {\n",
       "        text-align: right;\n",
       "    }\n",
       "</style>\n",
       "<table border=\"1\" class=\"dataframe\">\n",
       "  <thead>\n",
       "    <tr>\n",
       "      <th>EXISTE_FRAUDE</th>\n",
       "      <th colspan=\"2\" halign=\"left\">False</th>\n",
       "      <th colspan=\"2\" halign=\"left\">True</th>\n",
       "    </tr>\n",
       "    <tr>\n",
       "      <th>y_pred</th>\n",
       "      <th>False</th>\n",
       "      <th>True</th>\n",
       "      <th>False</th>\n",
       "      <th>True</th>\n",
       "    </tr>\n",
       "    <tr>\n",
       "      <th>EXISTE_INVEST</th>\n",
       "      <th></th>\n",
       "      <th></th>\n",
       "      <th></th>\n",
       "      <th></th>\n",
       "    </tr>\n",
       "  </thead>\n",
       "  <tbody>\n",
       "    <tr>\n",
       "      <th>-1</th>\n",
       "      <td>4444</td>\n",
       "      <td>17</td>\n",
       "      <td>0</td>\n",
       "      <td>0</td>\n",
       "    </tr>\n",
       "    <tr>\n",
       "      <th>0</th>\n",
       "      <td>26</td>\n",
       "      <td>233</td>\n",
       "      <td>0</td>\n",
       "      <td>1</td>\n",
       "    </tr>\n",
       "    <tr>\n",
       "      <th>1</th>\n",
       "      <td>51</td>\n",
       "      <td>92</td>\n",
       "      <td>79</td>\n",
       "      <td>190</td>\n",
       "    </tr>\n",
       "  </tbody>\n",
       "</table>\n",
       "</div>"
      ],
      "text/plain": [
       "EXISTE_FRAUDE False       True       \n",
       "y_pred        False True  False True \n",
       "EXISTE_INVEST                        \n",
       "-1             4444    17     0     0\n",
       " 0               26   233     0     1\n",
       " 1               51    92    79   190"
      ]
     },
     "execution_count": 84,
     "metadata": {},
     "output_type": "execute_result"
    }
   ],
   "source": [
    "pd.crosstab(df_val_an[\"EXISTE_INVEST\"], [df_val_an[\"EXISTE_FRAUDE\"], df_val_an[\"y_pred\"] > 0.5])"
   ]
  },
  {
   "cell_type": "code",
   "execution_count": 92,
   "metadata": {},
   "outputs": [
    {
     "data": {
      "text/html": [
       "<div>\n",
       "<style scoped>\n",
       "    .dataframe tbody tr th:only-of-type {\n",
       "        vertical-align: middle;\n",
       "    }\n",
       "\n",
       "    .dataframe tbody tr th {\n",
       "        vertical-align: top;\n",
       "    }\n",
       "\n",
       "    .dataframe thead th {\n",
       "        text-align: right;\n",
       "    }\n",
       "</style>\n",
       "<table border=\"1\" class=\"dataframe\">\n",
       "  <thead>\n",
       "    <tr style=\"text-align: right;\">\n",
       "      <th></th>\n",
       "      <th>NUM_SECU_EXPED</th>\n",
       "      <th>cond_32</th>\n",
       "      <th>cond_C10</th>\n",
       "      <th>cond_C11</th>\n",
       "      <th>cond_C12</th>\n",
       "      <th>cond_C13</th>\n",
       "      <th>cond_C14</th>\n",
       "      <th>cond_C15</th>\n",
       "      <th>cond_C16</th>\n",
       "      <th>cond_C18</th>\n",
       "      <th>cond_C19</th>\n",
       "      <th>cond_C20</th>\n",
       "      <th>total_condicion</th>\n",
       "      <th>es_gte_5</th>\n",
       "      <th>EXISTE_FRAUDE</th>\n",
       "      <th>EXISTE_INVEST</th>\n",
       "      <th>preg_15</th>\n",
       "      <th>preg_31</th>\n",
       "      <th>preg_32</th>\n",
       "      <th>preg_33</th>\n",
       "      <th>preg_34</th>\n",
       "      <th>CERRADURA_BAUL</th>\n",
       "      <th>CERRADURA_DERECHA</th>\n",
       "      <th>CERRADURA_IZQUIERDA</th>\n",
       "      <th>CODIGO_BAJA</th>\n",
       "      <th>CODIGO_CARATULA</th>\n",
       "      <th>CODIGO_REAPERTURA</th>\n",
       "      <th>CODIGO_VEHICULO</th>\n",
       "      <th>COD_CAUSA_SINI</th>\n",
       "      <th>COD_POST_OCURRENCIA</th>\n",
       "      <th>COD_POST_POLIZA</th>\n",
       "      <th>COD_RAMO_sini</th>\n",
       "      <th>COD_RIES_sini</th>\n",
       "      <th>DESCRIPCION_TIPO</th>\n",
       "      <th>ESTADO_CIVIL</th>\n",
       "      <th>ESTAD_VEH_ASEG</th>\n",
       "      <th>FALTANTE</th>\n",
       "      <th>MCA_COASEG</th>\n",
       "      <th>MCA_JUICIO</th>\n",
       "      <th>MCA_VIP</th>\n",
       "      <th>METRO</th>\n",
       "      <th>NUM_SECU_POL</th>\n",
       "      <th>OCUPACION_ASEG</th>\n",
       "      <th>SEXO</th>\n",
       "      <th>TIPO</th>\n",
       "      <th>TIPO_LESION</th>\n",
       "      <th>TIPO_LESION_MAXIMA</th>\n",
       "      <th>TIPO_SINIESTRO</th>\n",
       "      <th>USO</th>\n",
       "      <th>dias_entre_denu_y_sini</th>\n",
       "      <th>CANT_RENOVACION</th>\n",
       "      <th>CAPITAL_ACCESORIOS</th>\n",
       "      <th>CAPITAL_ASEGURADO_COTIZACION</th>\n",
       "      <th>CAPITAL_VEHICULO</th>\n",
       "      <th>COD_COBRO</th>\n",
       "      <th>COD_COBRO_ANTERIOR</th>\n",
       "      <th>COD_PROD</th>\n",
       "      <th>COD_ZONA_CASCO</th>\n",
       "      <th>COD_ZONA_RC</th>\n",
       "      <th>COD_ZONA_ROBO</th>\n",
       "      <th>CONV_COMISIONARIO</th>\n",
       "      <th>CIF_ID</th>\n",
       "      <th>MCA_AGRAVANTE</th>\n",
       "      <th>MCA_EMPLEADO</th>\n",
       "      <th>MCA_MOVIMIENTO</th>\n",
       "      <th>MCA_POLIZA_VIP</th>\n",
       "      <th>NEGOCIO</th>\n",
       "      <th>PRENDARIO</th>\n",
       "      <th>SEGMENTO</th>\n",
       "      <th>cambio_cobro</th>\n",
       "      <th>ANTIG_pol</th>\n",
       "      <th>TIPO_ACTIVIDAD</th>\n",
       "      <th>CLIENTE</th>\n",
       "      <th>CODIGO_NACION</th>\n",
       "      <th>DATECO_TIPO_ACTIVIDAD</th>\n",
       "      <th>DOMICILIO_CODIGO_POSTAL</th>\n",
       "      <th>HABILITADO</th>\n",
       "      <th>FECHA_SINI_Year</th>\n",
       "      <th>FECHA_SINI_Month</th>\n",
       "      <th>FECHA_SINI_Week</th>\n",
       "      <th>FECHA_SINI_Day</th>\n",
       "      <th>FECHA_SINI_Dayofweek</th>\n",
       "      <th>FECHA_SINI_Dayofyear</th>\n",
       "      <th>FECHA_SINI_Is_month_end</th>\n",
       "      <th>FECHA_SINI_Is_month_start</th>\n",
       "      <th>FECHA_SINI_Is_quarter_end</th>\n",
       "      <th>FECHA_SINI_Is_quarter_start</th>\n",
       "      <th>FECHA_SINI_Is_year_end</th>\n",
       "      <th>FECHA_SINI_Is_year_start</th>\n",
       "      <th>FECHA_SINI_Elapsed</th>\n",
       "      <th>cant_pol</th>\n",
       "      <th>cant_sini_1y</th>\n",
       "      <th>COD_POST_POLIZA_DP_CLUSTER_2019</th>\n",
       "      <th>COD_POST_POLIZA_RT_CLUSTER_2019</th>\n",
       "      <th>COD_POST_POLIZA_RC_CLUSTER_2019</th>\n",
       "      <th>COD_POST_OCURRENCIA_DP_CLUSTER_2019</th>\n",
       "      <th>COD_POST_OCURRENCIA_RT_CLUSTER_2019</th>\n",
       "      <th>COD_POST_OCURRENCIA_RC_CLUSTER_2019</th>\n",
       "      <th>cant_cond</th>\n",
       "      <th>y_pred</th>\n",
       "    </tr>\n",
       "  </thead>\n",
       "  <tbody>\n",
       "    <tr>\n",
       "      <th>30885</th>\n",
       "      <td>1927722409999</td>\n",
       "      <td>0.0</td>\n",
       "      <td>0.0</td>\n",
       "      <td>0.0</td>\n",
       "      <td>0.0</td>\n",
       "      <td>0.0</td>\n",
       "      <td>-1.0</td>\n",
       "      <td>1.0</td>\n",
       "      <td>0.0</td>\n",
       "      <td>0.0</td>\n",
       "      <td>0.0</td>\n",
       "      <td>0.0</td>\n",
       "      <td>1.0</td>\n",
       "      <td>False</td>\n",
       "      <td>False</td>\n",
       "      <td>-1</td>\n",
       "      <td>-1</td>\n",
       "      <td>0</td>\n",
       "      <td>0</td>\n",
       "      <td>1</td>\n",
       "      <td>504</td>\n",
       "      <td>0</td>\n",
       "      <td>0</td>\n",
       "      <td>0</td>\n",
       "      <td>-1.0</td>\n",
       "      <td>-1.0</td>\n",
       "      <td>-1.0</td>\n",
       "      <td>666.0</td>\n",
       "      <td>209.0</td>\n",
       "      <td>1875.0</td>\n",
       "      <td>1875.0</td>\n",
       "      <td>1.0</td>\n",
       "      <td>1.0</td>\n",
       "      <td>2</td>\n",
       "      <td>6</td>\n",
       "      <td>2.0</td>\n",
       "      <td>1</td>\n",
       "      <td>0</td>\n",
       "      <td>-1</td>\n",
       "      <td>1</td>\n",
       "      <td>1</td>\n",
       "      <td>1.917249e+12</td>\n",
       "      <td>5.0</td>\n",
       "      <td>1</td>\n",
       "      <td>6.0</td>\n",
       "      <td>-1</td>\n",
       "      <td>-1</td>\n",
       "      <td>5</td>\n",
       "      <td>1.0</td>\n",
       "      <td>0.0</td>\n",
       "      <td>1.0</td>\n",
       "      <td>8</td>\n",
       "      <td>3013</td>\n",
       "      <td>6419</td>\n",
       "      <td>5</td>\n",
       "      <td>-1</td>\n",
       "      <td>5660.0</td>\n",
       "      <td>1.0</td>\n",
       "      <td>1.0</td>\n",
       "      <td>1.0</td>\n",
       "      <td>107</td>\n",
       "      <td>-1.0</td>\n",
       "      <td>0</td>\n",
       "      <td>0</td>\n",
       "      <td>0</td>\n",
       "      <td>1</td>\n",
       "      <td>-1</td>\n",
       "      <td>0</td>\n",
       "      <td>5</td>\n",
       "      <td>0</td>\n",
       "      <td>0.0</td>\n",
       "      <td>-1</td>\n",
       "      <td>-1</td>\n",
       "      <td>-1</td>\n",
       "      <td>-1</td>\n",
       "      <td>-1.0</td>\n",
       "      <td>-1</td>\n",
       "      <td>2019.0</td>\n",
       "      <td>3.0</td>\n",
       "      <td>9.0</td>\n",
       "      <td>1.0</td>\n",
       "      <td>4.0</td>\n",
       "      <td>60.0</td>\n",
       "      <td>0.0</td>\n",
       "      <td>1.0</td>\n",
       "      <td>0.0</td>\n",
       "      <td>0.0</td>\n",
       "      <td>0.0</td>\n",
       "      <td>0.0</td>\n",
       "      <td>1551398400</td>\n",
       "      <td>0.0</td>\n",
       "      <td>0.0</td>\n",
       "      <td>22.0</td>\n",
       "      <td>8.0</td>\n",
       "      <td>25.0</td>\n",
       "      <td>22.0</td>\n",
       "      <td>8.0</td>\n",
       "      <td>25.0</td>\n",
       "      <td>1</td>\n",
       "      <td>0.462423</td>\n",
       "    </tr>\n",
       "  </tbody>\n",
       "</table>\n",
       "</div>"
      ],
      "text/plain": [
       "       NUM_SECU_EXPED  cond_32  cond_C10  cond_C11  cond_C12  cond_C13  \\\n",
       "30885   1927722409999      0.0       0.0       0.0       0.0       0.0   \n",
       "\n",
       "       cond_C14  cond_C15  cond_C16  cond_C18  cond_C19  cond_C20  \\\n",
       "30885      -1.0       1.0       0.0       0.0       0.0       0.0   \n",
       "\n",
       "       total_condicion  es_gte_5  EXISTE_FRAUDE  EXISTE_INVEST  preg_15  \\\n",
       "30885              1.0     False          False             -1       -1   \n",
       "\n",
       "       preg_31  preg_32  preg_33  preg_34  CERRADURA_BAUL  CERRADURA_DERECHA  \\\n",
       "30885        0        0        1      504               0                  0   \n",
       "\n",
       "       CERRADURA_IZQUIERDA  CODIGO_BAJA  CODIGO_CARATULA  CODIGO_REAPERTURA  \\\n",
       "30885                    0         -1.0             -1.0               -1.0   \n",
       "\n",
       "       CODIGO_VEHICULO  COD_CAUSA_SINI  COD_POST_OCURRENCIA  COD_POST_POLIZA  \\\n",
       "30885            666.0           209.0               1875.0           1875.0   \n",
       "\n",
       "       COD_RAMO_sini  COD_RIES_sini  DESCRIPCION_TIPO  ESTADO_CIVIL  \\\n",
       "30885            1.0            1.0                 2             6   \n",
       "\n",
       "       ESTAD_VEH_ASEG  FALTANTE  MCA_COASEG  MCA_JUICIO  MCA_VIP  METRO  \\\n",
       "30885             2.0         1           0          -1        1      1   \n",
       "\n",
       "       NUM_SECU_POL  OCUPACION_ASEG  SEXO  TIPO  TIPO_LESION  \\\n",
       "30885  1.917249e+12             5.0     1   6.0           -1   \n",
       "\n",
       "       TIPO_LESION_MAXIMA  TIPO_SINIESTRO  USO  dias_entre_denu_y_sini  \\\n",
       "30885                  -1               5  1.0                     0.0   \n",
       "\n",
       "       CANT_RENOVACION  CAPITAL_ACCESORIOS  CAPITAL_ASEGURADO_COTIZACION  \\\n",
       "30885              1.0                   8                          3013   \n",
       "\n",
       "       CAPITAL_VEHICULO  COD_COBRO  COD_COBRO_ANTERIOR  COD_PROD  \\\n",
       "30885              6419          5                  -1    5660.0   \n",
       "\n",
       "       COD_ZONA_CASCO  COD_ZONA_RC  COD_ZONA_ROBO  CONV_COMISIONARIO  CIF_ID  \\\n",
       "30885             1.0          1.0            1.0                107    -1.0   \n",
       "\n",
       "       MCA_AGRAVANTE  MCA_EMPLEADO  MCA_MOVIMIENTO  MCA_POLIZA_VIP  NEGOCIO  \\\n",
       "30885              0             0               0               1       -1   \n",
       "\n",
       "       PRENDARIO  SEGMENTO  cambio_cobro  ANTIG_pol  TIPO_ACTIVIDAD  CLIENTE  \\\n",
       "30885          0         5             0        0.0              -1       -1   \n",
       "\n",
       "       CODIGO_NACION  DATECO_TIPO_ACTIVIDAD  DOMICILIO_CODIGO_POSTAL  \\\n",
       "30885             -1                     -1                     -1.0   \n",
       "\n",
       "       HABILITADO  FECHA_SINI_Year  FECHA_SINI_Month  FECHA_SINI_Week  \\\n",
       "30885          -1           2019.0               3.0              9.0   \n",
       "\n",
       "       FECHA_SINI_Day  FECHA_SINI_Dayofweek  FECHA_SINI_Dayofyear  \\\n",
       "30885             1.0                   4.0                  60.0   \n",
       "\n",
       "       FECHA_SINI_Is_month_end  FECHA_SINI_Is_month_start  \\\n",
       "30885                      0.0                        1.0   \n",
       "\n",
       "       FECHA_SINI_Is_quarter_end  FECHA_SINI_Is_quarter_start  \\\n",
       "30885                        0.0                          0.0   \n",
       "\n",
       "       FECHA_SINI_Is_year_end  FECHA_SINI_Is_year_start  FECHA_SINI_Elapsed  \\\n",
       "30885                     0.0                       0.0          1551398400   \n",
       "\n",
       "       cant_pol  cant_sini_1y  COD_POST_POLIZA_DP_CLUSTER_2019  \\\n",
       "30885       0.0           0.0                             22.0   \n",
       "\n",
       "       COD_POST_POLIZA_RT_CLUSTER_2019  COD_POST_POLIZA_RC_CLUSTER_2019  \\\n",
       "30885                              8.0                             25.0   \n",
       "\n",
       "       COD_POST_OCURRENCIA_DP_CLUSTER_2019  \\\n",
       "30885                                 22.0   \n",
       "\n",
       "       COD_POST_OCURRENCIA_RT_CLUSTER_2019  \\\n",
       "30885                                  8.0   \n",
       "\n",
       "       COD_POST_OCURRENCIA_RC_CLUSTER_2019  cant_cond    y_pred  \n",
       "30885                                 25.0          1  0.462423  "
      ]
     },
     "execution_count": 92,
     "metadata": {},
     "output_type": "execute_result"
    }
   ],
   "source": [
    "df_val_an[(df_val_an[\"y_pred\"] > 0.45) & (df_val_an[\"total_condicion\"] < 5)]"
   ]
  },
  {
   "cell_type": "code",
   "execution_count": 66,
   "metadata": {},
   "outputs": [
    {
     "data": {
      "text/html": [
       "<div>\n",
       "<style scoped>\n",
       "    .dataframe tbody tr th:only-of-type {\n",
       "        vertical-align: middle;\n",
       "    }\n",
       "\n",
       "    .dataframe tbody tr th {\n",
       "        vertical-align: top;\n",
       "    }\n",
       "\n",
       "    .dataframe thead th {\n",
       "        text-align: right;\n",
       "    }\n",
       "</style>\n",
       "<table border=\"1\" class=\"dataframe\">\n",
       "  <thead>\n",
       "    <tr style=\"text-align: right;\">\n",
       "      <th></th>\n",
       "      <th>NUM_SECU_EXPED</th>\n",
       "      <th>cond_32</th>\n",
       "      <th>cond_C10</th>\n",
       "      <th>cond_C11</th>\n",
       "      <th>cond_C12</th>\n",
       "      <th>cond_C13</th>\n",
       "      <th>cond_C14</th>\n",
       "      <th>cond_C15</th>\n",
       "      <th>cond_C16</th>\n",
       "      <th>cond_C18</th>\n",
       "      <th>cond_C19</th>\n",
       "      <th>cond_C20</th>\n",
       "      <th>total_condicion</th>\n",
       "      <th>es_gte_5</th>\n",
       "      <th>EXISTE_FRAUDE</th>\n",
       "      <th>EXISTE_INVEST</th>\n",
       "      <th>preg_15</th>\n",
       "      <th>preg_31</th>\n",
       "      <th>preg_32</th>\n",
       "      <th>preg_33</th>\n",
       "      <th>preg_34</th>\n",
       "      <th>CERRADURA_BAUL</th>\n",
       "      <th>CERRADURA_DERECHA</th>\n",
       "      <th>CERRADURA_IZQUIERDA</th>\n",
       "      <th>CODIGO_BAJA</th>\n",
       "      <th>CODIGO_CARATULA</th>\n",
       "      <th>CODIGO_REAPERTURA</th>\n",
       "      <th>CODIGO_VEHICULO</th>\n",
       "      <th>COD_CAUSA_SINI</th>\n",
       "      <th>COD_POST_OCURRENCIA</th>\n",
       "      <th>COD_POST_POLIZA</th>\n",
       "      <th>COD_RAMO_sini</th>\n",
       "      <th>COD_RIES_sini</th>\n",
       "      <th>DESCRIPCION_TIPO</th>\n",
       "      <th>ESTADO_CIVIL</th>\n",
       "      <th>ESTAD_VEH_ASEG</th>\n",
       "      <th>FALTANTE</th>\n",
       "      <th>MCA_COASEG</th>\n",
       "      <th>MCA_JUICIO</th>\n",
       "      <th>MCA_VIP</th>\n",
       "      <th>METRO</th>\n",
       "      <th>NUM_SECU_POL</th>\n",
       "      <th>OCUPACION_ASEG</th>\n",
       "      <th>SEXO</th>\n",
       "      <th>TIPO</th>\n",
       "      <th>TIPO_LESION</th>\n",
       "      <th>TIPO_LESION_MAXIMA</th>\n",
       "      <th>TIPO_SINIESTRO</th>\n",
       "      <th>USO</th>\n",
       "      <th>dias_entre_denu_y_sini</th>\n",
       "      <th>CANT_RENOVACION</th>\n",
       "      <th>CAPITAL_ACCESORIOS</th>\n",
       "      <th>CAPITAL_ASEGURADO_COTIZACION</th>\n",
       "      <th>CAPITAL_VEHICULO</th>\n",
       "      <th>COD_COBRO</th>\n",
       "      <th>COD_COBRO_ANTERIOR</th>\n",
       "      <th>COD_PROD</th>\n",
       "      <th>COD_ZONA_CASCO</th>\n",
       "      <th>COD_ZONA_RC</th>\n",
       "      <th>COD_ZONA_ROBO</th>\n",
       "      <th>CONV_COMISIONARIO</th>\n",
       "      <th>CIF_ID</th>\n",
       "      <th>MCA_AGRAVANTE</th>\n",
       "      <th>MCA_EMPLEADO</th>\n",
       "      <th>MCA_MOVIMIENTO</th>\n",
       "      <th>MCA_POLIZA_VIP</th>\n",
       "      <th>NEGOCIO</th>\n",
       "      <th>PRENDARIO</th>\n",
       "      <th>SEGMENTO</th>\n",
       "      <th>cambio_cobro</th>\n",
       "      <th>ANTIG_pol</th>\n",
       "      <th>TIPO_ACTIVIDAD</th>\n",
       "      <th>CLIENTE</th>\n",
       "      <th>CODIGO_NACION</th>\n",
       "      <th>DATECO_TIPO_ACTIVIDAD</th>\n",
       "      <th>DOMICILIO_CODIGO_POSTAL</th>\n",
       "      <th>HABILITADO</th>\n",
       "      <th>FECHA_SINI_Year</th>\n",
       "      <th>FECHA_SINI_Month</th>\n",
       "      <th>FECHA_SINI_Week</th>\n",
       "      <th>FECHA_SINI_Day</th>\n",
       "      <th>FECHA_SINI_Dayofweek</th>\n",
       "      <th>FECHA_SINI_Dayofyear</th>\n",
       "      <th>FECHA_SINI_Is_month_end</th>\n",
       "      <th>FECHA_SINI_Is_month_start</th>\n",
       "      <th>FECHA_SINI_Is_quarter_end</th>\n",
       "      <th>FECHA_SINI_Is_quarter_start</th>\n",
       "      <th>FECHA_SINI_Is_year_end</th>\n",
       "      <th>FECHA_SINI_Is_year_start</th>\n",
       "      <th>FECHA_SINI_Elapsed</th>\n",
       "      <th>cant_pol</th>\n",
       "      <th>cant_sini_1y</th>\n",
       "      <th>COD_POST_POLIZA_DP_CLUSTER_2019</th>\n",
       "      <th>COD_POST_POLIZA_RT_CLUSTER_2019</th>\n",
       "      <th>COD_POST_POLIZA_RC_CLUSTER_2019</th>\n",
       "      <th>COD_POST_OCURRENCIA_DP_CLUSTER_2019</th>\n",
       "      <th>COD_POST_OCURRENCIA_RT_CLUSTER_2019</th>\n",
       "      <th>COD_POST_OCURRENCIA_RC_CLUSTER_2019</th>\n",
       "      <th>cant_cond</th>\n",
       "      <th>y_pred</th>\n",
       "    </tr>\n",
       "  </thead>\n",
       "  <tbody>\n",
       "    <tr>\n",
       "      <th>10</th>\n",
       "      <td>1916898249999</td>\n",
       "      <td>0.0</td>\n",
       "      <td>0.0</td>\n",
       "      <td>0.0</td>\n",
       "      <td>0.0</td>\n",
       "      <td>0.0</td>\n",
       "      <td>-1.0</td>\n",
       "      <td>0.0</td>\n",
       "      <td>0.0</td>\n",
       "      <td>0.0</td>\n",
       "      <td>0.0</td>\n",
       "      <td>0.0</td>\n",
       "      <td>0.0</td>\n",
       "      <td>False</td>\n",
       "      <td>False</td>\n",
       "      <td>-1</td>\n",
       "      <td>-1</td>\n",
       "      <td>0</td>\n",
       "      <td>0</td>\n",
       "      <td>1</td>\n",
       "      <td>-1</td>\n",
       "      <td>0</td>\n",
       "      <td>0</td>\n",
       "      <td>0</td>\n",
       "      <td>-1.0</td>\n",
       "      <td>-1.0</td>\n",
       "      <td>-1.0</td>\n",
       "      <td>12718.0</td>\n",
       "      <td>209.0</td>\n",
       "      <td>1676.0</td>\n",
       "      <td>1712.0</td>\n",
       "      <td>1.0</td>\n",
       "      <td>1.0</td>\n",
       "      <td>3</td>\n",
       "      <td>0</td>\n",
       "      <td>5.0</td>\n",
       "      <td>1</td>\n",
       "      <td>0</td>\n",
       "      <td>-1</td>\n",
       "      <td>1</td>\n",
       "      <td>1</td>\n",
       "      <td>1.900647e+12</td>\n",
       "      <td>5.0</td>\n",
       "      <td>1</td>\n",
       "      <td>3.0</td>\n",
       "      <td>-1</td>\n",
       "      <td>-1</td>\n",
       "      <td>7</td>\n",
       "      <td>1.0</td>\n",
       "      <td>0.0</td>\n",
       "      <td>16.0</td>\n",
       "      <td>8</td>\n",
       "      <td>3270</td>\n",
       "      <td>6799</td>\n",
       "      <td>5</td>\n",
       "      <td>5</td>\n",
       "      <td>5660.0</td>\n",
       "      <td>1.0</td>\n",
       "      <td>1.0</td>\n",
       "      <td>1.0</td>\n",
       "      <td>107</td>\n",
       "      <td>1054183.0</td>\n",
       "      <td>0</td>\n",
       "      <td>0</td>\n",
       "      <td>-1</td>\n",
       "      <td>1</td>\n",
       "      <td>21</td>\n",
       "      <td>0</td>\n",
       "      <td>5</td>\n",
       "      <td>0</td>\n",
       "      <td>457.0</td>\n",
       "      <td>88</td>\n",
       "      <td>-1</td>\n",
       "      <td>2</td>\n",
       "      <td>40</td>\n",
       "      <td>1712000.0</td>\n",
       "      <td>1</td>\n",
       "      <td>2019.0</td>\n",
       "      <td>2.0</td>\n",
       "      <td>5.0</td>\n",
       "      <td>1.0</td>\n",
       "      <td>4.0</td>\n",
       "      <td>32.0</td>\n",
       "      <td>0.0</td>\n",
       "      <td>1.0</td>\n",
       "      <td>0.0</td>\n",
       "      <td>0.0</td>\n",
       "      <td>0.0</td>\n",
       "      <td>0.0</td>\n",
       "      <td>1548979200</td>\n",
       "      <td>1.0</td>\n",
       "      <td>3.0</td>\n",
       "      <td>25.0</td>\n",
       "      <td>8.0</td>\n",
       "      <td>26.0</td>\n",
       "      <td>27.0</td>\n",
       "      <td>6.0</td>\n",
       "      <td>24.0</td>\n",
       "      <td>0</td>\n",
       "      <td>0.181835</td>\n",
       "    </tr>\n",
       "    <tr>\n",
       "      <th>15</th>\n",
       "      <td>1916898859999</td>\n",
       "      <td>0.0</td>\n",
       "      <td>0.0</td>\n",
       "      <td>0.0</td>\n",
       "      <td>0.0</td>\n",
       "      <td>0.0</td>\n",
       "      <td>-1.0</td>\n",
       "      <td>0.0</td>\n",
       "      <td>0.0</td>\n",
       "      <td>0.0</td>\n",
       "      <td>0.0</td>\n",
       "      <td>0.0</td>\n",
       "      <td>0.0</td>\n",
       "      <td>False</td>\n",
       "      <td>False</td>\n",
       "      <td>-1</td>\n",
       "      <td>-1</td>\n",
       "      <td>0</td>\n",
       "      <td>0</td>\n",
       "      <td>0</td>\n",
       "      <td>270</td>\n",
       "      <td>0</td>\n",
       "      <td>0</td>\n",
       "      <td>0</td>\n",
       "      <td>-1.0</td>\n",
       "      <td>-1.0</td>\n",
       "      <td>-1.0</td>\n",
       "      <td>12718.0</td>\n",
       "      <td>209.0</td>\n",
       "      <td>1766.0</td>\n",
       "      <td>1752.0</td>\n",
       "      <td>8.0</td>\n",
       "      <td>1.0</td>\n",
       "      <td>3</td>\n",
       "      <td>0</td>\n",
       "      <td>5.0</td>\n",
       "      <td>1</td>\n",
       "      <td>0</td>\n",
       "      <td>-1</td>\n",
       "      <td>1</td>\n",
       "      <td>1</td>\n",
       "      <td>1.903457e+12</td>\n",
       "      <td>5.0</td>\n",
       "      <td>1</td>\n",
       "      <td>3.0</td>\n",
       "      <td>-1</td>\n",
       "      <td>-1</td>\n",
       "      <td>5</td>\n",
       "      <td>1.0</td>\n",
       "      <td>0.0</td>\n",
       "      <td>28.0</td>\n",
       "      <td>8</td>\n",
       "      <td>2990</td>\n",
       "      <td>6434</td>\n",
       "      <td>2</td>\n",
       "      <td>2</td>\n",
       "      <td>74322.0</td>\n",
       "      <td>1.0</td>\n",
       "      <td>1.0</td>\n",
       "      <td>1.0</td>\n",
       "      <td>42</td>\n",
       "      <td>-1.0</td>\n",
       "      <td>1</td>\n",
       "      <td>0</td>\n",
       "      <td>-1</td>\n",
       "      <td>1</td>\n",
       "      <td>47</td>\n",
       "      <td>1</td>\n",
       "      <td>-1</td>\n",
       "      <td>0</td>\n",
       "      <td>803.0</td>\n",
       "      <td>-1</td>\n",
       "      <td>-1</td>\n",
       "      <td>-1</td>\n",
       "      <td>-1</td>\n",
       "      <td>-1.0</td>\n",
       "      <td>-1</td>\n",
       "      <td>2019.0</td>\n",
       "      <td>2.0</td>\n",
       "      <td>5.0</td>\n",
       "      <td>1.0</td>\n",
       "      <td>4.0</td>\n",
       "      <td>32.0</td>\n",
       "      <td>0.0</td>\n",
       "      <td>1.0</td>\n",
       "      <td>0.0</td>\n",
       "      <td>0.0</td>\n",
       "      <td>0.0</td>\n",
       "      <td>0.0</td>\n",
       "      <td>1548979200</td>\n",
       "      <td>0.0</td>\n",
       "      <td>0.0</td>\n",
       "      <td>29.0</td>\n",
       "      <td>10.0</td>\n",
       "      <td>25.0</td>\n",
       "      <td>29.0</td>\n",
       "      <td>10.0</td>\n",
       "      <td>25.0</td>\n",
       "      <td>0</td>\n",
       "      <td>0.208060</td>\n",
       "    </tr>\n",
       "    <tr>\n",
       "      <th>17</th>\n",
       "      <td>1916899449999</td>\n",
       "      <td>0.0</td>\n",
       "      <td>0.0</td>\n",
       "      <td>0.0</td>\n",
       "      <td>0.0</td>\n",
       "      <td>0.0</td>\n",
       "      <td>-1.0</td>\n",
       "      <td>0.0</td>\n",
       "      <td>0.0</td>\n",
       "      <td>0.0</td>\n",
       "      <td>0.0</td>\n",
       "      <td>0.0</td>\n",
       "      <td>0.0</td>\n",
       "      <td>False</td>\n",
       "      <td>False</td>\n",
       "      <td>-1</td>\n",
       "      <td>-1</td>\n",
       "      <td>0</td>\n",
       "      <td>0</td>\n",
       "      <td>1</td>\n",
       "      <td>-1</td>\n",
       "      <td>0</td>\n",
       "      <td>0</td>\n",
       "      <td>0</td>\n",
       "      <td>-1.0</td>\n",
       "      <td>-1.0</td>\n",
       "      <td>-1.0</td>\n",
       "      <td>12716.0</td>\n",
       "      <td>209.0</td>\n",
       "      <td>1425.0</td>\n",
       "      <td>1881.0</td>\n",
       "      <td>1.0</td>\n",
       "      <td>1.0</td>\n",
       "      <td>3</td>\n",
       "      <td>0</td>\n",
       "      <td>3.0</td>\n",
       "      <td>1</td>\n",
       "      <td>0</td>\n",
       "      <td>-1</td>\n",
       "      <td>0</td>\n",
       "      <td>1</td>\n",
       "      <td>1.894863e+12</td>\n",
       "      <td>1.0</td>\n",
       "      <td>1</td>\n",
       "      <td>3.0</td>\n",
       "      <td>-1</td>\n",
       "      <td>-1</td>\n",
       "      <td>5</td>\n",
       "      <td>1.0</td>\n",
       "      <td>0.0</td>\n",
       "      <td>7.0</td>\n",
       "      <td>75</td>\n",
       "      <td>2323</td>\n",
       "      <td>4763</td>\n",
       "      <td>5</td>\n",
       "      <td>5</td>\n",
       "      <td>6010.0</td>\n",
       "      <td>1.0</td>\n",
       "      <td>1.0</td>\n",
       "      <td>2.0</td>\n",
       "      <td>107</td>\n",
       "      <td>-1.0</td>\n",
       "      <td>0</td>\n",
       "      <td>0</td>\n",
       "      <td>-1</td>\n",
       "      <td>0</td>\n",
       "      <td>21</td>\n",
       "      <td>0</td>\n",
       "      <td>4</td>\n",
       "      <td>0</td>\n",
       "      <td>184.0</td>\n",
       "      <td>-1</td>\n",
       "      <td>-1</td>\n",
       "      <td>-1</td>\n",
       "      <td>-1</td>\n",
       "      <td>-1.0</td>\n",
       "      <td>-1</td>\n",
       "      <td>2019.0</td>\n",
       "      <td>2.0</td>\n",
       "      <td>5.0</td>\n",
       "      <td>1.0</td>\n",
       "      <td>4.0</td>\n",
       "      <td>32.0</td>\n",
       "      <td>0.0</td>\n",
       "      <td>1.0</td>\n",
       "      <td>0.0</td>\n",
       "      <td>0.0</td>\n",
       "      <td>0.0</td>\n",
       "      <td>0.0</td>\n",
       "      <td>1548979200</td>\n",
       "      <td>0.0</td>\n",
       "      <td>0.0</td>\n",
       "      <td>23.0</td>\n",
       "      <td>7.0</td>\n",
       "      <td>24.0</td>\n",
       "      <td>12.0</td>\n",
       "      <td>5.0</td>\n",
       "      <td>16.0</td>\n",
       "      <td>0</td>\n",
       "      <td>0.077313</td>\n",
       "    </tr>\n",
       "    <tr>\n",
       "      <th>22</th>\n",
       "      <td>1916900799999</td>\n",
       "      <td>0.0</td>\n",
       "      <td>0.0</td>\n",
       "      <td>0.0</td>\n",
       "      <td>0.0</td>\n",
       "      <td>0.0</td>\n",
       "      <td>-1.0</td>\n",
       "      <td>0.0</td>\n",
       "      <td>0.0</td>\n",
       "      <td>0.0</td>\n",
       "      <td>0.0</td>\n",
       "      <td>0.0</td>\n",
       "      <td>0.0</td>\n",
       "      <td>False</td>\n",
       "      <td>False</td>\n",
       "      <td>-1</td>\n",
       "      <td>-1</td>\n",
       "      <td>0</td>\n",
       "      <td>0</td>\n",
       "      <td>0</td>\n",
       "      <td>-1</td>\n",
       "      <td>0</td>\n",
       "      <td>0</td>\n",
       "      <td>0</td>\n",
       "      <td>-1.0</td>\n",
       "      <td>-1.0</td>\n",
       "      <td>-1.0</td>\n",
       "      <td>27636.0</td>\n",
       "      <td>209.0</td>\n",
       "      <td>4728.0</td>\n",
       "      <td>4000.0</td>\n",
       "      <td>1.0</td>\n",
       "      <td>1.0</td>\n",
       "      <td>23</td>\n",
       "      <td>0</td>\n",
       "      <td>3.0</td>\n",
       "      <td>1</td>\n",
       "      <td>0</td>\n",
       "      <td>-1</td>\n",
       "      <td>1</td>\n",
       "      <td>0</td>\n",
       "      <td>1.855151e+12</td>\n",
       "      <td>44.0</td>\n",
       "      <td>1</td>\n",
       "      <td>8.0</td>\n",
       "      <td>-1</td>\n",
       "      <td>-1</td>\n",
       "      <td>5</td>\n",
       "      <td>1.0</td>\n",
       "      <td>0.0</td>\n",
       "      <td>1.0</td>\n",
       "      <td>8</td>\n",
       "      <td>3480</td>\n",
       "      <td>7713</td>\n",
       "      <td>2</td>\n",
       "      <td>2</td>\n",
       "      <td>72038.0</td>\n",
       "      <td>2.0</td>\n",
       "      <td>4.0</td>\n",
       "      <td>9.0</td>\n",
       "      <td>16</td>\n",
       "      <td>-1.0</td>\n",
       "      <td>1</td>\n",
       "      <td>0</td>\n",
       "      <td>-1</td>\n",
       "      <td>1</td>\n",
       "      <td>47</td>\n",
       "      <td>1</td>\n",
       "      <td>5</td>\n",
       "      <td>0</td>\n",
       "      <td>0.0</td>\n",
       "      <td>-1</td>\n",
       "      <td>-1</td>\n",
       "      <td>-1</td>\n",
       "      <td>-1</td>\n",
       "      <td>-1.0</td>\n",
       "      <td>-1</td>\n",
       "      <td>2019.0</td>\n",
       "      <td>2.0</td>\n",
       "      <td>5.0</td>\n",
       "      <td>1.0</td>\n",
       "      <td>4.0</td>\n",
       "      <td>32.0</td>\n",
       "      <td>0.0</td>\n",
       "      <td>1.0</td>\n",
       "      <td>0.0</td>\n",
       "      <td>0.0</td>\n",
       "      <td>0.0</td>\n",
       "      <td>0.0</td>\n",
       "      <td>1548979200</td>\n",
       "      <td>0.0</td>\n",
       "      <td>0.0</td>\n",
       "      <td>13.0</td>\n",
       "      <td>3.0</td>\n",
       "      <td>13.0</td>\n",
       "      <td>2.0</td>\n",
       "      <td>1.0</td>\n",
       "      <td>2.0</td>\n",
       "      <td>0</td>\n",
       "      <td>0.128247</td>\n",
       "    </tr>\n",
       "    <tr>\n",
       "      <th>52</th>\n",
       "      <td>1916910359999</td>\n",
       "      <td>0.0</td>\n",
       "      <td>0.0</td>\n",
       "      <td>0.0</td>\n",
       "      <td>0.0</td>\n",
       "      <td>0.0</td>\n",
       "      <td>-1.0</td>\n",
       "      <td>0.0</td>\n",
       "      <td>0.0</td>\n",
       "      <td>0.0</td>\n",
       "      <td>0.0</td>\n",
       "      <td>0.0</td>\n",
       "      <td>0.0</td>\n",
       "      <td>False</td>\n",
       "      <td>False</td>\n",
       "      <td>-1</td>\n",
       "      <td>-1</td>\n",
       "      <td>0</td>\n",
       "      <td>0</td>\n",
       "      <td>0</td>\n",
       "      <td>270</td>\n",
       "      <td>0</td>\n",
       "      <td>0</td>\n",
       "      <td>0</td>\n",
       "      <td>-1.0</td>\n",
       "      <td>-1.0</td>\n",
       "      <td>-1.0</td>\n",
       "      <td>19029.0</td>\n",
       "      <td>209.0</td>\n",
       "      <td>1684.0</td>\n",
       "      <td>1722.0</td>\n",
       "      <td>1.0</td>\n",
       "      <td>1.0</td>\n",
       "      <td>3</td>\n",
       "      <td>6</td>\n",
       "      <td>3.0</td>\n",
       "      <td>1</td>\n",
       "      <td>0</td>\n",
       "      <td>-1</td>\n",
       "      <td>1</td>\n",
       "      <td>1</td>\n",
       "      <td>1.888810e+12</td>\n",
       "      <td>9999.0</td>\n",
       "      <td>0</td>\n",
       "      <td>3.0</td>\n",
       "      <td>-1</td>\n",
       "      <td>-1</td>\n",
       "      <td>5</td>\n",
       "      <td>1.0</td>\n",
       "      <td>0.0</td>\n",
       "      <td>32.0</td>\n",
       "      <td>8</td>\n",
       "      <td>669</td>\n",
       "      <td>1016</td>\n",
       "      <td>5</td>\n",
       "      <td>5</td>\n",
       "      <td>5660.0</td>\n",
       "      <td>1.0</td>\n",
       "      <td>1.0</td>\n",
       "      <td>4.0</td>\n",
       "      <td>107</td>\n",
       "      <td>-1.0</td>\n",
       "      <td>0</td>\n",
       "      <td>0</td>\n",
       "      <td>-1</td>\n",
       "      <td>1</td>\n",
       "      <td>21</td>\n",
       "      <td>0</td>\n",
       "      <td>5</td>\n",
       "      <td>0</td>\n",
       "      <td>944.0</td>\n",
       "      <td>-1</td>\n",
       "      <td>-1</td>\n",
       "      <td>-1</td>\n",
       "      <td>-1</td>\n",
       "      <td>-1.0</td>\n",
       "      <td>-1</td>\n",
       "      <td>2019.0</td>\n",
       "      <td>2.0</td>\n",
       "      <td>5.0</td>\n",
       "      <td>1.0</td>\n",
       "      <td>4.0</td>\n",
       "      <td>32.0</td>\n",
       "      <td>0.0</td>\n",
       "      <td>1.0</td>\n",
       "      <td>0.0</td>\n",
       "      <td>0.0</td>\n",
       "      <td>0.0</td>\n",
       "      <td>0.0</td>\n",
       "      <td>1548979200</td>\n",
       "      <td>0.0</td>\n",
       "      <td>0.0</td>\n",
       "      <td>25.0</td>\n",
       "      <td>8.0</td>\n",
       "      <td>28.0</td>\n",
       "      <td>25.0</td>\n",
       "      <td>8.0</td>\n",
       "      <td>26.0</td>\n",
       "      <td>0</td>\n",
       "      <td>0.137445</td>\n",
       "    </tr>\n",
       "  </tbody>\n",
       "</table>\n",
       "</div>"
      ],
      "text/plain": [
       "    NUM_SECU_EXPED  cond_32  cond_C10  cond_C11  cond_C12  cond_C13  cond_C14  \\\n",
       "10   1916898249999      0.0       0.0       0.0       0.0       0.0      -1.0   \n",
       "15   1916898859999      0.0       0.0       0.0       0.0       0.0      -1.0   \n",
       "17   1916899449999      0.0       0.0       0.0       0.0       0.0      -1.0   \n",
       "22   1916900799999      0.0       0.0       0.0       0.0       0.0      -1.0   \n",
       "52   1916910359999      0.0       0.0       0.0       0.0       0.0      -1.0   \n",
       "\n",
       "    cond_C15  cond_C16  cond_C18  cond_C19  cond_C20  total_condicion  \\\n",
       "10       0.0       0.0       0.0       0.0       0.0              0.0   \n",
       "15       0.0       0.0       0.0       0.0       0.0              0.0   \n",
       "17       0.0       0.0       0.0       0.0       0.0              0.0   \n",
       "22       0.0       0.0       0.0       0.0       0.0              0.0   \n",
       "52       0.0       0.0       0.0       0.0       0.0              0.0   \n",
       "\n",
       "    es_gte_5  EXISTE_FRAUDE  EXISTE_INVEST  preg_15  preg_31  preg_32  \\\n",
       "10     False          False             -1       -1        0        0   \n",
       "15     False          False             -1       -1        0        0   \n",
       "17     False          False             -1       -1        0        0   \n",
       "22     False          False             -1       -1        0        0   \n",
       "52     False          False             -1       -1        0        0   \n",
       "\n",
       "    preg_33  preg_34  CERRADURA_BAUL  CERRADURA_DERECHA  CERRADURA_IZQUIERDA  \\\n",
       "10        1       -1               0                  0                    0   \n",
       "15        0      270               0                  0                    0   \n",
       "17        1       -1               0                  0                    0   \n",
       "22        0       -1               0                  0                    0   \n",
       "52        0      270               0                  0                    0   \n",
       "\n",
       "    CODIGO_BAJA  CODIGO_CARATULA  CODIGO_REAPERTURA  CODIGO_VEHICULO  \\\n",
       "10         -1.0             -1.0               -1.0          12718.0   \n",
       "15         -1.0             -1.0               -1.0          12718.0   \n",
       "17         -1.0             -1.0               -1.0          12716.0   \n",
       "22         -1.0             -1.0               -1.0          27636.0   \n",
       "52         -1.0             -1.0               -1.0          19029.0   \n",
       "\n",
       "    COD_CAUSA_SINI  COD_POST_OCURRENCIA  COD_POST_POLIZA  COD_RAMO_sini  \\\n",
       "10           209.0               1676.0           1712.0            1.0   \n",
       "15           209.0               1766.0           1752.0            8.0   \n",
       "17           209.0               1425.0           1881.0            1.0   \n",
       "22           209.0               4728.0           4000.0            1.0   \n",
       "52           209.0               1684.0           1722.0            1.0   \n",
       "\n",
       "    COD_RIES_sini  DESCRIPCION_TIPO  ESTADO_CIVIL  ESTAD_VEH_ASEG  FALTANTE  \\\n",
       "10            1.0                 3             0             5.0         1   \n",
       "15            1.0                 3             0             5.0         1   \n",
       "17            1.0                 3             0             3.0         1   \n",
       "22            1.0                23             0             3.0         1   \n",
       "52            1.0                 3             6             3.0         1   \n",
       "\n",
       "    MCA_COASEG  MCA_JUICIO  MCA_VIP  METRO  NUM_SECU_POL  OCUPACION_ASEG  \\\n",
       "10           0          -1        1      1  1.900647e+12             5.0   \n",
       "15           0          -1        1      1  1.903457e+12             5.0   \n",
       "17           0          -1        0      1  1.894863e+12             1.0   \n",
       "22           0          -1        1      0  1.855151e+12            44.0   \n",
       "52           0          -1        1      1  1.888810e+12          9999.0   \n",
       "\n",
       "    SEXO  TIPO  TIPO_LESION  TIPO_LESION_MAXIMA  TIPO_SINIESTRO  USO  \\\n",
       "10     1   3.0           -1                  -1               7  1.0   \n",
       "15     1   3.0           -1                  -1               5  1.0   \n",
       "17     1   3.0           -1                  -1               5  1.0   \n",
       "22     1   8.0           -1                  -1               5  1.0   \n",
       "52     0   3.0           -1                  -1               5  1.0   \n",
       "\n",
       "    dias_entre_denu_y_sini  CANT_RENOVACION  CAPITAL_ACCESORIOS  \\\n",
       "10                     0.0             16.0                   8   \n",
       "15                     0.0             28.0                   8   \n",
       "17                     0.0              7.0                  75   \n",
       "22                     0.0              1.0                   8   \n",
       "52                     0.0             32.0                   8   \n",
       "\n",
       "    CAPITAL_ASEGURADO_COTIZACION  CAPITAL_VEHICULO  COD_COBRO  \\\n",
       "10                          3270              6799          5   \n",
       "15                          2990              6434          2   \n",
       "17                          2323              4763          5   \n",
       "22                          3480              7713          2   \n",
       "52                           669              1016          5   \n",
       "\n",
       "    COD_COBRO_ANTERIOR  COD_PROD  COD_ZONA_CASCO  COD_ZONA_RC  COD_ZONA_ROBO  \\\n",
       "10                   5    5660.0             1.0          1.0            1.0   \n",
       "15                   2   74322.0             1.0          1.0            1.0   \n",
       "17                   5    6010.0             1.0          1.0            2.0   \n",
       "22                   2   72038.0             2.0          4.0            9.0   \n",
       "52                   5    5660.0             1.0          1.0            4.0   \n",
       "\n",
       "    CONV_COMISIONARIO     CIF_ID  MCA_AGRAVANTE  MCA_EMPLEADO  MCA_MOVIMIENTO  \\\n",
       "10                107  1054183.0              0             0              -1   \n",
       "15                 42       -1.0              1             0              -1   \n",
       "17                107       -1.0              0             0              -1   \n",
       "22                 16       -1.0              1             0              -1   \n",
       "52                107       -1.0              0             0              -1   \n",
       "\n",
       "    MCA_POLIZA_VIP  NEGOCIO  PRENDARIO  SEGMENTO  cambio_cobro  ANTIG_pol  \\\n",
       "10               1       21          0         5             0      457.0   \n",
       "15               1       47          1        -1             0      803.0   \n",
       "17               0       21          0         4             0      184.0   \n",
       "22               1       47          1         5             0        0.0   \n",
       "52               1       21          0         5             0      944.0   \n",
       "\n",
       "    TIPO_ACTIVIDAD  CLIENTE  CODIGO_NACION  DATECO_TIPO_ACTIVIDAD  \\\n",
       "10              88       -1              2                     40   \n",
       "15              -1       -1             -1                     -1   \n",
       "17              -1       -1             -1                     -1   \n",
       "22              -1       -1             -1                     -1   \n",
       "52              -1       -1             -1                     -1   \n",
       "\n",
       "    DOMICILIO_CODIGO_POSTAL  HABILITADO  FECHA_SINI_Year  FECHA_SINI_Month  \\\n",
       "10                1712000.0           1           2019.0               2.0   \n",
       "15                     -1.0          -1           2019.0               2.0   \n",
       "17                     -1.0          -1           2019.0               2.0   \n",
       "22                     -1.0          -1           2019.0               2.0   \n",
       "52                     -1.0          -1           2019.0               2.0   \n",
       "\n",
       "    FECHA_SINI_Week  FECHA_SINI_Day  FECHA_SINI_Dayofweek  \\\n",
       "10              5.0             1.0                   4.0   \n",
       "15              5.0             1.0                   4.0   \n",
       "17              5.0             1.0                   4.0   \n",
       "22              5.0             1.0                   4.0   \n",
       "52              5.0             1.0                   4.0   \n",
       "\n",
       "    FECHA_SINI_Dayofyear  FECHA_SINI_Is_month_end  FECHA_SINI_Is_month_start  \\\n",
       "10                  32.0                      0.0                        1.0   \n",
       "15                  32.0                      0.0                        1.0   \n",
       "17                  32.0                      0.0                        1.0   \n",
       "22                  32.0                      0.0                        1.0   \n",
       "52                  32.0                      0.0                        1.0   \n",
       "\n",
       "    FECHA_SINI_Is_quarter_end  FECHA_SINI_Is_quarter_start  \\\n",
       "10                        0.0                          0.0   \n",
       "15                        0.0                          0.0   \n",
       "17                        0.0                          0.0   \n",
       "22                        0.0                          0.0   \n",
       "52                        0.0                          0.0   \n",
       "\n",
       "    FECHA_SINI_Is_year_end  FECHA_SINI_Is_year_start  FECHA_SINI_Elapsed  \\\n",
       "10                     0.0                       0.0          1548979200   \n",
       "15                     0.0                       0.0          1548979200   \n",
       "17                     0.0                       0.0          1548979200   \n",
       "22                     0.0                       0.0          1548979200   \n",
       "52                     0.0                       0.0          1548979200   \n",
       "\n",
       "    cant_pol  cant_sini_1y  COD_POST_POLIZA_DP_CLUSTER_2019  \\\n",
       "10       1.0           3.0                             25.0   \n",
       "15       0.0           0.0                             29.0   \n",
       "17       0.0           0.0                             23.0   \n",
       "22       0.0           0.0                             13.0   \n",
       "52       0.0           0.0                             25.0   \n",
       "\n",
       "    COD_POST_POLIZA_RT_CLUSTER_2019  COD_POST_POLIZA_RC_CLUSTER_2019  \\\n",
       "10                              8.0                             26.0   \n",
       "15                             10.0                             25.0   \n",
       "17                              7.0                             24.0   \n",
       "22                              3.0                             13.0   \n",
       "52                              8.0                             28.0   \n",
       "\n",
       "    COD_POST_OCURRENCIA_DP_CLUSTER_2019  COD_POST_OCURRENCIA_RT_CLUSTER_2019  \\\n",
       "10                                 27.0                                  6.0   \n",
       "15                                 29.0                                 10.0   \n",
       "17                                 12.0                                  5.0   \n",
       "22                                  2.0                                  1.0   \n",
       "52                                 25.0                                  8.0   \n",
       "\n",
       "    COD_POST_OCURRENCIA_RC_CLUSTER_2019  cant_cond    y_pred  \n",
       "10                                 24.0          0  0.181835  \n",
       "15                                 25.0          0  0.208060  \n",
       "17                                 16.0          0  0.077313  \n",
       "22                                  2.0          0  0.128247  \n",
       "52                                 26.0          0  0.137445  "
      ]
     },
     "execution_count": 66,
     "metadata": {},
     "output_type": "execute_result"
    }
   ],
   "source": [
    "tmp = df_val_an[df_val_an[\"total_condicion\"] == 0]\n",
    "tmp.head()"
   ]
  },
  {
   "cell_type": "markdown",
   "metadata": {
    "heading_collapsed": true
   },
   "source": [
    "## dumping best current config"
   ]
  },
  {
   "cell_type": "code",
   "execution_count": null,
   "metadata": {
    "hidden": true
   },
   "outputs": [],
   "source": [
    "# Current good config\n",
    "\"\"\"\n",
    "RandomForestClassifier(bootstrap=True, class_weight={0: 1, 1: 15},\n",
    "                       criterion='gini', max_depth=None, max_features='auto',\n",
    "                       max_leaf_nodes=None, min_impurity_decrease=0.0,\n",
    "                       min_impurity_split=None, min_samples_leaf=55,\n",
    "                       min_samples_split=2, min_weight_fraction_leaf=0.0,\n",
    "                       n_estimators=60, n_jobs=-1, oob_score=False,\n",
    "                       random_state=0, verbose=0, warm_start=False)\n",
    "\"\"\"\n",
    "# full features\n",
    "# scores: 0.449, 0.971\n",
    "# array([[71143,   360],\n",
    "#       [  116,   194]])\n",
    "# Tronador\n",
    "# (0.3472,0.816)\n",
    "# array([[70866,   637],\n",
    "#        [  111,   199]])"
   ]
  },
  {
   "cell_type": "code",
   "execution_count": null,
   "metadata": {
    "hidden": true
   },
   "outputs": [],
   "source": [
    "# with open(ps.path.join(\"models\", \"s1 - cond_preg_fill-1_ class_weight balanced.pickle\"), \"wb\") as file:\n",
    "#     pickle.dump(rf_f, file)"
   ]
  },
  {
   "cell_type": "markdown",
   "metadata": {},
   "source": [
    "## Feature Importance\n",
    "\n",
    "<h3 style=\"color:red\">When reducing the # of features the model get worse</h3>"
   ]
  },
  {
   "cell_type": "code",
   "execution_count": 137,
   "metadata": {},
   "outputs": [
    {
     "data": {
      "text/html": [
       "<div>\n",
       "<style scoped>\n",
       "    .dataframe tbody tr th:only-of-type {\n",
       "        vertical-align: middle;\n",
       "    }\n",
       "\n",
       "    .dataframe tbody tr th {\n",
       "        vertical-align: top;\n",
       "    }\n",
       "\n",
       "    .dataframe thead th {\n",
       "        text-align: right;\n",
       "    }\n",
       "</style>\n",
       "<table border=\"1\" class=\"dataframe\">\n",
       "  <thead>\n",
       "    <tr style=\"text-align: right;\">\n",
       "      <th></th>\n",
       "      <th>cols</th>\n",
       "      <th>fi</th>\n",
       "    </tr>\n",
       "  </thead>\n",
       "  <tbody>\n",
       "    <tr>\n",
       "      <th>11</th>\n",
       "      <td>total_condicion</td>\n",
       "      <td>0.096852</td>\n",
       "    </tr>\n",
       "    <tr>\n",
       "      <th>1</th>\n",
       "      <td>cond_C10</td>\n",
       "      <td>0.084746</td>\n",
       "    </tr>\n",
       "    <tr>\n",
       "      <th>16</th>\n",
       "      <td>preg_34</td>\n",
       "      <td>0.048426</td>\n",
       "    </tr>\n",
       "    <tr>\n",
       "      <th>92</th>\n",
       "      <td>COD_POST_OCURRENCIA_RC_CLUSTER_2019</td>\n",
       "      <td>0.043584</td>\n",
       "    </tr>\n",
       "    <tr>\n",
       "      <th>37</th>\n",
       "      <td>OCUPACION_ASEG</td>\n",
       "      <td>0.041162</td>\n",
       "    </tr>\n",
       "    <tr>\n",
       "      <th>22</th>\n",
       "      <td>CODIGO_REAPERTURA</td>\n",
       "      <td>0.041162</td>\n",
       "    </tr>\n",
       "    <tr>\n",
       "      <th>25</th>\n",
       "      <td>COD_POST_OCURRENCIA</td>\n",
       "      <td>0.038741</td>\n",
       "    </tr>\n",
       "    <tr>\n",
       "      <th>15</th>\n",
       "      <td>preg_33</td>\n",
       "      <td>0.038741</td>\n",
       "    </tr>\n",
       "    <tr>\n",
       "      <th>42</th>\n",
       "      <td>TIPO_SINIESTRO</td>\n",
       "      <td>0.033898</td>\n",
       "    </tr>\n",
       "    <tr>\n",
       "      <th>23</th>\n",
       "      <td>CODIGO_VEHICULO</td>\n",
       "      <td>0.033898</td>\n",
       "    </tr>\n",
       "  </tbody>\n",
       "</table>\n",
       "</div>"
      ],
      "text/plain": [
       "                                   cols        fi\n",
       "11                      total_condicion  0.096852\n",
       "1                              cond_C10  0.084746\n",
       "16                              preg_34  0.048426\n",
       "92  COD_POST_OCURRENCIA_RC_CLUSTER_2019  0.043584\n",
       "37                       OCUPACION_ASEG  0.041162\n",
       "22                    CODIGO_REAPERTURA  0.041162\n",
       "25                  COD_POST_OCURRENCIA  0.038741\n",
       "15                              preg_33  0.038741\n",
       "42                       TIPO_SINIESTRO  0.033898\n",
       "23                      CODIGO_VEHICULO  0.033898"
      ]
     },
     "execution_count": 137,
     "metadata": {},
     "output_type": "execute_result"
    }
   ],
   "source": [
    "rf_fi = pd.DataFrame({'cols':X_train.columns, 'fi':best_model.best_estimator_.feature_importances_}).sort_values('fi', ascending=False)\n",
    "rf_fi[:10]"
   ]
  },
  {
   "cell_type": "code",
   "execution_count": 138,
   "metadata": {},
   "outputs": [
    {
     "data": {
      "image/png": "[encoded data removed]",
      "text/plain": [
       "<Figure size 432x288 with 1 Axes>"
      ]
     },
     "metadata": {
      "needs_background": "light"
     },
     "output_type": "display_data"
    }
   ],
   "source": [
    "rf_fi[:20].plot.bar(x=\"cols\")\n",
    "plt.xticks(rotation=\"vertical\")\n",
    "plt.show()"
   ]
  },
  {
   "cell_type": "code",
   "execution_count": 139,
   "metadata": {},
   "outputs": [
    {
     "name": "stdout",
     "output_type": "stream",
     "text": [
      "# of features: 37 of 94\n"
     ]
    }
   ],
   "source": [
    "to_keep = list(rf_fi[rf_fi[\"fi\"] >=0.005][\"cols\"].values)\n",
    "print(f\"# of features: {len(to_keep)} of {len(rf_fi)}\")"
   ]
  },
  {
   "cell_type": "code",
   "execution_count": 140,
   "metadata": {},
   "outputs": [
    {
     "data": {
      "text/plain": [
       "'to_remove = [\\'COD_POST_POLIZA_RT_CLUSTER_2019\\', \\'COD_POST_OCURRENCIA_RT_CLUSTER_2019\\',\\n             \\'COD_POST_OCURRENCIA_RC_CLUSTER_2019\\',  \\'COD_POST_POLIZA_RC_CLUSTER_2019\\',\\n             \\'COD_POST_OCURRENCIA_DP_CLUSTER_2019\\', \\'COD_POST_POLIZA_DP_CLUSTER_2019\\',\\n             \"COD_CAUSA_SINI\", \\n            ] # \"es_gte_5\", \"total_condicion\", \\n\\nfor col in to_remove:\\n    if(col in to_keep):\\n        to_keep.remove(col)\\nto_keep'"
      ]
     },
     "execution_count": 140,
     "metadata": {},
     "output_type": "execute_result"
    }
   ],
   "source": [
    "\"\"\"to_remove = ['COD_POST_POLIZA_RT_CLUSTER_2019', 'COD_POST_OCURRENCIA_RT_CLUSTER_2019',\n",
    "             'COD_POST_OCURRENCIA_RC_CLUSTER_2019',  'COD_POST_POLIZA_RC_CLUSTER_2019',\n",
    "             'COD_POST_OCURRENCIA_DP_CLUSTER_2019', 'COD_POST_POLIZA_DP_CLUSTER_2019',\n",
    "             \"COD_CAUSA_SINI\", \n",
    "            ] # \"es_gte_5\", \"total_condicion\", \n",
    "\n",
    "for col in to_remove:\n",
    "    if(col in to_keep):\n",
    "        to_keep.remove(col)\n",
    "to_keep\"\"\""
   ]
  },
  {
   "cell_type": "code",
   "execution_count": 141,
   "metadata": {},
   "outputs": [
    {
     "data": {
      "text/plain": [
       "XGBClassifier(base_score=0.5, booster='gbtree', colsample_bylevel=1,\n",
       "              colsample_bytree=1, gamma=0, learning_rate=0.1, max_delta_step=0,\n",
       "              max_depth=3, min_child_weight=1, missing=nan, n_estimators=60,\n",
       "              n_jobs=1, nthread=None, objective='binary:logistic',\n",
       "              random_state=0, reg_alpha=0, reg_lambda=1, scale_pos_weight=10,\n",
       "              seed=0, silent=True, subsample=1)"
      ]
     },
     "execution_count": 141,
     "metadata": {},
     "output_type": "execute_result"
    }
   ],
   "source": [
    "# best model\n",
    "clf.best_estimator_"
   ]
  },
  {
   "cell_type": "code",
   "execution_count": 142,
   "metadata": {},
   "outputs": [],
   "source": [
    "X_train_red = X_train[to_keep].copy()"
   ]
  },
  {
   "cell_type": "code",
   "execution_count": 143,
   "metadata": {},
   "outputs": [
    {
     "name": "stdout",
     "output_type": "stream",
     "text": [
      "37\n"
     ]
    }
   ],
   "source": [
    "print(len(X_train_red.columns))"
   ]
  },
  {
   "cell_type": "markdown",
   "metadata": {},
   "source": [
    "### Training again with less features"
   ]
  },
  {
   "cell_type": "code",
   "execution_count": 144,
   "metadata": {},
   "outputs": [
    {
     "data": {
      "text/plain": [
       "XGBClassifier(base_score=0.5, booster='gbtree', colsample_bylevel=1,\n",
       "              colsample_bytree=1, gamma=0, learning_rate=0.1, max_delta_step=0,\n",
       "              max_depth=3, min_child_weight=1, missing=nan, n_estimators=60,\n",
       "              n_jobs=1, nthread=None, objective='binary:logistic',\n",
       "              random_state=0, reg_alpha=0, reg_lambda=1, scale_pos_weight=10,\n",
       "              seed=0, silent=True, subsample=1)"
      ]
     },
     "execution_count": 144,
     "metadata": {},
     "output_type": "execute_result"
    }
   ],
   "source": [
    "# rf = RandomForestClassifier(n_estimators=40, max_features=0.5, min_samples_leaf=7, random_state=random_state, n_jobs=-1)\n",
    "rf = copy(clf.best_estimator_)\n",
    "rf.fit(X_train_red, y_train)"
   ]
  },
  {
   "cell_type": "code",
   "execution_count": 150,
   "metadata": {},
   "outputs": [
    {
     "data": {
      "text/plain": [
       "(0.4721549636803874, 0.8960415381451778)"
      ]
     },
     "execution_count": 150,
     "metadata": {},
     "output_type": "execute_result"
    }
   ],
   "source": [
    "y_val_pred = rf.predict_proba(X_val[to_keep])[:, 1]\n",
    "y_val_f1_bestFI, y_val_rocauc_bestFI = f1_score(y_val, y_val_pred > 0.5), roc_auc_score(y_val, y_val_pred)\n",
    "y_val_f1_bestFI, y_val_rocauc_bestFI"
   ]
  },
  {
   "cell_type": "code",
   "execution_count": 152,
   "metadata": {},
   "outputs": [
    {
     "data": {
      "text/plain": [
       "array([[4502,  361],\n",
       "       [  75,  195]])"
      ]
     },
     "execution_count": 152,
     "metadata": {},
     "output_type": "execute_result"
    }
   ],
   "source": [
    "confusion_matrix(y_val, y_val_pred > 0.5)"
   ]
  },
  {
   "cell_type": "code",
   "execution_count": 153,
   "metadata": {},
   "outputs": [
    {
     "data": {
      "text/html": [
       "<div>\n",
       "<style scoped>\n",
       "    .dataframe tbody tr th:only-of-type {\n",
       "        vertical-align: middle;\n",
       "    }\n",
       "\n",
       "    .dataframe tbody tr th {\n",
       "        vertical-align: top;\n",
       "    }\n",
       "\n",
       "    .dataframe thead th {\n",
       "        text-align: right;\n",
       "    }\n",
       "</style>\n",
       "<table border=\"1\" class=\"dataframe\">\n",
       "  <thead>\n",
       "    <tr style=\"text-align: right;\">\n",
       "      <th></th>\n",
       "      <th>cols</th>\n",
       "      <th>fi</th>\n",
       "    </tr>\n",
       "  </thead>\n",
       "  <tbody>\n",
       "    <tr>\n",
       "      <th>0</th>\n",
       "      <td>total_condicion</td>\n",
       "      <td>0.083744</td>\n",
       "    </tr>\n",
       "    <tr>\n",
       "      <th>1</th>\n",
       "      <td>cond_C10</td>\n",
       "      <td>0.071429</td>\n",
       "    </tr>\n",
       "    <tr>\n",
       "      <th>17</th>\n",
       "      <td>COD_POST_POLIZA</td>\n",
       "      <td>0.051724</td>\n",
       "    </tr>\n",
       "    <tr>\n",
       "      <th>11</th>\n",
       "      <td>FECHA_SINI_Elapsed</td>\n",
       "      <td>0.051724</td>\n",
       "    </tr>\n",
       "    <tr>\n",
       "      <th>5</th>\n",
       "      <td>CODIGO_REAPERTURA</td>\n",
       "      <td>0.049261</td>\n",
       "    </tr>\n",
       "    <tr>\n",
       "      <th>6</th>\n",
       "      <td>COD_POST_OCURRENCIA</td>\n",
       "      <td>0.046798</td>\n",
       "    </tr>\n",
       "    <tr>\n",
       "      <th>2</th>\n",
       "      <td>preg_34</td>\n",
       "      <td>0.044335</td>\n",
       "    </tr>\n",
       "    <tr>\n",
       "      <th>4</th>\n",
       "      <td>OCUPACION_ASEG</td>\n",
       "      <td>0.044335</td>\n",
       "    </tr>\n",
       "    <tr>\n",
       "      <th>3</th>\n",
       "      <td>COD_POST_OCURRENCIA_RC_CLUSTER_2019</td>\n",
       "      <td>0.041872</td>\n",
       "    </tr>\n",
       "    <tr>\n",
       "      <th>9</th>\n",
       "      <td>CODIGO_VEHICULO</td>\n",
       "      <td>0.041872</td>\n",
       "    </tr>\n",
       "  </tbody>\n",
       "</table>\n",
       "</div>"
      ],
      "text/plain": [
       "                                   cols        fi\n",
       "0                       total_condicion  0.083744\n",
       "1                              cond_C10  0.071429\n",
       "17                      COD_POST_POLIZA  0.051724\n",
       "11                   FECHA_SINI_Elapsed  0.051724\n",
       "5                     CODIGO_REAPERTURA  0.049261\n",
       "6                   COD_POST_OCURRENCIA  0.046798\n",
       "2                               preg_34  0.044335\n",
       "4                        OCUPACION_ASEG  0.044335\n",
       "3   COD_POST_OCURRENCIA_RC_CLUSTER_2019  0.041872\n",
       "9                       CODIGO_VEHICULO  0.041872"
      ]
     },
     "execution_count": 153,
     "metadata": {},
     "output_type": "execute_result"
    }
   ],
   "source": [
    "rf_fi = pd.DataFrame({'cols':X_train_red.columns, 'fi':rf.feature_importances_}).sort_values('fi', ascending=False)\n",
    "rf_fi[:10]"
   ]
  },
  {
   "cell_type": "code",
   "execution_count": 154,
   "metadata": {},
   "outputs": [
    {
     "data": {
      "image/png": "[encoded data removed]",
      "text/plain": [
       "<Figure size 432x288 with 1 Axes>"
      ]
     },
     "metadata": {
      "needs_background": "light"
     },
     "output_type": "display_data"
    }
   ],
   "source": [
    "rf_fi[:20].plot.bar(x=\"cols\")\n",
    "plt.xticks(rotation=\"vertical\")\n",
    "plt.show()"
   ]
  },
  {
   "cell_type": "code",
   "execution_count": null,
   "metadata": {},
   "outputs": [],
   "source": [
    "# best columns used\n",
    "rf_fi[\"cols\"].values"
   ]
  },
  {
   "cell_type": "markdown",
   "metadata": {},
   "source": [
    "# final model"
   ]
  },
  {
   "cell_type": "code",
   "execution_count": null,
   "metadata": {},
   "outputs": [],
   "source": [
    "# reset_rf_samples()"
   ]
  },
  {
   "cell_type": "markdown",
   "metadata": {},
   "source": [
    "## full features final model"
   ]
  },
  {
   "cell_type": "code",
   "execution_count": 39,
   "metadata": {},
   "outputs": [
    {
     "data": {
      "text/plain": [
       "ExtraTreesClassifier(bootstrap=False, class_weight=None, criterion='gini',\n",
       "           max_depth=10, max_features='sqrt', max_leaf_nodes=None,\n",
       "           min_impurity_decrease=0.0, min_impurity_split=None,\n",
       "           min_samples_leaf=7, min_samples_split=2,\n",
       "           min_weight_fraction_leaf=0.0, n_estimators=200, n_jobs=-1,\n",
       "           oob_score=False, random_state=0, verbose=0, warm_start=False)"
      ]
     },
     "execution_count": 39,
     "metadata": {},
     "output_type": "execute_result"
    }
   ],
   "source": [
    "rf_full = copy(best_model.best_estimator_)\n",
    "rf_full.fit(X_full_train, y_full_train)"
   ]
  },
  {
   "cell_type": "code",
   "execution_count": 40,
   "metadata": {},
   "outputs": [
    {
     "name": "stdout",
     "output_type": "stream",
     "text": [
      "0.746, 0.738\n"
     ]
    }
   ],
   "source": [
    "y_val_pred = rf_full.predict(X_val)\n",
    "y_val_f1_bestFI = f1_score(y_val, y_val_pred)\n",
    "y_val_rocauc_bestFI = roc_auc_score(y_val, rf_full.predict_proba(X_val)[:, -1])\n",
    "metric_results = \"%.3f, %.3f\" % (y_val_f1_bestFI, y_val_rocauc_bestFI)\n",
    "print(metric_results)"
   ]
  },
  {
   "cell_type": "code",
   "execution_count": 41,
   "metadata": {},
   "outputs": [
    {
     "data": {
      "text/plain": [
       "array([[118, 145],\n",
       "       [ 39, 270]])"
      ]
     },
     "execution_count": 41,
     "metadata": {},
     "output_type": "execute_result"
    }
   ],
   "source": [
    "conf_mat = confusion_matrix(y_val, y_val_pred)\n",
    "conf_mat"
   ]
  },
  {
   "cell_type": "code",
   "execution_count": 42,
   "metadata": {},
   "outputs": [
    {
     "data": {
      "text/plain": [
       "<matplotlib.axes._subplots.AxesSubplot at 0x7f1082341dd8>"
      ]
     },
     "execution_count": 42,
     "metadata": {},
     "output_type": "execute_result"
    },
    {
     "data": {
      "image/png": "[encoded data removed]",
      "text/plain": [
       "<Figure size 432x288 with 2 Axes>"
      ]
     },
     "metadata": {},
     "output_type": "display_data"
    }
   ],
   "source": [
    "sns.heatmap(conf_mat, annot=True, fmt=\"d\")"
   ]
  },
  {
   "cell_type": "markdown",
   "metadata": {
    "heading_collapsed": true
   },
   "source": [
    "## red features final model"
   ]
  },
  {
   "cell_type": "code",
   "execution_count": 63,
   "metadata": {
    "hidden": true
   },
   "outputs": [
    {
     "data": {
      "text/plain": [
       "ExtraTreesClassifier(bootstrap=False, class_weight={0: 1, 1: 10},\n",
       "           criterion='gini', max_depth=10, max_features='auto',\n",
       "           max_leaf_nodes=None, min_impurity_decrease=0.0,\n",
       "           min_impurity_split=None, min_samples_leaf=15,\n",
       "           min_samples_split=2, min_weight_fraction_leaf=0.0,\n",
       "           n_estimators=200, n_jobs=-1, oob_score=False, random_state=0,\n",
       "           verbose=0, warm_start=False)"
      ]
     },
     "execution_count": 63,
     "metadata": {},
     "output_type": "execute_result"
    }
   ],
   "source": [
    "rf_full = copy(clf.best_estimator_)\n",
    "rf_full.fit(X_full_train[to_keep], y_full_train)"
   ]
  },
  {
   "cell_type": "code",
   "execution_count": 64,
   "metadata": {
    "hidden": true
   },
   "outputs": [
    {
     "name": "stdout",
     "output_type": "stream",
     "text": [
      "0.469, 0.893\n"
     ]
    }
   ],
   "source": [
    "y_val_pred_prob = rf_full.predict_proba(X_val[to_keep])[:, -1]\n",
    "y_val_pred = y_val_pred_prob > 0.5\n",
    "y_val_f1_bestFI = f1_score(y_val, y_val_pred)\n",
    "y_val_rocauc_bestFI = roc_auc_score(y_val, y_val_pred_prob)\n",
    "metric_results = \"%.3f, %.3f\" % (y_val_f1_bestFI, y_val_rocauc_bestFI)\n",
    "print(metric_results)"
   ]
  },
  {
   "cell_type": "code",
   "execution_count": 65,
   "metadata": {
    "hidden": true
   },
   "outputs": [
    {
     "data": {
      "text/plain": [
       "array([[4500,  363],\n",
       "       [  76,  194]])"
      ]
     },
     "execution_count": 65,
     "metadata": {},
     "output_type": "execute_result"
    }
   ],
   "source": [
    "conf_mat = confusion_matrix(y_val, y_val_pred)\n",
    "conf_mat"
   ]
  },
  {
   "cell_type": "code",
   "execution_count": 66,
   "metadata": {
    "hidden": true
   },
   "outputs": [
    {
     "data": {
      "text/plain": [
       "<matplotlib.axes._subplots.AxesSubplot at 0x7f67bde91d68>"
      ]
     },
     "execution_count": 66,
     "metadata": {},
     "output_type": "execute_result"
    },
    {
     "data": {
      "image/png": "[encoded data removed]",
      "text/plain": [
       "<Figure size 432x288 with 2 Axes>"
      ]
     },
     "metadata": {},
     "output_type": "display_data"
    }
   ],
   "source": [
    "sns.heatmap(conf_mat, annot=True, fmt=\"d\")"
   ]
  },
  {
   "cell_type": "markdown",
   "metadata": {
    "heading_collapsed": true
   },
   "source": [
    "## Tronador (sum cond >=5) comparison"
   ]
  },
  {
   "cell_type": "code",
   "execution_count": 59,
   "metadata": {
    "hidden": true
   },
   "outputs": [
    {
     "name": "stdout",
     "output_type": "stream",
     "text": [
      "(0.470873786407767,0.8222450704868967)\n"
     ]
    }
   ],
   "source": [
    "# comparing against > 5 logic\n",
    "y_tronador = X_val[\"total_condicion\"] >= 5\n",
    "print(f\"({f1_score(y_val, y_tronador)},{roc_auc_score(y_val, y_tronador)})\")"
   ]
  },
  {
   "cell_type": "code",
   "execution_count": 60,
   "metadata": {
    "hidden": true
   },
   "outputs": [
    {
     "data": {
      "text/plain": [
       "array([[4503,  360],\n",
       "       [  76,  194]])"
      ]
     },
     "execution_count": 60,
     "metadata": {},
     "output_type": "execute_result"
    }
   ],
   "source": [
    "conf_mat = confusion_matrix(y_val, y_tronador)\n",
    "conf_mat"
   ]
  },
  {
   "cell_type": "code",
   "execution_count": 61,
   "metadata": {
    "hidden": true
   },
   "outputs": [
    {
     "data": {
      "text/plain": [
       "<matplotlib.axes._subplots.AxesSubplot at 0x7f02993d9828>"
      ]
     },
     "execution_count": 61,
     "metadata": {},
     "output_type": "execute_result"
    },
    {
     "data": {
      "image/png": "[encoded data removed]",
      "text/plain": [
       "<Figure size 432x288 with 2 Axes>"
      ]
     },
     "metadata": {},
     "output_type": "display_data"
    }
   ],
   "source": [
    "sns.heatmap(conf_mat, annot=True, fmt=\"d\")"
   ]
  },
  {
   "cell_type": "code",
   "execution_count": null,
   "metadata": {
    "hidden": true
   },
   "outputs": [],
   "source": []
  },
  {
   "cell_type": "markdown",
   "metadata": {},
   "source": [
    "# Saving final model & columns used into hard drive"
   ]
  },
  {
   "cell_type": "code",
   "execution_count": 51,
   "metadata": {},
   "outputs": [],
   "source": [
    "path_to_save = \"../../src/models/1.1 - df_train 01-18to12-18/\"\n",
    "model_file = os.path.join(path_to_save, f\"{model_id}(Model) - Model Optimization {metric} - class_weight {(rf_full.class_weight[0], rf_full.class_weight[1])} - time sorted - valid score ({metric_results}).pickle\")\n",
    "\n",
    "with open(model_file, \"wb\") as f:\n",
    "    pickle.dump(rf_full, f, pickle.HIGHEST_PROTOCOL)"
   ]
  },
  {
   "cell_type": "code",
   "execution_count": 52,
   "metadata": {},
   "outputs": [],
   "source": [
    "# save file for humans\n",
    "# model_file = \"../../models/1.0 - df_train with nan 01-17to12-18/1.0 - Model for humans - Model Optimization - class_weight balanced - time sorted - valid score (0.696, 0.999).pickle\"\n",
    "\n",
    "# with open(model_file, \"wb\") as f:\n",
    "#    pickle.dump(rf_full, f, 0) # 0 is human readable format"
   ]
  },
  {
   "cell_type": "code",
   "execution_count": 53,
   "metadata": {},
   "outputs": [
    {
     "name": "stdout",
     "output_type": "stream",
     "text": [
      "['cond_C10', 'TIPO_EXPED', 'preg_15', 'es_gte_5', 'preg_31', 'preg_33', 'cond_32', 'preg_32', 'cond_C11', 'cond_C12', 'cond_C2', 'METRO', 'SEXO_TERC', 'OCUPACION_ASEG', 'FALTANTE', 'preg_34', 'cond_C5']\n"
     ]
    }
   ],
   "source": [
    "# merging list input & target\n",
    "full_cols = list(to_keep)  # + [\"EXISTE_FRAUDE\"]\n",
    "print(full_cols)"
   ]
  },
  {
   "cell_type": "code",
   "execution_count": 54,
   "metadata": {},
   "outputs": [],
   "source": [
    "path_to_save = \"../../src/features/1.1 - df_train 01-18to12-18/\"\n",
    "columns_file = os.path.join(path_to_save, f\"{model_id} (COLUMNS) - features: {len(full_cols)}.pickle\")\n",
    "\n",
    "with open(columns_file, \"wb\") as file:\n",
    "    pickle.dump(full_cols, file, pickle.HIGHEST_PROTOCOL)"
   ]
  },
  {
   "cell_type": "code",
   "execution_count": 81,
   "metadata": {},
   "outputs": [],
   "source": [
    "# saving to use as example a few rows to implement the model\n",
    "# path_to_save = \"../../src/data/1.1 - df_train 01-18to12-18/\"\n",
    "# sample_file = os.path.join(path_to_save, f\"{model_id} (sample)  - dataset example to predict model.csv\")\n",
    "\n",
    "# df_example = X_val.loc[:, to_keep][-50:]\n",
    "# df_example[\"EXISTE_FRAUDE\"] = y_val[-50:]\n",
    "# df_example.to_csv(sample_file)"
   ]
  },
  {
   "cell_type": "code",
   "execution_count": null,
   "metadata": {},
   "outputs": [],
   "source": [
    "# df_example.head()"
   ]
  },
  {
   "cell_type": "markdown",
   "metadata": {},
   "source": [
    "# Test prediction"
   ]
  },
  {
   "cell_type": "code",
   "execution_count": 58,
   "metadata": {},
   "outputs": [
    {
     "name": "stderr",
     "output_type": "stream",
     "text": [
      "/home/voolkia/anaconda3/lib/python3.6/site-packages/pyarrow/pandas_compat.py:752: FutureWarning: .labels was deprecated in version 0.24.0. Use .codes instead.\n",
      "  labels, = index.labels\n"
     ]
    }
   ],
   "source": [
    "df_test = pd.read_feather(os.path.join(path, \"1.2.b - group zone - 01-17 to 01-19 - df_test 04-19to04-19.feather\"))"
   ]
  },
  {
   "cell_type": "code",
   "execution_count": 59,
   "metadata": {},
   "outputs": [],
   "source": [
    "# Loding the model\n",
    "\n",
    "def load_model(file_name):\n",
    "    \"\"\"Load the dump model.\"\"\"\n",
    "    folder = \"models\"\n",
    "    path_to_load = f\"../../src/{folder}/1.1 - df_train 01-18to12-18\"\n",
    "    model_file = os.path.join(path_to_load, file_name)\n",
    "\n",
    "    with open(model_file, \"rb\") as file:\n",
    "        m = pickle.load(file)\n",
    "    return m\n",
    "\n",
    "\n",
    "def load_columns(file_name):\n",
    "    \"\"\"Load the array of columns use in the dump model.\"\"\"\n",
    "    folder = \"features\"\n",
    "    path_to_load = f\"../../src/{folder}/1.1 - df_train 01-18to12-18\"\n",
    "    columns_file = os.path.join(path_to_load, file_name)\n",
    "\n",
    "    with open(columns_file, \"rb\") as file:\n",
    "        columns = pickle.load(file)\n",
    "    return columns"
   ]
  },
  {
   "cell_type": "code",
   "execution_count": 47,
   "metadata": {},
   "outputs": [],
   "source": [
    "model_name = \"1.1.b.2.f(Model) - Model Optimization recall - class_weight (1, 18) - time sorted - valid score (0.403, 0.972).pickle\"\n",
    "columns_name = \"1.1.b.2.f (COLUMNS) - features: 17.pickle\"\n",
    "m = load_model(model_name)\n",
    "columns = load_columns(columns_name)"
   ]
  },
  {
   "cell_type": "code",
   "execution_count": 60,
   "metadata": {},
   "outputs": [],
   "source": [
    "X_test = df_test[X_train.columns]\n",
    "y_test = df_test[\"EXISTE_FRAUDE\"]"
   ]
  },
  {
   "cell_type": "code",
   "execution_count": 61,
   "metadata": {},
   "outputs": [
    {
     "data": {
      "text/html": [
       "<div>\n",
       "<style scoped>\n",
       "    .dataframe tbody tr th:only-of-type {\n",
       "        vertical-align: middle;\n",
       "    }\n",
       "\n",
       "    .dataframe tbody tr th {\n",
       "        vertical-align: top;\n",
       "    }\n",
       "\n",
       "    .dataframe thead th {\n",
       "        text-align: right;\n",
       "    }\n",
       "</style>\n",
       "<table border=\"1\" class=\"dataframe\">\n",
       "  <thead>\n",
       "    <tr style=\"text-align: right;\">\n",
       "      <th></th>\n",
       "      <th>cond_04</th>\n",
       "      <th>cond_05</th>\n",
       "      <th>cond_06</th>\n",
       "      <th>cond_09</th>\n",
       "      <th>cond_11</th>\n",
       "      <th>cond_12</th>\n",
       "      <th>cond_32</th>\n",
       "      <th>cond_37</th>\n",
       "      <th>cond_C1</th>\n",
       "      <th>cond_C10</th>\n",
       "      <th>cond_C11</th>\n",
       "      <th>cond_C12</th>\n",
       "      <th>cond_C13</th>\n",
       "      <th>cond_C14</th>\n",
       "      <th>cond_C15</th>\n",
       "      <th>cond_C16</th>\n",
       "      <th>cond_C17</th>\n",
       "      <th>cond_C18</th>\n",
       "      <th>cond_C19</th>\n",
       "      <th>cond_C2</th>\n",
       "      <th>cond_C20</th>\n",
       "      <th>cond_C21</th>\n",
       "      <th>cond_C3</th>\n",
       "      <th>cond_C4</th>\n",
       "      <th>cond_C5</th>\n",
       "      <th>cond_C6</th>\n",
       "      <th>cond_C7</th>\n",
       "      <th>cond_C8</th>\n",
       "      <th>cond_C9</th>\n",
       "      <th>total_condicion</th>\n",
       "      <th>es_gte_5</th>\n",
       "      <th>preg_1</th>\n",
       "      <th>preg_2</th>\n",
       "      <th>preg_3</th>\n",
       "      <th>preg_4</th>\n",
       "      <th>preg_5</th>\n",
       "      <th>preg_6</th>\n",
       "      <th>preg_7</th>\n",
       "      <th>preg_8</th>\n",
       "      <th>preg_9</th>\n",
       "      <th>preg_10</th>\n",
       "      <th>preg_11</th>\n",
       "      <th>preg_12</th>\n",
       "      <th>preg_15</th>\n",
       "      <th>preg_16</th>\n",
       "      <th>preg_18</th>\n",
       "      <th>preg_19</th>\n",
       "      <th>preg_22</th>\n",
       "      <th>preg_24</th>\n",
       "      <th>preg_27</th>\n",
       "      <th>preg_28</th>\n",
       "      <th>preg_30</th>\n",
       "      <th>preg_31</th>\n",
       "      <th>preg_32</th>\n",
       "      <th>preg_33</th>\n",
       "      <th>preg_34</th>\n",
       "      <th>preg_36</th>\n",
       "      <th>preg_37</th>\n",
       "      <th>CATASTROFICO</th>\n",
       "      <th>CERRADURA_BAUL</th>\n",
       "      <th>CERRADURA_DERECHA</th>\n",
       "      <th>CERRADURA_IZQUIERDA</th>\n",
       "      <th>CODIGO_BAJA</th>\n",
       "      <th>CODIGO_CARATULA</th>\n",
       "      <th>CODIGO_REAPERTURA</th>\n",
       "      <th>CODIGO_VEHICULO</th>\n",
       "      <th>COD_CAUSA_SINI</th>\n",
       "      <th>COD_POST_OCURRENCIA</th>\n",
       "      <th>COD_POST_POLIZA</th>\n",
       "      <th>COD_POST_TERC</th>\n",
       "      <th>COD_RAMO_sini</th>\n",
       "      <th>COD_RIES_sini</th>\n",
       "      <th>CONDICION_ROBO_EXP50</th>\n",
       "      <th>DANOS_MATERIALES</th>\n",
       "      <th>DESCRIPCION_TIPO</th>\n",
       "      <th>ESTADO_CIVIL</th>\n",
       "      <th>ESTADO_CIVIL_TERC</th>\n",
       "      <th>ESTAD_VEH_ASEG</th>\n",
       "      <th>FALTANTE</th>\n",
       "      <th>MCA_COASEG</th>\n",
       "      <th>MCA_JUICIO</th>\n",
       "      <th>MCA_VIP</th>\n",
       "      <th>METRO</th>\n",
       "      <th>OCUPACION_ASEG</th>\n",
       "      <th>SEXO</th>\n",
       "      <th>SEXO_TERC</th>\n",
       "      <th>TELEFONO_TERC</th>\n",
       "      <th>TIPO</th>\n",
       "      <th>TIPO_EXPED</th>\n",
       "      <th>TIPO_LESION</th>\n",
       "      <th>TIPO_LESION_MAXIMA</th>\n",
       "      <th>TIPO_SINIESTRO</th>\n",
       "      <th>USO</th>\n",
       "      <th>dias_entre_denu_y_sini</th>\n",
       "      <th>dist_fformal_fsini</th>\n",
       "      <th>dist_fformal_fdenu</th>\n",
       "      <th>existe_FECHA_FORMAL</th>\n",
       "      <th>CANT_RENOVACION</th>\n",
       "      <th>CAPITAL_ACCESORIOS</th>\n",
       "      <th>CAPITAL_ASEGURADO_COTIZACION</th>\n",
       "      <th>CAPITAL_VEHICULO</th>\n",
       "      <th>COD_COBRO</th>\n",
       "      <th>COD_COBRO_ANTERIOR</th>\n",
       "      <th>COD_PROD</th>\n",
       "      <th>COD_ZONA_CASCO</th>\n",
       "      <th>COD_ZONA_RC</th>\n",
       "      <th>COD_ZONA_ROBO</th>\n",
       "      <th>CONV_COMISIONARIO</th>\n",
       "      <th>CIF_ID</th>\n",
       "      <th>MCA_AGRAVANTE</th>\n",
       "      <th>MCA_EMPLEADO</th>\n",
       "      <th>MCA_MOVIMIENTO</th>\n",
       "      <th>MCA_POLIZA_VIP</th>\n",
       "      <th>NEGOCIO</th>\n",
       "      <th>PRENDARIO</th>\n",
       "      <th>SEGMENTO</th>\n",
       "      <th>cambio_cobro</th>\n",
       "      <th>ANTIG_pol</th>\n",
       "      <th>COD_EST_CIVIL</th>\n",
       "      <th>TIPO_ACTIVIDAD</th>\n",
       "      <th>CLIENTE</th>\n",
       "      <th>CODIGO_NACION</th>\n",
       "      <th>DATECO_TIPO_ACTIVIDAD</th>\n",
       "      <th>DOMICILIO_CODIGO_POSTAL</th>\n",
       "      <th>HABILITADO</th>\n",
       "      <th>FECHA_SINI_Year</th>\n",
       "      <th>FECHA_SINI_Month</th>\n",
       "      <th>FECHA_SINI_Week</th>\n",
       "      <th>FECHA_SINI_Day</th>\n",
       "      <th>FECHA_SINI_Dayofweek</th>\n",
       "      <th>FECHA_SINI_Dayofyear</th>\n",
       "      <th>FECHA_SINI_Is_month_end</th>\n",
       "      <th>FECHA_SINI_Is_month_start</th>\n",
       "      <th>FECHA_SINI_Is_quarter_end</th>\n",
       "      <th>FECHA_SINI_Is_quarter_start</th>\n",
       "      <th>FECHA_SINI_Is_year_end</th>\n",
       "      <th>FECHA_SINI_Is_year_start</th>\n",
       "      <th>FECHA_SINI_Hour</th>\n",
       "      <th>FECHA_SINI_Minute</th>\n",
       "      <th>FECHA_SINI_Second</th>\n",
       "      <th>FECHA_SINI_Elapsed</th>\n",
       "      <th>cant_pol</th>\n",
       "      <th>cant_sini_1y</th>\n",
       "      <th>COD_POST_POLIZA_DP_CLUSTER_2019</th>\n",
       "      <th>COD_POST_POLIZA_RT_CLUSTER_2019</th>\n",
       "      <th>COD_POST_POLIZA_RC_CLUSTER_2019</th>\n",
       "      <th>COD_POST_OCURRENCIA_DP_CLUSTER_2019</th>\n",
       "      <th>COD_POST_OCURRENCIA_RT_CLUSTER_2019</th>\n",
       "      <th>COD_POST_OCURRENCIA_RC_CLUSTER_2019</th>\n",
       "      <th>COD_POST_TERC_DP_CLUSTER_2019</th>\n",
       "      <th>COD_POST_TERC_RT_CLUSTER_2019</th>\n",
       "      <th>COD_POST_TERC_RC_CLUSTER_2019</th>\n",
       "    </tr>\n",
       "  </thead>\n",
       "  <tbody>\n",
       "    <tr>\n",
       "      <th>0</th>\n",
       "      <td>-1.0</td>\n",
       "      <td>-1.0</td>\n",
       "      <td>-1.0</td>\n",
       "      <td>-1.0</td>\n",
       "      <td>-1.0</td>\n",
       "      <td>-1.0</td>\n",
       "      <td>-1.0</td>\n",
       "      <td>-1.0</td>\n",
       "      <td>-1.0</td>\n",
       "      <td>-1.0</td>\n",
       "      <td>-1.0</td>\n",
       "      <td>-1.0</td>\n",
       "      <td>0.0</td>\n",
       "      <td>-1.0</td>\n",
       "      <td>0.0</td>\n",
       "      <td>0.0</td>\n",
       "      <td>-1.0</td>\n",
       "      <td>-1.0</td>\n",
       "      <td>-1.0</td>\n",
       "      <td>-1.0</td>\n",
       "      <td>-1.0</td>\n",
       "      <td>-1.0</td>\n",
       "      <td>-1.0</td>\n",
       "      <td>-1.0</td>\n",
       "      <td>-1.0</td>\n",
       "      <td>-1.0</td>\n",
       "      <td>-1.0</td>\n",
       "      <td>-1.0</td>\n",
       "      <td>-1.0</td>\n",
       "      <td>0.0</td>\n",
       "      <td>False</td>\n",
       "      <td>-1</td>\n",
       "      <td>-1</td>\n",
       "      <td>-1</td>\n",
       "      <td>-1</td>\n",
       "      <td>-1</td>\n",
       "      <td>-1</td>\n",
       "      <td>-1</td>\n",
       "      <td>-1</td>\n",
       "      <td>-1</td>\n",
       "      <td>-1</td>\n",
       "      <td>-1</td>\n",
       "      <td>-1</td>\n",
       "      <td>-1</td>\n",
       "      <td>-1</td>\n",
       "      <td>-1</td>\n",
       "      <td>-1</td>\n",
       "      <td>-1</td>\n",
       "      <td>-1</td>\n",
       "      <td>-1</td>\n",
       "      <td>-1</td>\n",
       "      <td>-1</td>\n",
       "      <td>-1</td>\n",
       "      <td>-1</td>\n",
       "      <td>-1</td>\n",
       "      <td>-1</td>\n",
       "      <td>-1</td>\n",
       "      <td>-1</td>\n",
       "      <td>0</td>\n",
       "      <td>0</td>\n",
       "      <td>0</td>\n",
       "      <td>0</td>\n",
       "      <td>-1.0</td>\n",
       "      <td>-1.0</td>\n",
       "      <td>-1.0</td>\n",
       "      <td>18380.0</td>\n",
       "      <td>226.0</td>\n",
       "      <td>1439.0</td>\n",
       "      <td>1439.0</td>\n",
       "      <td>-1.0</td>\n",
       "      <td>1.0</td>\n",
       "      <td>1.0</td>\n",
       "      <td>-1.0</td>\n",
       "      <td>0</td>\n",
       "      <td>3</td>\n",
       "      <td>0</td>\n",
       "      <td>-1</td>\n",
       "      <td>5.0</td>\n",
       "      <td>1</td>\n",
       "      <td>0</td>\n",
       "      <td>-1</td>\n",
       "      <td>1</td>\n",
       "      <td>1</td>\n",
       "      <td>44.0</td>\n",
       "      <td>1</td>\n",
       "      <td>-1</td>\n",
       "      <td>-1</td>\n",
       "      <td>3.0</td>\n",
       "      <td>3</td>\n",
       "      <td>-1</td>\n",
       "      <td>-1</td>\n",
       "      <td>5</td>\n",
       "      <td>1.0</td>\n",
       "      <td>0.0</td>\n",
       "      <td>-1.0</td>\n",
       "      <td>-1.0</td>\n",
       "      <td>0</td>\n",
       "      <td>24.0</td>\n",
       "      <td>8</td>\n",
       "      <td>2293</td>\n",
       "      <td>4514</td>\n",
       "      <td>0</td>\n",
       "      <td>0</td>\n",
       "      <td>73747.0</td>\n",
       "      <td>1.0</td>\n",
       "      <td>1.0</td>\n",
       "      <td>3.0</td>\n",
       "      <td>23</td>\n",
       "      <td>-1.0</td>\n",
       "      <td>0</td>\n",
       "      <td>0</td>\n",
       "      <td>-1</td>\n",
       "      <td>1</td>\n",
       "      <td>21</td>\n",
       "      <td>0</td>\n",
       "      <td>5</td>\n",
       "      <td>0</td>\n",
       "      <td>699.0</td>\n",
       "      <td>-1</td>\n",
       "      <td>-1</td>\n",
       "      <td>-1</td>\n",
       "      <td>-1</td>\n",
       "      <td>-1</td>\n",
       "      <td>-1.0</td>\n",
       "      <td>-1</td>\n",
       "      <td>2019.0</td>\n",
       "      <td>4.0</td>\n",
       "      <td>14.0</td>\n",
       "      <td>1.0</td>\n",
       "      <td>0.0</td>\n",
       "      <td>91.0</td>\n",
       "      <td>0.0</td>\n",
       "      <td>1.0</td>\n",
       "      <td>0.0</td>\n",
       "      <td>1.0</td>\n",
       "      <td>0.0</td>\n",
       "      <td>0.0</td>\n",
       "      <td>0.0</td>\n",
       "      <td>0.0</td>\n",
       "      <td>0.0</td>\n",
       "      <td>1554076800</td>\n",
       "      <td>0.0</td>\n",
       "      <td>0.0</td>\n",
       "      <td>28.0</td>\n",
       "      <td>8.0</td>\n",
       "      <td>26.0</td>\n",
       "      <td>28.0</td>\n",
       "      <td>8.0</td>\n",
       "      <td>26.0</td>\n",
       "      <td>-1.0</td>\n",
       "      <td>-1.0</td>\n",
       "      <td>-1.0</td>\n",
       "    </tr>\n",
       "    <tr>\n",
       "      <th>1</th>\n",
       "      <td>-1.0</td>\n",
       "      <td>-1.0</td>\n",
       "      <td>-1.0</td>\n",
       "      <td>-1.0</td>\n",
       "      <td>-1.0</td>\n",
       "      <td>-1.0</td>\n",
       "      <td>-1.0</td>\n",
       "      <td>-1.0</td>\n",
       "      <td>-1.0</td>\n",
       "      <td>-1.0</td>\n",
       "      <td>-1.0</td>\n",
       "      <td>-1.0</td>\n",
       "      <td>0.0</td>\n",
       "      <td>-1.0</td>\n",
       "      <td>0.0</td>\n",
       "      <td>0.0</td>\n",
       "      <td>-1.0</td>\n",
       "      <td>-1.0</td>\n",
       "      <td>-1.0</td>\n",
       "      <td>-1.0</td>\n",
       "      <td>-1.0</td>\n",
       "      <td>-1.0</td>\n",
       "      <td>-1.0</td>\n",
       "      <td>-1.0</td>\n",
       "      <td>-1.0</td>\n",
       "      <td>-1.0</td>\n",
       "      <td>-1.0</td>\n",
       "      <td>-1.0</td>\n",
       "      <td>-1.0</td>\n",
       "      <td>0.0</td>\n",
       "      <td>False</td>\n",
       "      <td>-1</td>\n",
       "      <td>-1</td>\n",
       "      <td>-1</td>\n",
       "      <td>-1</td>\n",
       "      <td>-1</td>\n",
       "      <td>-1</td>\n",
       "      <td>-1</td>\n",
       "      <td>-1</td>\n",
       "      <td>-1</td>\n",
       "      <td>-1</td>\n",
       "      <td>-1</td>\n",
       "      <td>-1</td>\n",
       "      <td>-1</td>\n",
       "      <td>-1</td>\n",
       "      <td>-1</td>\n",
       "      <td>-1</td>\n",
       "      <td>-1</td>\n",
       "      <td>-1</td>\n",
       "      <td>-1</td>\n",
       "      <td>-1</td>\n",
       "      <td>-1</td>\n",
       "      <td>-1</td>\n",
       "      <td>-1</td>\n",
       "      <td>-1</td>\n",
       "      <td>-1</td>\n",
       "      <td>-1</td>\n",
       "      <td>-1</td>\n",
       "      <td>0</td>\n",
       "      <td>0</td>\n",
       "      <td>0</td>\n",
       "      <td>0</td>\n",
       "      <td>-1.0</td>\n",
       "      <td>-1.0</td>\n",
       "      <td>-1.0</td>\n",
       "      <td>6846.0</td>\n",
       "      <td>226.0</td>\n",
       "      <td>1708.0</td>\n",
       "      <td>1684.0</td>\n",
       "      <td>-1.0</td>\n",
       "      <td>1.0</td>\n",
       "      <td>1.0</td>\n",
       "      <td>-1.0</td>\n",
       "      <td>0</td>\n",
       "      <td>3</td>\n",
       "      <td>0</td>\n",
       "      <td>-1</td>\n",
       "      <td>3.0</td>\n",
       "      <td>1</td>\n",
       "      <td>0</td>\n",
       "      <td>-1</td>\n",
       "      <td>1</td>\n",
       "      <td>1</td>\n",
       "      <td>5.0</td>\n",
       "      <td>1</td>\n",
       "      <td>-1</td>\n",
       "      <td>-1</td>\n",
       "      <td>3.0</td>\n",
       "      <td>3</td>\n",
       "      <td>-1</td>\n",
       "      <td>-1</td>\n",
       "      <td>5</td>\n",
       "      <td>1.0</td>\n",
       "      <td>0.0</td>\n",
       "      <td>-1.0</td>\n",
       "      <td>-1.0</td>\n",
       "      <td>0</td>\n",
       "      <td>41.0</td>\n",
       "      <td>8</td>\n",
       "      <td>1985</td>\n",
       "      <td>3913</td>\n",
       "      <td>0</td>\n",
       "      <td>0</td>\n",
       "      <td>5350.0</td>\n",
       "      <td>1.0</td>\n",
       "      <td>1.0</td>\n",
       "      <td>1.0</td>\n",
       "      <td>107</td>\n",
       "      <td>-1.0</td>\n",
       "      <td>0</td>\n",
       "      <td>0</td>\n",
       "      <td>-1</td>\n",
       "      <td>1</td>\n",
       "      <td>21</td>\n",
       "      <td>0</td>\n",
       "      <td>4</td>\n",
       "      <td>0</td>\n",
       "      <td>1216.0</td>\n",
       "      <td>-1</td>\n",
       "      <td>-1</td>\n",
       "      <td>-1</td>\n",
       "      <td>-1</td>\n",
       "      <td>-1</td>\n",
       "      <td>-1.0</td>\n",
       "      <td>-1</td>\n",
       "      <td>2019.0</td>\n",
       "      <td>4.0</td>\n",
       "      <td>14.0</td>\n",
       "      <td>1.0</td>\n",
       "      <td>0.0</td>\n",
       "      <td>91.0</td>\n",
       "      <td>0.0</td>\n",
       "      <td>1.0</td>\n",
       "      <td>0.0</td>\n",
       "      <td>1.0</td>\n",
       "      <td>0.0</td>\n",
       "      <td>0.0</td>\n",
       "      <td>0.0</td>\n",
       "      <td>0.0</td>\n",
       "      <td>0.0</td>\n",
       "      <td>1554076800</td>\n",
       "      <td>0.0</td>\n",
       "      <td>0.0</td>\n",
       "      <td>25.0</td>\n",
       "      <td>8.0</td>\n",
       "      <td>26.0</td>\n",
       "      <td>25.0</td>\n",
       "      <td>8.0</td>\n",
       "      <td>26.0</td>\n",
       "      <td>-1.0</td>\n",
       "      <td>-1.0</td>\n",
       "      <td>-1.0</td>\n",
       "    </tr>\n",
       "    <tr>\n",
       "      <th>2</th>\n",
       "      <td>-1.0</td>\n",
       "      <td>-1.0</td>\n",
       "      <td>-1.0</td>\n",
       "      <td>-1.0</td>\n",
       "      <td>-1.0</td>\n",
       "      <td>0.0</td>\n",
       "      <td>-1.0</td>\n",
       "      <td>-1.0</td>\n",
       "      <td>0.0</td>\n",
       "      <td>-1.0</td>\n",
       "      <td>-1.0</td>\n",
       "      <td>-1.0</td>\n",
       "      <td>0.0</td>\n",
       "      <td>0.0</td>\n",
       "      <td>1.0</td>\n",
       "      <td>0.0</td>\n",
       "      <td>-1.0</td>\n",
       "      <td>-1.0</td>\n",
       "      <td>-1.0</td>\n",
       "      <td>3.0</td>\n",
       "      <td>-1.0</td>\n",
       "      <td>-1.0</td>\n",
       "      <td>0.0</td>\n",
       "      <td>0.0</td>\n",
       "      <td>0.0</td>\n",
       "      <td>-1.0</td>\n",
       "      <td>-1.0</td>\n",
       "      <td>-1.0</td>\n",
       "      <td>-1.0</td>\n",
       "      <td>4.0</td>\n",
       "      <td>False</td>\n",
       "      <td>-1</td>\n",
       "      <td>-1</td>\n",
       "      <td>-1</td>\n",
       "      <td>-1</td>\n",
       "      <td>-1</td>\n",
       "      <td>-1</td>\n",
       "      <td>-1</td>\n",
       "      <td>-1</td>\n",
       "      <td>-1</td>\n",
       "      <td>-1</td>\n",
       "      <td>-1</td>\n",
       "      <td>4</td>\n",
       "      <td>-1</td>\n",
       "      <td>0</td>\n",
       "      <td>-1</td>\n",
       "      <td>-1</td>\n",
       "      <td>-1</td>\n",
       "      <td>-1</td>\n",
       "      <td>121</td>\n",
       "      <td>133</td>\n",
       "      <td>1</td>\n",
       "      <td>-1</td>\n",
       "      <td>1</td>\n",
       "      <td>-1</td>\n",
       "      <td>-1</td>\n",
       "      <td>-1</td>\n",
       "      <td>-1</td>\n",
       "      <td>0</td>\n",
       "      <td>-1</td>\n",
       "      <td>-1</td>\n",
       "      <td>-1</td>\n",
       "      <td>-1.0</td>\n",
       "      <td>-1.0</td>\n",
       "      <td>-1.0</td>\n",
       "      <td>2605.0</td>\n",
       "      <td>202.0</td>\n",
       "      <td>1678.0</td>\n",
       "      <td>1407.0</td>\n",
       "      <td>-1.0</td>\n",
       "      <td>1.0</td>\n",
       "      <td>1.0</td>\n",
       "      <td>1.0</td>\n",
       "      <td>0</td>\n",
       "      <td>3</td>\n",
       "      <td>6</td>\n",
       "      <td>-1</td>\n",
       "      <td>3.0</td>\n",
       "      <td>1</td>\n",
       "      <td>0</td>\n",
       "      <td>-1</td>\n",
       "      <td>0</td>\n",
       "      <td>1</td>\n",
       "      <td>44.0</td>\n",
       "      <td>1</td>\n",
       "      <td>-1</td>\n",
       "      <td>-1</td>\n",
       "      <td>3.0</td>\n",
       "      <td>5</td>\n",
       "      <td>-1</td>\n",
       "      <td>-1</td>\n",
       "      <td>6</td>\n",
       "      <td>1.0</td>\n",
       "      <td>0.0</td>\n",
       "      <td>-1.0</td>\n",
       "      <td>-1.0</td>\n",
       "      <td>0</td>\n",
       "      <td>1.0</td>\n",
       "      <td>8</td>\n",
       "      <td>433</td>\n",
       "      <td>674</td>\n",
       "      <td>5</td>\n",
       "      <td>-1</td>\n",
       "      <td>73761.0</td>\n",
       "      <td>1.0</td>\n",
       "      <td>1.0</td>\n",
       "      <td>3.0</td>\n",
       "      <td>38</td>\n",
       "      <td>-1.0</td>\n",
       "      <td>0</td>\n",
       "      <td>0</td>\n",
       "      <td>0</td>\n",
       "      <td>0</td>\n",
       "      <td>43</td>\n",
       "      <td>0</td>\n",
       "      <td>4</td>\n",
       "      <td>0</td>\n",
       "      <td>0.0</td>\n",
       "      <td>-1</td>\n",
       "      <td>-1</td>\n",
       "      <td>-1</td>\n",
       "      <td>-1</td>\n",
       "      <td>-1</td>\n",
       "      <td>-1.0</td>\n",
       "      <td>-1</td>\n",
       "      <td>2019.0</td>\n",
       "      <td>4.0</td>\n",
       "      <td>14.0</td>\n",
       "      <td>1.0</td>\n",
       "      <td>0.0</td>\n",
       "      <td>91.0</td>\n",
       "      <td>0.0</td>\n",
       "      <td>1.0</td>\n",
       "      <td>0.0</td>\n",
       "      <td>1.0</td>\n",
       "      <td>0.0</td>\n",
       "      <td>0.0</td>\n",
       "      <td>0.0</td>\n",
       "      <td>0.0</td>\n",
       "      <td>0.0</td>\n",
       "      <td>1554076800</td>\n",
       "      <td>0.0</td>\n",
       "      <td>0.0</td>\n",
       "      <td>25.0</td>\n",
       "      <td>5.0</td>\n",
       "      <td>22.0</td>\n",
       "      <td>27.0</td>\n",
       "      <td>6.0</td>\n",
       "      <td>24.0</td>\n",
       "      <td>-1.0</td>\n",
       "      <td>-1.0</td>\n",
       "      <td>-1.0</td>\n",
       "    </tr>\n",
       "    <tr>\n",
       "      <th>3</th>\n",
       "      <td>-1.0</td>\n",
       "      <td>-1.0</td>\n",
       "      <td>-1.0</td>\n",
       "      <td>-1.0</td>\n",
       "      <td>-1.0</td>\n",
       "      <td>-1.0</td>\n",
       "      <td>-1.0</td>\n",
       "      <td>-1.0</td>\n",
       "      <td>0.0</td>\n",
       "      <td>-1.0</td>\n",
       "      <td>-1.0</td>\n",
       "      <td>-1.0</td>\n",
       "      <td>-1.0</td>\n",
       "      <td>-1.0</td>\n",
       "      <td>0.0</td>\n",
       "      <td>0.0</td>\n",
       "      <td>-1.0</td>\n",
       "      <td>-1.0</td>\n",
       "      <td>-1.0</td>\n",
       "      <td>-1.0</td>\n",
       "      <td>-1.0</td>\n",
       "      <td>-1.0</td>\n",
       "      <td>-1.0</td>\n",
       "      <td>-1.0</td>\n",
       "      <td>-1.0</td>\n",
       "      <td>0.0</td>\n",
       "      <td>0.0</td>\n",
       "      <td>0.0</td>\n",
       "      <td>0.0</td>\n",
       "      <td>0.0</td>\n",
       "      <td>False</td>\n",
       "      <td>-1</td>\n",
       "      <td>-1</td>\n",
       "      <td>-1</td>\n",
       "      <td>-1</td>\n",
       "      <td>-1</td>\n",
       "      <td>-1</td>\n",
       "      <td>-1</td>\n",
       "      <td>-1</td>\n",
       "      <td>-1</td>\n",
       "      <td>-1</td>\n",
       "      <td>-1</td>\n",
       "      <td>-1</td>\n",
       "      <td>-1</td>\n",
       "      <td>-1</td>\n",
       "      <td>-1</td>\n",
       "      <td>-1</td>\n",
       "      <td>-1</td>\n",
       "      <td>-1</td>\n",
       "      <td>-1</td>\n",
       "      <td>-1</td>\n",
       "      <td>-1</td>\n",
       "      <td>-1</td>\n",
       "      <td>-1</td>\n",
       "      <td>-1</td>\n",
       "      <td>-1</td>\n",
       "      <td>-1</td>\n",
       "      <td>-1</td>\n",
       "      <td>0</td>\n",
       "      <td>-1</td>\n",
       "      <td>-1</td>\n",
       "      <td>-1</td>\n",
       "      <td>-1.0</td>\n",
       "      <td>-1.0</td>\n",
       "      <td>-1.0</td>\n",
       "      <td>5611.0</td>\n",
       "      <td>501.0</td>\n",
       "      <td>5178.0</td>\n",
       "      <td>5178.0</td>\n",
       "      <td>-1.0</td>\n",
       "      <td>1.0</td>\n",
       "      <td>1.0</td>\n",
       "      <td>-1.0</td>\n",
       "      <td>0</td>\n",
       "      <td>3</td>\n",
       "      <td>6</td>\n",
       "      <td>-1</td>\n",
       "      <td>3.0</td>\n",
       "      <td>1</td>\n",
       "      <td>0</td>\n",
       "      <td>-1</td>\n",
       "      <td>1</td>\n",
       "      <td>0</td>\n",
       "      <td>44.0</td>\n",
       "      <td>1</td>\n",
       "      <td>1</td>\n",
       "      <td>-1</td>\n",
       "      <td>3.0</td>\n",
       "      <td>2</td>\n",
       "      <td>-1</td>\n",
       "      <td>-1</td>\n",
       "      <td>9</td>\n",
       "      <td>1.0</td>\n",
       "      <td>0.0</td>\n",
       "      <td>-1.0</td>\n",
       "      <td>-1.0</td>\n",
       "      <td>0</td>\n",
       "      <td>2.0</td>\n",
       "      <td>8</td>\n",
       "      <td>2359</td>\n",
       "      <td>4838</td>\n",
       "      <td>5</td>\n",
       "      <td>5</td>\n",
       "      <td>72948.0</td>\n",
       "      <td>11.0</td>\n",
       "      <td>30.0</td>\n",
       "      <td>30.0</td>\n",
       "      <td>106</td>\n",
       "      <td>-1.0</td>\n",
       "      <td>0</td>\n",
       "      <td>0</td>\n",
       "      <td>-1</td>\n",
       "      <td>1</td>\n",
       "      <td>21</td>\n",
       "      <td>0</td>\n",
       "      <td>5</td>\n",
       "      <td>0</td>\n",
       "      <td>28.0</td>\n",
       "      <td>-1</td>\n",
       "      <td>-1</td>\n",
       "      <td>-1</td>\n",
       "      <td>-1</td>\n",
       "      <td>-1</td>\n",
       "      <td>-1.0</td>\n",
       "      <td>-1</td>\n",
       "      <td>2019.0</td>\n",
       "      <td>4.0</td>\n",
       "      <td>14.0</td>\n",
       "      <td>1.0</td>\n",
       "      <td>0.0</td>\n",
       "      <td>91.0</td>\n",
       "      <td>0.0</td>\n",
       "      <td>1.0</td>\n",
       "      <td>0.0</td>\n",
       "      <td>1.0</td>\n",
       "      <td>0.0</td>\n",
       "      <td>0.0</td>\n",
       "      <td>0.0</td>\n",
       "      <td>0.0</td>\n",
       "      <td>0.0</td>\n",
       "      <td>1554076800</td>\n",
       "      <td>0.0</td>\n",
       "      <td>0.0</td>\n",
       "      <td>8.0</td>\n",
       "      <td>3.0</td>\n",
       "      <td>8.0</td>\n",
       "      <td>8.0</td>\n",
       "      <td>3.0</td>\n",
       "      <td>8.0</td>\n",
       "      <td>-1.0</td>\n",
       "      <td>-1.0</td>\n",
       "      <td>-1.0</td>\n",
       "    </tr>\n",
       "    <tr>\n",
       "      <th>4</th>\n",
       "      <td>-1.0</td>\n",
       "      <td>-1.0</td>\n",
       "      <td>-1.0</td>\n",
       "      <td>-1.0</td>\n",
       "      <td>-1.0</td>\n",
       "      <td>-1.0</td>\n",
       "      <td>-1.0</td>\n",
       "      <td>-1.0</td>\n",
       "      <td>-1.0</td>\n",
       "      <td>-1.0</td>\n",
       "      <td>-1.0</td>\n",
       "      <td>-1.0</td>\n",
       "      <td>0.0</td>\n",
       "      <td>-1.0</td>\n",
       "      <td>0.0</td>\n",
       "      <td>0.0</td>\n",
       "      <td>-1.0</td>\n",
       "      <td>-1.0</td>\n",
       "      <td>-1.0</td>\n",
       "      <td>-1.0</td>\n",
       "      <td>-1.0</td>\n",
       "      <td>-1.0</td>\n",
       "      <td>-1.0</td>\n",
       "      <td>-1.0</td>\n",
       "      <td>-1.0</td>\n",
       "      <td>-1.0</td>\n",
       "      <td>-1.0</td>\n",
       "      <td>-1.0</td>\n",
       "      <td>-1.0</td>\n",
       "      <td>0.0</td>\n",
       "      <td>False</td>\n",
       "      <td>-1</td>\n",
       "      <td>-1</td>\n",
       "      <td>-1</td>\n",
       "      <td>-1</td>\n",
       "      <td>-1</td>\n",
       "      <td>-1</td>\n",
       "      <td>-1</td>\n",
       "      <td>-1</td>\n",
       "      <td>-1</td>\n",
       "      <td>-1</td>\n",
       "      <td>-1</td>\n",
       "      <td>-1</td>\n",
       "      <td>-1</td>\n",
       "      <td>-1</td>\n",
       "      <td>-1</td>\n",
       "      <td>-1</td>\n",
       "      <td>-1</td>\n",
       "      <td>-1</td>\n",
       "      <td>-1</td>\n",
       "      <td>-1</td>\n",
       "      <td>-1</td>\n",
       "      <td>-1</td>\n",
       "      <td>-1</td>\n",
       "      <td>-1</td>\n",
       "      <td>-1</td>\n",
       "      <td>-1</td>\n",
       "      <td>-1</td>\n",
       "      <td>0</td>\n",
       "      <td>0</td>\n",
       "      <td>0</td>\n",
       "      <td>0</td>\n",
       "      <td>-1.0</td>\n",
       "      <td>-1.0</td>\n",
       "      <td>1.0</td>\n",
       "      <td>5611.0</td>\n",
       "      <td>501.0</td>\n",
       "      <td>5178.0</td>\n",
       "      <td>5178.0</td>\n",
       "      <td>-1.0</td>\n",
       "      <td>1.0</td>\n",
       "      <td>1.0</td>\n",
       "      <td>-1.0</td>\n",
       "      <td>0</td>\n",
       "      <td>3</td>\n",
       "      <td>6</td>\n",
       "      <td>-1</td>\n",
       "      <td>3.0</td>\n",
       "      <td>1</td>\n",
       "      <td>0</td>\n",
       "      <td>-1</td>\n",
       "      <td>1</td>\n",
       "      <td>0</td>\n",
       "      <td>44.0</td>\n",
       "      <td>1</td>\n",
       "      <td>-1</td>\n",
       "      <td>-1</td>\n",
       "      <td>3.0</td>\n",
       "      <td>3</td>\n",
       "      <td>-1</td>\n",
       "      <td>-1</td>\n",
       "      <td>9</td>\n",
       "      <td>1.0</td>\n",
       "      <td>0.0</td>\n",
       "      <td>-1.0</td>\n",
       "      <td>-1.0</td>\n",
       "      <td>0</td>\n",
       "      <td>2.0</td>\n",
       "      <td>8</td>\n",
       "      <td>2359</td>\n",
       "      <td>4838</td>\n",
       "      <td>5</td>\n",
       "      <td>5</td>\n",
       "      <td>72948.0</td>\n",
       "      <td>11.0</td>\n",
       "      <td>30.0</td>\n",
       "      <td>30.0</td>\n",
       "      <td>106</td>\n",
       "      <td>-1.0</td>\n",
       "      <td>0</td>\n",
       "      <td>0</td>\n",
       "      <td>-1</td>\n",
       "      <td>1</td>\n",
       "      <td>21</td>\n",
       "      <td>0</td>\n",
       "      <td>5</td>\n",
       "      <td>0</td>\n",
       "      <td>28.0</td>\n",
       "      <td>-1</td>\n",
       "      <td>-1</td>\n",
       "      <td>-1</td>\n",
       "      <td>-1</td>\n",
       "      <td>-1</td>\n",
       "      <td>-1.0</td>\n",
       "      <td>-1</td>\n",
       "      <td>2019.0</td>\n",
       "      <td>4.0</td>\n",
       "      <td>14.0</td>\n",
       "      <td>1.0</td>\n",
       "      <td>0.0</td>\n",
       "      <td>91.0</td>\n",
       "      <td>0.0</td>\n",
       "      <td>1.0</td>\n",
       "      <td>0.0</td>\n",
       "      <td>1.0</td>\n",
       "      <td>0.0</td>\n",
       "      <td>0.0</td>\n",
       "      <td>0.0</td>\n",
       "      <td>0.0</td>\n",
       "      <td>0.0</td>\n",
       "      <td>1554076800</td>\n",
       "      <td>0.0</td>\n",
       "      <td>0.0</td>\n",
       "      <td>8.0</td>\n",
       "      <td>3.0</td>\n",
       "      <td>8.0</td>\n",
       "      <td>8.0</td>\n",
       "      <td>3.0</td>\n",
       "      <td>8.0</td>\n",
       "      <td>-1.0</td>\n",
       "      <td>-1.0</td>\n",
       "      <td>-1.0</td>\n",
       "    </tr>\n",
       "  </tbody>\n",
       "</table>\n",
       "</div>"
      ],
      "text/plain": [
       "   cond_04  cond_05  cond_06  cond_09  cond_11  cond_12  cond_32  cond_37  \\\n",
       "0     -1.0     -1.0     -1.0     -1.0     -1.0     -1.0     -1.0     -1.0   \n",
       "1     -1.0     -1.0     -1.0     -1.0     -1.0     -1.0     -1.0     -1.0   \n",
       "2     -1.0     -1.0     -1.0     -1.0     -1.0      0.0     -1.0     -1.0   \n",
       "3     -1.0     -1.0     -1.0     -1.0     -1.0     -1.0     -1.0     -1.0   \n",
       "4     -1.0     -1.0     -1.0     -1.0     -1.0     -1.0     -1.0     -1.0   \n",
       "\n",
       "   cond_C1  cond_C10  cond_C11  cond_C12  cond_C13  cond_C14  cond_C15  \\\n",
       "0     -1.0      -1.0      -1.0      -1.0       0.0      -1.0       0.0   \n",
       "1     -1.0      -1.0      -1.0      -1.0       0.0      -1.0       0.0   \n",
       "2      0.0      -1.0      -1.0      -1.0       0.0       0.0       1.0   \n",
       "3      0.0      -1.0      -1.0      -1.0      -1.0      -1.0       0.0   \n",
       "4     -1.0      -1.0      -1.0      -1.0       0.0      -1.0       0.0   \n",
       "\n",
       "   cond_C16  cond_C17  cond_C18  cond_C19  cond_C2  cond_C20  cond_C21  \\\n",
       "0       0.0      -1.0      -1.0      -1.0     -1.0      -1.0      -1.0   \n",
       "1       0.0      -1.0      -1.0      -1.0     -1.0      -1.0      -1.0   \n",
       "2       0.0      -1.0      -1.0      -1.0      3.0      -1.0      -1.0   \n",
       "3       0.0      -1.0      -1.0      -1.0     -1.0      -1.0      -1.0   \n",
       "4       0.0      -1.0      -1.0      -1.0     -1.0      -1.0      -1.0   \n",
       "\n",
       "   cond_C3  cond_C4  cond_C5  cond_C6  cond_C7  cond_C8  cond_C9  \\\n",
       "0     -1.0     -1.0     -1.0     -1.0     -1.0     -1.0     -1.0   \n",
       "1     -1.0     -1.0     -1.0     -1.0     -1.0     -1.0     -1.0   \n",
       "2      0.0      0.0      0.0     -1.0     -1.0     -1.0     -1.0   \n",
       "3     -1.0     -1.0     -1.0      0.0      0.0      0.0      0.0   \n",
       "4     -1.0     -1.0     -1.0     -1.0     -1.0     -1.0     -1.0   \n",
       "\n",
       "   total_condicion  es_gte_5  preg_1  preg_2  preg_3  preg_4  preg_5  preg_6  \\\n",
       "0              0.0     False      -1      -1      -1      -1      -1      -1   \n",
       "1              0.0     False      -1      -1      -1      -1      -1      -1   \n",
       "2              4.0     False      -1      -1      -1      -1      -1      -1   \n",
       "3              0.0     False      -1      -1      -1      -1      -1      -1   \n",
       "4              0.0     False      -1      -1      -1      -1      -1      -1   \n",
       "\n",
       "   preg_7  preg_8  preg_9  preg_10  preg_11  preg_12  preg_15  preg_16  \\\n",
       "0      -1      -1      -1       -1       -1       -1       -1       -1   \n",
       "1      -1      -1      -1       -1       -1       -1       -1       -1   \n",
       "2      -1      -1      -1       -1       -1        4       -1        0   \n",
       "3      -1      -1      -1       -1       -1       -1       -1       -1   \n",
       "4      -1      -1      -1       -1       -1       -1       -1       -1   \n",
       "\n",
       "   preg_18  preg_19  preg_22  preg_24  preg_27  preg_28  preg_30  preg_31  \\\n",
       "0       -1       -1       -1       -1       -1       -1       -1       -1   \n",
       "1       -1       -1       -1       -1       -1       -1       -1       -1   \n",
       "2       -1       -1       -1       -1      121      133        1       -1   \n",
       "3       -1       -1       -1       -1       -1       -1       -1       -1   \n",
       "4       -1       -1       -1       -1       -1       -1       -1       -1   \n",
       "\n",
       "   preg_32  preg_33  preg_34  preg_36  preg_37  CATASTROFICO  CERRADURA_BAUL  \\\n",
       "0       -1       -1       -1       -1       -1             0               0   \n",
       "1       -1       -1       -1       -1       -1             0               0   \n",
       "2        1       -1       -1       -1       -1             0              -1   \n",
       "3       -1       -1       -1       -1       -1             0              -1   \n",
       "4       -1       -1       -1       -1       -1             0               0   \n",
       "\n",
       "   CERRADURA_DERECHA  CERRADURA_IZQUIERDA  CODIGO_BAJA  CODIGO_CARATULA  \\\n",
       "0                  0                    0         -1.0             -1.0   \n",
       "1                  0                    0         -1.0             -1.0   \n",
       "2                 -1                   -1         -1.0             -1.0   \n",
       "3                 -1                   -1         -1.0             -1.0   \n",
       "4                  0                    0         -1.0             -1.0   \n",
       "\n",
       "   CODIGO_REAPERTURA  CODIGO_VEHICULO  COD_CAUSA_SINI  COD_POST_OCURRENCIA  \\\n",
       "0               -1.0          18380.0           226.0               1439.0   \n",
       "1               -1.0           6846.0           226.0               1708.0   \n",
       "2               -1.0           2605.0           202.0               1678.0   \n",
       "3               -1.0           5611.0           501.0               5178.0   \n",
       "4                1.0           5611.0           501.0               5178.0   \n",
       "\n",
       "   COD_POST_POLIZA  COD_POST_TERC  COD_RAMO_sini  COD_RIES_sini  \\\n",
       "0           1439.0           -1.0            1.0            1.0   \n",
       "1           1684.0           -1.0            1.0            1.0   \n",
       "2           1407.0           -1.0            1.0            1.0   \n",
       "3           5178.0           -1.0            1.0            1.0   \n",
       "4           5178.0           -1.0            1.0            1.0   \n",
       "\n",
       "   CONDICION_ROBO_EXP50  DANOS_MATERIALES  DESCRIPCION_TIPO  ESTADO_CIVIL  \\\n",
       "0                  -1.0                 0                 3             0   \n",
       "1                  -1.0                 0                 3             0   \n",
       "2                   1.0                 0                 3             6   \n",
       "3                  -1.0                 0                 3             6   \n",
       "4                  -1.0                 0                 3             6   \n",
       "\n",
       "   ESTADO_CIVIL_TERC  ESTAD_VEH_ASEG  FALTANTE  MCA_COASEG  MCA_JUICIO  \\\n",
       "0                 -1             5.0         1           0          -1   \n",
       "1                 -1             3.0         1           0          -1   \n",
       "2                 -1             3.0         1           0          -1   \n",
       "3                 -1             3.0         1           0          -1   \n",
       "4                 -1             3.0         1           0          -1   \n",
       "\n",
       "   MCA_VIP  METRO  OCUPACION_ASEG  SEXO  SEXO_TERC  TELEFONO_TERC  TIPO  \\\n",
       "0        1      1            44.0     1         -1             -1   3.0   \n",
       "1        1      1             5.0     1         -1             -1   3.0   \n",
       "2        0      1            44.0     1         -1             -1   3.0   \n",
       "3        1      0            44.0     1          1             -1   3.0   \n",
       "4        1      0            44.0     1         -1             -1   3.0   \n",
       "\n",
       "   TIPO_EXPED  TIPO_LESION  TIPO_LESION_MAXIMA  TIPO_SINIESTRO  USO  \\\n",
       "0           3           -1                  -1               5  1.0   \n",
       "1           3           -1                  -1               5  1.0   \n",
       "2           5           -1                  -1               6  1.0   \n",
       "3           2           -1                  -1               9  1.0   \n",
       "4           3           -1                  -1               9  1.0   \n",
       "\n",
       "   dias_entre_denu_y_sini  dist_fformal_fsini  dist_fformal_fdenu  \\\n",
       "0                     0.0                -1.0                -1.0   \n",
       "1                     0.0                -1.0                -1.0   \n",
       "2                     0.0                -1.0                -1.0   \n",
       "3                     0.0                -1.0                -1.0   \n",
       "4                     0.0                -1.0                -1.0   \n",
       "\n",
       "   existe_FECHA_FORMAL  CANT_RENOVACION  CAPITAL_ACCESORIOS  \\\n",
       "0                    0             24.0                   8   \n",
       "1                    0             41.0                   8   \n",
       "2                    0              1.0                   8   \n",
       "3                    0              2.0                   8   \n",
       "4                    0              2.0                   8   \n",
       "\n",
       "   CAPITAL_ASEGURADO_COTIZACION  CAPITAL_VEHICULO  COD_COBRO  \\\n",
       "0                          2293              4514          0   \n",
       "1                          1985              3913          0   \n",
       "2                           433               674          5   \n",
       "3                          2359              4838          5   \n",
       "4                          2359              4838          5   \n",
       "\n",
       "   COD_COBRO_ANTERIOR  COD_PROD  COD_ZONA_CASCO  COD_ZONA_RC  COD_ZONA_ROBO  \\\n",
       "0                   0   73747.0             1.0          1.0            3.0   \n",
       "1                   0    5350.0             1.0          1.0            1.0   \n",
       "2                  -1   73761.0             1.0          1.0            3.0   \n",
       "3                   5   72948.0            11.0         30.0           30.0   \n",
       "4                   5   72948.0            11.0         30.0           30.0   \n",
       "\n",
       "   CONV_COMISIONARIO  CIF_ID  MCA_AGRAVANTE  MCA_EMPLEADO  MCA_MOVIMIENTO  \\\n",
       "0                 23    -1.0              0             0              -1   \n",
       "1                107    -1.0              0             0              -1   \n",
       "2                 38    -1.0              0             0               0   \n",
       "3                106    -1.0              0             0              -1   \n",
       "4                106    -1.0              0             0              -1   \n",
       "\n",
       "   MCA_POLIZA_VIP  NEGOCIO  PRENDARIO  SEGMENTO  cambio_cobro  ANTIG_pol  \\\n",
       "0               1       21          0         5             0      699.0   \n",
       "1               1       21          0         4             0     1216.0   \n",
       "2               0       43          0         4             0        0.0   \n",
       "3               1       21          0         5             0       28.0   \n",
       "4               1       21          0         5             0       28.0   \n",
       "\n",
       "   COD_EST_CIVIL  TIPO_ACTIVIDAD  CLIENTE  CODIGO_NACION  \\\n",
       "0             -1              -1       -1             -1   \n",
       "1             -1              -1       -1             -1   \n",
       "2             -1              -1       -1             -1   \n",
       "3             -1              -1       -1             -1   \n",
       "4             -1              -1       -1             -1   \n",
       "\n",
       "   DATECO_TIPO_ACTIVIDAD  DOMICILIO_CODIGO_POSTAL  HABILITADO  \\\n",
       "0                     -1                     -1.0          -1   \n",
       "1                     -1                     -1.0          -1   \n",
       "2                     -1                     -1.0          -1   \n",
       "3                     -1                     -1.0          -1   \n",
       "4                     -1                     -1.0          -1   \n",
       "\n",
       "   FECHA_SINI_Year  FECHA_SINI_Month  FECHA_SINI_Week  FECHA_SINI_Day  \\\n",
       "0           2019.0               4.0             14.0             1.0   \n",
       "1           2019.0               4.0             14.0             1.0   \n",
       "2           2019.0               4.0             14.0             1.0   \n",
       "3           2019.0               4.0             14.0             1.0   \n",
       "4           2019.0               4.0             14.0             1.0   \n",
       "\n",
       "   FECHA_SINI_Dayofweek  FECHA_SINI_Dayofyear  FECHA_SINI_Is_month_end  \\\n",
       "0                   0.0                  91.0                      0.0   \n",
       "1                   0.0                  91.0                      0.0   \n",
       "2                   0.0                  91.0                      0.0   \n",
       "3                   0.0                  91.0                      0.0   \n",
       "4                   0.0                  91.0                      0.0   \n",
       "\n",
       "   FECHA_SINI_Is_month_start  FECHA_SINI_Is_quarter_end  \\\n",
       "0                        1.0                        0.0   \n",
       "1                        1.0                        0.0   \n",
       "2                        1.0                        0.0   \n",
       "3                        1.0                        0.0   \n",
       "4                        1.0                        0.0   \n",
       "\n",
       "   FECHA_SINI_Is_quarter_start  FECHA_SINI_Is_year_end  \\\n",
       "0                          1.0                     0.0   \n",
       "1                          1.0                     0.0   \n",
       "2                          1.0                     0.0   \n",
       "3                          1.0                     0.0   \n",
       "4                          1.0                     0.0   \n",
       "\n",
       "   FECHA_SINI_Is_year_start  FECHA_SINI_Hour  FECHA_SINI_Minute  \\\n",
       "0                       0.0              0.0                0.0   \n",
       "1                       0.0              0.0                0.0   \n",
       "2                       0.0              0.0                0.0   \n",
       "3                       0.0              0.0                0.0   \n",
       "4                       0.0              0.0                0.0   \n",
       "\n",
       "   FECHA_SINI_Second  FECHA_SINI_Elapsed  cant_pol  cant_sini_1y  \\\n",
       "0                0.0          1554076800       0.0           0.0   \n",
       "1                0.0          1554076800       0.0           0.0   \n",
       "2                0.0          1554076800       0.0           0.0   \n",
       "3                0.0          1554076800       0.0           0.0   \n",
       "4                0.0          1554076800       0.0           0.0   \n",
       "\n",
       "   COD_POST_POLIZA_DP_CLUSTER_2019  COD_POST_POLIZA_RT_CLUSTER_2019  \\\n",
       "0                             28.0                              8.0   \n",
       "1                             25.0                              8.0   \n",
       "2                             25.0                              5.0   \n",
       "3                              8.0                              3.0   \n",
       "4                              8.0                              3.0   \n",
       "\n",
       "   COD_POST_POLIZA_RC_CLUSTER_2019  COD_POST_OCURRENCIA_DP_CLUSTER_2019  \\\n",
       "0                             26.0                                 28.0   \n",
       "1                             26.0                                 25.0   \n",
       "2                             22.0                                 27.0   \n",
       "3                              8.0                                  8.0   \n",
       "4                              8.0                                  8.0   \n",
       "\n",
       "   COD_POST_OCURRENCIA_RT_CLUSTER_2019  COD_POST_OCURRENCIA_RC_CLUSTER_2019  \\\n",
       "0                                  8.0                                 26.0   \n",
       "1                                  8.0                                 26.0   \n",
       "2                                  6.0                                 24.0   \n",
       "3                                  3.0                                  8.0   \n",
       "4                                  3.0                                  8.0   \n",
       "\n",
       "   COD_POST_TERC_DP_CLUSTER_2019  COD_POST_TERC_RT_CLUSTER_2019  \\\n",
       "0                           -1.0                           -1.0   \n",
       "1                           -1.0                           -1.0   \n",
       "2                           -1.0                           -1.0   \n",
       "3                           -1.0                           -1.0   \n",
       "4                           -1.0                           -1.0   \n",
       "\n",
       "   COD_POST_TERC_RC_CLUSTER_2019  \n",
       "0                           -1.0  \n",
       "1                           -1.0  \n",
       "2                           -1.0  \n",
       "3                           -1.0  \n",
       "4                           -1.0  "
      ]
     },
     "execution_count": 61,
     "metadata": {},
     "output_type": "execute_result"
    }
   ],
   "source": [
    "X_test.head()"
   ]
  },
  {
   "cell_type": "markdown",
   "metadata": {},
   "source": [
    "## Model in test"
   ]
  },
  {
   "cell_type": "code",
   "execution_count": 64,
   "metadata": {},
   "outputs": [
    {
     "name": "stdout",
     "output_type": "stream",
     "text": [
      "0.021, 0.921\n"
     ]
    }
   ],
   "source": [
    "# using trained model\n",
    "y_test_pred_prob = best_model.predict_proba(X_test)[:, -1]\n",
    "\n",
    "# Using load model\n",
    "# y_test_pred_prob = m.predict_proba(X_test)[:, -1]\n",
    "\n",
    "print(\"%.3f, %.3f\" % (f1_score(y_test, y_test_pred_prob > 0.5), roc_auc_score(y_test, y_test_pred_prob)))"
   ]
  },
  {
   "cell_type": "code",
   "execution_count": 65,
   "metadata": {},
   "outputs": [
    {
     "data": {
      "text/plain": [
       "<matplotlib.axes._subplots.AxesSubplot at 0x7f109f2c0320>"
      ]
     },
     "execution_count": 65,
     "metadata": {},
     "output_type": "execute_result"
    },
    {
     "data": {
      "image/png": "[encoded data removed]",
      "text/plain": [
       "<Figure size 432x288 with 2 Axes>"
      ]
     },
     "metadata": {},
     "output_type": "display_data"
    }
   ],
   "source": [
    "conf_mat = confusion_matrix(y_test, y_test_pred_prob > 0.5)\n",
    "sns.heatmap(conf_mat, annot=True, fmt=\"d\")"
   ]
  },
  {
   "cell_type": "markdown",
   "metadata": {},
   "source": [
    "## Tronador in test"
   ]
  },
  {
   "cell_type": "code",
   "execution_count": 63,
   "metadata": {},
   "outputs": [
    {
     "name": "stdout",
     "output_type": "stream",
     "text": [
      "0.330, 0.851\n"
     ]
    }
   ],
   "source": [
    "y_tronador = X_test[\"es_gte_5\"]\n",
    "print(\"%.3f, %.3f\" % (f1_score(y_test, y_tronador), roc_auc_score(y_test, y_tronador)))"
   ]
  },
  {
   "cell_type": "code",
   "execution_count": 64,
   "metadata": {},
   "outputs": [
    {
     "data": {
      "text/plain": [
       "<matplotlib.axes._subplots.AxesSubplot at 0x7f5a75695128>"
      ]
     },
     "execution_count": 64,
     "metadata": {},
     "output_type": "execute_result"
    },
    {
     "data": {
      "image/png": "[encoded data removed]",
      "text/plain": [
       "<Figure size 432x288 with 2 Axes>"
      ]
     },
     "metadata": {},
     "output_type": "display_data"
    }
   ],
   "source": [
    "conf_mat = confusion_matrix(y_test, y_tronador)\n",
    "sns.heatmap(conf_mat, annot=True, fmt=\"d\")"
   ]
  },
  {
   "cell_type": "code",
   "execution_count": null,
   "metadata": {},
   "outputs": [],
   "source": []
  }
 ],
 "metadata": {
  "kernelspec": {
   "display_name": "Python 3",
   "language": "python",
   "name": "python3"
  },
  "language_info": {
   "codemirror_mode": {
    "name": "ipython",
    "version": 3
   },
   "file_extension": ".py",
   "mimetype": "text/x-python",
   "name": "python",
   "nbconvert_exporter": "python",
   "pygments_lexer": "ipython3",
   "version": "3.6.8"
  },
  "varInspector": {
   "cols": {
    "lenName": 16,
    "lenType": 16,
    "lenVar": 40
   },
   "kernels_config": {
    "python": {
     "delete_cmd_postfix": "",
     "delete_cmd_prefix": "del ",
     "library": "var_list.py",
     "varRefreshCmd": "print(var_dic_list())"
    },
    "r": {
     "delete_cmd_postfix": ") ",
     "delete_cmd_prefix": "rm(",
     "library": "var_list.r",
     "varRefreshCmd": "cat(var_dic_list()) "
    }
   },
   "types_to_exclude": [
    "module",
    "function",
    "builtin_function_or_method",
    "instance",
    "_Feature"
   ],
   "window_display": false
  }
 },
 "nbformat": 4,
 "nbformat_minor": 2
}
