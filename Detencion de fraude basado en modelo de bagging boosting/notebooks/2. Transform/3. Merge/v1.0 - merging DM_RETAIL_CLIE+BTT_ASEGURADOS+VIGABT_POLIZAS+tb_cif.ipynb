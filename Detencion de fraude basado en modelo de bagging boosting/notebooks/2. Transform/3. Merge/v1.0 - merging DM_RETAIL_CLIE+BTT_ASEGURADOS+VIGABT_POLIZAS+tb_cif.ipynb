{
 "cells": [
  {
   "cell_type": "markdown",
   "metadata": {},
   "source": [
    "# merging DM_RETAIL_CLIE+BTT_ASEGURADOS+VIGABT_POLIZAS+tb_cif"
   ]
  },
  {
   "cell_type": "code",
   "execution_count": 1,
   "metadata": {},
   "outputs": [],
   "source": [
    "import os\n",
    "\n",
    "import pandas as pd\n",
    "import matplotlib.pyplot as plt"
   ]
  },
  {
   "cell_type": "code",
   "execution_count": 2,
   "metadata": {},
   "outputs": [],
   "source": [
    "# general configs\n",
    "pd.set_option(\"display.max_columns\", 500)\n",
    "pd.set_option(\"display.max_rows\", 500)"
   ]
  },
  {
   "cell_type": "markdown",
   "metadata": {},
   "source": [
    "# Merging DM_RETAIL_CLIE & BTT_ASEGURADOS"
   ]
  },
  {
   "cell_type": "markdown",
   "metadata": {
    "heading_collapsed": true
   },
   "source": [
    "## Loading DM_RETAIL_CLIE"
   ]
  },
  {
   "cell_type": "code",
   "execution_count": 3,
   "metadata": {
    "hidden": true
   },
   "outputs": [],
   "source": [
    "# path to dataset\n",
    "path_retail = \"../../../data/interim/3. row_red/DM_RETAIL_CLIE-red_col-red_cols-clean-unique_CIF_ID.feather\"\n",
    "\n",
    "if not(os.path.exists(path_retail) and os.path.isfile(path_retail)):\n",
    "    raise Exception(\"File {} doesn't exists.\".format(path_retail))"
   ]
  },
  {
   "cell_type": "code",
   "execution_count": 4,
   "metadata": {
    "hidden": true
   },
   "outputs": [
    {
     "name": "stdout",
     "output_type": "stream",
     "text": [
      "<class 'pandas.core.frame.DataFrame'>\n",
      "RangeIndex: 741910 entries, 0 to 741909\n",
      "Data columns (total 31 columns):\n",
      "ACA                    741910 non-null bool\n",
      "ANTIG_MESES            741466 non-null float64\n",
      "APTO_E_MAIL            741910 non-null bool\n",
      "CANAL                  738563 non-null object\n",
      "CANAL_ORIGEN           741910 non-null object\n",
      "CIF_ID                 741909 non-null float64\n",
      "COBERTURA_PLAN         715940 non-null object\n",
      "COD_MARCA              715940 non-null float64\n",
      "COD_MOD                715940 non-null float64\n",
      "DESC_EQUIPO            161921 non-null object\n",
      "ES_ELEGIBLE            741910 non-null object\n",
      "FLAG_EBILLING          741910 non-null bool\n",
      "FLAG_ROBO_CONTENIDO    741910 non-null bool\n",
      "FOR_COBRO              741910 non-null object\n",
      "GRUPO_COMBUSTIBLE      715684 non-null float64\n",
      "MARCA                  715940 non-null object\n",
      "MARCA_SIMPLIFICADA     715940 non-null object\n",
      "MCA_0KM                732395 non-null float64\n",
      "MODELO                 715940 non-null object\n",
      "NEGOCIO                735427 non-null object\n",
      "NUM_SECU_POL           741910 non-null int64\n",
      "ORIGEN_DESC            741907 non-null object\n",
      "PERIODO_FACT           741910 non-null int64\n",
      "PREMIO                 741910 non-null object\n",
      "PRIMA                  741910 non-null object\n",
      "PRODUCTO_PLAN          715940 non-null object\n",
      "PROVEEDOR_EQUIPO       161921 non-null float64\n",
      "SCORE_PLAN             409142 non-null object\n",
      "SUMA_ASEG              740824 non-null object\n",
      "VENC_PRENDA            212459 non-null datetime64[ns]\n",
      "ZONA_RETAIL            738563 non-null object\n",
      "dtypes: bool(4), datetime64[ns](1), float64(7), int64(2), object(17)\n",
      "memory usage: 155.7+ MB\n"
     ]
    }
   ],
   "source": [
    "df_retail = pd.read_feather(path_retail)\n",
    "df_retail.info()"
   ]
  },
  {
   "cell_type": "markdown",
   "metadata": {
    "hidden": true
   },
   "source": [
    "<b>DM_RETAIL_CLIE: has both keys CIF_ID & NUM_SECU_POL</b>"
   ]
  },
  {
   "cell_type": "code",
   "execution_count": 7,
   "metadata": {
    "hidden": true
   },
   "outputs": [
    {
     "data": {
      "text/plain": [
       "1.0"
      ]
     },
     "execution_count": 7,
     "metadata": {},
     "output_type": "execute_result"
    }
   ],
   "source": [
    "# checking ID is unique\n",
    "df_retail[\"NUM_SECU_POL\"].nunique() / len(df_retail)"
   ]
  },
  {
   "cell_type": "code",
   "execution_count": 6,
   "metadata": {
    "hidden": true
   },
   "outputs": [
    {
     "data": {
      "text/plain": [
       "0.9999986521276165"
      ]
     },
     "execution_count": 6,
     "metadata": {},
     "output_type": "execute_result"
    }
   ],
   "source": [
    "# checking ID is unique\n",
    "df_retail[\"CIF_ID\"].nunique() / len(df_retail)"
   ]
  },
  {
   "cell_type": "markdown",
   "metadata": {
    "heading_collapsed": true
   },
   "source": [
    "## Loading BTT_ASEGURADOS"
   ]
  },
  {
   "cell_type": "code",
   "execution_count": 14,
   "metadata": {
    "hidden": true
   },
   "outputs": [],
   "source": [
    "# path to dataset\n",
    "path_aseg = \"../../../data/interim/3. row_red/BTT_ASEGURADOS-red_col-red_cols-clean-unique_CIF_ID.feather\"\n",
    "\n",
    "if not(os.path.exists(path_aseg) and os.path.isfile(path_aseg)):\n",
    "    raise Exception(\"File {} doesn't exists.\".format(path_aseg))"
   ]
  },
  {
   "cell_type": "code",
   "execution_count": 15,
   "metadata": {
    "hidden": true
   },
   "outputs": [
    {
     "name": "stdout",
     "output_type": "stream",
     "text": [
      "<class 'pandas.core.frame.DataFrame'>\n",
      "RangeIndex: 1271360 entries, 0 to 1271359\n",
      "Data columns (total 4 columns):\n",
      "CIF_ID            1271360 non-null float64\n",
      "COD_EST_CIVIL     1210521 non-null object\n",
      "FECHA_DESDE       1248383 non-null datetime64[ns]\n",
      "TIPO_ACTIVIDAD    1271360 non-null object\n",
      "dtypes: datetime64[ns](1), float64(1), object(2)\n",
      "memory usage: 38.8+ MB\n"
     ]
    }
   ],
   "source": [
    "df_aseg = pd.read_feather(path_aseg)\n",
    "df_aseg.info()"
   ]
  },
  {
   "cell_type": "code",
   "execution_count": 16,
   "metadata": {
    "hidden": true
   },
   "outputs": [
    {
     "data": {
      "text/plain": [
       "1.0"
      ]
     },
     "execution_count": 16,
     "metadata": {},
     "output_type": "execute_result"
    }
   ],
   "source": [
    "# checking ID is unique\n",
    "df_aseg[\"CIF_ID\"].nunique() / len(df_aseg)"
   ]
  },
  {
   "cell_type": "markdown",
   "metadata": {},
   "source": [
    "## Comparing DM_RETAIL_CLIE vs BTT_ASEGURADOS\n",
    "Checking CIF_ID intersection"
   ]
  },
  {
   "cell_type": "code",
   "execution_count": 17,
   "metadata": {},
   "outputs": [
    {
     "data": {
      "text/plain": [
       "(478964, 64.55823482632664, 37.67335766423358)"
      ]
     },
     "execution_count": 17,
     "metadata": {},
     "output_type": "execute_result"
    }
   ],
   "source": [
    "# Checking intersection between both datasets\n",
    "id_common = set(df_retail[\"CIF_ID\"].unique()).intersection(set(df_aseg[\"CIF_ID\"].unique()))\n",
    "len(id_common), len(id_common) / len(df_retail) *100, len(id_common) / len(df_aseg)*100"
   ]
  },
  {
   "cell_type": "markdown",
   "metadata": {},
   "source": [
    "<b>Too much missing rows in both datasets</b>"
   ]
  },
  {
   "cell_type": "markdown",
   "metadata": {
    "heading_collapsed": true
   },
   "source": [
    "## Merging DM_RETAIL_CLIE & BTT_ASEGURADOS"
   ]
  },
  {
   "cell_type": "code",
   "execution_count": 18,
   "metadata": {
    "hidden": true
   },
   "outputs": [
    {
     "name": "stdout",
     "output_type": "stream",
     "text": [
      "741910 1271360 741910\n"
     ]
    }
   ],
   "source": [
    "# Merging dropping not founded INVESTIGACIONES\n",
    "df_ret_aseg = pd.merge(df_retail, df_aseg, on=\"CIF_ID\", how=\"left\", suffixes=(\"_retail\", \"_aseg\"))\n",
    "print(len(df_retail), len(df_aseg), len(df_ret_aseg))"
   ]
  },
  {
   "cell_type": "code",
   "execution_count": 20,
   "metadata": {
    "hidden": true
   },
   "outputs": [
    {
     "name": "stdout",
     "output_type": "stream",
     "text": [
      "<class 'pandas.core.frame.DataFrame'>\n",
      "Int64Index: 741910 entries, 0 to 741909\n",
      "Data columns (total 34 columns):\n",
      "ACA                    741910 non-null bool\n",
      "ANTIG_MESES            741466 non-null float64\n",
      "APTO_E_MAIL            741910 non-null bool\n",
      "CANAL                  738563 non-null object\n",
      "CANAL_ORIGEN           741910 non-null object\n",
      "CIF_ID                 741909 non-null float64\n",
      "COBERTURA_PLAN         715940 non-null object\n",
      "COD_MARCA              715940 non-null float64\n",
      "COD_MOD                715940 non-null float64\n",
      "DESC_EQUIPO            161921 non-null object\n",
      "ES_ELEGIBLE            741910 non-null object\n",
      "FLAG_EBILLING          741910 non-null bool\n",
      "FLAG_ROBO_CONTENIDO    741910 non-null bool\n",
      "FOR_COBRO              741910 non-null object\n",
      "GRUPO_COMBUSTIBLE      715684 non-null float64\n",
      "MARCA                  715940 non-null object\n",
      "MARCA_SIMPLIFICADA     715940 non-null object\n",
      "MCA_0KM                732395 non-null float64\n",
      "MODELO                 715940 non-null object\n",
      "NEGOCIO                735427 non-null object\n",
      "NUM_SECU_POL           741910 non-null int64\n",
      "ORIGEN_DESC            741907 non-null object\n",
      "PERIODO_FACT           741910 non-null int64\n",
      "PREMIO                 741910 non-null object\n",
      "PRIMA                  741910 non-null object\n",
      "PRODUCTO_PLAN          715940 non-null object\n",
      "PROVEEDOR_EQUIPO       161921 non-null float64\n",
      "SCORE_PLAN             409142 non-null object\n",
      "SUMA_ASEG              740824 non-null object\n",
      "VENC_PRENDA            212459 non-null datetime64[ns]\n",
      "ZONA_RETAIL            738563 non-null object\n",
      "COD_EST_CIVIL          451374 non-null object\n",
      "FECHA_DESDE            478895 non-null datetime64[ns]\n",
      "TIPO_ACTIVIDAD         478964 non-null object\n",
      "dtypes: bool(4), datetime64[ns](2), float64(7), int64(2), object(19)\n",
      "memory usage: 178.3+ MB\n"
     ]
    }
   ],
   "source": [
    "df_ret_aseg.info()"
   ]
  },
  {
   "cell_type": "markdown",
   "metadata": {
    "heading_collapsed": true,
    "hidden": true
   },
   "source": [
    "### temporal saving (checkpoint)"
   ]
  },
  {
   "cell_type": "code",
   "execution_count": 21,
   "metadata": {
    "hidden": true
   },
   "outputs": [],
   "source": [
    "path_to_save = \"../../../data/interim/5. merged\"\n",
    "check_filename = \"DM_RETAIL+BTT_ASEGURADOS.feather\"\n",
    "df_ret_aseg.to_feather(os.path.join(path_to_save, check_filename))"
   ]
  },
  {
   "cell_type": "markdown",
   "metadata": {},
   "source": [
    "# MERGIN DM_RETAIL+BTT_ASEGURADOS & VIGABT_POLIZAS"
   ]
  },
  {
   "cell_type": "markdown",
   "metadata": {},
   "source": [
    "## Restart from checkpoint (DM_RETAIL+BTT_ASEGURADOS)"
   ]
  },
  {
   "cell_type": "code",
   "execution_count": 3,
   "metadata": {},
   "outputs": [
    {
     "name": "stderr",
     "output_type": "stream",
     "text": [
      "/home/voolkia/anaconda3/lib/python3.6/site-packages/pyarrow/pandas_compat.py:752: FutureWarning: .labels was deprecated in version 0.24.0. Use .codes instead.\n",
      "  labels, = index.labels\n"
     ]
    },
    {
     "name": "stdout",
     "output_type": "stream",
     "text": [
      "<class 'pandas.core.frame.DataFrame'>\n",
      "RangeIndex: 741910 entries, 0 to 741909\n",
      "Data columns (total 34 columns):\n",
      "ACA                    741910 non-null bool\n",
      "ANTIG_MESES            741466 non-null float64\n",
      "APTO_E_MAIL            741910 non-null bool\n",
      "CANAL                  738563 non-null object\n",
      "CANAL_ORIGEN           741910 non-null object\n",
      "CIF_ID                 741909 non-null float64\n",
      "COBERTURA_PLAN         715940 non-null object\n",
      "COD_MARCA              715940 non-null float64\n",
      "COD_MOD                715940 non-null float64\n",
      "DESC_EQUIPO            161921 non-null object\n",
      "ES_ELEGIBLE            741910 non-null object\n",
      "FLAG_EBILLING          741910 non-null bool\n",
      "FLAG_ROBO_CONTENIDO    741910 non-null bool\n",
      "FOR_COBRO              741910 non-null object\n",
      "GRUPO_COMBUSTIBLE      715684 non-null float64\n",
      "MARCA                  715940 non-null object\n",
      "MARCA_SIMPLIFICADA     715940 non-null object\n",
      "MCA_0KM                732395 non-null float64\n",
      "MODELO                 715940 non-null object\n",
      "NEGOCIO                735427 non-null object\n",
      "NUM_SECU_POL           741910 non-null int64\n",
      "ORIGEN_DESC            741907 non-null object\n",
      "PERIODO_FACT           741910 non-null int64\n",
      "PREMIO                 741910 non-null object\n",
      "PRIMA                  741910 non-null object\n",
      "PRODUCTO_PLAN          715940 non-null object\n",
      "PROVEEDOR_EQUIPO       161921 non-null float64\n",
      "SCORE_PLAN             409142 non-null object\n",
      "SUMA_ASEG              740824 non-null object\n",
      "VENC_PRENDA            212459 non-null datetime64[ns]\n",
      "ZONA_RETAIL            738563 non-null object\n",
      "COD_EST_CIVIL          451374 non-null object\n",
      "FECHA_DESDE            478895 non-null datetime64[ns]\n",
      "TIPO_ACTIVIDAD         478964 non-null object\n",
      "dtypes: bool(4), datetime64[ns](2), float64(7), int64(2), object(19)\n",
      "memory usage: 172.6+ MB\n"
     ]
    }
   ],
   "source": [
    "path = \"../../../data/interim/5. merged\"\n",
    "check_filename = \"DM_RETAIL+BTT_ASEGURADOS.feather\"\n",
    "path_file = os.path.join(path, check_filename)\n",
    "df_ret_aseg = pd.read_feather(path_file)\n",
    "df_ret_aseg.info()"
   ]
  },
  {
   "cell_type": "markdown",
   "metadata": {},
   "source": [
    "## Loading VIGABT_POLIZAS"
   ]
  },
  {
   "cell_type": "code",
   "execution_count": 4,
   "metadata": {},
   "outputs": [],
   "source": [
    "# path to dataset\n",
    "path_vigabt = \"../../../data/interim/3. row_red/VIGABT_POLIZAS-red_col-red_rows-clean.feather\"\n",
    "\n",
    "if not(os.path.exists(path_vigabt) and os.path.isfile(path_vigabt)):\n",
    "    raise Exception(\"File {} doesn't exists.\".format(path_vigabt))"
   ]
  },
  {
   "cell_type": "code",
   "execution_count": 5,
   "metadata": {},
   "outputs": [
    {
     "name": "stderr",
     "output_type": "stream",
     "text": [
      "/home/voolkia/anaconda3/lib/python3.6/site-packages/pyarrow/pandas_compat.py:752: FutureWarning: .labels was deprecated in version 0.24.0. Use .codes instead.\n",
      "  labels, = index.labels\n"
     ]
    },
    {
     "name": "stdout",
     "output_type": "stream",
     "text": [
      "<class 'pandas.core.frame.DataFrame'>\n",
      "RangeIndex: 729756 entries, 0 to 729755\n",
      "Data columns (total 29 columns):\n",
      "ANTIG                           708640 non-null float64\n",
      "CANT_RENOVACION                 709911 non-null float64\n",
      "CAPITAL_ACCESORIOS              729756 non-null object\n",
      "CAPITAL_ASEGURADO_COTIZACION    725415 non-null object\n",
      "CAPITAL_VEHICULO                729756 non-null object\n",
      "COD_COBRO                       729756 non-null object\n",
      "COD_COBRO_ANTERIOR              604173 non-null object\n",
      "COD_POSTAL                      729756 non-null int64\n",
      "COD_PROD                        729756 non-null int64\n",
      "COD_RAMO                        729756 non-null int64\n",
      "COD_RIES                        729756 non-null int64\n",
      "COD_ZONA_CASCO                  729754 non-null float64\n",
      "COD_ZONA_RC                     729754 non-null float64\n",
      "COD_ZONA_ROBO                   729754 non-null float64\n",
      "CONV_COMISIONARIO               729756 non-null object\n",
      "FECHA_PROCESO                   729756 non-null datetime64[ns]\n",
      "FECHA_VENC_POL                  729756 non-null datetime64[ns]\n",
      "FECHA_VIG_ORIG_POL              729756 non-null datetime64[ns]\n",
      "FECHA_VIG_POL                   729756 non-null datetime64[ns]\n",
      "MCA_AGRAVANTE                   729582 non-null object\n",
      "MCA_EMPLEADO                    729756 non-null object\n",
      "MCA_MOVIMIENTO                  29103 non-null object\n",
      "MCA_POLIZA_VIP                  709911 non-null object\n",
      "NEGOCIO                         626653 non-null object\n",
      "NUM_SECU_POL                    729756 non-null int64\n",
      "PRENDARIO                       638122 non-null object\n",
      "SEGMENTO                        565119 non-null object\n",
      "cambio_cobro                    729756 non-null bool\n",
      "ANTIG_calc                      729756 non-null int64\n",
      "dtypes: bool(1), datetime64[ns](4), float64(5), int64(6), object(13)\n",
      "memory usage: 156.6+ MB\n"
     ]
    }
   ],
   "source": [
    "df_vigabt = pd.read_feather(path_vigabt)\n",
    "df_vigabt.info()"
   ]
  },
  {
   "cell_type": "code",
   "execution_count": 6,
   "metadata": {},
   "outputs": [
    {
     "data": {
      "text/plain": [
       "1.0"
      ]
     },
     "execution_count": 6,
     "metadata": {},
     "output_type": "execute_result"
    }
   ],
   "source": [
    "# checking unique key\n",
    "df_vigabt[\"NUM_SECU_POL\"].nunique() / len(df_vigabt)"
   ]
  },
  {
   "cell_type": "code",
   "execution_count": 7,
   "metadata": {},
   "outputs": [
    {
     "name": "stdout",
     "output_type": "stream",
     "text": [
      "<class 'pandas.core.frame.DataFrame'>\n",
      "RangeIndex: 729756 entries, 0 to 729755\n",
      "Data columns (total 25 columns):\n",
      "ANTIG                           708640 non-null float64\n",
      "CANT_RENOVACION                 709911 non-null float64\n",
      "CAPITAL_ACCESORIOS              729756 non-null object\n",
      "CAPITAL_ASEGURADO_COTIZACION    725415 non-null object\n",
      "CAPITAL_VEHICULO                729756 non-null object\n",
      "COD_COBRO                       729756 non-null object\n",
      "COD_COBRO_ANTERIOR              604173 non-null object\n",
      "COD_POSTAL                      729756 non-null int64\n",
      "COD_PROD                        729756 non-null int64\n",
      "COD_RAMO                        729756 non-null int64\n",
      "COD_RIES                        729756 non-null int64\n",
      "COD_ZONA_CASCO                  729754 non-null float64\n",
      "COD_ZONA_RC                     729754 non-null float64\n",
      "COD_ZONA_ROBO                   729754 non-null float64\n",
      "CONV_COMISIONARIO               729756 non-null object\n",
      "MCA_AGRAVANTE                   729582 non-null object\n",
      "MCA_EMPLEADO                    729756 non-null object\n",
      "MCA_MOVIMIENTO                  29103 non-null object\n",
      "MCA_POLIZA_VIP                  709911 non-null object\n",
      "NEGOCIO                         626653 non-null object\n",
      "NUM_SECU_POL                    729756 non-null int64\n",
      "PRENDARIO                       638122 non-null object\n",
      "SEGMENTO                        565119 non-null object\n",
      "cambio_cobro                    729756 non-null bool\n",
      "ANTIG_calc                      729756 non-null int64\n",
      "dtypes: bool(1), float64(5), int64(6), object(13)\n",
      "memory usage: 134.3+ MB\n"
     ]
    }
   ],
   "source": [
    "# Dropping dates\n",
    "df_vigabt.drop(columns=[\"FECHA_PROCESO\", \"FECHA_VENC_POL\", \"FECHA_VIG_ORIG_POL\", \"FECHA_VIG_POL\"], inplace=True)\n",
    "df_vigabt.info()"
   ]
  },
  {
   "cell_type": "markdown",
   "metadata": {},
   "source": [
    "## Comparing merged vs VIGABT_POLIZAS\n",
    "Checking NUM_SECU_POL intersection"
   ]
  },
  {
   "cell_type": "code",
   "execution_count": 8,
   "metadata": {},
   "outputs": [
    {
     "data": {
      "text/plain": [
       "(7164, 0.9656157754983759, 0.9816979922056139)"
      ]
     },
     "execution_count": 8,
     "metadata": {},
     "output_type": "execute_result"
    }
   ],
   "source": [
    "# Checking intersection between both datasets\n",
    "id_common = set(df_ret_aseg[\"NUM_SECU_POL\"].unique()).intersection(set(df_vigabt[\"NUM_SECU_POL\"].unique()))\n",
    "len(id_common), len(id_common) / len(df_ret_aseg) *100, len(id_common) / len(df_vigabt)*100"
   ]
  },
  {
   "cell_type": "markdown",
   "metadata": {},
   "source": [
    "Only an 1% of matching. <br>\n",
    "<b>Decision: DO NOT merge VIGABT_POLIZAS</b>"
   ]
  },
  {
   "cell_type": "markdown",
   "metadata": {
    "heading_collapsed": true
   },
   "source": [
    "## Merging merged & VIGABT_POLIZAS\n",
    "\n",
    "<h3 style=\"color:red\">DO NOT merge it</h3>"
   ]
  },
  {
   "cell_type": "code",
   "execution_count": 13,
   "metadata": {
    "hidden": true
   },
   "outputs": [],
   "source": [
    "# \n"
   ]
  },
  {
   "cell_type": "markdown",
   "metadata": {
    "hidden": true
   },
   "source": [
    "### Saving merged file"
   ]
  },
  {
   "cell_type": "code",
   "execution_count": 13,
   "metadata": {
    "hidden": true
   },
   "outputs": [],
   "source": []
  },
  {
   "cell_type": "markdown",
   "metadata": {},
   "source": [
    "# Merging (DM_RETAIL_CLIE & BTT_ASEGURADOS) & tb_cif"
   ]
  },
  {
   "cell_type": "markdown",
   "metadata": {
    "heading_collapsed": true
   },
   "source": [
    "## Restart from checkpoint (DM_RETAIL+BTT_ASEGURADOS)"
   ]
  },
  {
   "cell_type": "code",
   "execution_count": 3,
   "metadata": {
    "hidden": true
   },
   "outputs": [
    {
     "name": "stdout",
     "output_type": "stream",
     "text": [
      "<class 'pandas.core.frame.DataFrame'>\n",
      "RangeIndex: 741910 entries, 0 to 741909\n",
      "Data columns (total 34 columns):\n",
      "ACA                    741910 non-null bool\n",
      "ANTIG_MESES            741466 non-null float64\n",
      "APTO_E_MAIL            741910 non-null bool\n",
      "CANAL                  738563 non-null object\n",
      "CANAL_ORIGEN           741910 non-null object\n",
      "CIF_ID                 741909 non-null float64\n",
      "COBERTURA_PLAN         715940 non-null object\n",
      "COD_MARCA              715940 non-null float64\n",
      "COD_MOD                715940 non-null float64\n",
      "DESC_EQUIPO            161921 non-null object\n",
      "ES_ELEGIBLE            741910 non-null object\n",
      "FLAG_EBILLING          741910 non-null bool\n",
      "FLAG_ROBO_CONTENIDO    741910 non-null bool\n",
      "FOR_COBRO              741910 non-null object\n",
      "GRUPO_COMBUSTIBLE      715684 non-null float64\n",
      "MARCA                  715940 non-null object\n",
      "MARCA_SIMPLIFICADA     715940 non-null object\n",
      "MCA_0KM                732395 non-null float64\n",
      "MODELO                 715940 non-null object\n",
      "NEGOCIO                735427 non-null object\n",
      "NUM_SECU_POL           741910 non-null int64\n",
      "ORIGEN_DESC            741907 non-null object\n",
      "PERIODO_FACT           741910 non-null int64\n",
      "PREMIO                 741910 non-null object\n",
      "PRIMA                  741910 non-null object\n",
      "PRODUCTO_PLAN          715940 non-null object\n",
      "PROVEEDOR_EQUIPO       161921 non-null float64\n",
      "SCORE_PLAN             409142 non-null object\n",
      "SUMA_ASEG              740824 non-null object\n",
      "VENC_PRENDA            212459 non-null datetime64[ns]\n",
      "ZONA_RETAIL            738563 non-null object\n",
      "COD_EST_CIVIL          451374 non-null object\n",
      "FECHA_DESDE            478895 non-null datetime64[ns]\n",
      "TIPO_ACTIVIDAD         478964 non-null object\n",
      "dtypes: bool(4), datetime64[ns](2), float64(7), int64(2), object(19)\n",
      "memory usage: 172.6+ MB\n"
     ]
    }
   ],
   "source": [
    "path = \"../../../data/interim/5. merged\"\n",
    "check_filename = \"DM_RETAIL+BTT_ASEGURADOS.feather\"\n",
    "path_file = os.path.join(path, check_filename)\n",
    "df_ret_aseg = pd.read_feather(path_file)\n",
    "df_ret_aseg.info()"
   ]
  },
  {
   "cell_type": "markdown",
   "metadata": {
    "heading_collapsed": true
   },
   "source": [
    "## Loading tb_cif"
   ]
  },
  {
   "cell_type": "code",
   "execution_count": 4,
   "metadata": {
    "hidden": true
   },
   "outputs": [],
   "source": [
    "# path to dataset\n",
    "path_cif = \"../../../data/interim/2. col_red_min/tb_cif-red_col-red_rows-clean.feather\"\n",
    "\n",
    "if not(os.path.exists(path_cif) and os.path.isfile(path_cif)):\n",
    "    raise Exception(\"File {} doesn't exists.\".format(path_cif))"
   ]
  },
  {
   "cell_type": "code",
   "execution_count": 6,
   "metadata": {
    "hidden": true
   },
   "outputs": [
    {
     "name": "stdout",
     "output_type": "stream",
     "text": [
      "<class 'pandas.core.frame.DataFrame'>\n",
      "RangeIndex: 174922 entries, 0 to 174921\n",
      "Data columns (total 6 columns):\n",
      "CLIENTE                    129422 non-null object\n",
      "CODIGO_NACION              172133 non-null object\n",
      "DATECO_TIPO_ACTIVIDAD      112412 non-null object\n",
      "DOMICILIO_CODIGO_POSTAL    148152 non-null float64\n",
      "HABILITADO                 38716 non-null object\n",
      "CIF_ID                     174922 non-null int64\n",
      "dtypes: float64(1), int64(1), object(4)\n",
      "memory usage: 8.0+ MB\n"
     ]
    }
   ],
   "source": [
    "df_cif = pd.read_feather(path_cif)\n",
    "df_cif.info()"
   ]
  },
  {
   "cell_type": "code",
   "execution_count": 7,
   "metadata": {
    "hidden": true
   },
   "outputs": [
    {
     "data": {
      "text/plain": [
       "1.0"
      ]
     },
     "execution_count": 7,
     "metadata": {},
     "output_type": "execute_result"
    }
   ],
   "source": [
    "# checking unique key\n",
    "df_cif[\"CIF_ID\"].nunique() / len(df_cif)"
   ]
  },
  {
   "cell_type": "markdown",
   "metadata": {},
   "source": [
    "## Comparing merged vs tb_cif\n",
    "Checking CIF_ID intersection"
   ]
  },
  {
   "cell_type": "code",
   "execution_count": 8,
   "metadata": {},
   "outputs": [
    {
     "data": {
      "text/plain": [
       "(111794, 15.06840452345972, 63.91077165822481)"
      ]
     },
     "execution_count": 8,
     "metadata": {},
     "output_type": "execute_result"
    }
   ],
   "source": [
    "# Checking intersection between both datasets\n",
    "id_common = set(df_ret_aseg[\"CIF_ID\"].unique()).intersection(set(df_cif[\"CIF_ID\"].unique()))\n",
    "len(id_common), len(id_common) / len(df_ret_aseg) *100, len(id_common) / len(df_cif)*100"
   ]
  },
  {
   "cell_type": "markdown",
   "metadata": {},
   "source": [
    "<b>Few rows in common</b>"
   ]
  },
  {
   "cell_type": "markdown",
   "metadata": {
    "heading_collapsed": true
   },
   "source": [
    "## Merging merged & tb_cif\n"
   ]
  },
  {
   "cell_type": "code",
   "execution_count": 10,
   "metadata": {
    "hidden": true
   },
   "outputs": [
    {
     "name": "stdout",
     "output_type": "stream",
     "text": [
      "741910 174922 741910\n"
     ]
    }
   ],
   "source": [
    "# Merging dropping not founded INVESTIGACIONES\n",
    "df_ret_aseg_cif = pd.merge(df_ret_aseg, df_cif, on=\"CIF_ID\", how=\"left\", suffixes=(\"\", \"_tbcif\"))\n",
    "print(len(df_ret_aseg), len(df_cif), len(df_ret_aseg_cif))"
   ]
  },
  {
   "cell_type": "markdown",
   "metadata": {
    "hidden": true
   },
   "source": [
    "### saving merged dataset"
   ]
  },
  {
   "cell_type": "code",
   "execution_count": 11,
   "metadata": {
    "hidden": true
   },
   "outputs": [],
   "source": [
    "path_to_save = \"../../../data/interim/5. merged\"\n",
    "check_filename = \"DM_RETAIL+BTT_ASEGURADOS+tb_cif.feather\"\n",
    "df_ret_aseg_cif.to_feather(os.path.join(path_to_save, check_filename))"
   ]
  },
  {
   "cell_type": "code",
   "execution_count": null,
   "metadata": {
    "hidden": true
   },
   "outputs": [],
   "source": []
  }
 ],
 "metadata": {
  "kernelspec": {
   "display_name": "Python 3",
   "language": "python",
   "name": "python3"
  },
  "language_info": {
   "codemirror_mode": {
    "name": "ipython",
    "version": 3
   },
   "file_extension": ".py",
   "mimetype": "text/x-python",
   "name": "python",
   "nbconvert_exporter": "python",
   "pygments_lexer": "ipython3",
   "version": "3.6.5"
  },
  "varInspector": {
   "cols": {
    "lenName": 16,
    "lenType": 16,
    "lenVar": 40
   },
   "kernels_config": {
    "python": {
     "delete_cmd_postfix": "",
     "delete_cmd_prefix": "del ",
     "library": "var_list.py",
     "varRefreshCmd": "print(var_dic_list())"
    },
    "r": {
     "delete_cmd_postfix": ") ",
     "delete_cmd_prefix": "rm(",
     "library": "var_list.r",
     "varRefreshCmd": "cat(var_dic_list()) "
    }
   },
   "position": {
    "height": "241px",
    "left": "1483px",
    "right": "20px",
    "top": "120px",
    "width": "350px"
   },
   "types_to_exclude": [
    "module",
    "function",
    "builtin_function_or_method",
    "instance",
    "_Feature"
   ],
   "window_display": false
  }
 },
 "nbformat": 4,
 "nbformat_minor": 2
}
