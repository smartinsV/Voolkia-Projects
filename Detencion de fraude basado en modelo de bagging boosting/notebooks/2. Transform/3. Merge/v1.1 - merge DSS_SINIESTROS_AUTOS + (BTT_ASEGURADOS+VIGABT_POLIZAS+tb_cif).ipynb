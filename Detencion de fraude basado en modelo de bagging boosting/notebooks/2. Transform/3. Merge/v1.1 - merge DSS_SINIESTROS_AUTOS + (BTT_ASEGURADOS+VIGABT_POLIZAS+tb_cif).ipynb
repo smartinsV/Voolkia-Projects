{
 "cells": [
  {
   "cell_type": "markdown",
   "metadata": {},
   "source": [
    "# merging DSS_SINIESTROS_AUTOS + (DM_RETAIL_CLIE+BTT_ASEGURADOS+VIGABT_POLIZAS+tb_cif)"
   ]
  },
  {
   "cell_type": "code",
   "execution_count": 1,
   "metadata": {},
   "outputs": [],
   "source": [
    "import os\n",
    "\n",
    "import pandas as pd\n",
    "import matplotlib.pyplot as plt"
   ]
  },
  {
   "cell_type": "code",
   "execution_count": 2,
   "metadata": {},
   "outputs": [],
   "source": [
    "# general configs\n",
    "pd.set_option(\"display.max_columns\", 500)\n",
    "pd.set_option(\"display.max_rows\", 500)"
   ]
  },
  {
   "cell_type": "markdown",
   "metadata": {},
   "source": [
    "# Merging DSS_SINIESTROS_AUTOS + merged (DM_RETAIL_CLIE+BTT_ASEGURADOS+VIGABT_POLIZAS+tb_cif)"
   ]
  },
  {
   "cell_type": "markdown",
   "metadata": {},
   "source": [
    "## Loading DSS_SINIESTROS_AUTOS"
   ]
  },
  {
   "cell_type": "code",
   "execution_count": 3,
   "metadata": {},
   "outputs": [],
   "source": [
    "# path to dataset\n",
    "path_sini = \"../../../data/interim/4. transformed/DSS_SINI_AUTOS_ID-red_col-newcols-dropDuplic-NUM_SECU_EXPED_UNIC.feather\"\n",
    "\n",
    "if not(os.path.exists(path_sini) and os.path.isfile(path_sini)):\n",
    "    raise Exception(\"File {} doesn't exists.\".format(path_sini))"
   ]
  },
  {
   "cell_type": "code",
   "execution_count": 4,
   "metadata": {},
   "outputs": [
    {
     "name": "stderr",
     "output_type": "stream",
     "text": [
      "/home/voolkia/anaconda3/lib/python3.6/site-packages/pyarrow/pandas_compat.py:752: FutureWarning: .labels was deprecated in version 0.24.0. Use .codes instead.\n",
      "  labels, = index.labels\n"
     ]
    },
    {
     "name": "stdout",
     "output_type": "stream",
     "text": [
      "<class 'pandas.core.frame.DataFrame'>\n",
      "RangeIndex: 1144995 entries, 0 to 1144994\n",
      "Data columns (total 44 columns):\n",
      "CATASTROFICO              1144989 non-null object\n",
      "CERRADURA_BAUL            504402 non-null object\n",
      "CERRADURA_DERECHA         504402 non-null object\n",
      "CERRADURA_IZQUIERDA       504402 non-null object\n",
      "CODIGO_BAJA               1562 non-null float64\n",
      "CODIGO_CARATULA           30240 non-null float64\n",
      "CODIGO_REAPERTURA         58512 non-null float64\n",
      "CODIGO_VEHICULO           1144905 non-null float64\n",
      "COD_ACT_BENEF             463893 non-null float64\n",
      "COD_CAUSA_SINI            1144995 non-null float64\n",
      "COD_POST_OCURRENCIA       1144991 non-null float64\n",
      "COD_POST_POLIZA           1144971 non-null float64\n",
      "COD_POST_TERC             194056 non-null float64\n",
      "COD_RAMO                  1144995 non-null int64\n",
      "COD_RIES                  1144995 non-null float64\n",
      "CONDICION_ROBO_EXP50      13085 non-null float64\n",
      "DANOS_MATERIALES          1144989 non-null object\n",
      "DESCRIPCION_TIPO          1144993 non-null object\n",
      "DESCRIPCION_VEHICULO      1144905 non-null object\n",
      "ESTADO_CIVIL              1129107 non-null object\n",
      "ESTADO_CIVIL_TERC         184865 non-null object\n",
      "ESTAD_VEH_ASEG            968507 non-null float64\n",
      "FALTANTE                  1144992 non-null object\n",
      "FECHA_SINI                1144995 non-null datetime64[ns]\n",
      "MCA_COASEG                1144995 non-null bool\n",
      "MCA_JUICIO                30240 non-null object\n",
      "MCA_VIP                   1144989 non-null object\n",
      "METRO                     1144989 non-null object\n",
      "NUM_SECU_EXPED            1144995 non-null float64\n",
      "NUM_SECU_POL              1144995 non-null int64\n",
      "OCUPACION_ASEG            1144051 non-null float64\n",
      "SEXO                      1144907 non-null object\n",
      "SEXO_TERC                 611769 non-null object\n",
      "TELEFONO_TERC             100621 non-null object\n",
      "TIPO                      1144993 non-null float64\n",
      "TIPO_EXPED                1144995 non-null object\n",
      "TIPO_LESION               117070 non-null object\n",
      "TIPO_LESION_MAXIMA        30240 non-null object\n",
      "TIPO_SINIESTRO            1144992 non-null object\n",
      "USO                       1144993 non-null float64\n",
      "dias_entre_denu_y_sini    1144995 non-null int64\n",
      "dist_fformal_fsini        166482 non-null float64\n",
      "dist_fformal_fdenu        166482 non-null float64\n",
      "existe_FECHA_FORMAL       1144995 non-null bool\n",
      "dtypes: bool(2), datetime64[ns](1), float64(18), int64(3), object(20)\n",
      "memory usage: 369.1+ MB\n"
     ]
    }
   ],
   "source": [
    "df_sini = pd.read_feather(path_sini)\n",
    "df_sini.info()"
   ]
  },
  {
   "cell_type": "markdown",
   "metadata": {},
   "source": [
    "<b>DSS_SINIESTROS_AUTOS: has both keys NUM_SECU_EXPED & NUM_SECU_POL</b>"
   ]
  },
  {
   "cell_type": "code",
   "execution_count": 5,
   "metadata": {},
   "outputs": [
    {
     "data": {
      "text/plain": [
       "1.0"
      ]
     },
     "execution_count": 5,
     "metadata": {},
     "output_type": "execute_result"
    }
   ],
   "source": [
    "# checking ID is unique\n",
    "df_sini[\"NUM_SECU_EXPED\"].nunique() / len(df_sini)"
   ]
  },
  {
   "cell_type": "code",
   "execution_count": 6,
   "metadata": {},
   "outputs": [
    {
     "data": {
      "text/plain": [
       "0.6410001790400831"
      ]
     },
     "execution_count": 6,
     "metadata": {},
     "output_type": "execute_result"
    }
   ],
   "source": [
    "# checking ID is unique\n",
    "df_sini[\"NUM_SECU_POL\"].nunique() / len(df_sini)"
   ]
  },
  {
   "cell_type": "code",
   "execution_count": 7,
   "metadata": {},
   "outputs": [
    {
     "data": {
      "text/plain": [
       "0"
      ]
     },
     "execution_count": 7,
     "metadata": {},
     "output_type": "execute_result"
    }
   ],
   "source": [
    "# checking duplicated rows\n",
    "df_sini.duplicated().sum()"
   ]
  },
  {
   "cell_type": "markdown",
   "metadata": {},
   "source": [
    "## Loading (BTT_ASEGURADOS+VIGABT_POLIZAS+tb_cif)"
   ]
  },
  {
   "cell_type": "code",
   "execution_count": 8,
   "metadata": {},
   "outputs": [],
   "source": [
    "# path to dataset\n",
    "path_df_ret_aseg_cif= \"../../../data/interim/5. merged/VIGABT_POLIZAS+BTT_ASEGURADOS+tb_cif.feather\"\n",
    "\n",
    "if not(os.path.exists(path_df_ret_aseg_cif) and os.path.isfile(path_df_ret_aseg_cif)):\n",
    "    raise Exception(\"File {} doesn't exists.\".format(path_df_ret_aseg_cif))"
   ]
  },
  {
   "cell_type": "code",
   "execution_count": 9,
   "metadata": {},
   "outputs": [
    {
     "name": "stderr",
     "output_type": "stream",
     "text": [
      "/home/voolkia/anaconda3/lib/python3.6/site-packages/pyarrow/pandas_compat.py:752: FutureWarning: .labels was deprecated in version 0.24.0. Use .codes instead.\n",
      "  labels, = index.labels\n"
     ]
    },
    {
     "name": "stdout",
     "output_type": "stream",
     "text": [
      "<class 'pandas.core.frame.DataFrame'>\n",
      "RangeIndex: 729756 entries, 0 to 729755\n",
      "Data columns (total 39 columns):\n",
      "CANT_RENOVACION                 709911 non-null float64\n",
      "CAPITAL_ACCESORIOS              729756 non-null object\n",
      "CAPITAL_ASEGURADO_COTIZACION    725415 non-null object\n",
      "CAPITAL_VEHICULO                729756 non-null object\n",
      "COD_COBRO                       729756 non-null object\n",
      "COD_COBRO_ANTERIOR              604173 non-null object\n",
      "COD_POSTAL                      729756 non-null int64\n",
      "COD_PROD                        729756 non-null int64\n",
      "COD_RAMO                        729756 non-null int64\n",
      "COD_RIES                        729756 non-null int64\n",
      "COD_ZONA_CASCO                  729754 non-null float64\n",
      "COD_ZONA_RC                     729754 non-null float64\n",
      "COD_ZONA_ROBO                   729754 non-null float64\n",
      "CONV_COMISIONARIO               729756 non-null object\n",
      "FECHA_PROCESO                   729756 non-null datetime64[ns]\n",
      "FECHA_VENC_POL                  729756 non-null datetime64[ns]\n",
      "FECHA_VIG_ORIG_POL              729756 non-null datetime64[ns]\n",
      "FECHA_VIG_POL                   729756 non-null datetime64[ns]\n",
      "CIF_ID                          64646 non-null float64\n",
      "MCA_AGRAVANTE                   729582 non-null object\n",
      "MCA_EMPLEADO                    729756 non-null object\n",
      "MCA_MOVIMIENTO                  29103 non-null object\n",
      "MCA_POLIZA_VIP                  709911 non-null object\n",
      "NEGOCIO                         626653 non-null object\n",
      "NUM_SECU_POL                    729756 non-null int64\n",
      "PRENDARIO                       638122 non-null object\n",
      "SEGMENTO                        565119 non-null object\n",
      "cambio_cobro                    729756 non-null bool\n",
      "ANTIG_calc                      729756 non-null int64\n",
      "COD_EST_CIVIL                   59838 non-null object\n",
      "FECHA_DESDE                     64077 non-null datetime64[ns]\n",
      "FECHA_NACIMIENTO                63841 non-null datetime64[ns]\n",
      "SEXO_ASEG                       64218 non-null object\n",
      "TIPO_ACTIVIDAD                  64632 non-null object\n",
      "CLIENTE                         9516 non-null object\n",
      "CODIGO_NACION                   22705 non-null object\n",
      "DATECO_TIPO_ACTIVIDAD           14374 non-null object\n",
      "DOMICILIO_CODIGO_POSTAL         16587 non-null float64\n",
      "HABILITADO                      10837 non-null object\n",
      "dtypes: bool(1), datetime64[ns](6), float64(6), int64(6), object(20)\n",
      "memory usage: 212.3+ MB\n"
     ]
    }
   ],
   "source": [
    "df_ret_aseg_cif = pd.read_feather(path_df_ret_aseg_cif)\n",
    "df_ret_aseg_cif.info()"
   ]
  },
  {
   "cell_type": "code",
   "execution_count": 10,
   "metadata": {},
   "outputs": [
    {
     "data": {
      "text/plain": [
       "1.0"
      ]
     },
     "execution_count": 10,
     "metadata": {},
     "output_type": "execute_result"
    }
   ],
   "source": [
    "# checking ID is unique\n",
    "df_ret_aseg_cif[\"NUM_SECU_POL\"].nunique() / len(df_ret_aseg_cif)"
   ]
  },
  {
   "cell_type": "markdown",
   "metadata": {},
   "source": [
    "## Comparing DSS_SINIESTROS_AUTOS vs (BTT_ASEGURADOS+VIGABT_POLIZAS+tb_cif)\n",
    "Checking NUM_SECU_POL intersection"
   ]
  },
  {
   "cell_type": "code",
   "execution_count": 13,
   "metadata": {},
   "outputs": [
    {
     "data": {
      "text/plain": [
       "(729756, 99.4296552043622, 100.0)"
      ]
     },
     "execution_count": 13,
     "metadata": {},
     "output_type": "execute_result"
    }
   ],
   "source": [
    "# Checking intersection between both datasets\n",
    "id_common = set(df_sini[\"NUM_SECU_POL\"].unique()).intersection(set(df_ret_aseg_cif[\"NUM_SECU_POL\"].unique()))\n",
    "len(id_common), len(id_common) / df_sini[\"NUM_SECU_POL\"].nunique() *100, len(id_common) /df_ret_aseg_cif[\"NUM_SECU_POL\"].nunique()*100"
   ]
  },
  {
   "cell_type": "code",
   "execution_count": 14,
   "metadata": {},
   "outputs": [
    {
     "data": {
      "text/plain": [
       "4186"
      ]
     },
     "execution_count": 14,
     "metadata": {},
     "output_type": "execute_result"
    }
   ],
   "source": [
    "not_in_merged = set(df_sini[\"NUM_SECU_POL\"].unique()) - set(df_ret_aseg_cif[\"NUM_SECU_POL\"].unique())\n",
    "len(not_in_merged)"
   ]
  },
  {
   "cell_type": "markdown",
   "metadata": {},
   "source": [
    "**4186 NUM_SECU_POL OUT**"
   ]
  },
  {
   "cell_type": "code",
   "execution_count": 21,
   "metadata": {},
   "outputs": [
    {
     "data": {
      "text/plain": [
       "2017    3040\n",
       "2018    3145\n",
       "2019     849\n",
       "Name: FECHA_SINI, dtype: int64"
      ]
     },
     "execution_count": 21,
     "metadata": {},
     "output_type": "execute_result"
    }
   ],
   "source": [
    "# distrib of missing by year\n",
    "df_sini[df_sini[\"NUM_SECU_POL\"].isin(not_in_merged)][\"FECHA_SINI\"].dt.year.value_counts().sort_index()"
   ]
  },
  {
   "cell_type": "code",
   "execution_count": null,
   "metadata": {},
   "outputs": [],
   "source": []
  },
  {
   "cell_type": "markdown",
   "metadata": {},
   "source": [
    "## Merging DSS_SINIESTROS_AUTOS vs (BTT_ASEGURADOS+VIGABT_POLIZAS+tb_cif)"
   ]
  },
  {
   "cell_type": "code",
   "execution_count": 22,
   "metadata": {},
   "outputs": [
    {
     "name": "stdout",
     "output_type": "stream",
     "text": [
      "1144995 729756 1144995\n"
     ]
    }
   ],
   "source": [
    "# Merging dropping not founded in DSS_SINIESTROS_AUTOS\n",
    "df_merged = pd.merge(df_sini, df_ret_aseg_cif, on=\"NUM_SECU_POL\", how=\"left\", suffixes=(\"_sini\", \"_vigabt_aseg_cif\"))\n",
    "print(len(df_sini), len(df_ret_aseg_cif), len(df_merged))"
   ]
  },
  {
   "cell_type": "code",
   "execution_count": 23,
   "metadata": {},
   "outputs": [
    {
     "name": "stdout",
     "output_type": "stream",
     "text": [
      "<class 'pandas.core.frame.DataFrame'>\n",
      "Int64Index: 1144995 entries, 0 to 1144994\n",
      "Data columns (total 82 columns):\n",
      "CATASTROFICO                    1144989 non-null object\n",
      "CERRADURA_BAUL                  504402 non-null object\n",
      "CERRADURA_DERECHA               504402 non-null object\n",
      "CERRADURA_IZQUIERDA             504402 non-null object\n",
      "CODIGO_BAJA                     1562 non-null float64\n",
      "CODIGO_CARATULA                 30240 non-null float64\n",
      "CODIGO_REAPERTURA               58512 non-null float64\n",
      "CODIGO_VEHICULO                 1144905 non-null float64\n",
      "COD_ACT_BENEF                   463893 non-null float64\n",
      "COD_CAUSA_SINI                  1144995 non-null float64\n",
      "COD_POST_OCURRENCIA             1144991 non-null float64\n",
      "COD_POST_POLIZA                 1144971 non-null float64\n",
      "COD_POST_TERC                   194056 non-null float64\n",
      "COD_RAMO_sini                   1144995 non-null int64\n",
      "COD_RIES_sini                   1144995 non-null float64\n",
      "CONDICION_ROBO_EXP50            13085 non-null float64\n",
      "DANOS_MATERIALES                1144989 non-null object\n",
      "DESCRIPCION_TIPO                1144993 non-null object\n",
      "DESCRIPCION_VEHICULO            1144905 non-null object\n",
      "ESTADO_CIVIL                    1129107 non-null object\n",
      "ESTADO_CIVIL_TERC               184865 non-null object\n",
      "ESTAD_VEH_ASEG                  968507 non-null float64\n",
      "FALTANTE                        1144992 non-null object\n",
      "FECHA_SINI                      1144995 non-null datetime64[ns]\n",
      "MCA_COASEG                      1144995 non-null bool\n",
      "MCA_JUICIO                      30240 non-null object\n",
      "MCA_VIP                         1144989 non-null object\n",
      "METRO                           1144989 non-null object\n",
      "NUM_SECU_EXPED                  1144995 non-null float64\n",
      "NUM_SECU_POL                    1144995 non-null int64\n",
      "OCUPACION_ASEG                  1144051 non-null float64\n",
      "SEXO                            1144907 non-null object\n",
      "SEXO_TERC                       611769 non-null object\n",
      "TELEFONO_TERC                   100621 non-null object\n",
      "TIPO                            1144993 non-null float64\n",
      "TIPO_EXPED                      1144995 non-null object\n",
      "TIPO_LESION                     117070 non-null object\n",
      "TIPO_LESION_MAXIMA              30240 non-null object\n",
      "TIPO_SINIESTRO                  1144992 non-null object\n",
      "USO                             1144993 non-null float64\n",
      "dias_entre_denu_y_sini          1144995 non-null int64\n",
      "dist_fformal_fsini              166482 non-null float64\n",
      "dist_fformal_fdenu              166482 non-null float64\n",
      "existe_FECHA_FORMAL             1144995 non-null bool\n",
      "CANT_RENOVACION                 1074503 non-null float64\n",
      "CAPITAL_ACCESORIOS              1137961 non-null object\n",
      "CAPITAL_ASEGURADO_COTIZACION    1112460 non-null object\n",
      "CAPITAL_VEHICULO                1137961 non-null object\n",
      "COD_COBRO                       1137961 non-null object\n",
      "COD_COBRO_ANTERIOR              910384 non-null object\n",
      "COD_POSTAL                      1137961 non-null float64\n",
      "COD_PROD                        1137961 non-null float64\n",
      "COD_RAMO_vigabt_aseg_cif        1137961 non-null float64\n",
      "COD_RIES_vigabt_aseg_cif        1137961 non-null float64\n",
      "COD_ZONA_CASCO                  1137957 non-null float64\n",
      "COD_ZONA_RC                     1137957 non-null float64\n",
      "COD_ZONA_ROBO                   1137957 non-null float64\n",
      "CONV_COMISIONARIO               1137961 non-null object\n",
      "FECHA_PROCESO                   1137961 non-null datetime64[ns]\n",
      "FECHA_VENC_POL                  1137961 non-null datetime64[ns]\n",
      "FECHA_VIG_ORIG_POL              1137961 non-null datetime64[ns]\n",
      "FECHA_VIG_POL                   1137961 non-null datetime64[ns]\n",
      "CIF_ID                          113743 non-null float64\n",
      "MCA_AGRAVANTE                   1125440 non-null object\n",
      "MCA_EMPLEADO                    1137961 non-null object\n",
      "MCA_MOVIMIENTO                  50265 non-null object\n",
      "MCA_POLIZA_VIP                  1074503 non-null object\n",
      "NEGOCIO                         944096 non-null object\n",
      "PRENDARIO                       961376 non-null object\n",
      "SEGMENTO                        838288 non-null object\n",
      "cambio_cobro                    1137961 non-null object\n",
      "ANTIG_calc                      1137961 non-null float64\n",
      "COD_EST_CIVIL                   89903 non-null object\n",
      "FECHA_DESDE                     96574 non-null datetime64[ns]\n",
      "FECHA_NACIMIENTO                96180 non-null datetime64[ns]\n",
      "SEXO_ASEG                       96804 non-null object\n",
      "TIPO_ACTIVIDAD                  113718 non-null object\n",
      "CLIENTE                         17038 non-null object\n",
      "CODIGO_NACION                   40536 non-null object\n",
      "DATECO_TIPO_ACTIVIDAD           25372 non-null object\n",
      "DOMICILIO_CODIGO_POSTAL         29391 non-null float64\n",
      "HABILITADO                      19368 non-null object\n",
      "dtypes: bool(2), datetime64[ns](7), float64(29), int64(3), object(41)\n",
      "memory usage: 709.8+ MB\n"
     ]
    }
   ],
   "source": [
    "df_merged.info()"
   ]
  },
  {
   "cell_type": "markdown",
   "metadata": {},
   "source": [
    "### saving merged dataset"
   ]
  },
  {
   "cell_type": "code",
   "execution_count": 24,
   "metadata": {},
   "outputs": [],
   "source": [
    "path_to_save = \"../../../data/interim/5. merged\"\n",
    "check_filename = \"DSS_SINIESTROS_AUTOS+VIGABT_POLIZAS+BTT_ASEGURADOS+tb_cif.feather\"\n",
    "df_merged.to_feather(os.path.join(path_to_save, check_filename))"
   ]
  },
  {
   "cell_type": "code",
   "execution_count": null,
   "metadata": {},
   "outputs": [],
   "source": []
  }
 ],
 "metadata": {
  "kernelspec": {
   "display_name": "Python 3",
   "language": "python",
   "name": "python3"
  },
  "language_info": {
   "codemirror_mode": {
    "name": "ipython",
    "version": 3
   },
   "file_extension": ".py",
   "mimetype": "text/x-python",
   "name": "python",
   "nbconvert_exporter": "python",
   "pygments_lexer": "ipython3",
   "version": "3.6.8"
  },
  "varInspector": {
   "cols": {
    "lenName": 16,
    "lenType": 16,
    "lenVar": 40
   },
   "kernels_config": {
    "python": {
     "delete_cmd_postfix": "",
     "delete_cmd_prefix": "del ",
     "library": "var_list.py",
     "varRefreshCmd": "print(var_dic_list())"
    },
    "r": {
     "delete_cmd_postfix": ") ",
     "delete_cmd_prefix": "rm(",
     "library": "var_list.r",
     "varRefreshCmd": "cat(var_dic_list()) "
    }
   },
   "types_to_exclude": [
    "module",
    "function",
    "builtin_function_or_method",
    "instance",
    "_Feature"
   ],
   "window_display": false
  }
 },
 "nbformat": 4,
 "nbformat_minor": 2
}
