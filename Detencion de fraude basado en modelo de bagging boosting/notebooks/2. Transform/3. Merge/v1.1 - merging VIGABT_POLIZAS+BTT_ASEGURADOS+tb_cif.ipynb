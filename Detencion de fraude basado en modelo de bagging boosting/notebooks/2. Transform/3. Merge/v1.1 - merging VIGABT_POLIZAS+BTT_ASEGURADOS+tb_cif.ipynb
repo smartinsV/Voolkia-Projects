{
 "cells": [
  {
   "cell_type": "markdown",
   "metadata": {},
   "source": [
    "# merging VIGABT_POLIZAS+BTT_ASEGURADOS+tb_cif"
   ]
  },
  {
   "cell_type": "code",
   "execution_count": 1,
   "metadata": {},
   "outputs": [],
   "source": [
    "import os\n",
    "\n",
    "import pandas as pd\n",
    "import matplotlib.pyplot as plt"
   ]
  },
  {
   "cell_type": "code",
   "execution_count": 2,
   "metadata": {},
   "outputs": [],
   "source": [
    "# general configs\n",
    "pd.set_option(\"display.max_columns\", 500)\n",
    "pd.set_option(\"display.max_rows\", 500)"
   ]
  },
  {
   "cell_type": "markdown",
   "metadata": {},
   "source": [
    "# Merging VIGABT_POLIZAS & BTT_ASEGURADOS"
   ]
  },
  {
   "cell_type": "markdown",
   "metadata": {
    "heading_collapsed": true
   },
   "source": [
    "## Loading VIGABT_POLIZAS"
   ]
  },
  {
   "cell_type": "code",
   "execution_count": 3,
   "metadata": {
    "hidden": true
   },
   "outputs": [],
   "source": [
    "# path to dataset\n",
    "path_vigabt = \"../../../data/interim/3. row_red/VIGABT_POLIZAS-red_col-red_rows-clean.feather\"\n",
    "\n",
    "if not(os.path.exists(path_vigabt) and os.path.isfile(path_vigabt)):\n",
    "    raise Exception(\"File {} doesn't exists.\".format(path_vigabt))"
   ]
  },
  {
   "cell_type": "code",
   "execution_count": 4,
   "metadata": {
    "hidden": true
   },
   "outputs": [
    {
     "name": "stderr",
     "output_type": "stream",
     "text": [
      "/home/voolkia/anaconda3/lib/python3.6/site-packages/pyarrow/pandas_compat.py:752: FutureWarning: .labels was deprecated in version 0.24.0. Use .codes instead.\n",
      "  labels, = index.labels\n"
     ]
    },
    {
     "name": "stdout",
     "output_type": "stream",
     "text": [
      "<class 'pandas.core.frame.DataFrame'>\n",
      "RangeIndex: 729756 entries, 0 to 729755\n",
      "Data columns (total 29 columns):\n",
      "CANT_RENOVACION                 709911 non-null float64\n",
      "CAPITAL_ACCESORIOS              729756 non-null object\n",
      "CAPITAL_ASEGURADO_COTIZACION    725415 non-null object\n",
      "CAPITAL_VEHICULO                729756 non-null object\n",
      "COD_COBRO                       729756 non-null object\n",
      "COD_COBRO_ANTERIOR              604173 non-null object\n",
      "COD_POSTAL                      729756 non-null int64\n",
      "COD_PROD                        729756 non-null int64\n",
      "COD_RAMO                        729756 non-null int64\n",
      "COD_RIES                        729756 non-null int64\n",
      "COD_ZONA_CASCO                  729754 non-null float64\n",
      "COD_ZONA_RC                     729754 non-null float64\n",
      "COD_ZONA_ROBO                   729754 non-null float64\n",
      "CONV_COMISIONARIO               729756 non-null object\n",
      "FECHA_PROCESO                   729756 non-null datetime64[ns]\n",
      "FECHA_VENC_POL                  729756 non-null datetime64[ns]\n",
      "FECHA_VIG_ORIG_POL              729756 non-null datetime64[ns]\n",
      "FECHA_VIG_POL                   729756 non-null datetime64[ns]\n",
      "ID                              64646 non-null float64\n",
      "MCA_AGRAVANTE                   729582 non-null object\n",
      "MCA_EMPLEADO                    729756 non-null object\n",
      "MCA_MOVIMIENTO                  29103 non-null object\n",
      "MCA_POLIZA_VIP                  709911 non-null object\n",
      "NEGOCIO                         626653 non-null object\n",
      "NUM_SECU_POL                    729756 non-null int64\n",
      "PRENDARIO                       638122 non-null object\n",
      "SEGMENTO                        565119 non-null object\n",
      "cambio_cobro                    729756 non-null bool\n",
      "ANTIG_calc                      729756 non-null int64\n",
      "dtypes: bool(1), datetime64[ns](4), float64(5), int64(6), object(13)\n",
      "memory usage: 156.6+ MB\n"
     ]
    }
   ],
   "source": [
    "df_vigabt = pd.read_feather(path_vigabt)\n",
    "df_vigabt.info()"
   ]
  },
  {
   "cell_type": "markdown",
   "metadata": {
    "hidden": true
   },
   "source": [
    "<b>VIGABT_POLIZAS: has both keys ID(CIF_ID) & NUM_SECU_POL</b>"
   ]
  },
  {
   "cell_type": "code",
   "execution_count": 5,
   "metadata": {
    "hidden": true
   },
   "outputs": [],
   "source": [
    "# rename ID for CIF_ID\n",
    "df_vigabt.rename(columns={\"ID\": \"CIF_ID\"}, inplace=True)"
   ]
  },
  {
   "cell_type": "code",
   "execution_count": 6,
   "metadata": {
    "hidden": true
   },
   "outputs": [
    {
     "data": {
      "text/plain": [
       "1.0"
      ]
     },
     "execution_count": 6,
     "metadata": {},
     "output_type": "execute_result"
    }
   ],
   "source": [
    "# checking ID is unique\n",
    "df_vigabt[\"NUM_SECU_POL\"].nunique() / len(df_vigabt)"
   ]
  },
  {
   "cell_type": "code",
   "execution_count": 7,
   "metadata": {
    "hidden": true
   },
   "outputs": [
    {
     "data": {
      "text/plain": [
       "0.05869633137651489"
      ]
     },
     "execution_count": 7,
     "metadata": {},
     "output_type": "execute_result"
    }
   ],
   "source": [
    "# checking ID is unique\n",
    "df_vigabt[\"CIF_ID\"].nunique() / len(df_vigabt)"
   ]
  },
  {
   "cell_type": "code",
   "execution_count": 8,
   "metadata": {
    "hidden": true
   },
   "outputs": [
    {
     "data": {
      "text/plain": [
       "16647307.0    152\n",
       "19613011.0     79\n",
       "10991015.0     16\n",
       "10806326.0     13\n",
       "3081635.0      13\n",
       "Name: CIF_ID, dtype: int64"
      ]
     },
     "execution_count": 8,
     "metadata": {},
     "output_type": "execute_result"
    }
   ],
   "source": [
    "# showing most repeated clients\n",
    "df_vigabt[\"CIF_ID\"].value_counts().head()"
   ]
  },
  {
   "cell_type": "markdown",
   "metadata": {
    "heading_collapsed": true
   },
   "source": [
    "## Loading BTT_ASEGURADOS"
   ]
  },
  {
   "cell_type": "code",
   "execution_count": 9,
   "metadata": {
    "hidden": true
   },
   "outputs": [],
   "source": [
    "# path to dataset\n",
    "path_aseg = \"../../../data/interim/3. row_red/BTT_ASEGURADOS-red_col-red_cols-clean-unique_CIF_ID.feather\"\n",
    "\n",
    "if not(os.path.exists(path_aseg) and os.path.isfile(path_aseg)):\n",
    "    raise Exception(\"File {} doesn't exists.\".format(path_aseg))"
   ]
  },
  {
   "cell_type": "code",
   "execution_count": 10,
   "metadata": {
    "hidden": true
   },
   "outputs": [
    {
     "name": "stdout",
     "output_type": "stream",
     "text": [
      "<class 'pandas.core.frame.DataFrame'>\n",
      "RangeIndex: 3385271 entries, 0 to 3385270\n",
      "Data columns (total 6 columns):\n",
      "CIF_ID              float64\n",
      "COD_EST_CIVIL       object\n",
      "FECHA_DESDE         datetime64[ns]\n",
      "FECHA_NACIMIENTO    datetime64[ns]\n",
      "SEXO_ASEG           object\n",
      "TIPO_ACTIVIDAD      object\n",
      "dtypes: datetime64[ns](2), float64(1), object(3)\n",
      "memory usage: 155.0+ MB\n"
     ]
    },
    {
     "name": "stderr",
     "output_type": "stream",
     "text": [
      "/home/voolkia/anaconda3/lib/python3.6/site-packages/pyarrow/pandas_compat.py:752: FutureWarning: .labels was deprecated in version 0.24.0. Use .codes instead.\n",
      "  labels, = index.labels\n"
     ]
    }
   ],
   "source": [
    "df_aseg = pd.read_feather(path_aseg)\n",
    "df_aseg.info()"
   ]
  },
  {
   "cell_type": "code",
   "execution_count": 11,
   "metadata": {
    "hidden": true
   },
   "outputs": [
    {
     "data": {
      "text/plain": [
       "1.0"
      ]
     },
     "execution_count": 11,
     "metadata": {},
     "output_type": "execute_result"
    }
   ],
   "source": [
    "# checking ID is unique\n",
    "df_aseg[\"CIF_ID\"].nunique() / len(df_aseg)"
   ]
  },
  {
   "cell_type": "markdown",
   "metadata": {
    "heading_collapsed": true
   },
   "source": [
    "## Comparing VIGABT_POLIZAS vs BTT_ASEGURADOS\n",
    "Checking CIF_ID intersection"
   ]
  },
  {
   "cell_type": "code",
   "execution_count": 12,
   "metadata": {
    "hidden": true
   },
   "outputs": [
    {
     "data": {
      "text/plain": [
       "(42824, 99.97665405985899, 1.2650095073629262)"
      ]
     },
     "execution_count": 12,
     "metadata": {},
     "output_type": "execute_result"
    }
   ],
   "source": [
    "# Checking intersection between both datasets\n",
    "col = \"CIF_ID\"\n",
    "common = set(df_vigabt[col].unique()).intersection(set(df_aseg[col].unique()))\n",
    "len(common), len(common)/ df_vigabt[col].nunique() * 100, len(common)/ df_aseg[col].nunique() * 100"
   ]
  },
  {
   "cell_type": "code",
   "execution_count": 13,
   "metadata": {
    "hidden": true
   },
   "outputs": [
    {
     "data": {
      "text/plain": [
       "11"
      ]
     },
     "execution_count": 13,
     "metadata": {},
     "output_type": "execute_result"
    }
   ],
   "source": [
    "diff = set(df_vigabt[col].unique()) - (set(df_aseg[col].unique()))\n",
    "len(diff)"
   ]
  },
  {
   "cell_type": "code",
   "execution_count": 15,
   "metadata": {
    "hidden": true
   },
   "outputs": [
    {
     "data": {
      "text/plain": [
       "{nan,\n",
       " 1744654.0,\n",
       " 1772415.0,\n",
       " 2620576.0,\n",
       " 2891556.0,\n",
       " 5944087.0,\n",
       " 6037762.0,\n",
       " 6102951.0,\n",
       " 7264544.0,\n",
       " 8558972.0,\n",
       " 23020616.0}"
      ]
     },
     "execution_count": 15,
     "metadata": {},
     "output_type": "execute_result"
    }
   ],
   "source": [
    "diff"
   ]
  },
  {
   "cell_type": "markdown",
   "metadata": {
    "heading_collapsed": true
   },
   "source": [
    "## Merging VIGABT_POLIZAS & BTT_ASEGURADOS"
   ]
  },
  {
   "cell_type": "code",
   "execution_count": 16,
   "metadata": {
    "hidden": true
   },
   "outputs": [
    {
     "name": "stdout",
     "output_type": "stream",
     "text": [
      "729756 3385271 729756\n"
     ]
    }
   ],
   "source": [
    "# Merging dropping not founded INVESTIGACIONES\n",
    "df_vigabt_aseg = pd.merge(df_vigabt, df_aseg, on=\"CIF_ID\", how=\"left\", suffixes=(\"_vigabt\", \"_aseg\"))\n",
    "print(len(df_vigabt), len(df_aseg), len(df_vigabt_aseg))"
   ]
  },
  {
   "cell_type": "code",
   "execution_count": 17,
   "metadata": {
    "hidden": true
   },
   "outputs": [
    {
     "name": "stdout",
     "output_type": "stream",
     "text": [
      "<class 'pandas.core.frame.DataFrame'>\n",
      "Int64Index: 729756 entries, 0 to 729755\n",
      "Data columns (total 34 columns):\n",
      "CANT_RENOVACION                 709911 non-null float64\n",
      "CAPITAL_ACCESORIOS              729756 non-null object\n",
      "CAPITAL_ASEGURADO_COTIZACION    725415 non-null object\n",
      "CAPITAL_VEHICULO                729756 non-null object\n",
      "COD_COBRO                       729756 non-null object\n",
      "COD_COBRO_ANTERIOR              604173 non-null object\n",
      "COD_POSTAL                      729756 non-null int64\n",
      "COD_PROD                        729756 non-null int64\n",
      "COD_RAMO                        729756 non-null int64\n",
      "COD_RIES                        729756 non-null int64\n",
      "COD_ZONA_CASCO                  729754 non-null float64\n",
      "COD_ZONA_RC                     729754 non-null float64\n",
      "COD_ZONA_ROBO                   729754 non-null float64\n",
      "CONV_COMISIONARIO               729756 non-null object\n",
      "FECHA_PROCESO                   729756 non-null datetime64[ns]\n",
      "FECHA_VENC_POL                  729756 non-null datetime64[ns]\n",
      "FECHA_VIG_ORIG_POL              729756 non-null datetime64[ns]\n",
      "FECHA_VIG_POL                   729756 non-null datetime64[ns]\n",
      "CIF_ID                          64646 non-null float64\n",
      "MCA_AGRAVANTE                   729582 non-null object\n",
      "MCA_EMPLEADO                    729756 non-null object\n",
      "MCA_MOVIMIENTO                  29103 non-null object\n",
      "MCA_POLIZA_VIP                  709911 non-null object\n",
      "NEGOCIO                         626653 non-null object\n",
      "NUM_SECU_POL                    729756 non-null int64\n",
      "PRENDARIO                       638122 non-null object\n",
      "SEGMENTO                        565119 non-null object\n",
      "cambio_cobro                    729756 non-null bool\n",
      "ANTIG_calc                      729756 non-null int64\n",
      "COD_EST_CIVIL                   59838 non-null object\n",
      "FECHA_DESDE                     64077 non-null datetime64[ns]\n",
      "FECHA_NACIMIENTO                63841 non-null datetime64[ns]\n",
      "SEXO_ASEG                       64218 non-null object\n",
      "TIPO_ACTIVIDAD                  64632 non-null object\n",
      "dtypes: bool(1), datetime64[ns](6), float64(5), int64(6), object(16)\n",
      "memory usage: 190.0+ MB\n"
     ]
    }
   ],
   "source": [
    "df_vigabt_aseg.info()"
   ]
  },
  {
   "cell_type": "markdown",
   "metadata": {
    "hidden": true
   },
   "source": [
    "### temporal saving (checkpoint)"
   ]
  },
  {
   "cell_type": "code",
   "execution_count": 18,
   "metadata": {
    "hidden": true
   },
   "outputs": [],
   "source": [
    "path_to_save = \"../../../data/interim/5. merged\"\n",
    "check_filename = \"VIGABT_POLIZAS+BTT_ASEGURADOS.feather\"\n",
    "df_vigabt_aseg.to_feather(os.path.join(path_to_save, check_filename))"
   ]
  },
  {
   "cell_type": "markdown",
   "metadata": {},
   "source": [
    "# Merging (VIGABT_POLIZAS & BTT_ASEGURADOS) & tb_cif"
   ]
  },
  {
   "cell_type": "markdown",
   "metadata": {
    "heading_collapsed": true
   },
   "source": [
    "## Restart from checkpoint (VIGABT_POLIZAS+BTT_ASEGURADOS)"
   ]
  },
  {
   "cell_type": "code",
   "execution_count": 23,
   "metadata": {
    "hidden": true
   },
   "outputs": [
    {
     "name": "stderr",
     "output_type": "stream",
     "text": [
      "/home/voolkia/anaconda3/lib/python3.6/site-packages/pyarrow/pandas_compat.py:752: FutureWarning: .labels was deprecated in version 0.24.0. Use .codes instead.\n",
      "  labels, = index.labels\n"
     ]
    },
    {
     "name": "stdout",
     "output_type": "stream",
     "text": [
      "<class 'pandas.core.frame.DataFrame'>\n",
      "RangeIndex: 729756 entries, 0 to 729755\n",
      "Data columns (total 34 columns):\n",
      "CANT_RENOVACION                 709911 non-null float64\n",
      "CAPITAL_ACCESORIOS              729756 non-null object\n",
      "CAPITAL_ASEGURADO_COTIZACION    725415 non-null object\n",
      "CAPITAL_VEHICULO                729756 non-null object\n",
      "COD_COBRO                       729756 non-null object\n",
      "COD_COBRO_ANTERIOR              604173 non-null object\n",
      "COD_POSTAL                      729756 non-null int64\n",
      "COD_PROD                        729756 non-null int64\n",
      "COD_RAMO                        729756 non-null int64\n",
      "COD_RIES                        729756 non-null int64\n",
      "COD_ZONA_CASCO                  729754 non-null float64\n",
      "COD_ZONA_RC                     729754 non-null float64\n",
      "COD_ZONA_ROBO                   729754 non-null float64\n",
      "CONV_COMISIONARIO               729756 non-null object\n",
      "FECHA_PROCESO                   729756 non-null datetime64[ns]\n",
      "FECHA_VENC_POL                  729756 non-null datetime64[ns]\n",
      "FECHA_VIG_ORIG_POL              729756 non-null datetime64[ns]\n",
      "FECHA_VIG_POL                   729756 non-null datetime64[ns]\n",
      "CIF_ID                          64646 non-null float64\n",
      "MCA_AGRAVANTE                   729582 non-null object\n",
      "MCA_EMPLEADO                    729756 non-null object\n",
      "MCA_MOVIMIENTO                  29103 non-null object\n",
      "MCA_POLIZA_VIP                  709911 non-null object\n",
      "NEGOCIO                         626653 non-null object\n",
      "NUM_SECU_POL                    729756 non-null int64\n",
      "PRENDARIO                       638122 non-null object\n",
      "SEGMENTO                        565119 non-null object\n",
      "cambio_cobro                    729756 non-null bool\n",
      "ANTIG_calc                      729756 non-null int64\n",
      "COD_EST_CIVIL                   59838 non-null object\n",
      "FECHA_DESDE                     64077 non-null datetime64[ns]\n",
      "FECHA_NACIMIENTO                63841 non-null datetime64[ns]\n",
      "SEXO_ASEG                       64218 non-null object\n",
      "TIPO_ACTIVIDAD                  64632 non-null object\n",
      "dtypes: bool(1), datetime64[ns](6), float64(5), int64(6), object(16)\n",
      "memory usage: 184.4+ MB\n"
     ]
    }
   ],
   "source": [
    "path = \"../../../data/interim/5. merged\"\n",
    "check_filename = \"VIGABT_POLIZAS+BTT_ASEGURADOS.feather\"\n",
    "path_file = os.path.join(path, check_filename)\n",
    "df_vigabt_aseg = pd.read_feather(path_file)\n",
    "df_vigabt_aseg.info()"
   ]
  },
  {
   "cell_type": "markdown",
   "metadata": {
    "heading_collapsed": true
   },
   "source": [
    "## Loading tb_cif"
   ]
  },
  {
   "cell_type": "code",
   "execution_count": 24,
   "metadata": {
    "hidden": true
   },
   "outputs": [],
   "source": [
    "# path to dataset\n",
    "path_cif = \"../../../data/interim/2. col_red_min/tb_cif-red_col-red_rows-clean.feather\"\n",
    "\n",
    "if not(os.path.exists(path_cif) and os.path.isfile(path_cif)):\n",
    "    raise Exception(\"File {} doesn't exists.\".format(path_cif))"
   ]
  },
  {
   "cell_type": "code",
   "execution_count": 25,
   "metadata": {
    "hidden": true
   },
   "outputs": [
    {
     "name": "stdout",
     "output_type": "stream",
     "text": [
      "<class 'pandas.core.frame.DataFrame'>\n",
      "RangeIndex: 174922 entries, 0 to 174921\n",
      "Data columns (total 6 columns):\n",
      "CLIENTE                    129422 non-null object\n",
      "CODIGO_NACION              172133 non-null object\n",
      "DATECO_TIPO_ACTIVIDAD      112412 non-null object\n",
      "DOMICILIO_CODIGO_POSTAL    148152 non-null float64\n",
      "HABILITADO                 38716 non-null object\n",
      "CIF_ID                     174922 non-null int64\n",
      "dtypes: float64(1), int64(1), object(4)\n",
      "memory usage: 8.0+ MB\n"
     ]
    },
    {
     "name": "stderr",
     "output_type": "stream",
     "text": [
      "/home/voolkia/anaconda3/lib/python3.6/site-packages/pyarrow/pandas_compat.py:752: FutureWarning: .labels was deprecated in version 0.24.0. Use .codes instead.\n",
      "  labels, = index.labels\n"
     ]
    }
   ],
   "source": [
    "df_cif = pd.read_feather(path_cif)\n",
    "df_cif.info()"
   ]
  },
  {
   "cell_type": "code",
   "execution_count": 26,
   "metadata": {
    "hidden": true
   },
   "outputs": [
    {
     "data": {
      "text/plain": [
       "1.0"
      ]
     },
     "execution_count": 26,
     "metadata": {},
     "output_type": "execute_result"
    }
   ],
   "source": [
    "# checking unique key\n",
    "df_cif[\"CIF_ID\"].nunique() / len(df_cif)"
   ]
  },
  {
   "cell_type": "markdown",
   "metadata": {},
   "source": [
    "## Comparing merged vs tb_cif\n",
    "Checking CIF_ID intersection"
   ]
  },
  {
   "cell_type": "code",
   "execution_count": 27,
   "metadata": {},
   "outputs": [
    {
     "data": {
      "text/plain": [
       "(12241, 28.5777653266097, 6.997976240838774)"
      ]
     },
     "execution_count": 27,
     "metadata": {},
     "output_type": "execute_result"
    }
   ],
   "source": [
    "# Checking intersection between both datasets\n",
    "id_common = set(df_vigabt_aseg[\"CIF_ID\"].unique()).intersection(set(df_cif[\"CIF_ID\"].unique()))\n",
    "len(id_common), len(id_common) / df_vigabt_aseg[\"CIF_ID\"].nunique() *100, len(id_common) / df_cif[\"CIF_ID\"].nunique() *100"
   ]
  },
  {
   "cell_type": "markdown",
   "metadata": {},
   "source": [
    "<b>Few rows in common</b>"
   ]
  },
  {
   "cell_type": "markdown",
   "metadata": {},
   "source": [
    "## Merging merged & tb_cif\n"
   ]
  },
  {
   "cell_type": "code",
   "execution_count": 28,
   "metadata": {},
   "outputs": [
    {
     "name": "stdout",
     "output_type": "stream",
     "text": [
      "729756 174922 729756\n"
     ]
    }
   ],
   "source": [
    "# Merging dropping not founded INVESTIGACIONES\n",
    "df_vigabt_aseg_cif = pd.merge(df_vigabt_aseg, df_cif, on=\"CIF_ID\", how=\"left\", suffixes=(\"\", \"_tbcif\"))\n",
    "print(len(df_vigabt_aseg_cif), len(df_cif), len(df_vigabt_aseg))"
   ]
  },
  {
   "cell_type": "markdown",
   "metadata": {},
   "source": [
    "### saving merged dataset"
   ]
  },
  {
   "cell_type": "code",
   "execution_count": 30,
   "metadata": {},
   "outputs": [],
   "source": [
    "path_to_save = \"../../../data/interim/5. merged\"\n",
    "check_filename = \"VIGABT_POLIZAS+BTT_ASEGURADOS+tb_cif.feather\"\n",
    "df_vigabt_aseg_cif.to_feather(os.path.join(path_to_save, check_filename))"
   ]
  },
  {
   "cell_type": "code",
   "execution_count": null,
   "metadata": {},
   "outputs": [],
   "source": []
  }
 ],
 "metadata": {
  "kernelspec": {
   "display_name": "Python 3",
   "language": "python",
   "name": "python3"
  },
  "language_info": {
   "codemirror_mode": {
    "name": "ipython",
    "version": 3
   },
   "file_extension": ".py",
   "mimetype": "text/x-python",
   "name": "python",
   "nbconvert_exporter": "python",
   "pygments_lexer": "ipython3",
   "version": "3.6.8"
  },
  "varInspector": {
   "cols": {
    "lenName": 16,
    "lenType": 16,
    "lenVar": 40
   },
   "kernels_config": {
    "python": {
     "delete_cmd_postfix": "",
     "delete_cmd_prefix": "del ",
     "library": "var_list.py",
     "varRefreshCmd": "print(var_dic_list())"
    },
    "r": {
     "delete_cmd_postfix": ") ",
     "delete_cmd_prefix": "rm(",
     "library": "var_list.r",
     "varRefreshCmd": "cat(var_dic_list()) "
    }
   },
   "position": {
    "height": "241px",
    "left": "1483px",
    "right": "20px",
    "top": "120px",
    "width": "350px"
   },
   "types_to_exclude": [
    "module",
    "function",
    "builtin_function_or_method",
    "instance",
    "_Feature"
   ],
   "window_display": false
  }
 },
 "nbformat": 4,
 "nbformat_minor": 2
}
