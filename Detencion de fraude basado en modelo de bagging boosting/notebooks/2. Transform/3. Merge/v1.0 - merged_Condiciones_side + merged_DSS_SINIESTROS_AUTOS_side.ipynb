{
 "cells": [
  {
   "cell_type": "markdown",
   "metadata": {},
   "source": [
    "## Merging merged_Condiciones_side + merged_DSS_SINIESTROS_AUTOS_side"
   ]
  },
  {
   "cell_type": "code",
   "execution_count": 1,
   "metadata": {},
   "outputs": [],
   "source": [
    "import os\n",
    "\n",
    "import pandas as pd"
   ]
  },
  {
   "cell_type": "code",
   "execution_count": 2,
   "metadata": {},
   "outputs": [],
   "source": [
    "# general configs\n",
    "pd.set_option(\"display.max_columns\", 500)\n",
    "pd.set_option(\"display.max_rows\", 500)"
   ]
  },
  {
   "cell_type": "markdown",
   "metadata": {},
   "source": [
    "## Merging merged_Condiciones_side + merged_DSS_SINIESTROS_AUTOS_side"
   ]
  },
  {
   "cell_type": "markdown",
   "metadata": {
    "heading_collapsed": true
   },
   "source": [
    "## Loading merged_Condiciones_side"
   ]
  },
  {
   "cell_type": "code",
   "execution_count": 3,
   "metadata": {
    "hidden": true
   },
   "outputs": [],
   "source": [
    "merged_path = \"../../../data/interim/5. merged\"\n",
    "cond_filename = \"condiciones_Investigacion_preguntas.feather\"\n",
    "\n",
    "# path to dataset\n",
    "path_cond = os.path.join(merged_path, cond_filename)\n",
    "\n",
    "if not(os.path.exists(path_cond) and os.path.isfile(path_cond)):\n",
    "    raise Exception(\"File {} doesn't exists.\".format(path_cond))"
   ]
  },
  {
   "cell_type": "code",
   "execution_count": 4,
   "metadata": {
    "hidden": true
   },
   "outputs": [
    {
     "name": "stdout",
     "output_type": "stream",
     "text": [
      "<class 'pandas.core.frame.DataFrame'>\n",
      "RangeIndex: 1231015 entries, 0 to 1231014\n",
      "Data columns (total 66 columns):\n",
      "NUM_SECU_EXPED        1231015 non-null int64\n",
      "cond_04               108057 non-null float64\n",
      "cond_05               33644 non-null float64\n",
      "cond_06               33644 non-null float64\n",
      "cond_09               34337 non-null float64\n",
      "cond_11               131464 non-null float64\n",
      "cond_12               14119 non-null float64\n",
      "cond_32               74055 non-null float64\n",
      "cond_37               11644 non-null float64\n",
      "cond_C1               191102 non-null float64\n",
      "cond_C10              75339 non-null float64\n",
      "cond_C11              75339 non-null float64\n",
      "cond_C12              75339 non-null float64\n",
      "cond_C13              670758 non-null float64\n",
      "cond_C14              10667 non-null float64\n",
      "cond_C15              261730 non-null float64\n",
      "cond_C16              261730 non-null float64\n",
      "cond_C17              35174 non-null float64\n",
      "cond_C18              17275 non-null float64\n",
      "cond_C19              17275 non-null float64\n",
      "cond_C2               14229 non-null float64\n",
      "cond_C20              17275 non-null float64\n",
      "cond_C21              35174 non-null float64\n",
      "cond_C3               14229 non-null float64\n",
      "cond_C4               13069 non-null float64\n",
      "cond_C5               14229 non-null float64\n",
      "cond_C6               680784 non-null float64\n",
      "cond_C7               544348 non-null float64\n",
      "cond_C8               696693 non-null float64\n",
      "cond_C9               680784 non-null float64\n",
      "FEC_ACT               1231015 non-null datetime64[ns]\n",
      "USR_ACT               1231015 non-null object\n",
      "total_condicion       1231015 non-null float64\n",
      "es_gte_5              1231015 non-null bool\n",
      "COD_FRAUDE            12077 non-null float64\n",
      "COD_RAMO              12742 non-null float64\n",
      "EXISTE_FRAUDE         12742 non-null object\n",
      "EXISTE_INHABILITAR    12742 non-null object\n",
      "EXISTE_INVEST         12742 non-null object\n",
      "preg_1                2541 non-null object\n",
      "preg_2                52885 non-null object\n",
      "preg_3                51670 non-null object\n",
      "preg_4                54226 non-null object\n",
      "preg_5                66588 non-null object\n",
      "preg_6                66588 non-null object\n",
      "preg_7                54226 non-null object\n",
      "preg_8                56938 non-null object\n",
      "preg_9                66588 non-null object\n",
      "preg_10               54226 non-null object\n",
      "preg_11               66588 non-null object\n",
      "preg_12               12524 non-null object\n",
      "preg_15               61479 non-null object\n",
      "preg_16               12524 non-null object\n",
      "preg_18               10292 non-null object\n",
      "preg_19               10292 non-null object\n",
      "preg_22               7531 non-null object\n",
      "preg_24               10293 non-null object\n",
      "preg_27               12524 non-null object\n",
      "preg_28               12524 non-null object\n",
      "preg_30               12524 non-null object\n",
      "preg_31               64804 non-null object\n",
      "preg_32               67597 non-null object\n",
      "preg_33               64804 non-null object\n",
      "preg_34               33609 non-null object\n",
      "preg_36               16511 non-null object\n",
      "preg_37               10267 non-null object\n",
      "dtypes: bool(1), datetime64[ns](1), float64(32), int64(1), object(31)\n",
      "memory usage: 611.6+ MB\n"
     ]
    }
   ],
   "source": [
    "df_cond = pd.read_feather(path_cond)\n",
    "df_cond.info()"
   ]
  },
  {
   "cell_type": "code",
   "execution_count": 5,
   "metadata": {
    "hidden": true
   },
   "outputs": [
    {
     "data": {
      "text/plain": [
       "1.0"
      ]
     },
     "execution_count": 5,
     "metadata": {},
     "output_type": "execute_result"
    }
   ],
   "source": [
    "# checking ID is unique\n",
    "df_cond[\"NUM_SECU_EXPED\"].nunique() / len(df_cond)"
   ]
  },
  {
   "cell_type": "markdown",
   "metadata": {
    "heading_collapsed": true
   },
   "source": [
    "## Loading  merged_DSS_SINIESTROS_AUTOS_side"
   ]
  },
  {
   "cell_type": "code",
   "execution_count": 6,
   "metadata": {
    "hidden": true
   },
   "outputs": [],
   "source": [
    "sini_filename = \"DSS_SINIESTROS_AUTOS+DM_RETAIL+BTT_ASEGURADOS+tb_cif.feather\"\n",
    "\n",
    "# path to dataset\n",
    "path_sini = os.path.join(merged_path, sini_filename)\n",
    "\n",
    "if not(os.path.exists(path_sini) and os.path.isfile(path_sini)):\n",
    "    raise Exception(\"File {} doesn't exists.\".format(path_sini))"
   ]
  },
  {
   "cell_type": "code",
   "execution_count": 7,
   "metadata": {
    "hidden": true
   },
   "outputs": [
    {
     "name": "stdout",
     "output_type": "stream",
     "text": [
      "<class 'pandas.core.frame.DataFrame'>\n",
      "RangeIndex: 1144995 entries, 0 to 1144994\n",
      "Data columns (total 82 columns):\n",
      "CATASTROFICO               1144989 non-null object\n",
      "CERRADURA_BAUL             504402 non-null object\n",
      "CERRADURA_DERECHA          504402 non-null object\n",
      "CERRADURA_IZQUIERDA        504402 non-null object\n",
      "CODIGO_BAJA                1562 non-null float64\n",
      "CODIGO_CARATULA            30240 non-null float64\n",
      "CODIGO_REAPERTURA          58512 non-null float64\n",
      "CODIGO_VEHICULO            1144905 non-null float64\n",
      "COD_ACT_BENEF              463893 non-null float64\n",
      "COD_CAUSA_SINI             1144995 non-null float64\n",
      "COD_POST_OCURRENCIA        1144991 non-null float64\n",
      "COD_POST_POLIZA            1144971 non-null float64\n",
      "COD_POST_TERC              194056 non-null float64\n",
      "COD_RAMO                   1144995 non-null int64\n",
      "COD_RIES                   1144995 non-null float64\n",
      "CONDICION_ROBO_EXP50       13085 non-null float64\n",
      "DANOS_MATERIALES           1144989 non-null object\n",
      "DESCRIPCION_TIPO           1144993 non-null object\n",
      "DESCRIPCION_VEHICULO       1144905 non-null object\n",
      "ESTADO_CIVIL               1129107 non-null object\n",
      "ESTADO_CIVIL_TERC          184865 non-null object\n",
      "ESTAD_VEH_ASEG             968507 non-null float64\n",
      "FALTANTE                   1144992 non-null object\n",
      "FECHA_SINI                 1144995 non-null datetime64[ns]\n",
      "MCA_COASEG                 1144995 non-null bool\n",
      "MCA_JUICIO                 30240 non-null object\n",
      "MCA_VIP                    1144989 non-null object\n",
      "METRO                      1144989 non-null object\n",
      "NUM_SECU_EXPED             1144995 non-null float64\n",
      "NUM_SECU_POL               1144995 non-null int64\n",
      "OCUPACION_ASEG             1144051 non-null float64\n",
      "SEXO                       1144907 non-null object\n",
      "SEXO_TERC                  611769 non-null object\n",
      "TELEFONO_TERC              100621 non-null object\n",
      "TIPO                       1144993 non-null float64\n",
      "TIPO_EXPED                 1144995 non-null object\n",
      "TIPO_LESION                117070 non-null object\n",
      "TIPO_LESION_MAXIMA         30240 non-null object\n",
      "TIPO_SINIESTRO             1144992 non-null object\n",
      "USO                        1144993 non-null float64\n",
      "dias_entre_denu_y_sini     1144995 non-null int64\n",
      "dist_fformal_fsini         166482 non-null float64\n",
      "dist_fformal_fdenu         166482 non-null float64\n",
      "existe_FECHA_FORMAL        1144995 non-null bool\n",
      "ACA                        10675 non-null object\n",
      "ANTIG_MESES                10675 non-null float64\n",
      "APTO_E_MAIL                10675 non-null object\n",
      "CANAL                      10672 non-null object\n",
      "CANAL_ORIGEN               10675 non-null object\n",
      "CIF_ID                     10675 non-null float64\n",
      "COBERTURA_PLAN             9685 non-null object\n",
      "COD_MARCA                  9685 non-null float64\n",
      "COD_MOD                    9685 non-null float64\n",
      "DESC_EQUIPO                2095 non-null object\n",
      "ES_ELEGIBLE                10675 non-null object\n",
      "FLAG_EBILLING              10675 non-null object\n",
      "FLAG_ROBO_CONTENIDO        10675 non-null object\n",
      "FOR_COBRO                  10675 non-null object\n",
      "GRUPO_COMBUSTIBLE          9685 non-null float64\n",
      "MARCA                      9685 non-null object\n",
      "MARCA_SIMPLIFICADA         9685 non-null object\n",
      "MCA_0KM                    10661 non-null float64\n",
      "MODELO                     9685 non-null object\n",
      "NEGOCIO                    10588 non-null object\n",
      "ORIGEN_DESC                10675 non-null object\n",
      "PERIODO_FACT               10675 non-null float64\n",
      "PREMIO                     10675 non-null object\n",
      "PRIMA                      10675 non-null object\n",
      "PRODUCTO_PLAN              9685 non-null object\n",
      "PROVEEDOR_EQUIPO           2095 non-null float64\n",
      "SCORE_PLAN                 4339 non-null object\n",
      "SUMA_ASEG                  10671 non-null object\n",
      "VENC_PRENDA                5912 non-null datetime64[ns]\n",
      "ZONA_RETAIL                10672 non-null object\n",
      "COD_EST_CIVIL              4834 non-null object\n",
      "FECHA_DESDE                5399 non-null datetime64[ns]\n",
      "TIPO_ACTIVIDAD             5399 non-null object\n",
      "CLIENTE                    3112 non-null object\n",
      "CODIGO_NACION              3688 non-null object\n",
      "DATECO_TIPO_ACTIVIDAD      1573 non-null object\n",
      "DOMICILIO_CODIGO_POSTAL    3546 non-null float64\n",
      "HABILITADO                 464 non-null object\n",
      "dtypes: bool(2), datetime64[ns](3), float64(27), int64(3), object(47)\n",
      "memory usage: 701.0+ MB\n"
     ]
    }
   ],
   "source": [
    "df_sini = pd.read_feather(path_sini)\n",
    "df_sini.info()"
   ]
  },
  {
   "cell_type": "code",
   "execution_count": 8,
   "metadata": {
    "hidden": true
   },
   "outputs": [
    {
     "data": {
      "text/plain": [
       "1.0"
      ]
     },
     "execution_count": 8,
     "metadata": {},
     "output_type": "execute_result"
    }
   ],
   "source": [
    "# checking ID is unique\n",
    "df_sini[\"NUM_SECU_EXPED\"].nunique() / len(df_sini)"
   ]
  },
  {
   "cell_type": "markdown",
   "metadata": {},
   "source": [
    "## Merging merged_Condiciones_side & merged_DSS_SINIESTROS_AUTOS_side"
   ]
  },
  {
   "cell_type": "code",
   "execution_count": 9,
   "metadata": {},
   "outputs": [
    {
     "name": "stdout",
     "output_type": "stream",
     "text": [
      "1231015 1144995 1231015\n"
     ]
    }
   ],
   "source": [
    "# Merging dropping not founded in DSS_SINIESTROS_AUTOS\n",
    "df_merged = pd.merge(df_cond, df_sini, on=\"NUM_SECU_EXPED\", how=\"left\", suffixes=(\"_cond_side\", \"_sini_side\"))\n",
    "print(len(df_cond), len(df_sini), len(df_merged))"
   ]
  },
  {
   "cell_type": "markdown",
   "metadata": {},
   "source": [
    "### saving merged dataset"
   ]
  },
  {
   "cell_type": "code",
   "execution_count": 10,
   "metadata": {},
   "outputs": [],
   "source": [
    "path_to_save = \"../../../data/interim/5. merged\"\n",
    "check_filename = \"merged_Condiciones_side + merged_DSS_SINIESTROS_AUTOS_side.feather\"\n",
    "df_merged.to_feather(os.path.join(path_to_save, check_filename))"
   ]
  },
  {
   "cell_type": "code",
   "execution_count": null,
   "metadata": {},
   "outputs": [],
   "source": []
  }
 ],
 "metadata": {
  "kernelspec": {
   "display_name": "Python 3",
   "language": "python",
   "name": "python3"
  },
  "language_info": {
   "codemirror_mode": {
    "name": "ipython",
    "version": 3
   },
   "file_extension": ".py",
   "mimetype": "text/x-python",
   "name": "python",
   "nbconvert_exporter": "python",
   "pygments_lexer": "ipython3",
   "version": "3.6.8"
  },
  "varInspector": {
   "cols": {
    "lenName": 16,
    "lenType": 16,
    "lenVar": 40
   },
   "kernels_config": {
    "python": {
     "delete_cmd_postfix": "",
     "delete_cmd_prefix": "del ",
     "library": "var_list.py",
     "varRefreshCmd": "print(var_dic_list())"
    },
    "r": {
     "delete_cmd_postfix": ") ",
     "delete_cmd_prefix": "rm(",
     "library": "var_list.r",
     "varRefreshCmd": "cat(var_dic_list()) "
    }
   },
   "types_to_exclude": [
    "module",
    "function",
    "builtin_function_or_method",
    "instance",
    "_Feature"
   ],
   "window_display": false
  }
 },
 "nbformat": 4,
 "nbformat_minor": 2
}
