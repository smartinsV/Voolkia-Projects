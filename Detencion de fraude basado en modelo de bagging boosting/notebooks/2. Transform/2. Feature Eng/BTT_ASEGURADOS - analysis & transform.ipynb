{
 "cells": [
  {
   "cell_type": "code",
   "execution_count": 1,
   "metadata": {},
   "outputs": [],
   "source": [
    "import os\n",
    "\n",
    "import pandas as pd"
   ]
  },
  {
   "cell_type": "code",
   "execution_count": 2,
   "metadata": {},
   "outputs": [],
   "source": [
    "# general configs\n",
    "pd.set_option(\"display.max_columns\", 500)"
   ]
  },
  {
   "cell_type": "markdown",
   "metadata": {},
   "source": [
    "# condiciones - analysis"
   ]
  },
  {
   "cell_type": "code",
   "execution_count": 102,
   "metadata": {},
   "outputs": [],
   "source": [
    "# setting configs and constants\n",
    "# path to raw dataset\n",
    "PATH = \"../../../data/interim/1. col_red\"\n",
    "FILENAME = \"BTT_ASEGURADOS-red_col.feather\"\n",
    "RAW_FILE = os.path.join(PATH, FILENAME)\n",
    "\n",
    "if not(os.path.exists(RAW_FILE) and os.path.isfile(RAW_FILE)):\n",
    "    raise Exception(\"File doesn't exists.\")"
   ]
  },
  {
   "cell_type": "markdown",
   "metadata": {},
   "source": [
    "## Loading database"
   ]
  },
  {
   "cell_type": "code",
   "execution_count": 103,
   "metadata": {},
   "outputs": [
    {
     "name": "stdout",
     "output_type": "stream",
     "text": [
      "<class 'pandas.core.frame.DataFrame'>\n",
      "RangeIndex: 3479842 entries, 0 to 3479841\n",
      "Data columns (total 6 columns):\n",
      "CIF_ID              float64\n",
      "COD_EST_CIVIL       object\n",
      "FECHA_DESDE         datetime64[ns]\n",
      "FECHA_NACIMIENTO    datetime64[ns]\n",
      "SEXO_ASEG           object\n",
      "TIPO_ACTIVIDAD      object\n",
      "dtypes: datetime64[ns](2), float64(1), object(3)\n",
      "memory usage: 159.3+ MB\n"
     ]
    },
    {
     "name": "stderr",
     "output_type": "stream",
     "text": [
      "/home/voolkia/anaconda3/lib/python3.6/site-packages/pyarrow/pandas_compat.py:752: FutureWarning: .labels was deprecated in version 0.24.0. Use .codes instead.\n",
      "  labels, = index.labels\n"
     ]
    }
   ],
   "source": [
    "# usecols = []\n",
    "df = pd.read_feather(RAW_FILE)\n",
    "df.info()"
   ]
  },
  {
   "cell_type": "code",
   "execution_count": 104,
   "metadata": {},
   "outputs": [
    {
     "data": {
      "text/plain": [
       "3385271"
      ]
     },
     "execution_count": 104,
     "metadata": {},
     "output_type": "execute_result"
    }
   ],
   "source": [
    "df[\"CIF_ID\"].nunique()"
   ]
  },
  {
   "cell_type": "markdown",
   "metadata": {},
   "source": [
    "## formatting columns"
   ]
  },
  {
   "cell_type": "code",
   "execution_count": null,
   "metadata": {},
   "outputs": [],
   "source": []
  },
  {
   "cell_type": "markdown",
   "metadata": {},
   "source": [
    "## dropping repeated columns"
   ]
  },
  {
   "cell_type": "code",
   "execution_count": 105,
   "metadata": {},
   "outputs": [],
   "source": [
    "# df.drop(columns=[\"FECHA_NACIMIENTO\", \"SEXO_ASEG\"], inplace=True)"
   ]
  },
  {
   "cell_type": "markdown",
   "metadata": {},
   "source": [
    "## deleting rows"
   ]
  },
  {
   "cell_type": "code",
   "execution_count": 106,
   "metadata": {},
   "outputs": [
    {
     "name": "stdout",
     "output_type": "stream",
     "text": [
      "<class 'pandas.core.frame.DataFrame'>\n",
      "RangeIndex: 3479842 entries, 0 to 3479841\n",
      "Data columns (total 6 columns):\n",
      "CIF_ID              float64\n",
      "COD_EST_CIVIL       object\n",
      "FECHA_DESDE         datetime64[ns]\n",
      "FECHA_NACIMIENTO    datetime64[ns]\n",
      "SEXO_ASEG           object\n",
      "TIPO_ACTIVIDAD      object\n",
      "dtypes: datetime64[ns](2), float64(1), object(3)\n",
      "memory usage: 159.3+ MB\n"
     ]
    }
   ],
   "source": [
    "df.info()"
   ]
  },
  {
   "cell_type": "code",
   "execution_count": 107,
   "metadata": {},
   "outputs": [
    {
     "data": {
      "text/plain": [
       "1071"
      ]
     },
     "execution_count": 107,
     "metadata": {},
     "output_type": "execute_result"
    }
   ],
   "source": [
    "# checking for nulls\n",
    "df[\"CIF_ID\"].isna().sum()"
   ]
  },
  {
   "cell_type": "code",
   "execution_count": 108,
   "metadata": {},
   "outputs": [
    {
     "name": "stdout",
     "output_type": "stream",
     "text": [
      "<class 'pandas.core.frame.DataFrame'>\n",
      "Int64Index: 3478771 entries, 0 to 3479841\n",
      "Data columns (total 6 columns):\n",
      "CIF_ID              float64\n",
      "COD_EST_CIVIL       object\n",
      "FECHA_DESDE         datetime64[ns]\n",
      "FECHA_NACIMIENTO    datetime64[ns]\n",
      "SEXO_ASEG           object\n",
      "TIPO_ACTIVIDAD      object\n",
      "dtypes: datetime64[ns](2), float64(1), object(3)\n",
      "memory usage: 185.8+ MB\n"
     ]
    }
   ],
   "source": [
    "# option 1\n",
    "# df.dropna(axis=0, subset=[\"CIF_ID\"], inplace=True)\n",
    "# option 2\n",
    "df = df[~df[\"CIF_ID\"].isna()]\n",
    "df.info()"
   ]
  },
  {
   "cell_type": "code",
   "execution_count": 109,
   "metadata": {},
   "outputs": [
    {
     "data": {
      "text/plain": [
       "3385271"
      ]
     },
     "execution_count": 109,
     "metadata": {},
     "output_type": "execute_result"
    }
   ],
   "source": [
    "df[\"CIF_ID\"].nunique()"
   ]
  },
  {
   "cell_type": "code",
   "execution_count": 110,
   "metadata": {},
   "outputs": [
    {
     "data": {
      "text/plain": [
       "19552070.0    1547\n",
       "18408293.0     652\n",
       "19094921.0     423\n",
       "22751283.0     349\n",
       "Name: CIF_ID, dtype: int64"
      ]
     },
     "execution_count": 110,
     "metadata": {},
     "output_type": "execute_result"
    }
   ],
   "source": [
    "df[\"CIF_ID\"].value_counts(dropna=False).head(4)"
   ]
  },
  {
   "cell_type": "code",
   "execution_count": 111,
   "metadata": {},
   "outputs": [
    {
     "data": {
      "text/plain": [
       "3478771"
      ]
     },
     "execution_count": 111,
     "metadata": {},
     "output_type": "execute_result"
    }
   ],
   "source": [
    "3479842 - 1071 # checking diff"
   ]
  },
  {
   "cell_type": "code",
   "execution_count": 112,
   "metadata": {},
   "outputs": [
    {
     "name": "stdout",
     "output_type": "stream",
     "text": [
      "<class 'pandas.core.frame.DataFrame'>\n",
      "Int64Index: 3478771 entries, 0 to 3479841\n",
      "Data columns (total 6 columns):\n",
      "CIF_ID              float64\n",
      "COD_EST_CIVIL       object\n",
      "FECHA_DESDE         datetime64[ns]\n",
      "FECHA_NACIMIENTO    datetime64[ns]\n",
      "SEXO_ASEG           object\n",
      "TIPO_ACTIVIDAD      object\n",
      "dtypes: datetime64[ns](2), float64(1), object(3)\n",
      "memory usage: 185.8+ MB\n"
     ]
    }
   ],
   "source": [
    "df.info()"
   ]
  },
  {
   "cell_type": "code",
   "execution_count": 113,
   "metadata": {},
   "outputs": [
    {
     "data": {
      "text/plain": [
       "SinDato    2186577\n",
       "EMPL        552476\n",
       "ADMI        118156\n",
       "OTRO        109773\n",
       "COME         68089\n",
       "JUBI         53820\n",
       "ADNI         40446\n",
       "DOCE         35444\n",
       "AMAD         30520\n",
       "ABOG         27035\n",
       "MEDI         13713\n",
       "FUNC         12464\n",
       "ESTU         11928\n",
       "ENCE          9054\n",
       "POLI          7526\n",
       "INGE          6775\n",
       "CONT          6443\n",
       "CHOF          6419\n",
       "MILI          5849\n",
       "EMPR          5559\n",
       "OPER          5038\n",
       "DESE          4044\n",
       "ADEM          4023\n",
       "ARQU          3992\n",
       "MECA          3834\n",
       "ALBA          3619\n",
       "VEND          3556\n",
       "DIPLO         3438\n",
       "ESCB          3215\n",
       "ENFE          2865\n",
       "            ...   \n",
       "780000           1\n",
       "649100           1\n",
       "453292           1\n",
       "SERV             1\n",
       "261091           1\n",
       "643009           1\n",
       "661130           1\n",
       "139201           1\n",
       "072910           1\n",
       "611200           1\n",
       "104013           1\n",
       "269422           1\n",
       "491120           1\n",
       "011341           1\n",
       "502101           1\n",
       "106120           1\n",
       "275020           1\n",
       "672200           1\n",
       "282600           1\n",
       "923300           1\n",
       "275092           1\n",
       "160091           1\n",
       "603200           1\n",
       "062000           1\n",
       "269200           1\n",
       "151202           1\n",
       "272000           1\n",
       "151430           1\n",
       "502200           1\n",
       "102001           1\n",
       "Name: TIPO_ACTIVIDAD, Length: 1820, dtype: int64"
      ]
     },
     "execution_count": 113,
     "metadata": {},
     "output_type": "execute_result"
    }
   ],
   "source": [
    "df[\"TIPO_ACTIVIDAD\"].replace(\"SinDato\", np.nan)\n",
    "# this doens't work\n",
    "#df[df[\"TIPO_ACTIVIDAD\"] == \"SinDato\"] = np.nan\n",
    "df[\"TIPO_ACTIVIDAD\"].value_counts(dropna=False)"
   ]
  },
  {
   "cell_type": "code",
   "execution_count": 114,
   "metadata": {},
   "outputs": [
    {
     "data": {
      "text/plain": [
       "3385271"
      ]
     },
     "execution_count": 114,
     "metadata": {},
     "output_type": "execute_result"
    }
   ],
   "source": [
    "df[\"CIF_ID\"].nunique()"
   ]
  },
  {
   "cell_type": "markdown",
   "metadata": {},
   "source": [
    "# saving into feather"
   ]
  },
  {
   "cell_type": "code",
   "execution_count": 115,
   "metadata": {},
   "outputs": [],
   "source": [
    "# convert format to save into feather\n"
   ]
  },
  {
   "cell_type": "code",
   "execution_count": 116,
   "metadata": {},
   "outputs": [
    {
     "data": {
      "text/plain": [
       "'BTT_ASEGURADOS-red_col'"
      ]
     },
     "execution_count": 116,
     "metadata": {},
     "output_type": "execute_result"
    }
   ],
   "source": [
    "file_save = FILENAME.split(\".\")[0]\n",
    "file_save"
   ]
  },
  {
   "cell_type": "code",
   "execution_count": null,
   "metadata": {},
   "outputs": [],
   "source": []
  },
  {
   "cell_type": "code",
   "execution_count": 117,
   "metadata": {},
   "outputs": [
    {
     "name": "stdout",
     "output_type": "stream",
     "text": [
      "../../../data/interim/2. col_red_min/BTT_ASEGURADOS-red_col-clean.feather\n"
     ]
    }
   ],
   "source": [
    "file_save = FILENAME.split(\".\")[0]\n",
    "to_save = f\"../../../data/interim/2. col_red_min/{file_save}-clean.feather\"\n",
    "df.reset_index(drop=True).to_feather(to_save)\n",
    "print(to_save)"
   ]
  },
  {
   "cell_type": "markdown",
   "metadata": {},
   "source": [
    "# Loading dataset to get unique CIF_ID"
   ]
  },
  {
   "cell_type": "code",
   "execution_count": 118,
   "metadata": {},
   "outputs": [],
   "source": [
    "to_load = f\"../../../data/interim/2. col_red_min/BTT_ASEGURADOS-red_col-clean.feather\""
   ]
  },
  {
   "cell_type": "code",
   "execution_count": 119,
   "metadata": {},
   "outputs": [
    {
     "name": "stdout",
     "output_type": "stream",
     "text": [
      "<class 'pandas.core.frame.DataFrame'>\n",
      "RangeIndex: 3478771 entries, 0 to 3478770\n",
      "Data columns (total 6 columns):\n",
      "CIF_ID              float64\n",
      "COD_EST_CIVIL       object\n",
      "FECHA_DESDE         datetime64[ns]\n",
      "FECHA_NACIMIENTO    datetime64[ns]\n",
      "SEXO_ASEG           object\n",
      "TIPO_ACTIVIDAD      object\n",
      "dtypes: datetime64[ns](2), float64(1), object(3)\n",
      "memory usage: 159.2+ MB\n"
     ]
    },
    {
     "name": "stderr",
     "output_type": "stream",
     "text": [
      "/home/voolkia/anaconda3/lib/python3.6/site-packages/pyarrow/pandas_compat.py:752: FutureWarning: .labels was deprecated in version 0.24.0. Use .codes instead.\n",
      "  labels, = index.labels\n"
     ]
    }
   ],
   "source": [
    "df = pd.read_feather(to_load)\n",
    "#df.drop(columns=\"index\", inplace=True)\n",
    "df.info()"
   ]
  },
  {
   "cell_type": "code",
   "execution_count": 120,
   "metadata": {},
   "outputs": [
    {
     "data": {
      "text/plain": [
       "3385271"
      ]
     },
     "execution_count": 120,
     "metadata": {},
     "output_type": "execute_result"
    }
   ],
   "source": [
    "df[\"CIF_ID\"].nunique()"
   ]
  },
  {
   "cell_type": "code",
   "execution_count": 121,
   "metadata": {},
   "outputs": [
    {
     "name": "stdout",
     "output_type": "stream",
     "text": [
      "<class 'pandas.core.frame.DataFrame'>\n",
      "Int64Index: 3385271 entries, 0 to 3478770\n",
      "Data columns (total 6 columns):\n",
      "CIF_ID              float64\n",
      "COD_EST_CIVIL       object\n",
      "FECHA_DESDE         datetime64[ns]\n",
      "FECHA_NACIMIENTO    datetime64[ns]\n",
      "SEXO_ASEG           object\n",
      "TIPO_ACTIVIDAD      object\n",
      "dtypes: datetime64[ns](2), float64(1), object(3)\n",
      "memory usage: 180.8+ MB\n"
     ]
    }
   ],
   "source": [
    "df.drop_duplicates(subset=[\"CIF_ID\"], keep=\"last\", inplace=True)\n",
    "df.info()"
   ]
  },
  {
   "cell_type": "code",
   "execution_count": 122,
   "metadata": {},
   "outputs": [
    {
     "data": {
      "text/plain": [
       "3385271"
      ]
     },
     "execution_count": 122,
     "metadata": {},
     "output_type": "execute_result"
    }
   ],
   "source": [
    "df[\"CIF_ID\"].nunique()"
   ]
  },
  {
   "cell_type": "code",
   "execution_count": 123,
   "metadata": {},
   "outputs": [
    {
     "data": {
      "text/html": [
       "<div>\n",
       "<style scoped>\n",
       "    .dataframe tbody tr th:only-of-type {\n",
       "        vertical-align: middle;\n",
       "    }\n",
       "\n",
       "    .dataframe tbody tr th {\n",
       "        vertical-align: top;\n",
       "    }\n",
       "\n",
       "    .dataframe thead th {\n",
       "        text-align: right;\n",
       "    }\n",
       "</style>\n",
       "<table border=\"1\" class=\"dataframe\">\n",
       "  <thead>\n",
       "    <tr style=\"text-align: right;\">\n",
       "      <th></th>\n",
       "      <th>CIF_ID</th>\n",
       "      <th>COD_EST_CIVIL</th>\n",
       "      <th>FECHA_DESDE</th>\n",
       "      <th>FECHA_NACIMIENTO</th>\n",
       "      <th>SEXO_ASEG</th>\n",
       "      <th>TIPO_ACTIVIDAD</th>\n",
       "    </tr>\n",
       "  </thead>\n",
       "  <tbody>\n",
       "  </tbody>\n",
       "</table>\n",
       "</div>"
      ],
      "text/plain": [
       "Empty DataFrame\n",
       "Columns: [CIF_ID, COD_EST_CIVIL, FECHA_DESDE, FECHA_NACIMIENTO, SEXO_ASEG, TIPO_ACTIVIDAD]\n",
       "Index: []"
      ]
     },
     "execution_count": 123,
     "metadata": {},
     "output_type": "execute_result"
    }
   ],
   "source": [
    "df[df[\"CIF_ID\"].isna()]"
   ]
  },
  {
   "cell_type": "code",
   "execution_count": 124,
   "metadata": {},
   "outputs": [],
   "source": [
    "to_save = f\"../../../data/interim/3. row_red/{file_save}-red_cols-clean-unique_CIF_ID.feather\"\n",
    "df.reset_index(drop=True).to_feather(to_save)"
   ]
  },
  {
   "cell_type": "code",
   "execution_count": 125,
   "metadata": {},
   "outputs": [
    {
     "name": "stdout",
     "output_type": "stream",
     "text": [
      "../../../data/interim/3. row_red/BTT_ASEGURADOS-red_col-red_cols-clean-unique_CIF_ID.feather\n"
     ]
    }
   ],
   "source": [
    "print(to_save)"
   ]
  },
  {
   "cell_type": "code",
   "execution_count": null,
   "metadata": {},
   "outputs": [],
   "source": []
  }
 ],
 "metadata": {
  "kernelspec": {
   "display_name": "Python 3",
   "language": "python",
   "name": "python3"
  },
  "language_info": {
   "codemirror_mode": {
    "name": "ipython",
    "version": 3
   },
   "file_extension": ".py",
   "mimetype": "text/x-python",
   "name": "python",
   "nbconvert_exporter": "python",
   "pygments_lexer": "ipython3",
   "version": "3.6.8"
  },
  "varInspector": {
   "cols": {
    "lenName": 16,
    "lenType": 16,
    "lenVar": 40
   },
   "kernels_config": {
    "python": {
     "delete_cmd_postfix": "",
     "delete_cmd_prefix": "del ",
     "library": "var_list.py",
     "varRefreshCmd": "print(var_dic_list())"
    },
    "r": {
     "delete_cmd_postfix": ") ",
     "delete_cmd_prefix": "rm(",
     "library": "var_list.r",
     "varRefreshCmd": "cat(var_dic_list()) "
    }
   },
   "position": {
    "height": "322px",
    "left": "1178px",
    "right": "20px",
    "top": "115px",
    "width": "506px"
   },
   "types_to_exclude": [
    "module",
    "function",
    "builtin_function_or_method",
    "instance",
    "_Feature"
   ],
   "window_display": false
  }
 },
 "nbformat": 4,
 "nbformat_minor": 2
}
