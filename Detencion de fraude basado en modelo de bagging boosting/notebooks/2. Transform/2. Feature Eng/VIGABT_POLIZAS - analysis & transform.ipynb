{
 "cells": [
  {
   "cell_type": "code",
   "execution_count": 1,
   "metadata": {},
   "outputs": [],
   "source": [
    "import os\n",
    "\n",
    "import pandas as pd"
   ]
  },
  {
   "cell_type": "code",
   "execution_count": 2,
   "metadata": {},
   "outputs": [],
   "source": [
    "# general configs\n",
    "pd.set_option(\"display.max_columns\", 500)"
   ]
  },
  {
   "cell_type": "markdown",
   "metadata": {},
   "source": [
    "# condiciones - analysis"
   ]
  },
  {
   "cell_type": "code",
   "execution_count": 3,
   "metadata": {},
   "outputs": [],
   "source": [
    "# setting configs and constants\n",
    "# path to raw dataset\n",
    "PATH = \"../../../data/interim/1. col_red\"\n",
    "FILENAME = \"VIGABT_POLIZAS-red_col.feather\"\n",
    "RAW_FILE = os.path.join(PATH, FILENAME)\n",
    "\n",
    "if not(os.path.exists(RAW_FILE) and os.path.isfile(RAW_FILE)):\n",
    "    raise Exception(\"File doesn't exists.\")"
   ]
  },
  {
   "cell_type": "markdown",
   "metadata": {},
   "source": [
    "## Loading database"
   ]
  },
  {
   "cell_type": "code",
   "execution_count": 4,
   "metadata": {},
   "outputs": [
    {
     "name": "stdout",
     "output_type": "stream",
     "text": [
      "<class 'pandas.core.frame.DataFrame'>\n",
      "RangeIndex: 2363937 entries, 0 to 2363936\n",
      "Data columns (total 28 columns):\n",
      "ANTIG                           float64\n",
      "CANT_RENOVACION                 float64\n",
      "CAPITAL_ACCESORIOS              object\n",
      "CAPITAL_ASEGURADO_COTIZACION    object\n",
      "CAPITAL_VEHICULO                object\n",
      "COD_COBRO                       object\n",
      "COD_COBRO_ANTERIOR              object\n",
      "COD_POSTAL                      int64\n",
      "COD_PROD                        int64\n",
      "COD_RAMO                        int64\n",
      "COD_RIES                        int64\n",
      "COD_ZONA_CASCO                  float64\n",
      "COD_ZONA_RC                     float64\n",
      "COD_ZONA_ROBO                   float64\n",
      "CONV_COMISIONARIO               object\n",
      "FECHA_PROCESO                   datetime64[ns]\n",
      "FECHA_VENC_POL                  datetime64[ns]\n",
      "FECHA_VIG_ORIG_POL              datetime64[ns]\n",
      "FECHA_VIG_POL                   datetime64[ns]\n",
      "ID                              float64\n",
      "MCA_AGRAVANTE                   object\n",
      "MCA_EMPLEADO                    object\n",
      "MCA_MOVIMIENTO                  object\n",
      "MCA_POLIZA_VIP                  object\n",
      "NEGOCIO                         object\n",
      "NUM_SECU_POL                    int64\n",
      "PRENDARIO                       object\n",
      "SEGMENTO                        object\n",
      "dtypes: datetime64[ns](4), float64(6), int64(5), object(13)\n",
      "memory usage: 505.0+ MB\n"
     ]
    }
   ],
   "source": [
    "# usecols = []\n",
    "df = pd.read_feather(RAW_FILE)\n",
    "df.info()"
   ]
  },
  {
   "cell_type": "code",
   "execution_count": 6,
   "metadata": {},
   "outputs": [
    {
     "data": {
      "text/plain": [
       "596179"
      ]
     },
     "execution_count": 6,
     "metadata": {},
     "output_type": "execute_result"
    }
   ],
   "source": [
    "df[\"ID\"].count()"
   ]
  },
  {
   "cell_type": "code",
   "execution_count": 7,
   "metadata": {},
   "outputs": [
    {
     "data": {
      "text/plain": [
       "0.7478025006588586"
      ]
     },
     "execution_count": 7,
     "metadata": {},
     "output_type": "execute_result"
    }
   ],
   "source": [
    "df[\"ID\"].isna().mean()"
   ]
  },
  {
   "cell_type": "code",
   "execution_count": 18,
   "metadata": {},
   "outputs": [
    {
     "data": {
      "text/plain": [
       "1603664279999    43343\n",
       "1601618549999    38173\n",
       "1789488999999    26924\n",
       "1855096939999    23366\n",
       "1723405719999    22320\n",
       "Name: NUM_SECU_POL, dtype: int64"
      ]
     },
     "execution_count": 18,
     "metadata": {},
     "output_type": "execute_result"
    }
   ],
   "source": [
    "df[\"NUM_SECU_POL\"].value_counts(dropna=False).head()"
   ]
  },
  {
   "cell_type": "code",
   "execution_count": 19,
   "metadata": {},
   "outputs": [
    {
     "data": {
      "text/plain": [
       "2017-12-31    43343\n",
       "Name: FECHA_VENC_POL, dtype: int64"
      ]
     },
     "execution_count": 19,
     "metadata": {},
     "output_type": "execute_result"
    }
   ],
   "source": [
    "df[df[\"NUM_SECU_POL\"] == 1603664279999][\"FECHA_VENC_POL\"].value_counts(dropna=False)"
   ]
  },
  {
   "cell_type": "code",
   "execution_count": 11,
   "metadata": {},
   "outputs": [],
   "source": [
    "# df[\"COD_RIES\"].value_counts(dropna=False)"
   ]
  },
  {
   "cell_type": "markdown",
   "metadata": {},
   "source": [
    "## formatting columns"
   ]
  },
  {
   "cell_type": "code",
   "execution_count": null,
   "metadata": {},
   "outputs": [],
   "source": []
  },
  {
   "cell_type": "markdown",
   "metadata": {},
   "source": [
    "## dropping useless columns"
   ]
  },
  {
   "cell_type": "code",
   "execution_count": 20,
   "metadata": {},
   "outputs": [],
   "source": [
    "df.drop(columns=[\"ANTIG\"], inplace=True) # \"COD_RIES\""
   ]
  },
  {
   "cell_type": "code",
   "execution_count": null,
   "metadata": {},
   "outputs": [],
   "source": []
  },
  {
   "cell_type": "markdown",
   "metadata": {},
   "source": [
    "## deleting rows"
   ]
  },
  {
   "cell_type": "code",
   "execution_count": 13,
   "metadata": {},
   "outputs": [
    {
     "name": "stdout",
     "output_type": "stream",
     "text": [
      "<class 'pandas.core.frame.DataFrame'>\n",
      "RangeIndex: 2363937 entries, 0 to 2363936\n",
      "Data columns (total 27 columns):\n",
      "CANT_RENOVACION                 float64\n",
      "CAPITAL_ACCESORIOS              object\n",
      "CAPITAL_ASEGURADO_COTIZACION    object\n",
      "CAPITAL_VEHICULO                object\n",
      "COD_COBRO                       object\n",
      "COD_COBRO_ANTERIOR              object\n",
      "COD_POSTAL                      int64\n",
      "COD_PROD                        int64\n",
      "COD_RAMO                        int64\n",
      "COD_RIES                        int64\n",
      "COD_ZONA_CASCO                  float64\n",
      "COD_ZONA_RC                     float64\n",
      "COD_ZONA_ROBO                   float64\n",
      "CONV_COMISIONARIO               object\n",
      "FECHA_PROCESO                   datetime64[ns]\n",
      "FECHA_VENC_POL                  datetime64[ns]\n",
      "FECHA_VIG_ORIG_POL              datetime64[ns]\n",
      "FECHA_VIG_POL                   datetime64[ns]\n",
      "ID                              float64\n",
      "MCA_AGRAVANTE                   object\n",
      "MCA_EMPLEADO                    object\n",
      "MCA_MOVIMIENTO                  object\n",
      "MCA_POLIZA_VIP                  object\n",
      "NEGOCIO                         object\n",
      "NUM_SECU_POL                    int64\n",
      "PRENDARIO                       object\n",
      "SEGMENTO                        object\n",
      "dtypes: datetime64[ns](4), float64(5), int64(5), object(13)\n",
      "memory usage: 487.0+ MB\n"
     ]
    }
   ],
   "source": [
    "df.info()"
   ]
  },
  {
   "cell_type": "code",
   "execution_count": 14,
   "metadata": {},
   "outputs": [
    {
     "name": "stdout",
     "output_type": "stream",
     "text": [
      "158182\n"
     ]
    }
   ],
   "source": [
    "# removing duplicated rows\n",
    "# print(df.duplicated().sum())\n",
    "# df.drop_duplicates(inplace=True) # getting first element"
   ]
  },
  {
   "cell_type": "markdown",
   "metadata": {},
   "source": [
    "### getting unique NUM_SECU_POL"
   ]
  },
  {
   "cell_type": "code",
   "execution_count": 21,
   "metadata": {},
   "outputs": [
    {
     "name": "stdout",
     "output_type": "stream",
     "text": [
      "<class 'pandas.core.frame.DataFrame'>\n",
      "Int64Index: 729756 entries, 0 to 2363936\n",
      "Data columns (total 27 columns):\n",
      "CANT_RENOVACION                 709911 non-null float64\n",
      "CAPITAL_ACCESORIOS              729756 non-null object\n",
      "CAPITAL_ASEGURADO_COTIZACION    725415 non-null object\n",
      "CAPITAL_VEHICULO                729756 non-null object\n",
      "COD_COBRO                       729756 non-null object\n",
      "COD_COBRO_ANTERIOR              604173 non-null object\n",
      "COD_POSTAL                      729756 non-null int64\n",
      "COD_PROD                        729756 non-null int64\n",
      "COD_RAMO                        729756 non-null int64\n",
      "COD_RIES                        729756 non-null int64\n",
      "COD_ZONA_CASCO                  729754 non-null float64\n",
      "COD_ZONA_RC                     729754 non-null float64\n",
      "COD_ZONA_ROBO                   729754 non-null float64\n",
      "CONV_COMISIONARIO               729756 non-null object\n",
      "FECHA_PROCESO                   729756 non-null datetime64[ns]\n",
      "FECHA_VENC_POL                  729756 non-null datetime64[ns]\n",
      "FECHA_VIG_ORIG_POL              729756 non-null datetime64[ns]\n",
      "FECHA_VIG_POL                   729756 non-null datetime64[ns]\n",
      "ID                              64646 non-null float64\n",
      "MCA_AGRAVANTE                   729582 non-null object\n",
      "MCA_EMPLEADO                    729756 non-null object\n",
      "MCA_MOVIMIENTO                  29103 non-null object\n",
      "MCA_POLIZA_VIP                  709911 non-null object\n",
      "NEGOCIO                         626653 non-null object\n",
      "NUM_SECU_POL                    729756 non-null int64\n",
      "PRENDARIO                       638122 non-null object\n",
      "SEGMENTO                        565119 non-null object\n",
      "dtypes: datetime64[ns](4), float64(5), int64(5), object(13)\n",
      "memory usage: 155.9+ MB\n"
     ]
    }
   ],
   "source": [
    "df.drop_duplicates(subset=[\"NUM_SECU_POL\"], keep=\"last\", inplace=True)\n",
    "df.info()"
   ]
  },
  {
   "cell_type": "code",
   "execution_count": 22,
   "metadata": {},
   "outputs": [
    {
     "data": {
      "text/plain": [
       "1681059659999    1\n",
       "1656081689999    1\n",
       "1829065239999    1\n",
       "1699287149999    1\n",
       "1827522029999    1\n",
       "Name: NUM_SECU_POL, dtype: int64"
      ]
     },
     "execution_count": 22,
     "metadata": {},
     "output_type": "execute_result"
    }
   ],
   "source": [
    "df[\"NUM_SECU_POL\"].value_counts(dropna=False).head()"
   ]
  },
  {
   "cell_type": "code",
   "execution_count": 23,
   "metadata": {},
   "outputs": [],
   "source": [
    "df[\"cambio_cobro\"] = (df[\"COD_COBRO\"] != df[\"COD_COBRO_ANTERIOR\"]) & (df[\"COD_COBRO_ANTERIOR\"].notna())"
   ]
  },
  {
   "cell_type": "code",
   "execution_count": 24,
   "metadata": {},
   "outputs": [],
   "source": [
    "df[\"ANTIG_calc\"] = (df[\"FECHA_VIG_POL\"] - df[\"FECHA_VIG_ORIG_POL\"]).dt.days"
   ]
  },
  {
   "cell_type": "code",
   "execution_count": null,
   "metadata": {},
   "outputs": [],
   "source": []
  },
  {
   "cell_type": "markdown",
   "metadata": {},
   "source": [
    "# saving into feather\n",
    "convert format to save into feather\n"
   ]
  },
  {
   "cell_type": "code",
   "execution_count": 25,
   "metadata": {},
   "outputs": [
    {
     "data": {
      "text/plain": [
       "'VIGABT_POLIZAS-red_col'"
      ]
     },
     "execution_count": 25,
     "metadata": {},
     "output_type": "execute_result"
    }
   ],
   "source": [
    "file_save = FILENAME.split(\".\")[0]\n",
    "file_save"
   ]
  },
  {
   "cell_type": "code",
   "execution_count": 26,
   "metadata": {},
   "outputs": [],
   "source": [
    "to_save = f\"../../../data/interim/3. row_red/{file_save}-red_rows-clean.feather\"\n",
    "df.reset_index(drop=True).to_feather(to_save)"
   ]
  }
 ],
 "metadata": {
  "kernelspec": {
   "display_name": "Python 3",
   "language": "python",
   "name": "python3"
  },
  "language_info": {
   "codemirror_mode": {
    "name": "ipython",
    "version": 3
   },
   "file_extension": ".py",
   "mimetype": "text/x-python",
   "name": "python",
   "nbconvert_exporter": "python",
   "pygments_lexer": "ipython3",
   "version": "3.6.8"
  },
  "varInspector": {
   "cols": {
    "lenName": 16,
    "lenType": 16,
    "lenVar": 40
   },
   "kernels_config": {
    "python": {
     "delete_cmd_postfix": "",
     "delete_cmd_prefix": "del ",
     "library": "var_list.py",
     "varRefreshCmd": "print(var_dic_list())"
    },
    "r": {
     "delete_cmd_postfix": ") ",
     "delete_cmd_prefix": "rm(",
     "library": "var_list.r",
     "varRefreshCmd": "cat(var_dic_list()) "
    }
   },
   "position": {
    "height": "322px",
    "left": "1178px",
    "right": "20px",
    "top": "115px",
    "width": "506px"
   },
   "types_to_exclude": [
    "module",
    "function",
    "builtin_function_or_method",
    "instance",
    "_Feature"
   ],
   "window_display": false
  }
 },
 "nbformat": 4,
 "nbformat_minor": 2
}
