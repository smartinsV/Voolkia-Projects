{
 "cells": [
  {
   "cell_type": "markdown",
   "metadata": {},
   "source": [
    "# Investigaciones Analysis"
   ]
  },
  {
   "cell_type": "code",
   "execution_count": 1,
   "metadata": {},
   "outputs": [],
   "source": [
    "import os\n",
    "\n",
    "import pandas as pd"
   ]
  },
  {
   "cell_type": "code",
   "execution_count": 2,
   "metadata": {},
   "outputs": [],
   "source": [
    "# general configs\n",
    "pd.set_option(\"display.max_columns\", 500)"
   ]
  },
  {
   "cell_type": "code",
   "execution_count": 3,
   "metadata": {},
   "outputs": [],
   "source": [
    "# setting configs and constants\n",
    "# path to raw dataset\n",
    "PATH = \"../../../data/interim/1. col_red\"\n",
    "FILENAME = \"INVESTIGACION-red_col.feather\"\n",
    "RAW_FILE = os.path.join(PATH, FILENAME)\n",
    "\n",
    "if not(os.path.exists(RAW_FILE) and os.path.isfile(RAW_FILE)):\n",
    "    raise Exception(\"File doesn't exists.\")"
   ]
  },
  {
   "cell_type": "markdown",
   "metadata": {},
   "source": [
    "## Loading database"
   ]
  },
  {
   "cell_type": "code",
   "execution_count": 4,
   "metadata": {},
   "outputs": [
    {
     "name": "stdout",
     "output_type": "stream",
     "text": [
      "<class 'pandas.core.frame.DataFrame'>\n",
      "RangeIndex: 22468 entries, 0 to 22467\n",
      "Data columns (total 7 columns):\n",
      "COD_FRAUDE            13711 non-null float64\n",
      "COD_RAMO              22468 non-null int64\n",
      "EXISTE_FRAUDE         22468 non-null object\n",
      "EXISTE_INHABILITAR    22468 non-null object\n",
      "EXISTE_INVEST         22468 non-null object\n",
      "NRO_EXPED             22468 non-null int64\n",
      "NUM_SECU_EXPED        22468 non-null int64\n",
      "dtypes: float64(1), int64(3), object(3)\n",
      "memory usage: 1.2+ MB\n"
     ]
    },
    {
     "name": "stderr",
     "output_type": "stream",
     "text": [
      "/home/voolkia/anaconda3/lib/python3.6/site-packages/pyarrow/pandas_compat.py:752: FutureWarning: .labels was deprecated in version 0.24.0. Use .codes instead.\n",
      "  labels, = index.labels\n"
     ]
    }
   ],
   "source": [
    "df = pd.read_feather(RAW_FILE)\n",
    "df.info()"
   ]
  },
  {
   "cell_type": "code",
   "execution_count": 8,
   "metadata": {},
   "outputs": [
    {
     "data": {
      "text/plain": [
       "N    17609\n",
       "S     4859\n",
       "Name: EXISTE_FRAUDE, dtype: int64"
      ]
     },
     "execution_count": 8,
     "metadata": {},
     "output_type": "execute_result"
    }
   ],
   "source": [
    "df[\"EXISTE_FRAUDE\"].value_counts()"
   ]
  },
  {
   "cell_type": "code",
   "execution_count": 9,
   "metadata": {},
   "outputs": [
    {
     "data": {
      "text/plain": [
       "N    0.783737\n",
       "S    0.216263\n",
       "Name: EXISTE_FRAUDE, dtype: float64"
      ]
     },
     "execution_count": 9,
     "metadata": {},
     "output_type": "execute_result"
    }
   ],
   "source": [
    "df[\"EXISTE_FRAUDE\"].value_counts(normalize=True)"
   ]
  },
  {
   "cell_type": "code",
   "execution_count": 6,
   "metadata": {},
   "outputs": [
    {
     "data": {
      "text/plain": [
       "13092"
      ]
     },
     "execution_count": 6,
     "metadata": {},
     "output_type": "execute_result"
    }
   ],
   "source": [
    "# fixing NUM_SECU_EXPED repeated\n",
    "df[\"NUM_SECU_EXPED\"].nunique()"
   ]
  },
  {
   "cell_type": "markdown",
   "metadata": {},
   "source": [
    "**Fixing last record not fraud but previously identified as fraud**"
   ]
  },
  {
   "cell_type": "code",
   "execution_count": 7,
   "metadata": {},
   "outputs": [
    {
     "data": {
      "text/plain": [
       "4205"
      ]
     },
     "execution_count": 7,
     "metadata": {},
     "output_type": "execute_result"
    }
   ],
   "source": [
    "idx_frauds = df[df[\"EXISTE_FRAUDE\"] == \"S\"][\"NUM_SECU_EXPED\"].unique()\n",
    "len(idx_frauds)"
   ]
  },
  {
   "cell_type": "code",
   "execution_count": 14,
   "metadata": {},
   "outputs": [],
   "source": [
    "# set all values of that NUM_SECU_EXPED as fraud\n",
    "idx_to_replace = df[df[\"NUM_SECU_EXPED\"].isin(idx_frauds)].index\n",
    "df.loc[idx_to_replace, \"EXISTE_FRAUDE\"] = \"S\""
   ]
  },
  {
   "cell_type": "code",
   "execution_count": 15,
   "metadata": {},
   "outputs": [
    {
     "data": {
      "text/plain": [
       "N    13058\n",
       "S     9410\n",
       "Name: EXISTE_FRAUDE, dtype: int64"
      ]
     },
     "execution_count": 15,
     "metadata": {},
     "output_type": "execute_result"
    }
   ],
   "source": [
    "df[\"EXISTE_FRAUDE\"].value_counts()"
   ]
  },
  {
   "cell_type": "markdown",
   "metadata": {},
   "source": [
    "<h3 style=\"color:red\">Using last item.</h3>"
   ]
  },
  {
   "cell_type": "code",
   "execution_count": 16,
   "metadata": {},
   "outputs": [
    {
     "name": "stdout",
     "output_type": "stream",
     "text": [
      "<class 'pandas.core.frame.DataFrame'>\n",
      "Int64Index: 13092 entries, 7 to 22467\n",
      "Data columns (total 7 columns):\n",
      "COD_FRAUDE            12415 non-null float64\n",
      "COD_RAMO              13092 non-null int64\n",
      "EXISTE_FRAUDE         13092 non-null object\n",
      "EXISTE_INHABILITAR    13092 non-null object\n",
      "EXISTE_INVEST         13092 non-null object\n",
      "NRO_EXPED             13092 non-null int64\n",
      "NUM_SECU_EXPED        13092 non-null int64\n",
      "dtypes: float64(1), int64(3), object(3)\n",
      "memory usage: 818.2+ KB\n"
     ]
    }
   ],
   "source": [
    "df.drop_duplicates(subset=\"NUM_SECU_EXPED\", keep=\"last\", inplace=True)\n",
    "# old version\n",
    "# df = df.groupby([\"NUM_SECU_EXPED\"]).last()\n",
    "df.info()"
   ]
  },
  {
   "cell_type": "code",
   "execution_count": 18,
   "metadata": {},
   "outputs": [
    {
     "data": {
      "text/plain": [
       "N    0.678811\n",
       "S    0.321189\n",
       "Name: EXISTE_FRAUDE, dtype: float64"
      ]
     },
     "execution_count": 18,
     "metadata": {},
     "output_type": "execute_result"
    }
   ],
   "source": [
    "df[\"EXISTE_FRAUDE\"].value_counts(dropna=False, normalize=True)"
   ]
  },
  {
   "cell_type": "code",
   "execution_count": 19,
   "metadata": {},
   "outputs": [],
   "source": [
    "# formatting variables\n",
    "df[\"EXISTE_FRAUDE\"] = df[\"EXISTE_FRAUDE\"] == \"S\"\n",
    "df[\"EXISTE_INHABILITAR\"] = df[\"EXISTE_INHABILITAR\"] == \"S\"\n",
    "df[\"EXISTE_INVEST\"] = df[\"EXISTE_INVEST\"] == \"S\""
   ]
  },
  {
   "cell_type": "code",
   "execution_count": 20,
   "metadata": {},
   "outputs": [
    {
     "data": {
      "text/plain": [
       "0.0     3742\n",
       "90.0    2683\n",
       "99.0    1983\n",
       "27.0    1713\n",
       "30.0     826\n",
       "20.0     781\n",
       "NaN      677\n",
       "81.0     143\n",
       "Name: COD_FRAUDE, dtype: int64"
      ]
     },
     "execution_count": 20,
     "metadata": {},
     "output_type": "execute_result"
    }
   ],
   "source": [
    "# nulls or values?\n",
    "df[\"COD_FRAUDE\"].value_counts(dropna=False).head(8)"
   ]
  },
  {
   "cell_type": "code",
   "execution_count": 21,
   "metadata": {},
   "outputs": [],
   "source": [
    "# dropping NRO_EXPED, is not useful anymore\n",
    "df.drop(columns=\"NRO_EXPED\", inplace=True)"
   ]
  },
  {
   "cell_type": "code",
   "execution_count": 22,
   "metadata": {},
   "outputs": [
    {
     "name": "stdout",
     "output_type": "stream",
     "text": [
      "<class 'pandas.core.frame.DataFrame'>\n",
      "Int64Index: 13092 entries, 7 to 22467\n",
      "Data columns (total 6 columns):\n",
      "COD_FRAUDE            12415 non-null float64\n",
      "COD_RAMO              13092 non-null int64\n",
      "EXISTE_FRAUDE         13092 non-null bool\n",
      "EXISTE_INHABILITAR    13092 non-null bool\n",
      "EXISTE_INVEST         13092 non-null bool\n",
      "NUM_SECU_EXPED        13092 non-null int64\n",
      "dtypes: bool(3), float64(1), int64(2)\n",
      "memory usage: 447.5 KB\n"
     ]
    }
   ],
   "source": [
    "df.info()"
   ]
  },
  {
   "cell_type": "markdown",
   "metadata": {},
   "source": [
    "## save sample"
   ]
  },
  {
   "cell_type": "code",
   "execution_count": 23,
   "metadata": {},
   "outputs": [],
   "source": [
    "df.reset_index().to_feather(\"../../../data/interim/3. row_red/investigaciones_col_full_uniques.feather\")"
   ]
  },
  {
   "cell_type": "markdown",
   "metadata": {},
   "source": [
    "# Analysing EXISTE_INHABILITAR in the dataset"
   ]
  },
  {
   "cell_type": "code",
   "execution_count": 24,
   "metadata": {},
   "outputs": [
    {
     "data": {
      "text/plain": [
       "False    0.922949\n",
       "True     0.077051\n",
       "Name: EXISTE_INHABILITAR, dtype: float64"
      ]
     },
     "execution_count": 24,
     "metadata": {},
     "output_type": "execute_result"
    }
   ],
   "source": [
    "var = \"EXISTE_INHABILITAR\"\n",
    "df[df[\"EXISTE_FRAUDE\"] == True][var].value_counts() / len(df[df[\"EXISTE_FRAUDE\"] == True])"
   ]
  },
  {
   "cell_type": "code",
   "execution_count": 25,
   "metadata": {},
   "outputs": [
    {
     "data": {
      "text/plain": [
       "False    0.999775\n",
       "True     0.000225\n",
       "Name: EXISTE_INHABILITAR, dtype: float64"
      ]
     },
     "execution_count": 25,
     "metadata": {},
     "output_type": "execute_result"
    }
   ],
   "source": [
    "df[df[\"EXISTE_FRAUDE\"] == False][var].value_counts() / len(df[df[\"EXISTE_FRAUDE\"] == False])"
   ]
  },
  {
   "cell_type": "code",
   "execution_count": null,
   "metadata": {},
   "outputs": [],
   "source": []
  }
 ],
 "metadata": {
  "kernelspec": {
   "display_name": "Python 3",
   "language": "python",
   "name": "python3"
  },
  "language_info": {
   "codemirror_mode": {
    "name": "ipython",
    "version": 3
   },
   "file_extension": ".py",
   "mimetype": "text/x-python",
   "name": "python",
   "nbconvert_exporter": "python",
   "pygments_lexer": "ipython3",
   "version": "3.6.5"
  },
  "varInspector": {
   "cols": {
    "lenName": 16,
    "lenType": 16,
    "lenVar": 40
   },
   "kernels_config": {
    "python": {
     "delete_cmd_postfix": "",
     "delete_cmd_prefix": "del ",
     "library": "var_list.py",
     "varRefreshCmd": "print(var_dic_list())"
    },
    "r": {
     "delete_cmd_postfix": ") ",
     "delete_cmd_prefix": "rm(",
     "library": "var_list.r",
     "varRefreshCmd": "cat(var_dic_list()) "
    }
   },
   "types_to_exclude": [
    "module",
    "function",
    "builtin_function_or_method",
    "instance",
    "_Feature"
   ],
   "window_display": false
  }
 },
 "nbformat": 4,
 "nbformat_minor": 2
}
