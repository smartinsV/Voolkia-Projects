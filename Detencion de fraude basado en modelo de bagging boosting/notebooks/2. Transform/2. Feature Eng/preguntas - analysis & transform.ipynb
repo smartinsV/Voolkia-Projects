{
 "cells": [
  {
   "cell_type": "markdown",
   "metadata": {},
   "source": [
    "# preguntas - analysis & transform"
   ]
  },
  {
   "cell_type": "code",
   "execution_count": 23,
   "metadata": {},
   "outputs": [],
   "source": [
    "import os\n",
    "\n",
    "import pandas as pd"
   ]
  },
  {
   "cell_type": "code",
   "execution_count": 24,
   "metadata": {},
   "outputs": [],
   "source": [
    "# general configs\n",
    "pd.set_option(\"display.max_columns\", 500)"
   ]
  },
  {
   "cell_type": "code",
   "execution_count": 25,
   "metadata": {},
   "outputs": [],
   "source": [
    "# setting configs and constants\n",
    "# path to raw dataset\n",
    "PATH = \"../../../data/interim/1. col_red\"\n",
    "FILENAME = \"PREGUNTAS-red_col.feather\"\n",
    "RAW_FILE = os.path.join(PATH, FILENAME)\n",
    "\n",
    "if not(os.path.exists(RAW_FILE) and os.path.isfile(RAW_FILE)):\n",
    "    raise Exception(\"File doesn't exists.\")"
   ]
  },
  {
   "cell_type": "markdown",
   "metadata": {},
   "source": [
    "## Loading database"
   ]
  },
  {
   "cell_type": "code",
   "execution_count": 26,
   "metadata": {},
   "outputs": [
    {
     "name": "stdout",
     "output_type": "stream",
     "text": [
      "<class 'pandas.core.frame.DataFrame'>\n",
      "RangeIndex: 1808628 entries, 0 to 1808627\n",
      "Data columns (total 5 columns):\n",
      "COD_PREGUNTA      int64\n",
      "FEC_ACT           datetime64[ns]\n",
      "NUM_SECU_EXPED    int64\n",
      "TIPO_EXPED        int64\n",
      "VALOR_PREGUNTA    object\n",
      "dtypes: datetime64[ns](1), int64(3), object(1)\n",
      "memory usage: 69.0+ MB\n"
     ]
    },
    {
     "name": "stderr",
     "output_type": "stream",
     "text": [
      "/home/voolkia/anaconda3/lib/python3.6/site-packages/pyarrow/pandas_compat.py:752: FutureWarning: .labels was deprecated in version 0.24.0. Use .codes instead.\n",
      "  labels, = index.labels\n"
     ]
    }
   ],
   "source": [
    "df = pd.read_feather(RAW_FILE)\n",
    "df.info()"
   ]
  },
  {
   "cell_type": "code",
   "execution_count": 27,
   "metadata": {},
   "outputs": [
    {
     "data": {
      "text/html": [
       "<div>\n",
       "<style scoped>\n",
       "    .dataframe tbody tr th:only-of-type {\n",
       "        vertical-align: middle;\n",
       "    }\n",
       "\n",
       "    .dataframe tbody tr th {\n",
       "        vertical-align: top;\n",
       "    }\n",
       "\n",
       "    .dataframe thead th {\n",
       "        text-align: right;\n",
       "    }\n",
       "</style>\n",
       "<table border=\"1\" class=\"dataframe\">\n",
       "  <thead>\n",
       "    <tr style=\"text-align: right;\">\n",
       "      <th></th>\n",
       "      <th>COD_PREGUNTA</th>\n",
       "      <th>FEC_ACT</th>\n",
       "      <th>NUM_SECU_EXPED</th>\n",
       "      <th>TIPO_EXPED</th>\n",
       "      <th>VALOR_PREGUNTA</th>\n",
       "    </tr>\n",
       "  </thead>\n",
       "  <tbody>\n",
       "    <tr>\n",
       "      <th>0</th>\n",
       "      <td>9</td>\n",
       "      <td>2017-03-07</td>\n",
       "      <td>1651669769999</td>\n",
       "      <td>2</td>\n",
       "      <td>AMB</td>\n",
       "    </tr>\n",
       "    <tr>\n",
       "      <th>1</th>\n",
       "      <td>18</td>\n",
       "      <td>2017-03-08</td>\n",
       "      <td>1605473309999</td>\n",
       "      <td>50</td>\n",
       "      <td>T2</td>\n",
       "    </tr>\n",
       "    <tr>\n",
       "      <th>2</th>\n",
       "      <td>15</td>\n",
       "      <td>2017-03-08</td>\n",
       "      <td>1605473309999</td>\n",
       "      <td>50</td>\n",
       "      <td>N</td>\n",
       "    </tr>\n",
       "    <tr>\n",
       "      <th>3</th>\n",
       "      <td>37</td>\n",
       "      <td>2017-03-08</td>\n",
       "      <td>1605473309999</td>\n",
       "      <td>50</td>\n",
       "      <td>N</td>\n",
       "    </tr>\n",
       "    <tr>\n",
       "      <th>4</th>\n",
       "      <td>22</td>\n",
       "      <td>2017-03-08</td>\n",
       "      <td>1605473309999</td>\n",
       "      <td>50</td>\n",
       "      <td>12000</td>\n",
       "    </tr>\n",
       "  </tbody>\n",
       "</table>\n",
       "</div>"
      ],
      "text/plain": [
       "   COD_PREGUNTA    FEC_ACT  NUM_SECU_EXPED  TIPO_EXPED VALOR_PREGUNTA\n",
       "0             9 2017-03-07   1651669769999           2            AMB\n",
       "1            18 2017-03-08   1605473309999          50             T2\n",
       "2            15 2017-03-08   1605473309999          50              N\n",
       "3            37 2017-03-08   1605473309999          50              N\n",
       "4            22 2017-03-08   1605473309999          50          12000"
      ]
     },
     "execution_count": 27,
     "metadata": {},
     "output_type": "execute_result"
    }
   ],
   "source": [
    "df.head()"
   ]
  },
  {
   "cell_type": "code",
   "execution_count": 28,
   "metadata": {},
   "outputs": [
    {
     "data": {
      "text/plain": [
       "153634"
      ]
     },
     "execution_count": 28,
     "metadata": {},
     "output_type": "execute_result"
    }
   ],
   "source": [
    "# number of unique NUM_SECU_EXPED\n",
    "df[\"NUM_SECU_EXPED\"].nunique()"
   ]
  },
  {
   "cell_type": "markdown",
   "metadata": {},
   "source": [
    "## pivoting table"
   ]
  },
  {
   "cell_type": "code",
   "execution_count": 29,
   "metadata": {},
   "outputs": [
    {
     "name": "stdout",
     "output_type": "stream",
     "text": [
      "<class 'pandas.core.frame.DataFrame'>\n",
      "Int64Index: 147342 entries, 728135189999 to 1961339499999\n",
      "Data columns (total 27 columns):\n",
      "preg_1     2544 non-null object\n",
      "preg_2     52954 non-null object\n",
      "preg_3     51706 non-null object\n",
      "preg_4     54292 non-null object\n",
      "preg_5     66654 non-null object\n",
      "preg_6     66654 non-null object\n",
      "preg_7     54292 non-null object\n",
      "preg_8     57010 non-null object\n",
      "preg_9     66654 non-null object\n",
      "preg_10    54292 non-null object\n",
      "preg_11    66654 non-null object\n",
      "preg_12    12995 non-null object\n",
      "preg_15    62152 non-null object\n",
      "preg_16    12995 non-null object\n",
      "preg_18    10762 non-null object\n",
      "preg_19    10762 non-null object\n",
      "preg_22    7923 non-null object\n",
      "preg_24    10763 non-null object\n",
      "preg_27    12995 non-null object\n",
      "preg_28    12995 non-null object\n",
      "preg_30    12995 non-null object\n",
      "preg_31    65008 non-null object\n",
      "preg_32    67798 non-null object\n",
      "preg_33    65008 non-null object\n",
      "preg_34    33748 non-null object\n",
      "preg_36    16536 non-null object\n",
      "preg_37    10692 non-null object\n",
      "dtypes: object(27)\n",
      "memory usage: 31.5+ MB\n"
     ]
    }
   ],
   "source": [
    "id_col = \"NUM_SECU_EXPED\"\n",
    "condition = \"COD_PREGUNTA\"\n",
    "value_col = \"VALOR_PREGUNTA\"\n",
    "# getting oldest repeated record\n",
    "pv_df = df.pivot_table(index=id_col, columns=condition, values=value_col, aggfunc=\"last\")\n",
    "#renaming columns\n",
    "pv_df = pv_df.add_prefix(\"preg_\")\n",
    "pv_df.info()"
   ]
  },
  {
   "cell_type": "code",
   "execution_count": 30,
   "metadata": {},
   "outputs": [
    {
     "data": {
      "text/plain": [
       "6292"
      ]
     },
     "execution_count": 30,
     "metadata": {},
     "output_type": "execute_result"
    }
   ],
   "source": [
    "# checking the NUM_SECU_EXPED that are not in pivot_table\n",
    "pv_index = pv_df.index\n",
    "# NUM_SECU_EXPED with all Nan are the ones missing\n",
    "df[~df[\"NUM_SECU_EXPED\"].isin(pv_index)][\"NUM_SECU_EXPED\"].nunique()"
   ]
  },
  {
   "cell_type": "code",
   "execution_count": 31,
   "metadata": {},
   "outputs": [
    {
     "data": {
      "text/html": [
       "<div>\n",
       "<style scoped>\n",
       "    .dataframe tbody tr th:only-of-type {\n",
       "        vertical-align: middle;\n",
       "    }\n",
       "\n",
       "    .dataframe tbody tr th {\n",
       "        vertical-align: top;\n",
       "    }\n",
       "\n",
       "    .dataframe thead th {\n",
       "        text-align: right;\n",
       "    }\n",
       "</style>\n",
       "<table border=\"1\" class=\"dataframe\">\n",
       "  <thead>\n",
       "    <tr style=\"text-align: right;\">\n",
       "      <th>COD_PREGUNTA</th>\n",
       "      <th>preg_1</th>\n",
       "      <th>preg_2</th>\n",
       "      <th>preg_3</th>\n",
       "      <th>preg_4</th>\n",
       "      <th>preg_5</th>\n",
       "      <th>preg_6</th>\n",
       "      <th>preg_7</th>\n",
       "      <th>preg_8</th>\n",
       "      <th>preg_9</th>\n",
       "      <th>preg_10</th>\n",
       "      <th>preg_11</th>\n",
       "      <th>preg_12</th>\n",
       "      <th>preg_15</th>\n",
       "      <th>preg_16</th>\n",
       "      <th>preg_18</th>\n",
       "      <th>preg_19</th>\n",
       "      <th>preg_22</th>\n",
       "      <th>preg_24</th>\n",
       "      <th>preg_27</th>\n",
       "      <th>preg_28</th>\n",
       "      <th>preg_30</th>\n",
       "      <th>preg_31</th>\n",
       "      <th>preg_32</th>\n",
       "      <th>preg_33</th>\n",
       "      <th>preg_34</th>\n",
       "      <th>preg_36</th>\n",
       "      <th>preg_37</th>\n",
       "    </tr>\n",
       "    <tr>\n",
       "      <th>NUM_SECU_EXPED</th>\n",
       "      <th></th>\n",
       "      <th></th>\n",
       "      <th></th>\n",
       "      <th></th>\n",
       "      <th></th>\n",
       "      <th></th>\n",
       "      <th></th>\n",
       "      <th></th>\n",
       "      <th></th>\n",
       "      <th></th>\n",
       "      <th></th>\n",
       "      <th></th>\n",
       "      <th></th>\n",
       "      <th></th>\n",
       "      <th></th>\n",
       "      <th></th>\n",
       "      <th></th>\n",
       "      <th></th>\n",
       "      <th></th>\n",
       "      <th></th>\n",
       "      <th></th>\n",
       "      <th></th>\n",
       "      <th></th>\n",
       "      <th></th>\n",
       "      <th></th>\n",
       "      <th></th>\n",
       "      <th></th>\n",
       "    </tr>\n",
       "  </thead>\n",
       "  <tbody>\n",
       "    <tr>\n",
       "      <th>728135189999</th>\n",
       "      <td>NaN</td>\n",
       "      <td>NaN</td>\n",
       "      <td>NaN</td>\n",
       "      <td>NaN</td>\n",
       "      <td>NaN</td>\n",
       "      <td>NaN</td>\n",
       "      <td>NaN</td>\n",
       "      <td>NaN</td>\n",
       "      <td>NaN</td>\n",
       "      <td>NaN</td>\n",
       "      <td>NaN</td>\n",
       "      <td>D</td>\n",
       "      <td>O</td>\n",
       "      <td>O</td>\n",
       "      <td>O</td>\n",
       "      <td>O</td>\n",
       "      <td>100000</td>\n",
       "      <td>N</td>\n",
       "      <td>07/06/2009 00:00</td>\n",
       "      <td>08/06/2009 00:00</td>\n",
       "      <td>S</td>\n",
       "      <td>NaN</td>\n",
       "      <td>NaN</td>\n",
       "      <td>NaN</td>\n",
       "      <td>NaN</td>\n",
       "      <td>NaN</td>\n",
       "      <td>0</td>\n",
       "    </tr>\n",
       "    <tr>\n",
       "      <th>848582179999</th>\n",
       "      <td>NaN</td>\n",
       "      <td>NO</td>\n",
       "      <td>N</td>\n",
       "      <td>NH</td>\n",
       "      <td>N</td>\n",
       "      <td>D</td>\n",
       "      <td>91</td>\n",
       "      <td>D</td>\n",
       "      <td>D</td>\n",
       "      <td>D</td>\n",
       "      <td>N</td>\n",
       "      <td>NaN</td>\n",
       "      <td>NaN</td>\n",
       "      <td>NaN</td>\n",
       "      <td>NaN</td>\n",
       "      <td>NaN</td>\n",
       "      <td>NaN</td>\n",
       "      <td>NaN</td>\n",
       "      <td>NaN</td>\n",
       "      <td>NaN</td>\n",
       "      <td>NaN</td>\n",
       "      <td>NaN</td>\n",
       "      <td>NaN</td>\n",
       "      <td>NaN</td>\n",
       "      <td>NaN</td>\n",
       "      <td>NaN</td>\n",
       "      <td>NaN</td>\n",
       "    </tr>\n",
       "    <tr>\n",
       "      <th>858568169999</th>\n",
       "      <td>NaN</td>\n",
       "      <td>NO</td>\n",
       "      <td>N</td>\n",
       "      <td>NH</td>\n",
       "      <td>N</td>\n",
       "      <td>D</td>\n",
       "      <td>91</td>\n",
       "      <td>D</td>\n",
       "      <td>D</td>\n",
       "      <td>D</td>\n",
       "      <td>N</td>\n",
       "      <td>NaN</td>\n",
       "      <td>NaN</td>\n",
       "      <td>NaN</td>\n",
       "      <td>NaN</td>\n",
       "      <td>NaN</td>\n",
       "      <td>NaN</td>\n",
       "      <td>NaN</td>\n",
       "      <td>NaN</td>\n",
       "      <td>NaN</td>\n",
       "      <td>NaN</td>\n",
       "      <td>NaN</td>\n",
       "      <td>NaN</td>\n",
       "      <td>NaN</td>\n",
       "      <td>NaN</td>\n",
       "      <td>NaN</td>\n",
       "      <td>NaN</td>\n",
       "    </tr>\n",
       "    <tr>\n",
       "      <th>1094129479999</th>\n",
       "      <td>NaN</td>\n",
       "      <td>NaN</td>\n",
       "      <td>NaN</td>\n",
       "      <td>NaN</td>\n",
       "      <td>S</td>\n",
       "      <td>FA</td>\n",
       "      <td>NaN</td>\n",
       "      <td>NaN</td>\n",
       "      <td>AMB</td>\n",
       "      <td>NaN</td>\n",
       "      <td>N</td>\n",
       "      <td>NaN</td>\n",
       "      <td>NaN</td>\n",
       "      <td>NaN</td>\n",
       "      <td>NaN</td>\n",
       "      <td>NaN</td>\n",
       "      <td>NaN</td>\n",
       "      <td>NaN</td>\n",
       "      <td>NaN</td>\n",
       "      <td>NaN</td>\n",
       "      <td>NaN</td>\n",
       "      <td>NaN</td>\n",
       "      <td>NaN</td>\n",
       "      <td>NaN</td>\n",
       "      <td>NaN</td>\n",
       "      <td>NaN</td>\n",
       "      <td>NaN</td>\n",
       "    </tr>\n",
       "    <tr>\n",
       "      <th>1104460669999</th>\n",
       "      <td>NaN</td>\n",
       "      <td>NaN</td>\n",
       "      <td>NaN</td>\n",
       "      <td>NaN</td>\n",
       "      <td>NaN</td>\n",
       "      <td>NaN</td>\n",
       "      <td>NaN</td>\n",
       "      <td>NaN</td>\n",
       "      <td>NaN</td>\n",
       "      <td>NaN</td>\n",
       "      <td>NaN</td>\n",
       "      <td>O</td>\n",
       "      <td>O</td>\n",
       "      <td>O</td>\n",
       "      <td>O</td>\n",
       "      <td>O</td>\n",
       "      <td>0</td>\n",
       "      <td>N</td>\n",
       "      <td>23/09/2012 00:45</td>\n",
       "      <td>23/09/2012 00:46</td>\n",
       "      <td>S</td>\n",
       "      <td>NaN</td>\n",
       "      <td>NaN</td>\n",
       "      <td>NaN</td>\n",
       "      <td>NaN</td>\n",
       "      <td>NaN</td>\n",
       "      <td>NaN</td>\n",
       "    </tr>\n",
       "  </tbody>\n",
       "</table>\n",
       "</div>"
      ],
      "text/plain": [
       "COD_PREGUNTA   preg_1 preg_2 preg_3 preg_4 preg_5 preg_6 preg_7 preg_8 preg_9  \\\n",
       "NUM_SECU_EXPED                                                                  \n",
       "728135189999      NaN    NaN    NaN    NaN    NaN    NaN    NaN    NaN    NaN   \n",
       "848582179999      NaN     NO      N     NH      N      D     91      D      D   \n",
       "858568169999      NaN     NO      N     NH      N      D     91      D      D   \n",
       "1094129479999     NaN    NaN    NaN    NaN      S     FA    NaN    NaN    AMB   \n",
       "1104460669999     NaN    NaN    NaN    NaN    NaN    NaN    NaN    NaN    NaN   \n",
       "\n",
       "COD_PREGUNTA   preg_10 preg_11 preg_12 preg_15 preg_16 preg_18 preg_19  \\\n",
       "NUM_SECU_EXPED                                                           \n",
       "728135189999       NaN     NaN       D       O       O       O       O   \n",
       "848582179999         D       N     NaN     NaN     NaN     NaN     NaN   \n",
       "858568169999         D       N     NaN     NaN     NaN     NaN     NaN   \n",
       "1094129479999      NaN       N     NaN     NaN     NaN     NaN     NaN   \n",
       "1104460669999      NaN     NaN       O       O       O       O       O   \n",
       "\n",
       "COD_PREGUNTA   preg_22 preg_24           preg_27           preg_28 preg_30  \\\n",
       "NUM_SECU_EXPED                                                               \n",
       "728135189999    100000       N  07/06/2009 00:00  08/06/2009 00:00       S   \n",
       "848582179999       NaN     NaN               NaN               NaN     NaN   \n",
       "858568169999       NaN     NaN               NaN               NaN     NaN   \n",
       "1094129479999      NaN     NaN               NaN               NaN     NaN   \n",
       "1104460669999        0       N  23/09/2012 00:45  23/09/2012 00:46       S   \n",
       "\n",
       "COD_PREGUNTA   preg_31 preg_32 preg_33 preg_34 preg_36 preg_37  \n",
       "NUM_SECU_EXPED                                                  \n",
       "728135189999       NaN     NaN     NaN     NaN     NaN       0  \n",
       "848582179999       NaN     NaN     NaN     NaN     NaN     NaN  \n",
       "858568169999       NaN     NaN     NaN     NaN     NaN     NaN  \n",
       "1094129479999      NaN     NaN     NaN     NaN     NaN     NaN  \n",
       "1104460669999      NaN     NaN     NaN     NaN     NaN     NaN  "
      ]
     },
     "execution_count": 31,
     "metadata": {},
     "output_type": "execute_result"
    }
   ],
   "source": [
    "pv_df.head()"
   ]
  },
  {
   "cell_type": "code",
   "execution_count": 32,
   "metadata": {},
   "outputs": [
    {
     "data": {
      "text/plain": [
       "1"
      ]
     },
     "execution_count": 32,
     "metadata": {},
     "output_type": "execute_result"
    }
   ],
   "source": [
    "pv_df.index.value_counts().max()"
   ]
  },
  {
   "cell_type": "code",
   "execution_count": 33,
   "metadata": {},
   "outputs": [
    {
     "data": {
      "text/plain": [
       "(1, 147342)"
      ]
     },
     "execution_count": 33,
     "metadata": {},
     "output_type": "execute_result"
    }
   ],
   "source": [
    "pv_df_res = pv_df.reset_index()\n",
    "pv_df_res.NUM_SECU_EXPED.value_counts().max(), len(pv_df_res)"
   ]
  },
  {
   "cell_type": "code",
   "execution_count": 34,
   "metadata": {},
   "outputs": [
    {
     "data": {
      "text/plain": [
       "COD_PREGUNTA\n",
       "NUM_SECU_EXPED     0.00\n",
       "preg_1            98.27\n",
       "preg_2            64.06\n",
       "preg_3            64.91\n",
       "preg_4            63.15\n",
       "preg_5            54.76\n",
       "preg_6            54.76\n",
       "preg_7            63.15\n",
       "preg_8            61.31\n",
       "preg_9            54.76\n",
       "preg_10           63.15\n",
       "preg_11           54.76\n",
       "preg_12           91.18\n",
       "preg_15           57.82\n",
       "preg_16           91.18\n",
       "preg_18           92.70\n",
       "preg_19           92.70\n",
       "preg_22           94.62\n",
       "preg_24           92.70\n",
       "preg_27           91.18\n",
       "preg_28           91.18\n",
       "preg_30           91.18\n",
       "preg_31           55.88\n",
       "preg_32           53.99\n",
       "preg_33           55.88\n",
       "preg_34           77.10\n",
       "preg_36           88.78\n",
       "preg_37           92.74\n",
       "dtype: float64"
      ]
     },
     "execution_count": 34,
     "metadata": {},
     "output_type": "execute_result"
    }
   ],
   "source": [
    "round((pv_df_res.isna().mean()) * 100, 2)"
   ]
  },
  {
   "cell_type": "markdown",
   "metadata": {},
   "source": [
    "## adding date and user act"
   ]
  },
  {
   "cell_type": "code",
   "execution_count": 35,
   "metadata": {},
   "outputs": [
    {
     "name": "stdout",
     "output_type": "stream",
     "text": [
      "1\n"
     ]
    }
   ],
   "source": [
    "# getting the index of the pivot_table to concat\n",
    "index = pv_df_res[\"NUM_SECU_EXPED\"]\n",
    "print(index.value_counts().max())"
   ]
  },
  {
   "cell_type": "code",
   "execution_count": 37,
   "metadata": {},
   "outputs": [
    {
     "name": "stdout",
     "output_type": "stream",
     "text": [
      "<class 'pandas.core.frame.DataFrame'>\n",
      "Int64Index: 1772083 entries, 0 to 1808627\n",
      "Data columns (total 2 columns):\n",
      "NUM_SECU_EXPED    int64\n",
      "FEC_ACT           datetime64[ns]\n",
      "dtypes: datetime64[ns](1), int64(1)\n",
      "memory usage: 40.6 MB\n"
     ]
    }
   ],
   "source": [
    "df_last = df[df[\"NUM_SECU_EXPED\"].isin(index)][[\"NUM_SECU_EXPED\", \"FEC_ACT\"]]\n",
    "df_last.info()"
   ]
  },
  {
   "cell_type": "code",
   "execution_count": 38,
   "metadata": {},
   "outputs": [
    {
     "name": "stdout",
     "output_type": "stream",
     "text": [
      "<class 'pandas.core.frame.DataFrame'>\n",
      "Int64Index: 147342 entries, 33 to 1808627\n",
      "Data columns (total 2 columns):\n",
      "NUM_SECU_EXPED    147342 non-null int64\n",
      "FEC_ACT           147342 non-null datetime64[ns]\n",
      "dtypes: datetime64[ns](1), int64(1)\n",
      "memory usage: 3.4 MB\n"
     ]
    }
   ],
   "source": [
    "df_last = df_last[~df_last[\"NUM_SECU_EXPED\"].duplicated(keep=\"last\")]\n",
    "#df_last.set_index(\"NUM_SECU_EXPED\", inplace=True)\n",
    "df_last.info()"
   ]
  },
  {
   "cell_type": "code",
   "execution_count": 39,
   "metadata": {},
   "outputs": [
    {
     "data": {
      "text/plain": [
       "1"
      ]
     },
     "execution_count": 39,
     "metadata": {},
     "output_type": "execute_result"
    }
   ],
   "source": [
    "# df_last_pv = df_last[df_last[\"NUM_SECU_EXPED\"].isin(index)]\n",
    "df_last[\"NUM_SECU_EXPED\"].value_counts().max()"
   ]
  },
  {
   "cell_type": "code",
   "execution_count": 40,
   "metadata": {},
   "outputs": [
    {
     "data": {
      "text/plain": [
       "(147342, 147342, 147342)"
      ]
     },
     "execution_count": 40,
     "metadata": {},
     "output_type": "execute_result"
    }
   ],
   "source": [
    "len(set(df_last.NUM_SECU_EXPED).intersection(set(index))), len(df_last), len(pv_df_res)"
   ]
  },
  {
   "cell_type": "code",
   "execution_count": 41,
   "metadata": {},
   "outputs": [
    {
     "data": {
      "text/plain": [
       "set()"
      ]
     },
     "execution_count": 41,
     "metadata": {},
     "output_type": "execute_result"
    }
   ],
   "source": [
    "set(df_last.NUM_SECU_EXPED) - (set(index))"
   ]
  },
  {
   "cell_type": "code",
   "execution_count": 42,
   "metadata": {},
   "outputs": [
    {
     "data": {
      "text/html": [
       "<div>\n",
       "<style scoped>\n",
       "    .dataframe tbody tr th:only-of-type {\n",
       "        vertical-align: middle;\n",
       "    }\n",
       "\n",
       "    .dataframe tbody tr th {\n",
       "        vertical-align: top;\n",
       "    }\n",
       "\n",
       "    .dataframe thead th {\n",
       "        text-align: right;\n",
       "    }\n",
       "</style>\n",
       "<table border=\"1\" class=\"dataframe\">\n",
       "  <thead>\n",
       "    <tr style=\"text-align: right;\">\n",
       "      <th>COD_PREGUNTA</th>\n",
       "      <th>NUM_SECU_EXPED</th>\n",
       "      <th>preg_1</th>\n",
       "      <th>preg_2</th>\n",
       "      <th>preg_3</th>\n",
       "      <th>preg_4</th>\n",
       "      <th>preg_5</th>\n",
       "      <th>preg_6</th>\n",
       "      <th>preg_7</th>\n",
       "      <th>preg_8</th>\n",
       "      <th>preg_9</th>\n",
       "      <th>preg_10</th>\n",
       "      <th>preg_11</th>\n",
       "      <th>preg_12</th>\n",
       "      <th>preg_15</th>\n",
       "      <th>preg_16</th>\n",
       "      <th>preg_18</th>\n",
       "      <th>preg_19</th>\n",
       "      <th>preg_22</th>\n",
       "      <th>preg_24</th>\n",
       "      <th>preg_27</th>\n",
       "      <th>preg_28</th>\n",
       "      <th>preg_30</th>\n",
       "      <th>preg_31</th>\n",
       "      <th>preg_32</th>\n",
       "      <th>preg_33</th>\n",
       "      <th>preg_34</th>\n",
       "      <th>preg_36</th>\n",
       "      <th>preg_37</th>\n",
       "    </tr>\n",
       "  </thead>\n",
       "  <tbody>\n",
       "    <tr>\n",
       "      <th>0</th>\n",
       "      <td>728135189999</td>\n",
       "      <td>NaN</td>\n",
       "      <td>NaN</td>\n",
       "      <td>NaN</td>\n",
       "      <td>NaN</td>\n",
       "      <td>NaN</td>\n",
       "      <td>NaN</td>\n",
       "      <td>NaN</td>\n",
       "      <td>NaN</td>\n",
       "      <td>NaN</td>\n",
       "      <td>NaN</td>\n",
       "      <td>NaN</td>\n",
       "      <td>D</td>\n",
       "      <td>O</td>\n",
       "      <td>O</td>\n",
       "      <td>O</td>\n",
       "      <td>O</td>\n",
       "      <td>100000</td>\n",
       "      <td>N</td>\n",
       "      <td>07/06/2009 00:00</td>\n",
       "      <td>08/06/2009 00:00</td>\n",
       "      <td>S</td>\n",
       "      <td>NaN</td>\n",
       "      <td>NaN</td>\n",
       "      <td>NaN</td>\n",
       "      <td>NaN</td>\n",
       "      <td>NaN</td>\n",
       "      <td>0</td>\n",
       "    </tr>\n",
       "    <tr>\n",
       "      <th>1</th>\n",
       "      <td>848582179999</td>\n",
       "      <td>NaN</td>\n",
       "      <td>NO</td>\n",
       "      <td>N</td>\n",
       "      <td>NH</td>\n",
       "      <td>N</td>\n",
       "      <td>D</td>\n",
       "      <td>91</td>\n",
       "      <td>D</td>\n",
       "      <td>D</td>\n",
       "      <td>D</td>\n",
       "      <td>N</td>\n",
       "      <td>NaN</td>\n",
       "      <td>NaN</td>\n",
       "      <td>NaN</td>\n",
       "      <td>NaN</td>\n",
       "      <td>NaN</td>\n",
       "      <td>NaN</td>\n",
       "      <td>NaN</td>\n",
       "      <td>NaN</td>\n",
       "      <td>NaN</td>\n",
       "      <td>NaN</td>\n",
       "      <td>NaN</td>\n",
       "      <td>NaN</td>\n",
       "      <td>NaN</td>\n",
       "      <td>NaN</td>\n",
       "      <td>NaN</td>\n",
       "      <td>NaN</td>\n",
       "    </tr>\n",
       "    <tr>\n",
       "      <th>2</th>\n",
       "      <td>858568169999</td>\n",
       "      <td>NaN</td>\n",
       "      <td>NO</td>\n",
       "      <td>N</td>\n",
       "      <td>NH</td>\n",
       "      <td>N</td>\n",
       "      <td>D</td>\n",
       "      <td>91</td>\n",
       "      <td>D</td>\n",
       "      <td>D</td>\n",
       "      <td>D</td>\n",
       "      <td>N</td>\n",
       "      <td>NaN</td>\n",
       "      <td>NaN</td>\n",
       "      <td>NaN</td>\n",
       "      <td>NaN</td>\n",
       "      <td>NaN</td>\n",
       "      <td>NaN</td>\n",
       "      <td>NaN</td>\n",
       "      <td>NaN</td>\n",
       "      <td>NaN</td>\n",
       "      <td>NaN</td>\n",
       "      <td>NaN</td>\n",
       "      <td>NaN</td>\n",
       "      <td>NaN</td>\n",
       "      <td>NaN</td>\n",
       "      <td>NaN</td>\n",
       "      <td>NaN</td>\n",
       "    </tr>\n",
       "    <tr>\n",
       "      <th>3</th>\n",
       "      <td>1094129479999</td>\n",
       "      <td>NaN</td>\n",
       "      <td>NaN</td>\n",
       "      <td>NaN</td>\n",
       "      <td>NaN</td>\n",
       "      <td>S</td>\n",
       "      <td>FA</td>\n",
       "      <td>NaN</td>\n",
       "      <td>NaN</td>\n",
       "      <td>AMB</td>\n",
       "      <td>NaN</td>\n",
       "      <td>N</td>\n",
       "      <td>NaN</td>\n",
       "      <td>NaN</td>\n",
       "      <td>NaN</td>\n",
       "      <td>NaN</td>\n",
       "      <td>NaN</td>\n",
       "      <td>NaN</td>\n",
       "      <td>NaN</td>\n",
       "      <td>NaN</td>\n",
       "      <td>NaN</td>\n",
       "      <td>NaN</td>\n",
       "      <td>NaN</td>\n",
       "      <td>NaN</td>\n",
       "      <td>NaN</td>\n",
       "      <td>NaN</td>\n",
       "      <td>NaN</td>\n",
       "      <td>NaN</td>\n",
       "    </tr>\n",
       "    <tr>\n",
       "      <th>4</th>\n",
       "      <td>1104460669999</td>\n",
       "      <td>NaN</td>\n",
       "      <td>NaN</td>\n",
       "      <td>NaN</td>\n",
       "      <td>NaN</td>\n",
       "      <td>NaN</td>\n",
       "      <td>NaN</td>\n",
       "      <td>NaN</td>\n",
       "      <td>NaN</td>\n",
       "      <td>NaN</td>\n",
       "      <td>NaN</td>\n",
       "      <td>NaN</td>\n",
       "      <td>O</td>\n",
       "      <td>O</td>\n",
       "      <td>O</td>\n",
       "      <td>O</td>\n",
       "      <td>O</td>\n",
       "      <td>0</td>\n",
       "      <td>N</td>\n",
       "      <td>23/09/2012 00:45</td>\n",
       "      <td>23/09/2012 00:46</td>\n",
       "      <td>S</td>\n",
       "      <td>NaN</td>\n",
       "      <td>NaN</td>\n",
       "      <td>NaN</td>\n",
       "      <td>NaN</td>\n",
       "      <td>NaN</td>\n",
       "      <td>NaN</td>\n",
       "    </tr>\n",
       "  </tbody>\n",
       "</table>\n",
       "</div>"
      ],
      "text/plain": [
       "COD_PREGUNTA  NUM_SECU_EXPED preg_1 preg_2 preg_3 preg_4 preg_5 preg_6 preg_7  \\\n",
       "0               728135189999    NaN    NaN    NaN    NaN    NaN    NaN    NaN   \n",
       "1               848582179999    NaN     NO      N     NH      N      D     91   \n",
       "2               858568169999    NaN     NO      N     NH      N      D     91   \n",
       "3              1094129479999    NaN    NaN    NaN    NaN      S     FA    NaN   \n",
       "4              1104460669999    NaN    NaN    NaN    NaN    NaN    NaN    NaN   \n",
       "\n",
       "COD_PREGUNTA preg_8 preg_9 preg_10 preg_11 preg_12 preg_15 preg_16 preg_18  \\\n",
       "0               NaN    NaN     NaN     NaN       D       O       O       O   \n",
       "1                 D      D       D       N     NaN     NaN     NaN     NaN   \n",
       "2                 D      D       D       N     NaN     NaN     NaN     NaN   \n",
       "3               NaN    AMB     NaN       N     NaN     NaN     NaN     NaN   \n",
       "4               NaN    NaN     NaN     NaN       O       O       O       O   \n",
       "\n",
       "COD_PREGUNTA preg_19 preg_22 preg_24           preg_27           preg_28  \\\n",
       "0                  O  100000       N  07/06/2009 00:00  08/06/2009 00:00   \n",
       "1                NaN     NaN     NaN               NaN               NaN   \n",
       "2                NaN     NaN     NaN               NaN               NaN   \n",
       "3                NaN     NaN     NaN               NaN               NaN   \n",
       "4                  O       0       N  23/09/2012 00:45  23/09/2012 00:46   \n",
       "\n",
       "COD_PREGUNTA preg_30 preg_31 preg_32 preg_33 preg_34 preg_36 preg_37  \n",
       "0                  S     NaN     NaN     NaN     NaN     NaN       0  \n",
       "1                NaN     NaN     NaN     NaN     NaN     NaN     NaN  \n",
       "2                NaN     NaN     NaN     NaN     NaN     NaN     NaN  \n",
       "3                NaN     NaN     NaN     NaN     NaN     NaN     NaN  \n",
       "4                  S     NaN     NaN     NaN     NaN     NaN     NaN  "
      ]
     },
     "execution_count": 42,
     "metadata": {},
     "output_type": "execute_result"
    }
   ],
   "source": [
    "# COD_PREGUNTA it's the index column name\n",
    "pv_df_res.head()"
   ]
  },
  {
   "cell_type": "code",
   "execution_count": 43,
   "metadata": {},
   "outputs": [
    {
     "data": {
      "text/plain": [
       "(1, 1)"
      ]
     },
     "execution_count": 43,
     "metadata": {},
     "output_type": "execute_result"
    }
   ],
   "source": [
    "pv_df_res[\"NUM_SECU_EXPED\"].value_counts().max(), df_last[\"NUM_SECU_EXPED\"].value_counts().max()"
   ]
  },
  {
   "cell_type": "code",
   "execution_count": 44,
   "metadata": {},
   "outputs": [
    {
     "name": "stdout",
     "output_type": "stream",
     "text": [
      "<class 'pandas.core.frame.DataFrame'>\n",
      "Int64Index: 147342 entries, 0 to 147341\n",
      "Data columns (total 29 columns):\n",
      "NUM_SECU_EXPED    147342 non-null int64\n",
      "preg_1            2544 non-null object\n",
      "preg_2            52954 non-null object\n",
      "preg_3            51706 non-null object\n",
      "preg_4            54292 non-null object\n",
      "preg_5            66654 non-null object\n",
      "preg_6            66654 non-null object\n",
      "preg_7            54292 non-null object\n",
      "preg_8            57010 non-null object\n",
      "preg_9            66654 non-null object\n",
      "preg_10           54292 non-null object\n",
      "preg_11           66654 non-null object\n",
      "preg_12           12995 non-null object\n",
      "preg_15           62152 non-null object\n",
      "preg_16           12995 non-null object\n",
      "preg_18           10762 non-null object\n",
      "preg_19           10762 non-null object\n",
      "preg_22           7923 non-null object\n",
      "preg_24           10763 non-null object\n",
      "preg_27           12995 non-null object\n",
      "preg_28           12995 non-null object\n",
      "preg_30           12995 non-null object\n",
      "preg_31           65008 non-null object\n",
      "preg_32           67798 non-null object\n",
      "preg_33           65008 non-null object\n",
      "preg_34           33748 non-null object\n",
      "preg_36           16536 non-null object\n",
      "preg_37           10692 non-null object\n",
      "FEC_ACT           147342 non-null datetime64[ns]\n",
      "dtypes: datetime64[ns](1), int64(1), object(27)\n",
      "memory usage: 33.7+ MB\n"
     ]
    }
   ],
   "source": [
    "df_concat = pd.merge(pv_df_res, df_last, on=\"NUM_SECU_EXPED\", how=\"inner\")\n",
    "df_concat.info()"
   ]
  },
  {
   "cell_type": "code",
   "execution_count": 45,
   "metadata": {},
   "outputs": [
    {
     "data": {
      "text/plain": [
       "1"
      ]
     },
     "execution_count": 45,
     "metadata": {},
     "output_type": "execute_result"
    }
   ],
   "source": [
    "df_concat[\"NUM_SECU_EXPED\"].value_counts().max()"
   ]
  },
  {
   "cell_type": "code",
   "execution_count": 46,
   "metadata": {},
   "outputs": [
    {
     "data": {
      "text/html": [
       "<div>\n",
       "<style scoped>\n",
       "    .dataframe tbody tr th:only-of-type {\n",
       "        vertical-align: middle;\n",
       "    }\n",
       "\n",
       "    .dataframe tbody tr th {\n",
       "        vertical-align: top;\n",
       "    }\n",
       "\n",
       "    .dataframe thead th {\n",
       "        text-align: right;\n",
       "    }\n",
       "</style>\n",
       "<table border=\"1\" class=\"dataframe\">\n",
       "  <thead>\n",
       "    <tr style=\"text-align: right;\">\n",
       "      <th></th>\n",
       "      <th>NUM_SECU_EXPED</th>\n",
       "      <th>preg_1</th>\n",
       "      <th>preg_2</th>\n",
       "      <th>preg_3</th>\n",
       "      <th>preg_4</th>\n",
       "      <th>preg_5</th>\n",
       "      <th>preg_6</th>\n",
       "      <th>preg_7</th>\n",
       "      <th>preg_8</th>\n",
       "      <th>preg_9</th>\n",
       "      <th>preg_10</th>\n",
       "      <th>preg_11</th>\n",
       "      <th>preg_12</th>\n",
       "      <th>preg_15</th>\n",
       "      <th>preg_16</th>\n",
       "      <th>preg_18</th>\n",
       "      <th>preg_19</th>\n",
       "      <th>preg_22</th>\n",
       "      <th>preg_24</th>\n",
       "      <th>preg_27</th>\n",
       "      <th>preg_28</th>\n",
       "      <th>preg_30</th>\n",
       "      <th>preg_31</th>\n",
       "      <th>preg_32</th>\n",
       "      <th>preg_33</th>\n",
       "      <th>preg_34</th>\n",
       "      <th>preg_36</th>\n",
       "      <th>preg_37</th>\n",
       "      <th>FEC_ACT</th>\n",
       "    </tr>\n",
       "  </thead>\n",
       "  <tbody>\n",
       "    <tr>\n",
       "      <th>0</th>\n",
       "      <td>728135189999</td>\n",
       "      <td>NaN</td>\n",
       "      <td>NaN</td>\n",
       "      <td>NaN</td>\n",
       "      <td>NaN</td>\n",
       "      <td>NaN</td>\n",
       "      <td>NaN</td>\n",
       "      <td>NaN</td>\n",
       "      <td>NaN</td>\n",
       "      <td>NaN</td>\n",
       "      <td>NaN</td>\n",
       "      <td>NaN</td>\n",
       "      <td>D</td>\n",
       "      <td>O</td>\n",
       "      <td>O</td>\n",
       "      <td>O</td>\n",
       "      <td>O</td>\n",
       "      <td>100000</td>\n",
       "      <td>N</td>\n",
       "      <td>07/06/2009 00:00</td>\n",
       "      <td>08/06/2009 00:00</td>\n",
       "      <td>S</td>\n",
       "      <td>NaN</td>\n",
       "      <td>NaN</td>\n",
       "      <td>NaN</td>\n",
       "      <td>NaN</td>\n",
       "      <td>NaN</td>\n",
       "      <td>0</td>\n",
       "      <td>2017-11-07</td>\n",
       "    </tr>\n",
       "    <tr>\n",
       "      <th>1</th>\n",
       "      <td>848582179999</td>\n",
       "      <td>NaN</td>\n",
       "      <td>NO</td>\n",
       "      <td>N</td>\n",
       "      <td>NH</td>\n",
       "      <td>N</td>\n",
       "      <td>D</td>\n",
       "      <td>91</td>\n",
       "      <td>D</td>\n",
       "      <td>D</td>\n",
       "      <td>D</td>\n",
       "      <td>N</td>\n",
       "      <td>NaN</td>\n",
       "      <td>NaN</td>\n",
       "      <td>NaN</td>\n",
       "      <td>NaN</td>\n",
       "      <td>NaN</td>\n",
       "      <td>NaN</td>\n",
       "      <td>NaN</td>\n",
       "      <td>NaN</td>\n",
       "      <td>NaN</td>\n",
       "      <td>NaN</td>\n",
       "      <td>NaN</td>\n",
       "      <td>NaN</td>\n",
       "      <td>NaN</td>\n",
       "      <td>NaN</td>\n",
       "      <td>NaN</td>\n",
       "      <td>NaN</td>\n",
       "      <td>2018-02-14</td>\n",
       "    </tr>\n",
       "    <tr>\n",
       "      <th>2</th>\n",
       "      <td>858568169999</td>\n",
       "      <td>NaN</td>\n",
       "      <td>NO</td>\n",
       "      <td>N</td>\n",
       "      <td>NH</td>\n",
       "      <td>N</td>\n",
       "      <td>D</td>\n",
       "      <td>91</td>\n",
       "      <td>D</td>\n",
       "      <td>D</td>\n",
       "      <td>D</td>\n",
       "      <td>N</td>\n",
       "      <td>NaN</td>\n",
       "      <td>NaN</td>\n",
       "      <td>NaN</td>\n",
       "      <td>NaN</td>\n",
       "      <td>NaN</td>\n",
       "      <td>NaN</td>\n",
       "      <td>NaN</td>\n",
       "      <td>NaN</td>\n",
       "      <td>NaN</td>\n",
       "      <td>NaN</td>\n",
       "      <td>NaN</td>\n",
       "      <td>NaN</td>\n",
       "      <td>NaN</td>\n",
       "      <td>NaN</td>\n",
       "      <td>NaN</td>\n",
       "      <td>NaN</td>\n",
       "      <td>2018-02-14</td>\n",
       "    </tr>\n",
       "    <tr>\n",
       "      <th>3</th>\n",
       "      <td>1094129479999</td>\n",
       "      <td>NaN</td>\n",
       "      <td>NaN</td>\n",
       "      <td>NaN</td>\n",
       "      <td>NaN</td>\n",
       "      <td>S</td>\n",
       "      <td>FA</td>\n",
       "      <td>NaN</td>\n",
       "      <td>NaN</td>\n",
       "      <td>AMB</td>\n",
       "      <td>NaN</td>\n",
       "      <td>N</td>\n",
       "      <td>NaN</td>\n",
       "      <td>NaN</td>\n",
       "      <td>NaN</td>\n",
       "      <td>NaN</td>\n",
       "      <td>NaN</td>\n",
       "      <td>NaN</td>\n",
       "      <td>NaN</td>\n",
       "      <td>NaN</td>\n",
       "      <td>NaN</td>\n",
       "      <td>NaN</td>\n",
       "      <td>NaN</td>\n",
       "      <td>NaN</td>\n",
       "      <td>NaN</td>\n",
       "      <td>NaN</td>\n",
       "      <td>NaN</td>\n",
       "      <td>NaN</td>\n",
       "      <td>2019-05-30</td>\n",
       "    </tr>\n",
       "    <tr>\n",
       "      <th>4</th>\n",
       "      <td>1104460669999</td>\n",
       "      <td>NaN</td>\n",
       "      <td>NaN</td>\n",
       "      <td>NaN</td>\n",
       "      <td>NaN</td>\n",
       "      <td>NaN</td>\n",
       "      <td>NaN</td>\n",
       "      <td>NaN</td>\n",
       "      <td>NaN</td>\n",
       "      <td>NaN</td>\n",
       "      <td>NaN</td>\n",
       "      <td>NaN</td>\n",
       "      <td>O</td>\n",
       "      <td>O</td>\n",
       "      <td>O</td>\n",
       "      <td>O</td>\n",
       "      <td>O</td>\n",
       "      <td>0</td>\n",
       "      <td>N</td>\n",
       "      <td>23/09/2012 00:45</td>\n",
       "      <td>23/09/2012 00:46</td>\n",
       "      <td>S</td>\n",
       "      <td>NaN</td>\n",
       "      <td>NaN</td>\n",
       "      <td>NaN</td>\n",
       "      <td>NaN</td>\n",
       "      <td>NaN</td>\n",
       "      <td>NaN</td>\n",
       "      <td>2017-02-01</td>\n",
       "    </tr>\n",
       "  </tbody>\n",
       "</table>\n",
       "</div>"
      ],
      "text/plain": [
       "   NUM_SECU_EXPED preg_1 preg_2 preg_3 preg_4 preg_5 preg_6 preg_7 preg_8  \\\n",
       "0    728135189999    NaN    NaN    NaN    NaN    NaN    NaN    NaN    NaN   \n",
       "1    848582179999    NaN     NO      N     NH      N      D     91      D   \n",
       "2    858568169999    NaN     NO      N     NH      N      D     91      D   \n",
       "3   1094129479999    NaN    NaN    NaN    NaN      S     FA    NaN    NaN   \n",
       "4   1104460669999    NaN    NaN    NaN    NaN    NaN    NaN    NaN    NaN   \n",
       "\n",
       "  preg_9 preg_10 preg_11 preg_12 preg_15 preg_16 preg_18 preg_19 preg_22  \\\n",
       "0    NaN     NaN     NaN       D       O       O       O       O  100000   \n",
       "1      D       D       N     NaN     NaN     NaN     NaN     NaN     NaN   \n",
       "2      D       D       N     NaN     NaN     NaN     NaN     NaN     NaN   \n",
       "3    AMB     NaN       N     NaN     NaN     NaN     NaN     NaN     NaN   \n",
       "4    NaN     NaN     NaN       O       O       O       O       O       0   \n",
       "\n",
       "  preg_24           preg_27           preg_28 preg_30 preg_31 preg_32 preg_33  \\\n",
       "0       N  07/06/2009 00:00  08/06/2009 00:00       S     NaN     NaN     NaN   \n",
       "1     NaN               NaN               NaN     NaN     NaN     NaN     NaN   \n",
       "2     NaN               NaN               NaN     NaN     NaN     NaN     NaN   \n",
       "3     NaN               NaN               NaN     NaN     NaN     NaN     NaN   \n",
       "4       N  23/09/2012 00:45  23/09/2012 00:46       S     NaN     NaN     NaN   \n",
       "\n",
       "  preg_34 preg_36 preg_37    FEC_ACT  \n",
       "0     NaN     NaN       0 2017-11-07  \n",
       "1     NaN     NaN     NaN 2018-02-14  \n",
       "2     NaN     NaN     NaN 2018-02-14  \n",
       "3     NaN     NaN     NaN 2019-05-30  \n",
       "4     NaN     NaN     NaN 2017-02-01  "
      ]
     },
     "execution_count": 46,
     "metadata": {},
     "output_type": "execute_result"
    }
   ],
   "source": [
    "df_concat.head()"
   ]
  },
  {
   "cell_type": "code",
   "execution_count": 47,
   "metadata": {},
   "outputs": [
    {
     "data": {
      "text/plain": [
       "(153634, 147342)"
      ]
     },
     "execution_count": 47,
     "metadata": {},
     "output_type": "execute_result"
    }
   ],
   "source": [
    "# checking unique num_secu_exped vs total number of rows\n",
    "(df[\"NUM_SECU_EXPED\"].nunique() ,  df_concat[\"NUM_SECU_EXPED\"].nunique())"
   ]
  },
  {
   "cell_type": "code",
   "execution_count": 48,
   "metadata": {},
   "outputs": [
    {
     "data": {
      "text/plain": [
       "[1849669879999, 1867444649999, 1945268649999, 1844507049999, 1849094569999]"
      ]
     },
     "execution_count": 48,
     "metadata": {},
     "output_type": "execute_result"
    }
   ],
   "source": [
    "no_id = list(set(df[\"NUM_SECU_EXPED\"].unique())-set(df_concat.index.to_list()))\n",
    "no_id[:5]"
   ]
  },
  {
   "cell_type": "code",
   "execution_count": 49,
   "metadata": {},
   "outputs": [
    {
     "data": {
      "text/plain": [
       "array([34, 32, 15, 33, 31])"
      ]
     },
     "execution_count": 49,
     "metadata": {},
     "output_type": "execute_result"
    }
   ],
   "source": [
    "df[df[\"NUM_SECU_EXPED\"] == 1849669879999][\"COD_PREGUNTA\"].unique()"
   ]
  },
  {
   "cell_type": "markdown",
   "metadata": {},
   "source": [
    "<h3 style=\"color:red\">There are exped that have preg with nulls. That's the reason of fewer rows in pv_df.</h3>"
   ]
  },
  {
   "cell_type": "code",
   "execution_count": 50,
   "metadata": {},
   "outputs": [
    {
     "data": {
      "text/html": [
       "<div>\n",
       "<style scoped>\n",
       "    .dataframe tbody tr th:only-of-type {\n",
       "        vertical-align: middle;\n",
       "    }\n",
       "\n",
       "    .dataframe tbody tr th {\n",
       "        vertical-align: top;\n",
       "    }\n",
       "\n",
       "    .dataframe thead th {\n",
       "        text-align: right;\n",
       "    }\n",
       "</style>\n",
       "<table border=\"1\" class=\"dataframe\">\n",
       "  <thead>\n",
       "    <tr style=\"text-align: right;\">\n",
       "      <th></th>\n",
       "      <th>COD_PREGUNTA</th>\n",
       "      <th>FEC_ACT</th>\n",
       "      <th>NUM_SECU_EXPED</th>\n",
       "      <th>TIPO_EXPED</th>\n",
       "      <th>VALOR_PREGUNTA</th>\n",
       "    </tr>\n",
       "  </thead>\n",
       "  <tbody>\n",
       "    <tr>\n",
       "      <th>1271031</th>\n",
       "      <td>34</td>\n",
       "      <td>2018-08-07</td>\n",
       "      <td>1849669879999</td>\n",
       "      <td>60</td>\n",
       "      <td>None</td>\n",
       "    </tr>\n",
       "    <tr>\n",
       "      <th>1271032</th>\n",
       "      <td>32</td>\n",
       "      <td>2018-08-07</td>\n",
       "      <td>1849669879999</td>\n",
       "      <td>60</td>\n",
       "      <td>1</td>\n",
       "    </tr>\n",
       "    <tr>\n",
       "      <th>1271033</th>\n",
       "      <td>15</td>\n",
       "      <td>2018-08-07</td>\n",
       "      <td>1849669879999</td>\n",
       "      <td>60</td>\n",
       "      <td>N</td>\n",
       "    </tr>\n",
       "    <tr>\n",
       "      <th>1271034</th>\n",
       "      <td>33</td>\n",
       "      <td>2018-08-07</td>\n",
       "      <td>1849669879999</td>\n",
       "      <td>60</td>\n",
       "      <td>N</td>\n",
       "    </tr>\n",
       "    <tr>\n",
       "      <th>1271035</th>\n",
       "      <td>31</td>\n",
       "      <td>2018-08-07</td>\n",
       "      <td>1849669879999</td>\n",
       "      <td>60</td>\n",
       "      <td>N</td>\n",
       "    </tr>\n",
       "    <tr>\n",
       "      <th>1306102</th>\n",
       "      <td>34</td>\n",
       "      <td>2018-08-15</td>\n",
       "      <td>1849669879999</td>\n",
       "      <td>60</td>\n",
       "      <td>None</td>\n",
       "    </tr>\n",
       "    <tr>\n",
       "      <th>1306103</th>\n",
       "      <td>32</td>\n",
       "      <td>2018-08-15</td>\n",
       "      <td>1849669879999</td>\n",
       "      <td>60</td>\n",
       "      <td>1</td>\n",
       "    </tr>\n",
       "    <tr>\n",
       "      <th>1306104</th>\n",
       "      <td>15</td>\n",
       "      <td>2018-08-15</td>\n",
       "      <td>1849669879999</td>\n",
       "      <td>60</td>\n",
       "      <td>N</td>\n",
       "    </tr>\n",
       "    <tr>\n",
       "      <th>1306105</th>\n",
       "      <td>33</td>\n",
       "      <td>2018-08-15</td>\n",
       "      <td>1849669879999</td>\n",
       "      <td>60</td>\n",
       "      <td>N</td>\n",
       "    </tr>\n",
       "    <tr>\n",
       "      <th>1306106</th>\n",
       "      <td>31</td>\n",
       "      <td>2018-08-15</td>\n",
       "      <td>1849669879999</td>\n",
       "      <td>60</td>\n",
       "      <td>N</td>\n",
       "    </tr>\n",
       "  </tbody>\n",
       "</table>\n",
       "</div>"
      ],
      "text/plain": [
       "         COD_PREGUNTA    FEC_ACT  NUM_SECU_EXPED  TIPO_EXPED VALOR_PREGUNTA\n",
       "1271031            34 2018-08-07   1849669879999          60           None\n",
       "1271032            32 2018-08-07   1849669879999          60              1\n",
       "1271033            15 2018-08-07   1849669879999          60              N\n",
       "1271034            33 2018-08-07   1849669879999          60              N\n",
       "1271035            31 2018-08-07   1849669879999          60              N\n",
       "1306102            34 2018-08-15   1849669879999          60           None\n",
       "1306103            32 2018-08-15   1849669879999          60              1\n",
       "1306104            15 2018-08-15   1849669879999          60              N\n",
       "1306105            33 2018-08-15   1849669879999          60              N\n",
       "1306106            31 2018-08-15   1849669879999          60              N"
      ]
     },
     "execution_count": 50,
     "metadata": {},
     "output_type": "execute_result"
    }
   ],
   "source": [
    "df[df[\"NUM_SECU_EXPED\"] == 1849669879999]"
   ]
  },
  {
   "cell_type": "code",
   "execution_count": 51,
   "metadata": {},
   "outputs": [
    {
     "data": {
      "text/html": [
       "<div>\n",
       "<style scoped>\n",
       "    .dataframe tbody tr th:only-of-type {\n",
       "        vertical-align: middle;\n",
       "    }\n",
       "\n",
       "    .dataframe tbody tr th {\n",
       "        vertical-align: top;\n",
       "    }\n",
       "\n",
       "    .dataframe thead th {\n",
       "        text-align: right;\n",
       "    }\n",
       "</style>\n",
       "<table border=\"1\" class=\"dataframe\">\n",
       "  <thead>\n",
       "    <tr style=\"text-align: right;\">\n",
       "      <th></th>\n",
       "      <th>COD_PREGUNTA</th>\n",
       "      <th>FEC_ACT</th>\n",
       "      <th>NUM_SECU_EXPED</th>\n",
       "      <th>TIPO_EXPED</th>\n",
       "      <th>VALOR_PREGUNTA</th>\n",
       "    </tr>\n",
       "  </thead>\n",
       "  <tbody>\n",
       "    <tr>\n",
       "      <th>1590449</th>\n",
       "      <td>34</td>\n",
       "      <td>2018-08-28</td>\n",
       "      <td>1854050729999</td>\n",
       "      <td>60</td>\n",
       "      <td>None</td>\n",
       "    </tr>\n",
       "    <tr>\n",
       "      <th>1590450</th>\n",
       "      <td>32</td>\n",
       "      <td>2018-08-28</td>\n",
       "      <td>1854050729999</td>\n",
       "      <td>60</td>\n",
       "      <td>None</td>\n",
       "    </tr>\n",
       "    <tr>\n",
       "      <th>1590451</th>\n",
       "      <td>15</td>\n",
       "      <td>2018-08-28</td>\n",
       "      <td>1854050729999</td>\n",
       "      <td>60</td>\n",
       "      <td>None</td>\n",
       "    </tr>\n",
       "    <tr>\n",
       "      <th>1590452</th>\n",
       "      <td>33</td>\n",
       "      <td>2018-08-28</td>\n",
       "      <td>1854050729999</td>\n",
       "      <td>60</td>\n",
       "      <td>None</td>\n",
       "    </tr>\n",
       "    <tr>\n",
       "      <th>1590453</th>\n",
       "      <td>31</td>\n",
       "      <td>2018-08-28</td>\n",
       "      <td>1854050729999</td>\n",
       "      <td>60</td>\n",
       "      <td>None</td>\n",
       "    </tr>\n",
       "  </tbody>\n",
       "</table>\n",
       "</div>"
      ],
      "text/plain": [
       "         COD_PREGUNTA    FEC_ACT  NUM_SECU_EXPED  TIPO_EXPED VALOR_PREGUNTA\n",
       "1590449            34 2018-08-28   1854050729999          60           None\n",
       "1590450            32 2018-08-28   1854050729999          60           None\n",
       "1590451            15 2018-08-28   1854050729999          60           None\n",
       "1590452            33 2018-08-28   1854050729999          60           None\n",
       "1590453            31 2018-08-28   1854050729999          60           None"
      ]
     },
     "execution_count": 51,
     "metadata": {},
     "output_type": "execute_result"
    }
   ],
   "source": [
    "df[df[\"NUM_SECU_EXPED\"] == 1854050729999]"
   ]
  },
  {
   "cell_type": "markdown",
   "metadata": {},
   "source": [
    "# saving into feather"
   ]
  },
  {
   "cell_type": "code",
   "execution_count": 52,
   "metadata": {},
   "outputs": [],
   "source": [
    "to_save = \"../../../data/interim/4. transformed/PREGUNTAS-red_col_with_fec_and_user.feather\"\n",
    "df_concat.reset_index().to_feather(to_save)"
   ]
  },
  {
   "cell_type": "markdown",
   "metadata": {},
   "source": [
    "# Loading dataset"
   ]
  },
  {
   "cell_type": "code",
   "execution_count": 92,
   "metadata": {},
   "outputs": [],
   "source": [
    "# setting configs and constants\n",
    "# path to raw dataset\n",
    "\n",
    "if not(os.path.exists(RAW_FILE) and os.path.isfile(RAW_FILE)):\n",
    "    raise Exception(\"File doesn't exists.\")"
   ]
  },
  {
   "cell_type": "code",
   "execution_count": null,
   "metadata": {},
   "outputs": [],
   "source": [
    "df = pd.read_feather(RAW_FILE)\n",
    "df.info()"
   ]
  }
 ],
 "metadata": {
  "kernelspec": {
   "display_name": "Python 3",
   "language": "python",
   "name": "python3"
  },
  "language_info": {
   "codemirror_mode": {
    "name": "ipython",
    "version": 3
   },
   "file_extension": ".py",
   "mimetype": "text/x-python",
   "name": "python",
   "nbconvert_exporter": "python",
   "pygments_lexer": "ipython3",
   "version": "3.6.8"
  },
  "varInspector": {
   "cols": {
    "lenName": 16,
    "lenType": 16,
    "lenVar": 40
   },
   "kernels_config": {
    "python": {
     "delete_cmd_postfix": "",
     "delete_cmd_prefix": "del ",
     "library": "var_list.py",
     "varRefreshCmd": "print(var_dic_list())"
    },
    "r": {
     "delete_cmd_postfix": ") ",
     "delete_cmd_prefix": "rm(",
     "library": "var_list.r",
     "varRefreshCmd": "cat(var_dic_list()) "
    }
   },
   "types_to_exclude": [
    "module",
    "function",
    "builtin_function_or_method",
    "instance",
    "_Feature"
   ],
   "window_display": false
  }
 },
 "nbformat": 4,
 "nbformat_minor": 2
}
