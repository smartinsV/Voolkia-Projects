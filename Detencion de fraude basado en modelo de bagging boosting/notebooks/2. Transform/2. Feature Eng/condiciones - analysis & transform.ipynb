{
 "cells": [
  {
   "cell_type": "code",
   "execution_count": 2,
   "metadata": {},
   "outputs": [],
   "source": [
    "import os\n",
    "\n",
    "import pandas as pd"
   ]
  },
  {
   "cell_type": "code",
   "execution_count": 3,
   "metadata": {},
   "outputs": [],
   "source": [
    "# general configs\n",
    "pd.set_option(\"display.max_columns\", 500)"
   ]
  },
  {
   "cell_type": "markdown",
   "metadata": {
    "heading_collapsed": true
   },
   "source": [
    "# condiciones - analysis"
   ]
  },
  {
   "cell_type": "code",
   "execution_count": 3,
   "metadata": {
    "hidden": true
   },
   "outputs": [],
   "source": [
    "# setting configs and constants\n",
    "# path to raw dataset\n",
    "PATH = \"../../../data/interim/1. col_red\"\n",
    "FILENAME = \"CONDICIONES-red_col.feather\"\n",
    "RAW_FILE = os.path.join(PATH, FILENAME)\n",
    "\n",
    "if not(os.path.exists(RAW_FILE) and os.path.isfile(RAW_FILE)):\n",
    "    raise Exception(\"File doesn't exists.\")"
   ]
  },
  {
   "cell_type": "markdown",
   "metadata": {
    "hidden": true
   },
   "source": [
    "## Loading database"
   ]
  },
  {
   "cell_type": "code",
   "execution_count": 6,
   "metadata": {
    "hidden": true
   },
   "outputs": [
    {
     "name": "stdout",
     "output_type": "stream",
     "text": [
      "<class 'pandas.core.frame.DataFrame'>\n",
      "RangeIndex: 10230858 entries, 0 to 10230857\n",
      "Data columns (total 5 columns):\n",
      "CONDICION          object\n",
      "FEC_ACT            datetime64[ns]\n",
      "NUM_SECU_EXPED     int64\n",
      "USR_ACT            object\n",
      "VALOR_CONDICION    float64\n",
      "dtypes: datetime64[ns](1), float64(1), int64(1), object(2)\n",
      "memory usage: 390.3+ MB\n"
     ]
    },
    {
     "name": "stderr",
     "output_type": "stream",
     "text": [
      "/home/voolkia/anaconda3/lib/python3.6/site-packages/pyarrow/pandas_compat.py:752: FutureWarning: .labels was deprecated in version 0.24.0. Use .codes instead.\n",
      "  labels, = index.labels\n"
     ]
    }
   ],
   "source": [
    "df = pd.read_feather(RAW_FILE)\n",
    "df.info()"
   ]
  },
  {
   "cell_type": "code",
   "execution_count": 7,
   "metadata": {
    "hidden": true
   },
   "outputs": [
    {
     "data": {
      "text/plain": [
       "1231015"
      ]
     },
     "execution_count": 7,
     "metadata": {},
     "output_type": "execute_result"
    }
   ],
   "source": [
    "df[\"NUM_SECU_EXPED\"].nunique()"
   ]
  },
  {
   "cell_type": "markdown",
   "metadata": {
    "hidden": true
   },
   "source": [
    "## pivoting table"
   ]
  },
  {
   "cell_type": "code",
   "execution_count": 8,
   "metadata": {
    "hidden": true
   },
   "outputs": [
    {
     "name": "stdout",
     "output_type": "stream",
     "text": [
      "<class 'pandas.core.frame.DataFrame'>\n",
      "Int64Index: 1231015 entries, 516359994 to 1961339499999\n",
      "Data columns (total 29 columns):\n",
      "cond_04     108057 non-null float64\n",
      "cond_05     33644 non-null float64\n",
      "cond_06     33644 non-null float64\n",
      "cond_09     34337 non-null float64\n",
      "cond_11     131464 non-null float64\n",
      "cond_12     14119 non-null float64\n",
      "cond_32     74055 non-null float64\n",
      "cond_37     11644 non-null float64\n",
      "cond_C1     191102 non-null float64\n",
      "cond_C10    75339 non-null float64\n",
      "cond_C11    75339 non-null float64\n",
      "cond_C12    75339 non-null float64\n",
      "cond_C13    670758 non-null float64\n",
      "cond_C14    10667 non-null float64\n",
      "cond_C15    261730 non-null float64\n",
      "cond_C16    261730 non-null float64\n",
      "cond_C17    35174 non-null float64\n",
      "cond_C18    17275 non-null float64\n",
      "cond_C19    17275 non-null float64\n",
      "cond_C2     14229 non-null float64\n",
      "cond_C20    17275 non-null float64\n",
      "cond_C21    35174 non-null float64\n",
      "cond_C3     14229 non-null float64\n",
      "cond_C4     13069 non-null float64\n",
      "cond_C5     14229 non-null float64\n",
      "cond_C6     680784 non-null float64\n",
      "cond_C7     544348 non-null float64\n",
      "cond_C8     696693 non-null float64\n",
      "cond_C9     680784 non-null float64\n",
      "dtypes: float64(29)\n",
      "memory usage: 281.8 MB\n"
     ]
    }
   ],
   "source": [
    "id_col = \"NUM_SECU_EXPED\"\n",
    "condition = \"CONDICION\"\n",
    "value_col = \"VALOR_CONDICION\"\n",
    "# getting last repeated record\n",
    "pv_df = df.pivot_table(index=id_col, columns=condition, values=value_col, aggfunc=\"last\")\n",
    "#renaming columns\n",
    "pv_df = pv_df.add_prefix(\"cond_\")\n",
    "pv_df.info()"
   ]
  },
  {
   "cell_type": "code",
   "execution_count": 9,
   "metadata": {
    "hidden": true
   },
   "outputs": [
    {
     "data": {
      "text/plain": [
       "(1, 1231015)"
      ]
     },
     "execution_count": 9,
     "metadata": {},
     "output_type": "execute_result"
    }
   ],
   "source": [
    "pv_df_res = pv_df.reset_index()\n",
    "pv_df_res[\"NUM_SECU_EXPED\"].value_counts().max(), len(pv_df_res)"
   ]
  },
  {
   "cell_type": "code",
   "execution_count": 10,
   "metadata": {
    "hidden": true
   },
   "outputs": [
    {
     "data": {
      "text/plain": [
       "1"
      ]
     },
     "execution_count": 10,
     "metadata": {},
     "output_type": "execute_result"
    }
   ],
   "source": [
    "# double checking repeated ids\n",
    "pv_df_res[\"NUM_SECU_EXPED\"].value_counts().max()"
   ]
  },
  {
   "cell_type": "code",
   "execution_count": 13,
   "metadata": {
    "hidden": true
   },
   "outputs": [
    {
     "data": {
      "text/plain": [
       "CONDICION\n",
       "NUM_SECU_EXPED     0.00\n",
       "cond_04           91.22\n",
       "cond_05           97.27\n",
       "cond_06           97.27\n",
       "cond_09           97.21\n",
       "cond_11           89.32\n",
       "cond_12           98.85\n",
       "cond_32           93.98\n",
       "cond_37           99.05\n",
       "cond_C1           84.48\n",
       "cond_C10          93.88\n",
       "cond_C11          93.88\n",
       "cond_C12          93.88\n",
       "cond_C13          45.51\n",
       "cond_C14          99.13\n",
       "cond_C15          78.74\n",
       "cond_C16          78.74\n",
       "cond_C17          97.14\n",
       "cond_C18          98.60\n",
       "cond_C19          98.60\n",
       "cond_C2           98.84\n",
       "cond_C20          98.60\n",
       "cond_C21          97.14\n",
       "cond_C3           98.84\n",
       "cond_C4           98.94\n",
       "cond_C5           98.84\n",
       "cond_C6           44.70\n",
       "cond_C7           55.78\n",
       "cond_C8           43.40\n",
       "cond_C9           44.70\n",
       "dtype: float64"
      ]
     },
     "execution_count": 13,
     "metadata": {},
     "output_type": "execute_result"
    }
   ],
   "source": [
    "round((pv_df_res.isna().mean()) * 100, 2)"
   ]
  },
  {
   "cell_type": "markdown",
   "metadata": {
    "hidden": true
   },
   "source": [
    "## adding date and user act"
   ]
  },
  {
   "cell_type": "code",
   "execution_count": 11,
   "metadata": {
    "hidden": true
   },
   "outputs": [
    {
     "name": "stdout",
     "output_type": "stream",
     "text": [
      "1\n"
     ]
    }
   ],
   "source": [
    "# getting the index of the pivot_table to concat\n",
    "index = pv_df_res[\"NUM_SECU_EXPED\"]\n",
    "print(index.value_counts().max())"
   ]
  },
  {
   "cell_type": "code",
   "execution_count": 12,
   "metadata": {
    "hidden": true
   },
   "outputs": [
    {
     "name": "stdout",
     "output_type": "stream",
     "text": [
      "<class 'pandas.core.frame.DataFrame'>\n",
      "Int64Index: 10230858 entries, 0 to 10230857\n",
      "Data columns (total 3 columns):\n",
      "NUM_SECU_EXPED    int64\n",
      "FEC_ACT           datetime64[ns]\n",
      "USR_ACT           object\n",
      "dtypes: datetime64[ns](1), int64(1), object(1)\n",
      "memory usage: 312.2+ MB\n"
     ]
    }
   ],
   "source": [
    "df_last = df[df[\"NUM_SECU_EXPED\"].isin(index)][[\"NUM_SECU_EXPED\", \"FEC_ACT\", \"USR_ACT\"]]\n",
    "df_last.info()"
   ]
  },
  {
   "cell_type": "code",
   "execution_count": 13,
   "metadata": {
    "hidden": true
   },
   "outputs": [
    {
     "name": "stdout",
     "output_type": "stream",
     "text": [
      "<class 'pandas.core.frame.DataFrame'>\n",
      "Int64Index: 1231015 entries, 26 to 10230857\n",
      "Data columns (total 3 columns):\n",
      "NUM_SECU_EXPED    1231015 non-null int64\n",
      "FEC_ACT           1231015 non-null datetime64[ns]\n",
      "USR_ACT           1231015 non-null object\n",
      "dtypes: datetime64[ns](1), int64(1), object(1)\n",
      "memory usage: 37.6+ MB\n"
     ]
    }
   ],
   "source": [
    "df_last = df_last[~df_last[\"NUM_SECU_EXPED\"].duplicated(keep=\"last\")]\n",
    "df_last.info()"
   ]
  },
  {
   "cell_type": "code",
   "execution_count": 14,
   "metadata": {
    "hidden": true
   },
   "outputs": [
    {
     "data": {
      "text/plain": [
       "1"
      ]
     },
     "execution_count": 14,
     "metadata": {},
     "output_type": "execute_result"
    }
   ],
   "source": [
    "df_last[\"NUM_SECU_EXPED\"].value_counts().max()"
   ]
  },
  {
   "cell_type": "code",
   "execution_count": 15,
   "metadata": {
    "hidden": true
   },
   "outputs": [
    {
     "data": {
      "text/plain": [
       "(1231015, 1231015, 1231015)"
      ]
     },
     "execution_count": 15,
     "metadata": {},
     "output_type": "execute_result"
    }
   ],
   "source": [
    "len(set(df_last.NUM_SECU_EXPED).intersection(set(index))), len(df_last), len(pv_df_res)"
   ]
  },
  {
   "cell_type": "code",
   "execution_count": 16,
   "metadata": {
    "hidden": true
   },
   "outputs": [
    {
     "data": {
      "text/plain": [
       "set()"
      ]
     },
     "execution_count": 16,
     "metadata": {},
     "output_type": "execute_result"
    }
   ],
   "source": [
    "set(df_last.NUM_SECU_EXPED) - (set(index))"
   ]
  },
  {
   "cell_type": "code",
   "execution_count": 17,
   "metadata": {
    "hidden": true
   },
   "outputs": [
    {
     "data": {
      "text/html": [
       "<div>\n",
       "<style scoped>\n",
       "    .dataframe tbody tr th:only-of-type {\n",
       "        vertical-align: middle;\n",
       "    }\n",
       "\n",
       "    .dataframe tbody tr th {\n",
       "        vertical-align: top;\n",
       "    }\n",
       "\n",
       "    .dataframe thead th {\n",
       "        text-align: right;\n",
       "    }\n",
       "</style>\n",
       "<table border=\"1\" class=\"dataframe\">\n",
       "  <thead>\n",
       "    <tr style=\"text-align: right;\">\n",
       "      <th>CONDICION</th>\n",
       "      <th>NUM_SECU_EXPED</th>\n",
       "      <th>cond_04</th>\n",
       "      <th>cond_05</th>\n",
       "      <th>cond_06</th>\n",
       "      <th>cond_09</th>\n",
       "      <th>cond_11</th>\n",
       "      <th>cond_12</th>\n",
       "      <th>cond_32</th>\n",
       "      <th>cond_37</th>\n",
       "      <th>cond_C1</th>\n",
       "      <th>cond_C10</th>\n",
       "      <th>cond_C11</th>\n",
       "      <th>cond_C12</th>\n",
       "      <th>cond_C13</th>\n",
       "      <th>cond_C14</th>\n",
       "      <th>cond_C15</th>\n",
       "      <th>cond_C16</th>\n",
       "      <th>cond_C17</th>\n",
       "      <th>cond_C18</th>\n",
       "      <th>cond_C19</th>\n",
       "      <th>cond_C2</th>\n",
       "      <th>cond_C20</th>\n",
       "      <th>cond_C21</th>\n",
       "      <th>cond_C3</th>\n",
       "      <th>cond_C4</th>\n",
       "      <th>cond_C5</th>\n",
       "      <th>cond_C6</th>\n",
       "      <th>cond_C7</th>\n",
       "      <th>cond_C8</th>\n",
       "      <th>cond_C9</th>\n",
       "    </tr>\n",
       "  </thead>\n",
       "  <tbody>\n",
       "    <tr>\n",
       "      <th>0</th>\n",
       "      <td>516359994</td>\n",
       "      <td>0.0</td>\n",
       "      <td>NaN</td>\n",
       "      <td>NaN</td>\n",
       "      <td>NaN</td>\n",
       "      <td>0.0</td>\n",
       "      <td>NaN</td>\n",
       "      <td>NaN</td>\n",
       "      <td>NaN</td>\n",
       "      <td>NaN</td>\n",
       "      <td>NaN</td>\n",
       "      <td>NaN</td>\n",
       "      <td>NaN</td>\n",
       "      <td>0.0</td>\n",
       "      <td>NaN</td>\n",
       "      <td>NaN</td>\n",
       "      <td>NaN</td>\n",
       "      <td>NaN</td>\n",
       "      <td>NaN</td>\n",
       "      <td>NaN</td>\n",
       "      <td>NaN</td>\n",
       "      <td>NaN</td>\n",
       "      <td>NaN</td>\n",
       "      <td>NaN</td>\n",
       "      <td>NaN</td>\n",
       "      <td>NaN</td>\n",
       "      <td>0.0</td>\n",
       "      <td>NaN</td>\n",
       "      <td>1.0</td>\n",
       "      <td>3.0</td>\n",
       "    </tr>\n",
       "    <tr>\n",
       "      <th>1</th>\n",
       "      <td>1762619999</td>\n",
       "      <td>NaN</td>\n",
       "      <td>NaN</td>\n",
       "      <td>NaN</td>\n",
       "      <td>NaN</td>\n",
       "      <td>NaN</td>\n",
       "      <td>NaN</td>\n",
       "      <td>NaN</td>\n",
       "      <td>NaN</td>\n",
       "      <td>NaN</td>\n",
       "      <td>NaN</td>\n",
       "      <td>NaN</td>\n",
       "      <td>NaN</td>\n",
       "      <td>NaN</td>\n",
       "      <td>NaN</td>\n",
       "      <td>NaN</td>\n",
       "      <td>NaN</td>\n",
       "      <td>NaN</td>\n",
       "      <td>NaN</td>\n",
       "      <td>NaN</td>\n",
       "      <td>NaN</td>\n",
       "      <td>NaN</td>\n",
       "      <td>NaN</td>\n",
       "      <td>NaN</td>\n",
       "      <td>NaN</td>\n",
       "      <td>NaN</td>\n",
       "      <td>0.0</td>\n",
       "      <td>0.0</td>\n",
       "      <td>0.0</td>\n",
       "      <td>0.0</td>\n",
       "    </tr>\n",
       "    <tr>\n",
       "      <th>2</th>\n",
       "      <td>4768809999</td>\n",
       "      <td>0.0</td>\n",
       "      <td>NaN</td>\n",
       "      <td>NaN</td>\n",
       "      <td>NaN</td>\n",
       "      <td>0.0</td>\n",
       "      <td>NaN</td>\n",
       "      <td>NaN</td>\n",
       "      <td>NaN</td>\n",
       "      <td>NaN</td>\n",
       "      <td>NaN</td>\n",
       "      <td>NaN</td>\n",
       "      <td>NaN</td>\n",
       "      <td>0.0</td>\n",
       "      <td>NaN</td>\n",
       "      <td>NaN</td>\n",
       "      <td>NaN</td>\n",
       "      <td>NaN</td>\n",
       "      <td>NaN</td>\n",
       "      <td>NaN</td>\n",
       "      <td>NaN</td>\n",
       "      <td>NaN</td>\n",
       "      <td>NaN</td>\n",
       "      <td>NaN</td>\n",
       "      <td>NaN</td>\n",
       "      <td>NaN</td>\n",
       "      <td>0.0</td>\n",
       "      <td>NaN</td>\n",
       "      <td>0.0</td>\n",
       "      <td>3.0</td>\n",
       "    </tr>\n",
       "    <tr>\n",
       "      <th>3</th>\n",
       "      <td>6444209999</td>\n",
       "      <td>0.0</td>\n",
       "      <td>NaN</td>\n",
       "      <td>NaN</td>\n",
       "      <td>NaN</td>\n",
       "      <td>0.0</td>\n",
       "      <td>NaN</td>\n",
       "      <td>NaN</td>\n",
       "      <td>NaN</td>\n",
       "      <td>NaN</td>\n",
       "      <td>NaN</td>\n",
       "      <td>NaN</td>\n",
       "      <td>NaN</td>\n",
       "      <td>0.0</td>\n",
       "      <td>NaN</td>\n",
       "      <td>NaN</td>\n",
       "      <td>NaN</td>\n",
       "      <td>NaN</td>\n",
       "      <td>NaN</td>\n",
       "      <td>NaN</td>\n",
       "      <td>NaN</td>\n",
       "      <td>NaN</td>\n",
       "      <td>NaN</td>\n",
       "      <td>NaN</td>\n",
       "      <td>NaN</td>\n",
       "      <td>NaN</td>\n",
       "      <td>0.0</td>\n",
       "      <td>NaN</td>\n",
       "      <td>0.0</td>\n",
       "      <td>3.0</td>\n",
       "    </tr>\n",
       "    <tr>\n",
       "      <th>4</th>\n",
       "      <td>7529469970</td>\n",
       "      <td>NaN</td>\n",
       "      <td>NaN</td>\n",
       "      <td>NaN</td>\n",
       "      <td>NaN</td>\n",
       "      <td>NaN</td>\n",
       "      <td>NaN</td>\n",
       "      <td>NaN</td>\n",
       "      <td>NaN</td>\n",
       "      <td>NaN</td>\n",
       "      <td>NaN</td>\n",
       "      <td>NaN</td>\n",
       "      <td>NaN</td>\n",
       "      <td>NaN</td>\n",
       "      <td>NaN</td>\n",
       "      <td>NaN</td>\n",
       "      <td>NaN</td>\n",
       "      <td>NaN</td>\n",
       "      <td>NaN</td>\n",
       "      <td>NaN</td>\n",
       "      <td>NaN</td>\n",
       "      <td>NaN</td>\n",
       "      <td>NaN</td>\n",
       "      <td>NaN</td>\n",
       "      <td>NaN</td>\n",
       "      <td>NaN</td>\n",
       "      <td>0.0</td>\n",
       "      <td>0.0</td>\n",
       "      <td>1.0</td>\n",
       "      <td>0.0</td>\n",
       "    </tr>\n",
       "  </tbody>\n",
       "</table>\n",
       "</div>"
      ],
      "text/plain": [
       "CONDICION  NUM_SECU_EXPED  cond_04  cond_05  cond_06  cond_09  cond_11  \\\n",
       "0               516359994      0.0      NaN      NaN      NaN      0.0   \n",
       "1              1762619999      NaN      NaN      NaN      NaN      NaN   \n",
       "2              4768809999      0.0      NaN      NaN      NaN      0.0   \n",
       "3              6444209999      0.0      NaN      NaN      NaN      0.0   \n",
       "4              7529469970      NaN      NaN      NaN      NaN      NaN   \n",
       "\n",
       "CONDICION  cond_12  cond_32  cond_37  cond_C1  cond_C10  cond_C11  cond_C12  \\\n",
       "0              NaN      NaN      NaN      NaN       NaN       NaN       NaN   \n",
       "1              NaN      NaN      NaN      NaN       NaN       NaN       NaN   \n",
       "2              NaN      NaN      NaN      NaN       NaN       NaN       NaN   \n",
       "3              NaN      NaN      NaN      NaN       NaN       NaN       NaN   \n",
       "4              NaN      NaN      NaN      NaN       NaN       NaN       NaN   \n",
       "\n",
       "CONDICION  cond_C13  cond_C14  cond_C15  cond_C16  cond_C17  cond_C18  \\\n",
       "0               0.0       NaN       NaN       NaN       NaN       NaN   \n",
       "1               NaN       NaN       NaN       NaN       NaN       NaN   \n",
       "2               0.0       NaN       NaN       NaN       NaN       NaN   \n",
       "3               0.0       NaN       NaN       NaN       NaN       NaN   \n",
       "4               NaN       NaN       NaN       NaN       NaN       NaN   \n",
       "\n",
       "CONDICION  cond_C19  cond_C2  cond_C20  cond_C21  cond_C3  cond_C4  cond_C5  \\\n",
       "0               NaN      NaN       NaN       NaN      NaN      NaN      NaN   \n",
       "1               NaN      NaN       NaN       NaN      NaN      NaN      NaN   \n",
       "2               NaN      NaN       NaN       NaN      NaN      NaN      NaN   \n",
       "3               NaN      NaN       NaN       NaN      NaN      NaN      NaN   \n",
       "4               NaN      NaN       NaN       NaN      NaN      NaN      NaN   \n",
       "\n",
       "CONDICION  cond_C6  cond_C7  cond_C8  cond_C9  \n",
       "0              0.0      NaN      1.0      3.0  \n",
       "1              0.0      0.0      0.0      0.0  \n",
       "2              0.0      NaN      0.0      3.0  \n",
       "3              0.0      NaN      0.0      3.0  \n",
       "4              0.0      0.0      1.0      0.0  "
      ]
     },
     "execution_count": 17,
     "metadata": {},
     "output_type": "execute_result"
    }
   ],
   "source": [
    "# CONDICION it's the index column name\n",
    "pv_df_res.head()"
   ]
  },
  {
   "cell_type": "code",
   "execution_count": 18,
   "metadata": {
    "hidden": true
   },
   "outputs": [
    {
     "data": {
      "text/plain": [
       "(1, 1)"
      ]
     },
     "execution_count": 18,
     "metadata": {},
     "output_type": "execute_result"
    }
   ],
   "source": [
    "pv_df_res[\"NUM_SECU_EXPED\"].value_counts().max(), df_last[\"NUM_SECU_EXPED\"].value_counts().max()"
   ]
  },
  {
   "cell_type": "code",
   "execution_count": 19,
   "metadata": {
    "hidden": true
   },
   "outputs": [
    {
     "name": "stdout",
     "output_type": "stream",
     "text": [
      "<class 'pandas.core.frame.DataFrame'>\n",
      "Int64Index: 1231015 entries, 0 to 1231014\n",
      "Data columns (total 32 columns):\n",
      "NUM_SECU_EXPED    1231015 non-null int64\n",
      "cond_04           108057 non-null float64\n",
      "cond_05           33644 non-null float64\n",
      "cond_06           33644 non-null float64\n",
      "cond_09           34337 non-null float64\n",
      "cond_11           131464 non-null float64\n",
      "cond_12           14119 non-null float64\n",
      "cond_32           74055 non-null float64\n",
      "cond_37           11644 non-null float64\n",
      "cond_C1           191102 non-null float64\n",
      "cond_C10          75339 non-null float64\n",
      "cond_C11          75339 non-null float64\n",
      "cond_C12          75339 non-null float64\n",
      "cond_C13          670758 non-null float64\n",
      "cond_C14          10667 non-null float64\n",
      "cond_C15          261730 non-null float64\n",
      "cond_C16          261730 non-null float64\n",
      "cond_C17          35174 non-null float64\n",
      "cond_C18          17275 non-null float64\n",
      "cond_C19          17275 non-null float64\n",
      "cond_C2           14229 non-null float64\n",
      "cond_C20          17275 non-null float64\n",
      "cond_C21          35174 non-null float64\n",
      "cond_C3           14229 non-null float64\n",
      "cond_C4           13069 non-null float64\n",
      "cond_C5           14229 non-null float64\n",
      "cond_C6           680784 non-null float64\n",
      "cond_C7           544348 non-null float64\n",
      "cond_C8           696693 non-null float64\n",
      "cond_C9           680784 non-null float64\n",
      "FEC_ACT           1231015 non-null datetime64[ns]\n",
      "USR_ACT           1231015 non-null object\n",
      "dtypes: datetime64[ns](1), float64(29), int64(1), object(1)\n",
      "memory usage: 309.9+ MB\n"
     ]
    }
   ],
   "source": [
    "df_concat = pd.merge(pv_df_res, df_last, on=\"NUM_SECU_EXPED\", how=\"inner\")\n",
    "df_concat.info()"
   ]
  },
  {
   "cell_type": "code",
   "execution_count": 20,
   "metadata": {
    "hidden": true
   },
   "outputs": [
    {
     "data": {
      "text/plain": [
       "1"
      ]
     },
     "execution_count": 20,
     "metadata": {},
     "output_type": "execute_result"
    }
   ],
   "source": [
    "df_concat[\"NUM_SECU_EXPED\"].value_counts().max()"
   ]
  },
  {
   "cell_type": "code",
   "execution_count": 21,
   "metadata": {
    "hidden": true
   },
   "outputs": [
    {
     "data": {
      "text/html": [
       "<div>\n",
       "<style scoped>\n",
       "    .dataframe tbody tr th:only-of-type {\n",
       "        vertical-align: middle;\n",
       "    }\n",
       "\n",
       "    .dataframe tbody tr th {\n",
       "        vertical-align: top;\n",
       "    }\n",
       "\n",
       "    .dataframe thead th {\n",
       "        text-align: right;\n",
       "    }\n",
       "</style>\n",
       "<table border=\"1\" class=\"dataframe\">\n",
       "  <thead>\n",
       "    <tr style=\"text-align: right;\">\n",
       "      <th></th>\n",
       "      <th>NUM_SECU_EXPED</th>\n",
       "      <th>cond_04</th>\n",
       "      <th>cond_05</th>\n",
       "      <th>cond_06</th>\n",
       "      <th>cond_09</th>\n",
       "      <th>cond_11</th>\n",
       "      <th>cond_12</th>\n",
       "      <th>cond_32</th>\n",
       "      <th>cond_37</th>\n",
       "      <th>cond_C1</th>\n",
       "      <th>cond_C10</th>\n",
       "      <th>cond_C11</th>\n",
       "      <th>cond_C12</th>\n",
       "      <th>cond_C13</th>\n",
       "      <th>cond_C14</th>\n",
       "      <th>cond_C15</th>\n",
       "      <th>cond_C16</th>\n",
       "      <th>cond_C17</th>\n",
       "      <th>cond_C18</th>\n",
       "      <th>cond_C19</th>\n",
       "      <th>cond_C2</th>\n",
       "      <th>cond_C20</th>\n",
       "      <th>cond_C21</th>\n",
       "      <th>cond_C3</th>\n",
       "      <th>cond_C4</th>\n",
       "      <th>cond_C5</th>\n",
       "      <th>cond_C6</th>\n",
       "      <th>cond_C7</th>\n",
       "      <th>cond_C8</th>\n",
       "      <th>cond_C9</th>\n",
       "      <th>FEC_ACT</th>\n",
       "      <th>USR_ACT</th>\n",
       "    </tr>\n",
       "  </thead>\n",
       "  <tbody>\n",
       "    <tr>\n",
       "      <th>0</th>\n",
       "      <td>516359994</td>\n",
       "      <td>0.0</td>\n",
       "      <td>NaN</td>\n",
       "      <td>NaN</td>\n",
       "      <td>NaN</td>\n",
       "      <td>0.0</td>\n",
       "      <td>NaN</td>\n",
       "      <td>NaN</td>\n",
       "      <td>NaN</td>\n",
       "      <td>NaN</td>\n",
       "      <td>NaN</td>\n",
       "      <td>NaN</td>\n",
       "      <td>NaN</td>\n",
       "      <td>0.0</td>\n",
       "      <td>NaN</td>\n",
       "      <td>NaN</td>\n",
       "      <td>NaN</td>\n",
       "      <td>NaN</td>\n",
       "      <td>NaN</td>\n",
       "      <td>NaN</td>\n",
       "      <td>NaN</td>\n",
       "      <td>NaN</td>\n",
       "      <td>NaN</td>\n",
       "      <td>NaN</td>\n",
       "      <td>NaN</td>\n",
       "      <td>NaN</td>\n",
       "      <td>0.0</td>\n",
       "      <td>NaN</td>\n",
       "      <td>1.0</td>\n",
       "      <td>3.0</td>\n",
       "      <td>2018-06-19</td>\n",
       "      <td>SALINASL</td>\n",
       "    </tr>\n",
       "    <tr>\n",
       "      <th>1</th>\n",
       "      <td>1762619999</td>\n",
       "      <td>NaN</td>\n",
       "      <td>NaN</td>\n",
       "      <td>NaN</td>\n",
       "      <td>NaN</td>\n",
       "      <td>NaN</td>\n",
       "      <td>NaN</td>\n",
       "      <td>NaN</td>\n",
       "      <td>NaN</td>\n",
       "      <td>NaN</td>\n",
       "      <td>NaN</td>\n",
       "      <td>NaN</td>\n",
       "      <td>NaN</td>\n",
       "      <td>NaN</td>\n",
       "      <td>NaN</td>\n",
       "      <td>NaN</td>\n",
       "      <td>NaN</td>\n",
       "      <td>NaN</td>\n",
       "      <td>NaN</td>\n",
       "      <td>NaN</td>\n",
       "      <td>NaN</td>\n",
       "      <td>NaN</td>\n",
       "      <td>NaN</td>\n",
       "      <td>NaN</td>\n",
       "      <td>NaN</td>\n",
       "      <td>NaN</td>\n",
       "      <td>0.0</td>\n",
       "      <td>0.0</td>\n",
       "      <td>0.0</td>\n",
       "      <td>0.0</td>\n",
       "      <td>2017-03-20</td>\n",
       "      <td>COLOMBOM</td>\n",
       "    </tr>\n",
       "    <tr>\n",
       "      <th>2</th>\n",
       "      <td>4768809999</td>\n",
       "      <td>0.0</td>\n",
       "      <td>NaN</td>\n",
       "      <td>NaN</td>\n",
       "      <td>NaN</td>\n",
       "      <td>0.0</td>\n",
       "      <td>NaN</td>\n",
       "      <td>NaN</td>\n",
       "      <td>NaN</td>\n",
       "      <td>NaN</td>\n",
       "      <td>NaN</td>\n",
       "      <td>NaN</td>\n",
       "      <td>NaN</td>\n",
       "      <td>0.0</td>\n",
       "      <td>NaN</td>\n",
       "      <td>NaN</td>\n",
       "      <td>NaN</td>\n",
       "      <td>NaN</td>\n",
       "      <td>NaN</td>\n",
       "      <td>NaN</td>\n",
       "      <td>NaN</td>\n",
       "      <td>NaN</td>\n",
       "      <td>NaN</td>\n",
       "      <td>NaN</td>\n",
       "      <td>NaN</td>\n",
       "      <td>NaN</td>\n",
       "      <td>0.0</td>\n",
       "      <td>NaN</td>\n",
       "      <td>0.0</td>\n",
       "      <td>3.0</td>\n",
       "      <td>2018-03-08</td>\n",
       "      <td>ALAIS</td>\n",
       "    </tr>\n",
       "    <tr>\n",
       "      <th>3</th>\n",
       "      <td>6444209999</td>\n",
       "      <td>0.0</td>\n",
       "      <td>NaN</td>\n",
       "      <td>NaN</td>\n",
       "      <td>NaN</td>\n",
       "      <td>0.0</td>\n",
       "      <td>NaN</td>\n",
       "      <td>NaN</td>\n",
       "      <td>NaN</td>\n",
       "      <td>NaN</td>\n",
       "      <td>NaN</td>\n",
       "      <td>NaN</td>\n",
       "      <td>NaN</td>\n",
       "      <td>0.0</td>\n",
       "      <td>NaN</td>\n",
       "      <td>NaN</td>\n",
       "      <td>NaN</td>\n",
       "      <td>NaN</td>\n",
       "      <td>NaN</td>\n",
       "      <td>NaN</td>\n",
       "      <td>NaN</td>\n",
       "      <td>NaN</td>\n",
       "      <td>NaN</td>\n",
       "      <td>NaN</td>\n",
       "      <td>NaN</td>\n",
       "      <td>NaN</td>\n",
       "      <td>0.0</td>\n",
       "      <td>NaN</td>\n",
       "      <td>0.0</td>\n",
       "      <td>3.0</td>\n",
       "      <td>2018-02-26</td>\n",
       "      <td>KLEIN</td>\n",
       "    </tr>\n",
       "    <tr>\n",
       "      <th>4</th>\n",
       "      <td>7529469970</td>\n",
       "      <td>NaN</td>\n",
       "      <td>NaN</td>\n",
       "      <td>NaN</td>\n",
       "      <td>NaN</td>\n",
       "      <td>NaN</td>\n",
       "      <td>NaN</td>\n",
       "      <td>NaN</td>\n",
       "      <td>NaN</td>\n",
       "      <td>NaN</td>\n",
       "      <td>NaN</td>\n",
       "      <td>NaN</td>\n",
       "      <td>NaN</td>\n",
       "      <td>NaN</td>\n",
       "      <td>NaN</td>\n",
       "      <td>NaN</td>\n",
       "      <td>NaN</td>\n",
       "      <td>NaN</td>\n",
       "      <td>NaN</td>\n",
       "      <td>NaN</td>\n",
       "      <td>NaN</td>\n",
       "      <td>NaN</td>\n",
       "      <td>NaN</td>\n",
       "      <td>NaN</td>\n",
       "      <td>NaN</td>\n",
       "      <td>NaN</td>\n",
       "      <td>0.0</td>\n",
       "      <td>0.0</td>\n",
       "      <td>1.0</td>\n",
       "      <td>0.0</td>\n",
       "      <td>2018-04-18</td>\n",
       "      <td>CHIPIAN</td>\n",
       "    </tr>\n",
       "  </tbody>\n",
       "</table>\n",
       "</div>"
      ],
      "text/plain": [
       "   NUM_SECU_EXPED  cond_04  cond_05  cond_06  cond_09  cond_11  cond_12  \\\n",
       "0       516359994      0.0      NaN      NaN      NaN      0.0      NaN   \n",
       "1      1762619999      NaN      NaN      NaN      NaN      NaN      NaN   \n",
       "2      4768809999      0.0      NaN      NaN      NaN      0.0      NaN   \n",
       "3      6444209999      0.0      NaN      NaN      NaN      0.0      NaN   \n",
       "4      7529469970      NaN      NaN      NaN      NaN      NaN      NaN   \n",
       "\n",
       "   cond_32  cond_37  cond_C1  cond_C10  cond_C11  cond_C12  cond_C13  \\\n",
       "0      NaN      NaN      NaN       NaN       NaN       NaN       0.0   \n",
       "1      NaN      NaN      NaN       NaN       NaN       NaN       NaN   \n",
       "2      NaN      NaN      NaN       NaN       NaN       NaN       0.0   \n",
       "3      NaN      NaN      NaN       NaN       NaN       NaN       0.0   \n",
       "4      NaN      NaN      NaN       NaN       NaN       NaN       NaN   \n",
       "\n",
       "   cond_C14  cond_C15  cond_C16  cond_C17  cond_C18  cond_C19  cond_C2  \\\n",
       "0       NaN       NaN       NaN       NaN       NaN       NaN      NaN   \n",
       "1       NaN       NaN       NaN       NaN       NaN       NaN      NaN   \n",
       "2       NaN       NaN       NaN       NaN       NaN       NaN      NaN   \n",
       "3       NaN       NaN       NaN       NaN       NaN       NaN      NaN   \n",
       "4       NaN       NaN       NaN       NaN       NaN       NaN      NaN   \n",
       "\n",
       "   cond_C20  cond_C21  cond_C3  cond_C4  cond_C5  cond_C6  cond_C7  cond_C8  \\\n",
       "0       NaN       NaN      NaN      NaN      NaN      0.0      NaN      1.0   \n",
       "1       NaN       NaN      NaN      NaN      NaN      0.0      0.0      0.0   \n",
       "2       NaN       NaN      NaN      NaN      NaN      0.0      NaN      0.0   \n",
       "3       NaN       NaN      NaN      NaN      NaN      0.0      NaN      0.0   \n",
       "4       NaN       NaN      NaN      NaN      NaN      0.0      0.0      1.0   \n",
       "\n",
       "   cond_C9    FEC_ACT   USR_ACT  \n",
       "0      3.0 2018-06-19  SALINASL  \n",
       "1      0.0 2017-03-20  COLOMBOM  \n",
       "2      3.0 2018-03-08     ALAIS  \n",
       "3      3.0 2018-02-26     KLEIN  \n",
       "4      0.0 2018-04-18   CHIPIAN  "
      ]
     },
     "execution_count": 21,
     "metadata": {},
     "output_type": "execute_result"
    }
   ],
   "source": [
    "df_concat.head()"
   ]
  },
  {
   "cell_type": "code",
   "execution_count": 22,
   "metadata": {
    "hidden": true
   },
   "outputs": [
    {
     "data": {
      "text/plain": [
       "(1231015, 1231015)"
      ]
     },
     "execution_count": 22,
     "metadata": {},
     "output_type": "execute_result"
    }
   ],
   "source": [
    "# checking unique num_secu_exped vs total number of rows\n",
    "(df[\"NUM_SECU_EXPED\"].nunique() ,  df_concat[\"NUM_SECU_EXPED\"].nunique())"
   ]
  },
  {
   "cell_type": "code",
   "execution_count": 75,
   "metadata": {
    "hidden": true
   },
   "outputs": [],
   "source": [
    "# Convert float to int\n",
    "# cols_to_int = df_concat.dtypes[df_concat.dtypes == \"float64\"].index\n",
    "# int doesn't accept nulls\n",
    "#df_concat[cols_to_int] = df_concat[cols_to_int].astype(int)\n",
    "#df_concat.info()"
   ]
  },
  {
   "cell_type": "markdown",
   "metadata": {
    "heading_collapsed": true
   },
   "source": [
    "# saving into feather"
   ]
  },
  {
   "cell_type": "code",
   "execution_count": 23,
   "metadata": {
    "hidden": true
   },
   "outputs": [],
   "source": [
    "to_save = \"../../../data/interim/4. transformed/CONDICIONES-red_col_with_fec_and_user.feather\"\n",
    "df_concat.reset_index().to_feather(to_save)"
   ]
  },
  {
   "cell_type": "markdown",
   "metadata": {},
   "source": [
    "# Loading dataset to create new columns"
   ]
  },
  {
   "cell_type": "code",
   "execution_count": 6,
   "metadata": {},
   "outputs": [],
   "source": [
    "# path to tmp saved file\n",
    "file = \"../../../data/interim/4. transformed/CONDICIONES-red_col_with_fec_and_user.feather\"\n",
    "if not(os.path.exists(file) and os.path.isfile(file)):\n",
    "    raise Exception(\"File doesn't exists.\")"
   ]
  },
  {
   "cell_type": "code",
   "execution_count": 11,
   "metadata": {},
   "outputs": [
    {
     "name": "stdout",
     "output_type": "stream",
     "text": [
      "<class 'pandas.core.frame.DataFrame'>\n",
      "RangeIndex: 1231015 entries, 0 to 1231014\n",
      "Data columns (total 32 columns):\n",
      "NUM_SECU_EXPED    1231015 non-null int64\n",
      "cond_04           108057 non-null float64\n",
      "cond_05           33644 non-null float64\n",
      "cond_06           33644 non-null float64\n",
      "cond_09           34337 non-null float64\n",
      "cond_11           131464 non-null float64\n",
      "cond_12           14119 non-null float64\n",
      "cond_32           74055 non-null float64\n",
      "cond_37           11644 non-null float64\n",
      "cond_C1           191102 non-null float64\n",
      "cond_C10          75339 non-null float64\n",
      "cond_C11          75339 non-null float64\n",
      "cond_C12          75339 non-null float64\n",
      "cond_C13          670758 non-null float64\n",
      "cond_C14          10667 non-null float64\n",
      "cond_C15          261730 non-null float64\n",
      "cond_C16          261730 non-null float64\n",
      "cond_C17          35174 non-null float64\n",
      "cond_C18          17275 non-null float64\n",
      "cond_C19          17275 non-null float64\n",
      "cond_C2           14229 non-null float64\n",
      "cond_C20          17275 non-null float64\n",
      "cond_C21          35174 non-null float64\n",
      "cond_C3           14229 non-null float64\n",
      "cond_C4           13069 non-null float64\n",
      "cond_C5           14229 non-null float64\n",
      "cond_C6           680784 non-null float64\n",
      "cond_C7           544348 non-null float64\n",
      "cond_C8           696693 non-null float64\n",
      "cond_C9           680784 non-null float64\n",
      "FEC_ACT           1231015 non-null datetime64[ns]\n",
      "USR_ACT           1231015 non-null object\n",
      "dtypes: datetime64[ns](1), float64(29), int64(1), object(1)\n",
      "memory usage: 300.5+ MB\n"
     ]
    }
   ],
   "source": [
    "df = pd.read_feather(file)\n",
    "df.drop(columns=\"index\", inplace=True)\n",
    "df.info()"
   ]
  },
  {
   "cell_type": "markdown",
   "metadata": {},
   "source": [
    "### total_condicion"
   ]
  },
  {
   "cell_type": "code",
   "execution_count": 12,
   "metadata": {},
   "outputs": [
    {
     "data": {
      "text/html": [
       "<div>\n",
       "<style scoped>\n",
       "    .dataframe tbody tr th:only-of-type {\n",
       "        vertical-align: middle;\n",
       "    }\n",
       "\n",
       "    .dataframe tbody tr th {\n",
       "        vertical-align: top;\n",
       "    }\n",
       "\n",
       "    .dataframe thead th {\n",
       "        text-align: right;\n",
       "    }\n",
       "</style>\n",
       "<table border=\"1\" class=\"dataframe\">\n",
       "  <thead>\n",
       "    <tr style=\"text-align: right;\">\n",
       "      <th></th>\n",
       "      <th>NUM_SECU_EXPED</th>\n",
       "      <th>cond_04</th>\n",
       "      <th>cond_05</th>\n",
       "      <th>cond_06</th>\n",
       "      <th>cond_09</th>\n",
       "      <th>cond_11</th>\n",
       "      <th>cond_12</th>\n",
       "      <th>cond_32</th>\n",
       "      <th>cond_37</th>\n",
       "      <th>cond_C1</th>\n",
       "      <th>cond_C10</th>\n",
       "      <th>cond_C11</th>\n",
       "      <th>cond_C12</th>\n",
       "      <th>cond_C13</th>\n",
       "      <th>cond_C14</th>\n",
       "      <th>cond_C15</th>\n",
       "      <th>cond_C16</th>\n",
       "      <th>cond_C17</th>\n",
       "      <th>cond_C18</th>\n",
       "      <th>cond_C19</th>\n",
       "      <th>cond_C2</th>\n",
       "      <th>cond_C20</th>\n",
       "      <th>cond_C21</th>\n",
       "      <th>cond_C3</th>\n",
       "      <th>cond_C4</th>\n",
       "      <th>cond_C5</th>\n",
       "      <th>cond_C6</th>\n",
       "      <th>cond_C7</th>\n",
       "      <th>cond_C8</th>\n",
       "      <th>cond_C9</th>\n",
       "      <th>FEC_ACT</th>\n",
       "      <th>USR_ACT</th>\n",
       "      <th>total_condicion</th>\n",
       "    </tr>\n",
       "  </thead>\n",
       "  <tbody>\n",
       "    <tr>\n",
       "      <th>0</th>\n",
       "      <td>516359994</td>\n",
       "      <td>0.0</td>\n",
       "      <td>NaN</td>\n",
       "      <td>NaN</td>\n",
       "      <td>NaN</td>\n",
       "      <td>0.0</td>\n",
       "      <td>NaN</td>\n",
       "      <td>NaN</td>\n",
       "      <td>NaN</td>\n",
       "      <td>NaN</td>\n",
       "      <td>NaN</td>\n",
       "      <td>NaN</td>\n",
       "      <td>NaN</td>\n",
       "      <td>0.0</td>\n",
       "      <td>NaN</td>\n",
       "      <td>NaN</td>\n",
       "      <td>NaN</td>\n",
       "      <td>NaN</td>\n",
       "      <td>NaN</td>\n",
       "      <td>NaN</td>\n",
       "      <td>NaN</td>\n",
       "      <td>NaN</td>\n",
       "      <td>NaN</td>\n",
       "      <td>NaN</td>\n",
       "      <td>NaN</td>\n",
       "      <td>NaN</td>\n",
       "      <td>0.0</td>\n",
       "      <td>NaN</td>\n",
       "      <td>1.0</td>\n",
       "      <td>3.0</td>\n",
       "      <td>2018-06-19</td>\n",
       "      <td>SALINASL</td>\n",
       "      <td>4.0</td>\n",
       "    </tr>\n",
       "    <tr>\n",
       "      <th>1</th>\n",
       "      <td>1762619999</td>\n",
       "      <td>NaN</td>\n",
       "      <td>NaN</td>\n",
       "      <td>NaN</td>\n",
       "      <td>NaN</td>\n",
       "      <td>NaN</td>\n",
       "      <td>NaN</td>\n",
       "      <td>NaN</td>\n",
       "      <td>NaN</td>\n",
       "      <td>NaN</td>\n",
       "      <td>NaN</td>\n",
       "      <td>NaN</td>\n",
       "      <td>NaN</td>\n",
       "      <td>NaN</td>\n",
       "      <td>NaN</td>\n",
       "      <td>NaN</td>\n",
       "      <td>NaN</td>\n",
       "      <td>NaN</td>\n",
       "      <td>NaN</td>\n",
       "      <td>NaN</td>\n",
       "      <td>NaN</td>\n",
       "      <td>NaN</td>\n",
       "      <td>NaN</td>\n",
       "      <td>NaN</td>\n",
       "      <td>NaN</td>\n",
       "      <td>NaN</td>\n",
       "      <td>0.0</td>\n",
       "      <td>0.0</td>\n",
       "      <td>0.0</td>\n",
       "      <td>0.0</td>\n",
       "      <td>2017-03-20</td>\n",
       "      <td>COLOMBOM</td>\n",
       "      <td>0.0</td>\n",
       "    </tr>\n",
       "    <tr>\n",
       "      <th>2</th>\n",
       "      <td>4768809999</td>\n",
       "      <td>0.0</td>\n",
       "      <td>NaN</td>\n",
       "      <td>NaN</td>\n",
       "      <td>NaN</td>\n",
       "      <td>0.0</td>\n",
       "      <td>NaN</td>\n",
       "      <td>NaN</td>\n",
       "      <td>NaN</td>\n",
       "      <td>NaN</td>\n",
       "      <td>NaN</td>\n",
       "      <td>NaN</td>\n",
       "      <td>NaN</td>\n",
       "      <td>0.0</td>\n",
       "      <td>NaN</td>\n",
       "      <td>NaN</td>\n",
       "      <td>NaN</td>\n",
       "      <td>NaN</td>\n",
       "      <td>NaN</td>\n",
       "      <td>NaN</td>\n",
       "      <td>NaN</td>\n",
       "      <td>NaN</td>\n",
       "      <td>NaN</td>\n",
       "      <td>NaN</td>\n",
       "      <td>NaN</td>\n",
       "      <td>NaN</td>\n",
       "      <td>0.0</td>\n",
       "      <td>NaN</td>\n",
       "      <td>0.0</td>\n",
       "      <td>3.0</td>\n",
       "      <td>2018-03-08</td>\n",
       "      <td>ALAIS</td>\n",
       "      <td>3.0</td>\n",
       "    </tr>\n",
       "    <tr>\n",
       "      <th>3</th>\n",
       "      <td>6444209999</td>\n",
       "      <td>0.0</td>\n",
       "      <td>NaN</td>\n",
       "      <td>NaN</td>\n",
       "      <td>NaN</td>\n",
       "      <td>0.0</td>\n",
       "      <td>NaN</td>\n",
       "      <td>NaN</td>\n",
       "      <td>NaN</td>\n",
       "      <td>NaN</td>\n",
       "      <td>NaN</td>\n",
       "      <td>NaN</td>\n",
       "      <td>NaN</td>\n",
       "      <td>0.0</td>\n",
       "      <td>NaN</td>\n",
       "      <td>NaN</td>\n",
       "      <td>NaN</td>\n",
       "      <td>NaN</td>\n",
       "      <td>NaN</td>\n",
       "      <td>NaN</td>\n",
       "      <td>NaN</td>\n",
       "      <td>NaN</td>\n",
       "      <td>NaN</td>\n",
       "      <td>NaN</td>\n",
       "      <td>NaN</td>\n",
       "      <td>NaN</td>\n",
       "      <td>0.0</td>\n",
       "      <td>NaN</td>\n",
       "      <td>0.0</td>\n",
       "      <td>3.0</td>\n",
       "      <td>2018-02-26</td>\n",
       "      <td>KLEIN</td>\n",
       "      <td>3.0</td>\n",
       "    </tr>\n",
       "    <tr>\n",
       "      <th>4</th>\n",
       "      <td>7529469970</td>\n",
       "      <td>NaN</td>\n",
       "      <td>NaN</td>\n",
       "      <td>NaN</td>\n",
       "      <td>NaN</td>\n",
       "      <td>NaN</td>\n",
       "      <td>NaN</td>\n",
       "      <td>NaN</td>\n",
       "      <td>NaN</td>\n",
       "      <td>NaN</td>\n",
       "      <td>NaN</td>\n",
       "      <td>NaN</td>\n",
       "      <td>NaN</td>\n",
       "      <td>NaN</td>\n",
       "      <td>NaN</td>\n",
       "      <td>NaN</td>\n",
       "      <td>NaN</td>\n",
       "      <td>NaN</td>\n",
       "      <td>NaN</td>\n",
       "      <td>NaN</td>\n",
       "      <td>NaN</td>\n",
       "      <td>NaN</td>\n",
       "      <td>NaN</td>\n",
       "      <td>NaN</td>\n",
       "      <td>NaN</td>\n",
       "      <td>NaN</td>\n",
       "      <td>0.0</td>\n",
       "      <td>0.0</td>\n",
       "      <td>1.0</td>\n",
       "      <td>0.0</td>\n",
       "      <td>2018-04-18</td>\n",
       "      <td>CHIPIAN</td>\n",
       "      <td>1.0</td>\n",
       "    </tr>\n",
       "  </tbody>\n",
       "</table>\n",
       "</div>"
      ],
      "text/plain": [
       "   NUM_SECU_EXPED  cond_04  cond_05  cond_06  cond_09  cond_11  cond_12  \\\n",
       "0       516359994      0.0      NaN      NaN      NaN      0.0      NaN   \n",
       "1      1762619999      NaN      NaN      NaN      NaN      NaN      NaN   \n",
       "2      4768809999      0.0      NaN      NaN      NaN      0.0      NaN   \n",
       "3      6444209999      0.0      NaN      NaN      NaN      0.0      NaN   \n",
       "4      7529469970      NaN      NaN      NaN      NaN      NaN      NaN   \n",
       "\n",
       "   cond_32  cond_37  cond_C1  cond_C10  cond_C11  cond_C12  cond_C13  \\\n",
       "0      NaN      NaN      NaN       NaN       NaN       NaN       0.0   \n",
       "1      NaN      NaN      NaN       NaN       NaN       NaN       NaN   \n",
       "2      NaN      NaN      NaN       NaN       NaN       NaN       0.0   \n",
       "3      NaN      NaN      NaN       NaN       NaN       NaN       0.0   \n",
       "4      NaN      NaN      NaN       NaN       NaN       NaN       NaN   \n",
       "\n",
       "   cond_C14  cond_C15  cond_C16  cond_C17  cond_C18  cond_C19  cond_C2  \\\n",
       "0       NaN       NaN       NaN       NaN       NaN       NaN      NaN   \n",
       "1       NaN       NaN       NaN       NaN       NaN       NaN      NaN   \n",
       "2       NaN       NaN       NaN       NaN       NaN       NaN      NaN   \n",
       "3       NaN       NaN       NaN       NaN       NaN       NaN      NaN   \n",
       "4       NaN       NaN       NaN       NaN       NaN       NaN      NaN   \n",
       "\n",
       "   cond_C20  cond_C21  cond_C3  cond_C4  cond_C5  cond_C6  cond_C7  cond_C8  \\\n",
       "0       NaN       NaN      NaN      NaN      NaN      0.0      NaN      1.0   \n",
       "1       NaN       NaN      NaN      NaN      NaN      0.0      0.0      0.0   \n",
       "2       NaN       NaN      NaN      NaN      NaN      0.0      NaN      0.0   \n",
       "3       NaN       NaN      NaN      NaN      NaN      0.0      NaN      0.0   \n",
       "4       NaN       NaN      NaN      NaN      NaN      0.0      0.0      1.0   \n",
       "\n",
       "   cond_C9    FEC_ACT   USR_ACT  total_condicion  \n",
       "0      3.0 2018-06-19  SALINASL              4.0  \n",
       "1      0.0 2017-03-20  COLOMBOM              0.0  \n",
       "2      3.0 2018-03-08     ALAIS              3.0  \n",
       "3      3.0 2018-02-26     KLEIN              3.0  \n",
       "4      0.0 2018-04-18   CHIPIAN              1.0  "
      ]
     },
     "execution_count": 12,
     "metadata": {},
     "output_type": "execute_result"
    }
   ],
   "source": [
    "# create sum of conditions\n",
    "df[\"total_condicion\"] = df.iloc[:, 1:-2].sum(axis=1)\n",
    "df.head()"
   ]
  },
  {
   "cell_type": "markdown",
   "metadata": {},
   "source": [
    "### es_gte_5"
   ]
  },
  {
   "cell_type": "code",
   "execution_count": 13,
   "metadata": {},
   "outputs": [],
   "source": [
    "df[\"es_gte_5\"] = df[\"total_condicion\"] >= 5"
   ]
  },
  {
   "cell_type": "code",
   "execution_count": 14,
   "metadata": {
    "scrolled": true
   },
   "outputs": [
    {
     "name": "stdout",
     "output_type": "stream",
     "text": [
      "<class 'pandas.core.frame.DataFrame'>\n",
      "RangeIndex: 1231015 entries, 0 to 1231014\n",
      "Data columns (total 34 columns):\n",
      "NUM_SECU_EXPED     1231015 non-null int64\n",
      "cond_04            108057 non-null float64\n",
      "cond_05            33644 non-null float64\n",
      "cond_06            33644 non-null float64\n",
      "cond_09            34337 non-null float64\n",
      "cond_11            131464 non-null float64\n",
      "cond_12            14119 non-null float64\n",
      "cond_32            74055 non-null float64\n",
      "cond_37            11644 non-null float64\n",
      "cond_C1            191102 non-null float64\n",
      "cond_C10           75339 non-null float64\n",
      "cond_C11           75339 non-null float64\n",
      "cond_C12           75339 non-null float64\n",
      "cond_C13           670758 non-null float64\n",
      "cond_C14           10667 non-null float64\n",
      "cond_C15           261730 non-null float64\n",
      "cond_C16           261730 non-null float64\n",
      "cond_C17           35174 non-null float64\n",
      "cond_C18           17275 non-null float64\n",
      "cond_C19           17275 non-null float64\n",
      "cond_C2            14229 non-null float64\n",
      "cond_C20           17275 non-null float64\n",
      "cond_C21           35174 non-null float64\n",
      "cond_C3            14229 non-null float64\n",
      "cond_C4            13069 non-null float64\n",
      "cond_C5            14229 non-null float64\n",
      "cond_C6            680784 non-null float64\n",
      "cond_C7            544348 non-null float64\n",
      "cond_C8            696693 non-null float64\n",
      "cond_C9            680784 non-null float64\n",
      "FEC_ACT            1231015 non-null datetime64[ns]\n",
      "USR_ACT            1231015 non-null object\n",
      "total_condicion    1231015 non-null float64\n",
      "es_gte_5           1231015 non-null bool\n",
      "dtypes: bool(1), datetime64[ns](1), float64(30), int64(1), object(1)\n",
      "memory usage: 311.1+ MB\n"
     ]
    }
   ],
   "source": [
    "df.info()"
   ]
  },
  {
   "cell_type": "code",
   "execution_count": 15,
   "metadata": {},
   "outputs": [],
   "source": [
    "to_save = \"../../../data/interim/4. transformed/CONDICIONES-red_col_with_fec_and_user-new_cols.feather\"\n",
    "df.to_feather(to_save)"
   ]
  },
  {
   "cell_type": "markdown",
   "metadata": {},
   "source": [
    "# Checking data quality"
   ]
  },
  {
   "cell_type": "code",
   "execution_count": 4,
   "metadata": {},
   "outputs": [],
   "source": [
    "# path to tmp saved file\n",
    "file = \"../../../data/interim/4. transformed/CONDICIONES-red_col_with_fec_and_user-new_cols.feather\"\n",
    "if not(os.path.exists(file) and os.path.isfile(file)):\n",
    "    raise Exception(\"File doesn't exists.\")"
   ]
  },
  {
   "cell_type": "code",
   "execution_count": 6,
   "metadata": {
    "scrolled": true
   },
   "outputs": [
    {
     "name": "stdout",
     "output_type": "stream",
     "text": [
      "<class 'pandas.core.frame.DataFrame'>\n",
      "RangeIndex: 1231015 entries, 0 to 1231014\n",
      "Data columns (total 34 columns):\n",
      "NUM_SECU_EXPED     1231015 non-null int64\n",
      "cond_04            108057 non-null float64\n",
      "cond_05            33644 non-null float64\n",
      "cond_06            33644 non-null float64\n",
      "cond_09            34337 non-null float64\n",
      "cond_11            131464 non-null float64\n",
      "cond_12            14119 non-null float64\n",
      "cond_32            74055 non-null float64\n",
      "cond_37            11644 non-null float64\n",
      "cond_C1            191102 non-null float64\n",
      "cond_C10           75339 non-null float64\n",
      "cond_C11           75339 non-null float64\n",
      "cond_C12           75339 non-null float64\n",
      "cond_C13           670758 non-null float64\n",
      "cond_C14           10667 non-null float64\n",
      "cond_C15           261730 non-null float64\n",
      "cond_C16           261730 non-null float64\n",
      "cond_C17           35174 non-null float64\n",
      "cond_C18           17275 non-null float64\n",
      "cond_C19           17275 non-null float64\n",
      "cond_C2            14229 non-null float64\n",
      "cond_C20           17275 non-null float64\n",
      "cond_C21           35174 non-null float64\n",
      "cond_C3            14229 non-null float64\n",
      "cond_C4            13069 non-null float64\n",
      "cond_C5            14229 non-null float64\n",
      "cond_C6            680784 non-null float64\n",
      "cond_C7            544348 non-null float64\n",
      "cond_C8            696693 non-null float64\n",
      "cond_C9            680784 non-null float64\n",
      "FEC_ACT            1231015 non-null datetime64[ns]\n",
      "USR_ACT            1231015 non-null object\n",
      "total_condicion    1231015 non-null float64\n",
      "es_gte_5           1231015 non-null bool\n",
      "dtypes: bool(1), datetime64[ns](1), float64(30), int64(1), object(1)\n",
      "memory usage: 311.1+ MB\n"
     ]
    }
   ],
   "source": [
    "df = pd.read_feather(file)\n",
    "df.info()"
   ]
  },
  {
   "cell_type": "code",
   "execution_count": 13,
   "metadata": {},
   "outputs": [
    {
     "data": {
      "text/html": [
       "<div>\n",
       "<style scoped>\n",
       "    .dataframe tbody tr th:only-of-type {\n",
       "        vertical-align: middle;\n",
       "    }\n",
       "\n",
       "    .dataframe tbody tr th {\n",
       "        vertical-align: top;\n",
       "    }\n",
       "\n",
       "    .dataframe thead th {\n",
       "        text-align: right;\n",
       "    }\n",
       "</style>\n",
       "<table border=\"1\" class=\"dataframe\">\n",
       "  <thead>\n",
       "    <tr style=\"text-align: right;\">\n",
       "      <th></th>\n",
       "      <th>NUM_SECU_EXPED</th>\n",
       "      <th>cond_04</th>\n",
       "      <th>cond_05</th>\n",
       "      <th>cond_06</th>\n",
       "      <th>cond_09</th>\n",
       "      <th>cond_11</th>\n",
       "      <th>cond_12</th>\n",
       "      <th>cond_32</th>\n",
       "      <th>cond_37</th>\n",
       "      <th>cond_C1</th>\n",
       "      <th>cond_C10</th>\n",
       "      <th>cond_C11</th>\n",
       "      <th>cond_C12</th>\n",
       "      <th>cond_C13</th>\n",
       "      <th>cond_C14</th>\n",
       "      <th>cond_C15</th>\n",
       "      <th>cond_C16</th>\n",
       "      <th>cond_C17</th>\n",
       "      <th>cond_C18</th>\n",
       "      <th>cond_C19</th>\n",
       "      <th>cond_C2</th>\n",
       "      <th>cond_C20</th>\n",
       "      <th>cond_C21</th>\n",
       "      <th>cond_C3</th>\n",
       "      <th>cond_C4</th>\n",
       "      <th>cond_C5</th>\n",
       "      <th>cond_C6</th>\n",
       "      <th>cond_C7</th>\n",
       "      <th>cond_C8</th>\n",
       "      <th>cond_C9</th>\n",
       "      <th>FEC_ACT</th>\n",
       "      <th>USR_ACT</th>\n",
       "      <th>total_condicion</th>\n",
       "      <th>es_gte_5</th>\n",
       "    </tr>\n",
       "  </thead>\n",
       "  <tbody>\n",
       "  </tbody>\n",
       "</table>\n",
       "</div>"
      ],
      "text/plain": [
       "Empty DataFrame\n",
       "Columns: [NUM_SECU_EXPED, cond_04, cond_05, cond_06, cond_09, cond_11, cond_12, cond_32, cond_37, cond_C1, cond_C10, cond_C11, cond_C12, cond_C13, cond_C14, cond_C15, cond_C16, cond_C17, cond_C18, cond_C19, cond_C2, cond_C20, cond_C21, cond_C3, cond_C4, cond_C5, cond_C6, cond_C7, cond_C8, cond_C9, FEC_ACT, USR_ACT, total_condicion, es_gte_5]\n",
       "Index: []"
      ]
     },
     "execution_count": 13,
     "metadata": {},
     "output_type": "execute_result"
    }
   ],
   "source": [
    "# check if there is a row with all cond = null\n",
    "df[df.iloc[:, 1:-4].notna().sum(axis=1) == 0]"
   ]
  },
  {
   "cell_type": "markdown",
   "metadata": {},
   "source": [
    "<h3 style=\"color:green\">there isn't all nulls NUM_SECU_EXPED</h3>"
   ]
  },
  {
   "cell_type": "code",
   "execution_count": null,
   "metadata": {},
   "outputs": [],
   "source": []
  }
 ],
 "metadata": {
  "kernelspec": {
   "display_name": "Python 3",
   "language": "python",
   "name": "python3"
  },
  "language_info": {
   "codemirror_mode": {
    "name": "ipython",
    "version": 3
   },
   "file_extension": ".py",
   "mimetype": "text/x-python",
   "name": "python",
   "nbconvert_exporter": "python",
   "pygments_lexer": "ipython3",
   "version": "3.6.8"
  },
  "varInspector": {
   "cols": {
    "lenName": 16,
    "lenType": 16,
    "lenVar": 40
   },
   "kernels_config": {
    "python": {
     "delete_cmd_postfix": "",
     "delete_cmd_prefix": "del ",
     "library": "var_list.py",
     "varRefreshCmd": "print(var_dic_list())"
    },
    "r": {
     "delete_cmd_postfix": ") ",
     "delete_cmd_prefix": "rm(",
     "library": "var_list.r",
     "varRefreshCmd": "cat(var_dic_list()) "
    }
   },
   "types_to_exclude": [
    "module",
    "function",
    "builtin_function_or_method",
    "instance",
    "_Feature"
   ],
   "window_display": false
  }
 },
 "nbformat": 4,
 "nbformat_minor": 2
}
