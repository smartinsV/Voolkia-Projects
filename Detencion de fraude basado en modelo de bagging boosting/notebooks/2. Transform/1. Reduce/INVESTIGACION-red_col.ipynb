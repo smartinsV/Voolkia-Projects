{
 "cells": [
  {
   "cell_type": "code",
   "execution_count": 1,
   "metadata": {},
   "outputs": [],
   "source": [
    "import os\n",
    "\n",
    "import pandas as pd"
   ]
  },
  {
   "cell_type": "code",
   "execution_count": 2,
   "metadata": {},
   "outputs": [],
   "source": [
    "# display tables options\n",
    "pd.set_option(\"display.max_columns\", 500)\n",
    "pd.set_option(\"display.max_rows\", 500)"
   ]
  },
  {
   "cell_type": "code",
   "execution_count": 3,
   "metadata": {},
   "outputs": [
    {
     "data": {
      "text/plain": [
       "'../../../data/interim/1. col_red/INVESTIGACION-red_col.feather'"
      ]
     },
     "execution_count": 3,
     "metadata": {},
     "output_type": "execute_result"
    }
   ],
   "source": [
    "# creating the path\n",
    "path = \"../../../data/raw\"\n",
    "save_to_path = \"../../../data/interim/1. col_red\"\n",
    "# file\n",
    "filename = \"INVESTIGACION.csv\"\n",
    "filename_to_save = os.path.join(save_to_path, filename.split(\".\")[0]+\"-red_col.feather\")\n",
    "filename_to_save"
   ]
  },
  {
   "cell_type": "code",
   "execution_count": 4,
   "metadata": {},
   "outputs": [
    {
     "name": "stdout",
     "output_type": "stream",
     "text": [
      "ok\n"
     ]
    }
   ],
   "source": [
    "# checking the path\n",
    "file = os.path.join(path, filename)\n",
    "if not(os.path.exists(file) and os.path.isfile(file)):\n",
    "    raise Exception(\"File {} doesn't exists.\".format(file))\n",
    "else:\n",
    "    print(\"ok\")"
   ]
  },
  {
   "cell_type": "code",
   "execution_count": 5,
   "metadata": {},
   "outputs": [],
   "source": [
    "usecols = ['COD_FRAUDE', 'COD_RAMO', 'COD_USR', 'EXISTE_FRAUDE', 'EXISTE_INHABILITAR', 'EXISTE_INVEST', 'NRO_EXPED', 'NUM_SECU_EXPED', ]"
   ]
  },
  {
   "cell_type": "markdown",
   "metadata": {},
   "source": [
    "## Loading the dataset"
   ]
  },
  {
   "cell_type": "code",
   "execution_count": 6,
   "metadata": {},
   "outputs": [
    {
     "name": "stdout",
     "output_type": "stream",
     "text": [
      "<class 'pandas.core.frame.DataFrame'>\n",
      "RangeIndex: 22468 entries, 0 to 22467\n",
      "Data columns (total 8 columns):\n",
      "COD_RAMO              22468 non-null int64\n",
      "NRO_EXPED             22468 non-null int64\n",
      "EXISTE_INVEST         22468 non-null object\n",
      "COD_FRAUDE            13711 non-null float64\n",
      "NUM_SECU_EXPED        22468 non-null int64\n",
      "COD_USR               22468 non-null object\n",
      "EXISTE_FRAUDE         22468 non-null object\n",
      "EXISTE_INHABILITAR    22468 non-null object\n",
      "dtypes: float64(1), int64(3), object(4)\n",
      "memory usage: 1.4+ MB\n"
     ]
    }
   ],
   "source": [
    "df = pd.read_csv(file, usecols=usecols)\n",
    "df.info()"
   ]
  },
  {
   "cell_type": "code",
   "execution_count": 7,
   "metadata": {},
   "outputs": [
    {
     "data": {
      "text/html": [
       "<div>\n",
       "<style scoped>\n",
       "    .dataframe tbody tr th:only-of-type {\n",
       "        vertical-align: middle;\n",
       "    }\n",
       "\n",
       "    .dataframe tbody tr th {\n",
       "        vertical-align: top;\n",
       "    }\n",
       "\n",
       "    .dataframe thead th {\n",
       "        text-align: right;\n",
       "    }\n",
       "</style>\n",
       "<table border=\"1\" class=\"dataframe\">\n",
       "  <thead>\n",
       "    <tr style=\"text-align: right;\">\n",
       "      <th></th>\n",
       "      <th>COD_FRAUDE</th>\n",
       "      <th>COD_RAMO</th>\n",
       "      <th>COD_USR</th>\n",
       "      <th>EXISTE_FRAUDE</th>\n",
       "      <th>EXISTE_INHABILITAR</th>\n",
       "      <th>EXISTE_INVEST</th>\n",
       "      <th>NRO_EXPED</th>\n",
       "      <th>NUM_SECU_EXPED</th>\n",
       "    </tr>\n",
       "  </thead>\n",
       "  <tbody>\n",
       "    <tr>\n",
       "      <th>0</th>\n",
       "      <td>NaN</td>\n",
       "      <td>1</td>\n",
       "      <td>IZZOT</td>\n",
       "      <td>N</td>\n",
       "      <td>N</td>\n",
       "      <td>S</td>\n",
       "      <td>1</td>\n",
       "      <td>1627737289999</td>\n",
       "    </tr>\n",
       "    <tr>\n",
       "      <th>1</th>\n",
       "      <td>NaN</td>\n",
       "      <td>1</td>\n",
       "      <td>IZZOT</td>\n",
       "      <td>N</td>\n",
       "      <td>N</td>\n",
       "      <td>S</td>\n",
       "      <td>1</td>\n",
       "      <td>1627910989999</td>\n",
       "    </tr>\n",
       "    <tr>\n",
       "      <th>2</th>\n",
       "      <td>NaN</td>\n",
       "      <td>1</td>\n",
       "      <td>IZZOT</td>\n",
       "      <td>N</td>\n",
       "      <td>N</td>\n",
       "      <td>S</td>\n",
       "      <td>1</td>\n",
       "      <td>1627591489999</td>\n",
       "    </tr>\n",
       "    <tr>\n",
       "      <th>22463</th>\n",
       "      <td>NaN</td>\n",
       "      <td>1</td>\n",
       "      <td>AREJULA</td>\n",
       "      <td>N</td>\n",
       "      <td>N</td>\n",
       "      <td>S</td>\n",
       "      <td>1</td>\n",
       "      <td>1960220139999</td>\n",
       "    </tr>\n",
       "    <tr>\n",
       "      <th>22464</th>\n",
       "      <td>NaN</td>\n",
       "      <td>1</td>\n",
       "      <td>AREJULA</td>\n",
       "      <td>N</td>\n",
       "      <td>N</td>\n",
       "      <td>S</td>\n",
       "      <td>1</td>\n",
       "      <td>1960170059999</td>\n",
       "    </tr>\n",
       "    <tr>\n",
       "      <th>22465</th>\n",
       "      <td>NaN</td>\n",
       "      <td>1</td>\n",
       "      <td>AREJULA</td>\n",
       "      <td>N</td>\n",
       "      <td>N</td>\n",
       "      <td>S</td>\n",
       "      <td>1</td>\n",
       "      <td>1935583159999</td>\n",
       "    </tr>\n",
       "    <tr>\n",
       "      <th>22466</th>\n",
       "      <td>NaN</td>\n",
       "      <td>1</td>\n",
       "      <td>AREJULA</td>\n",
       "      <td>N</td>\n",
       "      <td>N</td>\n",
       "      <td>S</td>\n",
       "      <td>1</td>\n",
       "      <td>1935583159999</td>\n",
       "    </tr>\n",
       "    <tr>\n",
       "      <th>22467</th>\n",
       "      <td>NaN</td>\n",
       "      <td>1</td>\n",
       "      <td>AREJULA</td>\n",
       "      <td>N</td>\n",
       "      <td>N</td>\n",
       "      <td>S</td>\n",
       "      <td>1</td>\n",
       "      <td>1960241929999</td>\n",
       "    </tr>\n",
       "  </tbody>\n",
       "</table>\n",
       "</div>"
      ],
      "text/plain": [
       "       COD_FRAUDE  COD_RAMO  COD_USR EXISTE_FRAUDE EXISTE_INHABILITAR  \\\n",
       "0             NaN         1    IZZOT             N                  N   \n",
       "1             NaN         1    IZZOT             N                  N   \n",
       "2             NaN         1    IZZOT             N                  N   \n",
       "22463         NaN         1  AREJULA             N                  N   \n",
       "22464         NaN         1  AREJULA             N                  N   \n",
       "22465         NaN         1  AREJULA             N                  N   \n",
       "22466         NaN         1  AREJULA             N                  N   \n",
       "22467         NaN         1  AREJULA             N                  N   \n",
       "\n",
       "      EXISTE_INVEST  NRO_EXPED  NUM_SECU_EXPED  \n",
       "0                 S          1   1627737289999  \n",
       "1                 S          1   1627910989999  \n",
       "2                 S          1   1627591489999  \n",
       "22463             S          1   1960220139999  \n",
       "22464             S          1   1960170059999  \n",
       "22465             S          1   1935583159999  \n",
       "22466             S          1   1935583159999  \n",
       "22467             S          1   1960241929999  "
      ]
     },
     "execution_count": 7,
     "metadata": {},
     "output_type": "execute_result"
    }
   ],
   "source": [
    "df = df[df.columns.sort_values()]\n",
    "df.head(3).append(df.tail())"
   ]
  },
  {
   "cell_type": "code",
   "execution_count": 9,
   "metadata": {},
   "outputs": [
    {
     "data": {
      "text/plain": [
       "AREJULA     5596\n",
       "RODRIGAP    5156\n",
       "OLIVESKY    4201\n",
       "DELIAA      3571\n",
       "MARTINMA    1974\n",
       "IZZOT       1970\n",
       "Name: COD_USR, dtype: int64"
      ]
     },
     "execution_count": 9,
     "metadata": {},
     "output_type": "execute_result"
    }
   ],
   "source": [
    "idx = \"COD_USR\"\n",
    "df[idx].value_counts(dropna=False)"
   ]
  },
  {
   "cell_type": "markdown",
   "metadata": {},
   "source": [
    "### Feature Format"
   ]
  },
  {
   "cell_type": "code",
   "execution_count": 12,
   "metadata": {},
   "outputs": [],
   "source": [
    "#to_date = ['FEC_ACT', ]\n",
    "#date_format = \"%d/%m/%Y\"\n",
    "# for is faster\n",
    "# df.loc[:, to_date] = df.loc[:, to_date].apply(pd.to_datetime(format=date_format))"
   ]
  },
  {
   "cell_type": "code",
   "execution_count": 13,
   "metadata": {},
   "outputs": [],
   "source": [
    "# %%time \n",
    "# for col in to_date:\n",
    "#     df[col] = pd.to_datetime(df[col], format=date_format, errors=\"coerce\")"
   ]
  },
  {
   "cell_type": "markdown",
   "metadata": {},
   "source": [
    "# saving into feather file"
   ]
  },
  {
   "cell_type": "code",
   "execution_count": 14,
   "metadata": {},
   "outputs": [
    {
     "name": "stdout",
     "output_type": "stream",
     "text": [
      "<class 'pandas.core.frame.DataFrame'>\n",
      "RangeIndex: 22468 entries, 0 to 22467\n",
      "Data columns (total 7 columns):\n",
      "COD_FRAUDE            13711 non-null float64\n",
      "COD_RAMO              22468 non-null int64\n",
      "EXISTE_FRAUDE         22468 non-null object\n",
      "EXISTE_INHABILITAR    22468 non-null object\n",
      "EXISTE_INVEST         22468 non-null object\n",
      "NRO_EXPED             22468 non-null int64\n",
      "NUM_SECU_EXPED        22468 non-null int64\n",
      "dtypes: float64(1), int64(3), object(3)\n",
      "memory usage: 1.2+ MB\n"
     ]
    }
   ],
   "source": [
    "df.info()"
   ]
  },
  {
   "cell_type": "code",
   "execution_count": 15,
   "metadata": {},
   "outputs": [],
   "source": [
    "# df[\"CONV_COMISIONARIO\"].value_counts()"
   ]
  },
  {
   "cell_type": "code",
   "execution_count": 16,
   "metadata": {},
   "outputs": [],
   "source": [
    "# fixing to_feather error\n",
    "# df[\"CONV_COMISIONARIO\"] = df[\"CONV_COMISIONARIO\"].astype(str)"
   ]
  },
  {
   "cell_type": "code",
   "execution_count": 17,
   "metadata": {},
   "outputs": [],
   "source": [
    "df.to_feather(filename_to_save)"
   ]
  },
  {
   "cell_type": "code",
   "execution_count": null,
   "metadata": {},
   "outputs": [],
   "source": []
  }
 ],
 "metadata": {
  "kernelspec": {
   "display_name": "Python 3",
   "language": "python",
   "name": "python3"
  },
  "language_info": {
   "codemirror_mode": {
    "name": "ipython",
    "version": 3
   },
   "file_extension": ".py",
   "mimetype": "text/x-python",
   "name": "python",
   "nbconvert_exporter": "python",
   "pygments_lexer": "ipython3",
   "version": "3.6.5"
  },
  "varInspector": {
   "cols": {
    "lenName": 16,
    "lenType": 16,
    "lenVar": 40
   },
   "kernels_config": {
    "python": {
     "delete_cmd_postfix": "",
     "delete_cmd_prefix": "del ",
     "library": "var_list.py",
     "varRefreshCmd": "print(var_dic_list())"
    },
    "r": {
     "delete_cmd_postfix": ") ",
     "delete_cmd_prefix": "rm(",
     "library": "var_list.r",
     "varRefreshCmd": "cat(var_dic_list()) "
    }
   },
   "types_to_exclude": [
    "module",
    "function",
    "builtin_function_or_method",
    "instance",
    "_Feature"
   ],
   "window_display": false
  }
 },
 "nbformat": 4,
 "nbformat_minor": 2
}
