{
 "cells": [
  {
   "cell_type": "code",
   "execution_count": 1,
   "metadata": {},
   "outputs": [],
   "source": [
    "import os\n",
    "\n",
    "import pandas as pd"
   ]
  },
  {
   "cell_type": "code",
   "execution_count": 2,
   "metadata": {},
   "outputs": [],
   "source": [
    "# display tables options\n",
    "pd.set_option(\"display.max_columns\", 500)\n",
    "pd.set_option(\"display.max_rows\", 500)"
   ]
  },
  {
   "cell_type": "code",
   "execution_count": 3,
   "metadata": {},
   "outputs": [
    {
     "data": {
      "text/plain": [
       "'../../../data/interim/1. col_red/tb_cif-red_col.feather'"
      ]
     },
     "execution_count": 3,
     "metadata": {},
     "output_type": "execute_result"
    }
   ],
   "source": [
    "# creating the path\n",
    "path = \"../../../data/raw\"\n",
    "save_to_path = \"../../../data/interim/1. col_red\"\n",
    "# file\n",
    "filename = \"tb_cif.csv\"\n",
    "filename_to_save = os.path.join(save_to_path, filename.split(\".\")[0]+\"-red_col.feather\")\n",
    "filename_to_save"
   ]
  },
  {
   "cell_type": "code",
   "execution_count": 4,
   "metadata": {},
   "outputs": [
    {
     "name": "stdout",
     "output_type": "stream",
     "text": [
      "ok\n"
     ]
    }
   ],
   "source": [
    "# checking the path\n",
    "file = os.path.join(path, filename)\n",
    "if not(os.path.exists(file) and os.path.isfile(file)):\n",
    "    raise Exception(\"File {} doesn't exists.\".format(file))\n",
    "else:\n",
    "    print(\"ok\")"
   ]
  },
  {
   "cell_type": "code",
   "execution_count": 6,
   "metadata": {},
   "outputs": [],
   "source": [
    "usecols = ['APELLIDO', 'APELLIDO_NOMBRES', 'CLIENTE', 'CODIGO_NACION', 'DATECO_TIPO_ACTIVIDAD', 'DOMICILIO_BARRIO', 'DOMICILIO_CODIGO_POSTAL', 'FECHA_NACIMIENTO', 'HABILITADO', 'ID', 'SEXO', ]"
   ]
  },
  {
   "cell_type": "markdown",
   "metadata": {},
   "source": [
    "## Loading the dataset"
   ]
  },
  {
   "cell_type": "code",
   "execution_count": 8,
   "metadata": {},
   "outputs": [
    {
     "name": "stdout",
     "output_type": "stream",
     "text": [
      "<class 'pandas.core.frame.DataFrame'>\n",
      "RangeIndex: 174922 entries, 0 to 174921\n",
      "Data columns (total 11 columns):\n",
      "ID                         174922 non-null int64\n",
      "APELLIDO                   174900 non-null object\n",
      "SEXO                       172271 non-null object\n",
      "CLIENTE                    129422 non-null object\n",
      "FECHA_NACIMIENTO           169864 non-null object\n",
      "DOMICILIO_CODIGO_POSTAL    148152 non-null float64\n",
      "HABILITADO                 38716 non-null object\n",
      "APELLIDO_NOMBRES           174921 non-null object\n",
      "DOMICILIO_BARRIO           38130 non-null object\n",
      "DATECO_TIPO_ACTIVIDAD      112412 non-null object\n",
      "CODIGO_NACION              172133 non-null object\n",
      "dtypes: float64(1), int64(1), object(9)\n",
      "memory usage: 14.7+ MB\n"
     ]
    }
   ],
   "source": [
    "df = pd.read_csv(file, usecols=usecols, encoding=\"latin-1\", sep=\";\")\n",
    "df.info()"
   ]
  },
  {
   "cell_type": "code",
   "execution_count": 9,
   "metadata": {},
   "outputs": [
    {
     "data": {
      "text/html": [
       "<div>\n",
       "<style scoped>\n",
       "    .dataframe tbody tr th:only-of-type {\n",
       "        vertical-align: middle;\n",
       "    }\n",
       "\n",
       "    .dataframe tbody tr th {\n",
       "        vertical-align: top;\n",
       "    }\n",
       "\n",
       "    .dataframe thead th {\n",
       "        text-align: right;\n",
       "    }\n",
       "</style>\n",
       "<table border=\"1\" class=\"dataframe\">\n",
       "  <thead>\n",
       "    <tr style=\"text-align: right;\">\n",
       "      <th></th>\n",
       "      <th>APELLIDO</th>\n",
       "      <th>APELLIDO_NOMBRES</th>\n",
       "      <th>CLIENTE</th>\n",
       "      <th>CODIGO_NACION</th>\n",
       "      <th>DATECO_TIPO_ACTIVIDAD</th>\n",
       "      <th>DOMICILIO_BARRIO</th>\n",
       "      <th>DOMICILIO_CODIGO_POSTAL</th>\n",
       "      <th>FECHA_NACIMIENTO</th>\n",
       "      <th>HABILITADO</th>\n",
       "      <th>ID</th>\n",
       "      <th>SEXO</th>\n",
       "    </tr>\n",
       "  </thead>\n",
       "  <tbody>\n",
       "    <tr>\n",
       "      <th>0</th>\n",
       "      <td>PAPALARDO</td>\n",
       "      <td>PAPALARDO OSCAR</td>\n",
       "      <td>NaN</td>\n",
       "      <td>ARGE</td>\n",
       "      <td>VIAJ</td>\n",
       "      <td>NaN</td>\n",
       "      <td>NaN</td>\n",
       "      <td>07/01/1955</td>\n",
       "      <td>S</td>\n",
       "      <td>240</td>\n",
       "      <td>M</td>\n",
       "    </tr>\n",
       "    <tr>\n",
       "      <th>1</th>\n",
       "      <td>MORALES</td>\n",
       "      <td>MORALES SEBASTIAN</td>\n",
       "      <td>S</td>\n",
       "      <td>ARGE</td>\n",
       "      <td>EMPL</td>\n",
       "      <td>NaN</td>\n",
       "      <td>1765006.0</td>\n",
       "      <td>20/01/1960</td>\n",
       "      <td>NaN</td>\n",
       "      <td>10386963</td>\n",
       "      <td>M</td>\n",
       "    </tr>\n",
       "    <tr>\n",
       "      <th>2</th>\n",
       "      <td>SOMOZA</td>\n",
       "      <td>SOMOZA RUBEN</td>\n",
       "      <td>NaN</td>\n",
       "      <td>ARGE</td>\n",
       "      <td>NaN</td>\n",
       "      <td>NaN</td>\n",
       "      <td>1133000.0</td>\n",
       "      <td>14/11/1954</td>\n",
       "      <td>NaN</td>\n",
       "      <td>10402083</td>\n",
       "      <td>M</td>\n",
       "    </tr>\n",
       "    <tr>\n",
       "      <th>174917</th>\n",
       "      <td>RODRIGUEZ</td>\n",
       "      <td>RODRIGUEZ ASENCIO JAVIER</td>\n",
       "      <td>N</td>\n",
       "      <td>ARGE</td>\n",
       "      <td>NaN</td>\n",
       "      <td>NaN</td>\n",
       "      <td>NaN</td>\n",
       "      <td>23/02/1975</td>\n",
       "      <td>NaN</td>\n",
       "      <td>23129743</td>\n",
       "      <td>M</td>\n",
       "    </tr>\n",
       "    <tr>\n",
       "      <th>174918</th>\n",
       "      <td>MAZZEI</td>\n",
       "      <td>MAZZEI ROBERTO CARLOS</td>\n",
       "      <td>N</td>\n",
       "      <td>ARGE</td>\n",
       "      <td>EMPL</td>\n",
       "      <td>NaN</td>\n",
       "      <td>1822000.0</td>\n",
       "      <td>29/10/1972</td>\n",
       "      <td>NaN</td>\n",
       "      <td>21019770</td>\n",
       "      <td>M</td>\n",
       "    </tr>\n",
       "    <tr>\n",
       "      <th>174919</th>\n",
       "      <td>DZIUBECKI</td>\n",
       "      <td>DZIUBECKI MARIA VICTORIA</td>\n",
       "      <td>N</td>\n",
       "      <td>ARGE</td>\n",
       "      <td>ENCE</td>\n",
       "      <td>BALVANERA</td>\n",
       "      <td>1083000.0</td>\n",
       "      <td>18/03/1994</td>\n",
       "      <td>NaN</td>\n",
       "      <td>12767312</td>\n",
       "      <td>F</td>\n",
       "    </tr>\n",
       "    <tr>\n",
       "      <th>174920</th>\n",
       "      <td>BARRIOS</td>\n",
       "      <td>BARRIOS ANGELA</td>\n",
       "      <td>N</td>\n",
       "      <td>ARGE</td>\n",
       "      <td>NaN</td>\n",
       "      <td>NaN</td>\n",
       "      <td>1755000.0</td>\n",
       "      <td>01/11/1940</td>\n",
       "      <td>NaN</td>\n",
       "      <td>23141828</td>\n",
       "      <td>F</td>\n",
       "    </tr>\n",
       "    <tr>\n",
       "      <th>174921</th>\n",
       "      <td>VEGA</td>\n",
       "      <td>VEGA CLAUDIA ANALIA</td>\n",
       "      <td>N</td>\n",
       "      <td>ARGE</td>\n",
       "      <td>NaN</td>\n",
       "      <td>NaN</td>\n",
       "      <td>NaN</td>\n",
       "      <td>18/04/1961</td>\n",
       "      <td>NaN</td>\n",
       "      <td>22138710</td>\n",
       "      <td>F</td>\n",
       "    </tr>\n",
       "  </tbody>\n",
       "</table>\n",
       "</div>"
      ],
      "text/plain": [
       "         APELLIDO          APELLIDO_NOMBRES CLIENTE CODIGO_NACION  \\\n",
       "0       PAPALARDO           PAPALARDO OSCAR     NaN          ARGE   \n",
       "1         MORALES         MORALES SEBASTIAN       S          ARGE   \n",
       "2          SOMOZA              SOMOZA RUBEN     NaN          ARGE   \n",
       "174917  RODRIGUEZ  RODRIGUEZ ASENCIO JAVIER       N          ARGE   \n",
       "174918     MAZZEI     MAZZEI ROBERTO CARLOS       N          ARGE   \n",
       "174919  DZIUBECKI  DZIUBECKI MARIA VICTORIA       N          ARGE   \n",
       "174920    BARRIOS            BARRIOS ANGELA       N          ARGE   \n",
       "174921       VEGA       VEGA CLAUDIA ANALIA       N          ARGE   \n",
       "\n",
       "       DATECO_TIPO_ACTIVIDAD DOMICILIO_BARRIO  DOMICILIO_CODIGO_POSTAL  \\\n",
       "0                       VIAJ              NaN                      NaN   \n",
       "1                       EMPL              NaN                1765006.0   \n",
       "2                        NaN              NaN                1133000.0   \n",
       "174917                   NaN              NaN                      NaN   \n",
       "174918                  EMPL              NaN                1822000.0   \n",
       "174919                  ENCE        BALVANERA                1083000.0   \n",
       "174920                   NaN              NaN                1755000.0   \n",
       "174921                   NaN              NaN                      NaN   \n",
       "\n",
       "       FECHA_NACIMIENTO HABILITADO        ID SEXO  \n",
       "0            07/01/1955          S       240    M  \n",
       "1            20/01/1960        NaN  10386963    M  \n",
       "2            14/11/1954        NaN  10402083    M  \n",
       "174917       23/02/1975        NaN  23129743    M  \n",
       "174918       29/10/1972        NaN  21019770    M  \n",
       "174919       18/03/1994        NaN  12767312    F  \n",
       "174920       01/11/1940        NaN  23141828    F  \n",
       "174921       18/04/1961        NaN  22138710    F  "
      ]
     },
     "execution_count": 9,
     "metadata": {},
     "output_type": "execute_result"
    }
   ],
   "source": [
    "df = df[df.columns.sort_values()]\n",
    "df.head(3).append(df.tail())"
   ]
  },
  {
   "cell_type": "code",
   "execution_count": 10,
   "metadata": {},
   "outputs": [],
   "source": [
    "# idx = \"COD_MOD\"\n",
    "# df[idx].value_counts(dropna=False)"
   ]
  },
  {
   "cell_type": "markdown",
   "metadata": {},
   "source": [
    "### Feature Format"
   ]
  },
  {
   "cell_type": "code",
   "execution_count": 11,
   "metadata": {},
   "outputs": [],
   "source": [
    "to_date = ['FECHA_NACIMIENTO', ]\n",
    "date_format = \"%d/%m/%Y\"\n",
    "# for is faster\n",
    "# df.loc[:, to_date] = df.loc[:, to_date].apply(pd.to_datetime(format=date_format))"
   ]
  },
  {
   "cell_type": "code",
   "execution_count": 12,
   "metadata": {},
   "outputs": [
    {
     "name": "stdout",
     "output_type": "stream",
     "text": [
      "CPU times: user 361 ms, sys: 12.5 ms, total: 373 ms\n",
      "Wall time: 371 ms\n"
     ]
    }
   ],
   "source": [
    "%%time \n",
    "for col in to_date:\n",
    "    df[col] = pd.to_datetime(df[col], format=date_format, errors=\"coerce\")"
   ]
  },
  {
   "cell_type": "markdown",
   "metadata": {},
   "source": [
    "# saving into feather file"
   ]
  },
  {
   "cell_type": "code",
   "execution_count": 13,
   "metadata": {},
   "outputs": [
    {
     "name": "stdout",
     "output_type": "stream",
     "text": [
      "<class 'pandas.core.frame.DataFrame'>\n",
      "RangeIndex: 174922 entries, 0 to 174921\n",
      "Data columns (total 11 columns):\n",
      "APELLIDO                   174900 non-null object\n",
      "APELLIDO_NOMBRES           174921 non-null object\n",
      "CLIENTE                    129422 non-null object\n",
      "CODIGO_NACION              172133 non-null object\n",
      "DATECO_TIPO_ACTIVIDAD      112412 non-null object\n",
      "DOMICILIO_BARRIO           38130 non-null object\n",
      "DOMICILIO_CODIGO_POSTAL    148152 non-null float64\n",
      "FECHA_NACIMIENTO           169854 non-null datetime64[ns]\n",
      "HABILITADO                 38716 non-null object\n",
      "ID                         174922 non-null int64\n",
      "SEXO                       172271 non-null object\n",
      "dtypes: datetime64[ns](1), float64(1), int64(1), object(8)\n",
      "memory usage: 14.7+ MB\n"
     ]
    }
   ],
   "source": [
    "df.info()"
   ]
  },
  {
   "cell_type": "code",
   "execution_count": 14,
   "metadata": {},
   "outputs": [],
   "source": [
    "# df[\"CONV_COMISIONARIO\"].value_counts()"
   ]
  },
  {
   "cell_type": "code",
   "execution_count": 15,
   "metadata": {},
   "outputs": [],
   "source": [
    "# fixing to_feather error\n",
    "# df[\"CONV_COMISIONARIO\"] = df[\"CONV_COMISIONARIO\"].astype(str)"
   ]
  },
  {
   "cell_type": "code",
   "execution_count": 16,
   "metadata": {},
   "outputs": [],
   "source": [
    "df.to_feather(filename_to_save)"
   ]
  },
  {
   "cell_type": "code",
   "execution_count": null,
   "metadata": {},
   "outputs": [],
   "source": []
  }
 ],
 "metadata": {
  "kernelspec": {
   "display_name": "Python 3",
   "language": "python",
   "name": "python3"
  },
  "language_info": {
   "codemirror_mode": {
    "name": "ipython",
    "version": 3
   },
   "file_extension": ".py",
   "mimetype": "text/x-python",
   "name": "python",
   "nbconvert_exporter": "python",
   "pygments_lexer": "ipython3",
   "version": "3.6.8"
  },
  "varInspector": {
   "cols": {
    "lenName": 16,
    "lenType": 16,
    "lenVar": 40
   },
   "kernels_config": {
    "python": {
     "delete_cmd_postfix": "",
     "delete_cmd_prefix": "del ",
     "library": "var_list.py",
     "varRefreshCmd": "print(var_dic_list())"
    },
    "r": {
     "delete_cmd_postfix": ") ",
     "delete_cmd_prefix": "rm(",
     "library": "var_list.r",
     "varRefreshCmd": "cat(var_dic_list()) "
    }
   },
   "types_to_exclude": [
    "module",
    "function",
    "builtin_function_or_method",
    "instance",
    "_Feature"
   ],
   "window_display": false
  }
 },
 "nbformat": 4,
 "nbformat_minor": 2
}
