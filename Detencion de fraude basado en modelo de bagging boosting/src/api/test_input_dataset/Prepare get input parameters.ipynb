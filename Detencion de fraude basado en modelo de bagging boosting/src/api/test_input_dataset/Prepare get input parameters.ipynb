{
 "cells": [
  {
   "cell_type": "code",
   "execution_count": 1,
   "metadata": {},
   "outputs": [],
   "source": [
    "PARAMETERS_API = \"\"\"\n",
    "\n",
    "cond_04, cond_05, cond_06, cond_09, cond_11, cond_12, cond_32, cond_37, cond_C1, cond_C10, cond_C11, cond_C12, cond_C13, cond_C14, cond_C15, cond_C16, cond_C17, cond_C18, cond_C19, cond_C2, cond_C20, cond_C21, cond_C3, cond_C4, cond_C5, cond_C6, cond_C7, cond_C8, cond_C9,\n",
    "preg_12, preg_15, preg_22, preg_27, preg_28, preg_31, preg_32, preg_33, preg_34, preg_37,\n",
    "CODIGO_BAJA, CODIGO_CARATULA, CODIGO_REAPERTURA, CODIGO_VEHICULO, COD_CAUSA_SINI, COD_POST_OCURRENCIA, COD_POST_POLIZA, COD_POST_TERC, COD_RAMO, COD_RIES, CONDICION_ROBO_EXP50, DESCRIPCION_TIPO, DESCRIPCION_VEHICULO, ESTADO_CIVIL, ESTADO_CIVIL_TERC, ESTAD_VEH_ASEG, FALTANTE, FECHA_FORMAL, FECHA_NAC_ASEG, FECHA_NAC_TERC, FECHA_SINI, FEC_DENU_SINI, MCA_JUICIO, MCA_VIP, METRO, NUM_SECU_EXPED, NUM_SECU_POL, OCUPACION_ASEG, SEXO, SEXO_TERC, TELEFONO_TERC, TIPO, TIPO_EXPED, TIPO_LESION, TIPO_SINIESTRO,\n",
    "SEXO_ASEG, TIPO_ACTIVIDAD,\n",
    "CANT_RENOVACION, CAPITAL_ACCESORIOS, CAPITAL_ASEGURADO_COTIZACION, CAPITAL_VEHICULO, COD_COBRO, COD_COBRO_ANTERIOR, COD_PROD, COD_RAMO, COD_RIES, COD_ZONA_CASCO, COD_ZONA_RC, COD_ZONA_ROBO, CONV_COMISIONARIO, FECHA_PROCESO, FECHA_VENC_POL, FECHA_VIG_ORIG_POL, FECHA_VIG_POL, MCA_AGRAVANTE, MCA_EMPLEADO, MCA_MOVIMIENTO, MCA_POLIZA_VIP, NEGOCIO, NUM_SECU_POL, PRENDARIO, SEGMENTO\n",
    "\"\"\""
   ]
  },
  {
   "cell_type": "code",
   "execution_count": 8,
   "metadata": {},
   "outputs": [
    {
     "name": "stdout",
     "output_type": "stream",
     "text": [
      "['cond_04', 'cond_05', 'cond_06', 'cond_09', 'cond_11', 'cond_12', 'cond_32', 'cond_37', 'cond_C1', 'cond_C10', 'cond_C11', 'cond_C12', 'cond_C13', 'cond_C14', 'cond_C15', 'cond_C16', 'cond_C17', 'cond_C18', 'cond_C19', 'cond_C2', 'cond_C20', 'cond_C21', 'cond_C3', 'cond_C4', 'cond_C5', 'cond_C6', 'cond_C7', 'cond_C8', 'cond_C9', 'preg_12', 'preg_15', 'preg_22', 'preg_27', 'preg_28', 'preg_31', 'preg_32', 'preg_33', 'preg_34', 'preg_37', 'CODIGO_BAJA', 'CODIGO_CARATULA', 'CODIGO_REAPERTURA', 'CODIGO_VEHICULO', 'COD_CAUSA_SINI', 'COD_POST_OCURRENCIA', 'COD_POST_POLIZA', 'COD_POST_TERC', 'COD_RAMO', 'COD_RIES', 'CONDICION_ROBO_EXP50', 'DESCRIPCION_TIPO', 'DESCRIPCION_VEHICULO', 'ESTADO_CIVIL', 'ESTADO_CIVIL_TERC', 'ESTAD_VEH_ASEG', 'FALTANTE', 'FECHA_FORMAL', 'FECHA_NAC_ASEG', 'FECHA_NAC_TERC', 'FECHA_SINI', 'FEC_DENU_SINI', 'MCA_JUICIO', 'MCA_VIP', 'METRO', 'NUM_SECU_EXPED', 'NUM_SECU_POL', 'OCUPACION_ASEG', 'SEXO', 'SEXO_TERC', 'TELEFONO_TERC', 'TIPO', 'TIPO_EXPED', 'TIPO_LESION', 'TIPO_SINIESTRO', 'SEXO_ASEG', 'TIPO_ACTIVIDAD', 'CANT_RENOVACION', 'CAPITAL_ACCESORIOS', 'CAPITAL_ASEGURADO_COTIZACION', 'CAPITAL_VEHICULO', 'COD_COBRO', 'COD_COBRO_ANTERIOR', 'COD_PROD', 'COD_RAMO', 'COD_RIES', 'COD_ZONA_CASCO', 'COD_ZONA_RC', 'COD_ZONA_ROBO', 'CONV_COMISIONARIO', 'FECHA_PROCESO', 'FECHA_VENC_POL', 'FECHA_VIG_ORIG_POL', 'FECHA_VIG_POL', 'MCA_AGRAVANTE', 'MCA_EMPLEADO', 'MCA_MOVIMIENTO', 'MCA_POLIZA_VIP', 'NEGOCIO', 'NUM_SECU_POL', 'PRENDARIO', 'SEGMENTO']\n"
     ]
    }
   ],
   "source": [
    "list_cols = [t.strip() for t in PARAMETERS_API.split(\",\")]\n",
    "print(list_cols)"
   ]
  },
  {
   "cell_type": "code",
   "execution_count": null,
   "metadata": {},
   "outputs": [],
   "source": []
  }
 ],
 "metadata": {
  "kernelspec": {
   "display_name": "Python 3",
   "language": "python",
   "name": "python3"
  },
  "language_info": {
   "codemirror_mode": {
    "name": "ipython",
    "version": 3
   },
   "file_extension": ".py",
   "mimetype": "text/x-python",
   "name": "python",
   "nbconvert_exporter": "python",
   "pygments_lexer": "ipython3",
   "version": "3.6.9"
  }
 },
 "nbformat": 4,
 "nbformat_minor": 2
}
