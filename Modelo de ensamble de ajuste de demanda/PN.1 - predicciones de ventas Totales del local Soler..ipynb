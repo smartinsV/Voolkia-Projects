{
 "cells": [
  {
   "cell_type": "code",
   "execution_count": 2,
   "metadata": {
    "collapsed": true
   },
   "outputs": [],
   "source": [
    "import pandas as pd\n",
    "import numpy as np\n",
    "import seaborn as sns\n",
    "import matplotlib.pyplot as plt\n",
    "\n",
    "%matplotlib inline"
   ]
  },
  {
   "cell_type": "code",
   "execution_count": 3,
   "metadata": {},
   "outputs": [
    {
     "name": "stdout",
     "output_type": "stream",
     "text": [
      "<class 'pandas.core.frame.DataFrame'>\n",
      "RangeIndex: 10000 entries, 0 to 9999\n",
      "Data columns (total 6 columns):\n",
      "Barrio/Localidad    10000 non-null object\n",
      "Fecha               10000 non-null datetime64[ns]\n",
      "Dia                 10000 non-null object\n",
      "Turno               10000 non-null object\n",
      "Local               10000 non-null object\n",
      "Pedidos             10000 non-null int64\n",
      "dtypes: datetime64[ns](1), int64(1), object(4)\n",
      "memory usage: 468.8+ KB\n"
     ]
    }
   ],
   "source": [
    "dfPedBarrios = pd.read_excel(\"Pedidos x barrio ene16-abr18.xlsx\")\n",
    "dfPedBarrios.info()"
   ]
  },
  {
   "cell_type": "code",
   "execution_count": 4,
   "metadata": {},
   "outputs": [
    {
     "name": "stdout",
     "output_type": "stream",
     "text": [
      "<class 'pandas.core.frame.DataFrame'>\n",
      "RangeIndex: 851 entries, 0 to 850\n",
      "Data columns (total 4 columns):\n",
      "fecha          851 non-null datetime64[ns]\n",
      "Soler Dia      834 non-null float64\n",
      "Soler Noche    834 non-null float64\n",
      "Totales        851 non-null int64\n",
      "dtypes: datetime64[ns](1), float64(2), int64(1)\n",
      "memory usage: 26.7 KB\n"
     ]
    }
   ],
   "source": [
    "dfPron = pd.read_excel(\"Pronosticos ene16 a abr18.xlsx\")\n",
    "dfPron.info()"
   ]
  },
  {
   "cell_type": "code",
   "execution_count": 6,
   "metadata": {},
   "outputs": [
    {
     "data": {
      "text/html": [
       "<div>\n",
       "<style>\n",
       "    .dataframe thead tr:only-child th {\n",
       "        text-align: right;\n",
       "    }\n",
       "\n",
       "    .dataframe thead th {\n",
       "        text-align: left;\n",
       "    }\n",
       "\n",
       "    .dataframe tbody tr th {\n",
       "        vertical-align: top;\n",
       "    }\n",
       "</style>\n",
       "<table border=\"1\" class=\"dataframe\">\n",
       "  <thead>\n",
       "    <tr style=\"text-align: right;\">\n",
       "      <th></th>\n",
       "      <th>Pedidos</th>\n",
       "    </tr>\n",
       "    <tr>\n",
       "      <th>Fecha</th>\n",
       "      <th></th>\n",
       "    </tr>\n",
       "  </thead>\n",
       "  <tbody>\n",
       "    <tr>\n",
       "      <th>2016-01-01</th>\n",
       "      <td>74</td>\n",
       "    </tr>\n",
       "    <tr>\n",
       "      <th>2016-01-02</th>\n",
       "      <td>80</td>\n",
       "    </tr>\n",
       "    <tr>\n",
       "      <th>2016-01-03</th>\n",
       "      <td>79</td>\n",
       "    </tr>\n",
       "    <tr>\n",
       "      <th>2016-01-04</th>\n",
       "      <td>52</td>\n",
       "    </tr>\n",
       "    <tr>\n",
       "      <th>2016-01-05</th>\n",
       "      <td>63</td>\n",
       "    </tr>\n",
       "  </tbody>\n",
       "</table>\n",
       "</div>"
      ],
      "text/plain": [
       "            Pedidos\n",
       "Fecha              \n",
       "2016-01-01       74\n",
       "2016-01-02       80\n",
       "2016-01-03       79\n",
       "2016-01-04       52\n",
       "2016-01-05       63"
      ]
     },
     "execution_count": 6,
     "metadata": {},
     "output_type": "execute_result"
    }
   ],
   "source": [
    "dfTotPedidos = dfPedBarrios.groupby(\"Fecha\").sum()\n",
    "dfTotPedidos.head()"
   ]
  },
  {
   "cell_type": "code",
   "execution_count": 7,
   "metadata": {},
   "outputs": [
    {
     "name": "stdout",
     "output_type": "stream",
     "text": [
      "<class 'pandas.core.frame.DataFrame'>\n",
      "DatetimeIndex: 846 entries, 2016-01-01 to 2018-04-30\n",
      "Data columns (total 1 columns):\n",
      "Pedidos    846 non-null int64\n",
      "dtypes: int64(1)\n",
      "memory usage: 13.2 KB\n"
     ]
    }
   ],
   "source": [
    "dfTotPedidos.info()"
   ]
  },
  {
   "cell_type": "markdown",
   "metadata": {},
   "source": [
    "## Integrando con las predicciones a una misma BD"
   ]
  },
  {
   "cell_type": "code",
   "execution_count": 11,
   "metadata": {},
   "outputs": [
    {
     "name": "stdout",
     "output_type": "stream",
     "text": [
      "<class 'pandas.core.frame.DataFrame'>\n",
      "DatetimeIndex: 851 entries, 2016-01-01 to 2018-04-30\n",
      "Data columns (total 3 columns):\n",
      "Soler Dia      834 non-null float64\n",
      "Soler Noche    834 non-null float64\n",
      "Totales        851 non-null int64\n",
      "dtypes: float64(2), int64(1)\n",
      "memory usage: 26.6 KB\n"
     ]
    }
   ],
   "source": [
    "dfPron.set_index(\"fecha\", inplace=True)\n",
    "dfPron.info()"
   ]
  },
  {
   "cell_type": "code",
   "execution_count": 21,
   "metadata": {},
   "outputs": [
    {
     "name": "stdout",
     "output_type": "stream",
     "text": [
      "<class 'pandas.core.frame.DataFrame'>\n",
      "DatetimeIndex: 846 entries, 2016-01-01 to 2018-04-30\n",
      "Data columns (total 4 columns):\n",
      "Pedidos        846 non-null int64\n",
      "Soler Dia      829 non-null float64\n",
      "Soler Noche    829 non-null float64\n",
      "Totales        846 non-null int64\n",
      "dtypes: float64(2), int64(2)\n",
      "memory usage: 73.0 KB\n"
     ]
    }
   ],
   "source": [
    "df = dfTotPedidos.join(dfPron, rsuffix=\"Pred_\")\n",
    "df.info()"
   ]
  },
  {
   "cell_type": "code",
   "execution_count": 22,
   "metadata": {},
   "outputs": [
    {
     "data": {
      "text/html": [
       "<div>\n",
       "<style>\n",
       "    .dataframe thead tr:only-child th {\n",
       "        text-align: right;\n",
       "    }\n",
       "\n",
       "    .dataframe thead th {\n",
       "        text-align: left;\n",
       "    }\n",
       "\n",
       "    .dataframe tbody tr th {\n",
       "        vertical-align: top;\n",
       "    }\n",
       "</style>\n",
       "<table border=\"1\" class=\"dataframe\">\n",
       "  <thead>\n",
       "    <tr style=\"text-align: right;\">\n",
       "      <th></th>\n",
       "      <th>Pedidos</th>\n",
       "      <th>Soler Dia</th>\n",
       "      <th>Soler Noche</th>\n",
       "      <th>Totales</th>\n",
       "    </tr>\n",
       "    <tr>\n",
       "      <th>Fecha</th>\n",
       "      <th></th>\n",
       "      <th></th>\n",
       "      <th></th>\n",
       "      <th></th>\n",
       "    </tr>\n",
       "  </thead>\n",
       "  <tbody>\n",
       "    <tr>\n",
       "      <th>2016-01-01</th>\n",
       "      <td>74</td>\n",
       "      <td>0.0</td>\n",
       "      <td>70.0</td>\n",
       "      <td>70</td>\n",
       "    </tr>\n",
       "    <tr>\n",
       "      <th>2016-01-02</th>\n",
       "      <td>80</td>\n",
       "      <td>0.0</td>\n",
       "      <td>79.0</td>\n",
       "      <td>79</td>\n",
       "    </tr>\n",
       "    <tr>\n",
       "      <th>2016-01-03</th>\n",
       "      <td>79</td>\n",
       "      <td>0.0</td>\n",
       "      <td>70.0</td>\n",
       "      <td>70</td>\n",
       "    </tr>\n",
       "    <tr>\n",
       "      <th>2016-01-04</th>\n",
       "      <td>52</td>\n",
       "      <td>0.0</td>\n",
       "      <td>52.0</td>\n",
       "      <td>52</td>\n",
       "    </tr>\n",
       "    <tr>\n",
       "      <th>2016-01-05</th>\n",
       "      <td>63</td>\n",
       "      <td>0.0</td>\n",
       "      <td>55.0</td>\n",
       "      <td>55</td>\n",
       "    </tr>\n",
       "  </tbody>\n",
       "</table>\n",
       "</div>"
      ],
      "text/plain": [
       "            Pedidos  Soler Dia  Soler Noche  Totales\n",
       "Fecha                                               \n",
       "2016-01-01       74        0.0         70.0       70\n",
       "2016-01-02       80        0.0         79.0       79\n",
       "2016-01-03       79        0.0         70.0       70\n",
       "2016-01-04       52        0.0         52.0       52\n",
       "2016-01-05       63        0.0         55.0       55"
      ]
     },
     "execution_count": 22,
     "metadata": {},
     "output_type": "execute_result"
    }
   ],
   "source": [
    "df.head()"
   ]
  },
  {
   "cell_type": "code",
   "execution_count": 26,
   "metadata": {},
   "outputs": [
    {
     "data": {
      "text/html": [
       "<div>\n",
       "<style>\n",
       "    .dataframe thead tr:only-child th {\n",
       "        text-align: right;\n",
       "    }\n",
       "\n",
       "    .dataframe thead th {\n",
       "        text-align: left;\n",
       "    }\n",
       "\n",
       "    .dataframe tbody tr th {\n",
       "        vertical-align: top;\n",
       "    }\n",
       "</style>\n",
       "<table border=\"1\" class=\"dataframe\">\n",
       "  <thead>\n",
       "    <tr style=\"text-align: right;\">\n",
       "      <th></th>\n",
       "      <th>PedidosReales</th>\n",
       "      <th>SolerDiaPred</th>\n",
       "      <th>SolerNochePred</th>\n",
       "      <th>TotalesPred</th>\n",
       "    </tr>\n",
       "    <tr>\n",
       "      <th>Fecha</th>\n",
       "      <th></th>\n",
       "      <th></th>\n",
       "      <th></th>\n",
       "      <th></th>\n",
       "    </tr>\n",
       "  </thead>\n",
       "  <tbody>\n",
       "    <tr>\n",
       "      <th>2016-01-01</th>\n",
       "      <td>74</td>\n",
       "      <td>0.0</td>\n",
       "      <td>70.0</td>\n",
       "      <td>70</td>\n",
       "    </tr>\n",
       "    <tr>\n",
       "      <th>2016-01-02</th>\n",
       "      <td>80</td>\n",
       "      <td>0.0</td>\n",
       "      <td>79.0</td>\n",
       "      <td>79</td>\n",
       "    </tr>\n",
       "    <tr>\n",
       "      <th>2016-01-03</th>\n",
       "      <td>79</td>\n",
       "      <td>0.0</td>\n",
       "      <td>70.0</td>\n",
       "      <td>70</td>\n",
       "    </tr>\n",
       "    <tr>\n",
       "      <th>2016-01-04</th>\n",
       "      <td>52</td>\n",
       "      <td>0.0</td>\n",
       "      <td>52.0</td>\n",
       "      <td>52</td>\n",
       "    </tr>\n",
       "    <tr>\n",
       "      <th>2016-01-05</th>\n",
       "      <td>63</td>\n",
       "      <td>0.0</td>\n",
       "      <td>55.0</td>\n",
       "      <td>55</td>\n",
       "    </tr>\n",
       "  </tbody>\n",
       "</table>\n",
       "</div>"
      ],
      "text/plain": [
       "            PedidosReales  SolerDiaPred  SolerNochePred  TotalesPred\n",
       "Fecha                                                               \n",
       "2016-01-01             74           0.0            70.0           70\n",
       "2016-01-02             80           0.0            79.0           79\n",
       "2016-01-03             79           0.0            70.0           70\n",
       "2016-01-04             52           0.0            52.0           52\n",
       "2016-01-05             63           0.0            55.0           55"
      ]
     },
     "execution_count": 26,
     "metadata": {},
     "output_type": "execute_result"
    }
   ],
   "source": [
    "#cambiando nombre columnas\n",
    "df.columns = [\"PedidosReales\", \"SolerDiaPred\", \"SolerNochePred\", \"TotalesPred\"]\n",
    "df.head()"
   ]
  },
  {
   "cell_type": "code",
   "execution_count": 17,
   "metadata": {},
   "outputs": [
    {
     "name": "stdout",
     "output_type": "stream",
     "text": [
      "<class 'pandas.core.frame.DataFrame'>\n",
      "DatetimeIndex: 846 entries, 2016-01-01 to 2018-04-30\n",
      "Data columns (total 4 columns):\n",
      "Pedidos        846 non-null int32\n",
      "Soler Dia      846 non-null int32\n",
      "Soler Noche    846 non-null int32\n",
      "Totales        846 non-null int32\n",
      "dtypes: int32(4)\n",
      "memory usage: 59.8 KB\n"
     ]
    }
   ],
   "source": [
    "df.fillna(0, inplace=True)\n",
    "df = df.apply(lambda x : x.astype(int))\n",
    "df.info()"
   ]
  },
  {
   "cell_type": "code",
   "execution_count": 28,
   "metadata": {},
   "outputs": [],
   "source": [
    "df.to_excel(\"df total vs pred.xls\")"
   ]
  },
  {
   "cell_type": "markdown",
   "metadata": {},
   "source": [
    "# Aplicando el Proceso"
   ]
  },
  {
   "cell_type": "code",
   "execution_count": 29,
   "metadata": {},
   "outputs": [
    {
     "name": "stdout",
     "output_type": "stream",
     "text": [
      "<class 'pandas.core.frame.DataFrame'>\n",
      "RangeIndex: 846 entries, 0 to 845\n",
      "Data columns (total 5 columns):\n",
      "Fecha             846 non-null datetime64[ns]\n",
      "PedidosReales     846 non-null int64\n",
      "SolerDiaPred      829 non-null float64\n",
      "SolerNochePred    829 non-null float64\n",
      "TotalesPred       846 non-null int64\n",
      "dtypes: datetime64[ns](1), float64(2), int64(2)\n",
      "memory usage: 33.1 KB\n"
     ]
    }
   ],
   "source": [
    "df = pd.read_excel(\"df total vs pred.xls\")\n",
    "df.info()"
   ]
  },
  {
   "cell_type": "markdown",
   "metadata": {},
   "source": [
    "## 1) Feature Creation"
   ]
  },
  {
   "cell_type": "code",
   "execution_count": 30,
   "metadata": {},
   "outputs": [
    {
     "data": {
      "text/html": [
       "<div>\n",
       "<style>\n",
       "    .dataframe thead tr:only-child th {\n",
       "        text-align: right;\n",
       "    }\n",
       "\n",
       "    .dataframe thead th {\n",
       "        text-align: left;\n",
       "    }\n",
       "\n",
       "    .dataframe tbody tr th {\n",
       "        vertical-align: top;\n",
       "    }\n",
       "</style>\n",
       "<table border=\"1\" class=\"dataframe\">\n",
       "  <thead>\n",
       "    <tr style=\"text-align: right;\">\n",
       "      <th></th>\n",
       "      <th>PedidosReales</th>\n",
       "      <th>SolerDiaPred</th>\n",
       "      <th>SolerNochePred</th>\n",
       "      <th>TotalesPred</th>\n",
       "      <th>difRealPred</th>\n",
       "    </tr>\n",
       "  </thead>\n",
       "  <tbody>\n",
       "    <tr>\n",
       "      <th>count</th>\n",
       "      <td>846.000000</td>\n",
       "      <td>829.000000</td>\n",
       "      <td>829.000000</td>\n",
       "      <td>846.000000</td>\n",
       "      <td>846.000000</td>\n",
       "    </tr>\n",
       "    <tr>\n",
       "      <th>mean</th>\n",
       "      <td>99.589835</td>\n",
       "      <td>29.749095</td>\n",
       "      <td>79.039807</td>\n",
       "      <td>106.602837</td>\n",
       "      <td>-7.013002</td>\n",
       "    </tr>\n",
       "    <tr>\n",
       "      <th>std</th>\n",
       "      <td>31.761252</td>\n",
       "      <td>18.416734</td>\n",
       "      <td>25.900863</td>\n",
       "      <td>38.479850</td>\n",
       "      <td>27.885838</td>\n",
       "    </tr>\n",
       "    <tr>\n",
       "      <th>min</th>\n",
       "      <td>8.000000</td>\n",
       "      <td>0.000000</td>\n",
       "      <td>0.000000</td>\n",
       "      <td>0.000000</td>\n",
       "      <td>-133.000000</td>\n",
       "    </tr>\n",
       "    <tr>\n",
       "      <th>25%</th>\n",
       "      <td>74.000000</td>\n",
       "      <td>20.000000</td>\n",
       "      <td>60.000000</td>\n",
       "      <td>78.000000</td>\n",
       "      <td>-20.000000</td>\n",
       "    </tr>\n",
       "    <tr>\n",
       "      <th>50%</th>\n",
       "      <td>96.000000</td>\n",
       "      <td>27.000000</td>\n",
       "      <td>73.000000</td>\n",
       "      <td>104.000000</td>\n",
       "      <td>-6.000000</td>\n",
       "    </tr>\n",
       "    <tr>\n",
       "      <th>75%</th>\n",
       "      <td>125.000000</td>\n",
       "      <td>35.000000</td>\n",
       "      <td>98.000000</td>\n",
       "      <td>135.000000</td>\n",
       "      <td>5.000000</td>\n",
       "    </tr>\n",
       "    <tr>\n",
       "      <th>max</th>\n",
       "      <td>179.000000</td>\n",
       "      <td>146.000000</td>\n",
       "      <td>180.000000</td>\n",
       "      <td>247.000000</td>\n",
       "      <td>140.000000</td>\n",
       "    </tr>\n",
       "  </tbody>\n",
       "</table>\n",
       "</div>"
      ],
      "text/plain": [
       "       PedidosReales  SolerDiaPred  SolerNochePred  TotalesPred  difRealPred\n",
       "count     846.000000    829.000000      829.000000   846.000000   846.000000\n",
       "mean       99.589835     29.749095       79.039807   106.602837    -7.013002\n",
       "std        31.761252     18.416734       25.900863    38.479850    27.885838\n",
       "min         8.000000      0.000000        0.000000     0.000000  -133.000000\n",
       "25%        74.000000     20.000000       60.000000    78.000000   -20.000000\n",
       "50%        96.000000     27.000000       73.000000   104.000000    -6.000000\n",
       "75%       125.000000     35.000000       98.000000   135.000000     5.000000\n",
       "max       179.000000    146.000000      180.000000   247.000000   140.000000"
      ]
     },
     "execution_count": 30,
     "metadata": {},
     "output_type": "execute_result"
    }
   ],
   "source": [
    "df[\"difRealPred\"] = df[\"PedidosReales\"] - df[\"TotalesPred\"]\n",
    "df.describe()"
   ]
  },
  {
   "cell_type": "code",
   "execution_count": 32,
   "metadata": {},
   "outputs": [
    {
     "data": {
      "text/html": [
       "<div>\n",
       "<style>\n",
       "    .dataframe thead tr:only-child th {\n",
       "        text-align: right;\n",
       "    }\n",
       "\n",
       "    .dataframe thead th {\n",
       "        text-align: left;\n",
       "    }\n",
       "\n",
       "    .dataframe tbody tr th {\n",
       "        vertical-align: top;\n",
       "    }\n",
       "</style>\n",
       "<table border=\"1\" class=\"dataframe\">\n",
       "  <thead>\n",
       "    <tr style=\"text-align: right;\">\n",
       "      <th></th>\n",
       "      <th>PedidosReales</th>\n",
       "      <th>SolerDiaPred</th>\n",
       "      <th>SolerNochePred</th>\n",
       "      <th>TotalesPred</th>\n",
       "      <th>difRealPred</th>\n",
       "      <th>difAbsRealPred</th>\n",
       "    </tr>\n",
       "  </thead>\n",
       "  <tbody>\n",
       "    <tr>\n",
       "      <th>count</th>\n",
       "      <td>846.000000</td>\n",
       "      <td>829.000000</td>\n",
       "      <td>829.000000</td>\n",
       "      <td>846.000000</td>\n",
       "      <td>846.000000</td>\n",
       "      <td>846.000000</td>\n",
       "    </tr>\n",
       "    <tr>\n",
       "      <th>mean</th>\n",
       "      <td>99.589835</td>\n",
       "      <td>29.749095</td>\n",
       "      <td>79.039807</td>\n",
       "      <td>106.602837</td>\n",
       "      <td>-7.013002</td>\n",
       "      <td>19.256501</td>\n",
       "    </tr>\n",
       "    <tr>\n",
       "      <th>std</th>\n",
       "      <td>31.761252</td>\n",
       "      <td>18.416734</td>\n",
       "      <td>25.900863</td>\n",
       "      <td>38.479850</td>\n",
       "      <td>27.885838</td>\n",
       "      <td>21.344992</td>\n",
       "    </tr>\n",
       "    <tr>\n",
       "      <th>min</th>\n",
       "      <td>8.000000</td>\n",
       "      <td>0.000000</td>\n",
       "      <td>0.000000</td>\n",
       "      <td>0.000000</td>\n",
       "      <td>-133.000000</td>\n",
       "      <td>0.000000</td>\n",
       "    </tr>\n",
       "    <tr>\n",
       "      <th>25%</th>\n",
       "      <td>74.000000</td>\n",
       "      <td>20.000000</td>\n",
       "      <td>60.000000</td>\n",
       "      <td>78.000000</td>\n",
       "      <td>-20.000000</td>\n",
       "      <td>6.000000</td>\n",
       "    </tr>\n",
       "    <tr>\n",
       "      <th>50%</th>\n",
       "      <td>96.000000</td>\n",
       "      <td>27.000000</td>\n",
       "      <td>73.000000</td>\n",
       "      <td>104.000000</td>\n",
       "      <td>-6.000000</td>\n",
       "      <td>13.000000</td>\n",
       "    </tr>\n",
       "    <tr>\n",
       "      <th>75%</th>\n",
       "      <td>125.000000</td>\n",
       "      <td>35.000000</td>\n",
       "      <td>98.000000</td>\n",
       "      <td>135.000000</td>\n",
       "      <td>5.000000</td>\n",
       "      <td>25.000000</td>\n",
       "    </tr>\n",
       "    <tr>\n",
       "      <th>max</th>\n",
       "      <td>179.000000</td>\n",
       "      <td>146.000000</td>\n",
       "      <td>180.000000</td>\n",
       "      <td>247.000000</td>\n",
       "      <td>140.000000</td>\n",
       "      <td>140.000000</td>\n",
       "    </tr>\n",
       "  </tbody>\n",
       "</table>\n",
       "</div>"
      ],
      "text/plain": [
       "       PedidosReales  SolerDiaPred  SolerNochePred  TotalesPred  difRealPred  \\\n",
       "count     846.000000    829.000000      829.000000   846.000000   846.000000   \n",
       "mean       99.589835     29.749095       79.039807   106.602837    -7.013002   \n",
       "std        31.761252     18.416734       25.900863    38.479850    27.885838   \n",
       "min         8.000000      0.000000        0.000000     0.000000  -133.000000   \n",
       "25%        74.000000     20.000000       60.000000    78.000000   -20.000000   \n",
       "50%        96.000000     27.000000       73.000000   104.000000    -6.000000   \n",
       "75%       125.000000     35.000000       98.000000   135.000000     5.000000   \n",
       "max       179.000000    146.000000      180.000000   247.000000   140.000000   \n",
       "\n",
       "       difAbsRealPred  \n",
       "count      846.000000  \n",
       "mean        19.256501  \n",
       "std         21.344992  \n",
       "min          0.000000  \n",
       "25%          6.000000  \n",
       "50%         13.000000  \n",
       "75%         25.000000  \n",
       "max        140.000000  "
      ]
     },
     "execution_count": 32,
     "metadata": {},
     "output_type": "execute_result"
    }
   ],
   "source": [
    "df[\"difAbsRealPred\"] = df[\"difRealPred\"].abs()\n",
    "df.describe()"
   ]
  },
  {
   "cell_type": "code",
   "execution_count": 33,
   "metadata": {
    "collapsed": true
   },
   "outputs": [],
   "source": [
    "df.to_excel(\"1 - FC - df total vs pred.xls\")"
   ]
  },
  {
   "cell_type": "code",
   "execution_count": null,
   "metadata": {
    "collapsed": true
   },
   "outputs": [],
   "source": []
  }
 ],
 "metadata": {
  "kernelspec": {
   "display_name": "Python 3",
   "language": "python",
   "name": "python3"
  },
  "language_info": {
   "codemirror_mode": {
    "name": "ipython",
    "version": 3
   },
   "file_extension": ".py",
   "mimetype": "text/x-python",
   "name": "python",
   "nbconvert_exporter": "python",
   "pygments_lexer": "ipython3",
   "version": "3.6.5"
  }
 },
 "nbformat": 4,
 "nbformat_minor": 2
}
