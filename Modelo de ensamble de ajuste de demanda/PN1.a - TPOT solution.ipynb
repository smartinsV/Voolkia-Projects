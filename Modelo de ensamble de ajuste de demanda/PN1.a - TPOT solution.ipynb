{
 "cells": [
  {
   "cell_type": "code",
   "execution_count": 5,
   "metadata": {},
   "outputs": [
    {
     "name": "stdout",
     "output_type": "stream",
     "text": [
      "Sebastian Martins \n",
      "last updated: 2018-06-04 \n",
      "\n",
      "CPython 3.6.3\n",
      "IPython 6.1.0\n",
      "\n",
      "numpy 1.13.3\n",
      "pandas 0.20.3\n",
      "matplotlib 2.1.0\n",
      "sklearn 0.19.1\n"
     ]
    }
   ],
   "source": [
    "%load_ext watermark\n",
    "%watermark -a \"Sebastian Martins\" -u -d -v -p numpy,pandas,matplotlib,sklearn"
   ]
  },
  {
   "cell_type": "code",
   "execution_count": 1,
   "metadata": {},
   "outputs": [
    {
     "name": "stdout",
     "output_type": "stream",
     "text": [
      "<class 'pandas.core.frame.DataFrame'>\n",
      "RangeIndex: 846 entries, 0 to 845\n",
      "Data columns (total 21 columns):\n",
      "Fecha                    846 non-null datetime64[ns]\n",
      "PedidosReales            846 non-null int64\n",
      "SolerDiaPred             846 non-null int64\n",
      "SolerNochePred           846 non-null int64\n",
      "TotalesPred              846 non-null int64\n",
      "difRealPred              846 non-null int64\n",
      "difAbsRealPred           846 non-null int64\n",
      "FechaYear                846 non-null int64\n",
      "FechaMonth               846 non-null int64\n",
      "FechaWeek                846 non-null int64\n",
      "FechaDay                 846 non-null int64\n",
      "FechaDayofweek           846 non-null int64\n",
      "FechaDayofyear           846 non-null int64\n",
      "FechaIs_month_end        846 non-null int64\n",
      "FechaIs_month_start      846 non-null int64\n",
      "FechaIs_quarter_end      846 non-null int64\n",
      "FechaIs_quarter_start    846 non-null int64\n",
      "FechaIs_year_end         846 non-null int64\n",
      "FechaIs_year_start       846 non-null int64\n",
      "FechaElapsed             846 non-null int64\n",
      "PedidosRolling7d         846 non-null int64\n",
      "dtypes: datetime64[ns](1), int64(20)\n",
      "memory usage: 138.9 KB\n"
     ]
    }
   ],
   "source": [
    "import pandas as pd\n",
    "import numpy as np\n",
    "\n",
    "df = pd.read_excel(\"1 - FC fast ai - df total vs pred.xls\")\n",
    "df.info()"
   ]
  },
  {
   "cell_type": "code",
   "execution_count": 2,
   "metadata": {},
   "outputs": [
    {
     "data": {
      "text/html": [
       "<div>\n",
       "<style>\n",
       "    .dataframe thead tr:only-child th {\n",
       "        text-align: right;\n",
       "    }\n",
       "\n",
       "    .dataframe thead th {\n",
       "        text-align: left;\n",
       "    }\n",
       "\n",
       "    .dataframe tbody tr th {\n",
       "        vertical-align: top;\n",
       "    }\n",
       "</style>\n",
       "<table border=\"1\" class=\"dataframe\">\n",
       "  <thead>\n",
       "    <tr style=\"text-align: right;\">\n",
       "      <th></th>\n",
       "      <th>Fecha</th>\n",
       "      <th>PedidosAyerReales</th>\n",
       "    </tr>\n",
       "  </thead>\n",
       "  <tbody>\n",
       "    <tr>\n",
       "      <th>0</th>\n",
       "      <td>2016-01-01</td>\n",
       "      <td>NaN</td>\n",
       "    </tr>\n",
       "    <tr>\n",
       "      <th>1</th>\n",
       "      <td>2016-01-02</td>\n",
       "      <td>74.0</td>\n",
       "    </tr>\n",
       "    <tr>\n",
       "      <th>2</th>\n",
       "      <td>2016-01-03</td>\n",
       "      <td>80.0</td>\n",
       "    </tr>\n",
       "    <tr>\n",
       "      <th>3</th>\n",
       "      <td>2016-01-04</td>\n",
       "      <td>79.0</td>\n",
       "    </tr>\n",
       "    <tr>\n",
       "      <th>4</th>\n",
       "      <td>2016-01-05</td>\n",
       "      <td>52.0</td>\n",
       "    </tr>\n",
       "  </tbody>\n",
       "</table>\n",
       "</div>"
      ],
      "text/plain": [
       "       Fecha  PedidosAyerReales\n",
       "0 2016-01-01                NaN\n",
       "1 2016-01-02               74.0\n",
       "2 2016-01-03               80.0\n",
       "3 2016-01-04               79.0\n",
       "4 2016-01-05               52.0"
      ]
     },
     "execution_count": 2,
     "metadata": {},
     "output_type": "execute_result"
    }
   ],
   "source": [
    "#agregando la cantidad de ventas del día previo\n",
    "ventaAyer = df[[\"Fecha\", \"PedidosReales\"]].copy()\n",
    "ventaAyer[\"PedidosReales\"] = ventaAyer['PedidosReales'].shift(1)\n",
    "#cambiando nombre de la columna, para combinar en el dataframe\n",
    "ventaAyer.columns = [\"Fecha\", \"PedidosAyerReales\"]\n",
    "ventaAyer.head()"
   ]
  },
  {
   "cell_type": "code",
   "execution_count": 3,
   "metadata": {},
   "outputs": [
    {
     "data": {
      "text/html": [
       "<div>\n",
       "<style>\n",
       "    .dataframe thead tr:only-child th {\n",
       "        text-align: right;\n",
       "    }\n",
       "\n",
       "    .dataframe thead th {\n",
       "        text-align: left;\n",
       "    }\n",
       "\n",
       "    .dataframe tbody tr th {\n",
       "        vertical-align: top;\n",
       "    }\n",
       "</style>\n",
       "<table border=\"1\" class=\"dataframe\">\n",
       "  <thead>\n",
       "    <tr style=\"text-align: right;\">\n",
       "      <th></th>\n",
       "      <th>Fecha</th>\n",
       "      <th>PedidosReales</th>\n",
       "      <th>SolerDiaPred</th>\n",
       "      <th>SolerNochePred</th>\n",
       "      <th>TotalesPred</th>\n",
       "      <th>difRealPred</th>\n",
       "      <th>difAbsRealPred</th>\n",
       "      <th>FechaYear</th>\n",
       "      <th>FechaMonth</th>\n",
       "      <th>FechaWeek</th>\n",
       "      <th>...</th>\n",
       "      <th>FechaDayofyear</th>\n",
       "      <th>FechaIs_month_end</th>\n",
       "      <th>FechaIs_month_start</th>\n",
       "      <th>FechaIs_quarter_end</th>\n",
       "      <th>FechaIs_quarter_start</th>\n",
       "      <th>FechaIs_year_end</th>\n",
       "      <th>FechaIs_year_start</th>\n",
       "      <th>FechaElapsed</th>\n",
       "      <th>PedidosRolling7d</th>\n",
       "      <th>PedidosAyerReales</th>\n",
       "    </tr>\n",
       "  </thead>\n",
       "  <tbody>\n",
       "    <tr>\n",
       "      <th>0</th>\n",
       "      <td>2016-01-01</td>\n",
       "      <td>74</td>\n",
       "      <td>0</td>\n",
       "      <td>70</td>\n",
       "      <td>70</td>\n",
       "      <td>4</td>\n",
       "      <td>4</td>\n",
       "      <td>2016</td>\n",
       "      <td>1</td>\n",
       "      <td>53</td>\n",
       "      <td>...</td>\n",
       "      <td>1</td>\n",
       "      <td>0</td>\n",
       "      <td>1</td>\n",
       "      <td>0</td>\n",
       "      <td>1</td>\n",
       "      <td>0</td>\n",
       "      <td>1</td>\n",
       "      <td>1451606400</td>\n",
       "      <td>74</td>\n",
       "      <td>NaN</td>\n",
       "    </tr>\n",
       "    <tr>\n",
       "      <th>1</th>\n",
       "      <td>2016-01-02</td>\n",
       "      <td>80</td>\n",
       "      <td>0</td>\n",
       "      <td>79</td>\n",
       "      <td>79</td>\n",
       "      <td>1</td>\n",
       "      <td>1</td>\n",
       "      <td>2016</td>\n",
       "      <td>1</td>\n",
       "      <td>53</td>\n",
       "      <td>...</td>\n",
       "      <td>2</td>\n",
       "      <td>0</td>\n",
       "      <td>0</td>\n",
       "      <td>0</td>\n",
       "      <td>0</td>\n",
       "      <td>0</td>\n",
       "      <td>0</td>\n",
       "      <td>1451692800</td>\n",
       "      <td>154</td>\n",
       "      <td>74.0</td>\n",
       "    </tr>\n",
       "    <tr>\n",
       "      <th>2</th>\n",
       "      <td>2016-01-03</td>\n",
       "      <td>79</td>\n",
       "      <td>0</td>\n",
       "      <td>70</td>\n",
       "      <td>70</td>\n",
       "      <td>9</td>\n",
       "      <td>9</td>\n",
       "      <td>2016</td>\n",
       "      <td>1</td>\n",
       "      <td>53</td>\n",
       "      <td>...</td>\n",
       "      <td>3</td>\n",
       "      <td>0</td>\n",
       "      <td>0</td>\n",
       "      <td>0</td>\n",
       "      <td>0</td>\n",
       "      <td>0</td>\n",
       "      <td>0</td>\n",
       "      <td>1451779200</td>\n",
       "      <td>233</td>\n",
       "      <td>80.0</td>\n",
       "    </tr>\n",
       "    <tr>\n",
       "      <th>3</th>\n",
       "      <td>2016-01-04</td>\n",
       "      <td>52</td>\n",
       "      <td>0</td>\n",
       "      <td>52</td>\n",
       "      <td>52</td>\n",
       "      <td>0</td>\n",
       "      <td>0</td>\n",
       "      <td>2016</td>\n",
       "      <td>1</td>\n",
       "      <td>1</td>\n",
       "      <td>...</td>\n",
       "      <td>4</td>\n",
       "      <td>0</td>\n",
       "      <td>0</td>\n",
       "      <td>0</td>\n",
       "      <td>0</td>\n",
       "      <td>0</td>\n",
       "      <td>0</td>\n",
       "      <td>1451865600</td>\n",
       "      <td>285</td>\n",
       "      <td>79.0</td>\n",
       "    </tr>\n",
       "    <tr>\n",
       "      <th>4</th>\n",
       "      <td>2016-01-05</td>\n",
       "      <td>63</td>\n",
       "      <td>0</td>\n",
       "      <td>55</td>\n",
       "      <td>55</td>\n",
       "      <td>8</td>\n",
       "      <td>8</td>\n",
       "      <td>2016</td>\n",
       "      <td>1</td>\n",
       "      <td>1</td>\n",
       "      <td>...</td>\n",
       "      <td>5</td>\n",
       "      <td>0</td>\n",
       "      <td>0</td>\n",
       "      <td>0</td>\n",
       "      <td>0</td>\n",
       "      <td>0</td>\n",
       "      <td>0</td>\n",
       "      <td>1451952000</td>\n",
       "      <td>348</td>\n",
       "      <td>52.0</td>\n",
       "    </tr>\n",
       "  </tbody>\n",
       "</table>\n",
       "<p>5 rows × 22 columns</p>\n",
       "</div>"
      ],
      "text/plain": [
       "       Fecha  PedidosReales  SolerDiaPred  SolerNochePred  TotalesPred  \\\n",
       "0 2016-01-01             74             0              70           70   \n",
       "1 2016-01-02             80             0              79           79   \n",
       "2 2016-01-03             79             0              70           70   \n",
       "3 2016-01-04             52             0              52           52   \n",
       "4 2016-01-05             63             0              55           55   \n",
       "\n",
       "   difRealPred  difAbsRealPred  FechaYear  FechaMonth  FechaWeek  \\\n",
       "0            4               4       2016           1         53   \n",
       "1            1               1       2016           1         53   \n",
       "2            9               9       2016           1         53   \n",
       "3            0               0       2016           1          1   \n",
       "4            8               8       2016           1          1   \n",
       "\n",
       "         ...          FechaDayofyear  FechaIs_month_end  FechaIs_month_start  \\\n",
       "0        ...                       1                  0                    1   \n",
       "1        ...                       2                  0                    0   \n",
       "2        ...                       3                  0                    0   \n",
       "3        ...                       4                  0                    0   \n",
       "4        ...                       5                  0                    0   \n",
       "\n",
       "   FechaIs_quarter_end  FechaIs_quarter_start  FechaIs_year_end  \\\n",
       "0                    0                      1                 0   \n",
       "1                    0                      0                 0   \n",
       "2                    0                      0                 0   \n",
       "3                    0                      0                 0   \n",
       "4                    0                      0                 0   \n",
       "\n",
       "   FechaIs_year_start  FechaElapsed  PedidosRolling7d  PedidosAyerReales  \n",
       "0                   1    1451606400                74                NaN  \n",
       "1                   0    1451692800               154               74.0  \n",
       "2                   0    1451779200               233               80.0  \n",
       "3                   0    1451865600               285               79.0  \n",
       "4                   0    1451952000               348               52.0  \n",
       "\n",
       "[5 rows x 22 columns]"
      ]
     },
     "execution_count": 3,
     "metadata": {},
     "output_type": "execute_result"
    }
   ],
   "source": [
    "#incorporando la venta de ayer\n",
    "df[\"PedidosAyerReales\"] = ventaAyer[\"PedidosAyerReales\"].copy()\n",
    "df.head()"
   ]
  },
  {
   "cell_type": "code",
   "execution_count": 6,
   "metadata": {},
   "outputs": [
    {
     "ename": "TypeError",
     "evalue": "drop() got an unexpected keyword argument 'columns'",
     "output_type": "error",
     "traceback": [
      "\u001b[1;31m---------------------------------------------------------------------------\u001b[0m",
      "\u001b[1;31mTypeError\u001b[0m                                 Traceback (most recent call last)",
      "\u001b[1;32m<ipython-input-6-9181b214fd6b>\u001b[0m in \u001b[0;36m<module>\u001b[1;34m()\u001b[0m\n\u001b[0;32m      1\u001b[0m \u001b[0mcolumnsDrop\u001b[0m \u001b[1;33m=\u001b[0m \u001b[1;33m[\u001b[0m\u001b[1;34m\"SolerDiaPred\"\u001b[0m\u001b[1;33m,\u001b[0m \u001b[1;34m\"SolerNochePred\"\u001b[0m\u001b[1;33m,\u001b[0m \u001b[1;34m\"TotalesPred\"\u001b[0m\u001b[1;33m,\u001b[0m \u001b[1;34m\"difRealPred\"\u001b[0m\u001b[1;33m,\u001b[0m \u001b[1;34m\"difAbsRealPred\"\u001b[0m\u001b[1;33m]\u001b[0m\u001b[1;33m\u001b[0m\u001b[0m\n\u001b[1;32m----> 2\u001b[1;33m \u001b[0mdf\u001b[0m \u001b[1;33m=\u001b[0m \u001b[0mdf\u001b[0m\u001b[1;33m.\u001b[0m\u001b[0mdrop\u001b[0m\u001b[1;33m(\u001b[0m\u001b[0mcolumns\u001b[0m\u001b[1;33m=\u001b[0m\u001b[0mcolumnsDrop\u001b[0m\u001b[1;33m)\u001b[0m\u001b[1;33m\u001b[0m\u001b[0m\n\u001b[0m\u001b[0;32m      3\u001b[0m \u001b[0mdf\u001b[0m\u001b[1;33m.\u001b[0m\u001b[0minfo\u001b[0m\u001b[1;33m(\u001b[0m\u001b[1;33m)\u001b[0m\u001b[1;33m\u001b[0m\u001b[0m\n",
      "\u001b[1;31mTypeError\u001b[0m: drop() got an unexpected keyword argument 'columns'"
     ]
    }
   ],
   "source": [
    "#columnsDrop = [\"SolerDiaPred\", \"SolerNochePred\", \"TotalesPred\", \"difRealPred\", \"difAbsRealPred\"]\n",
    "#df = df.drop(columns=columnsDrop)\n",
    "#df.info()"
   ]
  },
  {
   "cell_type": "code",
   "execution_count": 7,
   "metadata": {},
   "outputs": [
    {
     "data": {
      "text/plain": [
       "846"
      ]
     },
     "execution_count": 7,
     "metadata": {},
     "output_type": "execute_result"
    }
   ],
   "source": [
    "cat_vars = ['FechaDayofweek', 'FechaYear', 'FechaMonth', 'FechaDay', 'FechaWeek', \"FechaIs_month_end\", \"FechaIs_month_start\", \"FechaIs_quarter_end\", \n",
    "            \"FechaIs_quarter_start\", \"FechaIs_year_end\", \"FechaIs_year_start\", \"FechaDayofyear\"]\n",
    "\n",
    "contin_vars = ['PedidosRolling7d',\"PedidosAyerReales\"]\n",
    "\n",
    "target = \"PedidosReales\"\n",
    "\n",
    "n = len(df); n"
   ]
  },
  {
   "cell_type": "code",
   "execution_count": 8,
   "metadata": {},
   "outputs": [
    {
     "name": "stdout",
     "output_type": "stream",
     "text": [
      "<class 'pandas.core.frame.DataFrame'>\n",
      "RangeIndex: 846 entries, 0 to 845\n",
      "Data columns (total 16 columns):\n",
      "FechaDayofweek           846 non-null int64\n",
      "FechaYear                846 non-null int64\n",
      "FechaMonth               846 non-null int64\n",
      "FechaDay                 846 non-null int64\n",
      "FechaWeek                846 non-null int64\n",
      "FechaIs_month_end        846 non-null int64\n",
      "FechaIs_month_start      846 non-null int64\n",
      "FechaIs_quarter_end      846 non-null int64\n",
      "FechaIs_quarter_start    846 non-null int64\n",
      "FechaIs_year_end         846 non-null int64\n",
      "FechaIs_year_start       846 non-null int64\n",
      "FechaDayofyear           846 non-null int64\n",
      "PedidosRolling7d         846 non-null int64\n",
      "PedidosAyerReales        845 non-null float64\n",
      "PedidosReales            846 non-null int64\n",
      "Fecha                    846 non-null datetime64[ns]\n",
      "dtypes: datetime64[ns](1), float64(1), int64(14)\n",
      "memory usage: 105.8 KB\n"
     ]
    }
   ],
   "source": [
    "joined = df[cat_vars + contin_vars+ [target, \"Fecha\"]].copy() #\n",
    "joined.info()"
   ]
  },
  {
   "cell_type": "code",
   "execution_count": 9,
   "metadata": {
    "collapsed": true
   },
   "outputs": [],
   "source": [
    "#TODO: VER sklearn.model_selection.TimeSeriesSplit\n",
    "\n",
    "val_ratio = 0.15\n",
    "test_ratio = 0.15\n",
    "test_size = round(len(joined) * (1 - test_ratio) ) -1\n",
    "train_size = round(test_size * (1 - val_ratio) ) -1\n",
    "val_idx = list(range(train_size, test_size))\n",
    "test_idx = list(range(test_size, len(joined)))"
   ]
  },
  {
   "cell_type": "code",
   "execution_count": 10,
   "metadata": {},
   "outputs": [
    {
     "name": "stdout",
     "output_type": "stream",
     "text": [
      "<class 'pandas.core.frame.DataFrame'>\n",
      "Int64Index: 128 entries, 718 to 845\n",
      "Data columns (total 16 columns):\n",
      "FechaDayofweek           128 non-null int64\n",
      "FechaYear                128 non-null int64\n",
      "FechaMonth               128 non-null int64\n",
      "FechaDay                 128 non-null int64\n",
      "FechaWeek                128 non-null int64\n",
      "FechaIs_month_end        128 non-null int64\n",
      "FechaIs_month_start      128 non-null int64\n",
      "FechaIs_quarter_end      128 non-null int64\n",
      "FechaIs_quarter_start    128 non-null int64\n",
      "FechaIs_year_end         128 non-null int64\n",
      "FechaIs_year_start       128 non-null int64\n",
      "FechaDayofyear           128 non-null int64\n",
      "PedidosRolling7d         128 non-null int64\n",
      "PedidosAyerReales        128 non-null float64\n",
      "PedidosReales            128 non-null int64\n",
      "Fecha                    128 non-null datetime64[ns]\n",
      "dtypes: datetime64[ns](1), float64(1), int64(14)\n",
      "memory usage: 17.0 KB\n"
     ]
    }
   ],
   "source": [
    "df_test = joined.iloc[test_idx].copy()\n",
    "df_test.info()"
   ]
  },
  {
   "cell_type": "code",
   "execution_count": 11,
   "metadata": {},
   "outputs": [
    {
     "name": "stdout",
     "output_type": "stream",
     "text": [
      "<class 'pandas.core.frame.DataFrame'>\n",
      "Int64Index: 718 entries, 0 to 717\n",
      "Data columns (total 16 columns):\n",
      "FechaDayofweek           718 non-null int64\n",
      "FechaYear                718 non-null int64\n",
      "FechaMonth               718 non-null int64\n",
      "FechaDay                 718 non-null int64\n",
      "FechaWeek                718 non-null int64\n",
      "FechaIs_month_end        718 non-null int64\n",
      "FechaIs_month_start      718 non-null int64\n",
      "FechaIs_quarter_end      718 non-null int64\n",
      "FechaIs_quarter_start    718 non-null int64\n",
      "FechaIs_year_end         718 non-null int64\n",
      "FechaIs_year_start       718 non-null int64\n",
      "FechaDayofyear           718 non-null int64\n",
      "PedidosRolling7d         718 non-null int64\n",
      "PedidosAyerReales        717 non-null float64\n",
      "PedidosReales            718 non-null int64\n",
      "Fecha                    718 non-null datetime64[ns]\n",
      "dtypes: datetime64[ns](1), float64(1), int64(14)\n",
      "memory usage: 95.4 KB\n"
     ]
    }
   ],
   "source": [
    "df_train = joined.drop(test_idx).copy()\n",
    "df_train.info()"
   ]
  },
  {
   "cell_type": "code",
   "execution_count": 12,
   "metadata": {},
   "outputs": [
    {
     "data": {
      "text/html": [
       "<div>\n",
       "<style>\n",
       "    .dataframe thead tr:only-child th {\n",
       "        text-align: right;\n",
       "    }\n",
       "\n",
       "    .dataframe thead th {\n",
       "        text-align: left;\n",
       "    }\n",
       "\n",
       "    .dataframe tbody tr th {\n",
       "        vertical-align: top;\n",
       "    }\n",
       "</style>\n",
       "<table border=\"1\" class=\"dataframe\">\n",
       "  <thead>\n",
       "    <tr style=\"text-align: right;\">\n",
       "      <th></th>\n",
       "      <th>FechaDayofweek</th>\n",
       "      <th>FechaYear</th>\n",
       "      <th>FechaMonth</th>\n",
       "      <th>FechaDay</th>\n",
       "      <th>FechaWeek</th>\n",
       "      <th>FechaIs_month_end</th>\n",
       "      <th>FechaIs_month_start</th>\n",
       "      <th>FechaIs_quarter_end</th>\n",
       "      <th>FechaIs_quarter_start</th>\n",
       "      <th>FechaIs_year_end</th>\n",
       "      <th>FechaIs_year_start</th>\n",
       "      <th>FechaDayofyear</th>\n",
       "      <th>PedidosRolling7d</th>\n",
       "      <th>PedidosAyerReales</th>\n",
       "      <th>PedidosReales</th>\n",
       "      <th>Fecha</th>\n",
       "    </tr>\n",
       "  </thead>\n",
       "  <tbody>\n",
       "    <tr>\n",
       "      <th>0</th>\n",
       "      <td>4</td>\n",
       "      <td>2016</td>\n",
       "      <td>1</td>\n",
       "      <td>1</td>\n",
       "      <td>53</td>\n",
       "      <td>0</td>\n",
       "      <td>1</td>\n",
       "      <td>0</td>\n",
       "      <td>1</td>\n",
       "      <td>0</td>\n",
       "      <td>1</td>\n",
       "      <td>1</td>\n",
       "      <td>74</td>\n",
       "      <td>NaN</td>\n",
       "      <td>74</td>\n",
       "      <td>2016-01-01</td>\n",
       "    </tr>\n",
       "    <tr>\n",
       "      <th>1</th>\n",
       "      <td>5</td>\n",
       "      <td>2016</td>\n",
       "      <td>1</td>\n",
       "      <td>2</td>\n",
       "      <td>53</td>\n",
       "      <td>0</td>\n",
       "      <td>0</td>\n",
       "      <td>0</td>\n",
       "      <td>0</td>\n",
       "      <td>0</td>\n",
       "      <td>0</td>\n",
       "      <td>2</td>\n",
       "      <td>154</td>\n",
       "      <td>74.0</td>\n",
       "      <td>80</td>\n",
       "      <td>2016-01-02</td>\n",
       "    </tr>\n",
       "    <tr>\n",
       "      <th>2</th>\n",
       "      <td>6</td>\n",
       "      <td>2016</td>\n",
       "      <td>1</td>\n",
       "      <td>3</td>\n",
       "      <td>53</td>\n",
       "      <td>0</td>\n",
       "      <td>0</td>\n",
       "      <td>0</td>\n",
       "      <td>0</td>\n",
       "      <td>0</td>\n",
       "      <td>0</td>\n",
       "      <td>3</td>\n",
       "      <td>233</td>\n",
       "      <td>80.0</td>\n",
       "      <td>79</td>\n",
       "      <td>2016-01-03</td>\n",
       "    </tr>\n",
       "    <tr>\n",
       "      <th>3</th>\n",
       "      <td>0</td>\n",
       "      <td>2016</td>\n",
       "      <td>1</td>\n",
       "      <td>4</td>\n",
       "      <td>1</td>\n",
       "      <td>0</td>\n",
       "      <td>0</td>\n",
       "      <td>0</td>\n",
       "      <td>0</td>\n",
       "      <td>0</td>\n",
       "      <td>0</td>\n",
       "      <td>4</td>\n",
       "      <td>285</td>\n",
       "      <td>79.0</td>\n",
       "      <td>52</td>\n",
       "      <td>2016-01-04</td>\n",
       "    </tr>\n",
       "    <tr>\n",
       "      <th>4</th>\n",
       "      <td>1</td>\n",
       "      <td>2016</td>\n",
       "      <td>1</td>\n",
       "      <td>5</td>\n",
       "      <td>1</td>\n",
       "      <td>0</td>\n",
       "      <td>0</td>\n",
       "      <td>0</td>\n",
       "      <td>0</td>\n",
       "      <td>0</td>\n",
       "      <td>0</td>\n",
       "      <td>5</td>\n",
       "      <td>348</td>\n",
       "      <td>52.0</td>\n",
       "      <td>63</td>\n",
       "      <td>2016-01-05</td>\n",
       "    </tr>\n",
       "  </tbody>\n",
       "</table>\n",
       "</div>"
      ],
      "text/plain": [
       "   FechaDayofweek  FechaYear  FechaMonth  FechaDay  FechaWeek  \\\n",
       "0               4       2016           1         1         53   \n",
       "1               5       2016           1         2         53   \n",
       "2               6       2016           1         3         53   \n",
       "3               0       2016           1         4          1   \n",
       "4               1       2016           1         5          1   \n",
       "\n",
       "   FechaIs_month_end  FechaIs_month_start  FechaIs_quarter_end  \\\n",
       "0                  0                    1                    0   \n",
       "1                  0                    0                    0   \n",
       "2                  0                    0                    0   \n",
       "3                  0                    0                    0   \n",
       "4                  0                    0                    0   \n",
       "\n",
       "   FechaIs_quarter_start  FechaIs_year_end  FechaIs_year_start  \\\n",
       "0                      1                 0                   1   \n",
       "1                      0                 0                   0   \n",
       "2                      0                 0                   0   \n",
       "3                      0                 0                   0   \n",
       "4                      0                 0                   0   \n",
       "\n",
       "   FechaDayofyear  PedidosRolling7d  PedidosAyerReales  PedidosReales  \\\n",
       "0               1                74                NaN             74   \n",
       "1               2               154               74.0             80   \n",
       "2               3               233               80.0             79   \n",
       "3               4               285               79.0             52   \n",
       "4               5               348               52.0             63   \n",
       "\n",
       "       Fecha  \n",
       "0 2016-01-01  \n",
       "1 2016-01-02  \n",
       "2 2016-01-03  \n",
       "3 2016-01-04  \n",
       "4 2016-01-05  "
      ]
     },
     "execution_count": 12,
     "metadata": {},
     "output_type": "execute_result"
    }
   ],
   "source": [
    "df_train.head()"
   ]
  },
  {
   "cell_type": "code",
   "execution_count": 13,
   "metadata": {
    "collapsed": true
   },
   "outputs": [],
   "source": [
    "X_train = df_train.iloc[:,:-2].values\n",
    "y_train = df_train[\"PedidosReales\"].values"
   ]
  },
  {
   "cell_type": "code",
   "execution_count": 14,
   "metadata": {
    "collapsed": true
   },
   "outputs": [],
   "source": [
    "X_test = df_test.iloc[:,:-2].values\n",
    "y_test = df_test[\"PedidosReales\"].values"
   ]
  },
  {
   "cell_type": "code",
   "execution_count": 15,
   "metadata": {},
   "outputs": [
    {
     "name": "stdout",
     "output_type": "stream",
     "text": [
      "(train,test)=> (718,128)\n"
     ]
    }
   ],
   "source": [
    "print(\"(train,test)=> ({},{})\".format(len(X_train), len(X_test)))"
   ]
  },
  {
   "cell_type": "code",
   "execution_count": 16,
   "metadata": {
    "collapsed": true
   },
   "outputs": [],
   "source": [
    "#defino la métrica para optimizar\n",
    "import math\n",
    "\n",
    "def inv_y(a): return np.exp(a)\n",
    "\n",
    "def exp_rmspe(y_pred, targ):\n",
    "    pct_var = (targ - y_pred)/targ\n",
    "    return math.sqrt((pct_var**2).mean())"
   ]
  },
  {
   "cell_type": "code",
   "execution_count": 17,
   "metadata": {},
   "outputs": [
    {
     "name": "stdout",
     "output_type": "stream",
     "text": [
      "Warning: xgboost.XGBRegressor is not available and will not be used by TPOT.\n",
      "Imputing missing values in feature set\n"
     ]
    },
    {
     "name": "stderr",
     "output_type": "stream",
     "text": [
      "                                                                                                                       \r"
     ]
    },
    {
     "name": "stdout",
     "output_type": "stream",
     "text": [
      "Generation 1 - Current best internal CV score: -302.98792054061926\n"
     ]
    },
    {
     "name": "stderr",
     "output_type": "stream",
     "text": [
      "                                                                                                                       \r"
     ]
    },
    {
     "name": "stdout",
     "output_type": "stream",
     "text": [
      "Generation 2 - Current best internal CV score: -302.98792054061926\n"
     ]
    },
    {
     "name": "stderr",
     "output_type": "stream",
     "text": [
      "                                                                                                                       \r"
     ]
    },
    {
     "name": "stdout",
     "output_type": "stream",
     "text": [
      "Generation 3 - Current best internal CV score: -299.2125262164573\n"
     ]
    },
    {
     "name": "stderr",
     "output_type": "stream",
     "text": [
      "                                                                                                                       \r"
     ]
    },
    {
     "name": "stdout",
     "output_type": "stream",
     "text": [
      "Generation 4 - Current best internal CV score: -299.2125262164573\n"
     ]
    },
    {
     "name": "stderr",
     "output_type": "stream",
     "text": [
      "                                                                                                                       \r"
     ]
    },
    {
     "name": "stdout",
     "output_type": "stream",
     "text": [
      "Generation 5 - Current best internal CV score: -299.2125262164573\n"
     ]
    },
    {
     "name": "stderr",
     "output_type": "stream",
     "text": [
      "                                                                                                                       \r"
     ]
    },
    {
     "name": "stdout",
     "output_type": "stream",
     "text": [
      "Generation 6 - Current best internal CV score: -299.2125262164573\n"
     ]
    },
    {
     "name": "stderr",
     "output_type": "stream",
     "text": [
      "                                                                                                                       \r"
     ]
    },
    {
     "name": "stdout",
     "output_type": "stream",
     "text": [
      "Generation 7 - Current best internal CV score: -289.8043695094507\n"
     ]
    },
    {
     "name": "stderr",
     "output_type": "stream",
     "text": [
      "                                                                                                                       \r"
     ]
    },
    {
     "name": "stdout",
     "output_type": "stream",
     "text": [
      "Generation 8 - Current best internal CV score: -289.8043695094507\n"
     ]
    },
    {
     "name": "stderr",
     "output_type": "stream",
     "text": [
      "                                                                                                                       \r"
     ]
    },
    {
     "name": "stdout",
     "output_type": "stream",
     "text": [
      "Generation 9 - Current best internal CV score: -284.3260788766557\n"
     ]
    },
    {
     "name": "stderr",
     "output_type": "stream",
     "text": [
      "                                                                                                                       \r"
     ]
    },
    {
     "name": "stdout",
     "output_type": "stream",
     "text": [
      "Generation 10 - Current best internal CV score: -284.3260788766557\n"
     ]
    },
    {
     "name": "stderr",
     "output_type": "stream",
     "text": [
      "                                                                                                                       \r"
     ]
    },
    {
     "name": "stdout",
     "output_type": "stream",
     "text": [
      "Generation 11 - Current best internal CV score: -284.3260788766557\n"
     ]
    },
    {
     "name": "stderr",
     "output_type": "stream",
     "text": [
      "                                                                                                                       \r"
     ]
    },
    {
     "name": "stdout",
     "output_type": "stream",
     "text": [
      "Generation 12 - Current best internal CV score: -283.1973945276682\n"
     ]
    },
    {
     "name": "stderr",
     "output_type": "stream",
     "text": [
      "                                                                                                                       \r"
     ]
    },
    {
     "name": "stdout",
     "output_type": "stream",
     "text": [
      "Generation 13 - Current best internal CV score: -283.1973945276682\n"
     ]
    },
    {
     "name": "stderr",
     "output_type": "stream",
     "text": [
      "                                                                                                                       \r"
     ]
    },
    {
     "name": "stdout",
     "output_type": "stream",
     "text": [
      "Generation 14 - Current best internal CV score: -281.7619055668665\n"
     ]
    },
    {
     "name": "stderr",
     "output_type": "stream",
     "text": [
      "                                                                                                                       \r"
     ]
    },
    {
     "name": "stdout",
     "output_type": "stream",
     "text": [
      "Generation 15 - Current best internal CV score: -281.7619055668665\n"
     ]
    },
    {
     "name": "stderr",
     "output_type": "stream",
     "text": [
      "                                                                                                                       \r"
     ]
    },
    {
     "name": "stdout",
     "output_type": "stream",
     "text": [
      "Generation 16 - Current best internal CV score: -281.7619055668665\n"
     ]
    },
    {
     "name": "stderr",
     "output_type": "stream",
     "text": [
      "                                                                                                                       \r"
     ]
    },
    {
     "name": "stdout",
     "output_type": "stream",
     "text": [
      "Generation 17 - Current best internal CV score: -281.7619055668665\n"
     ]
    },
    {
     "name": "stderr",
     "output_type": "stream",
     "text": [
      "                                                                                                                       \r"
     ]
    },
    {
     "name": "stdout",
     "output_type": "stream",
     "text": [
      "Generation 18 - Current best internal CV score: -281.7619055668665\n"
     ]
    },
    {
     "name": "stderr",
     "output_type": "stream",
     "text": [
      "                                                                                                                       \r"
     ]
    },
    {
     "name": "stdout",
     "output_type": "stream",
     "text": [
      "Generation 19 - Current best internal CV score: -281.7619055668665\n"
     ]
    },
    {
     "name": "stderr",
     "output_type": "stream",
     "text": [
      "                                                                                                                       \r"
     ]
    },
    {
     "name": "stdout",
     "output_type": "stream",
     "text": [
      "Generation 20 - Current best internal CV score: -281.7619055668665\n"
     ]
    },
    {
     "name": "stderr",
     "output_type": "stream",
     "text": [
      "                                                                                                                       \r"
     ]
    },
    {
     "name": "stdout",
     "output_type": "stream",
     "text": [
      "Generation 21 - Current best internal CV score: -281.4851572945542\n"
     ]
    },
    {
     "name": "stderr",
     "output_type": "stream",
     "text": [
      "                                                                                                                       \r"
     ]
    },
    {
     "name": "stdout",
     "output_type": "stream",
     "text": [
      "Generation 22 - Current best internal CV score: -281.4851572945542\n"
     ]
    },
    {
     "name": "stderr",
     "output_type": "stream",
     "text": [
      "                                                                                                                       \r"
     ]
    },
    {
     "name": "stdout",
     "output_type": "stream",
     "text": [
      "Generation 23 - Current best internal CV score: -279.05619654820714\n"
     ]
    },
    {
     "name": "stderr",
     "output_type": "stream",
     "text": [
      "                                                                                                                       \r"
     ]
    },
    {
     "name": "stdout",
     "output_type": "stream",
     "text": [
      "Generation 24 - Current best internal CV score: -278.4695065557805\n"
     ]
    },
    {
     "name": "stderr",
     "output_type": "stream",
     "text": [
      "                                                                                                                       \r"
     ]
    },
    {
     "name": "stdout",
     "output_type": "stream",
     "text": [
      "Generation 25 - Current best internal CV score: -278.4695065557805\n"
     ]
    },
    {
     "name": "stderr",
     "output_type": "stream",
     "text": [
      "                                                                                                                       \r"
     ]
    },
    {
     "name": "stdout",
     "output_type": "stream",
     "text": [
      "\n",
      "Best pipeline: RidgeCV(LassoLarsCV(GradientBoostingRegressor(StandardScaler(Nystroem(GradientBoostingRegressor(input_matrix, alpha=0.95, learning_rate=0.01, loss=lad, max_depth=2, max_features=0.85, min_samples_leaf=6, min_samples_split=17, n_estimators=100, subsample=0.35), gamma=0.95, kernel=poly, n_components=8)), alpha=0.99, learning_rate=0.01, loss=quantile, max_depth=10, max_features=0.8, min_samples_leaf=7, min_samples_split=18, n_estimators=100, subsample=0.6), normalize=True))\n",
      "-309.962871922\n"
     ]
    }
   ],
   "source": [
    "from tpot import TPOTRegressor\n",
    "\n",
    "tpot = TPOTRegressor(generations=25, population_size=20, verbosity=2)#(generations=5, population_size=20, verbosity=2) #max_time_mins=20,\n",
    "tpot.fit(X_train, y_train)\n",
    "print(tpot.score(X_test, y_test))\n",
    "#tpot.export('tpot_model_pipeline.py')"
   ]
  },
  {
   "cell_type": "code",
   "execution_count": 18,
   "metadata": {},
   "outputs": [
    {
     "name": "stdout",
     "output_type": "stream",
     "text": [
      "Pipeline(memory=None,\n",
      "     steps=[('stackingestimator-1', StackingEstimator(estimator=GradientBoostingRegressor(alpha=0.95, criterion='friedman_mse', init=None,\n",
      "             learning_rate=0.01, loss='lad', max_depth=2,\n",
      "             max_features=0.8500000000000001, max_leaf_nodes=None,\n",
      "             min_impurity_decrease=0.0, m...None, fit_intercept=True, gcv_mode=None,\n",
      "    normalize=False, scoring=None, store_cv_values=False))])\n"
     ]
    }
   ],
   "source": [
    "#best pipeline\n",
    "print(tpot.fitted_pipeline_)\n",
    "#list of all the pipeline used\n",
    "#tpot.evaluated_individuals_"
   ]
  },
  {
   "cell_type": "code",
   "execution_count": 19,
   "metadata": {
    "collapsed": true
   },
   "outputs": [],
   "source": [
    "y_pred = tpot.predict(X_test)"
   ]
  },
  {
   "cell_type": "code",
   "execution_count": 20,
   "metadata": {},
   "outputs": [
    {
     "data": {
      "text/plain": [
       "0.1828583063950755"
      ]
     },
     "execution_count": 20,
     "metadata": {},
     "output_type": "execute_result"
    }
   ],
   "source": [
    "exp_rmspe(y_pred, y_test)"
   ]
  },
  {
   "cell_type": "code",
   "execution_count": 21,
   "metadata": {},
   "outputs": [
    {
     "data": {
      "text/html": [
       "<div>\n",
       "<style>\n",
       "    .dataframe thead tr:only-child th {\n",
       "        text-align: right;\n",
       "    }\n",
       "\n",
       "    .dataframe thead th {\n",
       "        text-align: left;\n",
       "    }\n",
       "\n",
       "    .dataframe tbody tr th {\n",
       "        vertical-align: top;\n",
       "    }\n",
       "</style>\n",
       "<table border=\"1\" class=\"dataframe\">\n",
       "  <thead>\n",
       "    <tr style=\"text-align: right;\">\n",
       "      <th></th>\n",
       "      <th>0</th>\n",
       "      <th>1</th>\n",
       "    </tr>\n",
       "  </thead>\n",
       "  <tbody>\n",
       "    <tr>\n",
       "      <th>0</th>\n",
       "      <td>139.360910</td>\n",
       "      <td>135.0</td>\n",
       "    </tr>\n",
       "    <tr>\n",
       "      <th>1</th>\n",
       "      <td>130.651559</td>\n",
       "      <td>96.0</td>\n",
       "    </tr>\n",
       "    <tr>\n",
       "      <th>2</th>\n",
       "      <td>68.687802</td>\n",
       "      <td>93.0</td>\n",
       "    </tr>\n",
       "    <tr>\n",
       "      <th>3</th>\n",
       "      <td>84.974741</td>\n",
       "      <td>91.0</td>\n",
       "    </tr>\n",
       "    <tr>\n",
       "      <th>4</th>\n",
       "      <td>94.840498</td>\n",
       "      <td>110.0</td>\n",
       "    </tr>\n",
       "  </tbody>\n",
       "</table>\n",
       "</div>"
      ],
      "text/plain": [
       "            0      1\n",
       "0  139.360910  135.0\n",
       "1  130.651559   96.0\n",
       "2   68.687802   93.0\n",
       "3   84.974741   91.0\n",
       "4   94.840498  110.0"
      ]
     },
     "execution_count": 21,
     "metadata": {},
     "output_type": "execute_result"
    }
   ],
   "source": [
    "res = pd.DataFrame([y_pred,y_test]).T\n",
    "res.head()"
   ]
  },
  {
   "cell_type": "code",
   "execution_count": 23,
   "metadata": {},
   "outputs": [
    {
     "data": {
      "text/plain": [
       "10.196818401600257"
      ]
     },
     "execution_count": 23,
     "metadata": {},
     "output_type": "execute_result"
    }
   ],
   "source": [
    "(res[0] - res[1]).abs().median()"
   ]
  },
  {
   "cell_type": "code",
   "execution_count": null,
   "metadata": {
    "collapsed": true
   },
   "outputs": [],
   "source": []
  }
 ],
 "metadata": {
  "kernelspec": {
   "display_name": "Python 3",
   "language": "python",
   "name": "python3"
  },
  "language_info": {
   "codemirror_mode": {
    "name": "ipython",
    "version": 3
   },
   "file_extension": ".py",
   "mimetype": "text/x-python",
   "name": "python",
   "nbconvert_exporter": "python",
   "pygments_lexer": "ipython3",
   "version": "3.6.3"
  }
 },
 "nbformat": 4,
 "nbformat_minor": 2
}
