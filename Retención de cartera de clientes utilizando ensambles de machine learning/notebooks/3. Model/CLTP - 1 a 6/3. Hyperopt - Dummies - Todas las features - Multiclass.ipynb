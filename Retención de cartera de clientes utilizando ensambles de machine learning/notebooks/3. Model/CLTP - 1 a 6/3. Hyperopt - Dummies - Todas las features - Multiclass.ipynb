{
 "cells": [
  {
   "cell_type": "code",
   "execution_count": 1,
   "metadata": {},
   "outputs": [],
   "source": [
    "import pandas as pd"
   ]
  },
  {
   "cell_type": "markdown",
   "metadata": {},
   "source": [
    "Loading dataset"
   ]
  },
  {
   "cell_type": "code",
   "execution_count": 2,
   "metadata": {},
   "outputs": [],
   "source": [
    "df_train = pd.read_feather(\"../../../data/processed/CLTP_train_set.feather\")"
   ]
  },
  {
   "cell_type": "code",
   "execution_count": 3,
   "metadata": {},
   "outputs": [],
   "source": [
    "X_train = df_train.drop([\"CLTP\"], axis=1)\n",
    "y_train = df_train[\"CLTP\"]\n",
    "del df_train"
   ]
  },
  {
   "cell_type": "markdown",
   "metadata": {},
   "source": [
    "## Training"
   ]
  },
  {
   "cell_type": "code",
   "execution_count": 4,
   "metadata": {},
   "outputs": [],
   "source": [
    "from sklearn.utils.class_weight import compute_class_weight "
   ]
  },
  {
   "cell_type": "code",
   "execution_count": 5,
   "metadata": {},
   "outputs": [
    {
     "data": {
      "text/plain": [
       "{0: 0.16605439075282444,\n",
       " 1: 4.843155260581003,\n",
       " 2: 5.353106991331788,\n",
       " 3: 5.71981619876849,\n",
       " 4: 6.868128544890112,\n",
       " 5: 7.2886583420934565,\n",
       " 6: 7.876366004190023}"
      ]
     },
     "execution_count": 5,
     "metadata": {},
     "output_type": "execute_result"
    }
   ],
   "source": [
    "weights = compute_class_weight(\"balanced\", sorted(y_train.unique()), y_train)\n",
    "comp_weights = { c: weights[c] for c in sorted(y_train.unique()) }\n",
    "comp_weights"
   ]
  },
  {
   "cell_type": "markdown",
   "metadata": {},
   "source": [
    "Dummify "
   ]
  },
  {
   "cell_type": "code",
   "execution_count": 6,
   "metadata": {},
   "outputs": [],
   "source": [
    "X_train = X_train.drop([\"DATECO_RAZON_SOCIAL_EMPLEADOR\",\"FECHA_NACIMIENTO\",\"time_window\"], axis=1)"
   ]
  },
  {
   "cell_type": "code",
   "execution_count": 7,
   "metadata": {},
   "outputs": [],
   "source": [
    "X_train = pd.get_dummies(X_train)"
   ]
  },
  {
   "cell_type": "code",
   "execution_count": 8,
   "metadata": {},
   "outputs": [],
   "source": [
    "X_train = X_train.fillna(-999)"
   ]
  },
  {
   "cell_type": "markdown",
   "metadata": {},
   "source": [
    "### Optimization dataset"
   ]
  },
  {
   "cell_type": "code",
   "execution_count": 9,
   "metadata": {},
   "outputs": [],
   "source": [
    "df_opt = pd.read_feather(\"../../../data/processed/CLTP_optimization_set.feather\")"
   ]
  },
  {
   "cell_type": "code",
   "execution_count": 10,
   "metadata": {},
   "outputs": [],
   "source": [
    "X_opt = df_opt.drop([\"CLTP\"], axis=1)\n",
    "y_opt = df_opt[\"CLTP\"]\n",
    "del df_opt\n",
    "X_opt = X_opt.drop([\"DATECO_RAZON_SOCIAL_EMPLEADOR\",\"FECHA_NACIMIENTO\",\"time_window\"], axis=1)\n",
    "X_opt = pd.get_dummies(X_opt)\n",
    "X_opt = X_opt.fillna(-999)\n",
    "for col in [col for col in X_train.columns if col not in X_opt.columns]:\n",
    "    X_opt[col] = -999\n",
    "X_opt = X_opt.drop([col for col in X_opt.columns if col not in X_train.columns], axis=1)"
   ]
  },
  {
   "cell_type": "markdown",
   "metadata": {},
   "source": [
    "### Hyperopt config"
   ]
  },
  {
   "cell_type": "code",
   "execution_count": 1,
   "metadata": {},
   "outputs": [],
   "source": [
    "from hyperopt import tpe, fmin, space_eval, Trials, STATUS_OK, hp\n",
    "from sklearn.metrics import f1_score \n",
    "from numpy.random import RandomState\n",
    "from sklearn.ensemble import RandomForestClassifier\n",
    "from tqdm import tqdm_notebook as tqdm"
   ]
  },
  {
   "cell_type": "code",
   "execution_count": 12,
   "metadata": {},
   "outputs": [],
   "source": [
    "lgbm_dict = {\n",
    "    'boosting_type': hp.choice('b_type', ['gbdt', 'dart', 'goss']),\n",
    "    'max_depth': hp.choice('max_depth', range(5, 20, 5)),\n",
    "    'n_estimators': hp.choice('estimators', [20, 50, 100, 200]),\n",
    "    'n_jobs': -1,\n",
    "    'random_state': 42,\n",
    "    'learning_rate': hp.choice('learning_rate', [1e-3, 1e-2, 1e-1, 0.5, 1.]),\n",
    "    'class_weight' :  'balanced',\n",
    "    'subsample': 0.5\n",
    "}\n",
    "rf_dict = {\n",
    "    'n_estimators': hp.choice('estimators', [200, 500]),\n",
    "    'max_features': hp.choice('max_features',['auto', 'sqrt', 'log2']),\n",
    "    'max_depth' : hp.choice('max_depth', [4, 5, 6, 7, 8]),\n",
    "    'criterion' : hp.choice('criterion', ['gini', 'entropy']),\n",
    "    'class_weight':  'balanced',\n",
    "}"
   ]
  },
  {
   "cell_type": "code",
   "execution_count": 2,
   "metadata": {},
   "outputs": [
    {
     "data": {
      "application/vnd.jupyter.widget-view+json": {
       "model_id": "7554a964ac3d4731ad4020df00707ea7",
       "version_major": 2,
       "version_minor": 0
      },
      "text/plain": [
       "HBox(children=(IntProgress(value=0, max=20), HTML(value='')))"
      ]
     },
     "metadata": {},
     "output_type": "display_data"
    },
    {
     "name": "stdout",
     "output_type": "stream",
     "text": [
      "\n",
      "Optimizing...\n",
      "\n"
     ]
    },
    {
     "ename": "NameError",
     "evalue": "name 'rf_dict' is not defined",
     "output_type": "error",
     "traceback": [
      "\u001b[1;31m---------------------------------------------------------------------------\u001b[0m",
      "\u001b[1;31mNameError\u001b[0m                                 Traceback (most recent call last)",
      "\u001b[1;32m<ipython-input-2-5d1e0f6e7553>\u001b[0m in \u001b[0;36m<module>\u001b[1;34m()\u001b[0m\n\u001b[0;32m     23\u001b[0m \u001b[0mtrials\u001b[0m \u001b[1;33m=\u001b[0m \u001b[0mTrials\u001b[0m\u001b[1;33m(\u001b[0m\u001b[1;33m)\u001b[0m\u001b[1;33m\u001b[0m\u001b[0m\n\u001b[0;32m     24\u001b[0m __bestClassifier = fmin(fn=__optimizerFunc,\n\u001b[1;32m---> 25\u001b[1;33m                         \u001b[0mspace\u001b[0m\u001b[1;33m=\u001b[0m\u001b[0mrf_dict\u001b[0m\u001b[1;33m,\u001b[0m\u001b[1;33m\u001b[0m\u001b[0m\n\u001b[0m\u001b[0;32m     26\u001b[0m                         \u001b[0malgo\u001b[0m\u001b[1;33m=\u001b[0m\u001b[0mtpe\u001b[0m\u001b[1;33m.\u001b[0m\u001b[0msuggest\u001b[0m\u001b[1;33m,\u001b[0m\u001b[1;33m\u001b[0m\u001b[0m\n\u001b[0;32m     27\u001b[0m                         \u001b[0mmax_evals\u001b[0m\u001b[1;33m=\u001b[0m\u001b[0mevals\u001b[0m\u001b[1;33m,\u001b[0m\u001b[1;33m\u001b[0m\u001b[0m\n",
      "\u001b[1;31mNameError\u001b[0m: name 'rf_dict' is not defined"
     ]
    }
   ],
   "source": [
    "evals = 10\n",
    "pbar = tqdm(total=evals*2)\n",
    "\n",
    "def __optimizerFunc(args):\n",
    "    pbar.update(1)\n",
    "    model = RandomForestClassifier(**args)\n",
    "    \n",
    "    model.fit(X_train, y_train)\n",
    "    y_pred = model.predict(X_opt)\n",
    "    score = f1_score(y_opt, y_pred, average='micro')\n",
    "\n",
    "    # greater is better\n",
    "    score = 1-score\n",
    "\n",
    "    pbar.update(1)\n",
    "\n",
    "    return {\n",
    "            \"loss\": score,\n",
    "            \"status\": STATUS_OK,\n",
    "           }\n",
    "\n",
    "print(\"\\nOptimizing...\\n\")\n",
    "trials = Trials()\n",
    "__bestClassifier = fmin(fn=__optimizerFunc,\n",
    "                        space=rf_dict,\n",
    "                        algo=tpe.suggest,\n",
    "                        max_evals=evals,\n",
    "                        trials=trials,\n",
    "                        rstate=RandomState(42)\n",
    "                        )\n",
    "pbar.close()\n",
    "\n",
    "print(\"{}\\n\".format(trials.results))\n"
   ]
  },
  {
   "cell_type": "code",
   "execution_count": 14,
   "metadata": {},
   "outputs": [],
   "source": [
    "opt_model = RandomForestClassifier(**space_eval(rf_dict, __bestClassifier))"
   ]
  },
  {
   "cell_type": "code",
   "execution_count": 16,
   "metadata": {},
   "outputs": [
    {
     "data": {
      "text/plain": [
       "RandomForestClassifier(bootstrap=True, class_weight='balanced',\n",
       "            criterion='gini', max_depth=8, max_features='auto',\n",
       "            max_leaf_nodes=None, min_impurity_decrease=0.0,\n",
       "            min_impurity_split=None, min_samples_leaf=1,\n",
       "            min_samples_split=2, min_weight_fraction_leaf=0.0,\n",
       "            n_estimators=200, n_jobs=None, oob_score=False,\n",
       "            random_state=None, verbose=0, warm_start=False)"
      ]
     },
     "execution_count": 16,
     "metadata": {},
     "output_type": "execute_result"
    }
   ],
   "source": [
    "opt_model.fit(X_train, y_train)"
   ]
  },
  {
   "cell_type": "markdown",
   "metadata": {},
   "source": [
    "Dump training columns"
   ]
  },
  {
   "cell_type": "code",
   "execution_count": 17,
   "metadata": {},
   "outputs": [],
   "source": [
    "cols = list(X_train.columns)"
   ]
  },
  {
   "cell_type": "code",
   "execution_count": 18,
   "metadata": {},
   "outputs": [],
   "source": [
    "import pickle\n",
    "with open('../../../src/models/Training columns - CLTP - one vs. rest - dummies.md', 'wb') as file:\n",
    "    pickle.dump(cols, file, pickle.HIGHEST_PROTOCOL)"
   ]
  },
  {
   "cell_type": "markdown",
   "metadata": {},
   "source": [
    "### Feature importance"
   ]
  },
  {
   "cell_type": "code",
   "execution_count": 28,
   "metadata": {},
   "outputs": [
    {
     "data": {
      "text/plain": [
       "<matplotlib.axes._subplots.AxesSubplot at 0x1439f0e60b8>"
      ]
     },
     "execution_count": 28,
     "metadata": {},
     "output_type": "execute_result"
    },
    {
     "data": {
      "image/png": "[encoded data removed]",
      "text/plain": [
       "<Figure size 432x288 with 1 Axes>"
      ]
     },
     "metadata": {},
     "output_type": "display_data"
    }
   ],
   "source": [
    "fi = pd.DataFrame(opt_model.feature_importances_,index=X_train.columns, columns=['importance']\n",
    "                                   ).sort_values('importance', ascending=False)\n",
    "fi.iloc[0:20].plot.bar()"
   ]
  },
  {
   "cell_type": "code",
   "execution_count": 36,
   "metadata": {},
   "outputs": [
    {
     "data": {
      "text/plain": [
       "importance    0.509804\n",
       "dtype: float64"
      ]
     },
     "execution_count": 36,
     "metadata": {},
     "output_type": "execute_result"
    }
   ],
   "source": [
    "fi[fi[\"importance\"] > 0].count() / fi.count()"
   ]
  },
  {
   "cell_type": "markdown",
   "metadata": {},
   "source": [
    "### Validation Dataset"
   ]
  },
  {
   "cell_type": "code",
   "execution_count": 20,
   "metadata": {},
   "outputs": [],
   "source": [
    "df_val = pd.read_feather(\"../../../data/processed/CLTP_validation_set.feather\")"
   ]
  },
  {
   "cell_type": "code",
   "execution_count": 21,
   "metadata": {},
   "outputs": [],
   "source": [
    "X_val = df_val.drop([\"CLTP\"], axis=1)\n",
    "y_val = df_val[\"CLTP\"]\n",
    "del df_val"
   ]
  },
  {
   "cell_type": "code",
   "execution_count": 22,
   "metadata": {},
   "outputs": [],
   "source": [
    "X_val = X_val.drop([\"DATECO_RAZON_SOCIAL_EMPLEADOR\",\"FECHA_NACIMIENTO\",\"time_window\"], axis=1)\n",
    "X_val = pd.get_dummies(X_val)\n",
    "X_val = X_val.fillna(-999)"
   ]
  },
  {
   "cell_type": "code",
   "execution_count": 23,
   "metadata": {},
   "outputs": [],
   "source": [
    "for col in [col for col in X_train.columns if col not in X_val.columns]:\n",
    "    X_val[col] = -999"
   ]
  },
  {
   "cell_type": "code",
   "execution_count": 24,
   "metadata": {},
   "outputs": [],
   "source": [
    "X_val = X_val.drop([col for col in X_val.columns if col not in X_train.columns], axis=1)"
   ]
  },
  {
   "cell_type": "code",
   "execution_count": 25,
   "metadata": {},
   "outputs": [
    {
     "data": {
      "text/plain": [
       "<matplotlib.axes._subplots.AxesSubplot at 0x1439f39af98>"
      ]
     },
     "execution_count": 25,
     "metadata": {},
     "output_type": "execute_result"
    },
    {
     "data": {
      "image/png": "[encoded data removed]",
      "text/plain": [
       "<Figure size 432x288 with 1 Axes>"
      ]
     },
     "metadata": {},
     "output_type": "display_data"
    }
   ],
   "source": [
    "y_val.value_counts().plot.bar()"
   ]
  },
  {
   "cell_type": "markdown",
   "metadata": {},
   "source": [
    "### Model metrics"
   ]
  },
  {
   "cell_type": "code",
   "execution_count": 26,
   "metadata": {},
   "outputs": [],
   "source": [
    "from sklearn.metrics import roc_auc_score,confusion_matrix, accuracy_score, f1_score, recall_score, precision_score, roc_auc_score"
   ]
  },
  {
   "cell_type": "code",
   "execution_count": 31,
   "metadata": {},
   "outputs": [
    {
     "name": "stdout",
     "output_type": "stream",
     "text": [
      "Confusion Matrix\n",
      "[[425990   1282   5305  27264  19102 122874  34963]\n",
      " [     0  17420     48      0      0      0      0]\n",
      " [     1    203  17727     20      0      0      0]\n",
      " [   371     22    433  12686    240   1827     98]\n",
      " [  5990     55    173   1853   1106   3215    656]\n",
      " [  7337     46    187    789    473   3822    974]\n",
      " [  7393     39    112    688    470   4111    910]]\n",
      "\n",
      "Metrics\n",
      "Accuracy: 0.6586262057601867\n",
      "F1_score: [0.78605948 0.95360613 0.84543113 0.4302016  0.06422951 0.0511383\n",
      " 0.03546099] \n"
     ]
    }
   ],
   "source": [
    "predictions = opt_model.predict(X_val)\n",
    "print('Confusion Matrix')\n",
    "print(confusion_matrix(y_val, predictions))\n",
    "print()\n",
    "print('Metrics')\n",
    "print(f'Accuracy: {accuracy_score(y_val, predictions)}')\n",
    "print(f'F1_score: {f1_score(y_val, predictions, average=None)} ')"
   ]
  },
  {
   "cell_type": "code",
   "execution_count": 37,
   "metadata": {},
   "outputs": [],
   "source": [
    "import seaborn as sns"
   ]
  },
  {
   "cell_type": "code",
   "execution_count": 51,
   "metadata": {},
   "outputs": [],
   "source": [
    "cmap = sns.color_palette(\"coolwarm\", 7)"
   ]
  },
  {
   "cell_type": "code",
   "execution_count": 52,
   "metadata": {},
   "outputs": [
    {
     "data": {
      "text/plain": [
       "<matplotlib.axes._subplots.AxesSubplot at 0x143a0070518>"
      ]
     },
     "execution_count": 52,
     "metadata": {},
     "output_type": "execute_result"
    },
    {
     "data": {
      "image/png": "[encoded data removed]",
      "text/plain": [
       "<Figure size 432x288 with 2 Axes>"
      ]
     },
     "metadata": {},
     "output_type": "display_data"
    }
   ],
   "source": [
    "sns.heatmap(confusion_matrix(y_val, predictions), annot=True, fmt=\"d\", linewidths=.5, cmap=cmap) "
   ]
  },
  {
   "cell_type": "code",
   "execution_count": 53,
   "metadata": {},
   "outputs": [
    {
     "data": {
      "text/html": [
       "<div>\n",
       "<style scoped>\n",
       "    .dataframe tbody tr th:only-of-type {\n",
       "        vertical-align: middle;\n",
       "    }\n",
       "\n",
       "    .dataframe tbody tr th {\n",
       "        vertical-align: top;\n",
       "    }\n",
       "\n",
       "    .dataframe thead th {\n",
       "        text-align: right;\n",
       "    }\n",
       "</style>\n",
       "<table border=\"1\" class=\"dataframe\">\n",
       "  <thead>\n",
       "    <tr style=\"text-align: right;\">\n",
       "      <th>Predicted</th>\n",
       "      <th>0</th>\n",
       "      <th>1</th>\n",
       "      <th>2</th>\n",
       "      <th>3</th>\n",
       "      <th>4</th>\n",
       "      <th>5</th>\n",
       "      <th>6</th>\n",
       "      <th>All</th>\n",
       "    </tr>\n",
       "    <tr>\n",
       "      <th>True</th>\n",
       "      <th></th>\n",
       "      <th></th>\n",
       "      <th></th>\n",
       "      <th></th>\n",
       "      <th></th>\n",
       "      <th></th>\n",
       "      <th></th>\n",
       "      <th></th>\n",
       "    </tr>\n",
       "  </thead>\n",
       "  <tbody>\n",
       "    <tr>\n",
       "      <th>0</th>\n",
       "      <td>425990</td>\n",
       "      <td>1282</td>\n",
       "      <td>5305</td>\n",
       "      <td>27264</td>\n",
       "      <td>19102</td>\n",
       "      <td>122874</td>\n",
       "      <td>34963</td>\n",
       "      <td>636780</td>\n",
       "    </tr>\n",
       "    <tr>\n",
       "      <th>1</th>\n",
       "      <td>0</td>\n",
       "      <td>17420</td>\n",
       "      <td>48</td>\n",
       "      <td>0</td>\n",
       "      <td>0</td>\n",
       "      <td>0</td>\n",
       "      <td>0</td>\n",
       "      <td>17468</td>\n",
       "    </tr>\n",
       "    <tr>\n",
       "      <th>2</th>\n",
       "      <td>1</td>\n",
       "      <td>203</td>\n",
       "      <td>17727</td>\n",
       "      <td>20</td>\n",
       "      <td>0</td>\n",
       "      <td>0</td>\n",
       "      <td>0</td>\n",
       "      <td>17951</td>\n",
       "    </tr>\n",
       "    <tr>\n",
       "      <th>3</th>\n",
       "      <td>371</td>\n",
       "      <td>22</td>\n",
       "      <td>433</td>\n",
       "      <td>12686</td>\n",
       "      <td>240</td>\n",
       "      <td>1827</td>\n",
       "      <td>98</td>\n",
       "      <td>15677</td>\n",
       "    </tr>\n",
       "    <tr>\n",
       "      <th>4</th>\n",
       "      <td>5990</td>\n",
       "      <td>55</td>\n",
       "      <td>173</td>\n",
       "      <td>1853</td>\n",
       "      <td>1106</td>\n",
       "      <td>3215</td>\n",
       "      <td>656</td>\n",
       "      <td>13048</td>\n",
       "    </tr>\n",
       "    <tr>\n",
       "      <th>5</th>\n",
       "      <td>7337</td>\n",
       "      <td>46</td>\n",
       "      <td>187</td>\n",
       "      <td>789</td>\n",
       "      <td>473</td>\n",
       "      <td>3822</td>\n",
       "      <td>974</td>\n",
       "      <td>13628</td>\n",
       "    </tr>\n",
       "    <tr>\n",
       "      <th>6</th>\n",
       "      <td>7393</td>\n",
       "      <td>39</td>\n",
       "      <td>112</td>\n",
       "      <td>688</td>\n",
       "      <td>470</td>\n",
       "      <td>4111</td>\n",
       "      <td>910</td>\n",
       "      <td>13723</td>\n",
       "    </tr>\n",
       "    <tr>\n",
       "      <th>All</th>\n",
       "      <td>447082</td>\n",
       "      <td>19067</td>\n",
       "      <td>23985</td>\n",
       "      <td>43300</td>\n",
       "      <td>21391</td>\n",
       "      <td>135849</td>\n",
       "      <td>37601</td>\n",
       "      <td>728275</td>\n",
       "    </tr>\n",
       "  </tbody>\n",
       "</table>\n",
       "</div>"
      ],
      "text/plain": [
       "Predicted       0      1      2      3      4       5      6     All\n",
       "True                                                                \n",
       "0          425990   1282   5305  27264  19102  122874  34963  636780\n",
       "1               0  17420     48      0      0       0      0   17468\n",
       "2               1    203  17727     20      0       0      0   17951\n",
       "3             371     22    433  12686    240    1827     98   15677\n",
       "4            5990     55    173   1853   1106    3215    656   13048\n",
       "5            7337     46    187    789    473    3822    974   13628\n",
       "6            7393     39    112    688    470    4111    910   13723\n",
       "All        447082  19067  23985  43300  21391  135849  37601  728275"
      ]
     },
     "execution_count": 53,
     "metadata": {},
     "output_type": "execute_result"
    }
   ],
   "source": [
    "pd.crosstab(y_val, predictions, rownames=['True'], colnames=['Predicted'], margins=True)"
   ]
  }
 ],
 "metadata": {
  "kernelspec": {
   "display_name": "Python 3",
   "language": "python",
   "name": "python3"
  },
  "language_info": {
   "codemirror_mode": {
    "name": "ipython",
    "version": 3
   },
   "file_extension": ".py",
   "mimetype": "text/x-python",
   "name": "python",
   "nbconvert_exporter": "python",
   "pygments_lexer": "ipython3",
   "version": "3.6.5"
  }
 },
 "nbformat": 4,
 "nbformat_minor": 2
}
