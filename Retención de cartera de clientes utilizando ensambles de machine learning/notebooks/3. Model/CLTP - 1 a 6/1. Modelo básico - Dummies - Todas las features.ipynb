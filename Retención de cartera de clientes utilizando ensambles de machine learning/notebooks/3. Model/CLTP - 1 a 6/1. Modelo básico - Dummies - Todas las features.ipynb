{
 "cells": [
  {
   "cell_type": "code",
   "execution_count": 1,
   "metadata": {},
   "outputs": [],
   "source": [
    "import pandas as pd"
   ]
  },
  {
   "cell_type": "markdown",
   "metadata": {},
   "source": [
    "Loading dataset"
   ]
  },
  {
   "cell_type": "code",
   "execution_count": 2,
   "metadata": {
    "scrolled": true
   },
   "outputs": [],
   "source": [
    "df_train = pd.read_feather(\"../../../data/processed/CLTP_train_set.feather\")"
   ]
  },
  {
   "cell_type": "code",
   "execution_count": 3,
   "metadata": {},
   "outputs": [
    {
     "data": {
      "text/plain": [
       "(2225672, 105)"
      ]
     },
     "execution_count": 3,
     "metadata": {},
     "output_type": "execute_result"
    }
   ],
   "source": [
    "df_train.shape"
   ]
  },
  {
   "cell_type": "code",
   "execution_count": 4,
   "metadata": {},
   "outputs": [
    {
     "data": {
      "text/html": [
       "<div>\n",
       "<style scoped>\n",
       "    .dataframe tbody tr th:only-of-type {\n",
       "        vertical-align: middle;\n",
       "    }\n",
       "\n",
       "    .dataframe tbody tr th {\n",
       "        vertical-align: top;\n",
       "    }\n",
       "\n",
       "    .dataframe thead th {\n",
       "        text-align: right;\n",
       "    }\n",
       "</style>\n",
       "<table border=\"1\" class=\"dataframe\">\n",
       "  <thead>\n",
       "    <tr style=\"text-align: right;\">\n",
       "      <th></th>\n",
       "      <th>ORIGEN</th>\n",
       "      <th>SEXO</th>\n",
       "      <th>TIPO_PERSONA</th>\n",
       "      <th>CLIENTE</th>\n",
       "      <th>ANO_DE_NACIMIENTO</th>\n",
       "      <th>FECHA_NACIMIENTO</th>\n",
       "      <th>ESTADO_CIVIL</th>\n",
       "      <th>DATECO_TRABAJA</th>\n",
       "      <th>DATECO_AUTONOMO</th>\n",
       "      <th>DATECO_RAZON_SOCIAL_EMPLEADOR</th>\n",
       "      <th>...</th>\n",
       "      <th>5__COBRO_SJ</th>\n",
       "      <th>6__COBRO_SJ</th>\n",
       "      <th>polizas_1</th>\n",
       "      <th>polizas_2</th>\n",
       "      <th>polizas_3</th>\n",
       "      <th>polizas_4</th>\n",
       "      <th>polizas_5</th>\n",
       "      <th>polizas_6</th>\n",
       "      <th>CLTP</th>\n",
       "      <th>time_window</th>\n",
       "    </tr>\n",
       "  </thead>\n",
       "  <tbody>\n",
       "    <tr>\n",
       "      <th>0</th>\n",
       "      <td>082</td>\n",
       "      <td>M</td>\n",
       "      <td>F</td>\n",
       "      <td>None</td>\n",
       "      <td>1973.0</td>\n",
       "      <td>28/06/1973</td>\n",
       "      <td>Soltero</td>\n",
       "      <td>None</td>\n",
       "      <td>None</td>\n",
       "      <td>None</td>\n",
       "      <td>...</td>\n",
       "      <td>NaN</td>\n",
       "      <td>NaN</td>\n",
       "      <td>1.0</td>\n",
       "      <td>1.0</td>\n",
       "      <td>1.0</td>\n",
       "      <td>1.0</td>\n",
       "      <td>1.0</td>\n",
       "      <td>1.0</td>\n",
       "      <td>0</td>\n",
       "      <td>1 a 6</td>\n",
       "    </tr>\n",
       "    <tr>\n",
       "      <th>1</th>\n",
       "      <td>082</td>\n",
       "      <td>M</td>\n",
       "      <td>F</td>\n",
       "      <td>None</td>\n",
       "      <td>1941.0</td>\n",
       "      <td>22/01/1941</td>\n",
       "      <td>Soltero</td>\n",
       "      <td>None</td>\n",
       "      <td>None</td>\n",
       "      <td>None</td>\n",
       "      <td>...</td>\n",
       "      <td>NaN</td>\n",
       "      <td>NaN</td>\n",
       "      <td>1.0</td>\n",
       "      <td>1.0</td>\n",
       "      <td>1.0</td>\n",
       "      <td>1.0</td>\n",
       "      <td>1.0</td>\n",
       "      <td>1.0</td>\n",
       "      <td>0</td>\n",
       "      <td>1 a 6</td>\n",
       "    </tr>\n",
       "    <tr>\n",
       "      <th>2</th>\n",
       "      <td>082</td>\n",
       "      <td>M</td>\n",
       "      <td>F</td>\n",
       "      <td>None</td>\n",
       "      <td>NaN</td>\n",
       "      <td>None</td>\n",
       "      <td>None</td>\n",
       "      <td>None</td>\n",
       "      <td>None</td>\n",
       "      <td>None</td>\n",
       "      <td>...</td>\n",
       "      <td>NaN</td>\n",
       "      <td>NaN</td>\n",
       "      <td>1.0</td>\n",
       "      <td>1.0</td>\n",
       "      <td>1.0</td>\n",
       "      <td>1.0</td>\n",
       "      <td>1.0</td>\n",
       "      <td>1.0</td>\n",
       "      <td>0</td>\n",
       "      <td>1 a 6</td>\n",
       "    </tr>\n",
       "    <tr>\n",
       "      <th>3</th>\n",
       "      <td>082</td>\n",
       "      <td>M</td>\n",
       "      <td>F</td>\n",
       "      <td>None</td>\n",
       "      <td>1938.0</td>\n",
       "      <td>13/05/1938</td>\n",
       "      <td>Soltero</td>\n",
       "      <td>None</td>\n",
       "      <td>None</td>\n",
       "      <td>None</td>\n",
       "      <td>...</td>\n",
       "      <td>NaN</td>\n",
       "      <td>NaN</td>\n",
       "      <td>3.0</td>\n",
       "      <td>3.0</td>\n",
       "      <td>3.0</td>\n",
       "      <td>3.0</td>\n",
       "      <td>3.0</td>\n",
       "      <td>1.0</td>\n",
       "      <td>0</td>\n",
       "      <td>1 a 6</td>\n",
       "    </tr>\n",
       "    <tr>\n",
       "      <th>4</th>\n",
       "      <td>082</td>\n",
       "      <td>M</td>\n",
       "      <td>F</td>\n",
       "      <td>None</td>\n",
       "      <td>1953.0</td>\n",
       "      <td>26/10/1953</td>\n",
       "      <td>Casado</td>\n",
       "      <td>None</td>\n",
       "      <td>None</td>\n",
       "      <td>None</td>\n",
       "      <td>...</td>\n",
       "      <td>NaN</td>\n",
       "      <td>NaN</td>\n",
       "      <td>1.0</td>\n",
       "      <td>1.0</td>\n",
       "      <td>1.0</td>\n",
       "      <td>1.0</td>\n",
       "      <td>1.0</td>\n",
       "      <td>1.0</td>\n",
       "      <td>0</td>\n",
       "      <td>1 a 6</td>\n",
       "    </tr>\n",
       "  </tbody>\n",
       "</table>\n",
       "<p>5 rows × 105 columns</p>\n",
       "</div>"
      ],
      "text/plain": [
       "  ORIGEN SEXO TIPO_PERSONA CLIENTE  ANO_DE_NACIMIENTO FECHA_NACIMIENTO  \\\n",
       "0    082    M            F    None             1973.0       28/06/1973   \n",
       "1    082    M            F    None             1941.0       22/01/1941   \n",
       "2    082    M            F    None                NaN             None   \n",
       "3    082    M            F    None             1938.0       13/05/1938   \n",
       "4    082    M            F    None             1953.0       26/10/1953   \n",
       "\n",
       "  ESTADO_CIVIL DATECO_TRABAJA DATECO_AUTONOMO DATECO_RAZON_SOCIAL_EMPLEADOR  \\\n",
       "0      Soltero           None            None                          None   \n",
       "1      Soltero           None            None                          None   \n",
       "2         None           None            None                          None   \n",
       "3      Soltero           None            None                          None   \n",
       "4       Casado           None            None                          None   \n",
       "\n",
       "   ... 5__COBRO_SJ 6__COBRO_SJ  polizas_1  polizas_2  polizas_3  polizas_4  \\\n",
       "0  ...         NaN         NaN        1.0        1.0        1.0        1.0   \n",
       "1  ...         NaN         NaN        1.0        1.0        1.0        1.0   \n",
       "2  ...         NaN         NaN        1.0        1.0        1.0        1.0   \n",
       "3  ...         NaN         NaN        3.0        3.0        3.0        3.0   \n",
       "4  ...         NaN         NaN        1.0        1.0        1.0        1.0   \n",
       "\n",
       "   polizas_5  polizas_6  CLTP  time_window  \n",
       "0        1.0        1.0     0        1 a 6  \n",
       "1        1.0        1.0     0        1 a 6  \n",
       "2        1.0        1.0     0        1 a 6  \n",
       "3        3.0        1.0     0        1 a 6  \n",
       "4        1.0        1.0     0        1 a 6  \n",
       "\n",
       "[5 rows x 105 columns]"
      ]
     },
     "execution_count": 4,
     "metadata": {},
     "output_type": "execute_result"
    }
   ],
   "source": [
    "df_train.head()"
   ]
  },
  {
   "cell_type": "code",
   "execution_count": 5,
   "metadata": {},
   "outputs": [],
   "source": [
    "X_train = df_train.drop([\"CLTP\"], axis=1)\n",
    "y_train = df_train[\"CLTP\"]\n",
    "del df_train"
   ]
  },
  {
   "cell_type": "code",
   "execution_count": 6,
   "metadata": {},
   "outputs": [
    {
     "data": {
      "text/plain": [
       "0    0.860303\n",
       "1    0.029497\n",
       "2    0.026687\n",
       "3    0.024976\n",
       "4    0.020800\n",
       "5    0.019600\n",
       "6    0.018137\n",
       "Name: CLTP, dtype: float64"
      ]
     },
     "execution_count": 6,
     "metadata": {},
     "output_type": "execute_result"
    }
   ],
   "source": [
    "y_train.value_counts(normalize=True)"
   ]
  },
  {
   "cell_type": "markdown",
   "metadata": {},
   "source": [
    "## Training"
   ]
  },
  {
   "cell_type": "code",
   "execution_count": 7,
   "metadata": {},
   "outputs": [],
   "source": [
    "from sklearn.utils.class_weight import compute_class_weight "
   ]
  },
  {
   "cell_type": "code",
   "execution_count": 8,
   "metadata": {},
   "outputs": [
    {
     "data": {
      "text/plain": [
       "array([0.16605439, 4.84315526, 5.35310699, 5.7198162 , 6.86812854,\n",
       "       7.28865834, 7.876366  ])"
      ]
     },
     "execution_count": 8,
     "metadata": {},
     "output_type": "execute_result"
    }
   ],
   "source": [
    "compute_class_weight(\"balanced\", sorted(y_train.unique()), y_train)"
   ]
  },
  {
   "cell_type": "code",
   "execution_count": 9,
   "metadata": {},
   "outputs": [],
   "source": [
    "weights = {\n",
    "    0: 1,\n",
    "    1: 5,\n",
    "    2: 5,\n",
    "    3: 10,\n",
    "    4: 30,\n",
    "    5: 30,\n",
    "    6: 30,\n",
    "}"
   ]
  },
  {
   "cell_type": "markdown",
   "metadata": {},
   "source": [
    "Dummify "
   ]
  },
  {
   "cell_type": "code",
   "execution_count": 10,
   "metadata": {},
   "outputs": [],
   "source": [
    "X_train = X_train.drop([\"DATECO_RAZON_SOCIAL_EMPLEADOR\",\"FECHA_NACIMIENTO\",\"time_window\"], axis=1)"
   ]
  },
  {
   "cell_type": "code",
   "execution_count": 11,
   "metadata": {},
   "outputs": [],
   "source": [
    "X_train = pd.get_dummies(X_train)"
   ]
  },
  {
   "cell_type": "code",
   "execution_count": 12,
   "metadata": {},
   "outputs": [],
   "source": [
    "X_train = X_train.fillna(-999)"
   ]
  },
  {
   "cell_type": "code",
   "execution_count": 13,
   "metadata": {},
   "outputs": [
    {
     "name": "stderr",
     "output_type": "stream",
     "text": [
      "[Parallel(n_jobs=-1)]: Using backend ThreadingBackend with 8 concurrent workers.\n"
     ]
    },
    {
     "name": "stdout",
     "output_type": "stream",
     "text": [
      "building tree 1 of 50building tree 2 of 50building tree 3 of 50building tree 4 of 50building tree 5 of 50building tree 6 of 50\n",
      "\n",
      "\n",
      "\n",
      "\n",
      "\n",
      "building tree 7 of 50building tree 8 of 50\n",
      "\n",
      "building tree 9 of 50\n",
      "building tree 10 of 50\n",
      "building tree 11 of 50\n",
      "building tree 12 of 50\n",
      "building tree 13 of 50\n",
      "building tree 14 of 50\n",
      "building tree 15 of 50\n",
      "building tree 16 of 50\n",
      "building tree 17 of 50\n",
      "building tree 18 of 50\n",
      "building tree 19 of 50\n",
      "building tree 20 of 50\n",
      "building tree 21 of 50\n",
      "building tree 22 of 50\n",
      "building tree 23 of 50\n",
      "building tree 24 of 50\n",
      "building tree 25 of 50\n",
      "building tree 26 of 50\n",
      "building tree 27 of 50\n",
      "building tree 28 of 50\n",
      "building tree 29 of 50\n",
      "building tree 30 of 50\n",
      "building tree 31 of 50\n",
      "building tree 32 of 50\n"
     ]
    },
    {
     "name": "stderr",
     "output_type": "stream",
     "text": [
      "[Parallel(n_jobs=-1)]: Done  25 tasks      | elapsed:  2.7min\n"
     ]
    },
    {
     "name": "stdout",
     "output_type": "stream",
     "text": [
      "building tree 33 of 50\n",
      "building tree 34 of 50\n",
      "building tree 35 of 50\n",
      "building tree 36 of 50\n",
      "building tree 37 of 50\n",
      "building tree 38 of 50\n",
      "building tree 39 of 50\n",
      "building tree 40 of 50\n",
      "building tree 41 of 50\n",
      "building tree 42 of 50\n",
      "building tree 43 of 50\n",
      "building tree 44 of 50\n",
      "building tree 45 of 50\n",
      "building tree 46 of 50\n",
      "building tree 47 of 50\n",
      "building tree 48 of 50\n",
      "building tree 49 of 50\n",
      "building tree 50 of 50\n"
     ]
    },
    {
     "name": "stderr",
     "output_type": "stream",
     "text": [
      "[Parallel(n_jobs=-1)]: Done  50 out of  50 | elapsed:  4.6min finished\n"
     ]
    },
    {
     "data": {
      "text/plain": [
       "RandomForestClassifier(bootstrap=True,\n",
       "            class_weight={0: 1, 1: 5, 2: 5, 3: 10, 4: 30, 5: 30, 6: 30},\n",
       "            criterion='gini', max_depth=None, max_features='auto',\n",
       "            max_leaf_nodes=None, min_impurity_decrease=0.0,\n",
       "            min_impurity_split=None, min_samples_leaf=1,\n",
       "            min_samples_split=2, min_weight_fraction_leaf=0.0,\n",
       "            n_estimators=50, n_jobs=-1, oob_score=False, random_state=None,\n",
       "            verbose=2, warm_start=False)"
      ]
     },
     "execution_count": 13,
     "metadata": {},
     "output_type": "execute_result"
    }
   ],
   "source": [
    "from sklearn.ensemble import RandomForestClassifier\n",
    "rf = RandomForestClassifier(n_estimators=50, class_weight=weights, n_jobs=-1, verbose=2)\n",
    "rf.fit(X_train, y_train)  "
   ]
  },
  {
   "cell_type": "markdown",
   "metadata": {},
   "source": [
    "Dump training columns"
   ]
  },
  {
   "cell_type": "code",
   "execution_count": 14,
   "metadata": {},
   "outputs": [],
   "source": [
    "cols = list(X_train.columns)"
   ]
  },
  {
   "cell_type": "code",
   "execution_count": 15,
   "metadata": {},
   "outputs": [],
   "source": [
    "import pickle\n",
    "with open('../../../src/models/Training columns - CLTP - Primer modelo basico - dummies.md', 'wb') as file:\n",
    "    pickle.dump(cols, file, pickle.HIGHEST_PROTOCOL)"
   ]
  },
  {
   "cell_type": "markdown",
   "metadata": {},
   "source": [
    "### Feature importance"
   ]
  },
  {
   "cell_type": "code",
   "execution_count": 16,
   "metadata": {
    "scrolled": true
   },
   "outputs": [
    {
     "data": {
      "text/plain": [
       "<matplotlib.axes._subplots.AxesSubplot at 0x169582af898>"
      ]
     },
     "execution_count": 16,
     "metadata": {},
     "output_type": "execute_result"
    }
   ],
   "source": [
    "pd.DataFrame(rf.feature_importances_,index=X_train.columns, columns=['importance']\n",
    "                                   ).sort_values('importance', ascending=False).iloc[0:20].plot.bar()"
   ]
  },
  {
   "cell_type": "markdown",
   "metadata": {},
   "source": [
    "### Validation Dataset"
   ]
  },
  {
   "cell_type": "code",
   "execution_count": 17,
   "metadata": {},
   "outputs": [],
   "source": [
    "df_val = pd.read_feather(\"../../../data/processed/CLTP_test_set.feather\")"
   ]
  },
  {
   "cell_type": "code",
   "execution_count": 18,
   "metadata": {},
   "outputs": [
    {
     "data": {
      "text/plain": [
       "(1439233, 105)"
      ]
     },
     "execution_count": 18,
     "metadata": {},
     "output_type": "execute_result"
    }
   ],
   "source": [
    "df_val.shape"
   ]
  },
  {
   "cell_type": "code",
   "execution_count": 19,
   "metadata": {},
   "outputs": [
    {
     "data": {
      "text/html": [
       "<div>\n",
       "<style scoped>\n",
       "    .dataframe tbody tr th:only-of-type {\n",
       "        vertical-align: middle;\n",
       "    }\n",
       "\n",
       "    .dataframe tbody tr th {\n",
       "        vertical-align: top;\n",
       "    }\n",
       "\n",
       "    .dataframe thead th {\n",
       "        text-align: right;\n",
       "    }\n",
       "</style>\n",
       "<table border=\"1\" class=\"dataframe\">\n",
       "  <thead>\n",
       "    <tr style=\"text-align: right;\">\n",
       "      <th></th>\n",
       "      <th>ORIGEN</th>\n",
       "      <th>SEXO</th>\n",
       "      <th>TIPO_PERSONA</th>\n",
       "      <th>CLIENTE</th>\n",
       "      <th>ANO_DE_NACIMIENTO</th>\n",
       "      <th>FECHA_NACIMIENTO</th>\n",
       "      <th>ESTADO_CIVIL</th>\n",
       "      <th>DATECO_TRABAJA</th>\n",
       "      <th>DATECO_AUTONOMO</th>\n",
       "      <th>DATECO_RAZON_SOCIAL_EMPLEADOR</th>\n",
       "      <th>...</th>\n",
       "      <th>5__COBRO_SJ</th>\n",
       "      <th>6__COBRO_SJ</th>\n",
       "      <th>polizas_1</th>\n",
       "      <th>polizas_2</th>\n",
       "      <th>polizas_3</th>\n",
       "      <th>polizas_4</th>\n",
       "      <th>polizas_5</th>\n",
       "      <th>polizas_6</th>\n",
       "      <th>CLTP</th>\n",
       "      <th>time_window</th>\n",
       "    </tr>\n",
       "  </thead>\n",
       "  <tbody>\n",
       "    <tr>\n",
       "      <th>0</th>\n",
       "      <td>082</td>\n",
       "      <td>M</td>\n",
       "      <td>F</td>\n",
       "      <td>None</td>\n",
       "      <td>1973.0</td>\n",
       "      <td>28/06/1973</td>\n",
       "      <td>Soltero</td>\n",
       "      <td>None</td>\n",
       "      <td>None</td>\n",
       "      <td>None</td>\n",
       "      <td>...</td>\n",
       "      <td>NaN</td>\n",
       "      <td>NaN</td>\n",
       "      <td>1.0</td>\n",
       "      <td>1.0</td>\n",
       "      <td>1.0</td>\n",
       "      <td>1.0</td>\n",
       "      <td>1.0</td>\n",
       "      <td>1.0</td>\n",
       "      <td>0</td>\n",
       "      <td>6 a 11</td>\n",
       "    </tr>\n",
       "    <tr>\n",
       "      <th>1</th>\n",
       "      <td>082</td>\n",
       "      <td>M</td>\n",
       "      <td>F</td>\n",
       "      <td>None</td>\n",
       "      <td>1941.0</td>\n",
       "      <td>22/01/1941</td>\n",
       "      <td>Soltero</td>\n",
       "      <td>None</td>\n",
       "      <td>None</td>\n",
       "      <td>None</td>\n",
       "      <td>...</td>\n",
       "      <td>NaN</td>\n",
       "      <td>NaN</td>\n",
       "      <td>1.0</td>\n",
       "      <td>1.0</td>\n",
       "      <td>1.0</td>\n",
       "      <td>1.0</td>\n",
       "      <td>1.0</td>\n",
       "      <td>1.0</td>\n",
       "      <td>0</td>\n",
       "      <td>6 a 11</td>\n",
       "    </tr>\n",
       "    <tr>\n",
       "      <th>2</th>\n",
       "      <td>082</td>\n",
       "      <td>M</td>\n",
       "      <td>F</td>\n",
       "      <td>None</td>\n",
       "      <td>NaN</td>\n",
       "      <td>None</td>\n",
       "      <td>None</td>\n",
       "      <td>None</td>\n",
       "      <td>None</td>\n",
       "      <td>None</td>\n",
       "      <td>...</td>\n",
       "      <td>NaN</td>\n",
       "      <td>NaN</td>\n",
       "      <td>1.0</td>\n",
       "      <td>1.0</td>\n",
       "      <td>1.0</td>\n",
       "      <td>1.0</td>\n",
       "      <td>1.0</td>\n",
       "      <td>1.0</td>\n",
       "      <td>0</td>\n",
       "      <td>6 a 11</td>\n",
       "    </tr>\n",
       "    <tr>\n",
       "      <th>3</th>\n",
       "      <td>082</td>\n",
       "      <td>M</td>\n",
       "      <td>F</td>\n",
       "      <td>None</td>\n",
       "      <td>1938.0</td>\n",
       "      <td>13/05/1938</td>\n",
       "      <td>Soltero</td>\n",
       "      <td>None</td>\n",
       "      <td>None</td>\n",
       "      <td>None</td>\n",
       "      <td>...</td>\n",
       "      <td>NaN</td>\n",
       "      <td>NaN</td>\n",
       "      <td>1.0</td>\n",
       "      <td>1.0</td>\n",
       "      <td>1.0</td>\n",
       "      <td>0.0</td>\n",
       "      <td>1.0</td>\n",
       "      <td>1.0</td>\n",
       "      <td>0</td>\n",
       "      <td>6 a 11</td>\n",
       "    </tr>\n",
       "    <tr>\n",
       "      <th>4</th>\n",
       "      <td>082</td>\n",
       "      <td>M</td>\n",
       "      <td>F</td>\n",
       "      <td>None</td>\n",
       "      <td>1953.0</td>\n",
       "      <td>26/10/1953</td>\n",
       "      <td>Casado</td>\n",
       "      <td>None</td>\n",
       "      <td>None</td>\n",
       "      <td>None</td>\n",
       "      <td>...</td>\n",
       "      <td>NaN</td>\n",
       "      <td>NaN</td>\n",
       "      <td>1.0</td>\n",
       "      <td>1.0</td>\n",
       "      <td>1.0</td>\n",
       "      <td>1.0</td>\n",
       "      <td>1.0</td>\n",
       "      <td>1.0</td>\n",
       "      <td>0</td>\n",
       "      <td>6 a 11</td>\n",
       "    </tr>\n",
       "  </tbody>\n",
       "</table>\n",
       "<p>5 rows × 105 columns</p>\n",
       "</div>"
      ],
      "text/plain": [
       "  ORIGEN SEXO TIPO_PERSONA CLIENTE  ANO_DE_NACIMIENTO FECHA_NACIMIENTO  \\\n",
       "0    082    M            F    None             1973.0       28/06/1973   \n",
       "1    082    M            F    None             1941.0       22/01/1941   \n",
       "2    082    M            F    None                NaN             None   \n",
       "3    082    M            F    None             1938.0       13/05/1938   \n",
       "4    082    M            F    None             1953.0       26/10/1953   \n",
       "\n",
       "  ESTADO_CIVIL DATECO_TRABAJA DATECO_AUTONOMO DATECO_RAZON_SOCIAL_EMPLEADOR  \\\n",
       "0      Soltero           None            None                          None   \n",
       "1      Soltero           None            None                          None   \n",
       "2         None           None            None                          None   \n",
       "3      Soltero           None            None                          None   \n",
       "4       Casado           None            None                          None   \n",
       "\n",
       "   ... 5__COBRO_SJ 6__COBRO_SJ  polizas_1  polizas_2  polizas_3  polizas_4  \\\n",
       "0  ...         NaN         NaN        1.0        1.0        1.0        1.0   \n",
       "1  ...         NaN         NaN        1.0        1.0        1.0        1.0   \n",
       "2  ...         NaN         NaN        1.0        1.0        1.0        1.0   \n",
       "3  ...         NaN         NaN        1.0        1.0        1.0        0.0   \n",
       "4  ...         NaN         NaN        1.0        1.0        1.0        1.0   \n",
       "\n",
       "   polizas_5  polizas_6  CLTP  time_window  \n",
       "0        1.0        1.0     0       6 a 11  \n",
       "1        1.0        1.0     0       6 a 11  \n",
       "2        1.0        1.0     0       6 a 11  \n",
       "3        1.0        1.0     0       6 a 11  \n",
       "4        1.0        1.0     0       6 a 11  \n",
       "\n",
       "[5 rows x 105 columns]"
      ]
     },
     "execution_count": 19,
     "metadata": {},
     "output_type": "execute_result"
    }
   ],
   "source": [
    "df_val.head()"
   ]
  },
  {
   "cell_type": "markdown",
   "metadata": {},
   "source": [
    "### Model metrics"
   ]
  },
  {
   "cell_type": "code",
   "execution_count": 20,
   "metadata": {},
   "outputs": [],
   "source": [
    "from sklearn.metrics import roc_auc_score,confusion_matrix, accuracy_score, f1_score, recall_score, precision_score, roc_auc_score"
   ]
  },
  {
   "cell_type": "code",
   "execution_count": 21,
   "metadata": {},
   "outputs": [],
   "source": [
    "X_val = df_val.drop([\"CLTP\"], axis=1)\n",
    "y_val = df_val[\"CLTP\"]\n",
    "del df_val"
   ]
  },
  {
   "cell_type": "code",
   "execution_count": 22,
   "metadata": {},
   "outputs": [],
   "source": [
    "X_val = X_val.drop([\"DATECO_RAZON_SOCIAL_EMPLEADOR\",\"FECHA_NACIMIENTO\",\"time_window\"], axis=1)\n",
    "X_val = pd.get_dummies(X_val)\n",
    "X_val = X_val.fillna(-999)"
   ]
  },
  {
   "cell_type": "code",
   "execution_count": 23,
   "metadata": {},
   "outputs": [
    {
     "data": {
      "text/plain": [
       "['ORIGEN_1254311',\n",
       " 'ORIGEN_125514',\n",
       " 'ORIGEN_525',\n",
       " 'ORIGEN_FIACREOB18',\n",
       " 'ORIGEN_FIAOTR0918',\n",
       " 'ORIGEN_FIAOTR1018',\n",
       " 'ORIGEN_FIAOTR1118',\n",
       " 'ORIGEN_NAR090822',\n",
       " 'ORIGEN_NAR130228B']"
      ]
     },
     "execution_count": 23,
     "metadata": {},
     "output_type": "execute_result"
    }
   ],
   "source": [
    "[col for col in X_val.columns if col not in X_train.columns]"
   ]
  },
  {
   "cell_type": "code",
   "execution_count": 24,
   "metadata": {},
   "outputs": [],
   "source": [
    "for col in [col for col in X_train.columns if col not in X_val.columns]:\n",
    "    X_val[col] = -999"
   ]
  },
  {
   "cell_type": "markdown",
   "metadata": {},
   "source": [
    "**REVIEW THIS LATER**"
   ]
  },
  {
   "cell_type": "code",
   "execution_count": 25,
   "metadata": {},
   "outputs": [],
   "source": [
    "X_val = X_val.drop([col for col in X_val.columns if col not in X_train.columns], axis=1)"
   ]
  },
  {
   "cell_type": "code",
   "execution_count": 26,
   "metadata": {},
   "outputs": [
    {
     "name": "stderr",
     "output_type": "stream",
     "text": [
      "[Parallel(n_jobs=8)]: Using backend ThreadingBackend with 8 concurrent workers.\n",
      "[Parallel(n_jobs=8)]: Done  25 tasks      | elapsed:    5.4s\n",
      "[Parallel(n_jobs=8)]: Done  50 out of  50 | elapsed:    9.3s finished\n"
     ]
    },
    {
     "name": "stdout",
     "output_type": "stream",
     "text": [
      "Confusion Matrix\n",
      "[[1249923     877    3841    5445     492       1       4]\n",
      " [     15   33598      15       0       0       0       0]\n",
      " [    221      11   29936       0       0       0       0]\n",
      " [  14218       3      12   15847     115       0       0]\n",
      " [  26477      78     168     810    1218       5       1]\n",
      " [  27662      59     217     302      30      20       2]\n",
      " [  26939      53     171     225      15       0     207]]\n",
      "\n",
      "Metrics\n",
      "Accuracy: 0.9246237405618132\n",
      "F1_score: [0.95925155 0.9837352  0.92784528 0.59999243 0.07953766 0.00141253\n",
      " 0.01487924] \n"
     ]
    }
   ],
   "source": [
    "predictions = rf.predict(X_val)\n",
    "print('Confusion Matrix')\n",
    "print(confusion_matrix(y_val, predictions))\n",
    "print()\n",
    "print('Metrics')\n",
    "print(f'Accuracy: {accuracy_score(y_val, predictions)}')\n",
    "print(f'F1_score: {f1_score(y_val, predictions, average=None)} ')"
   ]
  },
  {
   "cell_type": "code",
   "execution_count": 27,
   "metadata": {},
   "outputs": [],
   "source": [
    "import seaborn as sns"
   ]
  },
  {
   "cell_type": "code",
   "execution_count": 28,
   "metadata": {},
   "outputs": [],
   "source": [
    "cmap = sns.color_palette(\"coolwarm\", 7)"
   ]
  },
  {
   "cell_type": "code",
   "execution_count": 38,
   "metadata": {},
   "outputs": [
    {
     "data": {
      "text/plain": [
       "<matplotlib.axes._subplots.AxesSubplot at 0x1695bc0b080>"
      ]
     },
     "execution_count": 38,
     "metadata": {},
     "output_type": "execute_result"
    },
    {
     "data": {
      "image/png": "[encoded data removed]",
      "text/plain": [
       "<Figure size 432x288 with 2 Axes>"
      ]
     },
     "metadata": {},
     "output_type": "display_data"
    }
   ],
   "source": [
    "sns.heatmap(confusion_matrix(y_val, predictions), annot=True, fmt=\"d\", linewidths=.5, cmap=cmap) "
   ]
  },
  {
   "cell_type": "code",
   "execution_count": 34,
   "metadata": {},
   "outputs": [
    {
     "data": {
      "text/html": [
       "<div>\n",
       "<style scoped>\n",
       "    .dataframe tbody tr th:only-of-type {\n",
       "        vertical-align: middle;\n",
       "    }\n",
       "\n",
       "    .dataframe tbody tr th {\n",
       "        vertical-align: top;\n",
       "    }\n",
       "\n",
       "    .dataframe thead th {\n",
       "        text-align: right;\n",
       "    }\n",
       "</style>\n",
       "<table border=\"1\" class=\"dataframe\">\n",
       "  <thead>\n",
       "    <tr style=\"text-align: right;\">\n",
       "      <th>Predicted</th>\n",
       "      <th>0</th>\n",
       "      <th>1</th>\n",
       "      <th>2</th>\n",
       "      <th>3</th>\n",
       "      <th>4</th>\n",
       "      <th>5</th>\n",
       "      <th>6</th>\n",
       "      <th>All</th>\n",
       "    </tr>\n",
       "    <tr>\n",
       "      <th>True</th>\n",
       "      <th></th>\n",
       "      <th></th>\n",
       "      <th></th>\n",
       "      <th></th>\n",
       "      <th></th>\n",
       "      <th></th>\n",
       "      <th></th>\n",
       "      <th></th>\n",
       "    </tr>\n",
       "  </thead>\n",
       "  <tbody>\n",
       "    <tr>\n",
       "      <th>0</th>\n",
       "      <td>1249923</td>\n",
       "      <td>877</td>\n",
       "      <td>3841</td>\n",
       "      <td>5445</td>\n",
       "      <td>492</td>\n",
       "      <td>1</td>\n",
       "      <td>4</td>\n",
       "      <td>1260583</td>\n",
       "    </tr>\n",
       "    <tr>\n",
       "      <th>1</th>\n",
       "      <td>15</td>\n",
       "      <td>33598</td>\n",
       "      <td>15</td>\n",
       "      <td>0</td>\n",
       "      <td>0</td>\n",
       "      <td>0</td>\n",
       "      <td>0</td>\n",
       "      <td>33628</td>\n",
       "    </tr>\n",
       "    <tr>\n",
       "      <th>2</th>\n",
       "      <td>221</td>\n",
       "      <td>11</td>\n",
       "      <td>29936</td>\n",
       "      <td>0</td>\n",
       "      <td>0</td>\n",
       "      <td>0</td>\n",
       "      <td>0</td>\n",
       "      <td>30168</td>\n",
       "    </tr>\n",
       "    <tr>\n",
       "      <th>3</th>\n",
       "      <td>14218</td>\n",
       "      <td>3</td>\n",
       "      <td>12</td>\n",
       "      <td>15847</td>\n",
       "      <td>115</td>\n",
       "      <td>0</td>\n",
       "      <td>0</td>\n",
       "      <td>30195</td>\n",
       "    </tr>\n",
       "    <tr>\n",
       "      <th>4</th>\n",
       "      <td>26477</td>\n",
       "      <td>78</td>\n",
       "      <td>168</td>\n",
       "      <td>810</td>\n",
       "      <td>1218</td>\n",
       "      <td>5</td>\n",
       "      <td>1</td>\n",
       "      <td>28757</td>\n",
       "    </tr>\n",
       "    <tr>\n",
       "      <th>5</th>\n",
       "      <td>27662</td>\n",
       "      <td>59</td>\n",
       "      <td>217</td>\n",
       "      <td>302</td>\n",
       "      <td>30</td>\n",
       "      <td>20</td>\n",
       "      <td>2</td>\n",
       "      <td>28292</td>\n",
       "    </tr>\n",
       "    <tr>\n",
       "      <th>6</th>\n",
       "      <td>26939</td>\n",
       "      <td>53</td>\n",
       "      <td>171</td>\n",
       "      <td>225</td>\n",
       "      <td>15</td>\n",
       "      <td>0</td>\n",
       "      <td>207</td>\n",
       "      <td>27610</td>\n",
       "    </tr>\n",
       "    <tr>\n",
       "      <th>All</th>\n",
       "      <td>1345455</td>\n",
       "      <td>34679</td>\n",
       "      <td>34360</td>\n",
       "      <td>22629</td>\n",
       "      <td>1870</td>\n",
       "      <td>26</td>\n",
       "      <td>214</td>\n",
       "      <td>1439233</td>\n",
       "    </tr>\n",
       "  </tbody>\n",
       "</table>\n",
       "</div>"
      ],
      "text/plain": [
       "Predicted        0      1      2      3     4   5    6      All\n",
       "True                                                           \n",
       "0          1249923    877   3841   5445   492   1    4  1260583\n",
       "1               15  33598     15      0     0   0    0    33628\n",
       "2              221     11  29936      0     0   0    0    30168\n",
       "3            14218      3     12  15847   115   0    0    30195\n",
       "4            26477     78    168    810  1218   5    1    28757\n",
       "5            27662     59    217    302    30  20    2    28292\n",
       "6            26939     53    171    225    15   0  207    27610\n",
       "All        1345455  34679  34360  22629  1870  26  214  1439233"
      ]
     },
     "execution_count": 34,
     "metadata": {},
     "output_type": "execute_result"
    }
   ],
   "source": [
    "pd.crosstab(y_val, predictions, rownames=['True'], colnames=['Predicted'], margins=True)"
   ]
  },
  {
   "cell_type": "markdown",
   "metadata": {},
   "source": [
    "#### Dumping model"
   ]
  },
  {
   "cell_type": "code",
   "execution_count": 31,
   "metadata": {},
   "outputs": [],
   "source": [
    "import pickle"
   ]
  },
  {
   "cell_type": "code",
   "execution_count": 32,
   "metadata": {},
   "outputs": [
    {
     "ename": "FileNotFoundError",
     "evalue": "[Errno 2] No such file or directory: '../../src/models/Primer modelo basico - dummies.md'",
     "output_type": "error",
     "traceback": [
      "\u001b[1;31m---------------------------------------------------------------------------\u001b[0m",
      "\u001b[1;31mFileNotFoundError\u001b[0m                         Traceback (most recent call last)",
      "\u001b[1;32m<ipython-input-32-4726a1ebd7a7>\u001b[0m in \u001b[0;36m<module>\u001b[1;34m()\u001b[0m\n\u001b[1;32m----> 1\u001b[1;33m \u001b[1;32mwith\u001b[0m \u001b[0mopen\u001b[0m\u001b[1;33m(\u001b[0m\u001b[1;34m'../../src/models/Primer modelo basico - dummies.md'\u001b[0m\u001b[1;33m,\u001b[0m \u001b[1;34m'wb'\u001b[0m\u001b[1;33m)\u001b[0m \u001b[1;32mas\u001b[0m \u001b[0mfile\u001b[0m\u001b[1;33m:\u001b[0m\u001b[1;33m\u001b[0m\u001b[0m\n\u001b[0m\u001b[0;32m      2\u001b[0m     \u001b[0mpickle\u001b[0m\u001b[1;33m.\u001b[0m\u001b[0mdump\u001b[0m\u001b[1;33m(\u001b[0m\u001b[0mrf\u001b[0m\u001b[1;33m,\u001b[0m \u001b[0mfile\u001b[0m\u001b[1;33m,\u001b[0m \u001b[0mpickle\u001b[0m\u001b[1;33m.\u001b[0m\u001b[0mHIGHEST_PROTOCOL\u001b[0m\u001b[1;33m)\u001b[0m\u001b[1;33m\u001b[0m\u001b[0m\n",
      "\u001b[1;31mFileNotFoundError\u001b[0m: [Errno 2] No such file or directory: '../../src/models/Primer modelo basico - dummies.md'"
     ]
    }
   ],
   "source": [
    "with open('../../src/models/Primer modelo basico - dummies.md', 'wb') as file:\n",
    "    pickle.dump(rf, file, pickle.HIGHEST_PROTOCOL)"
   ]
  },
  {
   "cell_type": "markdown",
   "metadata": {},
   "source": []
  }
 ],
 "metadata": {
  "kernelspec": {
   "display_name": "Python 3",
   "language": "python",
   "name": "python3"
  },
  "language_info": {
   "codemirror_mode": {
    "name": "ipython",
    "version": 3
   },
   "file_extension": ".py",
   "mimetype": "text/x-python",
   "name": "python",
   "nbconvert_exporter": "python",
   "pygments_lexer": "ipython3",
   "version": "3.6.5"
  }
 },
 "nbformat": 4,
 "nbformat_minor": 2
}
