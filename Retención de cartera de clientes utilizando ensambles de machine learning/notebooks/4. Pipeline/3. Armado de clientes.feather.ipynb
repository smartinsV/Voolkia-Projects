{
 "cells": [
  {
   "cell_type": "code",
   "execution_count": 1,
   "metadata": {},
   "outputs": [],
   "source": [
    "import pandas as pd\n",
    "pd.set_option(\"display.max_columns\", 500)\n",
    "pd.set_option(\"display.max_rows\", 500)"
   ]
  },
  {
   "cell_type": "code",
   "execution_count": 2,
   "metadata": {},
   "outputs": [],
   "source": [
    "table = \"TB_CIF.tsv\"\n",
    "location = \"../../../data/raw\"\n",
    "sep = '\\t'\n",
    "encoding = 'latin1'\n",
    "decimal = ','"
   ]
  },
  {
   "cell_type": "markdown",
   "metadata": {},
   "source": [
    "## Checking columns to remove from sample"
   ]
  },
  {
   "cell_type": "code",
   "execution_count": 3,
   "metadata": {},
   "outputs": [
    {
     "name": "stderr",
     "output_type": "stream",
     "text": [
      "/home/voolkia/anaconda3/envs/test/lib/python3.6/site-packages/IPython/core/interactiveshell.py:3020: DtypeWarning: Columns (10) have mixed types. Specify dtype option on import or set low_memory=False.\n",
      "  interactivity=interactivity, compiler=compiler, result=result)\n"
     ]
    }
   ],
   "source": [
    "for chunk in pd.read_csv(f\"{location}/{table}\",\n",
    "                         sep=sep,\n",
    "                         encoding=encoding,\n",
    "                         decimal=decimal,\n",
    "                         chunksize=5000000):\n",
    "    df = chunk\n",
    "    break"
   ]
  },
  {
   "cell_type": "code",
   "execution_count": 4,
   "metadata": {},
   "outputs": [
    {
     "data": {
      "text/plain": [
       "['ANO_DE_NACIMIENTO',\n",
       " 'CLIENTE',\n",
       " 'DATECO_AUTONOMO',\n",
       " 'DATECO_INGRESO_FAMILIAR',\n",
       " 'DATECO_INGRESO_PERSONAL',\n",
       " 'DATECO_RAZON_SOCIAL_EMPLEADOR',\n",
       " 'DATECO_TIPO_ACTIVIDAD',\n",
       " 'DATECO_TRABAJA',\n",
       " 'DATMAR_CANTIDAD_HIJOS',\n",
       " 'DATMAR_COMPLETO_ESTUDIOS',\n",
       " 'DATMAR_NIVEL_EDUCACION',\n",
       " 'DOMICILIO_CODIGO_POSTAL',\n",
       " 'DOMICILIO_LATITUD',\n",
       " 'DOMICILIO_LONGITUD',\n",
       " 'ESTADO_CIVIL',\n",
       " 'FECHA_DEFUNCION',\n",
       " 'FECHA_NACIMIENTO',\n",
       " 'HABILITADO',\n",
       " 'ID',\n",
       " 'NACIONALIDAD',\n",
       " 'ORIGEN',\n",
       " 'POSICION_IB',\n",
       " 'POSICION_IVA',\n",
       " 'SEXO',\n",
       " 'TIPO_PERSONA',\n",
       " 'VALIDO']"
      ]
     },
     "execution_count": 4,
     "metadata": {},
     "output_type": "execute_result"
    }
   ],
   "source": [
    "sorted(df.columns)"
   ]
  },
  {
   "cell_type": "code",
   "execution_count": 3,
   "metadata": {},
   "outputs": [],
   "source": [
    "usable_cols = [\n",
    " 'ANO_DE_NACIMIENTO',\n",
    " 'CLIENTE',\n",
    " 'DATECO_AUTONOMO',\n",
    " 'DATECO_RAZON_SOCIAL_EMPLEADOR',\n",
    " 'DATECO_TRABAJA',\n",
    " 'DATMAR_COMPLETO_ESTUDIOS',\n",
    " 'DATMAR_NIVEL_EDUCACION',\n",
    " 'ESTADO_CIVIL',\n",
    " 'FECHA_NACIMIENTO',\n",
    " 'ID',\n",
    " 'ORIGEN',\n",
    " 'POSICION_IVA',\n",
    " 'SEXO',\n",
    " 'TIPO_PERSONA']\n"
   ]
  },
  {
   "cell_type": "code",
   "execution_count": 1,
   "metadata": {},
   "outputs": [],
   "source": [
    "all_  =['ANO_DE_NACIMIENTO',\n",
    " 'CLIENTE',\n",
    " 'DATECO_AUTONOMO',\n",
    " 'DATECO_INGRESO_FAMILIAR',\n",
    " 'DATECO_INGRESO_PERSONAL',\n",
    " 'DATECO_RAZON_SOCIAL_EMPLEADOR',\n",
    " 'DATECO_TIPO_ACTIVIDAD',\n",
    " 'DATECO_TRABAJA',\n",
    " 'DATMAR_CANTIDAD_HIJOS',\n",
    " 'DATMAR_COMPLETO_ESTUDIOS',\n",
    " 'DATMAR_NIVEL_EDUCACION',\n",
    " 'DOMICILIO_CODIGO_POSTAL',\n",
    " 'DOMICILIO_LATITUD',\n",
    " 'DOMICILIO_LONGITUD',\n",
    " 'ESTADO_CIVIL',\n",
    " 'FECHA_DEFUNCION',\n",
    " 'FECHA_NACIMIENTO',\n",
    " 'HABILITADO',\n",
    " 'ID',\n",
    " 'NACIONALIDAD',\n",
    " 'ORIGEN',\n",
    " 'POSICION_IB',\n",
    " 'POSICION_IVA',\n",
    " 'SEXO',\n",
    " 'TIPO_PERSONA',\n",
    " 'VALIDO']"
   ]
  },
  {
   "cell_type": "code",
   "execution_count": 3,
   "metadata": {},
   "outputs": [],
   "source": [
    "non_usable = [x for x in all_ if x not in usable_cols]"
   ]
  },
  {
   "cell_type": "code",
   "execution_count": 4,
   "metadata": {},
   "outputs": [
    {
     "data": {
      "text/plain": [
       "'ANO_DE_NACIMIENTO], [CLIENTE], [DATECO_AUTONOMO], [DATECO_RAZON_SOCIAL_EMPLEADOR], [DATECO_TRABAJA], [DATMAR_COMPLETO_ESTUDIOS], [DATMAR_NIVEL_EDUCACION], [ESTADO_CIVIL], [FECHA_NACIMIENTO], [ID], [ORIGEN], [POSICION_IVA], [SEXO], [TIPO_PERSONA'"
      ]
     },
     "execution_count": 4,
     "metadata": {},
     "output_type": "execute_result"
    }
   ],
   "source": [
    "\"], [\".join(usable_cols)"
   ]
  },
  {
   "cell_type": "code",
   "execution_count": 5,
   "metadata": {},
   "outputs": [
    {
     "data": {
      "text/plain": [
       "'DATECO_INGRESO_FAMILIAR], [DATECO_INGRESO_PERSONAL], [DATECO_TIPO_ACTIVIDAD], [DATMAR_CANTIDAD_HIJOS], [DOMICILIO_CODIGO_POSTAL], [DOMICILIO_LATITUD], [DOMICILIO_LONGITUD], [FECHA_DEFUNCION], [HABILITADO], [NACIONALIDAD], [POSICION_IB], [VALIDO'"
      ]
     },
     "execution_count": 5,
     "metadata": {},
     "output_type": "execute_result"
    }
   ],
   "source": [
    "\"], [\".join(non_usable)"
   ]
  },
  {
   "cell_type": "markdown",
   "metadata": {},
   "source": [
    "## Creating clientes.feahter"
   ]
  },
  {
   "cell_type": "code",
   "execution_count": 4,
   "metadata": {},
   "outputs": [
    {
     "name": "stderr",
     "output_type": "stream",
     "text": [
      "C:\\Users\\Santi\\Anaconda3\\lib\\site-packages\\IPython\\core\\interactiveshell.py:2963: DtypeWarning: Columns (16) have mixed types. Specify dtype option on import or set low_memory=False.\n",
      "  exec(code_obj, self.user_global_ns, self.user_ns)\n"
     ]
    }
   ],
   "source": [
    "chunks = pd.read_csv(f\"{location}/{table}\",\n",
    "                     sep=sep,\n",
    "                     encoding=encoding,\n",
    "                     decimal=decimal,\n",
    "                     chunksize=1000000,\n",
    "                     iterator=True,\n",
    "                     usecols = usable_cols)\n",
    "df = pd.concat(chunks)"
   ]
  },
  {
   "cell_type": "code",
   "execution_count": 5,
   "metadata": {},
   "outputs": [],
   "source": [
    "df.to_feather(\"../../../data/interim/clientes.feather\")"
   ]
  }
 ],
 "metadata": {
  "kernelspec": {
   "display_name": "Python 3",
   "language": "python",
   "name": "python3"
  },
  "language_info": {
   "codemirror_mode": {
    "name": "ipython",
    "version": 3
   },
   "file_extension": ".py",
   "mimetype": "text/x-python",
   "name": "python",
   "nbconvert_exporter": "python",
   "pygments_lexer": "ipython3",
   "version": "3.6.5"
  }
 },
 "nbformat": 4,
 "nbformat_minor": 2
}
