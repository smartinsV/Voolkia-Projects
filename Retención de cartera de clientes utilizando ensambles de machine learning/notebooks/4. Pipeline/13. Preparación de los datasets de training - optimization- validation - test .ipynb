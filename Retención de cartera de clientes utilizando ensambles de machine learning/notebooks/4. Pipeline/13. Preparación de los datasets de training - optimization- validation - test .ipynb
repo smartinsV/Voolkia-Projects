{
 "cells": [
  {
   "cell_type": "code",
   "execution_count": 1,
   "metadata": {},
   "outputs": [],
   "source": [
    "import pandas as pd\n",
    "import re"
   ]
  },
  {
   "cell_type": "markdown",
   "metadata": {},
   "source": [
    "## Armado de dataset para entrenamiento del modelo"
   ]
  },
  {
   "cell_type": "markdown",
   "metadata": {},
   "source": [
    "Se usan ventanas de tiempo de 6 meses para agrupar los datos y predecir la baja. \n",
    "\n",
    "Training: \n",
    "- 1 a 6\n",
    "- 2 a 7\n",
    "- 3 a 8\n",
    "- 4 a 9\n",
    "- 5 a 10\n",
    "- 6 a 11\n",
    "\n",
    "Optimization\n",
    "- 7 a 12\n",
    "\n",
    "Validation\n",
    "- 8 a 13\n",
    "\n",
    "Test\n",
    "- 9 a 14\n",
    "- 10 a 15"
   ]
  },
  {
   "cell_type": "code",
   "execution_count": 2,
   "metadata": {},
   "outputs": [],
   "source": [
    "df = pd.read_feather('../../../../data/processed/merged_18_periods(BPICS).feather')"
   ]
  },
  {
   "cell_type": "markdown",
   "metadata": {},
   "source": [
    "### Detectamos inconsistencias: Del periodo 1 a 3 no hay cargados valores para SITUACION_PP"
   ]
  },
  {
   "cell_type": "markdown",
   "metadata": {},
   "source": [
    "<h4 style=\"color:red\" > Se soluciona agregando las columnas al dataframe lleno de nulls. REVISAR EL SCRIPT ORIGINAL A FUTURO</h4>"
   ]
  },
  {
   "cell_type": "code",
   "execution_count": 5,
   "metadata": {},
   "outputs": [],
   "source": [
    "import numpy as np\n",
    "\n",
    "for col in ['1_SITUACION_PP','2_SITUACION_PP','3_SITUACION_PP']:\n",
    "    df[col] = np.nan"
   ]
  },
  {
   "cell_type": "code",
   "execution_count": 6,
   "metadata": {},
   "outputs": [],
   "source": [
    "sini_cols = set([''.join([s for s in col if not s.isdigit()]) for col in df[[col for col in df.columns if re.search(f'\\d_TIPO_SINI', col)]].columns])"
   ]
  },
  {
   "cell_type": "code",
   "execution_count": 10,
   "metadata": {},
   "outputs": [],
   "source": [
    "for col in sini_cols:\n",
    "    for i in range(1,15):\n",
    "        if f'{i}{col}' not in df.columns:\n",
    "            df[f'{i}{col}'] = np.nan"
   ]
  },
  {
   "cell_type": "markdown",
   "metadata": {},
   "source": [
    "### Script de agrupación de registros de acuerdo a las ventanas temporales. El test está en *1. Test to arrange datasets by time periods*"
   ]
  },
  {
   "cell_type": "code",
   "execution_count": 11,
   "metadata": {},
   "outputs": [
    {
     "name": "stdout",
     "output_type": "stream",
     "text": [
      "----------TIME WINDOW: 1 a 6-----------\n",
      "Creando flag de baja...onales...                               \n",
      "Next window...e periodo...                        \n",
      "----------TIME WINDOW: 2 a 7-----------\n",
      "Creando flag de baja...onales...                               \n",
      "Next window...e periodo...                        \n",
      "----------TIME WINDOW: 3 a 8-----------\n",
      "Creando flag de baja...onales...                               \n",
      "Next window...e periodo...                        \n",
      "----------TIME WINDOW: 4 a 9-----------\n",
      "Creando flag de baja...onales...                               \n",
      "Next window...e periodo...                        \n",
      "----------TIME WINDOW: 5 a 10-----------\n",
      "Creando flag de baja...onales...                               \n",
      "Next window...e periodo...                        \n",
      "----------TIME WINDOW: 6 a 11-----------\n",
      "Creando flag de baja...onales...                               \n",
      "Next window...e periodo...                        \n",
      "----------TIME WINDOW: 7 a 12-----------\n",
      "Creando flag de baja...onales...                               \n",
      "Next window...e periodo...                        \n",
      "----------TIME WINDOW: 8 a 13-----------\n",
      "Creando flag de baja...onales...                               \n",
      "Next window...e periodo...                        \n",
      "----------TIME WINDOW: 9 a 14-----------\n",
      "Creando flag de baja...onales...                               \n",
      "Next window...e periodo...                        \n",
      "----------TIME WINDOW: 10 a 15-----------\n",
      "Creando flag de baja...onales...                               \n",
      "Next window...e periodo...                        \n",
      "Ready!\n"
     ]
    }
   ],
   "source": [
    "# Buscamos las features que son periódicas\n",
    "periodic_cols = set([''.join([s for s in col if not s.isdigit()]) for col in df[[col for col in df.columns if re.search(f'\\d', col)]].columns])\n",
    "\n",
    "# Armamos otro dataframe con todas las features que no son temporales\n",
    "non_periodic_df = df[[col for col in df.columns if not any(char.isdigit() for char in col)]]\n",
    "\n",
    "# Definimos ventana inicial\n",
    "w_low = 1\n",
    "w_top = 6\n",
    "\n",
    "final_df = pd.DataFrame()\n",
    "\n",
    "while(w_low < 11):\n",
    "    print(f\"----------TIME WINDOW: {w_low} a {w_top}-----------\")\n",
    "    # Armamos todo el nuevo dataset del periodo en grouped_df\n",
    "    grouped_df = non_periodic_df.copy(deep=True)\n",
    "\n",
    "    #Seleccionamos las features del periodo\n",
    "    print(\"Seleccionando features por periodo...                       \", end=\"\\r\", flush=True)\n",
    "    for pcol in periodic_cols:\n",
    "        regex_range = \"|\".join([str(i) for i in range(w_low, w_top+1)])\n",
    "        regex = f'{pcol}({regex_range})$|^({regex_range}){pcol}'\n",
    "        columns = [col for col in df.columns if re.search(regex, col)]\n",
    "        grouped_df[[f\"{i}_{pcol}\" for i in range(6, 0, -1)]] = df[columns]\n",
    "\n",
    "    # Buscamos los clientes que no tienen polizas en el periodo analizado\n",
    "    print(\"Buscando clientes sin polizas...                       \", end=\"\\r\", flush=True)\n",
    "    grouped_df = grouped_df[grouped_df[\"hist_polizas\"].str.split(\" \", expand=True).iloc[:,w_low-1:w_top].astype(float).sum(axis=1) > 0]\n",
    "    \n",
    "    # Buscamos las polizas que ya se dieron de baja en el periodo analizado\n",
    "    print(\"Buscando clientes que ya se dieron de baja...                  \", end=\"\\r\", flush=True)\n",
    "    grouped_df = grouped_df[~grouped_df[\"periodo_baja\"].between(1, w_top + 2)]\n",
    "\n",
    "    # Preparamos columnas de pólizas por período\n",
    "    print(\"Preparando pólizas por períodos...                             \", end=\"\\r\", flush=True)\n",
    "    grouped_df[[f\"polizas_{i}\" for i in range(6, 0, -1)]] = grouped_df[\"hist_polizas\"].str.split(\" \", expand=True).iloc[:,w_low-1:w_top].astype(float)\n",
    "    \n",
    "    # Calculamos campos adicionales (Diferencias entre periodos)\n",
    "    print(\"Preparando campos adicionales...                             \", end=\"\\r\", flush=True)\n",
    "    for i in range(5, 0, -1):\n",
    "        grouped_df[f\"diff_cant_polizas_{i}\"] = grouped_df[f\"polizas_{i}\"] - grouped_df[f\"polizas_{i+1}\"]    \n",
    "        current_int = [col for col in grouped_df.columns if re.search(f'({i})__TIPOINT', col)]\n",
    "        next_int = [col for col in grouped_df.columns if re.search(f'({i+1})__TIPOINT', col)]\n",
    "        grouped_df[f\"diff_cant_int_{i}\"] =  grouped_df[current_int].sum(axis=1) - grouped_df[next_int].sum(axis=1)\n",
    "        \n",
    "    # Marcamos aquellos que se dieron de baja a los tres meses del periodo analizado\n",
    "    print(\"Creando flag de baja...\")\n",
    "    grouped_df[\"BAJA_3m\"] = grouped_df[\"periodo_baja\"] == (w_top + 3)\n",
    "\n",
    "    # Marcamos un flag para saber la ventana de tiempo que se analiza\n",
    "    print(\"Creando flag de periodo...                        \", end=\"\\r\", flush=True)\n",
    "    grouped_df[\"time_window\"] = f\"{w_low} a {w_top}\"\n",
    "\n",
    "    # Agregamos el tipo de dataset \n",
    "    if(w_low < 7):\n",
    "        grouped_df[\"dataset\"] = 'train'\n",
    "    elif(w_low == 7):\n",
    "        grouped_df[\"dataset\"] = 'opt'\n",
    "    elif(w_low == 8):\n",
    "        grouped_df[\"dataset\"] = 'val'\n",
    "    else:\n",
    "        grouped_df[\"dataset\"] = 'test'\n",
    "    \n",
    "    # Agregamos el periodo al datafame final \n",
    "    final_df = pd.concat([final_df, grouped_df], ignore_index=True)\n",
    "    \n",
    "    del grouped_df\n",
    "    w_low += 1\n",
    "    w_top += 1\n",
    "    print(\"Next window...\")\n",
    "    \n",
    "del non_periodic_df\n",
    "del df\n",
    "print(\"Ready!\")"
   ]
  },
  {
   "cell_type": "code",
   "execution_count": null,
   "metadata": {},
   "outputs": [],
   "source": [
    "final_df"
   ]
  },
  {
   "cell_type": "code",
   "execution_count": null,
   "metadata": {},
   "outputs": [],
   "source": [
    "final_df[final_df[\"CIF_ID\"]==1429.0]"
   ]
  },
  {
   "cell_type": "markdown",
   "metadata": {},
   "source": [
    "Una vez verificados los datos, eliminamos las columnas que no se van a usar más"
   ]
  },
  {
   "cell_type": "code",
   "execution_count": 12,
   "metadata": {},
   "outputs": [],
   "source": [
    "final_df = final_df.drop([\"CIF_ID\",\"hist_polizas\",\"periodo_baja\"], axis=1)"
   ]
  },
  {
   "cell_type": "code",
   "execution_count": 13,
   "metadata": {},
   "outputs": [
    {
     "data": {
      "text/plain": [
       "False    0.978585\n",
       "True     0.021415\n",
       "Name: BAJA_3m, dtype: float64"
      ]
     },
     "execution_count": 13,
     "metadata": {},
     "output_type": "execute_result"
    }
   ],
   "source": [
    "final_df[\"BAJA_3m\"].value_counts(normalize=True)"
   ]
  },
  {
   "cell_type": "code",
   "execution_count": 14,
   "metadata": {},
   "outputs": [
    {
     "data": {
      "text/plain": [
       "<matplotlib.axes._subplots.AxesSubplot at 0x1ec718994a8>"
      ]
     },
     "execution_count": 14,
     "metadata": {},
     "output_type": "execute_result"
    }
   ],
   "source": [
    "final_df[final_df[\"BAJA_3m\"]][\"time_window\"].value_counts().sort_index().plot.bar()"
   ]
  },
  {
   "cell_type": "code",
   "execution_count": 15,
   "metadata": {},
   "outputs": [
    {
     "data": {
      "text/plain": [
       "<matplotlib.axes._subplots.AxesSubplot at 0x1ec578f09e8>"
      ]
     },
     "execution_count": 15,
     "metadata": {},
     "output_type": "execute_result"
    },
    {
     "data": {
      "image/png": "[encoded data removed]",
      "text/plain": [
       "<Figure size 432x288 with 1 Axes>"
      ]
     },
     "metadata": {},
     "output_type": "display_data"
    }
   ],
   "source": [
    "final_df[final_df[\"BAJA_3m\"]][\"dataset\"].value_counts(normalize=True).plot.bar()"
   ]
  },
  {
   "cell_type": "markdown",
   "metadata": {},
   "source": [
    "## Guardamos los datsets"
   ]
  },
  {
   "cell_type": "markdown",
   "metadata": {},
   "source": [
    "### Train"
   ]
  },
  {
   "cell_type": "code",
   "execution_count": 17,
   "metadata": {},
   "outputs": [],
   "source": [
    "final_df[final_df['dataset'] == 'train'].drop(columns='dataset').reset_index(drop=True).to_feather(\"../../../../data/processed/3m_train_set.feather\")"
   ]
  },
  {
   "cell_type": "markdown",
   "metadata": {},
   "source": [
    "### Opt"
   ]
  },
  {
   "cell_type": "code",
   "execution_count": 18,
   "metadata": {},
   "outputs": [],
   "source": [
    "final_df[final_df['dataset'] == 'opt'].drop(columns='dataset').reset_index(drop=True).to_feather(\"../../../../data/processed/3m_optimization_set.feather\")"
   ]
  },
  {
   "cell_type": "markdown",
   "metadata": {},
   "source": [
    "### Val"
   ]
  },
  {
   "cell_type": "code",
   "execution_count": 19,
   "metadata": {},
   "outputs": [],
   "source": [
    "final_df[final_df['dataset'] == 'val'].drop(columns='dataset').reset_index(drop=True).to_feather(\"../../../../data/processed/3m_validation_set.feather\")"
   ]
  },
  {
   "cell_type": "markdown",
   "metadata": {},
   "source": [
    "### Test"
   ]
  },
  {
   "cell_type": "code",
   "execution_count": 20,
   "metadata": {},
   "outputs": [],
   "source": [
    "final_df[final_df['dataset'] == 'test'].drop(columns='dataset').reset_index(drop=True).to_feather(\"../../../../data/processed/3m_test_set.feather\")"
   ]
  },
  {
   "cell_type": "code",
   "execution_count": null,
   "metadata": {},
   "outputs": [],
   "source": []
  }
 ],
 "metadata": {
  "kernelspec": {
   "display_name": "Python 3",
   "language": "python",
   "name": "python3"
  },
  "language_info": {
   "codemirror_mode": {
    "name": "ipython",
    "version": 3
   },
   "file_extension": ".py",
   "mimetype": "text/x-python",
   "name": "python",
   "nbconvert_exporter": "python",
   "pygments_lexer": "ipython3",
   "version": "3.6.5"
  }
 },
 "nbformat": 4,
 "nbformat_minor": 2
}
