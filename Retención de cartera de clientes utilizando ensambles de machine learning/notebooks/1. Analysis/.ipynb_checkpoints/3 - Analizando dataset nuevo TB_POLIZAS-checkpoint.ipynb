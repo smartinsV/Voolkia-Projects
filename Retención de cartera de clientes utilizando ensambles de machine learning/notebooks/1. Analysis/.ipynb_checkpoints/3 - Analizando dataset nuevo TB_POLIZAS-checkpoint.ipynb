{
 "cells": [
  {
   "cell_type": "code",
   "execution_count": 1,
   "metadata": {},
   "outputs": [],
   "source": [
    "import pandas as pd\n",
    "pd.set_option(\"display.max_columns\", 500)\n",
    "pd.set_option(\"display.max_rows\", 500)"
   ]
  },
  {
   "cell_type": "markdown",
   "metadata": {},
   "source": [
    "## TB_POLIZAS"
   ]
  },
  {
   "cell_type": "markdown",
   "metadata": {},
   "source": [
    "**Leyendo las primeras 1M filas para filtrar las columnas útiles**"
   ]
  },
  {
   "cell_type": "code",
   "execution_count": null,
   "metadata": {},
   "outputs": [],
   "source": [
    "for chunk in pd.read_csv(f\"../../Data/raw/TB_POLIZAS.tsv\", sep=\"\\t\",encoding='latin1', chunksize=1000000):\n",
    "    df_min_polizas = chunk\n",
    "    break"
   ]
  },
  {
   "cell_type": "code",
   "execution_count": null,
   "metadata": {},
   "outputs": [],
   "source": [
    "len(df_min_polizas.columns)"
   ]
  },
  {
   "cell_type": "code",
   "execution_count": null,
   "metadata": {
    "scrolled": true
   },
   "outputs": [],
   "source": [
    "df_min_polizas.head(25)"
   ]
  },
  {
   "cell_type": "code",
   "execution_count": null,
   "metadata": {},
   "outputs": [],
   "source": [
    "df_min_polizas[\"CIF_ID\"].nunique()"
   ]
  },
  {
   "cell_type": "code",
   "execution_count": null,
   "metadata": {},
   "outputs": [],
   "source": [
    "df_min_polizas[\"CIF_ID\"].isna().sum()"
   ]
  },
  {
   "cell_type": "code",
   "execution_count": null,
   "metadata": {},
   "outputs": [],
   "source": [
    "(df_min_polizas.isna().mean()).sort_values(ascending=False)"
   ]
  },
  {
   "cell_type": "code",
   "execution_count": null,
   "metadata": {},
   "outputs": [],
   "source": [
    "(df_min_polizas.isna().mean() > .5).sum()"
   ]
  },
  {
   "cell_type": "markdown",
   "metadata": {},
   "source": [
    "*Estas 32 columnas por ahora no las vamos a usar al tener >50% de nulls*"
   ]
  },
  {
   "cell_type": "code",
   "execution_count": null,
   "metadata": {
    "scrolled": true
   },
   "outputs": [],
   "source": [
    "df_min_polizas.loc[:, df_min_polizas.isna().mean() < .5].columns"
   ]
  },
  {
   "cell_type": "code",
   "execution_count": null,
   "metadata": {
    "scrolled": true
   },
   "outputs": [],
   "source": [
    "df_min_polizas.loc[:, df_min_polizas.isna().mean() < .5]"
   ]
  },
  {
   "cell_type": "code",
   "execution_count": null,
   "metadata": {},
   "outputs": [],
   "source": [
    "del df_min_polizas"
   ]
  },
  {
   "cell_type": "markdown",
   "metadata": {},
   "source": [
    "**Ahora usamos todo el dataset, pero solo con las columnas seleccionadas**"
   ]
  },
  {
   "cell_type": "code",
   "execution_count": 2,
   "metadata": {},
   "outputs": [],
   "source": [
    "cols_to_use = ['NUM_SECU_POL', 'NUM_POL1', \n",
    "               'FECHA_VIG_POL', 'FECHA_VENC_POL', 'COD_PLAN',\n",
    "               'COD_PROD', 'COD_COBRO', 'ESTADO_CIVIL_ASEGURADO', 'COD_POSTAL',\n",
    "               'IMP_BONIFICACION_MES', 'IMP_PREMIO_MES', 'IMP_PRIMA_FACT_MES',\n",
    "               'IMP_IMPUESTO_MES', 'FECHA_PROCESO', 'MCA_VIGENCIA',\n",
    "               'COD_COBRO_ANTERIOR', 'COD_MON', 'FECHA_VIG_ORIG_POL', 'MCA_AGRAVANTE',\n",
    "               'MCA_EMPLEADO',\n",
    "               'CAPITAL_VEHICULO', 'CAPITAL_ACCESORIOS',\n",
    "               'CAPITAL_ASEGURADO_COTIZACION', 'COD_RIES', 'ANTIGUEDAD', 'PRENDARIO',\n",
    "               'NEGOCIO', 'MCA_POLIZA_VIP', 'FECHA_EMI',\n",
    "               'PORC_COMISION', 'IMP_COMISION_LOCAL', 'CANT_RENOVACION', 'FECHA_ANTIG',\n",
    "               'ANTIG', 'CLIENTE_SUSCRIPTO', 'FECHA_VIG_POL_NPO', 'SEGMENTO',\n",
    "               'SEGMENTO_2', 'COD_ZONA_CASCO', 'PROXIMA_FECHA_RENOV', 'NEGOCIO_DESC',\n",
    "               'COD_SITUACION', 'CLAU_AJUSTE', 'COEF_POL',\n",
    "               'RULE_ID_RESPUESTA', 'CIF_ID', 'SEGMENTO_CLIENTE']"
   ]
  },
  {
   "cell_type": "code",
   "execution_count": null,
   "metadata": {},
   "outputs": [
    {
     "name": "stderr",
     "output_type": "stream",
     "text": [
      "C:\\Users\\Santi\\Anaconda3\\lib\\site-packages\\IPython\\core\\interactiveshell.py:2963: DtypeWarning: Columns (29,52,53,57,58,66,69,70,72,74,77,78,84) have mixed types. Specify dtype option on import or set low_memory=False.\n",
      "  exec(code_obj, self.user_global_ns, self.user_ns)\n"
     ]
    }
   ],
   "source": [
    "chunks = pd.read_csv(f\"../../Data/raw/TB_POLIZAS.tsv\", \n",
    "                     sep=\"\\t\",\n",
    "                     encoding='latin1',\n",
    "                     decimal=\",\",\n",
    "                     usecols=cols_to_use,\n",
    "                     chunksize=1000000)\n",
    "\n",
    "df_polizas = pd.concat(chunks)"
   ]
  },
  {
   "cell_type": "code",
   "execution_count": null,
   "metadata": {
    "scrolled": true
   },
   "outputs": [],
   "source": [
    "df_polizas.dtypes"
   ]
  },
  {
   "cell_type": "code",
   "execution_count": null,
   "metadata": {},
   "outputs": [],
   "source": [
    "to_int = [\"CIF_ID\",\n",
    "          \"COD_PLAN\",\n",
    "          \"ANTIGUEDAD\",\n",
    "          \"CANT_RENOVACION\",\n",
    "          \"ANTIG\",\n",
    "          \"COD_ZONA_CASCO\",\n",
    "          \"RULE_ID_RESPUESTA\"]\n",
    "\n",
    "df_polizas[to_int] = df_polizas[to_int].astype(\"Int64\")"
   ]
  },
  {
   "cell_type": "code",
   "execution_count": null,
   "metadata": {},
   "outputs": [],
   "source": [
    "fechas = [col for col in df_polizas.columns if \"FECHA\" in col]"
   ]
  },
  {
   "cell_type": "code",
   "execution_count": null,
   "metadata": {
    "scrolled": true
   },
   "outputs": [],
   "source": [
    "df_polizas[fechas].head(10)"
   ]
  },
  {
   "cell_type": "code",
   "execution_count": null,
   "metadata": {},
   "outputs": [],
   "source": [
    "df_polizas[fechas] =  pd.to_datetime(df_polizas[fechas].stack(), format=\"%d/%m/%Y\").unstack()"
   ]
  },
  {
   "cell_type": "code",
   "execution_count": null,
   "metadata": {
    "scrolled": true
   },
   "outputs": [],
   "source": [
    "df_polizas.dtypes"
   ]
  },
  {
   "cell_type": "code",
   "execution_count": null,
   "metadata": {},
   "outputs": [],
   "source": [
    "df_polizas.head(5)"
   ]
  },
  {
   "cell_type": "code",
   "execution_count": null,
   "metadata": {},
   "outputs": [],
   "source": [
    "df_polizas[\"COD_PLAN\"].value_counts()"
   ]
  },
  {
   "cell_type": "markdown",
   "metadata": {},
   "source": [
    "*Guardo todo en feather*"
   ]
  },
  {
   "cell_type": "markdown",
   "metadata": {},
   "source": [
    "**PROBLEMA: Pyarrow no soporta nullable ints de pandas. Los paso a float**"
   ]
  },
  {
   "cell_type": "code",
   "execution_count": null,
   "metadata": {},
   "outputs": [],
   "source": [
    "df_polizas[to_int].isna().sum()"
   ]
  },
  {
   "cell_type": "code",
   "execution_count": null,
   "metadata": {},
   "outputs": [],
   "source": [
    "df_polizas[to_int] = df_polizas[to_int].astype(\"float64\")"
   ]
  },
  {
   "cell_type": "code",
   "execution_count": null,
   "metadata": {},
   "outputs": [],
   "source": [
    "df_polizas.to_feather(\"../Datasets/polizas.feather\")"
   ]
  }
 ],
 "metadata": {
  "kernelspec": {
   "display_name": "Python 3",
   "language": "python",
   "name": "python3"
  },
  "language_info": {
   "codemirror_mode": {
    "name": "ipython",
    "version": 3
   },
   "file_extension": ".py",
   "mimetype": "text/x-python",
   "name": "python",
   "nbconvert_exporter": "python",
   "pygments_lexer": "ipython3",
   "version": "3.6.5"
  }
 },
 "nbformat": 4,
 "nbformat_minor": 2
}
