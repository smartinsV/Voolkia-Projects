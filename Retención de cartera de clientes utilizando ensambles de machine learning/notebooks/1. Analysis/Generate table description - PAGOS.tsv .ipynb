{
 "cells": [
  {
   "cell_type": "code",
   "execution_count": null,
   "metadata": {},
   "outputs": [],
   "source": [
    "import pandas as pd\n",
    "pd.set_option(\"display.max_columns\", 500)\n",
    "pd.set_option(\"display.max_rows\", 500)"
   ]
  },
  {
   "cell_type": "markdown",
   "metadata": {},
   "source": [
    "## Table description generation"
   ]
  },
  {
   "cell_type": "markdown",
   "metadata": {},
   "source": [
    "Enter the following info: \n",
    " - Table name\n",
    " - Location\n",
    " - Separator\n",
    " - Encoding (optional)\n",
    " - Decimal mark (optional)"
   ]
  },
  {
   "cell_type": "code",
   "execution_count": null,
   "metadata": {},
   "outputs": [],
   "source": [
    "table = \"PAGOS.tsv\"\n",
    "location = \"../../data/raw\"\n",
    "sep = '\\t'\n",
    "encoding = 'latin1'\n",
    "decimal = ','"
   ]
  },
  {
   "cell_type": "markdown",
   "metadata": {},
   "source": [
    "### Make a first view of the dataset to check most interesting columns"
   ]
  },
  {
   "cell_type": "markdown",
   "metadata": {},
   "source": [
    "**Run this if it's a big file**"
   ]
  },
  {
   "cell_type": "code",
   "execution_count": null,
   "metadata": {},
   "outputs": [],
   "source": [
    "for chunk in pd.read_csv(f\"{location}/{table}\",\n",
    "                         sep=sep,\n",
    "                         encoding=encoding,\n",
    "                         decimal=decimal,\n",
    "                         chunksize=1000000):\n",
    "    df = chunk\n",
    "    break"
   ]
  },
  {
   "cell_type": "markdown",
   "metadata": {},
   "source": [
    "**Run this if it's a relatively small file**"
   ]
  },
  {
   "cell_type": "code",
   "execution_count": null,
   "metadata": {},
   "outputs": [],
   "source": [
    "df = pd.read_csv(f\"{location}/{table}\",\n",
    "                sep=separator,\n",
    "                encoding=encoding,\n",
    "                decimal=decimal)"
   ]
  },
  {
   "cell_type": "code",
   "execution_count": 5,
   "metadata": {
    "scrolled": true
   },
   "outputs": [
    {
     "data": {
      "text/html": [
       "<div>\n",
       "<style scoped>\n",
       "    .dataframe tbody tr th:only-of-type {\n",
       "        vertical-align: middle;\n",
       "    }\n",
       "\n",
       "    .dataframe tbody tr th {\n",
       "        vertical-align: top;\n",
       "    }\n",
       "\n",
       "    .dataframe thead th {\n",
       "        text-align: right;\n",
       "    }\n",
       "</style>\n",
       "<table border=\"1\" class=\"dataframe\">\n",
       "  <thead>\n",
       "    <tr style=\"text-align: right;\">\n",
       "      <th></th>\n",
       "      <th>COD_CIA</th>\n",
       "      <th>COD_SECC</th>\n",
       "      <th>FECHA_EQUIPO</th>\n",
       "      <th>NUM_POL1</th>\n",
       "      <th>NUM_SECU_POL</th>\n",
       "      <th>NUM_END</th>\n",
       "      <th>FECHA_VTO</th>\n",
       "      <th>FEC_PAGO</th>\n",
       "      <th>MONTO_PAGO</th>\n",
       "      <th>COD_COBRO</th>\n",
       "      <th>COD_SITUACION</th>\n",
       "    </tr>\n",
       "  </thead>\n",
       "  <tbody>\n",
       "    <tr>\n",
       "      <th>0</th>\n",
       "      <td>2</td>\n",
       "      <td>90</td>\n",
       "      <td>07/12/2017</td>\n",
       "      <td>5010004804401</td>\n",
       "      <td>69739992</td>\n",
       "      <td>NaN</td>\n",
       "      <td>2017-12</td>\n",
       "      <td>2017-12</td>\n",
       "      <td>18.18</td>\n",
       "      <td>CC</td>\n",
       "      <td>CT</td>\n",
       "    </tr>\n",
       "    <tr>\n",
       "      <th>1</th>\n",
       "      <td>2</td>\n",
       "      <td>11</td>\n",
       "      <td>01/12/2017</td>\n",
       "      <td>5000612586201</td>\n",
       "      <td>349709968</td>\n",
       "      <td>NaN</td>\n",
       "      <td>2017-12</td>\n",
       "      <td>2017-12</td>\n",
       "      <td>6.10</td>\n",
       "      <td>TA</td>\n",
       "      <td>CT</td>\n",
       "    </tr>\n",
       "    <tr>\n",
       "      <th>2</th>\n",
       "      <td>2</td>\n",
       "      <td>11</td>\n",
       "      <td>01/12/2017</td>\n",
       "      <td>5000612717001</td>\n",
       "      <td>361729968</td>\n",
       "      <td>NaN</td>\n",
       "      <td>2017-12</td>\n",
       "      <td>2017-12</td>\n",
       "      <td>80.00</td>\n",
       "      <td>TA</td>\n",
       "      <td>CT</td>\n",
       "    </tr>\n",
       "    <tr>\n",
       "      <th>3</th>\n",
       "      <td>2</td>\n",
       "      <td>11</td>\n",
       "      <td>01/12/2017</td>\n",
       "      <td>5000612721401</td>\n",
       "      <td>362109968</td>\n",
       "      <td>NaN</td>\n",
       "      <td>2018-01</td>\n",
       "      <td>2017-12</td>\n",
       "      <td>105.00</td>\n",
       "      <td>TA</td>\n",
       "      <td>CT</td>\n",
       "    </tr>\n",
       "    <tr>\n",
       "      <th>4</th>\n",
       "      <td>2</td>\n",
       "      <td>11</td>\n",
       "      <td>01/12/2017</td>\n",
       "      <td>5000612729001</td>\n",
       "      <td>362729968</td>\n",
       "      <td>NaN</td>\n",
       "      <td>2017-12</td>\n",
       "      <td>2017-12</td>\n",
       "      <td>80.00</td>\n",
       "      <td>TA</td>\n",
       "      <td>CT</td>\n",
       "    </tr>\n",
       "    <tr>\n",
       "      <th>5</th>\n",
       "      <td>2</td>\n",
       "      <td>90</td>\n",
       "      <td>31/01/2018</td>\n",
       "      <td>5040006209501</td>\n",
       "      <td>107929992</td>\n",
       "      <td>NaN</td>\n",
       "      <td>2018-02</td>\n",
       "      <td>2018-02</td>\n",
       "      <td>27.27</td>\n",
       "      <td>CC</td>\n",
       "      <td>CT</td>\n",
       "    </tr>\n",
       "    <tr>\n",
       "      <th>6</th>\n",
       "      <td>2</td>\n",
       "      <td>90</td>\n",
       "      <td>01/12/2017</td>\n",
       "      <td>5230004535501</td>\n",
       "      <td>63779992</td>\n",
       "      <td>NaN</td>\n",
       "      <td>2017-12</td>\n",
       "      <td>2017-12</td>\n",
       "      <td>9.09</td>\n",
       "      <td>CC</td>\n",
       "      <td>CT</td>\n",
       "    </tr>\n",
       "    <tr>\n",
       "      <th>7</th>\n",
       "      <td>2</td>\n",
       "      <td>22</td>\n",
       "      <td>12/01/2018</td>\n",
       "      <td>5000199230001</td>\n",
       "      <td>7809997</td>\n",
       "      <td>NaN</td>\n",
       "      <td>2018-01</td>\n",
       "      <td>NaN</td>\n",
       "      <td>-24.00</td>\n",
       "      <td>CC</td>\n",
       "      <td>EP</td>\n",
       "    </tr>\n",
       "    <tr>\n",
       "      <th>8</th>\n",
       "      <td>2</td>\n",
       "      <td>11</td>\n",
       "      <td>01/12/2017</td>\n",
       "      <td>5000612947501</td>\n",
       "      <td>377919968</td>\n",
       "      <td>NaN</td>\n",
       "      <td>2017-12</td>\n",
       "      <td>2017-12</td>\n",
       "      <td>80.00</td>\n",
       "      <td>TA</td>\n",
       "      <td>CT</td>\n",
       "    </tr>\n",
       "    <tr>\n",
       "      <th>9</th>\n",
       "      <td>2</td>\n",
       "      <td>11</td>\n",
       "      <td>01/12/2017</td>\n",
       "      <td>5000613359101</td>\n",
       "      <td>398229968</td>\n",
       "      <td>NaN</td>\n",
       "      <td>2017-12</td>\n",
       "      <td>2017-12</td>\n",
       "      <td>80.00</td>\n",
       "      <td>TA</td>\n",
       "      <td>CT</td>\n",
       "    </tr>\n",
       "    <tr>\n",
       "      <th>10</th>\n",
       "      <td>2</td>\n",
       "      <td>11</td>\n",
       "      <td>01/12/2017</td>\n",
       "      <td>5000613402001</td>\n",
       "      <td>400639968</td>\n",
       "      <td>NaN</td>\n",
       "      <td>2017-12</td>\n",
       "      <td>2017-12</td>\n",
       "      <td>80.00</td>\n",
       "      <td>TA</td>\n",
       "      <td>CT</td>\n",
       "    </tr>\n",
       "    <tr>\n",
       "      <th>11</th>\n",
       "      <td>2</td>\n",
       "      <td>11</td>\n",
       "      <td>01/12/2017</td>\n",
       "      <td>5000613446301</td>\n",
       "      <td>402659968</td>\n",
       "      <td>NaN</td>\n",
       "      <td>2018-01</td>\n",
       "      <td>2017-12</td>\n",
       "      <td>80.00</td>\n",
       "      <td>TA</td>\n",
       "      <td>CT</td>\n",
       "    </tr>\n",
       "    <tr>\n",
       "      <th>12</th>\n",
       "      <td>2</td>\n",
       "      <td>11</td>\n",
       "      <td>01/12/2017</td>\n",
       "      <td>5000613457301</td>\n",
       "      <td>403429968</td>\n",
       "      <td>NaN</td>\n",
       "      <td>2018-01</td>\n",
       "      <td>2017-12</td>\n",
       "      <td>80.00</td>\n",
       "      <td>TA</td>\n",
       "      <td>CT</td>\n",
       "    </tr>\n",
       "    <tr>\n",
       "      <th>13</th>\n",
       "      <td>2</td>\n",
       "      <td>11</td>\n",
       "      <td>01/12/2017</td>\n",
       "      <td>5000613555401</td>\n",
       "      <td>408839968</td>\n",
       "      <td>NaN</td>\n",
       "      <td>2018-01</td>\n",
       "      <td>2017-12</td>\n",
       "      <td>80.00</td>\n",
       "      <td>TA</td>\n",
       "      <td>CT</td>\n",
       "    </tr>\n",
       "    <tr>\n",
       "      <th>14</th>\n",
       "      <td>2</td>\n",
       "      <td>11</td>\n",
       "      <td>01/12/2017</td>\n",
       "      <td>5000613789101</td>\n",
       "      <td>422549968</td>\n",
       "      <td>NaN</td>\n",
       "      <td>2018-01</td>\n",
       "      <td>2017-12</td>\n",
       "      <td>60.00</td>\n",
       "      <td>TA</td>\n",
       "      <td>CT</td>\n",
       "    </tr>\n",
       "  </tbody>\n",
       "</table>\n",
       "</div>"
      ],
      "text/plain": [
       "    COD_CIA  COD_SECC FECHA_EQUIPO       NUM_POL1  NUM_SECU_POL  NUM_END  \\\n",
       "0         2        90   07/12/2017  5010004804401      69739992      NaN   \n",
       "1         2        11   01/12/2017  5000612586201     349709968      NaN   \n",
       "2         2        11   01/12/2017  5000612717001     361729968      NaN   \n",
       "3         2        11   01/12/2017  5000612721401     362109968      NaN   \n",
       "4         2        11   01/12/2017  5000612729001     362729968      NaN   \n",
       "5         2        90   31/01/2018  5040006209501     107929992      NaN   \n",
       "6         2        90   01/12/2017  5230004535501      63779992      NaN   \n",
       "7         2        22   12/01/2018  5000199230001       7809997      NaN   \n",
       "8         2        11   01/12/2017  5000612947501     377919968      NaN   \n",
       "9         2        11   01/12/2017  5000613359101     398229968      NaN   \n",
       "10        2        11   01/12/2017  5000613402001     400639968      NaN   \n",
       "11        2        11   01/12/2017  5000613446301     402659968      NaN   \n",
       "12        2        11   01/12/2017  5000613457301     403429968      NaN   \n",
       "13        2        11   01/12/2017  5000613555401     408839968      NaN   \n",
       "14        2        11   01/12/2017  5000613789101     422549968      NaN   \n",
       "\n",
       "   FECHA_VTO FEC_PAGO  MONTO_PAGO COD_COBRO COD_SITUACION  \n",
       "0    2017-12  2017-12       18.18        CC            CT  \n",
       "1    2017-12  2017-12        6.10        TA            CT  \n",
       "2    2017-12  2017-12       80.00        TA            CT  \n",
       "3    2018-01  2017-12      105.00        TA            CT  \n",
       "4    2017-12  2017-12       80.00        TA            CT  \n",
       "5    2018-02  2018-02       27.27        CC            CT  \n",
       "6    2017-12  2017-12        9.09        CC            CT  \n",
       "7    2018-01      NaN      -24.00        CC            EP  \n",
       "8    2017-12  2017-12       80.00        TA            CT  \n",
       "9    2017-12  2017-12       80.00        TA            CT  \n",
       "10   2017-12  2017-12       80.00        TA            CT  \n",
       "11   2018-01  2017-12       80.00        TA            CT  \n",
       "12   2018-01  2017-12       80.00        TA            CT  \n",
       "13   2018-01  2017-12       80.00        TA            CT  \n",
       "14   2018-01  2017-12       60.00        TA            CT  "
      ]
     },
     "execution_count": 5,
     "metadata": {},
     "output_type": "execute_result"
    }
   ],
   "source": [
    "df.head(15)"
   ]
  },
  {
   "cell_type": "code",
   "execution_count": 6,
   "metadata": {
    "scrolled": true
   },
   "outputs": [
    {
     "data": {
      "text/plain": [
       "COD_CIA            int64\n",
       "COD_SECC           int64\n",
       "FECHA_EQUIPO      object\n",
       "NUM_POL1           int64\n",
       "NUM_SECU_POL       int64\n",
       "NUM_END          float64\n",
       "FECHA_VTO         object\n",
       "FEC_PAGO          object\n",
       "MONTO_PAGO       float64\n",
       "COD_COBRO         object\n",
       "COD_SITUACION     object\n",
       "dtype: object"
      ]
     },
     "execution_count": 6,
     "metadata": {},
     "output_type": "execute_result"
    }
   ],
   "source": [
    "df.dtypes"
   ]
  },
  {
   "cell_type": "code",
   "execution_count": 7,
   "metadata": {
    "scrolled": true
   },
   "outputs": [
    {
     "data": {
      "text/plain": [
       "Index(['COD_CIA', 'COD_SECC', 'FECHA_EQUIPO', 'NUM_POL1', 'NUM_SECU_POL',\n",
       "       'NUM_END', 'FECHA_VTO', 'FEC_PAGO', 'MONTO_PAGO', 'COD_COBRO',\n",
       "       'COD_SITUACION'],\n",
       "      dtype='object')"
      ]
     },
     "execution_count": 7,
     "metadata": {},
     "output_type": "execute_result"
    }
   ],
   "source": [
    "df.columns"
   ]
  },
  {
   "cell_type": "markdown",
   "metadata": {},
   "source": [
    "*Based on last output, fill this list to mark most relevant columns*"
   ]
  },
  {
   "cell_type": "code",
   "execution_count": 8,
   "metadata": {},
   "outputs": [],
   "source": [
    "to_use = ['COD_CIA', 'COD_SECC', 'FECHA_EQUIPO', 'NUM_POL1', 'NUM_SECU_POL',\n",
    "       'NUM_END', 'FECHA_VTO', 'FEC_PAGO', 'MONTO_PAGO', 'COD_COBRO',\n",
    "       'COD_SITUACION']"
   ]
  },
  {
   "cell_type": "markdown",
   "metadata": {},
   "source": [
    "### Now write the file"
   ]
  },
  {
   "cell_type": "markdown",
   "metadata": {},
   "source": [
    "**If it was a big file, read it completely with this line**"
   ]
  },
  {
   "cell_type": "code",
   "execution_count": 9,
   "metadata": {},
   "outputs": [],
   "source": [
    "chunks = pd.read_csv(f\"{location}/{table}\",\n",
    "                         sep=sep,\n",
    "                         encoding=encoding,\n",
    "                         decimal=decimal,\n",
    "                         chunksize=1000000)\n",
    "df = pd.concat(chunks)"
   ]
  },
  {
   "cell_type": "code",
   "execution_count": null,
   "metadata": {},
   "outputs": [],
   "source": []
  },
  {
   "cell_type": "code",
   "execution_count": 10,
   "metadata": {},
   "outputs": [],
   "source": [
    "f = open(f'../../docs/{table} feature description.csv','w')\n",
    "f.write('Column;Used;Null Rate; Type; Unique values; Values\\n')\n",
    "for column in df.columns:\n",
    "    \n",
    "    null_rate = round(df[column].isna().mean()*100,2)\n",
    "    \n",
    "    unique_vals = df[column].nunique()\n",
    "    \n",
    "    if (column in to_use) and null_rate < .5 and unique_vals > 1:\n",
    "        used = 'X'\n",
    "    else:\n",
    "        used=''\n",
    "    \n",
    "    dtype = df[column].dtype\n",
    "    \n",
    "    if(dtype == 'object'):\n",
    "        values = f\"Top 10:\\n{df[column].value_counts(dropna=False).head(10).to_string()}\"\n",
    "    else:\n",
    "        values = f'[{df[column].min()};{df[column].max()}]'\n",
    "        \n",
    "    f.write(f'{column};{used};{null_rate};{dtype};{unique_vals};\"{values}\"\\n')\n",
    "    \n",
    "f.close()\n"
   ]
  }
 ],
 "metadata": {
  "kernelspec": {
   "display_name": "Python 3",
   "language": "python",
   "name": "python3"
  },
  "language_info": {
   "codemirror_mode": {
    "name": "ipython",
    "version": 3
   },
   "file_extension": ".py",
   "mimetype": "text/x-python",
   "name": "python",
   "nbconvert_exporter": "python",
   "pygments_lexer": "ipython3",
   "version": "3.6.7"
  }
 },
 "nbformat": 4,
 "nbformat_minor": 2
}
