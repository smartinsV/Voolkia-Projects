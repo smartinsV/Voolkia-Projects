{
 "cells": [
  {
   "cell_type": "code",
   "execution_count": 1,
   "metadata": {},
   "outputs": [],
   "source": [
    "import pandas as pd\n",
    "pd.set_option(\"display.max_columns\", 500)\n",
    "pd.set_option(\"display.max_rows\", 500)"
   ]
  },
  {
   "cell_type": "markdown",
   "metadata": {},
   "source": [
    "## Table description generation"
   ]
  },
  {
   "cell_type": "markdown",
   "metadata": {},
   "source": [
    "Enter the following info: \n",
    " - Table name\n",
    " - Location\n",
    " - Separator\n",
    " - Encoding (optional)\n",
    " - Decimal mark (optional)"
   ]
  },
  {
   "cell_type": "code",
   "execution_count": 2,
   "metadata": {},
   "outputs": [],
   "source": [
    "table = \"TB_PAGOS.tsv\"\n",
    "location = \"../../data/raw\"\n",
    "sep = '\\t'\n",
    "encoding = 'latin1'\n",
    "decimal = ','"
   ]
  },
  {
   "cell_type": "markdown",
   "metadata": {},
   "source": [
    "### Make a first view of the dataset to check most interesting columns"
   ]
  },
  {
   "cell_type": "markdown",
   "metadata": {},
   "source": [
    "**Run this if it's a big file**"
   ]
  },
  {
   "cell_type": "code",
   "execution_count": 4,
   "metadata": {},
   "outputs": [
    {
     "name": "stderr",
     "output_type": "stream",
     "text": [
      "C:\\Users\\Santi\\Anaconda3\\lib\\site-packages\\IPython\\core\\interactiveshell.py:2785: DtypeWarning: Columns (13,18,26,28,29,39,40,46,52,53,57,58,60,64,65,66,69,70,72,73,74,76,77,78,80,81,82,83,84,93) have mixed types. Specify dtype option on import or set low_memory=False.\n",
      "  interactivity=interactivity, compiler=compiler, result=result)\n"
     ]
    }
   ],
   "source": [
    "for chunk in pd.read_csv(f\"{location}/{table}\",\n",
    "                         sep=sep,\n",
    "                         encoding=encoding,\n",
    "                         decimal=decimal,\n",
    "                         chunksize=1000000):\n",
    "    df = chunk\n",
    "    break"
   ]
  },
  {
   "cell_type": "markdown",
   "metadata": {},
   "source": [
    "**Run this if it's a relatively small file**"
   ]
  },
  {
   "cell_type": "code",
   "execution_count": 3,
   "metadata": {},
   "outputs": [],
   "source": [
    "df = pd.read_csv(f\"{location}/{table}\",\n",
    "                sep=sep,\n",
    "                encoding=encoding,\n",
    "                decimal=decimal)"
   ]
  },
  {
   "cell_type": "code",
   "execution_count": 4,
   "metadata": {},
   "outputs": [
    {
     "data": {
      "text/html": [
       "<div>\n",
       "<style scoped>\n",
       "    .dataframe tbody tr th:only-of-type {\n",
       "        vertical-align: middle;\n",
       "    }\n",
       "\n",
       "    .dataframe tbody tr th {\n",
       "        vertical-align: top;\n",
       "    }\n",
       "\n",
       "    .dataframe thead th {\n",
       "        text-align: right;\n",
       "    }\n",
       "</style>\n",
       "<table border=\"1\" class=\"dataframe\">\n",
       "  <thead>\n",
       "    <tr style=\"text-align: right;\">\n",
       "      <th></th>\n",
       "      <th>COD_CIA</th>\n",
       "      <th>COD_SECC</th>\n",
       "      <th>FECHA_EQUIPO</th>\n",
       "      <th>NUM_POL1</th>\n",
       "      <th>NUM_SECU_POL</th>\n",
       "      <th>NUM_END</th>\n",
       "      <th>FECHA_VTO</th>\n",
       "      <th>FEC_PAGO</th>\n",
       "      <th>MONTO_PAGO</th>\n",
       "      <th>COD_COBRO</th>\n",
       "      <th>COD_SITUACION</th>\n",
       "    </tr>\n",
       "  </thead>\n",
       "  <tbody>\n",
       "    <tr>\n",
       "      <th>0</th>\n",
       "      <td>2</td>\n",
       "      <td>90</td>\n",
       "      <td>19/03/2019</td>\n",
       "      <td>5010000625601</td>\n",
       "      <td>9609992</td>\n",
       "      <td>NaN</td>\n",
       "      <td>2019-03</td>\n",
       "      <td>2019-03</td>\n",
       "      <td>1026.48</td>\n",
       "      <td>CC</td>\n",
       "      <td>CT</td>\n",
       "    </tr>\n",
       "    <tr>\n",
       "      <th>1</th>\n",
       "      <td>2</td>\n",
       "      <td>90</td>\n",
       "      <td>11/03/2019</td>\n",
       "      <td>5000000104101</td>\n",
       "      <td>1799992</td>\n",
       "      <td>NaN</td>\n",
       "      <td>2018-06</td>\n",
       "      <td>2019-04</td>\n",
       "      <td>33.84</td>\n",
       "      <td>CC</td>\n",
       "      <td>CT</td>\n",
       "    </tr>\n",
       "    <tr>\n",
       "      <th>2</th>\n",
       "      <td>2</td>\n",
       "      <td>90</td>\n",
       "      <td>13/03/2019</td>\n",
       "      <td>5170826702201</td>\n",
       "      <td>11116689999</td>\n",
       "      <td>NaN</td>\n",
       "      <td>2019-03</td>\n",
       "      <td>2019-04</td>\n",
       "      <td>22.56</td>\n",
       "      <td>CC</td>\n",
       "      <td>CT</td>\n",
       "    </tr>\n",
       "    <tr>\n",
       "      <th>3</th>\n",
       "      <td>2</td>\n",
       "      <td>90</td>\n",
       "      <td>08/03/2019</td>\n",
       "      <td>5130005681801</td>\n",
       "      <td>91449992</td>\n",
       "      <td>NaN</td>\n",
       "      <td>2019-03</td>\n",
       "      <td>2019-03</td>\n",
       "      <td>33.84</td>\n",
       "      <td>CC</td>\n",
       "      <td>CT</td>\n",
       "    </tr>\n",
       "    <tr>\n",
       "      <th>4</th>\n",
       "      <td>2</td>\n",
       "      <td>11</td>\n",
       "      <td>01/03/2019</td>\n",
       "      <td>5000612704001</td>\n",
       "      <td>360559968</td>\n",
       "      <td>NaN</td>\n",
       "      <td>2019-03</td>\n",
       "      <td>2019-03</td>\n",
       "      <td>130.00</td>\n",
       "      <td>TA</td>\n",
       "      <td>CT</td>\n",
       "    </tr>\n",
       "    <tr>\n",
       "      <th>5</th>\n",
       "      <td>2</td>\n",
       "      <td>11</td>\n",
       "      <td>01/03/2019</td>\n",
       "      <td>5000612711801</td>\n",
       "      <td>361269968</td>\n",
       "      <td>NaN</td>\n",
       "      <td>2019-03</td>\n",
       "      <td>2019-03</td>\n",
       "      <td>100.00</td>\n",
       "      <td>TA</td>\n",
       "      <td>CT</td>\n",
       "    </tr>\n",
       "    <tr>\n",
       "      <th>6</th>\n",
       "      <td>2</td>\n",
       "      <td>11</td>\n",
       "      <td>01/03/2019</td>\n",
       "      <td>5000612713501</td>\n",
       "      <td>361439968</td>\n",
       "      <td>NaN</td>\n",
       "      <td>2019-03</td>\n",
       "      <td>2019-03</td>\n",
       "      <td>100.00</td>\n",
       "      <td>TA</td>\n",
       "      <td>CT</td>\n",
       "    </tr>\n",
       "    <tr>\n",
       "      <th>7</th>\n",
       "      <td>2</td>\n",
       "      <td>11</td>\n",
       "      <td>01/03/2019</td>\n",
       "      <td>5000612716701</td>\n",
       "      <td>361709968</td>\n",
       "      <td>NaN</td>\n",
       "      <td>2019-04</td>\n",
       "      <td>2019-03</td>\n",
       "      <td>100.00</td>\n",
       "      <td>TA</td>\n",
       "      <td>CT</td>\n",
       "    </tr>\n",
       "    <tr>\n",
       "      <th>8</th>\n",
       "      <td>2</td>\n",
       "      <td>11</td>\n",
       "      <td>01/03/2019</td>\n",
       "      <td>5000612724501</td>\n",
       "      <td>362369968</td>\n",
       "      <td>NaN</td>\n",
       "      <td>2019-04</td>\n",
       "      <td>2019-03</td>\n",
       "      <td>23.70</td>\n",
       "      <td>TA</td>\n",
       "      <td>CT</td>\n",
       "    </tr>\n",
       "    <tr>\n",
       "      <th>9</th>\n",
       "      <td>2</td>\n",
       "      <td>90</td>\n",
       "      <td>09/03/2019</td>\n",
       "      <td>5280004902301</td>\n",
       "      <td>71909992</td>\n",
       "      <td>NaN</td>\n",
       "      <td>2019-03</td>\n",
       "      <td>2019-03</td>\n",
       "      <td>507.60</td>\n",
       "      <td>CC</td>\n",
       "      <td>CT</td>\n",
       "    </tr>\n",
       "    <tr>\n",
       "      <th>10</th>\n",
       "      <td>2</td>\n",
       "      <td>11</td>\n",
       "      <td>11/03/2019</td>\n",
       "      <td>5000254571001</td>\n",
       "      <td>18569997</td>\n",
       "      <td>91.0</td>\n",
       "      <td>2019-01</td>\n",
       "      <td>2019-03</td>\n",
       "      <td>450.70</td>\n",
       "      <td>CC</td>\n",
       "      <td>CT</td>\n",
       "    </tr>\n",
       "    <tr>\n",
       "      <th>11</th>\n",
       "      <td>2</td>\n",
       "      <td>90</td>\n",
       "      <td>02/03/2019</td>\n",
       "      <td>5020006759901</td>\n",
       "      <td>131299992</td>\n",
       "      <td>NaN</td>\n",
       "      <td>2019-03</td>\n",
       "      <td>2019-03</td>\n",
       "      <td>90.24</td>\n",
       "      <td>CC</td>\n",
       "      <td>CT</td>\n",
       "    </tr>\n",
       "    <tr>\n",
       "      <th>12</th>\n",
       "      <td>2</td>\n",
       "      <td>90</td>\n",
       "      <td>04/04/2019</td>\n",
       "      <td>5000015029501</td>\n",
       "      <td>232699992</td>\n",
       "      <td>NaN</td>\n",
       "      <td>2019-04</td>\n",
       "      <td>2019-04</td>\n",
       "      <td>4086.10</td>\n",
       "      <td>CC</td>\n",
       "      <td>CT</td>\n",
       "    </tr>\n",
       "    <tr>\n",
       "      <th>13</th>\n",
       "      <td>2</td>\n",
       "      <td>90</td>\n",
       "      <td>08/03/2019</td>\n",
       "      <td>5000000104101</td>\n",
       "      <td>1799992</td>\n",
       "      <td>NaN</td>\n",
       "      <td>2011-12</td>\n",
       "      <td>2019-04</td>\n",
       "      <td>12.30</td>\n",
       "      <td>CC</td>\n",
       "      <td>PP</td>\n",
       "    </tr>\n",
       "    <tr>\n",
       "      <th>14</th>\n",
       "      <td>2</td>\n",
       "      <td>11</td>\n",
       "      <td>01/03/2019</td>\n",
       "      <td>5000612730701</td>\n",
       "      <td>362899968</td>\n",
       "      <td>NaN</td>\n",
       "      <td>2019-04</td>\n",
       "      <td>2019-03</td>\n",
       "      <td>130.00</td>\n",
       "      <td>TA</td>\n",
       "      <td>CT</td>\n",
       "    </tr>\n",
       "  </tbody>\n",
       "</table>\n",
       "</div>"
      ],
      "text/plain": [
       "    COD_CIA  COD_SECC FECHA_EQUIPO       NUM_POL1  NUM_SECU_POL  NUM_END  \\\n",
       "0         2        90   19/03/2019  5010000625601       9609992      NaN   \n",
       "1         2        90   11/03/2019  5000000104101       1799992      NaN   \n",
       "2         2        90   13/03/2019  5170826702201   11116689999      NaN   \n",
       "3         2        90   08/03/2019  5130005681801      91449992      NaN   \n",
       "4         2        11   01/03/2019  5000612704001     360559968      NaN   \n",
       "5         2        11   01/03/2019  5000612711801     361269968      NaN   \n",
       "6         2        11   01/03/2019  5000612713501     361439968      NaN   \n",
       "7         2        11   01/03/2019  5000612716701     361709968      NaN   \n",
       "8         2        11   01/03/2019  5000612724501     362369968      NaN   \n",
       "9         2        90   09/03/2019  5280004902301      71909992      NaN   \n",
       "10        2        11   11/03/2019  5000254571001      18569997     91.0   \n",
       "11        2        90   02/03/2019  5020006759901     131299992      NaN   \n",
       "12        2        90   04/04/2019  5000015029501     232699992      NaN   \n",
       "13        2        90   08/03/2019  5000000104101       1799992      NaN   \n",
       "14        2        11   01/03/2019  5000612730701     362899968      NaN   \n",
       "\n",
       "   FECHA_VTO FEC_PAGO  MONTO_PAGO COD_COBRO COD_SITUACION  \n",
       "0    2019-03  2019-03     1026.48        CC            CT  \n",
       "1    2018-06  2019-04       33.84        CC            CT  \n",
       "2    2019-03  2019-04       22.56        CC            CT  \n",
       "3    2019-03  2019-03       33.84        CC            CT  \n",
       "4    2019-03  2019-03      130.00        TA            CT  \n",
       "5    2019-03  2019-03      100.00        TA            CT  \n",
       "6    2019-03  2019-03      100.00        TA            CT  \n",
       "7    2019-04  2019-03      100.00        TA            CT  \n",
       "8    2019-04  2019-03       23.70        TA            CT  \n",
       "9    2019-03  2019-03      507.60        CC            CT  \n",
       "10   2019-01  2019-03      450.70        CC            CT  \n",
       "11   2019-03  2019-03       90.24        CC            CT  \n",
       "12   2019-04  2019-04     4086.10        CC            CT  \n",
       "13   2011-12  2019-04       12.30        CC            PP  \n",
       "14   2019-04  2019-03      130.00        TA            CT  "
      ]
     },
     "execution_count": 4,
     "metadata": {},
     "output_type": "execute_result"
    }
   ],
   "source": [
    "df.head(15)"
   ]
  },
  {
   "cell_type": "code",
   "execution_count": 5,
   "metadata": {
    "scrolled": true
   },
   "outputs": [
    {
     "data": {
      "text/plain": [
       "COD_CIA            int64\n",
       "COD_SECC           int64\n",
       "FECHA_EQUIPO      object\n",
       "NUM_POL1           int64\n",
       "NUM_SECU_POL       int64\n",
       "NUM_END          float64\n",
       "FECHA_VTO         object\n",
       "FEC_PAGO          object\n",
       "MONTO_PAGO       float64\n",
       "COD_COBRO         object\n",
       "COD_SITUACION     object\n",
       "dtype: object"
      ]
     },
     "execution_count": 5,
     "metadata": {},
     "output_type": "execute_result"
    }
   ],
   "source": [
    "df.dtypes"
   ]
  },
  {
   "cell_type": "code",
   "execution_count": 6,
   "metadata": {
    "scrolled": true
   },
   "outputs": [
    {
     "data": {
      "text/plain": [
       "Index(['COD_CIA', 'COD_SECC', 'FECHA_EQUIPO', 'NUM_POL1', 'NUM_SECU_POL',\n",
       "       'NUM_END', 'FECHA_VTO', 'FEC_PAGO', 'MONTO_PAGO', 'COD_COBRO',\n",
       "       'COD_SITUACION'],\n",
       "      dtype='object')"
      ]
     },
     "execution_count": 6,
     "metadata": {},
     "output_type": "execute_result"
    }
   ],
   "source": [
    "df.columns"
   ]
  },
  {
   "cell_type": "markdown",
   "metadata": {},
   "source": [
    "*Based on last output, fill this list to mark most relevant columns*"
   ]
  },
  {
   "cell_type": "code",
   "execution_count": 8,
   "metadata": {},
   "outputs": [],
   "source": [
    "to_use = ['COD_CIA', 'COD_SECC', 'FECHA_EQUIPO', 'NUM_POL1', 'NUM_SECU_POL',\n",
    "       'NUM_END', 'FECHA_VTO', 'FEC_PAGO', 'MONTO_PAGO', 'COD_COBRO',\n",
    "       'COD_SITUACION']"
   ]
  },
  {
   "cell_type": "markdown",
   "metadata": {},
   "source": [
    "### Now write the file"
   ]
  },
  {
   "cell_type": "markdown",
   "metadata": {},
   "source": [
    "**If it was a big file, read it completely with this line**"
   ]
  },
  {
   "cell_type": "code",
   "execution_count": 5,
   "metadata": {},
   "outputs": [
    {
     "name": "stderr",
     "output_type": "stream",
     "text": [
      "C:\\Users\\Santi\\Anaconda3\\lib\\site-packages\\IPython\\core\\interactiveshell.py:2963: DtypeWarning: Columns (13,18,26,28,29,39,40,46,52,53,57,58,60,64,65,66,69,70,72,73,74,76,77,78,80,81,82,83,84,93) have mixed types. Specify dtype option on import or set low_memory=False.\n",
      "  exec(code_obj, self.user_global_ns, self.user_ns)\n",
      "C:\\Users\\Santi\\Anaconda3\\lib\\site-packages\\IPython\\core\\interactiveshell.py:2963: DtypeWarning: Columns (13,18,26,28,29,39,40,46,52,53,57,58,60,64,66,69,70,72,73,74,76,77,78,80,81,83,84,93) have mixed types. Specify dtype option on import or set low_memory=False.\n",
      "  exec(code_obj, self.user_global_ns, self.user_ns)\n"
     ]
    }
   ],
   "source": [
    "chunks = pd.read_csv(f\"{location}/{table}\",\n",
    "                         sep=sep,\n",
    "                         encoding=encoding,\n",
    "                         decimal=decimal,\n",
    "                         chunksize=1000000)\n",
    "df = pd.concat(chunks)"
   ]
  },
  {
   "cell_type": "code",
   "execution_count": null,
   "metadata": {},
   "outputs": [],
   "source": []
  },
  {
   "cell_type": "code",
   "execution_count": 15,
   "metadata": {},
   "outputs": [
    {
     "data": {
      "text/plain": [
       "'06/04/2019    283655\\n06/03/2019    239644\\n06/05/2019    234558\\n05/03/2019    233488\\n01/04/2019    197252'"
      ]
     },
     "execution_count": 15,
     "metadata": {},
     "output_type": "execute_result"
    }
   ],
   "source": [
    "df[\"FECHA_EQUIPO\"].value_counts().head().to_string()"
   ]
  },
  {
   "cell_type": "code",
   "execution_count": 21,
   "metadata": {},
   "outputs": [],
   "source": [
    "f = open(f'../../docs/{table} feature description.csv','w')\n",
    "f.write('Column;Used;Null Rate; Type; Unique values; Values\\n')\n",
    "for column in df.columns:\n",
    "    \n",
    "    null_rate = round(df[column].isna().mean()*100,2)\n",
    "    \n",
    "    unique_vals = df[column].nunique()\n",
    "    \n",
    "    if (column in to_use) and null_rate < .5 and unique_vals > 1:\n",
    "        used = 'X'\n",
    "    else:\n",
    "        used=''\n",
    "    \n",
    "    dtype = df[column].dtype\n",
    "    \n",
    "    if(dtype == 'object'):\n",
    "        values = f\"Top 10:\\n{df[column].value_counts(dropna=False).head(10).to_string()}\"\n",
    "    else:\n",
    "        values = f'[{df[column].min()};{df[column].max()}]'\n",
    "        \n",
    "    f.write(f'{column};{used};{null_rate};{dtype};{unique_vals};\"{values}\"\\n')\n",
    "    \n",
    "f.close()"
   ]
  }
 ],
 "metadata": {
  "kernelspec": {
   "display_name": "Python 3",
   "language": "python",
   "name": "python3"
  },
  "language_info": {
   "codemirror_mode": {
    "name": "ipython",
    "version": 3
   },
   "file_extension": ".py",
   "mimetype": "text/x-python",
   "name": "python",
   "nbconvert_exporter": "python",
   "pygments_lexer": "ipython3",
   "version": "3.6.7"
  }
 },
 "nbformat": 4,
 "nbformat_minor": 2
}
