{
 "cells": [
  {
   "cell_type": "code",
   "execution_count": 1,
   "metadata": {},
   "outputs": [],
   "source": [
    "import pandas as pd\n",
    "pd.set_option(\"display.max_columns\", 500)\n",
    "pd.set_option(\"display.max_rows\", 500)"
   ]
  },
  {
   "cell_type": "markdown",
   "metadata": {},
   "source": [
    "## Table description generation"
   ]
  },
  {
   "cell_type": "markdown",
   "metadata": {},
   "source": [
    "Enter the following info: \n",
    " - Table name\n",
    " - Location\n",
    " - Separator\n",
    " - Encoding (optional)\n",
    " - Decimal mark (optional)"
   ]
  },
  {
   "cell_type": "code",
   "execution_count": 2,
   "metadata": {},
   "outputs": [],
   "source": [
    "table = \"TB_INTERACCIONES.tsv\"\n",
    "location = \"../../data/raw\"\n",
    "sep = '\\t'\n",
    "encoding = 'latin1'\n",
    "decimal = ','"
   ]
  },
  {
   "cell_type": "markdown",
   "metadata": {},
   "source": [
    "### Make a first view of the dataset to check most interesting columns"
   ]
  },
  {
   "cell_type": "markdown",
   "metadata": {},
   "source": [
    "**Run this if it's a big file**"
   ]
  },
  {
   "cell_type": "code",
   "execution_count": 3,
   "metadata": {},
   "outputs": [],
   "source": [
    "for chunk in pd.read_csv(f\"{location}/{table}\",\n",
    "                         sep=sep,\n",
    "                         encoding=encoding,\n",
    "                         decimal=decimal,\n",
    "                         chunksize=1000000):\n",
    "    df = chunk\n",
    "    break"
   ]
  },
  {
   "cell_type": "markdown",
   "metadata": {},
   "source": [
    "**Run this if it's a relatively small file**"
   ]
  },
  {
   "cell_type": "code",
   "execution_count": null,
   "metadata": {},
   "outputs": [],
   "source": [
    "df = pd.read_csv(f\"{location}/{table}\",\n",
    "                sep=separator,\n",
    "                encoding=encoding,\n",
    "                decimal=decimal)"
   ]
  },
  {
   "cell_type": "code",
   "execution_count": 4,
   "metadata": {
    "scrolled": true
   },
   "outputs": [
    {
     "data": {
      "text/html": [
       "<div>\n",
       "<style scoped>\n",
       "    .dataframe tbody tr th:only-of-type {\n",
       "        vertical-align: middle;\n",
       "    }\n",
       "\n",
       "    .dataframe tbody tr th {\n",
       "        vertical-align: top;\n",
       "    }\n",
       "\n",
       "    .dataframe thead th {\n",
       "        text-align: right;\n",
       "    }\n",
       "</style>\n",
       "<table border=\"1\" class=\"dataframe\">\n",
       "  <thead>\n",
       "    <tr style=\"text-align: right;\">\n",
       "      <th></th>\n",
       "      <th>ID</th>\n",
       "      <th>CIF_ID</th>\n",
       "      <th>IN_OUT</th>\n",
       "      <th>CANAL_COMUNICACION</th>\n",
       "      <th>FECHA</th>\n",
       "      <th>OBSERVACIONES</th>\n",
       "      <th>GESTION</th>\n",
       "      <th>DESCRIPCION</th>\n",
       "      <th>AGRUPACION</th>\n",
       "    </tr>\n",
       "  </thead>\n",
       "  <tbody>\n",
       "    <tr>\n",
       "      <th>0</th>\n",
       "      <td>212931236</td>\n",
       "      <td>22118197</td>\n",
       "      <td>O</td>\n",
       "      <td>MAIL</td>\n",
       "      <td>01/01/2018</td>\n",
       "      <td>NaN</td>\n",
       "      <td>FPSE</td>\n",
       "      <td>Emailing Falta de Pago - Enviado</td>\n",
       "      <td>NaN</td>\n",
       "    </tr>\n",
       "    <tr>\n",
       "      <th>1</th>\n",
       "      <td>212931237</td>\n",
       "      <td>21794535</td>\n",
       "      <td>O</td>\n",
       "      <td>MAIL</td>\n",
       "      <td>01/01/2018</td>\n",
       "      <td>NaN</td>\n",
       "      <td>FPSE</td>\n",
       "      <td>Emailing Falta de Pago - Enviado</td>\n",
       "      <td>NaN</td>\n",
       "    </tr>\n",
       "    <tr>\n",
       "      <th>2</th>\n",
       "      <td>212931238</td>\n",
       "      <td>12872524</td>\n",
       "      <td>O</td>\n",
       "      <td>MAIL</td>\n",
       "      <td>01/01/2018</td>\n",
       "      <td>NaN</td>\n",
       "      <td>FPSE</td>\n",
       "      <td>Emailing Falta de Pago - Enviado</td>\n",
       "      <td>NaN</td>\n",
       "    </tr>\n",
       "    <tr>\n",
       "      <th>3</th>\n",
       "      <td>212931239</td>\n",
       "      <td>1089433</td>\n",
       "      <td>O</td>\n",
       "      <td>MAIL</td>\n",
       "      <td>01/01/2018</td>\n",
       "      <td>NaN</td>\n",
       "      <td>FPNE</td>\n",
       "      <td>Emailing Falta de Pago - No enviado</td>\n",
       "      <td>NaN</td>\n",
       "    </tr>\n",
       "    <tr>\n",
       "      <th>4</th>\n",
       "      <td>212931240</td>\n",
       "      <td>11176325</td>\n",
       "      <td>O</td>\n",
       "      <td>MAIL</td>\n",
       "      <td>01/01/2018</td>\n",
       "      <td>NaN</td>\n",
       "      <td>FPNE</td>\n",
       "      <td>Emailing Falta de Pago - No enviado</td>\n",
       "      <td>NaN</td>\n",
       "    </tr>\n",
       "    <tr>\n",
       "      <th>5</th>\n",
       "      <td>212931241</td>\n",
       "      <td>22264538</td>\n",
       "      <td>O</td>\n",
       "      <td>MAIL</td>\n",
       "      <td>01/01/2018</td>\n",
       "      <td>NaN</td>\n",
       "      <td>FPNE</td>\n",
       "      <td>Emailing Falta de Pago - No enviado</td>\n",
       "      <td>NaN</td>\n",
       "    </tr>\n",
       "    <tr>\n",
       "      <th>6</th>\n",
       "      <td>212958562</td>\n",
       "      <td>21056268</td>\n",
       "      <td>O</td>\n",
       "      <td>TEL</td>\n",
       "      <td>01/01/2018</td>\n",
       "      <td>4560-0029756-07 AUTO 05-01-2018  Impresión/PDF...</td>\n",
       "      <td>H038</td>\n",
       "      <td>Impresión/PDF Automotor</td>\n",
       "      <td>CONSULTAS O GESTIONES SOBRE POLIZA</td>\n",
       "    </tr>\n",
       "    <tr>\n",
       "      <th>7</th>\n",
       "      <td>212931226</td>\n",
       "      <td>10037395</td>\n",
       "      <td>O</td>\n",
       "      <td>MAIL</td>\n",
       "      <td>01/01/2018</td>\n",
       "      <td>NaN</td>\n",
       "      <td>FPNE</td>\n",
       "      <td>Emailing Falta de Pago - No enviado</td>\n",
       "      <td>NaN</td>\n",
       "    </tr>\n",
       "    <tr>\n",
       "      <th>8</th>\n",
       "      <td>212931227</td>\n",
       "      <td>10801030</td>\n",
       "      <td>O</td>\n",
       "      <td>MAIL</td>\n",
       "      <td>01/01/2018</td>\n",
       "      <td>NaN</td>\n",
       "      <td>FPSE</td>\n",
       "      <td>Emailing Falta de Pago - Enviado</td>\n",
       "      <td>NaN</td>\n",
       "    </tr>\n",
       "    <tr>\n",
       "      <th>9</th>\n",
       "      <td>212931228</td>\n",
       "      <td>17500849</td>\n",
       "      <td>O</td>\n",
       "      <td>MAIL</td>\n",
       "      <td>01/01/2018</td>\n",
       "      <td>NaN</td>\n",
       "      <td>FPSE</td>\n",
       "      <td>Emailing Falta de Pago - Enviado</td>\n",
       "      <td>NaN</td>\n",
       "    </tr>\n",
       "    <tr>\n",
       "      <th>10</th>\n",
       "      <td>212931229</td>\n",
       "      <td>14081033</td>\n",
       "      <td>O</td>\n",
       "      <td>MAIL</td>\n",
       "      <td>01/01/2018</td>\n",
       "      <td>NaN</td>\n",
       "      <td>FPSE</td>\n",
       "      <td>Emailing Falta de Pago - Enviado</td>\n",
       "      <td>NaN</td>\n",
       "    </tr>\n",
       "    <tr>\n",
       "      <th>11</th>\n",
       "      <td>212931230</td>\n",
       "      <td>21526608</td>\n",
       "      <td>O</td>\n",
       "      <td>MAIL</td>\n",
       "      <td>01/01/2018</td>\n",
       "      <td>NaN</td>\n",
       "      <td>FPSE</td>\n",
       "      <td>Emailing Falta de Pago - Enviado</td>\n",
       "      <td>NaN</td>\n",
       "    </tr>\n",
       "    <tr>\n",
       "      <th>12</th>\n",
       "      <td>212931231</td>\n",
       "      <td>22248358</td>\n",
       "      <td>O</td>\n",
       "      <td>MAIL</td>\n",
       "      <td>01/01/2018</td>\n",
       "      <td>NaN</td>\n",
       "      <td>FPSE</td>\n",
       "      <td>Emailing Falta de Pago - Enviado</td>\n",
       "      <td>NaN</td>\n",
       "    </tr>\n",
       "    <tr>\n",
       "      <th>13</th>\n",
       "      <td>212931232</td>\n",
       "      <td>15692435</td>\n",
       "      <td>O</td>\n",
       "      <td>MAIL</td>\n",
       "      <td>01/01/2018</td>\n",
       "      <td>NaN</td>\n",
       "      <td>FPSE</td>\n",
       "      <td>Emailing Falta de Pago - Enviado</td>\n",
       "      <td>NaN</td>\n",
       "    </tr>\n",
       "    <tr>\n",
       "      <th>14</th>\n",
       "      <td>212931233</td>\n",
       "      <td>19436077</td>\n",
       "      <td>O</td>\n",
       "      <td>MAIL</td>\n",
       "      <td>01/01/2018</td>\n",
       "      <td>NaN</td>\n",
       "      <td>FPSE</td>\n",
       "      <td>Emailing Falta de Pago - Enviado</td>\n",
       "      <td>NaN</td>\n",
       "    </tr>\n",
       "  </tbody>\n",
       "</table>\n",
       "</div>"
      ],
      "text/plain": [
       "           ID    CIF_ID IN_OUT CANAL_COMUNICACION       FECHA  \\\n",
       "0   212931236  22118197      O               MAIL  01/01/2018   \n",
       "1   212931237  21794535      O               MAIL  01/01/2018   \n",
       "2   212931238  12872524      O               MAIL  01/01/2018   \n",
       "3   212931239   1089433      O               MAIL  01/01/2018   \n",
       "4   212931240  11176325      O               MAIL  01/01/2018   \n",
       "5   212931241  22264538      O               MAIL  01/01/2018   \n",
       "6   212958562  21056268      O                TEL  01/01/2018   \n",
       "7   212931226  10037395      O               MAIL  01/01/2018   \n",
       "8   212931227  10801030      O               MAIL  01/01/2018   \n",
       "9   212931228  17500849      O               MAIL  01/01/2018   \n",
       "10  212931229  14081033      O               MAIL  01/01/2018   \n",
       "11  212931230  21526608      O               MAIL  01/01/2018   \n",
       "12  212931231  22248358      O               MAIL  01/01/2018   \n",
       "13  212931232  15692435      O               MAIL  01/01/2018   \n",
       "14  212931233  19436077      O               MAIL  01/01/2018   \n",
       "\n",
       "                                        OBSERVACIONES GESTION  \\\n",
       "0                                                 NaN    FPSE   \n",
       "1                                                 NaN    FPSE   \n",
       "2                                                 NaN    FPSE   \n",
       "3                                                 NaN    FPNE   \n",
       "4                                                 NaN    FPNE   \n",
       "5                                                 NaN    FPNE   \n",
       "6   4560-0029756-07 AUTO 05-01-2018  Impresión/PDF...    H038   \n",
       "7                                                 NaN    FPNE   \n",
       "8                                                 NaN    FPSE   \n",
       "9                                                 NaN    FPSE   \n",
       "10                                                NaN    FPSE   \n",
       "11                                                NaN    FPSE   \n",
       "12                                                NaN    FPSE   \n",
       "13                                                NaN    FPSE   \n",
       "14                                                NaN    FPSE   \n",
       "\n",
       "                            DESCRIPCION                          AGRUPACION  \n",
       "0      Emailing Falta de Pago - Enviado                                 NaN  \n",
       "1      Emailing Falta de Pago - Enviado                                 NaN  \n",
       "2      Emailing Falta de Pago - Enviado                                 NaN  \n",
       "3   Emailing Falta de Pago - No enviado                                 NaN  \n",
       "4   Emailing Falta de Pago - No enviado                                 NaN  \n",
       "5   Emailing Falta de Pago - No enviado                                 NaN  \n",
       "6               Impresión/PDF Automotor  CONSULTAS O GESTIONES SOBRE POLIZA  \n",
       "7   Emailing Falta de Pago - No enviado                                 NaN  \n",
       "8      Emailing Falta de Pago - Enviado                                 NaN  \n",
       "9      Emailing Falta de Pago - Enviado                                 NaN  \n",
       "10     Emailing Falta de Pago - Enviado                                 NaN  \n",
       "11     Emailing Falta de Pago - Enviado                                 NaN  \n",
       "12     Emailing Falta de Pago - Enviado                                 NaN  \n",
       "13     Emailing Falta de Pago - Enviado                                 NaN  \n",
       "14     Emailing Falta de Pago - Enviado                                 NaN  "
      ]
     },
     "execution_count": 4,
     "metadata": {},
     "output_type": "execute_result"
    }
   ],
   "source": [
    "df.head(15)"
   ]
  },
  {
   "cell_type": "code",
   "execution_count": 5,
   "metadata": {
    "scrolled": true
   },
   "outputs": [
    {
     "data": {
      "text/plain": [
       "ID                    object\n",
       "CIF_ID                object\n",
       "IN_OUT                object\n",
       "CANAL_COMUNICACION    object\n",
       "FECHA                 object\n",
       "OBSERVACIONES         object\n",
       "GESTION               object\n",
       "DESCRIPCION           object\n",
       "AGRUPACION            object\n",
       "dtype: object"
      ]
     },
     "execution_count": 5,
     "metadata": {},
     "output_type": "execute_result"
    }
   ],
   "source": [
    "df.dtypes"
   ]
  },
  {
   "cell_type": "code",
   "execution_count": 6,
   "metadata": {
    "scrolled": true
   },
   "outputs": [
    {
     "data": {
      "text/plain": [
       "Index(['ID', 'CIF_ID', 'IN_OUT', 'CANAL_COMUNICACION', 'FECHA',\n",
       "       'OBSERVACIONES', 'GESTION', 'DESCRIPCION', 'AGRUPACION'],\n",
       "      dtype='object')"
      ]
     },
     "execution_count": 6,
     "metadata": {},
     "output_type": "execute_result"
    }
   ],
   "source": [
    "df.columns"
   ]
  },
  {
   "cell_type": "markdown",
   "metadata": {},
   "source": [
    "*Based on last output, fill this list to mark most relevant columns*"
   ]
  },
  {
   "cell_type": "code",
   "execution_count": 3,
   "metadata": {},
   "outputs": [],
   "source": [
    "to_use = ['ID', 'CIF_ID', 'IN_OUT', 'CANAL_COMUNICACION', 'FECHA',\n",
    "       'OBSERVACIONES', 'GESTION', 'DESCRIPCION', 'AGRUPACION']"
   ]
  },
  {
   "cell_type": "markdown",
   "metadata": {},
   "source": [
    "### Now write the file"
   ]
  },
  {
   "cell_type": "markdown",
   "metadata": {},
   "source": [
    "**If it was a big file, read it completely with this line**"
   ]
  },
  {
   "cell_type": "code",
   "execution_count": 4,
   "metadata": {},
   "outputs": [
    {
     "name": "stderr",
     "output_type": "stream",
     "text": [
      "/home/voolkia/anaconda3/envs/test/lib/python3.6/site-packages/IPython/core/interactiveshell.py:3267: DtypeWarning: Columns (0,1) have mixed types. Specify dtype option on import or set low_memory=False.\n",
      "  exec(code_obj, self.user_global_ns, self.user_ns)\n"
     ]
    }
   ],
   "source": [
    "chunks = pd.read_csv(f\"{location}/{table}\",\n",
    "                         sep=sep,\n",
    "                         encoding=encoding,\n",
    "                         decimal=decimal,\n",
    "                         chunksize=1000000)\n",
    "df = pd.concat(chunks)"
   ]
  },
  {
   "cell_type": "code",
   "execution_count": null,
   "metadata": {},
   "outputs": [],
   "source": []
  },
  {
   "cell_type": "code",
   "execution_count": 5,
   "metadata": {},
   "outputs": [
    {
     "name": "stdout",
     "output_type": "stream",
     "text": [
      "ID\n",
      "CIF_ID\n",
      "IN_OUT\n",
      "CANAL_COMUNICACION\n",
      "FECHA\n",
      "OBSERVACIONES\n",
      "GESTION\n",
      "DESCRIPCION\n",
      "AGRUPACION\n"
     ]
    }
   ],
   "source": [
    "f = open(f'../../docs/{table} feature description.csv','w')\n",
    "f.write('Column;Used;Null Rate; Type; Unique values; Values\\n')\n",
    "for column in df.columns:\n",
    "    print(column)\n",
    "    null_rate = round(df[column].isna().mean()*100,2)\n",
    "    \n",
    "    unique_vals = df[column].nunique()\n",
    "    \n",
    "    if (column in to_use) and null_rate < .5 and unique_vals > 1:\n",
    "        used = 'X'\n",
    "    else:\n",
    "        used=''\n",
    "    \n",
    "    dtype = df[column].dtype\n",
    "    \n",
    "    if(dtype == 'object'):\n",
    "        values = f\"Top 10:\\n{df[column].value_counts(dropna=False).head(10).to_string()}\"\n",
    "    else:\n",
    "        values = f'[{df[column].min()};{df[column].max()}]'\n",
    "        \n",
    "    f.write(f'{column};{used};{null_rate};{dtype};{unique_vals};\"{values}\"\\n')\n",
    "    \n",
    "f.close()\n"
   ]
  }
 ],
 "metadata": {
  "kernelspec": {
   "display_name": "Python 3",
   "language": "python",
   "name": "python3"
  },
  "language_info": {
   "codemirror_mode": {
    "name": "ipython",
    "version": 3
   },
   "file_extension": ".py",
   "mimetype": "text/x-python",
   "name": "python",
   "nbconvert_exporter": "python",
   "pygments_lexer": "ipython3",
   "version": "3.6.7"
  }
 },
 "nbformat": 4,
 "nbformat_minor": 2
}
