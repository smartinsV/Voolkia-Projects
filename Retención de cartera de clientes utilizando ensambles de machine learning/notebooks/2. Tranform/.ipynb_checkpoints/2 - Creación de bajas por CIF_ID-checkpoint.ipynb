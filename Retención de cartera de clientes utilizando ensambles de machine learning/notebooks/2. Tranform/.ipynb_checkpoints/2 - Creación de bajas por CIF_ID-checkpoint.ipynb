{
 "cells": [
  {
   "cell_type": "code",
   "execution_count": 1,
   "metadata": {},
   "outputs": [],
   "source": [
    "import pandas as pd\n",
    "pd.set_option(\"display.max_columns\", 500)\n",
    "pd.set_option(\"display.max_rows\", 500)"
   ]
  },
  {
   "cell_type": "markdown",
   "metadata": {},
   "source": [
    "## Lectura de polizas.feather"
   ]
  },
  {
   "cell_type": "markdown",
   "metadata": {},
   "source": [
    " - Se considera que una cliente se dió de baja si no tiene polizas vigentes por 3 meses"
   ]
  },
  {
   "cell_type": "code",
   "execution_count": 2,
   "metadata": {},
   "outputs": [
    {
     "name": "stderr",
     "output_type": "stream",
     "text": [
      "/home/voolkia/anaconda3/envs/test/lib/python3.6/site-packages/pyarrow/pandas_compat.py:752: FutureWarning: .labels was deprecated in version 0.24.0. Use .codes instead.\n",
      "  labels, = index.labels\n"
     ]
    }
   ],
   "source": [
    "df_polizas = pd.read_feather('../../data/interim/polizas.feather')"
   ]
  },
  {
   "cell_type": "code",
   "execution_count": 12,
   "metadata": {},
   "outputs": [
    {
     "data": {
      "text/plain": [
       "0"
      ]
     },
     "execution_count": 12,
     "metadata": {},
     "output_type": "execute_result"
    }
   ],
   "source": [
    "df_polizas[\"NUM_SECU_POL\"].isna().sum()"
   ]
  },
  {
   "cell_type": "code",
   "execution_count": 4,
   "metadata": {},
   "outputs": [
    {
     "data": {
      "text/plain": [
       "4128"
      ]
     },
     "execution_count": 4,
     "metadata": {},
     "output_type": "execute_result"
    }
   ],
   "source": [
    "df_polizas[\"CIF_ID\"].isna().sum()"
   ]
  },
  {
   "cell_type": "code",
   "execution_count": 13,
   "metadata": {
    "scrolled": true
   },
   "outputs": [
    {
     "data": {
      "text/html": [
       "<div>\n",
       "<style scoped>\n",
       "    .dataframe tbody tr th:only-of-type {\n",
       "        vertical-align: middle;\n",
       "    }\n",
       "\n",
       "    .dataframe tbody tr th {\n",
       "        vertical-align: top;\n",
       "    }\n",
       "\n",
       "    .dataframe thead th {\n",
       "        text-align: right;\n",
       "    }\n",
       "</style>\n",
       "<table border=\"1\" class=\"dataframe\">\n",
       "  <thead>\n",
       "    <tr style=\"text-align: right;\">\n",
       "      <th></th>\n",
       "      <th>FECHA_VIG_POL</th>\n",
       "      <th>FECHA_VENC_POL</th>\n",
       "      <th>FECHA_PROCESO</th>\n",
       "      <th>FECHA_VIG_ORIG_POL</th>\n",
       "      <th>FECHA_EMI</th>\n",
       "      <th>FECHA_ANTIG</th>\n",
       "      <th>FECHA_VIG_POL_NPO</th>\n",
       "      <th>PROXIMA_FECHA_RENOV</th>\n",
       "    </tr>\n",
       "  </thead>\n",
       "  <tbody>\n",
       "    <tr>\n",
       "      <th>0</th>\n",
       "      <td>2019-01-05</td>\n",
       "      <td>2019-02-05</td>\n",
       "      <td>2019-01-31</td>\n",
       "      <td>2018-11-05</td>\n",
       "      <td>2018-11-05</td>\n",
       "      <td>2016-11-21</td>\n",
       "      <td>2018-11-05</td>\n",
       "      <td>2019-05-05</td>\n",
       "    </tr>\n",
       "    <tr>\n",
       "      <th>1</th>\n",
       "      <td>2019-01-05</td>\n",
       "      <td>2019-02-05</td>\n",
       "      <td>2019-01-31</td>\n",
       "      <td>2018-11-05</td>\n",
       "      <td>2018-11-05</td>\n",
       "      <td>2014-02-28</td>\n",
       "      <td>2018-11-05</td>\n",
       "      <td>2019-02-05</td>\n",
       "    </tr>\n",
       "    <tr>\n",
       "      <th>2</th>\n",
       "      <td>2019-01-05</td>\n",
       "      <td>2019-02-05</td>\n",
       "      <td>2019-01-31</td>\n",
       "      <td>2018-11-05</td>\n",
       "      <td>2018-11-05</td>\n",
       "      <td>2018-11-05</td>\n",
       "      <td>2018-11-05</td>\n",
       "      <td>2019-02-05</td>\n",
       "    </tr>\n",
       "    <tr>\n",
       "      <th>3</th>\n",
       "      <td>2019-01-06</td>\n",
       "      <td>2019-02-06</td>\n",
       "      <td>2019-01-31</td>\n",
       "      <td>2018-11-06</td>\n",
       "      <td>2018-11-05</td>\n",
       "      <td>2013-09-16</td>\n",
       "      <td>2018-11-06</td>\n",
       "      <td>2019-05-06</td>\n",
       "    </tr>\n",
       "    <tr>\n",
       "      <th>4</th>\n",
       "      <td>2019-01-05</td>\n",
       "      <td>2019-02-05</td>\n",
       "      <td>2019-01-31</td>\n",
       "      <td>2018-11-05</td>\n",
       "      <td>2018-11-05</td>\n",
       "      <td>2018-11-05</td>\n",
       "      <td>2018-11-05</td>\n",
       "      <td>2019-05-05</td>\n",
       "    </tr>\n",
       "  </tbody>\n",
       "</table>\n",
       "</div>"
      ],
      "text/plain": [
       "  FECHA_VIG_POL FECHA_VENC_POL FECHA_PROCESO FECHA_VIG_ORIG_POL  FECHA_EMI  \\\n",
       "0    2019-01-05     2019-02-05    2019-01-31         2018-11-05 2018-11-05   \n",
       "1    2019-01-05     2019-02-05    2019-01-31         2018-11-05 2018-11-05   \n",
       "2    2019-01-05     2019-02-05    2019-01-31         2018-11-05 2018-11-05   \n",
       "3    2019-01-06     2019-02-06    2019-01-31         2018-11-06 2018-11-05   \n",
       "4    2019-01-05     2019-02-05    2019-01-31         2018-11-05 2018-11-05   \n",
       "\n",
       "  FECHA_ANTIG FECHA_VIG_POL_NPO PROXIMA_FECHA_RENOV  \n",
       "0  2016-11-21        2018-11-05          2019-05-05  \n",
       "1  2014-02-28        2018-11-05          2019-02-05  \n",
       "2  2018-11-05        2018-11-05          2019-02-05  \n",
       "3  2013-09-16        2018-11-06          2019-05-06  \n",
       "4  2018-11-05        2018-11-05          2019-05-05  "
      ]
     },
     "execution_count": 13,
     "metadata": {},
     "output_type": "execute_result"
    }
   ],
   "source": [
    "df_polizas[[col for col in df_polizas.columns if 'FECHA' in col]].head(5)"
   ]
  },
  {
   "cell_type": "code",
   "execution_count": 3,
   "metadata": {},
   "outputs": [],
   "source": [
    "df_polizas['mes_anio_renov'] = df_polizas['PROXIMA_FECHA_RENOV'].dt.strftime('%m-%Y')"
   ]
  },
  {
   "cell_type": "code",
   "execution_count": null,
   "metadata": {},
   "outputs": [],
   "source": [
    "df_polizas.pivot_table(index='CIF_ID',columns=['mes_anio_renov'], aggfunc='sum')"
   ]
  },
  {
   "cell_type": "markdown",
   "metadata": {},
   "source": [
    "**Analizar asociación con la tabla pagos.feather**"
   ]
  },
  {
   "cell_type": "code",
   "execution_count": 3,
   "metadata": {},
   "outputs": [],
   "source": [
    "df_pagos = pd.read_feather(\"../../data/interim/pagos.feather\")"
   ]
  },
  {
   "cell_type": "code",
   "execution_count": 23,
   "metadata": {},
   "outputs": [
    {
     "data": {
      "text/plain": [
       "1202336"
      ]
     },
     "execution_count": 23,
     "metadata": {},
     "output_type": "execute_result"
    }
   ],
   "source": [
    "len(df_pagos[df_pagos[\"NUM_SECU_POL\"].isin(df_polizas[\"NUM_SECU_POL\"].unique())])"
   ]
  },
  {
   "cell_type": "code",
   "execution_count": 7,
   "metadata": {},
   "outputs": [],
   "source": [
    "vals = df_polizas[df_polizas[\"NUM_SECU_POL\"].isin(df_pagos[\"NUM_SECU_POL\"].unique())][\"NUM_SECU_POL\"]"
   ]
  },
  {
   "cell_type": "code",
   "execution_count": 8,
   "metadata": {},
   "outputs": [
    {
     "data": {
      "text/plain": [
       "1082370"
      ]
     },
     "execution_count": 8,
     "metadata": {},
     "output_type": "execute_result"
    }
   ],
   "source": [
    "len(set(vals))"
   ]
  },
  {
   "cell_type": "code",
   "execution_count": 21,
   "metadata": {},
   "outputs": [
    {
     "data": {
      "text/plain": [
       "1082370"
      ]
     },
     "execution_count": 21,
     "metadata": {},
     "output_type": "execute_result"
    }
   ],
   "source": [
    "len(set(df_polizas[\"NUM_SECU_POL\"].unique()).intersection(set(df_pagos[\"NUM_SECU_POL\"].unique())))"
   ]
  }
 ],
 "metadata": {
  "kernelspec": {
   "display_name": "Python 3",
   "language": "python",
   "name": "python3"
  },
  "language_info": {
   "codemirror_mode": {
    "name": "ipython",
    "version": 3
   },
   "file_extension": ".py",
   "mimetype": "text/x-python",
   "name": "python",
   "nbconvert_exporter": "python",
   "pygments_lexer": "ipython3",
   "version": "3.6.7"
  }
 },
 "nbformat": 4,
 "nbformat_minor": 2
}
