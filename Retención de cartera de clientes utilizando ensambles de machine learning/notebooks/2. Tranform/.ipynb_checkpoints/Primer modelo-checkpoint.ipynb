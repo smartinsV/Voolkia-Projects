{
 "cells": [
  {
   "cell_type": "code",
   "execution_count": 1,
   "metadata": {},
   "outputs": [],
   "source": [
    "import pandas as pd\n",
    "pd.set_option(\"display.max_columns\", 500)"
   ]
  },
  {
   "cell_type": "code",
   "execution_count": 2,
   "metadata": {},
   "outputs": [],
   "source": [
    "df_cotizaciones = pd.read_feather('../Datasets/cotizaciones.feather')"
   ]
  },
  {
   "cell_type": "code",
   "execution_count": 3,
   "metadata": {},
   "outputs": [],
   "source": [
    "df_pagos = pd.read_feather('../Datasets/pagos.feather')"
   ]
  },
  {
   "cell_type": "code",
   "execution_count": 4,
   "metadata": {},
   "outputs": [
    {
     "name": "stdout",
     "output_type": "stream",
     "text": [
      "Wall time: 9.5 s\n"
     ]
    }
   ],
   "source": [
    "%time df_interacciones = pd.read_feather('../Datasets/interacciones.feather')"
   ]
  },
  {
   "cell_type": "code",
   "execution_count": 5,
   "metadata": {},
   "outputs": [],
   "source": [
    "df_prospect = pd.read_feather('../Datasets/prospect.feather')"
   ]
  },
  {
   "cell_type": "markdown",
   "metadata": {},
   "source": [
    "## Buscando relaciones entre tablas"
   ]
  },
  {
   "cell_type": "code",
   "execution_count": 6,
   "metadata": {},
   "outputs": [
    {
     "data": {
      "text/html": [
       "<div>\n",
       "<style scoped>\n",
       "    .dataframe tbody tr th:only-of-type {\n",
       "        vertical-align: middle;\n",
       "    }\n",
       "\n",
       "    .dataframe tbody tr th {\n",
       "        vertical-align: top;\n",
       "    }\n",
       "\n",
       "    .dataframe thead th {\n",
       "        text-align: right;\n",
       "    }\n",
       "</style>\n",
       "<table border=\"1\" class=\"dataframe\">\n",
       "  <thead>\n",
       "    <tr style=\"text-align: right;\">\n",
       "      <th></th>\n",
       "      <th>index</th>\n",
       "      <th>ID</th>\n",
       "      <th>CIF_ID</th>\n",
       "      <th>IN_OUT</th>\n",
       "      <th>CANAL_COMUNICACION</th>\n",
       "      <th>FECHA</th>\n",
       "      <th>OBSERVACIONES</th>\n",
       "      <th>GESTION</th>\n",
       "      <th>DESCRIPCION</th>\n",
       "      <th>AGRUPACION</th>\n",
       "    </tr>\n",
       "  </thead>\n",
       "  <tbody>\n",
       "    <tr>\n",
       "      <th>0</th>\n",
       "      <td>0</td>\n",
       "      <td>239843971.0</td>\n",
       "      <td>2625536.0</td>\n",
       "      <td>O</td>\n",
       "      <td>None</td>\n",
       "      <td>2019-01-01</td>\n",
       "      <td>Cia - 1 - Secc 4 - Ramo 2 - Num Pol 8430337909...</td>\n",
       "      <td>H038</td>\n",
       "      <td>Impresión/PDF Automotor</td>\n",
       "      <td>CONSULTAS O GESTIONES SOBRE POLIZA</td>\n",
       "    </tr>\n",
       "    <tr>\n",
       "      <th>1</th>\n",
       "      <td>1</td>\n",
       "      <td>239843969.0</td>\n",
       "      <td>8953494.0</td>\n",
       "      <td>O</td>\n",
       "      <td>None</td>\n",
       "      <td>2019-01-01</td>\n",
       "      <td>Cia - 1 - Secc 4 - Ramo 1 - Num Pol 5450050119...</td>\n",
       "      <td>H038</td>\n",
       "      <td>Impresión/PDF Automotor</td>\n",
       "      <td>CONSULTAS O GESTIONES SOBRE POLIZA</td>\n",
       "    </tr>\n",
       "    <tr>\n",
       "      <th>2</th>\n",
       "      <td>2</td>\n",
       "      <td>239843970.0</td>\n",
       "      <td>19028314.0</td>\n",
       "      <td>O</td>\n",
       "      <td>None</td>\n",
       "      <td>2019-01-01</td>\n",
       "      <td>Cia - 1 - Secc 4 - Ramo 2 - Num Pol 8430337914...</td>\n",
       "      <td>H038</td>\n",
       "      <td>Impresión/PDF Automotor</td>\n",
       "      <td>CONSULTAS O GESTIONES SOBRE POLIZA</td>\n",
       "    </tr>\n",
       "    <tr>\n",
       "      <th>3</th>\n",
       "      <td>3</td>\n",
       "      <td>239843968.0</td>\n",
       "      <td>18120422.0</td>\n",
       "      <td>O</td>\n",
       "      <td>None</td>\n",
       "      <td>2019-01-01</td>\n",
       "      <td>Cia - 1 - Secc 4 - Ramo 1 - Num Pol 5520043762...</td>\n",
       "      <td>H038</td>\n",
       "      <td>Impresión/PDF Automotor</td>\n",
       "      <td>CONSULTAS O GESTIONES SOBRE POLIZA</td>\n",
       "    </tr>\n",
       "    <tr>\n",
       "      <th>4</th>\n",
       "      <td>4</td>\n",
       "      <td>239843972.0</td>\n",
       "      <td>22801386.0</td>\n",
       "      <td>O</td>\n",
       "      <td>None</td>\n",
       "      <td>2019-01-01</td>\n",
       "      <td>Cia - 14 - Secc 4 - Ramo 1 - Num Pol 452000259...</td>\n",
       "      <td>H038</td>\n",
       "      <td>Impresión/PDF Automotor</td>\n",
       "      <td>CONSULTAS O GESTIONES SOBRE POLIZA</td>\n",
       "    </tr>\n",
       "  </tbody>\n",
       "</table>\n",
       "</div>"
      ],
      "text/plain": [
       "   index           ID      CIF_ID IN_OUT CANAL_COMUNICACION      FECHA  \\\n",
       "0      0  239843971.0   2625536.0      O               None 2019-01-01   \n",
       "1      1  239843969.0   8953494.0      O               None 2019-01-01   \n",
       "2      2  239843970.0  19028314.0      O               None 2019-01-01   \n",
       "3      3  239843968.0  18120422.0      O               None 2019-01-01   \n",
       "4      4  239843972.0  22801386.0      O               None 2019-01-01   \n",
       "\n",
       "                                       OBSERVACIONES GESTION  \\\n",
       "0  Cia - 1 - Secc 4 - Ramo 2 - Num Pol 8430337909...    H038   \n",
       "1  Cia - 1 - Secc 4 - Ramo 1 - Num Pol 5450050119...    H038   \n",
       "2  Cia - 1 - Secc 4 - Ramo 2 - Num Pol 8430337914...    H038   \n",
       "3  Cia - 1 - Secc 4 - Ramo 1 - Num Pol 5520043762...    H038   \n",
       "4  Cia - 14 - Secc 4 - Ramo 1 - Num Pol 452000259...    H038   \n",
       "\n",
       "               DESCRIPCION                          AGRUPACION  \n",
       "0  Impresión/PDF Automotor  CONSULTAS O GESTIONES SOBRE POLIZA  \n",
       "1  Impresión/PDF Automotor  CONSULTAS O GESTIONES SOBRE POLIZA  \n",
       "2  Impresión/PDF Automotor  CONSULTAS O GESTIONES SOBRE POLIZA  \n",
       "3  Impresión/PDF Automotor  CONSULTAS O GESTIONES SOBRE POLIZA  \n",
       "4  Impresión/PDF Automotor  CONSULTAS O GESTIONES SOBRE POLIZA  "
      ]
     },
     "execution_count": 6,
     "metadata": {},
     "output_type": "execute_result"
    }
   ],
   "source": [
    "df_interacciones.head()"
   ]
  },
  {
   "cell_type": "code",
   "execution_count": 7,
   "metadata": {},
   "outputs": [
    {
     "data": {
      "text/html": [
       "<div>\n",
       "<style scoped>\n",
       "    .dataframe tbody tr th:only-of-type {\n",
       "        vertical-align: middle;\n",
       "    }\n",
       "\n",
       "    .dataframe tbody tr th {\n",
       "        vertical-align: top;\n",
       "    }\n",
       "\n",
       "    .dataframe thead th {\n",
       "        text-align: right;\n",
       "    }\n",
       "</style>\n",
       "<table border=\"1\" class=\"dataframe\">\n",
       "  <thead>\n",
       "    <tr style=\"text-align: right;\">\n",
       "      <th></th>\n",
       "      <th>NRO_PRESUP</th>\n",
       "      <th>CIF_ID</th>\n",
       "      <th>COD_CIA</th>\n",
       "      <th>COD_SECC</th>\n",
       "      <th>COD_RAMO</th>\n",
       "      <th>FECHA_EQUIPO</th>\n",
       "      <th>FECHA_SOLIC</th>\n",
       "      <th>COD_AGENCIA_PRESU</th>\n",
       "      <th>COD_AGENCIA_SOLIC</th>\n",
       "      <th>COD_INICIADOR</th>\n",
       "      <th>ESTADO</th>\n",
       "      <th>COD_MARCA</th>\n",
       "      <th>COD_MOD</th>\n",
       "      <th>COD_PLAN</th>\n",
       "      <th>SUMA_ASEG</th>\n",
       "      <th>TIPO_COMBUSTIBLE</th>\n",
       "      <th>GRUPO_COMBUSTIBLE</th>\n",
       "      <th>ORIGEN</th>\n",
       "      <th>FOR_COBRO</th>\n",
       "      <th>NEGOCIO</th>\n",
       "      <th>COD_PROD</th>\n",
       "      <th>COD_POSTAL</th>\n",
       "      <th>CANAL_ORIGEN</th>\n",
       "      <th>ORIGEN_DESC</th>\n",
       "      <th>REGION</th>\n",
       "      <th>NOM_ORIGEN_PRESU</th>\n",
       "      <th>NUM_SECU_POL</th>\n",
       "      <th>EDAD</th>\n",
       "      <th>SEXO</th>\n",
       "      <th>ESTADO_CIVIL</th>\n",
       "      <th>MARCA_MODELO</th>\n",
       "      <th>PUERTAS</th>\n",
       "      <th>LOCALIDAD</th>\n",
       "      <th>PROVINCIA</th>\n",
       "      <th>MARCA</th>\n",
       "      <th>VERSION</th>\n",
       "      <th>NACIONAL_IMPORT</th>\n",
       "      <th>TRACCION</th>\n",
       "      <th>TIPO</th>\n",
       "      <th>MCA_0KM</th>\n",
       "      <th>REC_TR_REAL</th>\n",
       "      <th>REC_TC_REAL</th>\n",
       "      <th>REC_RC_REAL</th>\n",
       "      <th>COMPRO_PLAN</th>\n",
       "      <th>COMPRO_PACK</th>\n",
       "      <th>REC_TC_VIGENTE</th>\n",
       "      <th>REC2_1</th>\n",
       "      <th>REDU_TIPO</th>\n",
       "    </tr>\n",
       "  </thead>\n",
       "  <tbody>\n",
       "    <tr>\n",
       "      <th>0</th>\n",
       "      <td>44980320</td>\n",
       "      <td>4065102</td>\n",
       "      <td>1</td>\n",
       "      <td>4</td>\n",
       "      <td>1</td>\n",
       "      <td>2019-01-02</td>\n",
       "      <td>NaT</td>\n",
       "      <td>3401</td>\n",
       "      <td>NaN</td>\n",
       "      <td>72038.0</td>\n",
       "      <td>PRESU</td>\n",
       "      <td>30286</td>\n",
       "      <td>2019</td>\n",
       "      <td>NaN</td>\n",
       "      <td>519400,00</td>\n",
       "      <td>N</td>\n",
       "      <td>2.0</td>\n",
       "      <td>PR</td>\n",
       "      <td>PP</td>\n",
       "      <td>PP</td>\n",
       "      <td>72038</td>\n",
       "      <td>9410012</td>\n",
       "      <td>INDIRECTO</td>\n",
       "      <td>Banc.</td>\n",
       "      <td>None</td>\n",
       "      <td>BANCO SANTANDER RIO S.A.</td>\n",
       "      <td>NaN</td>\n",
       "      <td>NaN</td>\n",
       "      <td>None</td>\n",
       "      <td>None</td>\n",
       "      <td>TIGGO</td>\n",
       "      <td>5.0</td>\n",
       "      <td>USHUAIA</td>\n",
       "      <td>TIERRA DEL FUEGO</td>\n",
       "      <td>CHERY</td>\n",
       "      <td>3 1.6 4X2 LUXURY CVT L/17</td>\n",
       "      <td>S</td>\n",
       "      <td>S</td>\n",
       "      <td>SUV</td>\n",
       "      <td>SI</td>\n",
       "      <td>ALTO</td>\n",
       "      <td>ALTO</td>\n",
       "      <td>MEDIO</td>\n",
       "      <td>None</td>\n",
       "      <td>None</td>\n",
       "      <td>ALTO</td>\n",
       "      <td>ALTO</td>\n",
       "      <td>JEEPS DE HASTA 4 CIL</td>\n",
       "    </tr>\n",
       "    <tr>\n",
       "      <th>1</th>\n",
       "      <td>44980325</td>\n",
       "      <td>4065102</td>\n",
       "      <td>1</td>\n",
       "      <td>4</td>\n",
       "      <td>1</td>\n",
       "      <td>2019-01-02</td>\n",
       "      <td>NaT</td>\n",
       "      <td>3401</td>\n",
       "      <td>NaN</td>\n",
       "      <td>72043.0</td>\n",
       "      <td>PRESU</td>\n",
       "      <td>28512</td>\n",
       "      <td>2019</td>\n",
       "      <td>NaN</td>\n",
       "      <td>756000,00</td>\n",
       "      <td>N</td>\n",
       "      <td>2.0</td>\n",
       "      <td>PR</td>\n",
       "      <td>PP</td>\n",
       "      <td>PP</td>\n",
       "      <td>72043</td>\n",
       "      <td>1621000</td>\n",
       "      <td>INDIRECTO</td>\n",
       "      <td>Banc.</td>\n",
       "      <td>None</td>\n",
       "      <td>ICBC (ARGENTINA) SA</td>\n",
       "      <td>NaN</td>\n",
       "      <td>NaN</td>\n",
       "      <td>None</td>\n",
       "      <td>None</td>\n",
       "      <td>ECOSPORT</td>\n",
       "      <td>5.0</td>\n",
       "      <td>BENAVIDEZ</td>\n",
       "      <td>BUENOS AIRES</td>\n",
       "      <td>FORD</td>\n",
       "      <td>1.5 FREESTYLE L/18</td>\n",
       "      <td>N</td>\n",
       "      <td>S</td>\n",
       "      <td>SUV</td>\n",
       "      <td>SI</td>\n",
       "      <td>ALTO</td>\n",
       "      <td>ALTO</td>\n",
       "      <td>MEDIO</td>\n",
       "      <td>None</td>\n",
       "      <td>None</td>\n",
       "      <td>ALTO</td>\n",
       "      <td>ALTO</td>\n",
       "      <td>PICK-UPS DE CLASE \"A</td>\n",
       "    </tr>\n",
       "    <tr>\n",
       "      <th>2</th>\n",
       "      <td>44980326</td>\n",
       "      <td>4065102</td>\n",
       "      <td>1</td>\n",
       "      <td>4</td>\n",
       "      <td>1</td>\n",
       "      <td>2019-01-02</td>\n",
       "      <td>NaT</td>\n",
       "      <td>3401</td>\n",
       "      <td>NaN</td>\n",
       "      <td>74050.0</td>\n",
       "      <td>PRESU</td>\n",
       "      <td>2117</td>\n",
       "      <td>2018</td>\n",
       "      <td>NaN</td>\n",
       "      <td>438600,00</td>\n",
       "      <td>N</td>\n",
       "      <td>2.0</td>\n",
       "      <td>PR</td>\n",
       "      <td>None</td>\n",
       "      <td>DEF</td>\n",
       "      <td>74050</td>\n",
       "      <td>1888000</td>\n",
       "      <td>INDIRECTO</td>\n",
       "      <td>Agrupad.</td>\n",
       "      <td>None</td>\n",
       "      <td>GARBARINO S.A.</td>\n",
       "      <td>NaN</td>\n",
       "      <td>NaN</td>\n",
       "      <td>None</td>\n",
       "      <td>None</td>\n",
       "      <td>ONIX</td>\n",
       "      <td>5.0</td>\n",
       "      <td>BARRIO MONTE CUDINE</td>\n",
       "      <td>BUENOS AIRES</td>\n",
       "      <td>CHEVROLET</td>\n",
       "      <td>1.4 LTZ L/17</td>\n",
       "      <td>N</td>\n",
       "      <td>S</td>\n",
       "      <td>SEDAN</td>\n",
       "      <td>NO</td>\n",
       "      <td>ALTO</td>\n",
       "      <td>ALTO</td>\n",
       "      <td>MEDIO</td>\n",
       "      <td>None</td>\n",
       "      <td>None</td>\n",
       "      <td>ALTO</td>\n",
       "      <td>ALTO</td>\n",
       "      <td>AUTOS, CAMIONE.RURAL</td>\n",
       "    </tr>\n",
       "    <tr>\n",
       "      <th>3</th>\n",
       "      <td>44980328</td>\n",
       "      <td>4065102</td>\n",
       "      <td>1</td>\n",
       "      <td>4</td>\n",
       "      <td>1</td>\n",
       "      <td>2019-01-02</td>\n",
       "      <td>NaT</td>\n",
       "      <td>3401</td>\n",
       "      <td>NaN</td>\n",
       "      <td>72038.0</td>\n",
       "      <td>PRESU</td>\n",
       "      <td>28320</td>\n",
       "      <td>2011</td>\n",
       "      <td>NaN</td>\n",
       "      <td>397800,00</td>\n",
       "      <td>N</td>\n",
       "      <td>2.0</td>\n",
       "      <td>PR</td>\n",
       "      <td>None</td>\n",
       "      <td>DEF</td>\n",
       "      <td>72038</td>\n",
       "      <td>5016021</td>\n",
       "      <td>INDIRECTO</td>\n",
       "      <td>Banc.</td>\n",
       "      <td>None</td>\n",
       "      <td>BANCO SANTANDER RIO S.A.</td>\n",
       "      <td>NaN</td>\n",
       "      <td>NaN</td>\n",
       "      <td>None</td>\n",
       "      <td>None</td>\n",
       "      <td>TUCSON</td>\n",
       "      <td>5.0</td>\n",
       "      <td>PARQUE HORIZONTE</td>\n",
       "      <td>CORDOBA</td>\n",
       "      <td>HYUNDAI</td>\n",
       "      <td>2.0 4X2 GL L/10</td>\n",
       "      <td>S</td>\n",
       "      <td>S</td>\n",
       "      <td>SUV</td>\n",
       "      <td>NO</td>\n",
       "      <td>ALTO</td>\n",
       "      <td>MALTO</td>\n",
       "      <td>MEDIO</td>\n",
       "      <td>None</td>\n",
       "      <td>None</td>\n",
       "      <td>MALTO</td>\n",
       "      <td>MALTO</td>\n",
       "      <td>JEEPS DE HASTA 4 CIL</td>\n",
       "    </tr>\n",
       "    <tr>\n",
       "      <th>4</th>\n",
       "      <td>44980333</td>\n",
       "      <td>4065102</td>\n",
       "      <td>1</td>\n",
       "      <td>4</td>\n",
       "      <td>1</td>\n",
       "      <td>2019-01-02</td>\n",
       "      <td>NaT</td>\n",
       "      <td>3401</td>\n",
       "      <td>NaN</td>\n",
       "      <td>72043.0</td>\n",
       "      <td>PRESU</td>\n",
       "      <td>5812</td>\n",
       "      <td>2019</td>\n",
       "      <td>NaN</td>\n",
       "      <td>835000,00</td>\n",
       "      <td>N</td>\n",
       "      <td>2.0</td>\n",
       "      <td>PR</td>\n",
       "      <td>PP</td>\n",
       "      <td>PP</td>\n",
       "      <td>72043</td>\n",
       "      <td>8109000</td>\n",
       "      <td>INDIRECTO</td>\n",
       "      <td>Banc.</td>\n",
       "      <td>None</td>\n",
       "      <td>ICBC (ARGENTINA) SA</td>\n",
       "      <td>NaN</td>\n",
       "      <td>NaN</td>\n",
       "      <td>None</td>\n",
       "      <td>None</td>\n",
       "      <td>FOCUS</td>\n",
       "      <td>4.0</td>\n",
       "      <td>VILLA DEL MAR</td>\n",
       "      <td>BUENOS AIRES</td>\n",
       "      <td>FORD</td>\n",
       "      <td>L/16 2.0 4P SE</td>\n",
       "      <td>N</td>\n",
       "      <td>S</td>\n",
       "      <td>SEDAN</td>\n",
       "      <td>SI</td>\n",
       "      <td>ALTO</td>\n",
       "      <td>ALTO</td>\n",
       "      <td>MEDIO</td>\n",
       "      <td>None</td>\n",
       "      <td>None</td>\n",
       "      <td>ALTO</td>\n",
       "      <td>ALTO</td>\n",
       "      <td>AUTOS, CAMIONE.RURAL</td>\n",
       "    </tr>\n",
       "  </tbody>\n",
       "</table>\n",
       "</div>"
      ],
      "text/plain": [
       "   NRO_PRESUP   CIF_ID  COD_CIA  COD_SECC  COD_RAMO FECHA_EQUIPO FECHA_SOLIC  \\\n",
       "0    44980320  4065102        1         4         1   2019-01-02         NaT   \n",
       "1    44980325  4065102        1         4         1   2019-01-02         NaT   \n",
       "2    44980326  4065102        1         4         1   2019-01-02         NaT   \n",
       "3    44980328  4065102        1         4         1   2019-01-02         NaT   \n",
       "4    44980333  4065102        1         4         1   2019-01-02         NaT   \n",
       "\n",
       "   COD_AGENCIA_PRESU  COD_AGENCIA_SOLIC  COD_INICIADOR ESTADO  COD_MARCA  \\\n",
       "0               3401                NaN        72038.0  PRESU      30286   \n",
       "1               3401                NaN        72043.0  PRESU      28512   \n",
       "2               3401                NaN        74050.0  PRESU       2117   \n",
       "3               3401                NaN        72038.0  PRESU      28320   \n",
       "4               3401                NaN        72043.0  PRESU       5812   \n",
       "\n",
       "   COD_MOD  COD_PLAN  SUMA_ASEG TIPO_COMBUSTIBLE  GRUPO_COMBUSTIBLE ORIGEN  \\\n",
       "0     2019       NaN  519400,00                N                2.0     PR   \n",
       "1     2019       NaN  756000,00                N                2.0     PR   \n",
       "2     2018       NaN  438600,00                N                2.0     PR   \n",
       "3     2011       NaN  397800,00                N                2.0     PR   \n",
       "4     2019       NaN  835000,00                N                2.0     PR   \n",
       "\n",
       "  FOR_COBRO NEGOCIO  COD_PROD  COD_POSTAL CANAL_ORIGEN ORIGEN_DESC REGION  \\\n",
       "0        PP      PP     72038     9410012    INDIRECTO       Banc.   None   \n",
       "1        PP      PP     72043     1621000    INDIRECTO       Banc.   None   \n",
       "2      None     DEF     74050     1888000    INDIRECTO    Agrupad.   None   \n",
       "3      None     DEF     72038     5016021    INDIRECTO       Banc.   None   \n",
       "4        PP      PP     72043     8109000    INDIRECTO       Banc.   None   \n",
       "\n",
       "           NOM_ORIGEN_PRESU  NUM_SECU_POL  EDAD  SEXO ESTADO_CIVIL  \\\n",
       "0  BANCO SANTANDER RIO S.A.           NaN   NaN  None         None   \n",
       "1       ICBC (ARGENTINA) SA           NaN   NaN  None         None   \n",
       "2            GARBARINO S.A.           NaN   NaN  None         None   \n",
       "3  BANCO SANTANDER RIO S.A.           NaN   NaN  None         None   \n",
       "4       ICBC (ARGENTINA) SA           NaN   NaN  None         None   \n",
       "\n",
       "  MARCA_MODELO  PUERTAS            LOCALIDAD         PROVINCIA      MARCA  \\\n",
       "0        TIGGO      5.0              USHUAIA  TIERRA DEL FUEGO      CHERY   \n",
       "1     ECOSPORT      5.0            BENAVIDEZ      BUENOS AIRES       FORD   \n",
       "2         ONIX      5.0  BARRIO MONTE CUDINE      BUENOS AIRES  CHEVROLET   \n",
       "3       TUCSON      5.0     PARQUE HORIZONTE           CORDOBA    HYUNDAI   \n",
       "4        FOCUS      4.0        VILLA DEL MAR      BUENOS AIRES       FORD   \n",
       "\n",
       "                     VERSION NACIONAL_IMPORT TRACCION   TIPO MCA_0KM  \\\n",
       "0  3 1.6 4X2 LUXURY CVT L/17               S        S    SUV      SI   \n",
       "1         1.5 FREESTYLE L/18               N        S    SUV      SI   \n",
       "2               1.4 LTZ L/17               N        S  SEDAN      NO   \n",
       "3            2.0 4X2 GL L/10               S        S    SUV      NO   \n",
       "4             L/16 2.0 4P SE               N        S  SEDAN      SI   \n",
       "\n",
       "  REC_TR_REAL REC_TC_REAL REC_RC_REAL COMPRO_PLAN COMPRO_PACK REC_TC_VIGENTE  \\\n",
       "0        ALTO        ALTO       MEDIO        None        None           ALTO   \n",
       "1        ALTO        ALTO       MEDIO        None        None           ALTO   \n",
       "2        ALTO        ALTO       MEDIO        None        None           ALTO   \n",
       "3        ALTO       MALTO       MEDIO        None        None          MALTO   \n",
       "4        ALTO        ALTO       MEDIO        None        None           ALTO   \n",
       "\n",
       "  REC2_1             REDU_TIPO  \n",
       "0   ALTO  JEEPS DE HASTA 4 CIL  \n",
       "1   ALTO  PICK-UPS DE CLASE \"A  \n",
       "2   ALTO  AUTOS, CAMIONE.RURAL  \n",
       "3  MALTO  JEEPS DE HASTA 4 CIL  \n",
       "4   ALTO  AUTOS, CAMIONE.RURAL  "
      ]
     },
     "execution_count": 7,
     "metadata": {},
     "output_type": "execute_result"
    }
   ],
   "source": [
    "df_cotizaciones.head()"
   ]
  },
  {
   "cell_type": "code",
   "execution_count": 9,
   "metadata": {
    "scrolled": true
   },
   "outputs": [
    {
     "data": {
      "text/plain": [
       "COMPRO_PACK          0.943536\n",
       "COMPRO_PLAN          0.943536\n",
       "NUM_SECU_POL         0.924637\n",
       "FECHA_SOLIC          0.892720\n",
       "COD_AGENCIA_SOLIC    0.892113\n",
       "COD_PLAN             0.879181\n",
       "ESTADO_CIVIL         0.812151\n",
       "EDAD                 0.803289\n",
       "SEXO                 0.801122\n",
       "FOR_COBRO            0.758509\n",
       "REGION               0.667619\n",
       "COD_INICIADOR        0.332311\n",
       "NEGOCIO              0.320274\n",
       "MCA_0KM              0.211678\n",
       "PUERTAS              0.049359\n",
       "TRACCION             0.014738\n",
       "REC_TR_REAL          0.014720\n",
       "REC_TC_REAL          0.014720\n",
       "REC_TC_VIGENTE       0.014720\n",
       "REC2_1               0.014720\n",
       "REC_RC_REAL          0.014442\n",
       "GRUPO_COMBUSTIBLE    0.012510\n",
       "TIPO_COMBUSTIBLE     0.012491\n",
       "VERSION              0.001629\n",
       "LOCALIDAD            0.000398\n",
       "ORIGEN_DESC          0.000353\n",
       "PROVINCIA            0.000016\n",
       "REDU_TIPO            0.000008\n",
       "MARCA                0.000008\n",
       "NACIONAL_IMPORT      0.000008\n",
       "MARCA_MODELO         0.000008\n",
       "TIPO                 0.000008\n",
       "CIF_ID               0.000000\n",
       "COD_CIA              0.000000\n",
       "COD_SECC             0.000000\n",
       "COD_RAMO             0.000000\n",
       "FECHA_EQUIPO         0.000000\n",
       "COD_AGENCIA_PRESU    0.000000\n",
       "COD_PROD             0.000000\n",
       "COD_POSTAL           0.000000\n",
       "ESTADO               0.000000\n",
       "COD_MARCA            0.000000\n",
       "COD_MOD              0.000000\n",
       "SUMA_ASEG            0.000000\n",
       "NOM_ORIGEN_PRESU     0.000000\n",
       "CANAL_ORIGEN         0.000000\n",
       "ORIGEN               0.000000\n",
       "NRO_PRESUP           0.000000\n",
       "dtype: float64"
      ]
     },
     "execution_count": 9,
     "metadata": {},
     "output_type": "execute_result"
    }
   ],
   "source": [
    "(df_cotizaciones.isna().mean()).sort_values(ascending=False)"
   ]
  },
  {
   "cell_type": "code",
   "execution_count": 9,
   "metadata": {},
   "outputs": [
    {
     "data": {
      "text/plain": [
       "0.9844515948219285"
      ]
     },
     "execution_count": 9,
     "metadata": {},
     "output_type": "execute_result"
    }
   ],
   "source": [
    "len(df_cotizaciones[df_cotizaciones['CIF_ID'].isin(df_interacciones['CIF_ID'])]) / len(df_cotizaciones)"
   ]
  },
  {
   "cell_type": "markdown",
   "metadata": {},
   "source": [
    "*Casi todos los campos en cotizaciones tienen interaccion*"
   ]
  },
  {
   "cell_type": "code",
   "execution_count": 7,
   "metadata": {},
   "outputs": [
    {
     "data": {
      "text/plain": [
       "1.3620494606526299"
      ]
     },
     "execution_count": 7,
     "metadata": {},
     "output_type": "execute_result"
    }
   ],
   "source": [
    "len(df_pagos[df_pagos['NUM_SECU_POL'].isin(df_cotizaciones['NUM_SECU_POL'])]) / len(df_pagos) *100"
   ]
  },
  {
   "cell_type": "code",
   "execution_count": 8,
   "metadata": {},
   "outputs": [
    {
     "data": {
      "text/plain": [
       "3272921"
      ]
     },
     "execution_count": 8,
     "metadata": {},
     "output_type": "execute_result"
    }
   ],
   "source": [
    "df_pagos['NUM_SECU_POL'].nunique()"
   ]
  },
  {
   "cell_type": "code",
   "execution_count": 9,
   "metadata": {},
   "outputs": [
    {
     "data": {
      "text/plain": [
       "106212"
      ]
     },
     "execution_count": 9,
     "metadata": {},
     "output_type": "execute_result"
    }
   ],
   "source": [
    "df_cotizaciones['NUM_SECU_POL'].nunique()"
   ]
  },
  {
   "cell_type": "code",
   "execution_count": 10,
   "metadata": {},
   "outputs": [
    {
     "data": {
      "text/plain": [
       "162052"
      ]
     },
     "execution_count": 10,
     "metadata": {},
     "output_type": "execute_result"
    }
   ],
   "source": [
    "df_cotizaciones['CIF_ID'].nunique()"
   ]
  },
  {
   "cell_type": "code",
   "execution_count": 12,
   "metadata": {},
   "outputs": [
    {
     "data": {
      "text/plain": [
       "1236182"
      ]
     },
     "execution_count": 12,
     "metadata": {},
     "output_type": "execute_result"
    }
   ],
   "source": [
    "df_interacciones['CIF_ID'].nunique()"
   ]
  },
  {
   "cell_type": "code",
   "execution_count": 21,
   "metadata": {},
   "outputs": [
    {
     "data": {
      "text/plain": [
       "CONSULTAS O GESTIONES SOBRE POLIZA                   3780607\n",
       "CONSULTAR SOBRE INSPECCIONES / EQUIPO RECUPERADOR     109812\n",
       "CONTRATAR UN NUEVO SEGURO                              61048\n",
       "CONSULTAR TEMAS DE PAGO                                53575\n",
       "BAJA DE POLIZA                                         12088\n",
       "SOLICITAR BAJA DE POLIZA                                9092\n",
       "RECLAMOS                                                8986\n",
       "SOLICITA AUXILIO MECANICO                                543\n",
       "CONOCER EL ESTADO DE UN SINIESTRO                        287\n",
       "Name: AGRUPACION, dtype: int64"
      ]
     },
     "execution_count": 21,
     "metadata": {},
     "output_type": "execute_result"
    }
   ],
   "source": [
    "df_interacciones[\"AGRUPACION\"].value_counts()"
   ]
  },
  {
   "cell_type": "code",
   "execution_count": 26,
   "metadata": {
    "scrolled": true
   },
   "outputs": [
    {
     "data": {
      "text/plain": [
       "RE - Por aumento de cuota                             2498\n",
       "VV - Vta. Vehículo - Compra Futura                    2326\n",
       "VV - Vta. Vehículo - No reemplaza Unidad              2120\n",
       "RE - Diferencia de costos/Coberturas/Servicios        1664\n",
       "NRE - Diferencia de costos/Coberturas/Servicios        973\n",
       "VV - Vta. Vehículo - Ya Aseguro en LA CAJA             619\n",
       "NRE - Por aumento de cuota                             425\n",
       "VV - Vta. Vehículo - Asegura en otra cía               293\n",
       "Baja por Desuso Temporario                             278\n",
       "RE - Problemas Economicos                              247\n",
       "Baja por Fallecimiento                                 176\n",
       "NRE - Problemas Económicos                             147\n",
       "NRE - Disconformidad Resolución de siniestros          128\n",
       "NRE - Mala Atención                                     40\n",
       "RE - Disconformidad Resolución de siniestros            32\n",
       "RE - Cancela por problemas con equipo recuperador       21\n",
       "NRE - Disconformidad en Suma Asegurada                  20\n",
       "RE - Problemas Debito                                   18\n",
       "NRE - Problemas Débito                                  14\n",
       "RE - Mala Atención                                      14\n",
       "NRE - Problemas Auxicaja                                14\n",
       "RE - Disconformidad en Suma Asegurada                   11\n",
       "NRE - Cancela por problemas con equipo recuperador       6\n",
       "RE - Problemas Auxicaja                                  4\n",
       "Name: DESCRIPCION, dtype: int64"
      ]
     },
     "execution_count": 26,
     "metadata": {},
     "output_type": "execute_result"
    }
   ],
   "source": [
    "df_interacciones[df_interacciones[\"AGRUPACION\"] == \"BAJA DE POLIZA\"][\"DESCRIPCION\"].value_counts()"
   ]
  },
  {
   "cell_type": "code",
   "execution_count": 27,
   "metadata": {},
   "outputs": [
    {
     "data": {
      "text/plain": [
       "E-Mail At.Clientes - Consulta por Baja de Pza/Sol    4961\n",
       "Otros                                                3146\n",
       "Venta Unidad - Mudanza                                958\n",
       "Baja - T                                               27\n",
       "Name: DESCRIPCION, dtype: int64"
      ]
     },
     "execution_count": 27,
     "metadata": {},
     "output_type": "execute_result"
    }
   ],
   "source": [
    "df_interacciones[df_interacciones[\"AGRUPACION\"] == \"SOLICITAR BAJA DE POLIZA\"][\"DESCRIPCION\"].value_counts()"
   ]
  },
  {
   "cell_type": "markdown",
   "metadata": {},
   "source": [
    "## Atributos nuevos"
   ]
  },
  {
   "cell_type": "code",
   "execution_count": 33,
   "metadata": {},
   "outputs": [],
   "source": [
    "df_pagos['MONTH_PAGO'] = df_pagos[\"FEC_PAGO\"].map(lambda x: x.month).astype(\"Int64\")"
   ]
  },
  {
   "cell_type": "code",
   "execution_count": 34,
   "metadata": {},
   "outputs": [],
   "source": [
    "df_pagos['YEAR_PAGO'] = df_pagos[\"FEC_PAGO\"].map(lambda x: x.year).astype(\"Int64\")"
   ]
  },
  {
   "cell_type": "code",
   "execution_count": 107,
   "metadata": {
    "scrolled": true
   },
   "outputs": [
    {
     "data": {
      "text/plain": [
       "NUM_SECU_POL\n",
       "9609992         2019-05-01\n",
       "1799992         2019-05-01\n",
       "11116689999     2019-05-01\n",
       "91449992        2019-05-01\n",
       "360559968       2019-05-01\n",
       "361269968       2019-05-01\n",
       "361439968       2019-05-01\n",
       "361709968       2019-05-01\n",
       "362369968       2019-05-01\n",
       "71909992        2019-05-01\n",
       "18569997        2019-05-01\n",
       "131299992       2019-05-01\n",
       "232699992       2019-05-01\n",
       "362899968       2019-05-01\n",
       "453279968       2019-05-01\n",
       "488939968       2019-05-01\n",
       "560069968       2019-05-01\n",
       "577849968       2019-05-01\n",
       "585169968       2019-03-01\n",
       "403499968       2019-05-01\n",
       "357699968       2019-05-01\n",
       "360239968       2019-05-01\n",
       "509449968       2019-05-01\n",
       "289339968       2019-05-01\n",
       "291939968       2019-05-01\n",
       "301059968       2019-05-01\n",
       "303899968       2019-05-01\n",
       "304549968       2019-05-01\n",
       "305029968       2019-05-01\n",
       "347959968       2019-05-01\n",
       "                   ...    \n",
       "1919072639999   2019-06-01\n",
       "1919079769999   2019-06-01\n",
       "1919075219999   2019-06-01\n",
       "1920398049999   2019-06-01\n",
       "1914483389999   2019-06-01\n",
       "1961208479999   2019-06-01\n",
       "1907688619999   2019-06-01\n",
       "1895080909999   2019-06-01\n",
       "1926563109999   2019-06-01\n",
       "1893812709999   2019-06-01\n",
       "1893280869999   2019-06-01\n",
       "1874870449999   2019-06-01\n",
       "1961275139999   2019-05-01\n",
       "1961275389999   2019-05-01\n",
       "1961275599999   2019-05-01\n",
       "1961276949999   2019-05-01\n",
       "1961280759999   2019-06-01\n",
       "1813486339999   2019-06-01\n",
       "1813486349999   2019-06-01\n",
       "1847662069999   2019-06-01\n",
       "1880994659999   2019-06-01\n",
       "1907280779999   2019-06-01\n",
       "1884670859999   2019-06-01\n",
       "1961299789999   2019-06-01\n",
       "1961299829999   2019-06-01\n",
       "1961304269999   2019-05-01\n",
       "1859510629999   2019-06-01\n",
       "1836338509999   2019-06-01\n",
       "1924186179999   2019-06-01\n",
       "1929246539999   2019-05-01\n",
       "Name: FEC_PAGO, Length: 1679123, dtype: datetime64[ns]"
      ]
     },
     "execution_count": 107,
     "metadata": {},
     "output_type": "execute_result"
    }
   ],
   "source": [
    "df_pagos[df_pagos['FEC_PAGO'].notna()].groupby(['NUM_SECU_POL'], sort=False)['FEC_PAGO'].max()"
   ]
  },
  {
   "cell_type": "code",
   "execution_count": 108,
   "metadata": {},
   "outputs": [],
   "source": [
    "unique_pagos = df_pagos[df_pagos['FEC_PAGO'].notna()].groupby(['NUM_SECU_POL'], sort=False)['FEC_PAGO'].max()"
   ]
  },
  {
   "cell_type": "code",
   "execution_count": 121,
   "metadata": {},
   "outputs": [
    {
     "data": {
      "text/plain": [
       "1858"
      ]
     },
     "execution_count": 121,
     "metadata": {},
     "output_type": "execute_result"
    }
   ],
   "source": [
    "len(unique_pagos[unique_pagos < '2019-03-01'].index)"
   ]
  },
  {
   "cell_type": "code",
   "execution_count": 119,
   "metadata": {},
   "outputs": [],
   "source": [
    "to_analyse = unique_pagos[unique_pagos < '2019-03-01'].index"
   ]
  },
  {
   "cell_type": "code",
   "execution_count": 123,
   "metadata": {
    "scrolled": true
   },
   "outputs": [],
   "source": [
    "df_pagos[\"BAJA\"] = df_pagos['NUM_SECU_POL'].isin(to_analyse)"
   ]
  },
  {
   "cell_type": "code",
   "execution_count": 48,
   "metadata": {},
   "outputs": [
    {
     "data": {
      "text/plain": [
       "Index(['ID', 'ORIGEN', 'SEXO', 'CLIENTE', 'FECHA_NACIMIENTO',\n",
       "       'ACT_U_DOMICILIOS', 'ACT_U_TELEFONOS', 'PADRON', 'ESTADO_CIVIL',\n",
       "       'DOMICILIO_NUMERO', 'ACT_F_SEXO', 'DOMICILIO_CODIGO_POSTAL',\n",
       "       'TIPO_PERSONA', 'FECHA_ALTA', 'FECHA_ACTUALIZACION', 'DATECO_TRABAJA',\n",
       "       'ACT_F_TELEFONOS', 'ACT_F_APELLIDO_NOMBRES', 'ACT_F_ESTADO_CIVIL',\n",
       "       'ACT_F_HABILITADO', 'DOMICILIO_OBSERVACIONES', 'DOMICILIO_CALLE',\n",
       "       'DATECO_CUIT_EMPLEADOR', 'DATECO_AUTONOMO',\n",
       "       'DATECO_RAZON_SOCIAL_EMPLEADOR', 'DATECO_ACT_F_AUTONOMO',\n",
       "       'DATECO_ACT_F_TRABAJA', 'DATMAR_CANTIDAD_HIJOS',\n",
       "       'DATMAR_COMPLETO_ESTUDIOS', 'DATMAR_NIVEL_EDUCACION',\n",
       "       'DATMAR_ACT_F_CANTIDAD_HIJOS', 'DATMAR_ACT_F_COMPLETO_ESTUDIOS',\n",
       "       'DATMAR_ACT_F_NIVEL_EDUCACION', 'OPERADOR', 'DATECO_TIPO_ACTIVIDAD',\n",
       "       'ACT_F', 'ACT_U', 'TIPO_DOMICILIO', 'CODIGO_NACION', 'ACT_F_APELLIDO',\n",
       "       'ACT_F_NOMBRES', 'ANO_DE_NACIMIENTO', 'TELEFONO_ID', 'DOMICILIO_ID',\n",
       "       'DOMICILIO_LATITUD', 'DOMICILIO_LONGITUD', 'POSICION_IVA',\n",
       "       'POSICION_IB', 'DATECO_ACT_U_TIPO_ACTIVIDAD',\n",
       "       'DATECO_ACT_F_TIPO_ACTIVIDAD', 'ACT_F_TIPO_DOCUMENTO',\n",
       "       'ACT_F_NUMERO_DOCUMENTO', 'TELEFONO_CEL_ID', 'MAIL_ID',\n",
       "       'CONFIRMADO_FNAC'],\n",
       "      dtype='object')"
      ]
     },
     "execution_count": 48,
     "metadata": {},
     "output_type": "execute_result"
    }
   ],
   "source": [
    "df_prospect.columns"
   ]
  },
  {
   "cell_type": "code",
   "execution_count": null,
   "metadata": {},
   "outputs": [],
   "source": []
  },
  {
   "cell_type": "code",
   "execution_count": null,
   "metadata": {},
   "outputs": [],
   "source": []
  },
  {
   "cell_type": "markdown",
   "metadata": {},
   "source": [
    "## Merge de tablas"
   ]
  },
  {
   "cell_type": "code",
   "execution_count": 124,
   "metadata": {},
   "outputs": [
    {
     "data": {
      "text/plain": [
       "Index(['COD_CIA', 'COD_SECC', 'FECHA_EQUIPO', 'NUM_POL1', 'NUM_SECU_POL',\n",
       "       'NUM_END', 'FECHA_VTO', 'FEC_PAGO', 'MONTO_PAGO', 'COD_COBRO',\n",
       "       'COD_SITUACION', 'MONTH_PAGO', 'YEAR_PAGO', 'BAJA'],\n",
       "      dtype='object')"
      ]
     },
     "execution_count": 124,
     "metadata": {},
     "output_type": "execute_result"
    }
   ],
   "source": [
    "df_pagos.columns"
   ]
  },
  {
   "cell_type": "code",
   "execution_count": 125,
   "metadata": {
    "scrolled": false
   },
   "outputs": [
    {
     "data": {
      "text/plain": [
       "Index(['ID', 'ORIGEN', 'SEXO', 'CLIENTE', 'FECHA_NACIMIENTO',\n",
       "       'ACT_U_DOMICILIOS', 'ACT_U_TELEFONOS', 'PADRON', 'ESTADO_CIVIL',\n",
       "       'DOMICILIO_NUMERO', 'ACT_F_SEXO', 'DOMICILIO_CODIGO_POSTAL',\n",
       "       'TIPO_PERSONA', 'FECHA_ALTA', 'FECHA_ACTUALIZACION', 'DATECO_TRABAJA',\n",
       "       'ACT_F_TELEFONOS', 'ACT_F_APELLIDO_NOMBRES', 'ACT_F_ESTADO_CIVIL',\n",
       "       'ACT_F_HABILITADO', 'DOMICILIO_OBSERVACIONES', 'DOMICILIO_CALLE',\n",
       "       'DATECO_CUIT_EMPLEADOR', 'DATECO_AUTONOMO',\n",
       "       'DATECO_RAZON_SOCIAL_EMPLEADOR', 'DATECO_ACT_F_AUTONOMO',\n",
       "       'DATECO_ACT_F_TRABAJA', 'DATMAR_CANTIDAD_HIJOS',\n",
       "       'DATMAR_COMPLETO_ESTUDIOS', 'DATMAR_NIVEL_EDUCACION',\n",
       "       'DATMAR_ACT_F_CANTIDAD_HIJOS', 'DATMAR_ACT_F_COMPLETO_ESTUDIOS',\n",
       "       'DATMAR_ACT_F_NIVEL_EDUCACION', 'OPERADOR', 'DATECO_TIPO_ACTIVIDAD',\n",
       "       'ACT_F', 'ACT_U', 'TIPO_DOMICILIO', 'CODIGO_NACION', 'ACT_F_APELLIDO',\n",
       "       'ACT_F_NOMBRES', 'ANO_DE_NACIMIENTO', 'TELEFONO_ID', 'DOMICILIO_ID',\n",
       "       'DOMICILIO_LATITUD', 'DOMICILIO_LONGITUD', 'POSICION_IVA',\n",
       "       'POSICION_IB', 'DATECO_ACT_U_TIPO_ACTIVIDAD',\n",
       "       'DATECO_ACT_F_TIPO_ACTIVIDAD', 'ACT_F_TIPO_DOCUMENTO',\n",
       "       'ACT_F_NUMERO_DOCUMENTO', 'TELEFONO_CEL_ID', 'MAIL_ID',\n",
       "       'CONFIRMADO_FNAC'],\n",
       "      dtype='object')"
      ]
     },
     "execution_count": 125,
     "metadata": {},
     "output_type": "execute_result"
    }
   ],
   "source": [
    "df_prospect.columns"
   ]
  },
  {
   "cell_type": "code",
   "execution_count": 126,
   "metadata": {},
   "outputs": [
    {
     "data": {
      "text/plain": [
       "Index(['index', 'ID', 'CIF_ID', 'IN_OUT', 'CANAL_COMUNICACION', 'FECHA',\n",
       "       'OBSERVACIONES', 'GESTION', 'DESCRIPCION', 'AGRUPACION'],\n",
       "      dtype='object')"
      ]
     },
     "execution_count": 126,
     "metadata": {},
     "output_type": "execute_result"
    }
   ],
   "source": [
    "df_interacciones.columns"
   ]
  },
  {
   "cell_type": "code",
   "execution_count": 127,
   "metadata": {},
   "outputs": [
    {
     "data": {
      "text/plain": [
       "Index(['NRO_PRESUP', 'CIF_ID', 'COD_CIA', 'COD_SECC', 'COD_RAMO',\n",
       "       'FECHA_EQUIPO', 'FECHA_SOLIC', 'COD_AGENCIA_PRESU', 'COD_AGENCIA_SOLIC',\n",
       "       'COD_INICIADOR', 'ESTADO', 'COD_MARCA', 'COD_MOD', 'COD_PLAN',\n",
       "       'SUMA_ASEG', 'TIPO_COMBUSTIBLE', 'GRUPO_COMBUSTIBLE', 'ORIGEN',\n",
       "       'FOR_COBRO', 'NEGOCIO', 'COD_PROD', 'COD_POSTAL', 'CANAL_ORIGEN',\n",
       "       'ORIGEN_DESC', 'REGION', 'NOM_ORIGEN_PRESU', 'NUM_SECU_POL', 'EDAD',\n",
       "       'SEXO', 'ESTADO_CIVIL', 'MARCA_MODELO', 'PUERTAS', 'LOCALIDAD',\n",
       "       'PROVINCIA', 'MARCA', 'VERSION', 'NACIONAL_IMPORT', 'TRACCION', 'TIPO',\n",
       "       'MCA_0KM', 'REC_TR_REAL', 'REC_TC_REAL', 'REC_RC_REAL', 'COMPRO_PLAN',\n",
       "       'COMPRO_PACK', 'REC_TC_VIGENTE', 'REC2_1', 'REDU_TIPO'],\n",
       "      dtype='object')"
      ]
     },
     "execution_count": 127,
     "metadata": {},
     "output_type": "execute_result"
    }
   ],
   "source": [
    "df_cotizaciones.columns"
   ]
  },
  {
   "cell_type": "markdown",
   "metadata": {},
   "source": [
    "## Primer modelo"
   ]
  }
 ],
 "metadata": {
  "kernelspec": {
   "display_name": "Python 3",
   "language": "python",
   "name": "python3"
  },
  "language_info": {
   "codemirror_mode": {
    "name": "ipython",
    "version": 3
   },
   "file_extension": ".py",
   "mimetype": "text/x-python",
   "name": "python",
   "nbconvert_exporter": "python",
   "pygments_lexer": "ipython3",
   "version": "3.6.5"
  }
 },
 "nbformat": 4,
 "nbformat_minor": 2
}
