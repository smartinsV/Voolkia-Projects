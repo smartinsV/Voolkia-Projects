{
 "cells": [
  {
   "cell_type": "code",
   "execution_count": 2,
   "metadata": {},
   "outputs": [],
   "source": [
    "import pandas as pd\n",
    "pd.set_option(\"display.max_columns\", 500)\n",
    "pd.set_option(\"display.max_rows\", 500)"
   ]
  },
  {
   "cell_type": "code",
   "execution_count": 3,
   "metadata": {},
   "outputs": [
    {
     "name": "stderr",
     "output_type": "stream",
     "text": [
      "/home/voolkia/anaconda3/envs/test/lib/python3.6/site-packages/pyarrow/pandas_compat.py:752: FutureWarning: .labels was deprecated in version 0.24.0. Use .codes instead.\n",
      "  labels, = index.labels\n"
     ]
    }
   ],
   "source": [
    "df_bajas = pd.read_feather('../../../data/processed/BAJAS_X_CIF_ID.feather')"
   ]
  },
  {
   "cell_type": "code",
   "execution_count": 6,
   "metadata": {},
   "outputs": [
    {
     "data": {
      "text/plain": [
       "<matplotlib.axes._subplots.AxesSubplot at 0x7f9f819d8128>"
      ]
     },
     "execution_count": 6,
     "metadata": {},
     "output_type": "execute_result"
    },
    {
     "data": {
      "image/png": "[encoded data removed]",
      "text/plain": [
       "<Figure size 432x288 with 1 Axes>"
      ]
     },
     "metadata": {},
     "output_type": "display_data"
    }
   ],
   "source": [
    "df_bajas[\"BAJA\"].value_counts().plot.pie(autopct='%1.1f%%')"
   ]
  },
  {
   "cell_type": "markdown",
   "metadata": {},
   "source": [
    "## Check Bajas in PROSPECT "
   ]
  },
  {
   "cell_type": "code",
   "execution_count": 5,
   "metadata": {},
   "outputs": [],
   "source": [
    "df_prospect = pd.read_feather('../../../data/interim/prospect.feather')"
   ]
  },
  {
   "cell_type": "code",
   "execution_count": 45,
   "metadata": {},
   "outputs": [
    {
     "data": {
      "text/plain": [
       "847206"
      ]
     },
     "execution_count": 45,
     "metadata": {},
     "output_type": "execute_result"
    }
   ],
   "source": [
    "len(df_bajas)"
   ]
  },
  {
   "cell_type": "code",
   "execution_count": 44,
   "metadata": {},
   "outputs": [
    {
     "data": {
      "text/plain": [
       "7658"
      ]
     },
     "execution_count": 44,
     "metadata": {},
     "output_type": "execute_result"
    }
   ],
   "source": [
    "len(df_prospect[df_prospect[\"CIF_ID\"].isin(df_bajas[\"CIF_ID\"])])"
   ]
  },
  {
   "cell_type": "code",
   "execution_count": 32,
   "metadata": {},
   "outputs": [
    {
     "data": {
      "text/plain": [
       "7658"
      ]
     },
     "execution_count": 32,
     "metadata": {},
     "output_type": "execute_result"
    }
   ],
   "source": [
    "len(set(df_prospect[\"CIF_ID\"]).intersection(set(df_bajas[\"CIF_ID\"]))) "
   ]
  },
  {
   "cell_type": "code",
   "execution_count": 21,
   "metadata": {},
   "outputs": [],
   "source": [
    "df_prospect.rename(columns={\"ID\": \"CIF_ID\"}, inplace=True)"
   ]
  },
  {
   "cell_type": "code",
   "execution_count": 22,
   "metadata": {
    "scrolled": true
   },
   "outputs": [
    {
     "data": {
      "text/plain": [
       "DATMAR_ACT_F_CANTIDAD_HIJOS       0.931329\n",
       "DATMAR_CANTIDAD_HIJOS             0.930779\n",
       "DOMICILIO_OBSERVACIONES           0.928969\n",
       "ACT_U_TELEFONOS                   0.916839\n",
       "ACT_F_TELEFONOS                   0.916839\n",
       "CONFIRMADO_FNAC                   0.914409\n",
       "DOMICILIO_LONGITUD                0.897139\n",
       "DOMICILIO_LATITUD                 0.897139\n",
       "DOMICILIO_NUMERO                  0.855769\n",
       "DOMICILIO_CALLE                   0.850859\n",
       "DOMICILIO_CODIGO_POSTAL           0.842298\n",
       "DATMAR_NIVEL_EDUCACION            0.830868\n",
       "DATMAR_ACT_F_NIVEL_EDUCACION      0.829318\n",
       "DATECO_AUTONOMO                   0.822098\n",
       "DATECO_ACT_F_AUTONOMO             0.820538\n",
       "DATECO_ACT_U_TIPO_ACTIVIDAD       0.819918\n",
       "DATECO_ACT_F_TIPO_ACTIVIDAD       0.819918\n",
       "DATECO_TIPO_ACTIVIDAD             0.818258\n",
       "TELEFONO_CEL_ID                   0.813468\n",
       "DATMAR_COMPLETO_ESTUDIOS          0.812968\n",
       "DATMAR_ACT_F_COMPLETO_ESTUDIOS    0.811368\n",
       "DATECO_TRABAJA                    0.807838\n",
       "DATECO_ACT_F_TRABAJA              0.806248\n",
       "PADRON                            0.805128\n",
       "CLIENTE                           0.798358\n",
       "MAIL_ID                           0.793368\n",
       "TIPO_DOMICILIO                    0.786778\n",
       "DATECO_CUIT_EMPLEADOR             0.738797\n",
       "DATECO_RAZON_SOCIAL_EMPLEADOR     0.730277\n",
       "ACT_U_DOMICILIOS                  0.701937\n",
       "OPERADOR                          0.682367\n",
       "ACT_F_HABILITADO                  0.653727\n",
       "ACT_F_TIPO_DOCUMENTO              0.621896\n",
       "ACT_F_NUMERO_DOCUMENTO            0.618986\n",
       "POSICION_IB                       0.560816\n",
       "TELEFONO_ID                       0.435954\n",
       "ACT_F_ESTADO_CIVIL                0.377784\n",
       "FECHA_ALTA                        0.376194\n",
       "FECHA_ACTUALIZACION               0.369984\n",
       "ESTADO_CIVIL                      0.369114\n",
       "FECHA_NACIMIENTO                  0.313143\n",
       "ANO_DE_NACIMIENTO                 0.312803\n",
       "DOMICILIO_ID                      0.255623\n",
       "POSICION_IVA                      0.250673\n",
       "CODIGO_NACION                     0.031720\n",
       "ACT_F_SEXO                        0.031390\n",
       "ACT_F_NOMBRES                     0.017190\n",
       "SEXO                              0.016350\n",
       "ACT_F_APELLIDO                    0.009620\n",
       "ACT_F_APELLIDO_NOMBRES            0.001960\n",
       "ORIGEN                            0.000000\n",
       "TIPO_PERSONA                      0.000000\n",
       "ACT_U                             0.000000\n",
       "ACT_F                             0.000000\n",
       "CIF_ID                            0.000000\n",
       "dtype: float64"
      ]
     },
     "execution_count": 22,
     "metadata": {},
     "output_type": "execute_result"
    }
   ],
   "source": [
    "df_prospect.isna().mean().sort_values(ascending=False)"
   ]
  },
  {
   "cell_type": "code",
   "execution_count": 29,
   "metadata": {},
   "outputs": [
    {
     "data": {
      "text/html": [
       "<div>\n",
       "<style scoped>\n",
       "    .dataframe tbody tr th:only-of-type {\n",
       "        vertical-align: middle;\n",
       "    }\n",
       "\n",
       "    .dataframe tbody tr th {\n",
       "        vertical-align: top;\n",
       "    }\n",
       "\n",
       "    .dataframe thead th {\n",
       "        text-align: right;\n",
       "    }\n",
       "</style>\n",
       "<table border=\"1\" class=\"dataframe\">\n",
       "  <thead>\n",
       "    <tr style=\"text-align: right;\">\n",
       "      <th></th>\n",
       "      <th>CIF_ID</th>\n",
       "      <th>BAJA</th>\n",
       "    </tr>\n",
       "  </thead>\n",
       "  <tbody>\n",
       "  </tbody>\n",
       "</table>\n",
       "</div>"
      ],
      "text/plain": [
       "Empty DataFrame\n",
       "Columns: [CIF_ID, BAJA]\n",
       "Index: []"
      ]
     },
     "execution_count": 29,
     "metadata": {},
     "output_type": "execute_result"
    }
   ],
   "source": [
    "df_bajas[df_bajas[\"CIF_ID\"] == 781234]"
   ]
  },
  {
   "cell_type": "code",
   "execution_count": 26,
   "metadata": {},
   "outputs": [],
   "source": [
    "df_merged = pd.merge(df_prospect, df_bajas, how='left', on=\"CIF_ID\")"
   ]
  },
  {
   "cell_type": "code",
   "execution_count": 43,
   "metadata": {},
   "outputs": [
    {
     "data": {
      "text/plain": [
       "7658"
      ]
     },
     "execution_count": 43,
     "metadata": {},
     "output_type": "execute_result"
    }
   ],
   "source": [
    "df_merged[\"BAJA\"].notna().sum()  "
   ]
  },
  {
   "cell_type": "markdown",
   "metadata": {},
   "source": [
    "## Check Bajas in INTERACCIONES"
   ]
  },
  {
   "cell_type": "code",
   "execution_count": 1,
   "metadata": {},
   "outputs": [
    {
     "ename": "NameError",
     "evalue": "name 'pd' is not defined",
     "output_type": "error",
     "traceback": [
      "\u001b[0;31m---------------------------------------------------------------------------\u001b[0m",
      "\u001b[0;31mNameError\u001b[0m                                 Traceback (most recent call last)",
      "\u001b[0;32m<ipython-input-1-dfe62b1282e9>\u001b[0m in \u001b[0;36m<module>\u001b[0;34m\u001b[0m\n\u001b[0;32m----> 1\u001b[0;31m \u001b[0mdf_int\u001b[0m \u001b[0;34m=\u001b[0m \u001b[0mpd\u001b[0m\u001b[0;34m.\u001b[0m\u001b[0mread_csv\u001b[0m\u001b[0;34m(\u001b[0m\u001b[0;34m'../../../data/raw/TB_INTERACCIONES.tsv'\u001b[0m\u001b[0;34m,\u001b[0m\u001b[0msep\u001b[0m\u001b[0;34m=\u001b[0m\u001b[0;34m\"\\t\"\u001b[0m\u001b[0;34m,\u001b[0m\u001b[0mencoding\u001b[0m\u001b[0;34m=\u001b[0m\u001b[0;34m\"latin-1\"\u001b[0m\u001b[0;34m,\u001b[0m\u001b[0musecols\u001b[0m\u001b[0;34m=\u001b[0m\u001b[0;34m[\u001b[0m\u001b[0;34m\"CIF_ID\"\u001b[0m\u001b[0;34m]\u001b[0m\u001b[0;34m)\u001b[0m\u001b[0;34m\u001b[0m\u001b[0;34m\u001b[0m\u001b[0m\n\u001b[0m",
      "\u001b[0;31mNameError\u001b[0m: name 'pd' is not defined"
     ]
    }
   ],
   "source": [
    "df_int = pd.read_csv('../../../data/raw/TB_INTERACCIONES.tsv',sep=\"\\t\",encoding=\"latin-1\",usecols=[\"CIF_ID\"])"
   ]
  },
  {
   "cell_type": "code",
   "execution_count": 5,
   "metadata": {},
   "outputs": [
    {
     "data": {
      "text/plain": [
       "709709.0"
      ]
     },
     "execution_count": 5,
     "metadata": {},
     "output_type": "execute_result"
    }
   ],
   "source": [
    "len(df_bajas) * 0.8377053514729593"
   ]
  },
  {
   "cell_type": "code",
   "execution_count": 12,
   "metadata": {},
   "outputs": [
    {
     "data": {
      "text/plain": [
       "0.8377053514729593"
      ]
     },
     "execution_count": 12,
     "metadata": {},
     "output_type": "execute_result"
    }
   ],
   "source": [
    "len(set(df_bajas[\"CIF_ID\"]).intersection(set(df_int[\"CIF_ID\"].unique()))) / len(df_bajas)"
   ]
  },
  {
   "cell_type": "code",
   "execution_count": 13,
   "metadata": {},
   "outputs": [
    {
     "data": {
      "text/plain": [
       "0.3339156512566493"
      ]
     },
     "execution_count": 13,
     "metadata": {},
     "output_type": "execute_result"
    }
   ],
   "source": [
    "len(set(df_bajas[\"CIF_ID\"]).intersection(set(df_int[\"CIF_ID\"].unique()))) / len(df_int[\"CIF_ID\"].unique())"
   ]
  },
  {
   "cell_type": "code",
   "execution_count": null,
   "metadata": {},
   "outputs": [],
   "source": [
    "df_int = pd.read_feather('../../../data/interim/interacciones.feather')"
   ]
  },
  {
   "cell_type": "markdown",
   "metadata": {},
   "source": [
    "## Check POLIZAS in PAGOS"
   ]
  },
  {
   "cell_type": "code",
   "execution_count": 7,
   "metadata": {},
   "outputs": [
    {
     "name": "stderr",
     "output_type": "stream",
     "text": [
      "/home/voolkia/anaconda3/envs/test/lib/python3.6/site-packages/pyarrow/pandas_compat.py:752: FutureWarning: .labels was deprecated in version 0.24.0. Use .codes instead.\n",
      "  labels, = index.labels\n"
     ]
    }
   ],
   "source": [
    "df_polizas = pd.read_feather('../../../data/interim/polizas.feather')"
   ]
  },
  {
   "cell_type": "code",
   "execution_count": 10,
   "metadata": {},
   "outputs": [],
   "source": [
    "df_pagos = pd.read_feather('../../../data/interim/pagos.feather')"
   ]
  },
  {
   "cell_type": "code",
   "execution_count": 17,
   "metadata": {},
   "outputs": [
    {
     "data": {
      "text/html": [
       "<div>\n",
       "<style scoped>\n",
       "    .dataframe tbody tr th:only-of-type {\n",
       "        vertical-align: middle;\n",
       "    }\n",
       "\n",
       "    .dataframe tbody tr th {\n",
       "        vertical-align: top;\n",
       "    }\n",
       "\n",
       "    .dataframe thead th {\n",
       "        text-align: right;\n",
       "    }\n",
       "</style>\n",
       "<table border=\"1\" class=\"dataframe\">\n",
       "  <thead>\n",
       "    <tr style=\"text-align: right;\">\n",
       "      <th></th>\n",
       "      <th>FECHA_EQUIPO</th>\n",
       "      <th>FECHA_VTO</th>\n",
       "    </tr>\n",
       "  </thead>\n",
       "  <tbody>\n",
       "    <tr>\n",
       "      <th>MIN</th>\n",
       "      <td>2019-03-01</td>\n",
       "      <td>1996-12-01</td>\n",
       "    </tr>\n",
       "    <tr>\n",
       "      <th>MAX</th>\n",
       "      <td>2099-12-19</td>\n",
       "      <td>2020-11-01</td>\n",
       "    </tr>\n",
       "  </tbody>\n",
       "</table>\n",
       "</div>"
      ],
      "text/plain": [
       "    FECHA_EQUIPO  FECHA_VTO\n",
       "MIN   2019-03-01 1996-12-01\n",
       "MAX   2099-12-19 2020-11-01"
      ]
     },
     "execution_count": 17,
     "metadata": {},
     "output_type": "execute_result"
    }
   ],
   "source": [
    "fechas = [col for col in df_pagos.columns if 'FECHA' in col]\n",
    "data = {}\n",
    "for col in fechas:\n",
    "    data[col] = [df_pagos[col].min(),df_pagos[col].max()]\n",
    "pd.DataFrame(data, index =['MIN', 'MAX'])"
   ]
  },
  {
   "cell_type": "code",
   "execution_count": 11,
   "metadata": {},
   "outputs": [
    {
     "data": {
      "text/plain": [
       "4003775"
      ]
     },
     "execution_count": 11,
     "metadata": {},
     "output_type": "execute_result"
    }
   ],
   "source": [
    "len(df_polizas[\"NUM_SECU_POL\"].unique())"
   ]
  },
  {
   "cell_type": "code",
   "execution_count": 12,
   "metadata": {},
   "outputs": [
    {
     "data": {
      "text/plain": [
       "3272921"
      ]
     },
     "execution_count": 12,
     "metadata": {},
     "output_type": "execute_result"
    }
   ],
   "source": [
    "len(df_pagos[\"NUM_SECU_POL\"].unique())"
   ]
  },
  {
   "cell_type": "code",
   "execution_count": 9,
   "metadata": {},
   "outputs": [
    {
     "data": {
      "text/plain": [
       "0.2703373691079044"
      ]
     },
     "execution_count": 9,
     "metadata": {},
     "output_type": "execute_result"
    }
   ],
   "source": [
    "len(set(df_polizas[\"NUM_SECU_POL\"].unique()).intersection(set(df_pagos[\"NUM_SECU_POL\"].unique()))) / len(df_polizas[\"NUM_SECU_POL\"].unique())"
   ]
  }
 ],
 "metadata": {
  "kernelspec": {
   "display_name": "Python 3",
   "language": "python",
   "name": "python3"
  },
  "language_info": {
   "codemirror_mode": {
    "name": "ipython",
    "version": 3
   },
   "file_extension": ".py",
   "mimetype": "text/x-python",
   "name": "python",
   "nbconvert_exporter": "python",
   "pygments_lexer": "ipython3",
   "version": "3.6.7"
  }
 },
 "nbformat": 4,
 "nbformat_minor": 2
}
