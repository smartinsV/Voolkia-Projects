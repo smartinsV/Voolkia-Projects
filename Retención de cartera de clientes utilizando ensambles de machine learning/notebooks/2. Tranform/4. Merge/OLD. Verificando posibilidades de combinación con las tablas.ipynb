{
 "cells": [
  {
   "cell_type": "code",
   "execution_count": 1,
   "metadata": {},
   "outputs": [],
   "source": [
    "import pandas as pd\n",
    "pd.set_option(\"display.max_columns\", 500)\n",
    "pd.set_option(\"display.max_rows\", 500)"
   ]
  },
  {
   "cell_type": "code",
   "execution_count": 2,
   "metadata": {},
   "outputs": [
    {
     "name": "stderr",
     "output_type": "stream",
     "text": [
      "/home/voolkia/anaconda3/envs/test/lib/python3.6/site-packages/pyarrow/pandas_compat.py:752: FutureWarning: .labels was deprecated in version 0.24.0. Use .codes instead.\n",
      "  labels, = index.labels\n"
     ]
    }
   ],
   "source": [
    "df_bajas = pd.read_feather('../../../data/processed/BAJAS_X_CIF_ID.feather')"
   ]
  },
  {
   "cell_type": "code",
   "execution_count": 4,
   "metadata": {},
   "outputs": [
    {
     "data": {
      "text/plain": [
       "<matplotlib.axes._subplots.AxesSubplot at 0x7f45843eb4a8>"
      ]
     },
     "execution_count": 4,
     "metadata": {},
     "output_type": "execute_result"
    },
    {
     "data": {
      "image/png": "[encoded data removed]",
      "text/plain": [
       "<Figure size 432x288 with 1 Axes>"
      ]
     },
     "metadata": {},
     "output_type": "display_data"
    }
   ],
   "source": [
    "df_bajas[\"BAJA\"].value_counts().plot.pie(autopct='%1.1f%%')"
   ]
  },
  {
   "cell_type": "markdown",
   "metadata": {},
   "source": [
    "##  BAJAS con CLIENTES "
   ]
  },
  {
   "cell_type": "code",
   "execution_count": 3,
   "metadata": {},
   "outputs": [],
   "source": [
    "df_clientes = pd.read_feather('../../../data/interim/clientes.feather')"
   ]
  },
  {
   "cell_type": "code",
   "execution_count": 4,
   "metadata": {},
   "outputs": [
    {
     "data": {
      "text/plain": [
       "1001804"
      ]
     },
     "execution_count": 4,
     "metadata": {},
     "output_type": "execute_result"
    }
   ],
   "source": [
    "len(df_bajas)"
   ]
  },
  {
   "cell_type": "code",
   "execution_count": 5,
   "metadata": {},
   "outputs": [
    {
     "data": {
      "text/plain": [
       "11650636"
      ]
     },
     "execution_count": 5,
     "metadata": {},
     "output_type": "execute_result"
    }
   ],
   "source": [
    "len(df_clientes)"
   ]
  },
  {
   "cell_type": "code",
   "execution_count": 6,
   "metadata": {},
   "outputs": [
    {
     "data": {
      "text/html": [
       "<div>\n",
       "<style scoped>\n",
       "    .dataframe tbody tr th:only-of-type {\n",
       "        vertical-align: middle;\n",
       "    }\n",
       "\n",
       "    .dataframe tbody tr th {\n",
       "        vertical-align: top;\n",
       "    }\n",
       "\n",
       "    .dataframe thead th {\n",
       "        text-align: right;\n",
       "    }\n",
       "</style>\n",
       "<table border=\"1\" class=\"dataframe\">\n",
       "  <thead>\n",
       "    <tr style=\"text-align: right;\">\n",
       "      <th></th>\n",
       "      <th>ID</th>\n",
       "      <th>ORIGEN</th>\n",
       "      <th>SEXO</th>\n",
       "      <th>TIPO_PERSONA</th>\n",
       "      <th>CLIENTE</th>\n",
       "      <th>ANO_DE_NACIMIENTO</th>\n",
       "      <th>FECHA_NACIMIENTO</th>\n",
       "      <th>ESTADO_CIVIL</th>\n",
       "      <th>DATECO_TRABAJA</th>\n",
       "      <th>DATECO_AUTONOMO</th>\n",
       "      <th>DATECO_RAZON_SOCIAL_EMPLEADOR</th>\n",
       "      <th>DATMAR_COMPLETO_ESTUDIOS</th>\n",
       "      <th>DATMAR_NIVEL_EDUCACION</th>\n",
       "      <th>POSICION_IVA</th>\n",
       "    </tr>\n",
       "  </thead>\n",
       "  <tbody>\n",
       "    <tr>\n",
       "      <th>0</th>\n",
       "      <td>781234</td>\n",
       "      <td>083</td>\n",
       "      <td>F</td>\n",
       "      <td>F</td>\n",
       "      <td>None</td>\n",
       "      <td>1929.0</td>\n",
       "      <td>05/05/1929</td>\n",
       "      <td>Soltero</td>\n",
       "      <td>None</td>\n",
       "      <td>None</td>\n",
       "      <td>AMES JOSE FERNANDO .</td>\n",
       "      <td>S</td>\n",
       "      <td>SECUNDARIO</td>\n",
       "      <td>5.0</td>\n",
       "    </tr>\n",
       "    <tr>\n",
       "      <th>1</th>\n",
       "      <td>9089921</td>\n",
       "      <td>083</td>\n",
       "      <td>F</td>\n",
       "      <td>F</td>\n",
       "      <td>None</td>\n",
       "      <td>1990.0</td>\n",
       "      <td>20/11/1990</td>\n",
       "      <td>Soltero</td>\n",
       "      <td>None</td>\n",
       "      <td>None</td>\n",
       "      <td>None</td>\n",
       "      <td>None</td>\n",
       "      <td>None</td>\n",
       "      <td>5.0</td>\n",
       "    </tr>\n",
       "    <tr>\n",
       "      <th>2</th>\n",
       "      <td>781235</td>\n",
       "      <td>083</td>\n",
       "      <td>M</td>\n",
       "      <td>F</td>\n",
       "      <td>None</td>\n",
       "      <td>1953.0</td>\n",
       "      <td>13/03/1953</td>\n",
       "      <td>Casado</td>\n",
       "      <td>None</td>\n",
       "      <td>None</td>\n",
       "      <td>None</td>\n",
       "      <td>None</td>\n",
       "      <td>None</td>\n",
       "      <td>5.0</td>\n",
       "    </tr>\n",
       "    <tr>\n",
       "      <th>3</th>\n",
       "      <td>9089922</td>\n",
       "      <td>083</td>\n",
       "      <td>M</td>\n",
       "      <td>F</td>\n",
       "      <td>None</td>\n",
       "      <td>1957.0</td>\n",
       "      <td>06/05/1957</td>\n",
       "      <td>Casado</td>\n",
       "      <td>None</td>\n",
       "      <td>None</td>\n",
       "      <td>None</td>\n",
       "      <td>None</td>\n",
       "      <td>None</td>\n",
       "      <td>5.0</td>\n",
       "    </tr>\n",
       "    <tr>\n",
       "      <th>4</th>\n",
       "      <td>9089923</td>\n",
       "      <td>083</td>\n",
       "      <td>M</td>\n",
       "      <td>F</td>\n",
       "      <td>None</td>\n",
       "      <td>1984.0</td>\n",
       "      <td>09/06/1984</td>\n",
       "      <td>Soltero</td>\n",
       "      <td>None</td>\n",
       "      <td>None</td>\n",
       "      <td>None</td>\n",
       "      <td>None</td>\n",
       "      <td>None</td>\n",
       "      <td>5.0</td>\n",
       "    </tr>\n",
       "  </tbody>\n",
       "</table>\n",
       "</div>"
      ],
      "text/plain": [
       "        ID ORIGEN SEXO TIPO_PERSONA CLIENTE  ANO_DE_NACIMIENTO  \\\n",
       "0   781234    083    F            F    None             1929.0   \n",
       "1  9089921    083    F            F    None             1990.0   \n",
       "2   781235    083    M            F    None             1953.0   \n",
       "3  9089922    083    M            F    None             1957.0   \n",
       "4  9089923    083    M            F    None             1984.0   \n",
       "\n",
       "  FECHA_NACIMIENTO ESTADO_CIVIL DATECO_TRABAJA DATECO_AUTONOMO  \\\n",
       "0       05/05/1929      Soltero           None            None   \n",
       "1       20/11/1990      Soltero           None            None   \n",
       "2       13/03/1953       Casado           None            None   \n",
       "3       06/05/1957       Casado           None            None   \n",
       "4       09/06/1984      Soltero           None            None   \n",
       "\n",
       "  DATECO_RAZON_SOCIAL_EMPLEADOR DATMAR_COMPLETO_ESTUDIOS  \\\n",
       "0          AMES JOSE FERNANDO .                        S   \n",
       "1                          None                     None   \n",
       "2                          None                     None   \n",
       "3                          None                     None   \n",
       "4                          None                     None   \n",
       "\n",
       "  DATMAR_NIVEL_EDUCACION  POSICION_IVA  \n",
       "0             SECUNDARIO           5.0  \n",
       "1                   None           5.0  \n",
       "2                   None           5.0  \n",
       "3                   None           5.0  \n",
       "4                   None           5.0  "
      ]
     },
     "execution_count": 6,
     "metadata": {},
     "output_type": "execute_result"
    }
   ],
   "source": [
    "df_clientes.head()"
   ]
  },
  {
   "cell_type": "code",
   "execution_count": 7,
   "metadata": {},
   "outputs": [],
   "source": [
    "df_clientes.rename(columns={\"ID\": \"CIF_ID\"}, inplace=True)"
   ]
  },
  {
   "cell_type": "code",
   "execution_count": 10,
   "metadata": {},
   "outputs": [
    {
     "data": {
      "text/plain": [
       "989922"
      ]
     },
     "execution_count": 10,
     "metadata": {},
     "output_type": "execute_result"
    }
   ],
   "source": [
    "len(set(df_clientes[\"CIF_ID\"].unique()).intersection(set(df_bajas[\"CIF_ID\"]))) "
   ]
  },
  {
   "cell_type": "code",
   "execution_count": 12,
   "metadata": {},
   "outputs": [
    {
     "data": {
      "text/plain": [
       "98.81393965286624"
      ]
     },
     "execution_count": 12,
     "metadata": {},
     "output_type": "execute_result"
    }
   ],
   "source": [
    "len(set(df_clientes[\"CIF_ID\"].unique()).intersection(set(df_bajas[\"CIF_ID\"]))) / len(df_bajas) * 100"
   ]
  },
  {
   "cell_type": "code",
   "execution_count": 14,
   "metadata": {},
   "outputs": [
    {
     "data": {
      "text/plain": [
       "N      703526\n",
       "NaN    246208\n",
       "S       40188\n",
       "Name: CLIENTE, dtype: int64"
      ]
     },
     "execution_count": 14,
     "metadata": {},
     "output_type": "execute_result"
    }
   ],
   "source": [
    "df_clientes[df_clientes[\"CIF_ID\"].isin(df_bajas[\"CIF_ID\"])][\"CLIENTE\"].value_counts(dropna=False)"
   ]
  }
 ],
 "metadata": {
  "kernelspec": {
   "display_name": "Python 3",
   "language": "python",
   "name": "python3"
  },
  "language_info": {
   "codemirror_mode": {
    "name": "ipython",
    "version": 3
   },
   "file_extension": ".py",
   "mimetype": "text/x-python",
   "name": "python",
   "nbconvert_exporter": "python",
   "pygments_lexer": "ipython3",
   "version": "3.6.7"
  }
 },
 "nbformat": 4,
 "nbformat_minor": 2
}
